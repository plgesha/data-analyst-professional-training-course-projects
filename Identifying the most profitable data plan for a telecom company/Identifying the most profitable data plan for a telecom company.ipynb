{
 "cells": [
  {
   "cell_type": "markdown",
   "metadata": {},
   "source": [
    "# Определение перспективного тарифа для телеком компании"
   ]
  },
  {
   "cell_type": "markdown",
   "metadata": {
    "toc": true
   },
   "source": [
    "<h1>Содержание<span class=\"tocSkip\"></span></h1>\n",
    "<div class=\"toc\"><ul class=\"toc-item\"><li><span><a href=\"#Изучение-данных\" data-toc-modified-id=\"Изучение-данных-1\"><span class=\"toc-item-num\">1&nbsp;&nbsp;</span>Изучение данных</a></span><ul class=\"toc-item\"><li><span><a href=\"#Таблица-users\" data-toc-modified-id=\"Таблица-users-1.1\"><span class=\"toc-item-num\">1.1&nbsp;&nbsp;</span>Таблица <code>users</code></a></span></li><li><span><a href=\"#Таблица-calls\" data-toc-modified-id=\"Таблица-calls-1.2\"><span class=\"toc-item-num\">1.2&nbsp;&nbsp;</span>Таблица <code>calls</code></a></span></li><li><span><a href=\"#Таблица-internet\" data-toc-modified-id=\"Таблица-internet-1.3\"><span class=\"toc-item-num\">1.3&nbsp;&nbsp;</span>Таблица <code>internet</code></a></span></li><li><span><a href=\"#Таблица-messages\" data-toc-modified-id=\"Таблица-messages-1.4\"><span class=\"toc-item-num\">1.4&nbsp;&nbsp;</span>Таблица <code>messages</code></a></span></li><li><span><a href=\"#Таблица-tariffs\" data-toc-modified-id=\"Таблица-tariffs-1.5\"><span class=\"toc-item-num\">1.5&nbsp;&nbsp;</span>Таблица <code>tariffs</code></a></span></li><li><span><a href=\"#Вывод\" data-toc-modified-id=\"Вывод-1.6\"><span class=\"toc-item-num\">1.6&nbsp;&nbsp;</span>Вывод</a></span></li></ul></li><li><span><a href=\"#Предобработка-данных\" data-toc-modified-id=\"Предобработка-данных-2\"><span class=\"toc-item-num\">2&nbsp;&nbsp;</span>Предобработка данных</a></span><ul class=\"toc-item\"><li><span><a href=\"#Изменение-типов-данных\" data-toc-modified-id=\"Изменение-типов-данных-2.1\"><span class=\"toc-item-num\">2.1&nbsp;&nbsp;</span>Изменение типов данных</a></span></li><li><span><a href=\"#Округление-минут-и-мегабайт-в-таблицах-calls-и-internet\" data-toc-modified-id=\"Округление-минут-и-мегабайт-в-таблицах-calls-и-internet-2.2\"><span class=\"toc-item-num\">2.2&nbsp;&nbsp;</span>Округление минут и мегабайт в таблицах <code>calls</code> и <code>internet</code></a></span></li><li><span><a href=\"#Удаление-столбца-Unnamed:-0-из-таблицы-internet\" data-toc-modified-id=\"Удаление-столбца-Unnamed:-0-из-таблицы-internet-2.3\"><span class=\"toc-item-num\">2.3&nbsp;&nbsp;</span>Удаление столбца <code>Unnamed: 0</code> из таблицы <code>internet</code></a></span></li><li><span><a href=\"#Обработка-нулевых-значений-минут-и-мегабайт-в-таблицах-calls-и-internet\" data-toc-modified-id=\"Обработка-нулевых-значений-минут-и-мегабайт-в-таблицах-calls-и-internet-2.4\"><span class=\"toc-item-num\">2.4&nbsp;&nbsp;</span>Обработка нулевых значений минут и мегабайт в таблицах <code>calls</code> и <code>internet</code></a></span></li><li><span><a href=\"#Проверка-на-наличие-неявных-дубликатов-в-таблице-users\" data-toc-modified-id=\"Проверка-на-наличие-неявных-дубликатов-в-таблице-users-2.5\"><span class=\"toc-item-num\">2.5&nbsp;&nbsp;</span>Проверка на наличие неявных дубликатов в таблице <code>users</code></a></span></li><li><span><a href=\"#Подсчет-звонков,-сообщений-и-трафика-по-месяцам-для-каждого-пользователя\" data-toc-modified-id=\"Подсчет-звонков,-сообщений-и-трафика-по-месяцам-для-каждого-пользователя-2.6\"><span class=\"toc-item-num\">2.6&nbsp;&nbsp;</span>Подсчет звонков, сообщений и трафика по месяцам для каждого пользователя</a></span><ul class=\"toc-item\"><li><span><a href=\"#Количество-сделанных-звонков-и-израсходованных-минут-разговора-по-месяцам\" data-toc-modified-id=\"Количество-сделанных-звонков-и-израсходованных-минут-разговора-по-месяцам-2.6.1\"><span class=\"toc-item-num\">2.6.1&nbsp;&nbsp;</span>Количество сделанных звонков и израсходованных минут разговора по месяцам</a></span></li><li><span><a href=\"#Количество-отправленных-сообщений-по-месяцам\" data-toc-modified-id=\"Количество-отправленных-сообщений-по-месяцам-2.6.2\"><span class=\"toc-item-num\">2.6.2&nbsp;&nbsp;</span>Количество отправленных сообщений по месяцам</a></span></li><li><span><a href=\"#Объем-израсходованного-интернет-трафика-по-месяцам\" data-toc-modified-id=\"Объем-израсходованного-интернет-трафика-по-месяцам-2.6.3\"><span class=\"toc-item-num\">2.6.3&nbsp;&nbsp;</span>Объем израсходованного интернет-трафика по месяцам</a></span></li></ul></li><li><span><a href=\"#Подсчет-помесячной-выручки-с-каждого-пользователя\" data-toc-modified-id=\"Подсчет-помесячной-выручки-с-каждого-пользователя-2.7\"><span class=\"toc-item-num\">2.7&nbsp;&nbsp;</span>Подсчет помесячной выручки с каждого пользователя</a></span></li><li><span><a href=\"#Вывод\" data-toc-modified-id=\"Вывод-2.8\"><span class=\"toc-item-num\">2.8&nbsp;&nbsp;</span>Вывод</a></span></li></ul></li><li><span><a href=\"#Анализ-данных\" data-toc-modified-id=\"Анализ-данных-3\"><span class=\"toc-item-num\">3&nbsp;&nbsp;</span>Анализ данных</a></span><ul class=\"toc-item\"><li><span><a href=\"#Потребности-пользователей-каждого-тарифа-в-месяц\" data-toc-modified-id=\"Потребности-пользователей-каждого-тарифа-в-месяц-3.1\"><span class=\"toc-item-num\">3.1&nbsp;&nbsp;</span>Потребности пользователей каждого тарифа в месяц</a></span></li><li><span><a href=\"#Диаграммы-размаха,-гистограммы,-описание-распределений\" data-toc-modified-id=\"Диаграммы-размаха,-гистограммы,-описание-распределений-3.2\"><span class=\"toc-item-num\">3.2&nbsp;&nbsp;</span>Диаграммы размаха, гистограммы, описание распределений</a></span></li><li><span><a href=\"#Вывод\" data-toc-modified-id=\"Вывод-3.3\"><span class=\"toc-item-num\">3.3&nbsp;&nbsp;</span>Вывод</a></span></li></ul></li><li><span><a href=\"#Проверка-гипотез\" data-toc-modified-id=\"Проверка-гипотез-4\"><span class=\"toc-item-num\">4&nbsp;&nbsp;</span>Проверка гипотез</a></span><ul class=\"toc-item\"><li><span><a href=\"#Гипотеза-1:-средняя-выручка-пользователей-тарифов-«Ультра»-и-«Смарт»-различается\" data-toc-modified-id=\"Гипотеза-1:-средняя-выручка-пользователей-тарифов-«Ультра»-и-«Смарт»-различается-4.1\"><span class=\"toc-item-num\">4.1&nbsp;&nbsp;</span>Гипотеза 1: средняя выручка пользователей тарифов «Ультра» и «Смарт» различается</a></span></li><li><span><a href=\"#Гипотеза-2:-средняя-выручка-пользователей-из-Москвы-отличается-от-выручки-пользователей-из-других-регионов\" data-toc-modified-id=\"Гипотеза-2:-средняя-выручка-пользователей-из-Москвы-отличается-от-выручки-пользователей-из-других-регионов-4.2\"><span class=\"toc-item-num\">4.2&nbsp;&nbsp;</span>Гипотеза 2: средняя выручка пользователей из Москвы отличается от выручки пользователей из других регионов</a></span></li></ul></li><li><span><a href=\"#Общий-вывод\" data-toc-modified-id=\"Общий-вывод-5\"><span class=\"toc-item-num\">5&nbsp;&nbsp;</span>Общий вывод</a></span></li></ul></div>"
   ]
  },
  {
   "cell_type": "markdown",
   "metadata": {},
   "source": [
    "<h2>Описание тарифов<span class=\"tocSkip\"></span></h2>"
   ]
  },
  {
   "cell_type": "markdown",
   "metadata": {},
   "source": [
    "**Тариф «Смарт»**  \n",
    "Ежемесячная плата: 550 рублей  \n",
    "Включено 500 минут разговора, 50 сообщений и 15 Гб интернет-трафика  \n",
    "Стоимость услуг сверх тарифного пакета:  \n",
    "- минута разговора: 3 рубля  \n",
    "- сообщение: 3 рубля  \n",
    "- 1 Гб интернет-трафика: 200 рублей  \n",
    "\n",
    "**Тариф «Ультра»**  \n",
    "Ежемесячная плата: 1950 рублей  \n",
    "Включено 3000 минут разговора, 1000 сообщений и 30 Гб интернет-трафика  \n",
    "Стоимость услуг сверх тарифного пакета:  \n",
    "- минута разговора: 1 рубль\n",
    "- сообщение: 1 рубль\n",
    "- 1 Гб интернет-трафика: 150 рублей\n",
    "\n",
    "**Обратите внимание:** «Мегалайн» всегда округляет вверх значения минут и мегабайтов. Если пользователь проговорил всего 1 секунду, в тарифе засчитывается целая минута."
   ]
  },
  {
   "cell_type": "markdown",
   "metadata": {},
   "source": [
    "<h2>Описание данных<span class=\"tocSkip\"></span></h2>"
   ]
  },
  {
   "cell_type": "markdown",
   "metadata": {},
   "source": [
    "Таблица `users` (информация о пользователях):  \n",
    "*user_id* — уникальный идентификатор пользователя  \n",
    "*first_name* — имя пользователя  \n",
    "*last_name* — фамилия пользователя  \n",
    "*age* — возраст пользователя (годы)  \n",
    "*reg_date* — дата подключения тарифа (день, месяц, год)  \n",
    "*churn_date* — дата прекращения пользования тарифом (если значение пропущено, то тариф ещё действовал на момент выгрузки данных)  \n",
    "*city* — город проживания пользователя  \n",
    "*tariff* — название тарифного плана  \n",
    "\n",
    "Таблица `calls` (информация о звонках):  \n",
    "*id* — уникальный номер звонка  \n",
    "*call_date* — дата звонка  \n",
    "*duration* — длительность звонка в минутах  \n",
    "*user_id** — идентификатор пользователя, сделавшего звонок  \n",
    "\n",
    "Таблица `messages` (информация о сообщениях):  \n",
    "*id* — уникальный номер сообщения  \n",
    "*message_date** — дата сообщения  \n",
    "*user_id* — идентификатор пользователя, отправившего сообщение  \n",
    "\n",
    "Таблица `internet` (информация об интернет-сессиях):  \n",
    "*id* — уникальный номер сессии  \n",
    "*mb_used* — объём потраченного за сессию интернет-трафика (в мегабайтах)  \n",
    "*session_date* — дата интернет-сессии  \n",
    "*user_id* — идентификатор пользователя  \n",
    "\n",
    "Таблица `tariffs` (информация о тарифах):  \n",
    "*tariff_name* — название тарифа  \n",
    "*rub_monthly_fee* — ежемесячная абонентская плата в рублях  \n",
    "*minutes_included* — количество минут разговора в месяц, включённых в абонентскую плату  \n",
    "*messages_included* — количество сообщений в месяц, включённых в абонентскую плату  \n",
    "*mb_per_month_included* — объём интернет-трафика, включённого в абонентскую плату (в мегабайтах)  \n",
    "*rub_per_minute* — стоимость минуты разговора сверх тарифного пакета (например, если в тарифе 100 минут разговора в месяц, то со 101 минуты будет взиматься плата)  \n",
    "*rub_per_message* — стоимость отправки сообщения сверх тарифного пакета   \n",
    "*rub_per_gb* — стоимость дополнительного гигабайта интернет-трафика сверх тарифного пакета (1 гигабайт = 1024 мегабайта)  "
   ]
  },
  {
   "cell_type": "markdown",
   "metadata": {},
   "source": [
    "## Изучение данных"
   ]
  },
  {
   "cell_type": "code",
   "execution_count": 1,
   "metadata": {},
   "outputs": [],
   "source": [
    "import pandas as pd\n",
    "import matplotlib.pyplot as plt\n",
    "import numpy as np\n",
    "from scipy import stats as st\n",
    "import seaborn as sns"
   ]
  },
  {
   "cell_type": "code",
   "execution_count": 2,
   "metadata": {},
   "outputs": [],
   "source": [
    "users = pd.read_csv('/datasets/users.csv')\n",
    "calls = pd.read_csv('/datasets/calls.csv')\n",
    "internet = pd.read_csv('/datasets/internet.csv')\n",
    "messages = pd.read_csv('/datasets/messages.csv')\n",
    "tariffs = pd.read_csv('/datasets/tariffs.csv')"
   ]
  },
  {
   "cell_type": "markdown",
   "metadata": {},
   "source": [
    "### Таблица `users`"
   ]
  },
  {
   "cell_type": "code",
   "execution_count": 3,
   "metadata": {},
   "outputs": [
    {
     "data": {
      "text/html": [
       "<div>\n",
       "<style scoped>\n",
       "    .dataframe tbody tr th:only-of-type {\n",
       "        vertical-align: middle;\n",
       "    }\n",
       "\n",
       "    .dataframe tbody tr th {\n",
       "        vertical-align: top;\n",
       "    }\n",
       "\n",
       "    .dataframe thead th {\n",
       "        text-align: right;\n",
       "    }\n",
       "</style>\n",
       "<table border=\"1\" class=\"dataframe\">\n",
       "  <thead>\n",
       "    <tr style=\"text-align: right;\">\n",
       "      <th></th>\n",
       "      <th>user_id</th>\n",
       "      <th>age</th>\n",
       "      <th>churn_date</th>\n",
       "      <th>city</th>\n",
       "      <th>first_name</th>\n",
       "      <th>last_name</th>\n",
       "      <th>reg_date</th>\n",
       "      <th>tariff</th>\n",
       "    </tr>\n",
       "  </thead>\n",
       "  <tbody>\n",
       "    <tr>\n",
       "      <td>0</td>\n",
       "      <td>1000</td>\n",
       "      <td>52</td>\n",
       "      <td>NaN</td>\n",
       "      <td>Краснодар</td>\n",
       "      <td>Рафаил</td>\n",
       "      <td>Верещагин</td>\n",
       "      <td>2018-05-25</td>\n",
       "      <td>ultra</td>\n",
       "    </tr>\n",
       "    <tr>\n",
       "      <td>1</td>\n",
       "      <td>1001</td>\n",
       "      <td>41</td>\n",
       "      <td>NaN</td>\n",
       "      <td>Москва</td>\n",
       "      <td>Иван</td>\n",
       "      <td>Ежов</td>\n",
       "      <td>2018-11-01</td>\n",
       "      <td>smart</td>\n",
       "    </tr>\n",
       "    <tr>\n",
       "      <td>2</td>\n",
       "      <td>1002</td>\n",
       "      <td>59</td>\n",
       "      <td>NaN</td>\n",
       "      <td>Стерлитамак</td>\n",
       "      <td>Евгений</td>\n",
       "      <td>Абрамович</td>\n",
       "      <td>2018-06-17</td>\n",
       "      <td>smart</td>\n",
       "    </tr>\n",
       "    <tr>\n",
       "      <td>3</td>\n",
       "      <td>1003</td>\n",
       "      <td>23</td>\n",
       "      <td>NaN</td>\n",
       "      <td>Москва</td>\n",
       "      <td>Белла</td>\n",
       "      <td>Белякова</td>\n",
       "      <td>2018-08-17</td>\n",
       "      <td>ultra</td>\n",
       "    </tr>\n",
       "    <tr>\n",
       "      <td>4</td>\n",
       "      <td>1004</td>\n",
       "      <td>68</td>\n",
       "      <td>NaN</td>\n",
       "      <td>Новокузнецк</td>\n",
       "      <td>Татьяна</td>\n",
       "      <td>Авдеенко</td>\n",
       "      <td>2018-05-14</td>\n",
       "      <td>ultra</td>\n",
       "    </tr>\n",
       "  </tbody>\n",
       "</table>\n",
       "</div>"
      ],
      "text/plain": [
       "   user_id  age churn_date         city first_name  last_name    reg_date  \\\n",
       "0     1000   52        NaN    Краснодар     Рафаил  Верещагин  2018-05-25   \n",
       "1     1001   41        NaN       Москва       Иван       Ежов  2018-11-01   \n",
       "2     1002   59        NaN  Стерлитамак    Евгений  Абрамович  2018-06-17   \n",
       "3     1003   23        NaN       Москва      Белла   Белякова  2018-08-17   \n",
       "4     1004   68        NaN  Новокузнецк    Татьяна   Авдеенко  2018-05-14   \n",
       "\n",
       "  tariff  \n",
       "0  ultra  \n",
       "1  smart  \n",
       "2  smart  \n",
       "3  ultra  \n",
       "4  ultra  "
      ]
     },
     "execution_count": 3,
     "metadata": {},
     "output_type": "execute_result"
    }
   ],
   "source": [
    "users.head()"
   ]
  },
  {
   "cell_type": "code",
   "execution_count": 4,
   "metadata": {},
   "outputs": [
    {
     "name": "stdout",
     "output_type": "stream",
     "text": [
      "<class 'pandas.core.frame.DataFrame'>\n",
      "RangeIndex: 500 entries, 0 to 499\n",
      "Data columns (total 8 columns):\n",
      "user_id       500 non-null int64\n",
      "age           500 non-null int64\n",
      "churn_date    38 non-null object\n",
      "city          500 non-null object\n",
      "first_name    500 non-null object\n",
      "last_name     500 non-null object\n",
      "reg_date      500 non-null object\n",
      "tariff        500 non-null object\n",
      "dtypes: int64(2), object(6)\n",
      "memory usage: 31.4+ KB\n"
     ]
    }
   ],
   "source": [
    "users.info()"
   ]
  },
  {
   "cell_type": "code",
   "execution_count": 5,
   "metadata": {},
   "outputs": [
    {
     "data": {
      "text/plain": [
       "user_id         0\n",
       "age             0\n",
       "churn_date    462\n",
       "city            0\n",
       "first_name      0\n",
       "last_name       0\n",
       "reg_date        0\n",
       "tariff          0\n",
       "dtype: int64"
      ]
     },
     "execution_count": 5,
     "metadata": {},
     "output_type": "execute_result"
    }
   ],
   "source": [
    "users.isnull().sum()"
   ]
  },
  {
   "cell_type": "code",
   "execution_count": 6,
   "metadata": {},
   "outputs": [
    {
     "data": {
      "text/html": [
       "<div>\n",
       "<style scoped>\n",
       "    .dataframe tbody tr th:only-of-type {\n",
       "        vertical-align: middle;\n",
       "    }\n",
       "\n",
       "    .dataframe tbody tr th {\n",
       "        vertical-align: top;\n",
       "    }\n",
       "\n",
       "    .dataframe thead th {\n",
       "        text-align: right;\n",
       "    }\n",
       "</style>\n",
       "<table border=\"1\" class=\"dataframe\">\n",
       "  <thead>\n",
       "    <tr style=\"text-align: right;\">\n",
       "      <th></th>\n",
       "      <th>user_id</th>\n",
       "      <th>age</th>\n",
       "    </tr>\n",
       "  </thead>\n",
       "  <tbody>\n",
       "    <tr>\n",
       "      <td>count</td>\n",
       "      <td>500.000000</td>\n",
       "      <td>500.00000</td>\n",
       "    </tr>\n",
       "    <tr>\n",
       "      <td>mean</td>\n",
       "      <td>1249.500000</td>\n",
       "      <td>46.58800</td>\n",
       "    </tr>\n",
       "    <tr>\n",
       "      <td>std</td>\n",
       "      <td>144.481833</td>\n",
       "      <td>16.66763</td>\n",
       "    </tr>\n",
       "    <tr>\n",
       "      <td>min</td>\n",
       "      <td>1000.000000</td>\n",
       "      <td>18.00000</td>\n",
       "    </tr>\n",
       "    <tr>\n",
       "      <td>25%</td>\n",
       "      <td>1124.750000</td>\n",
       "      <td>32.00000</td>\n",
       "    </tr>\n",
       "    <tr>\n",
       "      <td>50%</td>\n",
       "      <td>1249.500000</td>\n",
       "      <td>46.00000</td>\n",
       "    </tr>\n",
       "    <tr>\n",
       "      <td>75%</td>\n",
       "      <td>1374.250000</td>\n",
       "      <td>62.00000</td>\n",
       "    </tr>\n",
       "    <tr>\n",
       "      <td>max</td>\n",
       "      <td>1499.000000</td>\n",
       "      <td>75.00000</td>\n",
       "    </tr>\n",
       "  </tbody>\n",
       "</table>\n",
       "</div>"
      ],
      "text/plain": [
       "           user_id        age\n",
       "count   500.000000  500.00000\n",
       "mean   1249.500000   46.58800\n",
       "std     144.481833   16.66763\n",
       "min    1000.000000   18.00000\n",
       "25%    1124.750000   32.00000\n",
       "50%    1249.500000   46.00000\n",
       "75%    1374.250000   62.00000\n",
       "max    1499.000000   75.00000"
      ]
     },
     "execution_count": 6,
     "metadata": {},
     "output_type": "execute_result"
    }
   ],
   "source": [
    "users.describe()"
   ]
  },
  {
   "cell_type": "code",
   "execution_count": 7,
   "metadata": {},
   "outputs": [
    {
     "data": {
      "text/plain": [
       "0"
      ]
     },
     "execution_count": 7,
     "metadata": {},
     "output_type": "execute_result"
    }
   ],
   "source": [
    "users.duplicated().sum()"
   ]
  },
  {
   "cell_type": "markdown",
   "metadata": {},
   "source": [
    "**Вывод:** В таблице `users` 8 столбцов и 500 строк. Типы данных в порядке, за исключением столбцов `churn_date` и `reg_date`, изменим их тип данных на этапе обработки. Пропуски встречаются только в столбце `churn_date`, но как было оговорено выше, это означает что тариф ещё действовал на момент выгрузки данных. Аномалий в числовых столбцах нет. Полных дубликатов нет."
   ]
  },
  {
   "cell_type": "markdown",
   "metadata": {},
   "source": [
    "### Таблица `calls`"
   ]
  },
  {
   "cell_type": "code",
   "execution_count": 8,
   "metadata": {},
   "outputs": [
    {
     "data": {
      "text/html": [
       "<div>\n",
       "<style scoped>\n",
       "    .dataframe tbody tr th:only-of-type {\n",
       "        vertical-align: middle;\n",
       "    }\n",
       "\n",
       "    .dataframe tbody tr th {\n",
       "        vertical-align: top;\n",
       "    }\n",
       "\n",
       "    .dataframe thead th {\n",
       "        text-align: right;\n",
       "    }\n",
       "</style>\n",
       "<table border=\"1\" class=\"dataframe\">\n",
       "  <thead>\n",
       "    <tr style=\"text-align: right;\">\n",
       "      <th></th>\n",
       "      <th>id</th>\n",
       "      <th>call_date</th>\n",
       "      <th>duration</th>\n",
       "      <th>user_id</th>\n",
       "    </tr>\n",
       "  </thead>\n",
       "  <tbody>\n",
       "    <tr>\n",
       "      <td>0</td>\n",
       "      <td>1000_0</td>\n",
       "      <td>2018-07-25</td>\n",
       "      <td>0.00</td>\n",
       "      <td>1000</td>\n",
       "    </tr>\n",
       "    <tr>\n",
       "      <td>1</td>\n",
       "      <td>1000_1</td>\n",
       "      <td>2018-08-17</td>\n",
       "      <td>0.00</td>\n",
       "      <td>1000</td>\n",
       "    </tr>\n",
       "    <tr>\n",
       "      <td>2</td>\n",
       "      <td>1000_2</td>\n",
       "      <td>2018-06-11</td>\n",
       "      <td>2.85</td>\n",
       "      <td>1000</td>\n",
       "    </tr>\n",
       "    <tr>\n",
       "      <td>3</td>\n",
       "      <td>1000_3</td>\n",
       "      <td>2018-09-21</td>\n",
       "      <td>13.80</td>\n",
       "      <td>1000</td>\n",
       "    </tr>\n",
       "    <tr>\n",
       "      <td>4</td>\n",
       "      <td>1000_4</td>\n",
       "      <td>2018-12-15</td>\n",
       "      <td>5.18</td>\n",
       "      <td>1000</td>\n",
       "    </tr>\n",
       "  </tbody>\n",
       "</table>\n",
       "</div>"
      ],
      "text/plain": [
       "       id   call_date  duration  user_id\n",
       "0  1000_0  2018-07-25      0.00     1000\n",
       "1  1000_1  2018-08-17      0.00     1000\n",
       "2  1000_2  2018-06-11      2.85     1000\n",
       "3  1000_3  2018-09-21     13.80     1000\n",
       "4  1000_4  2018-12-15      5.18     1000"
      ]
     },
     "execution_count": 8,
     "metadata": {},
     "output_type": "execute_result"
    }
   ],
   "source": [
    "calls.head()"
   ]
  },
  {
   "cell_type": "code",
   "execution_count": 9,
   "metadata": {},
   "outputs": [
    {
     "name": "stdout",
     "output_type": "stream",
     "text": [
      "<class 'pandas.core.frame.DataFrame'>\n",
      "RangeIndex: 202607 entries, 0 to 202606\n",
      "Data columns (total 4 columns):\n",
      "id           202607 non-null object\n",
      "call_date    202607 non-null object\n",
      "duration     202607 non-null float64\n",
      "user_id      202607 non-null int64\n",
      "dtypes: float64(1), int64(1), object(2)\n",
      "memory usage: 6.2+ MB\n"
     ]
    }
   ],
   "source": [
    "calls.info()"
   ]
  },
  {
   "cell_type": "code",
   "execution_count": 10,
   "metadata": {},
   "outputs": [
    {
     "data": {
      "text/plain": [
       "id           0\n",
       "call_date    0\n",
       "duration     0\n",
       "user_id      0\n",
       "dtype: int64"
      ]
     },
     "execution_count": 10,
     "metadata": {},
     "output_type": "execute_result"
    }
   ],
   "source": [
    "calls.isnull().sum()"
   ]
  },
  {
   "cell_type": "code",
   "execution_count": 11,
   "metadata": {},
   "outputs": [
    {
     "data": {
      "text/plain": [
       "0"
      ]
     },
     "execution_count": 11,
     "metadata": {},
     "output_type": "execute_result"
    }
   ],
   "source": [
    "calls.duplicated().sum()"
   ]
  },
  {
   "cell_type": "code",
   "execution_count": 12,
   "metadata": {},
   "outputs": [
    {
     "data": {
      "text/html": [
       "<div>\n",
       "<style scoped>\n",
       "    .dataframe tbody tr th:only-of-type {\n",
       "        vertical-align: middle;\n",
       "    }\n",
       "\n",
       "    .dataframe tbody tr th {\n",
       "        vertical-align: top;\n",
       "    }\n",
       "\n",
       "    .dataframe thead th {\n",
       "        text-align: right;\n",
       "    }\n",
       "</style>\n",
       "<table border=\"1\" class=\"dataframe\">\n",
       "  <thead>\n",
       "    <tr style=\"text-align: right;\">\n",
       "      <th></th>\n",
       "      <th>duration</th>\n",
       "      <th>user_id</th>\n",
       "    </tr>\n",
       "  </thead>\n",
       "  <tbody>\n",
       "    <tr>\n",
       "      <td>count</td>\n",
       "      <td>202607.000000</td>\n",
       "      <td>202607.000000</td>\n",
       "    </tr>\n",
       "    <tr>\n",
       "      <td>mean</td>\n",
       "      <td>6.755887</td>\n",
       "      <td>1253.940619</td>\n",
       "    </tr>\n",
       "    <tr>\n",
       "      <td>std</td>\n",
       "      <td>5.843365</td>\n",
       "      <td>144.722751</td>\n",
       "    </tr>\n",
       "    <tr>\n",
       "      <td>min</td>\n",
       "      <td>0.000000</td>\n",
       "      <td>1000.000000</td>\n",
       "    </tr>\n",
       "    <tr>\n",
       "      <td>25%</td>\n",
       "      <td>1.300000</td>\n",
       "      <td>1126.000000</td>\n",
       "    </tr>\n",
       "    <tr>\n",
       "      <td>50%</td>\n",
       "      <td>6.000000</td>\n",
       "      <td>1260.000000</td>\n",
       "    </tr>\n",
       "    <tr>\n",
       "      <td>75%</td>\n",
       "      <td>10.700000</td>\n",
       "      <td>1379.000000</td>\n",
       "    </tr>\n",
       "    <tr>\n",
       "      <td>max</td>\n",
       "      <td>38.000000</td>\n",
       "      <td>1499.000000</td>\n",
       "    </tr>\n",
       "  </tbody>\n",
       "</table>\n",
       "</div>"
      ],
      "text/plain": [
       "            duration        user_id\n",
       "count  202607.000000  202607.000000\n",
       "mean        6.755887    1253.940619\n",
       "std         5.843365     144.722751\n",
       "min         0.000000    1000.000000\n",
       "25%         1.300000    1126.000000\n",
       "50%         6.000000    1260.000000\n",
       "75%        10.700000    1379.000000\n",
       "max        38.000000    1499.000000"
      ]
     },
     "execution_count": 12,
     "metadata": {},
     "output_type": "execute_result"
    }
   ],
   "source": [
    "calls.describe()"
   ]
  },
  {
   "cell_type": "code",
   "execution_count": 13,
   "metadata": {},
   "outputs": [
    {
     "data": {
      "text/plain": [
       "39613"
      ]
     },
     "execution_count": 13,
     "metadata": {},
     "output_type": "execute_result"
    }
   ],
   "source": [
    "len(calls.query('duration == 0'))"
   ]
  },
  {
   "cell_type": "markdown",
   "metadata": {},
   "source": [
    "**Вывод:** В таблице `calls` 4 столбца и 202607 строк. Типы данных в порядке, за исключением столбца `call_date`, изменим его тип данных на этапе обработки. Пропусков нет. Полных дубликатов нет. Обнаружено 39613 записей с нулевым значением длительности звонка, возможно это могут быть пропущенные звонки, вернемся к ним на этапе обработки. "
   ]
  },
  {
   "cell_type": "markdown",
   "metadata": {},
   "source": [
    "### Таблица `internet`"
   ]
  },
  {
   "cell_type": "code",
   "execution_count": 14,
   "metadata": {},
   "outputs": [
    {
     "data": {
      "text/html": [
       "<div>\n",
       "<style scoped>\n",
       "    .dataframe tbody tr th:only-of-type {\n",
       "        vertical-align: middle;\n",
       "    }\n",
       "\n",
       "    .dataframe tbody tr th {\n",
       "        vertical-align: top;\n",
       "    }\n",
       "\n",
       "    .dataframe thead th {\n",
       "        text-align: right;\n",
       "    }\n",
       "</style>\n",
       "<table border=\"1\" class=\"dataframe\">\n",
       "  <thead>\n",
       "    <tr style=\"text-align: right;\">\n",
       "      <th></th>\n",
       "      <th>Unnamed: 0</th>\n",
       "      <th>id</th>\n",
       "      <th>mb_used</th>\n",
       "      <th>session_date</th>\n",
       "      <th>user_id</th>\n",
       "    </tr>\n",
       "  </thead>\n",
       "  <tbody>\n",
       "    <tr>\n",
       "      <td>0</td>\n",
       "      <td>0</td>\n",
       "      <td>1000_0</td>\n",
       "      <td>112.95</td>\n",
       "      <td>2018-11-25</td>\n",
       "      <td>1000</td>\n",
       "    </tr>\n",
       "    <tr>\n",
       "      <td>1</td>\n",
       "      <td>1</td>\n",
       "      <td>1000_1</td>\n",
       "      <td>1052.81</td>\n",
       "      <td>2018-09-07</td>\n",
       "      <td>1000</td>\n",
       "    </tr>\n",
       "    <tr>\n",
       "      <td>2</td>\n",
       "      <td>2</td>\n",
       "      <td>1000_2</td>\n",
       "      <td>1197.26</td>\n",
       "      <td>2018-06-25</td>\n",
       "      <td>1000</td>\n",
       "    </tr>\n",
       "    <tr>\n",
       "      <td>3</td>\n",
       "      <td>3</td>\n",
       "      <td>1000_3</td>\n",
       "      <td>550.27</td>\n",
       "      <td>2018-08-22</td>\n",
       "      <td>1000</td>\n",
       "    </tr>\n",
       "    <tr>\n",
       "      <td>4</td>\n",
       "      <td>4</td>\n",
       "      <td>1000_4</td>\n",
       "      <td>302.56</td>\n",
       "      <td>2018-09-24</td>\n",
       "      <td>1000</td>\n",
       "    </tr>\n",
       "  </tbody>\n",
       "</table>\n",
       "</div>"
      ],
      "text/plain": [
       "   Unnamed: 0      id  mb_used session_date  user_id\n",
       "0           0  1000_0   112.95   2018-11-25     1000\n",
       "1           1  1000_1  1052.81   2018-09-07     1000\n",
       "2           2  1000_2  1197.26   2018-06-25     1000\n",
       "3           3  1000_3   550.27   2018-08-22     1000\n",
       "4           4  1000_4   302.56   2018-09-24     1000"
      ]
     },
     "execution_count": 14,
     "metadata": {},
     "output_type": "execute_result"
    }
   ],
   "source": [
    "internet.head()"
   ]
  },
  {
   "cell_type": "code",
   "execution_count": 15,
   "metadata": {},
   "outputs": [
    {
     "data": {
      "text/html": [
       "<div>\n",
       "<style scoped>\n",
       "    .dataframe tbody tr th:only-of-type {\n",
       "        vertical-align: middle;\n",
       "    }\n",
       "\n",
       "    .dataframe tbody tr th {\n",
       "        vertical-align: top;\n",
       "    }\n",
       "\n",
       "    .dataframe thead th {\n",
       "        text-align: right;\n",
       "    }\n",
       "</style>\n",
       "<table border=\"1\" class=\"dataframe\">\n",
       "  <thead>\n",
       "    <tr style=\"text-align: right;\">\n",
       "      <th></th>\n",
       "      <th>Unnamed: 0</th>\n",
       "      <th>id</th>\n",
       "      <th>mb_used</th>\n",
       "      <th>session_date</th>\n",
       "      <th>user_id</th>\n",
       "    </tr>\n",
       "  </thead>\n",
       "  <tbody>\n",
       "    <tr>\n",
       "      <td>149391</td>\n",
       "      <td>149391</td>\n",
       "      <td>1499_152</td>\n",
       "      <td>318.90</td>\n",
       "      <td>2018-10-03</td>\n",
       "      <td>1499</td>\n",
       "    </tr>\n",
       "    <tr>\n",
       "      <td>149392</td>\n",
       "      <td>149392</td>\n",
       "      <td>1499_153</td>\n",
       "      <td>490.13</td>\n",
       "      <td>2018-12-14</td>\n",
       "      <td>1499</td>\n",
       "    </tr>\n",
       "    <tr>\n",
       "      <td>149393</td>\n",
       "      <td>149393</td>\n",
       "      <td>1499_154</td>\n",
       "      <td>0.00</td>\n",
       "      <td>2018-10-27</td>\n",
       "      <td>1499</td>\n",
       "    </tr>\n",
       "    <tr>\n",
       "      <td>149394</td>\n",
       "      <td>149394</td>\n",
       "      <td>1499_155</td>\n",
       "      <td>1246.32</td>\n",
       "      <td>2018-11-26</td>\n",
       "      <td>1499</td>\n",
       "    </tr>\n",
       "    <tr>\n",
       "      <td>149395</td>\n",
       "      <td>149395</td>\n",
       "      <td>1499_156</td>\n",
       "      <td>544.37</td>\n",
       "      <td>2018-10-26</td>\n",
       "      <td>1499</td>\n",
       "    </tr>\n",
       "  </tbody>\n",
       "</table>\n",
       "</div>"
      ],
      "text/plain": [
       "        Unnamed: 0        id  mb_used session_date  user_id\n",
       "149391      149391  1499_152   318.90   2018-10-03     1499\n",
       "149392      149392  1499_153   490.13   2018-12-14     1499\n",
       "149393      149393  1499_154     0.00   2018-10-27     1499\n",
       "149394      149394  1499_155  1246.32   2018-11-26     1499\n",
       "149395      149395  1499_156   544.37   2018-10-26     1499"
      ]
     },
     "execution_count": 15,
     "metadata": {},
     "output_type": "execute_result"
    }
   ],
   "source": [
    "internet.tail()"
   ]
  },
  {
   "cell_type": "code",
   "execution_count": 16,
   "metadata": {},
   "outputs": [
    {
     "name": "stdout",
     "output_type": "stream",
     "text": [
      "<class 'pandas.core.frame.DataFrame'>\n",
      "RangeIndex: 149396 entries, 0 to 149395\n",
      "Data columns (total 5 columns):\n",
      "Unnamed: 0      149396 non-null int64\n",
      "id              149396 non-null object\n",
      "mb_used         149396 non-null float64\n",
      "session_date    149396 non-null object\n",
      "user_id         149396 non-null int64\n",
      "dtypes: float64(1), int64(2), object(2)\n",
      "memory usage: 5.7+ MB\n"
     ]
    }
   ],
   "source": [
    "internet.info()"
   ]
  },
  {
   "cell_type": "code",
   "execution_count": 17,
   "metadata": {},
   "outputs": [
    {
     "data": {
      "text/plain": [
       "Unnamed: 0      0\n",
       "id              0\n",
       "mb_used         0\n",
       "session_date    0\n",
       "user_id         0\n",
       "dtype: int64"
      ]
     },
     "execution_count": 17,
     "metadata": {},
     "output_type": "execute_result"
    }
   ],
   "source": [
    "internet.isnull().sum()"
   ]
  },
  {
   "cell_type": "code",
   "execution_count": 18,
   "metadata": {},
   "outputs": [
    {
     "data": {
      "text/plain": [
       "0"
      ]
     },
     "execution_count": 18,
     "metadata": {},
     "output_type": "execute_result"
    }
   ],
   "source": [
    "internet.duplicated().sum()"
   ]
  },
  {
   "cell_type": "code",
   "execution_count": 19,
   "metadata": {},
   "outputs": [
    {
     "data": {
      "text/html": [
       "<div>\n",
       "<style scoped>\n",
       "    .dataframe tbody tr th:only-of-type {\n",
       "        vertical-align: middle;\n",
       "    }\n",
       "\n",
       "    .dataframe tbody tr th {\n",
       "        vertical-align: top;\n",
       "    }\n",
       "\n",
       "    .dataframe thead th {\n",
       "        text-align: right;\n",
       "    }\n",
       "</style>\n",
       "<table border=\"1\" class=\"dataframe\">\n",
       "  <thead>\n",
       "    <tr style=\"text-align: right;\">\n",
       "      <th></th>\n",
       "      <th>Unnamed: 0</th>\n",
       "      <th>mb_used</th>\n",
       "      <th>user_id</th>\n",
       "    </tr>\n",
       "  </thead>\n",
       "  <tbody>\n",
       "    <tr>\n",
       "      <td>count</td>\n",
       "      <td>149396.000000</td>\n",
       "      <td>149396.000000</td>\n",
       "      <td>149396.000000</td>\n",
       "    </tr>\n",
       "    <tr>\n",
       "      <td>mean</td>\n",
       "      <td>74697.500000</td>\n",
       "      <td>370.192426</td>\n",
       "      <td>1252.099842</td>\n",
       "    </tr>\n",
       "    <tr>\n",
       "      <td>std</td>\n",
       "      <td>43127.054745</td>\n",
       "      <td>278.300951</td>\n",
       "      <td>144.050823</td>\n",
       "    </tr>\n",
       "    <tr>\n",
       "      <td>min</td>\n",
       "      <td>0.000000</td>\n",
       "      <td>0.000000</td>\n",
       "      <td>1000.000000</td>\n",
       "    </tr>\n",
       "    <tr>\n",
       "      <td>25%</td>\n",
       "      <td>37348.750000</td>\n",
       "      <td>138.187500</td>\n",
       "      <td>1130.000000</td>\n",
       "    </tr>\n",
       "    <tr>\n",
       "      <td>50%</td>\n",
       "      <td>74697.500000</td>\n",
       "      <td>348.015000</td>\n",
       "      <td>1251.000000</td>\n",
       "    </tr>\n",
       "    <tr>\n",
       "      <td>75%</td>\n",
       "      <td>112046.250000</td>\n",
       "      <td>559.552500</td>\n",
       "      <td>1380.000000</td>\n",
       "    </tr>\n",
       "    <tr>\n",
       "      <td>max</td>\n",
       "      <td>149395.000000</td>\n",
       "      <td>1724.830000</td>\n",
       "      <td>1499.000000</td>\n",
       "    </tr>\n",
       "  </tbody>\n",
       "</table>\n",
       "</div>"
      ],
      "text/plain": [
       "          Unnamed: 0        mb_used        user_id\n",
       "count  149396.000000  149396.000000  149396.000000\n",
       "mean    74697.500000     370.192426    1252.099842\n",
       "std     43127.054745     278.300951     144.050823\n",
       "min         0.000000       0.000000    1000.000000\n",
       "25%     37348.750000     138.187500    1130.000000\n",
       "50%     74697.500000     348.015000    1251.000000\n",
       "75%    112046.250000     559.552500    1380.000000\n",
       "max    149395.000000    1724.830000    1499.000000"
      ]
     },
     "execution_count": 19,
     "metadata": {},
     "output_type": "execute_result"
    }
   ],
   "source": [
    "internet.describe()"
   ]
  },
  {
   "cell_type": "code",
   "execution_count": 20,
   "metadata": {},
   "outputs": [
    {
     "data": {
      "text/plain": [
       "19598"
      ]
     },
     "execution_count": 20,
     "metadata": {},
     "output_type": "execute_result"
    }
   ],
   "source": [
    "len(internet.query('mb_used == 0'))"
   ]
  },
  {
   "cell_type": "markdown",
   "metadata": {},
   "source": [
    "**Вывод:** В таблице `internet` 5 столбцов и 149396 строк. Столбец `Unnamed: 0` по виду является копией столбца с индексами и появился в таблице по ошибке. Удалим этот столбец. Типы данных в порядке, за исключением столбца `session_date`, изменим его тип данных на этапе обработки. Пропусков нет. Полных дубликатов нет. Обнаружено 19598 записей с нулевым значением потраченного за сессию трафика, возможно это пропуски, вернемся к ним на этапе обработки. "
   ]
  },
  {
   "cell_type": "markdown",
   "metadata": {},
   "source": [
    "### Таблица `messages`"
   ]
  },
  {
   "cell_type": "code",
   "execution_count": 21,
   "metadata": {},
   "outputs": [
    {
     "data": {
      "text/html": [
       "<div>\n",
       "<style scoped>\n",
       "    .dataframe tbody tr th:only-of-type {\n",
       "        vertical-align: middle;\n",
       "    }\n",
       "\n",
       "    .dataframe tbody tr th {\n",
       "        vertical-align: top;\n",
       "    }\n",
       "\n",
       "    .dataframe thead th {\n",
       "        text-align: right;\n",
       "    }\n",
       "</style>\n",
       "<table border=\"1\" class=\"dataframe\">\n",
       "  <thead>\n",
       "    <tr style=\"text-align: right;\">\n",
       "      <th></th>\n",
       "      <th>id</th>\n",
       "      <th>message_date</th>\n",
       "      <th>user_id</th>\n",
       "    </tr>\n",
       "  </thead>\n",
       "  <tbody>\n",
       "    <tr>\n",
       "      <td>0</td>\n",
       "      <td>1000_0</td>\n",
       "      <td>2018-06-27</td>\n",
       "      <td>1000</td>\n",
       "    </tr>\n",
       "    <tr>\n",
       "      <td>1</td>\n",
       "      <td>1000_1</td>\n",
       "      <td>2018-10-08</td>\n",
       "      <td>1000</td>\n",
       "    </tr>\n",
       "    <tr>\n",
       "      <td>2</td>\n",
       "      <td>1000_2</td>\n",
       "      <td>2018-08-04</td>\n",
       "      <td>1000</td>\n",
       "    </tr>\n",
       "    <tr>\n",
       "      <td>3</td>\n",
       "      <td>1000_3</td>\n",
       "      <td>2018-06-16</td>\n",
       "      <td>1000</td>\n",
       "    </tr>\n",
       "    <tr>\n",
       "      <td>4</td>\n",
       "      <td>1000_4</td>\n",
       "      <td>2018-12-05</td>\n",
       "      <td>1000</td>\n",
       "    </tr>\n",
       "  </tbody>\n",
       "</table>\n",
       "</div>"
      ],
      "text/plain": [
       "       id message_date  user_id\n",
       "0  1000_0   2018-06-27     1000\n",
       "1  1000_1   2018-10-08     1000\n",
       "2  1000_2   2018-08-04     1000\n",
       "3  1000_3   2018-06-16     1000\n",
       "4  1000_4   2018-12-05     1000"
      ]
     },
     "execution_count": 21,
     "metadata": {},
     "output_type": "execute_result"
    }
   ],
   "source": [
    "messages.head()"
   ]
  },
  {
   "cell_type": "code",
   "execution_count": 22,
   "metadata": {},
   "outputs": [
    {
     "name": "stdout",
     "output_type": "stream",
     "text": [
      "<class 'pandas.core.frame.DataFrame'>\n",
      "RangeIndex: 123036 entries, 0 to 123035\n",
      "Data columns (total 3 columns):\n",
      "id              123036 non-null object\n",
      "message_date    123036 non-null object\n",
      "user_id         123036 non-null int64\n",
      "dtypes: int64(1), object(2)\n",
      "memory usage: 2.8+ MB\n"
     ]
    }
   ],
   "source": [
    "messages.info()"
   ]
  },
  {
   "cell_type": "code",
   "execution_count": 23,
   "metadata": {},
   "outputs": [
    {
     "data": {
      "text/plain": [
       "0"
      ]
     },
     "execution_count": 23,
     "metadata": {},
     "output_type": "execute_result"
    }
   ],
   "source": [
    "messages.duplicated().sum()"
   ]
  },
  {
   "cell_type": "code",
   "execution_count": 24,
   "metadata": {},
   "outputs": [
    {
     "data": {
      "text/plain": [
       "id              0\n",
       "message_date    0\n",
       "user_id         0\n",
       "dtype: int64"
      ]
     },
     "execution_count": 24,
     "metadata": {},
     "output_type": "execute_result"
    }
   ],
   "source": [
    "messages.isnull().sum()"
   ]
  },
  {
   "cell_type": "markdown",
   "metadata": {},
   "source": [
    "**Вывод:** В таблице `messages` 3 столбца и 123036 строк. Типы данных в порядке, за исключением столбца `message_date`, изменим его тип данных на этапе обработки. Пропусков нет. Полных дубликатов нет."
   ]
  },
  {
   "cell_type": "markdown",
   "metadata": {},
   "source": [
    "### Таблица `tariffs `"
   ]
  },
  {
   "cell_type": "code",
   "execution_count": 25,
   "metadata": {},
   "outputs": [
    {
     "data": {
      "text/html": [
       "<div>\n",
       "<style scoped>\n",
       "    .dataframe tbody tr th:only-of-type {\n",
       "        vertical-align: middle;\n",
       "    }\n",
       "\n",
       "    .dataframe tbody tr th {\n",
       "        vertical-align: top;\n",
       "    }\n",
       "\n",
       "    .dataframe thead th {\n",
       "        text-align: right;\n",
       "    }\n",
       "</style>\n",
       "<table border=\"1\" class=\"dataframe\">\n",
       "  <thead>\n",
       "    <tr style=\"text-align: right;\">\n",
       "      <th></th>\n",
       "      <th>messages_included</th>\n",
       "      <th>mb_per_month_included</th>\n",
       "      <th>minutes_included</th>\n",
       "      <th>rub_monthly_fee</th>\n",
       "      <th>rub_per_gb</th>\n",
       "      <th>rub_per_message</th>\n",
       "      <th>rub_per_minute</th>\n",
       "      <th>tariff_name</th>\n",
       "    </tr>\n",
       "  </thead>\n",
       "  <tbody>\n",
       "    <tr>\n",
       "      <td>0</td>\n",
       "      <td>50</td>\n",
       "      <td>15360</td>\n",
       "      <td>500</td>\n",
       "      <td>550</td>\n",
       "      <td>200</td>\n",
       "      <td>3</td>\n",
       "      <td>3</td>\n",
       "      <td>smart</td>\n",
       "    </tr>\n",
       "    <tr>\n",
       "      <td>1</td>\n",
       "      <td>1000</td>\n",
       "      <td>30720</td>\n",
       "      <td>3000</td>\n",
       "      <td>1950</td>\n",
       "      <td>150</td>\n",
       "      <td>1</td>\n",
       "      <td>1</td>\n",
       "      <td>ultra</td>\n",
       "    </tr>\n",
       "  </tbody>\n",
       "</table>\n",
       "</div>"
      ],
      "text/plain": [
       "   messages_included  mb_per_month_included  minutes_included  \\\n",
       "0                 50                  15360               500   \n",
       "1               1000                  30720              3000   \n",
       "\n",
       "   rub_monthly_fee  rub_per_gb  rub_per_message  rub_per_minute tariff_name  \n",
       "0              550         200                3               3       smart  \n",
       "1             1950         150                1               1       ultra  "
      ]
     },
     "execution_count": 25,
     "metadata": {},
     "output_type": "execute_result"
    }
   ],
   "source": [
    "tariffs"
   ]
  },
  {
   "cell_type": "code",
   "execution_count": 26,
   "metadata": {},
   "outputs": [
    {
     "name": "stdout",
     "output_type": "stream",
     "text": [
      "<class 'pandas.core.frame.DataFrame'>\n",
      "RangeIndex: 2 entries, 0 to 1\n",
      "Data columns (total 8 columns):\n",
      "messages_included        2 non-null int64\n",
      "mb_per_month_included    2 non-null int64\n",
      "minutes_included         2 non-null int64\n",
      "rub_monthly_fee          2 non-null int64\n",
      "rub_per_gb               2 non-null int64\n",
      "rub_per_message          2 non-null int64\n",
      "rub_per_minute           2 non-null int64\n",
      "tariff_name              2 non-null object\n",
      "dtypes: int64(7), object(1)\n",
      "memory usage: 256.0+ bytes\n"
     ]
    }
   ],
   "source": [
    "tariffs.info()"
   ]
  },
  {
   "cell_type": "markdown",
   "metadata": {},
   "source": [
    "**Вывод:** В таблице `tariffs` 8 столбцов и 2 строки. Типы данных в порядке. Никакой обработки не требуется."
   ]
  },
  {
   "cell_type": "markdown",
   "metadata": {},
   "source": [
    "### Вывод"
   ]
  },
  {
   "cell_type": "markdown",
   "metadata": {},
   "source": [
    "Выявленные проблемы в данных, требующие обработки:\n",
    "- Типы данных в столбцах с датами\n",
    "- Нулевые значения в столбцах продолжительности разговоров и использованного за сессию траффика в таблицах `calls` и `internet` соответственно\n",
    "- Лишний столбец в таблице `internet`"
   ]
  },
  {
   "cell_type": "markdown",
   "metadata": {},
   "source": [
    "## Предобработка данных"
   ]
  },
  {
   "cell_type": "markdown",
   "metadata": {},
   "source": [
    "### Изменение типов данных"
   ]
  },
  {
   "cell_type": "markdown",
   "metadata": {},
   "source": [
    "Изменим тип данных в столбцах с датами:"
   ]
  },
  {
   "cell_type": "code",
   "execution_count": 27,
   "metadata": {},
   "outputs": [],
   "source": [
    "users['reg_date'] = pd.to_datetime(users['reg_date'], format='%Y-%m-%d')\n",
    "users['churn_date'] = pd.to_datetime(users['churn_date'], format='%Y-%m-%d')\n",
    "calls['call_date'] = pd.to_datetime(calls['call_date'], format='%Y-%m-%d')\n",
    "internet['session_date'] = pd.to_datetime(internet['session_date'], format='%Y-%m-%d')\n",
    "messages['message_date'] = pd.to_datetime(messages['message_date'], format='%Y-%m-%d')"
   ]
  },
  {
   "cell_type": "markdown",
   "metadata": {},
   "source": [
    "### Округление минут и мегабайт в таблицах `calls` и `internet`"
   ]
  },
  {
   "cell_type": "code",
   "execution_count": 28,
   "metadata": {},
   "outputs": [
    {
     "data": {
      "text/plain": [
       "0          0\n",
       "1          0\n",
       "2          3\n",
       "3         14\n",
       "4          6\n",
       "          ..\n",
       "202602     1\n",
       "202603    19\n",
       "202604    11\n",
       "202605     5\n",
       "202606    20\n",
       "Name: duration, Length: 202607, dtype: int64"
      ]
     },
     "execution_count": 28,
     "metadata": {},
     "output_type": "execute_result"
    }
   ],
   "source": [
    "calls['duration'] = np.ceil(calls['duration'])\n",
    "calls['duration'] = calls['duration'].astype(int)\n",
    "calls['duration']"
   ]
  },
  {
   "cell_type": "code",
   "execution_count": 29,
   "metadata": {},
   "outputs": [
    {
     "data": {
      "text/plain": [
       "0          113\n",
       "1         1053\n",
       "2         1198\n",
       "3          551\n",
       "4          303\n",
       "          ... \n",
       "149391     319\n",
       "149392     491\n",
       "149393       0\n",
       "149394    1247\n",
       "149395     545\n",
       "Name: mb_used, Length: 149396, dtype: int64"
      ]
     },
     "execution_count": 29,
     "metadata": {},
     "output_type": "execute_result"
    }
   ],
   "source": [
    "internet['mb_used'] = np.ceil(internet['mb_used'])\n",
    "internet['mb_used'] = internet['mb_used'].astype(int)\n",
    "internet['mb_used']"
   ]
  },
  {
   "cell_type": "markdown",
   "metadata": {},
   "source": [
    "### Удаление столбца `Unnamed: 0` из таблицы `internet`"
   ]
  },
  {
   "cell_type": "code",
   "execution_count": 30,
   "metadata": {},
   "outputs": [
    {
     "name": "stdout",
     "output_type": "stream",
     "text": [
      "<class 'pandas.core.frame.DataFrame'>\n",
      "RangeIndex: 149396 entries, 0 to 149395\n",
      "Data columns (total 4 columns):\n",
      "id              149396 non-null object\n",
      "mb_used         149396 non-null int64\n",
      "session_date    149396 non-null datetime64[ns]\n",
      "user_id         149396 non-null int64\n",
      "dtypes: datetime64[ns](1), int64(2), object(1)\n",
      "memory usage: 4.6+ MB\n"
     ]
    }
   ],
   "source": [
    "internet.drop('Unnamed: 0', inplace=True, axis=1)\n",
    "internet.info()"
   ]
  },
  {
   "cell_type": "markdown",
   "metadata": {},
   "source": [
    "### Обработка нулевых значений минут и мегабайт в таблицах `calls` и `internet`"
   ]
  },
  {
   "cell_type": "code",
   "execution_count": 31,
   "metadata": {},
   "outputs": [
    {
     "data": {
      "text/plain": [
       "19.551644316336553"
      ]
     },
     "execution_count": 31,
     "metadata": {},
     "output_type": "execute_result"
    }
   ],
   "source": [
    "zero_dur_calls_ratio = len(calls.query('duration == 0')) / len(calls) * 100\n",
    "zero_dur_calls_ratio"
   ]
  },
  {
   "cell_type": "code",
   "execution_count": 32,
   "metadata": {},
   "outputs": [
    {
     "data": {
      "text/plain": [
       "13.118155773916303"
      ]
     },
     "execution_count": 32,
     "metadata": {},
     "output_type": "execute_result"
    }
   ],
   "source": [
    "zero_sess_dur_internet_ratio = len(internet.query('mb_used == 0')) / len(internet) * 100\n",
    "zero_sess_dur_internet_ratio"
   ]
  },
  {
   "cell_type": "markdown",
   "metadata": {},
   "source": [
    "19,5% от общего числа звонков составляют звонки с нулевой длительностью. Вполне возможно, что это пропущенные/сброшенные звонки.  \n",
    "13,1% от общего числа интернет-сессий составляют сессии с нулевым трафиком. Возможно, такие сессии, в которые пользователь не расходовал трафик, были засчитаны по ошибке. \n",
    "\n",
    "В любом случае, наличие нулей в этих столбцах никак не должно помешать дальнейшим расчетам и анализу, так как расчеты будут производиться по пользователям, а не по звонкам/сессиям, поэтому такие данные можно оставить как есть. "
   ]
  },
  {
   "cell_type": "markdown",
   "metadata": {},
   "source": [
    "### Проверка на наличие неявных дубликатов в таблице `users`"
   ]
  },
  {
   "cell_type": "markdown",
   "metadata": {},
   "source": [
    "Для подстраховки приведем имена, фамилии и города пользователей, а также названия тарифов, к общему виду. Имена, фамилии и города все запишем с заглавной буквы, а названия тарифов — с маленькой. Затем проверим, не выявились ли дубликаты после обработки."
   ]
  },
  {
   "cell_type": "code",
   "execution_count": 33,
   "metadata": {},
   "outputs": [
    {
     "data": {
      "text/plain": [
       "0"
      ]
     },
     "execution_count": 33,
     "metadata": {},
     "output_type": "execute_result"
    }
   ],
   "source": [
    "users['first_name'] = users['first_name'].str.capitalize()\n",
    "users['last_name'] = users['last_name'].str.capitalize()\n",
    "users['city'] = users['city'].str.capitalize()\n",
    "users['tariff'] = users['tariff'].str.lower()\n",
    "users.duplicated().sum()"
   ]
  },
  {
   "cell_type": "markdown",
   "metadata": {},
   "source": [
    "### Подсчет звонков, сообщений и трафика по месяцам для каждого пользователя"
   ]
  },
  {
   "cell_type": "markdown",
   "metadata": {},
   "source": [
    "Так как расчеты будут производиться по месяцам, имеет смысл добавить в каждую таблицу отдельный столбец с месяцем:"
   ]
  },
  {
   "cell_type": "code",
   "execution_count": 34,
   "metadata": {},
   "outputs": [],
   "source": [
    "calls['month'] = calls['call_date'].dt.month \n",
    "messages['month'] = messages['message_date'].dt.month \n",
    "internet['month'] = internet['session_date'].dt.month"
   ]
  },
  {
   "cell_type": "markdown",
   "metadata": {},
   "source": [
    "#### Количество сделанных звонков и израсходованных минут разговора по месяцам"
   ]
  },
  {
   "cell_type": "code",
   "execution_count": 35,
   "metadata": {},
   "outputs": [
    {
     "data": {
      "text/html": [
       "<div>\n",
       "<style scoped>\n",
       "    .dataframe tbody tr th:only-of-type {\n",
       "        vertical-align: middle;\n",
       "    }\n",
       "\n",
       "    .dataframe tbody tr th {\n",
       "        vertical-align: top;\n",
       "    }\n",
       "\n",
       "    .dataframe thead th {\n",
       "        text-align: right;\n",
       "    }\n",
       "</style>\n",
       "<table border=\"1\" class=\"dataframe\">\n",
       "  <thead>\n",
       "    <tr style=\"text-align: right;\">\n",
       "      <th></th>\n",
       "      <th>user_id</th>\n",
       "      <th>month</th>\n",
       "      <th>calls_duration</th>\n",
       "      <th>calls_count</th>\n",
       "    </tr>\n",
       "  </thead>\n",
       "  <tbody>\n",
       "    <tr>\n",
       "      <td>0</td>\n",
       "      <td>1000</td>\n",
       "      <td>5</td>\n",
       "      <td>159</td>\n",
       "      <td>22</td>\n",
       "    </tr>\n",
       "    <tr>\n",
       "      <td>1</td>\n",
       "      <td>1000</td>\n",
       "      <td>6</td>\n",
       "      <td>172</td>\n",
       "      <td>43</td>\n",
       "    </tr>\n",
       "    <tr>\n",
       "      <td>2</td>\n",
       "      <td>1000</td>\n",
       "      <td>7</td>\n",
       "      <td>340</td>\n",
       "      <td>47</td>\n",
       "    </tr>\n",
       "    <tr>\n",
       "      <td>3</td>\n",
       "      <td>1000</td>\n",
       "      <td>8</td>\n",
       "      <td>408</td>\n",
       "      <td>52</td>\n",
       "    </tr>\n",
       "    <tr>\n",
       "      <td>4</td>\n",
       "      <td>1000</td>\n",
       "      <td>9</td>\n",
       "      <td>466</td>\n",
       "      <td>58</td>\n",
       "    </tr>\n",
       "    <tr>\n",
       "      <td>...</td>\n",
       "      <td>...</td>\n",
       "      <td>...</td>\n",
       "      <td>...</td>\n",
       "      <td>...</td>\n",
       "    </tr>\n",
       "    <tr>\n",
       "      <td>3169</td>\n",
       "      <td>1498</td>\n",
       "      <td>10</td>\n",
       "      <td>247</td>\n",
       "      <td>41</td>\n",
       "    </tr>\n",
       "    <tr>\n",
       "      <td>3170</td>\n",
       "      <td>1499</td>\n",
       "      <td>9</td>\n",
       "      <td>70</td>\n",
       "      <td>9</td>\n",
       "    </tr>\n",
       "    <tr>\n",
       "      <td>3171</td>\n",
       "      <td>1499</td>\n",
       "      <td>10</td>\n",
       "      <td>449</td>\n",
       "      <td>68</td>\n",
       "    </tr>\n",
       "    <tr>\n",
       "      <td>3172</td>\n",
       "      <td>1499</td>\n",
       "      <td>11</td>\n",
       "      <td>612</td>\n",
       "      <td>74</td>\n",
       "    </tr>\n",
       "    <tr>\n",
       "      <td>3173</td>\n",
       "      <td>1499</td>\n",
       "      <td>12</td>\n",
       "      <td>492</td>\n",
       "      <td>69</td>\n",
       "    </tr>\n",
       "  </tbody>\n",
       "</table>\n",
       "<p>3174 rows × 4 columns</p>\n",
       "</div>"
      ],
      "text/plain": [
       "      user_id  month  calls_duration  calls_count\n",
       "0        1000      5             159           22\n",
       "1        1000      6             172           43\n",
       "2        1000      7             340           47\n",
       "3        1000      8             408           52\n",
       "4        1000      9             466           58\n",
       "...       ...    ...             ...          ...\n",
       "3169     1498     10             247           41\n",
       "3170     1499      9              70            9\n",
       "3171     1499     10             449           68\n",
       "3172     1499     11             612           74\n",
       "3173     1499     12             492           69\n",
       "\n",
       "[3174 rows x 4 columns]"
      ]
     },
     "execution_count": 35,
     "metadata": {},
     "output_type": "execute_result"
    }
   ],
   "source": [
    "user_calls = calls.groupby(['user_id', 'month']).agg({'duration':'sum', 'id':'count'}).reset_index().rename(columns={'id': 'calls_count', 'duration': 'calls_duration'})\n",
    "user_calls"
   ]
  },
  {
   "cell_type": "markdown",
   "metadata": {},
   "source": [
    "#### Количество отправленных сообщений по месяцам"
   ]
  },
  {
   "cell_type": "code",
   "execution_count": 36,
   "metadata": {},
   "outputs": [
    {
     "data": {
      "text/html": [
       "<div>\n",
       "<style scoped>\n",
       "    .dataframe tbody tr th:only-of-type {\n",
       "        vertical-align: middle;\n",
       "    }\n",
       "\n",
       "    .dataframe tbody tr th {\n",
       "        vertical-align: top;\n",
       "    }\n",
       "\n",
       "    .dataframe thead th {\n",
       "        text-align: right;\n",
       "    }\n",
       "</style>\n",
       "<table border=\"1\" class=\"dataframe\">\n",
       "  <thead>\n",
       "    <tr style=\"text-align: right;\">\n",
       "      <th></th>\n",
       "      <th>user_id</th>\n",
       "      <th>month</th>\n",
       "      <th>messages_count</th>\n",
       "    </tr>\n",
       "  </thead>\n",
       "  <tbody>\n",
       "    <tr>\n",
       "      <td>0</td>\n",
       "      <td>1000</td>\n",
       "      <td>5</td>\n",
       "      <td>22</td>\n",
       "    </tr>\n",
       "    <tr>\n",
       "      <td>1</td>\n",
       "      <td>1000</td>\n",
       "      <td>6</td>\n",
       "      <td>60</td>\n",
       "    </tr>\n",
       "    <tr>\n",
       "      <td>2</td>\n",
       "      <td>1000</td>\n",
       "      <td>7</td>\n",
       "      <td>75</td>\n",
       "    </tr>\n",
       "    <tr>\n",
       "      <td>3</td>\n",
       "      <td>1000</td>\n",
       "      <td>8</td>\n",
       "      <td>81</td>\n",
       "    </tr>\n",
       "    <tr>\n",
       "      <td>4</td>\n",
       "      <td>1000</td>\n",
       "      <td>9</td>\n",
       "      <td>57</td>\n",
       "    </tr>\n",
       "    <tr>\n",
       "      <td>...</td>\n",
       "      <td>...</td>\n",
       "      <td>...</td>\n",
       "      <td>...</td>\n",
       "    </tr>\n",
       "    <tr>\n",
       "      <td>2712</td>\n",
       "      <td>1498</td>\n",
       "      <td>10</td>\n",
       "      <td>42</td>\n",
       "    </tr>\n",
       "    <tr>\n",
       "      <td>2713</td>\n",
       "      <td>1499</td>\n",
       "      <td>9</td>\n",
       "      <td>11</td>\n",
       "    </tr>\n",
       "    <tr>\n",
       "      <td>2714</td>\n",
       "      <td>1499</td>\n",
       "      <td>10</td>\n",
       "      <td>48</td>\n",
       "    </tr>\n",
       "    <tr>\n",
       "      <td>2715</td>\n",
       "      <td>1499</td>\n",
       "      <td>11</td>\n",
       "      <td>59</td>\n",
       "    </tr>\n",
       "    <tr>\n",
       "      <td>2716</td>\n",
       "      <td>1499</td>\n",
       "      <td>12</td>\n",
       "      <td>66</td>\n",
       "    </tr>\n",
       "  </tbody>\n",
       "</table>\n",
       "<p>2717 rows × 3 columns</p>\n",
       "</div>"
      ],
      "text/plain": [
       "      user_id  month  messages_count\n",
       "0        1000      5              22\n",
       "1        1000      6              60\n",
       "2        1000      7              75\n",
       "3        1000      8              81\n",
       "4        1000      9              57\n",
       "...       ...    ...             ...\n",
       "2712     1498     10              42\n",
       "2713     1499      9              11\n",
       "2714     1499     10              48\n",
       "2715     1499     11              59\n",
       "2716     1499     12              66\n",
       "\n",
       "[2717 rows x 3 columns]"
      ]
     },
     "execution_count": 36,
     "metadata": {},
     "output_type": "execute_result"
    }
   ],
   "source": [
    "user_messages = messages.groupby(['user_id', 'month']).agg({'id':'count'}).reset_index().rename(columns={'id': 'messages_count'})\n",
    "user_messages"
   ]
  },
  {
   "cell_type": "markdown",
   "metadata": {},
   "source": [
    "#### Объем израсходованного интернет-трафика по месяцам"
   ]
  },
  {
   "cell_type": "code",
   "execution_count": 37,
   "metadata": {},
   "outputs": [
    {
     "data": {
      "text/html": [
       "<div>\n",
       "<style scoped>\n",
       "    .dataframe tbody tr th:only-of-type {\n",
       "        vertical-align: middle;\n",
       "    }\n",
       "\n",
       "    .dataframe tbody tr th {\n",
       "        vertical-align: top;\n",
       "    }\n",
       "\n",
       "    .dataframe thead th {\n",
       "        text-align: right;\n",
       "    }\n",
       "</style>\n",
       "<table border=\"1\" class=\"dataframe\">\n",
       "  <thead>\n",
       "    <tr style=\"text-align: right;\">\n",
       "      <th></th>\n",
       "      <th>user_id</th>\n",
       "      <th>month</th>\n",
       "      <th>mb_used</th>\n",
       "    </tr>\n",
       "  </thead>\n",
       "  <tbody>\n",
       "    <tr>\n",
       "      <td>0</td>\n",
       "      <td>1000</td>\n",
       "      <td>5</td>\n",
       "      <td>2256</td>\n",
       "    </tr>\n",
       "    <tr>\n",
       "      <td>1</td>\n",
       "      <td>1000</td>\n",
       "      <td>6</td>\n",
       "      <td>23257</td>\n",
       "    </tr>\n",
       "    <tr>\n",
       "      <td>2</td>\n",
       "      <td>1000</td>\n",
       "      <td>7</td>\n",
       "      <td>14016</td>\n",
       "    </tr>\n",
       "    <tr>\n",
       "      <td>3</td>\n",
       "      <td>1000</td>\n",
       "      <td>8</td>\n",
       "      <td>14070</td>\n",
       "    </tr>\n",
       "    <tr>\n",
       "      <td>4</td>\n",
       "      <td>1000</td>\n",
       "      <td>9</td>\n",
       "      <td>14581</td>\n",
       "    </tr>\n",
       "    <tr>\n",
       "      <td>...</td>\n",
       "      <td>...</td>\n",
       "      <td>...</td>\n",
       "      <td>...</td>\n",
       "    </tr>\n",
       "    <tr>\n",
       "      <td>3198</td>\n",
       "      <td>1498</td>\n",
       "      <td>10</td>\n",
       "      <td>20604</td>\n",
       "    </tr>\n",
       "    <tr>\n",
       "      <td>3199</td>\n",
       "      <td>1499</td>\n",
       "      <td>9</td>\n",
       "      <td>1848</td>\n",
       "    </tr>\n",
       "    <tr>\n",
       "      <td>3200</td>\n",
       "      <td>1499</td>\n",
       "      <td>10</td>\n",
       "      <td>17809</td>\n",
       "    </tr>\n",
       "    <tr>\n",
       "      <td>3201</td>\n",
       "      <td>1499</td>\n",
       "      <td>11</td>\n",
       "      <td>17984</td>\n",
       "    </tr>\n",
       "    <tr>\n",
       "      <td>3202</td>\n",
       "      <td>1499</td>\n",
       "      <td>12</td>\n",
       "      <td>13077</td>\n",
       "    </tr>\n",
       "  </tbody>\n",
       "</table>\n",
       "<p>3203 rows × 3 columns</p>\n",
       "</div>"
      ],
      "text/plain": [
       "      user_id  month  mb_used\n",
       "0        1000      5     2256\n",
       "1        1000      6    23257\n",
       "2        1000      7    14016\n",
       "3        1000      8    14070\n",
       "4        1000      9    14581\n",
       "...       ...    ...      ...\n",
       "3198     1498     10    20604\n",
       "3199     1499      9     1848\n",
       "3200     1499     10    17809\n",
       "3201     1499     11    17984\n",
       "3202     1499     12    13077\n",
       "\n",
       "[3203 rows x 3 columns]"
      ]
     },
     "execution_count": 37,
     "metadata": {},
     "output_type": "execute_result"
    }
   ],
   "source": [
    "user_internet = internet.groupby(['user_id', 'month']).agg({'mb_used':'sum'}).reset_index()\n",
    "user_internet"
   ]
  },
  {
   "cell_type": "markdown",
   "metadata": {},
   "source": [
    "### Подсчет помесячной выручки с каждого пользователя"
   ]
  },
  {
   "cell_type": "markdown",
   "metadata": {},
   "source": [
    "Объединяем полученные выше таблицы в одну:"
   ]
  },
  {
   "cell_type": "code",
   "execution_count": 38,
   "metadata": {
    "scrolled": false
   },
   "outputs": [],
   "source": [
    "users_full = user_calls.merge(user_messages, on=['user_id', 'month'], how='outer')\n",
    "users_full = users_full.merge(user_internet, on=['user_id', 'month'], how='outer')"
   ]
  },
  {
   "cell_type": "markdown",
   "metadata": {},
   "source": [
    "Дальше присоединим таблицы пользователей и тарифов:"
   ]
  },
  {
   "cell_type": "code",
   "execution_count": 39,
   "metadata": {},
   "outputs": [],
   "source": [
    "tariffs = tariffs.rename(columns={'tariff_name': 'tariff'})"
   ]
  },
  {
   "cell_type": "code",
   "execution_count": 40,
   "metadata": {},
   "outputs": [
    {
     "data": {
      "text/html": [
       "<div>\n",
       "<style scoped>\n",
       "    .dataframe tbody tr th:only-of-type {\n",
       "        vertical-align: middle;\n",
       "    }\n",
       "\n",
       "    .dataframe tbody tr th {\n",
       "        vertical-align: top;\n",
       "    }\n",
       "\n",
       "    .dataframe thead th {\n",
       "        text-align: right;\n",
       "    }\n",
       "</style>\n",
       "<table border=\"1\" class=\"dataframe\">\n",
       "  <thead>\n",
       "    <tr style=\"text-align: right;\">\n",
       "      <th></th>\n",
       "      <th>user_id</th>\n",
       "      <th>month</th>\n",
       "      <th>calls_duration</th>\n",
       "      <th>calls_count</th>\n",
       "      <th>messages_count</th>\n",
       "      <th>mb_used</th>\n",
       "      <th>age</th>\n",
       "      <th>churn_date</th>\n",
       "      <th>city</th>\n",
       "      <th>first_name</th>\n",
       "      <th>last_name</th>\n",
       "      <th>reg_date</th>\n",
       "      <th>tariff</th>\n",
       "      <th>messages_included</th>\n",
       "      <th>mb_per_month_included</th>\n",
       "      <th>minutes_included</th>\n",
       "      <th>rub_monthly_fee</th>\n",
       "      <th>rub_per_gb</th>\n",
       "      <th>rub_per_message</th>\n",
       "      <th>rub_per_minute</th>\n",
       "    </tr>\n",
       "  </thead>\n",
       "  <tbody>\n",
       "    <tr>\n",
       "      <td>0</td>\n",
       "      <td>1000</td>\n",
       "      <td>5</td>\n",
       "      <td>159.0</td>\n",
       "      <td>22.0</td>\n",
       "      <td>22.0</td>\n",
       "      <td>2256.0</td>\n",
       "      <td>52</td>\n",
       "      <td>NaT</td>\n",
       "      <td>Краснодар</td>\n",
       "      <td>Рафаил</td>\n",
       "      <td>Верещагин</td>\n",
       "      <td>2018-05-25</td>\n",
       "      <td>ultra</td>\n",
       "      <td>1000</td>\n",
       "      <td>30720</td>\n",
       "      <td>3000</td>\n",
       "      <td>1950</td>\n",
       "      <td>150</td>\n",
       "      <td>1</td>\n",
       "      <td>1</td>\n",
       "    </tr>\n",
       "    <tr>\n",
       "      <td>1</td>\n",
       "      <td>1000</td>\n",
       "      <td>6</td>\n",
       "      <td>172.0</td>\n",
       "      <td>43.0</td>\n",
       "      <td>60.0</td>\n",
       "      <td>23257.0</td>\n",
       "      <td>52</td>\n",
       "      <td>NaT</td>\n",
       "      <td>Краснодар</td>\n",
       "      <td>Рафаил</td>\n",
       "      <td>Верещагин</td>\n",
       "      <td>2018-05-25</td>\n",
       "      <td>ultra</td>\n",
       "      <td>1000</td>\n",
       "      <td>30720</td>\n",
       "      <td>3000</td>\n",
       "      <td>1950</td>\n",
       "      <td>150</td>\n",
       "      <td>1</td>\n",
       "      <td>1</td>\n",
       "    </tr>\n",
       "    <tr>\n",
       "      <td>2</td>\n",
       "      <td>1000</td>\n",
       "      <td>7</td>\n",
       "      <td>340.0</td>\n",
       "      <td>47.0</td>\n",
       "      <td>75.0</td>\n",
       "      <td>14016.0</td>\n",
       "      <td>52</td>\n",
       "      <td>NaT</td>\n",
       "      <td>Краснодар</td>\n",
       "      <td>Рафаил</td>\n",
       "      <td>Верещагин</td>\n",
       "      <td>2018-05-25</td>\n",
       "      <td>ultra</td>\n",
       "      <td>1000</td>\n",
       "      <td>30720</td>\n",
       "      <td>3000</td>\n",
       "      <td>1950</td>\n",
       "      <td>150</td>\n",
       "      <td>1</td>\n",
       "      <td>1</td>\n",
       "    </tr>\n",
       "    <tr>\n",
       "      <td>3</td>\n",
       "      <td>1000</td>\n",
       "      <td>8</td>\n",
       "      <td>408.0</td>\n",
       "      <td>52.0</td>\n",
       "      <td>81.0</td>\n",
       "      <td>14070.0</td>\n",
       "      <td>52</td>\n",
       "      <td>NaT</td>\n",
       "      <td>Краснодар</td>\n",
       "      <td>Рафаил</td>\n",
       "      <td>Верещагин</td>\n",
       "      <td>2018-05-25</td>\n",
       "      <td>ultra</td>\n",
       "      <td>1000</td>\n",
       "      <td>30720</td>\n",
       "      <td>3000</td>\n",
       "      <td>1950</td>\n",
       "      <td>150</td>\n",
       "      <td>1</td>\n",
       "      <td>1</td>\n",
       "    </tr>\n",
       "    <tr>\n",
       "      <td>4</td>\n",
       "      <td>1000</td>\n",
       "      <td>9</td>\n",
       "      <td>466.0</td>\n",
       "      <td>58.0</td>\n",
       "      <td>57.0</td>\n",
       "      <td>14581.0</td>\n",
       "      <td>52</td>\n",
       "      <td>NaT</td>\n",
       "      <td>Краснодар</td>\n",
       "      <td>Рафаил</td>\n",
       "      <td>Верещагин</td>\n",
       "      <td>2018-05-25</td>\n",
       "      <td>ultra</td>\n",
       "      <td>1000</td>\n",
       "      <td>30720</td>\n",
       "      <td>3000</td>\n",
       "      <td>1950</td>\n",
       "      <td>150</td>\n",
       "      <td>1</td>\n",
       "      <td>1</td>\n",
       "    </tr>\n",
       "    <tr>\n",
       "      <td>...</td>\n",
       "      <td>...</td>\n",
       "      <td>...</td>\n",
       "      <td>...</td>\n",
       "      <td>...</td>\n",
       "      <td>...</td>\n",
       "      <td>...</td>\n",
       "      <td>...</td>\n",
       "      <td>...</td>\n",
       "      <td>...</td>\n",
       "      <td>...</td>\n",
       "      <td>...</td>\n",
       "      <td>...</td>\n",
       "      <td>...</td>\n",
       "      <td>...</td>\n",
       "      <td>...</td>\n",
       "      <td>...</td>\n",
       "      <td>...</td>\n",
       "      <td>...</td>\n",
       "      <td>...</td>\n",
       "      <td>...</td>\n",
       "    </tr>\n",
       "    <tr>\n",
       "      <td>3209</td>\n",
       "      <td>1489</td>\n",
       "      <td>9</td>\n",
       "      <td>NaN</td>\n",
       "      <td>NaN</td>\n",
       "      <td>32.0</td>\n",
       "      <td>17232.0</td>\n",
       "      <td>35</td>\n",
       "      <td>NaT</td>\n",
       "      <td>Санкт-петербург</td>\n",
       "      <td>Павел</td>\n",
       "      <td>Гончаров</td>\n",
       "      <td>2018-08-15</td>\n",
       "      <td>smart</td>\n",
       "      <td>50</td>\n",
       "      <td>15360</td>\n",
       "      <td>500</td>\n",
       "      <td>550</td>\n",
       "      <td>200</td>\n",
       "      <td>3</td>\n",
       "      <td>3</td>\n",
       "    </tr>\n",
       "    <tr>\n",
       "      <td>3210</td>\n",
       "      <td>1489</td>\n",
       "      <td>10</td>\n",
       "      <td>NaN</td>\n",
       "      <td>NaN</td>\n",
       "      <td>21.0</td>\n",
       "      <td>19588.0</td>\n",
       "      <td>35</td>\n",
       "      <td>NaT</td>\n",
       "      <td>Санкт-петербург</td>\n",
       "      <td>Павел</td>\n",
       "      <td>Гончаров</td>\n",
       "      <td>2018-08-15</td>\n",
       "      <td>smart</td>\n",
       "      <td>50</td>\n",
       "      <td>15360</td>\n",
       "      <td>500</td>\n",
       "      <td>550</td>\n",
       "      <td>200</td>\n",
       "      <td>3</td>\n",
       "      <td>3</td>\n",
       "    </tr>\n",
       "    <tr>\n",
       "      <td>3211</td>\n",
       "      <td>1489</td>\n",
       "      <td>11</td>\n",
       "      <td>NaN</td>\n",
       "      <td>NaN</td>\n",
       "      <td>20.0</td>\n",
       "      <td>17516.0</td>\n",
       "      <td>35</td>\n",
       "      <td>NaT</td>\n",
       "      <td>Санкт-петербург</td>\n",
       "      <td>Павел</td>\n",
       "      <td>Гончаров</td>\n",
       "      <td>2018-08-15</td>\n",
       "      <td>smart</td>\n",
       "      <td>50</td>\n",
       "      <td>15360</td>\n",
       "      <td>500</td>\n",
       "      <td>550</td>\n",
       "      <td>200</td>\n",
       "      <td>3</td>\n",
       "      <td>3</td>\n",
       "    </tr>\n",
       "    <tr>\n",
       "      <td>3212</td>\n",
       "      <td>1489</td>\n",
       "      <td>12</td>\n",
       "      <td>NaN</td>\n",
       "      <td>NaN</td>\n",
       "      <td>35.0</td>\n",
       "      <td>17341.0</td>\n",
       "      <td>35</td>\n",
       "      <td>NaT</td>\n",
       "      <td>Санкт-петербург</td>\n",
       "      <td>Павел</td>\n",
       "      <td>Гончаров</td>\n",
       "      <td>2018-08-15</td>\n",
       "      <td>smart</td>\n",
       "      <td>50</td>\n",
       "      <td>15360</td>\n",
       "      <td>500</td>\n",
       "      <td>550</td>\n",
       "      <td>200</td>\n",
       "      <td>3</td>\n",
       "      <td>3</td>\n",
       "    </tr>\n",
       "    <tr>\n",
       "      <td>3213</td>\n",
       "      <td>1476</td>\n",
       "      <td>4</td>\n",
       "      <td>NaN</td>\n",
       "      <td>NaN</td>\n",
       "      <td>NaN</td>\n",
       "      <td>531.0</td>\n",
       "      <td>50</td>\n",
       "      <td>NaT</td>\n",
       "      <td>Москва</td>\n",
       "      <td>Валентина</td>\n",
       "      <td>Семенова</td>\n",
       "      <td>2018-04-30</td>\n",
       "      <td>ultra</td>\n",
       "      <td>1000</td>\n",
       "      <td>30720</td>\n",
       "      <td>3000</td>\n",
       "      <td>1950</td>\n",
       "      <td>150</td>\n",
       "      <td>1</td>\n",
       "      <td>1</td>\n",
       "    </tr>\n",
       "  </tbody>\n",
       "</table>\n",
       "<p>3214 rows × 20 columns</p>\n",
       "</div>"
      ],
      "text/plain": [
       "      user_id  month  calls_duration  calls_count  messages_count  mb_used  \\\n",
       "0        1000      5           159.0         22.0            22.0   2256.0   \n",
       "1        1000      6           172.0         43.0            60.0  23257.0   \n",
       "2        1000      7           340.0         47.0            75.0  14016.0   \n",
       "3        1000      8           408.0         52.0            81.0  14070.0   \n",
       "4        1000      9           466.0         58.0            57.0  14581.0   \n",
       "...       ...    ...             ...          ...             ...      ...   \n",
       "3209     1489      9             NaN          NaN            32.0  17232.0   \n",
       "3210     1489     10             NaN          NaN            21.0  19588.0   \n",
       "3211     1489     11             NaN          NaN            20.0  17516.0   \n",
       "3212     1489     12             NaN          NaN            35.0  17341.0   \n",
       "3213     1476      4             NaN          NaN             NaN    531.0   \n",
       "\n",
       "      age churn_date             city first_name  last_name   reg_date tariff  \\\n",
       "0      52        NaT        Краснодар     Рафаил  Верещагин 2018-05-25  ultra   \n",
       "1      52        NaT        Краснодар     Рафаил  Верещагин 2018-05-25  ultra   \n",
       "2      52        NaT        Краснодар     Рафаил  Верещагин 2018-05-25  ultra   \n",
       "3      52        NaT        Краснодар     Рафаил  Верещагин 2018-05-25  ultra   \n",
       "4      52        NaT        Краснодар     Рафаил  Верещагин 2018-05-25  ultra   \n",
       "...   ...        ...              ...        ...        ...        ...    ...   \n",
       "3209   35        NaT  Санкт-петербург      Павел   Гончаров 2018-08-15  smart   \n",
       "3210   35        NaT  Санкт-петербург      Павел   Гончаров 2018-08-15  smart   \n",
       "3211   35        NaT  Санкт-петербург      Павел   Гончаров 2018-08-15  smart   \n",
       "3212   35        NaT  Санкт-петербург      Павел   Гончаров 2018-08-15  smart   \n",
       "3213   50        NaT           Москва  Валентина   Семенова 2018-04-30  ultra   \n",
       "\n",
       "      messages_included  mb_per_month_included  minutes_included  \\\n",
       "0                  1000                  30720              3000   \n",
       "1                  1000                  30720              3000   \n",
       "2                  1000                  30720              3000   \n",
       "3                  1000                  30720              3000   \n",
       "4                  1000                  30720              3000   \n",
       "...                 ...                    ...               ...   \n",
       "3209                 50                  15360               500   \n",
       "3210                 50                  15360               500   \n",
       "3211                 50                  15360               500   \n",
       "3212                 50                  15360               500   \n",
       "3213               1000                  30720              3000   \n",
       "\n",
       "      rub_monthly_fee  rub_per_gb  rub_per_message  rub_per_minute  \n",
       "0                1950         150                1               1  \n",
       "1                1950         150                1               1  \n",
       "2                1950         150                1               1  \n",
       "3                1950         150                1               1  \n",
       "4                1950         150                1               1  \n",
       "...               ...         ...              ...             ...  \n",
       "3209              550         200                3               3  \n",
       "3210              550         200                3               3  \n",
       "3211              550         200                3               3  \n",
       "3212              550         200                3               3  \n",
       "3213             1950         150                1               1  \n",
       "\n",
       "[3214 rows x 20 columns]"
      ]
     },
     "execution_count": 40,
     "metadata": {},
     "output_type": "execute_result"
    }
   ],
   "source": [
    "users_full = users_full.merge(users, on='user_id', how='left')\n",
    "users_full = users_full.merge(tariffs, on='tariff', how='left')\n",
    "users_full"
   ]
  },
  {
   "cell_type": "markdown",
   "metadata": {},
   "source": [
    "Проверим наличие пропусков, заполним их нулями (исходя из того, что в какие-то месяцы пользователи не делали звонков, не отправляли сообщения или не расходовали трафик)"
   ]
  },
  {
   "cell_type": "code",
   "execution_count": 41,
   "metadata": {},
   "outputs": [
    {
     "data": {
      "text/plain": [
       "user_id                     0\n",
       "month                       0\n",
       "calls_duration             40\n",
       "calls_count                40\n",
       "messages_count            497\n",
       "mb_used                    11\n",
       "age                         0\n",
       "churn_date               3027\n",
       "city                        0\n",
       "first_name                  0\n",
       "last_name                   0\n",
       "reg_date                    0\n",
       "tariff                      0\n",
       "messages_included           0\n",
       "mb_per_month_included       0\n",
       "minutes_included            0\n",
       "rub_monthly_fee             0\n",
       "rub_per_gb                  0\n",
       "rub_per_message             0\n",
       "rub_per_minute              0\n",
       "dtype: int64"
      ]
     },
     "execution_count": 41,
     "metadata": {},
     "output_type": "execute_result"
    }
   ],
   "source": [
    "users_full.isnull().sum()"
   ]
  },
  {
   "cell_type": "code",
   "execution_count": 42,
   "metadata": {},
   "outputs": [
    {
     "data": {
      "text/plain": [
       "user_id                     0\n",
       "month                       0\n",
       "calls_duration              0\n",
       "calls_count                 0\n",
       "messages_count              0\n",
       "mb_used                     0\n",
       "age                         0\n",
       "churn_date               3027\n",
       "city                        0\n",
       "first_name                  0\n",
       "last_name                   0\n",
       "reg_date                    0\n",
       "tariff                      0\n",
       "messages_included           0\n",
       "mb_per_month_included       0\n",
       "minutes_included            0\n",
       "rub_monthly_fee             0\n",
       "rub_per_gb                  0\n",
       "rub_per_message             0\n",
       "rub_per_minute              0\n",
       "dtype: int64"
      ]
     },
     "execution_count": 42,
     "metadata": {},
     "output_type": "execute_result"
    }
   ],
   "source": [
    "users_full['calls_duration'].fillna(0, inplace=True)\n",
    "users_full['calls_count'].fillna(0, inplace=True)\n",
    "users_full['messages_count'].fillna(0, inplace=True)\n",
    "users_full['mb_used'].fillna(0, inplace=True)\n",
    "users_full.isnull().sum()"
   ]
  },
  {
   "cell_type": "markdown",
   "metadata": {},
   "source": [
    "Напишем функцию для подсчета выручки с каждого пользователя:"
   ]
  },
  {
   "cell_type": "code",
   "execution_count": 43,
   "metadata": {},
   "outputs": [],
   "source": [
    "def get_revenue(row):\n",
    "    calls_count = row['calls_count']\n",
    "    calls_duration = row['calls_duration']\n",
    "    mb_used = row['mb_used']\n",
    "    messages_count = row['messages_count']\n",
    "    tariff = row['tariff']\n",
    "    \n",
    "    # переменные для лимитов и стоимости\n",
    "    mb_included = int(tariffs.loc[tariffs.loc[:,'tariff'] == tariff]['mb_per_month_included'])\n",
    "    msgs_included = int(tariffs.loc[tariffs.loc[:,'tariff'] == tariff]['messages_included'])\n",
    "    mins_included = int(tariffs.loc[tariffs.loc[:,'tariff'] == tariff]['minutes_included'])\n",
    "    monthly_fee = int(tariffs.loc[tariffs.loc[:,'tariff'] == tariff]['rub_monthly_fee'])\n",
    "    gb_price = int(tariffs.loc[tariffs.loc[:,'tariff'] == tariff]['rub_per_gb'])\n",
    "    msg_price = int(tariffs.loc[tariffs.loc[:,'tariff'] == tariff]['rub_per_message'])\n",
    "    min_price = int(tariffs.loc[tariffs.loc[:,'tariff'] == tariff]['rub_per_minute'])\n",
    "    \n",
    "    # переменные для перерасхода\n",
    "    over_mb = 0             \n",
    "    over_msgs = 0          \n",
    "    over_calls = 0          \n",
    "    \n",
    "    # т.к. дополнительные пакеты трафика покупаются гигабайтами, разделим количество перерасходованных Мб на 1024 и округлим до большего\n",
    "    if mb_used > mb_included:\n",
    "        over_mb = np.ceil((mb_used - mb_included) / 1024) * gb_price\n",
    "    \n",
    "    if calls_duration > mins_included:\n",
    "        over_calls = (calls_duration - mins_included) * min_price\n",
    "        \n",
    "    if messages_count > msgs_included:\n",
    "        over_msg = (messages_count - msgs_included) * msg_price \n",
    "    \n",
    "    # суммарная выручка с пользователя\n",
    "    return over_mb + over_msgs + over_calls + monthly_fee"
   ]
  },
  {
   "cell_type": "markdown",
   "metadata": {},
   "source": [
    "Добавим в таблицу `users_full` новый столбец с выручкой:"
   ]
  },
  {
   "cell_type": "code",
   "execution_count": 44,
   "metadata": {},
   "outputs": [],
   "source": [
    "users_full['total_revenue'] = users_full.apply(get_revenue, axis = 1)"
   ]
  },
  {
   "cell_type": "markdown",
   "metadata": {},
   "source": [
    "Чтобы проверить результат, посмотрим на 5 случайных строк таблицы:"
   ]
  },
  {
   "cell_type": "code",
   "execution_count": 45,
   "metadata": {},
   "outputs": [
    {
     "data": {
      "text/html": [
       "<div>\n",
       "<style scoped>\n",
       "    .dataframe tbody tr th:only-of-type {\n",
       "        vertical-align: middle;\n",
       "    }\n",
       "\n",
       "    .dataframe tbody tr th {\n",
       "        vertical-align: top;\n",
       "    }\n",
       "\n",
       "    .dataframe thead th {\n",
       "        text-align: right;\n",
       "    }\n",
       "</style>\n",
       "<table border=\"1\" class=\"dataframe\">\n",
       "  <thead>\n",
       "    <tr style=\"text-align: right;\">\n",
       "      <th></th>\n",
       "      <th>user_id</th>\n",
       "      <th>month</th>\n",
       "      <th>calls_duration</th>\n",
       "      <th>calls_count</th>\n",
       "      <th>messages_count</th>\n",
       "      <th>mb_used</th>\n",
       "      <th>age</th>\n",
       "      <th>churn_date</th>\n",
       "      <th>city</th>\n",
       "      <th>first_name</th>\n",
       "      <th>...</th>\n",
       "      <th>reg_date</th>\n",
       "      <th>tariff</th>\n",
       "      <th>messages_included</th>\n",
       "      <th>mb_per_month_included</th>\n",
       "      <th>minutes_included</th>\n",
       "      <th>rub_monthly_fee</th>\n",
       "      <th>rub_per_gb</th>\n",
       "      <th>rub_per_message</th>\n",
       "      <th>rub_per_minute</th>\n",
       "      <th>total_revenue</th>\n",
       "    </tr>\n",
       "  </thead>\n",
       "  <tbody>\n",
       "    <tr>\n",
       "      <td>1236</td>\n",
       "      <td>1196</td>\n",
       "      <td>5</td>\n",
       "      <td>164.0</td>\n",
       "      <td>22.0</td>\n",
       "      <td>24.0</td>\n",
       "      <td>3810.0</td>\n",
       "      <td>25</td>\n",
       "      <td>NaT</td>\n",
       "      <td>Воронеж</td>\n",
       "      <td>Фёдор</td>\n",
       "      <td>...</td>\n",
       "      <td>2018-05-28</td>\n",
       "      <td>ultra</td>\n",
       "      <td>1000</td>\n",
       "      <td>30720</td>\n",
       "      <td>3000</td>\n",
       "      <td>1950</td>\n",
       "      <td>150</td>\n",
       "      <td>1</td>\n",
       "      <td>1</td>\n",
       "      <td>1950.0</td>\n",
       "    </tr>\n",
       "    <tr>\n",
       "      <td>1562</td>\n",
       "      <td>1250</td>\n",
       "      <td>8</td>\n",
       "      <td>402.0</td>\n",
       "      <td>65.0</td>\n",
       "      <td>40.0</td>\n",
       "      <td>12076.0</td>\n",
       "      <td>20</td>\n",
       "      <td>NaT</td>\n",
       "      <td>Смоленск</td>\n",
       "      <td>Лия</td>\n",
       "      <td>...</td>\n",
       "      <td>2018-04-11</td>\n",
       "      <td>smart</td>\n",
       "      <td>50</td>\n",
       "      <td>15360</td>\n",
       "      <td>500</td>\n",
       "      <td>550</td>\n",
       "      <td>200</td>\n",
       "      <td>3</td>\n",
       "      <td>3</td>\n",
       "      <td>550.0</td>\n",
       "    </tr>\n",
       "    <tr>\n",
       "      <td>285</td>\n",
       "      <td>1045</td>\n",
       "      <td>11</td>\n",
       "      <td>273.0</td>\n",
       "      <td>35.0</td>\n",
       "      <td>71.0</td>\n",
       "      <td>23343.0</td>\n",
       "      <td>48</td>\n",
       "      <td>NaT</td>\n",
       "      <td>Улан-удэ</td>\n",
       "      <td>Джемма</td>\n",
       "      <td>...</td>\n",
       "      <td>2018-01-30</td>\n",
       "      <td>smart</td>\n",
       "      <td>50</td>\n",
       "      <td>15360</td>\n",
       "      <td>500</td>\n",
       "      <td>550</td>\n",
       "      <td>200</td>\n",
       "      <td>3</td>\n",
       "      <td>3</td>\n",
       "      <td>2150.0</td>\n",
       "    </tr>\n",
       "    <tr>\n",
       "      <td>3045</td>\n",
       "      <td>1477</td>\n",
       "      <td>11</td>\n",
       "      <td>531.0</td>\n",
       "      <td>89.0</td>\n",
       "      <td>71.0</td>\n",
       "      <td>27980.0</td>\n",
       "      <td>70</td>\n",
       "      <td>NaT</td>\n",
       "      <td>Набережные челны</td>\n",
       "      <td>Геральд</td>\n",
       "      <td>...</td>\n",
       "      <td>2018-04-24</td>\n",
       "      <td>smart</td>\n",
       "      <td>50</td>\n",
       "      <td>15360</td>\n",
       "      <td>500</td>\n",
       "      <td>550</td>\n",
       "      <td>200</td>\n",
       "      <td>3</td>\n",
       "      <td>3</td>\n",
       "      <td>3243.0</td>\n",
       "    </tr>\n",
       "    <tr>\n",
       "      <td>1747</td>\n",
       "      <td>1280</td>\n",
       "      <td>12</td>\n",
       "      <td>479.0</td>\n",
       "      <td>85.0</td>\n",
       "      <td>51.0</td>\n",
       "      <td>19813.0</td>\n",
       "      <td>53</td>\n",
       "      <td>NaT</td>\n",
       "      <td>Астрахань</td>\n",
       "      <td>Артемий</td>\n",
       "      <td>...</td>\n",
       "      <td>2018-07-18</td>\n",
       "      <td>smart</td>\n",
       "      <td>50</td>\n",
       "      <td>15360</td>\n",
       "      <td>500</td>\n",
       "      <td>550</td>\n",
       "      <td>200</td>\n",
       "      <td>3</td>\n",
       "      <td>3</td>\n",
       "      <td>1550.0</td>\n",
       "    </tr>\n",
       "  </tbody>\n",
       "</table>\n",
       "<p>5 rows × 21 columns</p>\n",
       "</div>"
      ],
      "text/plain": [
       "      user_id  month  calls_duration  calls_count  messages_count  mb_used  \\\n",
       "1236     1196      5           164.0         22.0            24.0   3810.0   \n",
       "1562     1250      8           402.0         65.0            40.0  12076.0   \n",
       "285      1045     11           273.0         35.0            71.0  23343.0   \n",
       "3045     1477     11           531.0         89.0            71.0  27980.0   \n",
       "1747     1280     12           479.0         85.0            51.0  19813.0   \n",
       "\n",
       "      age churn_date              city first_name  ...   reg_date tariff  \\\n",
       "1236   25        NaT           Воронеж      Фёдор  ... 2018-05-28  ultra   \n",
       "1562   20        NaT          Смоленск        Лия  ... 2018-04-11  smart   \n",
       "285    48        NaT          Улан-удэ     Джемма  ... 2018-01-30  smart   \n",
       "3045   70        NaT  Набережные челны    Геральд  ... 2018-04-24  smart   \n",
       "1747   53        NaT         Астрахань    Артемий  ... 2018-07-18  smart   \n",
       "\n",
       "     messages_included  mb_per_month_included  minutes_included  \\\n",
       "1236              1000                  30720              3000   \n",
       "1562                50                  15360               500   \n",
       "285                 50                  15360               500   \n",
       "3045                50                  15360               500   \n",
       "1747                50                  15360               500   \n",
       "\n",
       "      rub_monthly_fee  rub_per_gb  rub_per_message  rub_per_minute  \\\n",
       "1236             1950         150                1               1   \n",
       "1562              550         200                3               3   \n",
       "285               550         200                3               3   \n",
       "3045              550         200                3               3   \n",
       "1747              550         200                3               3   \n",
       "\n",
       "      total_revenue  \n",
       "1236         1950.0  \n",
       "1562          550.0  \n",
       "285          2150.0  \n",
       "3045         3243.0  \n",
       "1747         1550.0  \n",
       "\n",
       "[5 rows x 21 columns]"
      ]
     },
     "execution_count": 45,
     "metadata": {},
     "output_type": "execute_result"
    }
   ],
   "source": [
    "users_full.sample(5)"
   ]
  },
  {
   "cell_type": "markdown",
   "metadata": {},
   "source": [
    "### Вывод"
   ]
  },
  {
   "cell_type": "markdown",
   "metadata": {},
   "source": [
    "- Изменен тип данных на datetime для всех столбцов с датами\n",
    "- Для минут разговора и потраченного трафика было произведено округление в большую сторону\n",
    "- Удален лишний столбец из таблицы `internet`\n",
    "- Добавлены столбцы со месяцем в таблицы `calls`, `internet`, `messages`\n",
    "- Создана общая таблица с посчитанными количеством и продолжительностью звонков, количеством отправленных сообщений и израсходованного трафика для каждого пользователя по месяцам\n",
    "- Рассчитана ежемесячная выручка с каждого пользователя"
   ]
  },
  {
   "cell_type": "markdown",
   "metadata": {},
   "source": [
    "## Анализ данных"
   ]
  },
  {
   "cell_type": "markdown",
   "metadata": {},
   "source": [
    "### Потребности пользователей каждого тарифа в месяц"
   ]
  },
  {
   "cell_type": "markdown",
   "metadata": {},
   "source": [
    "Узнаем, сколько минут разговора, сколько сообщений и какой объём интернет-трафика в среднем в месяц требуется пользователям каждого тарифа:"
   ]
  },
  {
   "cell_type": "code",
   "execution_count": 46,
   "metadata": {},
   "outputs": [
    {
     "data": {
      "text/html": [
       "<div>\n",
       "<style scoped>\n",
       "    .dataframe tbody tr th:only-of-type {\n",
       "        vertical-align: middle;\n",
       "    }\n",
       "\n",
       "    .dataframe tbody tr th {\n",
       "        vertical-align: top;\n",
       "    }\n",
       "\n",
       "    .dataframe thead th {\n",
       "        text-align: right;\n",
       "    }\n",
       "</style>\n",
       "<table border=\"1\" class=\"dataframe\">\n",
       "  <thead>\n",
       "    <tr style=\"text-align: right;\">\n",
       "      <th></th>\n",
       "      <th>calls_duration</th>\n",
       "      <th>mb_used</th>\n",
       "      <th>messages_count</th>\n",
       "      <th>tariff</th>\n",
       "    </tr>\n",
       "    <tr>\n",
       "      <th>user_id</th>\n",
       "      <th></th>\n",
       "      <th></th>\n",
       "      <th></th>\n",
       "      <th></th>\n",
       "    </tr>\n",
       "  </thead>\n",
       "  <tbody>\n",
       "    <tr>\n",
       "      <td>1000</td>\n",
       "      <td>339.0</td>\n",
       "      <td>14325.5</td>\n",
       "      <td>65.0</td>\n",
       "      <td>ultra</td>\n",
       "    </tr>\n",
       "    <tr>\n",
       "      <td>1001</td>\n",
       "      <td>422.0</td>\n",
       "      <td>16252.5</td>\n",
       "      <td>0.0</td>\n",
       "      <td>smart</td>\n",
       "    </tr>\n",
       "    <tr>\n",
       "      <td>1002</td>\n",
       "      <td>214.0</td>\n",
       "      <td>17601.0</td>\n",
       "      <td>11.0</td>\n",
       "      <td>smart</td>\n",
       "    </tr>\n",
       "    <tr>\n",
       "      <td>1003</td>\n",
       "      <td>824.0</td>\n",
       "      <td>11368.0</td>\n",
       "      <td>83.0</td>\n",
       "      <td>ultra</td>\n",
       "    </tr>\n",
       "    <tr>\n",
       "      <td>1004</td>\n",
       "      <td>132.5</td>\n",
       "      <td>17828.5</td>\n",
       "      <td>154.5</td>\n",
       "      <td>ultra</td>\n",
       "    </tr>\n",
       "    <tr>\n",
       "      <td>...</td>\n",
       "      <td>...</td>\n",
       "      <td>...</td>\n",
       "      <td>...</td>\n",
       "      <td>...</td>\n",
       "    </tr>\n",
       "    <tr>\n",
       "      <td>1495</td>\n",
       "      <td>954.0</td>\n",
       "      <td>29393.0</td>\n",
       "      <td>82.0</td>\n",
       "      <td>ultra</td>\n",
       "    </tr>\n",
       "    <tr>\n",
       "      <td>1496</td>\n",
       "      <td>524.0</td>\n",
       "      <td>24067.5</td>\n",
       "      <td>41.5</td>\n",
       "      <td>smart</td>\n",
       "    </tr>\n",
       "    <tr>\n",
       "      <td>1497</td>\n",
       "      <td>490.0</td>\n",
       "      <td>14174.0</td>\n",
       "      <td>17.0</td>\n",
       "      <td>smart</td>\n",
       "    </tr>\n",
       "    <tr>\n",
       "      <td>1498</td>\n",
       "      <td>323.5</td>\n",
       "      <td>21385.0</td>\n",
       "      <td>43.0</td>\n",
       "      <td>smart</td>\n",
       "    </tr>\n",
       "    <tr>\n",
       "      <td>1499</td>\n",
       "      <td>470.5</td>\n",
       "      <td>15443.0</td>\n",
       "      <td>53.5</td>\n",
       "      <td>smart</td>\n",
       "    </tr>\n",
       "  </tbody>\n",
       "</table>\n",
       "<p>500 rows × 4 columns</p>\n",
       "</div>"
      ],
      "text/plain": [
       "         calls_duration  mb_used  messages_count tariff\n",
       "user_id                                                \n",
       "1000              339.0  14325.5            65.0  ultra\n",
       "1001              422.0  16252.5             0.0  smart\n",
       "1002              214.0  17601.0            11.0  smart\n",
       "1003              824.0  11368.0            83.0  ultra\n",
       "1004              132.5  17828.5           154.5  ultra\n",
       "...                 ...      ...             ...    ...\n",
       "1495              954.0  29393.0            82.0  ultra\n",
       "1496              524.0  24067.5            41.5  smart\n",
       "1497              490.0  14174.0            17.0  smart\n",
       "1498              323.5  21385.0            43.0  smart\n",
       "1499              470.5  15443.0            53.5  smart\n",
       "\n",
       "[500 rows x 4 columns]"
      ]
     },
     "execution_count": 46,
     "metadata": {},
     "output_type": "execute_result"
    }
   ],
   "source": [
    "monthly_medians = users_full.pivot_table(index='user_id', values=['calls_duration', 'mb_used', 'messages_count'], aggfunc='median')\n",
    "monthly_medians = monthly_medians.join(users.loc[:,['user_id', 'tariff']].set_index('user_id'), how='outer')\n",
    "monthly_medians"
   ]
  },
  {
   "cell_type": "markdown",
   "metadata": {},
   "source": [
    "### Диаграммы размаха, гистограммы, описание распределений"
   ]
  },
  {
   "cell_type": "markdown",
   "metadata": {},
   "source": [
    "Посчитаем среднее, медиану, стандартное отклонение и дисперсию:"
   ]
  },
  {
   "cell_type": "code",
   "execution_count": 47,
   "metadata": {},
   "outputs": [
    {
     "data": {
      "text/html": [
       "<div>\n",
       "<style scoped>\n",
       "    .dataframe tbody tr th:only-of-type {\n",
       "        vertical-align: middle;\n",
       "    }\n",
       "\n",
       "    .dataframe tbody tr th {\n",
       "        vertical-align: top;\n",
       "    }\n",
       "\n",
       "    .dataframe thead tr th {\n",
       "        text-align: left;\n",
       "    }\n",
       "\n",
       "    .dataframe thead tr:last-of-type th {\n",
       "        text-align: right;\n",
       "    }\n",
       "</style>\n",
       "<table border=\"1\" class=\"dataframe\">\n",
       "  <thead>\n",
       "    <tr>\n",
       "      <th></th>\n",
       "      <th colspan=\"4\" halign=\"left\">calls_duration</th>\n",
       "      <th colspan=\"4\" halign=\"left\">mb_used</th>\n",
       "      <th colspan=\"4\" halign=\"left\">messages_count</th>\n",
       "    </tr>\n",
       "    <tr>\n",
       "      <th></th>\n",
       "      <th>mean</th>\n",
       "      <th>median</th>\n",
       "      <th>std</th>\n",
       "      <th>var</th>\n",
       "      <th>mean</th>\n",
       "      <th>median</th>\n",
       "      <th>std</th>\n",
       "      <th>var</th>\n",
       "      <th>mean</th>\n",
       "      <th>median</th>\n",
       "      <th>std</th>\n",
       "      <th>var</th>\n",
       "    </tr>\n",
       "    <tr>\n",
       "      <th>tariff</th>\n",
       "      <th></th>\n",
       "      <th></th>\n",
       "      <th></th>\n",
       "      <th></th>\n",
       "      <th></th>\n",
       "      <th></th>\n",
       "      <th></th>\n",
       "      <th></th>\n",
       "      <th></th>\n",
       "      <th></th>\n",
       "      <th></th>\n",
       "      <th></th>\n",
       "    </tr>\n",
       "  </thead>\n",
       "  <tbody>\n",
       "    <tr>\n",
       "      <td>smart</td>\n",
       "      <td>418.0</td>\n",
       "      <td>422.0</td>\n",
       "      <td>190.0</td>\n",
       "      <td>36219.0</td>\n",
       "      <td>16229.0</td>\n",
       "      <td>16531.0</td>\n",
       "      <td>5878.0</td>\n",
       "      <td>34545911.0</td>\n",
       "      <td>33.0</td>\n",
       "      <td>28.0</td>\n",
       "      <td>28.0</td>\n",
       "      <td>797.0</td>\n",
       "    </tr>\n",
       "    <tr>\n",
       "      <td>ultra</td>\n",
       "      <td>527.0</td>\n",
       "      <td>518.0</td>\n",
       "      <td>318.0</td>\n",
       "      <td>100874.0</td>\n",
       "      <td>19487.0</td>\n",
       "      <td>19324.0</td>\n",
       "      <td>10096.0</td>\n",
       "      <td>101935621.0</td>\n",
       "      <td>49.0</td>\n",
       "      <td>38.0</td>\n",
       "      <td>48.0</td>\n",
       "      <td>2285.0</td>\n",
       "    </tr>\n",
       "  </tbody>\n",
       "</table>\n",
       "</div>"
      ],
      "text/plain": [
       "       calls_duration                          mb_used                    \\\n",
       "                 mean median    std       var     mean   median      std   \n",
       "tariff                                                                     \n",
       "smart           418.0  422.0  190.0   36219.0  16229.0  16531.0   5878.0   \n",
       "ultra           527.0  518.0  318.0  100874.0  19487.0  19324.0  10096.0   \n",
       "\n",
       "                    messages_count                       \n",
       "                var           mean median   std     var  \n",
       "tariff                                                   \n",
       "smart    34545911.0           33.0   28.0  28.0   797.0  \n",
       "ultra   101935621.0           49.0   38.0  48.0  2285.0  "
      ]
     },
     "execution_count": 47,
     "metadata": {},
     "output_type": "execute_result"
    }
   ],
   "source": [
    "statistics = users_full.pivot_table(index=['tariff'], values=['calls_duration', 'mb_used', 'messages_count'], \n",
    "                    aggfunc={'calls_duration': [np.mean, np.median, np.var, np.std], \n",
    "                             'mb_used': [np.mean, np.median, np.var, np.std], \n",
    "                             'messages_count': [np.mean, np.median, np.var, np.std]}).round()\n",
    "statistics"
   ]
  },
  {
   "cell_type": "markdown",
   "metadata": {},
   "source": [
    "Построим диаграммы размаха:"
   ]
  },
  {
   "cell_type": "code",
   "execution_count": 48,
   "metadata": {},
   "outputs": [
    {
     "data": {
      "image/png": "[encoded data removed]",
      "text/plain": [
       "<Figure size 360x360 with 1 Axes>"
      ]
     },
     "metadata": {},
     "output_type": "display_data"
    },
    {
     "data": {
      "image/png": "[encoded data removed]",
      "text/plain": [
       "<Figure size 360x360 with 1 Axes>"
      ]
     },
     "metadata": {},
     "output_type": "display_data"
    },
    {
     "data": {
      "image/png": "[encoded data removed]",
      "text/plain": [
       "<Figure size 360x360 with 1 Axes>"
      ]
     },
     "metadata": {},
     "output_type": "display_data"
    }
   ],
   "source": [
    "for column in ['calls_duration', 'mb_used', 'messages_count']:\n",
    "    sns.set_style(\"whitegrid\")\n",
    "    sns.catplot(x='tariff', y=column, data=users_full, kind='box')\n",
    "    plt.title(column)"
   ]
  },
  {
   "cell_type": "markdown",
   "metadata": {},
   "source": [
    "**Вывод:** Диаграммы размаха показывают, что минуты разговора, количество сообщений и объем трафика по тарифу «Ультра» имеют большую дисперсию, чем по тарифу «Смарт». Медианные значения также выше, а еще по по тарифу «Ультра» наблюдается меньшая плотность выбросов."
   ]
  },
  {
   "cell_type": "markdown",
   "metadata": {},
   "source": [
    "Построим гистограммы:"
   ]
  },
  {
   "cell_type": "code",
   "execution_count": 49,
   "metadata": {},
   "outputs": [
    {
     "data": {
      "image/png": "[encoded data removed]",
      "text/plain": [
       "<Figure size 432x288 with 1 Axes>"
      ]
     },
     "metadata": {},
     "output_type": "display_data"
    }
   ],
   "source": [
    "for tariff in ['ultra', 'smart']:\n",
    "    sns.distplot(users_full.query('tariff == @tariff')['calls_duration'], kde=False, label=tariff)\n",
    "    plt.legend(['ultra', 'smart'])"
   ]
  },
  {
   "cell_type": "code",
   "execution_count": 50,
   "metadata": {
    "scrolled": false
   },
   "outputs": [
    {
     "data": {
      "image/png": "[encoded data removed]",
      "text/plain": [
       "<Figure size 432x288 with 1 Axes>"
      ]
     },
     "metadata": {},
     "output_type": "display_data"
    }
   ],
   "source": [
    "for tariff in ['ultra', 'smart']:\n",
    "    sns.distplot(users_full.query('tariff == @tariff')['mb_used'], kde=False, label=tariff)\n",
    "    plt.legend(['ultra', 'smart'])"
   ]
  },
  {
   "cell_type": "code",
   "execution_count": 51,
   "metadata": {},
   "outputs": [
    {
     "data": {
      "image/png": "[encoded data removed]",
      "text/plain": [
       "<Figure size 432x288 with 1 Axes>"
      ]
     },
     "metadata": {},
     "output_type": "display_data"
    }
   ],
   "source": [
    "for tariff in ['ultra', 'smart']:\n",
    "    sns.distplot(users_full.query('tariff == @tariff')['messages_count'], kde=False, label=tariff)\n",
    "    plt.legend(['ultra', 'smart'])"
   ]
  },
  {
   "cell_type": "markdown",
   "metadata": {},
   "source": [
    "По гистограммам и диаграммам размаха видна скошенность данных вправо, особенно по количеству сообщений."
   ]
  },
  {
   "cell_type": "markdown",
   "metadata": {},
   "source": [
    "### Вывод"
   ]
  },
  {
   "cell_type": "markdown",
   "metadata": {},
   "source": [
    "По основным рассчитанным характеристикам можно сказать, что:\n",
    "- В среднем пользователь «Смарт» использует 422 минуты в месяц, пользователь «Ультра» — 518 минут\n",
    "- В среднем пользователь «Смарт» использует 16,5 Гб трафика, пользователь «Ультра» — 19,3 Гб\n",
    "- В среднем пользователь «Смарт» отправляет 28 сообщений, пользователь «Ультра» — 38\n",
    "- Дисперсии по тарифу «Ультра» больше, чем по тарифу «Смарт» (можно сделать вывод, что пользователи «Ультра» меньше задумываются о лимитах и более свободно пользуются предоставляемыми услугами)\n",
    "\n",
    "По гистограммам и диаграммам размаха заметна скошенность данных вправо, особенно сильно — по количеству сообщений."
   ]
  },
  {
   "cell_type": "markdown",
   "metadata": {},
   "source": [
    "## Проверка гипотез"
   ]
  },
  {
   "cell_type": "markdown",
   "metadata": {},
   "source": [
    "### Гипотеза 1: средняя выручка пользователей тарифов «Ультра» и «Смарт» различается"
   ]
  },
  {
   "cell_type": "markdown",
   "metadata": {},
   "source": [
    "Сформулируем нулевую и альтернативную гипотезы:"
   ]
  },
  {
   "cell_type": "markdown",
   "metadata": {},
   "source": [
    "$H_0:$ средняя выручка пользователей тарифа «Ультра» равна средней выручке пользователей тарифа «Смарт»     \n",
    "\n",
    "$H_1:$ средняя выручка пользователей тарифов «Ультра» и «Смарт» различается"
   ]
  },
  {
   "cell_type": "markdown",
   "metadata": {},
   "source": [
    "Зададим уровень статистической значимости и создадим две таблицы, в которых будут пользователи каждого тарифа соответственно:"
   ]
  },
  {
   "cell_type": "code",
   "execution_count": 53,
   "metadata": {},
   "outputs": [],
   "source": [
    "alpha = .05\n",
    "smart = users_full.query('tariff == \"smart\"')['total_revenue']\n",
    "ultra = users_full.query('tariff == \"ultra\"')['total_revenue']"
   ]
  },
  {
   "cell_type": "markdown",
   "metadata": {},
   "source": [
    "Посмотрим на дисперсии выборок:"
   ]
  },
  {
   "cell_type": "code",
   "execution_count": 54,
   "metadata": {},
   "outputs": [
    {
     "data": {
      "text/plain": [
       "666051.6032630103"
      ]
     },
     "execution_count": 54,
     "metadata": {},
     "output_type": "execute_result"
    }
   ],
   "source": [
    "smart_var = smart.var(ddof=1)\n",
    "ultra_var = ultra.var(ddof=1)\n",
    "smart_var"
   ]
  },
  {
   "cell_type": "code",
   "execution_count": 55,
   "metadata": {},
   "outputs": [
    {
     "data": {
      "text/plain": [
       "143491.24055961374"
      ]
     },
     "execution_count": 55,
     "metadata": {},
     "output_type": "execute_result"
    }
   ],
   "source": [
    "ultra_var"
   ]
  },
  {
   "cell_type": "markdown",
   "metadata": {},
   "source": [
    "Имеет смысл предположить, что дисперсии генеральных совокупностей также сильно отличаются и выставить параметр equal_var=False. Проверяем гипотезу с использованием критерия Стьюдента для независимых выборок (т.к. средние выручки выборок не зависят друг от друга):"
   ]
  },
  {
   "cell_type": "code",
   "execution_count": 56,
   "metadata": {},
   "outputs": [
    {
     "name": "stdout",
     "output_type": "stream",
     "text": [
      "p-значение: 3.1253634935570696e-257\n",
      "Отвергаем нулевую гипотезу\n"
     ]
    }
   ],
   "source": [
    "results = st.ttest_ind(smart, ultra, equal_var=False) \n",
    "print('p-значение:', results.pvalue)\n",
    "\n",
    "if (results.pvalue < alpha):\n",
    "    print(\"Отвергаем нулевую гипотезу\")\n",
    "else:\n",
    "    print(\"Не получилось отвергнуть нулевую гипотезу\")"
   ]
  },
  {
   "cell_type": "markdown",
   "metadata": {},
   "source": [
    "**Вывод:** Отвергаем нулевую гипотезу. С вероятностью 95% можно утверждать, что средняя выручка пользователей тарифов «Смарт» и «Ультра» различается."
   ]
  },
  {
   "cell_type": "markdown",
   "metadata": {},
   "source": [
    "Можно это проверить, подсчитав среднее:"
   ]
  },
  {
   "cell_type": "code",
   "execution_count": 57,
   "metadata": {},
   "outputs": [
    {
     "data": {
      "text/html": [
       "<div>\n",
       "<style scoped>\n",
       "    .dataframe tbody tr th:only-of-type {\n",
       "        vertical-align: middle;\n",
       "    }\n",
       "\n",
       "    .dataframe tbody tr th {\n",
       "        vertical-align: top;\n",
       "    }\n",
       "\n",
       "    .dataframe thead th {\n",
       "        text-align: right;\n",
       "    }\n",
       "</style>\n",
       "<table border=\"1\" class=\"dataframe\">\n",
       "  <thead>\n",
       "    <tr style=\"text-align: right;\">\n",
       "      <th></th>\n",
       "      <th>total_revenue</th>\n",
       "    </tr>\n",
       "    <tr>\n",
       "      <th>tariff</th>\n",
       "      <th></th>\n",
       "    </tr>\n",
       "  </thead>\n",
       "  <tbody>\n",
       "    <tr>\n",
       "      <td>smart</td>\n",
       "      <td>1277.239569</td>\n",
       "    </tr>\n",
       "    <tr>\n",
       "      <td>ultra</td>\n",
       "      <td>2071.065990</td>\n",
       "    </tr>\n",
       "  </tbody>\n",
       "</table>\n",
       "</div>"
      ],
      "text/plain": [
       "        total_revenue\n",
       "tariff               \n",
       "smart     1277.239569\n",
       "ultra     2071.065990"
      ]
     },
     "execution_count": 57,
     "metadata": {},
     "output_type": "execute_result"
    }
   ],
   "source": [
    "users_full.pivot_table(index='tariff', values='total_revenue', aggfunc='mean')"
   ]
  },
  {
   "cell_type": "markdown",
   "metadata": {},
   "source": [
    "### Гипотеза 2: средняя выручка пользователей из Москвы отличается от выручки пользователей из других регионов"
   ]
  },
  {
   "cell_type": "markdown",
   "metadata": {},
   "source": [
    "$H_0:$ средняя выручка пользователей из Москвы равна средней выручке пользователей из других регионов    \n",
    "\n",
    "$H_1:$ средняя выручка пользователей из Москвы отличается от выручки пользователей из других регионов"
   ]
  },
  {
   "cell_type": "code",
   "execution_count": 58,
   "metadata": {},
   "outputs": [],
   "source": [
    "alpha = .05\n",
    "moscow = users_full.query('city == \"Москва\"')['total_revenue']\n",
    "other = users_full.query('city != \"Москва\"')['total_revenue']"
   ]
  },
  {
   "cell_type": "code",
   "execution_count": 59,
   "metadata": {},
   "outputs": [
    {
     "data": {
      "text/plain": [
       "567571.5376727213"
      ]
     },
     "execution_count": 59,
     "metadata": {},
     "output_type": "execute_result"
    }
   ],
   "source": [
    "moscow_var = moscow.var(ddof=1)\n",
    "other_var = other.var(ddof=1)\n",
    "moscow_var"
   ]
  },
  {
   "cell_type": "code",
   "execution_count": 60,
   "metadata": {},
   "outputs": [
    {
     "data": {
      "text/plain": [
       "656813.2346783689"
      ]
     },
     "execution_count": 60,
     "metadata": {},
     "output_type": "execute_result"
    }
   ],
   "source": [
    "other_var"
   ]
  },
  {
   "cell_type": "code",
   "execution_count": 61,
   "metadata": {},
   "outputs": [
    {
     "name": "stdout",
     "output_type": "stream",
     "text": [
      "p-значение: 0.41409027900820383\n",
      "Не получилось отвергнуть нулевую гипотезу\n"
     ]
    }
   ],
   "source": [
    "results = st.ttest_ind(moscow, other, equal_var=False) \n",
    "print('p-значение:', results.pvalue)\n",
    "\n",
    "if (results.pvalue < alpha):\n",
    "    print(\"Отвергаем нулевую гипотезу\")\n",
    "else:\n",
    "    print(\"Не получилось отвергнуть нулевую гипотезу\")"
   ]
  },
  {
   "cell_type": "markdown",
   "metadata": {},
   "source": [
    "**Вывод:** Не получилось отвергнуть нулевую гипотезу. Если бы мы отклонили нулевую гипотезу, то ошиблись бы с вероятностью 41,4%."
   ]
  },
  {
   "cell_type": "markdown",
   "metadata": {},
   "source": [
    "Проверим:"
   ]
  },
  {
   "cell_type": "code",
   "execution_count": 62,
   "metadata": {},
   "outputs": [
    {
     "data": {
      "text/html": [
       "<div>\n",
       "<style scoped>\n",
       "    .dataframe tbody tr th:only-of-type {\n",
       "        vertical-align: middle;\n",
       "    }\n",
       "\n",
       "    .dataframe tbody tr th {\n",
       "        vertical-align: top;\n",
       "    }\n",
       "\n",
       "    .dataframe thead th {\n",
       "        text-align: right;\n",
       "    }\n",
       "</style>\n",
       "<table border=\"1\" class=\"dataframe\">\n",
       "  <thead>\n",
       "    <tr style=\"text-align: right;\">\n",
       "      <th></th>\n",
       "      <th>total_revenue</th>\n",
       "    </tr>\n",
       "    <tr>\n",
       "      <th>city</th>\n",
       "      <th></th>\n",
       "    </tr>\n",
       "  </thead>\n",
       "  <tbody>\n",
       "    <tr>\n",
       "      <td>Другой</td>\n",
       "      <td>1515.186323</td>\n",
       "    </tr>\n",
       "    <tr>\n",
       "      <td>Москва</td>\n",
       "      <td>1543.268412</td>\n",
       "    </tr>\n",
       "  </tbody>\n",
       "</table>\n",
       "</div>"
      ],
      "text/plain": [
       "        total_revenue\n",
       "city                 \n",
       "Другой    1515.186323\n",
       "Москва    1543.268412"
      ]
     },
     "execution_count": 62,
     "metadata": {},
     "output_type": "execute_result"
    }
   ],
   "source": [
    "cities = users_full.copy()\n",
    "cities.loc[cities.loc[:,'city'] != 'Москва', 'city'] = 'Другой'\n",
    "cities.pivot_table(index='city', values='total_revenue', aggfunc='mean')"
   ]
  },
  {
   "cell_type": "markdown",
   "metadata": {},
   "source": [
    "Действительно, средняя выручка по пользователям из Москвы и из других регионов отличается незначительно."
   ]
  },
  {
   "cell_type": "markdown",
   "metadata": {},
   "source": [
    "## Общий вывод"
   ]
  },
  {
   "cell_type": "markdown",
   "metadata": {},
   "source": [
    "Анализ данных позволил сделать следующие выводы:\n",
    "- В среднем пользователь «Смарт» использует 422 минуты в месяц, пользователь «Ультра» — 518 минут\n",
    "- В среднем пользователь «Смарт» использует 16,5 Гб трафика, пользователь «Ультра» — 19,3 Гб\n",
    "- В среднем пользователь «Смарт» отправляет 28 сообщений, пользователь «Ультра» — 38\n",
    "- Пользователи «Ультра» меньше задумываются о лимитах и более свободно пользуются предоставляемыми услугами (так как дисперсии по тарифу «Ультра» больше, чем по тарифу «Смарт»)\n",
    "- Пользователи тарифа «Ультра» не выходят за рамки лимитов, в отличии от пользователей тарифа «Смарт», которым приходится покупать дополнительные пакеты трафика или минут.\n",
    "\n",
    "\n",
    "В процессе статистического анализа были проверены две нулевые гипотезы с уровнем значимости  𝛼 = 5%:\n",
    "- средняя выручка пользователей тарифа «Ультра» равна средней выручке пользователей тарифа «Смарт»;\n",
    "- средняя выручка пользователей из Москвы равна средней выручке пользователей из других регионов;  \n",
    "\n",
    "В результате получили следующие результаты: \n",
    "- сравнивая выручку по тарифам, нулевую гипотезу была отвергнута: с вероятностью 95% можно утверждать, что средняя выручка пользователей тарифов «Смарт» и «Ультра» различается\n",
    "- сравнивая выручку по городам, мы не смогли отвергнуть нулевую гипотезу: с вероятностью 41,4% мы бы получали схожие значения средней выручки.  \n",
    "\n",
    "Также по результатам анализа можно сказать, что доходы «Мегалайна» от тарифа «Ультра» более чем в полтора раза больше, чем от тарифа «Смарт»: 2071 рубль и 1277 рублей соответственно.\n",
    "\n",
    "В целом можно сказать, что более перспективным для компании является тариф «Ультра»: у него более высокая средняя выручка, а также, т.к. пользователи тарифа «Смарт» выходят за рамки своего тарифа, в итоге это может побудить их к смене тарифа на «Ультра», что еще значительнее увеличит выручку компании."
   ]
  }
 ],
 "metadata": {
  "ExecuteTimeLog": [
   {
    "duration": 5,
    "start_time": "2021-06-08T14:41:58.555Z"
   },
   {
    "duration": 3,
    "start_time": "2021-06-08T14:44:51.736Z"
   },
   {
    "duration": 432,
    "start_time": "2021-06-08T14:47:39.043Z"
   },
   {
    "duration": 1490,
    "start_time": "2021-06-08T14:47:46.593Z"
   },
   {
    "duration": 607,
    "start_time": "2021-06-08T14:47:48.086Z"
   },
   {
    "duration": 26,
    "start_time": "2021-06-08T14:47:48.697Z"
   },
   {
    "duration": 12,
    "start_time": "2021-06-08T14:47:48.727Z"
   },
   {
    "duration": 27,
    "start_time": "2021-06-08T14:47:48.742Z"
   },
   {
    "duration": 32,
    "start_time": "2021-06-08T14:47:48.772Z"
   },
   {
    "duration": 12,
    "start_time": "2021-06-08T14:47:48.807Z"
   },
   {
    "duration": 48,
    "start_time": "2021-06-08T14:47:48.822Z"
   },
   {
    "duration": 42,
    "start_time": "2021-06-08T14:47:48.877Z"
   },
   {
    "duration": 65,
    "start_time": "2021-06-08T14:47:48.923Z"
   },
   {
    "duration": 149,
    "start_time": "2021-06-08T14:47:48.991Z"
   },
   {
    "duration": 55,
    "start_time": "2021-06-08T14:47:49.143Z"
   },
   {
    "duration": 19,
    "start_time": "2021-06-08T14:47:49.201Z"
   },
   {
    "duration": 39,
    "start_time": "2021-06-08T14:47:49.223Z"
   },
   {
    "duration": 13,
    "start_time": "2021-06-08T14:47:49.265Z"
   },
   {
    "duration": 25,
    "start_time": "2021-06-08T14:47:49.280Z"
   },
   {
    "duration": 61,
    "start_time": "2021-06-08T14:47:49.307Z"
   },
   {
    "duration": 126,
    "start_time": "2021-06-08T14:47:49.371Z"
   },
   {
    "duration": 38,
    "start_time": "2021-06-08T14:47:49.499Z"
   },
   {
    "duration": 30,
    "start_time": "2021-06-08T14:47:49.540Z"
   },
   {
    "duration": 10,
    "start_time": "2021-06-08T14:47:49.573Z"
   },
   {
    "duration": 24,
    "start_time": "2021-06-08T14:47:49.585Z"
   },
   {
    "duration": 100,
    "start_time": "2021-06-08T14:47:49.611Z"
   },
   {
    "duration": 18,
    "start_time": "2021-06-08T14:47:49.714Z"
   },
   {
    "duration": 34,
    "start_time": "2021-06-08T14:47:49.734Z"
   },
   {
    "duration": 15,
    "start_time": "2021-06-08T14:47:49.770Z"
   },
   {
    "duration": 110,
    "start_time": "2021-06-08T14:47:49.790Z"
   },
   {
    "duration": 11,
    "start_time": "2021-06-08T14:47:49.903Z"
   },
   {
    "duration": 10,
    "start_time": "2021-06-08T14:47:49.917Z"
   },
   {
    "duration": 54,
    "start_time": "2021-06-08T14:47:49.929Z"
   },
   {
    "duration": 17,
    "start_time": "2021-06-08T14:47:49.985Z"
   },
   {
    "duration": 11,
    "start_time": "2021-06-08T14:47:50.004Z"
   },
   {
    "duration": 55,
    "start_time": "2021-06-08T14:47:50.017Z"
   },
   {
    "duration": 70,
    "start_time": "2021-06-08T14:47:50.074Z"
   },
   {
    "duration": 65,
    "start_time": "2021-06-08T14:47:50.147Z"
   },
   {
    "duration": 49,
    "start_time": "2021-06-08T14:47:50.214Z"
   },
   {
    "duration": 29,
    "start_time": "2021-06-08T14:47:50.266Z"
   },
   {
    "duration": 20,
    "start_time": "2021-06-08T14:47:50.297Z"
   },
   {
    "duration": 5,
    "start_time": "2021-06-08T14:47:50.319Z"
   },
   {
    "duration": 89,
    "start_time": "2021-06-08T14:47:50.326Z"
   },
   {
    "duration": 10,
    "start_time": "2021-06-08T14:47:50.417Z"
   },
   {
    "duration": 35,
    "start_time": "2021-06-08T14:47:50.429Z"
   },
   {
    "duration": 10,
    "start_time": "2021-06-08T14:47:50.466Z"
   },
   {
    "duration": 24601,
    "start_time": "2021-06-08T14:47:50.478Z"
   },
   {
    "duration": 30,
    "start_time": "2021-06-08T14:48:15.082Z"
   },
   {
    "duration": 57,
    "start_time": "2021-06-08T14:48:15.114Z"
   },
   {
    "duration": 56,
    "start_time": "2021-06-08T14:48:15.173Z"
   },
   {
    "duration": 1666,
    "start_time": "2021-06-08T14:48:15.232Z"
   },
   {
    "duration": 666,
    "start_time": "2021-06-08T14:48:16.900Z"
   },
   {
    "duration": 689,
    "start_time": "2021-06-08T14:48:17.569Z"
   },
   {
    "duration": 648,
    "start_time": "2021-06-08T14:48:18.262Z"
   },
   {
    "duration": 3,
    "start_time": "2021-06-08T14:48:18.913Z"
   },
   {
    "duration": 9076,
    "start_time": "2021-06-08T14:48:18.918Z"
   },
   {
    "duration": 21,
    "start_time": "2021-06-08T14:49:06.995Z"
   },
   {
    "duration": 19,
    "start_time": "2021-06-08T14:49:49.791Z"
   },
   {
    "duration": 15,
    "start_time": "2021-06-08T14:50:02.672Z"
   },
   {
    "duration": 19,
    "start_time": "2021-06-08T14:50:20.609Z"
   },
   {
    "duration": 16,
    "start_time": "2021-06-08T14:50:38.091Z"
   },
   {
    "duration": 16,
    "start_time": "2021-06-08T14:50:56.964Z"
   },
   {
    "duration": 13,
    "start_time": "2021-06-08T14:51:05.852Z"
   },
   {
    "duration": 11,
    "start_time": "2021-06-08T14:52:17.727Z"
   },
   {
    "duration": 115,
    "start_time": "2021-06-08T14:55:43.089Z"
   },
   {
    "duration": 9,
    "start_time": "2021-06-08T14:55:48.673Z"
   },
   {
    "duration": 6,
    "start_time": "2021-06-08T14:56:13.669Z"
   },
   {
    "duration": 5,
    "start_time": "2021-06-08T14:56:25.977Z"
   },
   {
    "duration": 6,
    "start_time": "2021-06-08T15:02:36.133Z"
   },
   {
    "duration": 18,
    "start_time": "2021-06-08T15:09:35.124Z"
   },
   {
    "duration": 111,
    "start_time": "2021-06-08T15:12:17.341Z"
   },
   {
    "duration": 11,
    "start_time": "2021-06-08T15:13:36.999Z"
   },
   {
    "duration": 7,
    "start_time": "2021-06-08T15:14:21.283Z"
   },
   {
    "duration": 5,
    "start_time": "2021-06-08T15:14:24.755Z"
   },
   {
    "duration": 7,
    "start_time": "2021-06-08T15:15:30.809Z"
   },
   {
    "duration": 26,
    "start_time": "2021-06-08T15:25:25.410Z"
   },
   {
    "duration": 24,
    "start_time": "2021-06-08T15:26:10.591Z"
   },
   {
    "duration": 1484,
    "start_time": "2021-06-08T15:49:01.456Z"
   },
   {
    "duration": 525,
    "start_time": "2021-06-08T15:49:02.943Z"
   },
   {
    "duration": 19,
    "start_time": "2021-06-08T15:49:03.472Z"
   },
   {
    "duration": 10,
    "start_time": "2021-06-08T15:49:03.493Z"
   },
   {
    "duration": 26,
    "start_time": "2021-06-08T15:49:03.506Z"
   },
   {
    "duration": 48,
    "start_time": "2021-06-08T15:49:03.535Z"
   },
   {
    "duration": 12,
    "start_time": "2021-06-08T15:49:03.586Z"
   },
   {
    "duration": 16,
    "start_time": "2021-06-08T15:49:03.601Z"
   },
   {
    "duration": 62,
    "start_time": "2021-06-08T15:49:03.622Z"
   },
   {
    "duration": 25,
    "start_time": "2021-06-08T15:49:03.687Z"
   },
   {
    "duration": 152,
    "start_time": "2021-06-08T15:49:03.715Z"
   },
   {
    "duration": 38,
    "start_time": "2021-06-08T15:49:03.869Z"
   },
   {
    "duration": 19,
    "start_time": "2021-06-08T15:49:03.910Z"
   },
   {
    "duration": 39,
    "start_time": "2021-06-08T15:49:03.932Z"
   },
   {
    "duration": 17,
    "start_time": "2021-06-08T15:49:03.973Z"
   },
   {
    "duration": 24,
    "start_time": "2021-06-08T15:49:03.993Z"
   },
   {
    "duration": 48,
    "start_time": "2021-06-08T15:49:04.019Z"
   },
   {
    "duration": 122,
    "start_time": "2021-06-08T15:49:04.070Z"
   },
   {
    "duration": 39,
    "start_time": "2021-06-08T15:49:04.195Z"
   },
   {
    "duration": 33,
    "start_time": "2021-06-08T15:49:04.237Z"
   },
   {
    "duration": 10,
    "start_time": "2021-06-08T15:49:04.272Z"
   },
   {
    "duration": 21,
    "start_time": "2021-06-08T15:49:04.284Z"
   },
   {
    "duration": 100,
    "start_time": "2021-06-08T15:49:04.307Z"
   },
   {
    "duration": 18,
    "start_time": "2021-06-08T15:49:04.410Z"
   },
   {
    "duration": 33,
    "start_time": "2021-06-08T15:49:04.431Z"
   },
   {
    "duration": 13,
    "start_time": "2021-06-08T15:49:04.467Z"
   },
   {
    "duration": 108,
    "start_time": "2021-06-08T15:49:04.486Z"
   },
   {
    "duration": 11,
    "start_time": "2021-06-08T15:49:04.598Z"
   },
   {
    "duration": 18,
    "start_time": "2021-06-08T15:49:04.613Z"
   },
   {
    "duration": 51,
    "start_time": "2021-06-08T15:49:04.633Z"
   },
   {
    "duration": 17,
    "start_time": "2021-06-08T15:49:04.686Z"
   },
   {
    "duration": 14,
    "start_time": "2021-06-08T15:49:04.705Z"
   },
   {
    "duration": 44,
    "start_time": "2021-06-08T15:49:04.721Z"
   },
   {
    "duration": 70,
    "start_time": "2021-06-08T15:49:04.767Z"
   },
   {
    "duration": 65,
    "start_time": "2021-06-08T15:49:04.839Z"
   },
   {
    "duration": 31,
    "start_time": "2021-06-08T15:49:04.906Z"
   },
   {
    "duration": 50,
    "start_time": "2021-06-08T15:49:04.939Z"
   },
   {
    "duration": 21,
    "start_time": "2021-06-08T15:49:04.991Z"
   },
   {
    "duration": 5,
    "start_time": "2021-06-08T15:49:05.014Z"
   },
   {
    "duration": 91,
    "start_time": "2021-06-08T15:49:05.021Z"
   },
   {
    "duration": 10,
    "start_time": "2021-06-08T15:49:05.114Z"
   },
   {
    "duration": 13,
    "start_time": "2021-06-08T15:49:05.126Z"
   },
   {
    "duration": 26,
    "start_time": "2021-06-08T15:49:05.141Z"
   },
   {
    "duration": 24893,
    "start_time": "2021-06-08T15:49:05.169Z"
   },
   {
    "duration": 46,
    "start_time": "2021-06-08T15:49:30.065Z"
   },
   {
    "duration": 68,
    "start_time": "2021-06-08T15:49:30.114Z"
   },
   {
    "duration": 98,
    "start_time": "2021-06-08T15:49:30.185Z"
   },
   {
    "duration": 2382,
    "start_time": "2021-06-08T15:49:30.286Z"
   },
   {
    "duration": 1036,
    "start_time": "2021-06-08T15:49:32.671Z"
   },
   {
    "duration": 1085,
    "start_time": "2021-06-08T15:49:33.710Z"
   },
   {
    "duration": 871,
    "start_time": "2021-06-08T15:49:34.799Z"
   },
   {
    "duration": 4,
    "start_time": "2021-06-08T15:49:35.673Z"
   },
   {
    "duration": 20,
    "start_time": "2021-06-08T15:49:35.680Z"
   },
   {
    "duration": 10,
    "start_time": "2021-06-08T15:49:35.702Z"
   },
   {
    "duration": 11,
    "start_time": "2021-06-08T15:49:35.714Z"
   },
   {
    "duration": 47,
    "start_time": "2021-06-08T15:49:35.727Z"
   },
   {
    "duration": 37,
    "start_time": "2021-06-08T15:49:35.777Z"
   },
   {
    "duration": 26,
    "start_time": "2021-06-08T15:49:35.816Z"
   },
   {
    "duration": 18,
    "start_time": "2021-06-08T15:49:35.844Z"
   },
   {
    "duration": 25,
    "start_time": "2021-06-08T15:49:35.864Z"
   },
   {
    "duration": 12,
    "start_time": "2021-06-08T15:49:35.891Z"
   },
   {
    "duration": 28,
    "start_time": "2021-06-08T15:49:35.905Z"
   },
   {
    "duration": 5,
    "start_time": "2021-06-08T16:08:09.489Z"
   },
   {
    "duration": 562,
    "start_time": "2021-06-08T16:08:09.497Z"
   },
   {
    "duration": 16,
    "start_time": "2021-06-08T16:08:10.063Z"
   },
   {
    "duration": 17,
    "start_time": "2021-06-08T16:08:10.083Z"
   },
   {
    "duration": 13,
    "start_time": "2021-06-08T16:08:10.103Z"
   },
   {
    "duration": 56,
    "start_time": "2021-06-08T16:08:10.119Z"
   },
   {
    "duration": 11,
    "start_time": "2021-06-08T16:08:10.179Z"
   },
   {
    "duration": 12,
    "start_time": "2021-06-08T16:08:10.192Z"
   },
   {
    "duration": 69,
    "start_time": "2021-06-08T16:08:10.211Z"
   },
   {
    "duration": 41,
    "start_time": "2021-06-08T16:08:10.284Z"
   },
   {
    "duration": 198,
    "start_time": "2021-06-08T16:08:10.328Z"
   },
   {
    "duration": 61,
    "start_time": "2021-06-08T16:08:10.529Z"
   },
   {
    "duration": 19,
    "start_time": "2021-06-08T16:08:10.594Z"
   },
   {
    "duration": 17,
    "start_time": "2021-06-08T16:08:10.616Z"
   },
   {
    "duration": 17,
    "start_time": "2021-06-08T16:08:10.663Z"
   },
   {
    "duration": 38,
    "start_time": "2021-06-08T16:08:10.683Z"
   },
   {
    "duration": 58,
    "start_time": "2021-06-08T16:08:10.724Z"
   },
   {
    "duration": 150,
    "start_time": "2021-06-08T16:08:10.785Z"
   },
   {
    "duration": 61,
    "start_time": "2021-06-08T16:08:10.938Z"
   },
   {
    "duration": 16,
    "start_time": "2021-06-08T16:08:11.001Z"
   },
   {
    "duration": 14,
    "start_time": "2021-06-08T16:08:11.020Z"
   },
   {
    "duration": 28,
    "start_time": "2021-06-08T16:08:11.063Z"
   },
   {
    "duration": 100,
    "start_time": "2021-06-08T16:08:11.095Z"
   },
   {
    "duration": 19,
    "start_time": "2021-06-08T16:08:11.197Z"
   },
   {
    "duration": 14,
    "start_time": "2021-06-08T16:08:11.219Z"
   },
   {
    "duration": 33,
    "start_time": "2021-06-08T16:08:11.235Z"
   },
   {
    "duration": 108,
    "start_time": "2021-06-08T16:08:11.274Z"
   },
   {
    "duration": 9,
    "start_time": "2021-06-08T16:08:11.386Z"
   },
   {
    "duration": 10,
    "start_time": "2021-06-08T16:08:11.398Z"
   },
   {
    "duration": 57,
    "start_time": "2021-06-08T16:08:11.410Z"
   },
   {
    "duration": 16,
    "start_time": "2021-06-08T16:08:11.470Z"
   },
   {
    "duration": 11,
    "start_time": "2021-06-08T16:08:11.488Z"
   },
   {
    "duration": 16,
    "start_time": "2021-06-08T16:08:11.501Z"
   },
   {
    "duration": 110,
    "start_time": "2021-06-08T16:08:11.519Z"
   },
   {
    "duration": 66,
    "start_time": "2021-06-08T16:08:11.631Z"
   },
   {
    "duration": 33,
    "start_time": "2021-06-08T16:08:11.699Z"
   },
   {
    "duration": 47,
    "start_time": "2021-06-08T16:08:11.734Z"
   },
   {
    "duration": 18,
    "start_time": "2021-06-08T16:08:11.784Z"
   },
   {
    "duration": 5,
    "start_time": "2021-06-08T16:08:11.805Z"
   },
   {
    "duration": 84,
    "start_time": "2021-06-08T16:08:11.812Z"
   },
   {
    "duration": 9,
    "start_time": "2021-06-08T16:08:11.898Z"
   },
   {
    "duration": 21,
    "start_time": "2021-06-08T16:08:11.910Z"
   },
   {
    "duration": 36,
    "start_time": "2021-06-08T16:08:11.934Z"
   },
   {
    "duration": 25363,
    "start_time": "2021-06-08T16:08:11.972Z"
   },
   {
    "duration": 44,
    "start_time": "2021-06-08T16:08:37.337Z"
   },
   {
    "duration": 31,
    "start_time": "2021-06-08T16:08:37.383Z"
   },
   {
    "duration": 85,
    "start_time": "2021-06-08T16:08:37.416Z"
   },
   {
    "duration": 1783,
    "start_time": "2021-06-08T16:08:37.503Z"
   },
   {
    "duration": 674,
    "start_time": "2021-06-08T16:08:39.288Z"
   },
   {
    "duration": 645,
    "start_time": "2021-06-08T16:08:39.964Z"
   },
   {
    "duration": 569,
    "start_time": "2021-06-08T16:08:40.612Z"
   },
   {
    "duration": 4,
    "start_time": "2021-06-08T16:08:41.184Z"
   },
   {
    "duration": 36,
    "start_time": "2021-06-08T16:08:41.190Z"
   },
   {
    "duration": 14,
    "start_time": "2021-06-08T16:08:41.228Z"
   },
   {
    "duration": 19,
    "start_time": "2021-06-08T16:08:41.244Z"
   },
   {
    "duration": 7,
    "start_time": "2021-06-08T16:08:41.266Z"
   },
   {
    "duration": 24,
    "start_time": "2021-06-08T16:08:41.275Z"
   },
   {
    "duration": 11,
    "start_time": "2021-06-08T16:08:41.302Z"
   },
   {
    "duration": 7,
    "start_time": "2021-06-08T16:08:41.316Z"
   },
   {
    "duration": 39,
    "start_time": "2021-06-08T16:08:41.326Z"
   },
   {
    "duration": 8,
    "start_time": "2021-06-08T16:08:41.368Z"
   },
   {
    "duration": 176,
    "start_time": "2021-06-08T16:08:41.379Z"
   },
   {
    "duration": 4,
    "start_time": "2021-06-08T16:09:03.837Z"
   },
   {
    "duration": 734,
    "start_time": "2021-06-08T16:09:03.845Z"
   },
   {
    "duration": 22,
    "start_time": "2021-06-08T16:09:04.583Z"
   },
   {
    "duration": 14,
    "start_time": "2021-06-08T16:09:04.608Z"
   },
   {
    "duration": 25,
    "start_time": "2021-06-08T16:09:04.625Z"
   },
   {
    "duration": 27,
    "start_time": "2021-06-08T16:09:04.652Z"
   },
   {
    "duration": 10,
    "start_time": "2021-06-08T16:09:04.682Z"
   },
   {
    "duration": 11,
    "start_time": "2021-06-08T16:09:04.695Z"
   },
   {
    "duration": 65,
    "start_time": "2021-06-08T16:09:04.711Z"
   },
   {
    "duration": 31,
    "start_time": "2021-06-08T16:09:04.779Z"
   },
   {
    "duration": 141,
    "start_time": "2021-06-08T16:09:04.813Z"
   },
   {
    "duration": 39,
    "start_time": "2021-06-08T16:09:04.956Z"
   },
   {
    "duration": 13,
    "start_time": "2021-06-08T16:09:04.997Z"
   },
   {
    "duration": 15,
    "start_time": "2021-06-08T16:09:05.012Z"
   },
   {
    "duration": 41,
    "start_time": "2021-06-08T16:09:05.029Z"
   },
   {
    "duration": 34,
    "start_time": "2021-06-08T16:09:05.072Z"
   },
   {
    "duration": 21,
    "start_time": "2021-06-08T16:09:05.109Z"
   },
   {
    "duration": 111,
    "start_time": "2021-06-08T16:09:05.133Z"
   },
   {
    "duration": 50,
    "start_time": "2021-06-08T16:09:05.246Z"
   },
   {
    "duration": 13,
    "start_time": "2021-06-08T16:09:05.298Z"
   },
   {
    "duration": 15,
    "start_time": "2021-06-08T16:09:05.314Z"
   },
   {
    "duration": 49,
    "start_time": "2021-06-08T16:09:05.332Z"
   },
   {
    "duration": 62,
    "start_time": "2021-06-08T16:09:05.384Z"
   },
   {
    "duration": 20,
    "start_time": "2021-06-08T16:09:05.463Z"
   },
   {
    "duration": 17,
    "start_time": "2021-06-08T16:09:05.486Z"
   },
   {
    "duration": 26,
    "start_time": "2021-06-08T16:09:05.505Z"
   },
   {
    "duration": 111,
    "start_time": "2021-06-08T16:09:05.537Z"
   },
   {
    "duration": 14,
    "start_time": "2021-06-08T16:09:05.652Z"
   },
   {
    "duration": 11,
    "start_time": "2021-06-08T16:09:05.669Z"
   },
   {
    "duration": 35,
    "start_time": "2021-06-08T16:09:05.682Z"
   },
   {
    "duration": 54,
    "start_time": "2021-06-08T16:09:05.719Z"
   },
   {
    "duration": 11,
    "start_time": "2021-06-08T16:09:05.775Z"
   },
   {
    "duration": 16,
    "start_time": "2021-06-08T16:09:05.789Z"
   },
   {
    "duration": 110,
    "start_time": "2021-06-08T16:09:05.808Z"
   },
   {
    "duration": 61,
    "start_time": "2021-06-08T16:09:05.921Z"
   },
   {
    "duration": 31,
    "start_time": "2021-06-08T16:09:05.984Z"
   },
   {
    "duration": 59,
    "start_time": "2021-06-08T16:09:06.018Z"
   },
   {
    "duration": 21,
    "start_time": "2021-06-08T16:09:06.079Z"
   },
   {
    "duration": 7,
    "start_time": "2021-06-08T16:09:06.103Z"
   },
   {
    "duration": 88,
    "start_time": "2021-06-08T16:09:06.112Z"
   },
   {
    "duration": 10,
    "start_time": "2021-06-08T16:09:06.202Z"
   },
   {
    "duration": 13,
    "start_time": "2021-06-08T16:09:06.215Z"
   },
   {
    "duration": 38,
    "start_time": "2021-06-08T16:09:06.231Z"
   },
   {
    "duration": 34414,
    "start_time": "2021-06-08T16:09:06.273Z"
   },
   {
    "duration": 46,
    "start_time": "2021-06-08T16:09:40.690Z"
   },
   {
    "duration": 65,
    "start_time": "2021-06-08T16:09:40.739Z"
   },
   {
    "duration": 104,
    "start_time": "2021-06-08T16:09:40.807Z"
   },
   {
    "duration": 1919,
    "start_time": "2021-06-08T16:09:40.914Z"
   },
   {
    "duration": 695,
    "start_time": "2021-06-08T16:09:42.836Z"
   },
   {
    "duration": 671,
    "start_time": "2021-06-08T16:09:43.533Z"
   },
   {
    "duration": 571,
    "start_time": "2021-06-08T16:09:44.207Z"
   },
   {
    "duration": 3,
    "start_time": "2021-06-08T16:09:44.781Z"
   },
   {
    "duration": 14,
    "start_time": "2021-06-08T16:09:44.787Z"
   },
   {
    "duration": 7,
    "start_time": "2021-06-08T16:09:44.804Z"
   },
   {
    "duration": 7,
    "start_time": "2021-06-08T16:09:44.813Z"
   },
   {
    "duration": 45,
    "start_time": "2021-06-08T16:09:44.822Z"
   },
   {
    "duration": 37,
    "start_time": "2021-06-08T16:09:44.869Z"
   },
   {
    "duration": 23,
    "start_time": "2021-06-08T16:09:44.908Z"
   },
   {
    "duration": 22,
    "start_time": "2021-06-08T16:09:44.934Z"
   },
   {
    "duration": 9,
    "start_time": "2021-06-08T16:09:44.959Z"
   },
   {
    "duration": 24,
    "start_time": "2021-06-08T16:09:44.971Z"
   },
   {
    "duration": 60,
    "start_time": "2021-06-08T16:09:44.998Z"
   },
   {
    "duration": 59,
    "start_time": "2021-06-08T20:44:26.334Z"
   },
   {
    "duration": 1489,
    "start_time": "2022-02-02T15:32:44.915Z"
   },
   {
    "duration": 497,
    "start_time": "2022-02-02T15:32:46.407Z"
   },
   {
    "duration": 18,
    "start_time": "2022-02-02T15:32:46.907Z"
   },
   {
    "duration": 9,
    "start_time": "2022-02-02T15:32:46.932Z"
   },
   {
    "duration": 11,
    "start_time": "2022-02-02T15:32:46.943Z"
   },
   {
    "duration": 22,
    "start_time": "2022-02-02T15:32:46.957Z"
   },
   {
    "duration": 10,
    "start_time": "2022-02-02T15:32:46.981Z"
   },
   {
    "duration": 45,
    "start_time": "2022-02-02T15:32:46.993Z"
   },
   {
    "duration": 28,
    "start_time": "2022-02-02T15:32:47.042Z"
   },
   {
    "duration": 25,
    "start_time": "2022-02-02T15:32:47.073Z"
   },
   {
    "duration": 165,
    "start_time": "2022-02-02T15:32:47.101Z"
   },
   {
    "duration": 39,
    "start_time": "2022-02-02T15:32:47.269Z"
   },
   {
    "duration": 39,
    "start_time": "2022-02-02T15:32:47.311Z"
   },
   {
    "duration": 12,
    "start_time": "2022-02-02T15:32:47.352Z"
   },
   {
    "duration": 18,
    "start_time": "2022-02-02T15:32:47.366Z"
   },
   {
    "duration": 49,
    "start_time": "2022-02-02T15:32:47.387Z"
   },
   {
    "duration": 20,
    "start_time": "2022-02-02T15:32:47.438Z"
   },
   {
    "duration": 121,
    "start_time": "2022-02-02T15:32:47.461Z"
   },
   {
    "duration": 47,
    "start_time": "2022-02-02T15:32:47.585Z"
   },
   {
    "duration": 11,
    "start_time": "2022-02-02T15:32:47.634Z"
   },
   {
    "duration": 12,
    "start_time": "2022-02-02T15:32:47.647Z"
   },
   {
    "duration": 21,
    "start_time": "2022-02-02T15:32:47.661Z"
   },
   {
    "duration": 94,
    "start_time": "2022-02-02T15:32:47.685Z"
   },
   {
    "duration": 17,
    "start_time": "2022-02-02T15:32:47.781Z"
   },
   {
    "duration": 11,
    "start_time": "2022-02-02T15:32:47.800Z"
   },
   {
    "duration": 26,
    "start_time": "2022-02-02T15:32:47.813Z"
   },
   {
    "duration": 107,
    "start_time": "2022-02-02T15:32:47.846Z"
   },
   {
    "duration": 10,
    "start_time": "2022-02-02T15:32:47.957Z"
   },
   {
    "duration": 12,
    "start_time": "2022-02-02T15:32:47.970Z"
   },
   {
    "duration": 55,
    "start_time": "2022-02-02T15:32:47.984Z"
   },
   {
    "duration": 18,
    "start_time": "2022-02-02T15:32:48.041Z"
   },
   {
    "duration": 11,
    "start_time": "2022-02-02T15:32:48.061Z"
   },
   {
    "duration": 17,
    "start_time": "2022-02-02T15:32:48.075Z"
   },
   {
    "duration": 108,
    "start_time": "2022-02-02T15:32:48.094Z"
   },
   {
    "duration": 62,
    "start_time": "2022-02-02T15:32:48.205Z"
   },
   {
    "duration": 31,
    "start_time": "2022-02-02T15:32:48.269Z"
   },
   {
    "duration": 53,
    "start_time": "2022-02-02T15:32:48.303Z"
   },
   {
    "duration": 19,
    "start_time": "2022-02-02T15:32:48.359Z"
   },
   {
    "duration": 5,
    "start_time": "2022-02-02T15:32:48.380Z"
   },
   {
    "duration": 79,
    "start_time": "2022-02-02T15:32:48.387Z"
   },
   {
    "duration": 10,
    "start_time": "2022-02-02T15:32:48.468Z"
   },
   {
    "duration": 12,
    "start_time": "2022-02-02T15:32:48.480Z"
   },
   {
    "duration": 38,
    "start_time": "2022-02-02T15:32:48.494Z"
   },
   {
    "duration": 24338,
    "start_time": "2022-02-02T15:32:48.535Z"
   },
   {
    "duration": 29,
    "start_time": "2022-02-02T15:33:12.875Z"
   },
   {
    "duration": 56,
    "start_time": "2022-02-02T15:33:12.907Z"
   },
   {
    "duration": 76,
    "start_time": "2022-02-02T15:33:12.966Z"
   },
   {
    "duration": 1703,
    "start_time": "2022-02-02T15:33:13.045Z"
   },
   {
    "duration": 668,
    "start_time": "2022-02-02T15:33:14.750Z"
   },
   {
    "duration": 688,
    "start_time": "2022-02-02T15:33:15.420Z"
   },
   {
    "duration": 552,
    "start_time": "2022-02-02T15:33:16.111Z"
   },
   {
    "duration": 3,
    "start_time": "2022-02-02T15:33:16.666Z"
   },
   {
    "duration": 15,
    "start_time": "2022-02-02T15:33:16.671Z"
   },
   {
    "duration": 6,
    "start_time": "2022-02-02T15:33:16.688Z"
   },
   {
    "duration": 36,
    "start_time": "2022-02-02T15:33:16.697Z"
   },
   {
    "duration": 6,
    "start_time": "2022-02-02T15:33:16.736Z"
   },
   {
    "duration": 22,
    "start_time": "2022-02-02T15:33:16.744Z"
   },
   {
    "duration": 11,
    "start_time": "2022-02-02T15:33:16.768Z"
   },
   {
    "duration": 9,
    "start_time": "2022-02-02T15:33:16.781Z"
   },
   {
    "duration": 41,
    "start_time": "2022-02-02T15:33:16.792Z"
   },
   {
    "duration": 6,
    "start_time": "2022-02-02T15:33:16.836Z"
   },
   {
    "duration": 25,
    "start_time": "2022-02-02T15:33:16.845Z"
   }
  ],
  "kernelspec": {
   "display_name": "Python 3",
   "language": "python",
   "name": "python3"
  },
  "language_info": {
   "codemirror_mode": {
    "name": "ipython",
    "version": 3
   },
   "file_extension": ".py",
   "mimetype": "text/x-python",
   "name": "python",
   "nbconvert_exporter": "python",
   "pygments_lexer": "ipython3",
   "version": "3.7.8"
  },
  "toc": {
   "base_numbering": 1,
   "nav_menu": {},
   "number_sections": true,
   "sideBar": true,
   "skip_h1_title": true,
   "title_cell": "Содержание",
   "title_sidebar": "Contents",
   "toc_cell": true,
   "toc_position": {
    "height": "calc(100% - 180px)",
    "left": "10px",
    "top": "150px",
    "width": "222.391px"
   },
   "toc_section_display": true,
   "toc_window_display": true
  },
  "widgets": {
   "application/vnd.jupyter.widget-state+json": {
    "state": {},
    "version_major": 2,
    "version_minor": 0
   }
  }
 },
 "nbformat": 4,
 "nbformat_minor": 2
}
