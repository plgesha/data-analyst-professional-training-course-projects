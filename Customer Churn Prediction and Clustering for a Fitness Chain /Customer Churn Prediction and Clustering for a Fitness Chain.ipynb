{
 "cells": [
  {
   "cell_type": "markdown",
   "metadata": {},
   "source": [
    "# Прогнозирование оттока и кластеризация клиентов сети фитнес-центров"
   ]
  },
  {
   "cell_type": "markdown",
   "metadata": {
    "toc": true
   },
   "source": [
    "<h1>Содержание<span class=\"tocSkip\"></span></h1>\n",
    "<div class=\"toc\"><ul class=\"toc-item\"><li><span><a href=\"#Описание-данных\" data-toc-modified-id=\"Описание-данных-1\"><span class=\"toc-item-num\">1&nbsp;&nbsp;</span>Описание данных</a></span></li><li><span><a href=\"#Загрузка-данных-и-импорт-библиотек\" data-toc-modified-id=\"Загрузка-данных-и-импорт-библиотек-2\"><span class=\"toc-item-num\">2&nbsp;&nbsp;</span>Загрузка данных и импорт библиотек</a></span></li><li><span><a href=\"#Исследовательский-анализ-данных-(EDA)\" data-toc-modified-id=\"Исследовательский-анализ-данных-(EDA)-3\"><span class=\"toc-item-num\">3&nbsp;&nbsp;</span>Исследовательский анализ данных (EDA)</a></span><ul class=\"toc-item\"><li><span><a href=\"#Изучение-данных\" data-toc-modified-id=\"Изучение-данных-3.1\"><span class=\"toc-item-num\">3.1&nbsp;&nbsp;</span>Изучение данных</a></span></li><li><span><a href=\"#Диаграммы-и-распределения\" data-toc-modified-id=\"Диаграммы-и-распределения-3.2\"><span class=\"toc-item-num\">3.2&nbsp;&nbsp;</span>Диаграммы и распределения</a></span></li><li><span><a href=\"#Матрица-корреляций\" data-toc-modified-id=\"Матрица-корреляций-3.3\"><span class=\"toc-item-num\">3.3&nbsp;&nbsp;</span>Матрица корреляций</a></span></li></ul></li><li><span><a href=\"#Модель-прогнозирования-оттока-клиентов\" data-toc-modified-id=\"Модель-прогнозирования-оттока-клиентов-4\"><span class=\"toc-item-num\">4&nbsp;&nbsp;</span>Модель прогнозирования оттока клиентов</a></span></li><li><span><a href=\"#Кластеризация-клиентов\" data-toc-modified-id=\"Кластеризация-клиентов-5\"><span class=\"toc-item-num\">5&nbsp;&nbsp;</span>Кластеризация клиентов</a></span></li><li><span><a href=\"#Выводы-и-рекомендации\" data-toc-modified-id=\"Выводы-и-рекомендации-6\"><span class=\"toc-item-num\">6&nbsp;&nbsp;</span>Выводы и рекомендации</a></span></li></ul></div>"
   ]
  },
  {
   "cell_type": "markdown",
   "metadata": {},
   "source": [
    "## Описание данных"
   ]
  },
  {
   "cell_type": "markdown",
   "metadata": {},
   "source": [
    "Набор данных включает следующие поля:\n",
    "\n",
    "- `'Churn'` — факт оттока в текущем месяце;\n",
    "- Текущие поля в датасете:\n",
    "    - Данные клиента за предыдущий до проверки факта оттока месяц:\n",
    "        - `'gender'` — пол;\n",
    "        - `'Near_Location'` — проживание или работа в районе, где находится фитнес-центр;\n",
    "        - `'Partner'` — сотрудник компании-партнёра клуба (сотрудничество с компаниями, чьи сотрудники могут получать скидки на абонемент — в таком случае фитнес-центр хранит информацию о работодателе клиента);\n",
    "        - `Promo_friends` — факт первоначальной записи в рамках акции «приведи друга» (использовал промо-код от знакомого при оплате первого абонемента);\n",
    "        - `'Phone'` — наличие контактного телефона;\n",
    "        - `'Age'` — возраст;\n",
    "        - `'Lifetime'` — время с момента первого обращения в фитнес-центр (в месяцах).\n",
    "- Информация на основе журнала посещений, покупок и информация о текущем статусе абонемента клиента:\n",
    "    - `'Contract_period'` — длительность текущего действующего абонемента (месяц, 3 месяца, 6 месяцев, год);\n",
    "    - `'Month_to_end_contract'` — срок до окончания текущего действующего абонемента (в месяцах);\n",
    "    - `'Group_visits'` — факт посещения групповых занятий;\n",
    "    - `'Avg_class_frequency_total'` — средняя частота посещений в неделю за все время с начала действия абонемента;\n",
    "    - `'Avg_class_frequency_current_month'` — средняя частота посещений в неделю за предыдущий месяц;\n",
    "    - `'Avg_additional_charges_total'` — суммарная выручка от других услуг фитнес-центра: кафе, спорт-товары, косметический и массажный салон."
   ]
  },
  {
   "cell_type": "markdown",
   "metadata": {},
   "source": [
    "## Загрузка данных и импорт библиотек"
   ]
  },
  {
   "cell_type": "code",
   "execution_count": 30,
   "metadata": {},
   "outputs": [],
   "source": [
    "import pandas as pd\n",
    "import seaborn as sns\n",
    "import matplotlib.pyplot as plt\n",
    "import warnings\n",
    "warnings.filterwarnings('ignore')\n",
    "\n",
    "from sklearn.model_selection import train_test_split\n",
    "from sklearn.linear_model import LogisticRegression\n",
    "from sklearn.ensemble import RandomForestClassifier\n",
    "from sklearn.preprocessing import StandardScaler\n",
    "from sklearn.metrics import accuracy_score, precision_score, recall_score, f1_score\n",
    "from scipy.cluster.hierarchy import dendrogram, linkage\n",
    "from sklearn.cluster import KMeans\n",
    "from sklearn.metrics import roc_auc_score"
   ]
  },
  {
   "cell_type": "code",
   "execution_count": 31,
   "metadata": {},
   "outputs": [],
   "source": [
    "gym = pd.read_csv('/datasets/gym_churn.csv')"
   ]
  },
  {
   "cell_type": "markdown",
   "metadata": {},
   "source": [
    "## Исследовательский анализ данных (EDA)"
   ]
  },
  {
   "cell_type": "markdown",
   "metadata": {},
   "source": [
    "### Изучение данных"
   ]
  },
  {
   "cell_type": "code",
   "execution_count": 32,
   "metadata": {},
   "outputs": [
    {
     "data": {
      "text/html": [
       "<div>\n",
       "<style scoped>\n",
       "    .dataframe tbody tr th:only-of-type {\n",
       "        vertical-align: middle;\n",
       "    }\n",
       "\n",
       "    .dataframe tbody tr th {\n",
       "        vertical-align: top;\n",
       "    }\n",
       "\n",
       "    .dataframe thead th {\n",
       "        text-align: right;\n",
       "    }\n",
       "</style>\n",
       "<table border=\"1\" class=\"dataframe\">\n",
       "  <thead>\n",
       "    <tr style=\"text-align: right;\">\n",
       "      <th></th>\n",
       "      <th>gender</th>\n",
       "      <th>Near_Location</th>\n",
       "      <th>Partner</th>\n",
       "      <th>Promo_friends</th>\n",
       "      <th>Phone</th>\n",
       "      <th>Contract_period</th>\n",
       "      <th>Group_visits</th>\n",
       "      <th>Age</th>\n",
       "      <th>Avg_additional_charges_total</th>\n",
       "      <th>Month_to_end_contract</th>\n",
       "      <th>Lifetime</th>\n",
       "      <th>Avg_class_frequency_total</th>\n",
       "      <th>Avg_class_frequency_current_month</th>\n",
       "      <th>Churn</th>\n",
       "    </tr>\n",
       "  </thead>\n",
       "  <tbody>\n",
       "    <tr>\n",
       "      <th>0</th>\n",
       "      <td>1</td>\n",
       "      <td>1</td>\n",
       "      <td>1</td>\n",
       "      <td>1</td>\n",
       "      <td>0</td>\n",
       "      <td>6</td>\n",
       "      <td>1</td>\n",
       "      <td>29</td>\n",
       "      <td>14.227470</td>\n",
       "      <td>5.0</td>\n",
       "      <td>3</td>\n",
       "      <td>0.020398</td>\n",
       "      <td>0.000000</td>\n",
       "      <td>0</td>\n",
       "    </tr>\n",
       "    <tr>\n",
       "      <th>1</th>\n",
       "      <td>0</td>\n",
       "      <td>1</td>\n",
       "      <td>0</td>\n",
       "      <td>0</td>\n",
       "      <td>1</td>\n",
       "      <td>12</td>\n",
       "      <td>1</td>\n",
       "      <td>31</td>\n",
       "      <td>113.202938</td>\n",
       "      <td>12.0</td>\n",
       "      <td>7</td>\n",
       "      <td>1.922936</td>\n",
       "      <td>1.910244</td>\n",
       "      <td>0</td>\n",
       "    </tr>\n",
       "    <tr>\n",
       "      <th>2</th>\n",
       "      <td>0</td>\n",
       "      <td>1</td>\n",
       "      <td>1</td>\n",
       "      <td>0</td>\n",
       "      <td>1</td>\n",
       "      <td>1</td>\n",
       "      <td>0</td>\n",
       "      <td>28</td>\n",
       "      <td>129.448479</td>\n",
       "      <td>1.0</td>\n",
       "      <td>2</td>\n",
       "      <td>1.859098</td>\n",
       "      <td>1.736502</td>\n",
       "      <td>0</td>\n",
       "    </tr>\n",
       "    <tr>\n",
       "      <th>3</th>\n",
       "      <td>0</td>\n",
       "      <td>1</td>\n",
       "      <td>1</td>\n",
       "      <td>1</td>\n",
       "      <td>1</td>\n",
       "      <td>12</td>\n",
       "      <td>1</td>\n",
       "      <td>33</td>\n",
       "      <td>62.669863</td>\n",
       "      <td>12.0</td>\n",
       "      <td>2</td>\n",
       "      <td>3.205633</td>\n",
       "      <td>3.357215</td>\n",
       "      <td>0</td>\n",
       "    </tr>\n",
       "    <tr>\n",
       "      <th>4</th>\n",
       "      <td>1</td>\n",
       "      <td>1</td>\n",
       "      <td>1</td>\n",
       "      <td>1</td>\n",
       "      <td>1</td>\n",
       "      <td>1</td>\n",
       "      <td>0</td>\n",
       "      <td>26</td>\n",
       "      <td>198.362265</td>\n",
       "      <td>1.0</td>\n",
       "      <td>3</td>\n",
       "      <td>1.113884</td>\n",
       "      <td>1.120078</td>\n",
       "      <td>0</td>\n",
       "    </tr>\n",
       "    <tr>\n",
       "      <th>5</th>\n",
       "      <td>1</td>\n",
       "      <td>1</td>\n",
       "      <td>0</td>\n",
       "      <td>0</td>\n",
       "      <td>1</td>\n",
       "      <td>1</td>\n",
       "      <td>1</td>\n",
       "      <td>34</td>\n",
       "      <td>450.743960</td>\n",
       "      <td>1.0</td>\n",
       "      <td>3</td>\n",
       "      <td>2.623477</td>\n",
       "      <td>2.637007</td>\n",
       "      <td>0</td>\n",
       "    </tr>\n",
       "    <tr>\n",
       "      <th>6</th>\n",
       "      <td>1</td>\n",
       "      <td>1</td>\n",
       "      <td>1</td>\n",
       "      <td>1</td>\n",
       "      <td>0</td>\n",
       "      <td>6</td>\n",
       "      <td>1</td>\n",
       "      <td>32</td>\n",
       "      <td>94.266389</td>\n",
       "      <td>6.0</td>\n",
       "      <td>2</td>\n",
       "      <td>1.138941</td>\n",
       "      <td>1.277242</td>\n",
       "      <td>0</td>\n",
       "    </tr>\n",
       "    <tr>\n",
       "      <th>7</th>\n",
       "      <td>0</td>\n",
       "      <td>1</td>\n",
       "      <td>0</td>\n",
       "      <td>0</td>\n",
       "      <td>1</td>\n",
       "      <td>1</td>\n",
       "      <td>0</td>\n",
       "      <td>30</td>\n",
       "      <td>217.786641</td>\n",
       "      <td>1.0</td>\n",
       "      <td>0</td>\n",
       "      <td>1.213502</td>\n",
       "      <td>1.049387</td>\n",
       "      <td>1</td>\n",
       "    </tr>\n",
       "    <tr>\n",
       "      <th>8</th>\n",
       "      <td>1</td>\n",
       "      <td>1</td>\n",
       "      <td>1</td>\n",
       "      <td>1</td>\n",
       "      <td>1</td>\n",
       "      <td>1</td>\n",
       "      <td>1</td>\n",
       "      <td>23</td>\n",
       "      <td>45.409909</td>\n",
       "      <td>1.0</td>\n",
       "      <td>1</td>\n",
       "      <td>1.106239</td>\n",
       "      <td>1.059333</td>\n",
       "      <td>0</td>\n",
       "    </tr>\n",
       "    <tr>\n",
       "      <th>9</th>\n",
       "      <td>0</td>\n",
       "      <td>1</td>\n",
       "      <td>0</td>\n",
       "      <td>0</td>\n",
       "      <td>1</td>\n",
       "      <td>1</td>\n",
       "      <td>0</td>\n",
       "      <td>31</td>\n",
       "      <td>65.310836</td>\n",
       "      <td>1.0</td>\n",
       "      <td>11</td>\n",
       "      <td>1.810852</td>\n",
       "      <td>1.951368</td>\n",
       "      <td>0</td>\n",
       "    </tr>\n",
       "  </tbody>\n",
       "</table>\n",
       "</div>"
      ],
      "text/plain": [
       "   gender  Near_Location  Partner  Promo_friends  Phone  Contract_period  \\\n",
       "0       1              1        1              1      0                6   \n",
       "1       0              1        0              0      1               12   \n",
       "2       0              1        1              0      1                1   \n",
       "3       0              1        1              1      1               12   \n",
       "4       1              1        1              1      1                1   \n",
       "5       1              1        0              0      1                1   \n",
       "6       1              1        1              1      0                6   \n",
       "7       0              1        0              0      1                1   \n",
       "8       1              1        1              1      1                1   \n",
       "9       0              1        0              0      1                1   \n",
       "\n",
       "   Group_visits  Age  Avg_additional_charges_total  Month_to_end_contract  \\\n",
       "0             1   29                     14.227470                    5.0   \n",
       "1             1   31                    113.202938                   12.0   \n",
       "2             0   28                    129.448479                    1.0   \n",
       "3             1   33                     62.669863                   12.0   \n",
       "4             0   26                    198.362265                    1.0   \n",
       "5             1   34                    450.743960                    1.0   \n",
       "6             1   32                     94.266389                    6.0   \n",
       "7             0   30                    217.786641                    1.0   \n",
       "8             1   23                     45.409909                    1.0   \n",
       "9             0   31                     65.310836                    1.0   \n",
       "\n",
       "   Lifetime  Avg_class_frequency_total  Avg_class_frequency_current_month  \\\n",
       "0         3                   0.020398                           0.000000   \n",
       "1         7                   1.922936                           1.910244   \n",
       "2         2                   1.859098                           1.736502   \n",
       "3         2                   3.205633                           3.357215   \n",
       "4         3                   1.113884                           1.120078   \n",
       "5         3                   2.623477                           2.637007   \n",
       "6         2                   1.138941                           1.277242   \n",
       "7         0                   1.213502                           1.049387   \n",
       "8         1                   1.106239                           1.059333   \n",
       "9        11                   1.810852                           1.951368   \n",
       "\n",
       "   Churn  \n",
       "0      0  \n",
       "1      0  \n",
       "2      0  \n",
       "3      0  \n",
       "4      0  \n",
       "5      0  \n",
       "6      0  \n",
       "7      1  \n",
       "8      0  \n",
       "9      0  "
      ]
     },
     "execution_count": 32,
     "metadata": {},
     "output_type": "execute_result"
    }
   ],
   "source": [
    "gym.head(10)"
   ]
  },
  {
   "cell_type": "code",
   "execution_count": 33,
   "metadata": {},
   "outputs": [
    {
     "name": "stdout",
     "output_type": "stream",
     "text": [
      "<class 'pandas.core.frame.DataFrame'>\n",
      "RangeIndex: 4000 entries, 0 to 3999\n",
      "Data columns (total 14 columns):\n",
      " #   Column                             Non-Null Count  Dtype  \n",
      "---  ------                             --------------  -----  \n",
      " 0   gender                             4000 non-null   int64  \n",
      " 1   Near_Location                      4000 non-null   int64  \n",
      " 2   Partner                            4000 non-null   int64  \n",
      " 3   Promo_friends                      4000 non-null   int64  \n",
      " 4   Phone                              4000 non-null   int64  \n",
      " 5   Contract_period                    4000 non-null   int64  \n",
      " 6   Group_visits                       4000 non-null   int64  \n",
      " 7   Age                                4000 non-null   int64  \n",
      " 8   Avg_additional_charges_total       4000 non-null   float64\n",
      " 9   Month_to_end_contract              4000 non-null   float64\n",
      " 10  Lifetime                           4000 non-null   int64  \n",
      " 11  Avg_class_frequency_total          4000 non-null   float64\n",
      " 12  Avg_class_frequency_current_month  4000 non-null   float64\n",
      " 13  Churn                              4000 non-null   int64  \n",
      "dtypes: float64(4), int64(10)\n",
      "memory usage: 437.6 KB\n"
     ]
    }
   ],
   "source": [
    "gym.info()"
   ]
  },
  {
   "cell_type": "markdown",
   "metadata": {},
   "source": [
    "Для удобства приведем названия столбцов к нижнему регистру:"
   ]
  },
  {
   "cell_type": "code",
   "execution_count": 34,
   "metadata": {},
   "outputs": [
    {
     "data": {
      "text/plain": [
       "['gender',\n",
       " 'near_location',\n",
       " 'partner',\n",
       " 'promo_friends',\n",
       " 'phone',\n",
       " 'contract_period',\n",
       " 'group_visits',\n",
       " 'age',\n",
       " 'avg_additional_charges_total',\n",
       " 'month_to_end_contract',\n",
       " 'lifetime',\n",
       " 'avg_class_frequency_total',\n",
       " 'avg_class_frequency_current_month',\n",
       " 'churn']"
      ]
     },
     "execution_count": 34,
     "metadata": {},
     "output_type": "execute_result"
    }
   ],
   "source": [
    "gym.columns = gym.columns.str.lower()\n",
    "gym.columns.tolist()"
   ]
  },
  {
   "cell_type": "code",
   "execution_count": 35,
   "metadata": {},
   "outputs": [
    {
     "name": "stdout",
     "output_type": "stream",
     "text": [
      "<class 'pandas.core.frame.DataFrame'>\n",
      "RangeIndex: 4000 entries, 0 to 3999\n",
      "Data columns (total 14 columns):\n",
      " #   Column                             Non-Null Count  Dtype  \n",
      "---  ------                             --------------  -----  \n",
      " 0   gender                             4000 non-null   int64  \n",
      " 1   near_location                      4000 non-null   int64  \n",
      " 2   partner                            4000 non-null   int64  \n",
      " 3   promo_friends                      4000 non-null   int64  \n",
      " 4   phone                              4000 non-null   int64  \n",
      " 5   contract_period                    4000 non-null   int64  \n",
      " 6   group_visits                       4000 non-null   int64  \n",
      " 7   age                                4000 non-null   int64  \n",
      " 8   avg_additional_charges_total       4000 non-null   float64\n",
      " 9   month_to_end_contract              4000 non-null   float64\n",
      " 10  lifetime                           4000 non-null   int64  \n",
      " 11  avg_class_frequency_total          4000 non-null   float64\n",
      " 12  avg_class_frequency_current_month  4000 non-null   float64\n",
      " 13  churn                              4000 non-null   int64  \n",
      "dtypes: float64(4), int64(10)\n",
      "memory usage: 437.6 KB\n"
     ]
    }
   ],
   "source": [
    "gym.info()"
   ]
  },
  {
   "cell_type": "code",
   "execution_count": 36,
   "metadata": {},
   "outputs": [
    {
     "data": {
      "text/plain": [
       "gender                               0\n",
       "near_location                        0\n",
       "partner                              0\n",
       "promo_friends                        0\n",
       "phone                                0\n",
       "contract_period                      0\n",
       "group_visits                         0\n",
       "age                                  0\n",
       "avg_additional_charges_total         0\n",
       "month_to_end_contract                0\n",
       "lifetime                             0\n",
       "avg_class_frequency_total            0\n",
       "avg_class_frequency_current_month    0\n",
       "churn                                0\n",
       "dtype: int64"
      ]
     },
     "execution_count": 36,
     "metadata": {},
     "output_type": "execute_result"
    }
   ],
   "source": [
    "gym.isnull().sum()"
   ]
  },
  {
   "cell_type": "code",
   "execution_count": 37,
   "metadata": {},
   "outputs": [
    {
     "data": {
      "text/plain": [
       "0"
      ]
     },
     "execution_count": 37,
     "metadata": {},
     "output_type": "execute_result"
    }
   ],
   "source": [
    "gym.duplicated().sum()"
   ]
  },
  {
   "cell_type": "markdown",
   "metadata": {},
   "source": [
    "Пропусков и дубликатов нет, типы данных в порядке, названия столбцов в удобном виде. Дальше посмотрим на средние значения и стандартные отклонения:"
   ]
  },
  {
   "cell_type": "code",
   "execution_count": 38,
   "metadata": {},
   "outputs": [
    {
     "data": {
      "text/html": [
       "<div>\n",
       "<style scoped>\n",
       "    .dataframe tbody tr th:only-of-type {\n",
       "        vertical-align: middle;\n",
       "    }\n",
       "\n",
       "    .dataframe tbody tr th {\n",
       "        vertical-align: top;\n",
       "    }\n",
       "\n",
       "    .dataframe thead th {\n",
       "        text-align: right;\n",
       "    }\n",
       "</style>\n",
       "<table border=\"1\" class=\"dataframe\">\n",
       "  <thead>\n",
       "    <tr style=\"text-align: right;\">\n",
       "      <th></th>\n",
       "      <th>count</th>\n",
       "      <th>mean</th>\n",
       "      <th>std</th>\n",
       "      <th>min</th>\n",
       "      <th>25%</th>\n",
       "      <th>50%</th>\n",
       "      <th>75%</th>\n",
       "      <th>max</th>\n",
       "    </tr>\n",
       "  </thead>\n",
       "  <tbody>\n",
       "    <tr>\n",
       "      <th>gender</th>\n",
       "      <td>4000.0</td>\n",
       "      <td>0.510250</td>\n",
       "      <td>0.499957</td>\n",
       "      <td>0.000000</td>\n",
       "      <td>0.000000</td>\n",
       "      <td>1.000000</td>\n",
       "      <td>1.000000</td>\n",
       "      <td>1.000000</td>\n",
       "    </tr>\n",
       "    <tr>\n",
       "      <th>near_location</th>\n",
       "      <td>4000.0</td>\n",
       "      <td>0.845250</td>\n",
       "      <td>0.361711</td>\n",
       "      <td>0.000000</td>\n",
       "      <td>1.000000</td>\n",
       "      <td>1.000000</td>\n",
       "      <td>1.000000</td>\n",
       "      <td>1.000000</td>\n",
       "    </tr>\n",
       "    <tr>\n",
       "      <th>partner</th>\n",
       "      <td>4000.0</td>\n",
       "      <td>0.486750</td>\n",
       "      <td>0.499887</td>\n",
       "      <td>0.000000</td>\n",
       "      <td>0.000000</td>\n",
       "      <td>0.000000</td>\n",
       "      <td>1.000000</td>\n",
       "      <td>1.000000</td>\n",
       "    </tr>\n",
       "    <tr>\n",
       "      <th>promo_friends</th>\n",
       "      <td>4000.0</td>\n",
       "      <td>0.308500</td>\n",
       "      <td>0.461932</td>\n",
       "      <td>0.000000</td>\n",
       "      <td>0.000000</td>\n",
       "      <td>0.000000</td>\n",
       "      <td>1.000000</td>\n",
       "      <td>1.000000</td>\n",
       "    </tr>\n",
       "    <tr>\n",
       "      <th>phone</th>\n",
       "      <td>4000.0</td>\n",
       "      <td>0.903500</td>\n",
       "      <td>0.295313</td>\n",
       "      <td>0.000000</td>\n",
       "      <td>1.000000</td>\n",
       "      <td>1.000000</td>\n",
       "      <td>1.000000</td>\n",
       "      <td>1.000000</td>\n",
       "    </tr>\n",
       "    <tr>\n",
       "      <th>contract_period</th>\n",
       "      <td>4000.0</td>\n",
       "      <td>4.681250</td>\n",
       "      <td>4.549706</td>\n",
       "      <td>1.000000</td>\n",
       "      <td>1.000000</td>\n",
       "      <td>1.000000</td>\n",
       "      <td>6.000000</td>\n",
       "      <td>12.000000</td>\n",
       "    </tr>\n",
       "    <tr>\n",
       "      <th>group_visits</th>\n",
       "      <td>4000.0</td>\n",
       "      <td>0.412250</td>\n",
       "      <td>0.492301</td>\n",
       "      <td>0.000000</td>\n",
       "      <td>0.000000</td>\n",
       "      <td>0.000000</td>\n",
       "      <td>1.000000</td>\n",
       "      <td>1.000000</td>\n",
       "    </tr>\n",
       "    <tr>\n",
       "      <th>age</th>\n",
       "      <td>4000.0</td>\n",
       "      <td>29.184250</td>\n",
       "      <td>3.258367</td>\n",
       "      <td>18.000000</td>\n",
       "      <td>27.000000</td>\n",
       "      <td>29.000000</td>\n",
       "      <td>31.000000</td>\n",
       "      <td>41.000000</td>\n",
       "    </tr>\n",
       "    <tr>\n",
       "      <th>avg_additional_charges_total</th>\n",
       "      <td>4000.0</td>\n",
       "      <td>146.943728</td>\n",
       "      <td>96.355602</td>\n",
       "      <td>0.148205</td>\n",
       "      <td>68.868830</td>\n",
       "      <td>136.220159</td>\n",
       "      <td>210.949625</td>\n",
       "      <td>552.590740</td>\n",
       "    </tr>\n",
       "    <tr>\n",
       "      <th>month_to_end_contract</th>\n",
       "      <td>4000.0</td>\n",
       "      <td>4.322750</td>\n",
       "      <td>4.191297</td>\n",
       "      <td>1.000000</td>\n",
       "      <td>1.000000</td>\n",
       "      <td>1.000000</td>\n",
       "      <td>6.000000</td>\n",
       "      <td>12.000000</td>\n",
       "    </tr>\n",
       "    <tr>\n",
       "      <th>lifetime</th>\n",
       "      <td>4000.0</td>\n",
       "      <td>3.724750</td>\n",
       "      <td>3.749267</td>\n",
       "      <td>0.000000</td>\n",
       "      <td>1.000000</td>\n",
       "      <td>3.000000</td>\n",
       "      <td>5.000000</td>\n",
       "      <td>31.000000</td>\n",
       "    </tr>\n",
       "    <tr>\n",
       "      <th>avg_class_frequency_total</th>\n",
       "      <td>4000.0</td>\n",
       "      <td>1.879020</td>\n",
       "      <td>0.972245</td>\n",
       "      <td>0.000000</td>\n",
       "      <td>1.180875</td>\n",
       "      <td>1.832768</td>\n",
       "      <td>2.536078</td>\n",
       "      <td>6.023668</td>\n",
       "    </tr>\n",
       "    <tr>\n",
       "      <th>avg_class_frequency_current_month</th>\n",
       "      <td>4000.0</td>\n",
       "      <td>1.767052</td>\n",
       "      <td>1.052906</td>\n",
       "      <td>0.000000</td>\n",
       "      <td>0.963003</td>\n",
       "      <td>1.719574</td>\n",
       "      <td>2.510336</td>\n",
       "      <td>6.146783</td>\n",
       "    </tr>\n",
       "    <tr>\n",
       "      <th>churn</th>\n",
       "      <td>4000.0</td>\n",
       "      <td>0.265250</td>\n",
       "      <td>0.441521</td>\n",
       "      <td>0.000000</td>\n",
       "      <td>0.000000</td>\n",
       "      <td>0.000000</td>\n",
       "      <td>1.000000</td>\n",
       "      <td>1.000000</td>\n",
       "    </tr>\n",
       "  </tbody>\n",
       "</table>\n",
       "</div>"
      ],
      "text/plain": [
       "                                    count        mean        std        min  \\\n",
       "gender                             4000.0    0.510250   0.499957   0.000000   \n",
       "near_location                      4000.0    0.845250   0.361711   0.000000   \n",
       "partner                            4000.0    0.486750   0.499887   0.000000   \n",
       "promo_friends                      4000.0    0.308500   0.461932   0.000000   \n",
       "phone                              4000.0    0.903500   0.295313   0.000000   \n",
       "contract_period                    4000.0    4.681250   4.549706   1.000000   \n",
       "group_visits                       4000.0    0.412250   0.492301   0.000000   \n",
       "age                                4000.0   29.184250   3.258367  18.000000   \n",
       "avg_additional_charges_total       4000.0  146.943728  96.355602   0.148205   \n",
       "month_to_end_contract              4000.0    4.322750   4.191297   1.000000   \n",
       "lifetime                           4000.0    3.724750   3.749267   0.000000   \n",
       "avg_class_frequency_total          4000.0    1.879020   0.972245   0.000000   \n",
       "avg_class_frequency_current_month  4000.0    1.767052   1.052906   0.000000   \n",
       "churn                              4000.0    0.265250   0.441521   0.000000   \n",
       "\n",
       "                                         25%         50%         75%  \\\n",
       "gender                              0.000000    1.000000    1.000000   \n",
       "near_location                       1.000000    1.000000    1.000000   \n",
       "partner                             0.000000    0.000000    1.000000   \n",
       "promo_friends                       0.000000    0.000000    1.000000   \n",
       "phone                               1.000000    1.000000    1.000000   \n",
       "contract_period                     1.000000    1.000000    6.000000   \n",
       "group_visits                        0.000000    0.000000    1.000000   \n",
       "age                                27.000000   29.000000   31.000000   \n",
       "avg_additional_charges_total       68.868830  136.220159  210.949625   \n",
       "month_to_end_contract               1.000000    1.000000    6.000000   \n",
       "lifetime                            1.000000    3.000000    5.000000   \n",
       "avg_class_frequency_total           1.180875    1.832768    2.536078   \n",
       "avg_class_frequency_current_month   0.963003    1.719574    2.510336   \n",
       "churn                               0.000000    0.000000    1.000000   \n",
       "\n",
       "                                          max  \n",
       "gender                               1.000000  \n",
       "near_location                        1.000000  \n",
       "partner                              1.000000  \n",
       "promo_friends                        1.000000  \n",
       "phone                                1.000000  \n",
       "contract_period                     12.000000  \n",
       "group_visits                         1.000000  \n",
       "age                                 41.000000  \n",
       "avg_additional_charges_total       552.590740  \n",
       "month_to_end_contract               12.000000  \n",
       "lifetime                            31.000000  \n",
       "avg_class_frequency_total            6.023668  \n",
       "avg_class_frequency_current_month    6.146783  \n",
       "churn                                1.000000  "
      ]
     },
     "execution_count": 38,
     "metadata": {},
     "output_type": "execute_result"
    }
   ],
   "source": [
    "gym.describe().T"
   ]
  },
  {
   "cell_type": "markdown",
   "metadata": {},
   "source": [
    "Посмотрим на средние значения признаков в двух группах — тех, кто ушел в отток и тех, кто остался:"
   ]
  },
  {
   "cell_type": "code",
   "execution_count": 39,
   "metadata": {},
   "outputs": [
    {
     "data": {
      "text/html": [
       "<div>\n",
       "<style scoped>\n",
       "    .dataframe tbody tr th:only-of-type {\n",
       "        vertical-align: middle;\n",
       "    }\n",
       "\n",
       "    .dataframe tbody tr th {\n",
       "        vertical-align: top;\n",
       "    }\n",
       "\n",
       "    .dataframe thead th {\n",
       "        text-align: right;\n",
       "    }\n",
       "</style>\n",
       "<table border=\"1\" class=\"dataframe\">\n",
       "  <thead>\n",
       "    <tr style=\"text-align: right;\">\n",
       "      <th>churn</th>\n",
       "      <th>0</th>\n",
       "      <th>1</th>\n",
       "    </tr>\n",
       "  </thead>\n",
       "  <tbody>\n",
       "    <tr>\n",
       "      <th>gender</th>\n",
       "      <td>0.510037</td>\n",
       "      <td>0.510839</td>\n",
       "    </tr>\n",
       "    <tr>\n",
       "      <th>near_location</th>\n",
       "      <td>0.873086</td>\n",
       "      <td>0.768143</td>\n",
       "    </tr>\n",
       "    <tr>\n",
       "      <th>partner</th>\n",
       "      <td>0.534195</td>\n",
       "      <td>0.355325</td>\n",
       "    </tr>\n",
       "    <tr>\n",
       "      <th>promo_friends</th>\n",
       "      <td>0.353522</td>\n",
       "      <td>0.183789</td>\n",
       "    </tr>\n",
       "    <tr>\n",
       "      <th>phone</th>\n",
       "      <td>0.903709</td>\n",
       "      <td>0.902922</td>\n",
       "    </tr>\n",
       "    <tr>\n",
       "      <th>contract_period</th>\n",
       "      <td>5.747193</td>\n",
       "      <td>1.728558</td>\n",
       "    </tr>\n",
       "    <tr>\n",
       "      <th>group_visits</th>\n",
       "      <td>0.464103</td>\n",
       "      <td>0.268615</td>\n",
       "    </tr>\n",
       "    <tr>\n",
       "      <th>age</th>\n",
       "      <td>29.976523</td>\n",
       "      <td>26.989632</td>\n",
       "    </tr>\n",
       "    <tr>\n",
       "      <th>avg_additional_charges_total</th>\n",
       "      <td>158.445715</td>\n",
       "      <td>115.082899</td>\n",
       "    </tr>\n",
       "    <tr>\n",
       "      <th>month_to_end_contract</th>\n",
       "      <td>5.283089</td>\n",
       "      <td>1.662582</td>\n",
       "    </tr>\n",
       "    <tr>\n",
       "      <th>lifetime</th>\n",
       "      <td>4.711807</td>\n",
       "      <td>0.990575</td>\n",
       "    </tr>\n",
       "    <tr>\n",
       "      <th>avg_class_frequency_total</th>\n",
       "      <td>2.024876</td>\n",
       "      <td>1.474995</td>\n",
       "    </tr>\n",
       "    <tr>\n",
       "      <th>avg_class_frequency_current_month</th>\n",
       "      <td>2.027882</td>\n",
       "      <td>1.044546</td>\n",
       "    </tr>\n",
       "  </tbody>\n",
       "</table>\n",
       "</div>"
      ],
      "text/plain": [
       "churn                                       0           1\n",
       "gender                               0.510037    0.510839\n",
       "near_location                        0.873086    0.768143\n",
       "partner                              0.534195    0.355325\n",
       "promo_friends                        0.353522    0.183789\n",
       "phone                                0.903709    0.902922\n",
       "contract_period                      5.747193    1.728558\n",
       "group_visits                         0.464103    0.268615\n",
       "age                                 29.976523   26.989632\n",
       "avg_additional_charges_total       158.445715  115.082899\n",
       "month_to_end_contract                5.283089    1.662582\n",
       "lifetime                             4.711807    0.990575\n",
       "avg_class_frequency_total            2.024876    1.474995\n",
       "avg_class_frequency_current_month    2.027882    1.044546"
      ]
     },
     "execution_count": 39,
     "metadata": {},
     "output_type": "execute_result"
    }
   ],
   "source": [
    "gym.groupby('churn').agg('mean').T"
   ]
  },
  {
   "cell_type": "markdown",
   "metadata": {},
   "source": [
    "**Вывод:** Видно, что средние значения почти по всем признакам у группы оттока ниже, чем у тех, кто остался. "
   ]
  },
  {
   "cell_type": "markdown",
   "metadata": {},
   "source": [
    "### Диаграммы и распределения"
   ]
  },
  {
   "cell_type": "markdown",
   "metadata": {},
   "source": [
    "Построим столбчатые гистограммы и распределения признаков для тех, кто ушёл (отток) и тех, кто остался (не попали в отток):"
   ]
  },
  {
   "cell_type": "code",
   "execution_count": 40,
   "metadata": {},
   "outputs": [],
   "source": [
    "noncat_features = gym[['age','avg_additional_charges_total','month_to_end_contract','lifetime','avg_class_frequency_total','avg_class_frequency_current_month']]\n",
    "cat_features = gym[['contract_period','gender','near_location','partner','promo_friends','phone','group_visits','churn']]"
   ]
  },
  {
   "cell_type": "code",
   "execution_count": 41,
   "metadata": {
    "scrolled": false
   },
   "outputs": [
    {
     "data": {
      "image/png": "[encoded data removed]",
      "text/plain": [
       "<Figure size 720x288 with 1 Axes>"
      ]
     },
     "metadata": {
      "needs_background": "light"
     },
     "output_type": "display_data"
    },
    {
     "data": {
      "image/png": "[encoded data removed]",
      "text/plain": [
       "<Figure size 720x288 with 1 Axes>"
      ]
     },
     "metadata": {
      "needs_background": "light"
     },
     "output_type": "display_data"
    },
    {
     "data": {
      "image/png": "[encoded data removed]",
      "text/plain": [
       "<Figure size 720x288 with 1 Axes>"
      ]
     },
     "metadata": {
      "needs_background": "light"
     },
     "output_type": "display_data"
    },
    {
     "data": {
      "image/png": "[encoded data removed]",
      "text/plain": [
       "<Figure size 720x288 with 1 Axes>"
      ]
     },
     "metadata": {
      "needs_background": "light"
     },
     "output_type": "display_data"
    },
    {
     "data": {
      "image/png": "[encoded data removed]",
      "text/plain": [
       "<Figure size 720x288 with 1 Axes>"
      ]
     },
     "metadata": {
      "needs_background": "light"
     },
     "output_type": "display_data"
    },
    {
     "data": {
      "image/png": "[encoded data removed]",
      "text/plain": [
       "<Figure size 720x288 with 1 Axes>"
      ]
     },
     "metadata": {
      "needs_background": "light"
     },
     "output_type": "display_data"
    }
   ],
   "source": [
    "for column in noncat_features.columns:\n",
    "    plt.figure(figsize=(10, 4))\n",
    "    sns.distplot(gym.query('churn == 0')[column])\n",
    "    sns.distplot(gym.query('churn == 1')[column], color = 'm')\n",
    "    plt.legend(labels = ('stayed', 'left'))\n",
    "    plt.title(column)\n",
    "    plt.show()"
   ]
  },
  {
   "cell_type": "markdown",
   "metadata": {},
   "source": [
    "**Вывод:** По данным распределениям можно сказать:\n",
    "- Более молодые клиенты уходят чаще\n",
    "- Клиенты, которые ушли, тратят меньше денег на дополнительные услуги и чаще всего приобретают минимальный абонемент (на один месяц)\n",
    "- Клиенты в основном уходят в первые полгода (после полугода занятий уход в отток почти не происходит)\n",
    "- Клиенты, которые ушли, обычно посещают фитнес-центр 1-2 раза в неделю\n",
    "- Клиенты, не посещавшие зал на последний месяц, с большой вероятностью уйдут в отток, а посетившие зал более 4 раз за последний месяц — скорее всего останутся"
   ]
  },
  {
   "cell_type": "code",
   "execution_count": 42,
   "metadata": {
    "scrolled": false
   },
   "outputs": [
    {
     "data": {
      "image/png": "[encoded data removed]",
      "text/plain": [
       "<Figure size 460.8x288 with 2 Axes>"
      ]
     },
     "metadata": {
      "needs_background": "light"
     },
     "output_type": "display_data"
    },
    {
     "data": {
      "image/png": "[encoded data removed]",
      "text/plain": [
       "<Figure size 460.8x288 with 2 Axes>"
      ]
     },
     "metadata": {
      "needs_background": "light"
     },
     "output_type": "display_data"
    },
    {
     "data": {
      "image/png": "[encoded data removed]",
      "text/plain": [
       "<Figure size 460.8x288 with 2 Axes>"
      ]
     },
     "metadata": {
      "needs_background": "light"
     },
     "output_type": "display_data"
    },
    {
     "data": {
      "image/png": "[encoded data removed]",
      "text/plain": [
       "<Figure size 460.8x288 with 2 Axes>"
      ]
     },
     "metadata": {
      "needs_background": "light"
     },
     "output_type": "display_data"
    },
    {
     "data": {
      "image/png": "[encoded data removed]",
      "text/plain": [
       "<Figure size 460.8x288 with 2 Axes>"
      ]
     },
     "metadata": {
      "needs_background": "light"
     },
     "output_type": "display_data"
    },
    {
     "data": {
      "image/png": "[encoded data removed]",
      "text/plain": [
       "<Figure size 460.8x288 with 2 Axes>"
      ]
     },
     "metadata": {
      "needs_background": "light"
     },
     "output_type": "display_data"
    },
    {
     "data": {
      "image/png": "[encoded data removed]",
      "text/plain": [
       "<Figure size 460.8x288 with 2 Axes>"
      ]
     },
     "metadata": {
      "needs_background": "light"
     },
     "output_type": "display_data"
    },
    {
     "data": {
      "image/png": "[encoded data removed]",
      "text/plain": [
       "<Figure size 460.8x288 with 2 Axes>"
      ]
     },
     "metadata": {
      "needs_background": "light"
     },
     "output_type": "display_data"
    }
   ],
   "source": [
    "for column in cat_features.columns:\n",
    "    sns.catplot(column, col='churn', data = cat_features, kind='count', height=4, aspect=.8, palette='cool')"
   ]
  },
  {
   "cell_type": "markdown",
   "metadata": {},
   "source": [
    "**Вывод:** По данным диаграммам можно сказать:\n",
    "- Уходят чаще те, кто купил минимальный абонемент (на один месяц) и редко посещает групповые занятия\n",
    "- Отток практически не зависит от пола клиентов\n",
    "- Остаются чаще те, кто живет/работает рядом с фитнес-центром и оставил номер телефона"
   ]
  },
  {
   "cell_type": "markdown",
   "metadata": {},
   "source": [
    "### Матрица корреляций"
   ]
  },
  {
   "cell_type": "markdown",
   "metadata": {},
   "source": [
    "Построим матрицу корреляций и визуализируем ее с помощью тепловой карты:"
   ]
  },
  {
   "cell_type": "code",
   "execution_count": 43,
   "metadata": {},
   "outputs": [
    {
     "data": {
      "image/png": "[encoded data removed]",
      "text/plain": [
       "<Figure size 720x720 with 2 Axes>"
      ]
     },
     "metadata": {
      "needs_background": "light"
     },
     "output_type": "display_data"
    }
   ],
   "source": [
    "cm = gym.corr()\n",
    "plt.figure(figsize=(10, 10))\n",
    "sns.heatmap(cm, annot = True, fmt = '0.2f', linewidths=.5, square=True, cmap='magma')\n",
    "plt.show()"
   ]
  },
  {
   "cell_type": "markdown",
   "metadata": {},
   "source": [
    "**Вывод:** Выделяются сильно коррелирующие признаки, такие как `month_to_end_contract`—`contract_period` и `avg_class_frequency_current_month`—`avg_class_frequency_total`, так как они непосредственно зависимы друг от друга. Еще выделяется зависимость `partner`—`promo_friends`. Это говорит о мультиколлениарности, а значит, лучше всего избавляться от одной из таких переменных, чтобы модель работала объективно.\n",
    "          \n",
    "\n",
    "Совсем не имеют корреляции с фактом оттока такие признаки, как пол и наличие контактного телефона. Наблюдается небольшая отрицательная корреляция между фактом оттока и такими признаками, как возраст, длительность абонемента, время с момента первого посещения, количество месяцев до окончания абонемента и количество посещений за последний месяц. "
   ]
  },
  {
   "cell_type": "markdown",
   "metadata": {},
   "source": [
    "## Модель прогнозирования оттока клиентов"
   ]
  },
  {
   "cell_type": "markdown",
   "metadata": {},
   "source": [
    "Разбивка данных:"
   ]
  },
  {
   "cell_type": "code",
   "execution_count": 44,
   "metadata": {},
   "outputs": [],
   "source": [
    "X = gym.drop('churn', axis=1)\n",
    "y = gym['churn']\n",
    "X_train, X_test, y_train, y_test = train_test_split(X, y, test_size=0.2, random_state=0)"
   ]
  },
  {
   "cell_type": "markdown",
   "metadata": {},
   "source": [
    "Обучим модель логистической регрессией:"
   ]
  },
  {
   "cell_type": "code",
   "execution_count": 45,
   "metadata": {},
   "outputs": [],
   "source": [
    "lr_model = LogisticRegression(random_state = 0)\n",
    "lr_model.fit(X_train, y_train)\n",
    "lr_predictions = lr_model.predict(X_test)\n",
    "lr_probabilities = lr_model.predict_proba(X_test)[:,1]"
   ]
  },
  {
   "cell_type": "markdown",
   "metadata": {},
   "source": [
    "Обучим модель случайным лесом:"
   ]
  },
  {
   "cell_type": "code",
   "execution_count": 46,
   "metadata": {},
   "outputs": [],
   "source": [
    "rf_model = RandomForestClassifier(n_estimators = 100, random_state = 0)\n",
    "rf_model.fit(X_train, y_train)\n",
    "rf_predictions = rf_model.predict(X_test)\n",
    "rf_probabilities = rf_model.predict_proba(X_test)[:,1]"
   ]
  },
  {
   "cell_type": "markdown",
   "metadata": {},
   "source": [
    "Напишем функцию для вывода метрик:"
   ]
  },
  {
   "cell_type": "code",
   "execution_count": 47,
   "metadata": {},
   "outputs": [],
   "source": [
    "def show_metrics(y_true, y_pred, y_proba, title):\n",
    "    print(title)\n",
    "    print('\\tAccuracy: {:.2f}'.format(accuracy_score(y_true, y_pred)))\n",
    "    print('\\tPrecision: {:.2f}'.format(precision_score(y_true, y_pred)))\n",
    "    print('\\tRecall: {:.2f}'.format(recall_score(y_true, y_pred)))\n",
    "    print('\\tF1: {:.2f}'.format(f1_score(y_true, y_pred)))\n",
    "    print('\\tROC_AUC: {:.2f}'.format(roc_auc_score(y_true, y_proba)))"
   ]
  },
  {
   "cell_type": "code",
   "execution_count": 48,
   "metadata": {},
   "outputs": [
    {
     "name": "stdout",
     "output_type": "stream",
     "text": [
      "Метрики модели логистической регрессии:\n",
      "\tAccuracy: 0.91\n",
      "\tPrecision: 0.82\n",
      "\tRecall: 0.80\n",
      "\tF1: 0.81\n",
      "\tROC_AUC: 0.96\n",
      "\n",
      "Метрики модели случайного леса:\n",
      "\tAccuracy: 0.92\n",
      "\tPrecision: 0.84\n",
      "\tRecall: 0.82\n",
      "\tF1: 0.83\n",
      "\tROC_AUC: 0.97\n"
     ]
    }
   ],
   "source": [
    "show_metrics(y_test, lr_predictions, lr_probabilities , title = 'Метрики модели логистической регрессии:')\n",
    "show_metrics(y_test, rf_predictions, rf_probabilities, title = '\\nМетрики модели случайного леса:')"
   ]
  },
  {
   "cell_type": "markdown",
   "metadata": {},
   "source": [
    "**Вывод:** По метрикам отличия незначительные, но модель логистической регрессии все-таки оказалась чуть лучше. Еще можно сказать, что обе модели показывают хороший *roc_auc*, что говорит о достойном качестве."
   ]
  },
  {
   "cell_type": "markdown",
   "metadata": {},
   "source": [
    "Дополнительно можем посмотреть на важность признаков для модели логистической регрессии. Чтобы результат получился более наглядным, уберем из обучающей выборки следующие признаки — `month_to_end_contract` и `avg_class_frequency_total`:"
   ]
  },
  {
   "cell_type": "code",
   "execution_count": 49,
   "metadata": {},
   "outputs": [
    {
     "data": {
      "text/html": [
       "<div>\n",
       "<style scoped>\n",
       "    .dataframe tbody tr th:only-of-type {\n",
       "        vertical-align: middle;\n",
       "    }\n",
       "\n",
       "    .dataframe tbody tr th {\n",
       "        vertical-align: top;\n",
       "    }\n",
       "\n",
       "    .dataframe thead th {\n",
       "        text-align: right;\n",
       "    }\n",
       "</style>\n",
       "<table border=\"1\" class=\"dataframe\">\n",
       "  <thead>\n",
       "    <tr style=\"text-align: right;\">\n",
       "      <th></th>\n",
       "      <th>feature</th>\n",
       "      <th>coef</th>\n",
       "    </tr>\n",
       "  </thead>\n",
       "  <tbody>\n",
       "    <tr>\n",
       "      <th>10</th>\n",
       "      <td>avg_class_frequency_current_month</td>\n",
       "      <td>-1.223977</td>\n",
       "    </tr>\n",
       "    <tr>\n",
       "      <th>9</th>\n",
       "      <td>lifetime</td>\n",
       "      <td>-1.207597</td>\n",
       "    </tr>\n",
       "    <tr>\n",
       "      <th>3</th>\n",
       "      <td>promo_friends</td>\n",
       "      <td>-0.982862</td>\n",
       "    </tr>\n",
       "    <tr>\n",
       "      <th>6</th>\n",
       "      <td>group_visits</td>\n",
       "      <td>-0.785333</td>\n",
       "    </tr>\n",
       "    <tr>\n",
       "      <th>5</th>\n",
       "      <td>contract_period</td>\n",
       "      <td>-0.244443</td>\n",
       "    </tr>\n",
       "    <tr>\n",
       "      <th>7</th>\n",
       "      <td>age</td>\n",
       "      <td>-0.108212</td>\n",
       "    </tr>\n",
       "    <tr>\n",
       "      <th>8</th>\n",
       "      <td>avg_additional_charges_total</td>\n",
       "      <td>-0.007292</td>\n",
       "    </tr>\n",
       "    <tr>\n",
       "      <th>0</th>\n",
       "      <td>gender</td>\n",
       "      <td>0.239127</td>\n",
       "    </tr>\n",
       "    <tr>\n",
       "      <th>2</th>\n",
       "      <td>partner</td>\n",
       "      <td>0.289962</td>\n",
       "    </tr>\n",
       "    <tr>\n",
       "      <th>1</th>\n",
       "      <td>near_location</td>\n",
       "      <td>0.677119</td>\n",
       "    </tr>\n",
       "    <tr>\n",
       "      <th>4</th>\n",
       "      <td>phone</td>\n",
       "      <td>1.935312</td>\n",
       "    </tr>\n",
       "  </tbody>\n",
       "</table>\n",
       "</div>"
      ],
      "text/plain": [
       "                              feature      coef\n",
       "10  avg_class_frequency_current_month -1.223977\n",
       "9                            lifetime -1.207597\n",
       "3                       promo_friends -0.982862\n",
       "6                        group_visits -0.785333\n",
       "5                     contract_period -0.244443\n",
       "7                                 age -0.108212\n",
       "8        avg_additional_charges_total -0.007292\n",
       "0                              gender  0.239127\n",
       "2                             partner  0.289962\n",
       "1                       near_location  0.677119\n",
       "4                               phone  1.935312"
      ]
     },
     "execution_count": 49,
     "metadata": {},
     "output_type": "execute_result"
    }
   ],
   "source": [
    "lr_model_new = LogisticRegression(random_state = 0)\n",
    "X_train_new = X_train.drop(['avg_class_frequency_total', 'month_to_end_contract'], axis=1)\n",
    "lr_model_new.fit(X_train_new, y_train)\n",
    "\n",
    "lr_features = pd.DataFrame({'feature' : X_train_new.columns, 'coef' : lr_model_new.coef_[0]})\n",
    "lr_features.sort_values('coef', ascending=True)"
   ]
  },
  {
   "cell_type": "markdown",
   "metadata": {},
   "source": [
    "**Вывод:** Отрицательные значения коэффициентов говорят нам о том, что чем меньше значение признака, тем выше вероятность оттока. Получается, наиболее важными признаками оказались: средняя частота посещений в неделю за предыдущий месяц, время с момента первого обращения в фитнес-центр, факт посещения групповых занятий и факт первоначальной записи в рамках акции «приведи друга».  "
   ]
  },
  {
   "cell_type": "markdown",
   "metadata": {},
   "source": [
    "## Кластеризация клиентов"
   ]
  },
  {
   "cell_type": "markdown",
   "metadata": {},
   "source": [
    "Стандартизируем данные:"
   ]
  },
  {
   "cell_type": "code",
   "execution_count": 50,
   "metadata": {},
   "outputs": [],
   "source": [
    "sc = StandardScaler()\n",
    "x_sc = sc.fit_transform(X)"
   ]
  },
  {
   "cell_type": "markdown",
   "metadata": {},
   "source": [
    "Построим матрицу расстояний и нарисуем дендрограмму:"
   ]
  },
  {
   "cell_type": "code",
   "execution_count": 51,
   "metadata": {},
   "outputs": [
    {
     "data": {
      "image/png": "[encoded data removed]",
      "text/plain": [
       "<Figure size 1080x720 with 1 Axes>"
      ]
     },
     "metadata": {
      "needs_background": "light"
     },
     "output_type": "display_data"
    }
   ],
   "source": [
    "linked = linkage(x_sc, method='ward')\n",
    "plt.figure(figsize=(15, 10))  \n",
    "dendrogram(linked, orientation='top')\n",
    "plt.title('Hierarchical clustering')\n",
    "plt.show()"
   ]
  },
  {
   "cell_type": "markdown",
   "metadata": {},
   "source": [
    "Предложенное оптимальное число кластеров — 5. Далее обучим модель кластеризации на основании алгоритма K-Means и спрогнозируем кластеры клиентов:"
   ]
  },
  {
   "cell_type": "code",
   "execution_count": 52,
   "metadata": {},
   "outputs": [],
   "source": [
    "km = KMeans(n_clusters=5, random_state=0)\n",
    "labels = km.fit_predict(x_sc)\n",
    "gym_clusters = gym\n",
    "gym_clusters['cluster'] = labels"
   ]
  },
  {
   "cell_type": "markdown",
   "metadata": {},
   "source": [
    "Посмотрим на средние значения признаков для кластеров:"
   ]
  },
  {
   "cell_type": "code",
   "execution_count": 53,
   "metadata": {},
   "outputs": [
    {
     "data": {
      "text/html": [
       "<style  type=\"text/css\" >\n",
       "</style><table id=\"T_d422e_\" ><thead>    <tr>        <th class=\"index_name level0\" >cluster</th>        <th class=\"col_heading level0 col0\" >0</th>        <th class=\"col_heading level0 col1\" >4</th>        <th class=\"col_heading level0 col2\" >1</th>        <th class=\"col_heading level0 col3\" >2</th>        <th class=\"col_heading level0 col4\" >3</th>    </tr></thead><tbody>\n",
       "                <tr>\n",
       "                        <th id=\"T_d422e_level0_row0\" class=\"row_heading level0 row0\" >gender</th>\n",
       "                        <td id=\"T_d422e_row0_col0\" class=\"data row0 col0\" >0.50</td>\n",
       "                        <td id=\"T_d422e_row0_col1\" class=\"data row0 col1\" >0.56</td>\n",
       "                        <td id=\"T_d422e_row0_col2\" class=\"data row0 col2\" >0.52</td>\n",
       "                        <td id=\"T_d422e_row0_col3\" class=\"data row0 col3\" >0.50</td>\n",
       "                        <td id=\"T_d422e_row0_col4\" class=\"data row0 col4\" >0.49</td>\n",
       "            </tr>\n",
       "            <tr>\n",
       "                        <th id=\"T_d422e_level0_row1\" class=\"row_heading level0 row1\" >near_location</th>\n",
       "                        <td id=\"T_d422e_row1_col0\" class=\"data row1 col0\" >0.96</td>\n",
       "                        <td id=\"T_d422e_row1_col1\" class=\"data row1 col1\" >0.98</td>\n",
       "                        <td id=\"T_d422e_row1_col2\" class=\"data row1 col2\" >0.86</td>\n",
       "                        <td id=\"T_d422e_row1_col3\" class=\"data row1 col3\" >0.00</td>\n",
       "                        <td id=\"T_d422e_row1_col4\" class=\"data row1 col4\" >1.00</td>\n",
       "            </tr>\n",
       "            <tr>\n",
       "                        <th id=\"T_d422e_level0_row2\" class=\"row_heading level0 row2\" >partner</th>\n",
       "                        <td id=\"T_d422e_row2_col0\" class=\"data row2 col0\" >0.78</td>\n",
       "                        <td id=\"T_d422e_row2_col1\" class=\"data row2 col1\" >0.36</td>\n",
       "                        <td id=\"T_d422e_row2_col2\" class=\"data row2 col2\" >0.47</td>\n",
       "                        <td id=\"T_d422e_row2_col3\" class=\"data row2 col3\" >0.46</td>\n",
       "                        <td id=\"T_d422e_row2_col4\" class=\"data row2 col4\" >0.35</td>\n",
       "            </tr>\n",
       "            <tr>\n",
       "                        <th id=\"T_d422e_level0_row3\" class=\"row_heading level0 row3\" >promo_friends</th>\n",
       "                        <td id=\"T_d422e_row3_col0\" class=\"data row3 col0\" >0.57</td>\n",
       "                        <td id=\"T_d422e_row3_col1\" class=\"data row3 col1\" >0.23</td>\n",
       "                        <td id=\"T_d422e_row3_col2\" class=\"data row3 col2\" >0.31</td>\n",
       "                        <td id=\"T_d422e_row3_col3\" class=\"data row3 col3\" >0.08</td>\n",
       "                        <td id=\"T_d422e_row3_col4\" class=\"data row3 col4\" >0.24</td>\n",
       "            </tr>\n",
       "            <tr>\n",
       "                        <th id=\"T_d422e_level0_row4\" class=\"row_heading level0 row4\" >phone</th>\n",
       "                        <td id=\"T_d422e_row4_col0\" class=\"data row4 col0\" >1.00</td>\n",
       "                        <td id=\"T_d422e_row4_col1\" class=\"data row4 col1\" >1.00</td>\n",
       "                        <td id=\"T_d422e_row4_col2\" class=\"data row4 col2\" >0.00</td>\n",
       "                        <td id=\"T_d422e_row4_col3\" class=\"data row4 col3\" >1.00</td>\n",
       "                        <td id=\"T_d422e_row4_col4\" class=\"data row4 col4\" >1.00</td>\n",
       "            </tr>\n",
       "            <tr>\n",
       "                        <th id=\"T_d422e_level0_row5\" class=\"row_heading level0 row5\" >contract_period</th>\n",
       "                        <td id=\"T_d422e_row5_col0\" class=\"data row5 col0\" >10.89</td>\n",
       "                        <td id=\"T_d422e_row5_col1\" class=\"data row5 col1\" >2.67</td>\n",
       "                        <td id=\"T_d422e_row5_col2\" class=\"data row5 col2\" >4.79</td>\n",
       "                        <td id=\"T_d422e_row5_col3\" class=\"data row5 col3\" >2.35</td>\n",
       "                        <td id=\"T_d422e_row5_col4\" class=\"data row5 col4\" >1.95</td>\n",
       "            </tr>\n",
       "            <tr>\n",
       "                        <th id=\"T_d422e_level0_row6\" class=\"row_heading level0 row6\" >group_visits</th>\n",
       "                        <td id=\"T_d422e_row6_col0\" class=\"data row6 col0\" >0.54</td>\n",
       "                        <td id=\"T_d422e_row6_col1\" class=\"data row6 col1\" >0.47</td>\n",
       "                        <td id=\"T_d422e_row6_col2\" class=\"data row6 col2\" >0.43</td>\n",
       "                        <td id=\"T_d422e_row6_col3\" class=\"data row6 col3\" >0.22</td>\n",
       "                        <td id=\"T_d422e_row6_col4\" class=\"data row6 col4\" >0.34</td>\n",
       "            </tr>\n",
       "            <tr>\n",
       "                        <th id=\"T_d422e_level0_row7\" class=\"row_heading level0 row7\" >age</th>\n",
       "                        <td id=\"T_d422e_row7_col0\" class=\"data row7 col0\" >29.98</td>\n",
       "                        <td id=\"T_d422e_row7_col1\" class=\"data row7 col1\" >30.13</td>\n",
       "                        <td id=\"T_d422e_row7_col2\" class=\"data row7 col2\" >29.30</td>\n",
       "                        <td id=\"T_d422e_row7_col3\" class=\"data row7 col3\" >28.48</td>\n",
       "                        <td id=\"T_d422e_row7_col4\" class=\"data row7 col4\" >28.17</td>\n",
       "            </tr>\n",
       "            <tr>\n",
       "                        <th id=\"T_d422e_level0_row8\" class=\"row_heading level0 row8\" >avg_additional_charges_total</th>\n",
       "                        <td id=\"T_d422e_row8_col0\" class=\"data row8 col0\" >160.76</td>\n",
       "                        <td id=\"T_d422e_row8_col1\" class=\"data row8 col1\" >161.66</td>\n",
       "                        <td id=\"T_d422e_row8_col2\" class=\"data row8 col2\" >143.96</td>\n",
       "                        <td id=\"T_d422e_row8_col3\" class=\"data row8 col3\" >135.46</td>\n",
       "                        <td id=\"T_d422e_row8_col4\" class=\"data row8 col4\" >131.62</td>\n",
       "            </tr>\n",
       "            <tr>\n",
       "                        <th id=\"T_d422e_level0_row9\" class=\"row_heading level0 row9\" >month_to_end_contract</th>\n",
       "                        <td id=\"T_d422e_row9_col0\" class=\"data row9 col0\" >9.95</td>\n",
       "                        <td id=\"T_d422e_row9_col1\" class=\"data row9 col1\" >2.46</td>\n",
       "                        <td id=\"T_d422e_row9_col2\" class=\"data row9 col2\" >4.48</td>\n",
       "                        <td id=\"T_d422e_row9_col3\" class=\"data row9 col3\" >2.20</td>\n",
       "                        <td id=\"T_d422e_row9_col4\" class=\"data row9 col4\" >1.86</td>\n",
       "            </tr>\n",
       "            <tr>\n",
       "                        <th id=\"T_d422e_level0_row10\" class=\"row_heading level0 row10\" >lifetime</th>\n",
       "                        <td id=\"T_d422e_row10_col0\" class=\"data row10 col0\" >4.74</td>\n",
       "                        <td id=\"T_d422e_row10_col1\" class=\"data row10 col1\" >4.90</td>\n",
       "                        <td id=\"T_d422e_row10_col2\" class=\"data row10 col2\" >3.92</td>\n",
       "                        <td id=\"T_d422e_row10_col3\" class=\"data row10 col3\" >2.81</td>\n",
       "                        <td id=\"T_d422e_row10_col4\" class=\"data row10 col4\" >2.44</td>\n",
       "            </tr>\n",
       "            <tr>\n",
       "                        <th id=\"T_d422e_level0_row11\" class=\"row_heading level0 row11\" >avg_class_frequency_total</th>\n",
       "                        <td id=\"T_d422e_row11_col0\" class=\"data row11 col0\" >1.98</td>\n",
       "                        <td id=\"T_d422e_row11_col1\" class=\"data row11 col1\" >2.85</td>\n",
       "                        <td id=\"T_d422e_row11_col2\" class=\"data row11 col2\" >1.85</td>\n",
       "                        <td id=\"T_d422e_row11_col3\" class=\"data row11 col3\" >1.66</td>\n",
       "                        <td id=\"T_d422e_row11_col4\" class=\"data row11 col4\" >1.25</td>\n",
       "            </tr>\n",
       "            <tr>\n",
       "                        <th id=\"T_d422e_level0_row12\" class=\"row_heading level0 row12\" >avg_class_frequency_current_month</th>\n",
       "                        <td id=\"T_d422e_row12_col0\" class=\"data row12 col0\" >1.97</td>\n",
       "                        <td id=\"T_d422e_row12_col1\" class=\"data row12 col1\" >2.85</td>\n",
       "                        <td id=\"T_d422e_row12_col2\" class=\"data row12 col2\" >1.72</td>\n",
       "                        <td id=\"T_d422e_row12_col3\" class=\"data row12 col3\" >1.48</td>\n",
       "                        <td id=\"T_d422e_row12_col4\" class=\"data row12 col4\" >1.01</td>\n",
       "            </tr>\n",
       "            <tr>\n",
       "                        <th id=\"T_d422e_level0_row13\" class=\"row_heading level0 row13\" >churn</th>\n",
       "                        <td id=\"T_d422e_row13_col0\" class=\"data row13 col0\" >0.03</td>\n",
       "                        <td id=\"T_d422e_row13_col1\" class=\"data row13 col1\" >0.07</td>\n",
       "                        <td id=\"T_d422e_row13_col2\" class=\"data row13 col2\" >0.27</td>\n",
       "                        <td id=\"T_d422e_row13_col3\" class=\"data row13 col3\" >0.44</td>\n",
       "                        <td id=\"T_d422e_row13_col4\" class=\"data row13 col4\" >0.51</td>\n",
       "            </tr>\n",
       "    </tbody></table>"
      ],
      "text/plain": [
       "<pandas.io.formats.style.Styler at 0x7f72b1cdf7c0>"
      ]
     },
     "execution_count": 53,
     "metadata": {},
     "output_type": "execute_result"
    }
   ],
   "source": [
    "mean_features_by_clusters = gym_clusters.groupby('cluster').mean()\n",
    "mean_features_by_clusters_t = mean_features_by_clusters.sort_values('churn').T.style.format('{0:,.2f}')\n",
    "mean_features_by_clusters_t"
   ]
  },
  {
   "cell_type": "markdown",
   "metadata": {},
   "source": [
    "**Вывод:** Самый высокий отток наблюдается у кластеров 3 и 2 (51% и 44% соответственно), самый низкий — у кластеров 0 и 4 (3% и 7% соответственно).   \n",
    "Также можно сказать, например, что:\n",
    "- во всех кластерах примерно одинаковое количество мужчин и женщин\n",
    "- в кластере 2 нет людей, живущих/работающих в районе фитнес-центра, также клиенты в этом кластере почти не приходили по акции «приведи друга» и меньше остальных посещали групповые занятия\n",
    "- клиенты в кластере 1 не оставляли свой номер телефона\n",
    "- самая высокая средняя длительность абонемента у клиентов в кластере 0 (около 11 месяцев), самая низкая — у клиентов кластера 3 (около 2 месяцев)\n",
    "- средний возраст клиентов примерно одинаков во всех кластерах (около 30 лет)\n",
    "- больше всех дополнительных трат совершают клиенты кластера 0, меньше всех — клиенты кластера 3\n",
    "- больше всего время с момента первого посещения у клиентов кластеров 4 и 0, меньше всего — у клиентов кластеров 3 и 2\n",
    "- чаще всего посещают фитнес-центр клиенты кластера 4, реже всего — клиенты кластера 3"
   ]
  },
  {
   "cell_type": "markdown",
   "metadata": {},
   "source": [
    "Построим распределения признаков для кластеров:"
   ]
  },
  {
   "cell_type": "code",
   "execution_count": 54,
   "metadata": {},
   "outputs": [],
   "source": [
    "cat_features_clusters = gym_clusters[['contract_period','gender','near_location','partner','promo_friends','phone','group_visits','lifetime','month_to_end_contract']]\n",
    "noncat_features_clusters = gym_clusters.drop(columns = (['contract_period','gender','near_location','partner','promo_friends','phone','group_visits','lifetime','month_to_end_contract','churn','cluster']))"
   ]
  },
  {
   "cell_type": "code",
   "execution_count": 55,
   "metadata": {
    "scrolled": false
   },
   "outputs": [
    {
     "data": {
      "image/png": "[encoded data removed]",
      "text/plain": [
       "<Figure size 576x288 with 1 Axes>"
      ]
     },
     "metadata": {
      "needs_background": "light"
     },
     "output_type": "display_data"
    },
    {
     "data": {
      "image/png": "[encoded data removed]",
      "text/plain": [
       "<Figure size 576x288 with 1 Axes>"
      ]
     },
     "metadata": {
      "needs_background": "light"
     },
     "output_type": "display_data"
    },
    {
     "data": {
      "image/png": "[encoded data removed]",
      "text/plain": [
       "<Figure size 576x288 with 1 Axes>"
      ]
     },
     "metadata": {
      "needs_background": "light"
     },
     "output_type": "display_data"
    },
    {
     "data": {
      "image/png": "[encoded data removed]",
      "text/plain": [
       "<Figure size 576x288 with 1 Axes>"
      ]
     },
     "metadata": {
      "needs_background": "light"
     },
     "output_type": "display_data"
    }
   ],
   "source": [
    "for column in noncat_features_clusters:\n",
    "    plt.figure(figsize=(8,4))\n",
    "    plt.grid(True)\n",
    "    for i in range(0,5):\n",
    "        sns.distplot(gym_clusters.query('cluster == @i')[column], hist=False, kde_kws={'label':'cluster '+ str(i)})\n",
    "        plt.legend()\n",
    "plt.show()"
   ]
  },
  {
   "cell_type": "markdown",
   "metadata": {},
   "source": [
    "**Вывод:** Можно сделать следующие выводы:\n",
    "- Кластеры с большим оттоком более «молодые» (3-й кластер — 28 лет в пике, 2-й кластер — 29 лет), а кластеры с наименьшим оттоком более возврастные (0-й кластер — 31 год в пике, 4-й — 30 лет)\n",
    "- По дополнительным тратам: кластеры с наименьшим оттоком тратят больше, меньше всего тратит кластер 3 (кластер с наивысшим оттоком)\n",
    "- По активности в целом и за последний месяц: наиболее «активен» кластер 4 с 2-3 посещениями в неделю; самый «неактивный» — кластер 3 с 1 занятием в неделю"
   ]
  },
  {
   "cell_type": "code",
   "execution_count": 56,
   "metadata": {
    "scrolled": false
   },
   "outputs": [
    {
     "data": {
      "image/png": "[encoded data removed]",
      "text/plain": [
       "<Figure size 1080x864 with 9 Axes>"
      ]
     },
     "metadata": {
      "needs_background": "light"
     },
     "output_type": "display_data"
    }
   ],
   "source": [
    "plt.figure(figsize=(15,12))\n",
    "for i in range(len(cat_features_clusters.columns)):\n",
    "    plt.subplot(3,3,i+1)\n",
    "    x = gym_clusters['cluster']\n",
    "    y = cat_features_clusters.iloc[:,i]\n",
    "    sns.barplot(x=x, y=y, palette='cool')\n",
    "plt.tight_layout()\n",
    "plt.show()"
   ]
  },
  {
   "cell_type": "markdown",
   "metadata": {},
   "source": [
    "**Вывод:** Можно сказать следующее:\n",
    "- Как мы уже видели ранее в таблице, никто из клиентов кластера 1 не оставлял номер телефона, а также никто из клиентов кластера 2 не живет/не работает рядом с фитнес-центром\n",
    "- Очень наглядна картина по время с момента первого посещения: новые клиенты как раз принадлежат к «оттекающим» кластерам (2 и 3)\n",
    "- Групповые занятия больше всех посещает кластер 0, и он же имеет самые высокие показатели по *partner* и *promo_frinds*, что возможно связано, ведь у людей тогда есть с кем ходить на занятия\n",
    "- Картина по длительности абонемента выглядит необычно у кластера 4 с его низкой длительностью абонемента (в сравнении с таким же надежным 0-м кластером, у которого большинство абонементов годовые)"
   ]
  },
  {
   "cell_type": "markdown",
   "metadata": {},
   "source": [
    "## Выводы и рекомендации"
   ]
  },
  {
   "cell_type": "markdown",
   "metadata": {},
   "source": [
    "Основной напрашивающийся вывод: стоит обратить внимание на новых клиентов, так как они более всего подвержены оттоку. Так как они в основном покупают месячный абонемент (можно сказать пробный), возможно, стоит давать какие-то дополнительные скидки в самом начале, устраивать акции, можно предлагать более длительный абонемент с большой скидкой и возможностью попробовать групповые занятия бесплатно или с бесплатным первым посещением спа-салона. Еще стоит обратить внимание на взаимодействие новых клиентов с друзьями, например предлагать при покупке более длительного абонемента какие-то скидки или бесплатный месячный абонемент для друга. \n",
    "Что касается постоянных клиентов, то они почти не склонны к оттоку, но по какой-то причине часто покупают абонементы по месяцу, что может говорить о неидеально продуманных условиях длительных абонементов. Возможно, стоит ввести некую программу лояльности для постоянных клиентов. "
   ]
  }
 ],
 "metadata": {
  "ExecuteTimeLog": [
   {
    "duration": 6,
    "start_time": "2021-09-15T15:28:54.997Z"
   },
   {
    "duration": 2007,
    "start_time": "2021-09-15T15:29:44.528Z"
   },
   {
    "duration": 470,
    "start_time": "2021-09-15T15:30:51.359Z"
   },
   {
    "duration": 27,
    "start_time": "2021-09-15T15:31:00.264Z"
   },
   {
    "duration": 12,
    "start_time": "2021-09-15T15:32:38.016Z"
   },
   {
    "duration": 24,
    "start_time": "2021-09-15T15:33:00.902Z"
   },
   {
    "duration": 286,
    "start_time": "2021-09-15T15:34:34.058Z"
   },
   {
    "duration": 4,
    "start_time": "2021-09-15T15:34:39.097Z"
   },
   {
    "duration": 89,
    "start_time": "2021-09-15T15:34:46.243Z"
   },
   {
    "duration": 10,
    "start_time": "2021-09-15T15:34:48.232Z"
   },
   {
    "duration": 8,
    "start_time": "2021-09-15T15:36:47.223Z"
   },
   {
    "duration": 12,
    "start_time": "2021-09-15T15:36:59.530Z"
   },
   {
    "duration": 282,
    "start_time": "2021-09-15T15:38:58.060Z"
   },
   {
    "duration": 70,
    "start_time": "2021-09-15T15:39:01.881Z"
   },
   {
    "duration": 128,
    "start_time": "2021-09-15T16:30:42.484Z"
   },
   {
    "duration": 110,
    "start_time": "2021-09-15T16:36:28.162Z"
   },
   {
    "duration": 16,
    "start_time": "2021-09-15T16:37:11.678Z"
   },
   {
    "duration": 83,
    "start_time": "2021-09-15T16:37:49.722Z"
   },
   {
    "duration": 29,
    "start_time": "2021-09-15T16:38:02.639Z"
   },
   {
    "duration": 16,
    "start_time": "2021-09-15T16:38:08.764Z"
   },
   {
    "duration": 7511,
    "start_time": "2021-09-15T16:41:26.521Z"
   },
   {
    "duration": 113,
    "start_time": "2021-09-15T16:42:54.930Z"
   },
   {
    "duration": 6711,
    "start_time": "2021-09-15T16:43:30.052Z"
   },
   {
    "duration": 105,
    "start_time": "2021-09-15T16:44:50.538Z"
   },
   {
    "duration": 7267,
    "start_time": "2021-09-15T16:46:09.838Z"
   },
   {
    "duration": 6798,
    "start_time": "2021-09-15T16:46:30.583Z"
   },
   {
    "duration": 1506,
    "start_time": "2021-09-15T16:50:22.113Z"
   },
   {
    "duration": 2053,
    "start_time": "2021-09-15T16:50:39.653Z"
   },
   {
    "duration": 1657,
    "start_time": "2021-09-15T16:50:50.267Z"
   },
   {
    "duration": 1689,
    "start_time": "2021-09-15T16:51:44.013Z"
   },
   {
    "duration": 1671,
    "start_time": "2021-09-15T16:53:44.938Z"
   },
   {
    "duration": 2142,
    "start_time": "2021-09-15T16:54:13.110Z"
   },
   {
    "duration": 1692,
    "start_time": "2021-09-15T16:54:30.288Z"
   },
   {
    "duration": 83,
    "start_time": "2021-09-15T16:55:28.578Z"
   },
   {
    "duration": 7,
    "start_time": "2021-09-16T09:27:10.609Z"
   },
   {
    "duration": 5,
    "start_time": "2021-09-16T09:29:57.684Z"
   },
   {
    "duration": 31,
    "start_time": "2021-09-16T09:29:57.691Z"
   },
   {
    "duration": 21,
    "start_time": "2021-09-16T09:29:57.727Z"
   },
   {
    "duration": 13,
    "start_time": "2021-09-16T09:29:57.752Z"
   },
   {
    "duration": 8,
    "start_time": "2021-09-16T09:29:57.768Z"
   },
   {
    "duration": 15,
    "start_time": "2021-09-16T09:29:57.778Z"
   },
   {
    "duration": 8,
    "start_time": "2021-09-16T09:29:57.795Z"
   },
   {
    "duration": 54,
    "start_time": "2021-09-16T09:29:57.806Z"
   },
   {
    "duration": 72,
    "start_time": "2021-09-16T09:29:57.864Z"
   },
   {
    "duration": 17,
    "start_time": "2021-09-16T09:29:57.957Z"
   },
   {
    "duration": 6969,
    "start_time": "2021-09-16T09:29:57.977Z"
   },
   {
    "duration": 1692,
    "start_time": "2021-09-16T09:30:04.949Z"
   },
   {
    "duration": 6767,
    "start_time": "2021-09-16T09:33:39.242Z"
   },
   {
    "duration": 6,
    "start_time": "2021-09-16T09:33:56.740Z"
   },
   {
    "duration": 35,
    "start_time": "2021-09-16T09:33:56.748Z"
   },
   {
    "duration": 19,
    "start_time": "2021-09-16T09:33:56.786Z"
   },
   {
    "duration": 11,
    "start_time": "2021-09-16T09:33:56.808Z"
   },
   {
    "duration": 7,
    "start_time": "2021-09-16T09:33:56.821Z"
   },
   {
    "duration": 30,
    "start_time": "2021-09-16T09:33:56.831Z"
   },
   {
    "duration": 11,
    "start_time": "2021-09-16T09:33:56.864Z"
   },
   {
    "duration": 10,
    "start_time": "2021-09-16T09:33:56.878Z"
   },
   {
    "duration": 106,
    "start_time": "2021-09-16T09:33:56.891Z"
   },
   {
    "duration": 15,
    "start_time": "2021-09-16T09:33:57.000Z"
   },
   {
    "duration": 7060,
    "start_time": "2021-09-16T09:33:57.017Z"
   },
   {
    "duration": -76,
    "start_time": "2021-09-16T09:34:04.157Z"
   },
   {
    "duration": -76,
    "start_time": "2021-09-16T09:34:04.158Z"
   },
   {
    "duration": 5,
    "start_time": "2021-09-16T09:35:04.400Z"
   },
   {
    "duration": 4,
    "start_time": "2021-09-16T09:35:16.383Z"
   },
   {
    "duration": 5,
    "start_time": "2021-09-16T09:35:18.904Z"
   },
   {
    "duration": 52,
    "start_time": "2021-09-16T09:35:18.911Z"
   },
   {
    "duration": 18,
    "start_time": "2021-09-16T09:35:18.966Z"
   },
   {
    "duration": 13,
    "start_time": "2021-09-16T09:35:18.987Z"
   },
   {
    "duration": 8,
    "start_time": "2021-09-16T09:35:19.002Z"
   },
   {
    "duration": 13,
    "start_time": "2021-09-16T09:35:19.012Z"
   },
   {
    "duration": 11,
    "start_time": "2021-09-16T09:35:19.056Z"
   },
   {
    "duration": 11,
    "start_time": "2021-09-16T09:35:19.069Z"
   },
   {
    "duration": 94,
    "start_time": "2021-09-16T09:35:19.084Z"
   },
   {
    "duration": 14,
    "start_time": "2021-09-16T09:35:19.181Z"
   },
   {
    "duration": 4,
    "start_time": "2021-09-16T09:35:19.197Z"
   },
   {
    "duration": 7271,
    "start_time": "2021-09-16T09:35:19.204Z"
   },
   {
    "duration": 1750,
    "start_time": "2021-09-16T09:35:26.477Z"
   },
   {
    "duration": 7,
    "start_time": "2021-09-16T09:36:32.774Z"
   },
   {
    "duration": 3775,
    "start_time": "2021-09-16T09:37:36.507Z"
   },
   {
    "duration": 6757,
    "start_time": "2021-09-16T09:39:49.646Z"
   },
   {
    "duration": 5,
    "start_time": "2021-09-16T09:40:25.583Z"
   },
   {
    "duration": 32,
    "start_time": "2021-09-16T09:40:25.591Z"
   },
   {
    "duration": 19,
    "start_time": "2021-09-16T09:40:25.626Z"
   },
   {
    "duration": 17,
    "start_time": "2021-09-16T09:40:25.647Z"
   },
   {
    "duration": 6,
    "start_time": "2021-09-16T09:40:25.666Z"
   },
   {
    "duration": 18,
    "start_time": "2021-09-16T09:40:25.674Z"
   },
   {
    "duration": 8,
    "start_time": "2021-09-16T09:40:25.695Z"
   },
   {
    "duration": 22,
    "start_time": "2021-09-16T09:40:25.706Z"
   },
   {
    "duration": 104,
    "start_time": "2021-09-16T09:40:25.732Z"
   },
   {
    "duration": 28,
    "start_time": "2021-09-16T09:40:25.839Z"
   },
   {
    "duration": 7,
    "start_time": "2021-09-16T09:40:25.870Z"
   },
   {
    "duration": 358,
    "start_time": "2021-09-16T09:40:25.879Z"
   },
   {
    "duration": -46,
    "start_time": "2021-09-16T09:40:26.285Z"
   },
   {
    "duration": -47,
    "start_time": "2021-09-16T09:40:26.287Z"
   },
   {
    "duration": 6,
    "start_time": "2021-09-16T09:44:01.643Z"
   },
   {
    "duration": 53,
    "start_time": "2021-09-16T09:44:01.651Z"
   },
   {
    "duration": 29,
    "start_time": "2021-09-16T09:44:01.707Z"
   },
   {
    "duration": 25,
    "start_time": "2021-09-16T09:44:01.738Z"
   },
   {
    "duration": 33,
    "start_time": "2021-09-16T09:44:01.765Z"
   },
   {
    "duration": 39,
    "start_time": "2021-09-16T09:44:01.801Z"
   },
   {
    "duration": 40,
    "start_time": "2021-09-16T09:44:01.842Z"
   },
   {
    "duration": 63,
    "start_time": "2021-09-16T09:44:01.884Z"
   },
   {
    "duration": 129,
    "start_time": "2021-09-16T09:44:01.950Z"
   },
   {
    "duration": 35,
    "start_time": "2021-09-16T09:44:02.082Z"
   },
   {
    "duration": 18,
    "start_time": "2021-09-16T09:44:02.119Z"
   },
   {
    "duration": 3805,
    "start_time": "2021-09-16T09:44:02.139Z"
   },
   {
    "duration": 3455,
    "start_time": "2021-09-16T09:44:05.946Z"
   },
   {
    "duration": 1848,
    "start_time": "2021-09-16T09:44:09.403Z"
   },
   {
    "duration": 3705,
    "start_time": "2021-09-16T09:46:31.524Z"
   },
   {
    "duration": 3502,
    "start_time": "2021-09-16T09:47:04.117Z"
   },
   {
    "duration": 5,
    "start_time": "2021-09-16T09:48:54.254Z"
   },
   {
    "duration": 39,
    "start_time": "2021-09-16T09:48:54.262Z"
   },
   {
    "duration": 19,
    "start_time": "2021-09-16T09:48:54.304Z"
   },
   {
    "duration": 13,
    "start_time": "2021-09-16T09:48:54.326Z"
   },
   {
    "duration": 6,
    "start_time": "2021-09-16T09:48:54.341Z"
   },
   {
    "duration": 10,
    "start_time": "2021-09-16T09:48:54.356Z"
   },
   {
    "duration": 10,
    "start_time": "2021-09-16T09:48:54.369Z"
   },
   {
    "duration": 123,
    "start_time": "2021-09-16T09:48:54.382Z"
   },
   {
    "duration": 85,
    "start_time": "2021-09-16T09:48:54.509Z"
   },
   {
    "duration": 17,
    "start_time": "2021-09-16T09:48:54.596Z"
   },
   {
    "duration": 103,
    "start_time": "2021-09-16T09:48:54.615Z"
   },
   {
    "duration": 62,
    "start_time": "2021-09-16T09:48:54.659Z"
   },
   {
    "duration": 63,
    "start_time": "2021-09-16T09:48:54.659Z"
   },
   {
    "duration": 62,
    "start_time": "2021-09-16T09:48:54.661Z"
   },
   {
    "duration": 5,
    "start_time": "2021-09-16T09:49:39.001Z"
   },
   {
    "duration": 31,
    "start_time": "2021-09-16T09:49:39.008Z"
   },
   {
    "duration": 20,
    "start_time": "2021-09-16T09:49:39.041Z"
   },
   {
    "duration": 15,
    "start_time": "2021-09-16T09:49:39.064Z"
   },
   {
    "duration": 6,
    "start_time": "2021-09-16T09:49:39.081Z"
   },
   {
    "duration": 9,
    "start_time": "2021-09-16T09:49:39.090Z"
   },
   {
    "duration": 7,
    "start_time": "2021-09-16T09:49:39.102Z"
   },
   {
    "duration": 49,
    "start_time": "2021-09-16T09:49:39.111Z"
   },
   {
    "duration": 69,
    "start_time": "2021-09-16T09:49:39.163Z"
   },
   {
    "duration": 16,
    "start_time": "2021-09-16T09:49:39.255Z"
   },
   {
    "duration": 6,
    "start_time": "2021-09-16T09:49:39.274Z"
   },
   {
    "duration": 3279,
    "start_time": "2021-09-16T09:49:39.282Z"
   },
   {
    "duration": 266,
    "start_time": "2021-09-16T09:49:42.563Z"
   },
   {
    "duration": 60,
    "start_time": "2021-09-16T09:49:42.773Z"
   },
   {
    "duration": 4420,
    "start_time": "2021-09-16T09:51:00.091Z"
   },
   {
    "duration": 4361,
    "start_time": "2021-09-16T09:52:05.639Z"
   },
   {
    "duration": 5005,
    "start_time": "2021-09-16T09:52:27.385Z"
   },
   {
    "duration": 1127,
    "start_time": "2021-09-16T09:57:35.283Z"
   },
   {
    "duration": 4700,
    "start_time": "2021-09-16T09:57:56.781Z"
   },
   {
    "duration": 4632,
    "start_time": "2021-09-16T09:58:14.687Z"
   },
   {
    "duration": 4435,
    "start_time": "2021-09-16T09:58:29.514Z"
   },
   {
    "duration": 860,
    "start_time": "2021-09-16T09:59:07.478Z"
   },
   {
    "duration": 842,
    "start_time": "2021-09-16T09:59:26.401Z"
   },
   {
    "duration": 4717,
    "start_time": "2021-09-16T10:00:26.573Z"
   },
   {
    "duration": 4655,
    "start_time": "2021-09-16T10:00:42.447Z"
   },
   {
    "duration": 4760,
    "start_time": "2021-09-16T10:01:29.526Z"
   },
   {
    "duration": 4693,
    "start_time": "2021-09-16T10:01:40.766Z"
   },
   {
    "duration": 4634,
    "start_time": "2021-09-16T10:01:57.560Z"
   },
   {
    "duration": 4495,
    "start_time": "2021-09-16T10:03:03.478Z"
   },
   {
    "duration": 286,
    "start_time": "2021-09-16T10:03:09.916Z"
   },
   {
    "duration": 4698,
    "start_time": "2021-09-16T10:03:20.289Z"
   },
   {
    "duration": 5,
    "start_time": "2021-09-16T10:03:51.087Z"
   },
   {
    "duration": 38,
    "start_time": "2021-09-16T10:03:51.095Z"
   },
   {
    "duration": 18,
    "start_time": "2021-09-16T10:03:51.136Z"
   },
   {
    "duration": 11,
    "start_time": "2021-09-16T10:03:51.157Z"
   },
   {
    "duration": 6,
    "start_time": "2021-09-16T10:03:51.170Z"
   },
   {
    "duration": 12,
    "start_time": "2021-09-16T10:03:51.178Z"
   },
   {
    "duration": 9,
    "start_time": "2021-09-16T10:03:51.193Z"
   },
   {
    "duration": 53,
    "start_time": "2021-09-16T10:03:51.204Z"
   },
   {
    "duration": 72,
    "start_time": "2021-09-16T10:03:51.261Z"
   },
   {
    "duration": 32,
    "start_time": "2021-09-16T10:03:51.336Z"
   },
   {
    "duration": 8,
    "start_time": "2021-09-16T10:03:51.371Z"
   },
   {
    "duration": 3459,
    "start_time": "2021-09-16T10:03:51.382Z"
   },
   {
    "duration": 4539,
    "start_time": "2021-09-16T10:03:54.844Z"
   },
   {
    "duration": 1788,
    "start_time": "2021-09-16T10:03:59.385Z"
   },
   {
    "duration": 1669,
    "start_time": "2021-09-16T10:04:16.390Z"
   },
   {
    "duration": 161,
    "start_time": "2021-09-16T10:05:05.933Z"
   },
   {
    "duration": 6,
    "start_time": "2021-09-16T10:07:13.334Z"
   },
   {
    "duration": 37,
    "start_time": "2021-09-16T10:07:13.342Z"
   },
   {
    "duration": 21,
    "start_time": "2021-09-16T10:07:13.382Z"
   },
   {
    "duration": 13,
    "start_time": "2021-09-16T10:07:13.406Z"
   },
   {
    "duration": 6,
    "start_time": "2021-09-16T10:07:13.422Z"
   },
   {
    "duration": 27,
    "start_time": "2021-09-16T10:07:13.430Z"
   },
   {
    "duration": 8,
    "start_time": "2021-09-16T10:07:13.460Z"
   },
   {
    "duration": 17,
    "start_time": "2021-09-16T10:07:13.470Z"
   },
   {
    "duration": 104,
    "start_time": "2021-09-16T10:07:13.491Z"
   },
   {
    "duration": 15,
    "start_time": "2021-09-16T10:07:13.597Z"
   },
   {
    "duration": 7,
    "start_time": "2021-09-16T10:07:13.614Z"
   },
   {
    "duration": 3385,
    "start_time": "2021-09-16T10:07:13.624Z"
   },
   {
    "duration": 4558,
    "start_time": "2021-09-16T10:07:17.011Z"
   },
   {
    "duration": 1738,
    "start_time": "2021-09-16T10:07:21.571Z"
   },
   {
    "duration": 3,
    "start_time": "2021-09-16T10:09:44.966Z"
   },
   {
    "duration": 5,
    "start_time": "2021-09-16T10:10:44.520Z"
   },
   {
    "duration": 36,
    "start_time": "2021-09-16T10:10:44.527Z"
   },
   {
    "duration": 23,
    "start_time": "2021-09-16T10:10:44.566Z"
   },
   {
    "duration": 28,
    "start_time": "2021-09-16T10:10:44.591Z"
   },
   {
    "duration": 12,
    "start_time": "2021-09-16T10:10:44.621Z"
   },
   {
    "duration": 15,
    "start_time": "2021-09-16T10:10:44.636Z"
   },
   {
    "duration": 17,
    "start_time": "2021-09-16T10:10:44.653Z"
   },
   {
    "duration": 23,
    "start_time": "2021-09-16T10:10:44.672Z"
   },
   {
    "duration": 84,
    "start_time": "2021-09-16T10:10:44.698Z"
   },
   {
    "duration": 15,
    "start_time": "2021-09-16T10:10:44.784Z"
   },
   {
    "duration": 19,
    "start_time": "2021-09-16T10:10:44.801Z"
   },
   {
    "duration": 3356,
    "start_time": "2021-09-16T10:10:44.823Z"
   },
   {
    "duration": 4790,
    "start_time": "2021-09-16T10:10:48.181Z"
   },
   {
    "duration": 1640,
    "start_time": "2021-09-16T10:10:52.974Z"
   },
   {
    "duration": 4,
    "start_time": "2021-09-16T10:11:58.594Z"
   },
   {
    "duration": 10,
    "start_time": "2021-09-16T10:20:57.762Z"
   },
   {
    "duration": 88,
    "start_time": "2021-09-16T10:22:45.143Z"
   },
   {
    "duration": 341,
    "start_time": "2021-09-16T10:23:48.395Z"
   },
   {
    "duration": 50,
    "start_time": "2021-09-16T10:24:00.852Z"
   },
   {
    "duration": 6,
    "start_time": "2021-09-16T10:24:43.807Z"
   },
   {
    "duration": 244,
    "start_time": "2021-09-16T10:24:43.815Z"
   },
   {
    "duration": 18,
    "start_time": "2021-09-16T10:24:44.062Z"
   },
   {
    "duration": 12,
    "start_time": "2021-09-16T10:24:44.083Z"
   },
   {
    "duration": 6,
    "start_time": "2021-09-16T10:24:44.097Z"
   },
   {
    "duration": 15,
    "start_time": "2021-09-16T10:24:44.105Z"
   },
   {
    "duration": 38,
    "start_time": "2021-09-16T10:24:44.123Z"
   },
   {
    "duration": 15,
    "start_time": "2021-09-16T10:24:44.163Z"
   },
   {
    "duration": 91,
    "start_time": "2021-09-16T10:24:44.181Z"
   },
   {
    "duration": 16,
    "start_time": "2021-09-16T10:24:44.274Z"
   },
   {
    "duration": 7,
    "start_time": "2021-09-16T10:24:44.292Z"
   },
   {
    "duration": 3516,
    "start_time": "2021-09-16T10:24:44.301Z"
   },
   {
    "duration": 4672,
    "start_time": "2021-09-16T10:24:47.821Z"
   },
   {
    "duration": 1697,
    "start_time": "2021-09-16T10:24:52.496Z"
   },
   {
    "duration": 13,
    "start_time": "2021-09-16T10:24:54.196Z"
   },
   {
    "duration": 74,
    "start_time": "2021-09-16T10:24:54.212Z"
   },
   {
    "duration": 505,
    "start_time": "2021-09-16T10:25:41.309Z"
   },
   {
    "duration": 5,
    "start_time": "2021-09-16T10:27:41.277Z"
   },
   {
    "duration": 273,
    "start_time": "2021-09-16T10:28:58.752Z"
   },
   {
    "duration": 6,
    "start_time": "2021-09-16T10:29:40.415Z"
   },
   {
    "duration": 25,
    "start_time": "2021-09-16T10:29:41.211Z"
   },
   {
    "duration": 5,
    "start_time": "2021-09-16T10:29:49.643Z"
   },
   {
    "duration": 5,
    "start_time": "2021-09-16T10:29:53.608Z"
   },
   {
    "duration": 24,
    "start_time": "2021-09-16T10:29:55.188Z"
   },
   {
    "duration": 6,
    "start_time": "2021-09-16T10:29:58.813Z"
   },
   {
    "duration": 34,
    "start_time": "2021-09-16T10:29:58.822Z"
   },
   {
    "duration": 23,
    "start_time": "2021-09-16T10:29:58.859Z"
   },
   {
    "duration": 17,
    "start_time": "2021-09-16T10:29:58.886Z"
   },
   {
    "duration": 6,
    "start_time": "2021-09-16T10:29:58.906Z"
   },
   {
    "duration": 28,
    "start_time": "2021-09-16T10:29:58.915Z"
   },
   {
    "duration": 16,
    "start_time": "2021-09-16T10:29:58.945Z"
   },
   {
    "duration": 21,
    "start_time": "2021-09-16T10:29:58.963Z"
   },
   {
    "duration": 87,
    "start_time": "2021-09-16T10:29:58.987Z"
   },
   {
    "duration": 16,
    "start_time": "2021-09-16T10:29:59.077Z"
   },
   {
    "duration": 7,
    "start_time": "2021-09-16T10:29:59.095Z"
   },
   {
    "duration": 3426,
    "start_time": "2021-09-16T10:29:59.104Z"
   },
   {
    "duration": 4663,
    "start_time": "2021-09-16T10:30:02.532Z"
   },
   {
    "duration": 1710,
    "start_time": "2021-09-16T10:30:07.198Z"
   },
   {
    "duration": 9,
    "start_time": "2021-09-16T10:30:08.910Z"
   },
   {
    "duration": 71,
    "start_time": "2021-09-16T10:30:08.922Z"
   },
   {
    "duration": 598,
    "start_time": "2021-09-16T10:30:09.058Z"
   },
   {
    "duration": 5,
    "start_time": "2021-09-16T10:30:09.658Z"
   },
   {
    "duration": 33,
    "start_time": "2021-09-16T10:30:09.665Z"
   },
   {
    "duration": 25,
    "start_time": "2021-09-16T10:30:16.585Z"
   },
   {
    "duration": 24,
    "start_time": "2021-09-16T10:30:36.218Z"
   },
   {
    "duration": 5,
    "start_time": "2021-09-16T10:30:55.053Z"
   },
   {
    "duration": 24,
    "start_time": "2021-09-16T10:30:56.331Z"
   },
   {
    "duration": 6,
    "start_time": "2021-09-16T10:31:09.343Z"
   },
   {
    "duration": 25,
    "start_time": "2021-09-16T10:31:09.747Z"
   },
   {
    "duration": 59,
    "start_time": "2021-09-16T12:04:39.409Z"
   },
   {
    "duration": 54,
    "start_time": "2021-09-16T12:21:47.301Z"
   },
   {
    "duration": 9,
    "start_time": "2021-09-16T12:27:03.770Z"
   },
   {
    "duration": 142121,
    "start_time": "2021-09-16T12:29:50.355Z"
   },
   {
    "duration": 1846,
    "start_time": "2021-09-16T12:37:46.218Z"
   },
   {
    "duration": 1742,
    "start_time": "2021-09-16T12:39:07.117Z"
   },
   {
    "duration": 109,
    "start_time": "2021-09-16T12:41:54.396Z"
   },
   {
    "duration": 1827,
    "start_time": "2021-09-16T12:42:31.830Z"
   },
   {
    "duration": 1776,
    "start_time": "2021-09-16T12:42:47.484Z"
   },
   {
    "duration": 21,
    "start_time": "2021-09-16T12:42:51.971Z"
   },
   {
    "duration": 21,
    "start_time": "2021-09-16T12:44:32.564Z"
   },
   {
    "duration": 12,
    "start_time": "2021-09-16T12:48:53.117Z"
   },
   {
    "duration": 23,
    "start_time": "2021-09-16T12:48:58.249Z"
   },
   {
    "duration": 311,
    "start_time": "2021-09-16T12:49:02.936Z"
   },
   {
    "duration": 23,
    "start_time": "2021-09-16T12:49:13.117Z"
   },
   {
    "duration": 278,
    "start_time": "2021-09-16T12:49:37.610Z"
   },
   {
    "duration": 675,
    "start_time": "2021-09-16T12:50:34.069Z"
   },
   {
    "duration": 55,
    "start_time": "2021-09-16T12:50:58.222Z"
   },
   {
    "duration": 27,
    "start_time": "2021-09-16T12:51:51.276Z"
   },
   {
    "duration": 284,
    "start_time": "2021-09-16T12:51:57.730Z"
   },
   {
    "duration": 10,
    "start_time": "2021-09-16T12:52:09.492Z"
   },
   {
    "duration": 10,
    "start_time": "2021-09-16T12:52:14.532Z"
   },
   {
    "duration": 23,
    "start_time": "2021-09-16T12:52:16.439Z"
   },
   {
    "duration": 278,
    "start_time": "2021-09-16T12:52:20.830Z"
   },
   {
    "duration": 24,
    "start_time": "2021-09-16T12:52:53.492Z"
   },
   {
    "duration": 22,
    "start_time": "2021-09-16T12:55:16.309Z"
   },
   {
    "duration": 47,
    "start_time": "2021-09-16T12:58:29.295Z"
   },
   {
    "duration": 30,
    "start_time": "2021-09-16T12:58:45.427Z"
   },
   {
    "duration": 29,
    "start_time": "2021-09-16T13:00:16.354Z"
   },
   {
    "duration": 45,
    "start_time": "2021-09-16T13:00:38.621Z"
   },
   {
    "duration": 24,
    "start_time": "2021-09-16T13:00:47.477Z"
   },
   {
    "duration": 274,
    "start_time": "2021-09-16T13:03:36.855Z"
   },
   {
    "duration": 20,
    "start_time": "2021-09-16T13:03:48.754Z"
   },
   {
    "duration": 281,
    "start_time": "2021-09-16T13:06:16.212Z"
   },
   {
    "duration": 282,
    "start_time": "2021-09-16T13:06:38.642Z"
   },
   {
    "duration": 31,
    "start_time": "2021-09-16T13:06:47.915Z"
   },
   {
    "duration": 30,
    "start_time": "2021-09-16T13:07:01.051Z"
   },
   {
    "duration": 958,
    "start_time": "2021-09-16T13:07:14.270Z"
   },
   {
    "duration": 20,
    "start_time": "2021-09-16T13:09:02.195Z"
   },
   {
    "duration": 44,
    "start_time": "2021-09-16T13:14:41.228Z"
   },
   {
    "duration": 31,
    "start_time": "2021-09-16T13:15:00.925Z"
   },
   {
    "duration": 25,
    "start_time": "2021-09-16T13:15:06.699Z"
   },
   {
    "duration": 31,
    "start_time": "2021-09-16T13:15:22.968Z"
   },
   {
    "duration": 36,
    "start_time": "2021-09-16T13:20:53.535Z"
   },
   {
    "duration": 1626,
    "start_time": "2021-09-16T13:21:11.425Z"
   },
   {
    "duration": 21,
    "start_time": "2021-09-16T13:22:06.427Z"
   },
   {
    "duration": 99,
    "start_time": "2021-09-16T13:22:20.848Z"
   },
   {
    "duration": 18,
    "start_time": "2021-09-16T13:22:25.601Z"
   },
   {
    "duration": 19,
    "start_time": "2021-09-16T13:29:30.104Z"
   },
   {
    "duration": 7,
    "start_time": "2021-09-16T13:34:06.847Z"
   },
   {
    "duration": 45,
    "start_time": "2021-09-16T13:34:06.856Z"
   },
   {
    "duration": 25,
    "start_time": "2021-09-16T13:34:06.903Z"
   },
   {
    "duration": 19,
    "start_time": "2021-09-16T13:34:06.931Z"
   },
   {
    "duration": 21,
    "start_time": "2021-09-16T13:34:06.952Z"
   },
   {
    "duration": 14,
    "start_time": "2021-09-16T13:34:06.976Z"
   },
   {
    "duration": 18,
    "start_time": "2021-09-16T13:34:06.992Z"
   },
   {
    "duration": 24,
    "start_time": "2021-09-16T13:34:07.014Z"
   },
   {
    "duration": 86,
    "start_time": "2021-09-16T13:34:07.041Z"
   },
   {
    "duration": 28,
    "start_time": "2021-09-16T13:34:07.130Z"
   },
   {
    "duration": 6,
    "start_time": "2021-09-16T13:34:07.161Z"
   },
   {
    "duration": 3499,
    "start_time": "2021-09-16T13:34:07.170Z"
   },
   {
    "duration": 5017,
    "start_time": "2021-09-16T13:34:10.672Z"
   },
   {
    "duration": 1984,
    "start_time": "2021-09-16T13:34:15.692Z"
   },
   {
    "duration": 9,
    "start_time": "2021-09-16T13:34:17.678Z"
   },
   {
    "duration": 78,
    "start_time": "2021-09-16T13:34:17.690Z"
   },
   {
    "duration": 688,
    "start_time": "2021-09-16T13:34:17.771Z"
   },
   {
    "duration": 7,
    "start_time": "2021-09-16T13:34:18.461Z"
   },
   {
    "duration": 37,
    "start_time": "2021-09-16T13:34:18.471Z"
   },
   {
    "duration": 78,
    "start_time": "2021-09-16T13:34:18.511Z"
   },
   {
    "duration": 9,
    "start_time": "2021-09-16T13:34:18.592Z"
   },
   {
    "duration": 143933,
    "start_time": "2021-09-16T13:34:18.604Z"
   },
   {
    "duration": 1817,
    "start_time": "2021-09-16T13:36:42.541Z"
   },
   {
    "duration": 16,
    "start_time": "2021-09-16T13:36:44.361Z"
   },
   {
    "duration": 107,
    "start_time": "2021-09-16T13:55:17.210Z"
   },
   {
    "duration": 93,
    "start_time": "2021-09-16T13:55:36.915Z"
   },
   {
    "duration": 9,
    "start_time": "2021-09-16T15:40:30.462Z"
   },
   {
    "duration": 6390,
    "start_time": "2021-09-16T15:41:57.677Z"
   },
   {
    "duration": 5791,
    "start_time": "2021-09-16T15:42:10.353Z"
   },
   {
    "duration": 6092,
    "start_time": "2021-09-16T15:42:29.470Z"
   },
   {
    "duration": 8,
    "start_time": "2021-09-16T15:43:18.559Z"
   },
   {
    "duration": 3244,
    "start_time": "2021-09-16T15:43:19.561Z"
   },
   {
    "duration": 3083,
    "start_time": "2021-09-16T15:43:54.405Z"
   },
   {
    "duration": 3488,
    "start_time": "2021-09-16T15:44:00.060Z"
   },
   {
    "duration": 3398,
    "start_time": "2021-09-16T15:44:06.560Z"
   },
   {
    "duration": 3910,
    "start_time": "2021-09-16T15:44:14.646Z"
   },
   {
    "duration": 2929,
    "start_time": "2021-09-16T15:44:34.406Z"
   },
   {
    "duration": 3309,
    "start_time": "2021-09-16T15:44:42.430Z"
   },
   {
    "duration": 3400,
    "start_time": "2021-09-16T15:46:56.163Z"
   },
   {
    "duration": 3921,
    "start_time": "2021-09-16T15:47:04.449Z"
   },
   {
    "duration": 3125,
    "start_time": "2021-09-16T15:48:39.737Z"
   },
   {
    "duration": 1647,
    "start_time": "2021-09-16T15:48:55.079Z"
   },
   {
    "duration": 6,
    "start_time": "2021-09-16T15:49:54.901Z"
   },
   {
    "duration": 31,
    "start_time": "2021-09-16T15:49:54.909Z"
   },
   {
    "duration": 19,
    "start_time": "2021-09-16T15:49:54.943Z"
   },
   {
    "duration": 17,
    "start_time": "2021-09-16T15:49:54.965Z"
   },
   {
    "duration": 9,
    "start_time": "2021-09-16T15:49:54.985Z"
   },
   {
    "duration": 16,
    "start_time": "2021-09-16T15:49:54.997Z"
   },
   {
    "duration": 15,
    "start_time": "2021-09-16T15:49:55.016Z"
   },
   {
    "duration": 33,
    "start_time": "2021-09-16T15:49:55.033Z"
   },
   {
    "duration": 88,
    "start_time": "2021-09-16T15:49:55.069Z"
   },
   {
    "duration": 14,
    "start_time": "2021-09-16T15:49:55.160Z"
   },
   {
    "duration": 20,
    "start_time": "2021-09-16T15:49:55.176Z"
   },
   {
    "duration": 3832,
    "start_time": "2021-09-16T15:49:55.198Z"
   },
   {
    "duration": 4986,
    "start_time": "2021-09-16T15:49:59.032Z"
   },
   {
    "duration": 1735,
    "start_time": "2021-09-16T15:50:04.021Z"
   },
   {
    "duration": 9,
    "start_time": "2021-09-16T15:50:05.758Z"
   },
   {
    "duration": 94,
    "start_time": "2021-09-16T15:50:05.770Z"
   },
   {
    "duration": 606,
    "start_time": "2021-09-16T15:50:05.957Z"
   },
   {
    "duration": 5,
    "start_time": "2021-09-16T15:50:06.565Z"
   },
   {
    "duration": 28,
    "start_time": "2021-09-16T15:50:06.573Z"
   },
   {
    "duration": 73,
    "start_time": "2021-09-16T15:50:06.604Z"
   },
   {
    "duration": 8,
    "start_time": "2021-09-16T15:50:06.679Z"
   },
   {
    "duration": 1770,
    "start_time": "2021-09-16T15:50:06.689Z"
   },
   {
    "duration": 18,
    "start_time": "2021-09-16T15:50:08.461Z"
   },
   {
    "duration": 7,
    "start_time": "2021-09-16T15:50:08.481Z"
   },
   {
    "duration": 1752,
    "start_time": "2021-09-16T15:50:08.490Z"
   },
   {
    "duration": 318,
    "start_time": "2021-09-16T15:58:54.127Z"
   },
   {
    "duration": 1588,
    "start_time": "2021-09-16T15:59:58.570Z"
   },
   {
    "duration": 1687,
    "start_time": "2021-09-16T16:00:08.515Z"
   },
   {
    "duration": 309,
    "start_time": "2021-09-16T16:01:21.782Z"
   },
   {
    "duration": 278,
    "start_time": "2021-09-16T16:01:36.149Z"
   },
   {
    "duration": 1698,
    "start_time": "2021-09-16T16:01:44.034Z"
   },
   {
    "duration": 93,
    "start_time": "2021-09-16T16:04:26.025Z"
   },
   {
    "duration": 698,
    "start_time": "2021-09-16T16:04:40.177Z"
   },
   {
    "duration": 1810,
    "start_time": "2021-09-16T16:05:00.780Z"
   },
   {
    "duration": 564,
    "start_time": "2021-09-16T16:09:45.747Z"
   },
   {
    "duration": 705,
    "start_time": "2021-09-16T16:11:01.283Z"
   },
   {
    "duration": 286,
    "start_time": "2021-09-16T16:11:12.741Z"
   },
   {
    "duration": 1669,
    "start_time": "2021-09-16T16:11:42.925Z"
   },
   {
    "duration": 1615,
    "start_time": "2021-09-16T16:12:23.867Z"
   },
   {
    "duration": 5083,
    "start_time": "2021-09-16T16:13:48.265Z"
   },
   {
    "duration": 5332,
    "start_time": "2021-09-16T16:14:09.350Z"
   },
   {
    "duration": 5082,
    "start_time": "2021-09-16T16:15:14.557Z"
   },
   {
    "duration": 4987,
    "start_time": "2021-09-16T16:15:29.755Z"
   },
   {
    "duration": 2507,
    "start_time": "2021-09-16T16:16:18.662Z"
   },
   {
    "duration": 5058,
    "start_time": "2021-09-16T16:17:27.953Z"
   },
   {
    "duration": 18,
    "start_time": "2021-09-16T16:18:12.281Z"
   },
   {
    "duration": 927,
    "start_time": "2021-09-16T16:19:29.972Z"
   },
   {
    "duration": 383,
    "start_time": "2021-09-16T16:20:17.691Z"
   },
   {
    "duration": 285,
    "start_time": "2021-09-16T16:20:26.586Z"
   },
   {
    "duration": 1385,
    "start_time": "2021-09-16T16:22:11.219Z"
   },
   {
    "duration": 1498,
    "start_time": "2021-09-16T16:22:34.335Z"
   },
   {
    "duration": 1752,
    "start_time": "2021-09-16T16:22:50.564Z"
   },
   {
    "duration": 1533,
    "start_time": "2021-09-16T16:23:02.484Z"
   },
   {
    "duration": 278,
    "start_time": "2021-09-16T16:23:16.115Z"
   },
   {
    "duration": 1513,
    "start_time": "2021-09-16T16:23:45.061Z"
   },
   {
    "duration": 285,
    "start_time": "2021-09-16T16:23:56.258Z"
   },
   {
    "duration": 1611,
    "start_time": "2021-09-16T16:24:02.140Z"
   },
   {
    "duration": 1600,
    "start_time": "2021-09-16T16:24:48.435Z"
   },
   {
    "duration": 105,
    "start_time": "2021-09-16T16:25:20.133Z"
   },
   {
    "duration": 6,
    "start_time": "2021-09-17T09:30:05.272Z"
   },
   {
    "duration": 39,
    "start_time": "2021-09-17T09:30:05.282Z"
   },
   {
    "duration": 25,
    "start_time": "2021-09-17T09:30:05.325Z"
   },
   {
    "duration": 22,
    "start_time": "2021-09-17T09:30:05.354Z"
   },
   {
    "duration": 20,
    "start_time": "2021-09-17T09:30:05.378Z"
   },
   {
    "duration": 21,
    "start_time": "2021-09-17T09:30:05.400Z"
   },
   {
    "duration": 24,
    "start_time": "2021-09-17T09:30:05.423Z"
   },
   {
    "duration": 29,
    "start_time": "2021-09-17T09:30:05.450Z"
   },
   {
    "duration": 79,
    "start_time": "2021-09-17T09:30:05.483Z"
   },
   {
    "duration": 15,
    "start_time": "2021-09-17T09:30:05.566Z"
   },
   {
    "duration": 8,
    "start_time": "2021-09-17T09:30:05.583Z"
   },
   {
    "duration": 3467,
    "start_time": "2021-09-17T09:30:05.593Z"
   },
   {
    "duration": 4594,
    "start_time": "2021-09-17T09:30:09.062Z"
   },
   {
    "duration": 1773,
    "start_time": "2021-09-17T09:30:13.658Z"
   },
   {
    "duration": 23,
    "start_time": "2021-09-17T09:30:15.434Z"
   },
   {
    "duration": 97,
    "start_time": "2021-09-17T09:30:15.460Z"
   },
   {
    "duration": 683,
    "start_time": "2021-09-17T09:30:15.561Z"
   },
   {
    "duration": 10,
    "start_time": "2021-09-17T09:30:16.246Z"
   },
   {
    "duration": 32,
    "start_time": "2021-09-17T09:30:16.259Z"
   },
   {
    "duration": 77,
    "start_time": "2021-09-17T09:30:16.293Z"
   },
   {
    "duration": 8,
    "start_time": "2021-09-17T09:30:16.373Z"
   },
   {
    "duration": 1876,
    "start_time": "2021-09-17T09:30:16.384Z"
   },
   {
    "duration": 20,
    "start_time": "2021-09-17T09:30:18.264Z"
   },
   {
    "duration": 7,
    "start_time": "2021-09-17T09:30:18.286Z"
   },
   {
    "duration": 1709,
    "start_time": "2021-09-17T09:30:18.297Z"
   },
   {
    "duration": 4861,
    "start_time": "2021-09-17T09:30:20.009Z"
   },
   {
    "duration": 76,
    "start_time": "2021-09-17T09:35:31.144Z"
   },
   {
    "duration": 6,
    "start_time": "2021-09-17T09:35:36.479Z"
   },
   {
    "duration": 36,
    "start_time": "2021-09-17T09:35:36.488Z"
   },
   {
    "duration": 18,
    "start_time": "2021-09-17T09:35:36.528Z"
   },
   {
    "duration": 19,
    "start_time": "2021-09-17T09:35:36.549Z"
   },
   {
    "duration": 23,
    "start_time": "2021-09-17T09:35:36.570Z"
   },
   {
    "duration": 38,
    "start_time": "2021-09-17T09:35:36.595Z"
   },
   {
    "duration": 138,
    "start_time": "2021-09-17T09:35:36.635Z"
   },
   {
    "duration": 17,
    "start_time": "2021-09-17T09:35:36.776Z"
   },
   {
    "duration": 79,
    "start_time": "2021-09-17T09:35:36.797Z"
   },
   {
    "duration": 16,
    "start_time": "2021-09-17T09:35:36.881Z"
   },
   {
    "duration": 8,
    "start_time": "2021-09-17T09:35:36.900Z"
   },
   {
    "duration": 3564,
    "start_time": "2021-09-17T09:35:36.911Z"
   },
   {
    "duration": 4807,
    "start_time": "2021-09-17T09:35:40.477Z"
   },
   {
    "duration": 1739,
    "start_time": "2021-09-17T09:35:45.287Z"
   },
   {
    "duration": 27,
    "start_time": "2021-09-17T09:35:47.029Z"
   },
   {
    "duration": 197,
    "start_time": "2021-09-17T09:35:47.059Z"
   },
   {
    "duration": 522,
    "start_time": "2021-09-17T09:35:47.259Z"
   },
   {
    "duration": 5,
    "start_time": "2021-09-17T09:35:47.783Z"
   },
   {
    "duration": 27,
    "start_time": "2021-09-17T09:35:47.791Z"
   },
   {
    "duration": 76,
    "start_time": "2021-09-17T09:35:47.821Z"
   },
   {
    "duration": 8,
    "start_time": "2021-09-17T09:35:47.899Z"
   },
   {
    "duration": 1855,
    "start_time": "2021-09-17T09:35:47.909Z"
   },
   {
    "duration": 19,
    "start_time": "2021-09-17T09:35:49.766Z"
   },
   {
    "duration": 9,
    "start_time": "2021-09-17T09:35:49.788Z"
   },
   {
    "duration": 1728,
    "start_time": "2021-09-17T09:35:49.801Z"
   },
   {
    "duration": 5077,
    "start_time": "2021-09-17T09:35:51.531Z"
   },
   {
    "duration": 8,
    "start_time": "2021-09-17T09:42:17.675Z"
   },
   {
    "duration": 35,
    "start_time": "2021-09-17T09:42:17.687Z"
   },
   {
    "duration": 21,
    "start_time": "2021-09-17T09:42:17.726Z"
   },
   {
    "duration": 14,
    "start_time": "2021-09-17T09:42:17.754Z"
   },
   {
    "duration": 14,
    "start_time": "2021-09-17T09:42:17.771Z"
   },
   {
    "duration": 12,
    "start_time": "2021-09-17T09:42:17.787Z"
   },
   {
    "duration": 8,
    "start_time": "2021-09-17T09:42:17.802Z"
   },
   {
    "duration": 18,
    "start_time": "2021-09-17T09:42:17.812Z"
   },
   {
    "duration": 91,
    "start_time": "2021-09-17T09:42:17.834Z"
   },
   {
    "duration": 35,
    "start_time": "2021-09-17T09:42:17.928Z"
   },
   {
    "duration": 328,
    "start_time": "2021-09-17T09:42:17.965Z"
   },
   {
    "duration": -82,
    "start_time": "2021-09-17T09:42:18.379Z"
   },
   {
    "duration": -81,
    "start_time": "2021-09-17T09:42:18.380Z"
   },
   {
    "duration": -80,
    "start_time": "2021-09-17T09:42:18.381Z"
   },
   {
    "duration": -78,
    "start_time": "2021-09-17T09:42:18.382Z"
   },
   {
    "duration": -77,
    "start_time": "2021-09-17T09:42:18.383Z"
   },
   {
    "duration": -76,
    "start_time": "2021-09-17T09:42:18.384Z"
   },
   {
    "duration": -75,
    "start_time": "2021-09-17T09:42:18.385Z"
   },
   {
    "duration": -74,
    "start_time": "2021-09-17T09:42:18.386Z"
   },
   {
    "duration": -71,
    "start_time": "2021-09-17T09:42:18.386Z"
   },
   {
    "duration": -70,
    "start_time": "2021-09-17T09:42:18.387Z"
   },
   {
    "duration": -69,
    "start_time": "2021-09-17T09:42:18.388Z"
   },
   {
    "duration": -68,
    "start_time": "2021-09-17T09:42:18.389Z"
   },
   {
    "duration": -69,
    "start_time": "2021-09-17T09:42:18.392Z"
   },
   {
    "duration": -69,
    "start_time": "2021-09-17T09:42:18.394Z"
   },
   {
    "duration": -68,
    "start_time": "2021-09-17T09:42:18.395Z"
   },
   {
    "duration": 6,
    "start_time": "2021-09-17T09:42:52.515Z"
   },
   {
    "duration": 33,
    "start_time": "2021-09-17T09:42:52.524Z"
   },
   {
    "duration": 20,
    "start_time": "2021-09-17T09:42:52.560Z"
   },
   {
    "duration": 22,
    "start_time": "2021-09-17T09:42:52.583Z"
   },
   {
    "duration": 11,
    "start_time": "2021-09-17T09:42:52.608Z"
   },
   {
    "duration": 23,
    "start_time": "2021-09-17T09:42:52.622Z"
   },
   {
    "duration": 8,
    "start_time": "2021-09-17T09:42:52.656Z"
   },
   {
    "duration": 21,
    "start_time": "2021-09-17T09:42:52.666Z"
   },
   {
    "duration": 84,
    "start_time": "2021-09-17T09:42:52.691Z"
   },
   {
    "duration": 15,
    "start_time": "2021-09-17T09:42:52.778Z"
   },
   {
    "duration": 12,
    "start_time": "2021-09-17T09:42:52.795Z"
   },
   {
    "duration": 2247,
    "start_time": "2021-09-17T09:42:52.809Z"
   },
   {
    "duration": 8159,
    "start_time": "2021-09-17T09:42:55.058Z"
   },
   {
    "duration": -86,
    "start_time": "2021-09-17T09:43:03.305Z"
   },
   {
    "duration": -86,
    "start_time": "2021-09-17T09:43:03.306Z"
   },
   {
    "duration": -85,
    "start_time": "2021-09-17T09:43:03.307Z"
   },
   {
    "duration": -85,
    "start_time": "2021-09-17T09:43:03.308Z"
   },
   {
    "duration": -85,
    "start_time": "2021-09-17T09:43:03.309Z"
   },
   {
    "duration": -84,
    "start_time": "2021-09-17T09:43:03.310Z"
   },
   {
    "duration": -84,
    "start_time": "2021-09-17T09:43:03.311Z"
   },
   {
    "duration": -83,
    "start_time": "2021-09-17T09:43:03.311Z"
   },
   {
    "duration": -82,
    "start_time": "2021-09-17T09:43:03.312Z"
   },
   {
    "duration": -82,
    "start_time": "2021-09-17T09:43:03.313Z"
   },
   {
    "duration": -81,
    "start_time": "2021-09-17T09:43:03.314Z"
   },
   {
    "duration": -79,
    "start_time": "2021-09-17T09:43:03.314Z"
   },
   {
    "duration": -86,
    "start_time": "2021-09-17T09:43:03.322Z"
   },
   {
    "duration": 6,
    "start_time": "2021-09-17T09:44:52.738Z"
   },
   {
    "duration": 28,
    "start_time": "2021-09-17T09:44:52.746Z"
   },
   {
    "duration": 18,
    "start_time": "2021-09-17T09:44:52.777Z"
   },
   {
    "duration": 13,
    "start_time": "2021-09-17T09:44:52.798Z"
   },
   {
    "duration": 5,
    "start_time": "2021-09-17T09:44:52.814Z"
   },
   {
    "duration": 40,
    "start_time": "2021-09-17T09:44:52.821Z"
   },
   {
    "duration": 15,
    "start_time": "2021-09-17T09:44:52.863Z"
   },
   {
    "duration": 14,
    "start_time": "2021-09-17T09:44:52.880Z"
   },
   {
    "duration": 94,
    "start_time": "2021-09-17T09:44:52.898Z"
   },
   {
    "duration": 15,
    "start_time": "2021-09-17T09:44:52.996Z"
   },
   {
    "duration": 6,
    "start_time": "2021-09-17T09:44:53.013Z"
   },
   {
    "duration": 2087,
    "start_time": "2021-09-17T09:44:53.022Z"
   },
   {
    "duration": 7330,
    "start_time": "2021-09-17T09:44:55.111Z"
   },
   {
    "duration": 1675,
    "start_time": "2021-09-17T09:45:02.444Z"
   },
   {
    "duration": 11,
    "start_time": "2021-09-17T09:45:04.121Z"
   },
   {
    "duration": 73,
    "start_time": "2021-09-17T09:45:04.134Z"
   },
   {
    "duration": 598,
    "start_time": "2021-09-17T09:45:04.260Z"
   },
   {
    "duration": 6,
    "start_time": "2021-09-17T09:45:04.861Z"
   },
   {
    "duration": 49,
    "start_time": "2021-09-17T09:45:04.870Z"
   },
   {
    "duration": 61,
    "start_time": "2021-09-17T09:45:04.922Z"
   },
   {
    "duration": 10,
    "start_time": "2021-09-17T09:45:04.986Z"
   },
   {
    "duration": 1860,
    "start_time": "2021-09-17T09:45:04.998Z"
   },
   {
    "duration": 18,
    "start_time": "2021-09-17T09:45:06.860Z"
   },
   {
    "duration": 15,
    "start_time": "2021-09-17T09:45:06.881Z"
   },
   {
    "duration": 1843,
    "start_time": "2021-09-17T09:45:06.898Z"
   },
   {
    "duration": 4850,
    "start_time": "2021-09-17T09:45:08.743Z"
   },
   {
    "duration": 6,
    "start_time": "2021-09-17T09:45:44.837Z"
   },
   {
    "duration": 39,
    "start_time": "2021-09-17T09:45:44.846Z"
   },
   {
    "duration": 20,
    "start_time": "2021-09-17T09:45:44.889Z"
   },
   {
    "duration": 13,
    "start_time": "2021-09-17T09:45:44.913Z"
   },
   {
    "duration": 26,
    "start_time": "2021-09-17T09:45:44.929Z"
   },
   {
    "duration": 10,
    "start_time": "2021-09-17T09:45:44.958Z"
   },
   {
    "duration": 12,
    "start_time": "2021-09-17T09:45:44.971Z"
   },
   {
    "duration": 14,
    "start_time": "2021-09-17T09:45:44.986Z"
   },
   {
    "duration": 107,
    "start_time": "2021-09-17T09:45:45.005Z"
   },
   {
    "duration": 39,
    "start_time": "2021-09-17T09:45:45.116Z"
   },
   {
    "duration": 7,
    "start_time": "2021-09-17T09:45:45.158Z"
   },
   {
    "duration": 3506,
    "start_time": "2021-09-17T09:45:45.167Z"
   },
   {
    "duration": 4839,
    "start_time": "2021-09-17T09:45:48.675Z"
   },
   {
    "duration": 1843,
    "start_time": "2021-09-17T09:45:53.516Z"
   },
   {
    "duration": 13,
    "start_time": "2021-09-17T09:45:55.361Z"
   },
   {
    "duration": 87,
    "start_time": "2021-09-17T09:45:55.377Z"
   },
   {
    "duration": 651,
    "start_time": "2021-09-17T09:45:55.562Z"
   },
   {
    "duration": 5,
    "start_time": "2021-09-17T09:45:56.215Z"
   },
   {
    "duration": 42,
    "start_time": "2021-09-17T09:45:56.222Z"
   },
   {
    "duration": 57,
    "start_time": "2021-09-17T09:45:56.266Z"
   },
   {
    "duration": 8,
    "start_time": "2021-09-17T09:45:56.325Z"
   },
   {
    "duration": 1827,
    "start_time": "2021-09-17T09:45:56.335Z"
   },
   {
    "duration": 17,
    "start_time": "2021-09-17T09:45:58.164Z"
   },
   {
    "duration": 15,
    "start_time": "2021-09-17T09:45:58.184Z"
   },
   {
    "duration": 1982,
    "start_time": "2021-09-17T09:45:58.202Z"
   },
   {
    "duration": 5133,
    "start_time": "2021-09-17T09:46:00.186Z"
   },
   {
    "duration": 3048,
    "start_time": "2021-09-17T09:46:50.354Z"
   },
   {
    "duration": 1724,
    "start_time": "2021-09-17T09:46:58.672Z"
   },
   {
    "duration": 6,
    "start_time": "2021-09-17T09:47:03.522Z"
   },
   {
    "duration": 31,
    "start_time": "2021-09-17T09:47:03.530Z"
   },
   {
    "duration": 19,
    "start_time": "2021-09-17T09:47:03.564Z"
   },
   {
    "duration": 20,
    "start_time": "2021-09-17T09:47:03.586Z"
   },
   {
    "duration": 5,
    "start_time": "2021-09-17T09:47:03.609Z"
   },
   {
    "duration": 14,
    "start_time": "2021-09-17T09:47:03.616Z"
   },
   {
    "duration": 29,
    "start_time": "2021-09-17T09:47:03.632Z"
   },
   {
    "duration": 21,
    "start_time": "2021-09-17T09:47:03.664Z"
   },
   {
    "duration": 85,
    "start_time": "2021-09-17T09:47:03.689Z"
   },
   {
    "duration": 16,
    "start_time": "2021-09-17T09:47:03.777Z"
   },
   {
    "duration": 8,
    "start_time": "2021-09-17T09:47:03.795Z"
   },
   {
    "duration": 3436,
    "start_time": "2021-09-17T09:47:03.805Z"
   },
   {
    "duration": 4893,
    "start_time": "2021-09-17T09:47:07.244Z"
   },
   {
    "duration": 1670,
    "start_time": "2021-09-17T09:47:12.140Z"
   },
   {
    "duration": 10,
    "start_time": "2021-09-17T09:47:13.812Z"
   },
   {
    "duration": 132,
    "start_time": "2021-09-17T09:47:13.824Z"
   },
   {
    "duration": 606,
    "start_time": "2021-09-17T09:47:13.958Z"
   },
   {
    "duration": 5,
    "start_time": "2021-09-17T09:47:14.566Z"
   },
   {
    "duration": 28,
    "start_time": "2021-09-17T09:47:14.574Z"
   },
   {
    "duration": 190,
    "start_time": "2021-09-17T09:47:14.604Z"
   },
   {
    "duration": 8,
    "start_time": "2021-09-17T09:47:14.796Z"
   },
   {
    "duration": 1759,
    "start_time": "2021-09-17T09:47:14.806Z"
   },
   {
    "duration": 17,
    "start_time": "2021-09-17T09:47:16.657Z"
   },
   {
    "duration": 7,
    "start_time": "2021-09-17T09:47:16.676Z"
   },
   {
    "duration": 1651,
    "start_time": "2021-09-17T09:47:16.685Z"
   },
   {
    "duration": 5135,
    "start_time": "2021-09-17T09:47:18.338Z"
   },
   {
    "duration": 6,
    "start_time": "2021-09-17T09:48:53.640Z"
   },
   {
    "duration": 31,
    "start_time": "2021-09-17T09:48:53.649Z"
   },
   {
    "duration": 19,
    "start_time": "2021-09-17T09:48:53.683Z"
   },
   {
    "duration": 11,
    "start_time": "2021-09-17T09:48:53.705Z"
   },
   {
    "duration": 6,
    "start_time": "2021-09-17T09:48:53.718Z"
   },
   {
    "duration": 37,
    "start_time": "2021-09-17T09:48:53.726Z"
   },
   {
    "duration": 8,
    "start_time": "2021-09-17T09:48:53.766Z"
   },
   {
    "duration": 11,
    "start_time": "2021-09-17T09:48:53.777Z"
   },
   {
    "duration": 106,
    "start_time": "2021-09-17T09:48:53.792Z"
   },
   {
    "duration": 14,
    "start_time": "2021-09-17T09:48:53.902Z"
   },
   {
    "duration": 6,
    "start_time": "2021-09-17T09:48:53.918Z"
   },
   {
    "duration": 3427,
    "start_time": "2021-09-17T09:48:53.926Z"
   },
   {
    "duration": 5140,
    "start_time": "2021-09-17T09:48:57.356Z"
   },
   {
    "duration": 1803,
    "start_time": "2021-09-17T09:49:02.498Z"
   },
   {
    "duration": 11,
    "start_time": "2021-09-17T09:49:04.304Z"
   },
   {
    "duration": 141,
    "start_time": "2021-09-17T09:49:04.318Z"
   },
   {
    "duration": 611,
    "start_time": "2021-09-17T09:49:04.462Z"
   },
   {
    "duration": 5,
    "start_time": "2021-09-17T09:49:05.075Z"
   },
   {
    "duration": 29,
    "start_time": "2021-09-17T09:49:05.083Z"
   },
   {
    "duration": 76,
    "start_time": "2021-09-17T09:49:05.115Z"
   },
   {
    "duration": 8,
    "start_time": "2021-09-17T09:49:05.193Z"
   },
   {
    "duration": 1854,
    "start_time": "2021-09-17T09:49:05.204Z"
   },
   {
    "duration": 18,
    "start_time": "2021-09-17T09:49:07.060Z"
   },
   {
    "duration": 8,
    "start_time": "2021-09-17T09:49:07.080Z"
   },
   {
    "duration": 1595,
    "start_time": "2021-09-17T09:49:07.090Z"
   },
   {
    "duration": 5062,
    "start_time": "2021-09-17T09:49:08.687Z"
   },
   {
    "duration": 5,
    "start_time": "2021-09-17T10:39:40.994Z"
   },
   {
    "duration": 853,
    "start_time": "2021-09-17T10:39:41.002Z"
   },
   {
    "duration": 25,
    "start_time": "2021-09-17T10:39:41.862Z"
   },
   {
    "duration": 19,
    "start_time": "2021-09-17T10:39:41.890Z"
   },
   {
    "duration": 10,
    "start_time": "2021-09-17T10:39:41.912Z"
   },
   {
    "duration": 40,
    "start_time": "2021-09-17T10:39:41.924Z"
   },
   {
    "duration": 11,
    "start_time": "2021-09-17T10:39:41.967Z"
   },
   {
    "duration": 13,
    "start_time": "2021-09-17T10:39:41.980Z"
   },
   {
    "duration": 114,
    "start_time": "2021-09-17T10:39:41.996Z"
   },
   {
    "duration": 16,
    "start_time": "2021-09-17T10:39:42.113Z"
   },
   {
    "duration": 7,
    "start_time": "2021-09-17T10:39:42.132Z"
   },
   {
    "duration": 3813,
    "start_time": "2021-09-17T10:39:42.162Z"
   },
   {
    "duration": 4834,
    "start_time": "2021-09-17T10:39:45.978Z"
   },
   {
    "duration": 2077,
    "start_time": "2021-09-17T10:39:50.815Z"
   },
   {
    "duration": 10,
    "start_time": "2021-09-17T10:39:52.895Z"
   },
   {
    "duration": 83,
    "start_time": "2021-09-17T10:39:52.907Z"
   },
   {
    "duration": 725,
    "start_time": "2021-09-17T10:39:52.993Z"
   },
   {
    "duration": 5,
    "start_time": "2021-09-17T10:39:53.720Z"
   },
   {
    "duration": 55,
    "start_time": "2021-09-17T10:39:53.727Z"
   },
   {
    "duration": 63,
    "start_time": "2021-09-17T10:39:53.784Z"
   },
   {
    "duration": 11,
    "start_time": "2021-09-17T10:39:53.858Z"
   },
   {
    "duration": 1796,
    "start_time": "2021-09-17T10:39:53.872Z"
   },
   {
    "duration": 20,
    "start_time": "2021-09-17T10:39:55.670Z"
   },
   {
    "duration": 10,
    "start_time": "2021-09-17T10:39:55.693Z"
   },
   {
    "duration": 2013,
    "start_time": "2021-09-17T10:39:55.706Z"
   },
   {
    "duration": 5111,
    "start_time": "2021-09-17T10:39:57.721Z"
   },
   {
    "duration": 290,
    "start_time": "2021-09-17T10:40:21.839Z"
   },
   {
    "duration": 289,
    "start_time": "2021-09-17T10:40:32.237Z"
   },
   {
    "duration": 1931,
    "start_time": "2021-09-17T10:42:01.292Z"
   },
   {
    "duration": 8,
    "start_time": "2021-09-17T10:42:14.154Z"
   },
   {
    "duration": 36,
    "start_time": "2021-09-17T10:42:14.167Z"
   },
   {
    "duration": 19,
    "start_time": "2021-09-17T10:42:14.205Z"
   },
   {
    "duration": 38,
    "start_time": "2021-09-17T10:42:14.227Z"
   },
   {
    "duration": 7,
    "start_time": "2021-09-17T10:42:14.268Z"
   },
   {
    "duration": 13,
    "start_time": "2021-09-17T10:42:14.277Z"
   },
   {
    "duration": 8,
    "start_time": "2021-09-17T10:42:14.293Z"
   },
   {
    "duration": 14,
    "start_time": "2021-09-17T10:42:14.304Z"
   },
   {
    "duration": 75,
    "start_time": "2021-09-17T10:42:14.364Z"
   },
   {
    "duration": 37,
    "start_time": "2021-09-17T10:42:14.442Z"
   },
   {
    "duration": 7,
    "start_time": "2021-09-17T10:42:14.482Z"
   },
   {
    "duration": 3714,
    "start_time": "2021-09-17T10:42:14.492Z"
   },
   {
    "duration": 4873,
    "start_time": "2021-09-17T10:42:18.208Z"
   },
   {
    "duration": 1772,
    "start_time": "2021-09-17T10:42:23.084Z"
   },
   {
    "duration": 14,
    "start_time": "2021-09-17T10:42:24.859Z"
   },
   {
    "duration": 82,
    "start_time": "2021-09-17T10:42:24.875Z"
   },
   {
    "duration": 731,
    "start_time": "2021-09-17T10:42:24.960Z"
   },
   {
    "duration": 5,
    "start_time": "2021-09-17T10:42:25.694Z"
   },
   {
    "duration": 30,
    "start_time": "2021-09-17T10:42:25.702Z"
   },
   {
    "duration": 209,
    "start_time": "2021-09-17T10:42:25.735Z"
   },
   {
    "duration": 22,
    "start_time": "2021-09-17T10:42:25.947Z"
   },
   {
    "duration": 1788,
    "start_time": "2021-09-17T10:42:25.972Z"
   },
   {
    "duration": 21,
    "start_time": "2021-09-17T10:42:27.764Z"
   },
   {
    "duration": 8,
    "start_time": "2021-09-17T10:42:27.787Z"
   },
   {
    "duration": 1759,
    "start_time": "2021-09-17T10:42:27.797Z"
   },
   {
    "duration": 5228,
    "start_time": "2021-09-17T10:42:29.559Z"
   },
   {
    "duration": 99,
    "start_time": "2021-09-17T10:48:56.627Z"
   },
   {
    "duration": 294,
    "start_time": "2021-09-17T10:49:01.477Z"
   },
   {
    "duration": 1847,
    "start_time": "2021-09-17T10:51:49.927Z"
   },
   {
    "duration": 6,
    "start_time": "2021-09-17T10:52:43.980Z"
   },
   {
    "duration": 32,
    "start_time": "2021-09-17T10:52:43.988Z"
   },
   {
    "duration": 19,
    "start_time": "2021-09-17T10:52:44.023Z"
   },
   {
    "duration": 19,
    "start_time": "2021-09-17T10:52:44.045Z"
   },
   {
    "duration": 9,
    "start_time": "2021-09-17T10:52:44.067Z"
   },
   {
    "duration": 12,
    "start_time": "2021-09-17T10:52:44.079Z"
   },
   {
    "duration": 9,
    "start_time": "2021-09-17T10:52:44.094Z"
   },
   {
    "duration": 59,
    "start_time": "2021-09-17T10:52:44.106Z"
   },
   {
    "duration": 86,
    "start_time": "2021-09-17T10:52:44.170Z"
   },
   {
    "duration": 19,
    "start_time": "2021-09-17T10:52:44.261Z"
   },
   {
    "duration": 7,
    "start_time": "2021-09-17T10:52:44.282Z"
   },
   {
    "duration": 3543,
    "start_time": "2021-09-17T10:52:44.291Z"
   },
   {
    "duration": 5147,
    "start_time": "2021-09-17T10:52:47.837Z"
   },
   {
    "duration": 1757,
    "start_time": "2021-09-17T10:52:52.987Z"
   },
   {
    "duration": 17,
    "start_time": "2021-09-17T10:52:54.747Z"
   },
   {
    "duration": 103,
    "start_time": "2021-09-17T10:52:54.768Z"
   },
   {
    "duration": 715,
    "start_time": "2021-09-17T10:52:54.877Z"
   },
   {
    "duration": 5,
    "start_time": "2021-09-17T10:52:55.595Z"
   },
   {
    "duration": 28,
    "start_time": "2021-09-17T10:52:55.603Z"
   },
   {
    "duration": 89,
    "start_time": "2021-09-17T10:52:55.634Z"
   },
   {
    "duration": 7,
    "start_time": "2021-09-17T10:52:55.726Z"
   },
   {
    "duration": 1721,
    "start_time": "2021-09-17T10:52:55.735Z"
   },
   {
    "duration": 23,
    "start_time": "2021-09-17T10:52:57.460Z"
   },
   {
    "duration": 7,
    "start_time": "2021-09-17T10:52:57.485Z"
   },
   {
    "duration": 1898,
    "start_time": "2021-09-17T10:52:57.494Z"
   },
   {
    "duration": 5319,
    "start_time": "2021-09-17T10:52:59.394Z"
   },
   {
    "duration": 1530,
    "start_time": "2021-09-17T12:18:11.297Z"
   },
   {
    "duration": 26,
    "start_time": "2021-09-17T12:18:12.829Z"
   },
   {
    "duration": 53,
    "start_time": "2021-09-17T12:18:12.858Z"
   },
   {
    "duration": 11,
    "start_time": "2021-09-17T12:18:12.914Z"
   },
   {
    "duration": 18,
    "start_time": "2021-09-17T12:18:12.927Z"
   },
   {
    "duration": 12,
    "start_time": "2021-09-17T12:18:12.947Z"
   },
   {
    "duration": 7,
    "start_time": "2021-09-17T12:18:12.962Z"
   },
   {
    "duration": 12,
    "start_time": "2021-09-17T12:18:12.972Z"
   },
   {
    "duration": 95,
    "start_time": "2021-09-17T12:18:12.989Z"
   },
   {
    "duration": 14,
    "start_time": "2021-09-17T12:18:13.087Z"
   },
   {
    "duration": 7,
    "start_time": "2021-09-17T12:18:13.104Z"
   },
   {
    "duration": 3336,
    "start_time": "2021-09-17T12:18:13.113Z"
   },
   {
    "duration": 4642,
    "start_time": "2021-09-17T12:18:16.452Z"
   },
   {
    "duration": 1677,
    "start_time": "2021-09-17T12:18:21.096Z"
   },
   {
    "duration": 11,
    "start_time": "2021-09-17T12:18:22.775Z"
   },
   {
    "duration": 74,
    "start_time": "2021-09-17T12:18:22.788Z"
   },
   {
    "duration": 692,
    "start_time": "2021-09-17T12:18:22.865Z"
   },
   {
    "duration": 5,
    "start_time": "2021-09-17T12:18:23.559Z"
   },
   {
    "duration": 35,
    "start_time": "2021-09-17T12:18:23.567Z"
   },
   {
    "duration": 66,
    "start_time": "2021-09-17T12:18:23.604Z"
   },
   {
    "duration": 9,
    "start_time": "2021-09-17T12:18:23.672Z"
   },
   {
    "duration": 138762,
    "start_time": "2021-09-17T12:18:23.684Z"
   },
   {
    "duration": 1907,
    "start_time": "2021-09-17T12:20:42.449Z"
   },
   {
    "duration": 608,
    "start_time": "2021-09-17T12:20:44.359Z"
   },
   {
    "duration": 8,
    "start_time": "2021-09-17T12:20:44.970Z"
   },
   {
    "duration": 1611,
    "start_time": "2021-09-17T12:20:44.980Z"
   },
   {
    "duration": 4774,
    "start_time": "2021-09-17T12:20:46.596Z"
   },
   {
    "duration": 1600,
    "start_time": "2021-09-18T08:46:22.434Z"
   },
   {
    "duration": 25,
    "start_time": "2021-09-18T08:46:24.037Z"
   },
   {
    "duration": 29,
    "start_time": "2021-09-18T08:46:24.065Z"
   },
   {
    "duration": 10,
    "start_time": "2021-09-18T08:46:24.097Z"
   },
   {
    "duration": 9,
    "start_time": "2021-09-18T08:46:24.109Z"
   },
   {
    "duration": 17,
    "start_time": "2021-09-18T08:46:24.120Z"
   },
   {
    "duration": 42,
    "start_time": "2021-09-18T08:46:24.140Z"
   },
   {
    "duration": 14,
    "start_time": "2021-09-18T08:46:24.185Z"
   },
   {
    "duration": 91,
    "start_time": "2021-09-18T08:46:24.203Z"
   },
   {
    "duration": 16,
    "start_time": "2021-09-18T08:46:24.297Z"
   },
   {
    "duration": 9,
    "start_time": "2021-09-18T08:46:24.316Z"
   },
   {
    "duration": 3330,
    "start_time": "2021-09-18T08:46:24.327Z"
   },
   {
    "duration": 4627,
    "start_time": "2021-09-18T08:46:27.661Z"
   },
   {
    "duration": 1649,
    "start_time": "2021-09-18T08:46:32.291Z"
   },
   {
    "duration": 12,
    "start_time": "2021-09-18T08:46:33.944Z"
   },
   {
    "duration": 129,
    "start_time": "2021-09-18T08:46:33.959Z"
   },
   {
    "duration": 690,
    "start_time": "2021-09-18T08:46:34.092Z"
   },
   {
    "duration": 5,
    "start_time": "2021-09-18T08:46:34.785Z"
   },
   {
    "duration": 26,
    "start_time": "2021-09-18T08:46:34.793Z"
   },
   {
    "duration": 74,
    "start_time": "2021-09-18T08:46:34.822Z"
   },
   {
    "duration": 8,
    "start_time": "2021-09-18T08:46:34.899Z"
   },
   {
    "duration": 160834,
    "start_time": "2021-09-18T08:46:34.909Z"
   },
   {
    "duration": 1839,
    "start_time": "2021-09-18T08:49:15.746Z"
   },
   {
    "duration": 206746,
    "start_time": "2021-09-18T08:49:17.587Z"
   },
   {
    "duration": 9,
    "start_time": "2021-09-18T08:52:44.336Z"
   },
   {
    "duration": 1820,
    "start_time": "2021-09-18T08:52:44.348Z"
   },
   {
    "duration": 4860,
    "start_time": "2021-09-18T08:52:46.173Z"
   },
   {
    "duration": 4,
    "start_time": "2021-09-18T08:54:26.764Z"
   },
   {
    "duration": 5,
    "start_time": "2021-09-18T08:54:37.896Z"
   },
   {
    "duration": 7,
    "start_time": "2021-09-18T08:55:41.304Z"
   },
   {
    "duration": 64,
    "start_time": "2022-05-18T18:50:12.627Z"
   },
   {
    "duration": 1539,
    "start_time": "2022-05-18T18:53:35.344Z"
   },
   {
    "duration": 30,
    "start_time": "2022-05-18T18:53:36.886Z"
   },
   {
    "duration": 20,
    "start_time": "2022-05-18T18:53:36.919Z"
   },
   {
    "duration": 16,
    "start_time": "2022-05-18T18:53:36.941Z"
   },
   {
    "duration": 8,
    "start_time": "2022-05-18T18:53:36.959Z"
   },
   {
    "duration": 25,
    "start_time": "2022-05-18T18:53:36.968Z"
   },
   {
    "duration": 6,
    "start_time": "2022-05-18T18:53:36.995Z"
   },
   {
    "duration": 10,
    "start_time": "2022-05-18T18:53:37.003Z"
   },
   {
    "duration": 81,
    "start_time": "2022-05-18T18:53:37.015Z"
   },
   {
    "duration": 12,
    "start_time": "2022-05-18T18:53:37.098Z"
   },
   {
    "duration": 4,
    "start_time": "2022-05-18T18:53:37.112Z"
   },
   {
    "duration": 1990,
    "start_time": "2022-05-18T18:53:37.118Z"
   },
   {
    "duration": 2916,
    "start_time": "2022-05-18T18:53:39.110Z"
   },
   {
    "duration": 1589,
    "start_time": "2022-05-18T18:53:42.029Z"
   },
   {
    "duration": 9,
    "start_time": "2022-05-18T18:53:43.620Z"
   },
   {
    "duration": 862,
    "start_time": "2022-05-18T18:53:43.631Z"
   },
   {
    "duration": 468,
    "start_time": "2022-05-18T18:53:44.585Z"
   },
   {
    "duration": 4,
    "start_time": "2022-05-18T18:53:45.054Z"
   },
   {
    "duration": 27,
    "start_time": "2022-05-18T18:53:45.060Z"
   },
   {
    "duration": 897,
    "start_time": "2022-05-18T18:53:45.088Z"
   },
   {
    "duration": 97,
    "start_time": "2022-05-18T18:53:45.987Z"
   },
   {
    "duration": 115432,
    "start_time": "2022-05-18T18:53:46.085Z"
   },
   {
    "duration": 1267,
    "start_time": "2022-05-18T18:55:41.518Z"
   },
   {
    "duration": 176,
    "start_time": "2022-05-18T18:55:42.786Z"
   },
   {
    "duration": 5,
    "start_time": "2022-05-18T18:55:42.964Z"
   },
   {
    "duration": 1040,
    "start_time": "2022-05-18T18:55:42.971Z"
   },
   {
    "duration": 2207,
    "start_time": "2022-05-18T18:55:44.013Z"
   },
   {
    "duration": 1028,
    "start_time": "2022-05-18T18:56:25.204Z"
   },
   {
    "duration": 4,
    "start_time": "2022-05-18T18:58:04.925Z"
   },
   {
    "duration": 32,
    "start_time": "2022-05-18T18:58:04.932Z"
   },
   {
    "duration": 13,
    "start_time": "2022-05-18T18:58:04.966Z"
   },
   {
    "duration": 12,
    "start_time": "2022-05-18T18:58:04.981Z"
   },
   {
    "duration": 5,
    "start_time": "2022-05-18T18:58:04.995Z"
   },
   {
    "duration": 12,
    "start_time": "2022-05-18T18:58:05.001Z"
   },
   {
    "duration": 6,
    "start_time": "2022-05-18T18:58:05.015Z"
   },
   {
    "duration": 15,
    "start_time": "2022-05-18T18:58:05.022Z"
   },
   {
    "duration": 64,
    "start_time": "2022-05-18T18:58:05.039Z"
   },
   {
    "duration": 12,
    "start_time": "2022-05-18T18:58:05.105Z"
   },
   {
    "duration": 5,
    "start_time": "2022-05-18T18:58:05.119Z"
   },
   {
    "duration": 1964,
    "start_time": "2022-05-18T18:58:05.125Z"
   },
   {
    "duration": 2951,
    "start_time": "2022-05-18T18:58:07.091Z"
   },
   {
    "duration": 1640,
    "start_time": "2022-05-18T18:58:10.044Z"
   },
   {
    "duration": 12,
    "start_time": "2022-05-18T18:58:11.685Z"
   },
   {
    "duration": 884,
    "start_time": "2022-05-18T18:58:11.699Z"
   },
   {
    "duration": 836,
    "start_time": "2022-05-18T18:58:12.585Z"
   },
   {
    "duration": 5,
    "start_time": "2022-05-18T18:58:13.423Z"
   },
   {
    "duration": 75,
    "start_time": "2022-05-18T18:58:13.431Z"
   },
   {
    "duration": 1486,
    "start_time": "2022-05-18T18:58:13.508Z"
   },
   {
    "duration": 92,
    "start_time": "2022-05-18T18:58:14.996Z"
   },
   {
    "duration": 116915,
    "start_time": "2022-05-18T18:58:15.091Z"
   },
   {
    "duration": 1481,
    "start_time": "2022-05-18T19:00:12.007Z"
   },
   {
    "duration": 100,
    "start_time": "2022-05-18T19:00:13.490Z"
   },
   {
    "duration": 5,
    "start_time": "2022-05-18T19:00:13.591Z"
   },
   {
    "duration": 1102,
    "start_time": "2022-05-18T19:00:13.597Z"
   },
   {
    "duration": 2105,
    "start_time": "2022-05-18T19:00:14.700Z"
   }
  ],
  "kernelspec": {
   "display_name": "Python 3 (ipykernel)",
   "language": "python",
   "name": "python3"
  },
  "language_info": {
   "codemirror_mode": {
    "name": "ipython",
    "version": 3
   },
   "file_extension": ".py",
   "mimetype": "text/x-python",
   "name": "python",
   "nbconvert_exporter": "python",
   "pygments_lexer": "ipython3",
   "version": "3.9.7"
  },
  "toc": {
   "base_numbering": 1,
   "nav_menu": {},
   "number_sections": true,
   "sideBar": true,
   "skip_h1_title": true,
   "title_cell": "Содержание",
   "title_sidebar": "Contents",
   "toc_cell": true,
   "toc_position": {
    "height": "calc(100% - 180px)",
    "left": "10px",
    "top": "150px",
    "width": "212.391px"
   },
   "toc_section_display": true,
   "toc_window_display": true
  }
 },
 "nbformat": 4,
 "nbformat_minor": 2
}
