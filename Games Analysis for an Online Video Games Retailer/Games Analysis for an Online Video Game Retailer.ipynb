{
 "cells": [
  {
   "cell_type": "markdown",
   "metadata": {},
   "source": [
    "# Сборный проект 1: Анализ игр"
   ]
  },
  {
   "cell_type": "markdown",
   "metadata": {},
   "source": [
    "<h2>Описание данных<span class=\"tocSkip\"></span></h2>"
   ]
  },
  {
   "cell_type": "markdown",
   "metadata": {},
   "source": [
    "- *Name* — название игры\n",
    "- *Platform* — платформа\n",
    "- *Year_of_Release* — год выпуска\n",
    "- *Genre* — жанр игры\n",
    "- *NA_sales —* продажи в Северной Америке (миллионы проданных копий)\n",
    "- *EU_sales* — продажи в Европе (миллионы проданных копий)\n",
    "- *JP_sales* — продажи в Японии (миллионы проданных копий)\n",
    "- *Other_sales —* продажи в других странах (миллионы проданных копий)\n",
    "- *Critic_Score* — оценка критиков (максимум 100)\n",
    "- *User_Score* — оценка пользователей (максимум 10)\n",
    "- *Rating* — рейтинг от организации *ESRB* (англ. *Entertainment Software Rating Board).* Эта ассоциация определяет рейтинг компьютерных игр и присваивает им подходящую возрастную категорию.\n",
    "\n",
    "Данные за 2016 год могут быть неполными."
   ]
  },
  {
   "cell_type": "markdown",
   "metadata": {},
   "source": [
    "## Изучение данных"
   ]
  },
  {
   "cell_type": "code",
   "execution_count": 1,
   "metadata": {},
   "outputs": [],
   "source": [
    "import pandas as pd\n",
    "import numpy as np\n",
    "import matplotlib.pyplot as plt\n",
    "import seaborn as sns\n",
    "import scipy.stats as st"
   ]
  },
  {
   "cell_type": "code",
   "execution_count": 2,
   "metadata": {},
   "outputs": [],
   "source": [
    "games = pd.read_csv('/datasets/games.csv')"
   ]
  },
  {
   "cell_type": "code",
   "execution_count": 3,
   "metadata": {},
   "outputs": [
    {
     "data": {
      "text/html": [
       "<div>\n",
       "<style scoped>\n",
       "    .dataframe tbody tr th:only-of-type {\n",
       "        vertical-align: middle;\n",
       "    }\n",
       "\n",
       "    .dataframe tbody tr th {\n",
       "        vertical-align: top;\n",
       "    }\n",
       "\n",
       "    .dataframe thead th {\n",
       "        text-align: right;\n",
       "    }\n",
       "</style>\n",
       "<table border=\"1\" class=\"dataframe\">\n",
       "  <thead>\n",
       "    <tr style=\"text-align: right;\">\n",
       "      <th></th>\n",
       "      <th>Name</th>\n",
       "      <th>Platform</th>\n",
       "      <th>Year_of_Release</th>\n",
       "      <th>Genre</th>\n",
       "      <th>NA_sales</th>\n",
       "      <th>EU_sales</th>\n",
       "      <th>JP_sales</th>\n",
       "      <th>Other_sales</th>\n",
       "      <th>Critic_Score</th>\n",
       "      <th>User_Score</th>\n",
       "      <th>Rating</th>\n",
       "    </tr>\n",
       "  </thead>\n",
       "  <tbody>\n",
       "    <tr>\n",
       "      <td>0</td>\n",
       "      <td>Wii Sports</td>\n",
       "      <td>Wii</td>\n",
       "      <td>2006.0</td>\n",
       "      <td>Sports</td>\n",
       "      <td>41.36</td>\n",
       "      <td>28.96</td>\n",
       "      <td>3.77</td>\n",
       "      <td>8.45</td>\n",
       "      <td>76.0</td>\n",
       "      <td>8</td>\n",
       "      <td>E</td>\n",
       "    </tr>\n",
       "    <tr>\n",
       "      <td>1</td>\n",
       "      <td>Super Mario Bros.</td>\n",
       "      <td>NES</td>\n",
       "      <td>1985.0</td>\n",
       "      <td>Platform</td>\n",
       "      <td>29.08</td>\n",
       "      <td>3.58</td>\n",
       "      <td>6.81</td>\n",
       "      <td>0.77</td>\n",
       "      <td>NaN</td>\n",
       "      <td>NaN</td>\n",
       "      <td>NaN</td>\n",
       "    </tr>\n",
       "    <tr>\n",
       "      <td>2</td>\n",
       "      <td>Mario Kart Wii</td>\n",
       "      <td>Wii</td>\n",
       "      <td>2008.0</td>\n",
       "      <td>Racing</td>\n",
       "      <td>15.68</td>\n",
       "      <td>12.76</td>\n",
       "      <td>3.79</td>\n",
       "      <td>3.29</td>\n",
       "      <td>82.0</td>\n",
       "      <td>8.3</td>\n",
       "      <td>E</td>\n",
       "    </tr>\n",
       "    <tr>\n",
       "      <td>3</td>\n",
       "      <td>Wii Sports Resort</td>\n",
       "      <td>Wii</td>\n",
       "      <td>2009.0</td>\n",
       "      <td>Sports</td>\n",
       "      <td>15.61</td>\n",
       "      <td>10.93</td>\n",
       "      <td>3.28</td>\n",
       "      <td>2.95</td>\n",
       "      <td>80.0</td>\n",
       "      <td>8</td>\n",
       "      <td>E</td>\n",
       "    </tr>\n",
       "    <tr>\n",
       "      <td>4</td>\n",
       "      <td>Pokemon Red/Pokemon Blue</td>\n",
       "      <td>GB</td>\n",
       "      <td>1996.0</td>\n",
       "      <td>Role-Playing</td>\n",
       "      <td>11.27</td>\n",
       "      <td>8.89</td>\n",
       "      <td>10.22</td>\n",
       "      <td>1.00</td>\n",
       "      <td>NaN</td>\n",
       "      <td>NaN</td>\n",
       "      <td>NaN</td>\n",
       "    </tr>\n",
       "    <tr>\n",
       "      <td>...</td>\n",
       "      <td>...</td>\n",
       "      <td>...</td>\n",
       "      <td>...</td>\n",
       "      <td>...</td>\n",
       "      <td>...</td>\n",
       "      <td>...</td>\n",
       "      <td>...</td>\n",
       "      <td>...</td>\n",
       "      <td>...</td>\n",
       "      <td>...</td>\n",
       "      <td>...</td>\n",
       "    </tr>\n",
       "    <tr>\n",
       "      <td>16710</td>\n",
       "      <td>Samurai Warriors: Sanada Maru</td>\n",
       "      <td>PS3</td>\n",
       "      <td>2016.0</td>\n",
       "      <td>Action</td>\n",
       "      <td>0.00</td>\n",
       "      <td>0.00</td>\n",
       "      <td>0.01</td>\n",
       "      <td>0.00</td>\n",
       "      <td>NaN</td>\n",
       "      <td>NaN</td>\n",
       "      <td>NaN</td>\n",
       "    </tr>\n",
       "    <tr>\n",
       "      <td>16711</td>\n",
       "      <td>LMA Manager 2007</td>\n",
       "      <td>X360</td>\n",
       "      <td>2006.0</td>\n",
       "      <td>Sports</td>\n",
       "      <td>0.00</td>\n",
       "      <td>0.01</td>\n",
       "      <td>0.00</td>\n",
       "      <td>0.00</td>\n",
       "      <td>NaN</td>\n",
       "      <td>NaN</td>\n",
       "      <td>NaN</td>\n",
       "    </tr>\n",
       "    <tr>\n",
       "      <td>16712</td>\n",
       "      <td>Haitaka no Psychedelica</td>\n",
       "      <td>PSV</td>\n",
       "      <td>2016.0</td>\n",
       "      <td>Adventure</td>\n",
       "      <td>0.00</td>\n",
       "      <td>0.00</td>\n",
       "      <td>0.01</td>\n",
       "      <td>0.00</td>\n",
       "      <td>NaN</td>\n",
       "      <td>NaN</td>\n",
       "      <td>NaN</td>\n",
       "    </tr>\n",
       "    <tr>\n",
       "      <td>16713</td>\n",
       "      <td>Spirits &amp; Spells</td>\n",
       "      <td>GBA</td>\n",
       "      <td>2003.0</td>\n",
       "      <td>Platform</td>\n",
       "      <td>0.01</td>\n",
       "      <td>0.00</td>\n",
       "      <td>0.00</td>\n",
       "      <td>0.00</td>\n",
       "      <td>NaN</td>\n",
       "      <td>NaN</td>\n",
       "      <td>NaN</td>\n",
       "    </tr>\n",
       "    <tr>\n",
       "      <td>16714</td>\n",
       "      <td>Winning Post 8 2016</td>\n",
       "      <td>PSV</td>\n",
       "      <td>2016.0</td>\n",
       "      <td>Simulation</td>\n",
       "      <td>0.00</td>\n",
       "      <td>0.00</td>\n",
       "      <td>0.01</td>\n",
       "      <td>0.00</td>\n",
       "      <td>NaN</td>\n",
       "      <td>NaN</td>\n",
       "      <td>NaN</td>\n",
       "    </tr>\n",
       "  </tbody>\n",
       "</table>\n",
       "<p>16715 rows × 11 columns</p>\n",
       "</div>"
      ],
      "text/plain": [
       "                                Name Platform  Year_of_Release         Genre  \\\n",
       "0                         Wii Sports      Wii           2006.0        Sports   \n",
       "1                  Super Mario Bros.      NES           1985.0      Platform   \n",
       "2                     Mario Kart Wii      Wii           2008.0        Racing   \n",
       "3                  Wii Sports Resort      Wii           2009.0        Sports   \n",
       "4           Pokemon Red/Pokemon Blue       GB           1996.0  Role-Playing   \n",
       "...                              ...      ...              ...           ...   \n",
       "16710  Samurai Warriors: Sanada Maru      PS3           2016.0        Action   \n",
       "16711               LMA Manager 2007     X360           2006.0        Sports   \n",
       "16712        Haitaka no Psychedelica      PSV           2016.0     Adventure   \n",
       "16713               Spirits & Spells      GBA           2003.0      Platform   \n",
       "16714            Winning Post 8 2016      PSV           2016.0    Simulation   \n",
       "\n",
       "       NA_sales  EU_sales  JP_sales  Other_sales  Critic_Score User_Score  \\\n",
       "0         41.36     28.96      3.77         8.45          76.0          8   \n",
       "1         29.08      3.58      6.81         0.77           NaN        NaN   \n",
       "2         15.68     12.76      3.79         3.29          82.0        8.3   \n",
       "3         15.61     10.93      3.28         2.95          80.0          8   \n",
       "4         11.27      8.89     10.22         1.00           NaN        NaN   \n",
       "...         ...       ...       ...          ...           ...        ...   \n",
       "16710      0.00      0.00      0.01         0.00           NaN        NaN   \n",
       "16711      0.00      0.01      0.00         0.00           NaN        NaN   \n",
       "16712      0.00      0.00      0.01         0.00           NaN        NaN   \n",
       "16713      0.01      0.00      0.00         0.00           NaN        NaN   \n",
       "16714      0.00      0.00      0.01         0.00           NaN        NaN   \n",
       "\n",
       "      Rating  \n",
       "0          E  \n",
       "1        NaN  \n",
       "2          E  \n",
       "3          E  \n",
       "4        NaN  \n",
       "...      ...  \n",
       "16710    NaN  \n",
       "16711    NaN  \n",
       "16712    NaN  \n",
       "16713    NaN  \n",
       "16714    NaN  \n",
       "\n",
       "[16715 rows x 11 columns]"
      ]
     },
     "execution_count": 3,
     "metadata": {},
     "output_type": "execute_result"
    }
   ],
   "source": [
    "games"
   ]
  },
  {
   "cell_type": "code",
   "execution_count": 4,
   "metadata": {},
   "outputs": [
    {
     "name": "stdout",
     "output_type": "stream",
     "text": [
      "<class 'pandas.core.frame.DataFrame'>\n",
      "RangeIndex: 16715 entries, 0 to 16714\n",
      "Data columns (total 11 columns):\n",
      "Name               16713 non-null object\n",
      "Platform           16715 non-null object\n",
      "Year_of_Release    16446 non-null float64\n",
      "Genre              16713 non-null object\n",
      "NA_sales           16715 non-null float64\n",
      "EU_sales           16715 non-null float64\n",
      "JP_sales           16715 non-null float64\n",
      "Other_sales        16715 non-null float64\n",
      "Critic_Score       8137 non-null float64\n",
      "User_Score         10014 non-null object\n",
      "Rating             9949 non-null object\n",
      "dtypes: float64(6), object(5)\n",
      "memory usage: 1.4+ MB\n"
     ]
    }
   ],
   "source": [
    "games.info()"
   ]
  },
  {
   "cell_type": "code",
   "execution_count": 5,
   "metadata": {},
   "outputs": [
    {
     "data": {
      "text/plain": [
       "Name                  2\n",
       "Platform              0\n",
       "Year_of_Release     269\n",
       "Genre                 2\n",
       "NA_sales              0\n",
       "EU_sales              0\n",
       "JP_sales              0\n",
       "Other_sales           0\n",
       "Critic_Score       8578\n",
       "User_Score         6701\n",
       "Rating             6766\n",
       "dtype: int64"
      ]
     },
     "execution_count": 5,
     "metadata": {},
     "output_type": "execute_result"
    }
   ],
   "source": [
    "games.isnull().sum()"
   ]
  },
  {
   "cell_type": "code",
   "execution_count": 6,
   "metadata": {},
   "outputs": [
    {
     "data": {
      "text/html": [
       "<div>\n",
       "<style scoped>\n",
       "    .dataframe tbody tr th:only-of-type {\n",
       "        vertical-align: middle;\n",
       "    }\n",
       "\n",
       "    .dataframe tbody tr th {\n",
       "        vertical-align: top;\n",
       "    }\n",
       "\n",
       "    .dataframe thead th {\n",
       "        text-align: right;\n",
       "    }\n",
       "</style>\n",
       "<table border=\"1\" class=\"dataframe\">\n",
       "  <thead>\n",
       "    <tr style=\"text-align: right;\">\n",
       "      <th></th>\n",
       "      <th>Year_of_Release</th>\n",
       "      <th>NA_sales</th>\n",
       "      <th>EU_sales</th>\n",
       "      <th>JP_sales</th>\n",
       "      <th>Other_sales</th>\n",
       "      <th>Critic_Score</th>\n",
       "    </tr>\n",
       "  </thead>\n",
       "  <tbody>\n",
       "    <tr>\n",
       "      <td>count</td>\n",
       "      <td>16446.000000</td>\n",
       "      <td>16715.000000</td>\n",
       "      <td>16715.000000</td>\n",
       "      <td>16715.000000</td>\n",
       "      <td>16715.000000</td>\n",
       "      <td>8137.000000</td>\n",
       "    </tr>\n",
       "    <tr>\n",
       "      <td>mean</td>\n",
       "      <td>2006.484616</td>\n",
       "      <td>0.263377</td>\n",
       "      <td>0.145060</td>\n",
       "      <td>0.077617</td>\n",
       "      <td>0.047342</td>\n",
       "      <td>68.967679</td>\n",
       "    </tr>\n",
       "    <tr>\n",
       "      <td>std</td>\n",
       "      <td>5.877050</td>\n",
       "      <td>0.813604</td>\n",
       "      <td>0.503339</td>\n",
       "      <td>0.308853</td>\n",
       "      <td>0.186731</td>\n",
       "      <td>13.938165</td>\n",
       "    </tr>\n",
       "    <tr>\n",
       "      <td>min</td>\n",
       "      <td>1980.000000</td>\n",
       "      <td>0.000000</td>\n",
       "      <td>0.000000</td>\n",
       "      <td>0.000000</td>\n",
       "      <td>0.000000</td>\n",
       "      <td>13.000000</td>\n",
       "    </tr>\n",
       "    <tr>\n",
       "      <td>25%</td>\n",
       "      <td>2003.000000</td>\n",
       "      <td>0.000000</td>\n",
       "      <td>0.000000</td>\n",
       "      <td>0.000000</td>\n",
       "      <td>0.000000</td>\n",
       "      <td>60.000000</td>\n",
       "    </tr>\n",
       "    <tr>\n",
       "      <td>50%</td>\n",
       "      <td>2007.000000</td>\n",
       "      <td>0.080000</td>\n",
       "      <td>0.020000</td>\n",
       "      <td>0.000000</td>\n",
       "      <td>0.010000</td>\n",
       "      <td>71.000000</td>\n",
       "    </tr>\n",
       "    <tr>\n",
       "      <td>75%</td>\n",
       "      <td>2010.000000</td>\n",
       "      <td>0.240000</td>\n",
       "      <td>0.110000</td>\n",
       "      <td>0.040000</td>\n",
       "      <td>0.030000</td>\n",
       "      <td>79.000000</td>\n",
       "    </tr>\n",
       "    <tr>\n",
       "      <td>max</td>\n",
       "      <td>2016.000000</td>\n",
       "      <td>41.360000</td>\n",
       "      <td>28.960000</td>\n",
       "      <td>10.220000</td>\n",
       "      <td>10.570000</td>\n",
       "      <td>98.000000</td>\n",
       "    </tr>\n",
       "  </tbody>\n",
       "</table>\n",
       "</div>"
      ],
      "text/plain": [
       "       Year_of_Release      NA_sales      EU_sales      JP_sales  \\\n",
       "count     16446.000000  16715.000000  16715.000000  16715.000000   \n",
       "mean       2006.484616      0.263377      0.145060      0.077617   \n",
       "std           5.877050      0.813604      0.503339      0.308853   \n",
       "min        1980.000000      0.000000      0.000000      0.000000   \n",
       "25%        2003.000000      0.000000      0.000000      0.000000   \n",
       "50%        2007.000000      0.080000      0.020000      0.000000   \n",
       "75%        2010.000000      0.240000      0.110000      0.040000   \n",
       "max        2016.000000     41.360000     28.960000     10.220000   \n",
       "\n",
       "        Other_sales  Critic_Score  \n",
       "count  16715.000000   8137.000000  \n",
       "mean       0.047342     68.967679  \n",
       "std        0.186731     13.938165  \n",
       "min        0.000000     13.000000  \n",
       "25%        0.000000     60.000000  \n",
       "50%        0.010000     71.000000  \n",
       "75%        0.030000     79.000000  \n",
       "max       10.570000     98.000000  "
      ]
     },
     "execution_count": 6,
     "metadata": {},
     "output_type": "execute_result"
    }
   ],
   "source": [
    "games.describe()"
   ]
  },
  {
   "cell_type": "code",
   "execution_count": 7,
   "metadata": {},
   "outputs": [
    {
     "data": {
      "text/plain": [
       "0"
      ]
     },
     "execution_count": 7,
     "metadata": {},
     "output_type": "execute_result"
    }
   ],
   "source": [
    "games.duplicated().sum()"
   ]
  },
  {
   "cell_type": "markdown",
   "metadata": {},
   "source": [
    "**Вывод:** Обнаруженные проблемы в данных:  \n",
    "- названия столбцов и содержимое текстовых столбцов в разном регистре\n",
    "- пропуски в столбцах `Name`, `Year_of_Release`, `Critic_Score`, `User_Score`, `Rating`\n",
    "- тип данных столбцов `Year_of_Release`, `User_Score`\n",
    "\n",
    "В остальном на первый взгляд все хорошо, дубликатов нет."
   ]
  },
  {
   "cell_type": "markdown",
   "metadata": {},
   "source": [
    "## Предобработка данных"
   ]
  },
  {
   "cell_type": "markdown",
   "metadata": {},
   "source": [
    "### Смена регистра"
   ]
  },
  {
   "cell_type": "markdown",
   "metadata": {},
   "source": [
    "Приведем к нижнему регистру названия столбцов:"
   ]
  },
  {
   "cell_type": "code",
   "execution_count": 8,
   "metadata": {},
   "outputs": [
    {
     "data": {
      "text/plain": [
       "Index(['name', 'platform', 'year_of_release', 'genre', 'na_sales', 'eu_sales',\n",
       "       'jp_sales', 'other_sales', 'critic_score', 'user_score', 'rating'],\n",
       "      dtype='object')"
      ]
     },
     "execution_count": 8,
     "metadata": {},
     "output_type": "execute_result"
    }
   ],
   "source": [
    "games.columns = games.columns.str.lower()\n",
    "games.columns"
   ]
  },
  {
   "cell_type": "markdown",
   "metadata": {},
   "source": [
    "Приведем к нижнему регистру содержимое текстовых столбцов:"
   ]
  },
  {
   "cell_type": "code",
   "execution_count": 9,
   "metadata": {},
   "outputs": [
    {
     "data": {
      "text/html": [
       "<div>\n",
       "<style scoped>\n",
       "    .dataframe tbody tr th:only-of-type {\n",
       "        vertical-align: middle;\n",
       "    }\n",
       "\n",
       "    .dataframe tbody tr th {\n",
       "        vertical-align: top;\n",
       "    }\n",
       "\n",
       "    .dataframe thead th {\n",
       "        text-align: right;\n",
       "    }\n",
       "</style>\n",
       "<table border=\"1\" class=\"dataframe\">\n",
       "  <thead>\n",
       "    <tr style=\"text-align: right;\">\n",
       "      <th></th>\n",
       "      <th>name</th>\n",
       "      <th>platform</th>\n",
       "      <th>year_of_release</th>\n",
       "      <th>genre</th>\n",
       "      <th>na_sales</th>\n",
       "      <th>eu_sales</th>\n",
       "      <th>jp_sales</th>\n",
       "      <th>other_sales</th>\n",
       "      <th>critic_score</th>\n",
       "      <th>user_score</th>\n",
       "      <th>rating</th>\n",
       "    </tr>\n",
       "  </thead>\n",
       "  <tbody>\n",
       "    <tr>\n",
       "      <td>0</td>\n",
       "      <td>wii sports</td>\n",
       "      <td>wii</td>\n",
       "      <td>2006.0</td>\n",
       "      <td>sports</td>\n",
       "      <td>41.36</td>\n",
       "      <td>28.96</td>\n",
       "      <td>3.77</td>\n",
       "      <td>8.45</td>\n",
       "      <td>76.0</td>\n",
       "      <td>8</td>\n",
       "      <td>e</td>\n",
       "    </tr>\n",
       "    <tr>\n",
       "      <td>1</td>\n",
       "      <td>super mario bros.</td>\n",
       "      <td>nes</td>\n",
       "      <td>1985.0</td>\n",
       "      <td>platform</td>\n",
       "      <td>29.08</td>\n",
       "      <td>3.58</td>\n",
       "      <td>6.81</td>\n",
       "      <td>0.77</td>\n",
       "      <td>NaN</td>\n",
       "      <td>NaN</td>\n",
       "      <td>NaN</td>\n",
       "    </tr>\n",
       "    <tr>\n",
       "      <td>2</td>\n",
       "      <td>mario kart wii</td>\n",
       "      <td>wii</td>\n",
       "      <td>2008.0</td>\n",
       "      <td>racing</td>\n",
       "      <td>15.68</td>\n",
       "      <td>12.76</td>\n",
       "      <td>3.79</td>\n",
       "      <td>3.29</td>\n",
       "      <td>82.0</td>\n",
       "      <td>8.3</td>\n",
       "      <td>e</td>\n",
       "    </tr>\n",
       "    <tr>\n",
       "      <td>3</td>\n",
       "      <td>wii sports resort</td>\n",
       "      <td>wii</td>\n",
       "      <td>2009.0</td>\n",
       "      <td>sports</td>\n",
       "      <td>15.61</td>\n",
       "      <td>10.93</td>\n",
       "      <td>3.28</td>\n",
       "      <td>2.95</td>\n",
       "      <td>80.0</td>\n",
       "      <td>8</td>\n",
       "      <td>e</td>\n",
       "    </tr>\n",
       "    <tr>\n",
       "      <td>4</td>\n",
       "      <td>pokemon red/pokemon blue</td>\n",
       "      <td>gb</td>\n",
       "      <td>1996.0</td>\n",
       "      <td>role-playing</td>\n",
       "      <td>11.27</td>\n",
       "      <td>8.89</td>\n",
       "      <td>10.22</td>\n",
       "      <td>1.00</td>\n",
       "      <td>NaN</td>\n",
       "      <td>NaN</td>\n",
       "      <td>NaN</td>\n",
       "    </tr>\n",
       "  </tbody>\n",
       "</table>\n",
       "</div>"
      ],
      "text/plain": [
       "                       name platform  year_of_release         genre  na_sales  \\\n",
       "0                wii sports      wii           2006.0        sports     41.36   \n",
       "1         super mario bros.      nes           1985.0      platform     29.08   \n",
       "2            mario kart wii      wii           2008.0        racing     15.68   \n",
       "3         wii sports resort      wii           2009.0        sports     15.61   \n",
       "4  pokemon red/pokemon blue       gb           1996.0  role-playing     11.27   \n",
       "\n",
       "   eu_sales  jp_sales  other_sales  critic_score user_score rating  \n",
       "0     28.96      3.77         8.45          76.0          8      e  \n",
       "1      3.58      6.81         0.77           NaN        NaN    NaN  \n",
       "2     12.76      3.79         3.29          82.0        8.3      e  \n",
       "3     10.93      3.28         2.95          80.0          8      e  \n",
       "4      8.89     10.22         1.00           NaN        NaN    NaN  "
      ]
     },
     "execution_count": 9,
     "metadata": {},
     "output_type": "execute_result"
    }
   ],
   "source": [
    "for column in games[['name','platform','genre','rating']]:\n",
    "    games[column] = games[column].str.lower()\n",
    "games.head()"
   ]
  },
  {
   "cell_type": "markdown",
   "metadata": {},
   "source": [
    "### Обработка пропусков"
   ]
  },
  {
   "cell_type": "code",
   "execution_count": 10,
   "metadata": {},
   "outputs": [
    {
     "data": {
      "text/plain": [
       "name                  2\n",
       "platform              0\n",
       "year_of_release     269\n",
       "genre                 2\n",
       "na_sales              0\n",
       "eu_sales              0\n",
       "jp_sales              0\n",
       "other_sales           0\n",
       "critic_score       8578\n",
       "user_score         6701\n",
       "rating             6766\n",
       "dtype: int64"
      ]
     },
     "execution_count": 10,
     "metadata": {},
     "output_type": "execute_result"
    }
   ],
   "source": [
    "games.isnull().sum()"
   ]
  },
  {
   "cell_type": "code",
   "execution_count": 11,
   "metadata": {},
   "outputs": [
    {
     "data": {
      "text/html": [
       "<div>\n",
       "<style scoped>\n",
       "    .dataframe tbody tr th:only-of-type {\n",
       "        vertical-align: middle;\n",
       "    }\n",
       "\n",
       "    .dataframe tbody tr th {\n",
       "        vertical-align: top;\n",
       "    }\n",
       "\n",
       "    .dataframe thead th {\n",
       "        text-align: right;\n",
       "    }\n",
       "</style>\n",
       "<table border=\"1\" class=\"dataframe\">\n",
       "  <thead>\n",
       "    <tr style=\"text-align: right;\">\n",
       "      <th></th>\n",
       "      <th>name</th>\n",
       "      <th>platform</th>\n",
       "      <th>year_of_release</th>\n",
       "      <th>genre</th>\n",
       "      <th>na_sales</th>\n",
       "      <th>eu_sales</th>\n",
       "      <th>jp_sales</th>\n",
       "      <th>other_sales</th>\n",
       "      <th>critic_score</th>\n",
       "      <th>user_score</th>\n",
       "      <th>rating</th>\n",
       "    </tr>\n",
       "  </thead>\n",
       "  <tbody>\n",
       "    <tr>\n",
       "      <td>659</td>\n",
       "      <td>NaN</td>\n",
       "      <td>gen</td>\n",
       "      <td>1993.0</td>\n",
       "      <td>NaN</td>\n",
       "      <td>1.78</td>\n",
       "      <td>0.53</td>\n",
       "      <td>0.00</td>\n",
       "      <td>0.08</td>\n",
       "      <td>NaN</td>\n",
       "      <td>NaN</td>\n",
       "      <td>NaN</td>\n",
       "    </tr>\n",
       "    <tr>\n",
       "      <td>14244</td>\n",
       "      <td>NaN</td>\n",
       "      <td>gen</td>\n",
       "      <td>1993.0</td>\n",
       "      <td>NaN</td>\n",
       "      <td>0.00</td>\n",
       "      <td>0.00</td>\n",
       "      <td>0.03</td>\n",
       "      <td>0.00</td>\n",
       "      <td>NaN</td>\n",
       "      <td>NaN</td>\n",
       "      <td>NaN</td>\n",
       "    </tr>\n",
       "  </tbody>\n",
       "</table>\n",
       "</div>"
      ],
      "text/plain": [
       "      name platform  year_of_release genre  na_sales  eu_sales  jp_sales  \\\n",
       "659    NaN      gen           1993.0   NaN      1.78      0.53      0.00   \n",
       "14244  NaN      gen           1993.0   NaN      0.00      0.00      0.03   \n",
       "\n",
       "       other_sales  critic_score user_score rating  \n",
       "659           0.08           NaN        NaN    NaN  \n",
       "14244         0.00           NaN        NaN    NaN  "
      ]
     },
     "execution_count": 11,
     "metadata": {},
     "output_type": "execute_result"
    }
   ],
   "source": [
    "games[games['name'].isnull()]"
   ]
  },
  {
   "cell_type": "markdown",
   "metadata": {},
   "source": [
    "В столбце `name` два пропуска, так как это всего две строки, и почти все значения NaN, можно удалить:"
   ]
  },
  {
   "cell_type": "code",
   "execution_count": 12,
   "metadata": {},
   "outputs": [],
   "source": [
    "games.dropna(subset = ['name'], inplace=True)"
   ]
  },
  {
   "cell_type": "markdown",
   "metadata": {},
   "source": [
    "Мы могли бы попробовать заполнить пропуски в столбце `year_of_release` на основе данных с таким же названием игры, но так как для разных платформ игры могут выходить в разные годы, так сделать не получится. Оставим пропуски как есть."
   ]
  },
  {
   "cell_type": "markdown",
   "metadata": {},
   "source": [
    "В столбце `user_score` встречается аббревиатура *tbd*, что означает *to be determined*. По сути это тоже пропуски, поэтому заменим такие значения на NaN:"
   ]
  },
  {
   "cell_type": "code",
   "execution_count": 13,
   "metadata": {},
   "outputs": [
    {
     "data": {
      "text/plain": [
       "2424"
      ]
     },
     "execution_count": 13,
     "metadata": {},
     "output_type": "execute_result"
    }
   ],
   "source": [
    "len(games.query('user_score == \"tbd\"'))"
   ]
  },
  {
   "cell_type": "code",
   "execution_count": 14,
   "metadata": {},
   "outputs": [
    {
     "data": {
      "text/plain": [
       "0"
      ]
     },
     "execution_count": 14,
     "metadata": {},
     "output_type": "execute_result"
    }
   ],
   "source": [
    "games['user_score'] = games['user_score'].replace('tbd', np.nan, regex=True)\n",
    "len(games.query('user_score == \"tbd\"'))"
   ]
  },
  {
   "cell_type": "markdown",
   "metadata": {},
   "source": [
    "Пропуски в столбцах `critic_score`, `user_score` составляют значительную часть от всего объема данных. Их также оставим, чтобы не искажать статистику."
   ]
  },
  {
   "cell_type": "markdown",
   "metadata": {},
   "source": [
    "В столбце `rating` встречается значение *rp*, что значит *rating pending*. Попробуем заменить пропуски на такое значение, исходя из того, что значение пропущено, так как рейтинг ESRB еще не выставлен:"
   ]
  },
  {
   "cell_type": "code",
   "execution_count": 15,
   "metadata": {},
   "outputs": [
    {
     "data": {
      "text/plain": [
       "e       3990\n",
       "t       2961\n",
       "m       1563\n",
       "e10+    1420\n",
       "ec         8\n",
       "k-a        3\n",
       "rp         3\n",
       "ao         1\n",
       "Name: rating, dtype: int64"
      ]
     },
     "execution_count": 15,
     "metadata": {},
     "output_type": "execute_result"
    }
   ],
   "source": [
    "games['rating'].value_counts()"
   ]
  },
  {
   "cell_type": "code",
   "execution_count": 16,
   "metadata": {},
   "outputs": [],
   "source": [
    "games.loc[games.loc[:,'rating'].isnull(),'rating'] = 'rp'"
   ]
  },
  {
   "cell_type": "code",
   "execution_count": 17,
   "metadata": {},
   "outputs": [
    {
     "data": {
      "text/plain": [
       "name                  0\n",
       "platform              0\n",
       "year_of_release     269\n",
       "genre                 0\n",
       "na_sales              0\n",
       "eu_sales              0\n",
       "jp_sales              0\n",
       "other_sales           0\n",
       "critic_score       8576\n",
       "user_score         9123\n",
       "rating                0\n",
       "dtype: int64"
      ]
     },
     "execution_count": 17,
     "metadata": {},
     "output_type": "execute_result"
    }
   ],
   "source": [
    "games.isnull().sum()"
   ]
  },
  {
   "cell_type": "markdown",
   "metadata": {},
   "source": [
    "### Изменение типов данных"
   ]
  },
  {
   "cell_type": "code",
   "execution_count": 18,
   "metadata": {},
   "outputs": [],
   "source": [
    "games['user_score'] = games['user_score'].astype('float')\n",
    "games['year_of_release'] = games['year_of_release'].astype('Int64')"
   ]
  },
  {
   "cell_type": "code",
   "execution_count": 19,
   "metadata": {},
   "outputs": [
    {
     "name": "stdout",
     "output_type": "stream",
     "text": [
      "<class 'pandas.core.frame.DataFrame'>\n",
      "Int64Index: 16713 entries, 0 to 16714\n",
      "Data columns (total 11 columns):\n",
      "name               16713 non-null object\n",
      "platform           16713 non-null object\n",
      "year_of_release    16444 non-null Int64\n",
      "genre              16713 non-null object\n",
      "na_sales           16713 non-null float64\n",
      "eu_sales           16713 non-null float64\n",
      "jp_sales           16713 non-null float64\n",
      "other_sales        16713 non-null float64\n",
      "critic_score       8137 non-null float64\n",
      "user_score         7590 non-null float64\n",
      "rating             16713 non-null object\n",
      "dtypes: Int64(1), float64(6), object(4)\n",
      "memory usage: 1.5+ MB\n"
     ]
    }
   ],
   "source": [
    "games.info()"
   ]
  },
  {
   "cell_type": "code",
   "execution_count": 20,
   "metadata": {},
   "outputs": [
    {
     "data": {
      "text/plain": [
       "0"
      ]
     },
     "execution_count": 20,
     "metadata": {},
     "output_type": "execute_result"
    }
   ],
   "source": [
    "games.duplicated().sum()"
   ]
  },
  {
   "cell_type": "markdown",
   "metadata": {},
   "source": [
    "### Добавление нового столбца"
   ]
  },
  {
   "cell_type": "markdown",
   "metadata": {},
   "source": [
    "Добавим новый столбец с суммарными продажами во всех регионах:"
   ]
  },
  {
   "cell_type": "code",
   "execution_count": 21,
   "metadata": {
    "scrolled": false
   },
   "outputs": [
    {
     "data": {
      "text/html": [
       "<div>\n",
       "<style scoped>\n",
       "    .dataframe tbody tr th:only-of-type {\n",
       "        vertical-align: middle;\n",
       "    }\n",
       "\n",
       "    .dataframe tbody tr th {\n",
       "        vertical-align: top;\n",
       "    }\n",
       "\n",
       "    .dataframe thead th {\n",
       "        text-align: right;\n",
       "    }\n",
       "</style>\n",
       "<table border=\"1\" class=\"dataframe\">\n",
       "  <thead>\n",
       "    <tr style=\"text-align: right;\">\n",
       "      <th></th>\n",
       "      <th>name</th>\n",
       "      <th>platform</th>\n",
       "      <th>year_of_release</th>\n",
       "      <th>genre</th>\n",
       "      <th>na_sales</th>\n",
       "      <th>eu_sales</th>\n",
       "      <th>jp_sales</th>\n",
       "      <th>other_sales</th>\n",
       "      <th>critic_score</th>\n",
       "      <th>user_score</th>\n",
       "      <th>rating</th>\n",
       "      <th>total_sales</th>\n",
       "    </tr>\n",
       "  </thead>\n",
       "  <tbody>\n",
       "    <tr>\n",
       "      <td>0</td>\n",
       "      <td>wii sports</td>\n",
       "      <td>wii</td>\n",
       "      <td>2006</td>\n",
       "      <td>sports</td>\n",
       "      <td>41.36</td>\n",
       "      <td>28.96</td>\n",
       "      <td>3.77</td>\n",
       "      <td>8.45</td>\n",
       "      <td>76.0</td>\n",
       "      <td>8.0</td>\n",
       "      <td>e</td>\n",
       "      <td>82.54</td>\n",
       "    </tr>\n",
       "    <tr>\n",
       "      <td>1</td>\n",
       "      <td>super mario bros.</td>\n",
       "      <td>nes</td>\n",
       "      <td>1985</td>\n",
       "      <td>platform</td>\n",
       "      <td>29.08</td>\n",
       "      <td>3.58</td>\n",
       "      <td>6.81</td>\n",
       "      <td>0.77</td>\n",
       "      <td>NaN</td>\n",
       "      <td>NaN</td>\n",
       "      <td>rp</td>\n",
       "      <td>40.24</td>\n",
       "    </tr>\n",
       "    <tr>\n",
       "      <td>2</td>\n",
       "      <td>mario kart wii</td>\n",
       "      <td>wii</td>\n",
       "      <td>2008</td>\n",
       "      <td>racing</td>\n",
       "      <td>15.68</td>\n",
       "      <td>12.76</td>\n",
       "      <td>3.79</td>\n",
       "      <td>3.29</td>\n",
       "      <td>82.0</td>\n",
       "      <td>8.3</td>\n",
       "      <td>e</td>\n",
       "      <td>35.52</td>\n",
       "    </tr>\n",
       "    <tr>\n",
       "      <td>3</td>\n",
       "      <td>wii sports resort</td>\n",
       "      <td>wii</td>\n",
       "      <td>2009</td>\n",
       "      <td>sports</td>\n",
       "      <td>15.61</td>\n",
       "      <td>10.93</td>\n",
       "      <td>3.28</td>\n",
       "      <td>2.95</td>\n",
       "      <td>80.0</td>\n",
       "      <td>8.0</td>\n",
       "      <td>e</td>\n",
       "      <td>32.77</td>\n",
       "    </tr>\n",
       "    <tr>\n",
       "      <td>4</td>\n",
       "      <td>pokemon red/pokemon blue</td>\n",
       "      <td>gb</td>\n",
       "      <td>1996</td>\n",
       "      <td>role-playing</td>\n",
       "      <td>11.27</td>\n",
       "      <td>8.89</td>\n",
       "      <td>10.22</td>\n",
       "      <td>1.00</td>\n",
       "      <td>NaN</td>\n",
       "      <td>NaN</td>\n",
       "      <td>rp</td>\n",
       "      <td>31.38</td>\n",
       "    </tr>\n",
       "    <tr>\n",
       "      <td>...</td>\n",
       "      <td>...</td>\n",
       "      <td>...</td>\n",
       "      <td>...</td>\n",
       "      <td>...</td>\n",
       "      <td>...</td>\n",
       "      <td>...</td>\n",
       "      <td>...</td>\n",
       "      <td>...</td>\n",
       "      <td>...</td>\n",
       "      <td>...</td>\n",
       "      <td>...</td>\n",
       "      <td>...</td>\n",
       "    </tr>\n",
       "    <tr>\n",
       "      <td>16710</td>\n",
       "      <td>samurai warriors: sanada maru</td>\n",
       "      <td>ps3</td>\n",
       "      <td>2016</td>\n",
       "      <td>action</td>\n",
       "      <td>0.00</td>\n",
       "      <td>0.00</td>\n",
       "      <td>0.01</td>\n",
       "      <td>0.00</td>\n",
       "      <td>NaN</td>\n",
       "      <td>NaN</td>\n",
       "      <td>rp</td>\n",
       "      <td>0.01</td>\n",
       "    </tr>\n",
       "    <tr>\n",
       "      <td>16711</td>\n",
       "      <td>lma manager 2007</td>\n",
       "      <td>x360</td>\n",
       "      <td>2006</td>\n",
       "      <td>sports</td>\n",
       "      <td>0.00</td>\n",
       "      <td>0.01</td>\n",
       "      <td>0.00</td>\n",
       "      <td>0.00</td>\n",
       "      <td>NaN</td>\n",
       "      <td>NaN</td>\n",
       "      <td>rp</td>\n",
       "      <td>0.01</td>\n",
       "    </tr>\n",
       "    <tr>\n",
       "      <td>16712</td>\n",
       "      <td>haitaka no psychedelica</td>\n",
       "      <td>psv</td>\n",
       "      <td>2016</td>\n",
       "      <td>adventure</td>\n",
       "      <td>0.00</td>\n",
       "      <td>0.00</td>\n",
       "      <td>0.01</td>\n",
       "      <td>0.00</td>\n",
       "      <td>NaN</td>\n",
       "      <td>NaN</td>\n",
       "      <td>rp</td>\n",
       "      <td>0.01</td>\n",
       "    </tr>\n",
       "    <tr>\n",
       "      <td>16713</td>\n",
       "      <td>spirits &amp; spells</td>\n",
       "      <td>gba</td>\n",
       "      <td>2003</td>\n",
       "      <td>platform</td>\n",
       "      <td>0.01</td>\n",
       "      <td>0.00</td>\n",
       "      <td>0.00</td>\n",
       "      <td>0.00</td>\n",
       "      <td>NaN</td>\n",
       "      <td>NaN</td>\n",
       "      <td>rp</td>\n",
       "      <td>0.01</td>\n",
       "    </tr>\n",
       "    <tr>\n",
       "      <td>16714</td>\n",
       "      <td>winning post 8 2016</td>\n",
       "      <td>psv</td>\n",
       "      <td>2016</td>\n",
       "      <td>simulation</td>\n",
       "      <td>0.00</td>\n",
       "      <td>0.00</td>\n",
       "      <td>0.01</td>\n",
       "      <td>0.00</td>\n",
       "      <td>NaN</td>\n",
       "      <td>NaN</td>\n",
       "      <td>rp</td>\n",
       "      <td>0.01</td>\n",
       "    </tr>\n",
       "  </tbody>\n",
       "</table>\n",
       "<p>16713 rows × 12 columns</p>\n",
       "</div>"
      ],
      "text/plain": [
       "                                name platform  year_of_release         genre  \\\n",
       "0                         wii sports      wii             2006        sports   \n",
       "1                  super mario bros.      nes             1985      platform   \n",
       "2                     mario kart wii      wii             2008        racing   \n",
       "3                  wii sports resort      wii             2009        sports   \n",
       "4           pokemon red/pokemon blue       gb             1996  role-playing   \n",
       "...                              ...      ...              ...           ...   \n",
       "16710  samurai warriors: sanada maru      ps3             2016        action   \n",
       "16711               lma manager 2007     x360             2006        sports   \n",
       "16712        haitaka no psychedelica      psv             2016     adventure   \n",
       "16713               spirits & spells      gba             2003      platform   \n",
       "16714            winning post 8 2016      psv             2016    simulation   \n",
       "\n",
       "       na_sales  eu_sales  jp_sales  other_sales  critic_score  user_score  \\\n",
       "0         41.36     28.96      3.77         8.45          76.0         8.0   \n",
       "1         29.08      3.58      6.81         0.77           NaN         NaN   \n",
       "2         15.68     12.76      3.79         3.29          82.0         8.3   \n",
       "3         15.61     10.93      3.28         2.95          80.0         8.0   \n",
       "4         11.27      8.89     10.22         1.00           NaN         NaN   \n",
       "...         ...       ...       ...          ...           ...         ...   \n",
       "16710      0.00      0.00      0.01         0.00           NaN         NaN   \n",
       "16711      0.00      0.01      0.00         0.00           NaN         NaN   \n",
       "16712      0.00      0.00      0.01         0.00           NaN         NaN   \n",
       "16713      0.01      0.00      0.00         0.00           NaN         NaN   \n",
       "16714      0.00      0.00      0.01         0.00           NaN         NaN   \n",
       "\n",
       "      rating  total_sales  \n",
       "0          e        82.54  \n",
       "1         rp        40.24  \n",
       "2          e        35.52  \n",
       "3          e        32.77  \n",
       "4         rp        31.38  \n",
       "...      ...          ...  \n",
       "16710     rp         0.01  \n",
       "16711     rp         0.01  \n",
       "16712     rp         0.01  \n",
       "16713     rp         0.01  \n",
       "16714     rp         0.01  \n",
       "\n",
       "[16713 rows x 12 columns]"
      ]
     },
     "execution_count": 21,
     "metadata": {},
     "output_type": "execute_result"
    }
   ],
   "source": [
    "games['total_sales'] = games['na_sales'] + games['eu_sales'] + games['jp_sales'] + games['other_sales']\n",
    "games"
   ]
  },
  {
   "cell_type": "markdown",
   "metadata": {},
   "source": [
    "**Вывод:** Выявленные на этапе изучения данных проблемы были исправлены."
   ]
  },
  {
   "cell_type": "markdown",
   "metadata": {},
   "source": [
    "## Исследовательский анализ данных"
   ]
  },
  {
   "cell_type": "markdown",
   "metadata": {},
   "source": [
    "### Количество выпущенных игр в разные годы"
   ]
  },
  {
   "cell_type": "markdown",
   "metadata": {},
   "source": [
    "Посмотрим, сколько игр выпускалось в разные годы:"
   ]
  },
  {
   "cell_type": "code",
   "execution_count": 22,
   "metadata": {},
   "outputs": [
    {
     "data": {
      "image/png": "[encoded data removed]",
      "text/plain": [
       "<Figure size 864x432 with 1 Axes>"
      ]
     },
     "metadata": {
      "needs_background": "light"
     },
     "output_type": "display_data"
    }
   ],
   "source": [
    "games_years = games.pivot_table(index='year_of_release', values='name', aggfunc='count')\n",
    "games_years.plot(y = 'name', kind= 'bar', grid=True, figsize = (12,6))\n",
    "plt.ylabel('games_count')\n",
    "plt.show()"
   ]
  },
  {
   "cell_type": "markdown",
   "metadata": {},
   "source": [
    "**Вывод:** С развитием и совершенствованием компьютеров и ростом популярности игровых приставок наблюдается уверенный рост выпуска игр, начиная с 90-х годов. Пик выпуска приходится на 2005-2011 годы. После 2009 года заметен спад, что, скорее всего, связано с быстрым развитием игр для мобильных платформ."
   ]
  },
  {
   "cell_type": "markdown",
   "metadata": {},
   "source": [
    "### Распределение продаж по годам"
   ]
  },
  {
   "cell_type": "markdown",
   "metadata": {},
   "source": [
    "Теперь посмотрим, как менялись продажи по платформам. Для начала выберем шесть платформ с наибольшими общими продажами:"
   ]
  },
  {
   "cell_type": "code",
   "execution_count": 23,
   "metadata": {},
   "outputs": [
    {
     "data": {
      "text/plain": [
       "['ps', 'ds', 'wii', 'ps3', 'x360', 'ps2']"
      ]
     },
     "execution_count": 23,
     "metadata": {},
     "output_type": "execute_result"
    }
   ],
   "source": [
    "leaders = games.groupby('platform')['total_sales'].sum().sort_values()[-6:].index.tolist()\n",
    "leaders"
   ]
  },
  {
   "cell_type": "markdown",
   "metadata": {},
   "source": [
    "Построим распределение по годам:"
   ]
  },
  {
   "cell_type": "code",
   "execution_count": 24,
   "metadata": {},
   "outputs": [
    {
     "data": {
      "image/png": "[encoded data removed]",
      "text/plain": [
       "<Figure size 1152x432 with 1 Axes>"
      ]
     },
     "metadata": {
      "needs_background": "light"
     },
     "output_type": "display_data"
    }
   ],
   "source": [
    "games[['total_sales', 'year_of_release', 'platform']].query('platform in @leaders').groupby(['year_of_release', 'platform']).sum().unstack('platform').plot(kind='bar', stacked=False, figsize = (16,6))\n",
    "plt.legend(leaders)\n",
    "plt.title('Продажи по платформам (распределение по годам)')\n",
    "plt.ylabel('total_sales')\n",
    "plt.xlabel('year_of_release')\n",
    "plt.show()"
   ]
  },
  {
   "cell_type": "markdown",
   "metadata": {},
   "source": [
    "**Вывод:** Срок жизни платформ составляет примерно 10 лет. В 2006 году появилось сразу несколько новых платформ. Актуальным будем считать период с 2013 года. "
   ]
  },
  {
   "cell_type": "code",
   "execution_count": 25,
   "metadata": {},
   "outputs": [],
   "source": [
    "games = games[games['year_of_release'] >= 2013]"
   ]
  },
  {
   "cell_type": "markdown",
   "metadata": {},
   "source": [
    "### Поиск потенциально прибыльных платформ"
   ]
  },
  {
   "cell_type": "markdown",
   "metadata": {},
   "source": [
    "Далее выберем 10 прибыльных платформ:"
   ]
  },
  {
   "cell_type": "code",
   "execution_count": 26,
   "metadata": {},
   "outputs": [
    {
     "data": {
      "text/plain": [
       "['psp', 'wii', 'psv', 'pc', 'wiiu', 'x360', '3ds', 'xone', 'ps3', 'ps4']"
      ]
     },
     "execution_count": 26,
     "metadata": {},
     "output_type": "execute_result"
    }
   ],
   "source": [
    "top_10 = games.groupby('platform')['total_sales'].sum().sort_values()[-10:].index.tolist()\n",
    "top_10"
   ]
  },
  {
   "cell_type": "markdown",
   "metadata": {},
   "source": [
    "Посмотрим на графике динамику продаж для этих платформ:"
   ]
  },
  {
   "cell_type": "code",
   "execution_count": 27,
   "metadata": {
    "scrolled": false
   },
   "outputs": [
    {
     "data": {
      "text/plain": [
       "<matplotlib.axes._subplots.AxesSubplot at 0x7f026810ca90>"
      ]
     },
     "execution_count": 27,
     "metadata": {},
     "output_type": "execute_result"
    },
    {
     "data": {
      "image/png": "[encoded data removed]",
      "text/plain": [
       "<Figure size 1152x432 with 1 Axes>"
      ]
     },
     "metadata": {
      "needs_background": "light"
     },
     "output_type": "display_data"
    }
   ],
   "source": [
    "games.query('platform in @top_10').pivot_table(index=['platform', 'year_of_release'], values='total_sales', aggfunc='sum').unstack('platform').plot(figsize = (16,6))"
   ]
  },
  {
   "cell_type": "markdown",
   "metadata": {},
   "source": [
    "**Вывод:** В целом продажи падают на всех платформах. Наиболее прибыльными на 2016 год являются *ps4*, *xone*, *3ds*. Не будем сбрасывать со счетов и игры на *pc*, так как время показывает, что продажи не гигантские, то достаточно стабильные. "
   ]
  },
  {
   "cell_type": "markdown",
   "metadata": {},
   "source": [
    "Будем считать перспективными платформы, которые все еще существуют в 2016 году и входят в топ-10 по продажам за актуальный период. Построим для них «ящики с усами»:"
   ]
  },
  {
   "cell_type": "code",
   "execution_count": 28,
   "metadata": {},
   "outputs": [
    {
     "data": {
      "image/png": "[encoded data removed]",
      "text/plain": [
       "<Figure size 1152x432 with 1 Axes>"
      ]
     },
     "metadata": {
      "needs_background": "light"
     },
     "output_type": "display_data"
    }
   ],
   "source": [
    "promising = ['xone', 'pc', '3ds', 'ps4', 'wii', 'ps3', 'x360']\n",
    "data = games.query('platform in @promising')\n",
    "plt.figure(figsize=(16, 6))\n",
    "plt.ylim(0, 2)\n",
    "sns.boxplot(data = data, y = 'total_sales', x='platform')\n",
    "sns.set_style(\"whitegrid\")"
   ]
  },
  {
   "cell_type": "markdown",
   "metadata": {},
   "source": [
    "**Вывод:** Наибольшие медианные продажи у платформ *x360*, далее идут *xone* и *ps4*. Продажи игр для *pc* заметно хуже, и игры для них стоят дешевле, чем для консолей. Из консолей хуже всех продаются игры на *3ds*. У всех платформ наблюдается скошенность вправо, что говорит о перспективности продаж. У всех платформ большая плотность выбросов (возможно это продажи игр, оказавшихся хитами). В целом можно выделить четверку лидеров с точки зрения перспективности — *x360*, *xone*, *wii* и *ps4*. Если еще сократить, то можно остановиться на двух свеженьких (для исследуемого времени) платформах-конкурентах — *xone* и *ps4*. "
   ]
  },
  {
   "cell_type": "markdown",
   "metadata": {},
   "source": [
    "### Корреляция между отзывами и продажами на примере PS4"
   ]
  },
  {
   "cell_type": "markdown",
   "metadata": {},
   "source": [
    "Построим попарные диаграммы рассеяния:"
   ]
  },
  {
   "cell_type": "code",
   "execution_count": 29,
   "metadata": {},
   "outputs": [
    {
     "data": {
      "image/png": "[encoded data removed]",
      "text/plain": [
       "<Figure size 540x540 with 12 Axes>"
      ]
     },
     "metadata": {},
     "output_type": "display_data"
    }
   ],
   "source": [
    "sns.pairplot(games[games.platform == \"ps4\"][['total_sales', 'critic_score', 'user_score']])\n",
    "plt.show()"
   ]
  },
  {
   "cell_type": "markdown",
   "metadata": {},
   "source": [
    "Посчитаем корреляцию:"
   ]
  },
  {
   "cell_type": "code",
   "execution_count": 30,
   "metadata": {},
   "outputs": [
    {
     "data": {
      "text/html": [
       "<div>\n",
       "<style scoped>\n",
       "    .dataframe tbody tr th:only-of-type {\n",
       "        vertical-align: middle;\n",
       "    }\n",
       "\n",
       "    .dataframe tbody tr th {\n",
       "        vertical-align: top;\n",
       "    }\n",
       "\n",
       "    .dataframe thead th {\n",
       "        text-align: right;\n",
       "    }\n",
       "</style>\n",
       "<table border=\"1\" class=\"dataframe\">\n",
       "  <thead>\n",
       "    <tr style=\"text-align: right;\">\n",
       "      <th></th>\n",
       "      <th>total_sales</th>\n",
       "      <th>critic_score</th>\n",
       "      <th>user_score</th>\n",
       "    </tr>\n",
       "  </thead>\n",
       "  <tbody>\n",
       "    <tr>\n",
       "      <td>total_sales</td>\n",
       "      <td>1.000000</td>\n",
       "      <td>0.406568</td>\n",
       "      <td>-0.031957</td>\n",
       "    </tr>\n",
       "    <tr>\n",
       "      <td>critic_score</td>\n",
       "      <td>0.406568</td>\n",
       "      <td>1.000000</td>\n",
       "      <td>0.557654</td>\n",
       "    </tr>\n",
       "    <tr>\n",
       "      <td>user_score</td>\n",
       "      <td>-0.031957</td>\n",
       "      <td>0.557654</td>\n",
       "      <td>1.000000</td>\n",
       "    </tr>\n",
       "  </tbody>\n",
       "</table>\n",
       "</div>"
      ],
      "text/plain": [
       "              total_sales  critic_score  user_score\n",
       "total_sales      1.000000      0.406568   -0.031957\n",
       "critic_score     0.406568      1.000000    0.557654\n",
       "user_score      -0.031957      0.557654    1.000000"
      ]
     },
     "execution_count": 30,
     "metadata": {},
     "output_type": "execute_result"
    }
   ],
   "source": [
    "games[games.platform == \"ps4\"][['total_sales', 'critic_score', 'user_score']].corr()"
   ]
  },
  {
   "cell_type": "markdown",
   "metadata": {},
   "source": [
    "**Вывод:** Наблюдается небольшая корреляция между отзывами критиков и продажами. Что же касается отзывов пользователей, то тут, как ни странно, никакой корреляции нет. И дополнительное наблюдение: достаточно сильная корреляция между отзывами критиков и пользователей (что в целом логично, хотя, например, с фильмами такая ситуация редка)."
   ]
  },
  {
   "cell_type": "markdown",
   "metadata": {},
   "source": [
    "### Корреляция между отзывами и продажами: сравнение с другими платформами"
   ]
  },
  {
   "cell_type": "markdown",
   "metadata": {},
   "source": [
    "Посмотрим, как обстоят дела с другими платформами"
   ]
  },
  {
   "cell_type": "code",
   "execution_count": 31,
   "metadata": {},
   "outputs": [],
   "source": [
    "promising = ['xone', 'pc', '3ds', 'wii', 'ps3', 'x360', 'ps4']"
   ]
  },
  {
   "cell_type": "code",
   "execution_count": 32,
   "metadata": {
    "scrolled": false
   },
   "outputs": [
    {
     "name": "stdout",
     "output_type": "stream",
     "text": [
      "xone\n",
      "              total_sales  critic_score  user_score\n",
      "total_sales      1.000000      0.416998   -0.068925\n",
      "critic_score     0.416998      1.000000    0.472462\n",
      "user_score      -0.068925      0.472462    1.000000\n",
      "\n",
      "pc\n",
      "              total_sales  critic_score  user_score\n",
      "total_sales      1.000000      0.196030   -0.093842\n",
      "critic_score     0.196030      1.000000    0.429562\n",
      "user_score      -0.093842      0.429562    1.000000\n",
      "\n",
      "3ds\n",
      "              total_sales  critic_score  user_score\n",
      "total_sales      1.000000      0.357057    0.241504\n",
      "critic_score     0.357057      1.000000    0.769536\n",
      "user_score       0.241504      0.769536    1.000000\n",
      "\n",
      "wii\n",
      "              total_sales  critic_score  user_score\n",
      "total_sales      1.000000           NaN    0.682942\n",
      "critic_score          NaN           NaN         NaN\n",
      "user_score       0.682942           NaN    1.000000\n",
      "\n",
      "ps3\n",
      "              total_sales  critic_score  user_score\n",
      "total_sales      1.000000      0.334285    0.002394\n",
      "critic_score     0.334285      1.000000    0.599920\n",
      "user_score       0.002394      0.599920    1.000000\n",
      "\n",
      "x360\n",
      "              total_sales  critic_score  user_score\n",
      "total_sales      1.000000      0.350345   -0.011742\n",
      "critic_score     0.350345      1.000000    0.520946\n",
      "user_score      -0.011742      0.520946    1.000000\n",
      "\n",
      "ps4\n",
      "              total_sales  critic_score  user_score\n",
      "total_sales      1.000000      0.406568   -0.031957\n",
      "critic_score     0.406568      1.000000    0.557654\n",
      "user_score      -0.031957      0.557654    1.000000\n",
      "\n"
     ]
    }
   ],
   "source": [
    "for platform in promising:\n",
    "    m = games[games.platform == platform][['total_sales', 'critic_score', 'user_score']].corr()\n",
    "    print(platform)\n",
    "    print(m)\n",
    "    print()"
   ]
  },
  {
   "cell_type": "markdown",
   "metadata": {},
   "source": [
    "**Вывод:** Также как и у *ps4*, у остальных платформ не наблюдается корреляции (либо она очень слабая) между оценками пользователей и продажами. Также у остальных платформ есть сравнимая с *ps4* небольшая корреляция между оценками критиков и продажами (кроме, пожалуй, платформы *wii*, у которой она слабее)."
   ]
  },
  {
   "cell_type": "markdown",
   "metadata": {},
   "source": [
    "## Распределение игр по жанрам"
   ]
  },
  {
   "cell_type": "markdown",
   "metadata": {},
   "source": [
    "Посмотрим на количество выпускаемых игр по жанрам:"
   ]
  },
  {
   "cell_type": "code",
   "execution_count": 33,
   "metadata": {},
   "outputs": [
    {
     "data": {
      "image/png": "[encoded data removed]",
      "text/plain": [
       "<Figure size 864x432 with 1 Axes>"
      ]
     },
     "metadata": {},
     "output_type": "display_data"
    }
   ],
   "source": [
    "gc = games.groupby('genre')['genre'].count().sort_values(ascending=False)\n",
    "genres = gc.index\n",
    "plt.figure(figsize=(12,6))\n",
    "sns.barplot(x=genres, y=gc)\n",
    "plt.ylabel('games_count')\n",
    "plt.show()"
   ]
  },
  {
   "cell_type": "markdown",
   "metadata": {},
   "source": [
    "Больше всего игр в жанре *action*, затем идут *role-playing*, *adventure*, *sports*"
   ]
  },
  {
   "cell_type": "markdown",
   "metadata": {},
   "source": [
    "Взглянем на продажи:"
   ]
  },
  {
   "cell_type": "code",
   "execution_count": 34,
   "metadata": {
    "scrolled": false
   },
   "outputs": [
    {
     "data": {
      "text/html": [
       "<style  type=\"text/css\" >\n",
       "    #T_c53695de_d018_11eb_b1be_02420a39db7arow0_col0 {\n",
       "            width:  10em;\n",
       "             height:  80%;\n",
       "            background:  linear-gradient(90deg,grey 100.0%, transparent 100.0%);\n",
       "        }    #T_c53695de_d018_11eb_b1be_02420a39db7arow1_col0 {\n",
       "            width:  10em;\n",
       "             height:  80%;\n",
       "            background:  linear-gradient(90deg,grey 72.1%, transparent 72.1%);\n",
       "        }    #T_c53695de_d018_11eb_b1be_02420a39db7arow2_col0 {\n",
       "            width:  10em;\n",
       "             height:  80%;\n",
       "            background:  linear-gradient(90deg,grey 46.3%, transparent 46.3%);\n",
       "        }    #T_c53695de_d018_11eb_b1be_02420a39db7arow3_col0 {\n",
       "            width:  10em;\n",
       "             height:  80%;\n",
       "            background:  linear-gradient(90deg,grey 44.8%, transparent 44.8%);\n",
       "        }    #T_c53695de_d018_11eb_b1be_02420a39db7arow4_col0 {\n",
       "            width:  10em;\n",
       "             height:  80%;\n",
       "            background:  linear-gradient(90deg,grey 18.7%, transparent 18.7%);\n",
       "        }    #T_c53695de_d018_11eb_b1be_02420a39db7arow5_col0 {\n",
       "            width:  10em;\n",
       "             height:  80%;\n",
       "            background:  linear-gradient(90deg,grey 12.4%, transparent 12.4%);\n",
       "        }    #T_c53695de_d018_11eb_b1be_02420a39db7arow6_col0 {\n",
       "            width:  10em;\n",
       "             height:  80%;\n",
       "            background:  linear-gradient(90deg,grey 11.5%, transparent 11.5%);\n",
       "        }    #T_c53695de_d018_11eb_b1be_02420a39db7arow7_col0 {\n",
       "            width:  10em;\n",
       "             height:  80%;\n",
       "            background:  linear-gradient(90deg,grey 10.1%, transparent 10.1%);\n",
       "        }    #T_c53695de_d018_11eb_b1be_02420a39db7arow8_col0 {\n",
       "            width:  10em;\n",
       "             height:  80%;\n",
       "            background:  linear-gradient(90deg,grey 6.4%, transparent 6.4%);\n",
       "        }    #T_c53695de_d018_11eb_b1be_02420a39db7arow9_col0 {\n",
       "            width:  10em;\n",
       "             height:  80%;\n",
       "            background:  linear-gradient(90deg,grey 5.8%, transparent 5.8%);\n",
       "        }    #T_c53695de_d018_11eb_b1be_02420a39db7arow10_col0 {\n",
       "            width:  10em;\n",
       "             height:  80%;\n",
       "            background:  linear-gradient(90deg,grey 2.2%, transparent 2.2%);\n",
       "        }    #T_c53695de_d018_11eb_b1be_02420a39db7arow11_col0 {\n",
       "            width:  10em;\n",
       "             height:  80%;\n",
       "        }</style><table id=\"T_c53695de_d018_11eb_b1be_02420a39db7a\" ><thead>    <tr>        <th class=\"blank level0\" ></th>        <th class=\"col_heading level0 col0\" >total_sales</th>    </tr>    <tr>        <th class=\"index_name level0\" >genre</th>        <th class=\"blank\" ></th>    </tr></thead><tbody>\n",
       "                <tr>\n",
       "                        <th id=\"T_c53695de_d018_11eb_b1be_02420a39db7alevel0_row0\" class=\"row_heading level0 row0\" >action</th>\n",
       "                        <td id=\"T_c53695de_d018_11eb_b1be_02420a39db7arow0_col0\" class=\"data row0 col0\" >321.87</td>\n",
       "            </tr>\n",
       "            <tr>\n",
       "                        <th id=\"T_c53695de_d018_11eb_b1be_02420a39db7alevel0_row1\" class=\"row_heading level0 row1\" >shooter</th>\n",
       "                        <td id=\"T_c53695de_d018_11eb_b1be_02420a39db7arow1_col0\" class=\"data row1 col0\" >232.98</td>\n",
       "            </tr>\n",
       "            <tr>\n",
       "                        <th id=\"T_c53695de_d018_11eb_b1be_02420a39db7alevel0_row2\" class=\"row_heading level0 row2\" >sports</th>\n",
       "                        <td id=\"T_c53695de_d018_11eb_b1be_02420a39db7arow2_col0\" class=\"data row2 col0\" >150.65</td>\n",
       "            </tr>\n",
       "            <tr>\n",
       "                        <th id=\"T_c53695de_d018_11eb_b1be_02420a39db7alevel0_row3\" class=\"row_heading level0 row3\" >role-playing</th>\n",
       "                        <td id=\"T_c53695de_d018_11eb_b1be_02420a39db7arow3_col0\" class=\"data row3 col0\" >145.89</td>\n",
       "            </tr>\n",
       "            <tr>\n",
       "                        <th id=\"T_c53695de_d018_11eb_b1be_02420a39db7alevel0_row4\" class=\"row_heading level0 row4\" >misc</th>\n",
       "                        <td id=\"T_c53695de_d018_11eb_b1be_02420a39db7arow4_col0\" class=\"data row4 col0\" >62.82</td>\n",
       "            </tr>\n",
       "            <tr>\n",
       "                        <th id=\"T_c53695de_d018_11eb_b1be_02420a39db7alevel0_row5\" class=\"row_heading level0 row5\" >platform</th>\n",
       "                        <td id=\"T_c53695de_d018_11eb_b1be_02420a39db7arow5_col0\" class=\"data row5 col0\" >42.63</td>\n",
       "            </tr>\n",
       "            <tr>\n",
       "                        <th id=\"T_c53695de_d018_11eb_b1be_02420a39db7alevel0_row6\" class=\"row_heading level0 row6\" >racing</th>\n",
       "                        <td id=\"T_c53695de_d018_11eb_b1be_02420a39db7arow6_col0\" class=\"data row6 col0\" >39.89</td>\n",
       "            </tr>\n",
       "            <tr>\n",
       "                        <th id=\"T_c53695de_d018_11eb_b1be_02420a39db7alevel0_row7\" class=\"row_heading level0 row7\" >fighting</th>\n",
       "                        <td id=\"T_c53695de_d018_11eb_b1be_02420a39db7arow7_col0\" class=\"data row7 col0\" >35.31</td>\n",
       "            </tr>\n",
       "            <tr>\n",
       "                        <th id=\"T_c53695de_d018_11eb_b1be_02420a39db7alevel0_row8\" class=\"row_heading level0 row8\" >adventure</th>\n",
       "                        <td id=\"T_c53695de_d018_11eb_b1be_02420a39db7arow8_col0\" class=\"data row8 col0\" >23.64</td>\n",
       "            </tr>\n",
       "            <tr>\n",
       "                        <th id=\"T_c53695de_d018_11eb_b1be_02420a39db7alevel0_row9\" class=\"row_heading level0 row9\" >simulation</th>\n",
       "                        <td id=\"T_c53695de_d018_11eb_b1be_02420a39db7arow9_col0\" class=\"data row9 col0\" >21.76</td>\n",
       "            </tr>\n",
       "            <tr>\n",
       "                        <th id=\"T_c53695de_d018_11eb_b1be_02420a39db7alevel0_row10\" class=\"row_heading level0 row10\" >strategy</th>\n",
       "                        <td id=\"T_c53695de_d018_11eb_b1be_02420a39db7arow10_col0\" class=\"data row10 col0\" >10.08</td>\n",
       "            </tr>\n",
       "            <tr>\n",
       "                        <th id=\"T_c53695de_d018_11eb_b1be_02420a39db7alevel0_row11\" class=\"row_heading level0 row11\" >puzzle</th>\n",
       "                        <td id=\"T_c53695de_d018_11eb_b1be_02420a39db7arow11_col0\" class=\"data row11 col0\" >3.17</td>\n",
       "            </tr>\n",
       "    </tbody></table>"
      ],
      "text/plain": [
       "<pandas.io.formats.style.Styler at 0x7f0267f96ad0>"
      ]
     },
     "execution_count": 34,
     "metadata": {},
     "output_type": "execute_result"
    }
   ],
   "source": [
    "games.groupby('genre')[['total_sales']].sum().sort_values('total_sales', ascending=False).style.bar(color='grey')"
   ]
  },
  {
   "cell_type": "markdown",
   "metadata": {},
   "source": [
    "**Вывод:** Больше всего продаются игры жанра *action* (тут спрос рождает предложение и наоборот). \n",
    "Игры в жанре *shooter* на втором месте по продажам, хотя их выпускается почти в 4 раза меньше, чем *action*. А вот жанр *adventure* продается очень плохо."
   ]
  },
  {
   "cell_type": "markdown",
   "metadata": {},
   "source": [
    "## Портрет пользователя по регионам"
   ]
  },
  {
   "cell_type": "markdown",
   "metadata": {},
   "source": [
    "### Самые популярные платформы (топ-5) по регионам"
   ]
  },
  {
   "cell_type": "code",
   "execution_count": 35,
   "metadata": {},
   "outputs": [],
   "source": [
    "na_index = games.groupby('platform')['na_sales'].sum().sort_values()[-5:].index.tolist()\n",
    "na_values = games.groupby('platform')['na_sales'].sum().sort_values()[-5:]\n",
    "\n",
    "eu_index = games.groupby('platform')['eu_sales'].sum().sort_values()[-5:].index.tolist()\n",
    "eu_values = games.groupby('platform')['eu_sales'].sum().sort_values()[-5:]\n",
    "\n",
    "jp_index = games.groupby('platform')['jp_sales'].sum().sort_values()[-5:].index.tolist()\n",
    "jp_values = games.groupby('platform')['jp_sales'].sum().sort_values()[-5:]"
   ]
  },
  {
   "cell_type": "code",
   "execution_count": 36,
   "metadata": {
    "scrolled": true
   },
   "outputs": [
    {
     "data": {
      "image/png": "[encoded data removed]",
      "text/plain": [
       "<Figure size 1152x288 with 3 Axes>"
      ]
     },
     "metadata": {},
     "output_type": "display_data"
    }
   ],
   "source": [
    "fig, (ax1, ax2, ax3) = plt.subplots(1, 3, figsize=(16,4))\n",
    "\n",
    "ax1.bar(na_index, na_values)\n",
    "ax1.set_title(\"Sales in North America (mu)\")\n",
    "\n",
    "ax2.bar(eu_index, eu_values)\n",
    "ax2.set_title(\"Sales in Europe (mu)\")\n",
    "\n",
    "ax3.bar(jp_index, jp_values)\n",
    "ax3.set_title(\"Sales in Japan (mu)\")\n",
    "\n",
    "plt.show()"
   ]
  },
  {
   "cell_type": "markdown",
   "metadata": {},
   "source": [
    "**Вывод:** Различия в топ-5 для каждого региона присутствуют, но платформы *3ds*, *ps3* и *ps4* присутствуют в топе во всех трех регионах. Самой популярной платформой в Северной Америке и в Европе — *ps4*, а в Японии — *3ds*."
   ]
  },
  {
   "cell_type": "code",
   "execution_count": 37,
   "metadata": {},
   "outputs": [
    {
     "name": "stdout",
     "output_type": "stream",
     "text": [
      "platform\n",
      "3ds     0.087272\n",
      "ps3     0.145073\n",
      "x360    0.186562\n",
      "xone    0.212744\n",
      "ps4     0.248429\n",
      "Name: na_sales, dtype: float64\n"
     ]
    }
   ],
   "source": [
    "for platform in na_values.index:\n",
    "    ratios_na = na_values / games['na_sales'].sum()\n",
    "print(ratios_na)"
   ]
  },
  {
   "cell_type": "code",
   "execution_count": 38,
   "metadata": {},
   "outputs": [
    {
     "name": "stdout",
     "output_type": "stream",
     "text": [
      "platform\n",
      "3ds     0.078933\n",
      "x360    0.108406\n",
      "xone    0.131530\n",
      "ps3     0.172883\n",
      "ps4     0.359712\n",
      "Name: eu_sales, dtype: float64\n"
     ]
    }
   ],
   "source": [
    "for platform in eu_values.index:\n",
    "    ratios_eu = eu_values / games['eu_sales'].sum()\n",
    "print(ratios_eu)"
   ]
  },
  {
   "cell_type": "code",
   "execution_count": 39,
   "metadata": {},
   "outputs": [
    {
     "name": "stdout",
     "output_type": "stream",
     "text": [
      "platform\n",
      "wiiu    0.077284\n",
      "ps4     0.113368\n",
      "psv     0.132050\n",
      "ps3     0.165862\n",
      "3ds     0.481674\n",
      "Name: jp_sales, dtype: float64\n"
     ]
    }
   ],
   "source": [
    "for platform in jp_values.index:\n",
    "    ratios_jp = jp_values / games['jp_sales'].sum()\n",
    "print(ratios_jp)"
   ]
  },
  {
   "cell_type": "markdown",
   "metadata": {},
   "source": [
    "### Самые популярные жанры (топ-5)"
   ]
  },
  {
   "cell_type": "code",
   "execution_count": 40,
   "metadata": {},
   "outputs": [],
   "source": [
    "na_index_genre = games.groupby('genre')['na_sales'].sum().sort_values()[-5:].index.tolist()\n",
    "na_values_genre = games.groupby('genre')['na_sales'].sum().sort_values()[-5:]\n",
    "\n",
    "eu_index_genre = games.groupby('genre')['eu_sales'].sum().sort_values()[-5:].index.tolist()\n",
    "eu_values_genre = games.groupby('genre')['eu_sales'].sum().sort_values()[-5:]\n",
    "\n",
    "jp_index_genre = games.groupby('genre')['jp_sales'].sum().sort_values()[-5:].index.tolist()\n",
    "jp_values_genre = games.groupby('genre')['jp_sales'].sum().sort_values()[-5:]"
   ]
  },
  {
   "cell_type": "code",
   "execution_count": 41,
   "metadata": {},
   "outputs": [
    {
     "data": {
      "image/png": "[encoded data removed]",
      "text/plain": [
       "<Figure size 1152x288 with 3 Axes>"
      ]
     },
     "metadata": {},
     "output_type": "display_data"
    }
   ],
   "source": [
    "fig, (ax1, ax2, ax3) = plt.subplots(1, 3, figsize=(16,4))\n",
    "\n",
    "ax1.bar(na_index_genre, na_values_genre, color='orange')\n",
    "ax1.set_title(\"Sales in North America (mu)\")\n",
    "\n",
    "ax2.bar(eu_index_genre, eu_values_genre, color='orange')\n",
    "ax2.set_title(\"Sales in Europe (mu)\")\n",
    "\n",
    "ax3.bar(jp_index_genre, jp_values_genre, color='orange')\n",
    "ax3.set_title(\"Sales in Japan (mu)\")\n",
    "\n",
    "plt.show()"
   ]
  },
  {
   "cell_type": "markdown",
   "metadata": {},
   "source": [
    "**Вывод:** В Северной Америке и Европе топ-5 жанров практически совпадает, самым популярным является *action*. В Японии же другая ситуация, и абсолютный лидер там — жанр *role-playing*. Все это можно объяснить схожим культурным бэкграундом жителей Северной Америки и Европы, в то время как культура Японии сильно отличается от западной и европейской, что и приводит к таким различиям в предпочтениях. Также в Японии имеется свой поджанр компьютерных ролевых игр, со своим стилем и механикой, отличный от игр западного образца."
   ]
  },
  {
   "cell_type": "markdown",
   "metadata": {},
   "source": [
    "### Рейтинг ESRB и продажи по регионам"
   ]
  },
  {
   "cell_type": "markdown",
   "metadata": {},
   "source": [
    "Расшифровка типов рейтинга:\n",
    "- \"e\" (\"veryone\") — «Для всех»\n",
    "- \"ec\" (\"Early childhood\") — «Для детей младшего возраста»\n",
    "- \"e10+\" (\"Everyone 10 and older\") — «Для всех от 10 лет»\n",
    "- \"t\" (\"Teen\") — «Для подростков»  \n",
    "- \"m\" (\"Mature\") — «Для взрослых»  \n",
    "- \"rp\" (\"Rating Pending\") — «Рейтинг ожидается»"
   ]
  },
  {
   "cell_type": "code",
   "execution_count": 42,
   "metadata": {},
   "outputs": [],
   "source": [
    "na_index_genre = games.groupby('rating')['na_sales'].sum().sort_values()[-5:].index.tolist()\n",
    "na_values_genre = games.groupby('rating')['na_sales'].sum().sort_values()[-5:]\n",
    "\n",
    "eu_index_genre = games.groupby('rating')['eu_sales'].sum().sort_values()[-5:].index.tolist()\n",
    "eu_values_genre = games.groupby('rating')['eu_sales'].sum().sort_values()[-5:]\n",
    "\n",
    "jp_index_genre = games.groupby('rating')['jp_sales'].sum().sort_values()[-5:].index.tolist()\n",
    "jp_values_genre = games.groupby('rating')['jp_sales'].sum().sort_values()[-5:]"
   ]
  },
  {
   "cell_type": "code",
   "execution_count": 43,
   "metadata": {},
   "outputs": [
    {
     "data": {
      "image/png": "[encoded data removed]",
      "text/plain": [
       "<Figure size 1152x288 with 3 Axes>"
      ]
     },
     "metadata": {},
     "output_type": "display_data"
    }
   ],
   "source": [
    "fig, (ax1, ax2, ax3) = plt.subplots(1, 3, figsize=(16,4))\n",
    "\n",
    "ax1.bar(na_index_genre, na_values_genre, color='pink')\n",
    "ax1.set_title(\"Sales in North America (mu)\")\n",
    "\n",
    "ax2.bar(eu_index_genre, eu_values_genre, color='pink')\n",
    "ax2.set_title(\"Sales in Europe (mu)\")\n",
    "\n",
    "ax3.bar(jp_index_genre, jp_values_genre, color='pink')\n",
    "ax3.set_title(\"Sales in Japan (mu)\")\n",
    "\n",
    "plt.show()"
   ]
  },
  {
   "cell_type": "markdown",
   "metadata": {},
   "source": [
    "**Вывод:** В Северной Америке и Европе по продажам лидируют игры с рейтингом \"m\". А в Японии на первом месте игры для подростков, рейтинг \"t\" (не учитывая игры с еще не проставленным рейтингом). Возможно, причина в том, что в Японии есть своя система - Computer Entertainment Rating Organization (CERO)."
   ]
  },
  {
   "cell_type": "markdown",
   "metadata": {},
   "source": [
    "## Проверка гипотез"
   ]
  },
  {
   "cell_type": "markdown",
   "metadata": {},
   "source": [
    "### Гипотеза 1: средние пользовательские рейтинги платформ Xbox One и PC одинаковые"
   ]
  },
  {
   "cell_type": "markdown",
   "metadata": {},
   "source": [
    "Сформулируем нулевую и альтернативную гипотезы:"
   ]
  },
  {
   "cell_type": "markdown",
   "metadata": {},
   "source": [
    "$H_0:$ средние пользовательские рейтинги платформ Xbox One и PC одинаковые    \n",
    "\n",
    "$H_1:$ средние пользовательские рейтинги платформ Xbox One и PC различаются"
   ]
  },
  {
   "cell_type": "markdown",
   "metadata": {},
   "source": [
    "Зададим уровень статистической значимости и создадим две таблицы:"
   ]
  },
  {
   "cell_type": "code",
   "execution_count": 44,
   "metadata": {},
   "outputs": [],
   "source": [
    "alpha = .05\n",
    "xone = games.query('platform == \"xone\"')['user_score'].dropna()\n",
    "pc = games.query('platform == \"pc\"')['user_score'].dropna()"
   ]
  },
  {
   "cell_type": "markdown",
   "metadata": {},
   "source": [
    "Посмотрим на дисперсии выборок:"
   ]
  },
  {
   "cell_type": "code",
   "execution_count": 45,
   "metadata": {},
   "outputs": [
    {
     "data": {
      "text/plain": [
       "1.9069968429360695"
      ]
     },
     "execution_count": 45,
     "metadata": {},
     "output_type": "execute_result"
    }
   ],
   "source": [
    "xone_var = xone.var(ddof=1)\n",
    "pc_var = pc.var(ddof=1)\n",
    "xone_var"
   ]
  },
  {
   "cell_type": "code",
   "execution_count": 46,
   "metadata": {},
   "outputs": [
    {
     "data": {
      "text/plain": [
       "3.035892752408882"
      ]
     },
     "execution_count": 46,
     "metadata": {},
     "output_type": "execute_result"
    }
   ],
   "source": [
    "pc_var"
   ]
  },
  {
   "cell_type": "code",
   "execution_count": 47,
   "metadata": {},
   "outputs": [
    {
     "data": {
      "text/plain": [
       "0.003897553110130418"
      ]
     },
     "execution_count": 47,
     "metadata": {},
     "output_type": "execute_result"
    }
   ],
   "source": [
    "from scipy.stats import levene\n",
    "stat, p = levene(xone, pc)\n",
    "p"
   ]
  },
  {
   "cell_type": "markdown",
   "metadata": {},
   "source": [
    "Значение p по тесту Левене маленькое, значит, будем считать дисперсии генеральных совокупностей отличающимися и выставим параметр equal_var=False. Проверяем гипотезу с использованием критерия Стьюдента для независимых выборок:"
   ]
  },
  {
   "cell_type": "code",
   "execution_count": 48,
   "metadata": {},
   "outputs": [
    {
     "name": "stdout",
     "output_type": "stream",
     "text": [
      "p-значение: 0.14759594013430463\n",
      "Не получилось отвергнуть нулевую гипотезу\n"
     ]
    }
   ],
   "source": [
    "results = st.ttest_ind(xone, pc, equal_var=False) \n",
    "print('p-значение:', results.pvalue)\n",
    "\n",
    "if (results.pvalue < alpha):\n",
    "    print(\"Отвергаем нулевую гипотезу\")\n",
    "else:\n",
    "    print(\"Не получилось отвергнуть нулевую гипотезу\")"
   ]
  },
  {
   "cell_type": "markdown",
   "metadata": {},
   "source": [
    "**Вывод:** Не получилось отвергнуть нулевую гипотезу. С вероятностью 15% можно утверждать, что средние пользовательские рейтинги платформ Xbox One и PC различаются. "
   ]
  },
  {
   "cell_type": "markdown",
   "metadata": {},
   "source": [
    "### Гипотеза 2: средние пользовательские рейтинги жанров *action* и *sports* разные"
   ]
  },
  {
   "cell_type": "markdown",
   "metadata": {},
   "source": [
    "$H_0:$ средние пользовательские рейтинги жанров action и sports одинаковые    \n",
    "\n",
    "$H_1:$ средние пользовательские рейтинги жанров action и sports различаются"
   ]
  },
  {
   "cell_type": "code",
   "execution_count": 49,
   "metadata": {},
   "outputs": [],
   "source": [
    "alpha = .05\n",
    "action = games.query('genre == \"action\"')['user_score'].dropna()\n",
    "sports = games.query('genre == \"sports\"')['user_score'].dropna()"
   ]
  },
  {
   "cell_type": "code",
   "execution_count": 50,
   "metadata": {},
   "outputs": [
    {
     "data": {
      "text/plain": [
       "1.7693609042482705"
      ]
     },
     "execution_count": 50,
     "metadata": {},
     "output_type": "execute_result"
    }
   ],
   "source": [
    "action_var = action.var(ddof=1)\n",
    "sports_var = sports.var(ddof=1)\n",
    "action_var"
   ]
  },
  {
   "cell_type": "code",
   "execution_count": 51,
   "metadata": {},
   "outputs": [
    {
     "data": {
      "text/plain": [
       "3.180612814465409"
      ]
     },
     "execution_count": 51,
     "metadata": {},
     "output_type": "execute_result"
    }
   ],
   "source": [
    "sports_var"
   ]
  },
  {
   "cell_type": "code",
   "execution_count": 52,
   "metadata": {},
   "outputs": [
    {
     "data": {
      "text/plain": [
       "4.2566688218274047e-07"
      ]
     },
     "execution_count": 52,
     "metadata": {},
     "output_type": "execute_result"
    }
   ],
   "source": [
    "from scipy.stats import levene\n",
    "stat, p = levene(action, sports)\n",
    "p"
   ]
  },
  {
   "cell_type": "markdown",
   "metadata": {},
   "source": [
    "По тесту Левене будем считать, что дисперсии генеральных совокупностей равны и выставим параметр equal_var=True. Проверяем гипотезу с использованием критерия Стьюдента для независимых выборок:"
   ]
  },
  {
   "cell_type": "code",
   "execution_count": 53,
   "metadata": {},
   "outputs": [
    {
     "name": "stdout",
     "output_type": "stream",
     "text": [
      "p-значение: 1.0517832389140023e-27\n",
      "Отвергаем нулевую гипотезу\n"
     ]
    }
   ],
   "source": [
    "results = st.ttest_ind(action, sports, equal_var=True) \n",
    "print('p-значение:', results.pvalue)\n",
    "\n",
    "if (results.pvalue < alpha):\n",
    "    print(\"Отвергаем нулевую гипотезу\")\n",
    "else:\n",
    "    print(\"Не получилось отвергнуть нулевую гипотезу\")"
   ]
  },
  {
   "cell_type": "markdown",
   "metadata": {},
   "source": [
    "**Вывод:** Отвергаем нулевую гипотезу. Вероятность получить одинаковые средние рейнтинги по этим двум жанрам почти нулевая."
   ]
  },
  {
   "cell_type": "markdown",
   "metadata": {},
   "source": [
    "## Общий вывод"
   ]
  },
  {
   "cell_type": "markdown",
   "metadata": {},
   "source": [
    "В ходе проекта был произведен исследовательский анализ данных, составлен портрет пользователя каждого региона и проверены две гипотезы.\n",
    "\n",
    "Исследовательский анализ позволил сделать следующие выводы:\n",
    "- Пик выпуска игр приходится на 2005-2011 годы. После 2009 года заметен спад, что, скорее всего, связано с быстрым развитием игр для мобильных платформ\n",
    "- Срок жизни платформ составляет примерно 10 лет\n",
    "- Наиболее перспективными можно считать платформы *x360*, *xone*, *ps3* и *ps4* (если сократить до двух, то *xone* и *ps4*)\n",
    "- Для всех платформ не наблюдается корреляции (либо она очень слабая) между оценками пользователей и продажами. Есть небольшая корреляция между оценками критиков и продажами\n",
    "\n",
    "Такими получились портреты пользователей по регионам:\n",
    "- Северная Америка: \n",
    "    - самые популярные платформы — *ps4*, *xone*, *х360*\n",
    "    - самые популярные жанры — *action*, *shooter*, *sports*\n",
    "    - возрастной рейтинг — *m*\n",
    "- Европа: \n",
    "    - самые популярные платформы — *ps4*, *ps3*, *xone*\n",
    "    - самые популярные жанры — *action*, *shooter*, *sports*\n",
    "    - возрастной рейтинг — *m*\n",
    "- Япония: \n",
    "    - самые популярные платформы — *3ds*, *ps3*, *psv*\n",
    "    - самые популярные жанры — *role-playing*, *action*, *misc*\n",
    "    - возрастной рейтинг — *t*    \n",
    "\n",
    "В целом можно сказать, что типичные пользователи Северной Америки и Европы очень похожи, а вот пользователи из Японии имеют характерные отличия, возможно обусловенные культурными особенностями\n",
    "\n",
    "Проверка гипотез показала:\n",
    "   - С вероятностью 15% можно утверждать, что средние пользовательские рейтинги платформ Xbox One и PC различаются\n",
    "   - Вероятность получить одинаковые средние рейнтинги по жанрам *action* и *sports*  почти нулевая"
   ]
  }
 ],
 "metadata": {
  "ExecuteTimeLog": [
   {
    "duration": 1609,
    "start_time": "2021-06-09T18:49:27.803Z"
   },
   {
    "duration": 68,
    "start_time": "2021-06-09T18:50:31.009Z"
   },
   {
    "duration": 24,
    "start_time": "2021-06-09T18:50:50.300Z"
   },
   {
    "duration": 35,
    "start_time": "2021-06-09T18:51:51.348Z"
   },
   {
    "duration": 14,
    "start_time": "2021-06-09T18:52:07.843Z"
   },
   {
    "duration": 14,
    "start_time": "2021-06-09T18:52:53.989Z"
   },
   {
    "duration": 46,
    "start_time": "2021-06-09T18:53:31.667Z"
   },
   {
    "duration": 24,
    "start_time": "2021-06-09T18:53:47.122Z"
   },
   {
    "duration": 315,
    "start_time": "2021-06-10T16:19:56.802Z"
   },
   {
    "duration": 267,
    "start_time": "2021-06-10T16:20:09.558Z"
   },
   {
    "duration": 279,
    "start_time": "2021-06-10T16:20:15.655Z"
   },
   {
    "duration": 1635,
    "start_time": "2021-06-10T16:20:20.063Z"
   },
   {
    "duration": 51,
    "start_time": "2021-06-10T16:20:21.701Z"
   },
   {
    "duration": 34,
    "start_time": "2021-06-10T16:20:21.755Z"
   },
   {
    "duration": 33,
    "start_time": "2021-06-10T16:20:21.791Z"
   },
   {
    "duration": 19,
    "start_time": "2021-06-10T16:20:21.827Z"
   },
   {
    "duration": 45,
    "start_time": "2021-06-10T16:20:21.848Z"
   },
   {
    "duration": 55,
    "start_time": "2021-06-10T16:20:21.896Z"
   },
   {
    "duration": 8,
    "start_time": "2021-06-10T16:20:21.953Z"
   },
   {
    "duration": 57,
    "start_time": "2021-06-10T16:26:07.198Z"
   },
   {
    "duration": 22,
    "start_time": "2021-06-10T16:31:42.328Z"
   },
   {
    "duration": 19,
    "start_time": "2021-06-10T16:36:46.048Z"
   },
   {
    "duration": 13,
    "start_time": "2021-06-10T16:36:56.923Z"
   },
   {
    "duration": 1394,
    "start_time": "2021-06-10T17:11:01.712Z"
   },
   {
    "duration": 52,
    "start_time": "2021-06-10T17:11:03.109Z"
   },
   {
    "duration": 32,
    "start_time": "2021-06-10T17:11:03.164Z"
   },
   {
    "duration": 34,
    "start_time": "2021-06-10T17:11:03.199Z"
   },
   {
    "duration": 17,
    "start_time": "2021-06-10T17:11:03.236Z"
   },
   {
    "duration": 73,
    "start_time": "2021-06-10T17:11:03.258Z"
   },
   {
    "duration": 26,
    "start_time": "2021-06-10T17:11:03.334Z"
   },
   {
    "duration": 8,
    "start_time": "2021-06-10T17:11:03.364Z"
   },
   {
    "duration": 94,
    "start_time": "2021-06-10T17:11:03.375Z"
   },
   {
    "duration": 18,
    "start_time": "2021-06-10T17:11:03.471Z"
   },
   {
    "duration": 10,
    "start_time": "2021-06-10T17:11:03.492Z"
   },
   {
    "duration": 11,
    "start_time": "2021-06-10T17:11:03.526Z"
   },
   {
    "duration": 21,
    "start_time": "2021-06-10T17:20:07.611Z"
   },
   {
    "duration": 2014,
    "start_time": "2021-06-10T17:21:20.927Z"
   },
   {
    "duration": 32,
    "start_time": "2021-06-10T17:22:07.432Z"
   },
   {
    "duration": 12,
    "start_time": "2021-06-10T17:26:58.386Z"
   },
   {
    "duration": 4,
    "start_time": "2021-06-10T17:27:03.283Z"
   },
   {
    "duration": 55,
    "start_time": "2021-06-10T17:27:03.289Z"
   },
   {
    "duration": 27,
    "start_time": "2021-06-10T17:27:03.347Z"
   },
   {
    "duration": 15,
    "start_time": "2021-06-10T17:27:03.378Z"
   },
   {
    "duration": 44,
    "start_time": "2021-06-10T17:27:03.396Z"
   },
   {
    "duration": 44,
    "start_time": "2021-06-10T17:27:03.444Z"
   },
   {
    "duration": 52,
    "start_time": "2021-06-10T17:27:03.490Z"
   },
   {
    "duration": 6,
    "start_time": "2021-06-10T17:27:03.546Z"
   },
   {
    "duration": 83,
    "start_time": "2021-06-10T17:27:03.554Z"
   },
   {
    "duration": 13,
    "start_time": "2021-06-10T17:27:03.639Z"
   },
   {
    "duration": 23,
    "start_time": "2021-06-10T17:27:03.655Z"
   },
   {
    "duration": 18,
    "start_time": "2021-06-10T17:27:03.681Z"
   },
   {
    "duration": 31,
    "start_time": "2021-06-10T17:27:03.702Z"
   },
   {
    "duration": 16,
    "start_time": "2021-06-10T17:37:19.122Z"
   },
   {
    "duration": 22,
    "start_time": "2021-06-10T17:40:20.811Z"
   },
   {
    "duration": 5,
    "start_time": "2021-06-10T17:40:28.333Z"
   },
   {
    "duration": 62,
    "start_time": "2021-06-10T17:40:28.341Z"
   },
   {
    "duration": 45,
    "start_time": "2021-06-10T17:40:28.407Z"
   },
   {
    "duration": 19,
    "start_time": "2021-06-10T17:40:28.456Z"
   },
   {
    "duration": 12,
    "start_time": "2021-06-10T17:40:28.477Z"
   },
   {
    "duration": 75,
    "start_time": "2021-06-10T17:40:28.491Z"
   },
   {
    "duration": 23,
    "start_time": "2021-06-10T17:40:28.568Z"
   },
   {
    "duration": 6,
    "start_time": "2021-06-10T17:40:28.593Z"
   },
   {
    "duration": 56,
    "start_time": "2021-06-10T17:40:28.627Z"
   },
   {
    "duration": 38,
    "start_time": "2021-06-10T17:40:28.686Z"
   },
   {
    "duration": 20,
    "start_time": "2021-06-10T17:40:28.729Z"
   },
   {
    "duration": 12,
    "start_time": "2021-06-10T17:40:28.751Z"
   },
   {
    "duration": 13,
    "start_time": "2021-06-10T17:40:28.765Z"
   },
   {
    "duration": 51,
    "start_time": "2021-06-10T17:40:28.780Z"
   },
   {
    "duration": 33,
    "start_time": "2021-06-10T17:42:55.268Z"
   },
   {
    "duration": 28,
    "start_time": "2021-06-10T17:43:04.252Z"
   },
   {
    "duration": 10,
    "start_time": "2021-06-10T17:43:19.644Z"
   },
   {
    "duration": 25,
    "start_time": "2021-06-10T17:46:04.080Z"
   },
   {
    "duration": 10,
    "start_time": "2021-06-10T17:50:46.484Z"
   },
   {
    "duration": 10,
    "start_time": "2021-06-10T17:53:27.530Z"
   },
   {
    "duration": 11,
    "start_time": "2021-06-10T17:53:36.451Z"
   },
   {
    "duration": 14,
    "start_time": "2021-06-10T17:56:59.118Z"
   },
   {
    "duration": 16,
    "start_time": "2021-06-10T17:57:06.251Z"
   },
   {
    "duration": 26,
    "start_time": "2021-06-10T17:59:21.562Z"
   },
   {
    "duration": 38,
    "start_time": "2021-06-10T18:01:38.103Z"
   },
   {
    "duration": 81,
    "start_time": "2021-06-10T18:07:02.431Z"
   },
   {
    "duration": 39,
    "start_time": "2021-06-10T18:07:07.791Z"
   },
   {
    "duration": 4,
    "start_time": "2021-06-10T18:07:11.001Z"
   },
   {
    "duration": 49,
    "start_time": "2021-06-10T18:07:11.016Z"
   },
   {
    "duration": 31,
    "start_time": "2021-06-10T18:07:11.068Z"
   },
   {
    "duration": 35,
    "start_time": "2021-06-10T18:07:11.103Z"
   },
   {
    "duration": 14,
    "start_time": "2021-06-10T18:07:11.142Z"
   },
   {
    "duration": 82,
    "start_time": "2021-06-10T18:07:11.159Z"
   },
   {
    "duration": 27,
    "start_time": "2021-06-10T18:07:11.244Z"
   },
   {
    "duration": 8,
    "start_time": "2021-06-10T18:07:11.274Z"
   },
   {
    "duration": 93,
    "start_time": "2021-06-10T18:07:11.287Z"
   },
   {
    "duration": 15,
    "start_time": "2021-06-10T18:07:11.383Z"
   },
   {
    "duration": 29,
    "start_time": "2021-06-10T18:07:11.425Z"
   },
   {
    "duration": 11,
    "start_time": "2021-06-10T18:07:11.456Z"
   },
   {
    "duration": 9,
    "start_time": "2021-06-10T18:07:11.470Z"
   },
   {
    "duration": 50,
    "start_time": "2021-06-10T18:07:11.481Z"
   },
   {
    "duration": 15,
    "start_time": "2021-06-10T18:07:11.537Z"
   },
   {
    "duration": 9,
    "start_time": "2021-06-10T18:07:11.554Z"
   },
   {
    "duration": 14,
    "start_time": "2021-06-10T18:07:11.565Z"
   },
   {
    "duration": 9,
    "start_time": "2021-06-10T18:07:11.581Z"
   },
   {
    "duration": 19,
    "start_time": "2021-06-10T18:07:11.625Z"
   },
   {
    "duration": 25,
    "start_time": "2021-06-10T18:07:11.646Z"
   },
   {
    "duration": 68,
    "start_time": "2021-06-10T18:07:11.673Z"
   },
   {
    "duration": 2485,
    "start_time": "2021-06-11T15:15:09.011Z"
   },
   {
    "duration": 51,
    "start_time": "2021-06-11T15:15:11.499Z"
   },
   {
    "duration": 33,
    "start_time": "2021-06-11T15:15:11.553Z"
   },
   {
    "duration": 15,
    "start_time": "2021-06-11T15:15:11.590Z"
   },
   {
    "duration": 47,
    "start_time": "2021-06-11T15:15:11.608Z"
   },
   {
    "duration": 40,
    "start_time": "2021-06-11T15:15:11.658Z"
   },
   {
    "duration": 21,
    "start_time": "2021-06-11T15:15:11.701Z"
   },
   {
    "duration": 6,
    "start_time": "2021-06-11T15:15:11.724Z"
   },
   {
    "duration": 53,
    "start_time": "2021-06-11T15:15:11.757Z"
   },
   {
    "duration": 14,
    "start_time": "2021-06-11T15:15:11.813Z"
   },
   {
    "duration": 18,
    "start_time": "2021-06-11T15:15:11.858Z"
   },
   {
    "duration": 20,
    "start_time": "2021-06-11T15:15:11.879Z"
   },
   {
    "duration": 22,
    "start_time": "2021-06-11T15:15:11.901Z"
   },
   {
    "duration": 38,
    "start_time": "2021-06-11T15:15:11.926Z"
   },
   {
    "duration": 15,
    "start_time": "2021-06-11T15:15:11.967Z"
   },
   {
    "duration": 20,
    "start_time": "2021-06-11T15:15:11.984Z"
   },
   {
    "duration": 29,
    "start_time": "2021-06-11T15:15:12.006Z"
   },
   {
    "duration": 15,
    "start_time": "2021-06-11T15:15:12.037Z"
   },
   {
    "duration": 22,
    "start_time": "2021-06-11T15:15:12.056Z"
   },
   {
    "duration": 24,
    "start_time": "2021-06-11T15:15:12.081Z"
   },
   {
    "duration": 52,
    "start_time": "2021-06-11T15:15:12.107Z"
   },
   {
    "duration": 268,
    "start_time": "2021-06-11T15:19:59.478Z"
   },
   {
    "duration": 918,
    "start_time": "2021-06-11T15:20:10.719Z"
   },
   {
    "duration": 853,
    "start_time": "2021-06-11T15:21:33.805Z"
   },
   {
    "duration": 894,
    "start_time": "2021-06-11T15:22:05.018Z"
   },
   {
    "duration": 1220,
    "start_time": "2021-06-11T15:22:42.043Z"
   },
   {
    "duration": 1095,
    "start_time": "2021-06-11T15:22:54.448Z"
   },
   {
    "duration": 11,
    "start_time": "2021-06-11T15:25:56.842Z"
   },
   {
    "duration": 290,
    "start_time": "2021-06-11T15:29:26.678Z"
   },
   {
    "duration": 254,
    "start_time": "2021-06-11T15:29:48.971Z"
   },
   {
    "duration": 308,
    "start_time": "2021-06-11T15:30:11.031Z"
   },
   {
    "duration": 415,
    "start_time": "2021-06-11T15:30:31.046Z"
   },
   {
    "duration": 268,
    "start_time": "2021-06-11T15:31:02.328Z"
   },
   {
    "duration": 6422,
    "start_time": "2021-06-11T15:31:23.348Z"
   },
   {
    "duration": 616,
    "start_time": "2021-06-11T15:31:34.694Z"
   },
   {
    "duration": 10,
    "start_time": "2021-06-11T15:44:53.038Z"
   },
   {
    "duration": 698,
    "start_time": "2021-06-11T15:47:59.554Z"
   },
   {
    "duration": 443,
    "start_time": "2021-06-11T15:48:31.141Z"
   },
   {
    "duration": 859,
    "start_time": "2021-06-11T15:48:44.823Z"
   },
   {
    "duration": 251,
    "start_time": "2021-06-11T15:51:09.286Z"
   },
   {
    "duration": 544,
    "start_time": "2021-06-11T15:51:32.105Z"
   },
   {
    "duration": 6,
    "start_time": "2021-06-11T15:52:01.518Z"
   },
   {
    "duration": 10,
    "start_time": "2021-06-11T15:52:31.692Z"
   },
   {
    "duration": 18161,
    "start_time": "2021-06-11T15:56:27.308Z"
   },
   {
    "duration": 2219,
    "start_time": "2021-06-11T15:57:23.914Z"
   },
   {
    "duration": 16748,
    "start_time": "2021-06-11T16:03:27.769Z"
   },
   {
    "duration": 10,
    "start_time": "2021-06-11T16:05:02.861Z"
   },
   {
    "duration": 7666,
    "start_time": "2021-06-11T16:05:54.967Z"
   },
   {
    "duration": 16826,
    "start_time": "2021-06-11T16:07:20.665Z"
   },
   {
    "duration": 17,
    "start_time": "2021-06-11T16:09:59.571Z"
   },
   {
    "duration": 3400,
    "start_time": "2021-06-11T16:10:07.726Z"
   },
   {
    "duration": 3291,
    "start_time": "2021-06-11T16:10:44.175Z"
   },
   {
    "duration": 3210,
    "start_time": "2021-06-11T16:11:00.150Z"
   },
   {
    "duration": 12,
    "start_time": "2021-06-11T16:14:30.918Z"
   },
   {
    "duration": 268,
    "start_time": "2021-06-11T16:16:52.654Z"
   },
   {
    "duration": 272,
    "start_time": "2021-06-11T16:17:06.422Z"
   },
   {
    "duration": 570,
    "start_time": "2021-06-11T16:17:48.890Z"
   },
   {
    "duration": 293,
    "start_time": "2021-06-11T16:18:06.221Z"
   },
   {
    "duration": 12617,
    "start_time": "2021-06-11T16:20:09.762Z"
   },
   {
    "duration": 697,
    "start_time": "2021-06-11T16:20:55.923Z"
   },
   {
    "duration": 1573,
    "start_time": "2021-06-14T15:18:50.726Z"
   },
   {
    "duration": 48,
    "start_time": "2021-06-14T15:18:52.302Z"
   },
   {
    "duration": 34,
    "start_time": "2021-06-14T15:18:52.353Z"
   },
   {
    "duration": 32,
    "start_time": "2021-06-14T15:18:52.390Z"
   },
   {
    "duration": 14,
    "start_time": "2021-06-14T15:18:52.425Z"
   },
   {
    "duration": 86,
    "start_time": "2021-06-14T15:18:52.441Z"
   },
   {
    "duration": 25,
    "start_time": "2021-06-14T15:18:52.530Z"
   },
   {
    "duration": 7,
    "start_time": "2021-06-14T15:18:52.557Z"
   },
   {
    "duration": 90,
    "start_time": "2021-06-14T15:18:52.569Z"
   },
   {
    "duration": 11,
    "start_time": "2021-06-14T15:18:52.662Z"
   },
   {
    "duration": 40,
    "start_time": "2021-06-14T15:18:52.676Z"
   },
   {
    "duration": 13,
    "start_time": "2021-06-14T15:18:52.718Z"
   },
   {
    "duration": 12,
    "start_time": "2021-06-14T15:18:52.734Z"
   },
   {
    "duration": 22,
    "start_time": "2021-06-14T15:18:52.749Z"
   },
   {
    "duration": 51,
    "start_time": "2021-06-14T15:18:52.773Z"
   },
   {
    "duration": 8,
    "start_time": "2021-06-14T15:18:52.826Z"
   },
   {
    "duration": 15,
    "start_time": "2021-06-14T15:18:52.836Z"
   },
   {
    "duration": 8,
    "start_time": "2021-06-14T15:18:52.853Z"
   },
   {
    "duration": 63,
    "start_time": "2021-06-14T15:18:52.863Z"
   },
   {
    "duration": 24,
    "start_time": "2021-06-14T15:18:52.928Z"
   },
   {
    "duration": 65,
    "start_time": "2021-06-14T15:18:52.954Z"
   },
   {
    "duration": 735,
    "start_time": "2021-06-14T15:18:53.022Z"
   },
   {
    "duration": 7,
    "start_time": "2021-06-14T15:18:53.760Z"
   },
   {
    "duration": 4,
    "start_time": "2021-06-14T15:18:53.769Z"
   },
   {
    "duration": 8,
    "start_time": "2021-06-14T15:23:43.324Z"
   },
   {
    "duration": 117,
    "start_time": "2021-06-14T15:24:21.606Z"
   },
   {
    "duration": 16,
    "start_time": "2021-06-14T15:30:51.607Z"
   },
   {
    "duration": 9,
    "start_time": "2021-06-14T15:30:57.997Z"
   },
   {
    "duration": 8,
    "start_time": "2021-06-14T15:31:20.568Z"
   },
   {
    "duration": 9,
    "start_time": "2021-06-14T15:31:29.886Z"
   },
   {
    "duration": 472,
    "start_time": "2021-06-14T15:33:12.150Z"
   },
   {
    "duration": 390,
    "start_time": "2021-06-14T15:33:52.683Z"
   },
   {
    "duration": 1018,
    "start_time": "2021-06-14T15:34:07.114Z"
   },
   {
    "duration": 7930,
    "start_time": "2021-06-14T15:34:37.182Z"
   },
   {
    "duration": 1458,
    "start_time": "2021-06-15T10:53:54.660Z"
   },
   {
    "duration": 47,
    "start_time": "2021-06-15T10:53:56.121Z"
   },
   {
    "duration": 32,
    "start_time": "2021-06-15T10:53:56.171Z"
   },
   {
    "duration": 13,
    "start_time": "2021-06-15T10:53:56.206Z"
   },
   {
    "duration": 40,
    "start_time": "2021-06-15T10:53:56.221Z"
   },
   {
    "duration": 43,
    "start_time": "2021-06-15T10:53:56.263Z"
   },
   {
    "duration": 52,
    "start_time": "2021-06-15T10:53:56.308Z"
   },
   {
    "duration": 7,
    "start_time": "2021-06-15T10:53:56.362Z"
   },
   {
    "duration": 52,
    "start_time": "2021-06-15T10:53:56.373Z"
   },
   {
    "duration": 37,
    "start_time": "2021-06-15T10:53:56.428Z"
   },
   {
    "duration": 19,
    "start_time": "2021-06-15T10:53:56.468Z"
   },
   {
    "duration": 13,
    "start_time": "2021-06-15T10:53:56.490Z"
   },
   {
    "duration": 10,
    "start_time": "2021-06-15T10:53:56.506Z"
   },
   {
    "duration": 22,
    "start_time": "2021-06-15T10:53:56.555Z"
   },
   {
    "duration": 24,
    "start_time": "2021-06-15T10:53:56.579Z"
   },
   {
    "duration": 27,
    "start_time": "2021-06-15T10:53:56.605Z"
   },
   {
    "duration": 26,
    "start_time": "2021-06-15T10:53:56.635Z"
   },
   {
    "duration": 13,
    "start_time": "2021-06-15T10:53:56.663Z"
   },
   {
    "duration": 33,
    "start_time": "2021-06-15T10:53:56.678Z"
   },
   {
    "duration": 29,
    "start_time": "2021-06-15T10:53:56.713Z"
   },
   {
    "duration": 42,
    "start_time": "2021-06-15T10:53:56.744Z"
   },
   {
    "duration": 685,
    "start_time": "2021-06-15T10:53:56.789Z"
   },
   {
    "duration": 9,
    "start_time": "2021-06-15T10:53:57.476Z"
   },
   {
    "duration": 20,
    "start_time": "2021-06-15T10:53:57.488Z"
   },
   {
    "duration": 16,
    "start_time": "2021-06-15T10:53:57.510Z"
   },
   {
    "duration": 32,
    "start_time": "2021-06-15T10:53:57.528Z"
   },
   {
    "duration": 24,
    "start_time": "2021-06-15T10:53:57.565Z"
   },
   {
    "duration": 407,
    "start_time": "2021-06-15T11:12:07.888Z"
   },
   {
    "duration": 27,
    "start_time": "2021-06-15T11:12:24.427Z"
   },
   {
    "duration": 625,
    "start_time": "2021-06-15T11:13:26.421Z"
   },
   {
    "duration": 542,
    "start_time": "2021-06-15T11:13:54.534Z"
   },
   {
    "duration": 670,
    "start_time": "2021-06-15T11:14:08.269Z"
   },
   {
    "duration": 25,
    "start_time": "2021-06-15T11:23:15.995Z"
   },
   {
    "duration": 301,
    "start_time": "2021-06-15T11:25:56.885Z"
   },
   {
    "duration": 280,
    "start_time": "2021-06-15T11:26:05.867Z"
   },
   {
    "duration": 285,
    "start_time": "2021-06-15T11:26:16.719Z"
   },
   {
    "duration": 508,
    "start_time": "2021-06-15T11:26:25.927Z"
   },
   {
    "duration": 871,
    "start_time": "2021-06-15T11:26:48.760Z"
   },
   {
    "duration": 610,
    "start_time": "2021-06-15T11:26:57.913Z"
   },
   {
    "duration": 594,
    "start_time": "2021-06-15T11:27:11.325Z"
   },
   {
    "duration": 271,
    "start_time": "2021-06-15T11:27:39.518Z"
   },
   {
    "duration": 582,
    "start_time": "2021-06-15T11:27:50.679Z"
   },
   {
    "duration": 12,
    "start_time": "2021-06-15T11:40:12.668Z"
   },
   {
    "duration": 3,
    "start_time": "2021-06-15T11:42:37.173Z"
   },
   {
    "duration": 24,
    "start_time": "2021-06-15T12:08:35.494Z"
   },
   {
    "duration": 5,
    "start_time": "2021-06-15T12:17:38.631Z"
   },
   {
    "duration": 78,
    "start_time": "2021-06-15T12:17:38.640Z"
   },
   {
    "duration": 60,
    "start_time": "2021-06-15T12:17:38.723Z"
   },
   {
    "duration": 23,
    "start_time": "2021-06-15T12:17:38.788Z"
   },
   {
    "duration": 46,
    "start_time": "2021-06-15T12:17:38.815Z"
   },
   {
    "duration": 61,
    "start_time": "2021-06-15T12:17:38.864Z"
   },
   {
    "duration": 39,
    "start_time": "2021-06-15T12:17:38.927Z"
   },
   {
    "duration": 7,
    "start_time": "2021-06-15T12:17:38.969Z"
   },
   {
    "duration": 81,
    "start_time": "2021-06-15T12:17:38.980Z"
   },
   {
    "duration": 13,
    "start_time": "2021-06-15T12:17:39.065Z"
   },
   {
    "duration": 30,
    "start_time": "2021-06-15T12:17:39.081Z"
   },
   {
    "duration": 19,
    "start_time": "2021-06-15T12:17:39.113Z"
   },
   {
    "duration": 34,
    "start_time": "2021-06-15T12:17:39.135Z"
   },
   {
    "duration": 28,
    "start_time": "2021-06-15T12:17:39.171Z"
   },
   {
    "duration": 20,
    "start_time": "2021-06-15T12:17:39.201Z"
   },
   {
    "duration": 20,
    "start_time": "2021-06-15T12:17:39.224Z"
   },
   {
    "duration": 31,
    "start_time": "2021-06-15T12:17:39.246Z"
   },
   {
    "duration": 8,
    "start_time": "2021-06-15T12:17:39.279Z"
   },
   {
    "duration": 14,
    "start_time": "2021-06-15T12:17:39.290Z"
   },
   {
    "duration": 22,
    "start_time": "2021-06-15T12:17:39.307Z"
   },
   {
    "duration": 59,
    "start_time": "2021-06-15T12:17:39.332Z"
   },
   {
    "duration": 825,
    "start_time": "2021-06-15T12:17:39.393Z"
   },
   {
    "duration": 9,
    "start_time": "2021-06-15T12:17:40.221Z"
   },
   {
    "duration": 6,
    "start_time": "2021-06-15T12:17:40.232Z"
   },
   {
    "duration": 20,
    "start_time": "2021-06-15T12:17:40.240Z"
   },
   {
    "duration": 20,
    "start_time": "2021-06-15T12:17:40.267Z"
   },
   {
    "duration": 10,
    "start_time": "2021-06-15T12:17:40.293Z"
   },
   {
    "duration": 64,
    "start_time": "2021-06-15T12:17:40.306Z"
   },
   {
    "duration": 719,
    "start_time": "2021-06-15T12:17:40.373Z"
   },
   {
    "duration": 26,
    "start_time": "2021-06-15T12:17:41.095Z"
   },
   {
    "duration": 699,
    "start_time": "2021-06-15T12:17:41.124Z"
   },
   {
    "duration": 42,
    "start_time": "2021-06-15T12:17:41.827Z"
   },
   {
    "duration": 89,
    "start_time": "2021-06-15T12:26:24.943Z"
   },
   {
    "duration": 94,
    "start_time": "2021-06-15T12:30:43.675Z"
   },
   {
    "duration": 10,
    "start_time": "2021-06-15T12:31:43.611Z"
   },
   {
    "duration": 18,
    "start_time": "2021-06-15T12:33:58.951Z"
   },
   {
    "duration": 93,
    "start_time": "2021-06-15T12:34:18.001Z"
   },
   {
    "duration": 8,
    "start_time": "2021-06-15T12:34:55.979Z"
   },
   {
    "duration": 5,
    "start_time": "2021-06-15T12:35:13.394Z"
   },
   {
    "duration": 9,
    "start_time": "2021-06-15T12:37:12.802Z"
   },
   {
    "duration": 4,
    "start_time": "2021-06-15T12:37:45.298Z"
   },
   {
    "duration": 51,
    "start_time": "2021-06-15T12:37:45.305Z"
   },
   {
    "duration": 33,
    "start_time": "2021-06-15T12:37:45.362Z"
   },
   {
    "duration": 22,
    "start_time": "2021-06-15T12:37:45.398Z"
   },
   {
    "duration": 12,
    "start_time": "2021-06-15T12:37:45.422Z"
   },
   {
    "duration": 48,
    "start_time": "2021-06-15T12:37:45.455Z"
   },
   {
    "duration": 48,
    "start_time": "2021-06-15T12:37:45.505Z"
   },
   {
    "duration": 15,
    "start_time": "2021-06-15T12:37:45.556Z"
   },
   {
    "duration": 51,
    "start_time": "2021-06-15T12:37:45.577Z"
   },
   {
    "duration": 38,
    "start_time": "2021-06-15T12:37:45.631Z"
   },
   {
    "duration": 21,
    "start_time": "2021-06-15T12:37:45.672Z"
   },
   {
    "duration": 27,
    "start_time": "2021-06-15T12:37:45.696Z"
   },
   {
    "duration": 16,
    "start_time": "2021-06-15T12:37:45.725Z"
   },
   {
    "duration": 37,
    "start_time": "2021-06-15T12:37:45.743Z"
   },
   {
    "duration": 12,
    "start_time": "2021-06-15T12:37:45.782Z"
   },
   {
    "duration": 14,
    "start_time": "2021-06-15T12:37:45.796Z"
   },
   {
    "duration": 22,
    "start_time": "2021-06-15T12:37:45.812Z"
   },
   {
    "duration": 33,
    "start_time": "2021-06-15T12:37:45.836Z"
   },
   {
    "duration": 23,
    "start_time": "2021-06-15T12:37:45.871Z"
   },
   {
    "duration": 23,
    "start_time": "2021-06-15T12:37:45.896Z"
   },
   {
    "duration": 66,
    "start_time": "2021-06-15T12:37:45.921Z"
   },
   {
    "duration": 808,
    "start_time": "2021-06-15T12:37:45.990Z"
   },
   {
    "duration": 14,
    "start_time": "2021-06-15T12:37:46.801Z"
   },
   {
    "duration": 8,
    "start_time": "2021-06-15T12:37:46.818Z"
   },
   {
    "duration": 30,
    "start_time": "2021-06-15T12:37:46.829Z"
   },
   {
    "duration": 19,
    "start_time": "2021-06-15T12:37:46.862Z"
   },
   {
    "duration": 10,
    "start_time": "2021-06-15T12:37:46.886Z"
   },
   {
    "duration": 56,
    "start_time": "2021-06-15T12:37:46.898Z"
   },
   {
    "duration": 619,
    "start_time": "2021-06-15T12:37:46.957Z"
   },
   {
    "duration": 30,
    "start_time": "2021-06-15T12:37:47.580Z"
   },
   {
    "duration": 698,
    "start_time": "2021-06-15T12:37:47.613Z"
   },
   {
    "duration": 26,
    "start_time": "2021-06-15T12:37:48.313Z"
   },
   {
    "duration": 23,
    "start_time": "2021-06-15T12:37:48.342Z"
   },
   {
    "duration": 8,
    "start_time": "2021-06-15T12:37:48.367Z"
   },
   {
    "duration": 8,
    "start_time": "2021-06-15T12:37:48.378Z"
   },
   {
    "duration": 8,
    "start_time": "2021-06-15T12:37:48.389Z"
   },
   {
    "duration": 5,
    "start_time": "2021-06-15T12:39:26.059Z"
   },
   {
    "duration": 54,
    "start_time": "2021-06-15T12:39:26.067Z"
   },
   {
    "duration": 56,
    "start_time": "2021-06-15T12:39:26.125Z"
   },
   {
    "duration": 17,
    "start_time": "2021-06-15T12:39:26.184Z"
   },
   {
    "duration": 14,
    "start_time": "2021-06-15T12:39:26.204Z"
   },
   {
    "duration": 85,
    "start_time": "2021-06-15T12:39:26.221Z"
   },
   {
    "duration": 22,
    "start_time": "2021-06-15T12:39:26.309Z"
   },
   {
    "duration": 26,
    "start_time": "2021-06-15T12:39:26.334Z"
   },
   {
    "duration": 60,
    "start_time": "2021-06-15T12:39:26.365Z"
   },
   {
    "duration": 35,
    "start_time": "2021-06-15T12:39:26.428Z"
   },
   {
    "duration": 20,
    "start_time": "2021-06-15T12:39:26.467Z"
   },
   {
    "duration": 10,
    "start_time": "2021-06-15T12:39:26.489Z"
   },
   {
    "duration": 12,
    "start_time": "2021-06-15T12:39:26.502Z"
   },
   {
    "duration": 60,
    "start_time": "2021-06-15T12:39:26.516Z"
   },
   {
    "duration": 10,
    "start_time": "2021-06-15T12:39:26.578Z"
   },
   {
    "duration": 11,
    "start_time": "2021-06-15T12:39:26.591Z"
   },
   {
    "duration": 17,
    "start_time": "2021-06-15T12:39:26.604Z"
   },
   {
    "duration": 49,
    "start_time": "2021-06-15T12:39:26.624Z"
   },
   {
    "duration": 25,
    "start_time": "2021-06-15T12:39:26.677Z"
   },
   {
    "duration": 55,
    "start_time": "2021-06-15T12:39:26.706Z"
   },
   {
    "duration": 38,
    "start_time": "2021-06-15T12:39:26.764Z"
   },
   {
    "duration": 896,
    "start_time": "2021-06-15T12:39:26.805Z"
   },
   {
    "duration": 10,
    "start_time": "2021-06-15T12:39:27.704Z"
   },
   {
    "duration": 6,
    "start_time": "2021-06-15T12:39:27.716Z"
   },
   {
    "duration": 35,
    "start_time": "2021-06-15T12:39:27.724Z"
   },
   {
    "duration": 18,
    "start_time": "2021-06-15T12:39:27.763Z"
   },
   {
    "duration": 10,
    "start_time": "2021-06-15T12:39:27.786Z"
   },
   {
    "duration": 60,
    "start_time": "2021-06-15T12:39:27.800Z"
   },
   {
    "duration": 640,
    "start_time": "2021-06-15T12:39:27.863Z"
   },
   {
    "duration": 24,
    "start_time": "2021-06-15T12:39:28.506Z"
   },
   {
    "duration": 650,
    "start_time": "2021-06-15T12:39:28.532Z"
   },
   {
    "duration": 25,
    "start_time": "2021-06-15T12:39:29.184Z"
   },
   {
    "duration": 11,
    "start_time": "2021-06-15T12:39:29.212Z"
   },
   {
    "duration": 33,
    "start_time": "2021-06-15T12:39:29.225Z"
   },
   {
    "duration": 9,
    "start_time": "2021-06-15T12:39:29.261Z"
   },
   {
    "duration": 9,
    "start_time": "2021-06-15T12:39:29.273Z"
   },
   {
    "duration": 4,
    "start_time": "2021-06-15T12:42:19.492Z"
   },
   {
    "duration": 59,
    "start_time": "2021-06-15T12:42:19.500Z"
   },
   {
    "duration": 30,
    "start_time": "2021-06-15T12:42:19.563Z"
   },
   {
    "duration": 16,
    "start_time": "2021-06-15T12:42:19.597Z"
   },
   {
    "duration": 45,
    "start_time": "2021-06-15T12:42:19.616Z"
   },
   {
    "duration": 44,
    "start_time": "2021-06-15T12:42:19.664Z"
   },
   {
    "duration": 51,
    "start_time": "2021-06-15T12:42:19.710Z"
   },
   {
    "duration": 7,
    "start_time": "2021-06-15T12:42:19.763Z"
   },
   {
    "duration": 79,
    "start_time": "2021-06-15T12:42:19.775Z"
   },
   {
    "duration": 11,
    "start_time": "2021-06-15T12:42:19.857Z"
   },
   {
    "duration": 18,
    "start_time": "2021-06-15T12:42:19.871Z"
   },
   {
    "duration": 16,
    "start_time": "2021-06-15T12:42:19.891Z"
   },
   {
    "duration": 10,
    "start_time": "2021-06-15T12:42:19.909Z"
   },
   {
    "duration": 53,
    "start_time": "2021-06-15T12:42:19.921Z"
   },
   {
    "duration": 11,
    "start_time": "2021-06-15T12:42:19.976Z"
   },
   {
    "duration": 13,
    "start_time": "2021-06-15T12:42:19.989Z"
   },
   {
    "duration": 15,
    "start_time": "2021-06-15T12:42:20.005Z"
   },
   {
    "duration": 38,
    "start_time": "2021-06-15T12:42:20.022Z"
   },
   {
    "duration": 15,
    "start_time": "2021-06-15T12:42:20.062Z"
   },
   {
    "duration": 24,
    "start_time": "2021-06-15T12:42:20.080Z"
   },
   {
    "duration": 66,
    "start_time": "2021-06-15T12:42:20.106Z"
   },
   {
    "duration": 783,
    "start_time": "2021-06-15T12:42:20.175Z"
   },
   {
    "duration": 9,
    "start_time": "2021-06-15T12:42:20.960Z"
   },
   {
    "duration": 9,
    "start_time": "2021-06-15T12:42:20.972Z"
   },
   {
    "duration": 19,
    "start_time": "2021-06-15T12:42:20.983Z"
   },
   {
    "duration": 26,
    "start_time": "2021-06-15T12:42:21.005Z"
   },
   {
    "duration": 19,
    "start_time": "2021-06-15T12:42:21.037Z"
   },
   {
    "duration": 32,
    "start_time": "2021-06-15T12:42:21.059Z"
   },
   {
    "duration": 591,
    "start_time": "2021-06-15T12:42:21.093Z"
   },
   {
    "duration": 25,
    "start_time": "2021-06-15T12:42:21.686Z"
   },
   {
    "duration": 627,
    "start_time": "2021-06-15T12:42:21.714Z"
   },
   {
    "duration": 35,
    "start_time": "2021-06-15T12:42:22.344Z"
   },
   {
    "duration": 17,
    "start_time": "2021-06-15T12:42:22.382Z"
   },
   {
    "duration": 15,
    "start_time": "2021-06-15T12:42:22.401Z"
   },
   {
    "duration": 5,
    "start_time": "2021-06-15T12:42:22.418Z"
   },
   {
    "duration": 7,
    "start_time": "2021-06-15T12:42:22.455Z"
   },
   {
    "duration": 3,
    "start_time": "2021-06-15T12:45:09.002Z"
   },
   {
    "duration": 92,
    "start_time": "2021-06-15T12:46:06.503Z"
   },
   {
    "duration": 14,
    "start_time": "2021-06-15T12:47:05.861Z"
   },
   {
    "duration": 9,
    "start_time": "2021-06-15T12:47:40.613Z"
   },
   {
    "duration": 6,
    "start_time": "2021-06-15T12:47:48.471Z"
   },
   {
    "duration": 8,
    "start_time": "2021-06-15T12:50:15.721Z"
   },
   {
    "duration": 13,
    "start_time": "2021-06-15T12:50:23.743Z"
   },
   {
    "duration": 8,
    "start_time": "2021-06-15T12:50:24.278Z"
   },
   {
    "duration": 6,
    "start_time": "2021-06-15T12:50:24.928Z"
   },
   {
    "duration": 7,
    "start_time": "2021-06-15T12:50:27.756Z"
   },
   {
    "duration": 3,
    "start_time": "2021-06-15T12:50:55.889Z"
   },
   {
    "duration": 72,
    "start_time": "2021-06-15T12:50:55.895Z"
   },
   {
    "duration": 28,
    "start_time": "2021-06-15T12:50:55.971Z"
   },
   {
    "duration": 16,
    "start_time": "2021-06-15T12:50:56.002Z"
   },
   {
    "duration": 38,
    "start_time": "2021-06-15T12:50:56.021Z"
   },
   {
    "duration": 146,
    "start_time": "2021-06-15T12:50:56.062Z"
   },
   {
    "duration": 42,
    "start_time": "2021-06-15T12:50:56.211Z"
   },
   {
    "duration": 6,
    "start_time": "2021-06-15T12:50:56.257Z"
   },
   {
    "duration": 103,
    "start_time": "2021-06-15T12:50:56.267Z"
   },
   {
    "duration": 14,
    "start_time": "2021-06-15T12:50:56.372Z"
   },
   {
    "duration": 35,
    "start_time": "2021-06-15T12:50:56.389Z"
   },
   {
    "duration": 27,
    "start_time": "2021-06-15T12:50:56.427Z"
   },
   {
    "duration": 11,
    "start_time": "2021-06-15T12:50:56.456Z"
   },
   {
    "duration": 21,
    "start_time": "2021-06-15T12:50:56.469Z"
   },
   {
    "duration": 25,
    "start_time": "2021-06-15T12:50:56.492Z"
   },
   {
    "duration": 11,
    "start_time": "2021-06-15T12:50:56.520Z"
   },
   {
    "duration": 13,
    "start_time": "2021-06-15T12:50:56.555Z"
   },
   {
    "duration": 10,
    "start_time": "2021-06-15T12:50:56.570Z"
   },
   {
    "duration": 20,
    "start_time": "2021-06-15T12:50:56.582Z"
   },
   {
    "duration": 59,
    "start_time": "2021-06-15T12:50:56.604Z"
   },
   {
    "duration": 34,
    "start_time": "2021-06-15T12:50:56.666Z"
   },
   {
    "duration": 702,
    "start_time": "2021-06-15T12:50:56.702Z"
   },
   {
    "duration": 9,
    "start_time": "2021-06-15T12:50:57.410Z"
   },
   {
    "duration": 10,
    "start_time": "2021-06-15T12:50:57.422Z"
   },
   {
    "duration": 24,
    "start_time": "2021-06-15T12:50:57.434Z"
   },
   {
    "duration": 21,
    "start_time": "2021-06-15T12:50:57.461Z"
   },
   {
    "duration": 10,
    "start_time": "2021-06-15T12:50:57.484Z"
   },
   {
    "duration": 59,
    "start_time": "2021-06-15T12:50:57.497Z"
   },
   {
    "duration": 602,
    "start_time": "2021-06-15T12:50:57.559Z"
   },
   {
    "duration": 24,
    "start_time": "2021-06-15T12:50:58.163Z"
   },
   {
    "duration": 634,
    "start_time": "2021-06-15T12:50:58.190Z"
   },
   {
    "duration": 43,
    "start_time": "2021-06-15T12:50:58.826Z"
   },
   {
    "duration": 17,
    "start_time": "2021-06-15T12:50:58.872Z"
   },
   {
    "duration": 9,
    "start_time": "2021-06-15T12:50:58.892Z"
   },
   {
    "duration": 6,
    "start_time": "2021-06-15T12:50:58.904Z"
   },
   {
    "duration": 46,
    "start_time": "2021-06-15T12:50:58.914Z"
   },
   {
    "duration": 17,
    "start_time": "2021-06-15T12:50:58.962Z"
   },
   {
    "duration": 8,
    "start_time": "2021-06-15T12:50:58.982Z"
   },
   {
    "duration": 7,
    "start_time": "2021-06-15T12:50:58.994Z"
   },
   {
    "duration": 55,
    "start_time": "2021-06-15T12:50:59.004Z"
   },
   {
    "duration": 4,
    "start_time": "2021-06-15T12:54:34.152Z"
   },
   {
    "duration": 66,
    "start_time": "2021-06-15T12:54:34.159Z"
   },
   {
    "duration": 36,
    "start_time": "2021-06-15T12:54:34.228Z"
   },
   {
    "duration": 27,
    "start_time": "2021-06-15T12:54:34.267Z"
   },
   {
    "duration": 26,
    "start_time": "2021-06-15T12:54:34.296Z"
   },
   {
    "duration": 53,
    "start_time": "2021-06-15T12:54:34.325Z"
   },
   {
    "duration": 23,
    "start_time": "2021-06-15T12:54:34.381Z"
   },
   {
    "duration": 6,
    "start_time": "2021-06-15T12:54:34.406Z"
   },
   {
    "duration": 83,
    "start_time": "2021-06-15T12:54:34.416Z"
   },
   {
    "duration": 12,
    "start_time": "2021-06-15T12:54:34.502Z"
   },
   {
    "duration": 47,
    "start_time": "2021-06-15T12:54:34.517Z"
   },
   {
    "duration": 10,
    "start_time": "2021-06-15T12:54:34.567Z"
   },
   {
    "duration": 23,
    "start_time": "2021-06-15T12:54:34.580Z"
   },
   {
    "duration": 25,
    "start_time": "2021-06-15T12:54:34.606Z"
   },
   {
    "duration": 24,
    "start_time": "2021-06-15T12:54:34.633Z"
   },
   {
    "duration": 34,
    "start_time": "2021-06-15T12:54:34.660Z"
   },
   {
    "duration": 33,
    "start_time": "2021-06-15T12:54:34.696Z"
   },
   {
    "duration": 23,
    "start_time": "2021-06-15T12:54:34.732Z"
   },
   {
    "duration": 35,
    "start_time": "2021-06-15T12:54:34.758Z"
   },
   {
    "duration": 30,
    "start_time": "2021-06-15T12:54:34.795Z"
   },
   {
    "duration": 35,
    "start_time": "2021-06-15T12:54:34.827Z"
   },
   {
    "duration": 673,
    "start_time": "2021-06-15T12:54:34.865Z"
   },
   {
    "duration": 15,
    "start_time": "2021-06-15T12:54:35.540Z"
   },
   {
    "duration": 15,
    "start_time": "2021-06-15T12:54:35.557Z"
   },
   {
    "duration": 20,
    "start_time": "2021-06-15T12:54:35.574Z"
   },
   {
    "duration": 32,
    "start_time": "2021-06-15T12:54:35.597Z"
   },
   {
    "duration": 28,
    "start_time": "2021-06-15T12:54:35.634Z"
   },
   {
    "duration": 34,
    "start_time": "2021-06-15T12:54:35.665Z"
   },
   {
    "duration": 586,
    "start_time": "2021-06-15T12:54:35.701Z"
   },
   {
    "duration": 23,
    "start_time": "2021-06-15T12:54:36.290Z"
   },
   {
    "duration": 725,
    "start_time": "2021-06-15T12:54:36.316Z"
   },
   {
    "duration": 29,
    "start_time": "2021-06-15T12:54:37.043Z"
   },
   {
    "duration": 31,
    "start_time": "2021-06-15T12:54:37.074Z"
   },
   {
    "duration": 25,
    "start_time": "2021-06-15T12:54:37.107Z"
   },
   {
    "duration": 21,
    "start_time": "2021-06-15T12:54:37.134Z"
   },
   {
    "duration": 52,
    "start_time": "2021-06-15T12:54:37.157Z"
   },
   {
    "duration": 34,
    "start_time": "2021-06-15T12:54:37.211Z"
   },
   {
    "duration": 22,
    "start_time": "2021-06-15T12:54:37.247Z"
   },
   {
    "duration": 21,
    "start_time": "2021-06-15T12:54:37.271Z"
   },
   {
    "duration": 27,
    "start_time": "2021-06-15T12:54:37.294Z"
   },
   {
    "duration": 1475,
    "start_time": "2021-06-16T12:18:36.810Z"
   },
   {
    "duration": 48,
    "start_time": "2021-06-16T12:18:38.287Z"
   },
   {
    "duration": 34,
    "start_time": "2021-06-16T12:18:38.338Z"
   },
   {
    "duration": 17,
    "start_time": "2021-06-16T12:18:38.374Z"
   },
   {
    "duration": 32,
    "start_time": "2021-06-16T12:18:38.393Z"
   },
   {
    "duration": 43,
    "start_time": "2021-06-16T12:18:38.428Z"
   },
   {
    "duration": 22,
    "start_time": "2021-06-16T12:18:38.473Z"
   },
   {
    "duration": 6,
    "start_time": "2021-06-16T12:18:38.524Z"
   },
   {
    "duration": 52,
    "start_time": "2021-06-16T12:18:38.534Z"
   },
   {
    "duration": 36,
    "start_time": "2021-06-16T12:18:38.589Z"
   },
   {
    "duration": 19,
    "start_time": "2021-06-16T12:18:38.628Z"
   },
   {
    "duration": 22,
    "start_time": "2021-06-16T12:18:38.649Z"
   },
   {
    "duration": 10,
    "start_time": "2021-06-16T12:18:38.673Z"
   },
   {
    "duration": 48,
    "start_time": "2021-06-16T12:18:38.685Z"
   },
   {
    "duration": 10,
    "start_time": "2021-06-16T12:18:38.735Z"
   },
   {
    "duration": 14,
    "start_time": "2021-06-16T12:18:38.747Z"
   },
   {
    "duration": 19,
    "start_time": "2021-06-16T12:18:38.764Z"
   },
   {
    "duration": 10,
    "start_time": "2021-06-16T12:18:38.785Z"
   },
   {
    "duration": 33,
    "start_time": "2021-06-16T12:18:38.797Z"
   },
   {
    "duration": 22,
    "start_time": "2021-06-16T12:18:38.833Z"
   },
   {
    "duration": 33,
    "start_time": "2021-06-16T12:18:38.858Z"
   },
   {
    "duration": 698,
    "start_time": "2021-06-16T12:18:38.893Z"
   },
   {
    "duration": 9,
    "start_time": "2021-06-16T12:18:39.594Z"
   },
   {
    "duration": 19,
    "start_time": "2021-06-16T12:18:39.606Z"
   },
   {
    "duration": 5081,
    "start_time": "2021-06-16T12:18:39.627Z"
   },
   {
    "duration": 16,
    "start_time": "2021-06-16T12:18:44.710Z"
   },
   {
    "duration": 21,
    "start_time": "2021-06-16T12:18:44.730Z"
   },
   {
    "duration": 9,
    "start_time": "2021-06-16T12:18:44.754Z"
   },
   {
    "duration": 29,
    "start_time": "2021-06-16T12:18:44.765Z"
   },
   {
    "duration": 733,
    "start_time": "2021-06-16T12:18:44.796Z"
   },
   {
    "duration": 24,
    "start_time": "2021-06-16T12:18:45.532Z"
   },
   {
    "duration": 633,
    "start_time": "2021-06-16T12:18:45.559Z"
   },
   {
    "duration": 37,
    "start_time": "2021-06-16T12:18:46.194Z"
   },
   {
    "duration": 15,
    "start_time": "2021-06-16T12:18:46.233Z"
   },
   {
    "duration": 11,
    "start_time": "2021-06-16T12:18:46.250Z"
   },
   {
    "duration": 8,
    "start_time": "2021-06-16T12:18:46.263Z"
   },
   {
    "duration": 14,
    "start_time": "2021-06-16T12:18:46.273Z"
   },
   {
    "duration": 44,
    "start_time": "2021-06-16T12:18:46.289Z"
   },
   {
    "duration": 6,
    "start_time": "2021-06-16T12:18:46.335Z"
   },
   {
    "duration": 8,
    "start_time": "2021-06-16T12:18:46.343Z"
   },
   {
    "duration": 8,
    "start_time": "2021-06-16T12:18:46.353Z"
   },
   {
    "duration": 93,
    "start_time": "2021-06-16T12:20:05.507Z"
   },
   {
    "duration": 424,
    "start_time": "2021-06-16T12:20:15.712Z"
   },
   {
    "duration": 509,
    "start_time": "2021-06-16T12:20:37.188Z"
   },
   {
    "duration": 529,
    "start_time": "2021-06-16T12:22:49.346Z"
   },
   {
    "duration": 4,
    "start_time": "2021-06-16T12:23:29.705Z"
   },
   {
    "duration": 54,
    "start_time": "2021-06-16T12:23:29.712Z"
   },
   {
    "duration": 30,
    "start_time": "2021-06-16T12:23:29.770Z"
   },
   {
    "duration": 17,
    "start_time": "2021-06-16T12:23:29.825Z"
   },
   {
    "duration": 13,
    "start_time": "2021-06-16T12:23:29.845Z"
   },
   {
    "duration": 90,
    "start_time": "2021-06-16T12:23:29.861Z"
   },
   {
    "duration": 25,
    "start_time": "2021-06-16T12:23:29.954Z"
   },
   {
    "duration": 6,
    "start_time": "2021-06-16T12:23:29.981Z"
   },
   {
    "duration": 82,
    "start_time": "2021-06-16T12:23:29.991Z"
   },
   {
    "duration": 14,
    "start_time": "2021-06-16T12:23:30.076Z"
   },
   {
    "duration": 47,
    "start_time": "2021-06-16T12:23:30.093Z"
   },
   {
    "duration": 21,
    "start_time": "2021-06-16T12:23:30.143Z"
   },
   {
    "duration": 11,
    "start_time": "2021-06-16T12:23:30.167Z"
   },
   {
    "duration": 54,
    "start_time": "2021-06-16T12:23:30.181Z"
   },
   {
    "duration": 12,
    "start_time": "2021-06-16T12:23:30.238Z"
   },
   {
    "duration": 16,
    "start_time": "2021-06-16T12:23:30.253Z"
   },
   {
    "duration": 19,
    "start_time": "2021-06-16T12:23:30.271Z"
   },
   {
    "duration": 34,
    "start_time": "2021-06-16T12:23:30.292Z"
   },
   {
    "duration": 24,
    "start_time": "2021-06-16T12:23:30.328Z"
   },
   {
    "duration": 25,
    "start_time": "2021-06-16T12:23:30.354Z"
   },
   {
    "duration": 62,
    "start_time": "2021-06-16T12:23:30.382Z"
   },
   {
    "duration": 778,
    "start_time": "2021-06-16T12:23:30.446Z"
   },
   {
    "duration": 9,
    "start_time": "2021-06-16T12:23:31.226Z"
   },
   {
    "duration": 13,
    "start_time": "2021-06-16T12:23:31.238Z"
   },
   {
    "duration": 751,
    "start_time": "2021-06-16T12:23:31.254Z"
   },
   {
    "duration": 19,
    "start_time": "2021-06-16T12:23:32.008Z"
   },
   {
    "duration": 19,
    "start_time": "2021-06-16T12:23:32.032Z"
   },
   {
    "duration": 11,
    "start_time": "2021-06-16T12:23:32.055Z"
   },
   {
    "duration": 56,
    "start_time": "2021-06-16T12:23:32.068Z"
   },
   {
    "duration": 741,
    "start_time": "2021-06-16T12:23:32.127Z"
   },
   {
    "duration": 24,
    "start_time": "2021-06-16T12:23:32.870Z"
   },
   {
    "duration": 646,
    "start_time": "2021-06-16T12:23:32.896Z"
   },
   {
    "duration": 25,
    "start_time": "2021-06-16T12:23:33.544Z"
   },
   {
    "duration": 14,
    "start_time": "2021-06-16T12:23:33.571Z"
   },
   {
    "duration": 6,
    "start_time": "2021-06-16T12:23:33.587Z"
   },
   {
    "duration": 6,
    "start_time": "2021-06-16T12:23:33.624Z"
   },
   {
    "duration": 9,
    "start_time": "2021-06-16T12:23:33.632Z"
   },
   {
    "duration": 19,
    "start_time": "2021-06-16T12:23:33.643Z"
   },
   {
    "duration": 7,
    "start_time": "2021-06-16T12:23:33.665Z"
   },
   {
    "duration": 48,
    "start_time": "2021-06-16T12:23:33.675Z"
   },
   {
    "duration": 8,
    "start_time": "2021-06-16T12:23:33.726Z"
   },
   {
    "duration": 512,
    "start_time": "2021-06-16T12:25:09.052Z"
   },
   {
    "duration": 519,
    "start_time": "2021-06-16T12:25:22.086Z"
   },
   {
    "duration": 794,
    "start_time": "2021-06-16T12:25:46.059Z"
   },
   {
    "duration": 538,
    "start_time": "2021-06-16T12:26:41.088Z"
   },
   {
    "duration": 534,
    "start_time": "2021-06-16T12:26:54.646Z"
   },
   {
    "duration": 508,
    "start_time": "2021-06-16T12:27:09.290Z"
   },
   {
    "duration": 829,
    "start_time": "2021-06-16T12:27:26.318Z"
   },
   {
    "duration": 1046,
    "start_time": "2021-06-16T12:27:40.199Z"
   },
   {
    "duration": 618,
    "start_time": "2021-06-16T12:27:53.680Z"
   },
   {
    "duration": 4,
    "start_time": "2021-06-16T12:27:58.529Z"
   },
   {
    "duration": 50,
    "start_time": "2021-06-16T12:27:58.536Z"
   },
   {
    "duration": 58,
    "start_time": "2021-06-16T12:27:58.589Z"
   },
   {
    "duration": 17,
    "start_time": "2021-06-16T12:27:58.651Z"
   },
   {
    "duration": 16,
    "start_time": "2021-06-16T12:27:58.670Z"
   },
   {
    "duration": 45,
    "start_time": "2021-06-16T12:27:58.724Z"
   },
   {
    "duration": 22,
    "start_time": "2021-06-16T12:27:58.772Z"
   },
   {
    "duration": 28,
    "start_time": "2021-06-16T12:27:58.797Z"
   },
   {
    "duration": 51,
    "start_time": "2021-06-16T12:27:58.828Z"
   },
   {
    "duration": 13,
    "start_time": "2021-06-16T12:27:58.882Z"
   },
   {
    "duration": 20,
    "start_time": "2021-06-16T12:27:58.924Z"
   },
   {
    "duration": 11,
    "start_time": "2021-06-16T12:27:58.946Z"
   },
   {
    "duration": 9,
    "start_time": "2021-06-16T12:27:58.959Z"
   },
   {
    "duration": 54,
    "start_time": "2021-06-16T12:27:58.971Z"
   },
   {
    "duration": 10,
    "start_time": "2021-06-16T12:27:59.027Z"
   },
   {
    "duration": 10,
    "start_time": "2021-06-16T12:27:59.039Z"
   },
   {
    "duration": 11,
    "start_time": "2021-06-16T12:27:59.051Z"
   },
   {
    "duration": 7,
    "start_time": "2021-06-16T12:27:59.065Z"
   },
   {
    "duration": 57,
    "start_time": "2021-06-16T12:27:59.075Z"
   },
   {
    "duration": 27,
    "start_time": "2021-06-16T12:27:59.135Z"
   },
   {
    "duration": 65,
    "start_time": "2021-06-16T12:27:59.165Z"
   },
   {
    "duration": 678,
    "start_time": "2021-06-16T12:27:59.233Z"
   },
   {
    "duration": 18,
    "start_time": "2021-06-16T12:27:59.913Z"
   },
   {
    "duration": 3,
    "start_time": "2021-06-16T12:27:59.934Z"
   },
   {
    "duration": 777,
    "start_time": "2021-06-16T12:27:59.939Z"
   },
   {
    "duration": 11,
    "start_time": "2021-06-16T12:28:00.718Z"
   },
   {
    "duration": 21,
    "start_time": "2021-06-16T12:28:00.734Z"
   },
   {
    "duration": 11,
    "start_time": "2021-06-16T12:28:00.758Z"
   },
   {
    "duration": 56,
    "start_time": "2021-06-16T12:28:00.772Z"
   },
   {
    "duration": 651,
    "start_time": "2021-06-16T12:28:00.830Z"
   },
   {
    "duration": 40,
    "start_time": "2021-06-16T12:28:01.484Z"
   },
   {
    "duration": 732,
    "start_time": "2021-06-16T12:28:01.527Z"
   },
   {
    "duration": 27,
    "start_time": "2021-06-16T12:28:02.262Z"
   },
   {
    "duration": 36,
    "start_time": "2021-06-16T12:28:02.292Z"
   },
   {
    "duration": 7,
    "start_time": "2021-06-16T12:28:02.330Z"
   },
   {
    "duration": 9,
    "start_time": "2021-06-16T12:28:02.339Z"
   },
   {
    "duration": 10,
    "start_time": "2021-06-16T12:28:02.351Z"
   },
   {
    "duration": 17,
    "start_time": "2021-06-16T12:28:02.364Z"
   },
   {
    "duration": 47,
    "start_time": "2021-06-16T12:28:02.384Z"
   },
   {
    "duration": 5,
    "start_time": "2021-06-16T12:28:02.434Z"
   },
   {
    "duration": 12,
    "start_time": "2021-06-16T12:28:02.441Z"
   },
   {
    "duration": 4,
    "start_time": "2021-06-16T12:28:24.898Z"
   },
   {
    "duration": 54,
    "start_time": "2021-06-16T12:28:24.904Z"
   },
   {
    "duration": 27,
    "start_time": "2021-06-16T12:28:24.961Z"
   },
   {
    "duration": 46,
    "start_time": "2021-06-16T12:28:24.991Z"
   },
   {
    "duration": 13,
    "start_time": "2021-06-16T12:28:25.039Z"
   },
   {
    "duration": 44,
    "start_time": "2021-06-16T12:28:25.054Z"
   },
   {
    "duration": 22,
    "start_time": "2021-06-16T12:28:25.124Z"
   },
   {
    "duration": 6,
    "start_time": "2021-06-16T12:28:25.149Z"
   },
   {
    "duration": 77,
    "start_time": "2021-06-16T12:28:25.158Z"
   },
   {
    "duration": 12,
    "start_time": "2021-06-16T12:28:25.237Z"
   },
   {
    "duration": 19,
    "start_time": "2021-06-16T12:28:25.252Z"
   },
   {
    "duration": 11,
    "start_time": "2021-06-16T12:28:25.273Z"
   },
   {
    "duration": 43,
    "start_time": "2021-06-16T12:28:25.287Z"
   },
   {
    "duration": 26,
    "start_time": "2021-06-16T12:28:25.333Z"
   },
   {
    "duration": 9,
    "start_time": "2021-06-16T12:28:25.362Z"
   },
   {
    "duration": 11,
    "start_time": "2021-06-16T12:28:25.373Z"
   },
   {
    "duration": 50,
    "start_time": "2021-06-16T12:28:25.387Z"
   },
   {
    "duration": 8,
    "start_time": "2021-06-16T12:28:25.439Z"
   },
   {
    "duration": 13,
    "start_time": "2021-06-16T12:28:25.450Z"
   },
   {
    "duration": 60,
    "start_time": "2021-06-16T12:28:25.465Z"
   },
   {
    "duration": 33,
    "start_time": "2021-06-16T12:28:25.528Z"
   },
   {
    "duration": 699,
    "start_time": "2021-06-16T12:28:25.563Z"
   },
   {
    "duration": 10,
    "start_time": "2021-06-16T12:28:26.267Z"
   },
   {
    "duration": 8,
    "start_time": "2021-06-16T12:28:26.280Z"
   },
   {
    "duration": 1059,
    "start_time": "2021-06-16T12:28:26.291Z"
   },
   {
    "duration": 7,
    "start_time": "2021-06-16T12:28:27.352Z"
   },
   {
    "duration": 19,
    "start_time": "2021-06-16T12:28:27.362Z"
   },
   {
    "duration": 9,
    "start_time": "2021-06-16T12:28:27.383Z"
   },
   {
    "duration": 24,
    "start_time": "2021-06-16T12:28:27.425Z"
   },
   {
    "duration": 750,
    "start_time": "2021-06-16T12:28:27.452Z"
   },
   {
    "duration": 33,
    "start_time": "2021-06-16T12:28:28.205Z"
   },
   {
    "duration": 743,
    "start_time": "2021-06-16T12:28:28.241Z"
   },
   {
    "duration": 40,
    "start_time": "2021-06-16T12:28:28.986Z"
   },
   {
    "duration": 16,
    "start_time": "2021-06-16T12:28:29.028Z"
   },
   {
    "duration": 7,
    "start_time": "2021-06-16T12:28:29.047Z"
   },
   {
    "duration": 6,
    "start_time": "2021-06-16T12:28:29.057Z"
   },
   {
    "duration": 8,
    "start_time": "2021-06-16T12:28:29.065Z"
   },
   {
    "duration": 57,
    "start_time": "2021-06-16T12:28:29.076Z"
   },
   {
    "duration": 7,
    "start_time": "2021-06-16T12:28:29.135Z"
   },
   {
    "duration": 9,
    "start_time": "2021-06-16T12:28:29.144Z"
   },
   {
    "duration": 10,
    "start_time": "2021-06-16T12:28:29.156Z"
   },
   {
    "duration": 4,
    "start_time": "2021-06-16T12:28:43.372Z"
   },
   {
    "duration": 59,
    "start_time": "2021-06-16T12:28:43.379Z"
   },
   {
    "duration": 30,
    "start_time": "2021-06-16T12:28:43.441Z"
   },
   {
    "duration": 17,
    "start_time": "2021-06-16T12:28:43.474Z"
   },
   {
    "duration": 40,
    "start_time": "2021-06-16T12:28:43.493Z"
   },
   {
    "duration": 48,
    "start_time": "2021-06-16T12:28:43.535Z"
   },
   {
    "duration": 46,
    "start_time": "2021-06-16T12:28:43.586Z"
   },
   {
    "duration": 7,
    "start_time": "2021-06-16T12:28:43.637Z"
   },
   {
    "duration": 80,
    "start_time": "2021-06-16T12:28:43.648Z"
   },
   {
    "duration": 12,
    "start_time": "2021-06-16T12:28:43.730Z"
   },
   {
    "duration": 28,
    "start_time": "2021-06-16T12:28:43.745Z"
   },
   {
    "duration": 24,
    "start_time": "2021-06-16T12:28:43.775Z"
   },
   {
    "duration": 28,
    "start_time": "2021-06-16T12:28:43.802Z"
   },
   {
    "duration": 23,
    "start_time": "2021-06-16T12:28:43.832Z"
   },
   {
    "duration": 20,
    "start_time": "2021-06-16T12:28:43.857Z"
   },
   {
    "duration": 17,
    "start_time": "2021-06-16T12:28:43.880Z"
   },
   {
    "duration": 29,
    "start_time": "2021-06-16T12:28:43.899Z"
   },
   {
    "duration": 9,
    "start_time": "2021-06-16T12:28:43.930Z"
   },
   {
    "duration": 24,
    "start_time": "2021-06-16T12:28:43.941Z"
   },
   {
    "duration": 25,
    "start_time": "2021-06-16T12:28:43.967Z"
   },
   {
    "duration": 60,
    "start_time": "2021-06-16T12:28:43.995Z"
   },
   {
    "duration": 689,
    "start_time": "2021-06-16T12:28:44.057Z"
   },
   {
    "duration": 11,
    "start_time": "2021-06-16T12:28:44.752Z"
   },
   {
    "duration": 4,
    "start_time": "2021-06-16T12:28:44.767Z"
   },
   {
    "duration": 834,
    "start_time": "2021-06-16T12:28:44.774Z"
   },
   {
    "duration": 19,
    "start_time": "2021-06-16T12:28:45.611Z"
   },
   {
    "duration": 28,
    "start_time": "2021-06-16T12:28:45.633Z"
   },
   {
    "duration": 28,
    "start_time": "2021-06-16T12:28:45.663Z"
   },
   {
    "duration": 29,
    "start_time": "2021-06-16T12:28:45.693Z"
   },
   {
    "duration": 617,
    "start_time": "2021-06-16T12:28:45.725Z"
   },
   {
    "duration": 25,
    "start_time": "2021-06-16T12:28:46.344Z"
   },
   {
    "duration": 630,
    "start_time": "2021-06-16T12:28:46.372Z"
   },
   {
    "duration": 34,
    "start_time": "2021-06-16T12:28:47.004Z"
   },
   {
    "duration": 15,
    "start_time": "2021-06-16T12:28:47.040Z"
   },
   {
    "duration": 6,
    "start_time": "2021-06-16T12:28:47.057Z"
   },
   {
    "duration": 6,
    "start_time": "2021-06-16T12:28:47.066Z"
   },
   {
    "duration": 50,
    "start_time": "2021-06-16T12:28:47.074Z"
   },
   {
    "duration": 13,
    "start_time": "2021-06-16T12:28:47.126Z"
   },
   {
    "duration": 13,
    "start_time": "2021-06-16T12:28:47.141Z"
   },
   {
    "duration": 14,
    "start_time": "2021-06-16T12:28:47.156Z"
   },
   {
    "duration": 9,
    "start_time": "2021-06-16T12:28:47.172Z"
   },
   {
    "duration": 648,
    "start_time": "2021-06-16T12:30:17.216Z"
   },
   {
    "duration": 4,
    "start_time": "2021-06-16T12:30:22.959Z"
   },
   {
    "duration": 57,
    "start_time": "2021-06-16T12:30:22.966Z"
   },
   {
    "duration": 30,
    "start_time": "2021-06-16T12:30:23.026Z"
   },
   {
    "duration": 39,
    "start_time": "2021-06-16T12:30:23.059Z"
   },
   {
    "duration": 13,
    "start_time": "2021-06-16T12:30:23.100Z"
   },
   {
    "duration": 45,
    "start_time": "2021-06-16T12:30:23.124Z"
   },
   {
    "duration": 24,
    "start_time": "2021-06-16T12:30:23.174Z"
   },
   {
    "duration": 7,
    "start_time": "2021-06-16T12:30:23.225Z"
   },
   {
    "duration": 60,
    "start_time": "2021-06-16T12:30:23.235Z"
   },
   {
    "duration": 29,
    "start_time": "2021-06-16T12:30:23.297Z"
   },
   {
    "duration": 25,
    "start_time": "2021-06-16T12:30:23.328Z"
   },
   {
    "duration": 24,
    "start_time": "2021-06-16T12:30:23.356Z"
   },
   {
    "duration": 13,
    "start_time": "2021-06-16T12:30:23.383Z"
   },
   {
    "duration": 52,
    "start_time": "2021-06-16T12:30:23.400Z"
   },
   {
    "duration": 12,
    "start_time": "2021-06-16T12:30:23.455Z"
   },
   {
    "duration": 19,
    "start_time": "2021-06-16T12:30:23.469Z"
   },
   {
    "duration": 42,
    "start_time": "2021-06-16T12:30:23.490Z"
   },
   {
    "duration": 13,
    "start_time": "2021-06-16T12:30:23.535Z"
   },
   {
    "duration": 36,
    "start_time": "2021-06-16T12:30:23.554Z"
   },
   {
    "duration": 25,
    "start_time": "2021-06-16T12:30:23.594Z"
   },
   {
    "duration": 35,
    "start_time": "2021-06-16T12:30:23.625Z"
   },
   {
    "duration": 679,
    "start_time": "2021-06-16T12:30:23.662Z"
   },
   {
    "duration": 11,
    "start_time": "2021-06-16T12:30:24.344Z"
   },
   {
    "duration": 10,
    "start_time": "2021-06-16T12:30:24.358Z"
   },
   {
    "duration": 1002,
    "start_time": "2021-06-16T12:30:24.371Z"
   },
   {
    "duration": 9,
    "start_time": "2021-06-16T12:30:25.377Z"
   },
   {
    "duration": 40,
    "start_time": "2021-06-16T12:30:25.388Z"
   },
   {
    "duration": 11,
    "start_time": "2021-06-16T12:30:25.430Z"
   },
   {
    "duration": 29,
    "start_time": "2021-06-16T12:30:25.443Z"
   },
   {
    "duration": 618,
    "start_time": "2021-06-16T12:30:25.474Z"
   },
   {
    "duration": 37,
    "start_time": "2021-06-16T12:30:26.094Z"
   },
   {
    "duration": 690,
    "start_time": "2021-06-16T12:30:26.134Z"
   },
   {
    "duration": 25,
    "start_time": "2021-06-16T12:30:26.826Z"
   },
   {
    "duration": 16,
    "start_time": "2021-06-16T12:30:26.854Z"
   },
   {
    "duration": 16,
    "start_time": "2021-06-16T12:30:26.872Z"
   },
   {
    "duration": 35,
    "start_time": "2021-06-16T12:30:26.890Z"
   },
   {
    "duration": 7,
    "start_time": "2021-06-16T12:30:26.927Z"
   },
   {
    "duration": 20,
    "start_time": "2021-06-16T12:30:26.936Z"
   },
   {
    "duration": 7,
    "start_time": "2021-06-16T12:30:26.958Z"
   },
   {
    "duration": 11,
    "start_time": "2021-06-16T12:30:26.967Z"
   },
   {
    "duration": 11,
    "start_time": "2021-06-16T12:30:26.980Z"
   },
   {
    "duration": 4,
    "start_time": "2021-06-16T12:30:37.941Z"
   },
   {
    "duration": 62,
    "start_time": "2021-06-16T12:30:37.948Z"
   },
   {
    "duration": 38,
    "start_time": "2021-06-16T12:30:38.013Z"
   },
   {
    "duration": 17,
    "start_time": "2021-06-16T12:30:38.055Z"
   },
   {
    "duration": 12,
    "start_time": "2021-06-16T12:30:38.075Z"
   },
   {
    "duration": 41,
    "start_time": "2021-06-16T12:30:38.125Z"
   },
   {
    "duration": 22,
    "start_time": "2021-06-16T12:30:38.169Z"
   },
   {
    "duration": 35,
    "start_time": "2021-06-16T12:30:38.193Z"
   },
   {
    "duration": 55,
    "start_time": "2021-06-16T12:30:38.232Z"
   },
   {
    "duration": 11,
    "start_time": "2021-06-16T12:30:38.290Z"
   },
   {
    "duration": 20,
    "start_time": "2021-06-16T12:30:38.325Z"
   },
   {
    "duration": 13,
    "start_time": "2021-06-16T12:30:38.349Z"
   },
   {
    "duration": 12,
    "start_time": "2021-06-16T12:30:38.365Z"
   },
   {
    "duration": 66,
    "start_time": "2021-06-16T12:30:38.380Z"
   },
   {
    "duration": 13,
    "start_time": "2021-06-16T12:30:38.449Z"
   },
   {
    "duration": 12,
    "start_time": "2021-06-16T12:30:38.465Z"
   },
   {
    "duration": 51,
    "start_time": "2021-06-16T12:30:38.480Z"
   },
   {
    "duration": 10,
    "start_time": "2021-06-16T12:30:38.534Z"
   },
   {
    "duration": 17,
    "start_time": "2021-06-16T12:30:38.547Z"
   },
   {
    "duration": 58,
    "start_time": "2021-06-16T12:30:38.567Z"
   },
   {
    "duration": 38,
    "start_time": "2021-06-16T12:30:38.628Z"
   },
   {
    "duration": 704,
    "start_time": "2021-06-16T12:30:38.669Z"
   },
   {
    "duration": 12,
    "start_time": "2021-06-16T12:30:39.376Z"
   },
   {
    "duration": 4,
    "start_time": "2021-06-16T12:30:39.391Z"
   },
   {
    "duration": 793,
    "start_time": "2021-06-16T12:30:39.425Z"
   },
   {
    "duration": 8,
    "start_time": "2021-06-16T12:30:40.225Z"
   },
   {
    "duration": 17,
    "start_time": "2021-06-16T12:30:40.238Z"
   },
   {
    "duration": 10,
    "start_time": "2021-06-16T12:30:40.258Z"
   },
   {
    "duration": 60,
    "start_time": "2021-06-16T12:30:40.270Z"
   },
   {
    "duration": 615,
    "start_time": "2021-06-16T12:30:40.333Z"
   },
   {
    "duration": 24,
    "start_time": "2021-06-16T12:30:40.951Z"
   },
   {
    "duration": 626,
    "start_time": "2021-06-16T12:30:40.977Z"
   },
   {
    "duration": 35,
    "start_time": "2021-06-16T12:30:41.606Z"
   },
   {
    "duration": 15,
    "start_time": "2021-06-16T12:30:41.643Z"
   },
   {
    "duration": 10,
    "start_time": "2021-06-16T12:30:41.661Z"
   },
   {
    "duration": 8,
    "start_time": "2021-06-16T12:30:41.673Z"
   },
   {
    "duration": 9,
    "start_time": "2021-06-16T12:30:41.683Z"
   },
   {
    "duration": 30,
    "start_time": "2021-06-16T12:30:41.725Z"
   },
   {
    "duration": 6,
    "start_time": "2021-06-16T12:30:41.758Z"
   },
   {
    "duration": 7,
    "start_time": "2021-06-16T12:30:41.767Z"
   },
   {
    "duration": 7,
    "start_time": "2021-06-16T12:30:41.776Z"
   },
   {
    "duration": 4,
    "start_time": "2021-06-16T12:48:35.181Z"
   },
   {
    "duration": 66,
    "start_time": "2021-06-16T12:48:35.188Z"
   },
   {
    "duration": 28,
    "start_time": "2021-06-16T12:48:35.256Z"
   },
   {
    "duration": 40,
    "start_time": "2021-06-16T12:48:35.287Z"
   },
   {
    "duration": 15,
    "start_time": "2021-06-16T12:48:35.329Z"
   },
   {
    "duration": 49,
    "start_time": "2021-06-16T12:48:35.346Z"
   },
   {
    "duration": 35,
    "start_time": "2021-06-16T12:48:35.397Z"
   },
   {
    "duration": 6,
    "start_time": "2021-06-16T12:48:35.434Z"
   },
   {
    "duration": 74,
    "start_time": "2021-06-16T12:48:35.443Z"
   },
   {
    "duration": 12,
    "start_time": "2021-06-16T12:48:35.524Z"
   },
   {
    "duration": 34,
    "start_time": "2021-06-16T12:48:35.538Z"
   },
   {
    "duration": 24,
    "start_time": "2021-06-16T12:48:35.574Z"
   },
   {
    "duration": 23,
    "start_time": "2021-06-16T12:48:35.600Z"
   },
   {
    "duration": 27,
    "start_time": "2021-06-16T12:48:35.626Z"
   },
   {
    "duration": 9,
    "start_time": "2021-06-16T12:48:35.656Z"
   },
   {
    "duration": 26,
    "start_time": "2021-06-16T12:48:35.667Z"
   },
   {
    "duration": 26,
    "start_time": "2021-06-16T12:48:35.696Z"
   },
   {
    "duration": 18,
    "start_time": "2021-06-16T12:48:35.725Z"
   },
   {
    "duration": 28,
    "start_time": "2021-06-16T12:48:35.745Z"
   },
   {
    "duration": 38,
    "start_time": "2021-06-16T12:48:35.775Z"
   },
   {
    "duration": 34,
    "start_time": "2021-06-16T12:48:35.816Z"
   },
   {
    "duration": 672,
    "start_time": "2021-06-16T12:48:35.853Z"
   },
   {
    "duration": 10,
    "start_time": "2021-06-16T12:48:36.527Z"
   },
   {
    "duration": 835,
    "start_time": "2021-06-16T12:48:36.539Z"
   },
   {
    "duration": 7,
    "start_time": "2021-06-16T12:48:37.376Z"
   },
   {
    "duration": 30,
    "start_time": "2021-06-16T12:48:37.385Z"
   },
   {
    "duration": 12,
    "start_time": "2021-06-16T12:48:37.424Z"
   },
   {
    "duration": 35,
    "start_time": "2021-06-16T12:48:37.438Z"
   },
   {
    "duration": 614,
    "start_time": "2021-06-16T12:48:37.475Z"
   },
   {
    "duration": 37,
    "start_time": "2021-06-16T12:48:38.092Z"
   },
   {
    "duration": 831,
    "start_time": "2021-06-16T12:48:38.131Z"
   },
   {
    "duration": 25,
    "start_time": "2021-06-16T12:48:38.965Z"
   },
   {
    "duration": 36,
    "start_time": "2021-06-16T12:48:38.993Z"
   },
   {
    "duration": 20,
    "start_time": "2021-06-16T12:48:39.032Z"
   },
   {
    "duration": 18,
    "start_time": "2021-06-16T12:48:39.055Z"
   },
   {
    "duration": 14,
    "start_time": "2021-06-16T12:48:39.075Z"
   },
   {
    "duration": 29,
    "start_time": "2021-06-16T12:48:39.091Z"
   },
   {
    "duration": 8,
    "start_time": "2021-06-16T12:48:39.122Z"
   },
   {
    "duration": 24,
    "start_time": "2021-06-16T12:48:39.132Z"
   },
   {
    "duration": 29,
    "start_time": "2021-06-16T12:48:39.158Z"
   },
   {
    "duration": 4,
    "start_time": "2021-06-16T12:50:18.148Z"
   },
   {
    "duration": 55,
    "start_time": "2021-06-16T12:50:18.154Z"
   },
   {
    "duration": 29,
    "start_time": "2021-06-16T12:50:18.212Z"
   },
   {
    "duration": 18,
    "start_time": "2021-06-16T12:50:18.244Z"
   },
   {
    "duration": 15,
    "start_time": "2021-06-16T12:50:18.265Z"
   },
   {
    "duration": 81,
    "start_time": "2021-06-16T12:50:18.282Z"
   },
   {
    "duration": 34,
    "start_time": "2021-06-16T12:50:18.366Z"
   },
   {
    "duration": 23,
    "start_time": "2021-06-16T12:50:18.405Z"
   },
   {
    "duration": 73,
    "start_time": "2021-06-16T12:50:18.432Z"
   },
   {
    "duration": 18,
    "start_time": "2021-06-16T12:50:18.525Z"
   },
   {
    "duration": 28,
    "start_time": "2021-06-16T12:50:18.546Z"
   },
   {
    "duration": 47,
    "start_time": "2021-06-16T12:50:18.577Z"
   },
   {
    "duration": 14,
    "start_time": "2021-06-16T12:50:18.627Z"
   },
   {
    "duration": 32,
    "start_time": "2021-06-16T12:50:18.644Z"
   },
   {
    "duration": 45,
    "start_time": "2021-06-16T12:50:18.679Z"
   },
   {
    "duration": 8,
    "start_time": "2021-06-16T12:50:18.727Z"
   },
   {
    "duration": 17,
    "start_time": "2021-06-16T12:50:18.737Z"
   },
   {
    "duration": 10,
    "start_time": "2021-06-16T12:50:18.756Z"
   },
   {
    "duration": 16,
    "start_time": "2021-06-16T12:50:18.768Z"
   },
   {
    "duration": 60,
    "start_time": "2021-06-16T12:50:18.786Z"
   },
   {
    "duration": 35,
    "start_time": "2021-06-16T12:50:18.848Z"
   },
   {
    "duration": 700,
    "start_time": "2021-06-16T12:50:18.885Z"
   },
   {
    "duration": 9,
    "start_time": "2021-06-16T12:50:19.590Z"
   },
   {
    "duration": 957,
    "start_time": "2021-06-16T12:50:19.602Z"
   },
   {
    "duration": 7,
    "start_time": "2021-06-16T12:50:20.561Z"
   },
   {
    "duration": 18,
    "start_time": "2021-06-16T12:50:20.570Z"
   },
   {
    "duration": 10,
    "start_time": "2021-06-16T12:50:20.591Z"
   },
   {
    "duration": 29,
    "start_time": "2021-06-16T12:50:20.624Z"
   },
   {
    "duration": 620,
    "start_time": "2021-06-16T12:50:20.655Z"
   },
   {
    "duration": 27,
    "start_time": "2021-06-16T12:50:21.278Z"
   },
   {
    "duration": 640,
    "start_time": "2021-06-16T12:50:21.307Z"
   },
   {
    "duration": 27,
    "start_time": "2021-06-16T12:50:21.950Z"
   },
   {
    "duration": 15,
    "start_time": "2021-06-16T12:50:21.980Z"
   },
   {
    "duration": 6,
    "start_time": "2021-06-16T12:50:22.025Z"
   },
   {
    "duration": 6,
    "start_time": "2021-06-16T12:50:22.033Z"
   },
   {
    "duration": 11,
    "start_time": "2021-06-16T12:50:22.041Z"
   },
   {
    "duration": 14,
    "start_time": "2021-06-16T12:50:22.054Z"
   },
   {
    "duration": 6,
    "start_time": "2021-06-16T12:50:22.071Z"
   },
   {
    "duration": 46,
    "start_time": "2021-06-16T12:50:22.080Z"
   },
   {
    "duration": 8,
    "start_time": "2021-06-16T12:50:22.128Z"
   },
   {
    "duration": 4,
    "start_time": "2021-06-16T12:52:58.995Z"
   },
   {
    "duration": 51,
    "start_time": "2021-06-16T12:52:59.002Z"
   },
   {
    "duration": 29,
    "start_time": "2021-06-16T12:52:59.056Z"
   },
   {
    "duration": 39,
    "start_time": "2021-06-16T12:52:59.088Z"
   },
   {
    "duration": 11,
    "start_time": "2021-06-16T12:52:59.129Z"
   },
   {
    "duration": 47,
    "start_time": "2021-06-16T12:52:59.143Z"
   },
   {
    "duration": 53,
    "start_time": "2021-06-16T12:52:59.193Z"
   },
   {
    "duration": 7,
    "start_time": "2021-06-16T12:52:59.249Z"
   },
   {
    "duration": 79,
    "start_time": "2021-06-16T12:52:59.263Z"
   },
   {
    "duration": 15,
    "start_time": "2021-06-16T12:52:59.346Z"
   },
   {
    "duration": 22,
    "start_time": "2021-06-16T12:52:59.364Z"
   },
   {
    "duration": 13,
    "start_time": "2021-06-16T12:52:59.425Z"
   },
   {
    "duration": 12,
    "start_time": "2021-06-16T12:52:59.441Z"
   },
   {
    "duration": 23,
    "start_time": "2021-06-16T12:52:59.456Z"
   },
   {
    "duration": 51,
    "start_time": "2021-06-16T12:52:59.481Z"
   },
   {
    "duration": 11,
    "start_time": "2021-06-16T12:52:59.535Z"
   },
   {
    "duration": 13,
    "start_time": "2021-06-16T12:52:59.549Z"
   },
   {
    "duration": 8,
    "start_time": "2021-06-16T12:52:59.565Z"
   },
   {
    "duration": 24,
    "start_time": "2021-06-16T12:52:59.575Z"
   },
   {
    "duration": 24,
    "start_time": "2021-06-16T12:52:59.624Z"
   },
   {
    "duration": 34,
    "start_time": "2021-06-16T12:52:59.651Z"
   },
   {
    "duration": 806,
    "start_time": "2021-06-16T12:52:59.687Z"
   },
   {
    "duration": 9,
    "start_time": "2021-06-16T12:53:00.496Z"
   },
   {
    "duration": 849,
    "start_time": "2021-06-16T12:53:00.508Z"
   },
   {
    "duration": 8,
    "start_time": "2021-06-16T12:53:01.360Z"
   },
   {
    "duration": 288,
    "start_time": "2021-06-16T12:53:01.370Z"
   },
   {
    "duration": 3,
    "start_time": "2021-06-16T12:53:01.664Z"
   },
   {
    "duration": 13,
    "start_time": "2021-06-16T12:53:01.669Z"
   },
   {
    "duration": 43,
    "start_time": "2021-06-16T12:53:01.684Z"
   },
   {
    "duration": 645,
    "start_time": "2021-06-16T12:53:01.730Z"
   },
   {
    "duration": 25,
    "start_time": "2021-06-16T12:53:02.377Z"
   },
   {
    "duration": 652,
    "start_time": "2021-06-16T12:53:02.405Z"
   },
   {
    "duration": 79,
    "start_time": "2021-06-16T12:53:03.060Z"
   },
   {
    "duration": 15,
    "start_time": "2021-06-16T12:53:03.141Z"
   },
   {
    "duration": 9,
    "start_time": "2021-06-16T12:53:03.158Z"
   },
   {
    "duration": 5,
    "start_time": "2021-06-16T12:53:03.224Z"
   },
   {
    "duration": 12,
    "start_time": "2021-06-16T12:53:03.232Z"
   },
   {
    "duration": 27,
    "start_time": "2021-06-16T12:53:03.246Z"
   },
   {
    "duration": 53,
    "start_time": "2021-06-16T12:53:03.275Z"
   },
   {
    "duration": 12,
    "start_time": "2021-06-16T12:53:03.331Z"
   },
   {
    "duration": 15,
    "start_time": "2021-06-16T12:53:03.345Z"
   },
   {
    "duration": 560,
    "start_time": "2021-06-16T13:00:12.658Z"
   },
   {
    "duration": 1424,
    "start_time": "2021-06-16T13:07:22.347Z"
   },
   {
    "duration": 50,
    "start_time": "2021-06-16T13:07:23.774Z"
   },
   {
    "duration": 32,
    "start_time": "2021-06-16T13:07:23.827Z"
   },
   {
    "duration": 16,
    "start_time": "2021-06-16T13:07:23.862Z"
   },
   {
    "duration": 12,
    "start_time": "2021-06-16T13:07:23.881Z"
   },
   {
    "duration": 43,
    "start_time": "2021-06-16T13:07:23.924Z"
   },
   {
    "duration": 23,
    "start_time": "2021-06-16T13:07:23.969Z"
   },
   {
    "duration": 33,
    "start_time": "2021-06-16T13:07:23.995Z"
   },
   {
    "duration": 52,
    "start_time": "2021-06-16T13:07:24.031Z"
   },
   {
    "duration": 12,
    "start_time": "2021-06-16T13:07:24.085Z"
   },
   {
    "duration": 43,
    "start_time": "2021-06-16T13:07:24.099Z"
   },
   {
    "duration": 11,
    "start_time": "2021-06-16T13:07:24.144Z"
   },
   {
    "duration": 15,
    "start_time": "2021-06-16T13:07:24.158Z"
   },
   {
    "duration": 66,
    "start_time": "2021-06-16T13:07:24.175Z"
   },
   {
    "duration": 9,
    "start_time": "2021-06-16T13:07:24.244Z"
   },
   {
    "duration": 11,
    "start_time": "2021-06-16T13:07:24.256Z"
   },
   {
    "duration": 14,
    "start_time": "2021-06-16T13:07:24.269Z"
   },
   {
    "duration": 9,
    "start_time": "2021-06-16T13:07:24.285Z"
   },
   {
    "duration": 45,
    "start_time": "2021-06-16T13:07:24.296Z"
   },
   {
    "duration": 24,
    "start_time": "2021-06-16T13:07:24.344Z"
   },
   {
    "duration": 66,
    "start_time": "2021-06-16T13:07:24.371Z"
   },
   {
    "duration": 687,
    "start_time": "2021-06-16T13:07:24.439Z"
   },
   {
    "duration": 11,
    "start_time": "2021-06-16T13:07:25.131Z"
   },
   {
    "duration": 896,
    "start_time": "2021-06-16T13:07:25.144Z"
   },
   {
    "duration": 7,
    "start_time": "2021-06-16T13:07:26.042Z"
   },
   {
    "duration": 411,
    "start_time": "2021-06-16T13:07:26.052Z"
   },
   {
    "duration": 24,
    "start_time": "2021-06-16T13:07:26.465Z"
   },
   {
    "duration": 614,
    "start_time": "2021-06-16T13:07:26.491Z"
   },
   {
    "duration": 34,
    "start_time": "2021-06-16T13:07:27.107Z"
   },
   {
    "duration": 704,
    "start_time": "2021-06-16T13:07:27.143Z"
   },
   {
    "duration": 26,
    "start_time": "2021-06-16T13:07:27.849Z"
   },
   {
    "duration": 14,
    "start_time": "2021-06-16T13:07:27.877Z"
   },
   {
    "duration": 33,
    "start_time": "2021-06-16T13:07:27.893Z"
   },
   {
    "duration": 6,
    "start_time": "2021-06-16T13:07:27.928Z"
   },
   {
    "duration": 8,
    "start_time": "2021-06-16T13:07:27.936Z"
   },
   {
    "duration": 15,
    "start_time": "2021-06-16T13:07:27.946Z"
   },
   {
    "duration": 6,
    "start_time": "2021-06-16T13:07:27.963Z"
   },
   {
    "duration": 6,
    "start_time": "2021-06-16T13:07:27.972Z"
   },
   {
    "duration": 48,
    "start_time": "2021-06-16T13:07:27.980Z"
   },
   {
    "duration": 419,
    "start_time": "2021-06-16T13:08:12.291Z"
   },
   {
    "duration": 5329,
    "start_time": "2021-06-16T13:11:25.661Z"
   },
   {
    "duration": 851,
    "start_time": "2021-06-16T13:15:15.677Z"
   },
   {
    "duration": 695,
    "start_time": "2021-06-16T13:17:06.268Z"
   },
   {
    "duration": 677,
    "start_time": "2021-06-16T13:17:53.051Z"
   },
   {
    "duration": 702,
    "start_time": "2021-06-16T13:18:11.247Z"
   },
   {
    "duration": 997,
    "start_time": "2021-06-16T13:19:36.148Z"
   },
   {
    "duration": 992,
    "start_time": "2021-06-16T13:21:00.509Z"
   },
   {
    "duration": 1035,
    "start_time": "2021-06-16T13:21:40.882Z"
   },
   {
    "duration": 894,
    "start_time": "2021-06-16T13:21:46.825Z"
   },
   {
    "duration": 543,
    "start_time": "2021-06-16T13:23:14.757Z"
   },
   {
    "duration": 915,
    "start_time": "2021-06-16T13:25:59.729Z"
   },
   {
    "duration": 967,
    "start_time": "2021-06-16T13:26:09.228Z"
   },
   {
    "duration": 1060,
    "start_time": "2021-06-16T13:26:30.142Z"
   },
   {
    "duration": 863,
    "start_time": "2021-06-16T13:26:57.051Z"
   },
   {
    "duration": 92,
    "start_time": "2021-06-16T13:33:24.890Z"
   },
   {
    "duration": 273,
    "start_time": "2021-06-16T13:34:28.779Z"
   },
   {
    "duration": 332,
    "start_time": "2021-06-16T13:34:43.795Z"
   },
   {
    "duration": 287,
    "start_time": "2021-06-16T13:35:06.299Z"
   },
   {
    "duration": 289,
    "start_time": "2021-06-16T13:35:40.876Z"
   },
   {
    "duration": 285,
    "start_time": "2021-06-16T15:08:41.735Z"
   },
   {
    "duration": 348,
    "start_time": "2021-06-16T15:08:54.531Z"
   },
   {
    "duration": 10,
    "start_time": "2021-06-16T15:09:32.449Z"
   },
   {
    "duration": 507,
    "start_time": "2021-06-16T15:10:06.902Z"
   },
   {
    "duration": 632,
    "start_time": "2021-06-16T15:11:12.069Z"
   },
   {
    "duration": 753,
    "start_time": "2021-06-16T15:11:23.408Z"
   },
   {
    "duration": 725,
    "start_time": "2021-06-16T15:11:32.035Z"
   },
   {
    "duration": 710,
    "start_time": "2021-06-16T15:12:28.276Z"
   },
   {
    "duration": 4,
    "start_time": "2021-06-16T15:13:35.785Z"
   },
   {
    "duration": 50,
    "start_time": "2021-06-16T15:13:35.792Z"
   },
   {
    "duration": 29,
    "start_time": "2021-06-16T15:13:35.845Z"
   },
   {
    "duration": 14,
    "start_time": "2021-06-16T15:13:35.877Z"
   },
   {
    "duration": 41,
    "start_time": "2021-06-16T15:13:35.894Z"
   },
   {
    "duration": 44,
    "start_time": "2021-06-16T15:13:35.937Z"
   },
   {
    "duration": 51,
    "start_time": "2021-06-16T15:13:35.984Z"
   },
   {
    "duration": 6,
    "start_time": "2021-06-16T15:13:36.037Z"
   },
   {
    "duration": 50,
    "start_time": "2021-06-16T15:13:36.048Z"
   },
   {
    "duration": 12,
    "start_time": "2021-06-16T15:13:36.124Z"
   },
   {
    "duration": 20,
    "start_time": "2021-06-16T15:13:36.139Z"
   },
   {
    "duration": 11,
    "start_time": "2021-06-16T15:13:36.162Z"
   },
   {
    "duration": 11,
    "start_time": "2021-06-16T15:13:36.176Z"
   },
   {
    "duration": 22,
    "start_time": "2021-06-16T15:13:36.225Z"
   },
   {
    "duration": 12,
    "start_time": "2021-06-16T15:13:36.249Z"
   },
   {
    "duration": 13,
    "start_time": "2021-06-16T15:13:36.263Z"
   },
   {
    "duration": 16,
    "start_time": "2021-06-16T15:13:36.278Z"
   },
   {
    "duration": 37,
    "start_time": "2021-06-16T15:13:36.296Z"
   },
   {
    "duration": 30,
    "start_time": "2021-06-16T15:13:36.335Z"
   },
   {
    "duration": 27,
    "start_time": "2021-06-16T15:13:36.368Z"
   },
   {
    "duration": 60,
    "start_time": "2021-06-16T15:13:36.398Z"
   },
   {
    "duration": 814,
    "start_time": "2021-06-16T15:13:36.461Z"
   },
   {
    "duration": 10,
    "start_time": "2021-06-16T15:13:37.277Z"
   },
   {
    "duration": 958,
    "start_time": "2021-06-16T15:13:37.289Z"
   },
   {
    "duration": 8,
    "start_time": "2021-06-16T15:13:38.249Z"
   },
   {
    "duration": 707,
    "start_time": "2021-06-16T15:13:38.260Z"
   },
   {
    "duration": 25,
    "start_time": "2021-06-16T15:13:38.974Z"
   },
   {
    "duration": 611,
    "start_time": "2021-06-16T15:13:39.002Z"
   },
   {
    "duration": 28,
    "start_time": "2021-06-16T15:13:39.615Z"
   },
   {
    "duration": 728,
    "start_time": "2021-06-16T15:13:39.645Z"
   },
   {
    "duration": 25,
    "start_time": "2021-06-16T15:13:40.376Z"
   },
   {
    "duration": 32,
    "start_time": "2021-06-16T15:13:40.404Z"
   },
   {
    "duration": 11,
    "start_time": "2021-06-16T15:13:40.438Z"
   },
   {
    "duration": 7,
    "start_time": "2021-06-16T15:13:40.451Z"
   },
   {
    "duration": 7,
    "start_time": "2021-06-16T15:13:40.460Z"
   },
   {
    "duration": 54,
    "start_time": "2021-06-16T15:13:40.470Z"
   },
   {
    "duration": 7,
    "start_time": "2021-06-16T15:13:40.526Z"
   },
   {
    "duration": 7,
    "start_time": "2021-06-16T15:13:40.536Z"
   },
   {
    "duration": 7,
    "start_time": "2021-06-16T15:13:40.546Z"
   },
   {
    "duration": 6,
    "start_time": "2021-06-16T15:15:08.584Z"
   },
   {
    "duration": 10,
    "start_time": "2021-06-16T15:16:52.725Z"
   },
   {
    "duration": 596,
    "start_time": "2021-06-16T15:17:43.433Z"
   },
   {
    "duration": 562,
    "start_time": "2021-06-16T15:22:06.627Z"
   },
   {
    "duration": 603,
    "start_time": "2021-06-16T15:22:18.755Z"
   },
   {
    "duration": 10,
    "start_time": "2021-06-16T15:22:38.425Z"
   },
   {
    "duration": 10,
    "start_time": "2021-06-16T15:23:42.204Z"
   },
   {
    "duration": 101,
    "start_time": "2021-06-16T15:23:43.452Z"
   },
   {
    "duration": 606,
    "start_time": "2021-06-16T15:24:04.575Z"
   },
   {
    "duration": 5,
    "start_time": "2021-06-16T15:24:09.783Z"
   },
   {
    "duration": 53,
    "start_time": "2021-06-16T15:24:09.791Z"
   },
   {
    "duration": 30,
    "start_time": "2021-06-16T15:24:09.847Z"
   },
   {
    "duration": 44,
    "start_time": "2021-06-16T15:24:09.880Z"
   },
   {
    "duration": 13,
    "start_time": "2021-06-16T15:24:09.926Z"
   },
   {
    "duration": 45,
    "start_time": "2021-06-16T15:24:09.942Z"
   },
   {
    "duration": 55,
    "start_time": "2021-06-16T15:24:09.992Z"
   },
   {
    "duration": 6,
    "start_time": "2021-06-16T15:24:10.050Z"
   },
   {
    "duration": 75,
    "start_time": "2021-06-16T15:24:10.058Z"
   },
   {
    "duration": 140,
    "start_time": "2021-06-16T15:24:10.135Z"
   },
   {
    "duration": 20,
    "start_time": "2021-06-16T15:24:10.277Z"
   },
   {
    "duration": 31,
    "start_time": "2021-06-16T15:24:10.300Z"
   },
   {
    "duration": 11,
    "start_time": "2021-06-16T15:24:10.333Z"
   },
   {
    "duration": 25,
    "start_time": "2021-06-16T15:24:10.346Z"
   },
   {
    "duration": 10,
    "start_time": "2021-06-16T15:24:10.373Z"
   },
   {
    "duration": 46,
    "start_time": "2021-06-16T15:24:10.386Z"
   },
   {
    "duration": 15,
    "start_time": "2021-06-16T15:24:10.435Z"
   },
   {
    "duration": 9,
    "start_time": "2021-06-16T15:24:10.453Z"
   },
   {
    "duration": 14,
    "start_time": "2021-06-16T15:24:10.467Z"
   },
   {
    "duration": 56,
    "start_time": "2021-06-16T15:24:10.484Z"
   },
   {
    "duration": 34,
    "start_time": "2021-06-16T15:24:10.542Z"
   },
   {
    "duration": 680,
    "start_time": "2021-06-16T15:24:10.578Z"
   },
   {
    "duration": 9,
    "start_time": "2021-06-16T15:24:11.260Z"
   },
   {
    "duration": 824,
    "start_time": "2021-06-16T15:24:11.271Z"
   },
   {
    "duration": 7,
    "start_time": "2021-06-16T15:24:12.098Z"
   },
   {
    "duration": 20,
    "start_time": "2021-06-16T15:24:12.108Z"
   },
   {
    "duration": 636,
    "start_time": "2021-06-16T15:24:12.131Z"
   },
   {
    "duration": 23,
    "start_time": "2021-06-16T15:24:12.770Z"
   },
   {
    "duration": 647,
    "start_time": "2021-06-16T15:24:12.796Z"
   },
   {
    "duration": 34,
    "start_time": "2021-06-16T15:24:13.446Z"
   },
   {
    "duration": 663,
    "start_time": "2021-06-16T15:24:13.484Z"
   },
   {
    "duration": 25,
    "start_time": "2021-06-16T15:24:14.149Z"
   },
   {
    "duration": 14,
    "start_time": "2021-06-16T15:24:14.176Z"
   },
   {
    "duration": 35,
    "start_time": "2021-06-16T15:24:14.192Z"
   },
   {
    "duration": 24,
    "start_time": "2021-06-16T15:24:14.229Z"
   },
   {
    "duration": 12,
    "start_time": "2021-06-16T15:24:14.255Z"
   },
   {
    "duration": 26,
    "start_time": "2021-06-16T15:24:14.269Z"
   },
   {
    "duration": 22,
    "start_time": "2021-06-16T15:24:14.297Z"
   },
   {
    "duration": 21,
    "start_time": "2021-06-16T15:24:14.322Z"
   },
   {
    "duration": 16,
    "start_time": "2021-06-16T15:24:14.346Z"
   },
   {
    "duration": 582,
    "start_time": "2021-06-16T15:29:36.883Z"
   },
   {
    "duration": 527,
    "start_time": "2021-06-16T15:29:44.515Z"
   },
   {
    "duration": 624,
    "start_time": "2021-06-16T15:30:31.882Z"
   },
   {
    "duration": 622,
    "start_time": "2021-06-16T15:31:21.393Z"
   },
   {
    "duration": 528,
    "start_time": "2021-06-16T15:33:53.876Z"
   },
   {
    "duration": 514,
    "start_time": "2021-06-16T15:41:45.800Z"
   },
   {
    "duration": 4,
    "start_time": "2021-06-16T15:42:08.531Z"
   },
   {
    "duration": 51,
    "start_time": "2021-06-16T15:42:08.538Z"
   },
   {
    "duration": 50,
    "start_time": "2021-06-16T15:42:08.592Z"
   },
   {
    "duration": 16,
    "start_time": "2021-06-16T15:42:08.645Z"
   },
   {
    "duration": 11,
    "start_time": "2021-06-16T15:42:08.664Z"
   },
   {
    "duration": 75,
    "start_time": "2021-06-16T15:42:08.677Z"
   },
   {
    "duration": 23,
    "start_time": "2021-06-16T15:42:08.755Z"
   },
   {
    "duration": 6,
    "start_time": "2021-06-16T15:42:08.782Z"
   },
   {
    "duration": 77,
    "start_time": "2021-06-16T15:42:08.791Z"
   },
   {
    "duration": 11,
    "start_time": "2021-06-16T15:42:08.870Z"
   },
   {
    "duration": 42,
    "start_time": "2021-06-16T15:42:08.883Z"
   },
   {
    "duration": 10,
    "start_time": "2021-06-16T15:42:08.928Z"
   },
   {
    "duration": 12,
    "start_time": "2021-06-16T15:42:08.940Z"
   },
   {
    "duration": 22,
    "start_time": "2021-06-16T15:42:08.954Z"
   },
   {
    "duration": 51,
    "start_time": "2021-06-16T15:42:08.979Z"
   },
   {
    "duration": 12,
    "start_time": "2021-06-16T15:42:09.032Z"
   },
   {
    "duration": 13,
    "start_time": "2021-06-16T15:42:09.046Z"
   },
   {
    "duration": 8,
    "start_time": "2021-06-16T15:42:09.061Z"
   },
   {
    "duration": 15,
    "start_time": "2021-06-16T15:42:09.072Z"
   },
   {
    "duration": 56,
    "start_time": "2021-06-16T15:42:09.090Z"
   },
   {
    "duration": 37,
    "start_time": "2021-06-16T15:42:09.148Z"
   },
   {
    "duration": 722,
    "start_time": "2021-06-16T15:42:09.187Z"
   },
   {
    "duration": 15,
    "start_time": "2021-06-16T15:42:09.914Z"
   },
   {
    "duration": 798,
    "start_time": "2021-06-16T15:42:09.933Z"
   },
   {
    "duration": 7,
    "start_time": "2021-06-16T15:42:10.733Z"
   },
   {
    "duration": 21,
    "start_time": "2021-06-16T15:42:10.742Z"
   },
   {
    "duration": 540,
    "start_time": "2021-06-16T15:42:10.765Z"
   },
   {
    "duration": 482,
    "start_time": "2021-06-16T15:42:11.308Z"
   },
   {
    "duration": 37,
    "start_time": "2021-06-16T15:42:11.792Z"
   },
   {
    "duration": 595,
    "start_time": "2021-06-16T15:42:11.831Z"
   },
   {
    "duration": 32,
    "start_time": "2021-06-16T15:42:12.428Z"
   },
   {
    "duration": 776,
    "start_time": "2021-06-16T15:42:12.462Z"
   },
   {
    "duration": 26,
    "start_time": "2021-06-16T15:42:13.241Z"
   },
   {
    "duration": 15,
    "start_time": "2021-06-16T15:42:13.269Z"
   },
   {
    "duration": 7,
    "start_time": "2021-06-16T15:42:13.286Z"
   },
   {
    "duration": 31,
    "start_time": "2021-06-16T15:42:13.296Z"
   },
   {
    "duration": 15,
    "start_time": "2021-06-16T15:42:13.330Z"
   },
   {
    "duration": 20,
    "start_time": "2021-06-16T15:42:13.347Z"
   },
   {
    "duration": 7,
    "start_time": "2021-06-16T15:42:13.369Z"
   },
   {
    "duration": 49,
    "start_time": "2021-06-16T15:42:13.379Z"
   },
   {
    "duration": 14,
    "start_time": "2021-06-16T15:42:13.430Z"
   },
   {
    "duration": 567,
    "start_time": "2021-06-16T15:43:03.124Z"
   },
   {
    "duration": 456,
    "start_time": "2021-06-16T15:43:21.983Z"
   },
   {
    "duration": 471,
    "start_time": "2021-06-16T15:44:20.739Z"
   },
   {
    "duration": 586,
    "start_time": "2021-06-16T15:44:25.422Z"
   },
   {
    "duration": 563,
    "start_time": "2021-06-16T15:46:33.838Z"
   },
   {
    "duration": 579,
    "start_time": "2021-06-16T15:50:34.020Z"
   },
   {
    "duration": 474,
    "start_time": "2021-06-16T15:50:55.501Z"
   },
   {
    "duration": 4,
    "start_time": "2021-06-16T15:51:42.653Z"
   },
   {
    "duration": 49,
    "start_time": "2021-06-16T15:51:42.660Z"
   },
   {
    "duration": 28,
    "start_time": "2021-06-16T15:51:42.712Z"
   },
   {
    "duration": 15,
    "start_time": "2021-06-16T15:51:42.743Z"
   },
   {
    "duration": 11,
    "start_time": "2021-06-16T15:51:42.760Z"
   },
   {
    "duration": 78,
    "start_time": "2021-06-16T15:51:42.773Z"
   },
   {
    "duration": 23,
    "start_time": "2021-06-16T15:51:42.854Z"
   },
   {
    "duration": 6,
    "start_time": "2021-06-16T15:51:42.880Z"
   },
   {
    "duration": 75,
    "start_time": "2021-06-16T15:51:42.889Z"
   },
   {
    "duration": 13,
    "start_time": "2021-06-16T15:51:42.967Z"
   },
   {
    "duration": 46,
    "start_time": "2021-06-16T15:51:42.982Z"
   },
   {
    "duration": 18,
    "start_time": "2021-06-16T15:51:43.030Z"
   },
   {
    "duration": 14,
    "start_time": "2021-06-16T15:51:43.050Z"
   },
   {
    "duration": 23,
    "start_time": "2021-06-16T15:51:43.066Z"
   },
   {
    "duration": 34,
    "start_time": "2021-06-16T15:51:43.092Z"
   },
   {
    "duration": 22,
    "start_time": "2021-06-16T15:51:43.129Z"
   },
   {
    "duration": 28,
    "start_time": "2021-06-16T15:51:43.154Z"
   },
   {
    "duration": 16,
    "start_time": "2021-06-16T15:51:43.185Z"
   },
   {
    "duration": 40,
    "start_time": "2021-06-16T15:51:43.204Z"
   },
   {
    "duration": 48,
    "start_time": "2021-06-16T15:51:43.247Z"
   },
   {
    "duration": 70,
    "start_time": "2021-06-16T15:51:43.298Z"
   },
   {
    "duration": 708,
    "start_time": "2021-06-16T15:51:43.371Z"
   },
   {
    "duration": 10,
    "start_time": "2021-06-16T15:51:44.084Z"
   },
   {
    "duration": 794,
    "start_time": "2021-06-16T15:51:44.096Z"
   },
   {
    "duration": 7,
    "start_time": "2021-06-16T15:51:44.892Z"
   },
   {
    "duration": 25,
    "start_time": "2021-06-16T15:51:44.901Z"
   },
   {
    "duration": 536,
    "start_time": "2021-06-16T15:51:44.928Z"
   },
   {
    "duration": 506,
    "start_time": "2021-06-16T15:51:45.466Z"
   },
   {
    "duration": 30,
    "start_time": "2021-06-16T15:51:45.975Z"
   },
   {
    "duration": 784,
    "start_time": "2021-06-16T15:51:46.024Z"
   },
   {
    "duration": 28,
    "start_time": "2021-06-16T15:51:46.810Z"
   },
   {
    "duration": 606,
    "start_time": "2021-06-16T15:51:46.841Z"
   },
   {
    "duration": 26,
    "start_time": "2021-06-16T15:51:47.449Z"
   },
   {
    "duration": 14,
    "start_time": "2021-06-16T15:51:47.477Z"
   },
   {
    "duration": 34,
    "start_time": "2021-06-16T15:51:47.493Z"
   },
   {
    "duration": 5,
    "start_time": "2021-06-16T15:51:47.530Z"
   },
   {
    "duration": 8,
    "start_time": "2021-06-16T15:51:47.538Z"
   },
   {
    "duration": 17,
    "start_time": "2021-06-16T15:51:47.548Z"
   },
   {
    "duration": 6,
    "start_time": "2021-06-16T15:51:47.567Z"
   },
   {
    "duration": 51,
    "start_time": "2021-06-16T15:51:47.576Z"
   },
   {
    "duration": 14,
    "start_time": "2021-06-16T15:51:47.630Z"
   },
   {
    "duration": 1433,
    "start_time": "2021-06-16T15:52:58.842Z"
   },
   {
    "duration": 48,
    "start_time": "2021-06-16T15:53:00.278Z"
   },
   {
    "duration": 32,
    "start_time": "2021-06-16T15:53:00.332Z"
   },
   {
    "duration": 13,
    "start_time": "2021-06-16T15:53:00.366Z"
   },
   {
    "duration": 43,
    "start_time": "2021-06-16T15:53:00.382Z"
   },
   {
    "duration": 42,
    "start_time": "2021-06-16T15:53:00.428Z"
   },
   {
    "duration": 23,
    "start_time": "2021-06-16T15:53:00.474Z"
   },
   {
    "duration": 26,
    "start_time": "2021-06-16T15:53:00.500Z"
   },
   {
    "duration": 71,
    "start_time": "2021-06-16T15:53:00.528Z"
   },
   {
    "duration": 23,
    "start_time": "2021-06-16T15:53:00.601Z"
   },
   {
    "duration": 19,
    "start_time": "2021-06-16T15:53:00.627Z"
   },
   {
    "duration": 21,
    "start_time": "2021-06-16T15:53:00.649Z"
   },
   {
    "duration": 15,
    "start_time": "2021-06-16T15:53:00.672Z"
   },
   {
    "duration": 42,
    "start_time": "2021-06-16T15:53:00.690Z"
   },
   {
    "duration": 14,
    "start_time": "2021-06-16T15:53:00.735Z"
   },
   {
    "duration": 16,
    "start_time": "2021-06-16T15:53:00.751Z"
   },
   {
    "duration": 22,
    "start_time": "2021-06-16T15:53:00.770Z"
   },
   {
    "duration": 28,
    "start_time": "2021-06-16T15:53:00.795Z"
   },
   {
    "duration": 29,
    "start_time": "2021-06-16T15:53:00.825Z"
   },
   {
    "duration": 35,
    "start_time": "2021-06-16T15:53:00.857Z"
   },
   {
    "duration": 41,
    "start_time": "2021-06-16T15:53:00.895Z"
   },
   {
    "duration": 745,
    "start_time": "2021-06-16T15:53:00.941Z"
   },
   {
    "duration": 10,
    "start_time": "2021-06-16T15:53:01.690Z"
   },
   {
    "duration": 825,
    "start_time": "2021-06-16T15:53:01.703Z"
   },
   {
    "duration": 8,
    "start_time": "2021-06-16T15:53:02.531Z"
   },
   {
    "duration": 12,
    "start_time": "2021-06-16T15:53:02.541Z"
   },
   {
    "duration": 564,
    "start_time": "2021-06-16T15:53:02.555Z"
   },
   {
    "duration": 508,
    "start_time": "2021-06-16T15:53:03.124Z"
   },
   {
    "duration": 24,
    "start_time": "2021-06-16T15:53:03.635Z"
   },
   {
    "duration": 681,
    "start_time": "2021-06-16T15:53:03.661Z"
   },
   {
    "duration": 24,
    "start_time": "2021-06-16T15:53:04.344Z"
   },
   {
    "duration": 729,
    "start_time": "2021-06-16T15:53:04.370Z"
   },
   {
    "duration": 37,
    "start_time": "2021-06-16T15:53:05.101Z"
   },
   {
    "duration": 14,
    "start_time": "2021-06-16T15:53:05.141Z"
   },
   {
    "duration": 14,
    "start_time": "2021-06-16T15:53:05.157Z"
   },
   {
    "duration": 8,
    "start_time": "2021-06-16T15:53:05.174Z"
   },
   {
    "duration": 9,
    "start_time": "2021-06-16T15:53:05.185Z"
   },
   {
    "duration": 37,
    "start_time": "2021-06-16T15:53:05.197Z"
   },
   {
    "duration": 7,
    "start_time": "2021-06-16T15:53:05.237Z"
   },
   {
    "duration": 17,
    "start_time": "2021-06-16T15:53:05.246Z"
   },
   {
    "duration": 22,
    "start_time": "2021-06-16T15:53:05.265Z"
   },
   {
    "duration": 1410,
    "start_time": "2021-06-16T15:54:16.333Z"
   },
   {
    "duration": 48,
    "start_time": "2021-06-16T15:54:17.745Z"
   },
   {
    "duration": 36,
    "start_time": "2021-06-16T15:54:17.796Z"
   },
   {
    "duration": 15,
    "start_time": "2021-06-16T15:54:17.835Z"
   },
   {
    "duration": 12,
    "start_time": "2021-06-16T15:54:17.852Z"
   },
   {
    "duration": 76,
    "start_time": "2021-06-16T15:54:17.866Z"
   },
   {
    "duration": 23,
    "start_time": "2021-06-16T15:54:17.944Z"
   },
   {
    "duration": 6,
    "start_time": "2021-06-16T15:54:17.970Z"
   },
   {
    "duration": 86,
    "start_time": "2021-06-16T15:54:17.978Z"
   },
   {
    "duration": 12,
    "start_time": "2021-06-16T15:54:18.068Z"
   },
   {
    "duration": 19,
    "start_time": "2021-06-16T15:54:18.082Z"
   },
   {
    "duration": 29,
    "start_time": "2021-06-16T15:54:18.103Z"
   },
   {
    "duration": 10,
    "start_time": "2021-06-16T15:54:18.135Z"
   },
   {
    "duration": 22,
    "start_time": "2021-06-16T15:54:18.148Z"
   },
   {
    "duration": 10,
    "start_time": "2021-06-16T15:54:18.172Z"
   },
   {
    "duration": 42,
    "start_time": "2021-06-16T15:54:18.184Z"
   },
   {
    "duration": 15,
    "start_time": "2021-06-16T15:54:18.228Z"
   },
   {
    "duration": 9,
    "start_time": "2021-06-16T15:54:18.245Z"
   },
   {
    "duration": 15,
    "start_time": "2021-06-16T15:54:18.256Z"
   },
   {
    "duration": 60,
    "start_time": "2021-06-16T15:54:18.274Z"
   },
   {
    "duration": 35,
    "start_time": "2021-06-16T15:54:18.336Z"
   },
   {
    "duration": 680,
    "start_time": "2021-06-16T15:54:18.374Z"
   },
   {
    "duration": 10,
    "start_time": "2021-06-16T15:54:19.059Z"
   },
   {
    "duration": 802,
    "start_time": "2021-06-16T15:54:19.072Z"
   },
   {
    "duration": 8,
    "start_time": "2021-06-16T15:54:19.876Z"
   },
   {
    "duration": 12,
    "start_time": "2021-06-16T15:54:19.886Z"
   },
   {
    "duration": 574,
    "start_time": "2021-06-16T15:54:19.901Z"
   },
   {
    "duration": 24,
    "start_time": "2021-06-16T15:54:20.477Z"
   },
   {
    "duration": 623,
    "start_time": "2021-06-16T15:54:20.504Z"
   },
   {
    "duration": 23,
    "start_time": "2021-06-16T15:54:21.129Z"
   },
   {
    "duration": 701,
    "start_time": "2021-06-16T15:54:21.155Z"
   },
   {
    "duration": 26,
    "start_time": "2021-06-16T15:54:21.858Z"
   },
   {
    "duration": 38,
    "start_time": "2021-06-16T15:54:21.886Z"
   },
   {
    "duration": 7,
    "start_time": "2021-06-16T15:54:21.926Z"
   },
   {
    "duration": 7,
    "start_time": "2021-06-16T15:54:21.935Z"
   },
   {
    "duration": 8,
    "start_time": "2021-06-16T15:54:21.944Z"
   },
   {
    "duration": 14,
    "start_time": "2021-06-16T15:54:21.955Z"
   },
   {
    "duration": 7,
    "start_time": "2021-06-16T15:54:21.971Z"
   },
   {
    "duration": 48,
    "start_time": "2021-06-16T15:54:21.980Z"
   },
   {
    "duration": 10,
    "start_time": "2021-06-16T15:54:22.031Z"
   },
   {
    "duration": 565,
    "start_time": "2021-06-16T15:54:52.620Z"
   },
   {
    "duration": 4,
    "start_time": "2021-06-16T15:55:08.635Z"
   },
   {
    "duration": 50,
    "start_time": "2021-06-16T15:55:08.641Z"
   },
   {
    "duration": 31,
    "start_time": "2021-06-16T15:55:08.694Z"
   },
   {
    "duration": 19,
    "start_time": "2021-06-16T15:55:08.728Z"
   },
   {
    "duration": 12,
    "start_time": "2021-06-16T15:55:08.750Z"
   },
   {
    "duration": 67,
    "start_time": "2021-06-16T15:55:08.764Z"
   },
   {
    "duration": 23,
    "start_time": "2021-06-16T15:55:08.834Z"
   },
   {
    "duration": 6,
    "start_time": "2021-06-16T15:55:08.859Z"
   },
   {
    "duration": 85,
    "start_time": "2021-06-16T15:55:08.868Z"
   },
   {
    "duration": 11,
    "start_time": "2021-06-16T15:55:08.955Z"
   },
   {
    "duration": 18,
    "start_time": "2021-06-16T15:55:08.969Z"
   },
   {
    "duration": 44,
    "start_time": "2021-06-16T15:55:08.989Z"
   },
   {
    "duration": 10,
    "start_time": "2021-06-16T15:55:09.037Z"
   },
   {
    "duration": 22,
    "start_time": "2021-06-16T15:55:09.050Z"
   },
   {
    "duration": 50,
    "start_time": "2021-06-16T15:55:09.074Z"
   },
   {
    "duration": 10,
    "start_time": "2021-06-16T15:55:09.126Z"
   },
   {
    "duration": 13,
    "start_time": "2021-06-16T15:55:09.138Z"
   },
   {
    "duration": 7,
    "start_time": "2021-06-16T15:55:09.154Z"
   },
   {
    "duration": 21,
    "start_time": "2021-06-16T15:55:09.163Z"
   },
   {
    "duration": 52,
    "start_time": "2021-06-16T15:55:09.187Z"
   },
   {
    "duration": 33,
    "start_time": "2021-06-16T15:55:09.241Z"
   },
   {
    "duration": 682,
    "start_time": "2021-06-16T15:55:09.276Z"
   },
   {
    "duration": 10,
    "start_time": "2021-06-16T15:55:09.960Z"
   },
   {
    "duration": 805,
    "start_time": "2021-06-16T15:55:09.974Z"
   },
   {
    "duration": 7,
    "start_time": "2021-06-16T15:55:10.782Z"
   },
   {
    "duration": 15,
    "start_time": "2021-06-16T15:55:10.791Z"
   },
   {
    "duration": 583,
    "start_time": "2021-06-16T15:55:10.825Z"
   },
   {
    "duration": 33,
    "start_time": "2021-06-16T15:55:11.411Z"
   },
   {
    "duration": 620,
    "start_time": "2021-06-16T15:55:11.447Z"
   },
   {
    "duration": 26,
    "start_time": "2021-06-16T15:55:12.070Z"
   },
   {
    "duration": 754,
    "start_time": "2021-06-16T15:55:12.098Z"
   },
   {
    "duration": 25,
    "start_time": "2021-06-16T15:55:12.855Z"
   },
   {
    "duration": 41,
    "start_time": "2021-06-16T15:55:12.883Z"
   },
   {
    "duration": 9,
    "start_time": "2021-06-16T15:55:12.927Z"
   },
   {
    "duration": 9,
    "start_time": "2021-06-16T15:55:12.939Z"
   },
   {
    "duration": 7,
    "start_time": "2021-06-16T15:55:12.951Z"
   },
   {
    "duration": 69,
    "start_time": "2021-06-16T15:55:12.960Z"
   },
   {
    "duration": 6,
    "start_time": "2021-06-16T15:55:13.032Z"
   },
   {
    "duration": 21,
    "start_time": "2021-06-16T15:55:13.040Z"
   },
   {
    "duration": 13,
    "start_time": "2021-06-16T15:55:13.064Z"
   },
   {
    "duration": 504,
    "start_time": "2021-06-16T15:56:12.186Z"
   },
   {
    "duration": 559,
    "start_time": "2021-06-16T15:56:19.989Z"
   },
   {
    "duration": 4,
    "start_time": "2021-06-16T15:56:28.005Z"
   },
   {
    "duration": 51,
    "start_time": "2021-06-16T15:56:28.012Z"
   },
   {
    "duration": 29,
    "start_time": "2021-06-16T15:56:28.065Z"
   },
   {
    "duration": 15,
    "start_time": "2021-06-16T15:56:28.125Z"
   },
   {
    "duration": 12,
    "start_time": "2021-06-16T15:56:28.142Z"
   },
   {
    "duration": 70,
    "start_time": "2021-06-16T15:56:28.157Z"
   },
   {
    "duration": 23,
    "start_time": "2021-06-16T15:56:28.232Z"
   },
   {
    "duration": 6,
    "start_time": "2021-06-16T15:56:28.258Z"
   },
   {
    "duration": 84,
    "start_time": "2021-06-16T15:56:28.266Z"
   },
   {
    "duration": 11,
    "start_time": "2021-06-16T15:56:28.353Z"
   },
   {
    "duration": 22,
    "start_time": "2021-06-16T15:56:28.366Z"
   },
   {
    "duration": 34,
    "start_time": "2021-06-16T15:56:28.390Z"
   },
   {
    "duration": 10,
    "start_time": "2021-06-16T15:56:28.427Z"
   },
   {
    "duration": 24,
    "start_time": "2021-06-16T15:56:28.439Z"
   },
   {
    "duration": 10,
    "start_time": "2021-06-16T15:56:28.465Z"
   },
   {
    "duration": 47,
    "start_time": "2021-06-16T15:56:28.477Z"
   },
   {
    "duration": 15,
    "start_time": "2021-06-16T15:56:28.527Z"
   },
   {
    "duration": 8,
    "start_time": "2021-06-16T15:56:28.545Z"
   },
   {
    "duration": 14,
    "start_time": "2021-06-16T15:56:28.558Z"
   },
   {
    "duration": 55,
    "start_time": "2021-06-16T15:56:28.575Z"
   },
   {
    "duration": 34,
    "start_time": "2021-06-16T15:56:28.632Z"
   },
   {
    "duration": 673,
    "start_time": "2021-06-16T15:56:28.668Z"
   },
   {
    "duration": 9,
    "start_time": "2021-06-16T15:56:29.343Z"
   },
   {
    "duration": 790,
    "start_time": "2021-06-16T15:56:29.354Z"
   },
   {
    "duration": 7,
    "start_time": "2021-06-16T15:56:30.146Z"
   },
   {
    "duration": 15,
    "start_time": "2021-06-16T15:56:30.156Z"
   },
   {
    "duration": 576,
    "start_time": "2021-06-16T15:56:30.174Z"
   },
   {
    "duration": 23,
    "start_time": "2021-06-16T15:56:30.752Z"
   },
   {
    "duration": 824,
    "start_time": "2021-06-16T15:56:30.778Z"
   },
   {
    "duration": 38,
    "start_time": "2021-06-16T15:56:31.606Z"
   },
   {
    "duration": 736,
    "start_time": "2021-06-16T15:56:31.646Z"
   },
   {
    "duration": 43,
    "start_time": "2021-06-16T15:56:32.385Z"
   },
   {
    "duration": 17,
    "start_time": "2021-06-16T15:56:32.430Z"
   },
   {
    "duration": 9,
    "start_time": "2021-06-16T15:56:32.450Z"
   },
   {
    "duration": 8,
    "start_time": "2021-06-16T15:56:32.461Z"
   },
   {
    "duration": 11,
    "start_time": "2021-06-16T15:56:32.471Z"
   },
   {
    "duration": 53,
    "start_time": "2021-06-16T15:56:32.484Z"
   },
   {
    "duration": 6,
    "start_time": "2021-06-16T15:56:32.540Z"
   },
   {
    "duration": 7,
    "start_time": "2021-06-16T15:56:32.549Z"
   },
   {
    "duration": 8,
    "start_time": "2021-06-16T15:56:32.558Z"
   },
   {
    "duration": 479,
    "start_time": "2021-06-16T15:58:41.663Z"
   },
   {
    "duration": 493,
    "start_time": "2021-06-16T16:03:05.856Z"
   },
   {
    "duration": 476,
    "start_time": "2021-06-16T16:03:15.021Z"
   },
   {
    "duration": 514,
    "start_time": "2021-06-16T16:03:51.167Z"
   },
   {
    "duration": 4,
    "start_time": "2021-06-16T16:03:57.992Z"
   },
   {
    "duration": 58,
    "start_time": "2021-06-16T16:03:57.998Z"
   },
   {
    "duration": 27,
    "start_time": "2021-06-16T16:03:58.059Z"
   },
   {
    "duration": 38,
    "start_time": "2021-06-16T16:03:58.089Z"
   },
   {
    "duration": 11,
    "start_time": "2021-06-16T16:03:58.129Z"
   },
   {
    "duration": 48,
    "start_time": "2021-06-16T16:03:58.143Z"
   },
   {
    "duration": 44,
    "start_time": "2021-06-16T16:03:58.194Z"
   },
   {
    "duration": 6,
    "start_time": "2021-06-16T16:03:58.240Z"
   },
   {
    "duration": 76,
    "start_time": "2021-06-16T16:03:58.250Z"
   },
   {
    "duration": 18,
    "start_time": "2021-06-16T16:03:58.330Z"
   },
   {
    "duration": 29,
    "start_time": "2021-06-16T16:03:58.350Z"
   },
   {
    "duration": 15,
    "start_time": "2021-06-16T16:03:58.381Z"
   },
   {
    "duration": 29,
    "start_time": "2021-06-16T16:03:58.399Z"
   },
   {
    "duration": 24,
    "start_time": "2021-06-16T16:03:58.431Z"
   },
   {
    "duration": 11,
    "start_time": "2021-06-16T16:03:58.457Z"
   },
   {
    "duration": 13,
    "start_time": "2021-06-16T16:03:58.471Z"
   },
   {
    "duration": 42,
    "start_time": "2021-06-16T16:03:58.487Z"
   },
   {
    "duration": 8,
    "start_time": "2021-06-16T16:03:58.532Z"
   },
   {
    "duration": 18,
    "start_time": "2021-06-16T16:03:58.542Z"
   },
   {
    "duration": 24,
    "start_time": "2021-06-16T16:03:58.562Z"
   },
   {
    "duration": 36,
    "start_time": "2021-06-16T16:03:58.624Z"
   },
   {
    "duration": 691,
    "start_time": "2021-06-16T16:03:58.662Z"
   },
   {
    "duration": 9,
    "start_time": "2021-06-16T16:03:59.356Z"
   },
   {
    "duration": 819,
    "start_time": "2021-06-16T16:03:59.368Z"
   },
   {
    "duration": 8,
    "start_time": "2021-06-16T16:04:00.190Z"
   },
   {
    "duration": 27,
    "start_time": "2021-06-16T16:04:00.200Z"
   },
   {
    "duration": 576,
    "start_time": "2021-06-16T16:04:00.232Z"
   },
   {
    "duration": 570,
    "start_time": "2021-06-16T16:04:00.811Z"
   },
   {
    "duration": 40,
    "start_time": "2021-06-16T16:04:01.384Z"
   },
   {
    "duration": 861,
    "start_time": "2021-06-16T16:04:01.426Z"
   },
   {
    "duration": 24,
    "start_time": "2021-06-16T16:04:02.289Z"
   },
   {
    "duration": 624,
    "start_time": "2021-06-16T16:04:02.324Z"
   },
   {
    "duration": 24,
    "start_time": "2021-06-16T16:04:02.951Z"
   },
   {
    "duration": 22,
    "start_time": "2021-06-16T16:04:02.978Z"
   },
   {
    "duration": 26,
    "start_time": "2021-06-16T16:04:03.002Z"
   },
   {
    "duration": 23,
    "start_time": "2021-06-16T16:04:03.031Z"
   },
   {
    "duration": 20,
    "start_time": "2021-06-16T16:04:03.057Z"
   },
   {
    "duration": 37,
    "start_time": "2021-06-16T16:04:03.079Z"
   },
   {
    "duration": 15,
    "start_time": "2021-06-16T16:04:03.118Z"
   },
   {
    "duration": 24,
    "start_time": "2021-06-16T16:04:03.136Z"
   },
   {
    "duration": 30,
    "start_time": "2021-06-16T16:04:03.162Z"
   },
   {
    "duration": 557,
    "start_time": "2021-06-16T16:04:29.122Z"
   },
   {
    "duration": 507,
    "start_time": "2021-06-16T16:04:39.746Z"
   },
   {
    "duration": 785,
    "start_time": "2021-06-16T16:04:53.529Z"
   },
   {
    "duration": 847,
    "start_time": "2021-06-16T16:05:53.303Z"
   },
   {
    "duration": 493,
    "start_time": "2021-06-16T16:06:22.882Z"
   },
   {
    "duration": 530,
    "start_time": "2021-06-16T16:06:38.111Z"
   },
   {
    "duration": 4,
    "start_time": "2021-06-16T16:31:42.673Z"
   },
   {
    "duration": 5078,
    "start_time": "2021-06-16T16:41:16.119Z"
   },
   {
    "duration": 16,
    "start_time": "2021-06-16T16:47:28.147Z"
   },
   {
    "duration": 31,
    "start_time": "2021-06-16T17:00:38.666Z"
   },
   {
    "duration": 3,
    "start_time": "2021-06-16T17:01:03.381Z"
   },
   {
    "duration": 32,
    "start_time": "2021-06-16T17:01:04.017Z"
   },
   {
    "duration": 105,
    "start_time": "2021-06-16T17:06:22.928Z"
   },
   {
    "duration": 281,
    "start_time": "2021-06-16T17:06:56.313Z"
   },
   {
    "duration": 36739,
    "start_time": "2021-06-16T17:08:38.812Z"
   },
   {
    "duration": 36901,
    "start_time": "2021-06-16T17:09:36.559Z"
   },
   {
    "duration": 36691,
    "start_time": "2021-06-16T17:10:59.068Z"
   },
   {
    "duration": 31,
    "start_time": "2021-06-16T17:14:12.355Z"
   },
   {
    "duration": 17,
    "start_time": "2021-06-16T17:18:07.626Z"
   },
   {
    "duration": 444,
    "start_time": "2021-06-16T17:19:58.631Z"
   },
   {
    "duration": 33,
    "start_time": "2021-06-16T17:22:36.010Z"
   },
   {
    "duration": 8,
    "start_time": "2021-06-16T17:27:03.646Z"
   },
   {
    "duration": 286,
    "start_time": "2021-06-16T17:27:41.097Z"
   },
   {
    "duration": 313,
    "start_time": "2021-06-16T17:27:54.841Z"
   },
   {
    "duration": 243,
    "start_time": "2021-06-16T17:28:15.121Z"
   },
   {
    "duration": 251,
    "start_time": "2021-06-16T17:28:22.176Z"
   },
   {
    "duration": 306,
    "start_time": "2021-06-16T17:28:27.921Z"
   },
   {
    "duration": 645,
    "start_time": "2021-06-16T17:31:37.626Z"
   },
   {
    "duration": 29,
    "start_time": "2021-06-16T17:31:47.512Z"
   },
   {
    "duration": 26,
    "start_time": "2021-06-16T17:32:11.456Z"
   },
   {
    "duration": 3,
    "start_time": "2021-06-16T17:43:32.529Z"
   },
   {
    "duration": 58,
    "start_time": "2021-06-16T17:43:32.535Z"
   },
   {
    "duration": 43,
    "start_time": "2021-06-16T17:43:32.597Z"
   },
   {
    "duration": 17,
    "start_time": "2021-06-16T17:43:32.643Z"
   },
   {
    "duration": 10,
    "start_time": "2021-06-16T17:43:32.663Z"
   },
   {
    "duration": 76,
    "start_time": "2021-06-16T17:43:32.676Z"
   },
   {
    "duration": 23,
    "start_time": "2021-06-16T17:43:32.754Z"
   },
   {
    "duration": 6,
    "start_time": "2021-06-16T17:43:32.779Z"
   },
   {
    "duration": 79,
    "start_time": "2021-06-16T17:43:32.789Z"
   },
   {
    "duration": 13,
    "start_time": "2021-06-16T17:43:32.871Z"
   },
   {
    "duration": 47,
    "start_time": "2021-06-16T17:43:32.887Z"
   },
   {
    "duration": 12,
    "start_time": "2021-06-16T17:43:32.937Z"
   },
   {
    "duration": 10,
    "start_time": "2021-06-16T17:43:32.952Z"
   },
   {
    "duration": 29,
    "start_time": "2021-06-16T17:43:32.965Z"
   },
   {
    "duration": 38,
    "start_time": "2021-06-16T17:43:32.996Z"
   },
   {
    "duration": 13,
    "start_time": "2021-06-16T17:43:33.037Z"
   },
   {
    "duration": 17,
    "start_time": "2021-06-16T17:43:33.052Z"
   },
   {
    "duration": 21,
    "start_time": "2021-06-16T17:43:33.071Z"
   },
   {
    "duration": 46,
    "start_time": "2021-06-16T17:43:33.094Z"
   },
   {
    "duration": 26,
    "start_time": "2021-06-16T17:43:33.142Z"
   },
   {
    "duration": 68,
    "start_time": "2021-06-16T17:43:33.171Z"
   },
   {
    "duration": 868,
    "start_time": "2021-06-16T17:43:33.243Z"
   },
   {
    "duration": 19,
    "start_time": "2021-06-16T17:43:34.114Z"
   },
   {
    "duration": 997,
    "start_time": "2021-06-16T17:43:34.136Z"
   },
   {
    "duration": 10,
    "start_time": "2021-06-16T17:43:35.136Z"
   },
   {
    "duration": 12,
    "start_time": "2021-06-16T17:43:35.148Z"
   },
   {
    "duration": 726,
    "start_time": "2021-06-16T17:43:35.166Z"
   },
   {
    "duration": 543,
    "start_time": "2021-06-16T17:43:35.894Z"
   },
   {
    "duration": 5479,
    "start_time": "2021-06-16T17:43:36.439Z"
   },
   {
    "duration": 18,
    "start_time": "2021-06-16T17:43:41.923Z"
   },
   {
    "duration": 4,
    "start_time": "2021-06-16T17:43:41.944Z"
   },
   {
    "duration": 34,
    "start_time": "2021-06-16T17:43:41.951Z"
   },
   {
    "duration": 328,
    "start_time": "2021-06-16T17:43:41.987Z"
   },
   {
    "duration": 27,
    "start_time": "2021-06-16T17:43:42.318Z"
   },
   {
    "duration": 25,
    "start_time": "2021-06-16T17:43:42.348Z"
   },
   {
    "duration": 773,
    "start_time": "2021-06-16T17:43:42.375Z"
   },
   {
    "duration": 25,
    "start_time": "2021-06-16T17:43:43.152Z"
   },
   {
    "duration": 752,
    "start_time": "2021-06-16T17:43:43.180Z"
   },
   {
    "duration": 26,
    "start_time": "2021-06-16T17:43:43.934Z"
   },
   {
    "duration": 15,
    "start_time": "2021-06-16T17:43:43.962Z"
   },
   {
    "duration": 13,
    "start_time": "2021-06-16T17:43:43.979Z"
   },
   {
    "duration": 35,
    "start_time": "2021-06-16T17:43:43.995Z"
   },
   {
    "duration": 9,
    "start_time": "2021-06-16T17:43:44.033Z"
   },
   {
    "duration": 18,
    "start_time": "2021-06-16T17:43:44.045Z"
   },
   {
    "duration": 7,
    "start_time": "2021-06-16T17:43:44.066Z"
   },
   {
    "duration": 51,
    "start_time": "2021-06-16T17:43:44.075Z"
   },
   {
    "duration": 7,
    "start_time": "2021-06-16T17:43:44.128Z"
   },
   {
    "duration": 339,
    "start_time": "2021-06-16T19:44:08.597Z"
   },
   {
    "duration": 3,
    "start_time": "2021-06-16T19:44:15.349Z"
   },
   {
    "duration": 6,
    "start_time": "2021-06-16T19:44:16.140Z"
   },
   {
    "duration": 1470,
    "start_time": "2021-06-16T19:58:58.113Z"
   },
   {
    "duration": 46,
    "start_time": "2021-06-16T19:58:59.586Z"
   },
   {
    "duration": 33,
    "start_time": "2021-06-16T19:58:59.635Z"
   },
   {
    "duration": 14,
    "start_time": "2021-06-16T19:58:59.671Z"
   },
   {
    "duration": 40,
    "start_time": "2021-06-16T19:58:59.687Z"
   },
   {
    "duration": 43,
    "start_time": "2021-06-16T19:58:59.729Z"
   },
   {
    "duration": 22,
    "start_time": "2021-06-16T19:58:59.774Z"
   },
   {
    "duration": 6,
    "start_time": "2021-06-16T19:58:59.823Z"
   },
   {
    "duration": 52,
    "start_time": "2021-06-16T19:58:59.834Z"
   },
   {
    "duration": 36,
    "start_time": "2021-06-16T19:58:59.889Z"
   },
   {
    "duration": 20,
    "start_time": "2021-06-16T19:58:59.927Z"
   },
   {
    "duration": 11,
    "start_time": "2021-06-16T19:58:59.950Z"
   },
   {
    "duration": 12,
    "start_time": "2021-06-16T19:58:59.964Z"
   },
   {
    "duration": 56,
    "start_time": "2021-06-16T19:58:59.978Z"
   },
   {
    "duration": 12,
    "start_time": "2021-06-16T19:59:00.036Z"
   },
   {
    "duration": 11,
    "start_time": "2021-06-16T19:59:00.050Z"
   },
   {
    "duration": 13,
    "start_time": "2021-06-16T19:59:00.063Z"
   },
   {
    "duration": 45,
    "start_time": "2021-06-16T19:59:00.079Z"
   },
   {
    "duration": 16,
    "start_time": "2021-06-16T19:59:00.127Z"
   },
   {
    "duration": 24,
    "start_time": "2021-06-16T19:59:00.146Z"
   },
   {
    "duration": 70,
    "start_time": "2021-06-16T19:59:00.172Z"
   },
   {
    "duration": 786,
    "start_time": "2021-06-16T19:59:00.244Z"
   },
   {
    "duration": 12,
    "start_time": "2021-06-16T19:59:01.033Z"
   },
   {
    "duration": 834,
    "start_time": "2021-06-16T19:59:01.048Z"
   },
   {
    "duration": 8,
    "start_time": "2021-06-16T19:59:01.884Z"
   },
   {
    "duration": 29,
    "start_time": "2021-06-16T19:59:01.895Z"
   },
   {
    "duration": 590,
    "start_time": "2021-06-16T19:59:01.929Z"
   },
   {
    "duration": 510,
    "start_time": "2021-06-16T19:59:02.525Z"
   },
   {
    "duration": 5355,
    "start_time": "2021-06-16T19:59:03.038Z"
   },
   {
    "duration": 29,
    "start_time": "2021-06-16T19:59:08.395Z"
   },
   {
    "duration": 4,
    "start_time": "2021-06-16T19:59:08.426Z"
   },
   {
    "duration": 352,
    "start_time": "2021-06-16T19:59:08.432Z"
   },
   {
    "duration": -127,
    "start_time": "2021-06-16T19:59:08.913Z"
   },
   {
    "duration": -128,
    "start_time": "2021-06-16T19:59:08.916Z"
   },
   {
    "duration": -131,
    "start_time": "2021-06-16T19:59:08.920Z"
   },
   {
    "duration": -131,
    "start_time": "2021-06-16T19:59:08.922Z"
   },
   {
    "duration": -132,
    "start_time": "2021-06-16T19:59:08.924Z"
   },
   {
    "duration": -133,
    "start_time": "2021-06-16T19:59:08.926Z"
   },
   {
    "duration": -137,
    "start_time": "2021-06-16T19:59:08.932Z"
   },
   {
    "duration": -139,
    "start_time": "2021-06-16T19:59:08.935Z"
   },
   {
    "duration": -140,
    "start_time": "2021-06-16T19:59:08.937Z"
   },
   {
    "duration": -140,
    "start_time": "2021-06-16T19:59:08.939Z"
   },
   {
    "duration": -141,
    "start_time": "2021-06-16T19:59:08.941Z"
   },
   {
    "duration": -142,
    "start_time": "2021-06-16T19:59:08.943Z"
   },
   {
    "duration": -141,
    "start_time": "2021-06-16T19:59:08.944Z"
   },
   {
    "duration": -142,
    "start_time": "2021-06-16T19:59:08.946Z"
   },
   {
    "duration": -144,
    "start_time": "2021-06-16T19:59:08.949Z"
   },
   {
    "duration": -145,
    "start_time": "2021-06-16T19:59:08.951Z"
   },
   {
    "duration": 3816,
    "start_time": "2021-06-16T20:00:22.231Z"
   },
   {
    "duration": 30,
    "start_time": "2021-06-16T20:01:04.785Z"
   },
   {
    "duration": 38,
    "start_time": "2021-06-16T20:01:09.962Z"
   },
   {
    "duration": 32,
    "start_time": "2021-06-16T20:01:27.847Z"
   },
   {
    "duration": 38,
    "start_time": "2021-06-16T20:01:41.250Z"
   },
   {
    "duration": 51,
    "start_time": "2021-06-16T20:02:36.500Z"
   },
   {
    "duration": 55,
    "start_time": "2021-06-16T20:03:13.863Z"
   },
   {
    "duration": 52,
    "start_time": "2021-06-16T20:03:27.912Z"
   },
   {
    "duration": 55,
    "start_time": "2021-06-16T20:03:41.591Z"
   },
   {
    "duration": 4,
    "start_time": "2021-06-16T20:08:59.289Z"
   },
   {
    "duration": 56,
    "start_time": "2021-06-16T20:09:00.138Z"
   },
   {
    "duration": 1710,
    "start_time": "2021-06-17T11:00:59.859Z"
   },
   {
    "duration": 52,
    "start_time": "2021-06-17T11:01:01.572Z"
   },
   {
    "duration": 38,
    "start_time": "2021-06-17T11:01:01.627Z"
   },
   {
    "duration": 15,
    "start_time": "2021-06-17T11:01:01.684Z"
   },
   {
    "duration": 19,
    "start_time": "2021-06-17T11:01:01.702Z"
   },
   {
    "duration": 74,
    "start_time": "2021-06-17T11:01:01.724Z"
   },
   {
    "duration": 23,
    "start_time": "2021-06-17T11:01:01.800Z"
   },
   {
    "duration": 6,
    "start_time": "2021-06-17T11:01:01.825Z"
   },
   {
    "duration": 77,
    "start_time": "2021-06-17T11:01:01.835Z"
   },
   {
    "duration": 12,
    "start_time": "2021-06-17T11:01:01.915Z"
   },
   {
    "duration": 31,
    "start_time": "2021-06-17T11:01:01.929Z"
   },
   {
    "duration": 27,
    "start_time": "2021-06-17T11:01:01.963Z"
   },
   {
    "duration": 25,
    "start_time": "2021-06-17T11:01:01.993Z"
   },
   {
    "duration": 27,
    "start_time": "2021-06-17T11:01:02.020Z"
   },
   {
    "duration": 18,
    "start_time": "2021-06-17T11:01:02.049Z"
   },
   {
    "duration": 29,
    "start_time": "2021-06-17T11:01:02.070Z"
   },
   {
    "duration": 35,
    "start_time": "2021-06-17T11:01:02.101Z"
   },
   {
    "duration": 24,
    "start_time": "2021-06-17T11:01:02.138Z"
   },
   {
    "duration": 22,
    "start_time": "2021-06-17T11:01:02.164Z"
   },
   {
    "duration": 24,
    "start_time": "2021-06-17T11:01:02.189Z"
   },
   {
    "duration": 36,
    "start_time": "2021-06-17T11:01:02.216Z"
   },
   {
    "duration": 715,
    "start_time": "2021-06-17T11:01:02.254Z"
   },
   {
    "duration": 14,
    "start_time": "2021-06-17T11:01:02.972Z"
   },
   {
    "duration": 836,
    "start_time": "2021-06-17T11:01:02.989Z"
   },
   {
    "duration": 7,
    "start_time": "2021-06-17T11:01:03.828Z"
   },
   {
    "duration": 11,
    "start_time": "2021-06-17T11:01:03.837Z"
   },
   {
    "duration": 643,
    "start_time": "2021-06-17T11:01:03.853Z"
   },
   {
    "duration": 516,
    "start_time": "2021-06-17T11:01:04.499Z"
   },
   {
    "duration": 5018,
    "start_time": "2021-06-17T11:01:05.018Z"
   },
   {
    "duration": 16,
    "start_time": "2021-06-17T11:01:10.038Z"
   },
   {
    "duration": 29,
    "start_time": "2021-06-17T11:01:10.057Z"
   },
   {
    "duration": 60,
    "start_time": "2021-06-17T11:01:10.089Z"
   },
   {
    "duration": 313,
    "start_time": "2021-06-17T11:01:10.152Z"
   },
   {
    "duration": 736,
    "start_time": "2021-06-17T11:01:10.468Z"
   },
   {
    "duration": 26,
    "start_time": "2021-06-17T11:01:11.207Z"
   },
   {
    "duration": 871,
    "start_time": "2021-06-17T11:01:11.236Z"
   },
   {
    "duration": 24,
    "start_time": "2021-06-17T11:01:12.110Z"
   },
   {
    "duration": 886,
    "start_time": "2021-06-17T11:01:12.136Z"
   },
   {
    "duration": 27,
    "start_time": "2021-06-17T11:01:13.024Z"
   },
   {
    "duration": 32,
    "start_time": "2021-06-17T11:01:13.054Z"
   },
   {
    "duration": 10,
    "start_time": "2021-06-17T11:01:13.088Z"
   },
   {
    "duration": 8,
    "start_time": "2021-06-17T11:01:13.100Z"
   },
   {
    "duration": 7,
    "start_time": "2021-06-17T11:01:13.111Z"
   },
   {
    "duration": 14,
    "start_time": "2021-06-17T11:01:13.120Z"
   },
   {
    "duration": 8,
    "start_time": "2021-06-17T11:01:13.136Z"
   },
   {
    "duration": 7,
    "start_time": "2021-06-17T11:01:13.186Z"
   },
   {
    "duration": 9,
    "start_time": "2021-06-17T11:01:13.196Z"
   },
   {
    "duration": 23,
    "start_time": "2021-06-17T11:02:54.420Z"
   },
   {
    "duration": 703,
    "start_time": "2021-06-17T11:03:17.398Z"
   },
   {
    "duration": 5,
    "start_time": "2021-06-17T11:03:26.921Z"
   },
   {
    "duration": 68,
    "start_time": "2021-06-17T11:03:26.929Z"
   },
   {
    "duration": 28,
    "start_time": "2021-06-17T11:03:27.001Z"
   },
   {
    "duration": 19,
    "start_time": "2021-06-17T11:03:27.033Z"
   },
   {
    "duration": 43,
    "start_time": "2021-06-17T11:03:27.055Z"
   },
   {
    "duration": 47,
    "start_time": "2021-06-17T11:03:27.101Z"
   },
   {
    "duration": 55,
    "start_time": "2021-06-17T11:03:27.151Z"
   },
   {
    "duration": 7,
    "start_time": "2021-06-17T11:03:27.210Z"
   },
   {
    "duration": 85,
    "start_time": "2021-06-17T11:03:27.220Z"
   },
   {
    "duration": 15,
    "start_time": "2021-06-17T11:03:27.307Z"
   },
   {
    "duration": 26,
    "start_time": "2021-06-17T11:03:27.325Z"
   },
   {
    "duration": 35,
    "start_time": "2021-06-17T11:03:27.354Z"
   },
   {
    "duration": 19,
    "start_time": "2021-06-17T11:03:27.392Z"
   },
   {
    "duration": 36,
    "start_time": "2021-06-17T11:03:27.413Z"
   },
   {
    "duration": 15,
    "start_time": "2021-06-17T11:03:27.452Z"
   },
   {
    "duration": 23,
    "start_time": "2021-06-17T11:03:27.469Z"
   },
   {
    "duration": 25,
    "start_time": "2021-06-17T11:03:27.494Z"
   },
   {
    "duration": 23,
    "start_time": "2021-06-17T11:03:27.521Z"
   },
   {
    "duration": 24,
    "start_time": "2021-06-17T11:03:27.547Z"
   },
   {
    "duration": 36,
    "start_time": "2021-06-17T11:03:27.574Z"
   },
   {
    "duration": 34,
    "start_time": "2021-06-17T11:03:27.612Z"
   },
   {
    "duration": 993,
    "start_time": "2021-06-17T11:03:27.649Z"
   },
   {
    "duration": 12,
    "start_time": "2021-06-17T11:03:28.648Z"
   },
   {
    "duration": 932,
    "start_time": "2021-06-17T11:03:28.664Z"
   },
   {
    "duration": 10,
    "start_time": "2021-06-17T11:03:29.599Z"
   },
   {
    "duration": 13,
    "start_time": "2021-06-17T11:03:29.611Z"
   },
   {
    "duration": 776,
    "start_time": "2021-06-17T11:03:29.627Z"
   },
   {
    "duration": 563,
    "start_time": "2021-06-17T11:03:30.405Z"
   },
   {
    "duration": 5452,
    "start_time": "2021-06-17T11:03:30.970Z"
   },
   {
    "duration": 15,
    "start_time": "2021-06-17T11:03:36.424Z"
   },
   {
    "duration": 9,
    "start_time": "2021-06-17T11:03:36.441Z"
   },
   {
    "duration": 82,
    "start_time": "2021-06-17T11:03:36.452Z"
   },
   {
    "duration": 332,
    "start_time": "2021-06-17T11:03:36.536Z"
   },
   {
    "duration": 37,
    "start_time": "2021-06-17T11:03:36.871Z"
   },
   {
    "duration": 27,
    "start_time": "2021-06-17T11:03:36.911Z"
   },
   {
    "duration": 778,
    "start_time": "2021-06-17T11:03:36.940Z"
   },
   {
    "duration": 25,
    "start_time": "2021-06-17T11:03:37.720Z"
   },
   {
    "duration": 900,
    "start_time": "2021-06-17T11:03:37.747Z"
   },
   {
    "duration": 41,
    "start_time": "2021-06-17T11:03:38.650Z"
   },
   {
    "duration": 764,
    "start_time": "2021-06-17T11:03:38.694Z"
   },
   {
    "duration": 38,
    "start_time": "2021-06-17T11:03:39.461Z"
   },
   {
    "duration": 15,
    "start_time": "2021-06-17T11:03:39.501Z"
   },
   {
    "duration": 6,
    "start_time": "2021-06-17T11:03:39.519Z"
   },
   {
    "duration": 6,
    "start_time": "2021-06-17T11:03:39.528Z"
   },
   {
    "duration": 8,
    "start_time": "2021-06-17T11:03:39.537Z"
   },
   {
    "duration": 51,
    "start_time": "2021-06-17T11:03:39.548Z"
   },
   {
    "duration": 6,
    "start_time": "2021-06-17T11:03:39.601Z"
   },
   {
    "duration": 10,
    "start_time": "2021-06-17T11:03:39.610Z"
   },
   {
    "duration": 9,
    "start_time": "2021-06-17T11:03:39.622Z"
   },
   {
    "duration": 696,
    "start_time": "2021-06-17T11:04:18.259Z"
   },
   {
    "duration": 720,
    "start_time": "2021-06-17T11:04:26.849Z"
   },
   {
    "duration": 724,
    "start_time": "2021-06-17T11:04:35.382Z"
   },
   {
    "duration": 1366,
    "start_time": "2021-06-17T11:06:24.518Z"
   },
   {
    "duration": 844,
    "start_time": "2021-06-17T11:06:32.467Z"
   },
   {
    "duration": 171,
    "start_time": "2021-06-17T11:20:05.416Z"
   },
   {
    "duration": 428,
    "start_time": "2021-06-17T11:20:13.662Z"
   },
   {
    "duration": 8,
    "start_time": "2021-06-17T11:34:13.941Z"
   },
   {
    "duration": 6,
    "start_time": "2021-06-17T11:36:30.514Z"
   },
   {
    "duration": 12,
    "start_time": "2021-06-17T11:37:17.337Z"
   },
   {
    "duration": 9,
    "start_time": "2021-06-17T11:37:59.561Z"
   },
   {
    "duration": 8,
    "start_time": "2021-06-17T11:38:57.356Z"
   },
   {
    "duration": 9,
    "start_time": "2021-06-17T11:39:45.139Z"
   },
   {
    "duration": 9,
    "start_time": "2021-06-17T11:43:25.142Z"
   },
   {
    "duration": 8,
    "start_time": "2021-06-17T11:43:32.276Z"
   },
   {
    "duration": 3,
    "start_time": "2021-06-17T11:43:55.268Z"
   },
   {
    "duration": 52,
    "start_time": "2021-06-17T11:43:55.274Z"
   },
   {
    "duration": 58,
    "start_time": "2021-06-17T11:43:55.329Z"
   },
   {
    "duration": 15,
    "start_time": "2021-06-17T11:43:55.389Z"
   },
   {
    "duration": 12,
    "start_time": "2021-06-17T11:43:55.406Z"
   },
   {
    "duration": 77,
    "start_time": "2021-06-17T11:43:55.420Z"
   },
   {
    "duration": 24,
    "start_time": "2021-06-17T11:43:55.499Z"
   },
   {
    "duration": 6,
    "start_time": "2021-06-17T11:43:55.527Z"
   },
   {
    "duration": 83,
    "start_time": "2021-06-17T11:43:55.535Z"
   },
   {
    "duration": 13,
    "start_time": "2021-06-17T11:43:55.620Z"
   },
   {
    "duration": 25,
    "start_time": "2021-06-17T11:43:55.636Z"
   },
   {
    "duration": 11,
    "start_time": "2021-06-17T11:43:55.686Z"
   },
   {
    "duration": 12,
    "start_time": "2021-06-17T11:43:55.699Z"
   },
   {
    "duration": 23,
    "start_time": "2021-06-17T11:43:55.714Z"
   },
   {
    "duration": 47,
    "start_time": "2021-06-17T11:43:55.740Z"
   },
   {
    "duration": 14,
    "start_time": "2021-06-17T11:43:55.789Z"
   },
   {
    "duration": 16,
    "start_time": "2021-06-17T11:43:55.806Z"
   },
   {
    "duration": 9,
    "start_time": "2021-06-17T11:43:55.824Z"
   },
   {
    "duration": 14,
    "start_time": "2021-06-17T11:43:55.836Z"
   },
   {
    "duration": 54,
    "start_time": "2021-06-17T11:43:55.852Z"
   },
   {
    "duration": 36,
    "start_time": "2021-06-17T11:43:55.909Z"
   },
   {
    "duration": 895,
    "start_time": "2021-06-17T11:43:55.948Z"
   },
   {
    "duration": 12,
    "start_time": "2021-06-17T11:43:56.850Z"
   },
   {
    "duration": 935,
    "start_time": "2021-06-17T11:43:56.866Z"
   },
   {
    "duration": 7,
    "start_time": "2021-06-17T11:43:57.803Z"
   },
   {
    "duration": 11,
    "start_time": "2021-06-17T11:43:57.813Z"
   },
   {
    "duration": 726,
    "start_time": "2021-06-17T11:43:57.826Z"
   },
   {
    "duration": 552,
    "start_time": "2021-06-17T11:43:58.554Z"
   },
   {
    "duration": 5272,
    "start_time": "2021-06-17T11:43:59.108Z"
   },
   {
    "duration": 15,
    "start_time": "2021-06-17T11:44:04.386Z"
   },
   {
    "duration": 9,
    "start_time": "2021-06-17T11:44:04.403Z"
   },
   {
    "duration": 76,
    "start_time": "2021-06-17T11:44:04.414Z"
   },
   {
    "duration": 330,
    "start_time": "2021-06-17T11:44:04.493Z"
   },
   {
    "duration": 25,
    "start_time": "2021-06-17T11:44:04.826Z"
   },
   {
    "duration": 41,
    "start_time": "2021-06-17T11:44:04.853Z"
   },
   {
    "duration": 752,
    "start_time": "2021-06-17T11:44:04.897Z"
   },
   {
    "duration": 16,
    "start_time": "2021-06-17T11:44:05.652Z"
   },
   {
    "duration": 12,
    "start_time": "2021-06-17T11:44:05.686Z"
   },
   {
    "duration": 11,
    "start_time": "2021-06-17T11:44:05.700Z"
   },
   {
    "duration": 25,
    "start_time": "2021-06-17T11:44:05.714Z"
   },
   {
    "duration": 788,
    "start_time": "2021-06-17T11:44:05.741Z"
   },
   {
    "duration": 24,
    "start_time": "2021-06-17T11:44:06.532Z"
   },
   {
    "duration": 823,
    "start_time": "2021-06-17T11:44:06.558Z"
   },
   {
    "duration": 15,
    "start_time": "2021-06-17T11:44:07.385Z"
   },
   {
    "duration": 11,
    "start_time": "2021-06-17T11:44:07.402Z"
   },
   {
    "duration": 13,
    "start_time": "2021-06-17T11:44:07.416Z"
   },
   {
    "duration": 12,
    "start_time": "2021-06-17T11:44:07.431Z"
   },
   {
    "duration": 41,
    "start_time": "2021-06-17T11:44:07.446Z"
   },
   {
    "duration": 7,
    "start_time": "2021-06-17T11:44:07.489Z"
   },
   {
    "duration": 11,
    "start_time": "2021-06-17T11:44:07.498Z"
   },
   {
    "duration": 11,
    "start_time": "2021-06-17T11:44:07.512Z"
   },
   {
    "duration": 6,
    "start_time": "2021-06-17T11:44:59.704Z"
   },
   {
    "duration": 8,
    "start_time": "2021-06-17T11:45:10.899Z"
   },
   {
    "duration": 7,
    "start_time": "2021-06-17T11:45:37.262Z"
   },
   {
    "duration": 7,
    "start_time": "2021-06-17T11:46:24.270Z"
   },
   {
    "duration": 8,
    "start_time": "2021-06-17T11:46:54.040Z"
   },
   {
    "duration": 4,
    "start_time": "2021-06-17T11:48:13.401Z"
   },
   {
    "duration": 63,
    "start_time": "2021-06-17T11:48:13.408Z"
   },
   {
    "duration": 36,
    "start_time": "2021-06-17T11:48:13.474Z"
   },
   {
    "duration": 23,
    "start_time": "2021-06-17T11:48:13.513Z"
   },
   {
    "duration": 22,
    "start_time": "2021-06-17T11:48:13.539Z"
   },
   {
    "duration": 59,
    "start_time": "2021-06-17T11:48:13.563Z"
   },
   {
    "duration": 22,
    "start_time": "2021-06-17T11:48:13.624Z"
   },
   {
    "duration": 6,
    "start_time": "2021-06-17T11:48:13.650Z"
   },
   {
    "duration": 52,
    "start_time": "2021-06-17T11:48:13.687Z"
   },
   {
    "duration": 12,
    "start_time": "2021-06-17T11:48:13.742Z"
   },
   {
    "duration": 44,
    "start_time": "2021-06-17T11:48:13.756Z"
   },
   {
    "duration": 10,
    "start_time": "2021-06-17T11:48:13.802Z"
   },
   {
    "duration": 17,
    "start_time": "2021-06-17T11:48:13.814Z"
   },
   {
    "duration": 27,
    "start_time": "2021-06-17T11:48:13.833Z"
   },
   {
    "duration": 30,
    "start_time": "2021-06-17T11:48:13.862Z"
   },
   {
    "duration": 19,
    "start_time": "2021-06-17T11:48:13.895Z"
   },
   {
    "duration": 20,
    "start_time": "2021-06-17T11:48:13.917Z"
   },
   {
    "duration": 11,
    "start_time": "2021-06-17T11:48:13.940Z"
   },
   {
    "duration": 37,
    "start_time": "2021-06-17T11:48:13.953Z"
   },
   {
    "duration": 58,
    "start_time": "2021-06-17T11:48:13.993Z"
   },
   {
    "duration": 37,
    "start_time": "2021-06-17T11:48:14.053Z"
   },
   {
    "duration": 939,
    "start_time": "2021-06-17T11:48:14.093Z"
   },
   {
    "duration": 10,
    "start_time": "2021-06-17T11:48:15.037Z"
   },
   {
    "duration": 919,
    "start_time": "2021-06-17T11:48:15.050Z"
   },
   {
    "duration": 13,
    "start_time": "2021-06-17T11:48:15.972Z"
   },
   {
    "duration": 12,
    "start_time": "2021-06-17T11:48:15.988Z"
   },
   {
    "duration": 1300,
    "start_time": "2021-06-17T11:48:16.003Z"
   },
   {
    "duration": 579,
    "start_time": "2021-06-17T11:48:17.306Z"
   },
   {
    "duration": 5093,
    "start_time": "2021-06-17T11:48:17.887Z"
   },
   {
    "duration": 15,
    "start_time": "2021-06-17T11:48:22.986Z"
   },
   {
    "duration": 9,
    "start_time": "2021-06-17T11:48:23.003Z"
   },
   {
    "duration": 93,
    "start_time": "2021-06-17T11:48:23.015Z"
   },
   {
    "duration": 324,
    "start_time": "2021-06-17T11:48:23.111Z"
   },
   {
    "duration": 26,
    "start_time": "2021-06-17T11:48:23.437Z"
   },
   {
    "duration": 39,
    "start_time": "2021-06-17T11:48:23.465Z"
   },
   {
    "duration": 746,
    "start_time": "2021-06-17T11:48:23.506Z"
   },
   {
    "duration": 37,
    "start_time": "2021-06-17T11:48:24.255Z"
   },
   {
    "duration": 905,
    "start_time": "2021-06-17T11:48:24.294Z"
   },
   {
    "duration": 23,
    "start_time": "2021-06-17T11:48:25.201Z"
   },
   {
    "duration": 747,
    "start_time": "2021-06-17T11:48:25.226Z"
   },
   {
    "duration": 20,
    "start_time": "2021-06-17T11:48:25.976Z"
   },
   {
    "duration": 12,
    "start_time": "2021-06-17T11:48:25.998Z"
   },
   {
    "duration": 24,
    "start_time": "2021-06-17T11:48:26.012Z"
   },
   {
    "duration": 10,
    "start_time": "2021-06-17T11:48:26.039Z"
   },
   {
    "duration": 34,
    "start_time": "2021-06-17T11:48:26.051Z"
   },
   {
    "duration": 6,
    "start_time": "2021-06-17T11:48:26.088Z"
   },
   {
    "duration": 8,
    "start_time": "2021-06-17T11:48:26.096Z"
   },
   {
    "duration": 10,
    "start_time": "2021-06-17T11:48:26.107Z"
   },
   {
    "duration": 8,
    "start_time": "2021-06-17T11:53:41.200Z"
   },
   {
    "duration": 5,
    "start_time": "2021-06-17T11:54:27.217Z"
   },
   {
    "duration": 52,
    "start_time": "2021-06-17T11:54:27.225Z"
   },
   {
    "duration": 28,
    "start_time": "2021-06-17T11:54:27.284Z"
   },
   {
    "duration": 15,
    "start_time": "2021-06-17T11:54:27.315Z"
   },
   {
    "duration": 11,
    "start_time": "2021-06-17T11:54:27.333Z"
   },
   {
    "duration": 77,
    "start_time": "2021-06-17T11:54:27.346Z"
   },
   {
    "duration": 23,
    "start_time": "2021-06-17T11:54:27.425Z"
   },
   {
    "duration": 5,
    "start_time": "2021-06-17T11:54:27.451Z"
   },
   {
    "duration": 79,
    "start_time": "2021-06-17T11:54:27.460Z"
   },
   {
    "duration": 12,
    "start_time": "2021-06-17T11:54:27.542Z"
   },
   {
    "duration": 43,
    "start_time": "2021-06-17T11:54:27.557Z"
   },
   {
    "duration": 13,
    "start_time": "2021-06-17T11:54:27.603Z"
   },
   {
    "duration": 12,
    "start_time": "2021-06-17T11:54:27.619Z"
   },
   {
    "duration": 54,
    "start_time": "2021-06-17T11:54:27.633Z"
   },
   {
    "duration": 10,
    "start_time": "2021-06-17T11:54:27.689Z"
   },
   {
    "duration": 10,
    "start_time": "2021-06-17T11:54:27.701Z"
   },
   {
    "duration": 12,
    "start_time": "2021-06-17T11:54:27.713Z"
   },
   {
    "duration": 9,
    "start_time": "2021-06-17T11:54:27.728Z"
   },
   {
    "duration": 55,
    "start_time": "2021-06-17T11:54:27.739Z"
   },
   {
    "duration": 23,
    "start_time": "2021-06-17T11:54:27.797Z"
   },
   {
    "duration": 63,
    "start_time": "2021-06-17T11:54:27.822Z"
   },
   {
    "duration": 845,
    "start_time": "2021-06-17T11:54:27.888Z"
   },
   {
    "duration": 10,
    "start_time": "2021-06-17T11:54:28.735Z"
   },
   {
    "duration": 930,
    "start_time": "2021-06-17T11:54:28.749Z"
   },
   {
    "duration": 10,
    "start_time": "2021-06-17T11:54:29.681Z"
   },
   {
    "duration": 20,
    "start_time": "2021-06-17T11:54:29.694Z"
   },
   {
    "duration": 741,
    "start_time": "2021-06-17T11:54:29.722Z"
   },
   {
    "duration": 564,
    "start_time": "2021-06-17T11:54:30.466Z"
   },
   {
    "duration": 5238,
    "start_time": "2021-06-17T11:54:31.033Z"
   },
   {
    "duration": 25,
    "start_time": "2021-06-17T11:54:36.274Z"
   },
   {
    "duration": 6,
    "start_time": "2021-06-17T11:54:36.301Z"
   },
   {
    "duration": 78,
    "start_time": "2021-06-17T11:54:36.309Z"
   },
   {
    "duration": 325,
    "start_time": "2021-06-17T11:54:36.390Z"
   },
   {
    "duration": 26,
    "start_time": "2021-06-17T11:54:36.718Z"
   },
   {
    "duration": 52,
    "start_time": "2021-06-17T11:54:36.747Z"
   },
   {
    "duration": 736,
    "start_time": "2021-06-17T11:54:36.802Z"
   },
   {
    "duration": 10,
    "start_time": "2021-06-17T11:54:37.540Z"
   },
   {
    "duration": 18,
    "start_time": "2021-06-17T11:54:37.552Z"
   },
   {
    "duration": 11,
    "start_time": "2021-06-17T11:54:37.586Z"
   },
   {
    "duration": 24,
    "start_time": "2021-06-17T11:54:37.599Z"
   },
   {
    "duration": 762,
    "start_time": "2021-06-17T11:54:37.626Z"
   },
   {
    "duration": 25,
    "start_time": "2021-06-17T11:54:38.390Z"
   },
   {
    "duration": 802,
    "start_time": "2021-06-17T11:54:38.418Z"
   },
   {
    "duration": 15,
    "start_time": "2021-06-17T11:54:39.223Z"
   },
   {
    "duration": 16,
    "start_time": "2021-06-17T11:54:39.240Z"
   },
   {
    "duration": 27,
    "start_time": "2021-06-17T11:54:39.258Z"
   },
   {
    "duration": 19,
    "start_time": "2021-06-17T11:54:39.287Z"
   },
   {
    "duration": 34,
    "start_time": "2021-06-17T11:54:39.308Z"
   },
   {
    "duration": 7,
    "start_time": "2021-06-17T11:54:39.344Z"
   },
   {
    "duration": 20,
    "start_time": "2021-06-17T11:54:39.353Z"
   },
   {
    "duration": 23,
    "start_time": "2021-06-17T11:54:39.375Z"
   },
   {
    "duration": 8,
    "start_time": "2021-06-17T11:55:35.819Z"
   },
   {
    "duration": 8,
    "start_time": "2021-06-17T11:55:54.948Z"
   },
   {
    "duration": 9,
    "start_time": "2021-06-17T11:56:49.969Z"
   },
   {
    "duration": 10,
    "start_time": "2021-06-17T11:57:24.520Z"
   },
   {
    "duration": 13,
    "start_time": "2021-06-17T11:57:24.534Z"
   },
   {
    "duration": 8,
    "start_time": "2021-06-17T11:59:24.295Z"
   },
   {
    "duration": 10,
    "start_time": "2021-06-17T11:59:24.400Z"
   },
   {
    "duration": 10,
    "start_time": "2021-06-17T11:59:25.008Z"
   },
   {
    "duration": 4,
    "start_time": "2021-06-17T12:02:48.256Z"
   },
   {
    "duration": 61,
    "start_time": "2021-06-17T12:02:48.262Z"
   },
   {
    "duration": 67,
    "start_time": "2021-06-17T12:02:48.326Z"
   },
   {
    "duration": 14,
    "start_time": "2021-06-17T12:02:48.396Z"
   },
   {
    "duration": 12,
    "start_time": "2021-06-17T12:02:48.412Z"
   },
   {
    "duration": 78,
    "start_time": "2021-06-17T12:02:48.426Z"
   },
   {
    "duration": 26,
    "start_time": "2021-06-17T12:02:48.508Z"
   },
   {
    "duration": 7,
    "start_time": "2021-06-17T12:02:48.536Z"
   },
   {
    "duration": 92,
    "start_time": "2021-06-17T12:02:48.547Z"
   },
   {
    "duration": 12,
    "start_time": "2021-06-17T12:02:48.642Z"
   },
   {
    "duration": 40,
    "start_time": "2021-06-17T12:02:48.656Z"
   },
   {
    "duration": 14,
    "start_time": "2021-06-17T12:02:48.698Z"
   },
   {
    "duration": 13,
    "start_time": "2021-06-17T12:02:48.715Z"
   },
   {
    "duration": 22,
    "start_time": "2021-06-17T12:02:48.731Z"
   },
   {
    "duration": 11,
    "start_time": "2021-06-17T12:02:48.786Z"
   },
   {
    "duration": 16,
    "start_time": "2021-06-17T12:02:48.799Z"
   },
   {
    "duration": 12,
    "start_time": "2021-06-17T12:02:48.820Z"
   },
   {
    "duration": 8,
    "start_time": "2021-06-17T12:02:48.835Z"
   },
   {
    "duration": 52,
    "start_time": "2021-06-17T12:02:48.846Z"
   },
   {
    "duration": 26,
    "start_time": "2021-06-17T12:02:48.901Z"
   },
   {
    "duration": 64,
    "start_time": "2021-06-17T12:02:48.930Z"
   },
   {
    "duration": 888,
    "start_time": "2021-06-17T12:02:48.997Z"
   },
   {
    "duration": 14,
    "start_time": "2021-06-17T12:02:49.889Z"
   },
   {
    "duration": 967,
    "start_time": "2021-06-17T12:02:49.907Z"
   },
   {
    "duration": 19,
    "start_time": "2021-06-17T12:02:50.876Z"
   },
   {
    "duration": 12,
    "start_time": "2021-06-17T12:02:50.899Z"
   },
   {
    "duration": 963,
    "start_time": "2021-06-17T12:02:50.916Z"
   },
   {
    "duration": 581,
    "start_time": "2021-06-17T12:02:51.882Z"
   },
   {
    "duration": 5564,
    "start_time": "2021-06-17T12:02:52.465Z"
   },
   {
    "duration": 17,
    "start_time": "2021-06-17T12:02:58.032Z"
   },
   {
    "duration": 15,
    "start_time": "2021-06-17T12:02:58.052Z"
   },
   {
    "duration": 76,
    "start_time": "2021-06-17T12:02:58.069Z"
   },
   {
    "duration": 349,
    "start_time": "2021-06-17T12:02:58.147Z"
   },
   {
    "duration": 25,
    "start_time": "2021-06-17T12:02:58.499Z"
   },
   {
    "duration": 22,
    "start_time": "2021-06-17T12:02:58.527Z"
   },
   {
    "duration": 817,
    "start_time": "2021-06-17T12:02:58.551Z"
   },
   {
    "duration": 20,
    "start_time": "2021-06-17T12:02:59.371Z"
   },
   {
    "duration": 26,
    "start_time": "2021-06-17T12:02:59.394Z"
   },
   {
    "duration": 21,
    "start_time": "2021-06-17T12:02:59.422Z"
   },
   {
    "duration": 49,
    "start_time": "2021-06-17T12:02:59.446Z"
   },
   {
    "duration": 818,
    "start_time": "2021-06-17T12:02:59.498Z"
   },
   {
    "duration": 26,
    "start_time": "2021-06-17T12:03:00.318Z"
   },
   {
    "duration": 990,
    "start_time": "2021-06-17T12:03:00.347Z"
   },
   {
    "duration": 15,
    "start_time": "2021-06-17T12:03:01.340Z"
   },
   {
    "duration": 30,
    "start_time": "2021-06-17T12:03:01.358Z"
   },
   {
    "duration": 30,
    "start_time": "2021-06-17T12:03:01.392Z"
   },
   {
    "duration": 31,
    "start_time": "2021-06-17T12:03:01.424Z"
   },
   {
    "duration": 58,
    "start_time": "2021-06-17T12:03:01.458Z"
   },
   {
    "duration": 23,
    "start_time": "2021-06-17T12:03:01.518Z"
   },
   {
    "duration": 25,
    "start_time": "2021-06-17T12:03:01.543Z"
   },
   {
    "duration": 36,
    "start_time": "2021-06-17T12:03:01.571Z"
   },
   {
    "duration": 2088,
    "start_time": "2021-06-17T12:27:28.144Z"
   },
   {
    "duration": 65,
    "start_time": "2021-06-17T12:27:30.235Z"
   },
   {
    "duration": 159,
    "start_time": "2021-06-17T12:27:30.305Z"
   },
   {
    "duration": 14,
    "start_time": "2021-06-17T12:27:30.468Z"
   },
   {
    "duration": 27,
    "start_time": "2021-06-17T12:27:30.485Z"
   },
   {
    "duration": 74,
    "start_time": "2021-06-17T12:27:30.515Z"
   },
   {
    "duration": 26,
    "start_time": "2021-06-17T12:27:30.592Z"
   },
   {
    "duration": 7,
    "start_time": "2021-06-17T12:27:30.622Z"
   },
   {
    "duration": 91,
    "start_time": "2021-06-17T12:27:30.632Z"
   },
   {
    "duration": 12,
    "start_time": "2021-06-17T12:27:30.725Z"
   },
   {
    "duration": 46,
    "start_time": "2021-06-17T12:27:30.741Z"
   },
   {
    "duration": 22,
    "start_time": "2021-06-17T12:27:30.789Z"
   },
   {
    "duration": 29,
    "start_time": "2021-06-17T12:27:30.813Z"
   },
   {
    "duration": 22,
    "start_time": "2021-06-17T12:27:30.845Z"
   },
   {
    "duration": 16,
    "start_time": "2021-06-17T12:27:30.886Z"
   },
   {
    "duration": 43,
    "start_time": "2021-06-17T12:27:30.905Z"
   },
   {
    "duration": 26,
    "start_time": "2021-06-17T12:27:30.951Z"
   },
   {
    "duration": 12,
    "start_time": "2021-06-17T12:27:30.980Z"
   },
   {
    "duration": 25,
    "start_time": "2021-06-17T12:27:30.995Z"
   },
   {
    "duration": 34,
    "start_time": "2021-06-17T12:27:31.022Z"
   },
   {
    "duration": 65,
    "start_time": "2021-06-17T12:27:31.059Z"
   },
   {
    "duration": 1114,
    "start_time": "2021-06-17T12:27:31.127Z"
   },
   {
    "duration": 10,
    "start_time": "2021-06-17T12:27:32.246Z"
   },
   {
    "duration": 815,
    "start_time": "2021-06-17T12:27:32.259Z"
   },
   {
    "duration": 14,
    "start_time": "2021-06-17T12:27:33.077Z"
   },
   {
    "duration": 14,
    "start_time": "2021-06-17T12:27:33.094Z"
   },
   {
    "duration": 599,
    "start_time": "2021-06-17T12:27:33.111Z"
   },
   {
    "duration": 516,
    "start_time": "2021-06-17T12:27:33.713Z"
   },
   {
    "duration": 5163,
    "start_time": "2021-06-17T12:27:34.231Z"
   },
   {
    "duration": 16,
    "start_time": "2021-06-17T12:27:39.397Z"
   },
   {
    "duration": 15,
    "start_time": "2021-06-17T12:27:39.416Z"
   },
   {
    "duration": 70,
    "start_time": "2021-06-17T12:27:39.434Z"
   },
   {
    "duration": 335,
    "start_time": "2021-06-17T12:27:39.507Z"
   },
   {
    "duration": 699,
    "start_time": "2021-06-17T12:27:39.845Z"
   },
   {
    "duration": 40,
    "start_time": "2021-06-17T12:27:40.546Z"
   },
   {
    "duration": 843,
    "start_time": "2021-06-17T12:27:40.588Z"
   },
   {
    "duration": 10,
    "start_time": "2021-06-17T12:27:41.433Z"
   },
   {
    "duration": 10,
    "start_time": "2021-06-17T12:27:41.445Z"
   },
   {
    "duration": 28,
    "start_time": "2021-06-17T12:27:41.457Z"
   },
   {
    "duration": 27,
    "start_time": "2021-06-17T12:27:41.488Z"
   },
   {
    "duration": 760,
    "start_time": "2021-06-17T12:27:41.517Z"
   },
   {
    "duration": 26,
    "start_time": "2021-06-17T12:27:42.285Z"
   },
   {
    "duration": 729,
    "start_time": "2021-06-17T12:27:42.313Z"
   },
   {
    "duration": 16,
    "start_time": "2021-06-17T12:27:43.045Z"
   },
   {
    "duration": 25,
    "start_time": "2021-06-17T12:27:43.064Z"
   },
   {
    "duration": 8,
    "start_time": "2021-06-17T12:27:43.091Z"
   },
   {
    "duration": 9,
    "start_time": "2021-06-17T12:27:43.101Z"
   },
   {
    "duration": 15,
    "start_time": "2021-06-17T12:27:43.113Z"
   },
   {
    "duration": 7,
    "start_time": "2021-06-17T12:27:43.131Z"
   },
   {
    "duration": 52,
    "start_time": "2021-06-17T12:27:43.141Z"
   },
   {
    "duration": 7,
    "start_time": "2021-06-17T12:27:43.196Z"
   },
   {
    "duration": 1578,
    "start_time": "2021-06-17T14:47:30.145Z"
   },
   {
    "duration": 47,
    "start_time": "2021-06-17T14:47:31.726Z"
   },
   {
    "duration": 50,
    "start_time": "2021-06-17T14:47:31.777Z"
   },
   {
    "duration": 14,
    "start_time": "2021-06-17T14:47:31.830Z"
   },
   {
    "duration": 16,
    "start_time": "2021-06-17T14:47:31.846Z"
   },
   {
    "duration": 83,
    "start_time": "2021-06-17T14:47:31.865Z"
   },
   {
    "duration": 23,
    "start_time": "2021-06-17T14:47:31.950Z"
   },
   {
    "duration": 6,
    "start_time": "2021-06-17T14:47:31.977Z"
   },
   {
    "duration": 79,
    "start_time": "2021-06-17T14:47:31.986Z"
   },
   {
    "duration": 13,
    "start_time": "2021-06-17T14:47:32.067Z"
   },
   {
    "duration": 52,
    "start_time": "2021-06-17T14:47:32.082Z"
   },
   {
    "duration": 11,
    "start_time": "2021-06-17T14:47:32.136Z"
   },
   {
    "duration": 12,
    "start_time": "2021-06-17T14:47:32.150Z"
   },
   {
    "duration": 63,
    "start_time": "2021-06-17T14:47:32.164Z"
   },
   {
    "duration": 11,
    "start_time": "2021-06-17T14:47:32.229Z"
   },
   {
    "duration": 11,
    "start_time": "2021-06-17T14:47:32.242Z"
   },
   {
    "duration": 17,
    "start_time": "2021-06-17T14:47:32.255Z"
   },
   {
    "duration": 8,
    "start_time": "2021-06-17T14:47:32.275Z"
   },
   {
    "duration": 14,
    "start_time": "2021-06-17T14:47:32.326Z"
   },
   {
    "duration": 24,
    "start_time": "2021-06-17T14:47:32.342Z"
   },
   {
    "duration": 76,
    "start_time": "2021-06-17T14:47:32.368Z"
   },
   {
    "duration": 700,
    "start_time": "2021-06-17T14:47:32.446Z"
   },
   {
    "duration": 11,
    "start_time": "2021-06-17T14:47:33.152Z"
   },
   {
    "duration": 926,
    "start_time": "2021-06-17T14:47:33.166Z"
   },
   {
    "duration": 8,
    "start_time": "2021-06-17T14:47:34.095Z"
   },
   {
    "duration": 25,
    "start_time": "2021-06-17T14:47:34.106Z"
   },
   {
    "duration": 607,
    "start_time": "2021-06-17T14:47:34.134Z"
   },
   {
    "duration": 560,
    "start_time": "2021-06-17T14:47:34.744Z"
   },
   {
    "duration": 5188,
    "start_time": "2021-06-17T14:47:35.306Z"
   },
   {
    "duration": 31,
    "start_time": "2021-06-17T14:47:40.496Z"
   },
   {
    "duration": 3,
    "start_time": "2021-06-17T14:47:40.530Z"
   },
   {
    "duration": 57,
    "start_time": "2021-06-17T14:47:40.536Z"
   },
   {
    "duration": 335,
    "start_time": "2021-06-17T14:47:40.596Z"
   },
   {
    "duration": 1091,
    "start_time": "2021-06-17T14:47:40.934Z"
   },
   {
    "duration": 27,
    "start_time": "2021-06-17T14:47:42.028Z"
   },
   {
    "duration": 890,
    "start_time": "2021-06-17T14:47:42.058Z"
   },
   {
    "duration": 9,
    "start_time": "2021-06-17T14:47:42.950Z"
   },
   {
    "duration": 12,
    "start_time": "2021-06-17T14:47:42.962Z"
   },
   {
    "duration": 8,
    "start_time": "2021-06-17T14:47:42.977Z"
   },
   {
    "duration": 57,
    "start_time": "2021-06-17T14:47:42.988Z"
   },
   {
    "duration": 804,
    "start_time": "2021-06-17T14:47:43.048Z"
   },
   {
    "duration": 26,
    "start_time": "2021-06-17T14:47:43.855Z"
   },
   {
    "duration": 762,
    "start_time": "2021-06-17T14:47:43.884Z"
   },
   {
    "duration": 16,
    "start_time": "2021-06-17T14:47:44.648Z"
   },
   {
    "duration": 12,
    "start_time": "2021-06-17T14:47:44.667Z"
   },
   {
    "duration": 7,
    "start_time": "2021-06-17T14:47:44.682Z"
   },
   {
    "duration": 35,
    "start_time": "2021-06-17T14:47:44.691Z"
   },
   {
    "duration": 13,
    "start_time": "2021-06-17T14:47:44.729Z"
   },
   {
    "duration": 6,
    "start_time": "2021-06-17T14:47:44.745Z"
   },
   {
    "duration": 13,
    "start_time": "2021-06-17T14:47:44.754Z"
   },
   {
    "duration": 15,
    "start_time": "2021-06-17T14:47:44.769Z"
   },
   {
    "duration": 10,
    "start_time": "2021-06-17T14:55:30.385Z"
   },
   {
    "duration": 10,
    "start_time": "2021-06-17T14:55:36.646Z"
   },
   {
    "duration": 1621,
    "start_time": "2021-06-17T15:17:00.072Z"
   },
   {
    "duration": 51,
    "start_time": "2021-06-17T15:17:01.696Z"
   },
   {
    "duration": 35,
    "start_time": "2021-06-17T15:17:01.751Z"
   },
   {
    "duration": 49,
    "start_time": "2021-06-17T15:17:01.789Z"
   },
   {
    "duration": 18,
    "start_time": "2021-06-17T15:17:01.842Z"
   },
   {
    "duration": 77,
    "start_time": "2021-06-17T15:17:01.863Z"
   },
   {
    "duration": 25,
    "start_time": "2021-06-17T15:17:01.944Z"
   },
   {
    "duration": 31,
    "start_time": "2021-06-17T15:17:01.971Z"
   },
   {
    "duration": 56,
    "start_time": "2021-06-17T15:17:02.006Z"
   },
   {
    "duration": 12,
    "start_time": "2021-06-17T15:17:02.065Z"
   },
   {
    "duration": 35,
    "start_time": "2021-06-17T15:17:02.079Z"
   },
   {
    "duration": 21,
    "start_time": "2021-06-17T15:17:02.125Z"
   },
   {
    "duration": 30,
    "start_time": "2021-06-17T15:17:02.149Z"
   },
   {
    "duration": 37,
    "start_time": "2021-06-17T15:17:02.181Z"
   },
   {
    "duration": 22,
    "start_time": "2021-06-17T15:17:02.221Z"
   },
   {
    "duration": 14,
    "start_time": "2021-06-17T15:17:02.246Z"
   },
   {
    "duration": 26,
    "start_time": "2021-06-17T15:17:02.262Z"
   },
   {
    "duration": 9,
    "start_time": "2021-06-17T15:17:02.290Z"
   },
   {
    "duration": 13,
    "start_time": "2021-06-17T15:17:02.302Z"
   },
   {
    "duration": 24,
    "start_time": "2021-06-17T15:17:02.324Z"
   },
   {
    "duration": 32,
    "start_time": "2021-06-17T15:17:02.350Z"
   },
   {
    "duration": 701,
    "start_time": "2021-06-17T15:17:02.385Z"
   },
   {
    "duration": 11,
    "start_time": "2021-06-17T15:17:03.088Z"
   },
   {
    "duration": 873,
    "start_time": "2021-06-17T15:17:03.101Z"
   },
   {
    "duration": 7,
    "start_time": "2021-06-17T15:17:03.977Z"
   },
   {
    "duration": 15,
    "start_time": "2021-06-17T15:17:03.986Z"
   },
   {
    "duration": 572,
    "start_time": "2021-06-17T15:17:04.006Z"
   },
   {
    "duration": 853,
    "start_time": "2021-06-17T15:17:04.581Z"
   },
   {
    "duration": 5865,
    "start_time": "2021-06-17T15:17:05.437Z"
   },
   {
    "duration": 24,
    "start_time": "2021-06-17T15:17:11.305Z"
   },
   {
    "duration": 8,
    "start_time": "2021-06-17T15:17:11.332Z"
   },
   {
    "duration": 63,
    "start_time": "2021-06-17T15:17:11.343Z"
   },
   {
    "duration": 314,
    "start_time": "2021-06-17T15:17:11.424Z"
   },
   {
    "duration": 743,
    "start_time": "2021-06-17T15:17:11.740Z"
   },
   {
    "duration": 42,
    "start_time": "2021-06-17T15:17:12.486Z"
   },
   {
    "duration": 856,
    "start_time": "2021-06-17T15:17:12.530Z"
   },
   {
    "duration": 9,
    "start_time": "2021-06-17T15:17:13.388Z"
   },
   {
    "duration": 29,
    "start_time": "2021-06-17T15:17:13.400Z"
   },
   {
    "duration": 13,
    "start_time": "2021-06-17T15:17:13.432Z"
   },
   {
    "duration": 26,
    "start_time": "2021-06-17T15:17:13.447Z"
   },
   {
    "duration": 774,
    "start_time": "2021-06-17T15:17:13.476Z"
   },
   {
    "duration": 25,
    "start_time": "2021-06-17T15:17:14.252Z"
   },
   {
    "duration": 730,
    "start_time": "2021-06-17T15:17:14.280Z"
   },
   {
    "duration": 25,
    "start_time": "2021-06-17T15:17:15.012Z"
   },
   {
    "duration": 10,
    "start_time": "2021-06-17T15:17:15.040Z"
   },
   {
    "duration": 14,
    "start_time": "2021-06-17T15:17:15.052Z"
   },
   {
    "duration": 12,
    "start_time": "2021-06-17T15:17:15.069Z"
   },
   {
    "duration": 47,
    "start_time": "2021-06-17T15:17:15.084Z"
   },
   {
    "duration": 16,
    "start_time": "2021-06-17T15:17:15.133Z"
   },
   {
    "duration": 15,
    "start_time": "2021-06-17T15:17:15.151Z"
   },
   {
    "duration": 23,
    "start_time": "2021-06-17T15:17:15.169Z"
   },
   {
    "duration": 11,
    "start_time": "2021-06-17T15:27:32.413Z"
   },
   {
    "duration": 8,
    "start_time": "2021-06-17T15:27:55.749Z"
   },
   {
    "duration": 11,
    "start_time": "2021-06-17T15:27:57.260Z"
   },
   {
    "duration": 4,
    "start_time": "2021-06-17T15:28:09.878Z"
   },
   {
    "duration": 54,
    "start_time": "2021-06-17T15:28:09.884Z"
   },
   {
    "duration": 27,
    "start_time": "2021-06-17T15:28:09.942Z"
   },
   {
    "duration": 17,
    "start_time": "2021-06-17T15:28:09.972Z"
   },
   {
    "duration": 38,
    "start_time": "2021-06-17T15:28:09.991Z"
   },
   {
    "duration": 47,
    "start_time": "2021-06-17T15:28:10.031Z"
   },
   {
    "duration": 48,
    "start_time": "2021-06-17T15:28:10.080Z"
   },
   {
    "duration": 6,
    "start_time": "2021-06-17T15:28:10.130Z"
   },
   {
    "duration": 53,
    "start_time": "2021-06-17T15:28:10.140Z"
   },
   {
    "duration": 37,
    "start_time": "2021-06-17T15:28:10.196Z"
   },
   {
    "duration": 22,
    "start_time": "2021-06-17T15:28:10.236Z"
   },
   {
    "duration": 11,
    "start_time": "2021-06-17T15:28:10.260Z"
   },
   {
    "duration": 12,
    "start_time": "2021-06-17T15:28:10.274Z"
   },
   {
    "duration": 24,
    "start_time": "2021-06-17T15:28:10.325Z"
   },
   {
    "duration": 12,
    "start_time": "2021-06-17T15:28:10.352Z"
   },
   {
    "duration": 12,
    "start_time": "2021-06-17T15:28:10.366Z"
   },
   {
    "duration": 44,
    "start_time": "2021-06-17T15:28:10.380Z"
   },
   {
    "duration": 15,
    "start_time": "2021-06-17T15:28:10.427Z"
   },
   {
    "duration": 5,
    "start_time": "2021-06-17T15:28:14.961Z"
   },
   {
    "duration": 18,
    "start_time": "2021-06-17T15:28:15.462Z"
   },
   {
    "duration": 5,
    "start_time": "2021-06-17T15:28:18.989Z"
   },
   {
    "duration": 12,
    "start_time": "2021-06-17T15:28:20.770Z"
   },
   {
    "duration": 4,
    "start_time": "2021-06-17T15:28:23.779Z"
   },
   {
    "duration": 55,
    "start_time": "2021-06-17T15:28:23.786Z"
   },
   {
    "duration": 30,
    "start_time": "2021-06-17T15:28:23.844Z"
   },
   {
    "duration": 51,
    "start_time": "2021-06-17T15:28:23.876Z"
   },
   {
    "duration": 16,
    "start_time": "2021-06-17T15:28:23.930Z"
   },
   {
    "duration": 75,
    "start_time": "2021-06-17T15:28:23.949Z"
   },
   {
    "duration": 24,
    "start_time": "2021-06-17T15:28:24.026Z"
   },
   {
    "duration": 6,
    "start_time": "2021-06-17T15:28:24.052Z"
   },
   {
    "duration": 86,
    "start_time": "2021-06-17T15:28:24.062Z"
   },
   {
    "duration": 17,
    "start_time": "2021-06-17T15:28:24.152Z"
   },
   {
    "duration": 18,
    "start_time": "2021-06-17T15:28:24.172Z"
   },
   {
    "duration": 41,
    "start_time": "2021-06-17T15:28:24.193Z"
   },
   {
    "duration": 13,
    "start_time": "2021-06-17T15:28:24.237Z"
   },
   {
    "duration": 28,
    "start_time": "2021-06-17T15:28:24.253Z"
   },
   {
    "duration": 42,
    "start_time": "2021-06-17T15:28:24.284Z"
   },
   {
    "duration": 11,
    "start_time": "2021-06-17T15:28:24.330Z"
   },
   {
    "duration": 9,
    "start_time": "2021-06-17T15:28:24.354Z"
   },
   {
    "duration": 17,
    "start_time": "2021-06-17T15:28:24.365Z"
   },
   {
    "duration": 8,
    "start_time": "2021-06-17T15:28:24.385Z"
   },
   {
    "duration": 20,
    "start_time": "2021-06-17T15:28:24.425Z"
   },
   {
    "duration": 23,
    "start_time": "2021-06-17T15:28:24.448Z"
   },
   {
    "duration": 66,
    "start_time": "2021-06-17T15:28:24.473Z"
   },
   {
    "duration": 884,
    "start_time": "2021-06-17T15:28:24.542Z"
   },
   {
    "duration": 9,
    "start_time": "2021-06-17T15:28:25.429Z"
   },
   {
    "duration": 900,
    "start_time": "2021-06-17T15:28:25.441Z"
   },
   {
    "duration": 13,
    "start_time": "2021-06-17T15:28:26.343Z"
   },
   {
    "duration": 27,
    "start_time": "2021-06-17T15:28:26.364Z"
   },
   {
    "duration": 907,
    "start_time": "2021-06-17T15:28:26.394Z"
   },
   {
    "duration": 834,
    "start_time": "2021-06-17T15:28:27.303Z"
   },
   {
    "duration": 5824,
    "start_time": "2021-06-17T15:28:28.140Z"
   },
   {
    "duration": 15,
    "start_time": "2021-06-17T15:28:33.967Z"
   },
   {
    "duration": 5,
    "start_time": "2021-06-17T15:28:33.984Z"
   },
   {
    "duration": 77,
    "start_time": "2021-06-17T15:28:33.991Z"
   },
   {
    "duration": 315,
    "start_time": "2021-06-17T15:28:34.071Z"
   },
   {
    "duration": 38,
    "start_time": "2021-06-17T15:28:34.389Z"
   },
   {
    "duration": 24,
    "start_time": "2021-06-17T15:28:34.429Z"
   },
   {
    "duration": 728,
    "start_time": "2021-06-17T15:28:34.455Z"
   },
   {
    "duration": 9,
    "start_time": "2021-06-17T15:28:35.186Z"
   },
   {
    "duration": 26,
    "start_time": "2021-06-17T15:28:35.206Z"
   },
   {
    "duration": 10,
    "start_time": "2021-06-17T15:28:35.234Z"
   },
   {
    "duration": 26,
    "start_time": "2021-06-17T15:28:35.246Z"
   },
   {
    "duration": 885,
    "start_time": "2021-06-17T15:28:35.274Z"
   },
   {
    "duration": 24,
    "start_time": "2021-06-17T15:28:36.162Z"
   },
   {
    "duration": 716,
    "start_time": "2021-06-17T15:28:36.188Z"
   },
   {
    "duration": 24,
    "start_time": "2021-06-17T15:28:36.906Z"
   },
   {
    "duration": 13,
    "start_time": "2021-06-17T15:28:36.933Z"
   },
   {
    "duration": 7,
    "start_time": "2021-06-17T15:28:36.948Z"
   },
   {
    "duration": 12,
    "start_time": "2021-06-17T15:28:36.957Z"
   },
   {
    "duration": 21,
    "start_time": "2021-06-17T15:28:36.972Z"
   },
   {
    "duration": 30,
    "start_time": "2021-06-17T15:28:36.996Z"
   },
   {
    "duration": 5,
    "start_time": "2021-06-17T15:28:37.029Z"
   },
   {
    "duration": 20,
    "start_time": "2021-06-17T15:28:37.036Z"
   },
   {
    "duration": 8,
    "start_time": "2021-06-17T15:28:57.514Z"
   },
   {
    "duration": 9,
    "start_time": "2021-06-17T15:29:24.009Z"
   },
   {
    "duration": 12,
    "start_time": "2021-06-17T15:29:36.302Z"
   },
   {
    "duration": 4,
    "start_time": "2021-06-17T15:29:44.624Z"
   },
   {
    "duration": 53,
    "start_time": "2021-06-17T15:29:44.630Z"
   },
   {
    "duration": 42,
    "start_time": "2021-06-17T15:29:44.687Z"
   },
   {
    "duration": 16,
    "start_time": "2021-06-17T15:29:44.733Z"
   },
   {
    "duration": 15,
    "start_time": "2021-06-17T15:29:44.752Z"
   },
   {
    "duration": 90,
    "start_time": "2021-06-17T15:29:44.770Z"
   },
   {
    "duration": 26,
    "start_time": "2021-06-17T15:29:44.863Z"
   },
   {
    "duration": 33,
    "start_time": "2021-06-17T15:29:44.892Z"
   },
   {
    "duration": 52,
    "start_time": "2021-06-17T15:29:44.929Z"
   },
   {
    "duration": 12,
    "start_time": "2021-06-17T15:29:44.984Z"
   },
   {
    "duration": 19,
    "start_time": "2021-06-17T15:29:45.025Z"
   },
   {
    "duration": 13,
    "start_time": "2021-06-17T15:29:45.046Z"
   },
   {
    "duration": 10,
    "start_time": "2021-06-17T15:29:45.061Z"
   },
   {
    "duration": 54,
    "start_time": "2021-06-17T15:29:45.073Z"
   },
   {
    "duration": 10,
    "start_time": "2021-06-17T15:29:45.129Z"
   },
   {
    "duration": 10,
    "start_time": "2021-06-17T15:29:45.141Z"
   },
   {
    "duration": 13,
    "start_time": "2021-06-17T15:29:45.154Z"
   },
   {
    "duration": 8,
    "start_time": "2021-06-17T15:29:45.170Z"
   },
   {
    "duration": 12,
    "start_time": "2021-06-17T15:29:48.816Z"
   },
   {
    "duration": 4,
    "start_time": "2021-06-17T15:30:29.409Z"
   },
   {
    "duration": 6,
    "start_time": "2021-06-17T15:30:30.487Z"
   },
   {
    "duration": 410,
    "start_time": "2021-06-17T15:32:09.888Z"
   },
   {
    "duration": 4,
    "start_time": "2021-06-17T15:32:13.585Z"
   },
   {
    "duration": 51,
    "start_time": "2021-06-17T15:32:13.591Z"
   },
   {
    "duration": 29,
    "start_time": "2021-06-17T15:32:13.645Z"
   },
   {
    "duration": 17,
    "start_time": "2021-06-17T15:32:13.677Z"
   },
   {
    "duration": 33,
    "start_time": "2021-06-17T15:32:13.696Z"
   },
   {
    "duration": 42,
    "start_time": "2021-06-17T15:32:13.731Z"
   },
   {
    "duration": 51,
    "start_time": "2021-06-17T15:32:13.775Z"
   },
   {
    "duration": 6,
    "start_time": "2021-06-17T15:32:13.828Z"
   },
   {
    "duration": 52,
    "start_time": "2021-06-17T15:32:13.838Z"
   },
   {
    "duration": 37,
    "start_time": "2021-06-17T15:32:13.893Z"
   },
   {
    "duration": 22,
    "start_time": "2021-06-17T15:32:13.932Z"
   },
   {
    "duration": 19,
    "start_time": "2021-06-17T15:32:13.957Z"
   },
   {
    "duration": 10,
    "start_time": "2021-06-17T15:32:13.979Z"
   },
   {
    "duration": 46,
    "start_time": "2021-06-17T15:32:13.991Z"
   },
   {
    "duration": 9,
    "start_time": "2021-06-17T15:32:14.040Z"
   },
   {
    "duration": 9,
    "start_time": "2021-06-17T15:32:14.051Z"
   },
   {
    "duration": 13,
    "start_time": "2021-06-17T15:32:14.062Z"
   },
   {
    "duration": 4,
    "start_time": "2021-06-17T15:32:14.078Z"
   },
   {
    "duration": 5,
    "start_time": "2021-06-17T15:32:14.124Z"
   },
   {
    "duration": 3445,
    "start_time": "2021-06-17T15:32:14.132Z"
   },
   {
    "duration": 11,
    "start_time": "2021-06-17T15:32:17.568Z"
   },
   {
    "duration": 9,
    "start_time": "2021-06-17T15:32:17.571Z"
   },
   {
    "duration": 9,
    "start_time": "2021-06-17T15:32:17.573Z"
   },
   {
    "duration": 7,
    "start_time": "2021-06-17T15:32:17.576Z"
   },
   {
    "duration": 344,
    "start_time": "2021-06-17T15:32:20.565Z"
   },
   {
    "duration": 7,
    "start_time": "2021-06-17T15:33:03.980Z"
   },
   {
    "duration": 265,
    "start_time": "2021-06-17T15:33:50.624Z"
   },
   {
    "duration": 283,
    "start_time": "2021-06-17T15:34:06.463Z"
   },
   {
    "duration": 267,
    "start_time": "2021-06-17T15:37:28.178Z"
   },
   {
    "duration": 4,
    "start_time": "2021-06-17T15:37:45.783Z"
   },
   {
    "duration": 53,
    "start_time": "2021-06-17T15:37:45.789Z"
   },
   {
    "duration": 30,
    "start_time": "2021-06-17T15:37:45.846Z"
   },
   {
    "duration": 55,
    "start_time": "2021-06-17T15:37:45.880Z"
   },
   {
    "duration": 13,
    "start_time": "2021-06-17T15:37:45.938Z"
   },
   {
    "duration": 91,
    "start_time": "2021-06-17T15:37:45.954Z"
   },
   {
    "duration": 32,
    "start_time": "2021-06-17T15:37:46.048Z"
   },
   {
    "duration": 8,
    "start_time": "2021-06-17T15:37:46.083Z"
   },
   {
    "duration": 73,
    "start_time": "2021-06-17T15:37:46.095Z"
   },
   {
    "duration": 13,
    "start_time": "2021-06-17T15:37:46.170Z"
   },
   {
    "duration": 44,
    "start_time": "2021-06-17T15:37:46.185Z"
   },
   {
    "duration": 11,
    "start_time": "2021-06-17T15:37:46.231Z"
   },
   {
    "duration": 18,
    "start_time": "2021-06-17T15:37:46.245Z"
   },
   {
    "duration": 29,
    "start_time": "2021-06-17T15:37:46.265Z"
   },
   {
    "duration": 32,
    "start_time": "2021-06-17T15:37:46.296Z"
   },
   {
    "duration": 11,
    "start_time": "2021-06-17T15:37:46.331Z"
   },
   {
    "duration": 13,
    "start_time": "2021-06-17T15:37:46.343Z"
   },
   {
    "duration": 64,
    "start_time": "2021-06-17T15:37:46.359Z"
   },
   {
    "duration": 12,
    "start_time": "2021-06-17T15:37:46.426Z"
   },
   {
    "duration": 13,
    "start_time": "2021-06-17T15:37:46.440Z"
   },
   {
    "duration": 15,
    "start_time": "2021-06-17T15:37:46.455Z"
   },
   {
    "duration": 51,
    "start_time": "2021-06-17T15:37:46.473Z"
   },
   {
    "duration": 35,
    "start_time": "2021-06-17T15:37:46.526Z"
   },
   {
    "duration": 833,
    "start_time": "2021-06-17T15:37:46.563Z"
   },
   {
    "duration": 10,
    "start_time": "2021-06-17T15:37:47.398Z"
   },
   {
    "duration": 889,
    "start_time": "2021-06-17T15:37:47.424Z"
   },
   {
    "duration": 11,
    "start_time": "2021-06-17T15:37:48.319Z"
   },
   {
    "duration": 22,
    "start_time": "2021-06-17T15:37:48.333Z"
   },
   {
    "duration": 881,
    "start_time": "2021-06-17T15:37:48.358Z"
   },
   {
    "duration": 801,
    "start_time": "2021-06-17T15:37:49.242Z"
   },
   {
    "duration": 5039,
    "start_time": "2021-06-17T15:37:50.046Z"
   },
   {
    "duration": 16,
    "start_time": "2021-06-17T15:37:55.087Z"
   },
   {
    "duration": 20,
    "start_time": "2021-06-17T15:37:55.105Z"
   },
   {
    "duration": 54,
    "start_time": "2021-06-17T15:37:55.128Z"
   },
   {
    "duration": 325,
    "start_time": "2021-06-17T15:37:55.184Z"
   },
   {
    "duration": 32,
    "start_time": "2021-06-17T15:37:55.512Z"
   },
   {
    "duration": 24,
    "start_time": "2021-06-17T15:37:55.546Z"
   },
   {
    "duration": 752,
    "start_time": "2021-06-17T15:37:55.572Z"
   },
   {
    "duration": 10,
    "start_time": "2021-06-17T15:37:56.326Z"
   },
   {
    "duration": 8,
    "start_time": "2021-06-17T15:37:56.338Z"
   },
   {
    "duration": 8,
    "start_time": "2021-06-17T15:37:56.349Z"
   },
   {
    "duration": 65,
    "start_time": "2021-06-17T15:37:56.359Z"
   },
   {
    "duration": 756,
    "start_time": "2021-06-17T15:37:56.427Z"
   },
   {
    "duration": 23,
    "start_time": "2021-06-17T15:37:57.185Z"
   },
   {
    "duration": 713,
    "start_time": "2021-06-17T15:37:57.224Z"
   },
   {
    "duration": 14,
    "start_time": "2021-06-17T15:37:57.940Z"
   },
   {
    "duration": 11,
    "start_time": "2021-06-17T15:37:57.957Z"
   },
   {
    "duration": 6,
    "start_time": "2021-06-17T15:37:57.971Z"
   },
   {
    "duration": 7,
    "start_time": "2021-06-17T15:37:57.980Z"
   },
   {
    "duration": 44,
    "start_time": "2021-06-17T15:37:57.989Z"
   },
   {
    "duration": 6,
    "start_time": "2021-06-17T15:37:58.035Z"
   },
   {
    "duration": 14,
    "start_time": "2021-06-17T15:37:58.043Z"
   },
   {
    "duration": 13,
    "start_time": "2021-06-17T15:37:58.059Z"
   },
   {
    "duration": 9,
    "start_time": "2021-06-17T15:38:17.094Z"
   },
   {
    "duration": 12,
    "start_time": "2021-06-17T15:38:18.470Z"
   },
   {
    "duration": 34,
    "start_time": "2021-06-17T15:38:34.773Z"
   },
   {
    "duration": 4,
    "start_time": "2021-06-17T15:38:48.937Z"
   },
   {
    "duration": 58,
    "start_time": "2021-06-17T15:38:48.944Z"
   },
   {
    "duration": 40,
    "start_time": "2021-06-17T15:38:49.005Z"
   },
   {
    "duration": 13,
    "start_time": "2021-06-17T15:38:49.047Z"
   },
   {
    "duration": 16,
    "start_time": "2021-06-17T15:38:49.063Z"
   },
   {
    "duration": 77,
    "start_time": "2021-06-17T15:38:49.081Z"
   },
   {
    "duration": 22,
    "start_time": "2021-06-17T15:38:49.160Z"
   },
   {
    "duration": 8,
    "start_time": "2021-06-17T15:38:49.185Z"
   },
   {
    "duration": 75,
    "start_time": "2021-06-17T15:38:49.196Z"
   },
   {
    "duration": 12,
    "start_time": "2021-06-17T15:38:49.274Z"
   },
   {
    "duration": 46,
    "start_time": "2021-06-17T15:38:49.289Z"
   },
   {
    "duration": 20,
    "start_time": "2021-06-17T15:38:49.337Z"
   },
   {
    "duration": 24,
    "start_time": "2021-06-17T15:38:49.359Z"
   },
   {
    "duration": 26,
    "start_time": "2021-06-17T15:38:49.386Z"
   },
   {
    "duration": 18,
    "start_time": "2021-06-17T15:38:49.414Z"
   },
   {
    "duration": 28,
    "start_time": "2021-06-17T15:38:49.434Z"
   },
   {
    "duration": 31,
    "start_time": "2021-06-17T15:38:49.464Z"
   },
   {
    "duration": 19,
    "start_time": "2021-06-17T15:38:49.497Z"
   },
   {
    "duration": 13,
    "start_time": "2021-06-17T15:38:49.518Z"
   },
   {
    "duration": 38,
    "start_time": "2021-06-17T15:38:49.533Z"
   },
   {
    "duration": 25,
    "start_time": "2021-06-17T15:38:49.574Z"
   },
   {
    "duration": 19,
    "start_time": "2021-06-17T15:38:49.602Z"
   },
   {
    "duration": 23,
    "start_time": "2021-06-17T15:38:49.624Z"
   },
   {
    "duration": 36,
    "start_time": "2021-06-17T15:38:49.650Z"
   },
   {
    "duration": 1001,
    "start_time": "2021-06-17T15:38:49.689Z"
   },
   {
    "duration": 9,
    "start_time": "2021-06-17T15:38:50.693Z"
   },
   {
    "duration": 1002,
    "start_time": "2021-06-17T15:38:50.724Z"
   },
   {
    "duration": 8,
    "start_time": "2021-06-17T15:38:51.731Z"
   },
   {
    "duration": 18,
    "start_time": "2021-06-17T15:38:51.742Z"
   },
   {
    "duration": 731,
    "start_time": "2021-06-17T15:38:51.763Z"
   },
   {
    "duration": 549,
    "start_time": "2021-06-17T15:38:52.497Z"
   },
   {
    "duration": 5417,
    "start_time": "2021-06-17T15:38:53.049Z"
   },
   {
    "duration": 16,
    "start_time": "2021-06-17T15:38:58.469Z"
   },
   {
    "duration": 9,
    "start_time": "2021-06-17T15:38:58.488Z"
   },
   {
    "duration": 72,
    "start_time": "2021-06-17T15:38:58.499Z"
   },
   {
    "duration": 319,
    "start_time": "2021-06-17T15:38:58.573Z"
   },
   {
    "duration": 36,
    "start_time": "2021-06-17T15:38:58.894Z"
   },
   {
    "duration": 23,
    "start_time": "2021-06-17T15:38:58.932Z"
   },
   {
    "duration": 718,
    "start_time": "2021-06-17T15:38:58.957Z"
   },
   {
    "duration": 9,
    "start_time": "2021-06-17T15:38:59.677Z"
   },
   {
    "duration": 9,
    "start_time": "2021-06-17T15:38:59.688Z"
   },
   {
    "duration": 31,
    "start_time": "2021-06-17T15:38:59.700Z"
   },
   {
    "duration": 34,
    "start_time": "2021-06-17T15:38:59.734Z"
   },
   {
    "duration": 804,
    "start_time": "2021-06-17T15:38:59.771Z"
   },
   {
    "duration": 23,
    "start_time": "2021-06-17T15:39:00.577Z"
   },
   {
    "duration": 817,
    "start_time": "2021-06-17T15:39:00.603Z"
   },
   {
    "duration": 17,
    "start_time": "2021-06-17T15:39:01.424Z"
   },
   {
    "duration": 29,
    "start_time": "2021-06-17T15:39:01.443Z"
   },
   {
    "duration": 34,
    "start_time": "2021-06-17T15:39:01.474Z"
   },
   {
    "duration": 29,
    "start_time": "2021-06-17T15:39:01.511Z"
   },
   {
    "duration": 61,
    "start_time": "2021-06-17T15:39:01.543Z"
   },
   {
    "duration": 35,
    "start_time": "2021-06-17T15:39:01.607Z"
   },
   {
    "duration": 28,
    "start_time": "2021-06-17T15:39:01.645Z"
   },
   {
    "duration": 18,
    "start_time": "2021-06-17T15:39:01.676Z"
   },
   {
    "duration": 7,
    "start_time": "2021-06-17T15:39:33.309Z"
   },
   {
    "duration": 34,
    "start_time": "2021-06-17T15:39:55.589Z"
   },
   {
    "duration": 4,
    "start_time": "2021-06-17T15:40:16.984Z"
   },
   {
    "duration": 58,
    "start_time": "2021-06-17T15:40:16.990Z"
   },
   {
    "duration": 29,
    "start_time": "2021-06-17T15:40:17.050Z"
   },
   {
    "duration": 44,
    "start_time": "2021-06-17T15:40:17.082Z"
   },
   {
    "duration": 11,
    "start_time": "2021-06-17T15:40:17.129Z"
   },
   {
    "duration": 43,
    "start_time": "2021-06-17T15:40:17.142Z"
   },
   {
    "duration": 50,
    "start_time": "2021-06-17T15:40:17.188Z"
   },
   {
    "duration": 5,
    "start_time": "2021-06-17T15:40:17.241Z"
   },
   {
    "duration": 75,
    "start_time": "2021-06-17T15:40:17.250Z"
   },
   {
    "duration": 12,
    "start_time": "2021-06-17T15:40:17.328Z"
   },
   {
    "duration": 19,
    "start_time": "2021-06-17T15:40:17.342Z"
   },
   {
    "duration": 13,
    "start_time": "2021-06-17T15:40:17.363Z"
   },
   {
    "duration": 9,
    "start_time": "2021-06-17T15:40:17.379Z"
   },
   {
    "duration": 53,
    "start_time": "2021-06-17T15:40:17.390Z"
   },
   {
    "duration": 9,
    "start_time": "2021-06-17T15:40:17.445Z"
   },
   {
    "duration": 9,
    "start_time": "2021-06-17T15:40:17.457Z"
   },
   {
    "duration": 13,
    "start_time": "2021-06-17T15:40:17.468Z"
   },
   {
    "duration": 46,
    "start_time": "2021-06-17T15:40:17.483Z"
   },
   {
    "duration": 15,
    "start_time": "2021-06-17T15:40:17.531Z"
   },
   {
    "duration": 24,
    "start_time": "2021-06-17T15:40:17.549Z"
   },
   {
    "duration": 66,
    "start_time": "2021-06-17T15:40:17.576Z"
   },
   {
    "duration": 896,
    "start_time": "2021-06-17T15:40:17.645Z"
   },
   {
    "duration": 14,
    "start_time": "2021-06-17T15:40:18.544Z"
   },
   {
    "duration": 899,
    "start_time": "2021-06-17T15:40:18.562Z"
   },
   {
    "duration": 7,
    "start_time": "2021-06-17T15:40:19.463Z"
   },
   {
    "duration": 13,
    "start_time": "2021-06-17T15:40:19.473Z"
   },
   {
    "duration": 732,
    "start_time": "2021-06-17T15:40:19.492Z"
   },
   {
    "duration": 702,
    "start_time": "2021-06-17T15:40:20.226Z"
   },
   {
    "duration": 5612,
    "start_time": "2021-06-17T15:40:20.931Z"
   },
   {
    "duration": 15,
    "start_time": "2021-06-17T15:40:26.545Z"
   },
   {
    "duration": 16,
    "start_time": "2021-06-17T15:40:26.563Z"
   },
   {
    "duration": 70,
    "start_time": "2021-06-17T15:40:26.581Z"
   },
   {
    "duration": 315,
    "start_time": "2021-06-17T15:40:26.654Z"
   },
   {
    "duration": 26,
    "start_time": "2021-06-17T15:40:26.971Z"
   },
   {
    "duration": 44,
    "start_time": "2021-06-17T15:40:26.999Z"
   },
   {
    "duration": 718,
    "start_time": "2021-06-17T15:40:27.045Z"
   },
   {
    "duration": 9,
    "start_time": "2021-06-17T15:40:27.766Z"
   },
   {
    "duration": 8,
    "start_time": "2021-06-17T15:40:27.778Z"
   },
   {
    "duration": 36,
    "start_time": "2021-06-17T15:40:27.789Z"
   },
   {
    "duration": 26,
    "start_time": "2021-06-17T15:40:27.827Z"
   },
   {
    "duration": 897,
    "start_time": "2021-06-17T15:40:27.856Z"
   },
   {
    "duration": 24,
    "start_time": "2021-06-17T15:40:28.755Z"
   },
   {
    "duration": 721,
    "start_time": "2021-06-17T15:40:28.781Z"
   },
   {
    "duration": 29,
    "start_time": "2021-06-17T15:40:29.504Z"
   },
   {
    "duration": 24,
    "start_time": "2021-06-17T15:40:29.535Z"
   },
   {
    "duration": 7,
    "start_time": "2021-06-17T15:40:29.562Z"
   },
   {
    "duration": 16,
    "start_time": "2021-06-17T15:40:29.572Z"
   },
   {
    "duration": 25,
    "start_time": "2021-06-17T15:40:29.591Z"
   },
   {
    "duration": 11,
    "start_time": "2021-06-17T15:40:29.624Z"
   },
   {
    "duration": 13,
    "start_time": "2021-06-17T15:40:29.638Z"
   },
   {
    "duration": 23,
    "start_time": "2021-06-17T15:40:29.654Z"
   },
   {
    "duration": 14,
    "start_time": "2021-06-17T15:42:50.669Z"
   },
   {
    "duration": 5,
    "start_time": "2021-06-17T15:42:53.059Z"
   },
   {
    "duration": 54,
    "start_time": "2021-06-17T15:42:53.068Z"
   },
   {
    "duration": 42,
    "start_time": "2021-06-17T15:42:53.126Z"
   },
   {
    "duration": 21,
    "start_time": "2021-06-17T15:42:53.171Z"
   },
   {
    "duration": 14,
    "start_time": "2021-06-17T15:42:53.224Z"
   },
   {
    "duration": 47,
    "start_time": "2021-06-17T15:42:53.240Z"
   },
   {
    "duration": 50,
    "start_time": "2021-06-17T15:42:53.290Z"
   },
   {
    "duration": 6,
    "start_time": "2021-06-17T15:42:53.342Z"
   },
   {
    "duration": 84,
    "start_time": "2021-06-17T15:42:53.352Z"
   },
   {
    "duration": 15,
    "start_time": "2021-06-17T15:42:53.440Z"
   },
   {
    "duration": 50,
    "start_time": "2021-06-17T15:42:53.458Z"
   },
   {
    "duration": 18,
    "start_time": "2021-06-17T15:42:53.523Z"
   },
   {
    "duration": 14,
    "start_time": "2021-06-17T15:42:53.544Z"
   },
   {
    "duration": 25,
    "start_time": "2021-06-17T15:42:53.560Z"
   },
   {
    "duration": 47,
    "start_time": "2021-06-17T15:42:53.587Z"
   },
   {
    "duration": 11,
    "start_time": "2021-06-17T15:42:53.637Z"
   },
   {
    "duration": 19,
    "start_time": "2021-06-17T15:42:53.651Z"
   },
   {
    "duration": 15,
    "start_time": "2021-06-17T15:42:53.673Z"
   },
   {
    "duration": 16,
    "start_time": "2021-06-17T15:42:53.725Z"
   },
   {
    "duration": 26,
    "start_time": "2021-06-17T15:42:53.743Z"
   },
   {
    "duration": 67,
    "start_time": "2021-06-17T15:42:53.772Z"
   },
   {
    "duration": 850,
    "start_time": "2021-06-17T15:42:53.842Z"
   },
   {
    "duration": 10,
    "start_time": "2021-06-17T15:42:54.694Z"
   },
   {
    "duration": 1201,
    "start_time": "2021-06-17T15:42:54.723Z"
   },
   {
    "duration": 7,
    "start_time": "2021-06-17T15:42:55.927Z"
   },
   {
    "duration": 10,
    "start_time": "2021-06-17T15:42:55.937Z"
   },
   {
    "duration": 750,
    "start_time": "2021-06-17T15:42:55.953Z"
   },
   {
    "duration": 571,
    "start_time": "2021-06-17T15:42:56.706Z"
   },
   {
    "duration": 6057,
    "start_time": "2021-06-17T15:42:57.280Z"
   },
   {
    "duration": 17,
    "start_time": "2021-06-17T15:43:03.340Z"
   },
   {
    "duration": 3,
    "start_time": "2021-06-17T15:43:03.359Z"
   },
   {
    "duration": 93,
    "start_time": "2021-06-17T15:43:03.365Z"
   },
   {
    "duration": 316,
    "start_time": "2021-06-17T15:43:03.461Z"
   },
   {
    "duration": 25,
    "start_time": "2021-06-17T15:43:03.780Z"
   },
   {
    "duration": 38,
    "start_time": "2021-06-17T15:43:03.807Z"
   },
   {
    "duration": 849,
    "start_time": "2021-06-17T15:43:03.847Z"
   },
   {
    "duration": 25,
    "start_time": "2021-06-17T15:43:04.699Z"
   },
   {
    "duration": 9,
    "start_time": "2021-06-17T15:43:04.727Z"
   },
   {
    "duration": 11,
    "start_time": "2021-06-17T15:43:04.739Z"
   },
   {
    "duration": 34,
    "start_time": "2021-06-17T15:43:04.753Z"
   },
   {
    "duration": 861,
    "start_time": "2021-06-17T15:43:04.789Z"
   },
   {
    "duration": 24,
    "start_time": "2021-06-17T15:43:05.652Z"
   },
   {
    "duration": 757,
    "start_time": "2021-06-17T15:43:05.678Z"
   },
   {
    "duration": 18,
    "start_time": "2021-06-17T15:43:06.438Z"
   },
   {
    "duration": 8,
    "start_time": "2021-06-17T15:43:06.458Z"
   },
   {
    "duration": 11,
    "start_time": "2021-06-17T15:43:06.468Z"
   },
   {
    "duration": 43,
    "start_time": "2021-06-17T15:43:06.481Z"
   },
   {
    "duration": 19,
    "start_time": "2021-06-17T15:43:06.526Z"
   },
   {
    "duration": 7,
    "start_time": "2021-06-17T15:43:06.547Z"
   },
   {
    "duration": 15,
    "start_time": "2021-06-17T15:43:06.556Z"
   },
   {
    "duration": 7,
    "start_time": "2021-06-17T15:43:06.576Z"
   },
   {
    "duration": 678,
    "start_time": "2021-06-17T15:44:24.515Z"
   },
   {
    "duration": 4,
    "start_time": "2021-06-17T15:44:29.694Z"
   },
   {
    "duration": 58,
    "start_time": "2021-06-17T15:44:29.701Z"
   },
   {
    "duration": 28,
    "start_time": "2021-06-17T15:44:29.761Z"
   },
   {
    "duration": 37,
    "start_time": "2021-06-17T15:44:29.793Z"
   },
   {
    "duration": 12,
    "start_time": "2021-06-17T15:44:29.832Z"
   },
   {
    "duration": 41,
    "start_time": "2021-06-17T15:44:29.846Z"
   },
   {
    "duration": 51,
    "start_time": "2021-06-17T15:44:29.889Z"
   },
   {
    "duration": 6,
    "start_time": "2021-06-17T15:44:29.944Z"
   },
   {
    "duration": 73,
    "start_time": "2021-06-17T15:44:29.952Z"
   },
   {
    "duration": 11,
    "start_time": "2021-06-17T15:44:30.028Z"
   },
   {
    "duration": 31,
    "start_time": "2021-06-17T15:44:30.042Z"
   },
   {
    "duration": 17,
    "start_time": "2021-06-17T15:44:30.075Z"
   },
   {
    "duration": 30,
    "start_time": "2021-06-17T15:44:30.094Z"
   },
   {
    "duration": 31,
    "start_time": "2021-06-17T15:44:30.126Z"
   },
   {
    "duration": 18,
    "start_time": "2021-06-17T15:44:30.160Z"
   },
   {
    "duration": 14,
    "start_time": "2021-06-17T15:44:30.180Z"
   },
   {
    "duration": 27,
    "start_time": "2021-06-17T15:44:30.196Z"
   },
   {
    "duration": 17,
    "start_time": "2021-06-17T15:44:30.225Z"
   },
   {
    "duration": 20,
    "start_time": "2021-06-17T15:44:30.244Z"
   },
   {
    "duration": 23,
    "start_time": "2021-06-17T15:44:30.267Z"
   },
   {
    "duration": 56,
    "start_time": "2021-06-17T15:44:30.293Z"
   },
   {
    "duration": 1033,
    "start_time": "2021-06-17T15:44:30.352Z"
   },
   {
    "duration": 10,
    "start_time": "2021-06-17T15:44:31.388Z"
   },
   {
    "duration": 1135,
    "start_time": "2021-06-17T15:44:31.401Z"
   },
   {
    "duration": 1130,
    "start_time": "2021-06-17T15:45:07.640Z"
   },
   {
    "duration": 1125,
    "start_time": "2021-06-17T15:46:58.218Z"
   },
   {
    "duration": 1589,
    "start_time": "2021-06-17T15:47:11.809Z"
   },
   {
    "duration": 1151,
    "start_time": "2021-06-17T15:47:32.548Z"
   },
   {
    "duration": 6,
    "start_time": "2021-06-17T15:51:24.538Z"
   },
   {
    "duration": 5,
    "start_time": "2021-06-17T15:52:17.093Z"
   },
   {
    "duration": 53,
    "start_time": "2021-06-17T15:52:17.101Z"
   },
   {
    "duration": 28,
    "start_time": "2021-06-17T15:52:17.157Z"
   },
   {
    "duration": 39,
    "start_time": "2021-06-17T15:52:17.188Z"
   },
   {
    "duration": 13,
    "start_time": "2021-06-17T15:52:17.230Z"
   },
   {
    "duration": 44,
    "start_time": "2021-06-17T15:52:17.245Z"
   },
   {
    "duration": 53,
    "start_time": "2021-06-17T15:52:17.291Z"
   },
   {
    "duration": 6,
    "start_time": "2021-06-17T15:52:17.346Z"
   },
   {
    "duration": 76,
    "start_time": "2021-06-17T15:52:17.355Z"
   },
   {
    "duration": 12,
    "start_time": "2021-06-17T15:52:17.434Z"
   },
   {
    "duration": 24,
    "start_time": "2021-06-17T15:52:17.449Z"
   },
   {
    "duration": 15,
    "start_time": "2021-06-17T15:52:17.475Z"
   },
   {
    "duration": 35,
    "start_time": "2021-06-17T15:52:17.493Z"
   },
   {
    "duration": 30,
    "start_time": "2021-06-17T15:52:17.531Z"
   },
   {
    "duration": 14,
    "start_time": "2021-06-17T15:52:17.564Z"
   },
   {
    "duration": 18,
    "start_time": "2021-06-17T15:52:17.580Z"
   },
   {
    "duration": 30,
    "start_time": "2021-06-17T15:52:17.600Z"
   },
   {
    "duration": 9,
    "start_time": "2021-06-17T15:52:17.632Z"
   },
   {
    "duration": 28,
    "start_time": "2021-06-17T15:52:17.643Z"
   },
   {
    "duration": 32,
    "start_time": "2021-06-17T15:52:17.673Z"
   },
   {
    "duration": 50,
    "start_time": "2021-06-17T15:52:17.707Z"
   },
   {
    "duration": 857,
    "start_time": "2021-06-17T15:52:17.760Z"
   },
   {
    "duration": 10,
    "start_time": "2021-06-17T15:52:18.619Z"
   },
   {
    "duration": 1255,
    "start_time": "2021-06-17T15:52:18.632Z"
   },
   {
    "duration": 7,
    "start_time": "2021-06-17T15:52:19.890Z"
   },
   {
    "duration": 296,
    "start_time": "2021-06-17T15:53:07.461Z"
   },
   {
    "duration": 292,
    "start_time": "2021-06-17T15:53:14.158Z"
   },
   {
    "duration": 286,
    "start_time": "2021-06-17T15:58:09.743Z"
   },
   {
    "duration": 11,
    "start_time": "2021-06-17T15:58:20.608Z"
   },
   {
    "duration": 276,
    "start_time": "2021-06-17T15:59:06.337Z"
   },
   {
    "duration": 302,
    "start_time": "2021-06-17T15:59:13.169Z"
   },
   {
    "duration": 299,
    "start_time": "2021-06-17T16:01:26.484Z"
   },
   {
    "duration": 1100,
    "start_time": "2021-06-17T16:03:29.615Z"
   },
   {
    "duration": 952,
    "start_time": "2021-06-17T16:04:00.564Z"
   },
   {
    "duration": 571,
    "start_time": "2021-06-17T16:04:14.404Z"
   },
   {
    "duration": 4,
    "start_time": "2021-06-17T16:04:20.227Z"
   },
   {
    "duration": 52,
    "start_time": "2021-06-17T16:04:20.234Z"
   },
   {
    "duration": 47,
    "start_time": "2021-06-17T16:04:20.289Z"
   },
   {
    "duration": 14,
    "start_time": "2021-06-17T16:04:20.339Z"
   },
   {
    "duration": 12,
    "start_time": "2021-06-17T16:04:20.356Z"
   },
   {
    "duration": 78,
    "start_time": "2021-06-17T16:04:20.371Z"
   },
   {
    "duration": 24,
    "start_time": "2021-06-17T16:04:20.452Z"
   },
   {
    "duration": 6,
    "start_time": "2021-06-17T16:04:20.479Z"
   },
   {
    "duration": 80,
    "start_time": "2021-06-17T16:04:20.490Z"
   },
   {
    "duration": 13,
    "start_time": "2021-06-17T16:04:20.573Z"
   },
   {
    "duration": 39,
    "start_time": "2021-06-17T16:04:20.589Z"
   },
   {
    "duration": 12,
    "start_time": "2021-06-17T16:04:20.631Z"
   },
   {
    "duration": 10,
    "start_time": "2021-06-17T16:04:20.645Z"
   },
   {
    "duration": 21,
    "start_time": "2021-06-17T16:04:20.658Z"
   },
   {
    "duration": 44,
    "start_time": "2021-06-17T16:04:20.682Z"
   },
   {
    "duration": 9,
    "start_time": "2021-06-17T16:04:20.729Z"
   },
   {
    "duration": 16,
    "start_time": "2021-06-17T16:04:20.740Z"
   },
   {
    "duration": 9,
    "start_time": "2021-06-17T16:04:20.759Z"
   },
   {
    "duration": 58,
    "start_time": "2021-06-17T16:04:20.771Z"
   },
   {
    "duration": 27,
    "start_time": "2021-06-17T16:04:20.832Z"
   },
   {
    "duration": 65,
    "start_time": "2021-06-17T16:04:20.862Z"
   },
   {
    "duration": 815,
    "start_time": "2021-06-17T16:04:20.929Z"
   },
   {
    "duration": 11,
    "start_time": "2021-06-17T16:04:21.746Z"
   },
   {
    "duration": 1160,
    "start_time": "2021-06-17T16:04:21.759Z"
   },
   {
    "duration": 7,
    "start_time": "2021-06-17T16:04:22.924Z"
   },
   {
    "duration": 11,
    "start_time": "2021-06-17T16:04:22.933Z"
   },
   {
    "duration": 833,
    "start_time": "2021-06-17T16:04:22.950Z"
   },
   {
    "duration": 551,
    "start_time": "2021-06-17T16:04:23.786Z"
   },
   {
    "duration": 5393,
    "start_time": "2021-06-17T16:04:24.340Z"
   },
   {
    "duration": 16,
    "start_time": "2021-06-17T16:04:29.736Z"
   },
   {
    "duration": 15,
    "start_time": "2021-06-17T16:04:29.754Z"
   },
   {
    "duration": 70,
    "start_time": "2021-06-17T16:04:29.771Z"
   },
   {
    "duration": 308,
    "start_time": "2021-06-17T16:04:29.844Z"
   },
   {
    "duration": 545,
    "start_time": "2021-06-17T16:04:30.155Z"
   },
   {
    "duration": 1467,
    "start_time": "2021-06-17T16:05:22.904Z"
   },
   {
    "duration": 47,
    "start_time": "2021-06-17T16:05:24.374Z"
   },
   {
    "duration": 34,
    "start_time": "2021-06-17T16:05:24.424Z"
   },
   {
    "duration": 20,
    "start_time": "2021-06-17T16:05:24.460Z"
   },
   {
    "duration": 11,
    "start_time": "2021-06-17T16:05:24.483Z"
   },
   {
    "duration": 67,
    "start_time": "2021-06-17T16:05:24.496Z"
   },
   {
    "duration": 25,
    "start_time": "2021-06-17T16:05:24.566Z"
   },
   {
    "duration": 7,
    "start_time": "2021-06-17T16:05:24.624Z"
   },
   {
    "duration": 53,
    "start_time": "2021-06-17T16:05:24.635Z"
   },
   {
    "duration": 38,
    "start_time": "2021-06-17T16:05:24.691Z"
   },
   {
    "duration": 21,
    "start_time": "2021-06-17T16:05:24.732Z"
   },
   {
    "duration": 10,
    "start_time": "2021-06-17T16:05:24.755Z"
   },
   {
    "duration": 13,
    "start_time": "2021-06-17T16:05:24.768Z"
   },
   {
    "duration": 23,
    "start_time": "2021-06-17T16:05:24.823Z"
   },
   {
    "duration": 13,
    "start_time": "2021-06-17T16:05:24.849Z"
   },
   {
    "duration": 18,
    "start_time": "2021-06-17T16:05:24.864Z"
   },
   {
    "duration": 42,
    "start_time": "2021-06-17T16:05:24.884Z"
   },
   {
    "duration": 9,
    "start_time": "2021-06-17T16:05:24.928Z"
   },
   {
    "duration": 14,
    "start_time": "2021-06-17T16:05:24.939Z"
   },
   {
    "duration": 23,
    "start_time": "2021-06-17T16:05:24.955Z"
   },
   {
    "duration": 63,
    "start_time": "2021-06-17T16:05:24.981Z"
   },
   {
    "duration": 678,
    "start_time": "2021-06-17T16:05:25.048Z"
   },
   {
    "duration": 23,
    "start_time": "2021-06-17T16:05:25.732Z"
   },
   {
    "duration": 1038,
    "start_time": "2021-06-17T16:05:25.758Z"
   },
   {
    "duration": 6,
    "start_time": "2021-06-17T16:05:26.799Z"
   },
   {
    "duration": 23,
    "start_time": "2021-06-17T16:05:26.808Z"
   },
   {
    "duration": 595,
    "start_time": "2021-06-17T16:05:26.834Z"
   },
   {
    "duration": 508,
    "start_time": "2021-06-17T16:05:27.432Z"
   },
   {
    "duration": 5049,
    "start_time": "2021-06-17T16:05:27.942Z"
   },
   {
    "duration": 15,
    "start_time": "2021-06-17T16:05:32.993Z"
   },
   {
    "duration": 4,
    "start_time": "2021-06-17T16:05:33.024Z"
   },
   {
    "duration": 57,
    "start_time": "2021-06-17T16:05:33.031Z"
   },
   {
    "duration": 336,
    "start_time": "2021-06-17T16:05:33.090Z"
   },
   {
    "duration": 561,
    "start_time": "2021-06-17T16:05:33.428Z"
   },
   {
    "duration": 718,
    "start_time": "2021-06-17T16:05:33.992Z"
   },
   {
    "duration": 25,
    "start_time": "2021-06-17T16:05:34.725Z"
   },
   {
    "duration": 738,
    "start_time": "2021-06-17T16:05:34.752Z"
   },
   {
    "duration": 8,
    "start_time": "2021-06-17T16:05:35.492Z"
   },
   {
    "duration": 25,
    "start_time": "2021-06-17T16:05:35.502Z"
   },
   {
    "duration": 8,
    "start_time": "2021-06-17T16:05:35.530Z"
   },
   {
    "duration": 21,
    "start_time": "2021-06-17T16:05:35.540Z"
   },
   {
    "duration": 772,
    "start_time": "2021-06-17T16:05:35.563Z"
   },
   {
    "duration": 22,
    "start_time": "2021-06-17T16:05:36.338Z"
   },
   {
    "duration": 751,
    "start_time": "2021-06-17T16:05:36.362Z"
   },
   {
    "duration": 19,
    "start_time": "2021-06-17T16:05:37.116Z"
   },
   {
    "duration": 9,
    "start_time": "2021-06-17T16:05:37.138Z"
   },
   {
    "duration": 6,
    "start_time": "2021-06-17T16:05:37.149Z"
   },
   {
    "duration": 8,
    "start_time": "2021-06-17T16:05:37.158Z"
   },
   {
    "duration": 14,
    "start_time": "2021-06-17T16:05:37.168Z"
   },
   {
    "duration": 6,
    "start_time": "2021-06-17T16:05:37.224Z"
   },
   {
    "duration": 8,
    "start_time": "2021-06-17T16:05:37.233Z"
   },
   {
    "duration": 9,
    "start_time": "2021-06-17T16:05:37.243Z"
   },
   {
    "duration": 52,
    "start_time": "2021-06-17T16:06:12.149Z"
   },
   {
    "duration": 4,
    "start_time": "2021-06-17T16:10:34.175Z"
   },
   {
    "duration": 52,
    "start_time": "2021-06-17T16:10:34.182Z"
   },
   {
    "duration": 30,
    "start_time": "2021-06-17T16:10:34.237Z"
   },
   {
    "duration": 17,
    "start_time": "2021-06-17T16:10:34.269Z"
   },
   {
    "duration": 46,
    "start_time": "2021-06-17T16:10:34.288Z"
   },
   {
    "duration": 45,
    "start_time": "2021-06-17T16:10:34.337Z"
   },
   {
    "duration": 56,
    "start_time": "2021-06-17T16:10:34.385Z"
   },
   {
    "duration": 7,
    "start_time": "2021-06-17T16:10:34.444Z"
   },
   {
    "duration": 82,
    "start_time": "2021-06-17T16:10:34.458Z"
   },
   {
    "duration": 14,
    "start_time": "2021-06-17T16:10:34.544Z"
   },
   {
    "duration": 21,
    "start_time": "2021-06-17T16:10:34.561Z"
   },
   {
    "duration": 13,
    "start_time": "2021-06-17T16:10:34.625Z"
   },
   {
    "duration": 10,
    "start_time": "2021-06-17T16:10:34.641Z"
   },
   {
    "duration": 25,
    "start_time": "2021-06-17T16:10:34.654Z"
   },
   {
    "duration": 50,
    "start_time": "2021-06-17T16:10:34.682Z"
   },
   {
    "duration": 14,
    "start_time": "2021-06-17T16:10:34.734Z"
   },
   {
    "duration": 15,
    "start_time": "2021-06-17T16:10:34.750Z"
   },
   {
    "duration": 8,
    "start_time": "2021-06-17T16:10:34.767Z"
   },
   {
    "duration": 21,
    "start_time": "2021-06-17T16:10:34.777Z"
   },
   {
    "duration": 24,
    "start_time": "2021-06-17T16:10:34.824Z"
   },
   {
    "duration": 36,
    "start_time": "2021-06-17T16:10:34.851Z"
   },
   {
    "duration": 902,
    "start_time": "2021-06-17T16:10:34.890Z"
   },
   {
    "duration": 11,
    "start_time": "2021-06-17T16:10:35.795Z"
   },
   {
    "duration": 2084,
    "start_time": "2021-06-17T16:10:35.824Z"
   },
   {
    "duration": 17,
    "start_time": "2021-06-17T16:10:37.911Z"
   },
   {
    "duration": 18,
    "start_time": "2021-06-17T16:10:37.932Z"
   },
   {
    "duration": 1164,
    "start_time": "2021-06-17T16:10:37.960Z"
   },
   {
    "duration": 571,
    "start_time": "2021-06-17T16:10:39.127Z"
   },
   {
    "duration": 5071,
    "start_time": "2021-06-17T16:10:39.701Z"
   },
   {
    "duration": 20,
    "start_time": "2021-06-17T16:10:44.775Z"
   },
   {
    "duration": 27,
    "start_time": "2021-06-17T16:10:44.797Z"
   },
   {
    "duration": 51,
    "start_time": "2021-06-17T16:10:44.826Z"
   },
   {
    "duration": 434,
    "start_time": "2021-06-17T16:10:44.879Z"
   },
   {
    "duration": 562,
    "start_time": "2021-06-17T16:10:45.316Z"
   },
   {
    "duration": 44,
    "start_time": "2021-06-17T16:10:45.880Z"
   },
   {
    "duration": 24,
    "start_time": "2021-06-17T16:10:45.927Z"
   },
   {
    "duration": 778,
    "start_time": "2021-06-17T16:10:45.954Z"
   },
   {
    "duration": 8,
    "start_time": "2021-06-17T16:10:46.735Z"
   },
   {
    "duration": 9,
    "start_time": "2021-06-17T16:10:46.745Z"
   },
   {
    "duration": 12,
    "start_time": "2021-06-17T16:10:46.756Z"
   },
   {
    "duration": 22,
    "start_time": "2021-06-17T16:10:46.770Z"
   },
   {
    "duration": 1111,
    "start_time": "2021-06-17T16:10:46.795Z"
   },
   {
    "duration": 31,
    "start_time": "2021-06-17T16:10:47.908Z"
   },
   {
    "duration": 762,
    "start_time": "2021-06-17T16:10:47.942Z"
   },
   {
    "duration": 21,
    "start_time": "2021-06-17T16:10:48.707Z"
   },
   {
    "duration": 10,
    "start_time": "2021-06-17T16:10:48.731Z"
   },
   {
    "duration": 21,
    "start_time": "2021-06-17T16:10:48.744Z"
   },
   {
    "duration": 11,
    "start_time": "2021-06-17T16:10:48.768Z"
   },
   {
    "duration": 49,
    "start_time": "2021-06-17T16:10:48.782Z"
   },
   {
    "duration": 8,
    "start_time": "2021-06-17T16:10:48.833Z"
   },
   {
    "duration": 7,
    "start_time": "2021-06-17T16:10:48.844Z"
   },
   {
    "duration": 8,
    "start_time": "2021-06-17T16:10:48.854Z"
   },
   {
    "duration": 386,
    "start_time": "2021-06-17T16:11:39.897Z"
   },
   {
    "duration": 4,
    "start_time": "2021-06-17T16:11:46.061Z"
   },
   {
    "duration": 55,
    "start_time": "2021-06-17T16:11:46.069Z"
   },
   {
    "duration": 38,
    "start_time": "2021-06-17T16:11:46.127Z"
   },
   {
    "duration": 33,
    "start_time": "2021-06-17T16:11:46.174Z"
   },
   {
    "duration": 15,
    "start_time": "2021-06-17T16:11:46.210Z"
   },
   {
    "duration": 46,
    "start_time": "2021-06-17T16:11:46.228Z"
   },
   {
    "duration": 48,
    "start_time": "2021-06-17T16:11:46.277Z"
   },
   {
    "duration": 8,
    "start_time": "2021-06-17T16:11:46.328Z"
   },
   {
    "duration": 56,
    "start_time": "2021-06-17T16:11:46.340Z"
   },
   {
    "duration": 33,
    "start_time": "2021-06-17T16:11:46.400Z"
   },
   {
    "duration": 20,
    "start_time": "2021-06-17T16:11:46.435Z"
   },
   {
    "duration": 24,
    "start_time": "2021-06-17T16:11:46.458Z"
   },
   {
    "duration": 11,
    "start_time": "2021-06-17T16:11:46.485Z"
   },
   {
    "duration": 27,
    "start_time": "2021-06-17T16:11:46.525Z"
   },
   {
    "duration": 10,
    "start_time": "2021-06-17T16:11:46.555Z"
   },
   {
    "duration": 9,
    "start_time": "2021-06-17T16:11:46.567Z"
   },
   {
    "duration": 46,
    "start_time": "2021-06-17T16:11:46.578Z"
   },
   {
    "duration": 9,
    "start_time": "2021-06-17T16:11:46.626Z"
   },
   {
    "duration": 19,
    "start_time": "2021-06-17T16:11:46.637Z"
   },
   {
    "duration": 34,
    "start_time": "2021-06-17T16:11:46.658Z"
   },
   {
    "duration": 59,
    "start_time": "2021-06-17T16:11:46.696Z"
   },
   {
    "duration": 994,
    "start_time": "2021-06-17T16:11:46.757Z"
   },
   {
    "duration": 4,
    "start_time": "2021-06-17T16:17:59.410Z"
   },
   {
    "duration": 52,
    "start_time": "2021-06-17T16:17:59.417Z"
   },
   {
    "duration": 54,
    "start_time": "2021-06-17T16:17:59.472Z"
   },
   {
    "duration": 14,
    "start_time": "2021-06-17T16:17:59.529Z"
   },
   {
    "duration": 12,
    "start_time": "2021-06-17T16:17:59.545Z"
   },
   {
    "duration": 81,
    "start_time": "2021-06-17T16:17:59.559Z"
   },
   {
    "duration": 27,
    "start_time": "2021-06-17T16:17:59.643Z"
   },
   {
    "duration": 7,
    "start_time": "2021-06-17T16:17:59.673Z"
   },
   {
    "duration": 182,
    "start_time": "2021-06-17T16:17:59.685Z"
   },
   {
    "duration": 12,
    "start_time": "2021-06-17T16:17:59.870Z"
   },
   {
    "duration": 40,
    "start_time": "2021-06-17T16:17:59.885Z"
   },
   {
    "duration": 12,
    "start_time": "2021-06-17T16:17:59.928Z"
   },
   {
    "duration": 13,
    "start_time": "2021-06-17T16:17:59.942Z"
   },
   {
    "duration": 28,
    "start_time": "2021-06-17T16:17:59.958Z"
   },
   {
    "duration": 46,
    "start_time": "2021-06-17T16:17:59.988Z"
   },
   {
    "duration": 21,
    "start_time": "2021-06-17T16:18:00.036Z"
   },
   {
    "duration": 24,
    "start_time": "2021-06-17T16:18:00.060Z"
   },
   {
    "duration": 15,
    "start_time": "2021-06-17T16:18:00.086Z"
   },
   {
    "duration": 35,
    "start_time": "2021-06-17T16:18:00.104Z"
   },
   {
    "duration": 26,
    "start_time": "2021-06-17T16:18:00.141Z"
   },
   {
    "duration": 60,
    "start_time": "2021-06-17T16:18:00.169Z"
   },
   {
    "duration": 913,
    "start_time": "2021-06-17T16:18:00.231Z"
   },
   {
    "duration": 15,
    "start_time": "2021-06-17T16:18:01.147Z"
   },
   {
    "duration": 1194,
    "start_time": "2021-06-17T16:18:01.165Z"
   },
   {
    "duration": 8,
    "start_time": "2021-06-17T16:18:02.362Z"
   },
   {
    "duration": 21,
    "start_time": "2021-06-17T16:18:02.373Z"
   },
   {
    "duration": 767,
    "start_time": "2021-06-17T16:18:02.400Z"
   },
   {
    "duration": 554,
    "start_time": "2021-06-17T16:18:03.170Z"
   },
   {
    "duration": 5275,
    "start_time": "2021-06-17T16:18:03.727Z"
   },
   {
    "duration": 27,
    "start_time": "2021-06-17T16:18:09.005Z"
   },
   {
    "duration": 13,
    "start_time": "2021-06-17T16:18:09.034Z"
   },
   {
    "duration": 66,
    "start_time": "2021-06-17T16:18:09.049Z"
   },
   {
    "duration": 306,
    "start_time": "2021-06-17T16:18:09.117Z"
   },
   {
    "duration": 560,
    "start_time": "2021-06-17T16:18:09.426Z"
   },
   {
    "duration": 38,
    "start_time": "2021-06-17T16:18:09.988Z"
   },
   {
    "duration": 37,
    "start_time": "2021-06-17T16:18:10.028Z"
   },
   {
    "duration": 882,
    "start_time": "2021-06-17T16:18:10.067Z"
   },
   {
    "duration": 10,
    "start_time": "2021-06-17T16:18:10.952Z"
   },
   {
    "duration": 64,
    "start_time": "2021-06-17T16:18:10.965Z"
   },
   {
    "duration": 23,
    "start_time": "2021-06-17T16:18:11.031Z"
   },
   {
    "duration": 68,
    "start_time": "2021-06-17T16:18:11.056Z"
   },
   {
    "duration": 947,
    "start_time": "2021-06-17T16:18:11.127Z"
   },
   {
    "duration": 22,
    "start_time": "2021-06-17T16:18:12.077Z"
   },
   {
    "duration": 780,
    "start_time": "2021-06-17T16:18:12.102Z"
   },
   {
    "duration": 13,
    "start_time": "2021-06-17T16:18:12.884Z"
   },
   {
    "duration": 24,
    "start_time": "2021-06-17T16:18:12.899Z"
   },
   {
    "duration": 5,
    "start_time": "2021-06-17T16:18:12.926Z"
   },
   {
    "duration": 11,
    "start_time": "2021-06-17T16:18:12.933Z"
   },
   {
    "duration": 17,
    "start_time": "2021-06-17T16:18:12.946Z"
   },
   {
    "duration": 10,
    "start_time": "2021-06-17T16:18:12.966Z"
   },
   {
    "duration": 9,
    "start_time": "2021-06-17T16:18:12.978Z"
   },
   {
    "duration": 40,
    "start_time": "2021-06-17T16:18:12.989Z"
   },
   {
    "duration": 511,
    "start_time": "2021-06-17T16:21:49.221Z"
   },
   {
    "duration": 4,
    "start_time": "2021-06-17T16:22:48.025Z"
   },
   {
    "duration": 54,
    "start_time": "2021-06-17T16:22:48.032Z"
   },
   {
    "duration": 53,
    "start_time": "2021-06-17T16:22:48.091Z"
   },
   {
    "duration": 18,
    "start_time": "2021-06-17T16:22:48.147Z"
   },
   {
    "duration": 11,
    "start_time": "2021-06-17T16:22:48.167Z"
   },
   {
    "duration": 85,
    "start_time": "2021-06-17T16:22:48.180Z"
   },
   {
    "duration": 23,
    "start_time": "2021-06-17T16:22:48.268Z"
   },
   {
    "duration": 30,
    "start_time": "2021-06-17T16:22:48.293Z"
   },
   {
    "duration": 199,
    "start_time": "2021-06-17T16:22:48.327Z"
   },
   {
    "duration": 12,
    "start_time": "2021-06-17T16:22:48.529Z"
   },
   {
    "duration": 20,
    "start_time": "2021-06-17T16:22:48.544Z"
   },
   {
    "duration": 12,
    "start_time": "2021-06-17T16:22:48.566Z"
   },
   {
    "duration": 49,
    "start_time": "2021-06-17T16:22:48.580Z"
   },
   {
    "duration": 30,
    "start_time": "2021-06-17T16:22:48.631Z"
   },
   {
    "duration": 10,
    "start_time": "2021-06-17T16:22:48.663Z"
   },
   {
    "duration": 10,
    "start_time": "2021-06-17T16:22:48.676Z"
   },
   {
    "duration": 43,
    "start_time": "2021-06-17T16:22:48.688Z"
   },
   {
    "duration": 11,
    "start_time": "2021-06-17T16:22:48.734Z"
   },
   {
    "duration": 15,
    "start_time": "2021-06-17T16:22:48.747Z"
   },
   {
    "duration": 62,
    "start_time": "2021-06-17T16:22:48.765Z"
   },
   {
    "duration": 38,
    "start_time": "2021-06-17T16:22:48.830Z"
   },
   {
    "duration": 857,
    "start_time": "2021-06-17T16:22:48.871Z"
   },
   {
    "duration": 12,
    "start_time": "2021-06-17T16:22:49.732Z"
   },
   {
    "duration": 1207,
    "start_time": "2021-06-17T16:22:49.747Z"
   },
   {
    "duration": 8,
    "start_time": "2021-06-17T16:22:50.957Z"
   },
   {
    "duration": 18,
    "start_time": "2021-06-17T16:22:50.968Z"
   },
   {
    "duration": 737,
    "start_time": "2021-06-17T16:22:50.991Z"
   },
   {
    "duration": 549,
    "start_time": "2021-06-17T16:22:51.731Z"
   },
   {
    "duration": 5220,
    "start_time": "2021-06-17T16:22:52.282Z"
   },
   {
    "duration": 26,
    "start_time": "2021-06-17T16:22:57.504Z"
   },
   {
    "duration": 6,
    "start_time": "2021-06-17T16:22:57.533Z"
   },
   {
    "duration": 50,
    "start_time": "2021-06-17T16:22:57.542Z"
   },
   {
    "duration": 517,
    "start_time": "2021-06-17T16:22:57.623Z"
   },
   {
    "duration": 27,
    "start_time": "2021-06-17T16:22:58.143Z"
   },
   {
    "duration": 58,
    "start_time": "2021-06-17T16:22:58.173Z"
   },
   {
    "duration": 1134,
    "start_time": "2021-06-17T16:22:58.234Z"
   },
   {
    "duration": 9,
    "start_time": "2021-06-17T16:22:59.371Z"
   },
   {
    "duration": 26,
    "start_time": "2021-06-17T16:22:59.382Z"
   },
   {
    "duration": 23,
    "start_time": "2021-06-17T16:22:59.410Z"
   },
   {
    "duration": 22,
    "start_time": "2021-06-17T16:22:59.435Z"
   },
   {
    "duration": 741,
    "start_time": "2021-06-17T16:22:59.459Z"
   },
   {
    "duration": 34,
    "start_time": "2021-06-17T16:23:00.203Z"
   },
   {
    "duration": 762,
    "start_time": "2021-06-17T16:23:00.240Z"
   },
   {
    "duration": 26,
    "start_time": "2021-06-17T16:23:01.005Z"
   },
   {
    "duration": 17,
    "start_time": "2021-06-17T16:23:01.034Z"
   },
   {
    "duration": 19,
    "start_time": "2021-06-17T16:23:01.054Z"
   },
   {
    "duration": 14,
    "start_time": "2021-06-17T16:23:01.075Z"
   },
   {
    "duration": 44,
    "start_time": "2021-06-17T16:23:01.092Z"
   },
   {
    "duration": 13,
    "start_time": "2021-06-17T16:23:01.139Z"
   },
   {
    "duration": 14,
    "start_time": "2021-06-17T16:23:01.154Z"
   },
   {
    "duration": 16,
    "start_time": "2021-06-17T16:23:01.170Z"
   },
   {
    "duration": 441,
    "start_time": "2021-06-17T16:28:58.321Z"
   },
   {
    "duration": 26,
    "start_time": "2021-06-17T16:29:18.655Z"
   },
   {
    "duration": 487,
    "start_time": "2021-06-17T16:30:29.170Z"
   },
   {
    "duration": 4,
    "start_time": "2021-06-17T16:30:40.014Z"
   },
   {
    "duration": 55,
    "start_time": "2021-06-17T16:30:40.021Z"
   },
   {
    "duration": 50,
    "start_time": "2021-06-17T16:30:40.079Z"
   },
   {
    "duration": 14,
    "start_time": "2021-06-17T16:30:40.132Z"
   },
   {
    "duration": 13,
    "start_time": "2021-06-17T16:30:40.149Z"
   },
   {
    "duration": 85,
    "start_time": "2021-06-17T16:30:40.164Z"
   },
   {
    "duration": 25,
    "start_time": "2021-06-17T16:30:40.251Z"
   },
   {
    "duration": 7,
    "start_time": "2021-06-17T16:30:40.278Z"
   },
   {
    "duration": 82,
    "start_time": "2021-06-17T16:30:40.289Z"
   },
   {
    "duration": 12,
    "start_time": "2021-06-17T16:30:40.374Z"
   },
   {
    "duration": 44,
    "start_time": "2021-06-17T16:30:40.389Z"
   },
   {
    "duration": 11,
    "start_time": "2021-06-17T16:30:40.435Z"
   },
   {
    "duration": 12,
    "start_time": "2021-06-17T16:30:40.449Z"
   },
   {
    "duration": 22,
    "start_time": "2021-06-17T16:30:40.463Z"
   },
   {
    "duration": 44,
    "start_time": "2021-06-17T16:30:40.487Z"
   },
   {
    "duration": 11,
    "start_time": "2021-06-17T16:30:40.533Z"
   },
   {
    "duration": 13,
    "start_time": "2021-06-17T16:30:40.546Z"
   },
   {
    "duration": 10,
    "start_time": "2021-06-17T16:30:40.561Z"
   },
   {
    "duration": 60,
    "start_time": "2021-06-17T16:30:40.574Z"
   },
   {
    "duration": 27,
    "start_time": "2021-06-17T16:30:40.637Z"
   },
   {
    "duration": 65,
    "start_time": "2021-06-17T16:30:40.667Z"
   },
   {
    "duration": 971,
    "start_time": "2021-06-17T16:30:40.735Z"
   },
   {
    "duration": 23,
    "start_time": "2021-06-17T16:30:41.709Z"
   },
   {
    "duration": 1198,
    "start_time": "2021-06-17T16:30:41.734Z"
   },
   {
    "duration": 9,
    "start_time": "2021-06-17T16:30:42.935Z"
   },
   {
    "duration": 18,
    "start_time": "2021-06-17T16:30:42.947Z"
   },
   {
    "duration": 765,
    "start_time": "2021-06-17T16:30:42.973Z"
   },
   {
    "duration": 561,
    "start_time": "2021-06-17T16:30:43.742Z"
   },
   {
    "duration": 5770,
    "start_time": "2021-06-17T16:30:44.306Z"
   },
   {
    "duration": 16,
    "start_time": "2021-06-17T16:30:50.078Z"
   },
   {
    "duration": 27,
    "start_time": "2021-06-17T16:30:50.096Z"
   },
   {
    "duration": 55,
    "start_time": "2021-06-17T16:30:50.126Z"
   },
   {
    "duration": 498,
    "start_time": "2021-06-17T16:30:50.183Z"
   },
   {
    "duration": 39,
    "start_time": "2021-06-17T16:30:50.684Z"
   },
   {
    "duration": 27,
    "start_time": "2021-06-17T16:30:50.725Z"
   },
   {
    "duration": 761,
    "start_time": "2021-06-17T16:30:50.754Z"
   },
   {
    "duration": 9,
    "start_time": "2021-06-17T16:30:51.524Z"
   },
   {
    "duration": 12,
    "start_time": "2021-06-17T16:30:51.536Z"
   },
   {
    "duration": 16,
    "start_time": "2021-06-17T16:30:51.550Z"
   },
   {
    "duration": 23,
    "start_time": "2021-06-17T16:30:51.569Z"
   },
   {
    "duration": 757,
    "start_time": "2021-06-17T16:30:51.594Z"
   },
   {
    "duration": 21,
    "start_time": "2021-06-17T16:30:52.354Z"
   },
   {
    "duration": 758,
    "start_time": "2021-06-17T16:30:52.377Z"
   },
   {
    "duration": 13,
    "start_time": "2021-06-17T16:30:53.138Z"
   },
   {
    "duration": 11,
    "start_time": "2021-06-17T16:30:53.153Z"
   },
   {
    "duration": 8,
    "start_time": "2021-06-17T16:30:53.166Z"
   },
   {
    "duration": 9,
    "start_time": "2021-06-17T16:30:53.176Z"
   },
   {
    "duration": 45,
    "start_time": "2021-06-17T16:30:53.187Z"
   },
   {
    "duration": 6,
    "start_time": "2021-06-17T16:30:53.235Z"
   },
   {
    "duration": 7,
    "start_time": "2021-06-17T16:30:53.243Z"
   },
   {
    "duration": 9,
    "start_time": "2021-06-17T16:30:53.253Z"
   },
   {
    "duration": 742,
    "start_time": "2021-06-17T16:31:44.022Z"
   },
   {
    "duration": 1473,
    "start_time": "2021-06-17T16:32:18.329Z"
   },
   {
    "duration": 1126,
    "start_time": "2021-06-17T16:33:06.244Z"
   },
   {
    "duration": 728,
    "start_time": "2021-06-17T16:35:10.155Z"
   },
   {
    "duration": 750,
    "start_time": "2021-06-17T16:36:37.281Z"
   },
   {
    "duration": 728,
    "start_time": "2021-06-17T16:37:57.553Z"
   },
   {
    "duration": 750,
    "start_time": "2021-06-17T16:38:17.487Z"
   },
   {
    "duration": 5,
    "start_time": "2021-06-17T16:38:40.812Z"
   },
   {
    "duration": 57,
    "start_time": "2021-06-17T16:38:40.820Z"
   },
   {
    "duration": 48,
    "start_time": "2021-06-17T16:38:40.880Z"
   },
   {
    "duration": 18,
    "start_time": "2021-06-17T16:38:40.931Z"
   },
   {
    "duration": 12,
    "start_time": "2021-06-17T16:38:40.952Z"
   },
   {
    "duration": 83,
    "start_time": "2021-06-17T16:38:40.966Z"
   },
   {
    "duration": 150,
    "start_time": "2021-06-17T16:38:41.053Z"
   },
   {
    "duration": 6,
    "start_time": "2021-06-17T16:38:41.207Z"
   },
   {
    "duration": 57,
    "start_time": "2021-06-17T16:38:41.215Z"
   },
   {
    "duration": 13,
    "start_time": "2021-06-17T16:38:41.275Z"
   },
   {
    "duration": 47,
    "start_time": "2021-06-17T16:38:41.290Z"
   },
   {
    "duration": 12,
    "start_time": "2021-06-17T16:38:41.339Z"
   },
   {
    "duration": 11,
    "start_time": "2021-06-17T16:38:41.353Z"
   },
   {
    "duration": 24,
    "start_time": "2021-06-17T16:38:41.366Z"
   },
   {
    "duration": 11,
    "start_time": "2021-06-17T16:38:41.425Z"
   },
   {
    "duration": 10,
    "start_time": "2021-06-17T16:38:41.438Z"
   },
   {
    "duration": 18,
    "start_time": "2021-06-17T16:38:41.450Z"
   },
   {
    "duration": 14,
    "start_time": "2021-06-17T16:38:41.470Z"
   },
   {
    "duration": 38,
    "start_time": "2021-06-17T16:38:41.490Z"
   },
   {
    "duration": 26,
    "start_time": "2021-06-17T16:38:41.531Z"
   },
   {
    "duration": 35,
    "start_time": "2021-06-17T16:38:41.560Z"
   },
   {
    "duration": 890,
    "start_time": "2021-06-17T16:38:41.598Z"
   },
   {
    "duration": 10,
    "start_time": "2021-06-17T16:38:42.490Z"
   },
   {
    "duration": 1197,
    "start_time": "2021-06-17T16:38:42.503Z"
   },
   {
    "duration": 6,
    "start_time": "2021-06-17T16:38:43.703Z"
   },
   {
    "duration": 10,
    "start_time": "2021-06-17T16:38:43.724Z"
   },
   {
    "duration": 749,
    "start_time": "2021-06-17T16:38:43.737Z"
   },
   {
    "duration": 549,
    "start_time": "2021-06-17T16:38:44.489Z"
   },
   {
    "duration": 5425,
    "start_time": "2021-06-17T16:38:45.040Z"
   },
   {
    "duration": 15,
    "start_time": "2021-06-17T16:38:50.467Z"
   },
   {
    "duration": 6,
    "start_time": "2021-06-17T16:38:50.485Z"
   },
   {
    "duration": 74,
    "start_time": "2021-06-17T16:38:50.493Z"
   },
   {
    "duration": 497,
    "start_time": "2021-06-17T16:38:50.570Z"
   },
   {
    "duration": 28,
    "start_time": "2021-06-17T16:38:51.070Z"
   },
   {
    "duration": 45,
    "start_time": "2021-06-17T16:38:51.100Z"
   },
   {
    "duration": 752,
    "start_time": "2021-06-17T16:38:51.147Z"
   },
   {
    "duration": 8,
    "start_time": "2021-06-17T16:38:51.901Z"
   },
   {
    "duration": 19,
    "start_time": "2021-06-17T16:38:51.911Z"
   },
   {
    "duration": 10,
    "start_time": "2021-06-17T16:38:51.933Z"
   },
   {
    "duration": 23,
    "start_time": "2021-06-17T16:38:51.945Z"
   },
   {
    "duration": 777,
    "start_time": "2021-06-17T16:38:51.970Z"
   },
   {
    "duration": 23,
    "start_time": "2021-06-17T16:38:52.749Z"
   },
   {
    "duration": 784,
    "start_time": "2021-06-17T16:38:52.774Z"
   },
   {
    "duration": 13,
    "start_time": "2021-06-17T16:38:53.560Z"
   },
   {
    "duration": 11,
    "start_time": "2021-06-17T16:38:53.575Z"
   },
   {
    "duration": 7,
    "start_time": "2021-06-17T16:38:53.588Z"
   },
   {
    "duration": 6,
    "start_time": "2021-06-17T16:38:53.624Z"
   },
   {
    "duration": 18,
    "start_time": "2021-06-17T16:38:53.633Z"
   },
   {
    "duration": 7,
    "start_time": "2021-06-17T16:38:53.653Z"
   },
   {
    "duration": 14,
    "start_time": "2021-06-17T16:38:53.662Z"
   },
   {
    "duration": 17,
    "start_time": "2021-06-17T16:38:53.678Z"
   },
   {
    "duration": 5,
    "start_time": "2021-06-17T16:46:47.386Z"
   },
   {
    "duration": 57,
    "start_time": "2021-06-17T16:46:47.393Z"
   },
   {
    "duration": 29,
    "start_time": "2021-06-17T16:46:47.453Z"
   },
   {
    "duration": 45,
    "start_time": "2021-06-17T16:46:47.485Z"
   },
   {
    "duration": 11,
    "start_time": "2021-06-17T16:46:47.532Z"
   },
   {
    "duration": 46,
    "start_time": "2021-06-17T16:46:47.546Z"
   },
   {
    "duration": 50,
    "start_time": "2021-06-17T16:46:47.594Z"
   },
   {
    "duration": 7,
    "start_time": "2021-06-17T16:46:47.646Z"
   },
   {
    "duration": 92,
    "start_time": "2021-06-17T16:46:47.661Z"
   },
   {
    "duration": 15,
    "start_time": "2021-06-17T16:46:47.757Z"
   },
   {
    "duration": 22,
    "start_time": "2021-06-17T16:46:47.775Z"
   },
   {
    "duration": 13,
    "start_time": "2021-06-17T16:46:47.826Z"
   },
   {
    "duration": 10,
    "start_time": "2021-06-17T16:46:47.841Z"
   },
   {
    "duration": 35,
    "start_time": "2021-06-17T16:46:47.853Z"
   },
   {
    "duration": 38,
    "start_time": "2021-06-17T16:46:47.891Z"
   },
   {
    "duration": 11,
    "start_time": "2021-06-17T16:46:47.932Z"
   },
   {
    "duration": 15,
    "start_time": "2021-06-17T16:46:47.945Z"
   },
   {
    "duration": 10,
    "start_time": "2021-06-17T16:46:47.963Z"
   },
   {
    "duration": 55,
    "start_time": "2021-06-17T16:46:47.976Z"
   },
   {
    "duration": 24,
    "start_time": "2021-06-17T16:46:48.034Z"
   },
   {
    "duration": 66,
    "start_time": "2021-06-17T16:46:48.060Z"
   },
   {
    "duration": 841,
    "start_time": "2021-06-17T16:46:48.129Z"
   },
   {
    "duration": 10,
    "start_time": "2021-06-17T16:46:48.972Z"
   },
   {
    "duration": 1352,
    "start_time": "2021-06-17T16:46:48.984Z"
   },
   {
    "duration": 6,
    "start_time": "2021-06-17T16:46:50.338Z"
   },
   {
    "duration": 12,
    "start_time": "2021-06-17T16:46:50.347Z"
   },
   {
    "duration": 747,
    "start_time": "2021-06-17T16:46:50.364Z"
   },
   {
    "duration": 552,
    "start_time": "2021-06-17T16:46:51.114Z"
   },
   {
    "duration": 5329,
    "start_time": "2021-06-17T16:46:51.669Z"
   },
   {
    "duration": 29,
    "start_time": "2021-06-17T16:46:57.001Z"
   },
   {
    "duration": 10,
    "start_time": "2021-06-17T16:46:57.032Z"
   },
   {
    "duration": 62,
    "start_time": "2021-06-17T16:46:57.044Z"
   },
   {
    "duration": 515,
    "start_time": "2021-06-17T16:46:57.109Z"
   },
   {
    "duration": 27,
    "start_time": "2021-06-17T16:46:57.626Z"
   },
   {
    "duration": 22,
    "start_time": "2021-06-17T16:46:57.656Z"
   },
   {
    "duration": 757,
    "start_time": "2021-06-17T16:46:57.680Z"
   },
   {
    "duration": 9,
    "start_time": "2021-06-17T16:46:58.439Z"
   },
   {
    "duration": 11,
    "start_time": "2021-06-17T16:46:58.451Z"
   },
   {
    "duration": 14,
    "start_time": "2021-06-17T16:46:58.464Z"
   },
   {
    "duration": 54,
    "start_time": "2021-06-17T16:46:58.480Z"
   },
   {
    "duration": 741,
    "start_time": "2021-06-17T16:46:58.536Z"
   },
   {
    "duration": 21,
    "start_time": "2021-06-17T16:46:59.280Z"
   },
   {
    "duration": 861,
    "start_time": "2021-06-17T16:46:59.304Z"
   },
   {
    "duration": 13,
    "start_time": "2021-06-17T16:47:00.167Z"
   },
   {
    "duration": 17,
    "start_time": "2021-06-17T16:47:00.182Z"
   },
   {
    "duration": 24,
    "start_time": "2021-06-17T16:47:00.201Z"
   },
   {
    "duration": 8,
    "start_time": "2021-06-17T16:47:03.226Z"
   },
   {
    "duration": 7,
    "start_time": "2021-06-17T16:48:42.959Z"
   },
   {
    "duration": 4,
    "start_time": "2021-06-17T16:50:40.075Z"
   },
   {
    "duration": 71,
    "start_time": "2021-06-17T16:50:40.083Z"
   },
   {
    "duration": 66,
    "start_time": "2021-06-17T16:50:40.158Z"
   },
   {
    "duration": 17,
    "start_time": "2021-06-17T16:50:40.227Z"
   },
   {
    "duration": 14,
    "start_time": "2021-06-17T16:50:40.247Z"
   },
   {
    "duration": 81,
    "start_time": "2021-06-17T16:50:40.264Z"
   },
   {
    "duration": 24,
    "start_time": "2021-06-17T16:50:40.349Z"
   },
   {
    "duration": 7,
    "start_time": "2021-06-17T16:50:40.376Z"
   },
   {
    "duration": 88,
    "start_time": "2021-06-17T16:50:40.389Z"
   },
   {
    "duration": 12,
    "start_time": "2021-06-17T16:50:40.480Z"
   },
   {
    "duration": 42,
    "start_time": "2021-06-17T16:50:40.494Z"
   },
   {
    "duration": 17,
    "start_time": "2021-06-17T16:50:40.538Z"
   },
   {
    "duration": 10,
    "start_time": "2021-06-17T16:50:40.558Z"
   },
   {
    "duration": 22,
    "start_time": "2021-06-17T16:50:40.571Z"
   },
   {
    "duration": 35,
    "start_time": "2021-06-17T16:50:40.595Z"
   },
   {
    "duration": 14,
    "start_time": "2021-06-17T16:50:40.632Z"
   },
   {
    "duration": 14,
    "start_time": "2021-06-17T16:50:40.649Z"
   },
   {
    "duration": 11,
    "start_time": "2021-06-17T16:50:40.665Z"
   },
   {
    "duration": 50,
    "start_time": "2021-06-17T16:50:40.679Z"
   },
   {
    "duration": 25,
    "start_time": "2021-06-17T16:50:40.731Z"
   },
   {
    "duration": 35,
    "start_time": "2021-06-17T16:50:40.758Z"
   },
   {
    "duration": 942,
    "start_time": "2021-06-17T16:50:40.824Z"
   },
   {
    "duration": 11,
    "start_time": "2021-06-17T16:50:41.769Z"
   },
   {
    "duration": 1339,
    "start_time": "2021-06-17T16:50:41.782Z"
   },
   {
    "duration": 6,
    "start_time": "2021-06-17T16:50:43.124Z"
   },
   {
    "duration": 10,
    "start_time": "2021-06-17T16:50:43.132Z"
   },
   {
    "duration": 741,
    "start_time": "2021-06-17T16:50:43.148Z"
   },
   {
    "duration": 559,
    "start_time": "2021-06-17T16:50:43.892Z"
   },
   {
    "duration": 5074,
    "start_time": "2021-06-17T16:50:44.453Z"
   },
   {
    "duration": 17,
    "start_time": "2021-06-17T16:50:49.530Z"
   },
   {
    "duration": 8,
    "start_time": "2021-06-17T16:50:49.549Z"
   },
   {
    "duration": 78,
    "start_time": "2021-06-17T16:50:49.560Z"
   },
   {
    "duration": 511,
    "start_time": "2021-06-17T16:50:49.641Z"
   },
   {
    "duration": 26,
    "start_time": "2021-06-17T16:50:50.155Z"
   },
   {
    "duration": 168,
    "start_time": "2021-06-17T16:50:50.184Z"
   },
   {
    "duration": 758,
    "start_time": "2021-06-17T16:50:50.355Z"
   },
   {
    "duration": 14,
    "start_time": "2021-06-17T16:50:51.115Z"
   },
   {
    "duration": 15,
    "start_time": "2021-06-17T16:50:51.131Z"
   },
   {
    "duration": 11,
    "start_time": "2021-06-17T16:50:51.148Z"
   },
   {
    "duration": 24,
    "start_time": "2021-06-17T16:50:51.162Z"
   },
   {
    "duration": 763,
    "start_time": "2021-06-17T16:50:51.189Z"
   },
   {
    "duration": 22,
    "start_time": "2021-06-17T16:50:51.954Z"
   },
   {
    "duration": 869,
    "start_time": "2021-06-17T16:50:51.979Z"
   },
   {
    "duration": 14,
    "start_time": "2021-06-17T16:50:52.851Z"
   },
   {
    "duration": 18,
    "start_time": "2021-06-17T16:50:52.867Z"
   },
   {
    "duration": 12,
    "start_time": "2021-06-17T16:50:52.888Z"
   },
   {
    "duration": 24,
    "start_time": "2021-06-17T16:50:52.902Z"
   },
   {
    "duration": 17,
    "start_time": "2021-06-17T16:50:52.928Z"
   },
   {
    "duration": 28,
    "start_time": "2021-06-17T16:50:52.947Z"
   },
   {
    "duration": 11,
    "start_time": "2021-06-17T16:50:52.977Z"
   },
   {
    "duration": 6,
    "start_time": "2021-06-17T16:50:52.990Z"
   },
   {
    "duration": 29,
    "start_time": "2021-06-17T16:50:52.998Z"
   },
   {
    "duration": 7,
    "start_time": "2021-06-17T16:52:18.253Z"
   },
   {
    "duration": 5,
    "start_time": "2021-06-17T16:52:24.311Z"
   },
   {
    "duration": 61,
    "start_time": "2021-06-17T16:52:24.318Z"
   },
   {
    "duration": 54,
    "start_time": "2021-06-17T16:52:24.382Z"
   },
   {
    "duration": 25,
    "start_time": "2021-06-17T16:52:24.439Z"
   },
   {
    "duration": 14,
    "start_time": "2021-06-17T16:52:24.467Z"
   },
   {
    "duration": 75,
    "start_time": "2021-06-17T16:52:24.484Z"
   },
   {
    "duration": 23,
    "start_time": "2021-06-17T16:52:24.562Z"
   },
   {
    "duration": 36,
    "start_time": "2021-06-17T16:52:24.589Z"
   },
   {
    "duration": 60,
    "start_time": "2021-06-17T16:52:24.628Z"
   },
   {
    "duration": 22,
    "start_time": "2021-06-17T16:52:24.702Z"
   },
   {
    "duration": 20,
    "start_time": "2021-06-17T16:52:24.726Z"
   },
   {
    "duration": 11,
    "start_time": "2021-06-17T16:52:24.750Z"
   },
   {
    "duration": 11,
    "start_time": "2021-06-17T16:52:24.763Z"
   },
   {
    "duration": 66,
    "start_time": "2021-06-17T16:52:24.777Z"
   },
   {
    "duration": 10,
    "start_time": "2021-06-17T16:52:24.845Z"
   },
   {
    "duration": 10,
    "start_time": "2021-06-17T16:52:24.857Z"
   },
   {
    "duration": 13,
    "start_time": "2021-06-17T16:52:24.869Z"
   },
   {
    "duration": 43,
    "start_time": "2021-06-17T16:52:24.885Z"
   },
   {
    "duration": 26,
    "start_time": "2021-06-17T16:52:24.931Z"
   },
   {
    "duration": 27,
    "start_time": "2021-06-17T16:52:24.960Z"
   },
   {
    "duration": 59,
    "start_time": "2021-06-17T16:52:24.989Z"
   },
   {
    "duration": 886,
    "start_time": "2021-06-17T16:52:25.051Z"
   },
   {
    "duration": 10,
    "start_time": "2021-06-17T16:52:25.942Z"
   },
   {
    "duration": 1215,
    "start_time": "2021-06-17T16:52:25.955Z"
   },
   {
    "duration": 7,
    "start_time": "2021-06-17T16:52:27.173Z"
   },
   {
    "duration": 19,
    "start_time": "2021-06-17T16:52:27.182Z"
   },
   {
    "duration": 879,
    "start_time": "2021-06-17T16:52:27.204Z"
   },
   {
    "duration": 554,
    "start_time": "2021-06-17T16:52:28.086Z"
   },
   {
    "duration": 5339,
    "start_time": "2021-06-17T16:52:28.642Z"
   },
   {
    "duration": 17,
    "start_time": "2021-06-17T16:52:33.983Z"
   },
   {
    "duration": 22,
    "start_time": "2021-06-17T16:52:34.003Z"
   },
   {
    "duration": 51,
    "start_time": "2021-06-17T16:52:34.028Z"
   },
   {
    "duration": 571,
    "start_time": "2021-06-17T16:52:34.082Z"
   },
   {
    "duration": 27,
    "start_time": "2021-06-17T16:52:34.655Z"
   },
   {
    "duration": 168,
    "start_time": "2021-06-17T16:52:34.685Z"
   },
   {
    "duration": 764,
    "start_time": "2021-06-17T16:52:34.855Z"
   },
   {
    "duration": 9,
    "start_time": "2021-06-17T16:52:35.624Z"
   },
   {
    "duration": 23,
    "start_time": "2021-06-17T16:52:35.636Z"
   },
   {
    "duration": 12,
    "start_time": "2021-06-17T16:52:35.662Z"
   },
   {
    "duration": 51,
    "start_time": "2021-06-17T16:52:35.677Z"
   },
   {
    "duration": 1181,
    "start_time": "2021-06-17T16:52:35.732Z"
   },
   {
    "duration": 26,
    "start_time": "2021-06-17T16:52:36.916Z"
   },
   {
    "duration": 805,
    "start_time": "2021-06-17T16:52:36.945Z"
   },
   {
    "duration": 13,
    "start_time": "2021-06-17T16:52:37.753Z"
   },
   {
    "duration": 12,
    "start_time": "2021-06-17T16:52:37.768Z"
   },
   {
    "duration": 9,
    "start_time": "2021-06-17T16:52:37.782Z"
   },
   {
    "duration": 37,
    "start_time": "2021-06-17T16:52:37.794Z"
   },
   {
    "duration": 15,
    "start_time": "2021-06-17T16:52:37.834Z"
   },
   {
    "duration": 17,
    "start_time": "2021-06-17T16:52:37.853Z"
   },
   {
    "duration": 9,
    "start_time": "2021-06-17T16:52:37.873Z"
   },
   {
    "duration": 41,
    "start_time": "2021-06-17T16:52:37.885Z"
   },
   {
    "duration": 8,
    "start_time": "2021-06-17T16:52:37.930Z"
   },
   {
    "duration": 15,
    "start_time": "2021-06-17T16:55:33.880Z"
   },
   {
    "duration": 9,
    "start_time": "2021-06-17T16:55:34.331Z"
   },
   {
    "duration": 6,
    "start_time": "2021-06-17T16:55:35.006Z"
   },
   {
    "duration": 8,
    "start_time": "2021-06-17T16:55:35.695Z"
   },
   {
    "duration": 8,
    "start_time": "2021-06-17T16:57:31.585Z"
   },
   {
    "duration": 7,
    "start_time": "2021-06-17T16:57:33.300Z"
   },
   {
    "duration": 4,
    "start_time": "2021-06-17T16:57:44.356Z"
   },
   {
    "duration": 54,
    "start_time": "2021-06-17T16:57:44.363Z"
   },
   {
    "duration": 28,
    "start_time": "2021-06-17T16:57:44.421Z"
   },
   {
    "duration": 18,
    "start_time": "2021-06-17T16:57:44.452Z"
   },
   {
    "duration": 11,
    "start_time": "2021-06-17T16:57:44.472Z"
   },
   {
    "duration": 78,
    "start_time": "2021-06-17T16:57:44.485Z"
   },
   {
    "duration": 25,
    "start_time": "2021-06-17T16:57:44.565Z"
   },
   {
    "duration": 32,
    "start_time": "2021-06-17T16:57:44.592Z"
   },
   {
    "duration": 56,
    "start_time": "2021-06-17T16:57:44.630Z"
   },
   {
    "duration": 42,
    "start_time": "2021-06-17T16:57:44.689Z"
   },
   {
    "duration": 21,
    "start_time": "2021-06-17T16:57:44.733Z"
   },
   {
    "duration": 14,
    "start_time": "2021-06-17T16:57:44.757Z"
   },
   {
    "duration": 12,
    "start_time": "2021-06-17T16:57:44.774Z"
   },
   {
    "duration": 58,
    "start_time": "2021-06-17T16:57:44.789Z"
   },
   {
    "duration": 11,
    "start_time": "2021-06-17T16:57:44.849Z"
   },
   {
    "duration": 11,
    "start_time": "2021-06-17T16:57:44.863Z"
   },
   {
    "duration": 56,
    "start_time": "2021-06-17T16:57:44.877Z"
   },
   {
    "duration": 11,
    "start_time": "2021-06-17T16:57:44.936Z"
   },
   {
    "duration": 17,
    "start_time": "2021-06-17T16:57:44.950Z"
   },
   {
    "duration": 63,
    "start_time": "2021-06-17T16:57:44.970Z"
   },
   {
    "duration": 36,
    "start_time": "2021-06-17T16:57:45.035Z"
   },
   {
    "duration": 871,
    "start_time": "2021-06-17T16:57:45.074Z"
   },
   {
    "duration": 11,
    "start_time": "2021-06-17T16:57:45.947Z"
   },
   {
    "duration": 1281,
    "start_time": "2021-06-17T16:57:45.960Z"
   },
   {
    "duration": 7,
    "start_time": "2021-06-17T16:57:47.244Z"
   },
   {
    "duration": 19,
    "start_time": "2021-06-17T16:57:47.254Z"
   },
   {
    "duration": 876,
    "start_time": "2021-06-17T16:57:47.279Z"
   },
   {
    "duration": 557,
    "start_time": "2021-06-17T16:57:48.159Z"
   },
   {
    "duration": 5153,
    "start_time": "2021-06-17T16:57:48.723Z"
   },
   {
    "duration": 18,
    "start_time": "2021-06-17T16:57:53.879Z"
   },
   {
    "duration": 4,
    "start_time": "2021-06-17T16:57:53.924Z"
   },
   {
    "duration": 54,
    "start_time": "2021-06-17T16:57:53.931Z"
   },
   {
    "duration": 520,
    "start_time": "2021-06-17T16:57:53.987Z"
   },
   {
    "duration": 35,
    "start_time": "2021-06-17T16:57:54.510Z"
   },
   {
    "duration": 160,
    "start_time": "2021-06-17T16:57:54.547Z"
   },
   {
    "duration": 747,
    "start_time": "2021-06-17T16:57:54.709Z"
   },
   {
    "duration": 9,
    "start_time": "2021-06-17T16:57:55.458Z"
   },
   {
    "duration": 11,
    "start_time": "2021-06-17T16:57:55.470Z"
   },
   {
    "duration": 8,
    "start_time": "2021-06-17T16:57:55.483Z"
   },
   {
    "duration": 22,
    "start_time": "2021-06-17T16:57:55.525Z"
   },
   {
    "duration": 758,
    "start_time": "2021-06-17T16:57:55.550Z"
   },
   {
    "duration": 30,
    "start_time": "2021-06-17T16:57:56.311Z"
   },
   {
    "duration": 758,
    "start_time": "2021-06-17T16:57:56.343Z"
   },
   {
    "duration": 29,
    "start_time": "2021-06-17T16:57:57.103Z"
   },
   {
    "duration": 11,
    "start_time": "2021-06-17T16:57:57.134Z"
   },
   {
    "duration": 10,
    "start_time": "2021-06-17T16:57:57.147Z"
   },
   {
    "duration": 10,
    "start_time": "2021-06-17T16:57:57.160Z"
   },
   {
    "duration": 9,
    "start_time": "2021-06-17T16:57:57.173Z"
   },
   {
    "duration": 57,
    "start_time": "2021-06-17T16:57:57.185Z"
   },
   {
    "duration": 9,
    "start_time": "2021-06-17T16:57:57.245Z"
   },
   {
    "duration": 7,
    "start_time": "2021-06-17T16:57:57.256Z"
   },
   {
    "duration": 10,
    "start_time": "2021-06-17T16:57:57.265Z"
   },
   {
    "duration": 50,
    "start_time": "2021-06-17T16:57:57.278Z"
   },
   {
    "duration": 4,
    "start_time": "2021-06-17T17:05:35.429Z"
   },
   {
    "duration": 60,
    "start_time": "2021-06-17T17:05:35.436Z"
   },
   {
    "duration": 47,
    "start_time": "2021-06-17T17:05:35.500Z"
   },
   {
    "duration": 31,
    "start_time": "2021-06-17T17:05:35.550Z"
   },
   {
    "duration": 24,
    "start_time": "2021-06-17T17:05:35.583Z"
   },
   {
    "duration": 57,
    "start_time": "2021-06-17T17:05:35.609Z"
   },
   {
    "duration": 24,
    "start_time": "2021-06-17T17:05:35.668Z"
   },
   {
    "duration": 33,
    "start_time": "2021-06-17T17:05:35.695Z"
   },
   {
    "duration": 103,
    "start_time": "2021-06-17T17:05:35.735Z"
   },
   {
    "duration": 17,
    "start_time": "2021-06-17T17:05:35.843Z"
   },
   {
    "duration": 27,
    "start_time": "2021-06-17T17:05:35.862Z"
   },
   {
    "duration": 40,
    "start_time": "2021-06-17T17:05:35.891Z"
   },
   {
    "duration": 18,
    "start_time": "2021-06-17T17:05:35.933Z"
   },
   {
    "duration": 29,
    "start_time": "2021-06-17T17:05:35.953Z"
   },
   {
    "duration": 41,
    "start_time": "2021-06-17T17:05:35.984Z"
   },
   {
    "duration": 16,
    "start_time": "2021-06-17T17:05:36.028Z"
   },
   {
    "duration": 27,
    "start_time": "2021-06-17T17:05:36.046Z"
   },
   {
    "duration": 15,
    "start_time": "2021-06-17T17:05:36.075Z"
   },
   {
    "duration": 31,
    "start_time": "2021-06-17T17:05:36.093Z"
   },
   {
    "duration": 37,
    "start_time": "2021-06-17T17:05:36.127Z"
   },
   {
    "duration": 74,
    "start_time": "2021-06-17T17:05:36.167Z"
   },
   {
    "duration": 1280,
    "start_time": "2021-06-17T17:05:36.244Z"
   },
   {
    "duration": 9,
    "start_time": "2021-06-17T17:05:37.526Z"
   },
   {
    "duration": 1205,
    "start_time": "2021-06-17T17:05:37.538Z"
   },
   {
    "duration": 7,
    "start_time": "2021-06-17T17:05:38.747Z"
   },
   {
    "duration": 11,
    "start_time": "2021-06-17T17:05:38.757Z"
   },
   {
    "duration": 949,
    "start_time": "2021-06-17T17:05:38.775Z"
   },
   {
    "duration": 568,
    "start_time": "2021-06-17T17:05:39.728Z"
   },
   {
    "duration": 5263,
    "start_time": "2021-06-17T17:05:40.298Z"
   },
   {
    "duration": 15,
    "start_time": "2021-06-17T17:05:45.563Z"
   },
   {
    "duration": 4,
    "start_time": "2021-06-17T17:05:45.581Z"
   },
   {
    "duration": 80,
    "start_time": "2021-06-17T17:05:45.587Z"
   },
   {
    "duration": 569,
    "start_time": "2021-06-17T17:05:45.669Z"
   },
   {
    "duration": 25,
    "start_time": "2021-06-17T17:05:46.240Z"
   },
   {
    "duration": 22,
    "start_time": "2021-06-17T17:05:46.268Z"
   },
   {
    "duration": 908,
    "start_time": "2021-06-17T17:05:46.292Z"
   },
   {
    "duration": 22,
    "start_time": "2021-06-17T17:05:47.203Z"
   },
   {
    "duration": 9,
    "start_time": "2021-06-17T17:05:47.227Z"
   },
   {
    "duration": 9,
    "start_time": "2021-06-17T17:05:47.239Z"
   },
   {
    "duration": 26,
    "start_time": "2021-06-17T17:05:47.250Z"
   },
   {
    "duration": 769,
    "start_time": "2021-06-17T17:05:47.278Z"
   },
   {
    "duration": 23,
    "start_time": "2021-06-17T17:05:48.049Z"
   },
   {
    "duration": 773,
    "start_time": "2021-06-17T17:05:48.074Z"
   },
   {
    "duration": 12,
    "start_time": "2021-06-17T17:05:48.850Z"
   },
   {
    "duration": 12,
    "start_time": "2021-06-17T17:05:48.864Z"
   },
   {
    "duration": 6,
    "start_time": "2021-06-17T17:05:48.878Z"
   },
   {
    "duration": 38,
    "start_time": "2021-06-17T17:05:48.886Z"
   },
   {
    "duration": 7,
    "start_time": "2021-06-17T17:05:48.926Z"
   },
   {
    "duration": 18,
    "start_time": "2021-06-17T17:05:48.935Z"
   },
   {
    "duration": 7,
    "start_time": "2021-06-17T17:05:48.956Z"
   },
   {
    "duration": 10,
    "start_time": "2021-06-17T17:05:48.966Z"
   },
   {
    "duration": 48,
    "start_time": "2021-06-17T17:05:48.978Z"
   },
   {
    "duration": 7,
    "start_time": "2021-06-17T17:05:49.029Z"
   },
   {
    "duration": 4,
    "start_time": "2021-06-17T17:08:55.376Z"
   },
   {
    "duration": 61,
    "start_time": "2021-06-17T17:08:55.383Z"
   },
   {
    "duration": 29,
    "start_time": "2021-06-17T17:08:55.447Z"
   },
   {
    "duration": 46,
    "start_time": "2021-06-17T17:08:55.479Z"
   },
   {
    "duration": 12,
    "start_time": "2021-06-17T17:08:55.527Z"
   },
   {
    "duration": 65,
    "start_time": "2021-06-17T17:08:55.541Z"
   },
   {
    "duration": 25,
    "start_time": "2021-06-17T17:08:55.624Z"
   },
   {
    "duration": 7,
    "start_time": "2021-06-17T17:08:55.652Z"
   },
   {
    "duration": 77,
    "start_time": "2021-06-17T17:08:55.662Z"
   },
   {
    "duration": 13,
    "start_time": "2021-06-17T17:08:55.742Z"
   },
   {
    "duration": 23,
    "start_time": "2021-06-17T17:08:55.758Z"
   },
   {
    "duration": 40,
    "start_time": "2021-06-17T17:08:55.784Z"
   },
   {
    "duration": 11,
    "start_time": "2021-06-17T17:08:55.827Z"
   },
   {
    "duration": 24,
    "start_time": "2021-06-17T17:08:55.841Z"
   },
   {
    "duration": 15,
    "start_time": "2021-06-17T17:08:55.868Z"
   },
   {
    "duration": 40,
    "start_time": "2021-06-17T17:08:55.886Z"
   },
   {
    "duration": 21,
    "start_time": "2021-06-17T17:08:55.928Z"
   },
   {
    "duration": 18,
    "start_time": "2021-06-17T17:08:55.952Z"
   },
   {
    "duration": 20,
    "start_time": "2021-06-17T17:08:55.973Z"
   },
   {
    "duration": 40,
    "start_time": "2021-06-17T17:08:55.996Z"
   },
   {
    "duration": 34,
    "start_time": "2021-06-17T17:08:56.038Z"
   },
   {
    "duration": 859,
    "start_time": "2021-06-17T17:08:56.075Z"
   },
   {
    "duration": 11,
    "start_time": "2021-06-17T17:08:56.939Z"
   },
   {
    "duration": 1203,
    "start_time": "2021-06-17T17:08:56.953Z"
   },
   {
    "duration": 6,
    "start_time": "2021-06-17T17:08:58.158Z"
   },
   {
    "duration": 12,
    "start_time": "2021-06-17T17:08:58.167Z"
   },
   {
    "duration": 821,
    "start_time": "2021-06-17T17:08:58.181Z"
   },
   {
    "duration": 678,
    "start_time": "2021-06-17T17:08:59.004Z"
   },
   {
    "duration": 5280,
    "start_time": "2021-06-17T17:08:59.685Z"
   },
   {
    "duration": 16,
    "start_time": "2021-06-17T17:09:04.968Z"
   },
   {
    "duration": 14,
    "start_time": "2021-06-17T17:09:04.987Z"
   },
   {
    "duration": 68,
    "start_time": "2021-06-17T17:09:05.004Z"
   },
   {
    "duration": 501,
    "start_time": "2021-06-17T17:09:05.075Z"
   },
   {
    "duration": 28,
    "start_time": "2021-06-17T17:09:05.580Z"
   },
   {
    "duration": 24,
    "start_time": "2021-06-17T17:09:05.625Z"
   },
   {
    "duration": 861,
    "start_time": "2021-06-17T17:09:05.651Z"
   },
   {
    "duration": 14,
    "start_time": "2021-06-17T17:09:06.515Z"
   },
   {
    "duration": 17,
    "start_time": "2021-06-17T17:09:06.532Z"
   },
   {
    "duration": 20,
    "start_time": "2021-06-17T17:09:06.552Z"
   },
   {
    "duration": 173,
    "start_time": "2021-06-17T17:09:06.575Z"
   },
   {
    "duration": 721,
    "start_time": "2021-06-17T17:09:06.750Z"
   },
   {
    "duration": 22,
    "start_time": "2021-06-17T17:09:07.473Z"
   },
   {
    "duration": 770,
    "start_time": "2021-06-17T17:09:07.497Z"
   },
   {
    "duration": 13,
    "start_time": "2021-06-17T17:09:08.269Z"
   },
   {
    "duration": 31,
    "start_time": "2021-06-17T17:09:08.285Z"
   },
   {
    "duration": 11,
    "start_time": "2021-06-17T17:09:08.319Z"
   },
   {
    "duration": 20,
    "start_time": "2021-06-17T17:09:08.333Z"
   },
   {
    "duration": 25,
    "start_time": "2021-06-17T17:09:08.356Z"
   },
   {
    "duration": 29,
    "start_time": "2021-06-17T17:09:08.384Z"
   },
   {
    "duration": 10,
    "start_time": "2021-06-17T17:09:08.416Z"
   },
   {
    "duration": 19,
    "start_time": "2021-06-17T17:09:08.429Z"
   },
   {
    "duration": 24,
    "start_time": "2021-06-17T17:09:08.451Z"
   },
   {
    "duration": 17,
    "start_time": "2021-06-17T17:09:08.478Z"
   },
   {
    "duration": 4,
    "start_time": "2021-06-17T17:10:19.746Z"
   },
   {
    "duration": 51,
    "start_time": "2021-06-17T17:10:19.753Z"
   },
   {
    "duration": 33,
    "start_time": "2021-06-17T17:10:19.807Z"
   },
   {
    "duration": 14,
    "start_time": "2021-06-17T17:10:19.843Z"
   },
   {
    "duration": 12,
    "start_time": "2021-06-17T17:10:19.860Z"
   },
   {
    "duration": 85,
    "start_time": "2021-06-17T17:10:19.874Z"
   },
   {
    "duration": 24,
    "start_time": "2021-06-17T17:10:19.961Z"
   },
   {
    "duration": 6,
    "start_time": "2021-06-17T17:10:19.988Z"
   },
   {
    "duration": 83,
    "start_time": "2021-06-17T17:10:19.998Z"
   },
   {
    "duration": 41,
    "start_time": "2021-06-17T17:10:20.084Z"
   },
   {
    "duration": 21,
    "start_time": "2021-06-17T17:10:20.128Z"
   },
   {
    "duration": 15,
    "start_time": "2021-06-17T17:10:20.151Z"
   },
   {
    "duration": 20,
    "start_time": "2021-06-17T17:10:20.168Z"
   },
   {
    "duration": 45,
    "start_time": "2021-06-17T17:10:20.190Z"
   },
   {
    "duration": 12,
    "start_time": "2021-06-17T17:10:20.238Z"
   },
   {
    "duration": 15,
    "start_time": "2021-06-17T17:10:20.253Z"
   },
   {
    "duration": 15,
    "start_time": "2021-06-17T17:10:20.271Z"
   },
   {
    "duration": 38,
    "start_time": "2021-06-17T17:10:20.289Z"
   },
   {
    "duration": 19,
    "start_time": "2021-06-17T17:10:20.330Z"
   },
   {
    "duration": 25,
    "start_time": "2021-06-17T17:10:20.352Z"
   },
   {
    "duration": 66,
    "start_time": "2021-06-17T17:10:20.380Z"
   },
   {
    "duration": 835,
    "start_time": "2021-06-17T17:10:20.449Z"
   },
   {
    "duration": 11,
    "start_time": "2021-06-17T17:10:21.287Z"
   },
   {
    "duration": 1184,
    "start_time": "2021-06-17T17:10:21.300Z"
   },
   {
    "duration": 8,
    "start_time": "2021-06-17T17:10:22.486Z"
   },
   {
    "duration": 29,
    "start_time": "2021-06-17T17:10:22.496Z"
   },
   {
    "duration": 732,
    "start_time": "2021-06-17T17:10:22.531Z"
   },
   {
    "duration": 565,
    "start_time": "2021-06-17T17:10:23.266Z"
   },
   {
    "duration": 5538,
    "start_time": "2021-06-17T17:10:23.833Z"
   },
   {
    "duration": 17,
    "start_time": "2021-06-17T17:10:29.374Z"
   },
   {
    "duration": 30,
    "start_time": "2021-06-17T17:10:29.394Z"
   },
   {
    "duration": 58,
    "start_time": "2021-06-17T17:10:29.427Z"
   },
   {
    "duration": 504,
    "start_time": "2021-06-17T17:10:29.488Z"
   },
   {
    "duration": 42,
    "start_time": "2021-06-17T17:10:29.996Z"
   },
   {
    "duration": 25,
    "start_time": "2021-06-17T17:10:30.041Z"
   },
   {
    "duration": 750,
    "start_time": "2021-06-17T17:10:30.068Z"
   },
   {
    "duration": 8,
    "start_time": "2021-06-17T17:10:30.824Z"
   },
   {
    "duration": 21,
    "start_time": "2021-06-17T17:10:30.835Z"
   },
   {
    "duration": 34,
    "start_time": "2021-06-17T17:10:30.859Z"
   },
   {
    "duration": 30,
    "start_time": "2021-06-17T17:10:30.896Z"
   },
   {
    "duration": 912,
    "start_time": "2021-06-17T17:10:30.929Z"
   },
   {
    "duration": 24,
    "start_time": "2021-06-17T17:10:31.844Z"
   },
   {
    "duration": 788,
    "start_time": "2021-06-17T17:10:31.870Z"
   },
   {
    "duration": 15,
    "start_time": "2021-06-17T17:10:32.661Z"
   },
   {
    "duration": 12,
    "start_time": "2021-06-17T17:10:32.678Z"
   },
   {
    "duration": 33,
    "start_time": "2021-06-17T17:10:32.693Z"
   },
   {
    "duration": 18,
    "start_time": "2021-06-17T17:10:32.728Z"
   },
   {
    "duration": 12,
    "start_time": "2021-06-17T17:10:32.749Z"
   },
   {
    "duration": 23,
    "start_time": "2021-06-17T17:10:32.763Z"
   },
   {
    "duration": 11,
    "start_time": "2021-06-17T17:10:32.789Z"
   },
   {
    "duration": 23,
    "start_time": "2021-06-17T17:10:32.802Z"
   },
   {
    "duration": 14,
    "start_time": "2021-06-17T17:10:32.827Z"
   },
   {
    "duration": 10,
    "start_time": "2021-06-17T17:10:32.844Z"
   },
   {
    "duration": 333,
    "start_time": "2021-06-18T09:26:27.531Z"
   },
   {
    "duration": 1904,
    "start_time": "2021-06-18T09:26:29.692Z"
   },
   {
    "duration": 63,
    "start_time": "2021-06-18T09:26:31.602Z"
   },
   {
    "duration": 49,
    "start_time": "2021-06-18T09:26:31.668Z"
   },
   {
    "duration": 7057,
    "start_time": "2021-06-18T09:27:25.627Z"
   },
   {
    "duration": 53,
    "start_time": "2021-06-18T09:27:51.115Z"
   },
   {
    "duration": 343,
    "start_time": "2021-06-18T09:28:39.979Z"
   },
   {
    "duration": 54,
    "start_time": "2021-06-18T09:28:58.460Z"
   },
   {
    "duration": 383,
    "start_time": "2021-06-18T09:29:06.864Z"
   },
   {
    "duration": 55,
    "start_time": "2021-06-18T09:33:09.445Z"
   },
   {
    "duration": 1470,
    "start_time": "2021-06-18T09:37:04.092Z"
   },
   {
    "duration": 50,
    "start_time": "2021-06-18T09:37:05.565Z"
   },
   {
    "duration": 37,
    "start_time": "2021-06-18T09:37:05.618Z"
   },
   {
    "duration": 13,
    "start_time": "2021-06-18T09:37:05.658Z"
   },
   {
    "duration": 12,
    "start_time": "2021-06-18T09:37:05.700Z"
   },
   {
    "duration": 74,
    "start_time": "2021-06-18T09:37:05.714Z"
   },
   {
    "duration": 26,
    "start_time": "2021-06-18T09:37:05.790Z"
   },
   {
    "duration": 6,
    "start_time": "2021-06-18T09:37:05.819Z"
   },
   {
    "duration": 87,
    "start_time": "2021-06-18T09:37:05.828Z"
   },
   {
    "duration": 12,
    "start_time": "2021-06-18T09:37:05.917Z"
   },
   {
    "duration": 22,
    "start_time": "2021-06-18T09:37:05.932Z"
   },
   {
    "duration": 45,
    "start_time": "2021-06-18T09:37:05.956Z"
   },
   {
    "duration": 17,
    "start_time": "2021-06-18T09:37:06.003Z"
   },
   {
    "duration": 22,
    "start_time": "2021-06-18T09:37:06.023Z"
   },
   {
    "duration": 11,
    "start_time": "2021-06-18T09:37:06.047Z"
   },
   {
    "duration": 43,
    "start_time": "2021-06-18T09:37:06.060Z"
   },
   {
    "duration": 12,
    "start_time": "2021-06-18T09:37:06.106Z"
   },
   {
    "duration": 9,
    "start_time": "2021-06-18T09:37:06.120Z"
   },
   {
    "duration": 18,
    "start_time": "2021-06-18T09:37:06.131Z"
   },
   {
    "duration": 60,
    "start_time": "2021-06-18T09:37:06.152Z"
   },
   {
    "duration": 34,
    "start_time": "2021-06-18T09:37:06.215Z"
   },
   {
    "duration": 990,
    "start_time": "2021-06-18T09:37:06.253Z"
   },
   {
    "duration": 13,
    "start_time": "2021-06-18T09:37:07.251Z"
   },
   {
    "duration": 1587,
    "start_time": "2021-06-18T09:37:07.268Z"
   },
   {
    "duration": 8,
    "start_time": "2021-06-18T09:37:08.858Z"
   },
   {
    "duration": 31,
    "start_time": "2021-06-18T09:37:08.869Z"
   },
   {
    "duration": 935,
    "start_time": "2021-06-18T09:37:08.903Z"
   },
   {
    "duration": 510,
    "start_time": "2021-06-18T09:37:09.841Z"
   },
   {
    "duration": 5117,
    "start_time": "2021-06-18T09:37:10.354Z"
   },
   {
    "duration": 28,
    "start_time": "2021-06-18T09:37:15.474Z"
   },
   {
    "duration": 4,
    "start_time": "2021-06-18T09:37:15.504Z"
   },
   {
    "duration": 54,
    "start_time": "2021-06-18T09:37:15.510Z"
   },
   {
    "duration": 523,
    "start_time": "2021-06-18T09:37:15.567Z"
   },
   {
    "duration": 1057,
    "start_time": "2021-06-18T09:37:16.092Z"
   },
   {
    "duration": 23,
    "start_time": "2021-06-18T09:37:17.152Z"
   },
   {
    "duration": 762,
    "start_time": "2021-06-18T09:37:17.178Z"
   },
   {
    "duration": 10,
    "start_time": "2021-06-18T09:37:17.943Z"
   },
   {
    "duration": 9,
    "start_time": "2021-06-18T09:37:17.956Z"
   },
   {
    "duration": 39,
    "start_time": "2021-06-18T09:37:17.967Z"
   },
   {
    "duration": 22,
    "start_time": "2021-06-18T09:37:18.009Z"
   },
   {
    "duration": 750,
    "start_time": "2021-06-18T09:37:18.034Z"
   },
   {
    "duration": 28,
    "start_time": "2021-06-18T09:37:18.787Z"
   },
   {
    "duration": 758,
    "start_time": "2021-06-18T09:37:18.817Z"
   },
   {
    "duration": 23,
    "start_time": "2021-06-18T09:37:19.577Z"
   },
   {
    "duration": 6,
    "start_time": "2021-06-18T09:37:19.603Z"
   },
   {
    "duration": 23,
    "start_time": "2021-06-18T09:37:19.611Z"
   },
   {
    "duration": 8,
    "start_time": "2021-06-18T09:37:19.637Z"
   },
   {
    "duration": 12,
    "start_time": "2021-06-18T09:37:19.647Z"
   },
   {
    "duration": 48,
    "start_time": "2021-06-18T09:37:19.662Z"
   },
   {
    "duration": 10,
    "start_time": "2021-06-18T09:37:19.712Z"
   },
   {
    "duration": 7,
    "start_time": "2021-06-18T09:37:19.725Z"
   },
   {
    "duration": 13,
    "start_time": "2021-06-18T09:37:19.734Z"
   },
   {
    "duration": 10,
    "start_time": "2021-06-18T09:37:19.750Z"
   }
  ],
  "celltoolbar": "Необработанный формат ячейки",
  "kernelspec": {
   "display_name": "Python 3",
   "language": "python",
   "name": "python3"
  },
  "language_info": {
   "codemirror_mode": {
    "name": "ipython",
    "version": 3
   },
   "file_extension": ".py",
   "mimetype": "text/x-python",
   "name": "python",
   "nbconvert_exporter": "python",
   "pygments_lexer": "ipython3",
   "version": "3.7.8"
  },
  "toc": {
   "base_numbering": 1,
   "nav_menu": {},
   "number_sections": true,
   "sideBar": true,
   "skip_h1_title": true,
   "title_cell": "Table of Contents",
   "title_sidebar": "Contents",
   "toc_cell": false,
   "toc_position": {
    "height": "calc(100% - 180px)",
    "left": "10px",
    "top": "150px",
    "width": "165px"
   },
   "toc_section_display": true,
   "toc_window_display": true
  },
  "widgets": {
   "application/vnd.jupyter.widget-state+json": {
    "state": {},
    "version_major": 2,
    "version_minor": 0
   }
  }
 },
 "nbformat": 4,
 "nbformat_minor": 2
}
