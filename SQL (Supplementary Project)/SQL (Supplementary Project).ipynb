{
 "cells": [
  {
   "cell_type": "markdown",
   "metadata": {},
   "source": [
    "# Дополнительный проект. SQL"
   ]
  },
  {
   "cell_type": "markdown",
   "metadata": {},
   "source": [
    "## Задачи\n",
    "\n",
    "- Посчитать, сколько книг вышло после 1 января 2000 года;\n",
    "- Для каждой книги посчитать количество обзоров и среднюю оценку;\n",
    "- Определить издательство, которое выпустило наибольшее число книг толще 50 страниц — так будут исключены из анализа брошюры;\n",
    "- Определить автора с самой высокой средней оценкой книг (учесть только книги с 50 и более оценками);\n",
    "- Посчитать среднее количество обзоров от пользователей, которые поставили больше 50 оценок."
   ]
  },
  {
   "cell_type": "markdown",
   "metadata": {},
   "source": [
    "## Подключение к базе данных"
   ]
  },
  {
   "cell_type": "code",
   "execution_count": 20,
   "metadata": {},
   "outputs": [],
   "source": [
    "import pandas as pd\n",
    "from sqlalchemy import create_engine"
   ]
  },
  {
   "cell_type": "code",
   "execution_count": 21,
   "metadata": {},
   "outputs": [],
   "source": [
    "db_config = {\n",
    "  'user': 'praktikum_student',\n",
    "  'pwd': 'Sdf4$2;d-d30pp',\n",
    "  'host': 'rc1b-wcoijxj3yxfsf3fs.mdb.yandexcloud.net',\n",
    "  'port': 6432,\n",
    "  'db': 'data-analyst-final-project-db'\n",
    "}\n",
    "\n",
    "connection_string = 'postgresql://{}:{}@{}:{}/{}'.format(\n",
    "  db_config['user'],\n",
    "  db_config['pwd'],\n",
    "  db_config['host'],\n",
    "  db_config['port'],\n",
    "  db_config['db']\n",
    ")\n",
    "\n",
    "\n",
    "engine = create_engine(connection_string, connect_args={'sslmode':'require'}) "
   ]
  },
  {
   "cell_type": "code",
   "execution_count": 22,
   "metadata": {},
   "outputs": [],
   "source": [
    "def pd_select(sql):\n",
    "    return pd.io.sql.read_sql(sql, con=engine)"
   ]
  },
  {
   "cell_type": "markdown",
   "metadata": {
    "id": "TeUDNJFslfcl"
   },
   "source": [
    "## Исследование таблиц"
   ]
  },
  {
   "cell_type": "markdown",
   "metadata": {
    "id": "b7LeafKsl6JS"
   },
   "source": [
    "### Таблица `books` - данные о книгах"
   ]
  },
  {
   "cell_type": "code",
   "execution_count": 23,
   "metadata": {
    "colab": {
     "base_uri": "https://localhost:8080/",
     "height": 206
    },
    "id": "wklRBdYvk7Hy",
    "outputId": "eff461bf-f26b-40f4-99ad-d49173523cc9",
    "scrolled": true
   },
   "outputs": [
    {
     "data": {
      "text/html": [
       "<div>\n",
       "<style scoped>\n",
       "    .dataframe tbody tr th:only-of-type {\n",
       "        vertical-align: middle;\n",
       "    }\n",
       "\n",
       "    .dataframe tbody tr th {\n",
       "        vertical-align: top;\n",
       "    }\n",
       "\n",
       "    .dataframe thead th {\n",
       "        text-align: right;\n",
       "    }\n",
       "</style>\n",
       "<table border=\"1\" class=\"dataframe\">\n",
       "  <thead>\n",
       "    <tr style=\"text-align: right;\">\n",
       "      <th></th>\n",
       "      <th>book_id</th>\n",
       "      <th>author_id</th>\n",
       "      <th>title</th>\n",
       "      <th>num_pages</th>\n",
       "      <th>publication_date</th>\n",
       "      <th>publisher_id</th>\n",
       "    </tr>\n",
       "  </thead>\n",
       "  <tbody>\n",
       "    <tr>\n",
       "      <th>0</th>\n",
       "      <td>1</td>\n",
       "      <td>546</td>\n",
       "      <td>'Salem's Lot</td>\n",
       "      <td>594</td>\n",
       "      <td>2005-11-01</td>\n",
       "      <td>93</td>\n",
       "    </tr>\n",
       "    <tr>\n",
       "      <th>1</th>\n",
       "      <td>2</td>\n",
       "      <td>465</td>\n",
       "      <td>1 000 Places to See Before You Die</td>\n",
       "      <td>992</td>\n",
       "      <td>2003-05-22</td>\n",
       "      <td>336</td>\n",
       "    </tr>\n",
       "    <tr>\n",
       "      <th>2</th>\n",
       "      <td>3</td>\n",
       "      <td>407</td>\n",
       "      <td>13 Little Blue Envelopes (Little Blue Envelope...</td>\n",
       "      <td>322</td>\n",
       "      <td>2010-12-21</td>\n",
       "      <td>135</td>\n",
       "    </tr>\n",
       "    <tr>\n",
       "      <th>3</th>\n",
       "      <td>4</td>\n",
       "      <td>82</td>\n",
       "      <td>1491: New Revelations of the Americas Before C...</td>\n",
       "      <td>541</td>\n",
       "      <td>2006-10-10</td>\n",
       "      <td>309</td>\n",
       "    </tr>\n",
       "    <tr>\n",
       "      <th>4</th>\n",
       "      <td>5</td>\n",
       "      <td>125</td>\n",
       "      <td>1776</td>\n",
       "      <td>386</td>\n",
       "      <td>2006-07-04</td>\n",
       "      <td>268</td>\n",
       "    </tr>\n",
       "  </tbody>\n",
       "</table>\n",
       "</div>"
      ],
      "text/plain": [
       "   book_id  author_id                                              title  \\\n",
       "0        1        546                                       'Salem's Lot   \n",
       "1        2        465                 1 000 Places to See Before You Die   \n",
       "2        3        407  13 Little Blue Envelopes (Little Blue Envelope...   \n",
       "3        4         82  1491: New Revelations of the Americas Before C...   \n",
       "4        5        125                                               1776   \n",
       "\n",
       "   num_pages publication_date  publisher_id  \n",
       "0        594       2005-11-01            93  \n",
       "1        992       2003-05-22           336  \n",
       "2        322       2010-12-21           135  \n",
       "3        541       2006-10-10           309  \n",
       "4        386       2006-07-04           268  "
      ]
     },
     "execution_count": 23,
     "metadata": {},
     "output_type": "execute_result"
    }
   ],
   "source": [
    "pd_select('SELECT * FROM books LIMIT 5;')"
   ]
  },
  {
   "cell_type": "markdown",
   "metadata": {
    "id": "WpUvAuGgmEYt"
   },
   "source": [
    "- `book_id` — идентификатор книги\n",
    "- `author_id` — идентификатор автора\n",
    "- `title` — название книги\n",
    "- `num_pages` — количество страниц\n",
    "- `publication_date` — дата публикации книги\n",
    "- `publisher_id` — идентификатор издателя"
   ]
  },
  {
   "cell_type": "code",
   "execution_count": 24,
   "metadata": {},
   "outputs": [
    {
     "name": "stdout",
     "output_type": "stream",
     "text": [
      "<class 'pandas.core.frame.DataFrame'>\n",
      "RangeIndex: 1000 entries, 0 to 999\n",
      "Data columns (total 6 columns):\n",
      " #   Column            Non-Null Count  Dtype \n",
      "---  ------            --------------  ----- \n",
      " 0   book_id           1000 non-null   int64 \n",
      " 1   author_id         1000 non-null   int64 \n",
      " 2   title             1000 non-null   object\n",
      " 3   num_pages         1000 non-null   int64 \n",
      " 4   publication_date  1000 non-null   object\n",
      " 5   publisher_id      1000 non-null   int64 \n",
      "dtypes: int64(4), object(2)\n",
      "memory usage: 47.0+ KB\n"
     ]
    }
   ],
   "source": [
    "pd_select('SELECT * FROM books').info()"
   ]
  },
  {
   "cell_type": "markdown",
   "metadata": {
    "id": "XFg5WaqamJD3"
   },
   "source": [
    "### Таблица `authors` - данные об авторах"
   ]
  },
  {
   "cell_type": "code",
   "execution_count": 25,
   "metadata": {
    "colab": {
     "base_uri": "https://localhost:8080/",
     "height": 206
    },
    "id": "LbpE5alAmw7O",
    "outputId": "64ebfaaa-7d4e-4f47-c31c-ba791d913282"
   },
   "outputs": [
    {
     "data": {
      "text/html": [
       "<div>\n",
       "<style scoped>\n",
       "    .dataframe tbody tr th:only-of-type {\n",
       "        vertical-align: middle;\n",
       "    }\n",
       "\n",
       "    .dataframe tbody tr th {\n",
       "        vertical-align: top;\n",
       "    }\n",
       "\n",
       "    .dataframe thead th {\n",
       "        text-align: right;\n",
       "    }\n",
       "</style>\n",
       "<table border=\"1\" class=\"dataframe\">\n",
       "  <thead>\n",
       "    <tr style=\"text-align: right;\">\n",
       "      <th></th>\n",
       "      <th>author_id</th>\n",
       "      <th>author</th>\n",
       "    </tr>\n",
       "  </thead>\n",
       "  <tbody>\n",
       "    <tr>\n",
       "      <th>0</th>\n",
       "      <td>1</td>\n",
       "      <td>A.S. Byatt</td>\n",
       "    </tr>\n",
       "    <tr>\n",
       "      <th>1</th>\n",
       "      <td>2</td>\n",
       "      <td>Aesop/Laura Harris/Laura Gibbs</td>\n",
       "    </tr>\n",
       "    <tr>\n",
       "      <th>2</th>\n",
       "      <td>3</td>\n",
       "      <td>Agatha Christie</td>\n",
       "    </tr>\n",
       "    <tr>\n",
       "      <th>3</th>\n",
       "      <td>4</td>\n",
       "      <td>Alan Brennert</td>\n",
       "    </tr>\n",
       "    <tr>\n",
       "      <th>4</th>\n",
       "      <td>5</td>\n",
       "      <td>Alan Moore/David   Lloyd</td>\n",
       "    </tr>\n",
       "  </tbody>\n",
       "</table>\n",
       "</div>"
      ],
      "text/plain": [
       "   author_id                          author\n",
       "0          1                      A.S. Byatt\n",
       "1          2  Aesop/Laura Harris/Laura Gibbs\n",
       "2          3                 Agatha Christie\n",
       "3          4                   Alan Brennert\n",
       "4          5        Alan Moore/David   Lloyd"
      ]
     },
     "execution_count": 25,
     "metadata": {},
     "output_type": "execute_result"
    }
   ],
   "source": [
    "pd_select('SELECT * FROM authors LIMIT 5;')"
   ]
  },
  {
   "cell_type": "markdown",
   "metadata": {
    "id": "kEic9yqRmvAT"
   },
   "source": [
    "- `author_id` — идентификатор автора\n",
    "- `author` — имя автора"
   ]
  },
  {
   "cell_type": "code",
   "execution_count": 26,
   "metadata": {},
   "outputs": [
    {
     "name": "stdout",
     "output_type": "stream",
     "text": [
      "<class 'pandas.core.frame.DataFrame'>\n",
      "RangeIndex: 636 entries, 0 to 635\n",
      "Data columns (total 2 columns):\n",
      " #   Column     Non-Null Count  Dtype \n",
      "---  ------     --------------  ----- \n",
      " 0   author_id  636 non-null    int64 \n",
      " 1   author     636 non-null    object\n",
      "dtypes: int64(1), object(1)\n",
      "memory usage: 10.1+ KB\n"
     ]
    }
   ],
   "source": [
    "pd_select('SELECT * FROM authors').info()"
   ]
  },
  {
   "cell_type": "markdown",
   "metadata": {
    "id": "RCFB_hXVm3pY"
   },
   "source": [
    "### Таблица `publishers` - данные об издательствах"
   ]
  },
  {
   "cell_type": "code",
   "execution_count": 27,
   "metadata": {
    "colab": {
     "base_uri": "https://localhost:8080/",
     "height": 206
    },
    "id": "euZ_uVk5m3pZ",
    "outputId": "0ddd1573-ab8c-41f3-b4a4-4866c9c3c051"
   },
   "outputs": [
    {
     "data": {
      "text/html": [
       "<div>\n",
       "<style scoped>\n",
       "    .dataframe tbody tr th:only-of-type {\n",
       "        vertical-align: middle;\n",
       "    }\n",
       "\n",
       "    .dataframe tbody tr th {\n",
       "        vertical-align: top;\n",
       "    }\n",
       "\n",
       "    .dataframe thead th {\n",
       "        text-align: right;\n",
       "    }\n",
       "</style>\n",
       "<table border=\"1\" class=\"dataframe\">\n",
       "  <thead>\n",
       "    <tr style=\"text-align: right;\">\n",
       "      <th></th>\n",
       "      <th>publisher_id</th>\n",
       "      <th>publisher</th>\n",
       "    </tr>\n",
       "  </thead>\n",
       "  <tbody>\n",
       "    <tr>\n",
       "      <th>0</th>\n",
       "      <td>1</td>\n",
       "      <td>Ace</td>\n",
       "    </tr>\n",
       "    <tr>\n",
       "      <th>1</th>\n",
       "      <td>2</td>\n",
       "      <td>Ace Book</td>\n",
       "    </tr>\n",
       "    <tr>\n",
       "      <th>2</th>\n",
       "      <td>3</td>\n",
       "      <td>Ace Books</td>\n",
       "    </tr>\n",
       "    <tr>\n",
       "      <th>3</th>\n",
       "      <td>4</td>\n",
       "      <td>Ace Hardcover</td>\n",
       "    </tr>\n",
       "    <tr>\n",
       "      <th>4</th>\n",
       "      <td>5</td>\n",
       "      <td>Addison Wesley Publishing Company</td>\n",
       "    </tr>\n",
       "  </tbody>\n",
       "</table>\n",
       "</div>"
      ],
      "text/plain": [
       "   publisher_id                          publisher\n",
       "0             1                                Ace\n",
       "1             2                           Ace Book\n",
       "2             3                          Ace Books\n",
       "3             4                      Ace Hardcover\n",
       "4             5  Addison Wesley Publishing Company"
      ]
     },
     "execution_count": 27,
     "metadata": {},
     "output_type": "execute_result"
    }
   ],
   "source": [
    "pd_select('SELECT * FROM publishers LIMIT 5;')"
   ]
  },
  {
   "cell_type": "markdown",
   "metadata": {
    "id": "Dn1NMSqPm3pZ"
   },
   "source": [
    "- `publisher_id` — идентификатор издательства\n",
    "- `publisher` — название издательства"
   ]
  },
  {
   "cell_type": "code",
   "execution_count": 28,
   "metadata": {},
   "outputs": [
    {
     "name": "stdout",
     "output_type": "stream",
     "text": [
      "<class 'pandas.core.frame.DataFrame'>\n",
      "RangeIndex: 340 entries, 0 to 339\n",
      "Data columns (total 2 columns):\n",
      " #   Column        Non-Null Count  Dtype \n",
      "---  ------        --------------  ----- \n",
      " 0   publisher_id  340 non-null    int64 \n",
      " 1   publisher     340 non-null    object\n",
      "dtypes: int64(1), object(1)\n",
      "memory usage: 5.4+ KB\n"
     ]
    }
   ],
   "source": [
    "pd_select('SELECT * FROM publishers').info()"
   ]
  },
  {
   "cell_type": "markdown",
   "metadata": {
    "id": "GEC9013JnHc3"
   },
   "source": [
    "### Таблица `ratings` - данные о пользовательских оценках книг"
   ]
  },
  {
   "cell_type": "code",
   "execution_count": 29,
   "metadata": {
    "colab": {
     "base_uri": "https://localhost:8080/",
     "height": 206
    },
    "id": "GsAJMi6RnHc-",
    "outputId": "87d9be38-0e2d-42c5-b70f-cc80506818e8"
   },
   "outputs": [
    {
     "data": {
      "text/html": [
       "<div>\n",
       "<style scoped>\n",
       "    .dataframe tbody tr th:only-of-type {\n",
       "        vertical-align: middle;\n",
       "    }\n",
       "\n",
       "    .dataframe tbody tr th {\n",
       "        vertical-align: top;\n",
       "    }\n",
       "\n",
       "    .dataframe thead th {\n",
       "        text-align: right;\n",
       "    }\n",
       "</style>\n",
       "<table border=\"1\" class=\"dataframe\">\n",
       "  <thead>\n",
       "    <tr style=\"text-align: right;\">\n",
       "      <th></th>\n",
       "      <th>rating_id</th>\n",
       "      <th>book_id</th>\n",
       "      <th>username</th>\n",
       "      <th>rating</th>\n",
       "    </tr>\n",
       "  </thead>\n",
       "  <tbody>\n",
       "    <tr>\n",
       "      <th>0</th>\n",
       "      <td>1</td>\n",
       "      <td>1</td>\n",
       "      <td>ryanfranco</td>\n",
       "      <td>4</td>\n",
       "    </tr>\n",
       "    <tr>\n",
       "      <th>1</th>\n",
       "      <td>2</td>\n",
       "      <td>1</td>\n",
       "      <td>grantpatricia</td>\n",
       "      <td>2</td>\n",
       "    </tr>\n",
       "    <tr>\n",
       "      <th>2</th>\n",
       "      <td>3</td>\n",
       "      <td>1</td>\n",
       "      <td>brandtandrea</td>\n",
       "      <td>5</td>\n",
       "    </tr>\n",
       "    <tr>\n",
       "      <th>3</th>\n",
       "      <td>4</td>\n",
       "      <td>2</td>\n",
       "      <td>lorichen</td>\n",
       "      <td>3</td>\n",
       "    </tr>\n",
       "    <tr>\n",
       "      <th>4</th>\n",
       "      <td>5</td>\n",
       "      <td>2</td>\n",
       "      <td>mariokeller</td>\n",
       "      <td>2</td>\n",
       "    </tr>\n",
       "  </tbody>\n",
       "</table>\n",
       "</div>"
      ],
      "text/plain": [
       "   rating_id  book_id       username  rating\n",
       "0          1        1     ryanfranco       4\n",
       "1          2        1  grantpatricia       2\n",
       "2          3        1   brandtandrea       5\n",
       "3          4        2       lorichen       3\n",
       "4          5        2    mariokeller       2"
      ]
     },
     "execution_count": 29,
     "metadata": {},
     "output_type": "execute_result"
    }
   ],
   "source": [
    "pd_select('SELECT * FROM ratings LIMIT 5;')"
   ]
  },
  {
   "cell_type": "markdown",
   "metadata": {
    "id": "OvcqwQMknHc-"
   },
   "source": [
    "- `rating_id` — идентификатор оценки\n",
    "- `book_id` — идентификатор книги\n",
    "- `username` — имя пользователя, оставившего оценку\n",
    "- `rating` — оценка книги"
   ]
  },
  {
   "cell_type": "code",
   "execution_count": 30,
   "metadata": {},
   "outputs": [
    {
     "name": "stdout",
     "output_type": "stream",
     "text": [
      "<class 'pandas.core.frame.DataFrame'>\n",
      "RangeIndex: 6456 entries, 0 to 6455\n",
      "Data columns (total 4 columns):\n",
      " #   Column     Non-Null Count  Dtype \n",
      "---  ------     --------------  ----- \n",
      " 0   rating_id  6456 non-null   int64 \n",
      " 1   book_id    6456 non-null   int64 \n",
      " 2   username   6456 non-null   object\n",
      " 3   rating     6456 non-null   int64 \n",
      "dtypes: int64(3), object(1)\n",
      "memory usage: 201.9+ KB\n"
     ]
    }
   ],
   "source": [
    "pd_select('SELECT * FROM ratings').info()"
   ]
  },
  {
   "cell_type": "markdown",
   "metadata": {
    "id": "_XZkzAbJnScG"
   },
   "source": [
    "### Таблица `reviews` - данные о пользовательских обзорах на книги"
   ]
  },
  {
   "cell_type": "code",
   "execution_count": 31,
   "metadata": {
    "colab": {
     "base_uri": "https://localhost:8080/",
     "height": 206
    },
    "id": "avUpOpqNnScL",
    "outputId": "a7371761-2605-4fde-9a9a-909a962f31cf"
   },
   "outputs": [
    {
     "data": {
      "text/html": [
       "<div>\n",
       "<style scoped>\n",
       "    .dataframe tbody tr th:only-of-type {\n",
       "        vertical-align: middle;\n",
       "    }\n",
       "\n",
       "    .dataframe tbody tr th {\n",
       "        vertical-align: top;\n",
       "    }\n",
       "\n",
       "    .dataframe thead th {\n",
       "        text-align: right;\n",
       "    }\n",
       "</style>\n",
       "<table border=\"1\" class=\"dataframe\">\n",
       "  <thead>\n",
       "    <tr style=\"text-align: right;\">\n",
       "      <th></th>\n",
       "      <th>review_id</th>\n",
       "      <th>book_id</th>\n",
       "      <th>username</th>\n",
       "      <th>text</th>\n",
       "    </tr>\n",
       "  </thead>\n",
       "  <tbody>\n",
       "    <tr>\n",
       "      <th>0</th>\n",
       "      <td>1</td>\n",
       "      <td>1</td>\n",
       "      <td>brandtandrea</td>\n",
       "      <td>Mention society tell send professor analysis. ...</td>\n",
       "    </tr>\n",
       "    <tr>\n",
       "      <th>1</th>\n",
       "      <td>2</td>\n",
       "      <td>1</td>\n",
       "      <td>ryanfranco</td>\n",
       "      <td>Foot glass pretty audience hit themselves. Amo...</td>\n",
       "    </tr>\n",
       "    <tr>\n",
       "      <th>2</th>\n",
       "      <td>3</td>\n",
       "      <td>2</td>\n",
       "      <td>lorichen</td>\n",
       "      <td>Listen treat keep worry. Miss husband tax but ...</td>\n",
       "    </tr>\n",
       "    <tr>\n",
       "      <th>3</th>\n",
       "      <td>4</td>\n",
       "      <td>3</td>\n",
       "      <td>johnsonamanda</td>\n",
       "      <td>Finally month interesting blue could nature cu...</td>\n",
       "    </tr>\n",
       "    <tr>\n",
       "      <th>4</th>\n",
       "      <td>5</td>\n",
       "      <td>3</td>\n",
       "      <td>scotttamara</td>\n",
       "      <td>Nation purpose heavy give wait song will. List...</td>\n",
       "    </tr>\n",
       "  </tbody>\n",
       "</table>\n",
       "</div>"
      ],
      "text/plain": [
       "   review_id  book_id       username  \\\n",
       "0          1        1   brandtandrea   \n",
       "1          2        1     ryanfranco   \n",
       "2          3        2       lorichen   \n",
       "3          4        3  johnsonamanda   \n",
       "4          5        3    scotttamara   \n",
       "\n",
       "                                                text  \n",
       "0  Mention society tell send professor analysis. ...  \n",
       "1  Foot glass pretty audience hit themselves. Amo...  \n",
       "2  Listen treat keep worry. Miss husband tax but ...  \n",
       "3  Finally month interesting blue could nature cu...  \n",
       "4  Nation purpose heavy give wait song will. List...  "
      ]
     },
     "execution_count": 31,
     "metadata": {},
     "output_type": "execute_result"
    }
   ],
   "source": [
    "pd_select('SELECT * FROM reviews LIMIT 5;')"
   ]
  },
  {
   "cell_type": "markdown",
   "metadata": {
    "id": "z25S1oSynScM"
   },
   "source": [
    "- `review_id` — идентификатор обзора\n",
    "- `book_id` — идентификатор книги\n",
    "- `username` — имя пользователя, написавшего обзор\n",
    "- `text` — текст обзора"
   ]
  },
  {
   "cell_type": "code",
   "execution_count": 32,
   "metadata": {},
   "outputs": [
    {
     "name": "stdout",
     "output_type": "stream",
     "text": [
      "<class 'pandas.core.frame.DataFrame'>\n",
      "RangeIndex: 2793 entries, 0 to 2792\n",
      "Data columns (total 4 columns):\n",
      " #   Column     Non-Null Count  Dtype \n",
      "---  ------     --------------  ----- \n",
      " 0   review_id  2793 non-null   int64 \n",
      " 1   book_id    2793 non-null   int64 \n",
      " 2   username   2793 non-null   object\n",
      " 3   text       2793 non-null   object\n",
      "dtypes: int64(2), object(2)\n",
      "memory usage: 87.4+ KB\n"
     ]
    }
   ],
   "source": [
    "pd_select('SELECT * FROM reviews').info()"
   ]
  },
  {
   "cell_type": "markdown",
   "metadata": {
    "id": "56Ach0AGneSt"
   },
   "source": [
    "## Задачи"
   ]
  },
  {
   "cell_type": "markdown",
   "metadata": {
    "id": "BOZXGlg9nmtV"
   },
   "source": [
    "### Количество книг, вышедших после 1 января 2000 года"
   ]
  },
  {
   "cell_type": "code",
   "execution_count": 33,
   "metadata": {
    "colab": {
     "base_uri": "https://localhost:8080/",
     "height": 81
    },
    "id": "RhRrFONxn044",
    "outputId": "b3b68b20-bc27-49b7-e36d-a410ef28bebd"
   },
   "outputs": [
    {
     "data": {
      "text/html": [
       "<div>\n",
       "<style scoped>\n",
       "    .dataframe tbody tr th:only-of-type {\n",
       "        vertical-align: middle;\n",
       "    }\n",
       "\n",
       "    .dataframe tbody tr th {\n",
       "        vertical-align: top;\n",
       "    }\n",
       "\n",
       "    .dataframe thead th {\n",
       "        text-align: right;\n",
       "    }\n",
       "</style>\n",
       "<table border=\"1\" class=\"dataframe\">\n",
       "  <thead>\n",
       "    <tr style=\"text-align: right;\">\n",
       "      <th></th>\n",
       "      <th>count</th>\n",
       "    </tr>\n",
       "  </thead>\n",
       "  <tbody>\n",
       "    <tr>\n",
       "      <th>0</th>\n",
       "      <td>819</td>\n",
       "    </tr>\n",
       "  </tbody>\n",
       "</table>\n",
       "</div>"
      ],
      "text/plain": [
       "   count\n",
       "0    819"
      ]
     },
     "execution_count": 33,
     "metadata": {},
     "output_type": "execute_result"
    }
   ],
   "source": [
    "sql = '''\n",
    "SELECT\n",
    "  count(1)\n",
    "FROM books\n",
    "WHERE\n",
    "  publication_date > '01.01.2000'::date\n",
    "'''\n",
    "\n",
    "pd_select(sql)"
   ]
  },
  {
   "cell_type": "markdown",
   "metadata": {
    "id": "C0g3Cc6Iot5I"
   },
   "source": [
    "После 1 января 2000 года (не включительно) вышло **819** книг."
   ]
  },
  {
   "cell_type": "markdown",
   "metadata": {
    "id": "hX97hwZQovr3"
   },
   "source": [
    "### Количество обзоров и средняя оценка для каждой книги"
   ]
  },
  {
   "cell_type": "code",
   "execution_count": 34,
   "metadata": {
    "colab": {
     "base_uri": "https://localhost:8080/",
     "height": 206
    },
    "id": "qn_tbAWgo814",
    "outputId": "b2135d36-6975-4072-d475-80c39ac98d07"
   },
   "outputs": [
    {
     "data": {
      "text/html": [
       "<div>\n",
       "<style scoped>\n",
       "    .dataframe tbody tr th:only-of-type {\n",
       "        vertical-align: middle;\n",
       "    }\n",
       "\n",
       "    .dataframe tbody tr th {\n",
       "        vertical-align: top;\n",
       "    }\n",
       "\n",
       "    .dataframe thead th {\n",
       "        text-align: right;\n",
       "    }\n",
       "</style>\n",
       "<table border=\"1\" class=\"dataframe\">\n",
       "  <thead>\n",
       "    <tr style=\"text-align: right;\">\n",
       "      <th></th>\n",
       "      <th>book_id</th>\n",
       "      <th>author_id</th>\n",
       "      <th>title</th>\n",
       "      <th>num_reviews</th>\n",
       "      <th>num_ratings</th>\n",
       "      <th>avg_rating</th>\n",
       "    </tr>\n",
       "  </thead>\n",
       "  <tbody>\n",
       "    <tr>\n",
       "      <th>0</th>\n",
       "      <td>948</td>\n",
       "      <td>554</td>\n",
       "      <td>Twilight (Twilight  #1)</td>\n",
       "      <td>7</td>\n",
       "      <td>160</td>\n",
       "      <td>3.662500</td>\n",
       "    </tr>\n",
       "    <tr>\n",
       "      <th>1</th>\n",
       "      <td>302</td>\n",
       "      <td>236</td>\n",
       "      <td>Harry Potter and the Prisoner of Azkaban (Harr...</td>\n",
       "      <td>6</td>\n",
       "      <td>82</td>\n",
       "      <td>4.414634</td>\n",
       "    </tr>\n",
       "    <tr>\n",
       "      <th>2</th>\n",
       "      <td>299</td>\n",
       "      <td>236</td>\n",
       "      <td>Harry Potter and the Chamber of Secrets (Harry...</td>\n",
       "      <td>6</td>\n",
       "      <td>80</td>\n",
       "      <td>4.287500</td>\n",
       "    </tr>\n",
       "    <tr>\n",
       "      <th>3</th>\n",
       "      <td>656</td>\n",
       "      <td>402</td>\n",
       "      <td>The Book Thief</td>\n",
       "      <td>6</td>\n",
       "      <td>53</td>\n",
       "      <td>4.264151</td>\n",
       "    </tr>\n",
       "    <tr>\n",
       "      <th>4</th>\n",
       "      <td>734</td>\n",
       "      <td>278</td>\n",
       "      <td>The Glass Castle</td>\n",
       "      <td>6</td>\n",
       "      <td>29</td>\n",
       "      <td>4.206897</td>\n",
       "    </tr>\n",
       "  </tbody>\n",
       "</table>\n",
       "</div>"
      ],
      "text/plain": [
       "   book_id  author_id                                              title  \\\n",
       "0      948        554                            Twilight (Twilight  #1)   \n",
       "1      302        236  Harry Potter and the Prisoner of Azkaban (Harr...   \n",
       "2      299        236  Harry Potter and the Chamber of Secrets (Harry...   \n",
       "3      656        402                                     The Book Thief   \n",
       "4      734        278                                   The Glass Castle   \n",
       "\n",
       "   num_reviews  num_ratings  avg_rating  \n",
       "0            7          160    3.662500  \n",
       "1            6           82    4.414634  \n",
       "2            6           80    4.287500  \n",
       "3            6           53    4.264151  \n",
       "4            6           29    4.206897  "
      ]
     },
     "execution_count": 34,
     "metadata": {},
     "output_type": "execute_result"
    }
   ],
   "source": [
    "sql = '''\n",
    "WITH w_reviews as (\n",
    "  SELECT\n",
    "    rv.book_id as book_id,\n",
    "    count(rv.book_id) as cnt\n",
    "  FROM reviews rv\n",
    "  GROUP BY rv.book_id\n",
    "), w_ratings as (\n",
    "  SELECT\n",
    "    rt.book_id as book_id,\n",
    "    count(rt.book_id) as cnt,\n",
    "    avg(rt.rating) as rating\n",
    "  FROM ratings rt\n",
    "  GROUP BY rt.book_id\n",
    ")\n",
    "SELECT\n",
    "  b.book_id as book_id,\n",
    "  b.author_id as author_id,\n",
    "  b.title as title,\n",
    "  COALESCE(w_reviews.cnt, 0) as num_reviews,\n",
    "  COALESCE(w_ratings.cnt, 0) as num_ratings,\n",
    "  w_ratings.rating as avg_rating\n",
    "FROM books b\n",
    "LEFT JOIN w_reviews ON (\n",
    "  w_reviews.book_id = b.book_id\n",
    ")\n",
    "LEFT JOIN w_ratings ON (\n",
    "  w_ratings.book_id = b.book_id\n",
    ")\n",
    "ORDER BY num_reviews DESC, avg_rating DESC\n",
    "LIMIT 5\n",
    "'''\n",
    "\n",
    "pd_select(sql)"
   ]
  },
  {
   "cell_type": "markdown",
   "metadata": {
    "id": "4GpCnpKLv-Rr"
   },
   "source": [
    "Наибольшее количество обзоров имеют книги:\n",
    "- Twilight (Twilight #1) - 7 обзоров\n",
    "- Harry Potter and the Prisoner of Azkaban - 6 обзоров\n",
    "- Harry Potter and the Chamber of Secrets - 6 обзоров"
   ]
  },
  {
   "cell_type": "markdown",
   "metadata": {
    "id": "I1FvZNi3wTHX"
   },
   "source": [
    "Наибольшее количество оценок получили книги:\n",
    "- Twilight (Twilight #1) - 160 оценок\n",
    "- The Hobbit or There and Back Again - 88 оценок\n",
    "- The Catcher in the Rye - 86 оценок"
   ]
  },
  {
   "cell_type": "markdown",
   "metadata": {
    "id": "xu_3v3IqwpQj"
   },
   "source": [
    "Наиболее высокую оценку получили книги:\n",
    "- And Then There Were None - 4.45 средняя оценка (22 оценки)\n",
    "- Gone with the Wind - 4.43 средняя оценка (35 оценок)\n",
    "- Harry Potter and the Prisoner of Azkaban - 4.41 средняя оценка (82 оценки)\n",
    "\n",
    "*Учитывались только книги, получившие не менее 20 оценок*"
   ]
  },
  {
   "cell_type": "markdown",
   "metadata": {
    "id": "t398aNAXxsd9"
   },
   "source": [
    "Все книги получили как минимум одну оценку."
   ]
  },
  {
   "cell_type": "markdown",
   "metadata": {
    "id": "B1u5sHunx4c-"
   },
   "source": [
    "Для 5 книг не было получено ни одного обзора:\n",
    "- The Cat in the Hat and Other Dr. Seuss Favorites\n",
    "- Leonardo's Notebooks\n",
    "- Disney's Beauty and the Beast\n",
    "- Essential Tales and Poems\n",
    "- Anne Rice's The Vampire Lestat: A Graphic Novel\n",
    "- The Natural Way to Draw\t"
   ]
  },
  {
   "cell_type": "markdown",
   "metadata": {
    "id": "65R26_Smyrz-"
   },
   "source": [
    "### Издательство, которое выпустило наибольшее число книг толще 50 страниц"
   ]
  },
  {
   "cell_type": "code",
   "execution_count": 35,
   "metadata": {
    "colab": {
     "base_uri": "https://localhost:8080/",
     "height": 143
    },
    "id": "umnGpATJy8SB",
    "outputId": "12b57d28-7136-4cfb-ee6f-5fc05dec667d"
   },
   "outputs": [
    {
     "data": {
      "text/html": [
       "<div>\n",
       "<style scoped>\n",
       "    .dataframe tbody tr th:only-of-type {\n",
       "        vertical-align: middle;\n",
       "    }\n",
       "\n",
       "    .dataframe tbody tr th {\n",
       "        vertical-align: top;\n",
       "    }\n",
       "\n",
       "    .dataframe thead th {\n",
       "        text-align: right;\n",
       "    }\n",
       "</style>\n",
       "<table border=\"1\" class=\"dataframe\">\n",
       "  <thead>\n",
       "    <tr style=\"text-align: right;\">\n",
       "      <th></th>\n",
       "      <th>publisher_id</th>\n",
       "      <th>publisher</th>\n",
       "      <th>num_books</th>\n",
       "    </tr>\n",
       "  </thead>\n",
       "  <tbody>\n",
       "    <tr>\n",
       "      <th>0</th>\n",
       "      <td>212</td>\n",
       "      <td>Penguin Books</td>\n",
       "      <td>42</td>\n",
       "    </tr>\n",
       "    <tr>\n",
       "      <th>1</th>\n",
       "      <td>309</td>\n",
       "      <td>Vintage</td>\n",
       "      <td>31</td>\n",
       "    </tr>\n",
       "    <tr>\n",
       "      <th>2</th>\n",
       "      <td>116</td>\n",
       "      <td>Grand Central Publishing</td>\n",
       "      <td>25</td>\n",
       "    </tr>\n",
       "  </tbody>\n",
       "</table>\n",
       "</div>"
      ],
      "text/plain": [
       "   publisher_id                 publisher  num_books\n",
       "0           212             Penguin Books         42\n",
       "1           309                   Vintage         31\n",
       "2           116  Grand Central Publishing         25"
      ]
     },
     "execution_count": 35,
     "metadata": {},
     "output_type": "execute_result"
    }
   ],
   "source": [
    "sql = '''\n",
    "SELECT\n",
    "  b.publisher_id as publisher_id,\n",
    "  pb.publisher as publisher,\n",
    "  count(b.book_id) as num_books\n",
    "FROM books b\n",
    "LEFT JOIN publishers pb ON (\n",
    "  pb.publisher_id = b.publisher_id\n",
    ")\n",
    "WHERE b.num_pages > 50\n",
    "GROUP BY b.publisher_id, pb.publisher\n",
    "ORDER BY num_books DESC\n",
    "LIMIT 3\n",
    "'''\n",
    "\n",
    "pd_select(sql)"
   ]
  },
  {
   "cell_type": "markdown",
   "metadata": {
    "id": "CelLc-890sIE"
   },
   "source": [
    "Издательство **Penguin Books** выпустило наибольшее число книг толще 50 страниц."
   ]
  },
  {
   "cell_type": "markdown",
   "metadata": {
    "id": "VSVHIJ9w1DDw"
   },
   "source": [
    "### Автор с самой высокой средней оценкой книг\n",
    "\n",
    "Учитываются только книги с 50 и более оценками."
   ]
  },
  {
   "cell_type": "code",
   "execution_count": 36,
   "metadata": {
    "colab": {
     "base_uri": "https://localhost:8080/",
     "height": 143
    },
    "id": "PJmbflKM1KHQ",
    "outputId": "81669723-f07b-4885-907a-570961713b03"
   },
   "outputs": [
    {
     "data": {
      "text/html": [
       "<div>\n",
       "<style scoped>\n",
       "    .dataframe tbody tr th:only-of-type {\n",
       "        vertical-align: middle;\n",
       "    }\n",
       "\n",
       "    .dataframe tbody tr th {\n",
       "        vertical-align: top;\n",
       "    }\n",
       "\n",
       "    .dataframe thead th {\n",
       "        text-align: right;\n",
       "    }\n",
       "</style>\n",
       "<table border=\"1\" class=\"dataframe\">\n",
       "  <thead>\n",
       "    <tr style=\"text-align: right;\">\n",
       "      <th></th>\n",
       "      <th>author_id</th>\n",
       "      <th>author</th>\n",
       "      <th>avg_rating</th>\n",
       "    </tr>\n",
       "  </thead>\n",
       "  <tbody>\n",
       "    <tr>\n",
       "      <th>0</th>\n",
       "      <td>236</td>\n",
       "      <td>J.K. Rowling/Mary GrandPré</td>\n",
       "      <td>4.287097</td>\n",
       "    </tr>\n",
       "    <tr>\n",
       "      <th>1</th>\n",
       "      <td>402</td>\n",
       "      <td>Markus Zusak/Cao Xuân Việt Khương</td>\n",
       "      <td>4.264151</td>\n",
       "    </tr>\n",
       "    <tr>\n",
       "      <th>2</th>\n",
       "      <td>240</td>\n",
       "      <td>J.R.R. Tolkien</td>\n",
       "      <td>4.246914</td>\n",
       "    </tr>\n",
       "  </tbody>\n",
       "</table>\n",
       "</div>"
      ],
      "text/plain": [
       "   author_id                             author  avg_rating\n",
       "0        236         J.K. Rowling/Mary GrandPré    4.287097\n",
       "1        402  Markus Zusak/Cao Xuân Việt Khương    4.264151\n",
       "2        240                     J.R.R. Tolkien    4.246914"
      ]
     },
     "execution_count": 36,
     "metadata": {},
     "output_type": "execute_result"
    }
   ],
   "source": [
    "sql = '''\n",
    "WITH w_ratings as (\n",
    "  SELECT\n",
    "    rt.book_id as book_id,\n",
    "    count(rt.book_id) as cnt\n",
    "  FROM ratings rt\n",
    "  GROUP BY rt.book_id\n",
    ")\n",
    "SELECT\n",
    "  b.author_id as author_id,\n",
    "  a.author as author,\n",
    "  avg(rt.rating) as avg_rating\n",
    "FROM ratings rt\n",
    "LEFT JOIN w_ratings ON (\n",
    "  w_ratings.book_id = rt.book_id\n",
    ")\n",
    "LEFT JOIN books b ON (\n",
    "  b.book_id = rt.book_id\n",
    ")\n",
    "LEFT JOIN authors a ON (\n",
    "  a.author_id = b.author_id\n",
    ")\n",
    "WHERE w_ratings.cnt >= 50\n",
    "GROUP BY b.author_id, a.author\n",
    "ORDER BY avg_rating DESC\n",
    "LIMIT 3\n",
    "'''\n",
    "\n",
    "pd_select(sql)"
   ]
  },
  {
   "cell_type": "markdown",
   "metadata": {
    "id": "73bX4pT14E1U"
   },
   "source": [
    "Автор с самой высокой средней оценкой книг - **J.K. Rowling/Mary GrandPré**."
   ]
  },
  {
   "cell_type": "markdown",
   "metadata": {
    "id": "vrgFNpUJ50mk"
   },
   "source": [
    "### Среднее количество обзоров от пользователей, которые поставили больше 50 оценок"
   ]
  },
  {
   "cell_type": "code",
   "execution_count": 37,
   "metadata": {
    "colab": {
     "base_uri": "https://localhost:8080/",
     "height": 81
    },
    "id": "4FqKbkvc59yV",
    "outputId": "414311d4-1143-42f6-9e3b-86afd4365b03"
   },
   "outputs": [
    {
     "data": {
      "text/html": [
       "<div>\n",
       "<style scoped>\n",
       "    .dataframe tbody tr th:only-of-type {\n",
       "        vertical-align: middle;\n",
       "    }\n",
       "\n",
       "    .dataframe tbody tr th {\n",
       "        vertical-align: top;\n",
       "    }\n",
       "\n",
       "    .dataframe thead th {\n",
       "        text-align: right;\n",
       "    }\n",
       "</style>\n",
       "<table border=\"1\" class=\"dataframe\">\n",
       "  <thead>\n",
       "    <tr style=\"text-align: right;\">\n",
       "      <th></th>\n",
       "      <th>avg</th>\n",
       "    </tr>\n",
       "  </thead>\n",
       "  <tbody>\n",
       "    <tr>\n",
       "      <th>0</th>\n",
       "      <td>24.333333</td>\n",
       "    </tr>\n",
       "  </tbody>\n",
       "</table>\n",
       "</div>"
      ],
      "text/plain": [
       "         avg\n",
       "0  24.333333"
      ]
     },
     "execution_count": 37,
     "metadata": {},
     "output_type": "execute_result"
    }
   ],
   "source": [
    "sql = '''\n",
    "WITH w_users as (\n",
    "  SELECT\n",
    "    rt.username as username\n",
    "  FROM ratings rt\n",
    "  GROUP BY rt.username\n",
    "  HAVING count(rt.username) > 50\n",
    "), w_reviews as (\n",
    "  SELECT\n",
    "    rv.username as username,\n",
    "    count(rv.username) as cnt\n",
    "  FROM reviews rv\n",
    "  WHERE rv.username in (SELECT username FROM w_users)\n",
    "  GROUP BY rv.username\n",
    ")\n",
    "SELECT\n",
    "  avg(w_reviews.cnt)\n",
    "FROM w_reviews\n",
    "'''\n",
    "\n",
    "pd_select(sql)"
   ]
  },
  {
   "cell_type": "markdown",
   "metadata": {
    "id": "pLbQLo0J9QC_"
   },
   "source": [
    "Среднее количество обзоров от пользователей, которые поставили более 50 оценок, равно **24**."
   ]
  }
 ],
 "metadata": {
  "ExecuteTimeLog": [
   {
    "duration": 851,
    "start_time": "2021-10-21T08:46:17.513Z"
   },
   {
    "duration": 4,
    "start_time": "2021-10-21T08:47:28.491Z"
   },
   {
    "duration": 58,
    "start_time": "2021-10-21T08:47:45.207Z"
   },
   {
    "duration": 6,
    "start_time": "2021-10-21T08:47:50.538Z"
   },
   {
    "duration": 4,
    "start_time": "2021-10-21T08:48:10.906Z"
   },
   {
    "duration": 4,
    "start_time": "2021-10-21T08:48:42.221Z"
   },
   {
    "duration": 3,
    "start_time": "2021-10-21T08:56:42.944Z"
   },
   {
    "duration": 6,
    "start_time": "2021-10-21T08:56:42.950Z"
   },
   {
    "duration": 13,
    "start_time": "2021-10-21T08:56:42.961Z"
   },
   {
    "duration": 54,
    "start_time": "2021-10-21T08:56:42.976Z"
   },
   {
    "duration": 15,
    "start_time": "2021-10-21T08:56:43.033Z"
   },
   {
    "duration": 18,
    "start_time": "2021-10-21T08:56:43.051Z"
   },
   {
    "duration": 14,
    "start_time": "2021-10-21T08:56:43.072Z"
   },
   {
    "duration": 16,
    "start_time": "2021-10-21T08:56:43.089Z"
   },
   {
    "duration": 13,
    "start_time": "2021-10-21T08:56:43.107Z"
   },
   {
    "duration": 53,
    "start_time": "2021-10-21T08:56:43.122Z"
   },
   {
    "duration": 15,
    "start_time": "2021-10-21T08:56:43.178Z"
   },
   {
    "duration": 22,
    "start_time": "2021-10-21T08:56:43.195Z"
   },
   {
    "duration": 14,
    "start_time": "2021-10-21T08:56:43.220Z"
   },
   {
    "duration": 1089,
    "start_time": "2021-10-21T08:58:07.211Z"
   },
   {
    "duration": 37,
    "start_time": "2021-10-21T08:58:08.303Z"
   },
   {
    "duration": 3,
    "start_time": "2021-10-21T08:58:08.343Z"
   },
   {
    "duration": 49,
    "start_time": "2021-10-21T08:58:08.357Z"
   },
   {
    "duration": 15,
    "start_time": "2021-10-21T08:58:08.409Z"
   },
   {
    "duration": 33,
    "start_time": "2021-10-21T08:58:08.426Z"
   },
   {
    "duration": 15,
    "start_time": "2021-10-21T08:58:08.462Z"
   },
   {
    "duration": 19,
    "start_time": "2021-10-21T08:58:08.482Z"
   },
   {
    "duration": 16,
    "start_time": "2021-10-21T08:58:08.505Z"
   },
   {
    "duration": 55,
    "start_time": "2021-10-21T08:58:08.524Z"
   },
   {
    "duration": 17,
    "start_time": "2021-10-21T08:58:08.582Z"
   },
   {
    "duration": 45,
    "start_time": "2021-10-21T08:58:08.601Z"
   },
   {
    "duration": 28,
    "start_time": "2021-10-21T08:58:08.648Z"
   },
   {
    "duration": 3,
    "start_time": "2021-10-21T09:54:23.767Z"
   },
   {
    "duration": 12,
    "start_time": "2021-10-21T09:54:23.774Z"
   },
   {
    "duration": 9,
    "start_time": "2021-10-21T09:54:23.790Z"
   },
   {
    "duration": 53,
    "start_time": "2021-10-21T09:54:23.803Z"
   },
   {
    "duration": 13,
    "start_time": "2021-10-21T09:54:23.858Z"
   },
   {
    "duration": 14,
    "start_time": "2021-10-21T09:54:23.874Z"
   },
   {
    "duration": 15,
    "start_time": "2021-10-21T09:54:23.890Z"
   },
   {
    "duration": 15,
    "start_time": "2021-10-21T09:54:23.909Z"
   },
   {
    "duration": 16,
    "start_time": "2021-10-21T09:54:23.960Z"
   },
   {
    "duration": 24,
    "start_time": "2021-10-21T09:54:23.979Z"
   },
   {
    "duration": 17,
    "start_time": "2021-10-21T09:54:24.006Z"
   },
   {
    "duration": 41,
    "start_time": "2021-10-21T09:54:24.025Z"
   },
   {
    "duration": 15,
    "start_time": "2021-10-21T09:54:24.069Z"
   },
   {
    "duration": 23,
    "start_time": "2021-10-21T10:02:20.284Z"
   },
   {
    "duration": 872,
    "start_time": "2021-10-21T10:09:15.092Z"
   },
   {
    "duration": 43,
    "start_time": "2021-10-21T10:09:15.967Z"
   },
   {
    "duration": 4,
    "start_time": "2021-10-21T10:09:16.013Z"
   },
   {
    "duration": 72,
    "start_time": "2021-10-21T10:09:16.020Z"
   },
   {
    "duration": 13,
    "start_time": "2021-10-21T10:09:16.095Z"
   },
   {
    "duration": 14,
    "start_time": "2021-10-21T10:09:16.111Z"
   },
   {
    "duration": 33,
    "start_time": "2021-10-21T10:09:16.127Z"
   },
   {
    "duration": 17,
    "start_time": "2021-10-21T10:09:16.163Z"
   },
   {
    "duration": 17,
    "start_time": "2021-10-21T10:09:16.183Z"
   },
   {
    "duration": 22,
    "start_time": "2021-10-21T10:09:16.203Z"
   },
   {
    "duration": 44,
    "start_time": "2021-10-21T10:09:16.227Z"
   },
   {
    "duration": 19,
    "start_time": "2021-10-21T10:09:16.274Z"
   },
   {
    "duration": 14,
    "start_time": "2021-10-21T10:09:16.295Z"
   },
   {
    "duration": 847,
    "start_time": "2021-10-22T04:59:28.426Z"
   },
   {
    "duration": 38,
    "start_time": "2021-10-22T04:59:29.276Z"
   },
   {
    "duration": 4,
    "start_time": "2021-10-22T04:59:29.317Z"
   },
   {
    "duration": 249,
    "start_time": "2021-10-22T04:59:29.324Z"
   },
   {
    "duration": 66,
    "start_time": "2021-10-22T04:59:29.575Z"
   },
   {
    "duration": 65,
    "start_time": "2021-10-22T04:59:29.644Z"
   },
   {
    "duration": 66,
    "start_time": "2021-10-22T04:59:29.712Z"
   },
   {
    "duration": 67,
    "start_time": "2021-10-22T04:59:29.782Z"
   },
   {
    "duration": 65,
    "start_time": "2021-10-22T04:59:29.851Z"
   },
   {
    "duration": 74,
    "start_time": "2021-10-22T04:59:29.919Z"
   },
   {
    "duration": 68,
    "start_time": "2021-10-22T04:59:29.996Z"
   },
   {
    "duration": 70,
    "start_time": "2021-10-22T04:59:30.066Z"
   },
   {
    "duration": 68,
    "start_time": "2021-10-22T04:59:30.138Z"
   },
   {
    "duration": 101,
    "start_time": "2021-10-22T05:11:30.010Z"
   },
   {
    "duration": 73,
    "start_time": "2021-10-22T05:11:34.152Z"
   },
   {
    "duration": 871,
    "start_time": "2021-10-22T08:57:23.905Z"
   },
   {
    "duration": 51,
    "start_time": "2021-10-22T08:57:24.779Z"
   },
   {
    "duration": 5,
    "start_time": "2021-10-22T08:57:24.834Z"
   },
   {
    "duration": 53,
    "start_time": "2021-10-22T08:57:24.842Z"
   },
   {
    "duration": 15,
    "start_time": "2021-10-22T08:57:24.898Z"
   },
   {
    "duration": 14,
    "start_time": "2021-10-22T08:57:24.916Z"
   },
   {
    "duration": 16,
    "start_time": "2021-10-22T08:57:24.933Z"
   },
   {
    "duration": 51,
    "start_time": "2021-10-22T08:57:24.952Z"
   },
   {
    "duration": 14,
    "start_time": "2021-10-22T08:57:25.006Z"
   },
   {
    "duration": 24,
    "start_time": "2021-10-22T08:57:25.023Z"
   },
   {
    "duration": 15,
    "start_time": "2021-10-22T08:57:25.050Z"
   },
   {
    "duration": 50,
    "start_time": "2021-10-22T08:57:25.068Z"
   },
   {
    "duration": 15,
    "start_time": "2021-10-22T08:57:25.120Z"
   },
   {
    "duration": 524,
    "start_time": "2022-06-13T15:16:06.810Z"
   },
   {
    "duration": 129,
    "start_time": "2022-06-13T15:16:07.337Z"
   },
   {
    "duration": 3,
    "start_time": "2022-06-13T15:16:07.468Z"
   },
   {
    "duration": 284,
    "start_time": "2022-06-13T15:16:07.473Z"
   },
   {
    "duration": 67,
    "start_time": "2022-06-13T15:16:07.759Z"
   },
   {
    "duration": 0,
    "start_time": "2022-06-13T15:16:07.828Z"
   },
   {
    "duration": 0,
    "start_time": "2022-06-13T15:16:07.829Z"
   },
   {
    "duration": 0,
    "start_time": "2022-06-13T15:16:07.831Z"
   },
   {
    "duration": 0,
    "start_time": "2022-06-13T15:16:07.832Z"
   },
   {
    "duration": 0,
    "start_time": "2022-06-13T15:16:07.834Z"
   },
   {
    "duration": 0,
    "start_time": "2022-06-13T15:16:07.835Z"
   },
   {
    "duration": 0,
    "start_time": "2022-06-13T15:16:07.836Z"
   },
   {
    "duration": 0,
    "start_time": "2022-06-13T15:16:07.838Z"
   },
   {
    "duration": 0,
    "start_time": "2022-06-13T15:16:07.839Z"
   },
   {
    "duration": 3,
    "start_time": "2022-06-13T15:16:46.097Z"
   },
   {
    "duration": 8,
    "start_time": "2022-06-13T15:16:46.101Z"
   },
   {
    "duration": 4,
    "start_time": "2022-06-13T15:16:46.111Z"
   },
   {
    "duration": 253,
    "start_time": "2022-06-13T15:16:46.117Z"
   },
   {
    "duration": 75,
    "start_time": "2022-06-13T15:16:46.372Z"
   },
   {
    "duration": 74,
    "start_time": "2022-06-13T15:16:46.449Z"
   },
   {
    "duration": 75,
    "start_time": "2022-06-13T15:16:46.525Z"
   },
   {
    "duration": 75,
    "start_time": "2022-06-13T15:16:46.603Z"
   },
   {
    "duration": 73,
    "start_time": "2022-06-13T15:16:46.679Z"
   },
   {
    "duration": 81,
    "start_time": "2022-06-13T15:16:46.754Z"
   },
   {
    "duration": 75,
    "start_time": "2022-06-13T15:16:46.836Z"
   },
   {
    "duration": 78,
    "start_time": "2022-06-13T15:16:46.913Z"
   },
   {
    "duration": 75,
    "start_time": "2022-06-13T15:16:46.992Z"
   },
   {
    "duration": 124,
    "start_time": "2022-06-13T15:17:48.275Z"
   },
   {
    "duration": 3,
    "start_time": "2022-06-13T15:19:49.838Z"
   },
   {
    "duration": 6,
    "start_time": "2022-06-13T15:19:49.843Z"
   },
   {
    "duration": 7,
    "start_time": "2022-06-13T15:19:49.851Z"
   },
   {
    "duration": 240,
    "start_time": "2022-06-13T15:19:49.859Z"
   },
   {
    "duration": 95,
    "start_time": "2022-06-13T15:19:50.101Z"
   },
   {
    "duration": 70,
    "start_time": "2022-06-13T15:19:50.197Z"
   },
   {
    "duration": 74,
    "start_time": "2022-06-13T15:19:50.269Z"
   },
   {
    "duration": 70,
    "start_time": "2022-06-13T15:19:50.345Z"
   },
   {
    "duration": 75,
    "start_time": "2022-06-13T15:19:50.417Z"
   },
   {
    "duration": 71,
    "start_time": "2022-06-13T15:19:50.493Z"
   },
   {
    "duration": 111,
    "start_time": "2022-06-13T15:19:50.566Z"
   },
   {
    "duration": 72,
    "start_time": "2022-06-13T15:19:50.678Z"
   },
   {
    "duration": 88,
    "start_time": "2022-06-13T15:19:50.752Z"
   },
   {
    "duration": 70,
    "start_time": "2022-06-13T15:19:50.842Z"
   },
   {
    "duration": 80,
    "start_time": "2022-06-13T15:19:50.913Z"
   },
   {
    "duration": 72,
    "start_time": "2022-06-13T15:19:50.994Z"
   },
   {
    "duration": 77,
    "start_time": "2022-06-13T15:19:51.068Z"
   },
   {
    "duration": 72,
    "start_time": "2022-06-13T15:19:51.146Z"
   }
  ],
  "kernelspec": {
   "display_name": "Python 3 (ipykernel)",
   "language": "python",
   "name": "python3"
  },
  "language_info": {
   "codemirror_mode": {
    "name": "ipython",
    "version": 3
   },
   "file_extension": ".py",
   "mimetype": "text/x-python",
   "name": "python",
   "nbconvert_exporter": "python",
   "pygments_lexer": "ipython3",
   "version": "3.9.5"
  },
  "toc": {
   "base_numbering": 1,
   "nav_menu": {},
   "number_sections": true,
   "sideBar": true,
   "skip_h1_title": true,
   "title_cell": "Table of Contents",
   "title_sidebar": "Contents",
   "toc_cell": false,
   "toc_position": {
    "height": "calc(100% - 180px)",
    "left": "10px",
    "top": "150px",
    "width": "183.391px"
   },
   "toc_section_display": true,
   "toc_window_display": true
  },
  "widgets": {
   "application/vnd.jupyter.widget-state+json": {
    "state": {},
    "version_major": 2,
    "version_minor": 0
   }
  }
 },
 "nbformat": 4,
 "nbformat_minor": 2
}
