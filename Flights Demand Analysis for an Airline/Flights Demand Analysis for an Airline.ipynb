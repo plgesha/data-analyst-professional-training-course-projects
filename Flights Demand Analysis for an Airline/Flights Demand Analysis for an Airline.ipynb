{
 "cells": [
  {
   "cell_type": "markdown",
   "metadata": {},
   "source": [
    "# Аналитика в авиакомпании"
   ]
  },
  {
   "cell_type": "markdown",
   "metadata": {
    "toc": true
   },
   "source": [
    "<h1>Содержание<span class=\"tocSkip\"></span></h1>\n",
    "<div class=\"toc\"><ul class=\"toc-item\"><li><span><a href=\"#Описание-данных\" data-toc-modified-id=\"Описание-данных-1\"><span class=\"toc-item-num\">1&nbsp;&nbsp;</span>Описание данных</a></span></li><li><span><a href=\"#Изучение-данных\" data-toc-modified-id=\"Изучение-данных-2\"><span class=\"toc-item-num\">2&nbsp;&nbsp;</span>Изучение данных</a></span></li><li><span><a href=\"#Построение-графиков\" data-toc-modified-id=\"Построение-графиков-3\"><span class=\"toc-item-num\">3&nbsp;&nbsp;</span>Построение графиков</a></span><ul class=\"toc-item\"><li><span><a href=\"#Модели-самолетов-и-количество-рейсов\" data-toc-modified-id=\"Модели-самолетов-и-количество-рейсов-3.1\"><span class=\"toc-item-num\">3.1&nbsp;&nbsp;</span>Модели самолетов и количество рейсов</a></span></li><li><span><a href=\"#Города-и-количество-рейсов\" data-toc-modified-id=\"Города-и-количество-рейсов-3.2\"><span class=\"toc-item-num\">3.2&nbsp;&nbsp;</span>Города и количество рейсов</a></span></li></ul></li><li><span><a href=\"#Общий-вывод\" data-toc-modified-id=\"Общий-вывод-4\"><span class=\"toc-item-num\">4&nbsp;&nbsp;</span>Общий вывод</a></span></li></ul></div>"
   ]
  },
  {
   "cell_type": "markdown",
   "metadata": {},
   "source": [
    "## Описание данных"
   ]
  },
  {
   "cell_type": "markdown",
   "metadata": {},
   "source": [
    "База данных об авиаперевозках:\n",
    "\n",
    "Таблица **`airports`** — информация об аэропортах:\n",
    "\n",
    "- `airport_code` — трёхбуквенный код аэропорта,\n",
    "- `airport_name` — название аэропорта,\n",
    "- `city` — город,\n",
    "- `timezone` — часовой пояс.\n",
    "\n",
    "Таблица **`aircrafts`** — информация о самолётах:\n",
    "\n",
    "- `aircraft_code` — код модели самолёта,\n",
    "- `model` — модель самолёта,\n",
    "- `range` — дальность полётов.\n",
    "\n",
    "Таблица **`tickets`** — информация о билетах:\n",
    "\n",
    "- `ticket_no` — уникальный номер билета,\n",
    "- `passenger_id` — уникальный идентификатор пассажира,\n",
    "- `passenger_name` — имя и фамилия пассажира.\n",
    "\n",
    "Таблица **`flights`** — информация о рейсах:\n",
    "\n",
    "- `flight_id` — уникальный идентификатор рейса,\n",
    "- `departure_airport` — аэропорт вылета,\n",
    "- `departure_time` — дата и время вылета,\n",
    "- `arrival_airport` — аэропорт прилёта,\n",
    "- `arrival_time` — дата и время прилёта,\n",
    "- `aircraft_code` — уникальный идентификатор самолёта.\n",
    "\n",
    "Таблица **`ticket_flights`** — стыковая таблица «рейсы-билеты»:\n",
    "\n",
    "- `ticket_no` — номер билета,\n",
    "- `flight_id` — уникальный идентификатор рейса.\n",
    "\n",
    "Таблица **`festivals`** — информация о фестивалях:\n",
    "\n",
    "- `festival_id` — уникальный номер фестиваля,\n",
    "- `festival_date` — дата проведения фестиваля,\n",
    "- `festival_city` — город проведения фестиваля,\n",
    "- `festival_name` — название фестиваля."
   ]
  },
  {
   "cell_type": "markdown",
   "metadata": {},
   "source": [
    "Файлы, в которых содержатся результаты запросов из предыдущих этапов проекта:\n",
    "\n",
    "**/datasets/query_1.csv** — результат первого запроса. В нём содержится информация о:\n",
    "- *model* — модели самолета\n",
    "- *flights_amount* — количество рейсов для каждой модели самолетов model в сентябре 2018 года\n",
    "\n",
    "**/datasets/query_3.csv** — результат третьего запроса. В нём содержится информация о:\n",
    "- *city* — городах\n",
    "- *average_flights* — среднем количестве рейсов, прибывающих в город city за день в сентябре 2018 года"
   ]
  },
  {
   "cell_type": "markdown",
   "metadata": {},
   "source": [
    "Что нужно сделать:\n",
    "- импортировать файлы и изучить данные в них;\n",
    "- проверить типы данных на корректность;\n",
    "- выбрать топ-10 городов по количеству рейсов;\n",
    "- построить графики: модели самолетов и количество рейсов, города и количество рейсов, топ-10 городов и количество рейсов;\n",
    "- сделать выводы по каждому из графиков, пояснить результат."
   ]
  },
  {
   "cell_type": "markdown",
   "metadata": {},
   "source": [
    "## Изучение данных"
   ]
  },
  {
   "cell_type": "code",
   "execution_count": 1,
   "metadata": {},
   "outputs": [],
   "source": [
    "import pandas as pd\n",
    "import numpy as np\n",
    "import matplotlib.pyplot as plt\n",
    "import seaborn as sns\n",
    "import scipy.stats as st"
   ]
  },
  {
   "cell_type": "code",
   "execution_count": 2,
   "metadata": {},
   "outputs": [],
   "source": [
    "q1 = pd.read_csv('/datasets/query_1.csv')\n",
    "q3 = pd.read_csv('/datasets/query_3.csv')"
   ]
  },
  {
   "cell_type": "code",
   "execution_count": 3,
   "metadata": {},
   "outputs": [
    {
     "data": {
      "text/html": [
       "<div>\n",
       "<style scoped>\n",
       "    .dataframe tbody tr th:only-of-type {\n",
       "        vertical-align: middle;\n",
       "    }\n",
       "\n",
       "    .dataframe tbody tr th {\n",
       "        vertical-align: top;\n",
       "    }\n",
       "\n",
       "    .dataframe thead th {\n",
       "        text-align: right;\n",
       "    }\n",
       "</style>\n",
       "<table border=\"1\" class=\"dataframe\">\n",
       "  <thead>\n",
       "    <tr style=\"text-align: right;\">\n",
       "      <th></th>\n",
       "      <th>model</th>\n",
       "      <th>flights_amount</th>\n",
       "    </tr>\n",
       "  </thead>\n",
       "  <tbody>\n",
       "    <tr>\n",
       "      <td>0</td>\n",
       "      <td>Airbus A319-100</td>\n",
       "      <td>607</td>\n",
       "    </tr>\n",
       "    <tr>\n",
       "      <td>1</td>\n",
       "      <td>Airbus A321-200</td>\n",
       "      <td>960</td>\n",
       "    </tr>\n",
       "    <tr>\n",
       "      <td>2</td>\n",
       "      <td>Boeing 737-300</td>\n",
       "      <td>630</td>\n",
       "    </tr>\n",
       "    <tr>\n",
       "      <td>3</td>\n",
       "      <td>Boeing 767-300</td>\n",
       "      <td>600</td>\n",
       "    </tr>\n",
       "    <tr>\n",
       "      <td>4</td>\n",
       "      <td>Boeing 777-300</td>\n",
       "      <td>300</td>\n",
       "    </tr>\n",
       "    <tr>\n",
       "      <td>5</td>\n",
       "      <td>Bombardier CRJ-200</td>\n",
       "      <td>4446</td>\n",
       "    </tr>\n",
       "    <tr>\n",
       "      <td>6</td>\n",
       "      <td>Cessna 208 Caravan</td>\n",
       "      <td>4557</td>\n",
       "    </tr>\n",
       "    <tr>\n",
       "      <td>7</td>\n",
       "      <td>Sukhoi SuperJet-100</td>\n",
       "      <td>4185</td>\n",
       "    </tr>\n",
       "  </tbody>\n",
       "</table>\n",
       "</div>"
      ],
      "text/plain": [
       "                 model  flights_amount\n",
       "0      Airbus A319-100             607\n",
       "1      Airbus A321-200             960\n",
       "2       Boeing 737-300             630\n",
       "3       Boeing 767-300             600\n",
       "4       Boeing 777-300             300\n",
       "5   Bombardier CRJ-200            4446\n",
       "6   Cessna 208 Caravan            4557\n",
       "7  Sukhoi SuperJet-100            4185"
      ]
     },
     "execution_count": 3,
     "metadata": {},
     "output_type": "execute_result"
    }
   ],
   "source": [
    "q1"
   ]
  },
  {
   "cell_type": "code",
   "execution_count": 4,
   "metadata": {},
   "outputs": [
    {
     "name": "stdout",
     "output_type": "stream",
     "text": [
      "<class 'pandas.core.frame.DataFrame'>\n",
      "RangeIndex: 8 entries, 0 to 7\n",
      "Data columns (total 2 columns):\n",
      "model             8 non-null object\n",
      "flights_amount    8 non-null int64\n",
      "dtypes: int64(1), object(1)\n",
      "memory usage: 256.0+ bytes\n"
     ]
    }
   ],
   "source": [
    "q1.info()"
   ]
  },
  {
   "cell_type": "markdown",
   "metadata": {},
   "source": [
    "C данным из первого запроса все в порядке. Посмотрим на другой:"
   ]
  },
  {
   "cell_type": "code",
   "execution_count": 5,
   "metadata": {},
   "outputs": [
    {
     "data": {
      "text/html": [
       "<div>\n",
       "<style scoped>\n",
       "    .dataframe tbody tr th:only-of-type {\n",
       "        vertical-align: middle;\n",
       "    }\n",
       "\n",
       "    .dataframe tbody tr th {\n",
       "        vertical-align: top;\n",
       "    }\n",
       "\n",
       "    .dataframe thead th {\n",
       "        text-align: right;\n",
       "    }\n",
       "</style>\n",
       "<table border=\"1\" class=\"dataframe\">\n",
       "  <thead>\n",
       "    <tr style=\"text-align: right;\">\n",
       "      <th></th>\n",
       "      <th>city</th>\n",
       "      <th>average_flights</th>\n",
       "    </tr>\n",
       "  </thead>\n",
       "  <tbody>\n",
       "    <tr>\n",
       "      <td>0</td>\n",
       "      <td>Абакан</td>\n",
       "      <td>3.870968</td>\n",
       "    </tr>\n",
       "    <tr>\n",
       "      <td>1</td>\n",
       "      <td>Анадырь</td>\n",
       "      <td>1.000000</td>\n",
       "    </tr>\n",
       "    <tr>\n",
       "      <td>2</td>\n",
       "      <td>Анапа</td>\n",
       "      <td>2.161290</td>\n",
       "    </tr>\n",
       "    <tr>\n",
       "      <td>3</td>\n",
       "      <td>Архангельск</td>\n",
       "      <td>5.354839</td>\n",
       "    </tr>\n",
       "    <tr>\n",
       "      <td>4</td>\n",
       "      <td>Астрахань</td>\n",
       "      <td>2.451613</td>\n",
       "    </tr>\n",
       "    <tr>\n",
       "      <td>...</td>\n",
       "      <td>...</td>\n",
       "      <td>...</td>\n",
       "    </tr>\n",
       "    <tr>\n",
       "      <td>96</td>\n",
       "      <td>Чита</td>\n",
       "      <td>1.580645</td>\n",
       "    </tr>\n",
       "    <tr>\n",
       "      <td>97</td>\n",
       "      <td>Элиста</td>\n",
       "      <td>4.870968</td>\n",
       "    </tr>\n",
       "    <tr>\n",
       "      <td>98</td>\n",
       "      <td>Южно-Сахалинск</td>\n",
       "      <td>4.290323</td>\n",
       "    </tr>\n",
       "    <tr>\n",
       "      <td>99</td>\n",
       "      <td>Якутск</td>\n",
       "      <td>2.741935</td>\n",
       "    </tr>\n",
       "    <tr>\n",
       "      <td>100</td>\n",
       "      <td>Ярославль</td>\n",
       "      <td>1.322581</td>\n",
       "    </tr>\n",
       "  </tbody>\n",
       "</table>\n",
       "<p>101 rows × 2 columns</p>\n",
       "</div>"
      ],
      "text/plain": [
       "               city  average_flights\n",
       "0            Абакан         3.870968\n",
       "1           Анадырь         1.000000\n",
       "2             Анапа         2.161290\n",
       "3       Архангельск         5.354839\n",
       "4         Астрахань         2.451613\n",
       "..              ...              ...\n",
       "96             Чита         1.580645\n",
       "97           Элиста         4.870968\n",
       "98   Южно-Сахалинск         4.290323\n",
       "99           Якутск         2.741935\n",
       "100       Ярославль         1.322581\n",
       "\n",
       "[101 rows x 2 columns]"
      ]
     },
     "execution_count": 5,
     "metadata": {},
     "output_type": "execute_result"
    }
   ],
   "source": [
    "q3"
   ]
  },
  {
   "cell_type": "code",
   "execution_count": 6,
   "metadata": {},
   "outputs": [
    {
     "name": "stdout",
     "output_type": "stream",
     "text": [
      "<class 'pandas.core.frame.DataFrame'>\n",
      "RangeIndex: 101 entries, 0 to 100\n",
      "Data columns (total 2 columns):\n",
      "city               101 non-null object\n",
      "average_flights    101 non-null float64\n",
      "dtypes: float64(1), object(1)\n",
      "memory usage: 1.7+ KB\n"
     ]
    }
   ],
   "source": [
    "q3.info()"
   ]
  },
  {
   "cell_type": "markdown",
   "metadata": {},
   "source": [
    "Все в порядке, кроме типа данных `average_flights`. Изменим его на *int*:"
   ]
  },
  {
   "cell_type": "code",
   "execution_count": 7,
   "metadata": {},
   "outputs": [],
   "source": [
    "q3['average_flights'] = q3['average_flights'].astype('int')"
   ]
  },
  {
   "cell_type": "code",
   "execution_count": 8,
   "metadata": {},
   "outputs": [
    {
     "data": {
      "text/html": [
       "<div>\n",
       "<style scoped>\n",
       "    .dataframe tbody tr th:only-of-type {\n",
       "        vertical-align: middle;\n",
       "    }\n",
       "\n",
       "    .dataframe tbody tr th {\n",
       "        vertical-align: top;\n",
       "    }\n",
       "\n",
       "    .dataframe thead th {\n",
       "        text-align: right;\n",
       "    }\n",
       "</style>\n",
       "<table border=\"1\" class=\"dataframe\">\n",
       "  <thead>\n",
       "    <tr style=\"text-align: right;\">\n",
       "      <th></th>\n",
       "      <th>average_flights</th>\n",
       "    </tr>\n",
       "  </thead>\n",
       "  <tbody>\n",
       "    <tr>\n",
       "      <td>count</td>\n",
       "      <td>101.000000</td>\n",
       "    </tr>\n",
       "    <tr>\n",
       "      <td>mean</td>\n",
       "      <td>5.217822</td>\n",
       "    </tr>\n",
       "    <tr>\n",
       "      <td>std</td>\n",
       "      <td>13.061090</td>\n",
       "    </tr>\n",
       "    <tr>\n",
       "      <td>min</td>\n",
       "      <td>1.000000</td>\n",
       "    </tr>\n",
       "    <tr>\n",
       "      <td>25%</td>\n",
       "      <td>2.000000</td>\n",
       "    </tr>\n",
       "    <tr>\n",
       "      <td>50%</td>\n",
       "      <td>3.000000</td>\n",
       "    </tr>\n",
       "    <tr>\n",
       "      <td>75%</td>\n",
       "      <td>5.000000</td>\n",
       "    </tr>\n",
       "    <tr>\n",
       "      <td>max</td>\n",
       "      <td>129.000000</td>\n",
       "    </tr>\n",
       "  </tbody>\n",
       "</table>\n",
       "</div>"
      ],
      "text/plain": [
       "       average_flights\n",
       "count       101.000000\n",
       "mean          5.217822\n",
       "std          13.061090\n",
       "min           1.000000\n",
       "25%           2.000000\n",
       "50%           3.000000\n",
       "75%           5.000000\n",
       "max         129.000000"
      ]
     },
     "execution_count": 8,
     "metadata": {},
     "output_type": "execute_result"
    }
   ],
   "source": [
    "q3.describe()"
   ]
  },
  {
   "cell_type": "code",
   "execution_count": 9,
   "metadata": {},
   "outputs": [
    {
     "data": {
      "text/plain": [
       "0"
      ]
     },
     "execution_count": 9,
     "metadata": {},
     "output_type": "execute_result"
    }
   ],
   "source": [
    "q3.duplicated().sum()"
   ]
  },
  {
   "cell_type": "markdown",
   "metadata": {},
   "source": [
    "**Вывод:** С данными в обеих таблицах все хорошо, дубликатов нет, типы данных в порядке, пропусков нет."
   ]
  },
  {
   "cell_type": "markdown",
   "metadata": {},
   "source": [
    "## Построение графиков"
   ]
  },
  {
   "cell_type": "markdown",
   "metadata": {},
   "source": [
    "### Модели самолетов и количество рейсов"
   ]
  },
  {
   "cell_type": "code",
   "execution_count": 10,
   "metadata": {},
   "outputs": [
    {
     "data": {
      "image/png": "[encoded data removed]",
      "text/plain": [
       "<Figure size 432x288 with 1 Axes>"
      ]
     },
     "metadata": {
      "needs_background": "light"
     },
     "output_type": "display_data"
    }
   ],
   "source": [
    "q1_sorted = q1.sort_values('flights_amount', ascending=False)\n",
    "ax = sns.barplot(x='flights_amount', y='model', data=q1_sorted, palette='Blues_d')\n",
    "plt.title('Number of flights by model')\n",
    "plt.show()"
   ]
  },
  {
   "cell_type": "markdown",
   "metadata": {},
   "source": [
    "**Вывод:** По количеству рейсов лидирует самолет легкой авиации для полетов на небольшие расстояния — Cessna 208 Caravan. Дальше идут два самолета покрупнее, ближнемагистральные Bombardier CRJ-200 и Sukhoi Superjet-100. Общая картина показывает, что чем крупнее самолет, тем меньше рейсов он совершает."
   ]
  },
  {
   "cell_type": "markdown",
   "metadata": {},
   "source": [
    "### Города и количество рейсов"
   ]
  },
  {
   "cell_type": "markdown",
   "metadata": {},
   "source": [
    "Выберем топ-10 городов по количеству рейсов:"
   ]
  },
  {
   "cell_type": "code",
   "execution_count": 11,
   "metadata": {},
   "outputs": [
    {
     "data": {
      "text/html": [
       "<div>\n",
       "<style scoped>\n",
       "    .dataframe tbody tr th:only-of-type {\n",
       "        vertical-align: middle;\n",
       "    }\n",
       "\n",
       "    .dataframe tbody tr th {\n",
       "        vertical-align: top;\n",
       "    }\n",
       "\n",
       "    .dataframe thead th {\n",
       "        text-align: right;\n",
       "    }\n",
       "</style>\n",
       "<table border=\"1\" class=\"dataframe\">\n",
       "  <thead>\n",
       "    <tr style=\"text-align: right;\">\n",
       "      <th></th>\n",
       "      <th>city</th>\n",
       "      <th>average_flights</th>\n",
       "    </tr>\n",
       "  </thead>\n",
       "  <tbody>\n",
       "    <tr>\n",
       "      <td>43</td>\n",
       "      <td>Москва</td>\n",
       "      <td>129</td>\n",
       "    </tr>\n",
       "    <tr>\n",
       "      <td>70</td>\n",
       "      <td>Санкт-Петербург</td>\n",
       "      <td>31</td>\n",
       "    </tr>\n",
       "    <tr>\n",
       "      <td>54</td>\n",
       "      <td>Новосибирск</td>\n",
       "      <td>17</td>\n",
       "    </tr>\n",
       "    <tr>\n",
       "      <td>20</td>\n",
       "      <td>Екатеринбург</td>\n",
       "      <td>11</td>\n",
       "    </tr>\n",
       "    <tr>\n",
       "      <td>33</td>\n",
       "      <td>Красноярск</td>\n",
       "      <td>11</td>\n",
       "    </tr>\n",
       "    <tr>\n",
       "      <td>63</td>\n",
       "      <td>Пермь</td>\n",
       "      <td>10</td>\n",
       "    </tr>\n",
       "    <tr>\n",
       "      <td>67</td>\n",
       "      <td>Ростов-на-Дону</td>\n",
       "      <td>10</td>\n",
       "    </tr>\n",
       "    <tr>\n",
       "      <td>10</td>\n",
       "      <td>Брянск</td>\n",
       "      <td>10</td>\n",
       "    </tr>\n",
       "    <tr>\n",
       "      <td>84</td>\n",
       "      <td>Ульяновск</td>\n",
       "      <td>9</td>\n",
       "    </tr>\n",
       "    <tr>\n",
       "      <td>73</td>\n",
       "      <td>Советский</td>\n",
       "      <td>9</td>\n",
       "    </tr>\n",
       "  </tbody>\n",
       "</table>\n",
       "</div>"
      ],
      "text/plain": [
       "               city  average_flights\n",
       "43           Москва              129\n",
       "70  Санкт-Петербург               31\n",
       "54      Новосибирск               17\n",
       "20     Екатеринбург               11\n",
       "33       Красноярск               11\n",
       "63            Пермь               10\n",
       "67   Ростов-на-Дону               10\n",
       "10           Брянск               10\n",
       "84        Ульяновск                9\n",
       "73        Советский                9"
      ]
     },
     "execution_count": 11,
     "metadata": {},
     "output_type": "execute_result"
    }
   ],
   "source": [
    "top10 = q3.sort_values('average_flights', ascending=False).head(10)\n",
    "top10"
   ]
  },
  {
   "cell_type": "code",
   "execution_count": 12,
   "metadata": {},
   "outputs": [
    {
     "data": {
      "image/png": "[encoded data removed]",
      "text/plain": [
       "<Figure size 432x288 with 1 Axes>"
      ]
     },
     "metadata": {
      "needs_background": "light"
     },
     "output_type": "display_data"
    }
   ],
   "source": [
    "ax = sns.barplot(x='average_flights', y='city', data=top10, palette='Greens_d')\n",
    "plt.title('Number of flights by city from top-10')\n",
    "plt.show()"
   ]
  },
  {
   "cell_type": "markdown",
   "metadata": {},
   "source": [
    "**Вывод:** Самые крупные города, аэропорты в которых являются крупными транспортыми хабами, находятся на верхних позициях. Москва — безусловный лидер."
   ]
  },
  {
   "cell_type": "code",
   "execution_count": 13,
   "metadata": {},
   "outputs": [],
   "source": [
    "top30 = q3.nlargest(30, columns=['average_flights'])\n",
    "others = pd.DataFrame(dict(city=['Остальные'],average_flights=[q3[~q3['city']\n",
    "              .isin(top30['city'])]['average_flights']\n",
    "              .sum()]))"
   ]
  },
  {
   "cell_type": "code",
   "execution_count": 14,
   "metadata": {},
   "outputs": [
    {
     "data": {
      "image/png": "[encoded data removed]",
      "text/plain": [
       "<Figure size 576x576 with 1 Axes>"
      ]
     },
     "metadata": {
      "needs_background": "light"
     },
     "output_type": "display_data"
    }
   ],
   "source": [
    "sns.set_color_codes('pastel')\n",
    "plt.figure(figsize=(8, 8))\n",
    "sns.barplot(y='city',x='average_flights', data=pd.concat([top30, others]))\n",
    "sns.set_color_codes('muted')\n",
    "plt.title('Number of flights by city (top-30 and others)')\n",
    "plt.show()"
   ]
  },
  {
   "cell_type": "markdown",
   "metadata": {},
   "source": [
    "**Вывод:** Москва — настолько большой хаб, что во всех остальных 70 городах, не входящих в топ-30, в сумме среднее количество рейсов совсем немного больше, чем в одной-единственной Москве."
   ]
  },
  {
   "cell_type": "markdown",
   "metadata": {},
   "source": [
    "## Общий вывод"
   ]
  },
  {
   "cell_type": "markdown",
   "metadata": {},
   "source": [
    "Изучив данные по количеству перелетов за сентябрь 2018 г. для каждой модели самолета и построив график, выяснили, что по количеству рейсов лидируют легкий самолет Cessna 208 Caravan и два ближнемагистральных — Bombardier CRJ-200 и Sukhoi Superjet-100. Чем крупнее самолет, тем меньше рейсов он совершает.\n",
    "\n",
    "Также выяснили, что среди городов с самым большим количеством рейсов, Москва — безусловный лидер, далее идут другие крупные города-хабы."
   ]
  }
 ],
 "metadata": {
  "ExecuteTimeLog": [
   {
    "duration": 97,
    "start_time": "2021-06-25T13:28:45.691Z"
   },
   {
    "duration": 1485,
    "start_time": "2021-06-25T13:50:29.497Z"
   },
   {
    "duration": 35,
    "start_time": "2021-06-25T13:52:11.081Z"
   },
   {
    "duration": 16,
    "start_time": "2021-06-25T13:52:20.303Z"
   },
   {
    "duration": 10,
    "start_time": "2021-06-25T13:52:48.333Z"
   },
   {
    "duration": 14,
    "start_time": "2021-06-25T13:54:38.047Z"
   },
   {
    "duration": 8,
    "start_time": "2021-06-25T13:54:48.037Z"
   },
   {
    "duration": 1522,
    "start_time": "2021-06-25T14:00:11.110Z"
   },
   {
    "duration": 33,
    "start_time": "2021-06-25T14:00:12.635Z"
   },
   {
    "duration": 24,
    "start_time": "2021-06-25T14:00:12.671Z"
   },
   {
    "duration": 10,
    "start_time": "2021-06-25T14:00:12.698Z"
   },
   {
    "duration": 17,
    "start_time": "2021-06-25T14:00:12.710Z"
   },
   {
    "duration": 10,
    "start_time": "2021-06-25T14:00:12.730Z"
   },
   {
    "duration": 11,
    "start_time": "2021-06-25T14:00:12.742Z"
   },
   {
    "duration": 9,
    "start_time": "2021-06-25T14:00:41.760Z"
   },
   {
    "duration": 10,
    "start_time": "2021-06-25T14:00:54.264Z"
   },
   {
    "duration": 19,
    "start_time": "2021-06-25T14:00:59.135Z"
   },
   {
    "duration": 17,
    "start_time": "2021-06-25T14:09:48.965Z"
   },
   {
    "duration": 477,
    "start_time": "2021-06-25T14:15:14.346Z"
   },
   {
    "duration": 302,
    "start_time": "2021-06-25T14:15:34.593Z"
   },
   {
    "duration": 4,
    "start_time": "2021-06-25T14:15:45.788Z"
   },
   {
    "duration": 41,
    "start_time": "2021-06-25T14:15:45.794Z"
   },
   {
    "duration": 12,
    "start_time": "2021-06-25T14:15:45.838Z"
   },
   {
    "duration": 10,
    "start_time": "2021-06-25T14:15:45.852Z"
   },
   {
    "duration": 21,
    "start_time": "2021-06-25T14:15:45.864Z"
   },
   {
    "duration": 9,
    "start_time": "2021-06-25T14:15:45.888Z"
   },
   {
    "duration": 5,
    "start_time": "2021-06-25T14:15:45.901Z"
   },
   {
    "duration": 24,
    "start_time": "2021-06-25T14:15:45.909Z"
   },
   {
    "duration": 12,
    "start_time": "2021-06-25T14:15:45.936Z"
   },
   {
    "duration": 308,
    "start_time": "2021-06-25T14:15:45.950Z"
   },
   {
    "duration": 287,
    "start_time": "2021-06-25T14:15:58.747Z"
   },
   {
    "duration": 289,
    "start_time": "2021-06-25T14:16:31.011Z"
   },
   {
    "duration": 290,
    "start_time": "2021-06-25T14:17:07.335Z"
   },
   {
    "duration": 264,
    "start_time": "2021-06-25T14:18:18.555Z"
   },
   {
    "duration": 290,
    "start_time": "2021-06-25T14:19:31.787Z"
   },
   {
    "duration": 286,
    "start_time": "2021-06-25T14:20:36.503Z"
   },
   {
    "duration": 310,
    "start_time": "2021-06-25T14:20:41.034Z"
   },
   {
    "duration": 616,
    "start_time": "2021-06-25T14:20:45.715Z"
   },
   {
    "duration": 632,
    "start_time": "2021-06-25T14:20:53.520Z"
   },
   {
    "duration": 527,
    "start_time": "2021-06-25T14:21:43.558Z"
   },
   {
    "duration": 301,
    "start_time": "2021-06-25T14:21:52.845Z"
   },
   {
    "duration": 299,
    "start_time": "2021-06-25T14:22:02.301Z"
   },
   {
    "duration": 263,
    "start_time": "2021-06-25T14:23:14.426Z"
   },
   {
    "duration": 289,
    "start_time": "2021-06-25T14:23:20.825Z"
   },
   {
    "duration": 282,
    "start_time": "2021-06-25T14:26:34.823Z"
   },
   {
    "duration": 285,
    "start_time": "2021-06-25T14:26:58.219Z"
   },
   {
    "duration": 4,
    "start_time": "2021-06-25T14:45:12.367Z"
   },
   {
    "duration": 35,
    "start_time": "2021-06-25T14:45:12.374Z"
   },
   {
    "duration": 10,
    "start_time": "2021-06-25T14:45:12.412Z"
   },
   {
    "duration": 9,
    "start_time": "2021-06-25T14:45:12.425Z"
   },
   {
    "duration": 15,
    "start_time": "2021-06-25T14:45:12.437Z"
   },
   {
    "duration": 10,
    "start_time": "2021-06-25T14:45:12.454Z"
   },
   {
    "duration": 37,
    "start_time": "2021-06-25T14:45:12.466Z"
   },
   {
    "duration": 20,
    "start_time": "2021-06-25T14:45:12.505Z"
   },
   {
    "duration": 288,
    "start_time": "2021-06-25T14:45:12.529Z"
   },
   {
    "duration": 274,
    "start_time": "2021-06-25T14:45:28.601Z"
   },
   {
    "duration": 20,
    "start_time": "2021-06-25T14:47:34.161Z"
   },
   {
    "duration": 12,
    "start_time": "2021-06-25T14:49:03.478Z"
   },
   {
    "duration": 287,
    "start_time": "2021-06-25T14:50:01.641Z"
   },
   {
    "duration": 11,
    "start_time": "2021-06-25T14:50:05.767Z"
   },
   {
    "duration": 261,
    "start_time": "2021-06-25T14:50:06.480Z"
   },
   {
    "duration": 14,
    "start_time": "2021-06-25T14:50:50.568Z"
   },
   {
    "duration": 11,
    "start_time": "2021-06-25T14:51:58.647Z"
   },
   {
    "duration": 4,
    "start_time": "2021-06-25T14:52:04.174Z"
   },
   {
    "duration": 36,
    "start_time": "2021-06-25T14:52:04.182Z"
   },
   {
    "duration": 10,
    "start_time": "2021-06-25T14:52:04.222Z"
   },
   {
    "duration": 12,
    "start_time": "2021-06-25T14:52:04.236Z"
   },
   {
    "duration": 130,
    "start_time": "2021-06-25T14:52:04.250Z"
   },
   {
    "duration": 19,
    "start_time": "2021-06-25T14:52:04.383Z"
   },
   {
    "duration": 6,
    "start_time": "2021-06-25T14:52:04.404Z"
   },
   {
    "duration": 18,
    "start_time": "2021-06-25T14:52:04.413Z"
   },
   {
    "duration": 329,
    "start_time": "2021-06-25T14:52:04.435Z"
   },
   {
    "duration": 11,
    "start_time": "2021-06-25T14:52:04.767Z"
   },
   {
    "duration": 299,
    "start_time": "2021-06-25T14:52:04.800Z"
   },
   {
    "duration": 12,
    "start_time": "2021-06-25T14:52:28.104Z"
   },
   {
    "duration": 313,
    "start_time": "2021-06-25T14:54:19.310Z"
   },
   {
    "duration": 275,
    "start_time": "2021-06-25T14:54:31.768Z"
   },
   {
    "duration": 319,
    "start_time": "2021-06-25T14:54:41.466Z"
   },
   {
    "duration": 283,
    "start_time": "2021-06-25T14:55:52.194Z"
   },
   {
    "duration": 323,
    "start_time": "2021-06-25T14:56:02.234Z"
   },
   {
    "duration": 320,
    "start_time": "2021-06-25T14:56:06.756Z"
   },
   {
    "duration": 303,
    "start_time": "2021-06-25T15:00:40.300Z"
   },
   {
    "duration": 5,
    "start_time": "2021-06-25T15:09:31.935Z"
   },
   {
    "duration": 42,
    "start_time": "2021-06-25T15:09:31.942Z"
   },
   {
    "duration": 16,
    "start_time": "2021-06-25T15:09:31.988Z"
   },
   {
    "duration": 16,
    "start_time": "2021-06-25T15:09:32.009Z"
   },
   {
    "duration": 17,
    "start_time": "2021-06-25T15:09:32.028Z"
   },
   {
    "duration": 10,
    "start_time": "2021-06-25T15:09:32.049Z"
   },
   {
    "duration": 45,
    "start_time": "2021-06-25T15:09:32.062Z"
   },
   {
    "duration": 45,
    "start_time": "2021-06-25T15:09:32.114Z"
   },
   {
    "duration": 308,
    "start_time": "2021-06-25T15:09:32.162Z"
   },
   {
    "duration": 11,
    "start_time": "2021-06-25T15:09:32.473Z"
   },
   {
    "duration": 369,
    "start_time": "2021-06-25T15:09:32.486Z"
   },
   {
    "duration": 1471,
    "start_time": "2021-06-25T18:18:59.339Z"
   },
   {
    "duration": 32,
    "start_time": "2021-06-25T18:19:00.813Z"
   },
   {
    "duration": 21,
    "start_time": "2021-06-25T18:19:00.848Z"
   },
   {
    "duration": 19,
    "start_time": "2021-06-25T18:19:00.871Z"
   },
   {
    "duration": 22,
    "start_time": "2021-06-25T18:19:00.893Z"
   },
   {
    "duration": 13,
    "start_time": "2021-06-25T18:19:00.917Z"
   },
   {
    "duration": 11,
    "start_time": "2021-06-25T18:19:00.933Z"
   },
   {
    "duration": 23,
    "start_time": "2021-06-25T18:19:00.947Z"
   },
   {
    "duration": 311,
    "start_time": "2021-06-25T18:19:00.974Z"
   },
   {
    "duration": 11,
    "start_time": "2021-06-25T18:19:01.287Z"
   },
   {
    "duration": 337,
    "start_time": "2021-06-25T18:19:01.300Z"
   },
   {
    "duration": 1444,
    "start_time": "2021-06-25T19:10:33.177Z"
   },
   {
    "duration": 36,
    "start_time": "2021-06-25T19:10:34.624Z"
   },
   {
    "duration": 22,
    "start_time": "2021-06-25T19:10:34.666Z"
   },
   {
    "duration": 10,
    "start_time": "2021-06-25T19:10:34.691Z"
   },
   {
    "duration": 52,
    "start_time": "2021-06-25T19:10:34.705Z"
   },
   {
    "duration": 11,
    "start_time": "2021-06-25T19:10:34.760Z"
   },
   {
    "duration": 9,
    "start_time": "2021-06-25T19:10:34.774Z"
   },
   {
    "duration": 27,
    "start_time": "2021-06-25T19:10:34.786Z"
   },
   {
    "duration": 448,
    "start_time": "2021-06-25T19:10:34.817Z"
   },
   {
    "duration": 19,
    "start_time": "2021-06-25T19:10:35.269Z"
   },
   {
    "duration": 534,
    "start_time": "2021-06-25T19:10:35.291Z"
   },
   {
    "duration": 337,
    "start_time": "2021-06-25T19:13:03.852Z"
   },
   {
    "duration": 7,
    "start_time": "2021-06-25T19:14:13.144Z"
   },
   {
    "duration": 4,
    "start_time": "2021-06-25T19:14:19.236Z"
   },
   {
    "duration": 38,
    "start_time": "2021-06-25T19:14:19.242Z"
   },
   {
    "duration": 13,
    "start_time": "2021-06-25T19:14:19.284Z"
   },
   {
    "duration": 10,
    "start_time": "2021-06-25T19:14:19.300Z"
   },
   {
    "duration": 15,
    "start_time": "2021-06-25T19:14:19.313Z"
   },
   {
    "duration": 9,
    "start_time": "2021-06-25T19:14:19.331Z"
   },
   {
    "duration": 14,
    "start_time": "2021-06-25T19:14:19.343Z"
   },
   {
    "duration": 23,
    "start_time": "2021-06-25T19:14:19.360Z"
   },
   {
    "duration": 8,
    "start_time": "2021-06-25T19:14:19.385Z"
   },
   {
    "duration": 389,
    "start_time": "2021-06-25T19:14:19.396Z"
   },
   {
    "duration": 12,
    "start_time": "2021-06-25T19:14:19.787Z"
   },
   {
    "duration": 363,
    "start_time": "2021-06-25T19:14:19.801Z"
   },
   {
    "duration": 14,
    "start_time": "2021-06-25T19:23:15.769Z"
   },
   {
    "duration": 380,
    "start_time": "2021-06-25T19:23:40.155Z"
   },
   {
    "duration": 15,
    "start_time": "2021-06-25T19:23:57.870Z"
   },
   {
    "duration": 8,
    "start_time": "2021-06-25T19:25:25.413Z"
   },
   {
    "duration": 5,
    "start_time": "2021-06-25T19:30:57.740Z"
   },
   {
    "duration": 298,
    "start_time": "2021-06-25T19:31:34.215Z"
   },
   {
    "duration": 950,
    "start_time": "2021-06-25T19:31:41.846Z"
   },
   {
    "duration": 1295,
    "start_time": "2021-06-25T19:31:50.188Z"
   },
   {
    "duration": 87,
    "start_time": "2021-06-25T19:37:22.096Z"
   },
   {
    "duration": 5,
    "start_time": "2021-06-25T19:37:28.155Z"
   },
   {
    "duration": 1170,
    "start_time": "2021-06-25T19:38:39.966Z"
   },
   {
    "duration": 5,
    "start_time": "2021-06-25T19:47:32.563Z"
   },
   {
    "duration": 39,
    "start_time": "2021-06-25T19:47:32.570Z"
   },
   {
    "duration": 12,
    "start_time": "2021-06-25T19:47:32.612Z"
   },
   {
    "duration": 9,
    "start_time": "2021-06-25T19:47:32.627Z"
   },
   {
    "duration": 23,
    "start_time": "2021-06-25T19:47:32.640Z"
   },
   {
    "duration": 10,
    "start_time": "2021-06-25T19:47:32.666Z"
   },
   {
    "duration": 7,
    "start_time": "2021-06-25T19:47:32.679Z"
   },
   {
    "duration": 19,
    "start_time": "2021-06-25T19:47:32.690Z"
   },
   {
    "duration": 9,
    "start_time": "2021-06-25T19:47:32.756Z"
   },
   {
    "duration": 313,
    "start_time": "2021-06-25T19:47:32.768Z"
   },
   {
    "duration": 12,
    "start_time": "2021-06-25T19:47:33.085Z"
   },
   {
    "duration": 360,
    "start_time": "2021-06-25T19:47:33.100Z"
   },
   {
    "duration": 15,
    "start_time": "2021-06-25T19:47:33.464Z"
   },
   {
    "duration": 100,
    "start_time": "2021-06-25T19:48:15.789Z"
   },
   {
    "duration": 116,
    "start_time": "2021-06-25T19:49:42.058Z"
   },
   {
    "duration": 79,
    "start_time": "2021-06-25T19:50:18.126Z"
   },
   {
    "duration": 4,
    "start_time": "2021-06-25T19:51:01.301Z"
   },
   {
    "duration": 45,
    "start_time": "2021-06-25T19:51:01.307Z"
   },
   {
    "duration": 15,
    "start_time": "2021-06-25T19:51:01.355Z"
   },
   {
    "duration": 23,
    "start_time": "2021-06-25T19:51:01.373Z"
   },
   {
    "duration": 26,
    "start_time": "2021-06-25T19:51:01.399Z"
   },
   {
    "duration": 25,
    "start_time": "2021-06-25T19:51:01.428Z"
   },
   {
    "duration": 13,
    "start_time": "2021-06-25T19:51:01.455Z"
   },
   {
    "duration": 36,
    "start_time": "2021-06-25T19:51:01.471Z"
   },
   {
    "duration": 37,
    "start_time": "2021-06-25T19:51:01.511Z"
   },
   {
    "duration": 377,
    "start_time": "2021-06-25T19:51:01.550Z"
   },
   {
    "duration": 11,
    "start_time": "2021-06-25T19:51:01.930Z"
   },
   {
    "duration": 349,
    "start_time": "2021-06-25T19:51:01.943Z"
   },
   {
    "duration": 15,
    "start_time": "2021-06-25T19:51:02.295Z"
   },
   {
    "duration": 239,
    "start_time": "2021-06-25T19:53:45.120Z"
   },
   {
    "duration": 8,
    "start_time": "2021-06-25T19:54:02.502Z"
   },
   {
    "duration": 257,
    "start_time": "2021-06-25T19:54:31.415Z"
   },
   {
    "duration": 4,
    "start_time": "2021-06-25T19:54:48.618Z"
   },
   {
    "duration": 38,
    "start_time": "2021-06-25T19:54:48.625Z"
   },
   {
    "duration": 13,
    "start_time": "2021-06-25T19:54:48.667Z"
   },
   {
    "duration": 14,
    "start_time": "2021-06-25T19:54:48.682Z"
   },
   {
    "duration": 17,
    "start_time": "2021-06-25T19:54:48.698Z"
   },
   {
    "duration": 38,
    "start_time": "2021-06-25T19:54:48.718Z"
   },
   {
    "duration": 13,
    "start_time": "2021-06-25T19:54:48.759Z"
   },
   {
    "duration": 25,
    "start_time": "2021-06-25T19:54:48.775Z"
   },
   {
    "duration": 10,
    "start_time": "2021-06-25T19:54:48.804Z"
   },
   {
    "duration": 332,
    "start_time": "2021-06-25T19:54:48.818Z"
   },
   {
    "duration": 13,
    "start_time": "2021-06-25T19:54:49.155Z"
   },
   {
    "duration": 390,
    "start_time": "2021-06-25T19:54:49.171Z"
   },
   {
    "duration": 7,
    "start_time": "2021-06-25T19:54:49.563Z"
   },
   {
    "duration": 271,
    "start_time": "2021-06-25T19:54:49.572Z"
   },
   {
    "duration": 7,
    "start_time": "2021-06-25T19:55:11.632Z"
   },
   {
    "duration": 2268,
    "start_time": "2021-06-25T19:55:12.155Z"
   },
   {
    "duration": 255,
    "start_time": "2021-06-25T19:55:48.722Z"
   },
   {
    "duration": 2451,
    "start_time": "2021-06-25T19:55:49.242Z"
   },
   {
    "duration": 259,
    "start_time": "2021-06-25T19:55:59.383Z"
   },
   {
    "duration": 8,
    "start_time": "2021-06-25T19:56:10.951Z"
   },
   {
    "duration": 2182,
    "start_time": "2021-06-25T19:56:12.124Z"
   },
   {
    "duration": 2191,
    "start_time": "2021-06-25T19:56:31.295Z"
   },
   {
    "duration": 2901,
    "start_time": "2021-06-25T19:56:43.803Z"
   },
   {
    "duration": 8,
    "start_time": "2021-06-25T19:57:16.094Z"
   },
   {
    "duration": 867,
    "start_time": "2021-06-25T19:57:18.056Z"
   },
   {
    "duration": 8,
    "start_time": "2021-06-25T19:57:49.923Z"
   },
   {
    "duration": 1041,
    "start_time": "2021-06-25T19:57:50.472Z"
   },
   {
    "duration": 693,
    "start_time": "2021-06-25T19:58:26.452Z"
   },
   {
    "duration": 13,
    "start_time": "2021-06-25T19:58:52.676Z"
   },
   {
    "duration": 7,
    "start_time": "2021-06-25T19:59:32.462Z"
   },
   {
    "duration": 469,
    "start_time": "2021-06-25T19:59:33.193Z"
   },
   {
    "duration": 610,
    "start_time": "2021-06-25T19:59:45.608Z"
   },
   {
    "duration": 471,
    "start_time": "2021-06-25T19:59:50.365Z"
   },
   {
    "duration": 488,
    "start_time": "2021-06-25T20:00:00.985Z"
   },
   {
    "duration": 9,
    "start_time": "2021-06-25T20:00:04.309Z"
   },
   {
    "duration": 487,
    "start_time": "2021-06-25T20:00:05.391Z"
   },
   {
    "duration": 677,
    "start_time": "2021-06-25T20:00:08.050Z"
   },
   {
    "duration": 564,
    "start_time": "2021-06-25T20:00:17.641Z"
   },
   {
    "duration": 8,
    "start_time": "2021-06-25T20:01:06.622Z"
   },
   {
    "duration": 788,
    "start_time": "2021-06-25T20:01:07.908Z"
   },
   {
    "duration": 637,
    "start_time": "2021-06-25T20:01:40.101Z"
   },
   {
    "duration": 640,
    "start_time": "2021-06-25T20:02:04.769Z"
   },
   {
    "duration": 409,
    "start_time": "2021-06-26T10:02:50.459Z"
   },
   {
    "duration": 4,
    "start_time": "2021-06-26T10:05:20.525Z"
   },
   {
    "duration": 32,
    "start_time": "2021-06-26T10:05:20.533Z"
   },
   {
    "duration": 12,
    "start_time": "2021-06-26T10:05:20.569Z"
   },
   {
    "duration": 9,
    "start_time": "2021-06-26T10:05:20.585Z"
   },
   {
    "duration": 15,
    "start_time": "2021-06-26T10:05:20.597Z"
   },
   {
    "duration": 10,
    "start_time": "2021-06-26T10:05:20.615Z"
   },
   {
    "duration": 6,
    "start_time": "2021-06-26T10:05:20.628Z"
   },
   {
    "duration": 17,
    "start_time": "2021-06-26T10:05:20.683Z"
   },
   {
    "duration": 7,
    "start_time": "2021-06-26T10:05:20.703Z"
   },
   {
    "duration": 309,
    "start_time": "2021-06-26T10:05:20.712Z"
   },
   {
    "duration": 11,
    "start_time": "2021-06-26T10:05:21.024Z"
   },
   {
    "duration": 316,
    "start_time": "2021-06-26T10:05:21.037Z"
   },
   {
    "duration": 7,
    "start_time": "2021-06-26T10:05:21.356Z"
   },
   {
    "duration": 663,
    "start_time": "2021-06-26T10:05:21.366Z"
   },
   {
    "duration": 10,
    "start_time": "2021-06-26T10:05:22.031Z"
   },
   {
    "duration": 582,
    "start_time": "2021-06-26T10:06:07.558Z"
   },
   {
    "duration": 4,
    "start_time": "2021-06-26T10:06:20.063Z"
   },
   {
    "duration": 35,
    "start_time": "2021-06-26T10:06:20.070Z"
   },
   {
    "duration": 9,
    "start_time": "2021-06-26T10:06:20.108Z"
   },
   {
    "duration": 8,
    "start_time": "2021-06-26T10:06:20.120Z"
   },
   {
    "duration": 14,
    "start_time": "2021-06-26T10:06:20.130Z"
   },
   {
    "duration": 7,
    "start_time": "2021-06-26T10:06:20.147Z"
   },
   {
    "duration": 29,
    "start_time": "2021-06-26T10:06:20.156Z"
   },
   {
    "duration": 17,
    "start_time": "2021-06-26T10:06:20.189Z"
   },
   {
    "duration": 8,
    "start_time": "2021-06-26T10:06:20.208Z"
   },
   {
    "duration": 314,
    "start_time": "2021-06-26T10:06:20.218Z"
   },
   {
    "duration": 12,
    "start_time": "2021-06-26T10:06:20.534Z"
   },
   {
    "duration": 340,
    "start_time": "2021-06-26T10:06:20.548Z"
   },
   {
    "duration": 8,
    "start_time": "2021-06-26T10:06:20.891Z"
   },
   {
    "duration": 610,
    "start_time": "2021-06-26T10:06:20.901Z"
   },
   {
    "duration": 10,
    "start_time": "2021-06-26T10:06:21.513Z"
   },
   {
    "duration": 566,
    "start_time": "2021-06-26T10:06:21.526Z"
   },
   {
    "duration": 404,
    "start_time": "2021-06-26T10:06:53.076Z"
   },
   {
    "duration": 11,
    "start_time": "2021-06-26T10:07:05.857Z"
   },
   {
    "duration": 554,
    "start_time": "2021-06-26T10:07:08.398Z"
   },
   {
    "duration": 10,
    "start_time": "2021-06-26T10:08:21.120Z"
   },
   {
    "duration": 738,
    "start_time": "2021-06-26T10:08:21.907Z"
   },
   {
    "duration": 685,
    "start_time": "2021-06-26T10:14:53.687Z"
   },
   {
    "duration": 341,
    "start_time": "2021-06-26T10:15:33.843Z"
   },
   {
    "duration": 309,
    "start_time": "2021-06-26T10:16:06.185Z"
   },
   {
    "duration": 7,
    "start_time": "2021-06-26T10:22:20.406Z"
   },
   {
    "duration": 9,
    "start_time": "2021-06-26T10:22:26.247Z"
   },
   {
    "duration": 10,
    "start_time": "2021-06-26T10:23:02.688Z"
   },
   {
    "duration": 20,
    "start_time": "2021-06-26T10:23:07.219Z"
   },
   {
    "duration": 4,
    "start_time": "2021-06-26T10:23:38.856Z"
   },
   {
    "duration": 36,
    "start_time": "2021-06-26T10:23:38.863Z"
   },
   {
    "duration": 12,
    "start_time": "2021-06-26T10:23:38.902Z"
   },
   {
    "duration": 10,
    "start_time": "2021-06-26T10:23:38.916Z"
   },
   {
    "duration": 16,
    "start_time": "2021-06-26T10:23:38.928Z"
   },
   {
    "duration": 9,
    "start_time": "2021-06-26T10:23:38.946Z"
   },
   {
    "duration": 25,
    "start_time": "2021-06-26T10:23:38.958Z"
   },
   {
    "duration": 18,
    "start_time": "2021-06-26T10:23:38.987Z"
   },
   {
    "duration": 8,
    "start_time": "2021-06-26T10:23:39.007Z"
   },
   {
    "duration": 319,
    "start_time": "2021-06-26T10:23:39.018Z"
   },
   {
    "duration": 12,
    "start_time": "2021-06-26T10:23:39.340Z"
   },
   {
    "duration": 348,
    "start_time": "2021-06-26T10:23:39.355Z"
   },
   {
    "duration": 7,
    "start_time": "2021-06-26T10:23:39.706Z"
   },
   {
    "duration": 597,
    "start_time": "2021-06-26T10:23:39.716Z"
   },
   {
    "duration": 9,
    "start_time": "2021-06-26T10:23:40.316Z"
   },
   {
    "duration": 574,
    "start_time": "2021-06-26T10:23:40.327Z"
   },
   {
    "duration": 17,
    "start_time": "2021-06-26T10:23:40.903Z"
   },
   {
    "duration": 19,
    "start_time": "2021-06-26T10:26:06.104Z"
   },
   {
    "duration": 19,
    "start_time": "2021-06-26T10:26:23.174Z"
   },
   {
    "duration": 14,
    "start_time": "2021-06-26T10:28:01.300Z"
   },
   {
    "duration": 10,
    "start_time": "2021-06-26T10:28:23.877Z"
   },
   {
    "duration": 9,
    "start_time": "2021-06-26T10:28:44.949Z"
   },
   {
    "duration": 21,
    "start_time": "2021-06-26T10:28:48.684Z"
   },
   {
    "duration": 12,
    "start_time": "2021-06-26T10:29:58.855Z"
   },
   {
    "duration": 12,
    "start_time": "2021-06-26T10:30:13.244Z"
   },
   {
    "duration": 5,
    "start_time": "2021-06-26T10:32:05.217Z"
   },
   {
    "duration": 32,
    "start_time": "2021-06-26T10:32:05.224Z"
   },
   {
    "duration": 11,
    "start_time": "2021-06-26T10:32:05.259Z"
   },
   {
    "duration": 9,
    "start_time": "2021-06-26T10:32:05.272Z"
   },
   {
    "duration": 14,
    "start_time": "2021-06-26T10:32:05.284Z"
   },
   {
    "duration": 9,
    "start_time": "2021-06-26T10:32:05.300Z"
   },
   {
    "duration": 7,
    "start_time": "2021-06-26T10:32:05.311Z"
   },
   {
    "duration": 17,
    "start_time": "2021-06-26T10:32:05.321Z"
   },
   {
    "duration": 41,
    "start_time": "2021-06-26T10:32:05.342Z"
   },
   {
    "duration": 299,
    "start_time": "2021-06-26T10:32:05.386Z"
   },
   {
    "duration": 11,
    "start_time": "2021-06-26T10:32:05.688Z"
   },
   {
    "duration": 327,
    "start_time": "2021-06-26T10:32:05.701Z"
   },
   {
    "duration": 8,
    "start_time": "2021-06-26T10:32:06.031Z"
   },
   {
    "duration": 693,
    "start_time": "2021-06-26T10:32:06.041Z"
   },
   {
    "duration": 10,
    "start_time": "2021-06-26T10:32:06.736Z"
   },
   {
    "duration": 563,
    "start_time": "2021-06-26T10:32:06.748Z"
   },
   {
    "duration": 13,
    "start_time": "2021-06-26T10:32:07.314Z"
   },
   {
    "duration": 2344,
    "start_time": "2021-06-26T10:33:31.454Z"
   },
   {
    "duration": 4,
    "start_time": "2021-06-26T10:33:38.530Z"
   },
   {
    "duration": 34,
    "start_time": "2021-06-26T10:33:38.536Z"
   },
   {
    "duration": 10,
    "start_time": "2021-06-26T10:33:38.573Z"
   },
   {
    "duration": 8,
    "start_time": "2021-06-26T10:33:38.586Z"
   },
   {
    "duration": 14,
    "start_time": "2021-06-26T10:33:38.597Z"
   },
   {
    "duration": 9,
    "start_time": "2021-06-26T10:33:38.613Z"
   },
   {
    "duration": 6,
    "start_time": "2021-06-26T10:33:38.625Z"
   },
   {
    "duration": 60,
    "start_time": "2021-06-26T10:33:38.633Z"
   },
   {
    "duration": 9,
    "start_time": "2021-06-26T10:33:38.697Z"
   },
   {
    "duration": 329,
    "start_time": "2021-06-26T10:33:38.710Z"
   },
   {
    "duration": 12,
    "start_time": "2021-06-26T10:33:39.041Z"
   },
   {
    "duration": 371,
    "start_time": "2021-06-26T10:33:39.056Z"
   },
   {
    "duration": 8,
    "start_time": "2021-06-26T10:33:39.430Z"
   },
   {
    "duration": 651,
    "start_time": "2021-06-26T10:33:39.440Z"
   },
   {
    "duration": 11,
    "start_time": "2021-06-26T10:33:40.093Z"
   },
   {
    "duration": 707,
    "start_time": "2021-06-26T10:33:40.107Z"
   },
   {
    "duration": 5,
    "start_time": "2021-06-26T10:34:02.049Z"
   },
   {
    "duration": 39,
    "start_time": "2021-06-26T10:34:02.057Z"
   },
   {
    "duration": 13,
    "start_time": "2021-06-26T10:34:02.099Z"
   },
   {
    "duration": 10,
    "start_time": "2021-06-26T10:34:02.115Z"
   },
   {
    "duration": 21,
    "start_time": "2021-06-26T10:34:02.127Z"
   },
   {
    "duration": 11,
    "start_time": "2021-06-26T10:34:02.151Z"
   },
   {
    "duration": 20,
    "start_time": "2021-06-26T10:34:02.164Z"
   },
   {
    "duration": 18,
    "start_time": "2021-06-26T10:34:02.187Z"
   },
   {
    "duration": 10,
    "start_time": "2021-06-26T10:34:02.209Z"
   },
   {
    "duration": 310,
    "start_time": "2021-06-26T10:34:02.221Z"
   },
   {
    "duration": 11,
    "start_time": "2021-06-26T10:34:02.533Z"
   },
   {
    "duration": 327,
    "start_time": "2021-06-26T10:34:02.546Z"
   },
   {
    "duration": 7,
    "start_time": "2021-06-26T10:34:02.883Z"
   },
   {
    "duration": 721,
    "start_time": "2021-06-26T10:34:02.892Z"
   },
   {
    "duration": 10,
    "start_time": "2021-06-26T10:34:03.616Z"
   },
   {
    "duration": 629,
    "start_time": "2021-06-26T10:34:03.629Z"
   },
   {
    "duration": 4,
    "start_time": "2021-06-26T10:34:55.660Z"
   },
   {
    "duration": 32,
    "start_time": "2021-06-26T10:34:55.667Z"
   },
   {
    "duration": 9,
    "start_time": "2021-06-26T10:34:55.702Z"
   },
   {
    "duration": 10,
    "start_time": "2021-06-26T10:34:55.714Z"
   },
   {
    "duration": 14,
    "start_time": "2021-06-26T10:34:55.726Z"
   },
   {
    "duration": 10,
    "start_time": "2021-06-26T10:34:55.742Z"
   },
   {
    "duration": 29,
    "start_time": "2021-06-26T10:34:55.754Z"
   },
   {
    "duration": 21,
    "start_time": "2021-06-26T10:34:55.786Z"
   },
   {
    "duration": 7,
    "start_time": "2021-06-26T10:34:55.811Z"
   },
   {
    "duration": 309,
    "start_time": "2021-06-26T10:34:55.821Z"
   },
   {
    "duration": 14,
    "start_time": "2021-06-26T10:34:56.134Z"
   },
   {
    "duration": 352,
    "start_time": "2021-06-26T10:34:56.150Z"
   },
   {
    "duration": 10,
    "start_time": "2021-06-26T10:34:56.505Z"
   },
   {
    "duration": 739,
    "start_time": "2021-06-26T10:34:56.518Z"
   },
   {
    "duration": 10,
    "start_time": "2021-06-26T10:35:56.534Z"
   },
   {
    "duration": 710,
    "start_time": "2021-06-26T10:35:58.247Z"
   },
   {
    "duration": 17,
    "start_time": "2021-06-26T10:36:36.313Z"
   },
   {
    "duration": 4,
    "start_time": "2021-06-26T10:36:50.597Z"
   },
   {
    "duration": 34,
    "start_time": "2021-06-26T10:36:50.604Z"
   },
   {
    "duration": 11,
    "start_time": "2021-06-26T10:36:50.641Z"
   },
   {
    "duration": 8,
    "start_time": "2021-06-26T10:36:50.655Z"
   },
   {
    "duration": 18,
    "start_time": "2021-06-26T10:36:50.665Z"
   },
   {
    "duration": 8,
    "start_time": "2021-06-26T10:36:50.685Z"
   },
   {
    "duration": 8,
    "start_time": "2021-06-26T10:36:50.695Z"
   },
   {
    "duration": 18,
    "start_time": "2021-06-26T10:36:50.706Z"
   },
   {
    "duration": 7,
    "start_time": "2021-06-26T10:36:50.727Z"
   },
   {
    "duration": 343,
    "start_time": "2021-06-26T10:36:50.736Z"
   },
   {
    "duration": 11,
    "start_time": "2021-06-26T10:36:51.081Z"
   },
   {
    "duration": 324,
    "start_time": "2021-06-26T10:36:51.094Z"
   },
   {
    "duration": 10,
    "start_time": "2021-06-26T10:36:51.421Z"
   },
   {
    "duration": 629,
    "start_time": "2021-06-26T10:36:51.433Z"
   },
   {
    "duration": 21,
    "start_time": "2021-06-26T10:36:52.064Z"
   },
   {
    "duration": 106,
    "start_time": "2021-06-26T10:36:52.087Z"
   },
   {
    "duration": 93,
    "start_time": "2021-06-26T10:44:44.765Z"
   },
   {
    "duration": 1432,
    "start_time": "2021-06-26T10:45:27.311Z"
   },
   {
    "duration": 32,
    "start_time": "2021-06-26T10:45:28.745Z"
   },
   {
    "duration": 19,
    "start_time": "2021-06-26T10:45:28.781Z"
   },
   {
    "duration": 11,
    "start_time": "2021-06-26T10:45:28.804Z"
   },
   {
    "duration": 17,
    "start_time": "2021-06-26T10:45:28.818Z"
   },
   {
    "duration": 10,
    "start_time": "2021-06-26T10:45:28.838Z"
   },
   {
    "duration": 11,
    "start_time": "2021-06-26T10:45:28.850Z"
   },
   {
    "duration": 16,
    "start_time": "2021-06-26T10:45:28.883Z"
   },
   {
    "duration": 16,
    "start_time": "2021-06-26T10:45:28.901Z"
   },
   {
    "duration": 311,
    "start_time": "2021-06-26T10:45:28.919Z"
   },
   {
    "duration": 12,
    "start_time": "2021-06-26T10:45:29.233Z"
   },
   {
    "duration": 337,
    "start_time": "2021-06-26T10:45:29.248Z"
   },
   {
    "duration": 10,
    "start_time": "2021-06-26T10:45:29.588Z"
   },
   {
    "duration": 656,
    "start_time": "2021-06-26T10:45:29.600Z"
   },
   {
    "duration": 1497,
    "start_time": "2022-02-08T16:51:55.550Z"
   },
   {
    "duration": 92,
    "start_time": "2022-02-08T16:51:57.050Z"
   },
   {
    "duration": 13,
    "start_time": "2022-02-08T16:51:57.145Z"
   },
   {
    "duration": 8,
    "start_time": "2022-02-08T16:51:57.161Z"
   },
   {
    "duration": 14,
    "start_time": "2022-02-08T16:51:57.172Z"
   },
   {
    "duration": 8,
    "start_time": "2022-02-08T16:51:57.188Z"
   },
   {
    "duration": 5,
    "start_time": "2022-02-08T16:51:57.198Z"
   },
   {
    "duration": 60,
    "start_time": "2022-02-08T16:51:57.205Z"
   },
   {
    "duration": 7,
    "start_time": "2022-02-08T16:51:57.269Z"
   },
   {
    "duration": 319,
    "start_time": "2022-02-08T16:51:57.279Z"
   },
   {
    "duration": 12,
    "start_time": "2022-02-08T16:51:57.600Z"
   },
   {
    "duration": 360,
    "start_time": "2022-02-08T16:51:57.615Z"
   },
   {
    "duration": 11,
    "start_time": "2022-02-08T16:51:57.978Z"
   },
   {
    "duration": 760,
    "start_time": "2022-02-08T16:51:57.991Z"
   }
  ],
  "kernelspec": {
   "display_name": "Python 3",
   "language": "python",
   "name": "python3"
  },
  "language_info": {
   "codemirror_mode": {
    "name": "ipython",
    "version": 3
   },
   "file_extension": ".py",
   "mimetype": "text/x-python",
   "name": "python",
   "nbconvert_exporter": "python",
   "pygments_lexer": "ipython3",
   "version": "3.7.8"
  },
  "toc": {
   "base_numbering": 1,
   "nav_menu": {},
   "number_sections": true,
   "sideBar": true,
   "skip_h1_title": true,
   "title_cell": "Содержание",
   "title_sidebar": "Contents",
   "toc_cell": true,
   "toc_position": {
    "height": "calc(100% - 180px)",
    "left": "10px",
    "top": "150px",
    "width": "196px"
   },
   "toc_section_display": true,
   "toc_window_display": true
  },
  "widgets": {
   "application/vnd.jupyter.widget-state+json": {
    "state": {},
    "version_major": 2,
    "version_minor": 0
   }
  }
 },
 "nbformat": 4,
 "nbformat_minor": 2
}
