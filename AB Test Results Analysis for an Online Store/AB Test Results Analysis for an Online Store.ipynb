{
 "cells": [
  {
   "cell_type": "markdown",
   "metadata": {},
   "source": [
    "# Анализ результатов A/B-теста для интернет-магазина"
   ]
  },
  {
   "cell_type": "markdown",
   "metadata": {
    "toc": true
   },
   "source": [
    "<h1>Содержание<span class=\"tocSkip\"></span></h1>\n",
    "<div class=\"toc\"><ul class=\"toc-item\"><li><span><a href=\"#Описание-данных\" data-toc-modified-id=\"Описание-данных-1\"><span class=\"toc-item-num\">1&nbsp;&nbsp;</span>Описание данных</a></span></li><li><span><a href=\"#Изучение-данных\" data-toc-modified-id=\"Изучение-данных-2\"><span class=\"toc-item-num\">2&nbsp;&nbsp;</span>Изучение данных</a></span><ul class=\"toc-item\"><li><span><a href=\"#Таблица-visitors\" data-toc-modified-id=\"Таблица-visitors-2.1\"><span class=\"toc-item-num\">2.1&nbsp;&nbsp;</span>Таблица <code>visitors</code></a></span></li><li><span><a href=\"#Таблица-orders\" data-toc-modified-id=\"Таблица-orders-2.2\"><span class=\"toc-item-num\">2.2&nbsp;&nbsp;</span>Таблица <code>orders</code></a></span></li><li><span><a href=\"#Таблица-hypothesis\" data-toc-modified-id=\"Таблица-hypothesis-2.3\"><span class=\"toc-item-num\">2.3&nbsp;&nbsp;</span>Таблица <code>hypothesis</code></a></span></li></ul></li><li><span><a href=\"#Предобработка-данных\" data-toc-modified-id=\"Предобработка-данных-3\"><span class=\"toc-item-num\">3&nbsp;&nbsp;</span>Предобработка данных</a></span><ul class=\"toc-item\"><li><span><a href=\"#Таблица-visitors\" data-toc-modified-id=\"Таблица-visitors-3.1\"><span class=\"toc-item-num\">3.1&nbsp;&nbsp;</span>Таблица <code>visitors</code></a></span></li><li><span><a href=\"#Таблица-orders\" data-toc-modified-id=\"Таблица-orders-3.2\"><span class=\"toc-item-num\">3.2&nbsp;&nbsp;</span>Таблица <code>orders</code></a></span></li><li><span><a href=\"#Таблица-hypothesis\" data-toc-modified-id=\"Таблица-hypothesis-3.3\"><span class=\"toc-item-num\">3.3&nbsp;&nbsp;</span>Таблица <code>hypothesis</code></a></span></li></ul></li><li><span><a href=\"#Часть-1.-Приоритизация-гипотез\" data-toc-modified-id=\"Часть-1.-Приоритизация-гипотез-4\"><span class=\"toc-item-num\">4&nbsp;&nbsp;</span>Часть 1. Приоритизация гипотез</a></span><ul class=\"toc-item\"><li><span><a href=\"#Фреймворк-ICE\" data-toc-modified-id=\"Фреймворк-ICE-4.1\"><span class=\"toc-item-num\">4.1&nbsp;&nbsp;</span>Фреймворк ICE</a></span></li><li><span><a href=\"#Фреймворк-RICE\" data-toc-modified-id=\"Фреймворк-RICE-4.2\"><span class=\"toc-item-num\">4.2&nbsp;&nbsp;</span>Фреймворк RICE</a></span></li><li><span><a href=\"#Вывод-по-приоритизации\" data-toc-modified-id=\"Вывод-по-приоритизации-4.3\"><span class=\"toc-item-num\">4.3&nbsp;&nbsp;</span>Вывод по приоритизации</a></span></li></ul></li><li><span><a href=\"#Часть-2.-Анализ-A/B-теста\" data-toc-modified-id=\"Часть-2.-Анализ-A/B-теста-5\"><span class=\"toc-item-num\">5&nbsp;&nbsp;</span>Часть 2. Анализ A/B-теста</a></span><ul class=\"toc-item\"><li><span><a href=\"#График-кумулятивной-выручки-по-группам\" data-toc-modified-id=\"График-кумулятивной-выручки-по-группам-5.1\"><span class=\"toc-item-num\">5.1&nbsp;&nbsp;</span>График кумулятивной выручки по группам</a></span></li><li><span><a href=\"#График-кумулятивного-среднего-чека-по-группам\" data-toc-modified-id=\"График-кумулятивного-среднего-чека-по-группам-5.2\"><span class=\"toc-item-num\">5.2&nbsp;&nbsp;</span>График кумулятивного среднего чека по группам</a></span></li><li><span><a href=\"#График-относительного-изменения-кумулятивного-среднего-чека-группы-B-к-группе-A\" data-toc-modified-id=\"График-относительного-изменения-кумулятивного-среднего-чека-группы-B-к-группе-A-5.3\"><span class=\"toc-item-num\">5.3&nbsp;&nbsp;</span>График относительного изменения кумулятивного среднего чека группы B к группе A</a></span></li><li><span><a href=\"#График-кумулятивной-конверсии-по-группам\" data-toc-modified-id=\"График-кумулятивной-конверсии-по-группам-5.4\"><span class=\"toc-item-num\">5.4&nbsp;&nbsp;</span>График кумулятивной конверсии по группам</a></span></li><li><span><a href=\"#График-относительного-изменения-кумулятивной-конверсии-группы-B-к-группе-A\" data-toc-modified-id=\"График-относительного-изменения-кумулятивной-конверсии-группы-B-к-группе-A-5.5\"><span class=\"toc-item-num\">5.5&nbsp;&nbsp;</span>График относительного изменения кумулятивной конверсии группы B к группе A</a></span></li><li><span><a href=\"#Точечный-график-количества-заказов-по-пользователям\" data-toc-modified-id=\"Точечный-график-количества-заказов-по-пользователям-5.6\"><span class=\"toc-item-num\">5.6&nbsp;&nbsp;</span>Точечный график количества заказов по пользователям</a></span></li><li><span><a href=\"#Расчет-95-го-и-99-го-перцентилей-количества-заказов-на-пользователя\" data-toc-modified-id=\"Расчет-95-го-и-99-го-перцентилей-количества-заказов-на-пользователя-5.7\"><span class=\"toc-item-num\">5.7&nbsp;&nbsp;</span>Расчет 95-го и 99-го перцентилей количества заказов на пользователя</a></span></li><li><span><a href=\"#Точечный-график-стоимостей-заказов\" data-toc-modified-id=\"Точечный-график-стоимостей-заказов-5.8\"><span class=\"toc-item-num\">5.8&nbsp;&nbsp;</span>Точечный график стоимостей заказов</a></span></li><li><span><a href=\"#Расчет-95-го-и-99-го-перцентилей-стоимости-заказов\" data-toc-modified-id=\"Расчет-95-го-и-99-го-перцентилей-стоимости-заказов-5.9\"><span class=\"toc-item-num\">5.9&nbsp;&nbsp;</span>Расчет 95-го и 99-го перцентилей стоимости заказов</a></span></li><li><span><a href=\"#Статистическая-значимость-различий\" data-toc-modified-id=\"Статистическая-значимость-различий-5.10\"><span class=\"toc-item-num\">5.10&nbsp;&nbsp;</span>Статистическая значимость различий</a></span><ul class=\"toc-item\"><li><span><a href=\"#Конверсия,-«сырые»-данные\" data-toc-modified-id=\"Конверсия,-«сырые»-данные-5.10.1\"><span class=\"toc-item-num\">5.10.1&nbsp;&nbsp;</span>Конверсия, «сырые» данные</a></span></li><li><span><a href=\"#Средний-чек-заказа,-«сырые»-данные\" data-toc-modified-id=\"Средний-чек-заказа,-«сырые»-данные-5.10.2\"><span class=\"toc-item-num\">5.10.2&nbsp;&nbsp;</span>Средний чек заказа, «сырые» данные</a></span></li><li><span><a href=\"#Конверсия,-«очищенные»-данные\" data-toc-modified-id=\"Конверсия,-«очищенные»-данные-5.10.3\"><span class=\"toc-item-num\">5.10.3&nbsp;&nbsp;</span>Конверсия, «очищенные» данные</a></span></li><li><span><a href=\"#Средний-чек-заказа,-«очищенные»-данные\" data-toc-modified-id=\"Средний-чек-заказа,-«очищенные»-данные-5.10.4\"><span class=\"toc-item-num\">5.10.4&nbsp;&nbsp;</span>Средний чек заказа, «очищенные» данные</a></span></li><li><span><a href=\"#Вывод-по-A/B-тесту\" data-toc-modified-id=\"Вывод-по-A/B-тесту-5.10.5\"><span class=\"toc-item-num\">5.10.5&nbsp;&nbsp;</span>Вывод по A/B-тесту</a></span></li></ul></li></ul></li><li><span><a href=\"#Общий-вывод\" data-toc-modified-id=\"Общий-вывод-6\"><span class=\"toc-item-num\">6&nbsp;&nbsp;</span>Общий вывод</a></span></li></ul></div>"
   ]
  },
  {
   "cell_type": "markdown",
   "metadata": {},
   "source": [
    "## Описание данных\n",
    "\n",
    "**Данные для первой части**\n",
    "\n",
    "Файл `/datasets/hypothesis.csv`\n",
    "\n",
    "- `Hypothesis` — краткое описание гипотезы;\n",
    "- `Reach` — охват пользователей по 10-балльной шкале;\n",
    "- `Impact` — влияние на пользователей по 10-балльной шкале;\n",
    "- `Confidence` — уверенность в гипотезе по 10-балльной шкале;\n",
    "- `Efforts` — затраты ресурсов на проверку гипотезы по 10-балльной шкале. Чем больше значение `Efforts`, тем дороже проверка гипотезы.\n",
    "\n",
    "**Данные для второй части**\n",
    "\n",
    "Файл `/datasets/orders.csv`\n",
    "\n",
    "- `transactionId` — идентификатор заказа;\n",
    "- `visitorId` — идентификатор пользователя, совершившего заказ;\n",
    "- `date` — дата, когда был совершён заказ;\n",
    "- `revenue` — выручка заказа;\n",
    "- `group` — группа A/B-теста, в которую попал заказ.\n",
    "\n",
    "Файл `/datasets/visitors.csv`\n",
    "\n",
    "- `date` — дата;\n",
    "- `group` — группа A/B-теста;\n",
    "- `visitors` — количество пользователей в указанную дату в указанной группе A/B-теста"
   ]
  },
  {
   "cell_type": "markdown",
   "metadata": {},
   "source": [
    "## Изучение данных"
   ]
  },
  {
   "cell_type": "code",
   "execution_count": 134,
   "metadata": {},
   "outputs": [],
   "source": [
    "import pandas as pd\n",
    "import numpy as np\n",
    "import matplotlib.pyplot as plt\n",
    "import seaborn as sns\n",
    "import scipy.stats as stats\n",
    "import datetime as dt"
   ]
  },
  {
   "cell_type": "code",
   "execution_count": 135,
   "metadata": {},
   "outputs": [],
   "source": [
    "visitors = pd.read_csv('/datasets/visitors.csv')\n",
    "orders = pd.read_csv('/datasets/orders.csv')\n",
    "hypothesis = pd.read_csv('/datasets/hypothesis.csv')"
   ]
  },
  {
   "cell_type": "markdown",
   "metadata": {},
   "source": [
    "### Таблица `visitors`"
   ]
  },
  {
   "cell_type": "code",
   "execution_count": 136,
   "metadata": {},
   "outputs": [
    {
     "data": {
      "text/html": [
       "<div>\n",
       "<style scoped>\n",
       "    .dataframe tbody tr th:only-of-type {\n",
       "        vertical-align: middle;\n",
       "    }\n",
       "\n",
       "    .dataframe tbody tr th {\n",
       "        vertical-align: top;\n",
       "    }\n",
       "\n",
       "    .dataframe thead th {\n",
       "        text-align: right;\n",
       "    }\n",
       "</style>\n",
       "<table border=\"1\" class=\"dataframe\">\n",
       "  <thead>\n",
       "    <tr style=\"text-align: right;\">\n",
       "      <th></th>\n",
       "      <th>date</th>\n",
       "      <th>group</th>\n",
       "      <th>visitors</th>\n",
       "    </tr>\n",
       "  </thead>\n",
       "  <tbody>\n",
       "    <tr>\n",
       "      <th>0</th>\n",
       "      <td>2019-08-01</td>\n",
       "      <td>A</td>\n",
       "      <td>719</td>\n",
       "    </tr>\n",
       "    <tr>\n",
       "      <th>1</th>\n",
       "      <td>2019-08-02</td>\n",
       "      <td>A</td>\n",
       "      <td>619</td>\n",
       "    </tr>\n",
       "    <tr>\n",
       "      <th>2</th>\n",
       "      <td>2019-08-03</td>\n",
       "      <td>A</td>\n",
       "      <td>507</td>\n",
       "    </tr>\n",
       "    <tr>\n",
       "      <th>3</th>\n",
       "      <td>2019-08-04</td>\n",
       "      <td>A</td>\n",
       "      <td>717</td>\n",
       "    </tr>\n",
       "    <tr>\n",
       "      <th>4</th>\n",
       "      <td>2019-08-05</td>\n",
       "      <td>A</td>\n",
       "      <td>756</td>\n",
       "    </tr>\n",
       "  </tbody>\n",
       "</table>\n",
       "</div>"
      ],
      "text/plain": [
       "         date group  visitors\n",
       "0  2019-08-01     A       719\n",
       "1  2019-08-02     A       619\n",
       "2  2019-08-03     A       507\n",
       "3  2019-08-04     A       717\n",
       "4  2019-08-05     A       756"
      ]
     },
     "execution_count": 136,
     "metadata": {},
     "output_type": "execute_result"
    }
   ],
   "source": [
    "visitors.head()"
   ]
  },
  {
   "cell_type": "code",
   "execution_count": 137,
   "metadata": {},
   "outputs": [
    {
     "name": "stdout",
     "output_type": "stream",
     "text": [
      "<class 'pandas.core.frame.DataFrame'>\n",
      "RangeIndex: 62 entries, 0 to 61\n",
      "Data columns (total 3 columns):\n",
      " #   Column    Non-Null Count  Dtype \n",
      "---  ------    --------------  ----- \n",
      " 0   date      62 non-null     object\n",
      " 1   group     62 non-null     object\n",
      " 2   visitors  62 non-null     int64 \n",
      "dtypes: int64(1), object(2)\n",
      "memory usage: 1.6+ KB\n"
     ]
    }
   ],
   "source": [
    "visitors.info()"
   ]
  },
  {
   "cell_type": "code",
   "execution_count": 138,
   "metadata": {},
   "outputs": [
    {
     "data": {
      "text/plain": [
       "date        0\n",
       "group       0\n",
       "visitors    0\n",
       "dtype: int64"
      ]
     },
     "execution_count": 138,
     "metadata": {},
     "output_type": "execute_result"
    }
   ],
   "source": [
    "visitors.isnull().sum()"
   ]
  },
  {
   "cell_type": "code",
   "execution_count": 139,
   "metadata": {},
   "outputs": [
    {
     "data": {
      "text/plain": [
       "0"
      ]
     },
     "execution_count": 139,
     "metadata": {},
     "output_type": "execute_result"
    }
   ],
   "source": [
    "visitors.duplicated().sum()"
   ]
  },
  {
   "cell_type": "markdown",
   "metadata": {},
   "source": [
    "**Вывод:** Обнаруженные проблемы в данных таблицы `visitors`: \n",
    "- тип данных столбца с датой и временем\n",
    "\n",
    "В остальном все нормально, пропусков и дубликатов нет."
   ]
  },
  {
   "cell_type": "code",
   "execution_count": 140,
   "metadata": {
    "scrolled": true
   },
   "outputs": [
    {
     "data": {
      "text/plain": [
       "array([   8300375,  199603092,  232979603,  237748145,  276558944,\n",
       "        351125977,  393266494,  457167155,  471551937,  477780734,\n",
       "        818047933,  963407295, 1230306981, 1294878855, 1316129916,\n",
       "       1333886533, 1404934699, 1602967004, 1614305549, 1648269707,\n",
       "       1668030113, 1738359350, 1801183820, 1959144690, 2038680547,\n",
       "       2044997962, 2378935119, 2458001652, 2579882178, 2587333274,\n",
       "       2600415354, 2654030115, 2686716486, 2712142231, 2716752286,\n",
       "       2780786433, 2927087541, 2949041841, 2954449915, 3062433592,\n",
       "       3202540741, 3234906277, 3656415546, 3717692402, 3766097110,\n",
       "       3803269165, 3891541246, 3941795274, 3951559397, 3957174400,\n",
       "       3963646447, 3972127743, 3984495233, 4069496402, 4120364173,\n",
       "       4186807279, 4256040402, 4266935830])"
      ]
     },
     "execution_count": 140,
     "metadata": {},
     "output_type": "execute_result"
    }
   ],
   "source": [
    "users_in_both_groups = np.intersect1d(orders.query('group == \"A\"')['visitorId'].unique(), orders.query('group == \"B\"')['visitorId'].unique())\n",
    "users_in_both_groups"
   ]
  },
  {
   "cell_type": "code",
   "execution_count": 141,
   "metadata": {},
   "outputs": [
    {
     "data": {
      "text/plain": [
       "58"
      ]
     },
     "execution_count": 141,
     "metadata": {},
     "output_type": "execute_result"
    }
   ],
   "source": [
    "len(users_in_both_groups)"
   ]
  },
  {
   "cell_type": "markdown",
   "metadata": {},
   "source": [
    "58 пользователей попало в обе группы теста. "
   ]
  },
  {
   "cell_type": "markdown",
   "metadata": {},
   "source": [
    "### Таблица `orders`"
   ]
  },
  {
   "cell_type": "code",
   "execution_count": 142,
   "metadata": {},
   "outputs": [
    {
     "data": {
      "text/html": [
       "<div>\n",
       "<style scoped>\n",
       "    .dataframe tbody tr th:only-of-type {\n",
       "        vertical-align: middle;\n",
       "    }\n",
       "\n",
       "    .dataframe tbody tr th {\n",
       "        vertical-align: top;\n",
       "    }\n",
       "\n",
       "    .dataframe thead th {\n",
       "        text-align: right;\n",
       "    }\n",
       "</style>\n",
       "<table border=\"1\" class=\"dataframe\">\n",
       "  <thead>\n",
       "    <tr style=\"text-align: right;\">\n",
       "      <th></th>\n",
       "      <th>transactionId</th>\n",
       "      <th>visitorId</th>\n",
       "      <th>date</th>\n",
       "      <th>revenue</th>\n",
       "      <th>group</th>\n",
       "    </tr>\n",
       "  </thead>\n",
       "  <tbody>\n",
       "    <tr>\n",
       "      <th>0</th>\n",
       "      <td>3667963787</td>\n",
       "      <td>3312258926</td>\n",
       "      <td>2019-08-15</td>\n",
       "      <td>1650</td>\n",
       "      <td>B</td>\n",
       "    </tr>\n",
       "    <tr>\n",
       "      <th>1</th>\n",
       "      <td>2804400009</td>\n",
       "      <td>3642806036</td>\n",
       "      <td>2019-08-15</td>\n",
       "      <td>730</td>\n",
       "      <td>B</td>\n",
       "    </tr>\n",
       "    <tr>\n",
       "      <th>2</th>\n",
       "      <td>2961555356</td>\n",
       "      <td>4069496402</td>\n",
       "      <td>2019-08-15</td>\n",
       "      <td>400</td>\n",
       "      <td>A</td>\n",
       "    </tr>\n",
       "    <tr>\n",
       "      <th>3</th>\n",
       "      <td>3797467345</td>\n",
       "      <td>1196621759</td>\n",
       "      <td>2019-08-15</td>\n",
       "      <td>9759</td>\n",
       "      <td>B</td>\n",
       "    </tr>\n",
       "    <tr>\n",
       "      <th>4</th>\n",
       "      <td>2282983706</td>\n",
       "      <td>2322279887</td>\n",
       "      <td>2019-08-15</td>\n",
       "      <td>2308</td>\n",
       "      <td>B</td>\n",
       "    </tr>\n",
       "  </tbody>\n",
       "</table>\n",
       "</div>"
      ],
      "text/plain": [
       "   transactionId   visitorId        date  revenue group\n",
       "0     3667963787  3312258926  2019-08-15     1650     B\n",
       "1     2804400009  3642806036  2019-08-15      730     B\n",
       "2     2961555356  4069496402  2019-08-15      400     A\n",
       "3     3797467345  1196621759  2019-08-15     9759     B\n",
       "4     2282983706  2322279887  2019-08-15     2308     B"
      ]
     },
     "execution_count": 142,
     "metadata": {},
     "output_type": "execute_result"
    }
   ],
   "source": [
    "orders.head()"
   ]
  },
  {
   "cell_type": "code",
   "execution_count": 143,
   "metadata": {},
   "outputs": [
    {
     "name": "stdout",
     "output_type": "stream",
     "text": [
      "<class 'pandas.core.frame.DataFrame'>\n",
      "RangeIndex: 1197 entries, 0 to 1196\n",
      "Data columns (total 5 columns):\n",
      " #   Column         Non-Null Count  Dtype \n",
      "---  ------         --------------  ----- \n",
      " 0   transactionId  1197 non-null   int64 \n",
      " 1   visitorId      1197 non-null   int64 \n",
      " 2   date           1197 non-null   object\n",
      " 3   revenue        1197 non-null   int64 \n",
      " 4   group          1197 non-null   object\n",
      "dtypes: int64(3), object(2)\n",
      "memory usage: 46.9+ KB\n"
     ]
    }
   ],
   "source": [
    "orders.info()"
   ]
  },
  {
   "cell_type": "code",
   "execution_count": 144,
   "metadata": {},
   "outputs": [
    {
     "data": {
      "text/plain": [
       "transactionId    0\n",
       "visitorId        0\n",
       "date             0\n",
       "revenue          0\n",
       "group            0\n",
       "dtype: int64"
      ]
     },
     "execution_count": 144,
     "metadata": {},
     "output_type": "execute_result"
    }
   ],
   "source": [
    "orders.isnull().sum()"
   ]
  },
  {
   "cell_type": "code",
   "execution_count": 145,
   "metadata": {},
   "outputs": [
    {
     "data": {
      "text/plain": [
       "0"
      ]
     },
     "execution_count": 145,
     "metadata": {},
     "output_type": "execute_result"
    }
   ],
   "source": [
    "orders.duplicated().sum()"
   ]
  },
  {
   "cell_type": "markdown",
   "metadata": {},
   "source": [
    "**Вывод:** Обнаруженные проблемы в данных таблицы `orders`: \n",
    "- тип данных столбца с датой и временем\n",
    "- возможно стоит переименовать столбцы *transactionId* и *visitorId* в *transaction_id* и *visitor_id*\n",
    "\n",
    "В остальном все нормально, пропусков и дубликатов нет."
   ]
  },
  {
   "cell_type": "markdown",
   "metadata": {},
   "source": [
    "### Таблица `hypothesis`"
   ]
  },
  {
   "cell_type": "code",
   "execution_count": 146,
   "metadata": {},
   "outputs": [
    {
     "data": {
      "text/html": [
       "<div>\n",
       "<style scoped>\n",
       "    .dataframe tbody tr th:only-of-type {\n",
       "        vertical-align: middle;\n",
       "    }\n",
       "\n",
       "    .dataframe tbody tr th {\n",
       "        vertical-align: top;\n",
       "    }\n",
       "\n",
       "    .dataframe thead th {\n",
       "        text-align: right;\n",
       "    }\n",
       "</style>\n",
       "<table border=\"1\" class=\"dataframe\">\n",
       "  <thead>\n",
       "    <tr style=\"text-align: right;\">\n",
       "      <th></th>\n",
       "      <th>Hypothesis</th>\n",
       "      <th>Reach</th>\n",
       "      <th>Impact</th>\n",
       "      <th>Confidence</th>\n",
       "      <th>Efforts</th>\n",
       "    </tr>\n",
       "  </thead>\n",
       "  <tbody>\n",
       "    <tr>\n",
       "      <th>0</th>\n",
       "      <td>Добавить два новых канала привлечения трафика, что позволит привлекать на 30% больше пользователей</td>\n",
       "      <td>3</td>\n",
       "      <td>10</td>\n",
       "      <td>8</td>\n",
       "      <td>6</td>\n",
       "    </tr>\n",
       "    <tr>\n",
       "      <th>1</th>\n",
       "      <td>Запустить собственную службу доставки, что сократит срок доставки заказов</td>\n",
       "      <td>2</td>\n",
       "      <td>5</td>\n",
       "      <td>4</td>\n",
       "      <td>10</td>\n",
       "    </tr>\n",
       "    <tr>\n",
       "      <th>2</th>\n",
       "      <td>Добавить блоки рекомендаций товаров на сайт интернет магазина, чтобы повысить конверсию и средний чек заказа</td>\n",
       "      <td>8</td>\n",
       "      <td>3</td>\n",
       "      <td>7</td>\n",
       "      <td>3</td>\n",
       "    </tr>\n",
       "    <tr>\n",
       "      <th>3</th>\n",
       "      <td>Изменить структура категорий, что увеличит конверсию, т.к. пользователи быстрее найдут нужный товар</td>\n",
       "      <td>8</td>\n",
       "      <td>3</td>\n",
       "      <td>3</td>\n",
       "      <td>8</td>\n",
       "    </tr>\n",
       "    <tr>\n",
       "      <th>4</th>\n",
       "      <td>Изменить цвет фона главной страницы, чтобы увеличить вовлеченность пользователей</td>\n",
       "      <td>3</td>\n",
       "      <td>1</td>\n",
       "      <td>1</td>\n",
       "      <td>1</td>\n",
       "    </tr>\n",
       "  </tbody>\n",
       "</table>\n",
       "</div>"
      ],
      "text/plain": [
       "                                                                                                     Hypothesis  \\\n",
       "0            Добавить два новых канала привлечения трафика, что позволит привлекать на 30% больше пользователей   \n",
       "1                                     Запустить собственную службу доставки, что сократит срок доставки заказов   \n",
       "2  Добавить блоки рекомендаций товаров на сайт интернет магазина, чтобы повысить конверсию и средний чек заказа   \n",
       "3           Изменить структура категорий, что увеличит конверсию, т.к. пользователи быстрее найдут нужный товар   \n",
       "4                              Изменить цвет фона главной страницы, чтобы увеличить вовлеченность пользователей   \n",
       "\n",
       "   Reach  Impact  Confidence  Efforts  \n",
       "0      3      10           8        6  \n",
       "1      2       5           4       10  \n",
       "2      8       3           7        3  \n",
       "3      8       3           3        8  \n",
       "4      3       1           1        1  "
      ]
     },
     "execution_count": 146,
     "metadata": {},
     "output_type": "execute_result"
    }
   ],
   "source": [
    "hypothesis.head()"
   ]
  },
  {
   "cell_type": "code",
   "execution_count": 147,
   "metadata": {},
   "outputs": [
    {
     "name": "stdout",
     "output_type": "stream",
     "text": [
      "<class 'pandas.core.frame.DataFrame'>\n",
      "RangeIndex: 9 entries, 0 to 8\n",
      "Data columns (total 5 columns):\n",
      " #   Column      Non-Null Count  Dtype \n",
      "---  ------      --------------  ----- \n",
      " 0   Hypothesis  9 non-null      object\n",
      " 1   Reach       9 non-null      int64 \n",
      " 2   Impact      9 non-null      int64 \n",
      " 3   Confidence  9 non-null      int64 \n",
      " 4   Efforts     9 non-null      int64 \n",
      "dtypes: int64(4), object(1)\n",
      "memory usage: 488.0+ bytes\n"
     ]
    }
   ],
   "source": [
    "hypothesis.info()"
   ]
  },
  {
   "cell_type": "code",
   "execution_count": 148,
   "metadata": {},
   "outputs": [
    {
     "data": {
      "text/plain": [
       "Hypothesis    0\n",
       "Reach         0\n",
       "Impact        0\n",
       "Confidence    0\n",
       "Efforts       0\n",
       "dtype: int64"
      ]
     },
     "execution_count": 148,
     "metadata": {},
     "output_type": "execute_result"
    }
   ],
   "source": [
    "hypothesis.isnull().sum()"
   ]
  },
  {
   "cell_type": "code",
   "execution_count": 149,
   "metadata": {},
   "outputs": [
    {
     "data": {
      "text/plain": [
       "0"
      ]
     },
     "execution_count": 149,
     "metadata": {},
     "output_type": "execute_result"
    }
   ],
   "source": [
    "hypothesis.duplicated().sum()"
   ]
  },
  {
   "cell_type": "markdown",
   "metadata": {},
   "source": [
    "**Вывод:** Обнаруженные проблемы в данных таблицы `hypothesis`: \n",
    "- регистр названий столбцов\n",
    "\n",
    "В остальном все нормально, пропусков и дубликатов нет."
   ]
  },
  {
   "cell_type": "markdown",
   "metadata": {},
   "source": [
    "## Предобработка данных"
   ]
  },
  {
   "cell_type": "markdown",
   "metadata": {},
   "source": [
    "### Таблица `visitors`"
   ]
  },
  {
   "cell_type": "code",
   "execution_count": 150,
   "metadata": {},
   "outputs": [
    {
     "name": "stdout",
     "output_type": "stream",
     "text": [
      "<class 'pandas.core.frame.DataFrame'>\n",
      "RangeIndex: 62 entries, 0 to 61\n",
      "Data columns (total 3 columns):\n",
      " #   Column    Non-Null Count  Dtype         \n",
      "---  ------    --------------  -----         \n",
      " 0   date      62 non-null     datetime64[ns]\n",
      " 1   group     62 non-null     object        \n",
      " 2   visitors  62 non-null     int64         \n",
      "dtypes: datetime64[ns](1), int64(1), object(1)\n",
      "memory usage: 1.6+ KB\n"
     ]
    }
   ],
   "source": [
    "visitors['date'] = visitors['date'].map(lambda x: dt.datetime.strptime(x, '%Y-%m-%d'))\n",
    "visitors.info()"
   ]
  },
  {
   "cell_type": "markdown",
   "metadata": {},
   "source": [
    "### Таблица `orders`"
   ]
  },
  {
   "cell_type": "code",
   "execution_count": 151,
   "metadata": {},
   "outputs": [
    {
     "name": "stdout",
     "output_type": "stream",
     "text": [
      "<class 'pandas.core.frame.DataFrame'>\n",
      "RangeIndex: 1197 entries, 0 to 1196\n",
      "Data columns (total 5 columns):\n",
      " #   Column         Non-Null Count  Dtype         \n",
      "---  ------         --------------  -----         \n",
      " 0   transactionId  1197 non-null   int64         \n",
      " 1   visitorId      1197 non-null   int64         \n",
      " 2   date           1197 non-null   datetime64[ns]\n",
      " 3   revenue        1197 non-null   int64         \n",
      " 4   group          1197 non-null   object        \n",
      "dtypes: datetime64[ns](1), int64(3), object(1)\n",
      "memory usage: 46.9+ KB\n"
     ]
    }
   ],
   "source": [
    "orders['date'] = orders['date'].map(lambda x: dt.datetime.strptime(x, '%Y-%m-%d'))\n",
    "orders.info()"
   ]
  },
  {
   "cell_type": "code",
   "execution_count": 152,
   "metadata": {},
   "outputs": [
    {
     "data": {
      "text/html": [
       "<div>\n",
       "<style scoped>\n",
       "    .dataframe tbody tr th:only-of-type {\n",
       "        vertical-align: middle;\n",
       "    }\n",
       "\n",
       "    .dataframe tbody tr th {\n",
       "        vertical-align: top;\n",
       "    }\n",
       "\n",
       "    .dataframe thead th {\n",
       "        text-align: right;\n",
       "    }\n",
       "</style>\n",
       "<table border=\"1\" class=\"dataframe\">\n",
       "  <thead>\n",
       "    <tr style=\"text-align: right;\">\n",
       "      <th></th>\n",
       "      <th>transaction_id</th>\n",
       "      <th>visitor_id</th>\n",
       "      <th>date</th>\n",
       "      <th>revenue</th>\n",
       "      <th>group</th>\n",
       "    </tr>\n",
       "  </thead>\n",
       "  <tbody>\n",
       "    <tr>\n",
       "      <th>0</th>\n",
       "      <td>3667963787</td>\n",
       "      <td>3312258926</td>\n",
       "      <td>2019-08-15</td>\n",
       "      <td>1650</td>\n",
       "      <td>B</td>\n",
       "    </tr>\n",
       "    <tr>\n",
       "      <th>1</th>\n",
       "      <td>2804400009</td>\n",
       "      <td>3642806036</td>\n",
       "      <td>2019-08-15</td>\n",
       "      <td>730</td>\n",
       "      <td>B</td>\n",
       "    </tr>\n",
       "    <tr>\n",
       "      <th>2</th>\n",
       "      <td>2961555356</td>\n",
       "      <td>4069496402</td>\n",
       "      <td>2019-08-15</td>\n",
       "      <td>400</td>\n",
       "      <td>A</td>\n",
       "    </tr>\n",
       "    <tr>\n",
       "      <th>3</th>\n",
       "      <td>3797467345</td>\n",
       "      <td>1196621759</td>\n",
       "      <td>2019-08-15</td>\n",
       "      <td>9759</td>\n",
       "      <td>B</td>\n",
       "    </tr>\n",
       "    <tr>\n",
       "      <th>4</th>\n",
       "      <td>2282983706</td>\n",
       "      <td>2322279887</td>\n",
       "      <td>2019-08-15</td>\n",
       "      <td>2308</td>\n",
       "      <td>B</td>\n",
       "    </tr>\n",
       "  </tbody>\n",
       "</table>\n",
       "</div>"
      ],
      "text/plain": [
       "   transaction_id  visitor_id       date  revenue group\n",
       "0      3667963787  3312258926 2019-08-15     1650     B\n",
       "1      2804400009  3642806036 2019-08-15      730     B\n",
       "2      2961555356  4069496402 2019-08-15      400     A\n",
       "3      3797467345  1196621759 2019-08-15     9759     B\n",
       "4      2282983706  2322279887 2019-08-15     2308     B"
      ]
     },
     "execution_count": 152,
     "metadata": {},
     "output_type": "execute_result"
    }
   ],
   "source": [
    "orders = orders.rename(columns={\"transactionId\": \"transaction_id\", \"visitorId\": \"visitor_id\"})\n",
    "orders.head()"
   ]
  },
  {
   "cell_type": "markdown",
   "metadata": {},
   "source": [
    "### Таблица `hypothesis`"
   ]
  },
  {
   "cell_type": "code",
   "execution_count": 153,
   "metadata": {},
   "outputs": [
    {
     "data": {
      "text/html": [
       "<div>\n",
       "<style scoped>\n",
       "    .dataframe tbody tr th:only-of-type {\n",
       "        vertical-align: middle;\n",
       "    }\n",
       "\n",
       "    .dataframe tbody tr th {\n",
       "        vertical-align: top;\n",
       "    }\n",
       "\n",
       "    .dataframe thead th {\n",
       "        text-align: right;\n",
       "    }\n",
       "</style>\n",
       "<table border=\"1\" class=\"dataframe\">\n",
       "  <thead>\n",
       "    <tr style=\"text-align: right;\">\n",
       "      <th></th>\n",
       "      <th>hypothesis</th>\n",
       "      <th>reach</th>\n",
       "      <th>impact</th>\n",
       "      <th>confidence</th>\n",
       "      <th>efforts</th>\n",
       "    </tr>\n",
       "  </thead>\n",
       "  <tbody>\n",
       "    <tr>\n",
       "      <th>0</th>\n",
       "      <td>Добавить два новых канала привлечения трафика, что позволит привлекать на 30% больше пользователей</td>\n",
       "      <td>3</td>\n",
       "      <td>10</td>\n",
       "      <td>8</td>\n",
       "      <td>6</td>\n",
       "    </tr>\n",
       "    <tr>\n",
       "      <th>1</th>\n",
       "      <td>Запустить собственную службу доставки, что сократит срок доставки заказов</td>\n",
       "      <td>2</td>\n",
       "      <td>5</td>\n",
       "      <td>4</td>\n",
       "      <td>10</td>\n",
       "    </tr>\n",
       "    <tr>\n",
       "      <th>2</th>\n",
       "      <td>Добавить блоки рекомендаций товаров на сайт интернет магазина, чтобы повысить конверсию и средний чек заказа</td>\n",
       "      <td>8</td>\n",
       "      <td>3</td>\n",
       "      <td>7</td>\n",
       "      <td>3</td>\n",
       "    </tr>\n",
       "    <tr>\n",
       "      <th>3</th>\n",
       "      <td>Изменить структура категорий, что увеличит конверсию, т.к. пользователи быстрее найдут нужный товар</td>\n",
       "      <td>8</td>\n",
       "      <td>3</td>\n",
       "      <td>3</td>\n",
       "      <td>8</td>\n",
       "    </tr>\n",
       "    <tr>\n",
       "      <th>4</th>\n",
       "      <td>Изменить цвет фона главной страницы, чтобы увеличить вовлеченность пользователей</td>\n",
       "      <td>3</td>\n",
       "      <td>1</td>\n",
       "      <td>1</td>\n",
       "      <td>1</td>\n",
       "    </tr>\n",
       "  </tbody>\n",
       "</table>\n",
       "</div>"
      ],
      "text/plain": [
       "                                                                                                     hypothesis  \\\n",
       "0            Добавить два новых канала привлечения трафика, что позволит привлекать на 30% больше пользователей   \n",
       "1                                     Запустить собственную службу доставки, что сократит срок доставки заказов   \n",
       "2  Добавить блоки рекомендаций товаров на сайт интернет магазина, чтобы повысить конверсию и средний чек заказа   \n",
       "3           Изменить структура категорий, что увеличит конверсию, т.к. пользователи быстрее найдут нужный товар   \n",
       "4                              Изменить цвет фона главной страницы, чтобы увеличить вовлеченность пользователей   \n",
       "\n",
       "   reach  impact  confidence  efforts  \n",
       "0      3      10           8        6  \n",
       "1      2       5           4       10  \n",
       "2      8       3           7        3  \n",
       "3      8       3           3        8  \n",
       "4      3       1           1        1  "
      ]
     },
     "execution_count": 153,
     "metadata": {},
     "output_type": "execute_result"
    }
   ],
   "source": [
    "hypothesis.columns = hypothesis.columns.str.lower()\n",
    "hypothesis.head()"
   ]
  },
  {
   "cell_type": "markdown",
   "metadata": {},
   "source": [
    "## Часть 1. Приоритизация гипотез"
   ]
  },
  {
   "cell_type": "markdown",
   "metadata": {},
   "source": [
    "### Фреймворк ICE"
   ]
  },
  {
   "cell_type": "code",
   "execution_count": 154,
   "metadata": {},
   "outputs": [
    {
     "data": {
      "text/html": [
       "<div>\n",
       "<style scoped>\n",
       "    .dataframe tbody tr th:only-of-type {\n",
       "        vertical-align: middle;\n",
       "    }\n",
       "\n",
       "    .dataframe tbody tr th {\n",
       "        vertical-align: top;\n",
       "    }\n",
       "\n",
       "    .dataframe thead th {\n",
       "        text-align: right;\n",
       "    }\n",
       "</style>\n",
       "<table border=\"1\" class=\"dataframe\">\n",
       "  <thead>\n",
       "    <tr style=\"text-align: right;\">\n",
       "      <th></th>\n",
       "      <th>hypothesis</th>\n",
       "      <th>reach</th>\n",
       "      <th>impact</th>\n",
       "      <th>confidence</th>\n",
       "      <th>efforts</th>\n",
       "      <th>ice_score</th>\n",
       "    </tr>\n",
       "  </thead>\n",
       "  <tbody>\n",
       "    <tr>\n",
       "      <th>8</th>\n",
       "      <td>Запустить акцию, дающую скидку на товар в день рождения</td>\n",
       "      <td>1</td>\n",
       "      <td>9</td>\n",
       "      <td>9</td>\n",
       "      <td>5</td>\n",
       "      <td>16.0</td>\n",
       "    </tr>\n",
       "    <tr>\n",
       "      <th>0</th>\n",
       "      <td>Добавить два новых канала привлечения трафика, что позволит привлекать на 30% больше пользователей</td>\n",
       "      <td>3</td>\n",
       "      <td>10</td>\n",
       "      <td>8</td>\n",
       "      <td>6</td>\n",
       "      <td>13.0</td>\n",
       "    </tr>\n",
       "    <tr>\n",
       "      <th>7</th>\n",
       "      <td>Добавить форму подписки на все основные страницы, чтобы собрать базу клиентов для email-рассылок</td>\n",
       "      <td>10</td>\n",
       "      <td>7</td>\n",
       "      <td>8</td>\n",
       "      <td>5</td>\n",
       "      <td>11.0</td>\n",
       "    </tr>\n",
       "    <tr>\n",
       "      <th>6</th>\n",
       "      <td>Показать на главной странице баннеры с актуальными акциями и распродажами, чтобы увеличить конверсию</td>\n",
       "      <td>5</td>\n",
       "      <td>3</td>\n",
       "      <td>8</td>\n",
       "      <td>3</td>\n",
       "      <td>8.0</td>\n",
       "    </tr>\n",
       "    <tr>\n",
       "      <th>2</th>\n",
       "      <td>Добавить блоки рекомендаций товаров на сайт интернет магазина, чтобы повысить конверсию и средний чек заказа</td>\n",
       "      <td>8</td>\n",
       "      <td>3</td>\n",
       "      <td>7</td>\n",
       "      <td>3</td>\n",
       "      <td>7.0</td>\n",
       "    </tr>\n",
       "    <tr>\n",
       "      <th>1</th>\n",
       "      <td>Запустить собственную службу доставки, что сократит срок доставки заказов</td>\n",
       "      <td>2</td>\n",
       "      <td>5</td>\n",
       "      <td>4</td>\n",
       "      <td>10</td>\n",
       "      <td>2.0</td>\n",
       "    </tr>\n",
       "    <tr>\n",
       "      <th>3</th>\n",
       "      <td>Изменить структура категорий, что увеличит конверсию, т.к. пользователи быстрее найдут нужный товар</td>\n",
       "      <td>8</td>\n",
       "      <td>3</td>\n",
       "      <td>3</td>\n",
       "      <td>8</td>\n",
       "      <td>1.0</td>\n",
       "    </tr>\n",
       "    <tr>\n",
       "      <th>4</th>\n",
       "      <td>Изменить цвет фона главной страницы, чтобы увеличить вовлеченность пользователей</td>\n",
       "      <td>3</td>\n",
       "      <td>1</td>\n",
       "      <td>1</td>\n",
       "      <td>1</td>\n",
       "      <td>1.0</td>\n",
       "    </tr>\n",
       "    <tr>\n",
       "      <th>5</th>\n",
       "      <td>Добавить страницу отзывов клиентов о магазине, что позволит увеличить количество заказов</td>\n",
       "      <td>3</td>\n",
       "      <td>2</td>\n",
       "      <td>2</td>\n",
       "      <td>3</td>\n",
       "      <td>1.0</td>\n",
       "    </tr>\n",
       "  </tbody>\n",
       "</table>\n",
       "</div>"
      ],
      "text/plain": [
       "                                                                                                     hypothesis  \\\n",
       "8                                                       Запустить акцию, дающую скидку на товар в день рождения   \n",
       "0            Добавить два новых канала привлечения трафика, что позволит привлекать на 30% больше пользователей   \n",
       "7              Добавить форму подписки на все основные страницы, чтобы собрать базу клиентов для email-рассылок   \n",
       "6          Показать на главной странице баннеры с актуальными акциями и распродажами, чтобы увеличить конверсию   \n",
       "2  Добавить блоки рекомендаций товаров на сайт интернет магазина, чтобы повысить конверсию и средний чек заказа   \n",
       "1                                     Запустить собственную службу доставки, что сократит срок доставки заказов   \n",
       "3           Изменить структура категорий, что увеличит конверсию, т.к. пользователи быстрее найдут нужный товар   \n",
       "4                              Изменить цвет фона главной страницы, чтобы увеличить вовлеченность пользователей   \n",
       "5                      Добавить страницу отзывов клиентов о магазине, что позволит увеличить количество заказов   \n",
       "\n",
       "   reach  impact  confidence  efforts  ice_score  \n",
       "8      1       9           9        5       16.0  \n",
       "0      3      10           8        6       13.0  \n",
       "7     10       7           8        5       11.0  \n",
       "6      5       3           8        3        8.0  \n",
       "2      8       3           7        3        7.0  \n",
       "1      2       5           4       10        2.0  \n",
       "3      8       3           3        8        1.0  \n",
       "4      3       1           1        1        1.0  \n",
       "5      3       2           2        3        1.0  "
      ]
     },
     "execution_count": 154,
     "metadata": {},
     "output_type": "execute_result"
    }
   ],
   "source": [
    "hypothesis['ice_score'] = round((hypothesis['impact'] * hypothesis['confidence']) / hypothesis['efforts'])\n",
    "pd.set_option('display.max_columns', None)\n",
    "pd.options.display.max_colwidth = 150\n",
    "hypothesis.sort_values('ice_score', ascending=False)"
   ]
  },
  {
   "cell_type": "markdown",
   "metadata": {},
   "source": [
    "### Фреймворк RICE"
   ]
  },
  {
   "cell_type": "code",
   "execution_count": 155,
   "metadata": {},
   "outputs": [
    {
     "data": {
      "text/html": [
       "<div>\n",
       "<style scoped>\n",
       "    .dataframe tbody tr th:only-of-type {\n",
       "        vertical-align: middle;\n",
       "    }\n",
       "\n",
       "    .dataframe tbody tr th {\n",
       "        vertical-align: top;\n",
       "    }\n",
       "\n",
       "    .dataframe thead th {\n",
       "        text-align: right;\n",
       "    }\n",
       "</style>\n",
       "<table border=\"1\" class=\"dataframe\">\n",
       "  <thead>\n",
       "    <tr style=\"text-align: right;\">\n",
       "      <th></th>\n",
       "      <th>hypothesis</th>\n",
       "      <th>reach</th>\n",
       "      <th>impact</th>\n",
       "      <th>confidence</th>\n",
       "      <th>efforts</th>\n",
       "      <th>ice_score</th>\n",
       "      <th>rice_score</th>\n",
       "    </tr>\n",
       "  </thead>\n",
       "  <tbody>\n",
       "    <tr>\n",
       "      <th>7</th>\n",
       "      <td>Добавить форму подписки на все основные страницы, чтобы собрать базу клиентов для email-рассылок</td>\n",
       "      <td>10</td>\n",
       "      <td>7</td>\n",
       "      <td>8</td>\n",
       "      <td>5</td>\n",
       "      <td>11.0</td>\n",
       "      <td>112.0</td>\n",
       "    </tr>\n",
       "    <tr>\n",
       "      <th>2</th>\n",
       "      <td>Добавить блоки рекомендаций товаров на сайт интернет магазина, чтобы повысить конверсию и средний чек заказа</td>\n",
       "      <td>8</td>\n",
       "      <td>3</td>\n",
       "      <td>7</td>\n",
       "      <td>3</td>\n",
       "      <td>7.0</td>\n",
       "      <td>56.0</td>\n",
       "    </tr>\n",
       "    <tr>\n",
       "      <th>0</th>\n",
       "      <td>Добавить два новых канала привлечения трафика, что позволит привлекать на 30% больше пользователей</td>\n",
       "      <td>3</td>\n",
       "      <td>10</td>\n",
       "      <td>8</td>\n",
       "      <td>6</td>\n",
       "      <td>13.0</td>\n",
       "      <td>40.0</td>\n",
       "    </tr>\n",
       "    <tr>\n",
       "      <th>6</th>\n",
       "      <td>Показать на главной странице баннеры с актуальными акциями и распродажами, чтобы увеличить конверсию</td>\n",
       "      <td>5</td>\n",
       "      <td>3</td>\n",
       "      <td>8</td>\n",
       "      <td>3</td>\n",
       "      <td>8.0</td>\n",
       "      <td>40.0</td>\n",
       "    </tr>\n",
       "    <tr>\n",
       "      <th>8</th>\n",
       "      <td>Запустить акцию, дающую скидку на товар в день рождения</td>\n",
       "      <td>1</td>\n",
       "      <td>9</td>\n",
       "      <td>9</td>\n",
       "      <td>5</td>\n",
       "      <td>16.0</td>\n",
       "      <td>16.2</td>\n",
       "    </tr>\n",
       "    <tr>\n",
       "      <th>3</th>\n",
       "      <td>Изменить структура категорий, что увеличит конверсию, т.к. пользователи быстрее найдут нужный товар</td>\n",
       "      <td>8</td>\n",
       "      <td>3</td>\n",
       "      <td>3</td>\n",
       "      <td>8</td>\n",
       "      <td>1.0</td>\n",
       "      <td>9.0</td>\n",
       "    </tr>\n",
       "    <tr>\n",
       "      <th>1</th>\n",
       "      <td>Запустить собственную службу доставки, что сократит срок доставки заказов</td>\n",
       "      <td>2</td>\n",
       "      <td>5</td>\n",
       "      <td>4</td>\n",
       "      <td>10</td>\n",
       "      <td>2.0</td>\n",
       "      <td>4.0</td>\n",
       "    </tr>\n",
       "    <tr>\n",
       "      <th>5</th>\n",
       "      <td>Добавить страницу отзывов клиентов о магазине, что позволит увеличить количество заказов</td>\n",
       "      <td>3</td>\n",
       "      <td>2</td>\n",
       "      <td>2</td>\n",
       "      <td>3</td>\n",
       "      <td>1.0</td>\n",
       "      <td>4.0</td>\n",
       "    </tr>\n",
       "    <tr>\n",
       "      <th>4</th>\n",
       "      <td>Изменить цвет фона главной страницы, чтобы увеличить вовлеченность пользователей</td>\n",
       "      <td>3</td>\n",
       "      <td>1</td>\n",
       "      <td>1</td>\n",
       "      <td>1</td>\n",
       "      <td>1.0</td>\n",
       "      <td>3.0</td>\n",
       "    </tr>\n",
       "  </tbody>\n",
       "</table>\n",
       "</div>"
      ],
      "text/plain": [
       "                                                                                                     hypothesis  \\\n",
       "7              Добавить форму подписки на все основные страницы, чтобы собрать базу клиентов для email-рассылок   \n",
       "2  Добавить блоки рекомендаций товаров на сайт интернет магазина, чтобы повысить конверсию и средний чек заказа   \n",
       "0            Добавить два новых канала привлечения трафика, что позволит привлекать на 30% больше пользователей   \n",
       "6          Показать на главной странице баннеры с актуальными акциями и распродажами, чтобы увеличить конверсию   \n",
       "8                                                       Запустить акцию, дающую скидку на товар в день рождения   \n",
       "3           Изменить структура категорий, что увеличит конверсию, т.к. пользователи быстрее найдут нужный товар   \n",
       "1                                     Запустить собственную службу доставки, что сократит срок доставки заказов   \n",
       "5                      Добавить страницу отзывов клиентов о магазине, что позволит увеличить количество заказов   \n",
       "4                              Изменить цвет фона главной страницы, чтобы увеличить вовлеченность пользователей   \n",
       "\n",
       "   reach  impact  confidence  efforts  ice_score  rice_score  \n",
       "7     10       7           8        5       11.0       112.0  \n",
       "2      8       3           7        3        7.0        56.0  \n",
       "0      3      10           8        6       13.0        40.0  \n",
       "6      5       3           8        3        8.0        40.0  \n",
       "8      1       9           9        5       16.0        16.2  \n",
       "3      8       3           3        8        1.0         9.0  \n",
       "1      2       5           4       10        2.0         4.0  \n",
       "5      3       2           2        3        1.0         4.0  \n",
       "4      3       1           1        1        1.0         3.0  "
      ]
     },
     "execution_count": 155,
     "metadata": {},
     "output_type": "execute_result"
    }
   ],
   "source": [
    "hypothesis['rice_score'] = (hypothesis['reach'] * hypothesis['impact'] * hypothesis['confidence']) / hypothesis['efforts']\n",
    "hypothesis.sort_values('rice_score', ascending=False)"
   ]
  },
  {
   "cell_type": "markdown",
   "metadata": {},
   "source": [
    "### Вывод по приоритизации"
   ]
  },
  {
   "cell_type": "markdown",
   "metadata": {},
   "source": [
    "Отличие в результатах приоритизации объясняется тем, что RICE учитывает охват пользователей, на которых повлияет изменение. В результате при приоритизации по ICE первые места заняли гипотезы с наибольшими *impact* и *confidence*, а при приоритизации по RICE на первых местах гипотезы также и с наибольшим охватом — *reach*.\n",
    "\n",
    "Рекомендуется проверить в первую очередь те гипотезы, которые находятся на первых 2-3 местах по RICE:\n",
    "- Добавить форму подписки на все основные страницы, чтобы собрать базу клиентов для email-рассылок\n",
    "- Добавить блоки рекомендаций товаров на сайт интернет магазина, чтобы повысить конверсию и средний чек заказа\n",
    "- Добавить два новых канала привлечения трафика, что позволит привлекать на 30% больше пользователей"
   ]
  },
  {
   "cell_type": "markdown",
   "metadata": {},
   "source": [
    "## Часть 2. Анализ A/B-теста"
   ]
  },
  {
   "cell_type": "markdown",
   "metadata": {},
   "source": [
    "### График кумулятивной выручки по группам"
   ]
  },
  {
   "cell_type": "markdown",
   "metadata": {},
   "source": [
    "Создадим массив уникальных пар значений дат и групп теста:"
   ]
  },
  {
   "cell_type": "code",
   "execution_count": 156,
   "metadata": {},
   "outputs": [],
   "source": [
    "datesGroups = orders[['date','group']].drop_duplicates()"
   ]
  },
  {
   "cell_type": "markdown",
   "metadata": {},
   "source": [
    "Соберём агрегированные кумулятивные по дням данные о заказах:"
   ]
  },
  {
   "cell_type": "code",
   "execution_count": 157,
   "metadata": {},
   "outputs": [],
   "source": [
    "ordersAggregated = datesGroups.apply(\n",
    "    lambda x: orders[\n",
    "        np.logical_and(\n",
    "            orders['date'] <= x['date'], orders['group'] == x['group']\n",
    "        )\n",
    "    ].agg(\n",
    "        {\n",
    "            'date': 'max',\n",
    "            'group': 'max',\n",
    "            'transaction_id': pd.Series.nunique,\n",
    "            'visitor_id': pd.Series.nunique,\n",
    "            'revenue': 'sum',\n",
    "        }\n",
    "    ),\n",
    "    axis=1,\n",
    ").sort_values(by=['date', 'group'])"
   ]
  },
  {
   "cell_type": "markdown",
   "metadata": {},
   "source": [
    "Аналогично соберем данные о посетителях:"
   ]
  },
  {
   "cell_type": "code",
   "execution_count": 158,
   "metadata": {},
   "outputs": [],
   "source": [
    "visitorsAggregated = datesGroups.apply(\n",
    "    lambda x: visitors[\n",
    "        np.logical_and(\n",
    "            visitors['date'] <= x['date'], visitors['group'] == x['group']\n",
    "        )\n",
    "    ].agg({'date': 'max', 'group': 'max', 'visitors': 'sum'}),\n",
    "    axis=1,\n",
    ").sort_values(by=['date', 'group'])"
   ]
  },
  {
   "cell_type": "markdown",
   "metadata": {},
   "source": [
    "Объединим кумулятивные данные в одной таблице и переименуем столбцы:"
   ]
  },
  {
   "cell_type": "code",
   "execution_count": 159,
   "metadata": {},
   "outputs": [],
   "source": [
    "cumulativeData = ordersAggregated.merge(\n",
    "    visitorsAggregated, left_on=['date', 'group'], right_on=['date', 'group']\n",
    ")\n",
    "cumulativeData.columns = [\n",
    "    'date',\n",
    "    'group',\n",
    "    'orders',\n",
    "    'buyers',\n",
    "    'revenue',\n",
    "    'visitors',\n",
    "]"
   ]
  },
  {
   "cell_type": "code",
   "execution_count": 160,
   "metadata": {},
   "outputs": [
    {
     "data": {
      "text/html": [
       "<div>\n",
       "<style scoped>\n",
       "    .dataframe tbody tr th:only-of-type {\n",
       "        vertical-align: middle;\n",
       "    }\n",
       "\n",
       "    .dataframe tbody tr th {\n",
       "        vertical-align: top;\n",
       "    }\n",
       "\n",
       "    .dataframe thead th {\n",
       "        text-align: right;\n",
       "    }\n",
       "</style>\n",
       "<table border=\"1\" class=\"dataframe\">\n",
       "  <thead>\n",
       "    <tr style=\"text-align: right;\">\n",
       "      <th></th>\n",
       "      <th>date</th>\n",
       "      <th>group</th>\n",
       "      <th>orders</th>\n",
       "      <th>buyers</th>\n",
       "      <th>revenue</th>\n",
       "      <th>visitors</th>\n",
       "    </tr>\n",
       "  </thead>\n",
       "  <tbody>\n",
       "    <tr>\n",
       "      <th>0</th>\n",
       "      <td>2019-08-01</td>\n",
       "      <td>A</td>\n",
       "      <td>24</td>\n",
       "      <td>20</td>\n",
       "      <td>148579</td>\n",
       "      <td>719</td>\n",
       "    </tr>\n",
       "    <tr>\n",
       "      <th>1</th>\n",
       "      <td>2019-08-01</td>\n",
       "      <td>B</td>\n",
       "      <td>21</td>\n",
       "      <td>20</td>\n",
       "      <td>101217</td>\n",
       "      <td>713</td>\n",
       "    </tr>\n",
       "    <tr>\n",
       "      <th>2</th>\n",
       "      <td>2019-08-02</td>\n",
       "      <td>A</td>\n",
       "      <td>44</td>\n",
       "      <td>38</td>\n",
       "      <td>242401</td>\n",
       "      <td>1338</td>\n",
       "    </tr>\n",
       "    <tr>\n",
       "      <th>3</th>\n",
       "      <td>2019-08-02</td>\n",
       "      <td>B</td>\n",
       "      <td>45</td>\n",
       "      <td>43</td>\n",
       "      <td>266748</td>\n",
       "      <td>1294</td>\n",
       "    </tr>\n",
       "    <tr>\n",
       "      <th>4</th>\n",
       "      <td>2019-08-03</td>\n",
       "      <td>A</td>\n",
       "      <td>68</td>\n",
       "      <td>62</td>\n",
       "      <td>354874</td>\n",
       "      <td>1845</td>\n",
       "    </tr>\n",
       "  </tbody>\n",
       "</table>\n",
       "</div>"
      ],
      "text/plain": [
       "        date group  orders  buyers  revenue  visitors\n",
       "0 2019-08-01     A      24      20   148579       719\n",
       "1 2019-08-01     B      21      20   101217       713\n",
       "2 2019-08-02     A      44      38   242401      1338\n",
       "3 2019-08-02     B      45      43   266748      1294\n",
       "4 2019-08-03     A      68      62   354874      1845"
      ]
     },
     "execution_count": 160,
     "metadata": {},
     "output_type": "execute_result"
    }
   ],
   "source": [
    "cumulativeData.head()"
   ]
  },
  {
   "cell_type": "markdown",
   "metadata": {},
   "source": [
    "Создадим переменные и сохраним в них данные о датах, выручке и числе заказов в группах A и B:"
   ]
  },
  {
   "cell_type": "code",
   "execution_count": 161,
   "metadata": {},
   "outputs": [],
   "source": [
    "cumulativeRevenueA = cumulativeData[cumulativeData['group']=='A'][['date','revenue', 'orders']]\n",
    "cumulativeRevenueB = cumulativeData[cumulativeData['group']=='B'][['date','revenue', 'orders']]"
   ]
  },
  {
   "cell_type": "markdown",
   "metadata": {},
   "source": [
    "Построим график кумулятивной выручки по группам:"
   ]
  },
  {
   "cell_type": "code",
   "execution_count": 162,
   "metadata": {},
   "outputs": [
    {
     "data": {
      "image/png": "[encoded data removed]",
      "text/plain": [
       "<Figure size 576x360 with 1 Axes>"
      ]
     },
     "metadata": {
      "needs_background": "light"
     },
     "output_type": "display_data"
    }
   ],
   "source": [
    "from pandas.plotting import register_matplotlib_converters\n",
    "register_matplotlib_converters()\n",
    "\n",
    "fig = plt.figure(figsize=(8,5))\n",
    "plt.plot(cumulativeRevenueA['date'], cumulativeRevenueA['revenue'], label='A')\n",
    "plt.plot(cumulativeRevenueB['date'], cumulativeRevenueB['revenue'], label='B')\n",
    "plt.legend()\n",
    "fig.autofmt_xdate()\n",
    "plt.grid()\n",
    "plt.title('Cumulative Revenue By Groups')\n",
    "plt.ylabel('Revenue')\n",
    "\n",
    "plt.annotate('sharp rise', xy=('2019-08-17', 2800000), xytext=('2019-08-10', 3500000),\n",
    "            arrowprops=dict(facecolor='grey'))\n",
    "\n",
    "\n",
    "plt.show()"
   ]
  },
  {
   "cell_type": "markdown",
   "metadata": {},
   "source": [
    "**Вывод:** В целом сегмент B стабильно лидирует, в некоторых местах (в начале и ближе к середине теста) выручка сегментов почти совпадает. Также в сегменте B наблюдается скачок 18-07-2019, что может быть связазано с тем, что резко увеличилось число заказов, либо появились аномально дорогие заказы."
   ]
  },
  {
   "cell_type": "markdown",
   "metadata": {},
   "source": [
    "### График кумулятивного среднего чека по группам"
   ]
  },
  {
   "cell_type": "code",
   "execution_count": 163,
   "metadata": {},
   "outputs": [
    {
     "data": {
      "image/png": "[encoded data removed]",
      "text/plain": [
       "<Figure size 576x360 with 1 Axes>"
      ]
     },
     "metadata": {
      "needs_background": "light"
     },
     "output_type": "display_data"
    }
   ],
   "source": [
    "fig = plt.figure(figsize=(8,5))\n",
    "plt.plot(cumulativeRevenueA['date'], cumulativeRevenueA['revenue']/cumulativeRevenueA['orders'], label='A')\n",
    "plt.plot(cumulativeRevenueB['date'], cumulativeRevenueB['revenue']/cumulativeRevenueB['orders'], label='B')\n",
    "plt.legend()\n",
    "fig.autofmt_xdate()\n",
    "plt.grid()\n",
    "plt.title('Cumulative Average Order Value By Groups')\n",
    "plt.ylabel('Average Order Value')\n",
    "\n",
    "plt.annotate('sharp rise', xy=('2019-08-17', 7200), xytext=('2019-08-11', 8000),\n",
    "            arrowprops=dict(facecolor='grey'))\n",
    "\n",
    "\n",
    "plt.show()"
   ]
  },
  {
   "cell_type": "markdown",
   "metadata": {},
   "source": [
    "**Вывод:** По среднему чеку также наблюдается резкий скачок у сегмента B с середины теста. Возможно, дело все-таки в дорогих заказах."
   ]
  },
  {
   "cell_type": "markdown",
   "metadata": {},
   "source": [
    "### График относительного изменения кумулятивного среднего чека группы B к группе A"
   ]
  },
  {
   "cell_type": "markdown",
   "metadata": {},
   "source": [
    "Объединим таблицы `cumulativeRevenueA` и `cumulativeRevenueB`:"
   ]
  },
  {
   "cell_type": "code",
   "execution_count": 164,
   "metadata": {},
   "outputs": [],
   "source": [
    "mergedCumulativeRevenue = cumulativeRevenueA.merge(\n",
    "    cumulativeRevenueB, left_on='date', right_on='date', how='left', suffixes=['A', 'B']\n",
    ")"
   ]
  },
  {
   "cell_type": "code",
   "execution_count": 165,
   "metadata": {},
   "outputs": [
    {
     "data": {
      "image/png": "[encoded data removed]",
      "text/plain": [
       "<Figure size 576x360 with 1 Axes>"
      ]
     },
     "metadata": {
      "needs_background": "light"
     },
     "output_type": "display_data"
    }
   ],
   "source": [
    "fig = plt.figure(figsize=(8,5))\n",
    "plt.plot(mergedCumulativeRevenue['date'], (mergedCumulativeRevenue['revenueB']/mergedCumulativeRevenue['ordersB'])/(mergedCumulativeRevenue['revenueA']/mergedCumulativeRevenue['ordersA'])-1)\n",
    "plt.axhline(y=0, color='black', linestyle='--')\n",
    "fig.autofmt_xdate()\n",
    "plt.grid()\n",
    "plt.title('Relative change in the cumulative average order value of group B to group A')\n",
    "plt.ylabel('Average Order Value')\n",
    "plt.show()"
   ]
  },
  {
   "cell_type": "markdown",
   "metadata": {},
   "source": [
    "**Вывод:** Наблюдаются значительные скачки результатов теста в нескольких точках, вероятно в эти даты совершались аномальные заказы."
   ]
  },
  {
   "cell_type": "markdown",
   "metadata": {},
   "source": [
    "### График кумулятивной конверсии по группам"
   ]
  },
  {
   "cell_type": "markdown",
   "metadata": {},
   "source": [
    "Добавим в `cumulativeData` столбец с отношением числа заказов к количеству пользователей:"
   ]
  },
  {
   "cell_type": "code",
   "execution_count": 166,
   "metadata": {},
   "outputs": [],
   "source": [
    "cumulativeData['conversion'] = cumulativeData['orders']/cumulativeData['visitors']"
   ]
  },
  {
   "cell_type": "markdown",
   "metadata": {},
   "source": [
    "Сохраним в отдельных переменных данные о заказах в сегментах A и B соответственно:"
   ]
  },
  {
   "cell_type": "code",
   "execution_count": 167,
   "metadata": {},
   "outputs": [],
   "source": [
    "cumulativeDataA = cumulativeData[cumulativeData['group']=='A']\n",
    "cumulativeDataB = cumulativeData[cumulativeData['group']=='B']"
   ]
  },
  {
   "cell_type": "code",
   "execution_count": 168,
   "metadata": {},
   "outputs": [
    {
     "data": {
      "image/png": "[encoded data removed]",
      "text/plain": [
       "<Figure size 576x360 with 1 Axes>"
      ]
     },
     "metadata": {
      "needs_background": "light"
     },
     "output_type": "display_data"
    }
   ],
   "source": [
    "fig = plt.figure(figsize=(8,5))\n",
    "plt.plot(cumulativeDataA['date'], cumulativeDataA['conversion'], label='A')\n",
    "plt.plot(cumulativeDataB['date'], cumulativeDataB['conversion'], label='B')\n",
    "fig.autofmt_xdate()\n",
    "plt.grid()\n",
    "plt.title('Cumulative Сonversion By Groups')\n",
    "plt.ylabel('Conversion')\n",
    "plt.axis([\"2019-08-01\", '2019-09-01', 0, 0.05])\n",
    "plt.show()"
   ]
  },
  {
   "cell_type": "markdown",
   "metadata": {},
   "source": [
    "**Вывод:** В начале теста сегмент A имел большую конверсию, но затем конверсия сегмента B подросла, зафиксировалась примерно около одного значения, большего чем у сегмента A."
   ]
  },
  {
   "cell_type": "markdown",
   "metadata": {},
   "source": [
    "### График относительного изменения кумулятивной конверсии группы B к группе A"
   ]
  },
  {
   "cell_type": "markdown",
   "metadata": {},
   "source": [
    "Объединим таблицы `cumulativeDataA` и `cumulativeDataB`:"
   ]
  },
  {
   "cell_type": "code",
   "execution_count": 169,
   "metadata": {},
   "outputs": [],
   "source": [
    "mergedCumulativeConversions = cumulativeDataA[['date','conversion']].merge(cumulativeDataB[['date','conversion']], left_on='date', right_on='date', how='left', suffixes=['A', 'B'])"
   ]
  },
  {
   "cell_type": "code",
   "execution_count": 170,
   "metadata": {},
   "outputs": [
    {
     "data": {
      "image/png": "[encoded data removed]",
      "text/plain": [
       "<Figure size 576x360 with 1 Axes>"
      ]
     },
     "metadata": {
      "needs_background": "light"
     },
     "output_type": "display_data"
    }
   ],
   "source": [
    "fig = plt.figure(figsize=(8,5))\n",
    "plt.plot(mergedCumulativeConversions['date'], mergedCumulativeConversions['conversionB']/mergedCumulativeConversions['conversionA']-1)\n",
    "plt.axhline(y=0, color='black', linestyle='--')\n",
    "plt.axhline(y=0.1, color='grey', linestyle='--')\n",
    "fig.autofmt_xdate()\n",
    "plt.grid()\n",
    "plt.title('Relative change in the cumulative conversion of group B to group A')\n",
    "plt.axis([\"2019-08-01\", '2019-09-01', -0.5, 0.5])\n",
    "plt.show()"
   ]
  },
  {
   "cell_type": "markdown",
   "metadata": {},
   "source": [
    "**Вывод:** Спустя месяц с начала теста группа B лидирует и довольно быстро зафиксировалась около прироста в 10% относительно группы A."
   ]
  },
  {
   "cell_type": "markdown",
   "metadata": {},
   "source": [
    "### Точечный график количества заказов по пользователям"
   ]
  },
  {
   "cell_type": "markdown",
   "metadata": {},
   "source": [
    "Найдем количество заказов по пользователям:"
   ]
  },
  {
   "cell_type": "code",
   "execution_count": 171,
   "metadata": {},
   "outputs": [
    {
     "data": {
      "text/html": [
       "<div>\n",
       "<style scoped>\n",
       "    .dataframe tbody tr th:only-of-type {\n",
       "        vertical-align: middle;\n",
       "    }\n",
       "\n",
       "    .dataframe tbody tr th {\n",
       "        vertical-align: top;\n",
       "    }\n",
       "\n",
       "    .dataframe thead th {\n",
       "        text-align: right;\n",
       "    }\n",
       "</style>\n",
       "<table border=\"1\" class=\"dataframe\">\n",
       "  <thead>\n",
       "    <tr style=\"text-align: right;\">\n",
       "      <th></th>\n",
       "      <th>visitor_id</th>\n",
       "      <th>orders</th>\n",
       "    </tr>\n",
       "  </thead>\n",
       "  <tbody>\n",
       "    <tr>\n",
       "      <th>1023</th>\n",
       "      <td>4256040402</td>\n",
       "      <td>11</td>\n",
       "    </tr>\n",
       "    <tr>\n",
       "      <th>591</th>\n",
       "      <td>2458001652</td>\n",
       "      <td>11</td>\n",
       "    </tr>\n",
       "    <tr>\n",
       "      <th>569</th>\n",
       "      <td>2378935119</td>\n",
       "      <td>9</td>\n",
       "    </tr>\n",
       "    <tr>\n",
       "      <th>487</th>\n",
       "      <td>2038680547</td>\n",
       "      <td>8</td>\n",
       "    </tr>\n",
       "    <tr>\n",
       "      <th>44</th>\n",
       "      <td>199603092</td>\n",
       "      <td>5</td>\n",
       "    </tr>\n",
       "  </tbody>\n",
       "</table>\n",
       "</div>"
      ],
      "text/plain": [
       "      visitor_id  orders\n",
       "1023  4256040402      11\n",
       "591   2458001652      11\n",
       "569   2378935119       9\n",
       "487   2038680547       8\n",
       "44     199603092       5"
      ]
     },
     "execution_count": 171,
     "metadata": {},
     "output_type": "execute_result"
    }
   ],
   "source": [
    "ordersByUsers = (\n",
    "    orders.drop(['group', 'revenue', 'date'], axis=1)\n",
    "    .groupby('visitor_id', as_index=False)\n",
    "    .agg({'transaction_id': pd.Series.nunique})\n",
    ")\n",
    "ordersByUsers.columns = ['visitor_id', 'orders']\n",
    "\n",
    "ordersByUsers.sort_values(by='orders', ascending=False).head()"
   ]
  },
  {
   "cell_type": "code",
   "execution_count": 172,
   "metadata": {},
   "outputs": [
    {
     "data": {
      "image/png": "[encoded data removed]",
      "text/plain": [
       "<Figure size 576x360 with 1 Axes>"
      ]
     },
     "metadata": {
      "needs_background": "light"
     },
     "output_type": "display_data"
    }
   ],
   "source": [
    "x_values = pd.Series(range(0, len(ordersByUsers)))\n",
    "plt.figure(figsize=(8,5))\n",
    "plt.scatter(x_values, ordersByUsers['orders'])\n",
    "plt.ylabel('Orders')\n",
    "plt.xlabel('Users')\n",
    "plt.title('Scatter Plot: Number Of Orders By Users')\n",
    "plt.grid()\n",
    "plt.show()"
   ]
  },
  {
   "cell_type": "markdown",
   "metadata": {},
   "source": [
    "**Вывод:** Пользователей, совершивших более двух заказов, совсем немного, возможно, они являются аномальными."
   ]
  },
  {
   "cell_type": "markdown",
   "metadata": {},
   "source": [
    "### Расчет 95-го и 99-го перцентилей количества заказов на пользователя"
   ]
  },
  {
   "cell_type": "code",
   "execution_count": 173,
   "metadata": {},
   "outputs": [
    {
     "data": {
      "text/plain": [
       "array([2., 4.])"
      ]
     },
     "execution_count": 173,
     "metadata": {},
     "output_type": "execute_result"
    }
   ],
   "source": [
    "np.percentile(ordersByUsers['orders'], [95, 99])"
   ]
  },
  {
   "cell_type": "markdown",
   "metadata": {},
   "source": [
    "**Вывод:** Не более 5% пользователей совершали больше двух заказов и не более 1% — больше четырех заказов. Выберем 2 заказа на одного пользователя за нижнюю границу, по которой отсеем аномальных пользователей."
   ]
  },
  {
   "cell_type": "markdown",
   "metadata": {},
   "source": [
    "### Точечный график стоимостей заказов"
   ]
  },
  {
   "cell_type": "code",
   "execution_count": 174,
   "metadata": {},
   "outputs": [
    {
     "data": {
      "image/png": "[encoded data removed]",
      "text/plain": [
       "<Figure size 576x360 with 1 Axes>"
      ]
     },
     "metadata": {
      "needs_background": "light"
     },
     "output_type": "display_data"
    }
   ],
   "source": [
    "x_values = pd.Series(range(0, len(orders['revenue'])))\n",
    "plt.figure(figsize=(8,5))\n",
    "plt.scatter(x_values, orders['revenue'])\n",
    "plt.ylabel('Revenue')\n",
    "plt.title('Scatter Plot: Revenue')\n",
    "plt.grid()\n",
    "plt.show()"
   ]
  },
  {
   "cell_type": "markdown",
   "metadata": {},
   "source": [
    "**Вывод:** Заказов стоимостью больше 50 000 не очень много; самые большие выбросы в районе 200 000 и примерно 1,3 млн. Стоит посмотреть на перцентили."
   ]
  },
  {
   "cell_type": "markdown",
   "metadata": {},
   "source": [
    "### Расчет 95-го и 99-го перцентилей стоимости заказов"
   ]
  },
  {
   "cell_type": "code",
   "execution_count": 175,
   "metadata": {},
   "outputs": [
    {
     "data": {
      "text/plain": [
       "array([28000. , 58233.2])"
      ]
     },
     "execution_count": 175,
     "metadata": {},
     "output_type": "execute_result"
    }
   ],
   "source": [
    "np.percentile(orders['revenue'], [95, 99])"
   ]
  },
  {
   "cell_type": "markdown",
   "metadata": {},
   "source": [
    "**Вывод:** Не более 5% заказов имеют стоимость больше 28 000 и не более 1% — больше 58 000. Выберем 28 000 за нижнюю границу стоимости заказа, по которой отсеем аномальных пользователей."
   ]
  },
  {
   "cell_type": "markdown",
   "metadata": {},
   "source": [
    "### Статистическая значимость различий"
   ]
  },
  {
   "cell_type": "markdown",
   "metadata": {},
   "source": [
    "#### Конверсия, «сырые» данные"
   ]
  },
  {
   "cell_type": "markdown",
   "metadata": {},
   "source": [
    "Создадим датафрейм `visitorsADaily` с посетителями по дням в группе А; затем в отдельном датафрейме `visitorsACummulative` соберем кумулятивные данные по дням о количестве пользователей в группе А:"
   ]
  },
  {
   "cell_type": "code",
   "execution_count": 176,
   "metadata": {},
   "outputs": [],
   "source": [
    "visitorsADaily = visitors[visitors['group'] == 'A'][['date', 'visitors']]\n",
    "visitorsADaily.columns = ['date', 'visitorsPerDateA']\n",
    "\n",
    "visitorsACummulative = visitorsADaily.apply(\n",
    "    lambda x: visitorsADaily[visitorsADaily['date'] <= x['date']].agg(\n",
    "        {'date': 'max', 'visitorsPerDateA': 'sum'}\n",
    "    ),\n",
    "    axis=1,\n",
    ")\n",
    "visitorsACummulative.columns = ['date', 'visitorsCummulativeA']"
   ]
  },
  {
   "cell_type": "markdown",
   "metadata": {},
   "source": [
    "Аналогично поступим с группой B:"
   ]
  },
  {
   "cell_type": "code",
   "execution_count": 177,
   "metadata": {},
   "outputs": [],
   "source": [
    "visitorsBDaily = visitors[visitors['group'] == 'B'][['date', 'visitors']]\n",
    "visitorsBDaily.columns = ['date', 'visitorsPerDateB']\n",
    "\n",
    "visitorsBCummulative = visitorsBDaily.apply(\n",
    "    lambda x: visitorsBDaily[visitorsBDaily['date'] <= x['date']].agg(\n",
    "        {'date': 'max', 'visitorsPerDateB': 'sum'}\n",
    "    ),\n",
    "    axis=1,\n",
    ")\n",
    "visitorsBCummulative.columns = ['date', 'visitorsCummulativeB']"
   ]
  },
  {
   "cell_type": "markdown",
   "metadata": {},
   "source": [
    "Создадим датафрейм `ordersADaily` с данными о количестве заказов, суммарной выручке по дням в группе А; в отдельном датафрейме `ordersACummulative` соберем данные о кумулятивном количестве заказов, суммарной выручке по дням в группе А:"
   ]
  },
  {
   "cell_type": "code",
   "execution_count": 178,
   "metadata": {},
   "outputs": [],
   "source": [
    "ordersADaily = (\n",
    "    orders[orders['group'] == 'A'][['date', 'transaction_id', 'visitor_id', 'revenue']]\n",
    "    .groupby('date', as_index=False)\n",
    "    .agg({'transaction_id': pd.Series.nunique, 'revenue': 'sum'})\n",
    ")\n",
    "ordersADaily.columns = ['date', 'ordersPerDateA', 'revenuePerDateA']\n",
    "\n",
    "ordersACummulative = ordersADaily.apply(\n",
    "    lambda x: ordersADaily[ordersADaily['date'] <= x['date']].agg(\n",
    "        {'date': 'max', 'ordersPerDateA': 'sum', 'revenuePerDateA': 'sum'}\n",
    "    ),\n",
    "    axis=1,\n",
    ").sort_values(by=['date'])\n",
    "ordersACummulative.columns = [\n",
    "    'date',\n",
    "    'ordersCummulativeA',\n",
    "    'revenueCummulativeA',\n",
    "]"
   ]
  },
  {
   "cell_type": "markdown",
   "metadata": {},
   "source": [
    "Аналогично для группы B:"
   ]
  },
  {
   "cell_type": "code",
   "execution_count": 179,
   "metadata": {},
   "outputs": [],
   "source": [
    "ordersBDaily = (\n",
    "    orders[orders['group'] == 'B'][['date', 'transaction_id', 'visitor_id', 'revenue']]\n",
    "    .groupby('date', as_index=False)\n",
    "    .agg({'transaction_id': pd.Series.nunique, 'revenue': 'sum'})\n",
    ")\n",
    "ordersBDaily.columns = ['date', 'ordersPerDateB', 'revenuePerDateB']\n",
    "\n",
    "ordersBCummulative = ordersBDaily.apply(\n",
    "    lambda x: ordersBDaily[ordersBDaily['date'] <= x['date']].agg(\n",
    "        {'date': 'max', 'ordersPerDateB': 'sum', 'revenuePerDateB': 'sum'}\n",
    "    ),\n",
    "    axis=1,\n",
    ").sort_values(by=['date'])\n",
    "ordersBCummulative.columns = [\n",
    "    'date',\n",
    "    'ordersCummulativeB',\n",
    "    'revenueCummulativeB',\n",
    "]"
   ]
  },
  {
   "cell_type": "markdown",
   "metadata": {},
   "source": [
    "Объеденим полученные данные в один датафрейм `data`:"
   ]
  },
  {
   "cell_type": "code",
   "execution_count": 180,
   "metadata": {},
   "outputs": [
    {
     "data": {
      "text/html": [
       "<div>\n",
       "<style scoped>\n",
       "    .dataframe tbody tr th:only-of-type {\n",
       "        vertical-align: middle;\n",
       "    }\n",
       "\n",
       "    .dataframe tbody tr th {\n",
       "        vertical-align: top;\n",
       "    }\n",
       "\n",
       "    .dataframe thead th {\n",
       "        text-align: right;\n",
       "    }\n",
       "</style>\n",
       "<table border=\"1\" class=\"dataframe\">\n",
       "  <thead>\n",
       "    <tr style=\"text-align: right;\">\n",
       "      <th></th>\n",
       "      <th>date</th>\n",
       "      <th>ordersPerDateA</th>\n",
       "      <th>revenuePerDateA</th>\n",
       "      <th>ordersPerDateB</th>\n",
       "      <th>revenuePerDateB</th>\n",
       "      <th>ordersCummulativeA</th>\n",
       "      <th>revenueCummulativeA</th>\n",
       "      <th>ordersCummulativeB</th>\n",
       "      <th>revenueCummulativeB</th>\n",
       "      <th>visitorsPerDateA</th>\n",
       "      <th>visitorsPerDateB</th>\n",
       "      <th>visitorsCummulativeA</th>\n",
       "      <th>visitorsCummulativeB</th>\n",
       "    </tr>\n",
       "  </thead>\n",
       "  <tbody>\n",
       "    <tr>\n",
       "      <th>0</th>\n",
       "      <td>2019-08-01</td>\n",
       "      <td>24</td>\n",
       "      <td>148579</td>\n",
       "      <td>21</td>\n",
       "      <td>101217</td>\n",
       "      <td>24</td>\n",
       "      <td>148579</td>\n",
       "      <td>21</td>\n",
       "      <td>101217</td>\n",
       "      <td>719</td>\n",
       "      <td>713</td>\n",
       "      <td>719</td>\n",
       "      <td>713</td>\n",
       "    </tr>\n",
       "    <tr>\n",
       "      <th>1</th>\n",
       "      <td>2019-08-02</td>\n",
       "      <td>20</td>\n",
       "      <td>93822</td>\n",
       "      <td>24</td>\n",
       "      <td>165531</td>\n",
       "      <td>44</td>\n",
       "      <td>242401</td>\n",
       "      <td>45</td>\n",
       "      <td>266748</td>\n",
       "      <td>619</td>\n",
       "      <td>581</td>\n",
       "      <td>1338</td>\n",
       "      <td>1294</td>\n",
       "    </tr>\n",
       "    <tr>\n",
       "      <th>2</th>\n",
       "      <td>2019-08-03</td>\n",
       "      <td>24</td>\n",
       "      <td>112473</td>\n",
       "      <td>16</td>\n",
       "      <td>114248</td>\n",
       "      <td>68</td>\n",
       "      <td>354874</td>\n",
       "      <td>61</td>\n",
       "      <td>380996</td>\n",
       "      <td>507</td>\n",
       "      <td>509</td>\n",
       "      <td>1845</td>\n",
       "      <td>1803</td>\n",
       "    </tr>\n",
       "    <tr>\n",
       "      <th>3</th>\n",
       "      <td>2019-08-04</td>\n",
       "      <td>16</td>\n",
       "      <td>70825</td>\n",
       "      <td>17</td>\n",
       "      <td>108571</td>\n",
       "      <td>84</td>\n",
       "      <td>425699</td>\n",
       "      <td>78</td>\n",
       "      <td>489567</td>\n",
       "      <td>717</td>\n",
       "      <td>770</td>\n",
       "      <td>2562</td>\n",
       "      <td>2573</td>\n",
       "    </tr>\n",
       "    <tr>\n",
       "      <th>4</th>\n",
       "      <td>2019-08-05</td>\n",
       "      <td>25</td>\n",
       "      <td>124218</td>\n",
       "      <td>23</td>\n",
       "      <td>92428</td>\n",
       "      <td>109</td>\n",
       "      <td>549917</td>\n",
       "      <td>101</td>\n",
       "      <td>581995</td>\n",
       "      <td>756</td>\n",
       "      <td>707</td>\n",
       "      <td>3318</td>\n",
       "      <td>3280</td>\n",
       "    </tr>\n",
       "  </tbody>\n",
       "</table>\n",
       "</div>"
      ],
      "text/plain": [
       "        date  ordersPerDateA  revenuePerDateA  ordersPerDateB  \\\n",
       "0 2019-08-01              24           148579              21   \n",
       "1 2019-08-02              20            93822              24   \n",
       "2 2019-08-03              24           112473              16   \n",
       "3 2019-08-04              16            70825              17   \n",
       "4 2019-08-05              25           124218              23   \n",
       "\n",
       "   revenuePerDateB  ordersCummulativeA  revenueCummulativeA  \\\n",
       "0           101217                  24               148579   \n",
       "1           165531                  44               242401   \n",
       "2           114248                  68               354874   \n",
       "3           108571                  84               425699   \n",
       "4            92428                 109               549917   \n",
       "\n",
       "   ordersCummulativeB  revenueCummulativeB  visitorsPerDateA  \\\n",
       "0                  21               101217               719   \n",
       "1                  45               266748               619   \n",
       "2                  61               380996               507   \n",
       "3                  78               489567               717   \n",
       "4                 101               581995               756   \n",
       "\n",
       "   visitorsPerDateB  visitorsCummulativeA  visitorsCummulativeB  \n",
       "0               713                   719                   713  \n",
       "1               581                  1338                  1294  \n",
       "2               509                  1845                  1803  \n",
       "3               770                  2562                  2573  \n",
       "4               707                  3318                  3280  "
      ]
     },
     "execution_count": 180,
     "metadata": {},
     "output_type": "execute_result"
    }
   ],
   "source": [
    "data = (\n",
    "    ordersADaily.merge(\n",
    "        ordersBDaily, left_on='date', right_on='date', how='left'\n",
    "    )\n",
    "    .merge(ordersACummulative, left_on='date', right_on='date', how='left')\n",
    "    .merge(ordersBCummulative, left_on='date', right_on='date', how='left')\n",
    "    .merge(visitorsADaily, left_on='date', right_on='date', how='left')\n",
    "    .merge(visitorsBDaily, left_on='date', right_on='date', how='left')\n",
    "    .merge(visitorsACummulative, left_on='date', right_on='date', how='left')\n",
    "    .merge(visitorsBCummulative, left_on='date', right_on='date', how='left')\n",
    ")\n",
    "data.head()"
   ]
  },
  {
   "cell_type": "markdown",
   "metadata": {},
   "source": [
    "Создадим переменные `ordersByUsersA` и `ordersByUsersB`, где для пользователей, которые заказывали хотя бы один раз, укажем число совершённых заказов:"
   ]
  },
  {
   "cell_type": "code",
   "execution_count": 181,
   "metadata": {},
   "outputs": [],
   "source": [
    "ordersByUsersA = (\n",
    "    orders[orders['group'] == 'A']\n",
    "    .groupby('visitor_id', as_index=False)\n",
    "    .agg({'transaction_id': pd.Series.nunique})\n",
    ")\n",
    "ordersByUsersA.columns = ['userId', 'orders']\n",
    "\n",
    "ordersByUsersB = (\n",
    "    orders[orders['group'] == 'B']\n",
    "    .groupby('visitor_id', as_index=False)\n",
    "    .agg({'transaction_id': pd.Series.nunique})\n",
    ")\n",
    "ordersByUsersB.columns = ['userId', 'orders']"
   ]
  },
  {
   "cell_type": "markdown",
   "metadata": {},
   "source": [
    "Создадим переменные `sampleA` и `sampleB`, где пользователям с заказами будет соответствовать число заказов пользователя (если заказов нет — нули):"
   ]
  },
  {
   "cell_type": "code",
   "execution_count": 182,
   "metadata": {},
   "outputs": [],
   "source": [
    "sampleA = pd.concat([ordersByUsersA['orders'],pd.Series(0, index=np.arange(data['visitorsPerDateA'].sum() - len(ordersByUsersA['orders'])), name='orders')],axis=0)\n",
    "\n",
    "sampleB = pd.concat([ordersByUsersB['orders'],pd.Series(0, index=np.arange(data['visitorsPerDateB'].sum() - len(ordersByUsersB['orders'])), name='orders')],axis=0)"
   ]
  },
  {
   "cell_type": "markdown",
   "metadata": {},
   "source": [
    "Сформулируем нулевую гипотезу:  \n",
    "$H_0:$ различий в конверсии групп A и B по «сырым» данным нет  \n",
    "$H_1:$ различия в конверсии групп A и B по «сырым» данным есть\n",
    "    \n",
    "Зададим уровень значимости 5%"
   ]
  },
  {
   "cell_type": "markdown",
   "metadata": {},
   "source": [
    "Посчитаем статистическую значимость различия конверсии (критерий Манна-Уитни) и посчитаем относительный прирост конверсии группы B: "
   ]
  },
  {
   "cell_type": "code",
   "execution_count": 183,
   "metadata": {},
   "outputs": [
    {
     "name": "stdout",
     "output_type": "stream",
     "text": [
      "0.017\n",
      "0.138\n"
     ]
    }
   ],
   "source": [
    "print(\"{0:.3f}\".format(stats.mannwhitneyu(sampleA, sampleB, alternative='two-sided')[1]))\n",
    "print(\"{0:.3f}\".format(sampleB.mean() / sampleA.mean() - 1))"
   ]
  },
  {
   "cell_type": "markdown",
   "metadata": {},
   "source": [
    "**Вывод:** p-value меньше 0.05, значит, нулевую гипотезу мы отвергаем, по «сырым» данным между группами есть статистически значимые различия. Относительный прирост конверсии группы B равен 13.8%."
   ]
  },
  {
   "cell_type": "markdown",
   "metadata": {},
   "source": [
    "#### Средний чек заказа, «сырые» данные"
   ]
  },
  {
   "cell_type": "markdown",
   "metadata": {},
   "source": [
    "Сформулируем нулевую гипотезу:  \n",
    "$H_0:$ различий в среднем чеке групп A и B по «сырым» данным нет  \n",
    "$H_1:$ различия в среднем чеке групп A и B по «сырым» данным есть\n",
    "    \n",
    "Зададим уровень значимости 5%"
   ]
  },
  {
   "cell_type": "markdown",
   "metadata": {},
   "source": [
    "Рассчитаем статистическую значимость различий в среднем чеке между сегментами, а также найдём относительные различия в среднем чеке между группами:"
   ]
  },
  {
   "cell_type": "code",
   "execution_count": 184,
   "metadata": {},
   "outputs": [
    {
     "name": "stdout",
     "output_type": "stream",
     "text": [
      "0.729\n",
      "0.259\n"
     ]
    }
   ],
   "source": [
    "print('{0:.3f}'.format(stats.mannwhitneyu(orders[orders['group']=='A']['revenue'], orders[orders['group']=='B']['revenue'], alternative='two-sided')[1]))\n",
    "print('{0:.3f}'.format(orders[orders['group']=='B']['revenue'].mean()/orders[orders['group']=='A']['revenue'].mean()-1))"
   ]
  },
  {
   "cell_type": "markdown",
   "metadata": {},
   "source": [
    "**Вывод:** p-value значительно больше 0.05. Нулевую гипотезу не отвергаем, в среднем чеке различий нет. Средний чек группы B на 25.9% выше среднего чека группы A."
   ]
  },
  {
   "cell_type": "markdown",
   "metadata": {},
   "source": [
    "#### Конверсия, «очищенные» данные"
   ]
  },
  {
   "cell_type": "markdown",
   "metadata": {},
   "source": [
    "Сделаем срезы пользователей с числом заказов больше 2 — `usersWithManyOrders` и пользователей, совершивших заказы дороже 28 000 — `usersWithExpensiveOrders`. Объединим их в таблице `abnormalUsers` и выведем количество таких пользователей:"
   ]
  },
  {
   "cell_type": "code",
   "execution_count": 185,
   "metadata": {},
   "outputs": [
    {
     "data": {
      "text/plain": [
       "(74,)"
      ]
     },
     "execution_count": 185,
     "metadata": {},
     "output_type": "execute_result"
    }
   ],
   "source": [
    "usersWithManyOrders = pd.concat(\n",
    "    [\n",
    "        ordersByUsersA[ordersByUsersA['orders'] > 2]['userId'],\n",
    "        ordersByUsersB[ordersByUsersB['orders'] > 2]['userId'],\n",
    "    ],\n",
    "    axis=0,\n",
    ")\n",
    "\n",
    "usersWithExpensiveOrders = orders[orders['revenue'] > 28000]['visitor_id']\n",
    "abnormalUsers = (\n",
    "    pd.concat([usersWithManyOrders, usersWithExpensiveOrders], axis=0)\n",
    "    .drop_duplicates()\n",
    "    .sort_values()\n",
    ")\n",
    "\n",
    "abnormalUsers.shape"
   ]
  },
  {
   "cell_type": "markdown",
   "metadata": {},
   "source": [
    "Всего 74 аномальных пользователя.  \n",
    "Далее подготовим выборки количества заказов по пользователям по группам теста:"
   ]
  },
  {
   "cell_type": "code",
   "execution_count": 186,
   "metadata": {},
   "outputs": [],
   "source": [
    "sampleAFiltered = pd.concat(\n",
    "    [\n",
    "        ordersByUsersA[\n",
    "            np.logical_not(ordersByUsersA['userId'].isin(abnormalUsers))\n",
    "        ]['orders'],\n",
    "        pd.Series(\n",
    "            0,\n",
    "            index=np.arange(\n",
    "                data['visitorsPerDateA'].sum() - len(ordersByUsersA['orders'])\n",
    "            ),\n",
    "            name='orders',\n",
    "        ),\n",
    "    ],\n",
    "    axis=0,\n",
    ")\n",
    "\n",
    "sampleBFiltered = pd.concat(\n",
    "    [\n",
    "        ordersByUsersB[\n",
    "            np.logical_not(ordersByUsersB['userId'].isin(abnormalUsers))\n",
    "        ]['orders'],\n",
    "        pd.Series(\n",
    "            0,\n",
    "            index=np.arange(\n",
    "                data['visitorsPerDateB'].sum() - len(ordersByUsersB['orders'])\n",
    "            ),\n",
    "            name='orders',\n",
    "        ),\n",
    "    ],\n",
    "    axis=0,\n",
    ")"
   ]
  },
  {
   "cell_type": "markdown",
   "metadata": {},
   "source": [
    "Сформулируем нулевую гипотезу:  \n",
    "$H_0:$ различий в конверсии групп A и B по «очищенным» данным нет  \n",
    "$H_1:$ различия в конверсии групп A и B по «очищенным» данным есть\n",
    "   \n",
    "Зададим уровень значимости 5%"
   ]
  },
  {
   "cell_type": "markdown",
   "metadata": {},
   "source": [
    "Применим статистический критерий Манна-Уитни:"
   ]
  },
  {
   "cell_type": "code",
   "execution_count": 187,
   "metadata": {},
   "outputs": [
    {
     "name": "stdout",
     "output_type": "stream",
     "text": [
      "0.013\n",
      "0.173\n"
     ]
    }
   ],
   "source": [
    "print('{0:.3f}'.format(stats.mannwhitneyu(sampleAFiltered, sampleBFiltered, alternative='two-sided')[1]))\n",
    "print('{0:.3f}'.format(sampleBFiltered.mean()/sampleAFiltered.mean()-1))"
   ]
  },
  {
   "cell_type": "markdown",
   "metadata": {},
   "source": [
    "**Вывод:** По «очищенным» данным, как и по «сырым», статистическая значимость по различиям в конверсии достигнута: сегмент В лучше сегмента А."
   ]
  },
  {
   "cell_type": "markdown",
   "metadata": {},
   "source": [
    "#### Средний чек заказа, «очищенные» данные"
   ]
  },
  {
   "cell_type": "markdown",
   "metadata": {},
   "source": [
    "Сформулируем нулевую гипотезу:  \n",
    "$H_0:$ различий в среднем чеке групп A и B по «очищенным» данным нет  \n",
    "$H_1:$ различия в среднем чеке групп A и B по «очищенным» данным есть\n",
    "    \n",
    "Зададим уровень значимости 5%"
   ]
  },
  {
   "cell_type": "code",
   "execution_count": 188,
   "metadata": {},
   "outputs": [
    {
     "name": "stdout",
     "output_type": "stream",
     "text": [
      "0.738\n",
      "-0.020\n"
     ]
    }
   ],
   "source": [
    "print(\n",
    "    '{0:.3f}'.format(\n",
    "        stats.mannwhitneyu(\n",
    "            orders[\n",
    "                np.logical_and(\n",
    "                    orders['group'] == 'A',\n",
    "                    np.logical_not(orders['visitor_id'].isin(abnormalUsers)),\n",
    "                )\n",
    "            ]['revenue'],\n",
    "            orders[\n",
    "                np.logical_and(\n",
    "                    orders['group'] == 'B',\n",
    "                    np.logical_not(orders['visitor_id'].isin(abnormalUsers)),\n",
    "                )\n",
    "            ]['revenue'], alternative='two-sided'\n",
    "        )[1]\n",
    "    )\n",
    ")\n",
    "\n",
    "print(\n",
    "    \"{0:.3f}\".format(\n",
    "        orders[\n",
    "            np.logical_and(\n",
    "                orders['group'] == 'B',\n",
    "                np.logical_not(orders['visitor_id'].isin(abnormalUsers)),\n",
    "            )\n",
    "        ]['revenue'].mean()\n",
    "        / orders[\n",
    "            np.logical_and(\n",
    "                orders['group'] == 'A',\n",
    "                np.logical_not(orders['visitor_id'].isin(abnormalUsers)),\n",
    "            )\n",
    "        ]['revenue'].mean()\n",
    "        - 1\n",
    "    )\n",
    ")"
   ]
  },
  {
   "cell_type": "markdown",
   "metadata": {},
   "source": [
    "**Вывод:** По «очищенным» данным p-value почти не изменился, а вот средний чек группы B больше не превышает среднего чека группы A."
   ]
  },
  {
   "cell_type": "markdown",
   "metadata": {},
   "source": [
    "#### Вывод по A/B-тесту"
   ]
  },
  {
   "cell_type": "markdown",
   "metadata": {},
   "source": [
    "**Конверсия:**\n",
    "\n",
    "- «сырые» данные  \n",
    "p-value = 0.017 < 0.05  \n",
    "Нулевая гипотеза о равенстве конверсий отвергается. Между группами есть статистически значимые различия. Относительный прирост конверсии группы B равен 13,8%\n",
    "- «очищенные» данные  \n",
    "p-value = 0.013 < 0.05   \n",
    "Нулевая гипотеза о равенстве конверсий отвергается. Между группами остаются статистически значимые различия. Относительный прирост конверсии группы B увеличился до 17,3%.\n",
    "\n",
    "**Средний чек**\n",
    "- «сырые» данные  \n",
    "p-value = 0.729 > 0.05     \n",
    "Нулевая гипотеза о равенстве средних чеков не отвергается. Между группами нет статистически значимых различий. Врочем, средний чек группы B на 25.9% выше среднего чека группы A.\n",
    "- «очищенные» данные  \n",
    "p-value = 0.738 > 0.05   \n",
    "Нулевая гипотеза о равенстве средних чеков не отвергается. Между группами по-прежнему нет статистически значимых различий. Относительного прироста среднего чека группы B относительно группы А нет.\n",
    "\n",
    "**Решение по результатам теста:**  \n",
    "Конверсия группы B больше (и на сырых, и на очищенных данных). Статистически значимых различий между средними чеками групп А и В нет. Принимаем решение остановить тест, зафиксировав победу группы B."
   ]
  },
  {
   "cell_type": "markdown",
   "metadata": {},
   "source": [
    "## Общий вывод"
   ]
  },
  {
   "cell_type": "markdown",
   "metadata": {},
   "source": [
    "**Данные**\n",
    "- При изучении данных были обнаружены следующие проблемы: некорректный тип данных столбца с датой в таблицах `visitors` и `orders`; регистр названий столбцов в таблицах `orders` и `hypothesis`; в остальном все в порядке, дубликатов и пропусков не обнаружено;\n",
    "- На этапе предобработки все вышеперечисленные проблемы были исправлены.\n",
    "\n",
    "**Приоритизация гипотез**\n",
    "- При приоритизации по *ICE* первые три места заняли гипотезы: \n",
    "    - Запустить акцию, дающую скидку на товар в день рождения  \n",
    "    - Добавить два новых канала привлечения трафика, что позволит привлекать на 30% больше пользователей  \n",
    "    - Добавить форму подписки на все основные страницы, чтобы собрать базу клиентов для email-рассылок  \n",
    "- При приоритизации по *RICE*: \n",
    "    - Добавить форму подписки на все основные страницы, чтобы собрать базу клиентов для email-рассылок  \n",
    "    - Добавить блоки рекомендаций товаров на сайт интернет магазина, чтобы повысить конверсию и средний чек заказа \n",
    "    - Добавить два новых канала привлечения трафика, что позволит привлекать на 30% больше пользователей\n",
    "     \n",
    "- Отличие в результатах приоритизации объясняется тем, что RICE учитывает охват пользователей, на которых повлияет изменение, поэтому имеет смысл в первую очередь обратить внимание на гипотезы, приоритизированные по RICE.\n",
    "\n",
    "**Анализ результатов A/B-теста**\n",
    "- По кумулятивной выручке, кумулятивному среднему чеку и кумулятивной конверсии сегмент B стабильно лидирует;\n",
    "- По относительному изменению кумулятивной конверсии группа B лидирует уже спустя месяц от начала теста и довольно быстро зафиксировалась около прироста в 10% относительно группы A;\n",
    "- В основном пользователи совершают не более двух заказов;\n",
    "- Стоимость заказа чаще всего не превышает 28 000.\n",
    "\n",
    "**Решение по результатам теста**    \n",
    "Подсчет статистической значимости показал, что конверсия группы B больше (и на сырых, и на очищенных данных), статистически значимых различий между средними чеками групп А и В нет.   \n",
    "Останавливаем тест, зафиксировав победу группы B."
   ]
  }
 ],
 "metadata": {
  "ExecuteTimeLog": [
   {
    "duration": 1477,
    "start_time": "2021-08-03T12:59:17.428Z"
   },
   {
    "duration": 73,
    "start_time": "2021-08-03T12:59:47.048Z"
   },
   {
    "duration": 19,
    "start_time": "2021-08-03T13:00:26.486Z"
   },
   {
    "duration": 10,
    "start_time": "2021-08-03T13:00:37.035Z"
   },
   {
    "duration": 8,
    "start_time": "2021-08-03T13:00:46.709Z"
   },
   {
    "duration": 8,
    "start_time": "2021-08-03T13:02:11.273Z"
   },
   {
    "duration": 8,
    "start_time": "2021-08-03T13:02:34.345Z"
   },
   {
    "duration": 12,
    "start_time": "2021-08-03T13:02:50.912Z"
   },
   {
    "duration": 9,
    "start_time": "2021-08-03T13:03:17.846Z"
   },
   {
    "duration": 8,
    "start_time": "2021-08-03T13:03:28.321Z"
   },
   {
    "duration": 8,
    "start_time": "2021-08-03T13:03:36.288Z"
   },
   {
    "duration": 12,
    "start_time": "2021-08-03T13:05:09.716Z"
   },
   {
    "duration": 9,
    "start_time": "2021-08-03T13:05:20.746Z"
   },
   {
    "duration": 8,
    "start_time": "2021-08-03T13:05:31.745Z"
   },
   {
    "duration": 7,
    "start_time": "2021-08-03T13:05:41.906Z"
   },
   {
    "duration": 4,
    "start_time": "2021-08-03T13:05:46.331Z"
   },
   {
    "duration": 76,
    "start_time": "2021-08-03T13:05:46.338Z"
   },
   {
    "duration": 10,
    "start_time": "2021-08-03T13:05:46.418Z"
   },
   {
    "duration": 10,
    "start_time": "2021-08-03T13:05:46.432Z"
   },
   {
    "duration": 8,
    "start_time": "2021-08-03T13:05:46.445Z"
   },
   {
    "duration": 11,
    "start_time": "2021-08-03T13:05:46.455Z"
   },
   {
    "duration": 40,
    "start_time": "2021-08-03T13:05:46.468Z"
   },
   {
    "duration": 8,
    "start_time": "2021-08-03T13:05:46.510Z"
   },
   {
    "duration": 9,
    "start_time": "2021-08-03T13:05:46.521Z"
   },
   {
    "duration": 13,
    "start_time": "2021-08-03T13:05:46.533Z"
   },
   {
    "duration": 16,
    "start_time": "2021-08-03T13:05:46.549Z"
   },
   {
    "duration": 8,
    "start_time": "2021-08-03T13:05:46.600Z"
   },
   {
    "duration": 9,
    "start_time": "2021-08-03T13:05:46.611Z"
   },
   {
    "duration": 8,
    "start_time": "2021-08-03T13:05:46.622Z"
   },
   {
    "duration": 4,
    "start_time": "2021-08-03T13:10:19.465Z"
   },
   {
    "duration": 14,
    "start_time": "2021-08-03T13:10:32.478Z"
   },
   {
    "duration": 20,
    "start_time": "2021-08-03T13:12:35.311Z"
   },
   {
    "duration": 18,
    "start_time": "2021-08-03T13:12:47.180Z"
   },
   {
    "duration": 12,
    "start_time": "2021-08-03T13:13:22.160Z"
   },
   {
    "duration": 21,
    "start_time": "2021-08-03T13:13:22.503Z"
   },
   {
    "duration": 13,
    "start_time": "2021-08-03T13:13:29.503Z"
   },
   {
    "duration": 11,
    "start_time": "2021-08-03T13:17:30.591Z"
   },
   {
    "duration": 12,
    "start_time": "2021-08-03T13:18:34.584Z"
   },
   {
    "duration": 4,
    "start_time": "2021-08-03T13:20:50.140Z"
   },
   {
    "duration": 80,
    "start_time": "2021-08-03T13:20:50.146Z"
   },
   {
    "duration": 9,
    "start_time": "2021-08-03T13:20:50.229Z"
   },
   {
    "duration": 8,
    "start_time": "2021-08-03T13:20:50.241Z"
   },
   {
    "duration": 9,
    "start_time": "2021-08-03T13:20:50.251Z"
   },
   {
    "duration": 9,
    "start_time": "2021-08-03T13:20:50.262Z"
   },
   {
    "duration": 29,
    "start_time": "2021-08-03T13:20:50.273Z"
   },
   {
    "duration": 10,
    "start_time": "2021-08-03T13:20:50.304Z"
   },
   {
    "duration": 9,
    "start_time": "2021-08-03T13:20:50.317Z"
   },
   {
    "duration": 11,
    "start_time": "2021-08-03T13:20:50.328Z"
   },
   {
    "duration": 12,
    "start_time": "2021-08-03T13:20:50.341Z"
   },
   {
    "duration": 51,
    "start_time": "2021-08-03T13:20:50.355Z"
   },
   {
    "duration": 9,
    "start_time": "2021-08-03T13:20:50.409Z"
   },
   {
    "duration": 10,
    "start_time": "2021-08-03T13:20:50.421Z"
   },
   {
    "duration": 14,
    "start_time": "2021-08-03T13:20:50.433Z"
   },
   {
    "duration": 58,
    "start_time": "2021-08-03T13:20:50.450Z"
   },
   {
    "duration": 15,
    "start_time": "2021-08-03T13:20:50.510Z"
   },
   {
    "duration": 12,
    "start_time": "2021-08-03T13:20:50.527Z"
   },
   {
    "duration": 21,
    "start_time": "2021-08-03T13:27:14.491Z"
   },
   {
    "duration": 16,
    "start_time": "2021-08-03T13:29:10.934Z"
   },
   {
    "duration": 18,
    "start_time": "2021-08-03T13:29:27.413Z"
   },
   {
    "duration": 6,
    "start_time": "2021-08-03T13:38:02.780Z"
   },
   {
    "duration": 86,
    "start_time": "2021-08-03T13:38:02.789Z"
   },
   {
    "duration": 11,
    "start_time": "2021-08-03T13:38:02.878Z"
   },
   {
    "duration": 26,
    "start_time": "2021-08-03T13:38:02.892Z"
   },
   {
    "duration": 22,
    "start_time": "2021-08-03T13:38:02.921Z"
   },
   {
    "duration": 34,
    "start_time": "2021-08-03T13:38:02.946Z"
   },
   {
    "duration": 55,
    "start_time": "2021-08-03T13:38:02.984Z"
   },
   {
    "duration": 32,
    "start_time": "2021-08-03T13:38:03.042Z"
   },
   {
    "duration": 17,
    "start_time": "2021-08-03T13:38:03.080Z"
   },
   {
    "duration": 20,
    "start_time": "2021-08-03T13:38:03.105Z"
   },
   {
    "duration": 12,
    "start_time": "2021-08-03T13:38:03.128Z"
   },
   {
    "duration": 15,
    "start_time": "2021-08-03T13:38:03.142Z"
   },
   {
    "duration": 18,
    "start_time": "2021-08-03T13:38:03.160Z"
   },
   {
    "duration": 27,
    "start_time": "2021-08-03T13:38:03.180Z"
   },
   {
    "duration": 13,
    "start_time": "2021-08-03T13:38:03.213Z"
   },
   {
    "duration": 15,
    "start_time": "2021-08-03T13:38:03.229Z"
   },
   {
    "duration": 54,
    "start_time": "2021-08-03T13:38:03.247Z"
   },
   {
    "duration": 29,
    "start_time": "2021-08-03T13:38:03.303Z"
   },
   {
    "duration": 29,
    "start_time": "2021-08-03T13:38:03.335Z"
   },
   {
    "duration": 39,
    "start_time": "2021-08-03T13:38:03.366Z"
   },
   {
    "duration": 2189,
    "start_time": "2021-08-03T18:51:39.876Z"
   },
   {
    "duration": 79,
    "start_time": "2021-08-03T18:51:42.069Z"
   },
   {
    "duration": 16,
    "start_time": "2021-08-03T18:51:42.151Z"
   },
   {
    "duration": 17,
    "start_time": "2021-08-03T18:51:42.170Z"
   },
   {
    "duration": 12,
    "start_time": "2021-08-03T18:51:42.190Z"
   },
   {
    "duration": 12,
    "start_time": "2021-08-03T18:51:42.204Z"
   },
   {
    "duration": 14,
    "start_time": "2021-08-03T18:51:42.218Z"
   },
   {
    "duration": 11,
    "start_time": "2021-08-03T18:51:42.235Z"
   },
   {
    "duration": 36,
    "start_time": "2021-08-03T18:51:42.250Z"
   },
   {
    "duration": 8,
    "start_time": "2021-08-03T18:51:42.288Z"
   },
   {
    "duration": 25,
    "start_time": "2021-08-03T18:51:42.298Z"
   },
   {
    "duration": 14,
    "start_time": "2021-08-03T18:51:42.326Z"
   },
   {
    "duration": 13,
    "start_time": "2021-08-03T18:51:42.343Z"
   },
   {
    "duration": 33,
    "start_time": "2021-08-03T18:51:42.358Z"
   },
   {
    "duration": 15,
    "start_time": "2021-08-03T18:51:42.393Z"
   },
   {
    "duration": 19,
    "start_time": "2021-08-03T18:51:42.411Z"
   },
   {
    "duration": 24,
    "start_time": "2021-08-03T18:51:42.432Z"
   },
   {
    "duration": 34,
    "start_time": "2021-08-03T18:51:42.459Z"
   },
   {
    "duration": 28,
    "start_time": "2021-08-03T18:51:42.496Z"
   },
   {
    "duration": 18,
    "start_time": "2021-08-03T18:51:42.526Z"
   },
   {
    "duration": 965,
    "start_time": "2021-08-03T18:57:36.831Z"
   },
   {
    "duration": 9,
    "start_time": "2021-08-03T18:57:57.462Z"
   },
   {
    "duration": 8,
    "start_time": "2021-08-03T18:58:11.605Z"
   },
   {
    "duration": 5,
    "start_time": "2021-08-03T18:58:24.887Z"
   },
   {
    "duration": 77,
    "start_time": "2021-08-03T18:58:24.895Z"
   },
   {
    "duration": 11,
    "start_time": "2021-08-03T18:58:24.976Z"
   },
   {
    "duration": 16,
    "start_time": "2021-08-03T18:58:24.990Z"
   },
   {
    "duration": 16,
    "start_time": "2021-08-03T18:58:25.009Z"
   },
   {
    "duration": 17,
    "start_time": "2021-08-03T18:58:25.028Z"
   },
   {
    "duration": 44,
    "start_time": "2021-08-03T18:58:25.049Z"
   },
   {
    "duration": 11,
    "start_time": "2021-08-03T18:58:25.098Z"
   },
   {
    "duration": 11,
    "start_time": "2021-08-03T18:58:25.112Z"
   },
   {
    "duration": 10,
    "start_time": "2021-08-03T18:58:25.126Z"
   },
   {
    "duration": 12,
    "start_time": "2021-08-03T18:58:25.139Z"
   },
   {
    "duration": 9,
    "start_time": "2021-08-03T18:58:25.186Z"
   },
   {
    "duration": 15,
    "start_time": "2021-08-03T18:58:25.197Z"
   },
   {
    "duration": 15,
    "start_time": "2021-08-03T18:58:25.215Z"
   },
   {
    "duration": 22,
    "start_time": "2021-08-03T18:58:25.232Z"
   },
   {
    "duration": 34,
    "start_time": "2021-08-03T18:58:25.257Z"
   },
   {
    "duration": 14,
    "start_time": "2021-08-03T18:58:25.293Z"
   },
   {
    "duration": 14,
    "start_time": "2021-08-03T18:58:25.309Z"
   },
   {
    "duration": 17,
    "start_time": "2021-08-03T18:58:25.325Z"
   },
   {
    "duration": 55,
    "start_time": "2021-08-03T18:58:25.345Z"
   },
   {
    "duration": 9,
    "start_time": "2021-08-03T18:58:25.403Z"
   },
   {
    "duration": 12,
    "start_time": "2021-08-03T18:58:25.414Z"
   },
   {
    "duration": 112,
    "start_time": "2021-08-03T19:00:31.731Z"
   },
   {
    "duration": 9,
    "start_time": "2021-08-03T19:00:34.910Z"
   },
   {
    "duration": 1373,
    "start_time": "2021-08-03T20:56:13.526Z"
   },
   {
    "duration": 5,
    "start_time": "2021-08-03T20:56:40.586Z"
   },
   {
    "duration": 102,
    "start_time": "2021-08-03T20:56:40.593Z"
   },
   {
    "duration": 10,
    "start_time": "2021-08-03T20:56:40.698Z"
   },
   {
    "duration": 14,
    "start_time": "2021-08-03T20:56:40.711Z"
   },
   {
    "duration": 12,
    "start_time": "2021-08-03T20:56:40.728Z"
   },
   {
    "duration": 15,
    "start_time": "2021-08-03T20:56:40.742Z"
   },
   {
    "duration": 29,
    "start_time": "2021-08-03T20:56:40.759Z"
   },
   {
    "duration": 10,
    "start_time": "2021-08-03T20:56:40.792Z"
   },
   {
    "duration": 12,
    "start_time": "2021-08-03T20:56:40.805Z"
   },
   {
    "duration": 12,
    "start_time": "2021-08-03T20:56:40.819Z"
   },
   {
    "duration": 11,
    "start_time": "2021-08-03T20:56:40.834Z"
   },
   {
    "duration": 54,
    "start_time": "2021-08-03T20:56:40.847Z"
   },
   {
    "duration": 12,
    "start_time": "2021-08-03T20:56:40.903Z"
   },
   {
    "duration": 11,
    "start_time": "2021-08-03T20:56:40.918Z"
   },
   {
    "duration": 13,
    "start_time": "2021-08-03T20:56:40.931Z"
   },
   {
    "duration": 38,
    "start_time": "2021-08-03T20:56:40.947Z"
   },
   {
    "duration": 14,
    "start_time": "2021-08-03T20:56:40.988Z"
   },
   {
    "duration": 15,
    "start_time": "2021-08-03T20:56:41.004Z"
   },
   {
    "duration": 24,
    "start_time": "2021-08-03T20:56:41.021Z"
   },
   {
    "duration": 46,
    "start_time": "2021-08-03T20:56:41.048Z"
   },
   {
    "duration": 1391,
    "start_time": "2021-08-03T20:56:41.097Z"
   },
   {
    "duration": 4,
    "start_time": "2021-08-03T20:57:33.418Z"
   },
   {
    "duration": 90,
    "start_time": "2021-08-03T20:57:33.425Z"
   },
   {
    "duration": 9,
    "start_time": "2021-08-03T20:57:33.518Z"
   },
   {
    "duration": 14,
    "start_time": "2021-08-03T20:57:33.530Z"
   },
   {
    "duration": 11,
    "start_time": "2021-08-03T20:57:33.547Z"
   },
   {
    "duration": 12,
    "start_time": "2021-08-03T20:57:33.561Z"
   },
   {
    "duration": 18,
    "start_time": "2021-08-03T20:57:33.577Z"
   },
   {
    "duration": 15,
    "start_time": "2021-08-03T20:57:33.598Z"
   },
   {
    "duration": 10,
    "start_time": "2021-08-03T20:57:33.616Z"
   },
   {
    "duration": 16,
    "start_time": "2021-08-03T20:57:33.629Z"
   },
   {
    "duration": 38,
    "start_time": "2021-08-03T20:57:33.647Z"
   },
   {
    "duration": 9,
    "start_time": "2021-08-03T20:57:33.688Z"
   },
   {
    "duration": 58,
    "start_time": "2021-08-03T20:57:33.699Z"
   },
   {
    "duration": 15,
    "start_time": "2021-08-03T20:57:33.760Z"
   },
   {
    "duration": 23,
    "start_time": "2021-08-03T20:57:33.778Z"
   },
   {
    "duration": 35,
    "start_time": "2021-08-03T20:57:33.804Z"
   },
   {
    "duration": 18,
    "start_time": "2021-08-03T20:57:33.842Z"
   },
   {
    "duration": 32,
    "start_time": "2021-08-03T20:57:33.862Z"
   },
   {
    "duration": 34,
    "start_time": "2021-08-03T20:57:33.898Z"
   },
   {
    "duration": 28,
    "start_time": "2021-08-03T20:57:33.934Z"
   },
   {
    "duration": 1404,
    "start_time": "2021-08-03T20:57:33.965Z"
   },
   {
    "duration": 4,
    "start_time": "2021-08-03T20:58:01.258Z"
   },
   {
    "duration": 83,
    "start_time": "2021-08-03T20:58:01.266Z"
   },
   {
    "duration": 10,
    "start_time": "2021-08-03T20:58:01.353Z"
   },
   {
    "duration": 15,
    "start_time": "2021-08-03T20:58:01.367Z"
   },
   {
    "duration": 14,
    "start_time": "2021-08-03T20:58:01.385Z"
   },
   {
    "duration": 8,
    "start_time": "2021-08-03T20:58:01.402Z"
   },
   {
    "duration": 16,
    "start_time": "2021-08-03T20:58:01.413Z"
   },
   {
    "duration": 22,
    "start_time": "2021-08-03T20:58:01.433Z"
   },
   {
    "duration": 29,
    "start_time": "2021-08-03T20:58:01.457Z"
   },
   {
    "duration": 10,
    "start_time": "2021-08-03T20:58:01.489Z"
   },
   {
    "duration": 23,
    "start_time": "2021-08-03T20:58:01.502Z"
   },
   {
    "duration": 29,
    "start_time": "2021-08-03T20:58:01.528Z"
   },
   {
    "duration": 30,
    "start_time": "2021-08-03T20:58:01.560Z"
   },
   {
    "duration": 28,
    "start_time": "2021-08-03T20:58:01.592Z"
   },
   {
    "duration": 18,
    "start_time": "2021-08-03T20:58:01.622Z"
   },
   {
    "duration": 45,
    "start_time": "2021-08-03T20:58:01.642Z"
   },
   {
    "duration": 27,
    "start_time": "2021-08-03T20:58:01.690Z"
   },
   {
    "duration": 31,
    "start_time": "2021-08-03T20:58:01.719Z"
   },
   {
    "duration": 21,
    "start_time": "2021-08-03T20:58:01.752Z"
   },
   {
    "duration": 41,
    "start_time": "2021-08-03T20:58:01.775Z"
   },
   {
    "duration": 296,
    "start_time": "2021-08-03T20:58:52.078Z"
   },
   {
    "duration": 8,
    "start_time": "2021-08-03T20:58:57.111Z"
   },
   {
    "duration": 356,
    "start_time": "2021-08-03T21:02:46.304Z"
   },
   {
    "duration": 270,
    "start_time": "2021-08-03T21:03:59.201Z"
   },
   {
    "duration": 10,
    "start_time": "2021-08-03T21:09:23.508Z"
   },
   {
    "duration": 287,
    "start_time": "2021-08-03T21:09:50.727Z"
   },
   {
    "duration": 4,
    "start_time": "2021-08-03T21:09:59.260Z"
   },
   {
    "duration": 71,
    "start_time": "2021-08-03T21:09:59.267Z"
   },
   {
    "duration": 10,
    "start_time": "2021-08-03T21:09:59.341Z"
   },
   {
    "duration": 19,
    "start_time": "2021-08-03T21:09:59.354Z"
   },
   {
    "duration": 12,
    "start_time": "2021-08-03T21:09:59.376Z"
   },
   {
    "duration": 14,
    "start_time": "2021-08-03T21:09:59.391Z"
   },
   {
    "duration": 12,
    "start_time": "2021-08-03T21:09:59.408Z"
   },
   {
    "duration": 10,
    "start_time": "2021-08-03T21:09:59.422Z"
   },
   {
    "duration": 7,
    "start_time": "2021-08-03T21:09:59.436Z"
   },
   {
    "duration": 43,
    "start_time": "2021-08-03T21:09:59.446Z"
   },
   {
    "duration": 11,
    "start_time": "2021-08-03T21:09:59.492Z"
   },
   {
    "duration": 9,
    "start_time": "2021-08-03T21:09:59.506Z"
   },
   {
    "duration": 9,
    "start_time": "2021-08-03T21:09:59.517Z"
   },
   {
    "duration": 9,
    "start_time": "2021-08-03T21:09:59.529Z"
   },
   {
    "duration": 53,
    "start_time": "2021-08-03T21:09:59.541Z"
   },
   {
    "duration": 27,
    "start_time": "2021-08-03T21:09:59.596Z"
   },
   {
    "duration": 14,
    "start_time": "2021-08-03T21:09:59.625Z"
   },
   {
    "duration": 46,
    "start_time": "2021-08-03T21:09:59.641Z"
   },
   {
    "duration": 17,
    "start_time": "2021-08-03T21:09:59.689Z"
   },
   {
    "duration": 19,
    "start_time": "2021-08-03T21:09:59.708Z"
   },
   {
    "duration": 8,
    "start_time": "2021-08-03T21:09:59.730Z"
   },
   {
    "duration": 390,
    "start_time": "2021-08-03T21:09:59.741Z"
   },
   {
    "duration": 279,
    "start_time": "2021-08-03T21:10:00.134Z"
   },
   {
    "duration": 10,
    "start_time": "2021-08-03T21:10:00.415Z"
   },
   {
    "duration": 320,
    "start_time": "2021-08-03T21:10:00.427Z"
   },
   {
    "duration": 14,
    "start_time": "2021-08-03T21:10:09.058Z"
   },
   {
    "duration": 96,
    "start_time": "2021-08-03T21:12:25.007Z"
   },
   {
    "duration": 11,
    "start_time": "2021-08-03T21:13:15.958Z"
   },
   {
    "duration": 314,
    "start_time": "2021-08-03T21:15:12.740Z"
   },
   {
    "duration": 590,
    "start_time": "2021-08-03T21:16:39.787Z"
   },
   {
    "duration": 336,
    "start_time": "2021-08-03T21:16:49.352Z"
   },
   {
    "duration": 378,
    "start_time": "2021-08-03T21:16:59.739Z"
   },
   {
    "duration": 315,
    "start_time": "2021-08-03T21:18:31.054Z"
   },
   {
    "duration": 384,
    "start_time": "2021-08-03T21:18:58.942Z"
   },
   {
    "duration": 393,
    "start_time": "2021-08-03T21:20:04.570Z"
   },
   {
    "duration": 522,
    "start_time": "2021-08-03T21:20:15.439Z"
   },
   {
    "duration": 355,
    "start_time": "2021-08-03T21:20:24.402Z"
   },
   {
    "duration": 797,
    "start_time": "2021-08-03T21:20:42.561Z"
   },
   {
    "duration": 378,
    "start_time": "2021-08-03T21:20:53.910Z"
   },
   {
    "duration": 413,
    "start_time": "2021-08-03T21:22:18.101Z"
   },
   {
    "duration": 389,
    "start_time": "2021-08-03T21:23:44.820Z"
   },
   {
    "duration": 359,
    "start_time": "2021-08-03T21:24:00.462Z"
   },
   {
    "duration": 384,
    "start_time": "2021-08-03T21:24:14.887Z"
   },
   {
    "duration": 407,
    "start_time": "2021-08-03T21:25:25.362Z"
   },
   {
    "duration": 389,
    "start_time": "2021-08-03T21:38:24.697Z"
   },
   {
    "duration": 4,
    "start_time": "2021-08-03T21:41:47.591Z"
   },
   {
    "duration": 87,
    "start_time": "2021-08-03T21:41:47.597Z"
   },
   {
    "duration": 11,
    "start_time": "2021-08-03T21:41:47.687Z"
   },
   {
    "duration": 19,
    "start_time": "2021-08-03T21:41:47.701Z"
   },
   {
    "duration": 15,
    "start_time": "2021-08-03T21:41:47.723Z"
   },
   {
    "duration": 14,
    "start_time": "2021-08-03T21:41:47.740Z"
   },
   {
    "duration": 34,
    "start_time": "2021-08-03T21:41:47.756Z"
   },
   {
    "duration": 19,
    "start_time": "2021-08-03T21:41:47.792Z"
   },
   {
    "duration": 7,
    "start_time": "2021-08-03T21:41:47.908Z"
   },
   {
    "duration": 13,
    "start_time": "2021-08-03T21:41:47.918Z"
   },
   {
    "duration": 17,
    "start_time": "2021-08-03T21:41:47.934Z"
   },
   {
    "duration": 32,
    "start_time": "2021-08-03T21:41:47.954Z"
   },
   {
    "duration": 18,
    "start_time": "2021-08-03T21:41:47.989Z"
   },
   {
    "duration": 13,
    "start_time": "2021-08-03T21:41:48.009Z"
   },
   {
    "duration": 18,
    "start_time": "2021-08-03T21:41:48.025Z"
   },
   {
    "duration": 40,
    "start_time": "2021-08-03T21:41:48.046Z"
   },
   {
    "duration": 14,
    "start_time": "2021-08-03T21:41:48.088Z"
   },
   {
    "duration": 16,
    "start_time": "2021-08-03T21:41:48.105Z"
   },
   {
    "duration": 26,
    "start_time": "2021-08-03T21:41:48.124Z"
   },
   {
    "duration": 46,
    "start_time": "2021-08-03T21:41:48.152Z"
   },
   {
    "duration": 17,
    "start_time": "2021-08-03T21:41:48.200Z"
   },
   {
    "duration": 371,
    "start_time": "2021-08-03T21:41:48.219Z"
   },
   {
    "duration": 279,
    "start_time": "2021-08-03T21:41:48.592Z"
   },
   {
    "duration": 10,
    "start_time": "2021-08-03T21:41:48.885Z"
   },
   {
    "duration": 29,
    "start_time": "2021-08-03T21:41:48.898Z"
   },
   {
    "duration": 15,
    "start_time": "2021-08-03T21:41:48.930Z"
   },
   {
    "duration": 401,
    "start_time": "2021-08-03T21:41:48.949Z"
   },
   {
    "duration": 391,
    "start_time": "2021-08-03T21:41:49.353Z"
   },
   {
    "duration": 10,
    "start_time": "2021-08-03T21:43:51.561Z"
   },
   {
    "duration": 9,
    "start_time": "2021-08-03T21:44:45.635Z"
   },
   {
    "duration": 21,
    "start_time": "2021-08-03T21:46:03.290Z"
   },
   {
    "duration": 12,
    "start_time": "2021-08-03T21:46:10.032Z"
   },
   {
    "duration": 479,
    "start_time": "2021-08-03T21:50:17.534Z"
   },
   {
    "duration": 470,
    "start_time": "2021-08-03T21:50:53.094Z"
   },
   {
    "duration": 469,
    "start_time": "2021-08-03T21:57:29.325Z"
   },
   {
    "duration": 6,
    "start_time": "2021-08-03T22:00:41.017Z"
   },
   {
    "duration": 74,
    "start_time": "2021-08-03T22:00:41.026Z"
   },
   {
    "duration": 10,
    "start_time": "2021-08-03T22:00:41.103Z"
   },
   {
    "duration": 18,
    "start_time": "2021-08-03T22:00:41.116Z"
   },
   {
    "duration": 9,
    "start_time": "2021-08-03T22:00:41.137Z"
   },
   {
    "duration": 11,
    "start_time": "2021-08-03T22:00:41.147Z"
   },
   {
    "duration": 26,
    "start_time": "2021-08-03T22:00:41.160Z"
   },
   {
    "duration": 9,
    "start_time": "2021-08-03T22:00:41.189Z"
   },
   {
    "duration": 8,
    "start_time": "2021-08-03T22:00:41.202Z"
   },
   {
    "duration": 10,
    "start_time": "2021-08-03T22:00:41.213Z"
   },
   {
    "duration": 13,
    "start_time": "2021-08-03T22:00:41.226Z"
   },
   {
    "duration": 47,
    "start_time": "2021-08-03T22:00:41.241Z"
   },
   {
    "duration": 15,
    "start_time": "2021-08-03T22:00:41.290Z"
   },
   {
    "duration": 15,
    "start_time": "2021-08-03T22:00:41.307Z"
   },
   {
    "duration": 19,
    "start_time": "2021-08-03T22:00:41.324Z"
   },
   {
    "duration": 44,
    "start_time": "2021-08-03T22:00:41.346Z"
   },
   {
    "duration": 13,
    "start_time": "2021-08-03T22:00:41.393Z"
   },
   {
    "duration": 12,
    "start_time": "2021-08-03T22:00:41.409Z"
   },
   {
    "duration": 20,
    "start_time": "2021-08-03T22:00:41.424Z"
   },
   {
    "duration": 50,
    "start_time": "2021-08-03T22:00:41.447Z"
   },
   {
    "duration": 10,
    "start_time": "2021-08-03T22:00:41.499Z"
   },
   {
    "duration": 350,
    "start_time": "2021-08-03T22:00:41.511Z"
   },
   {
    "duration": 275,
    "start_time": "2021-08-03T22:00:41.863Z"
   },
   {
    "duration": 9,
    "start_time": "2021-08-03T22:00:42.140Z"
   },
   {
    "duration": 33,
    "start_time": "2021-08-03T22:00:42.152Z"
   },
   {
    "duration": 10,
    "start_time": "2021-08-03T22:00:42.188Z"
   },
   {
    "duration": 377,
    "start_time": "2021-08-03T22:00:42.202Z"
   },
   {
    "duration": 372,
    "start_time": "2021-08-03T22:00:42.581Z"
   },
   {
    "duration": 29,
    "start_time": "2021-08-03T22:00:42.956Z"
   },
   {
    "duration": 482,
    "start_time": "2021-08-03T22:00:42.988Z"
   },
   {
    "duration": 5,
    "start_time": "2021-08-03T22:06:58.059Z"
   },
   {
    "duration": 7,
    "start_time": "2021-08-03T22:08:16.117Z"
   },
   {
    "duration": 380,
    "start_time": "2021-08-03T22:11:28.569Z"
   },
   {
    "duration": 662,
    "start_time": "2021-08-03T22:11:35.354Z"
   },
   {
    "duration": 373,
    "start_time": "2021-08-03T22:11:42.763Z"
   },
   {
    "duration": 370,
    "start_time": "2021-08-03T22:13:27.625Z"
   },
   {
    "duration": 309,
    "start_time": "2021-08-03T22:13:29.841Z"
   },
   {
    "duration": 365,
    "start_time": "2021-08-03T22:13:44.582Z"
   },
   {
    "duration": 337,
    "start_time": "2021-08-03T22:14:02.439Z"
   },
   {
    "duration": 93,
    "start_time": "2021-08-03T22:21:34.363Z"
   },
   {
    "duration": 12,
    "start_time": "2021-08-03T22:21:40.164Z"
   },
   {
    "duration": 466,
    "start_time": "2021-08-03T22:26:52.441Z"
   },
   {
    "duration": 459,
    "start_time": "2021-08-03T22:27:57.085Z"
   },
   {
    "duration": 4,
    "start_time": "2021-08-03T22:30:36.389Z"
   },
   {
    "duration": 92,
    "start_time": "2021-08-03T22:30:36.396Z"
   },
   {
    "duration": 78,
    "start_time": "2021-08-03T22:30:36.491Z"
   },
   {
    "duration": 81,
    "start_time": "2021-08-03T22:30:36.571Z"
   },
   {
    "duration": 17,
    "start_time": "2021-08-03T22:30:36.655Z"
   },
   {
    "duration": 28,
    "start_time": "2021-08-03T22:30:36.674Z"
   },
   {
    "duration": 20,
    "start_time": "2021-08-03T22:30:36.704Z"
   },
   {
    "duration": 15,
    "start_time": "2021-08-03T22:30:36.726Z"
   },
   {
    "duration": 7,
    "start_time": "2021-08-03T22:30:36.747Z"
   },
   {
    "duration": 19,
    "start_time": "2021-08-03T22:30:36.757Z"
   },
   {
    "duration": 20,
    "start_time": "2021-08-03T22:30:36.778Z"
   },
   {
    "duration": 17,
    "start_time": "2021-08-03T22:30:36.801Z"
   },
   {
    "duration": 16,
    "start_time": "2021-08-03T22:30:36.820Z"
   },
   {
    "duration": 20,
    "start_time": "2021-08-03T22:30:36.838Z"
   },
   {
    "duration": 16,
    "start_time": "2021-08-03T22:30:36.860Z"
   },
   {
    "duration": 182,
    "start_time": "2021-08-03T22:30:36.878Z"
   },
   {
    "duration": 17,
    "start_time": "2021-08-03T22:30:37.062Z"
   },
   {
    "duration": 15,
    "start_time": "2021-08-03T22:30:37.082Z"
   },
   {
    "duration": 16,
    "start_time": "2021-08-03T22:30:37.099Z"
   },
   {
    "duration": 22,
    "start_time": "2021-08-03T22:30:37.117Z"
   },
   {
    "duration": 12,
    "start_time": "2021-08-03T22:30:37.142Z"
   },
   {
    "duration": 371,
    "start_time": "2021-08-03T22:30:37.157Z"
   },
   {
    "duration": 262,
    "start_time": "2021-08-03T22:30:37.531Z"
   },
   {
    "duration": 9,
    "start_time": "2021-08-03T22:30:37.796Z"
   },
   {
    "duration": 21,
    "start_time": "2021-08-03T22:30:37.808Z"
   },
   {
    "duration": 12,
    "start_time": "2021-08-03T22:30:37.832Z"
   },
   {
    "duration": 389,
    "start_time": "2021-08-03T22:30:37.851Z"
   },
   {
    "duration": 367,
    "start_time": "2021-08-03T22:30:38.244Z"
   },
   {
    "duration": 10,
    "start_time": "2021-08-03T22:30:38.615Z"
   },
   {
    "duration": 455,
    "start_time": "2021-08-03T22:30:38.627Z"
   },
   {
    "duration": 5,
    "start_time": "2021-08-03T22:30:39.086Z"
   },
   {
    "duration": 11,
    "start_time": "2021-08-03T22:30:39.094Z"
   },
   {
    "duration": 336,
    "start_time": "2021-08-03T22:30:39.107Z"
   },
   {
    "duration": 13,
    "start_time": "2021-08-03T22:30:39.446Z"
   },
   {
    "duration": 561,
    "start_time": "2021-08-03T22:30:39.462Z"
   },
   {
    "duration": 333,
    "start_time": "2021-08-03T22:37:35.862Z"
   },
   {
    "duration": 194,
    "start_time": "2021-08-03T22:38:06.941Z"
   },
   {
    "duration": 12,
    "start_time": "2021-08-03T22:38:13.851Z"
   },
   {
    "duration": 193,
    "start_time": "2021-08-03T22:38:23.624Z"
   },
   {
    "duration": 212,
    "start_time": "2021-08-03T22:38:57.078Z"
   },
   {
    "duration": 220,
    "start_time": "2021-08-03T22:39:03.583Z"
   },
   {
    "duration": 280,
    "start_time": "2021-08-03T22:40:22.431Z"
   },
   {
    "duration": 331,
    "start_time": "2021-08-03T22:40:44.071Z"
   },
   {
    "duration": 619,
    "start_time": "2021-08-03T22:40:46.985Z"
   },
   {
    "duration": 299,
    "start_time": "2021-08-03T22:41:13.342Z"
   },
   {
    "duration": 383,
    "start_time": "2021-08-03T22:41:20.668Z"
   },
   {
    "duration": 341,
    "start_time": "2021-08-03T22:42:59.031Z"
   },
   {
    "duration": 356,
    "start_time": "2021-08-03T22:44:22.127Z"
   },
   {
    "duration": 344,
    "start_time": "2021-08-03T22:45:25.250Z"
   },
   {
    "duration": 381,
    "start_time": "2021-08-03T22:45:49.336Z"
   },
   {
    "duration": 406,
    "start_time": "2021-08-03T22:46:46.242Z"
   },
   {
    "duration": 395,
    "start_time": "2021-08-03T22:46:57.141Z"
   },
   {
    "duration": 426,
    "start_time": "2021-08-03T22:47:48.497Z"
   },
   {
    "duration": 4,
    "start_time": "2021-08-03T22:50:35.572Z"
   },
   {
    "duration": 74,
    "start_time": "2021-08-03T22:50:35.578Z"
   },
   {
    "duration": 10,
    "start_time": "2021-08-03T22:50:35.655Z"
   },
   {
    "duration": 17,
    "start_time": "2021-08-03T22:50:35.668Z"
   },
   {
    "duration": 12,
    "start_time": "2021-08-03T22:50:35.688Z"
   },
   {
    "duration": 11,
    "start_time": "2021-08-03T22:50:35.703Z"
   },
   {
    "duration": 39,
    "start_time": "2021-08-03T22:50:35.716Z"
   },
   {
    "duration": 21,
    "start_time": "2021-08-03T22:50:35.758Z"
   },
   {
    "duration": 106,
    "start_time": "2021-08-03T22:50:35.783Z"
   },
   {
    "duration": 14,
    "start_time": "2021-08-03T22:50:35.892Z"
   },
   {
    "duration": 30,
    "start_time": "2021-08-03T22:50:35.909Z"
   },
   {
    "duration": 26,
    "start_time": "2021-08-03T22:50:35.942Z"
   },
   {
    "duration": 30,
    "start_time": "2021-08-03T22:50:35.971Z"
   },
   {
    "duration": 13,
    "start_time": "2021-08-03T22:50:36.003Z"
   },
   {
    "duration": 19,
    "start_time": "2021-08-03T22:50:36.018Z"
   },
   {
    "duration": 29,
    "start_time": "2021-08-03T22:50:36.039Z"
   },
   {
    "duration": 23,
    "start_time": "2021-08-03T22:50:36.071Z"
   },
   {
    "duration": 11,
    "start_time": "2021-08-03T22:50:36.097Z"
   },
   {
    "duration": 20,
    "start_time": "2021-08-03T22:50:36.111Z"
   },
   {
    "duration": 20,
    "start_time": "2021-08-03T22:50:36.133Z"
   },
   {
    "duration": 8,
    "start_time": "2021-08-03T22:50:36.186Z"
   },
   {
    "duration": 378,
    "start_time": "2021-08-03T22:50:36.197Z"
   },
   {
    "duration": 285,
    "start_time": "2021-08-03T22:50:36.577Z"
   },
   {
    "duration": 20,
    "start_time": "2021-08-03T22:50:36.865Z"
   },
   {
    "duration": 36,
    "start_time": "2021-08-03T22:50:36.889Z"
   },
   {
    "duration": 22,
    "start_time": "2021-08-03T22:50:36.928Z"
   },
   {
    "duration": 393,
    "start_time": "2021-08-03T22:50:36.956Z"
   },
   {
    "duration": 399,
    "start_time": "2021-08-03T22:50:37.353Z"
   },
   {
    "duration": 9,
    "start_time": "2021-08-03T22:50:37.754Z"
   },
   {
    "duration": 503,
    "start_time": "2021-08-03T22:50:37.765Z"
   },
   {
    "duration": 5,
    "start_time": "2021-08-03T22:50:38.270Z"
   },
   {
    "duration": 19,
    "start_time": "2021-08-03T22:50:38.285Z"
   },
   {
    "duration": 363,
    "start_time": "2021-08-03T22:50:38.306Z"
   },
   {
    "duration": 18,
    "start_time": "2021-08-03T22:50:38.671Z"
   },
   {
    "duration": 453,
    "start_time": "2021-08-03T22:50:38.691Z"
   },
   {
    "duration": 210,
    "start_time": "2021-08-03T22:50:39.147Z"
   },
   {
    "duration": 445,
    "start_time": "2021-08-03T22:50:39.360Z"
   },
   {
    "duration": 7,
    "start_time": "2021-08-03T22:53:44.486Z"
   },
   {
    "duration": 4,
    "start_time": "2021-08-03T23:01:46.805Z"
   },
   {
    "duration": 85,
    "start_time": "2021-08-03T23:01:46.811Z"
   },
   {
    "duration": 10,
    "start_time": "2021-08-03T23:01:46.899Z"
   },
   {
    "duration": 18,
    "start_time": "2021-08-03T23:01:46.912Z"
   },
   {
    "duration": 12,
    "start_time": "2021-08-03T23:01:46.932Z"
   },
   {
    "duration": 10,
    "start_time": "2021-08-03T23:01:46.947Z"
   },
   {
    "duration": 28,
    "start_time": "2021-08-03T23:01:46.959Z"
   },
   {
    "duration": 10,
    "start_time": "2021-08-03T23:01:46.990Z"
   },
   {
    "duration": 13,
    "start_time": "2021-08-03T23:01:47.004Z"
   },
   {
    "duration": 22,
    "start_time": "2021-08-03T23:01:47.020Z"
   },
   {
    "duration": 13,
    "start_time": "2021-08-03T23:01:47.044Z"
   },
   {
    "duration": 9,
    "start_time": "2021-08-03T23:01:47.086Z"
   },
   {
    "duration": 18,
    "start_time": "2021-08-03T23:01:47.098Z"
   },
   {
    "duration": 13,
    "start_time": "2021-08-03T23:01:47.118Z"
   },
   {
    "duration": 32,
    "start_time": "2021-08-03T23:01:47.134Z"
   },
   {
    "duration": 47,
    "start_time": "2021-08-03T23:01:47.169Z"
   },
   {
    "duration": 27,
    "start_time": "2021-08-03T23:01:47.218Z"
   },
   {
    "duration": 17,
    "start_time": "2021-08-03T23:01:47.248Z"
   },
   {
    "duration": 28,
    "start_time": "2021-08-03T23:01:47.267Z"
   },
   {
    "duration": 39,
    "start_time": "2021-08-03T23:01:47.298Z"
   },
   {
    "duration": 29,
    "start_time": "2021-08-03T23:01:47.340Z"
   },
   {
    "duration": 350,
    "start_time": "2021-08-03T23:01:47.371Z"
   },
   {
    "duration": 278,
    "start_time": "2021-08-03T23:01:47.723Z"
   },
   {
    "duration": 9,
    "start_time": "2021-08-03T23:01:48.003Z"
   },
   {
    "duration": 33,
    "start_time": "2021-08-03T23:01:48.014Z"
   },
   {
    "duration": 25,
    "start_time": "2021-08-03T23:01:48.049Z"
   },
   {
    "duration": 366,
    "start_time": "2021-08-03T23:01:48.079Z"
   },
   {
    "duration": 386,
    "start_time": "2021-08-03T23:01:48.448Z"
   },
   {
    "duration": 9,
    "start_time": "2021-08-03T23:01:48.837Z"
   },
   {
    "duration": 520,
    "start_time": "2021-08-03T23:01:48.849Z"
   },
   {
    "duration": 13,
    "start_time": "2021-08-03T23:01:49.372Z"
   },
   {
    "duration": 8,
    "start_time": "2021-08-03T23:01:49.387Z"
   },
   {
    "duration": 351,
    "start_time": "2021-08-03T23:01:49.398Z"
   },
   {
    "duration": 13,
    "start_time": "2021-08-03T23:01:49.752Z"
   },
   {
    "duration": 486,
    "start_time": "2021-08-03T23:01:49.767Z"
   },
   {
    "duration": 198,
    "start_time": "2021-08-03T23:01:50.255Z"
   },
   {
    "duration": 558,
    "start_time": "2021-08-03T23:01:50.456Z"
   },
   {
    "duration": 7,
    "start_time": "2021-08-03T23:01:51.016Z"
   },
   {
    "duration": 1087,
    "start_time": "2021-08-04T08:37:24.422Z"
   },
   {
    "duration": 66,
    "start_time": "2021-08-04T08:37:25.511Z"
   },
   {
    "duration": 11,
    "start_time": "2021-08-04T08:37:25.579Z"
   },
   {
    "duration": 6,
    "start_time": "2021-08-04T08:37:25.592Z"
   },
   {
    "duration": 7,
    "start_time": "2021-08-04T08:37:25.600Z"
   },
   {
    "duration": 10,
    "start_time": "2021-08-04T08:37:25.609Z"
   },
   {
    "duration": 10,
    "start_time": "2021-08-04T08:37:25.620Z"
   },
   {
    "duration": 10,
    "start_time": "2021-08-04T08:37:25.632Z"
   },
   {
    "duration": 11,
    "start_time": "2021-08-04T08:37:25.643Z"
   },
   {
    "duration": 10,
    "start_time": "2021-08-04T08:37:25.656Z"
   },
   {
    "duration": 7,
    "start_time": "2021-08-04T08:37:25.685Z"
   },
   {
    "duration": 10,
    "start_time": "2021-08-04T08:37:25.694Z"
   },
   {
    "duration": 9,
    "start_time": "2021-08-04T08:37:25.705Z"
   },
   {
    "duration": 8,
    "start_time": "2021-08-04T08:37:25.716Z"
   },
   {
    "duration": 11,
    "start_time": "2021-08-04T08:37:25.726Z"
   },
   {
    "duration": 20,
    "start_time": "2021-08-04T08:37:25.739Z"
   },
   {
    "duration": 30,
    "start_time": "2021-08-04T08:37:25.761Z"
   },
   {
    "duration": 16,
    "start_time": "2021-08-04T08:37:25.793Z"
   },
   {
    "duration": 20,
    "start_time": "2021-08-04T08:37:25.810Z"
   },
   {
    "duration": 12,
    "start_time": "2021-08-04T08:37:25.831Z"
   },
   {
    "duration": 13,
    "start_time": "2021-08-04T08:37:25.845Z"
   },
   {
    "duration": 210,
    "start_time": "2021-08-04T08:37:25.859Z"
   },
   {
    "duration": 156,
    "start_time": "2021-08-04T08:37:26.072Z"
   },
   {
    "duration": 5,
    "start_time": "2021-08-04T08:37:26.230Z"
   },
   {
    "duration": 15,
    "start_time": "2021-08-04T08:37:26.237Z"
   },
   {
    "duration": 6,
    "start_time": "2021-08-04T08:37:26.254Z"
   },
   {
    "duration": 256,
    "start_time": "2021-08-04T08:37:26.262Z"
   },
   {
    "duration": 242,
    "start_time": "2021-08-04T08:37:26.519Z"
   },
   {
    "duration": 6,
    "start_time": "2021-08-04T08:37:26.762Z"
   },
   {
    "duration": 359,
    "start_time": "2021-08-04T08:37:26.770Z"
   },
   {
    "duration": 5,
    "start_time": "2021-08-04T08:37:27.131Z"
   },
   {
    "duration": 8,
    "start_time": "2021-08-04T08:37:27.137Z"
   },
   {
    "duration": 227,
    "start_time": "2021-08-04T08:37:27.146Z"
   },
   {
    "duration": 13,
    "start_time": "2021-08-04T08:37:27.375Z"
   },
   {
    "duration": 330,
    "start_time": "2021-08-04T08:37:27.390Z"
   },
   {
    "duration": 125,
    "start_time": "2021-08-04T08:37:27.722Z"
   },
   {
    "duration": 338,
    "start_time": "2021-08-04T08:37:27.849Z"
   },
   {
    "duration": 4,
    "start_time": "2021-08-04T08:37:28.189Z"
   },
   {
    "duration": 255,
    "start_time": "2021-08-04T08:41:16.666Z"
   },
   {
    "duration": 193,
    "start_time": "2021-08-04T08:41:30.493Z"
   },
   {
    "duration": 416,
    "start_time": "2021-08-04T08:41:37.568Z"
   },
   {
    "duration": 301,
    "start_time": "2021-08-04T08:42:35.308Z"
   },
   {
    "duration": 297,
    "start_time": "2021-08-04T08:42:54.220Z"
   },
   {
    "duration": 280,
    "start_time": "2021-08-04T08:43:06.326Z"
   },
   {
    "duration": 309,
    "start_time": "2021-08-04T08:46:48.814Z"
   },
   {
    "duration": 309,
    "start_time": "2021-08-04T08:47:12.051Z"
   },
   {
    "duration": 301,
    "start_time": "2021-08-04T08:47:19.210Z"
   },
   {
    "duration": 289,
    "start_time": "2021-08-04T08:47:50.640Z"
   },
   {
    "duration": 313,
    "start_time": "2021-08-04T08:48:17.609Z"
   },
   {
    "duration": 5,
    "start_time": "2021-08-04T08:51:13.568Z"
   },
   {
    "duration": 3,
    "start_time": "2021-08-04T08:54:31.747Z"
   },
   {
    "duration": 73,
    "start_time": "2021-08-04T08:54:31.752Z"
   },
   {
    "duration": 7,
    "start_time": "2021-08-04T08:54:31.827Z"
   },
   {
    "duration": 9,
    "start_time": "2021-08-04T08:54:31.836Z"
   },
   {
    "duration": 7,
    "start_time": "2021-08-04T08:54:31.846Z"
   },
   {
    "duration": 5,
    "start_time": "2021-08-04T08:54:31.855Z"
   },
   {
    "duration": 15,
    "start_time": "2021-08-04T08:54:31.862Z"
   },
   {
    "duration": 15,
    "start_time": "2021-08-04T08:54:31.879Z"
   },
   {
    "duration": 14,
    "start_time": "2021-08-04T08:54:31.896Z"
   },
   {
    "duration": 9,
    "start_time": "2021-08-04T08:54:31.912Z"
   },
   {
    "duration": 7,
    "start_time": "2021-08-04T08:54:31.922Z"
   },
   {
    "duration": 15,
    "start_time": "2021-08-04T08:54:31.930Z"
   },
   {
    "duration": 6,
    "start_time": "2021-08-04T08:54:31.947Z"
   },
   {
    "duration": 8,
    "start_time": "2021-08-04T08:54:31.955Z"
   },
   {
    "duration": 9,
    "start_time": "2021-08-04T08:54:31.965Z"
   },
   {
    "duration": 20,
    "start_time": "2021-08-04T08:54:31.975Z"
   },
   {
    "duration": 17,
    "start_time": "2021-08-04T08:54:31.997Z"
   },
   {
    "duration": 7,
    "start_time": "2021-08-04T08:54:32.015Z"
   },
   {
    "duration": 10,
    "start_time": "2021-08-04T08:54:32.024Z"
   },
   {
    "duration": 13,
    "start_time": "2021-08-04T08:54:32.035Z"
   },
   {
    "duration": 6,
    "start_time": "2021-08-04T08:54:32.049Z"
   },
   {
    "duration": 214,
    "start_time": "2021-08-04T08:54:32.057Z"
   },
   {
    "duration": 150,
    "start_time": "2021-08-04T08:54:32.274Z"
   },
   {
    "duration": 6,
    "start_time": "2021-08-04T08:54:32.425Z"
   },
   {
    "duration": 17,
    "start_time": "2021-08-04T08:54:32.433Z"
   },
   {
    "duration": 6,
    "start_time": "2021-08-04T08:54:32.452Z"
   },
   {
    "duration": 241,
    "start_time": "2021-08-04T08:54:32.460Z"
   },
   {
    "duration": 228,
    "start_time": "2021-08-04T08:54:32.702Z"
   },
   {
    "duration": 5,
    "start_time": "2021-08-04T08:54:32.932Z"
   },
   {
    "duration": 408,
    "start_time": "2021-08-04T08:54:32.939Z"
   },
   {
    "duration": 3,
    "start_time": "2021-08-04T08:54:33.349Z"
   },
   {
    "duration": 7,
    "start_time": "2021-08-04T08:54:33.354Z"
   },
   {
    "duration": 215,
    "start_time": "2021-08-04T08:54:33.362Z"
   },
   {
    "duration": 8,
    "start_time": "2021-08-04T08:54:33.579Z"
   },
   {
    "duration": 327,
    "start_time": "2021-08-04T08:54:33.589Z"
   },
   {
    "duration": 139,
    "start_time": "2021-08-04T08:54:33.917Z"
   },
   {
    "duration": 345,
    "start_time": "2021-08-04T08:54:34.058Z"
   },
   {
    "duration": 5,
    "start_time": "2021-08-04T08:54:34.405Z"
   },
   {
    "duration": 315,
    "start_time": "2021-08-04T08:54:34.412Z"
   },
   {
    "duration": 5,
    "start_time": "2021-08-04T08:54:34.729Z"
   },
   {
    "duration": 3,
    "start_time": "2021-08-04T09:04:20.732Z"
   },
   {
    "duration": 58,
    "start_time": "2021-08-04T09:12:59.656Z"
   },
   {
    "duration": 57,
    "start_time": "2021-08-04T09:13:44.390Z"
   },
   {
    "duration": 225,
    "start_time": "2021-08-04T09:17:04.790Z"
   },
   {
    "duration": 5622,
    "start_time": "2021-08-04T09:17:40.997Z"
   },
   {
    "duration": 74,
    "start_time": "2021-08-04T09:18:05.659Z"
   },
   {
    "duration": 70,
    "start_time": "2021-08-04T09:19:30.276Z"
   },
   {
    "duration": 24,
    "start_time": "2021-08-04T09:21:09.319Z"
   },
   {
    "duration": 3,
    "start_time": "2021-08-04T09:21:22.031Z"
   },
   {
    "duration": 70,
    "start_time": "2021-08-04T09:21:22.036Z"
   },
   {
    "duration": 6,
    "start_time": "2021-08-04T09:21:22.108Z"
   },
   {
    "duration": 8,
    "start_time": "2021-08-04T09:21:22.115Z"
   },
   {
    "duration": 6,
    "start_time": "2021-08-04T09:21:22.125Z"
   },
   {
    "duration": 5,
    "start_time": "2021-08-04T09:21:22.133Z"
   },
   {
    "duration": 9,
    "start_time": "2021-08-04T09:21:22.140Z"
   },
   {
    "duration": 6,
    "start_time": "2021-08-04T09:21:22.151Z"
   },
   {
    "duration": 5,
    "start_time": "2021-08-04T09:21:22.160Z"
   },
   {
    "duration": 21,
    "start_time": "2021-08-04T09:21:22.167Z"
   },
   {
    "duration": 8,
    "start_time": "2021-08-04T09:21:22.190Z"
   },
   {
    "duration": 7,
    "start_time": "2021-08-04T09:21:22.199Z"
   },
   {
    "duration": 10,
    "start_time": "2021-08-04T09:21:22.208Z"
   },
   {
    "duration": 9,
    "start_time": "2021-08-04T09:21:22.219Z"
   },
   {
    "duration": 9,
    "start_time": "2021-08-04T09:21:22.229Z"
   },
   {
    "duration": 16,
    "start_time": "2021-08-04T09:21:22.239Z"
   },
   {
    "duration": 31,
    "start_time": "2021-08-04T09:21:22.257Z"
   },
   {
    "duration": 9,
    "start_time": "2021-08-04T09:21:22.290Z"
   },
   {
    "duration": 13,
    "start_time": "2021-08-04T09:21:22.301Z"
   },
   {
    "duration": 13,
    "start_time": "2021-08-04T09:21:22.316Z"
   },
   {
    "duration": 8,
    "start_time": "2021-08-04T09:21:22.331Z"
   },
   {
    "duration": 249,
    "start_time": "2021-08-04T09:21:22.340Z"
   },
   {
    "duration": 154,
    "start_time": "2021-08-04T09:21:22.591Z"
   },
   {
    "duration": 6,
    "start_time": "2021-08-04T09:21:22.746Z"
   },
   {
    "duration": 14,
    "start_time": "2021-08-04T09:21:22.754Z"
   },
   {
    "duration": 16,
    "start_time": "2021-08-04T09:21:22.769Z"
   },
   {
    "duration": 248,
    "start_time": "2021-08-04T09:21:22.788Z"
   },
   {
    "duration": 242,
    "start_time": "2021-08-04T09:21:23.038Z"
   },
   {
    "duration": 7,
    "start_time": "2021-08-04T09:21:23.282Z"
   },
   {
    "duration": 359,
    "start_time": "2021-08-04T09:21:23.291Z"
   },
   {
    "duration": 4,
    "start_time": "2021-08-04T09:21:23.652Z"
   },
   {
    "duration": 12,
    "start_time": "2021-08-04T09:21:23.657Z"
   },
   {
    "duration": 217,
    "start_time": "2021-08-04T09:21:23.670Z"
   },
   {
    "duration": 7,
    "start_time": "2021-08-04T09:21:23.889Z"
   },
   {
    "duration": 338,
    "start_time": "2021-08-04T09:21:23.898Z"
   },
   {
    "duration": 121,
    "start_time": "2021-08-04T09:21:24.237Z"
   },
   {
    "duration": 398,
    "start_time": "2021-08-04T09:21:24.360Z"
   },
   {
    "duration": 5,
    "start_time": "2021-08-04T09:21:24.760Z"
   },
   {
    "duration": 355,
    "start_time": "2021-08-04T09:21:24.766Z"
   },
   {
    "duration": 5,
    "start_time": "2021-08-04T09:21:25.123Z"
   },
   {
    "duration": 70,
    "start_time": "2021-08-04T09:21:25.130Z"
   },
   {
    "duration": 60,
    "start_time": "2021-08-04T09:21:25.201Z"
   },
   {
    "duration": 77,
    "start_time": "2021-08-04T09:21:25.263Z"
   },
   {
    "duration": 76,
    "start_time": "2021-08-04T09:21:25.341Z"
   },
   {
    "duration": 20,
    "start_time": "2021-08-04T09:21:25.419Z"
   },
   {
    "duration": 30,
    "start_time": "2021-08-04T09:21:51.828Z"
   },
   {
    "duration": 103,
    "start_time": "2021-08-04T09:25:34.642Z"
   },
   {
    "duration": 6,
    "start_time": "2021-08-04T09:27:49.664Z"
   },
   {
    "duration": 3,
    "start_time": "2021-08-04T09:32:21.240Z"
   },
   {
    "duration": 68,
    "start_time": "2021-08-04T09:32:21.245Z"
   },
   {
    "duration": 7,
    "start_time": "2021-08-04T09:32:21.315Z"
   },
   {
    "duration": 12,
    "start_time": "2021-08-04T09:32:21.324Z"
   },
   {
    "duration": 11,
    "start_time": "2021-08-04T09:32:21.337Z"
   },
   {
    "duration": 6,
    "start_time": "2021-08-04T09:32:21.350Z"
   },
   {
    "duration": 9,
    "start_time": "2021-08-04T09:32:21.357Z"
   },
   {
    "duration": 8,
    "start_time": "2021-08-04T09:32:21.368Z"
   },
   {
    "duration": 10,
    "start_time": "2021-08-04T09:32:21.378Z"
   },
   {
    "duration": 5,
    "start_time": "2021-08-04T09:32:21.390Z"
   },
   {
    "duration": 9,
    "start_time": "2021-08-04T09:32:21.396Z"
   },
   {
    "duration": 7,
    "start_time": "2021-08-04T09:32:21.406Z"
   },
   {
    "duration": 13,
    "start_time": "2021-08-04T09:32:21.415Z"
   },
   {
    "duration": 7,
    "start_time": "2021-08-04T09:32:21.430Z"
   },
   {
    "duration": 9,
    "start_time": "2021-08-04T09:32:21.438Z"
   },
   {
    "duration": 49,
    "start_time": "2021-08-04T09:32:21.449Z"
   },
   {
    "duration": 10,
    "start_time": "2021-08-04T09:32:21.500Z"
   },
   {
    "duration": 8,
    "start_time": "2021-08-04T09:32:21.512Z"
   },
   {
    "duration": 12,
    "start_time": "2021-08-04T09:32:21.522Z"
   },
   {
    "duration": 13,
    "start_time": "2021-08-04T09:32:21.535Z"
   },
   {
    "duration": 38,
    "start_time": "2021-08-04T09:32:21.550Z"
   },
   {
    "duration": 207,
    "start_time": "2021-08-04T09:32:21.590Z"
   },
   {
    "duration": 156,
    "start_time": "2021-08-04T09:32:21.798Z"
   },
   {
    "duration": 6,
    "start_time": "2021-08-04T09:32:21.956Z"
   },
   {
    "duration": 25,
    "start_time": "2021-08-04T09:32:21.963Z"
   },
   {
    "duration": 6,
    "start_time": "2021-08-04T09:32:21.990Z"
   },
   {
    "duration": 248,
    "start_time": "2021-08-04T09:32:21.999Z"
   },
   {
    "duration": 250,
    "start_time": "2021-08-04T09:32:22.249Z"
   },
   {
    "duration": 7,
    "start_time": "2021-08-04T09:32:22.500Z"
   },
   {
    "duration": 336,
    "start_time": "2021-08-04T09:32:22.508Z"
   },
   {
    "duration": 3,
    "start_time": "2021-08-04T09:32:22.846Z"
   },
   {
    "duration": 11,
    "start_time": "2021-08-04T09:32:22.851Z"
   },
   {
    "duration": 230,
    "start_time": "2021-08-04T09:32:22.863Z"
   },
   {
    "duration": 8,
    "start_time": "2021-08-04T09:32:23.095Z"
   },
   {
    "duration": 345,
    "start_time": "2021-08-04T09:32:23.104Z"
   },
   {
    "duration": 135,
    "start_time": "2021-08-04T09:32:23.450Z"
   },
   {
    "duration": 323,
    "start_time": "2021-08-04T09:32:23.587Z"
   },
   {
    "duration": 5,
    "start_time": "2021-08-04T09:32:23.911Z"
   },
   {
    "duration": 321,
    "start_time": "2021-08-04T09:32:23.917Z"
   },
   {
    "duration": 5,
    "start_time": "2021-08-04T09:32:24.239Z"
   },
   {
    "duration": 66,
    "start_time": "2021-08-04T09:32:24.245Z"
   },
   {
    "duration": 79,
    "start_time": "2021-08-04T09:32:24.312Z"
   },
   {
    "duration": 80,
    "start_time": "2021-08-04T09:32:24.393Z"
   },
   {
    "duration": 73,
    "start_time": "2021-08-04T09:32:24.475Z"
   },
   {
    "duration": 46,
    "start_time": "2021-08-04T09:32:24.550Z"
   },
   {
    "duration": 127,
    "start_time": "2021-08-04T09:32:24.598Z"
   },
   {
    "duration": 6,
    "start_time": "2021-08-04T09:32:24.727Z"
   },
   {
    "duration": 64,
    "start_time": "2021-08-04T09:33:11.526Z"
   },
   {
    "duration": 7,
    "start_time": "2021-08-04T09:33:17.347Z"
   },
   {
    "duration": 6,
    "start_time": "2021-08-04T09:35:30.397Z"
   },
   {
    "duration": 78,
    "start_time": "2021-08-04T09:37:38.741Z"
   },
   {
    "duration": 6,
    "start_time": "2021-08-04T09:39:50.232Z"
   },
   {
    "duration": 6,
    "start_time": "2021-08-04T09:40:38.890Z"
   },
   {
    "duration": 3,
    "start_time": "2021-08-04T09:44:11.135Z"
   },
   {
    "duration": 88,
    "start_time": "2021-08-04T09:44:11.140Z"
   },
   {
    "duration": 27,
    "start_time": "2021-08-04T09:44:11.230Z"
   },
   {
    "duration": 27,
    "start_time": "2021-08-04T09:44:11.259Z"
   },
   {
    "duration": 24,
    "start_time": "2021-08-04T09:44:11.288Z"
   },
   {
    "duration": 28,
    "start_time": "2021-08-04T09:44:11.313Z"
   },
   {
    "duration": 23,
    "start_time": "2021-08-04T09:44:11.343Z"
   },
   {
    "duration": 29,
    "start_time": "2021-08-04T09:44:11.368Z"
   },
   {
    "duration": 32,
    "start_time": "2021-08-04T09:44:11.400Z"
   },
   {
    "duration": 29,
    "start_time": "2021-08-04T09:44:11.434Z"
   },
   {
    "duration": 19,
    "start_time": "2021-08-04T09:44:11.465Z"
   },
   {
    "duration": 32,
    "start_time": "2021-08-04T09:44:11.486Z"
   },
   {
    "duration": 29,
    "start_time": "2021-08-04T09:44:11.519Z"
   },
   {
    "duration": 29,
    "start_time": "2021-08-04T09:44:11.550Z"
   },
   {
    "duration": 26,
    "start_time": "2021-08-04T09:44:11.581Z"
   },
   {
    "duration": 34,
    "start_time": "2021-08-04T09:44:11.609Z"
   },
   {
    "duration": 30,
    "start_time": "2021-08-04T09:44:11.644Z"
   },
   {
    "duration": 23,
    "start_time": "2021-08-04T09:44:11.676Z"
   },
   {
    "duration": 32,
    "start_time": "2021-08-04T09:44:11.702Z"
   },
   {
    "duration": 23,
    "start_time": "2021-08-04T09:44:11.737Z"
   },
   {
    "duration": 30,
    "start_time": "2021-08-04T09:44:11.762Z"
   },
   {
    "duration": 213,
    "start_time": "2021-08-04T09:44:11.794Z"
   },
   {
    "duration": 159,
    "start_time": "2021-08-04T09:44:12.009Z"
   },
   {
    "duration": 17,
    "start_time": "2021-08-04T09:44:12.169Z"
   },
   {
    "duration": 45,
    "start_time": "2021-08-04T09:44:12.188Z"
   },
   {
    "duration": 13,
    "start_time": "2021-08-04T09:44:12.235Z"
   },
   {
    "duration": 252,
    "start_time": "2021-08-04T09:44:12.252Z"
   },
   {
    "duration": 322,
    "start_time": "2021-08-04T09:44:12.506Z"
   },
   {
    "duration": 6,
    "start_time": "2021-08-04T09:44:12.831Z"
   },
   {
    "duration": 365,
    "start_time": "2021-08-04T09:44:12.838Z"
   },
   {
    "duration": 4,
    "start_time": "2021-08-04T09:44:13.205Z"
   },
   {
    "duration": 25,
    "start_time": "2021-08-04T09:44:13.211Z"
   },
   {
    "duration": 239,
    "start_time": "2021-08-04T09:44:13.238Z"
   },
   {
    "duration": 12,
    "start_time": "2021-08-04T09:44:13.478Z"
   },
   {
    "duration": 336,
    "start_time": "2021-08-04T09:44:13.492Z"
   },
   {
    "duration": 126,
    "start_time": "2021-08-04T09:44:13.829Z"
   },
   {
    "duration": 353,
    "start_time": "2021-08-04T09:44:13.957Z"
   },
   {
    "duration": 5,
    "start_time": "2021-08-04T09:44:14.311Z"
   },
   {
    "duration": 312,
    "start_time": "2021-08-04T09:44:14.318Z"
   },
   {
    "duration": 5,
    "start_time": "2021-08-04T09:44:14.631Z"
   },
   {
    "duration": 68,
    "start_time": "2021-08-04T09:44:14.637Z"
   },
   {
    "duration": 73,
    "start_time": "2021-08-04T09:44:14.707Z"
   },
   {
    "duration": 76,
    "start_time": "2021-08-04T09:44:14.781Z"
   },
   {
    "duration": 81,
    "start_time": "2021-08-04T09:44:14.859Z"
   },
   {
    "duration": 29,
    "start_time": "2021-08-04T09:44:14.941Z"
   },
   {
    "duration": 128,
    "start_time": "2021-08-04T09:44:14.985Z"
   },
   {
    "duration": 6,
    "start_time": "2021-08-04T09:44:15.115Z"
   },
   {
    "duration": 15,
    "start_time": "2021-08-04T09:44:15.123Z"
   },
   {
    "duration": 11,
    "start_time": "2021-08-04T10:08:24.491Z"
   },
   {
    "duration": 2,
    "start_time": "2021-08-04T10:12:06.876Z"
   },
   {
    "duration": 3,
    "start_time": "2021-08-04T10:12:12.657Z"
   },
   {
    "duration": 69,
    "start_time": "2021-08-04T10:12:12.662Z"
   },
   {
    "duration": 7,
    "start_time": "2021-08-04T10:12:12.733Z"
   },
   {
    "duration": 7,
    "start_time": "2021-08-04T10:12:12.742Z"
   },
   {
    "duration": 7,
    "start_time": "2021-08-04T10:12:12.751Z"
   },
   {
    "duration": 6,
    "start_time": "2021-08-04T10:12:12.760Z"
   },
   {
    "duration": 13,
    "start_time": "2021-08-04T10:12:12.768Z"
   },
   {
    "duration": 8,
    "start_time": "2021-08-04T10:12:12.783Z"
   },
   {
    "duration": 5,
    "start_time": "2021-08-04T10:12:12.795Z"
   },
   {
    "duration": 6,
    "start_time": "2021-08-04T10:12:12.803Z"
   },
   {
    "duration": 8,
    "start_time": "2021-08-04T10:12:12.811Z"
   },
   {
    "duration": 6,
    "start_time": "2021-08-04T10:12:12.821Z"
   },
   {
    "duration": 13,
    "start_time": "2021-08-04T10:12:12.829Z"
   },
   {
    "duration": 42,
    "start_time": "2021-08-04T10:12:12.844Z"
   },
   {
    "duration": 7,
    "start_time": "2021-08-04T10:12:12.888Z"
   },
   {
    "duration": 18,
    "start_time": "2021-08-04T10:12:12.896Z"
   },
   {
    "duration": 8,
    "start_time": "2021-08-04T10:12:12.916Z"
   },
   {
    "duration": 7,
    "start_time": "2021-08-04T10:12:12.925Z"
   },
   {
    "duration": 11,
    "start_time": "2021-08-04T10:12:12.933Z"
   },
   {
    "duration": 40,
    "start_time": "2021-08-04T10:12:12.945Z"
   },
   {
    "duration": 5,
    "start_time": "2021-08-04T10:12:12.987Z"
   },
   {
    "duration": 209,
    "start_time": "2021-08-04T10:12:12.993Z"
   },
   {
    "duration": 151,
    "start_time": "2021-08-04T10:12:13.204Z"
   },
   {
    "duration": 6,
    "start_time": "2021-08-04T10:12:13.357Z"
   },
   {
    "duration": 20,
    "start_time": "2021-08-04T10:12:13.365Z"
   },
   {
    "duration": 6,
    "start_time": "2021-08-04T10:12:13.387Z"
   },
   {
    "duration": 235,
    "start_time": "2021-08-04T10:12:13.396Z"
   },
   {
    "duration": 230,
    "start_time": "2021-08-04T10:12:13.633Z"
   },
   {
    "duration": 6,
    "start_time": "2021-08-04T10:12:13.864Z"
   },
   {
    "duration": 352,
    "start_time": "2021-08-04T10:12:13.871Z"
   },
   {
    "duration": 3,
    "start_time": "2021-08-04T10:12:14.225Z"
   },
   {
    "duration": 9,
    "start_time": "2021-08-04T10:12:14.230Z"
   },
   {
    "duration": 216,
    "start_time": "2021-08-04T10:12:14.240Z"
   },
   {
    "duration": 8,
    "start_time": "2021-08-04T10:12:14.458Z"
   },
   {
    "duration": 395,
    "start_time": "2021-08-04T10:12:14.468Z"
   },
   {
    "duration": 142,
    "start_time": "2021-08-04T10:12:14.865Z"
   },
   {
    "duration": 315,
    "start_time": "2021-08-04T10:12:15.009Z"
   },
   {
    "duration": 5,
    "start_time": "2021-08-04T10:12:15.325Z"
   },
   {
    "duration": 305,
    "start_time": "2021-08-04T10:12:15.331Z"
   },
   {
    "duration": 5,
    "start_time": "2021-08-04T10:12:15.637Z"
   },
   {
    "duration": 78,
    "start_time": "2021-08-04T10:12:15.643Z"
   },
   {
    "duration": 62,
    "start_time": "2021-08-04T10:12:15.723Z"
   },
   {
    "duration": 73,
    "start_time": "2021-08-04T10:12:15.787Z"
   },
   {
    "duration": 78,
    "start_time": "2021-08-04T10:12:15.862Z"
   },
   {
    "duration": 28,
    "start_time": "2021-08-04T10:12:15.942Z"
   },
   {
    "duration": 135,
    "start_time": "2021-08-04T10:12:15.972Z"
   },
   {
    "duration": 6,
    "start_time": "2021-08-04T10:12:16.109Z"
   },
   {
    "duration": 9,
    "start_time": "2021-08-04T10:12:16.116Z"
   },
   {
    "duration": 9,
    "start_time": "2021-08-04T10:12:16.126Z"
   },
   {
    "duration": 4519,
    "start_time": "2021-08-04T10:16:34.647Z"
   },
   {
    "duration": 3,
    "start_time": "2021-08-04T10:16:49.062Z"
   },
   {
    "duration": 78,
    "start_time": "2021-08-04T10:16:49.067Z"
   },
   {
    "duration": 7,
    "start_time": "2021-08-04T10:16:49.147Z"
   },
   {
    "duration": 14,
    "start_time": "2021-08-04T10:16:49.156Z"
   },
   {
    "duration": 22,
    "start_time": "2021-08-04T10:16:49.172Z"
   },
   {
    "duration": 19,
    "start_time": "2021-08-04T10:16:49.196Z"
   },
   {
    "duration": 29,
    "start_time": "2021-08-04T10:16:49.218Z"
   },
   {
    "duration": 14,
    "start_time": "2021-08-04T10:16:49.249Z"
   },
   {
    "duration": 18,
    "start_time": "2021-08-04T10:16:49.265Z"
   },
   {
    "duration": 24,
    "start_time": "2021-08-04T10:16:49.285Z"
   },
   {
    "duration": 13,
    "start_time": "2021-08-04T10:16:49.311Z"
   },
   {
    "duration": 16,
    "start_time": "2021-08-04T10:16:49.326Z"
   },
   {
    "duration": 9,
    "start_time": "2021-08-04T10:16:49.344Z"
   },
   {
    "duration": 7,
    "start_time": "2021-08-04T10:16:49.355Z"
   },
   {
    "duration": 10,
    "start_time": "2021-08-04T10:16:49.363Z"
   },
   {
    "duration": 19,
    "start_time": "2021-08-04T10:16:49.374Z"
   },
   {
    "duration": 10,
    "start_time": "2021-08-04T10:16:49.395Z"
   },
   {
    "duration": 8,
    "start_time": "2021-08-04T10:16:49.407Z"
   },
   {
    "duration": 10,
    "start_time": "2021-08-04T10:16:49.420Z"
   },
   {
    "duration": 14,
    "start_time": "2021-08-04T10:16:49.433Z"
   },
   {
    "duration": 7,
    "start_time": "2021-08-04T10:16:49.485Z"
   },
   {
    "duration": 217,
    "start_time": "2021-08-04T10:16:49.495Z"
   },
   {
    "duration": 157,
    "start_time": "2021-08-04T10:16:49.714Z"
   },
   {
    "duration": 15,
    "start_time": "2021-08-04T10:16:49.873Z"
   },
   {
    "duration": 11,
    "start_time": "2021-08-04T10:16:49.890Z"
   },
   {
    "duration": 8,
    "start_time": "2021-08-04T10:16:49.902Z"
   },
   {
    "duration": 255,
    "start_time": "2021-08-04T10:16:49.912Z"
   },
   {
    "duration": 250,
    "start_time": "2021-08-04T10:16:50.170Z"
   },
   {
    "duration": 6,
    "start_time": "2021-08-04T10:16:50.422Z"
   },
   {
    "duration": 355,
    "start_time": "2021-08-04T10:16:50.429Z"
   },
   {
    "duration": 4,
    "start_time": "2021-08-04T10:16:50.787Z"
   },
   {
    "duration": 10,
    "start_time": "2021-08-04T10:16:50.793Z"
   },
   {
    "duration": 217,
    "start_time": "2021-08-04T10:16:50.805Z"
   },
   {
    "duration": 7,
    "start_time": "2021-08-04T10:16:51.025Z"
   },
   {
    "duration": 306,
    "start_time": "2021-08-04T10:16:51.034Z"
   },
   {
    "duration": 118,
    "start_time": "2021-08-04T10:16:51.342Z"
   },
   {
    "duration": 342,
    "start_time": "2021-08-04T10:16:51.462Z"
   },
   {
    "duration": 5,
    "start_time": "2021-08-04T10:16:51.805Z"
   },
   {
    "duration": 337,
    "start_time": "2021-08-04T10:16:51.811Z"
   },
   {
    "duration": 4,
    "start_time": "2021-08-04T10:16:52.150Z"
   },
   {
    "duration": 142,
    "start_time": "2021-08-04T10:16:52.156Z"
   },
   {
    "duration": 58,
    "start_time": "2021-08-04T10:16:52.300Z"
   },
   {
    "duration": 78,
    "start_time": "2021-08-04T10:16:52.360Z"
   },
   {
    "duration": 76,
    "start_time": "2021-08-04T10:16:52.439Z"
   },
   {
    "duration": 28,
    "start_time": "2021-08-04T10:16:52.516Z"
   },
   {
    "duration": 126,
    "start_time": "2021-08-04T10:16:52.546Z"
   },
   {
    "duration": 13,
    "start_time": "2021-08-04T10:16:52.674Z"
   },
   {
    "duration": 8,
    "start_time": "2021-08-04T10:16:52.689Z"
   },
   {
    "duration": 9,
    "start_time": "2021-08-04T10:16:52.699Z"
   },
   {
    "duration": 4376,
    "start_time": "2021-08-04T10:16:52.709Z"
   },
   {
    "duration": 9,
    "start_time": "2021-08-04T10:17:09.002Z"
   },
   {
    "duration": 9,
    "start_time": "2021-08-04T10:18:12.673Z"
   },
   {
    "duration": 10,
    "start_time": "2021-08-04T10:18:22.214Z"
   },
   {
    "duration": 8,
    "start_time": "2021-08-04T10:20:36.538Z"
   },
   {
    "duration": 6,
    "start_time": "2021-08-04T10:21:19.517Z"
   },
   {
    "duration": 4673,
    "start_time": "2021-08-04T10:26:16.178Z"
   },
   {
    "duration": 13,
    "start_time": "2021-08-04T10:26:39.615Z"
   },
   {
    "duration": 13,
    "start_time": "2021-08-04T10:27:35.380Z"
   },
   {
    "duration": 3,
    "start_time": "2021-08-04T10:32:10.872Z"
   },
   {
    "duration": 69,
    "start_time": "2021-08-04T10:32:10.877Z"
   },
   {
    "duration": 7,
    "start_time": "2021-08-04T10:32:10.948Z"
   },
   {
    "duration": 7,
    "start_time": "2021-08-04T10:32:10.957Z"
   },
   {
    "duration": 10,
    "start_time": "2021-08-04T10:32:10.965Z"
   },
   {
    "duration": 6,
    "start_time": "2021-08-04T10:32:10.977Z"
   },
   {
    "duration": 7,
    "start_time": "2021-08-04T10:32:10.985Z"
   },
   {
    "duration": 8,
    "start_time": "2021-08-04T10:32:10.993Z"
   },
   {
    "duration": 5,
    "start_time": "2021-08-04T10:32:11.003Z"
   },
   {
    "duration": 6,
    "start_time": "2021-08-04T10:32:11.010Z"
   },
   {
    "duration": 7,
    "start_time": "2021-08-04T10:32:11.018Z"
   },
   {
    "duration": 13,
    "start_time": "2021-08-04T10:32:11.026Z"
   },
   {
    "duration": 8,
    "start_time": "2021-08-04T10:32:11.040Z"
   },
   {
    "duration": 8,
    "start_time": "2021-08-04T10:32:11.049Z"
   },
   {
    "duration": 8,
    "start_time": "2021-08-04T10:32:11.085Z"
   },
   {
    "duration": 19,
    "start_time": "2021-08-04T10:32:11.094Z"
   },
   {
    "duration": 9,
    "start_time": "2021-08-04T10:32:11.114Z"
   },
   {
    "duration": 9,
    "start_time": "2021-08-04T10:32:11.125Z"
   },
   {
    "duration": 12,
    "start_time": "2021-08-04T10:32:11.136Z"
   },
   {
    "duration": 38,
    "start_time": "2021-08-04T10:32:11.150Z"
   },
   {
    "duration": 8,
    "start_time": "2021-08-04T10:32:11.190Z"
   },
   {
    "duration": 209,
    "start_time": "2021-08-04T10:32:11.200Z"
   },
   {
    "duration": 151,
    "start_time": "2021-08-04T10:32:11.411Z"
   },
   {
    "duration": 6,
    "start_time": "2021-08-04T10:32:11.563Z"
   },
   {
    "duration": 15,
    "start_time": "2021-08-04T10:32:11.571Z"
   },
   {
    "duration": 8,
    "start_time": "2021-08-04T10:32:11.588Z"
   },
   {
    "duration": 249,
    "start_time": "2021-08-04T10:32:11.600Z"
   },
   {
    "duration": 249,
    "start_time": "2021-08-04T10:32:11.851Z"
   },
   {
    "duration": 5,
    "start_time": "2021-08-04T10:32:12.102Z"
   },
   {
    "duration": 339,
    "start_time": "2021-08-04T10:32:12.109Z"
   },
   {
    "duration": 4,
    "start_time": "2021-08-04T10:32:12.449Z"
   },
   {
    "duration": 13,
    "start_time": "2021-08-04T10:32:12.455Z"
   },
   {
    "duration": 208,
    "start_time": "2021-08-04T10:32:12.469Z"
   },
   {
    "duration": 12,
    "start_time": "2021-08-04T10:32:12.679Z"
   },
   {
    "duration": 332,
    "start_time": "2021-08-04T10:32:12.692Z"
   },
   {
    "duration": 113,
    "start_time": "2021-08-04T10:32:13.026Z"
   },
   {
    "duration": 283,
    "start_time": "2021-08-04T10:32:13.141Z"
   },
   {
    "duration": 6,
    "start_time": "2021-08-04T10:32:13.426Z"
   },
   {
    "duration": 315,
    "start_time": "2021-08-04T10:32:13.434Z"
   },
   {
    "duration": 5,
    "start_time": "2021-08-04T10:32:13.751Z"
   },
   {
    "duration": 69,
    "start_time": "2021-08-04T10:32:13.757Z"
   },
   {
    "duration": 67,
    "start_time": "2021-08-04T10:32:13.828Z"
   },
   {
    "duration": 68,
    "start_time": "2021-08-04T10:32:13.897Z"
   },
   {
    "duration": 77,
    "start_time": "2021-08-04T10:32:13.966Z"
   },
   {
    "duration": 41,
    "start_time": "2021-08-04T10:32:14.045Z"
   },
   {
    "duration": 127,
    "start_time": "2021-08-04T10:32:14.087Z"
   },
   {
    "duration": 5,
    "start_time": "2021-08-04T10:32:14.215Z"
   },
   {
    "duration": 21,
    "start_time": "2021-08-04T10:32:14.221Z"
   },
   {
    "duration": 15,
    "start_time": "2021-08-04T10:32:14.244Z"
   },
   {
    "duration": 15,
    "start_time": "2021-08-04T10:32:14.260Z"
   },
   {
    "duration": 31,
    "start_time": "2021-08-04T10:32:14.277Z"
   },
   {
    "duration": 10,
    "start_time": "2021-08-04T10:32:14.310Z"
   },
   {
    "duration": 20,
    "start_time": "2021-08-04T10:32:14.322Z"
   },
   {
    "duration": 10,
    "start_time": "2021-08-04T10:33:31.337Z"
   },
   {
    "duration": 3,
    "start_time": "2021-08-04T10:33:48.981Z"
   },
   {
    "duration": 70,
    "start_time": "2021-08-04T10:33:48.986Z"
   },
   {
    "duration": 7,
    "start_time": "2021-08-04T10:33:49.058Z"
   },
   {
    "duration": 11,
    "start_time": "2021-08-04T10:33:49.067Z"
   },
   {
    "duration": 10,
    "start_time": "2021-08-04T10:33:49.080Z"
   },
   {
    "duration": 11,
    "start_time": "2021-08-04T10:33:49.092Z"
   },
   {
    "duration": 11,
    "start_time": "2021-08-04T10:33:49.105Z"
   },
   {
    "duration": 6,
    "start_time": "2021-08-04T10:33:49.118Z"
   },
   {
    "duration": 7,
    "start_time": "2021-08-04T10:33:49.126Z"
   },
   {
    "duration": 8,
    "start_time": "2021-08-04T10:33:49.135Z"
   },
   {
    "duration": 8,
    "start_time": "2021-08-04T10:33:49.144Z"
   },
   {
    "duration": 7,
    "start_time": "2021-08-04T10:33:49.153Z"
   },
   {
    "duration": 24,
    "start_time": "2021-08-04T10:33:49.162Z"
   },
   {
    "duration": 10,
    "start_time": "2021-08-04T10:33:49.187Z"
   },
   {
    "duration": 8,
    "start_time": "2021-08-04T10:33:49.198Z"
   },
   {
    "duration": 22,
    "start_time": "2021-08-04T10:33:49.207Z"
   },
   {
    "duration": 9,
    "start_time": "2021-08-04T10:33:49.231Z"
   },
   {
    "duration": 7,
    "start_time": "2021-08-04T10:33:49.242Z"
   },
   {
    "duration": 36,
    "start_time": "2021-08-04T10:33:49.251Z"
   },
   {
    "duration": 13,
    "start_time": "2021-08-04T10:33:49.289Z"
   },
   {
    "duration": 7,
    "start_time": "2021-08-04T10:33:49.304Z"
   },
   {
    "duration": 224,
    "start_time": "2021-08-04T10:33:49.313Z"
   },
   {
    "duration": 168,
    "start_time": "2021-08-04T10:33:49.541Z"
   },
   {
    "duration": 6,
    "start_time": "2021-08-04T10:33:49.712Z"
   },
   {
    "duration": 11,
    "start_time": "2021-08-04T10:33:49.720Z"
   },
   {
    "duration": 8,
    "start_time": "2021-08-04T10:33:49.732Z"
   },
   {
    "duration": 255,
    "start_time": "2021-08-04T10:33:49.742Z"
   },
   {
    "duration": 243,
    "start_time": "2021-08-04T10:33:49.999Z"
   },
   {
    "duration": 7,
    "start_time": "2021-08-04T10:33:50.244Z"
   },
   {
    "duration": 368,
    "start_time": "2021-08-04T10:33:50.252Z"
   },
   {
    "duration": 4,
    "start_time": "2021-08-04T10:33:50.622Z"
   },
   {
    "duration": 10,
    "start_time": "2021-08-04T10:33:50.627Z"
   },
   {
    "duration": 284,
    "start_time": "2021-08-04T10:33:50.638Z"
   },
   {
    "duration": 7,
    "start_time": "2021-08-04T10:33:50.924Z"
   },
   {
    "duration": 313,
    "start_time": "2021-08-04T10:33:50.933Z"
   },
   {
    "duration": 115,
    "start_time": "2021-08-04T10:33:51.248Z"
   },
   {
    "duration": 338,
    "start_time": "2021-08-04T10:33:51.365Z"
   },
   {
    "duration": 5,
    "start_time": "2021-08-04T10:33:51.704Z"
   },
   {
    "duration": 319,
    "start_time": "2021-08-04T10:33:51.710Z"
   },
   {
    "duration": 5,
    "start_time": "2021-08-04T10:33:52.030Z"
   },
   {
    "duration": 70,
    "start_time": "2021-08-04T10:33:52.036Z"
   },
   {
    "duration": 54,
    "start_time": "2021-08-04T10:33:52.108Z"
   },
   {
    "duration": 83,
    "start_time": "2021-08-04T10:33:52.164Z"
   },
   {
    "duration": 80,
    "start_time": "2021-08-04T10:33:52.248Z"
   },
   {
    "duration": 30,
    "start_time": "2021-08-04T10:33:52.330Z"
   },
   {
    "duration": 118,
    "start_time": "2021-08-04T10:33:52.361Z"
   },
   {
    "duration": 5,
    "start_time": "2021-08-04T10:33:52.484Z"
   },
   {
    "duration": 15,
    "start_time": "2021-08-04T10:33:52.491Z"
   },
   {
    "duration": 10,
    "start_time": "2021-08-04T10:33:52.507Z"
   },
   {
    "duration": 9,
    "start_time": "2021-08-04T10:33:52.519Z"
   },
   {
    "duration": 9,
    "start_time": "2021-08-04T10:33:52.529Z"
   },
   {
    "duration": 6,
    "start_time": "2021-08-04T10:33:52.540Z"
   },
   {
    "duration": 36,
    "start_time": "2021-08-04T10:33:52.548Z"
   },
   {
    "duration": 1094,
    "start_time": "2021-08-04T10:35:12.506Z"
   },
   {
    "duration": 67,
    "start_time": "2021-08-04T10:35:13.602Z"
   },
   {
    "duration": 10,
    "start_time": "2021-08-04T10:35:13.672Z"
   },
   {
    "duration": 10,
    "start_time": "2021-08-04T10:35:13.683Z"
   },
   {
    "duration": 8,
    "start_time": "2021-08-04T10:35:13.694Z"
   },
   {
    "duration": 6,
    "start_time": "2021-08-04T10:35:13.703Z"
   },
   {
    "duration": 8,
    "start_time": "2021-08-04T10:35:13.711Z"
   },
   {
    "duration": 6,
    "start_time": "2021-08-04T10:35:13.721Z"
   },
   {
    "duration": 7,
    "start_time": "2021-08-04T10:35:13.729Z"
   },
   {
    "duration": 5,
    "start_time": "2021-08-04T10:35:13.738Z"
   },
   {
    "duration": 44,
    "start_time": "2021-08-04T10:35:13.745Z"
   },
   {
    "duration": 8,
    "start_time": "2021-08-04T10:35:13.791Z"
   },
   {
    "duration": 6,
    "start_time": "2021-08-04T10:35:13.801Z"
   },
   {
    "duration": 11,
    "start_time": "2021-08-04T10:35:13.809Z"
   },
   {
    "duration": 9,
    "start_time": "2021-08-04T10:35:13.822Z"
   },
   {
    "duration": 17,
    "start_time": "2021-08-04T10:35:13.833Z"
   },
   {
    "duration": 32,
    "start_time": "2021-08-04T10:35:13.852Z"
   },
   {
    "duration": 9,
    "start_time": "2021-08-04T10:35:13.886Z"
   },
   {
    "duration": 12,
    "start_time": "2021-08-04T10:35:13.897Z"
   },
   {
    "duration": 12,
    "start_time": "2021-08-04T10:35:13.910Z"
   },
   {
    "duration": 5,
    "start_time": "2021-08-04T10:35:13.923Z"
   },
   {
    "duration": 226,
    "start_time": "2021-08-04T10:35:13.930Z"
   },
   {
    "duration": 162,
    "start_time": "2021-08-04T10:35:14.160Z"
   },
   {
    "duration": 6,
    "start_time": "2021-08-04T10:35:14.324Z"
   },
   {
    "duration": 13,
    "start_time": "2021-08-04T10:35:14.332Z"
   },
   {
    "duration": 8,
    "start_time": "2021-08-04T10:35:14.346Z"
   },
   {
    "duration": 264,
    "start_time": "2021-08-04T10:35:14.356Z"
   },
   {
    "duration": 247,
    "start_time": "2021-08-04T10:35:14.621Z"
   },
   {
    "duration": 14,
    "start_time": "2021-08-04T10:35:14.870Z"
   },
   {
    "duration": 364,
    "start_time": "2021-08-04T10:35:14.886Z"
   },
   {
    "duration": 3,
    "start_time": "2021-08-04T10:35:15.252Z"
   },
   {
    "duration": 9,
    "start_time": "2021-08-04T10:35:15.257Z"
   },
   {
    "duration": 219,
    "start_time": "2021-08-04T10:35:15.268Z"
   },
   {
    "duration": 8,
    "start_time": "2021-08-04T10:35:15.488Z"
   },
   {
    "duration": 332,
    "start_time": "2021-08-04T10:35:15.497Z"
   },
   {
    "duration": 123,
    "start_time": "2021-08-04T10:35:15.831Z"
   },
   {
    "duration": 353,
    "start_time": "2021-08-04T10:35:15.955Z"
   },
   {
    "duration": 4,
    "start_time": "2021-08-04T10:35:16.310Z"
   },
   {
    "duration": 392,
    "start_time": "2021-08-04T10:35:16.316Z"
   },
   {
    "duration": 4,
    "start_time": "2021-08-04T10:35:16.710Z"
   },
   {
    "duration": 70,
    "start_time": "2021-08-04T10:35:16.715Z"
   },
   {
    "duration": 60,
    "start_time": "2021-08-04T10:35:16.787Z"
   },
   {
    "duration": 73,
    "start_time": "2021-08-04T10:35:16.849Z"
   },
   {
    "duration": 76,
    "start_time": "2021-08-04T10:35:16.924Z"
   },
   {
    "duration": 30,
    "start_time": "2021-08-04T10:35:17.002Z"
   },
   {
    "duration": 123,
    "start_time": "2021-08-04T10:35:17.033Z"
   },
   {
    "duration": 5,
    "start_time": "2021-08-04T10:35:17.158Z"
   },
   {
    "duration": 7,
    "start_time": "2021-08-04T10:35:17.165Z"
   },
   {
    "duration": 9,
    "start_time": "2021-08-04T10:35:17.185Z"
   },
   {
    "duration": 9,
    "start_time": "2021-08-04T10:35:17.196Z"
   },
   {
    "duration": 8,
    "start_time": "2021-08-04T10:35:17.206Z"
   },
   {
    "duration": 6,
    "start_time": "2021-08-04T10:35:17.216Z"
   },
   {
    "duration": 12,
    "start_time": "2021-08-04T10:35:17.224Z"
   },
   {
    "duration": 275,
    "start_time": "2021-08-04T10:43:57.218Z"
   },
   {
    "duration": 4,
    "start_time": "2021-08-04T10:44:01.891Z"
   },
   {
    "duration": 11,
    "start_time": "2021-08-04T10:45:34.991Z"
   },
   {
    "duration": 11,
    "start_time": "2021-08-04T10:46:00.010Z"
   },
   {
    "duration": 14,
    "start_time": "2021-08-04T10:48:20.657Z"
   },
   {
    "duration": 4359,
    "start_time": "2021-08-04T10:50:13.949Z"
   },
   {
    "duration": 168,
    "start_time": "2021-08-04T10:50:27.864Z"
   },
   {
    "duration": 13,
    "start_time": "2021-08-04T10:50:42.213Z"
   },
   {
    "duration": 3,
    "start_time": "2021-08-04T10:58:26.466Z"
   },
   {
    "duration": 69,
    "start_time": "2021-08-04T10:58:26.472Z"
   },
   {
    "duration": 6,
    "start_time": "2021-08-04T10:58:26.543Z"
   },
   {
    "duration": 7,
    "start_time": "2021-08-04T10:58:26.551Z"
   },
   {
    "duration": 7,
    "start_time": "2021-08-04T10:58:26.559Z"
   },
   {
    "duration": 6,
    "start_time": "2021-08-04T10:58:26.567Z"
   },
   {
    "duration": 7,
    "start_time": "2021-08-04T10:58:26.575Z"
   },
   {
    "duration": 6,
    "start_time": "2021-08-04T10:58:26.584Z"
   },
   {
    "duration": 5,
    "start_time": "2021-08-04T10:58:26.592Z"
   },
   {
    "duration": 7,
    "start_time": "2021-08-04T10:58:26.599Z"
   },
   {
    "duration": 6,
    "start_time": "2021-08-04T10:58:26.608Z"
   },
   {
    "duration": 8,
    "start_time": "2021-08-04T10:58:26.616Z"
   },
   {
    "duration": 7,
    "start_time": "2021-08-04T10:58:26.625Z"
   },
   {
    "duration": 8,
    "start_time": "2021-08-04T10:58:26.633Z"
   },
   {
    "duration": 7,
    "start_time": "2021-08-04T10:58:26.643Z"
   },
   {
    "duration": 50,
    "start_time": "2021-08-04T10:58:26.651Z"
   },
   {
    "duration": 11,
    "start_time": "2021-08-04T10:58:26.703Z"
   },
   {
    "duration": 9,
    "start_time": "2021-08-04T10:58:26.716Z"
   },
   {
    "duration": 10,
    "start_time": "2021-08-04T10:58:26.730Z"
   },
   {
    "duration": 49,
    "start_time": "2021-08-04T10:58:26.743Z"
   },
   {
    "duration": 21,
    "start_time": "2021-08-04T10:58:26.794Z"
   },
   {
    "duration": 211,
    "start_time": "2021-08-04T10:58:26.817Z"
   },
   {
    "duration": 164,
    "start_time": "2021-08-04T10:58:27.030Z"
   },
   {
    "duration": 7,
    "start_time": "2021-08-04T10:58:27.196Z"
   },
   {
    "duration": 29,
    "start_time": "2021-08-04T10:58:27.205Z"
   },
   {
    "duration": 8,
    "start_time": "2021-08-04T10:58:27.237Z"
   },
   {
    "duration": 240,
    "start_time": "2021-08-04T10:58:27.247Z"
   },
   {
    "duration": 239,
    "start_time": "2021-08-04T10:58:27.489Z"
   },
   {
    "duration": 6,
    "start_time": "2021-08-04T10:58:27.730Z"
   },
   {
    "duration": 326,
    "start_time": "2021-08-04T10:58:27.737Z"
   },
   {
    "duration": 4,
    "start_time": "2021-08-04T10:58:28.064Z"
   },
   {
    "duration": 17,
    "start_time": "2021-08-04T10:58:28.069Z"
   },
   {
    "duration": 203,
    "start_time": "2021-08-04T10:58:28.088Z"
   },
   {
    "duration": 7,
    "start_time": "2021-08-04T10:58:28.293Z"
   },
   {
    "duration": 324,
    "start_time": "2021-08-04T10:58:28.302Z"
   },
   {
    "duration": 109,
    "start_time": "2021-08-04T10:58:28.627Z"
   },
   {
    "duration": 288,
    "start_time": "2021-08-04T10:58:28.738Z"
   },
   {
    "duration": 4,
    "start_time": "2021-08-04T10:58:29.028Z"
   },
   {
    "duration": 294,
    "start_time": "2021-08-04T10:58:29.033Z"
   },
   {
    "duration": 4,
    "start_time": "2021-08-04T10:58:29.329Z"
   },
   {
    "duration": 67,
    "start_time": "2021-08-04T10:58:29.335Z"
   },
   {
    "duration": 60,
    "start_time": "2021-08-04T10:58:29.404Z"
   },
   {
    "duration": 81,
    "start_time": "2021-08-04T10:58:29.466Z"
   },
   {
    "duration": 80,
    "start_time": "2021-08-04T10:58:29.549Z"
   },
   {
    "duration": 29,
    "start_time": "2021-08-04T10:58:29.630Z"
   },
   {
    "duration": 142,
    "start_time": "2021-08-04T10:58:29.661Z"
   },
   {
    "duration": 5,
    "start_time": "2021-08-04T10:58:29.805Z"
   },
   {
    "duration": 12,
    "start_time": "2021-08-04T10:58:29.812Z"
   },
   {
    "duration": 9,
    "start_time": "2021-08-04T10:58:29.826Z"
   },
   {
    "duration": 9,
    "start_time": "2021-08-04T10:58:29.837Z"
   },
   {
    "duration": 8,
    "start_time": "2021-08-04T10:58:29.847Z"
   },
   {
    "duration": 7,
    "start_time": "2021-08-04T10:58:29.884Z"
   },
   {
    "duration": 3,
    "start_time": "2021-08-04T10:58:48.423Z"
   },
   {
    "duration": 69,
    "start_time": "2021-08-04T10:58:48.427Z"
   },
   {
    "duration": 6,
    "start_time": "2021-08-04T10:58:48.498Z"
   },
   {
    "duration": 10,
    "start_time": "2021-08-04T10:58:48.506Z"
   },
   {
    "duration": 7,
    "start_time": "2021-08-04T10:58:48.518Z"
   },
   {
    "duration": 6,
    "start_time": "2021-08-04T10:58:48.526Z"
   },
   {
    "duration": 7,
    "start_time": "2021-08-04T10:58:48.534Z"
   },
   {
    "duration": 8,
    "start_time": "2021-08-04T10:58:48.543Z"
   },
   {
    "duration": 7,
    "start_time": "2021-08-04T10:58:48.553Z"
   },
   {
    "duration": 27,
    "start_time": "2021-08-04T10:58:48.561Z"
   },
   {
    "duration": 10,
    "start_time": "2021-08-04T10:58:48.590Z"
   },
   {
    "duration": 8,
    "start_time": "2021-08-04T10:58:48.602Z"
   },
   {
    "duration": 11,
    "start_time": "2021-08-04T10:58:48.611Z"
   },
   {
    "duration": 10,
    "start_time": "2021-08-04T10:58:48.624Z"
   },
   {
    "duration": 9,
    "start_time": "2021-08-04T10:58:48.636Z"
   },
   {
    "duration": 38,
    "start_time": "2021-08-04T10:58:48.647Z"
   },
   {
    "duration": 9,
    "start_time": "2021-08-04T10:58:48.687Z"
   },
   {
    "duration": 13,
    "start_time": "2021-08-04T10:58:48.698Z"
   },
   {
    "duration": 10,
    "start_time": "2021-08-04T10:58:48.714Z"
   },
   {
    "duration": 15,
    "start_time": "2021-08-04T10:58:48.726Z"
   },
   {
    "duration": 6,
    "start_time": "2021-08-04T10:58:48.743Z"
   },
   {
    "duration": 221,
    "start_time": "2021-08-04T10:58:48.750Z"
   },
   {
    "duration": 154,
    "start_time": "2021-08-04T10:58:48.972Z"
   },
   {
    "duration": 6,
    "start_time": "2021-08-04T10:58:49.127Z"
   },
   {
    "duration": 10,
    "start_time": "2021-08-04T10:58:49.135Z"
   },
   {
    "duration": 7,
    "start_time": "2021-08-04T10:58:49.147Z"
   },
   {
    "duration": 248,
    "start_time": "2021-08-04T10:58:49.156Z"
   },
   {
    "duration": 244,
    "start_time": "2021-08-04T10:58:49.405Z"
   },
   {
    "duration": 6,
    "start_time": "2021-08-04T10:58:49.650Z"
   },
   {
    "duration": 401,
    "start_time": "2021-08-04T10:58:49.658Z"
   },
   {
    "duration": 4,
    "start_time": "2021-08-04T10:58:50.060Z"
   },
   {
    "duration": 8,
    "start_time": "2021-08-04T10:58:50.065Z"
   },
   {
    "duration": 209,
    "start_time": "2021-08-04T10:58:50.075Z"
   },
   {
    "duration": 7,
    "start_time": "2021-08-04T10:58:50.286Z"
   },
   {
    "duration": 331,
    "start_time": "2021-08-04T10:58:50.294Z"
   },
   {
    "duration": 160,
    "start_time": "2021-08-04T10:58:50.626Z"
   },
   {
    "duration": 314,
    "start_time": "2021-08-04T10:58:50.787Z"
   },
   {
    "duration": 5,
    "start_time": "2021-08-04T10:58:51.103Z"
   },
   {
    "duration": 310,
    "start_time": "2021-08-04T10:58:51.110Z"
   },
   {
    "duration": 5,
    "start_time": "2021-08-04T10:58:51.422Z"
   },
   {
    "duration": 66,
    "start_time": "2021-08-04T10:58:51.428Z"
   },
   {
    "duration": 69,
    "start_time": "2021-08-04T10:58:51.496Z"
   },
   {
    "duration": 74,
    "start_time": "2021-08-04T10:58:51.567Z"
   },
   {
    "duration": 73,
    "start_time": "2021-08-04T10:58:51.643Z"
   },
   {
    "duration": 29,
    "start_time": "2021-08-04T10:58:51.717Z"
   },
   {
    "duration": 120,
    "start_time": "2021-08-04T10:58:51.748Z"
   },
   {
    "duration": 6,
    "start_time": "2021-08-04T10:58:51.870Z"
   },
   {
    "duration": 7,
    "start_time": "2021-08-04T10:58:51.884Z"
   },
   {
    "duration": 9,
    "start_time": "2021-08-04T10:58:51.893Z"
   },
   {
    "duration": 9,
    "start_time": "2021-08-04T10:58:51.903Z"
   },
   {
    "duration": 9,
    "start_time": "2021-08-04T10:58:51.914Z"
   },
   {
    "duration": 8,
    "start_time": "2021-08-04T10:58:51.925Z"
   },
   {
    "duration": 14,
    "start_time": "2021-08-04T10:59:29.364Z"
   },
   {
    "duration": 70,
    "start_time": "2021-08-04T11:10:07.941Z"
   },
   {
    "duration": 66,
    "start_time": "2021-08-04T11:11:09.500Z"
   },
   {
    "duration": 3,
    "start_time": "2021-08-04T11:11:15.237Z"
   },
   {
    "duration": 71,
    "start_time": "2021-08-04T11:11:15.242Z"
   },
   {
    "duration": 6,
    "start_time": "2021-08-04T11:11:15.315Z"
   },
   {
    "duration": 8,
    "start_time": "2021-08-04T11:11:15.323Z"
   },
   {
    "duration": 8,
    "start_time": "2021-08-04T11:11:15.332Z"
   },
   {
    "duration": 6,
    "start_time": "2021-08-04T11:11:15.341Z"
   },
   {
    "duration": 8,
    "start_time": "2021-08-04T11:11:15.349Z"
   },
   {
    "duration": 11,
    "start_time": "2021-08-04T11:11:15.359Z"
   },
   {
    "duration": 14,
    "start_time": "2021-08-04T11:11:15.372Z"
   },
   {
    "duration": 5,
    "start_time": "2021-08-04T11:11:15.387Z"
   },
   {
    "duration": 9,
    "start_time": "2021-08-04T11:11:15.393Z"
   },
   {
    "duration": 11,
    "start_time": "2021-08-04T11:11:15.404Z"
   },
   {
    "duration": 7,
    "start_time": "2021-08-04T11:11:15.416Z"
   },
   {
    "duration": 6,
    "start_time": "2021-08-04T11:11:15.425Z"
   },
   {
    "duration": 10,
    "start_time": "2021-08-04T11:11:15.433Z"
   },
   {
    "duration": 25,
    "start_time": "2021-08-04T11:11:15.444Z"
   },
   {
    "duration": 9,
    "start_time": "2021-08-04T11:11:15.485Z"
   },
   {
    "duration": 8,
    "start_time": "2021-08-04T11:11:15.495Z"
   },
   {
    "duration": 12,
    "start_time": "2021-08-04T11:11:15.504Z"
   },
   {
    "duration": 14,
    "start_time": "2021-08-04T11:11:15.518Z"
   },
   {
    "duration": 8,
    "start_time": "2021-08-04T11:11:15.533Z"
   },
   {
    "duration": 230,
    "start_time": "2021-08-04T11:11:15.543Z"
   },
   {
    "duration": 155,
    "start_time": "2021-08-04T11:11:15.776Z"
   },
   {
    "duration": 6,
    "start_time": "2021-08-04T11:11:15.933Z"
   },
   {
    "duration": 10,
    "start_time": "2021-08-04T11:11:15.941Z"
   },
   {
    "duration": 5,
    "start_time": "2021-08-04T11:11:15.953Z"
   },
   {
    "duration": 249,
    "start_time": "2021-08-04T11:11:15.960Z"
   },
   {
    "duration": 230,
    "start_time": "2021-08-04T11:11:16.210Z"
   },
   {
    "duration": 6,
    "start_time": "2021-08-04T11:11:16.442Z"
   },
   {
    "duration": 325,
    "start_time": "2021-08-04T11:11:16.449Z"
   },
   {
    "duration": 9,
    "start_time": "2021-08-04T11:11:16.776Z"
   },
   {
    "duration": 12,
    "start_time": "2021-08-04T11:11:16.787Z"
   },
   {
    "duration": 204,
    "start_time": "2021-08-04T11:11:16.800Z"
   },
   {
    "duration": 8,
    "start_time": "2021-08-04T11:11:17.006Z"
   },
   {
    "duration": 313,
    "start_time": "2021-08-04T11:11:17.016Z"
   },
   {
    "duration": 109,
    "start_time": "2021-08-04T11:11:17.330Z"
   },
   {
    "duration": 364,
    "start_time": "2021-08-04T11:11:17.440Z"
   },
   {
    "duration": 5,
    "start_time": "2021-08-04T11:11:17.805Z"
   },
   {
    "duration": 313,
    "start_time": "2021-08-04T11:11:17.811Z"
   },
   {
    "duration": 5,
    "start_time": "2021-08-04T11:11:18.125Z"
   },
   {
    "duration": 70,
    "start_time": "2021-08-04T11:11:18.131Z"
   },
   {
    "duration": 61,
    "start_time": "2021-08-04T11:11:18.203Z"
   },
   {
    "duration": 74,
    "start_time": "2021-08-04T11:11:18.266Z"
   },
   {
    "duration": 68,
    "start_time": "2021-08-04T11:11:18.342Z"
   },
   {
    "duration": 27,
    "start_time": "2021-08-04T11:11:18.412Z"
   },
   {
    "duration": 111,
    "start_time": "2021-08-04T11:11:18.441Z"
   },
   {
    "duration": 5,
    "start_time": "2021-08-04T11:11:18.553Z"
   },
   {
    "duration": 16,
    "start_time": "2021-08-04T11:11:18.560Z"
   },
   {
    "duration": 32,
    "start_time": "2021-08-04T11:11:18.578Z"
   },
   {
    "duration": 22,
    "start_time": "2021-08-04T11:11:18.612Z"
   },
   {
    "duration": 32,
    "start_time": "2021-08-04T11:11:18.636Z"
   },
   {
    "duration": 27,
    "start_time": "2021-08-04T11:11:18.669Z"
   },
   {
    "duration": 20,
    "start_time": "2021-08-04T11:11:18.697Z"
   },
   {
    "duration": 3,
    "start_time": "2021-08-04T11:13:36.461Z"
   },
   {
    "duration": 91,
    "start_time": "2021-08-04T11:13:36.466Z"
   },
   {
    "duration": 7,
    "start_time": "2021-08-04T11:13:36.559Z"
   },
   {
    "duration": 30,
    "start_time": "2021-08-04T11:13:36.568Z"
   },
   {
    "duration": 19,
    "start_time": "2021-08-04T11:13:36.599Z"
   },
   {
    "duration": 23,
    "start_time": "2021-08-04T11:13:36.619Z"
   },
   {
    "duration": 26,
    "start_time": "2021-08-04T11:13:36.644Z"
   },
   {
    "duration": 28,
    "start_time": "2021-08-04T11:13:36.672Z"
   },
   {
    "duration": 16,
    "start_time": "2021-08-04T11:13:36.702Z"
   },
   {
    "duration": 16,
    "start_time": "2021-08-04T11:13:36.720Z"
   },
   {
    "duration": 17,
    "start_time": "2021-08-04T11:13:36.737Z"
   },
   {
    "duration": 7,
    "start_time": "2021-08-04T11:13:36.755Z"
   },
   {
    "duration": 8,
    "start_time": "2021-08-04T11:13:36.764Z"
   },
   {
    "duration": 16,
    "start_time": "2021-08-04T11:13:36.774Z"
   },
   {
    "duration": 9,
    "start_time": "2021-08-04T11:13:36.791Z"
   },
   {
    "duration": 16,
    "start_time": "2021-08-04T11:13:36.801Z"
   },
   {
    "duration": 11,
    "start_time": "2021-08-04T11:13:36.819Z"
   },
   {
    "duration": 8,
    "start_time": "2021-08-04T11:13:36.832Z"
   },
   {
    "duration": 12,
    "start_time": "2021-08-04T11:13:36.841Z"
   },
   {
    "duration": 37,
    "start_time": "2021-08-04T11:13:36.855Z"
   },
   {
    "duration": 6,
    "start_time": "2021-08-04T11:13:36.893Z"
   },
   {
    "duration": 215,
    "start_time": "2021-08-04T11:13:36.901Z"
   },
   {
    "duration": 152,
    "start_time": "2021-08-04T11:13:37.119Z"
   },
   {
    "duration": 14,
    "start_time": "2021-08-04T11:13:37.273Z"
   },
   {
    "duration": 11,
    "start_time": "2021-08-04T11:13:37.289Z"
   },
   {
    "duration": 8,
    "start_time": "2021-08-04T11:13:37.301Z"
   },
   {
    "duration": 254,
    "start_time": "2021-08-04T11:13:37.310Z"
   },
   {
    "duration": 238,
    "start_time": "2021-08-04T11:13:37.566Z"
   },
   {
    "duration": 6,
    "start_time": "2021-08-04T11:13:37.805Z"
   },
   {
    "duration": 346,
    "start_time": "2021-08-04T11:13:37.812Z"
   },
   {
    "duration": 4,
    "start_time": "2021-08-04T11:13:38.159Z"
   },
   {
    "duration": 7,
    "start_time": "2021-08-04T11:13:38.165Z"
   },
   {
    "duration": 245,
    "start_time": "2021-08-04T11:13:38.173Z"
   },
   {
    "duration": 7,
    "start_time": "2021-08-04T11:13:38.420Z"
   },
   {
    "duration": 307,
    "start_time": "2021-08-04T11:13:38.429Z"
   },
   {
    "duration": 106,
    "start_time": "2021-08-04T11:13:38.737Z"
   },
   {
    "duration": 291,
    "start_time": "2021-08-04T11:13:38.845Z"
   },
   {
    "duration": 5,
    "start_time": "2021-08-04T11:13:39.138Z"
   },
   {
    "duration": 313,
    "start_time": "2021-08-04T11:13:39.145Z"
   },
   {
    "duration": 6,
    "start_time": "2021-08-04T11:13:39.460Z"
   },
   {
    "duration": 72,
    "start_time": "2021-08-04T11:13:39.467Z"
   },
   {
    "duration": 59,
    "start_time": "2021-08-04T11:13:39.541Z"
   },
   {
    "duration": 78,
    "start_time": "2021-08-04T11:13:39.602Z"
   },
   {
    "duration": 72,
    "start_time": "2021-08-04T11:13:39.681Z"
   },
   {
    "duration": 47,
    "start_time": "2021-08-04T11:13:39.755Z"
   },
   {
    "duration": 119,
    "start_time": "2021-08-04T11:13:39.804Z"
   },
   {
    "duration": 5,
    "start_time": "2021-08-04T11:13:39.925Z"
   },
   {
    "duration": 23,
    "start_time": "2021-08-04T11:13:39.932Z"
   },
   {
    "duration": 24,
    "start_time": "2021-08-04T11:13:39.957Z"
   },
   {
    "duration": 12,
    "start_time": "2021-08-04T11:13:39.983Z"
   },
   {
    "duration": 16,
    "start_time": "2021-08-04T11:13:39.997Z"
   },
   {
    "duration": 23,
    "start_time": "2021-08-04T11:13:40.015Z"
   },
   {
    "duration": 36,
    "start_time": "2021-08-04T11:13:40.040Z"
   },
   {
    "duration": 992,
    "start_time": "2021-08-04T13:04:46.740Z"
   },
   {
    "duration": 87,
    "start_time": "2021-08-04T13:04:47.734Z"
   },
   {
    "duration": 10,
    "start_time": "2021-08-04T13:04:47.823Z"
   },
   {
    "duration": 6,
    "start_time": "2021-08-04T13:04:47.834Z"
   },
   {
    "duration": 8,
    "start_time": "2021-08-04T13:04:47.841Z"
   },
   {
    "duration": 7,
    "start_time": "2021-08-04T13:04:47.850Z"
   },
   {
    "duration": 8,
    "start_time": "2021-08-04T13:04:47.859Z"
   },
   {
    "duration": 9,
    "start_time": "2021-08-04T13:04:47.869Z"
   },
   {
    "duration": 19,
    "start_time": "2021-08-04T13:04:47.879Z"
   },
   {
    "duration": 7,
    "start_time": "2021-08-04T13:04:47.899Z"
   },
   {
    "duration": 8,
    "start_time": "2021-08-04T13:04:47.908Z"
   },
   {
    "duration": 6,
    "start_time": "2021-08-04T13:04:47.918Z"
   },
   {
    "duration": 8,
    "start_time": "2021-08-04T13:04:47.926Z"
   },
   {
    "duration": 7,
    "start_time": "2021-08-04T13:04:47.936Z"
   },
   {
    "duration": 9,
    "start_time": "2021-08-04T13:04:47.944Z"
   },
   {
    "duration": 32,
    "start_time": "2021-08-04T13:04:47.955Z"
   },
   {
    "duration": 8,
    "start_time": "2021-08-04T13:04:47.989Z"
   },
   {
    "duration": 10,
    "start_time": "2021-08-04T13:04:47.999Z"
   },
   {
    "duration": 14,
    "start_time": "2021-08-04T13:04:48.010Z"
   },
   {
    "duration": 11,
    "start_time": "2021-08-04T13:04:48.025Z"
   },
   {
    "duration": 18,
    "start_time": "2021-08-04T13:04:48.037Z"
   },
   {
    "duration": 217,
    "start_time": "2021-08-04T13:04:48.057Z"
   },
   {
    "duration": 158,
    "start_time": "2021-08-04T13:04:48.277Z"
   },
   {
    "duration": 7,
    "start_time": "2021-08-04T13:04:48.437Z"
   },
   {
    "duration": 16,
    "start_time": "2021-08-04T13:04:48.446Z"
   },
   {
    "duration": 23,
    "start_time": "2021-08-04T13:04:48.463Z"
   },
   {
    "duration": 251,
    "start_time": "2021-08-04T13:04:48.487Z"
   },
   {
    "duration": 237,
    "start_time": "2021-08-04T13:04:48.740Z"
   },
   {
    "duration": 9,
    "start_time": "2021-08-04T13:04:48.979Z"
   },
   {
    "duration": 346,
    "start_time": "2021-08-04T13:04:48.990Z"
   },
   {
    "duration": 5,
    "start_time": "2021-08-04T13:04:49.337Z"
   },
   {
    "duration": 22,
    "start_time": "2021-08-04T13:04:49.343Z"
   },
   {
    "duration": 222,
    "start_time": "2021-08-04T13:04:49.367Z"
   },
   {
    "duration": 9,
    "start_time": "2021-08-04T13:04:49.591Z"
   },
   {
    "duration": 362,
    "start_time": "2021-08-04T13:04:49.602Z"
   },
   {
    "duration": 120,
    "start_time": "2021-08-04T13:04:49.965Z"
   },
   {
    "duration": 321,
    "start_time": "2021-08-04T13:04:50.086Z"
   },
   {
    "duration": 4,
    "start_time": "2021-08-04T13:04:50.409Z"
   },
   {
    "duration": 471,
    "start_time": "2021-08-04T13:04:50.414Z"
   },
   {
    "duration": 4,
    "start_time": "2021-08-04T13:04:50.887Z"
   },
   {
    "duration": 63,
    "start_time": "2021-08-04T13:04:50.893Z"
   },
   {
    "duration": 72,
    "start_time": "2021-08-04T13:04:50.958Z"
   },
   {
    "duration": 87,
    "start_time": "2021-08-04T13:04:51.032Z"
   },
   {
    "duration": 77,
    "start_time": "2021-08-04T13:04:51.121Z"
   },
   {
    "duration": 31,
    "start_time": "2021-08-04T13:04:51.200Z"
   },
   {
    "duration": 119,
    "start_time": "2021-08-04T13:04:51.232Z"
   },
   {
    "duration": 6,
    "start_time": "2021-08-04T13:04:51.353Z"
   },
   {
    "duration": 18,
    "start_time": "2021-08-04T13:04:51.360Z"
   },
   {
    "duration": 18,
    "start_time": "2021-08-04T13:04:51.379Z"
   },
   {
    "duration": 8,
    "start_time": "2021-08-04T13:04:51.399Z"
   },
   {
    "duration": 18,
    "start_time": "2021-08-04T13:04:51.409Z"
   },
   {
    "duration": 6,
    "start_time": "2021-08-04T13:04:51.428Z"
   },
   {
    "duration": 16,
    "start_time": "2021-08-04T13:04:51.436Z"
   },
   {
    "duration": 2144,
    "start_time": "2021-08-04T16:46:29.509Z"
   },
   {
    "duration": 78,
    "start_time": "2021-08-04T16:46:31.657Z"
   },
   {
    "duration": 16,
    "start_time": "2021-08-04T16:46:31.738Z"
   },
   {
    "duration": 9,
    "start_time": "2021-08-04T16:46:31.757Z"
   },
   {
    "duration": 19,
    "start_time": "2021-08-04T16:46:31.770Z"
   },
   {
    "duration": 20,
    "start_time": "2021-08-04T16:46:31.792Z"
   },
   {
    "duration": 15,
    "start_time": "2021-08-04T16:46:31.814Z"
   },
   {
    "duration": 36,
    "start_time": "2021-08-04T16:46:31.832Z"
   },
   {
    "duration": 11,
    "start_time": "2021-08-04T16:46:31.874Z"
   },
   {
    "duration": 15,
    "start_time": "2021-08-04T16:46:31.888Z"
   },
   {
    "duration": 25,
    "start_time": "2021-08-04T16:46:31.906Z"
   },
   {
    "duration": 41,
    "start_time": "2021-08-04T16:46:31.933Z"
   },
   {
    "duration": 9,
    "start_time": "2021-08-04T16:46:31.977Z"
   },
   {
    "duration": 14,
    "start_time": "2021-08-04T16:46:31.988Z"
   },
   {
    "duration": 20,
    "start_time": "2021-08-04T16:46:32.004Z"
   },
   {
    "duration": 58,
    "start_time": "2021-08-04T16:46:32.027Z"
   },
   {
    "duration": 18,
    "start_time": "2021-08-04T16:46:32.087Z"
   },
   {
    "duration": 14,
    "start_time": "2021-08-04T16:46:32.108Z"
   },
   {
    "duration": 49,
    "start_time": "2021-08-04T16:46:32.124Z"
   },
   {
    "duration": 19,
    "start_time": "2021-08-04T16:46:32.176Z"
   },
   {
    "duration": 15,
    "start_time": "2021-08-04T16:46:32.198Z"
   },
   {
    "duration": 376,
    "start_time": "2021-08-04T16:46:32.216Z"
   },
   {
    "duration": 285,
    "start_time": "2021-08-04T16:46:32.594Z"
   },
   {
    "duration": 9,
    "start_time": "2021-08-04T16:46:32.881Z"
   },
   {
    "duration": 17,
    "start_time": "2021-08-04T16:46:32.892Z"
   },
   {
    "duration": 12,
    "start_time": "2021-08-04T16:46:32.912Z"
   },
   {
    "duration": 432,
    "start_time": "2021-08-04T16:46:32.931Z"
   },
   {
    "duration": 384,
    "start_time": "2021-08-04T16:46:33.365Z"
   },
   {
    "duration": 17,
    "start_time": "2021-08-04T16:46:33.752Z"
   },
   {
    "duration": 468,
    "start_time": "2021-08-04T16:46:33.772Z"
   },
   {
    "duration": 6,
    "start_time": "2021-08-04T16:46:34.242Z"
   },
   {
    "duration": 20,
    "start_time": "2021-08-04T16:46:34.251Z"
   },
   {
    "duration": 349,
    "start_time": "2021-08-04T16:46:34.273Z"
   },
   {
    "duration": 11,
    "start_time": "2021-08-04T16:46:34.624Z"
   },
   {
    "duration": 462,
    "start_time": "2021-08-04T16:46:34.638Z"
   },
   {
    "duration": 240,
    "start_time": "2021-08-04T16:46:35.102Z"
   },
   {
    "duration": 445,
    "start_time": "2021-08-04T16:46:35.344Z"
   },
   {
    "duration": 8,
    "start_time": "2021-08-04T16:46:35.792Z"
   },
   {
    "duration": 507,
    "start_time": "2021-08-04T16:46:35.803Z"
   },
   {
    "duration": 8,
    "start_time": "2021-08-04T16:46:36.313Z"
   },
   {
    "duration": 123,
    "start_time": "2021-08-04T16:46:36.324Z"
   },
   {
    "duration": 119,
    "start_time": "2021-08-04T16:46:36.449Z"
   },
   {
    "duration": 123,
    "start_time": "2021-08-04T16:46:36.571Z"
   },
   {
    "duration": 128,
    "start_time": "2021-08-04T16:46:36.696Z"
   },
   {
    "duration": 66,
    "start_time": "2021-08-04T16:46:36.826Z"
   },
   {
    "duration": 226,
    "start_time": "2021-08-04T16:46:36.894Z"
   },
   {
    "duration": 7,
    "start_time": "2021-08-04T16:46:37.123Z"
   },
   {
    "duration": 13,
    "start_time": "2021-08-04T16:46:37.132Z"
   },
   {
    "duration": 30,
    "start_time": "2021-08-04T16:46:37.148Z"
   },
   {
    "duration": 16,
    "start_time": "2021-08-04T16:46:37.180Z"
   },
   {
    "duration": 19,
    "start_time": "2021-08-04T16:46:37.198Z"
   },
   {
    "duration": 17,
    "start_time": "2021-08-04T16:46:37.220Z"
   },
   {
    "duration": 37,
    "start_time": "2021-08-04T16:46:37.239Z"
   },
   {
    "duration": 107,
    "start_time": "2021-08-04T16:50:11.306Z"
   },
   {
    "duration": 103,
    "start_time": "2021-08-04T16:55:02.253Z"
   },
   {
    "duration": 133,
    "start_time": "2021-08-04T17:00:27.231Z"
   },
   {
    "duration": 395,
    "start_time": "2021-08-04T17:18:15.397Z"
   },
   {
    "duration": 1534,
    "start_time": "2021-08-04T17:18:19.246Z"
   },
   {
    "duration": 121,
    "start_time": "2021-08-04T17:18:20.782Z"
   },
   {
    "duration": 20,
    "start_time": "2021-08-04T17:18:20.907Z"
   },
   {
    "duration": 24,
    "start_time": "2021-08-04T17:18:20.930Z"
   },
   {
    "duration": 28,
    "start_time": "2021-08-04T17:18:20.957Z"
   },
   {
    "duration": 10,
    "start_time": "2021-08-04T17:18:20.988Z"
   },
   {
    "duration": 16,
    "start_time": "2021-08-04T17:18:21.001Z"
   },
   {
    "duration": 17,
    "start_time": "2021-08-04T17:18:21.020Z"
   },
   {
    "duration": 18,
    "start_time": "2021-08-04T17:18:21.041Z"
   },
   {
    "duration": 10,
    "start_time": "2021-08-04T17:18:21.063Z"
   },
   {
    "duration": 34,
    "start_time": "2021-08-04T17:18:21.075Z"
   },
   {
    "duration": 15,
    "start_time": "2021-08-04T17:18:21.111Z"
   },
   {
    "duration": 9,
    "start_time": "2021-08-04T17:18:21.128Z"
   },
   {
    "duration": 10,
    "start_time": "2021-08-04T17:18:21.140Z"
   },
   {
    "duration": 50,
    "start_time": "2021-08-04T17:18:21.152Z"
   },
   {
    "duration": 26,
    "start_time": "2021-08-04T17:18:21.205Z"
   },
   {
    "duration": 17,
    "start_time": "2021-08-04T17:18:21.234Z"
   },
   {
    "duration": 51,
    "start_time": "2021-08-04T17:18:21.254Z"
   },
   {
    "duration": 23,
    "start_time": "2021-08-04T17:18:21.308Z"
   },
   {
    "duration": 18,
    "start_time": "2021-08-04T17:18:21.334Z"
   },
   {
    "duration": 9,
    "start_time": "2021-08-04T17:18:21.355Z"
   },
   {
    "duration": 408,
    "start_time": "2021-08-04T17:18:21.402Z"
   },
   {
    "duration": 305,
    "start_time": "2021-08-04T17:18:21.812Z"
   },
   {
    "duration": 10,
    "start_time": "2021-08-04T17:18:22.119Z"
   },
   {
    "duration": 27,
    "start_time": "2021-08-04T17:18:22.131Z"
   },
   {
    "duration": 17,
    "start_time": "2021-08-04T17:18:22.160Z"
   },
   {
    "duration": 496,
    "start_time": "2021-08-04T17:18:22.185Z"
   },
   {
    "duration": 422,
    "start_time": "2021-08-04T17:18:22.685Z"
   },
   {
    "duration": 8,
    "start_time": "2021-08-04T17:18:23.109Z"
   },
   {
    "duration": 481,
    "start_time": "2021-08-04T17:18:23.119Z"
   },
   {
    "duration": 5,
    "start_time": "2021-08-04T17:18:23.603Z"
   },
   {
    "duration": 15,
    "start_time": "2021-08-04T17:18:23.611Z"
   },
   {
    "duration": 434,
    "start_time": "2021-08-04T17:18:23.629Z"
   },
   {
    "duration": 15,
    "start_time": "2021-08-04T17:18:24.066Z"
   },
   {
    "duration": 496,
    "start_time": "2021-08-04T17:18:24.084Z"
   },
   {
    "duration": 224,
    "start_time": "2021-08-04T17:18:24.582Z"
   },
   {
    "duration": 476,
    "start_time": "2021-08-04T17:18:24.809Z"
   },
   {
    "duration": 17,
    "start_time": "2021-08-04T17:18:25.288Z"
   },
   {
    "duration": 595,
    "start_time": "2021-08-04T17:18:25.308Z"
   },
   {
    "duration": 8,
    "start_time": "2021-08-04T17:18:25.905Z"
   },
   {
    "duration": 148,
    "start_time": "2021-08-04T17:18:25.916Z"
   },
   {
    "duration": 137,
    "start_time": "2021-08-04T17:18:26.067Z"
   },
   {
    "duration": 137,
    "start_time": "2021-08-04T17:18:26.206Z"
   },
   {
    "duration": 143,
    "start_time": "2021-08-04T17:18:26.346Z"
   },
   {
    "duration": 52,
    "start_time": "2021-08-04T17:18:26.491Z"
   },
   {
    "duration": 282,
    "start_time": "2021-08-04T17:18:26.545Z"
   },
   {
    "duration": 8,
    "start_time": "2021-08-04T17:18:26.829Z"
   },
   {
    "duration": 14,
    "start_time": "2021-08-04T17:18:26.839Z"
   },
   {
    "duration": 16,
    "start_time": "2021-08-04T17:18:26.856Z"
   },
   {
    "duration": 20,
    "start_time": "2021-08-04T17:18:26.902Z"
   },
   {
    "duration": 12,
    "start_time": "2021-08-04T17:18:26.924Z"
   },
   {
    "duration": 10,
    "start_time": "2021-08-04T17:18:26.939Z"
   },
   {
    "duration": 64,
    "start_time": "2021-08-04T17:18:26.952Z"
   },
   {
    "duration": 1798,
    "start_time": "2021-08-04T20:25:15.042Z"
   },
   {
    "duration": 74,
    "start_time": "2021-08-04T20:25:16.843Z"
   },
   {
    "duration": 20,
    "start_time": "2021-08-04T20:25:16.921Z"
   },
   {
    "duration": 17,
    "start_time": "2021-08-04T20:25:16.945Z"
   },
   {
    "duration": 20,
    "start_time": "2021-08-04T20:25:16.965Z"
   },
   {
    "duration": 18,
    "start_time": "2021-08-04T20:25:16.989Z"
   },
   {
    "duration": 10235,
    "start_time": "2021-08-04T20:25:17.013Z"
   },
   {
    "duration": -328,
    "start_time": "2021-08-04T20:25:27.582Z"
   },
   {
    "duration": -328,
    "start_time": "2021-08-04T20:25:27.584Z"
   },
   {
    "duration": -329,
    "start_time": "2021-08-04T20:25:27.586Z"
   },
   {
    "duration": -329,
    "start_time": "2021-08-04T20:25:27.588Z"
   },
   {
    "duration": -328,
    "start_time": "2021-08-04T20:25:27.589Z"
   },
   {
    "duration": -329,
    "start_time": "2021-08-04T20:25:27.591Z"
   },
   {
    "duration": -329,
    "start_time": "2021-08-04T20:25:27.593Z"
   },
   {
    "duration": -329,
    "start_time": "2021-08-04T20:25:27.595Z"
   },
   {
    "duration": -330,
    "start_time": "2021-08-04T20:25:27.597Z"
   },
   {
    "duration": -330,
    "start_time": "2021-08-04T20:25:27.599Z"
   },
   {
    "duration": -330,
    "start_time": "2021-08-04T20:25:27.601Z"
   },
   {
    "duration": -330,
    "start_time": "2021-08-04T20:25:27.602Z"
   },
   {
    "duration": -330,
    "start_time": "2021-08-04T20:25:27.604Z"
   },
   {
    "duration": -330,
    "start_time": "2021-08-04T20:25:27.605Z"
   },
   {
    "duration": -330,
    "start_time": "2021-08-04T20:25:27.607Z"
   },
   {
    "duration": -330,
    "start_time": "2021-08-04T20:25:27.608Z"
   },
   {
    "duration": -330,
    "start_time": "2021-08-04T20:25:27.610Z"
   },
   {
    "duration": -329,
    "start_time": "2021-08-04T20:25:27.611Z"
   },
   {
    "duration": -330,
    "start_time": "2021-08-04T20:25:27.613Z"
   },
   {
    "duration": -329,
    "start_time": "2021-08-04T20:25:27.614Z"
   },
   {
    "duration": -323,
    "start_time": "2021-08-04T20:25:27.615Z"
   },
   {
    "duration": -322,
    "start_time": "2021-08-04T20:25:27.617Z"
   },
   {
    "duration": -343,
    "start_time": "2021-08-04T20:25:27.641Z"
   },
   {
    "duration": -342,
    "start_time": "2021-08-04T20:25:27.643Z"
   },
   {
    "duration": -341,
    "start_time": "2021-08-04T20:25:27.645Z"
   },
   {
    "duration": -338,
    "start_time": "2021-08-04T20:25:27.646Z"
   },
   {
    "duration": -335,
    "start_time": "2021-08-04T20:25:27.648Z"
   },
   {
    "duration": -334,
    "start_time": "2021-08-04T20:25:27.649Z"
   },
   {
    "duration": -334,
    "start_time": "2021-08-04T20:25:27.651Z"
   },
   {
    "duration": -334,
    "start_time": "2021-08-04T20:25:27.653Z"
   },
   {
    "duration": -334,
    "start_time": "2021-08-04T20:25:27.655Z"
   },
   {
    "duration": -335,
    "start_time": "2021-08-04T20:25:27.657Z"
   },
   {
    "duration": -335,
    "start_time": "2021-08-04T20:25:27.658Z"
   },
   {
    "duration": -334,
    "start_time": "2021-08-04T20:25:27.659Z"
   },
   {
    "duration": -335,
    "start_time": "2021-08-04T20:25:27.661Z"
   },
   {
    "duration": -334,
    "start_time": "2021-08-04T20:25:27.662Z"
   },
   {
    "duration": -334,
    "start_time": "2021-08-04T20:25:27.663Z"
   },
   {
    "duration": -334,
    "start_time": "2021-08-04T20:25:27.665Z"
   },
   {
    "duration": -334,
    "start_time": "2021-08-04T20:25:27.666Z"
   },
   {
    "duration": -335,
    "start_time": "2021-08-04T20:25:27.668Z"
   },
   {
    "duration": -334,
    "start_time": "2021-08-04T20:25:27.669Z"
   },
   {
    "duration": -283,
    "start_time": "2021-08-04T20:25:27.670Z"
   },
   {
    "duration": -283,
    "start_time": "2021-08-04T20:25:27.672Z"
   },
   {
    "duration": -283,
    "start_time": "2021-08-04T20:25:27.673Z"
   },
   {
    "duration": -283,
    "start_time": "2021-08-04T20:25:27.674Z"
   },
   {
    "duration": -282,
    "start_time": "2021-08-04T20:25:27.675Z"
   },
   {
    "duration": -282,
    "start_time": "2021-08-04T20:25:27.677Z"
   },
   {
    "duration": 20,
    "start_time": "2021-08-04T20:26:07.008Z"
   },
   {
    "duration": 4,
    "start_time": "2021-08-04T20:28:01.883Z"
   },
   {
    "duration": 80,
    "start_time": "2021-08-04T20:28:01.891Z"
   },
   {
    "duration": 13,
    "start_time": "2021-08-04T20:28:01.974Z"
   },
   {
    "duration": 27,
    "start_time": "2021-08-04T20:28:01.991Z"
   },
   {
    "duration": 35,
    "start_time": "2021-08-04T20:28:02.021Z"
   },
   {
    "duration": 31,
    "start_time": "2021-08-04T20:28:02.058Z"
   },
   {
    "duration": 538,
    "start_time": "2021-08-04T20:28:02.091Z"
   },
   {
    "duration": -66,
    "start_time": "2021-08-04T20:28:02.701Z"
   },
   {
    "duration": -66,
    "start_time": "2021-08-04T20:28:02.704Z"
   },
   {
    "duration": -66,
    "start_time": "2021-08-04T20:28:02.706Z"
   },
   {
    "duration": -66,
    "start_time": "2021-08-04T20:28:02.708Z"
   },
   {
    "duration": -65,
    "start_time": "2021-08-04T20:28:02.710Z"
   },
   {
    "duration": -69,
    "start_time": "2021-08-04T20:28:02.716Z"
   },
   {
    "duration": -69,
    "start_time": "2021-08-04T20:28:02.718Z"
   },
   {
    "duration": -69,
    "start_time": "2021-08-04T20:28:02.720Z"
   },
   {
    "duration": -70,
    "start_time": "2021-08-04T20:28:02.722Z"
   },
   {
    "duration": -73,
    "start_time": "2021-08-04T20:28:02.727Z"
   },
   {
    "duration": -74,
    "start_time": "2021-08-04T20:28:02.729Z"
   },
   {
    "duration": -74,
    "start_time": "2021-08-04T20:28:02.730Z"
   },
   {
    "duration": -75,
    "start_time": "2021-08-04T20:28:02.732Z"
   },
   {
    "duration": -76,
    "start_time": "2021-08-04T20:28:02.734Z"
   },
   {
    "duration": -76,
    "start_time": "2021-08-04T20:28:02.735Z"
   },
   {
    "duration": -77,
    "start_time": "2021-08-04T20:28:02.737Z"
   },
   {
    "duration": -77,
    "start_time": "2021-08-04T20:28:02.738Z"
   },
   {
    "duration": -77,
    "start_time": "2021-08-04T20:28:02.740Z"
   },
   {
    "duration": -77,
    "start_time": "2021-08-04T20:28:02.741Z"
   },
   {
    "duration": -78,
    "start_time": "2021-08-04T20:28:02.743Z"
   },
   {
    "duration": -81,
    "start_time": "2021-08-04T20:28:02.748Z"
   },
   {
    "duration": -82,
    "start_time": "2021-08-04T20:28:02.750Z"
   },
   {
    "duration": -81,
    "start_time": "2021-08-04T20:28:02.751Z"
   },
   {
    "duration": -81,
    "start_time": "2021-08-04T20:28:02.752Z"
   },
   {
    "duration": -69,
    "start_time": "2021-08-04T20:28:02.754Z"
   },
   {
    "duration": -68,
    "start_time": "2021-08-04T20:28:02.755Z"
   },
   {
    "duration": -66,
    "start_time": "2021-08-04T20:28:02.756Z"
   },
   {
    "duration": -63,
    "start_time": "2021-08-04T20:28:02.757Z"
   },
   {
    "duration": -79,
    "start_time": "2021-08-04T20:28:02.775Z"
   },
   {
    "duration": -78,
    "start_time": "2021-08-04T20:28:02.777Z"
   },
   {
    "duration": -77,
    "start_time": "2021-08-04T20:28:02.778Z"
   },
   {
    "duration": -123,
    "start_time": "2021-08-04T20:28:02.825Z"
   },
   {
    "duration": -123,
    "start_time": "2021-08-04T20:28:02.826Z"
   },
   {
    "duration": -132,
    "start_time": "2021-08-04T20:28:02.837Z"
   },
   {
    "duration": -131,
    "start_time": "2021-08-04T20:28:02.838Z"
   },
   {
    "duration": -131,
    "start_time": "2021-08-04T20:28:02.839Z"
   },
   {
    "duration": -149,
    "start_time": "2021-08-04T20:28:02.859Z"
   },
   {
    "duration": -152,
    "start_time": "2021-08-04T20:28:02.863Z"
   },
   {
    "duration": -151,
    "start_time": "2021-08-04T20:28:02.864Z"
   },
   {
    "duration": -150,
    "start_time": "2021-08-04T20:28:02.865Z"
   },
   {
    "duration": -150,
    "start_time": "2021-08-04T20:28:02.866Z"
   },
   {
    "duration": -151,
    "start_time": "2021-08-04T20:28:02.869Z"
   },
   {
    "duration": -163,
    "start_time": "2021-08-04T20:28:02.882Z"
   },
   {
    "duration": -162,
    "start_time": "2021-08-04T20:28:02.883Z"
   },
   {
    "duration": -163,
    "start_time": "2021-08-04T20:28:02.885Z"
   },
   {
    "duration": -162,
    "start_time": "2021-08-04T20:28:02.886Z"
   },
   {
    "duration": -161,
    "start_time": "2021-08-04T20:28:02.887Z"
   },
   {
    "duration": 14,
    "start_time": "2021-08-04T20:29:11.523Z"
   },
   {
    "duration": 13,
    "start_time": "2021-08-04T20:29:26.103Z"
   },
   {
    "duration": 13,
    "start_time": "2021-08-04T20:29:30.209Z"
   },
   {
    "duration": 15,
    "start_time": "2021-08-04T20:29:39.222Z"
   },
   {
    "duration": 10,
    "start_time": "2021-08-04T20:29:49.927Z"
   },
   {
    "duration": 5,
    "start_time": "2021-08-04T20:39:40.799Z"
   },
   {
    "duration": 72,
    "start_time": "2021-08-04T20:39:40.808Z"
   },
   {
    "duration": 16,
    "start_time": "2021-08-04T20:39:40.883Z"
   },
   {
    "duration": 13,
    "start_time": "2021-08-04T20:39:40.903Z"
   },
   {
    "duration": 12,
    "start_time": "2021-08-04T20:39:40.919Z"
   },
   {
    "duration": 54,
    "start_time": "2021-08-04T20:39:40.934Z"
   },
   {
    "duration": 17,
    "start_time": "2021-08-04T20:39:40.991Z"
   },
   {
    "duration": 12,
    "start_time": "2021-08-04T20:39:41.010Z"
   },
   {
    "duration": 21,
    "start_time": "2021-08-04T20:39:41.026Z"
   },
   {
    "duration": 40,
    "start_time": "2021-08-04T20:39:41.050Z"
   },
   {
    "duration": 10,
    "start_time": "2021-08-04T20:39:41.095Z"
   },
   {
    "duration": 12,
    "start_time": "2021-08-04T20:39:41.107Z"
   },
   {
    "duration": 13,
    "start_time": "2021-08-04T20:39:41.123Z"
   },
   {
    "duration": 56,
    "start_time": "2021-08-04T20:39:41.138Z"
   },
   {
    "duration": 10,
    "start_time": "2021-08-04T20:39:41.197Z"
   },
   {
    "duration": 8,
    "start_time": "2021-08-04T20:39:41.210Z"
   },
   {
    "duration": 13,
    "start_time": "2021-08-04T20:39:41.220Z"
   },
   {
    "duration": 68,
    "start_time": "2021-08-04T20:39:41.236Z"
   },
   {
    "duration": 14,
    "start_time": "2021-08-04T20:39:41.308Z"
   },
   {
    "duration": 15,
    "start_time": "2021-08-04T20:39:41.325Z"
   },
   {
    "duration": 49,
    "start_time": "2021-08-04T20:39:41.342Z"
   },
   {
    "duration": 27,
    "start_time": "2021-08-04T20:39:41.396Z"
   },
   {
    "duration": 13,
    "start_time": "2021-08-04T20:39:41.425Z"
   },
   {
    "duration": 403,
    "start_time": "2021-08-04T20:39:41.440Z"
   },
   {
    "duration": 298,
    "start_time": "2021-08-04T20:39:41.846Z"
   },
   {
    "duration": 10,
    "start_time": "2021-08-04T20:39:42.147Z"
   },
   {
    "duration": 35,
    "start_time": "2021-08-04T20:39:42.163Z"
   },
   {
    "duration": 13,
    "start_time": "2021-08-04T20:39:42.203Z"
   },
   {
    "duration": 436,
    "start_time": "2021-08-04T20:39:42.218Z"
   },
   {
    "duration": 456,
    "start_time": "2021-08-04T20:39:42.656Z"
   },
   {
    "duration": 9,
    "start_time": "2021-08-04T20:39:43.116Z"
   },
   {
    "duration": 1193,
    "start_time": "2021-08-04T20:39:43.128Z"
   },
   {
    "duration": 6,
    "start_time": "2021-08-04T20:39:44.323Z"
   },
   {
    "duration": 20,
    "start_time": "2021-08-04T20:39:44.331Z"
   },
   {
    "duration": 561,
    "start_time": "2021-08-04T20:39:44.353Z"
   },
   {
    "duration": 13,
    "start_time": "2021-08-04T20:39:44.918Z"
   },
   {
    "duration": 506,
    "start_time": "2021-08-04T20:39:44.934Z"
   },
   {
    "duration": 254,
    "start_time": "2021-08-04T20:39:45.443Z"
   },
   {
    "duration": 437,
    "start_time": "2021-08-04T20:39:45.700Z"
   },
   {
    "duration": 7,
    "start_time": "2021-08-04T20:39:46.139Z"
   },
   {
    "duration": 570,
    "start_time": "2021-08-04T20:39:46.148Z"
   },
   {
    "duration": 7,
    "start_time": "2021-08-04T20:39:46.720Z"
   },
   {
    "duration": 132,
    "start_time": "2021-08-04T20:39:46.729Z"
   },
   {
    "duration": 124,
    "start_time": "2021-08-04T20:39:46.863Z"
   },
   {
    "duration": 140,
    "start_time": "2021-08-04T20:39:46.992Z"
   },
   {
    "duration": 154,
    "start_time": "2021-08-04T20:39:47.134Z"
   },
   {
    "duration": 52,
    "start_time": "2021-08-04T20:39:47.292Z"
   },
   {
    "duration": 242,
    "start_time": "2021-08-04T20:39:47.346Z"
   },
   {
    "duration": 9,
    "start_time": "2021-08-04T20:39:47.593Z"
   },
   {
    "duration": 16,
    "start_time": "2021-08-04T20:39:47.605Z"
   },
   {
    "duration": 16,
    "start_time": "2021-08-04T20:39:47.623Z"
   },
   {
    "duration": 53,
    "start_time": "2021-08-04T20:39:47.642Z"
   },
   {
    "duration": 20,
    "start_time": "2021-08-04T20:39:47.698Z"
   },
   {
    "duration": 10,
    "start_time": "2021-08-04T20:39:47.720Z"
   },
   {
    "duration": 54,
    "start_time": "2021-08-04T20:39:47.732Z"
   },
   {
    "duration": 26,
    "start_time": "2021-08-04T20:43:14.136Z"
   },
   {
    "duration": 21,
    "start_time": "2021-08-04T20:43:22.297Z"
   },
   {
    "duration": 28,
    "start_time": "2021-08-04T20:43:26.187Z"
   },
   {
    "duration": 19,
    "start_time": "2021-08-04T20:43:49.923Z"
   },
   {
    "duration": 22,
    "start_time": "2021-08-04T20:45:04.845Z"
   },
   {
    "duration": 4,
    "start_time": "2021-08-04T20:45:16.037Z"
   },
   {
    "duration": 75,
    "start_time": "2021-08-04T20:45:16.044Z"
   },
   {
    "duration": 10,
    "start_time": "2021-08-04T20:45:16.122Z"
   },
   {
    "duration": 14,
    "start_time": "2021-08-04T20:45:16.135Z"
   },
   {
    "duration": 44,
    "start_time": "2021-08-04T20:45:16.151Z"
   },
   {
    "duration": 17,
    "start_time": "2021-08-04T20:45:16.198Z"
   },
   {
    "duration": 15,
    "start_time": "2021-08-04T20:45:16.217Z"
   },
   {
    "duration": 5,
    "start_time": "2021-08-04T20:45:16.236Z"
   },
   {
    "duration": 19,
    "start_time": "2021-08-04T20:45:16.285Z"
   },
   {
    "duration": 12,
    "start_time": "2021-08-04T20:45:16.307Z"
   },
   {
    "duration": 13,
    "start_time": "2021-08-04T20:45:16.322Z"
   },
   {
    "duration": 16,
    "start_time": "2021-08-04T20:45:16.338Z"
   },
   {
    "duration": 19,
    "start_time": "2021-08-04T20:45:16.388Z"
   },
   {
    "duration": 12,
    "start_time": "2021-08-04T20:45:16.410Z"
   },
   {
    "duration": 11,
    "start_time": "2021-08-04T20:45:16.425Z"
   },
   {
    "duration": 58,
    "start_time": "2021-08-04T20:45:16.439Z"
   },
   {
    "duration": 20,
    "start_time": "2021-08-04T20:45:16.501Z"
   },
   {
    "duration": 31,
    "start_time": "2021-08-04T20:45:16.524Z"
   },
   {
    "duration": 45,
    "start_time": "2021-08-04T20:45:16.558Z"
   },
   {
    "duration": 19,
    "start_time": "2021-08-04T20:45:16.607Z"
   },
   {
    "duration": 33,
    "start_time": "2021-08-04T20:45:16.629Z"
   },
   {
    "duration": 45,
    "start_time": "2021-08-04T20:45:16.666Z"
   },
   {
    "duration": 12,
    "start_time": "2021-08-04T20:45:16.723Z"
   },
   {
    "duration": 426,
    "start_time": "2021-08-04T20:45:16.738Z"
   },
   {
    "duration": 396,
    "start_time": "2021-08-04T20:45:17.166Z"
   },
   {
    "duration": 26,
    "start_time": "2021-08-04T20:45:17.566Z"
   },
   {
    "duration": 22,
    "start_time": "2021-08-04T20:45:17.596Z"
   },
   {
    "duration": 11,
    "start_time": "2021-08-04T20:45:17.621Z"
   },
   {
    "duration": 437,
    "start_time": "2021-08-04T20:45:17.635Z"
   },
   {
    "duration": 411,
    "start_time": "2021-08-04T20:45:18.075Z"
   },
   {
    "duration": 12,
    "start_time": "2021-08-04T20:45:18.490Z"
   },
   {
    "duration": 497,
    "start_time": "2021-08-04T20:45:18.506Z"
   },
   {
    "duration": 5,
    "start_time": "2021-08-04T20:45:19.007Z"
   },
   {
    "duration": 12,
    "start_time": "2021-08-04T20:45:19.015Z"
   },
   {
    "duration": 419,
    "start_time": "2021-08-04T20:45:19.029Z"
   },
   {
    "duration": 14,
    "start_time": "2021-08-04T20:45:19.451Z"
   },
   {
    "duration": 487,
    "start_time": "2021-08-04T20:45:19.467Z"
   },
   {
    "duration": 373,
    "start_time": "2021-08-04T20:45:19.957Z"
   },
   {
    "duration": 975,
    "start_time": "2021-08-04T20:45:20.333Z"
   },
   {
    "duration": 8,
    "start_time": "2021-08-04T20:45:21.312Z"
   },
   {
    "duration": 553,
    "start_time": "2021-08-04T20:45:21.322Z"
   },
   {
    "duration": 13,
    "start_time": "2021-08-04T20:45:21.877Z"
   },
   {
    "duration": 129,
    "start_time": "2021-08-04T20:45:21.894Z"
   },
   {
    "duration": 112,
    "start_time": "2021-08-04T20:45:22.026Z"
   },
   {
    "duration": 140,
    "start_time": "2021-08-04T20:45:22.141Z"
   },
   {
    "duration": 146,
    "start_time": "2021-08-04T20:45:22.284Z"
   },
   {
    "duration": 70,
    "start_time": "2021-08-04T20:45:22.432Z"
   },
   {
    "duration": 270,
    "start_time": "2021-08-04T20:45:22.504Z"
   },
   {
    "duration": 11,
    "start_time": "2021-08-04T20:45:22.776Z"
   },
   {
    "duration": 21,
    "start_time": "2021-08-04T20:45:22.791Z"
   },
   {
    "duration": 14,
    "start_time": "2021-08-04T20:45:22.815Z"
   },
   {
    "duration": 15,
    "start_time": "2021-08-04T20:45:22.832Z"
   },
   {
    "duration": 53,
    "start_time": "2021-08-04T20:45:22.850Z"
   },
   {
    "duration": 11,
    "start_time": "2021-08-04T20:45:22.906Z"
   },
   {
    "duration": 20,
    "start_time": "2021-08-04T20:45:22.919Z"
   },
   {
    "duration": 25,
    "start_time": "2021-08-04T20:45:54.091Z"
   },
   {
    "duration": 18,
    "start_time": "2021-08-04T20:46:02.809Z"
   },
   {
    "duration": 18,
    "start_time": "2021-08-04T20:47:07.708Z"
   },
   {
    "duration": 4,
    "start_time": "2021-08-04T20:47:16.339Z"
   },
   {
    "duration": 81,
    "start_time": "2021-08-04T20:47:16.346Z"
   },
   {
    "duration": 10,
    "start_time": "2021-08-04T20:47:16.430Z"
   },
   {
    "duration": 16,
    "start_time": "2021-08-04T20:47:16.443Z"
   },
   {
    "duration": 10,
    "start_time": "2021-08-04T20:47:16.462Z"
   },
   {
    "duration": 19,
    "start_time": "2021-08-04T20:47:16.474Z"
   },
   {
    "duration": 30,
    "start_time": "2021-08-04T20:47:16.496Z"
   },
   {
    "duration": 6,
    "start_time": "2021-08-04T20:47:16.529Z"
   },
   {
    "duration": 13,
    "start_time": "2021-08-04T20:47:16.540Z"
   },
   {
    "duration": 14,
    "start_time": "2021-08-04T20:47:16.589Z"
   },
   {
    "duration": 12,
    "start_time": "2021-08-04T20:47:16.606Z"
   },
   {
    "duration": 12,
    "start_time": "2021-08-04T20:47:16.620Z"
   },
   {
    "duration": 53,
    "start_time": "2021-08-04T20:47:16.635Z"
   },
   {
    "duration": 14,
    "start_time": "2021-08-04T20:47:16.692Z"
   },
   {
    "duration": 11,
    "start_time": "2021-08-04T20:47:16.709Z"
   },
   {
    "duration": 11,
    "start_time": "2021-08-04T20:47:16.723Z"
   },
   {
    "duration": 54,
    "start_time": "2021-08-04T20:47:16.737Z"
   },
   {
    "duration": 38,
    "start_time": "2021-08-04T20:47:16.794Z"
   },
   {
    "duration": 15,
    "start_time": "2021-08-04T20:47:16.835Z"
   },
   {
    "duration": 35,
    "start_time": "2021-08-04T20:47:16.854Z"
   },
   {
    "duration": 41,
    "start_time": "2021-08-04T20:47:16.893Z"
   },
   {
    "duration": 27,
    "start_time": "2021-08-04T20:47:16.936Z"
   },
   {
    "duration": 22,
    "start_time": "2021-08-04T20:47:16.965Z"
   },
   {
    "duration": 416,
    "start_time": "2021-08-04T20:47:16.991Z"
   },
   {
    "duration": 317,
    "start_time": "2021-08-04T20:47:17.410Z"
   },
   {
    "duration": 9,
    "start_time": "2021-08-04T20:47:17.730Z"
   },
   {
    "duration": 15,
    "start_time": "2021-08-04T20:47:17.745Z"
   },
   {
    "duration": 19,
    "start_time": "2021-08-04T20:47:17.788Z"
   },
   {
    "duration": 408,
    "start_time": "2021-08-04T20:47:17.810Z"
   },
   {
    "duration": 428,
    "start_time": "2021-08-04T20:47:18.221Z"
   },
   {
    "duration": 9,
    "start_time": "2021-08-04T20:47:18.652Z"
   },
   {
    "duration": 1095,
    "start_time": "2021-08-04T20:47:18.664Z"
   },
   {
    "duration": 11,
    "start_time": "2021-08-04T20:47:19.789Z"
   },
   {
    "duration": 10,
    "start_time": "2021-08-04T20:47:19.805Z"
   },
   {
    "duration": 405,
    "start_time": "2021-08-04T20:47:19.819Z"
   },
   {
    "duration": 12,
    "start_time": "2021-08-04T20:47:20.227Z"
   },
   {
    "duration": 636,
    "start_time": "2021-08-04T20:47:20.243Z"
   },
   {
    "duration": 260,
    "start_time": "2021-08-04T20:47:20.887Z"
   },
   {
    "duration": 572,
    "start_time": "2021-08-04T20:47:21.149Z"
   },
   {
    "duration": 8,
    "start_time": "2021-08-04T20:47:21.723Z"
   },
   {
    "duration": 503,
    "start_time": "2021-08-04T20:47:21.733Z"
   },
   {
    "duration": 8,
    "start_time": "2021-08-04T20:47:22.239Z"
   },
   {
    "duration": 184,
    "start_time": "2021-08-04T20:47:22.250Z"
   },
   {
    "duration": 164,
    "start_time": "2021-08-04T20:47:22.437Z"
   },
   {
    "duration": 154,
    "start_time": "2021-08-04T20:47:22.604Z"
   },
   {
    "duration": 162,
    "start_time": "2021-08-04T20:47:22.761Z"
   },
   {
    "duration": 65,
    "start_time": "2021-08-04T20:47:22.926Z"
   },
   {
    "duration": 256,
    "start_time": "2021-08-04T20:47:22.994Z"
   },
   {
    "duration": 8,
    "start_time": "2021-08-04T20:47:23.252Z"
   },
   {
    "duration": 30,
    "start_time": "2021-08-04T20:47:23.263Z"
   },
   {
    "duration": 20,
    "start_time": "2021-08-04T20:47:23.297Z"
   },
   {
    "duration": 14,
    "start_time": "2021-08-04T20:47:23.320Z"
   },
   {
    "duration": 60,
    "start_time": "2021-08-04T20:47:23.336Z"
   },
   {
    "duration": 11,
    "start_time": "2021-08-04T20:47:23.400Z"
   },
   {
    "duration": 21,
    "start_time": "2021-08-04T20:47:23.414Z"
   },
   {
    "duration": 406,
    "start_time": "2021-08-04T20:50:53.475Z"
   },
   {
    "duration": 6,
    "start_time": "2021-08-04T20:50:56.951Z"
   },
   {
    "duration": 76,
    "start_time": "2021-08-04T20:50:56.961Z"
   },
   {
    "duration": 10,
    "start_time": "2021-08-04T20:50:57.040Z"
   },
   {
    "duration": 14,
    "start_time": "2021-08-04T20:50:57.053Z"
   },
   {
    "duration": 17,
    "start_time": "2021-08-04T20:50:57.070Z"
   },
   {
    "duration": 19,
    "start_time": "2021-08-04T20:50:57.091Z"
   },
   {
    "duration": 15,
    "start_time": "2021-08-04T20:50:57.112Z"
   },
   {
    "duration": 5,
    "start_time": "2021-08-04T20:50:57.131Z"
   },
   {
    "duration": 18,
    "start_time": "2021-08-04T20:50:57.188Z"
   },
   {
    "duration": 8,
    "start_time": "2021-08-04T20:50:57.209Z"
   },
   {
    "duration": 11,
    "start_time": "2021-08-04T20:50:57.220Z"
   },
   {
    "duration": 61,
    "start_time": "2021-08-04T20:50:57.234Z"
   },
   {
    "duration": 12,
    "start_time": "2021-08-04T20:50:57.298Z"
   },
   {
    "duration": 10,
    "start_time": "2021-08-04T20:50:57.312Z"
   },
   {
    "duration": 16,
    "start_time": "2021-08-04T20:50:57.325Z"
   },
   {
    "duration": 49,
    "start_time": "2021-08-04T20:50:57.343Z"
   },
   {
    "duration": 11,
    "start_time": "2021-08-04T20:50:57.404Z"
   },
   {
    "duration": 35,
    "start_time": "2021-08-04T20:50:57.417Z"
   },
   {
    "duration": 41,
    "start_time": "2021-08-04T20:50:57.454Z"
   },
   {
    "duration": 15,
    "start_time": "2021-08-04T20:50:57.498Z"
   },
   {
    "duration": 24,
    "start_time": "2021-08-04T20:50:57.515Z"
   },
   {
    "duration": 62,
    "start_time": "2021-08-04T20:50:57.542Z"
   },
   {
    "duration": 8,
    "start_time": "2021-08-04T20:50:57.612Z"
   },
   {
    "duration": 399,
    "start_time": "2021-08-04T20:50:57.625Z"
   },
   {
    "duration": 297,
    "start_time": "2021-08-04T20:50:58.027Z"
   },
   {
    "duration": 9,
    "start_time": "2021-08-04T20:50:58.327Z"
   },
   {
    "duration": 15,
    "start_time": "2021-08-04T20:50:58.339Z"
   },
   {
    "duration": 39,
    "start_time": "2021-08-04T20:50:58.356Z"
   },
   {
    "duration": 406,
    "start_time": "2021-08-04T20:50:58.399Z"
   },
   {
    "duration": 421,
    "start_time": "2021-08-04T20:50:58.807Z"
   },
   {
    "duration": 8,
    "start_time": "2021-08-04T20:50:59.231Z"
   },
   {
    "duration": 533,
    "start_time": "2021-08-04T20:50:59.242Z"
   },
   {
    "duration": 13,
    "start_time": "2021-08-04T20:50:59.778Z"
   },
   {
    "duration": 12,
    "start_time": "2021-08-04T20:50:59.795Z"
   },
   {
    "duration": 393,
    "start_time": "2021-08-04T20:50:59.810Z"
   },
   {
    "duration": 18,
    "start_time": "2021-08-04T20:51:00.207Z"
   },
   {
    "duration": 555,
    "start_time": "2021-08-04T20:51:00.228Z"
   },
   {
    "duration": 248,
    "start_time": "2021-08-04T20:51:00.786Z"
   },
   {
    "duration": 620,
    "start_time": "2021-08-04T20:51:01.037Z"
   },
   {
    "duration": 8,
    "start_time": "2021-08-04T20:51:01.661Z"
   },
   {
    "duration": 547,
    "start_time": "2021-08-04T20:51:01.687Z"
   },
   {
    "duration": 7,
    "start_time": "2021-08-04T20:51:02.236Z"
   },
   {
    "duration": 133,
    "start_time": "2021-08-04T20:51:02.245Z"
   },
   {
    "duration": 108,
    "start_time": "2021-08-04T20:51:02.380Z"
   },
   {
    "duration": 146,
    "start_time": "2021-08-04T20:51:02.490Z"
   },
   {
    "duration": 132,
    "start_time": "2021-08-04T20:51:02.639Z"
   },
   {
    "duration": 67,
    "start_time": "2021-08-04T20:51:02.774Z"
   },
   {
    "duration": 247,
    "start_time": "2021-08-04T20:51:02.843Z"
   },
   {
    "duration": 12,
    "start_time": "2021-08-04T20:51:03.094Z"
   },
   {
    "duration": 14,
    "start_time": "2021-08-04T20:51:03.109Z"
   },
   {
    "duration": 15,
    "start_time": "2021-08-04T20:51:03.126Z"
   },
   {
    "duration": 70,
    "start_time": "2021-08-04T20:51:03.143Z"
   },
   {
    "duration": 33,
    "start_time": "2021-08-04T20:51:03.216Z"
   },
   {
    "duration": 16,
    "start_time": "2021-08-04T20:51:03.252Z"
   },
   {
    "duration": 28,
    "start_time": "2021-08-04T20:51:03.271Z"
   },
   {
    "duration": 420,
    "start_time": "2021-08-04T20:51:15.580Z"
   },
   {
    "duration": 536,
    "start_time": "2021-08-04T20:54:06.613Z"
   },
   {
    "duration": 6,
    "start_time": "2021-08-04T21:10:22.325Z"
   },
   {
    "duration": 76,
    "start_time": "2021-08-04T21:10:22.334Z"
   },
   {
    "duration": 10,
    "start_time": "2021-08-04T21:10:22.413Z"
   },
   {
    "duration": 11,
    "start_time": "2021-08-04T21:10:22.426Z"
   },
   {
    "duration": 16,
    "start_time": "2021-08-04T21:10:22.439Z"
   },
   {
    "duration": 13,
    "start_time": "2021-08-04T21:10:22.457Z"
   },
   {
    "duration": 23,
    "start_time": "2021-08-04T21:10:22.473Z"
   },
   {
    "duration": 5,
    "start_time": "2021-08-04T21:10:22.499Z"
   },
   {
    "duration": 21,
    "start_time": "2021-08-04T21:10:22.508Z"
   },
   {
    "duration": 14,
    "start_time": "2021-08-04T21:10:22.532Z"
   },
   {
    "duration": 42,
    "start_time": "2021-08-04T21:10:22.549Z"
   },
   {
    "duration": 25,
    "start_time": "2021-08-04T21:10:22.594Z"
   },
   {
    "duration": 26,
    "start_time": "2021-08-04T21:10:22.622Z"
   },
   {
    "duration": 11,
    "start_time": "2021-08-04T21:10:22.650Z"
   },
   {
    "duration": 24,
    "start_time": "2021-08-04T21:10:22.663Z"
   },
   {
    "duration": 20,
    "start_time": "2021-08-04T21:10:22.690Z"
   },
   {
    "duration": 13,
    "start_time": "2021-08-04T21:10:22.712Z"
   },
   {
    "duration": 33,
    "start_time": "2021-08-04T21:10:22.727Z"
   },
   {
    "duration": 35,
    "start_time": "2021-08-04T21:10:22.763Z"
   },
   {
    "duration": 24,
    "start_time": "2021-08-04T21:10:22.801Z"
   },
   {
    "duration": 27,
    "start_time": "2021-08-04T21:10:22.828Z"
   },
   {
    "duration": 49,
    "start_time": "2021-08-04T21:10:22.857Z"
   },
   {
    "duration": 22,
    "start_time": "2021-08-04T21:10:22.909Z"
   },
   {
    "duration": 387,
    "start_time": "2021-08-04T21:10:22.933Z"
   },
   {
    "duration": 298,
    "start_time": "2021-08-04T21:10:23.323Z"
   },
   {
    "duration": 11,
    "start_time": "2021-08-04T21:10:23.623Z"
   },
   {
    "duration": 25,
    "start_time": "2021-08-04T21:10:23.640Z"
   },
   {
    "duration": 21,
    "start_time": "2021-08-04T21:10:23.669Z"
   },
   {
    "duration": 528,
    "start_time": "2021-08-04T21:10:23.693Z"
   },
   {
    "duration": 418,
    "start_time": "2021-08-04T21:10:24.224Z"
   },
   {
    "duration": 8,
    "start_time": "2021-08-04T21:10:24.645Z"
   },
   {
    "duration": 585,
    "start_time": "2021-08-04T21:10:24.656Z"
   },
   {
    "duration": 6,
    "start_time": "2021-08-04T21:10:25.244Z"
   },
   {
    "duration": 11,
    "start_time": "2021-08-04T21:10:25.252Z"
   },
   {
    "duration": 448,
    "start_time": "2021-08-04T21:10:25.266Z"
   },
   {
    "duration": 16,
    "start_time": "2021-08-04T21:10:25.716Z"
   },
   {
    "duration": 467,
    "start_time": "2021-08-04T21:10:25.734Z"
   },
   {
    "duration": 211,
    "start_time": "2021-08-04T21:10:26.203Z"
   },
   {
    "duration": 508,
    "start_time": "2021-08-04T21:10:26.416Z"
   },
   {
    "duration": 61,
    "start_time": "2021-08-04T21:10:26.926Z"
   },
   {
    "duration": 690,
    "start_time": "2021-08-04T21:10:26.991Z"
   },
   {
    "duration": 9,
    "start_time": "2021-08-04T21:10:27.684Z"
   },
   {
    "duration": 131,
    "start_time": "2021-08-04T21:10:27.696Z"
   },
   {
    "duration": 111,
    "start_time": "2021-08-04T21:10:27.829Z"
   },
   {
    "duration": 128,
    "start_time": "2021-08-04T21:10:27.943Z"
   },
   {
    "duration": 133,
    "start_time": "2021-08-04T21:10:28.074Z"
   },
   {
    "duration": 50,
    "start_time": "2021-08-04T21:10:28.209Z"
   },
   {
    "duration": 259,
    "start_time": "2021-08-04T21:10:28.261Z"
   },
   {
    "duration": 8,
    "start_time": "2021-08-04T21:10:28.522Z"
   },
   {
    "duration": 13,
    "start_time": "2021-08-04T21:10:28.533Z"
   },
   {
    "duration": 40,
    "start_time": "2021-08-04T21:10:28.548Z"
   },
   {
    "duration": 19,
    "start_time": "2021-08-04T21:10:28.592Z"
   },
   {
    "duration": 18,
    "start_time": "2021-08-04T21:10:28.613Z"
   },
   {
    "duration": 11,
    "start_time": "2021-08-04T21:10:28.633Z"
   },
   {
    "duration": 55,
    "start_time": "2021-08-04T21:10:28.646Z"
   },
   {
    "duration": 4,
    "start_time": "2021-08-04T21:27:08.225Z"
   },
   {
    "duration": 78,
    "start_time": "2021-08-04T21:27:08.232Z"
   },
   {
    "duration": 10,
    "start_time": "2021-08-04T21:27:08.313Z"
   },
   {
    "duration": 12,
    "start_time": "2021-08-04T21:27:08.326Z"
   },
   {
    "duration": 11,
    "start_time": "2021-08-04T21:27:08.340Z"
   },
   {
    "duration": 37,
    "start_time": "2021-08-04T21:27:08.353Z"
   },
   {
    "duration": 19,
    "start_time": "2021-08-04T21:27:08.393Z"
   },
   {
    "duration": 9,
    "start_time": "2021-08-04T21:27:08.416Z"
   },
   {
    "duration": 20,
    "start_time": "2021-08-04T21:27:08.428Z"
   },
   {
    "duration": 43,
    "start_time": "2021-08-04T21:27:08.451Z"
   },
   {
    "duration": 10,
    "start_time": "2021-08-04T21:27:08.497Z"
   },
   {
    "duration": 27,
    "start_time": "2021-08-04T21:27:08.511Z"
   },
   {
    "duration": 14,
    "start_time": "2021-08-04T21:27:08.541Z"
   },
   {
    "duration": 32,
    "start_time": "2021-08-04T21:27:08.558Z"
   },
   {
    "duration": 19,
    "start_time": "2021-08-04T21:27:08.593Z"
   },
   {
    "duration": 13,
    "start_time": "2021-08-04T21:27:08.615Z"
   },
   {
    "duration": 27,
    "start_time": "2021-08-04T21:27:08.631Z"
   },
   {
    "duration": 44,
    "start_time": "2021-08-04T21:27:08.660Z"
   },
   {
    "duration": 14,
    "start_time": "2021-08-04T21:27:08.707Z"
   },
   {
    "duration": 20,
    "start_time": "2021-08-04T21:27:08.723Z"
   },
   {
    "duration": 43,
    "start_time": "2021-08-04T21:27:08.746Z"
   },
   {
    "duration": 23,
    "start_time": "2021-08-04T21:27:08.792Z"
   },
   {
    "duration": 8,
    "start_time": "2021-08-04T21:27:08.821Z"
   },
   {
    "duration": 413,
    "start_time": "2021-08-04T21:27:08.832Z"
   },
   {
    "duration": 310,
    "start_time": "2021-08-04T21:27:09.247Z"
   },
   {
    "duration": 10,
    "start_time": "2021-08-04T21:27:09.559Z"
   },
   {
    "duration": 32,
    "start_time": "2021-08-04T21:27:09.571Z"
   },
   {
    "duration": 22,
    "start_time": "2021-08-04T21:27:09.606Z"
   },
   {
    "duration": 544,
    "start_time": "2021-08-04T21:27:09.630Z"
   },
   {
    "duration": 394,
    "start_time": "2021-08-04T21:27:10.186Z"
   },
   {
    "duration": 12,
    "start_time": "2021-08-04T21:27:10.586Z"
   },
   {
    "duration": 504,
    "start_time": "2021-08-04T21:27:10.601Z"
   },
   {
    "duration": 4,
    "start_time": "2021-08-04T21:27:11.108Z"
   },
   {
    "duration": 17,
    "start_time": "2021-08-04T21:27:11.115Z"
   },
   {
    "duration": 360,
    "start_time": "2021-08-04T21:27:11.134Z"
   },
   {
    "duration": 15,
    "start_time": "2021-08-04T21:27:11.496Z"
   },
   {
    "duration": 471,
    "start_time": "2021-08-04T21:27:11.514Z"
   },
   {
    "duration": 255,
    "start_time": "2021-08-04T21:27:11.989Z"
   },
   {
    "duration": 498,
    "start_time": "2021-08-04T21:27:12.247Z"
   },
   {
    "duration": 7,
    "start_time": "2021-08-04T21:27:12.748Z"
   },
   {
    "duration": 505,
    "start_time": "2021-08-04T21:27:12.757Z"
   },
   {
    "duration": 7,
    "start_time": "2021-08-04T21:27:13.264Z"
   },
   {
    "duration": 129,
    "start_time": "2021-08-04T21:27:13.273Z"
   },
   {
    "duration": 115,
    "start_time": "2021-08-04T21:27:13.405Z"
   },
   {
    "duration": 130,
    "start_time": "2021-08-04T21:27:13.522Z"
   },
   {
    "duration": 149,
    "start_time": "2021-08-04T21:27:13.654Z"
   },
   {
    "duration": 54,
    "start_time": "2021-08-04T21:27:13.805Z"
   },
   {
    "duration": 276,
    "start_time": "2021-08-04T21:27:13.861Z"
   },
   {
    "duration": 8,
    "start_time": "2021-08-04T21:27:14.140Z"
   },
   {
    "duration": 13,
    "start_time": "2021-08-04T21:27:14.150Z"
   },
   {
    "duration": 20,
    "start_time": "2021-08-04T21:27:14.186Z"
   },
   {
    "duration": 20,
    "start_time": "2021-08-04T21:27:14.209Z"
   },
   {
    "duration": 23,
    "start_time": "2021-08-04T21:27:14.232Z"
   },
   {
    "duration": 37,
    "start_time": "2021-08-04T21:27:14.258Z"
   },
   {
    "duration": 24,
    "start_time": "2021-08-04T21:27:14.297Z"
   },
   {
    "duration": 1671,
    "start_time": "2021-08-04T21:27:24.309Z"
   },
   {
    "duration": 69,
    "start_time": "2021-08-04T21:27:25.983Z"
   },
   {
    "duration": 14,
    "start_time": "2021-08-04T21:27:26.055Z"
   },
   {
    "duration": 27,
    "start_time": "2021-08-04T21:27:26.072Z"
   },
   {
    "duration": 25,
    "start_time": "2021-08-04T21:27:26.102Z"
   },
   {
    "duration": 19,
    "start_time": "2021-08-04T21:27:26.130Z"
   },
   {
    "duration": 17,
    "start_time": "2021-08-04T21:27:26.152Z"
   },
   {
    "duration": 6,
    "start_time": "2021-08-04T21:27:26.173Z"
   },
   {
    "duration": 25,
    "start_time": "2021-08-04T21:27:26.187Z"
   },
   {
    "duration": 11,
    "start_time": "2021-08-04T21:27:26.215Z"
   },
   {
    "duration": 22,
    "start_time": "2021-08-04T21:27:26.228Z"
   },
   {
    "duration": 17,
    "start_time": "2021-08-04T21:27:26.252Z"
   },
   {
    "duration": 37,
    "start_time": "2021-08-04T21:27:26.271Z"
   },
   {
    "duration": 22,
    "start_time": "2021-08-04T21:27:26.311Z"
   },
   {
    "duration": 18,
    "start_time": "2021-08-04T21:27:26.335Z"
   },
   {
    "duration": 17,
    "start_time": "2021-08-04T21:27:26.355Z"
   },
   {
    "duration": 25,
    "start_time": "2021-08-04T21:27:26.375Z"
   },
   {
    "duration": 32,
    "start_time": "2021-08-04T21:27:26.403Z"
   },
   {
    "duration": 25,
    "start_time": "2021-08-04T21:27:26.439Z"
   },
   {
    "duration": 36,
    "start_time": "2021-08-04T21:27:26.467Z"
   },
   {
    "duration": 31,
    "start_time": "2021-08-04T21:27:26.506Z"
   },
   {
    "duration": 29,
    "start_time": "2021-08-04T21:27:26.539Z"
   },
   {
    "duration": 29,
    "start_time": "2021-08-04T21:27:26.573Z"
   },
   {
    "duration": 359,
    "start_time": "2021-08-04T21:27:26.606Z"
   },
   {
    "duration": 293,
    "start_time": "2021-08-04T21:27:26.968Z"
   },
   {
    "duration": 10,
    "start_time": "2021-08-04T21:27:27.263Z"
   },
   {
    "duration": 20,
    "start_time": "2021-08-04T21:27:27.287Z"
   },
   {
    "duration": 10,
    "start_time": "2021-08-04T21:27:27.310Z"
   },
   {
    "duration": 526,
    "start_time": "2021-08-04T21:27:27.323Z"
   },
   {
    "duration": 399,
    "start_time": "2021-08-04T21:27:27.851Z"
   },
   {
    "duration": 9,
    "start_time": "2021-08-04T21:27:28.252Z"
   },
   {
    "duration": 510,
    "start_time": "2021-08-04T21:27:28.263Z"
   },
   {
    "duration": 15,
    "start_time": "2021-08-04T21:27:28.785Z"
   },
   {
    "duration": 20,
    "start_time": "2021-08-04T21:27:28.804Z"
   },
   {
    "duration": 364,
    "start_time": "2021-08-04T21:27:28.826Z"
   },
   {
    "duration": 15,
    "start_time": "2021-08-04T21:27:29.193Z"
   },
   {
    "duration": 478,
    "start_time": "2021-08-04T21:27:29.211Z"
   },
   {
    "duration": 223,
    "start_time": "2021-08-04T21:27:29.693Z"
   },
   {
    "duration": 467,
    "start_time": "2021-08-04T21:27:29.919Z"
   },
   {
    "duration": 9,
    "start_time": "2021-08-04T21:27:30.389Z"
   },
   {
    "duration": 674,
    "start_time": "2021-08-04T21:27:30.402Z"
   },
   {
    "duration": 21,
    "start_time": "2021-08-04T21:27:31.088Z"
   },
   {
    "duration": 426,
    "start_time": "2021-08-04T21:27:31.112Z"
   },
   {
    "duration": 149,
    "start_time": "2021-08-04T21:27:31.542Z"
   },
   {
    "duration": 215,
    "start_time": "2021-08-04T21:27:31.694Z"
   },
   {
    "duration": 194,
    "start_time": "2021-08-04T21:27:31.912Z"
   },
   {
    "duration": 60,
    "start_time": "2021-08-04T21:27:32.110Z"
   },
   {
    "duration": 592,
    "start_time": "2021-08-04T21:27:32.173Z"
   },
   {
    "duration": 13,
    "start_time": "2021-08-04T21:27:32.785Z"
   },
   {
    "duration": 336,
    "start_time": "2021-08-04T21:27:32.801Z"
   },
   {
    "duration": 80,
    "start_time": "2021-08-04T21:27:33.140Z"
   },
   {
    "duration": 38,
    "start_time": "2021-08-04T21:27:33.227Z"
   },
   {
    "duration": 64,
    "start_time": "2021-08-04T21:27:33.268Z"
   },
   {
    "duration": 41,
    "start_time": "2021-08-04T21:27:33.338Z"
   },
   {
    "duration": 61,
    "start_time": "2021-08-04T21:27:33.383Z"
   },
   {
    "duration": 1758,
    "start_time": "2021-08-05T16:12:03.041Z"
   },
   {
    "duration": 97,
    "start_time": "2021-08-05T16:12:04.803Z"
   },
   {
    "duration": 16,
    "start_time": "2021-08-05T16:12:04.903Z"
   },
   {
    "duration": 12,
    "start_time": "2021-08-05T16:12:04.922Z"
   },
   {
    "duration": 14,
    "start_time": "2021-08-05T16:12:04.937Z"
   },
   {
    "duration": 14,
    "start_time": "2021-08-05T16:12:04.954Z"
   },
   {
    "duration": 39,
    "start_time": "2021-08-05T16:12:04.970Z"
   },
   {
    "duration": 6,
    "start_time": "2021-08-05T16:12:05.012Z"
   },
   {
    "duration": 25,
    "start_time": "2021-08-05T16:12:05.022Z"
   },
   {
    "duration": 14,
    "start_time": "2021-08-05T16:12:05.052Z"
   },
   {
    "duration": 19,
    "start_time": "2021-08-05T16:12:05.068Z"
   },
   {
    "duration": 16,
    "start_time": "2021-08-05T16:12:05.089Z"
   },
   {
    "duration": 16,
    "start_time": "2021-08-05T16:12:05.108Z"
   },
   {
    "duration": 11,
    "start_time": "2021-08-05T16:12:05.127Z"
   },
   {
    "duration": 46,
    "start_time": "2021-08-05T16:12:05.141Z"
   },
   {
    "duration": 9,
    "start_time": "2021-08-05T16:12:05.189Z"
   },
   {
    "duration": 23,
    "start_time": "2021-08-05T16:12:05.200Z"
   },
   {
    "duration": 35,
    "start_time": "2021-08-05T16:12:05.225Z"
   },
   {
    "duration": 34,
    "start_time": "2021-08-05T16:12:05.262Z"
   },
   {
    "duration": 26,
    "start_time": "2021-08-05T16:12:05.299Z"
   },
   {
    "duration": 27,
    "start_time": "2021-08-05T16:12:05.328Z"
   },
   {
    "duration": 43,
    "start_time": "2021-08-05T16:12:05.358Z"
   },
   {
    "duration": 19,
    "start_time": "2021-08-05T16:12:05.404Z"
   },
   {
    "duration": 378,
    "start_time": "2021-08-05T16:12:05.425Z"
   },
   {
    "duration": 290,
    "start_time": "2021-08-05T16:12:05.806Z"
   },
   {
    "duration": 11,
    "start_time": "2021-08-05T16:12:06.098Z"
   },
   {
    "duration": 22,
    "start_time": "2021-08-05T16:12:06.115Z"
   },
   {
    "duration": 12,
    "start_time": "2021-08-05T16:12:06.141Z"
   },
   {
    "duration": 574,
    "start_time": "2021-08-05T16:12:06.156Z"
   },
   {
    "duration": 416,
    "start_time": "2021-08-05T16:12:06.732Z"
   },
   {
    "duration": 9,
    "start_time": "2021-08-05T16:12:07.151Z"
   },
   {
    "duration": 516,
    "start_time": "2021-08-05T16:12:07.162Z"
   },
   {
    "duration": 8,
    "start_time": "2021-08-05T16:12:07.680Z"
   },
   {
    "duration": 10,
    "start_time": "2021-08-05T16:12:07.690Z"
   },
   {
    "duration": 381,
    "start_time": "2021-08-05T16:12:07.707Z"
   },
   {
    "duration": 15,
    "start_time": "2021-08-05T16:12:08.090Z"
   },
   {
    "duration": 446,
    "start_time": "2021-08-05T16:12:08.112Z"
   },
   {
    "duration": 229,
    "start_time": "2021-08-05T16:12:08.561Z"
   },
   {
    "duration": 472,
    "start_time": "2021-08-05T16:12:08.793Z"
   },
   {
    "duration": 20,
    "start_time": "2021-08-05T16:12:09.268Z"
   },
   {
    "duration": 575,
    "start_time": "2021-08-05T16:12:09.290Z"
   },
   {
    "duration": 19,
    "start_time": "2021-08-05T16:12:09.868Z"
   },
   {
    "duration": 134,
    "start_time": "2021-08-05T16:12:09.891Z"
   },
   {
    "duration": 119,
    "start_time": "2021-08-05T16:12:10.031Z"
   },
   {
    "duration": 166,
    "start_time": "2021-08-05T16:12:10.153Z"
   },
   {
    "duration": 137,
    "start_time": "2021-08-05T16:12:10.322Z"
   },
   {
    "duration": 72,
    "start_time": "2021-08-05T16:12:10.461Z"
   },
   {
    "duration": 267,
    "start_time": "2021-08-05T16:12:10.535Z"
   },
   {
    "duration": 10,
    "start_time": "2021-08-05T16:12:10.805Z"
   },
   {
    "duration": 26,
    "start_time": "2021-08-05T16:12:10.817Z"
   },
   {
    "duration": 15,
    "start_time": "2021-08-05T16:12:10.845Z"
   },
   {
    "duration": 31,
    "start_time": "2021-08-05T16:12:10.863Z"
   },
   {
    "duration": 31,
    "start_time": "2021-08-05T16:12:10.896Z"
   },
   {
    "duration": 13,
    "start_time": "2021-08-05T16:12:10.929Z"
   },
   {
    "duration": 21,
    "start_time": "2021-08-05T16:12:10.945Z"
   },
   {
    "duration": 1273,
    "start_time": "2021-08-05T16:25:48.061Z"
   },
   {
    "duration": 63,
    "start_time": "2021-08-05T16:25:49.336Z"
   },
   {
    "duration": 11,
    "start_time": "2021-08-05T16:25:49.401Z"
   },
   {
    "duration": 6,
    "start_time": "2021-08-05T16:25:49.413Z"
   },
   {
    "duration": 11,
    "start_time": "2021-08-05T16:25:49.420Z"
   },
   {
    "duration": 6,
    "start_time": "2021-08-05T16:25:49.432Z"
   },
   {
    "duration": 13,
    "start_time": "2021-08-05T16:25:49.440Z"
   },
   {
    "duration": 4,
    "start_time": "2021-08-05T16:25:49.455Z"
   },
   {
    "duration": 11,
    "start_time": "2021-08-05T16:25:49.462Z"
   },
   {
    "duration": 10,
    "start_time": "2021-08-05T16:25:49.475Z"
   },
   {
    "duration": 8,
    "start_time": "2021-08-05T16:25:49.487Z"
   },
   {
    "duration": 6,
    "start_time": "2021-08-05T16:25:49.496Z"
   },
   {
    "duration": 8,
    "start_time": "2021-08-05T16:25:49.504Z"
   },
   {
    "duration": 15,
    "start_time": "2021-08-05T16:25:49.514Z"
   },
   {
    "duration": 14,
    "start_time": "2021-08-05T16:25:49.531Z"
   },
   {
    "duration": 10,
    "start_time": "2021-08-05T16:25:49.547Z"
   },
   {
    "duration": 12,
    "start_time": "2021-08-05T16:25:49.559Z"
   },
   {
    "duration": 16,
    "start_time": "2021-08-05T16:25:49.572Z"
   },
   {
    "duration": 10,
    "start_time": "2021-08-05T16:25:49.589Z"
   },
   {
    "duration": 11,
    "start_time": "2021-08-05T16:25:49.601Z"
   },
   {
    "duration": 28,
    "start_time": "2021-08-05T16:25:49.614Z"
   },
   {
    "duration": 12,
    "start_time": "2021-08-05T16:25:49.643Z"
   },
   {
    "duration": 15,
    "start_time": "2021-08-05T16:25:49.656Z"
   },
   {
    "duration": 199,
    "start_time": "2021-08-05T16:25:49.673Z"
   },
   {
    "duration": 147,
    "start_time": "2021-08-05T16:25:49.874Z"
   },
   {
    "duration": 6,
    "start_time": "2021-08-05T16:25:50.022Z"
   },
   {
    "duration": 9,
    "start_time": "2021-08-05T16:25:50.041Z"
   },
   {
    "duration": 8,
    "start_time": "2021-08-05T16:25:50.052Z"
   },
   {
    "duration": 296,
    "start_time": "2021-08-05T16:25:50.062Z"
   },
   {
    "duration": 317,
    "start_time": "2021-08-05T16:25:50.360Z"
   },
   {
    "duration": 6,
    "start_time": "2021-08-05T16:25:50.679Z"
   },
   {
    "duration": 308,
    "start_time": "2021-08-05T16:25:50.687Z"
   },
   {
    "duration": 4,
    "start_time": "2021-08-05T16:25:50.997Z"
   },
   {
    "duration": 8,
    "start_time": "2021-08-05T16:25:51.002Z"
   },
   {
    "duration": 196,
    "start_time": "2021-08-05T16:25:51.012Z"
   },
   {
    "duration": 8,
    "start_time": "2021-08-05T16:25:51.210Z"
   },
   {
    "duration": 329,
    "start_time": "2021-08-05T16:25:51.219Z"
   },
   {
    "duration": 121,
    "start_time": "2021-08-05T16:25:51.550Z"
   },
   {
    "duration": 298,
    "start_time": "2021-08-05T16:25:51.673Z"
   },
   {
    "duration": 4,
    "start_time": "2021-08-05T16:25:51.972Z"
   },
   {
    "duration": 388,
    "start_time": "2021-08-05T16:25:51.978Z"
   },
   {
    "duration": 4,
    "start_time": "2021-08-05T16:25:52.368Z"
   },
   {
    "duration": 55,
    "start_time": "2021-08-05T16:25:52.374Z"
   },
   {
    "duration": 64,
    "start_time": "2021-08-05T16:25:52.431Z"
   },
   {
    "duration": 80,
    "start_time": "2021-08-05T16:25:52.496Z"
   },
   {
    "duration": 68,
    "start_time": "2021-08-05T16:25:52.577Z"
   },
   {
    "duration": 27,
    "start_time": "2021-08-05T16:25:52.647Z"
   },
   {
    "duration": 121,
    "start_time": "2021-08-05T16:25:52.675Z"
   },
   {
    "duration": 5,
    "start_time": "2021-08-05T16:25:52.798Z"
   },
   {
    "duration": 8,
    "start_time": "2021-08-05T16:25:52.805Z"
   },
   {
    "duration": 26,
    "start_time": "2021-08-05T16:25:52.815Z"
   },
   {
    "duration": 9,
    "start_time": "2021-08-05T16:25:52.842Z"
   },
   {
    "duration": 10,
    "start_time": "2021-08-05T16:25:52.853Z"
   },
   {
    "duration": 6,
    "start_time": "2021-08-05T16:25:52.865Z"
   },
   {
    "duration": 12,
    "start_time": "2021-08-05T16:25:52.873Z"
   },
   {
    "duration": 6,
    "start_time": "2021-08-05T16:26:37.641Z"
   },
   {
    "duration": 6,
    "start_time": "2021-08-05T16:26:41.384Z"
   },
   {
    "duration": 147,
    "start_time": "2021-08-05T16:27:11.395Z"
   },
   {
    "duration": 9,
    "start_time": "2021-08-05T16:27:16.621Z"
   },
   {
    "duration": 9,
    "start_time": "2021-08-05T16:27:35.209Z"
   },
   {
    "duration": 11,
    "start_time": "2021-08-05T16:27:42.012Z"
   },
   {
    "duration": 7,
    "start_time": "2021-08-05T16:27:54.858Z"
   },
   {
    "duration": 6,
    "start_time": "2021-08-05T16:28:16.143Z"
   },
   {
    "duration": 6,
    "start_time": "2021-08-05T16:28:31.505Z"
   },
   {
    "duration": 82,
    "start_time": "2021-08-05T16:29:10.570Z"
   },
   {
    "duration": 12,
    "start_time": "2021-08-05T16:29:16.650Z"
   },
   {
    "duration": 3,
    "start_time": "2021-08-05T16:30:02.113Z"
   },
   {
    "duration": 73,
    "start_time": "2021-08-05T16:30:02.118Z"
   },
   {
    "duration": 7,
    "start_time": "2021-08-05T16:30:02.194Z"
   },
   {
    "duration": 8,
    "start_time": "2021-08-05T16:30:02.203Z"
   },
   {
    "duration": 13,
    "start_time": "2021-08-05T16:30:02.212Z"
   },
   {
    "duration": 17,
    "start_time": "2021-08-05T16:30:02.227Z"
   },
   {
    "duration": 13,
    "start_time": "2021-08-05T16:30:02.246Z"
   },
   {
    "duration": 5,
    "start_time": "2021-08-05T16:30:02.260Z"
   },
   {
    "duration": 18,
    "start_time": "2021-08-05T16:30:02.268Z"
   },
   {
    "duration": 16,
    "start_time": "2021-08-05T16:30:02.288Z"
   },
   {
    "duration": 16,
    "start_time": "2021-08-05T16:30:02.305Z"
   },
   {
    "duration": 22,
    "start_time": "2021-08-05T16:30:02.323Z"
   },
   {
    "duration": 15,
    "start_time": "2021-08-05T16:30:02.347Z"
   },
   {
    "duration": 17,
    "start_time": "2021-08-05T16:30:02.363Z"
   },
   {
    "duration": 14,
    "start_time": "2021-08-05T16:30:02.382Z"
   },
   {
    "duration": 8,
    "start_time": "2021-08-05T16:30:02.397Z"
   },
   {
    "duration": 10,
    "start_time": "2021-08-05T16:30:02.406Z"
   },
   {
    "duration": 23,
    "start_time": "2021-08-05T16:30:02.418Z"
   },
   {
    "duration": 34,
    "start_time": "2021-08-05T16:30:02.442Z"
   },
   {
    "duration": 18,
    "start_time": "2021-08-05T16:30:02.477Z"
   },
   {
    "duration": 22,
    "start_time": "2021-08-05T16:30:02.497Z"
   },
   {
    "duration": 32,
    "start_time": "2021-08-05T16:30:02.521Z"
   },
   {
    "duration": 15,
    "start_time": "2021-08-05T16:30:02.554Z"
   },
   {
    "duration": 205,
    "start_time": "2021-08-05T16:30:02.571Z"
   },
   {
    "duration": 147,
    "start_time": "2021-08-05T16:30:02.777Z"
   },
   {
    "duration": 15,
    "start_time": "2021-08-05T16:30:02.926Z"
   },
   {
    "duration": 9,
    "start_time": "2021-08-05T16:30:02.944Z"
   },
   {
    "duration": 9,
    "start_time": "2021-08-05T16:30:02.955Z"
   },
   {
    "duration": 268,
    "start_time": "2021-08-05T16:30:02.965Z"
   },
   {
    "duration": 240,
    "start_time": "2021-08-05T16:30:03.235Z"
   },
   {
    "duration": 6,
    "start_time": "2021-08-05T16:30:03.477Z"
   },
   {
    "duration": 308,
    "start_time": "2021-08-05T16:30:03.485Z"
   },
   {
    "duration": 4,
    "start_time": "2021-08-05T16:30:03.794Z"
   },
   {
    "duration": 8,
    "start_time": "2021-08-05T16:30:03.799Z"
   },
   {
    "duration": 203,
    "start_time": "2021-08-05T16:30:03.809Z"
   },
   {
    "duration": 7,
    "start_time": "2021-08-05T16:30:04.014Z"
   },
   {
    "duration": 325,
    "start_time": "2021-08-05T16:30:04.022Z"
   },
   {
    "duration": 123,
    "start_time": "2021-08-05T16:30:04.348Z"
   },
   {
    "duration": 281,
    "start_time": "2021-08-05T16:30:04.473Z"
   },
   {
    "duration": 4,
    "start_time": "2021-08-05T16:30:04.756Z"
   },
   {
    "duration": 296,
    "start_time": "2021-08-05T16:30:04.762Z"
   },
   {
    "duration": 6,
    "start_time": "2021-08-05T16:30:05.060Z"
   },
   {
    "duration": 55,
    "start_time": "2021-08-05T16:30:05.067Z"
   },
   {
    "duration": 69,
    "start_time": "2021-08-05T16:30:05.124Z"
   },
   {
    "duration": 77,
    "start_time": "2021-08-05T16:30:05.194Z"
   },
   {
    "duration": 81,
    "start_time": "2021-08-05T16:30:05.272Z"
   },
   {
    "duration": 32,
    "start_time": "2021-08-05T16:30:05.354Z"
   },
   {
    "duration": 128,
    "start_time": "2021-08-05T16:30:05.387Z"
   },
   {
    "duration": 7,
    "start_time": "2021-08-05T16:30:05.517Z"
   },
   {
    "duration": 24,
    "start_time": "2021-08-05T16:30:05.525Z"
   },
   {
    "duration": 13,
    "start_time": "2021-08-05T16:30:05.551Z"
   },
   {
    "duration": 19,
    "start_time": "2021-08-05T16:30:05.566Z"
   },
   {
    "duration": 42,
    "start_time": "2021-08-05T16:30:05.587Z"
   },
   {
    "duration": 29,
    "start_time": "2021-08-05T16:30:05.630Z"
   },
   {
    "duration": 30,
    "start_time": "2021-08-05T16:30:05.661Z"
   },
   {
    "duration": 1114,
    "start_time": "2021-08-05T16:34:51.617Z"
   },
   {
    "duration": 61,
    "start_time": "2021-08-05T16:34:52.733Z"
   },
   {
    "duration": 10,
    "start_time": "2021-08-05T16:34:52.796Z"
   },
   {
    "duration": 8,
    "start_time": "2021-08-05T16:34:52.807Z"
   },
   {
    "duration": 17,
    "start_time": "2021-08-05T16:34:52.817Z"
   },
   {
    "duration": 13,
    "start_time": "2021-08-05T16:34:52.835Z"
   },
   {
    "duration": 14,
    "start_time": "2021-08-05T16:34:52.849Z"
   },
   {
    "duration": 3,
    "start_time": "2021-08-05T16:34:52.865Z"
   },
   {
    "duration": 13,
    "start_time": "2021-08-05T16:34:52.870Z"
   },
   {
    "duration": 12,
    "start_time": "2021-08-05T16:34:52.885Z"
   },
   {
    "duration": 17,
    "start_time": "2021-08-05T16:34:52.898Z"
   },
   {
    "duration": 13,
    "start_time": "2021-08-05T16:34:52.916Z"
   },
   {
    "duration": 11,
    "start_time": "2021-08-05T16:34:52.930Z"
   },
   {
    "duration": 11,
    "start_time": "2021-08-05T16:34:52.943Z"
   },
   {
    "duration": 13,
    "start_time": "2021-08-05T16:34:52.956Z"
   },
   {
    "duration": 24,
    "start_time": "2021-08-05T16:34:52.971Z"
   },
   {
    "duration": 17,
    "start_time": "2021-08-05T16:34:52.997Z"
   },
   {
    "duration": 16,
    "start_time": "2021-08-05T16:34:53.016Z"
   },
   {
    "duration": 19,
    "start_time": "2021-08-05T16:34:53.034Z"
   },
   {
    "duration": 14,
    "start_time": "2021-08-05T16:34:53.054Z"
   },
   {
    "duration": 16,
    "start_time": "2021-08-05T16:34:53.069Z"
   },
   {
    "duration": 21,
    "start_time": "2021-08-05T16:34:53.086Z"
   },
   {
    "duration": 6,
    "start_time": "2021-08-05T16:34:53.110Z"
   },
   {
    "duration": 194,
    "start_time": "2021-08-05T16:34:53.118Z"
   },
   {
    "duration": 145,
    "start_time": "2021-08-05T16:34:53.314Z"
   },
   {
    "duration": 6,
    "start_time": "2021-08-05T16:34:53.461Z"
   },
   {
    "duration": 22,
    "start_time": "2021-08-05T16:34:53.469Z"
   },
   {
    "duration": 20,
    "start_time": "2021-08-05T16:34:53.493Z"
   },
   {
    "duration": 269,
    "start_time": "2021-08-05T16:34:53.514Z"
   },
   {
    "duration": 207,
    "start_time": "2021-08-05T16:34:53.785Z"
   },
   {
    "duration": 7,
    "start_time": "2021-08-05T16:34:53.994Z"
   },
   {
    "duration": 342,
    "start_time": "2021-08-05T16:34:54.003Z"
   },
   {
    "duration": 4,
    "start_time": "2021-08-05T16:34:54.346Z"
   },
   {
    "duration": 19,
    "start_time": "2021-08-05T16:34:54.352Z"
   },
   {
    "duration": 198,
    "start_time": "2021-08-05T16:34:54.372Z"
   },
   {
    "duration": 7,
    "start_time": "2021-08-05T16:34:54.572Z"
   },
   {
    "duration": 286,
    "start_time": "2021-08-05T16:34:54.580Z"
   },
   {
    "duration": 105,
    "start_time": "2021-08-05T16:34:54.868Z"
   },
   {
    "duration": 280,
    "start_time": "2021-08-05T16:34:54.975Z"
   },
   {
    "duration": 4,
    "start_time": "2021-08-05T16:34:55.256Z"
   },
   {
    "duration": 386,
    "start_time": "2021-08-05T16:34:55.261Z"
   },
   {
    "duration": 5,
    "start_time": "2021-08-05T16:34:55.648Z"
   },
   {
    "duration": 75,
    "start_time": "2021-08-05T16:34:55.654Z"
   },
   {
    "duration": 81,
    "start_time": "2021-08-05T16:34:55.731Z"
   },
   {
    "duration": 83,
    "start_time": "2021-08-05T16:34:55.814Z"
   },
   {
    "duration": 68,
    "start_time": "2021-08-05T16:34:55.899Z"
   },
   {
    "duration": 31,
    "start_time": "2021-08-05T16:34:55.969Z"
   },
   {
    "duration": 145,
    "start_time": "2021-08-05T16:34:56.001Z"
   },
   {
    "duration": 6,
    "start_time": "2021-08-05T16:34:56.147Z"
   },
   {
    "duration": 21,
    "start_time": "2021-08-05T16:34:56.154Z"
   },
   {
    "duration": 25,
    "start_time": "2021-08-05T16:34:56.177Z"
   },
   {
    "duration": 23,
    "start_time": "2021-08-05T16:34:56.204Z"
   },
   {
    "duration": 22,
    "start_time": "2021-08-05T16:34:56.229Z"
   },
   {
    "duration": 25,
    "start_time": "2021-08-05T16:34:56.253Z"
   },
   {
    "duration": 26,
    "start_time": "2021-08-05T16:34:56.279Z"
   },
   {
    "duration": 3,
    "start_time": "2021-08-05T17:07:46.662Z"
   },
   {
    "duration": 64,
    "start_time": "2021-08-05T17:07:46.667Z"
   },
   {
    "duration": 8,
    "start_time": "2021-08-05T17:07:46.734Z"
   },
   {
    "duration": 9,
    "start_time": "2021-08-05T17:07:46.745Z"
   },
   {
    "duration": 14,
    "start_time": "2021-08-05T17:07:46.756Z"
   },
   {
    "duration": 9,
    "start_time": "2021-08-05T17:07:46.772Z"
   },
   {
    "duration": 11,
    "start_time": "2021-08-05T17:07:46.782Z"
   },
   {
    "duration": 4,
    "start_time": "2021-08-05T17:07:46.795Z"
   },
   {
    "duration": 40,
    "start_time": "2021-08-05T17:07:46.802Z"
   },
   {
    "duration": 6,
    "start_time": "2021-08-05T17:07:46.845Z"
   },
   {
    "duration": 10,
    "start_time": "2021-08-05T17:07:46.853Z"
   },
   {
    "duration": 13,
    "start_time": "2021-08-05T17:07:46.865Z"
   },
   {
    "duration": 8,
    "start_time": "2021-08-05T17:07:46.880Z"
   },
   {
    "duration": 7,
    "start_time": "2021-08-05T17:07:46.890Z"
   },
   {
    "duration": 7,
    "start_time": "2021-08-05T17:07:46.899Z"
   },
   {
    "duration": 36,
    "start_time": "2021-08-05T17:07:46.908Z"
   },
   {
    "duration": 18,
    "start_time": "2021-08-05T17:07:46.946Z"
   },
   {
    "duration": 18,
    "start_time": "2021-08-05T17:07:46.966Z"
   },
   {
    "duration": 15,
    "start_time": "2021-08-05T17:07:46.985Z"
   },
   {
    "duration": 10,
    "start_time": "2021-08-05T17:07:47.002Z"
   },
   {
    "duration": 12,
    "start_time": "2021-08-05T17:07:47.014Z"
   },
   {
    "duration": 28,
    "start_time": "2021-08-05T17:07:47.027Z"
   },
   {
    "duration": 9,
    "start_time": "2021-08-05T17:07:47.057Z"
   },
   {
    "duration": 296,
    "start_time": "2021-08-05T17:07:47.068Z"
   },
   {
    "duration": 196,
    "start_time": "2021-08-05T17:07:47.366Z"
   },
   {
    "duration": 9,
    "start_time": "2021-08-05T17:07:47.564Z"
   },
   {
    "duration": 11,
    "start_time": "2021-08-05T17:07:47.576Z"
   },
   {
    "duration": 7,
    "start_time": "2021-08-05T17:07:47.589Z"
   },
   {
    "duration": 283,
    "start_time": "2021-08-05T17:07:47.597Z"
   },
   {
    "duration": 217,
    "start_time": "2021-08-05T17:07:47.881Z"
   },
   {
    "duration": 6,
    "start_time": "2021-08-05T17:07:48.100Z"
   },
   {
    "duration": 349,
    "start_time": "2021-08-05T17:07:48.108Z"
   },
   {
    "duration": 3,
    "start_time": "2021-08-05T17:07:48.459Z"
   },
   {
    "duration": 8,
    "start_time": "2021-08-05T17:07:48.464Z"
   },
   {
    "duration": 200,
    "start_time": "2021-08-05T17:07:48.473Z"
   },
   {
    "duration": 8,
    "start_time": "2021-08-05T17:07:48.675Z"
   },
   {
    "duration": 291,
    "start_time": "2021-08-05T17:07:48.685Z"
   },
   {
    "duration": 153,
    "start_time": "2021-08-05T17:07:48.978Z"
   },
   {
    "duration": 329,
    "start_time": "2021-08-05T17:07:49.133Z"
   },
   {
    "duration": 4,
    "start_time": "2021-08-05T17:07:49.464Z"
   },
   {
    "duration": 314,
    "start_time": "2021-08-05T17:07:49.470Z"
   },
   {
    "duration": 5,
    "start_time": "2021-08-05T17:07:49.785Z"
   },
   {
    "duration": 73,
    "start_time": "2021-08-05T17:07:49.791Z"
   },
   {
    "duration": 91,
    "start_time": "2021-08-05T17:07:49.866Z"
   },
   {
    "duration": 103,
    "start_time": "2021-08-05T17:07:49.960Z"
   },
   {
    "duration": 105,
    "start_time": "2021-08-05T17:07:50.065Z"
   },
   {
    "duration": 30,
    "start_time": "2021-08-05T17:07:50.172Z"
   },
   {
    "duration": 137,
    "start_time": "2021-08-05T17:07:50.204Z"
   },
   {
    "duration": 6,
    "start_time": "2021-08-05T17:07:50.342Z"
   },
   {
    "duration": 23,
    "start_time": "2021-08-05T17:07:50.350Z"
   },
   {
    "duration": 21,
    "start_time": "2021-08-05T17:07:50.374Z"
   },
   {
    "duration": 11,
    "start_time": "2021-08-05T17:07:50.397Z"
   },
   {
    "duration": 21,
    "start_time": "2021-08-05T17:07:50.410Z"
   },
   {
    "duration": 17,
    "start_time": "2021-08-05T17:07:50.432Z"
   },
   {
    "duration": 30,
    "start_time": "2021-08-05T17:07:50.451Z"
   },
   {
    "duration": 430,
    "start_time": "2021-08-07T13:31:02.383Z"
   },
   {
    "duration": 365,
    "start_time": "2021-08-07T13:31:09.900Z"
   },
   {
    "duration": 1649,
    "start_time": "2021-08-07T13:31:13.689Z"
   },
   {
    "duration": 59,
    "start_time": "2021-08-07T13:31:15.340Z"
   },
   {
    "duration": 15,
    "start_time": "2021-08-07T13:31:15.402Z"
   },
   {
    "duration": 10,
    "start_time": "2021-08-07T13:31:15.419Z"
   },
   {
    "duration": 13,
    "start_time": "2021-08-07T13:31:15.431Z"
   },
   {
    "duration": 21,
    "start_time": "2021-08-07T13:31:15.446Z"
   },
   {
    "duration": 19,
    "start_time": "2021-08-07T13:31:15.470Z"
   },
   {
    "duration": 5,
    "start_time": "2021-08-07T13:31:15.491Z"
   },
   {
    "duration": 11,
    "start_time": "2021-08-07T13:31:15.500Z"
   },
   {
    "duration": 10,
    "start_time": "2021-08-07T13:31:15.514Z"
   },
   {
    "duration": 36,
    "start_time": "2021-08-07T13:31:15.527Z"
   },
   {
    "duration": 11,
    "start_time": "2021-08-07T13:31:15.567Z"
   },
   {
    "duration": 16,
    "start_time": "2021-08-07T13:31:15.581Z"
   },
   {
    "duration": 14,
    "start_time": "2021-08-07T13:31:15.600Z"
   },
   {
    "duration": 52,
    "start_time": "2021-08-07T13:31:15.617Z"
   },
   {
    "duration": 16,
    "start_time": "2021-08-07T13:31:15.673Z"
   },
   {
    "duration": 32,
    "start_time": "2021-08-07T13:31:15.692Z"
   },
   {
    "duration": 52,
    "start_time": "2021-08-07T13:31:15.727Z"
   },
   {
    "duration": 20,
    "start_time": "2021-08-07T13:31:15.782Z"
   },
   {
    "duration": 19,
    "start_time": "2021-08-07T13:31:15.805Z"
   },
   {
    "duration": 49,
    "start_time": "2021-08-07T13:31:15.827Z"
   },
   {
    "duration": 18,
    "start_time": "2021-08-07T13:31:15.878Z"
   },
   {
    "duration": 8,
    "start_time": "2021-08-07T13:31:15.899Z"
   },
   {
    "duration": 381,
    "start_time": "2021-08-07T13:31:15.910Z"
   },
   {
    "duration": 269,
    "start_time": "2021-08-07T13:31:16.293Z"
   },
   {
    "duration": 10,
    "start_time": "2021-08-07T13:31:16.564Z"
   },
   {
    "duration": 15,
    "start_time": "2021-08-07T13:31:16.581Z"
   },
   {
    "duration": 12,
    "start_time": "2021-08-07T13:31:16.600Z"
   },
   {
    "duration": 529,
    "start_time": "2021-08-07T13:31:16.615Z"
   },
   {
    "duration": 393,
    "start_time": "2021-08-07T13:31:17.146Z"
   },
   {
    "duration": 9,
    "start_time": "2021-08-07T13:31:17.541Z"
   },
   {
    "duration": 618,
    "start_time": "2021-08-07T13:31:17.563Z"
   },
   {
    "duration": 7,
    "start_time": "2021-08-07T13:31:18.184Z"
   },
   {
    "duration": 12,
    "start_time": "2021-08-07T13:31:18.194Z"
   },
   {
    "duration": 359,
    "start_time": "2021-08-07T13:31:18.208Z"
   },
   {
    "duration": 11,
    "start_time": "2021-08-07T13:31:18.569Z"
   },
   {
    "duration": 437,
    "start_time": "2021-08-07T13:31:18.583Z"
   },
   {
    "duration": 198,
    "start_time": "2021-08-07T13:31:19.023Z"
   },
   {
    "duration": 443,
    "start_time": "2021-08-07T13:31:19.224Z"
   },
   {
    "duration": 7,
    "start_time": "2021-08-07T13:31:19.670Z"
   },
   {
    "duration": 550,
    "start_time": "2021-08-07T13:31:19.679Z"
   },
   {
    "duration": 7,
    "start_time": "2021-08-07T13:31:20.231Z"
   },
   {
    "duration": 125,
    "start_time": "2021-08-07T13:31:20.241Z"
   },
   {
    "duration": 114,
    "start_time": "2021-08-07T13:31:20.369Z"
   },
   {
    "duration": 131,
    "start_time": "2021-08-07T13:31:20.485Z"
   },
   {
    "duration": 131,
    "start_time": "2021-08-07T13:31:20.618Z"
   },
   {
    "duration": 51,
    "start_time": "2021-08-07T13:31:20.752Z"
   },
   {
    "duration": 233,
    "start_time": "2021-08-07T13:31:20.806Z"
   },
   {
    "duration": 7,
    "start_time": "2021-08-07T13:31:21.042Z"
   },
   {
    "duration": 22,
    "start_time": "2021-08-07T13:31:21.052Z"
   },
   {
    "duration": 15,
    "start_time": "2021-08-07T13:31:21.076Z"
   },
   {
    "duration": 14,
    "start_time": "2021-08-07T13:31:21.094Z"
   },
   {
    "duration": 24,
    "start_time": "2021-08-07T13:31:21.111Z"
   },
   {
    "duration": 10,
    "start_time": "2021-08-07T13:31:21.163Z"
   },
   {
    "duration": 39,
    "start_time": "2021-08-07T13:31:21.175Z"
   },
   {
    "duration": 1546,
    "start_time": "2021-08-18T16:51:17.581Z"
   },
   {
    "duration": 69,
    "start_time": "2021-08-18T16:51:19.130Z"
   },
   {
    "duration": 16,
    "start_time": "2021-08-18T16:51:19.202Z"
   },
   {
    "duration": 13,
    "start_time": "2021-08-18T16:51:19.221Z"
   },
   {
    "duration": 15,
    "start_time": "2021-08-18T16:51:19.236Z"
   },
   {
    "duration": 20,
    "start_time": "2021-08-18T16:51:19.253Z"
   },
   {
    "duration": 16,
    "start_time": "2021-08-18T16:51:19.276Z"
   },
   {
    "duration": 8,
    "start_time": "2021-08-18T16:51:19.295Z"
   },
   {
    "duration": 13,
    "start_time": "2021-08-18T16:51:19.307Z"
   },
   {
    "duration": 55,
    "start_time": "2021-08-18T16:51:19.324Z"
   },
   {
    "duration": 9,
    "start_time": "2021-08-18T16:51:19.382Z"
   },
   {
    "duration": 10,
    "start_time": "2021-08-18T16:51:19.394Z"
   },
   {
    "duration": 17,
    "start_time": "2021-08-18T16:51:19.407Z"
   },
   {
    "duration": 41,
    "start_time": "2021-08-18T16:51:19.427Z"
   },
   {
    "duration": 12,
    "start_time": "2021-08-18T16:51:19.471Z"
   },
   {
    "duration": 11,
    "start_time": "2021-08-18T16:51:19.487Z"
   },
   {
    "duration": 16,
    "start_time": "2021-08-18T16:51:19.501Z"
   },
   {
    "duration": 75,
    "start_time": "2021-08-18T16:51:19.521Z"
   },
   {
    "duration": 17,
    "start_time": "2021-08-18T16:51:19.599Z"
   },
   {
    "duration": 39,
    "start_time": "2021-08-18T16:51:19.619Z"
   },
   {
    "duration": 29,
    "start_time": "2021-08-18T16:51:19.661Z"
   },
   {
    "duration": 19,
    "start_time": "2021-08-18T16:51:19.693Z"
   },
   {
    "duration": 12,
    "start_time": "2021-08-18T16:51:19.714Z"
   },
   {
    "duration": 401,
    "start_time": "2021-08-18T16:51:19.729Z"
   },
   {
    "duration": 286,
    "start_time": "2021-08-18T16:51:20.132Z"
   },
   {
    "duration": 10,
    "start_time": "2021-08-18T16:51:20.420Z"
   },
   {
    "duration": 17,
    "start_time": "2021-08-18T16:51:20.461Z"
   },
   {
    "duration": 15,
    "start_time": "2021-08-18T16:51:20.483Z"
   },
   {
    "duration": 765,
    "start_time": "2021-08-18T16:51:20.501Z"
   },
   {
    "duration": 445,
    "start_time": "2021-08-18T16:51:21.269Z"
   },
   {
    "duration": 9,
    "start_time": "2021-08-18T16:51:21.717Z"
   },
   {
    "duration": 502,
    "start_time": "2021-08-18T16:51:21.728Z"
   },
   {
    "duration": 6,
    "start_time": "2021-08-18T16:51:22.232Z"
   },
   {
    "duration": 11,
    "start_time": "2021-08-18T16:51:22.255Z"
   },
   {
    "duration": 364,
    "start_time": "2021-08-18T16:51:22.268Z"
   },
   {
    "duration": 29,
    "start_time": "2021-08-18T16:51:22.635Z"
   },
   {
    "duration": 563,
    "start_time": "2021-08-18T16:51:22.667Z"
   },
   {
    "duration": 259,
    "start_time": "2021-08-18T16:51:23.232Z"
   },
   {
    "duration": 431,
    "start_time": "2021-08-18T16:51:23.494Z"
   },
   {
    "duration": 7,
    "start_time": "2021-08-18T16:51:23.928Z"
   },
   {
    "duration": 619,
    "start_time": "2021-08-18T16:51:23.959Z"
   },
   {
    "duration": 9,
    "start_time": "2021-08-18T16:51:24.581Z"
   },
   {
    "duration": 127,
    "start_time": "2021-08-18T16:51:24.593Z"
   },
   {
    "duration": 145,
    "start_time": "2021-08-18T16:51:24.723Z"
   },
   {
    "duration": 134,
    "start_time": "2021-08-18T16:51:24.872Z"
   },
   {
    "duration": 137,
    "start_time": "2021-08-18T16:51:25.008Z"
   },
   {
    "duration": 55,
    "start_time": "2021-08-18T16:51:25.155Z"
   },
   {
    "duration": 278,
    "start_time": "2021-08-18T16:51:25.212Z"
   },
   {
    "duration": 9,
    "start_time": "2021-08-18T16:51:25.493Z"
   },
   {
    "duration": 12,
    "start_time": "2021-08-18T16:51:25.505Z"
   },
   {
    "duration": 45,
    "start_time": "2021-08-18T16:51:25.520Z"
   },
   {
    "duration": 17,
    "start_time": "2021-08-18T16:51:25.568Z"
   },
   {
    "duration": 14,
    "start_time": "2021-08-18T16:51:25.588Z"
   },
   {
    "duration": 10,
    "start_time": "2021-08-18T16:51:25.605Z"
   },
   {
    "duration": 61,
    "start_time": "2021-08-18T16:51:25.618Z"
   },
   {
    "duration": 1260,
    "start_time": "2022-04-22T14:13:54.647Z"
   },
   {
    "duration": 44,
    "start_time": "2022-04-22T14:13:55.909Z"
   },
   {
    "duration": 12,
    "start_time": "2022-04-22T14:13:55.954Z"
   },
   {
    "duration": 12,
    "start_time": "2022-04-22T14:13:55.968Z"
   },
   {
    "duration": 6,
    "start_time": "2022-04-22T14:13:55.983Z"
   },
   {
    "duration": 8,
    "start_time": "2022-04-22T14:13:55.991Z"
   },
   {
    "duration": 11,
    "start_time": "2022-04-22T14:13:56.001Z"
   },
   {
    "duration": 5,
    "start_time": "2022-04-22T14:13:56.013Z"
   },
   {
    "duration": 14,
    "start_time": "2022-04-22T14:13:56.019Z"
   },
   {
    "duration": 10,
    "start_time": "2022-04-22T14:13:56.035Z"
   },
   {
    "duration": 7,
    "start_time": "2022-04-22T14:13:56.047Z"
   },
   {
    "duration": 8,
    "start_time": "2022-04-22T14:13:56.056Z"
   },
   {
    "duration": 8,
    "start_time": "2022-04-22T14:13:56.065Z"
   },
   {
    "duration": 36,
    "start_time": "2022-04-22T14:13:56.076Z"
   },
   {
    "duration": 7,
    "start_time": "2022-04-22T14:13:56.114Z"
   },
   {
    "duration": 4,
    "start_time": "2022-04-22T14:13:56.123Z"
   },
   {
    "duration": 11,
    "start_time": "2022-04-22T14:13:56.129Z"
   },
   {
    "duration": 18,
    "start_time": "2022-04-22T14:13:56.142Z"
   },
   {
    "duration": 16,
    "start_time": "2022-04-22T14:13:56.161Z"
   },
   {
    "duration": 35,
    "start_time": "2022-04-22T14:13:56.178Z"
   },
   {
    "duration": 22,
    "start_time": "2022-04-22T14:13:56.216Z"
   },
   {
    "duration": 16,
    "start_time": "2022-04-22T14:13:56.240Z"
   },
   {
    "duration": 37,
    "start_time": "2022-04-22T14:13:56.258Z"
   },
   {
    "duration": 193,
    "start_time": "2022-04-22T14:13:56.297Z"
   },
   {
    "duration": 121,
    "start_time": "2022-04-22T14:13:56.491Z"
   },
   {
    "duration": 7,
    "start_time": "2022-04-22T14:13:56.613Z"
   },
   {
    "duration": 21,
    "start_time": "2022-04-22T14:13:56.622Z"
   },
   {
    "duration": 11,
    "start_time": "2022-04-22T14:13:56.644Z"
   },
   {
    "duration": 296,
    "start_time": "2022-04-22T14:13:56.657Z"
   },
   {
    "duration": 192,
    "start_time": "2022-04-22T14:13:56.955Z"
   },
   {
    "duration": 6,
    "start_time": "2022-04-22T14:13:57.148Z"
   },
   {
    "duration": 309,
    "start_time": "2022-04-22T14:13:57.156Z"
   },
   {
    "duration": 4,
    "start_time": "2022-04-22T14:13:57.467Z"
   },
   {
    "duration": 10,
    "start_time": "2022-04-22T14:13:57.473Z"
   },
   {
    "duration": 175,
    "start_time": "2022-04-22T14:13:57.485Z"
   },
   {
    "duration": 8,
    "start_time": "2022-04-22T14:13:57.662Z"
   },
   {
    "duration": 308,
    "start_time": "2022-04-22T14:13:57.672Z"
   },
   {
    "duration": 128,
    "start_time": "2022-04-22T14:13:57.982Z"
   },
   {
    "duration": 137,
    "start_time": "2022-04-22T14:13:58.112Z"
   },
   {
    "duration": 5,
    "start_time": "2022-04-22T14:13:58.252Z"
   },
   {
    "duration": 154,
    "start_time": "2022-04-22T14:13:58.261Z"
   },
   {
    "duration": 6,
    "start_time": "2022-04-22T14:13:58.417Z"
   },
   {
    "duration": 129,
    "start_time": "2022-04-22T14:13:58.425Z"
   },
   {
    "duration": 51,
    "start_time": "2022-04-22T14:13:58.556Z"
   },
   {
    "duration": 57,
    "start_time": "2022-04-22T14:13:58.609Z"
   },
   {
    "duration": 75,
    "start_time": "2022-04-22T14:13:58.667Z"
   },
   {
    "duration": 28,
    "start_time": "2022-04-22T14:13:58.744Z"
   },
   {
    "duration": 148,
    "start_time": "2022-04-22T14:13:58.774Z"
   },
   {
    "duration": 7,
    "start_time": "2022-04-22T14:13:58.923Z"
   },
   {
    "duration": 23,
    "start_time": "2022-04-22T14:13:58.931Z"
   },
   {
    "duration": 9,
    "start_time": "2022-04-22T14:13:58.956Z"
   },
   {
    "duration": 8,
    "start_time": "2022-04-22T14:13:58.967Z"
   },
   {
    "duration": 35,
    "start_time": "2022-04-22T14:13:58.977Z"
   },
   {
    "duration": 24,
    "start_time": "2022-04-22T14:13:59.013Z"
   },
   {
    "duration": 12,
    "start_time": "2022-04-22T14:13:59.039Z"
   },
   {
    "duration": 219,
    "start_time": "2022-04-22T14:15:41.854Z"
   },
   {
    "duration": 214,
    "start_time": "2022-04-22T14:15:52.865Z"
   },
   {
    "duration": 239,
    "start_time": "2022-04-22T14:16:09.005Z"
   },
   {
    "duration": 238,
    "start_time": "2022-04-22T14:16:14.865Z"
   },
   {
    "duration": 223,
    "start_time": "2022-04-22T14:18:13.371Z"
   },
   {
    "duration": 219,
    "start_time": "2022-04-22T14:18:28.733Z"
   },
   {
    "duration": 266,
    "start_time": "2022-04-22T14:19:10.127Z"
   },
   {
    "duration": 243,
    "start_time": "2022-04-22T14:19:18.799Z"
   },
   {
    "duration": 229,
    "start_time": "2022-04-22T14:19:32.638Z"
   },
   {
    "duration": 228,
    "start_time": "2022-04-22T14:19:49.100Z"
   },
   {
    "duration": 231,
    "start_time": "2022-04-22T14:19:56.700Z"
   },
   {
    "duration": 311,
    "start_time": "2022-04-22T14:20:04.935Z"
   },
   {
    "duration": 226,
    "start_time": "2022-04-22T14:20:15.896Z"
   },
   {
    "duration": 235,
    "start_time": "2022-04-22T14:20:18.823Z"
   },
   {
    "duration": 217,
    "start_time": "2022-04-22T14:20:27.429Z"
   },
   {
    "duration": 218,
    "start_time": "2022-04-22T14:20:38.128Z"
   },
   {
    "duration": 213,
    "start_time": "2022-04-22T14:20:57.668Z"
   },
   {
    "duration": 226,
    "start_time": "2022-04-22T14:21:06.445Z"
   },
   {
    "duration": 234,
    "start_time": "2022-04-22T14:21:17.933Z"
   },
   {
    "duration": 216,
    "start_time": "2022-04-22T14:21:32.187Z"
   },
   {
    "duration": 313,
    "start_time": "2022-04-22T14:24:58.117Z"
   },
   {
    "duration": 282,
    "start_time": "2022-04-22T14:26:10.083Z"
   },
   {
    "duration": 389,
    "start_time": "2022-04-22T15:30:56.505Z"
   },
   {
    "duration": 4,
    "start_time": "2022-04-22T15:31:03.112Z"
   },
   {
    "duration": 43,
    "start_time": "2022-04-22T15:31:03.120Z"
   },
   {
    "duration": 7,
    "start_time": "2022-04-22T15:31:03.165Z"
   },
   {
    "duration": 15,
    "start_time": "2022-04-22T15:31:03.174Z"
   },
   {
    "duration": 7,
    "start_time": "2022-04-22T15:31:03.192Z"
   },
   {
    "duration": 9,
    "start_time": "2022-04-22T15:31:03.200Z"
   },
   {
    "duration": 10,
    "start_time": "2022-04-22T15:31:03.210Z"
   },
   {
    "duration": 4,
    "start_time": "2022-04-22T15:31:03.222Z"
   },
   {
    "duration": 12,
    "start_time": "2022-04-22T15:31:03.228Z"
   },
   {
    "duration": 14,
    "start_time": "2022-04-22T15:31:03.242Z"
   },
   {
    "duration": 47,
    "start_time": "2022-04-22T15:31:03.260Z"
   },
   {
    "duration": 7,
    "start_time": "2022-04-22T15:31:03.310Z"
   },
   {
    "duration": 24,
    "start_time": "2022-04-22T15:31:03.319Z"
   },
   {
    "duration": 17,
    "start_time": "2022-04-22T15:31:03.345Z"
   },
   {
    "duration": 7,
    "start_time": "2022-04-22T15:31:03.364Z"
   },
   {
    "duration": 7,
    "start_time": "2022-04-22T15:31:03.374Z"
   },
   {
    "duration": 31,
    "start_time": "2022-04-22T15:31:03.383Z"
   },
   {
    "duration": 22,
    "start_time": "2022-04-22T15:31:03.416Z"
   },
   {
    "duration": 10,
    "start_time": "2022-04-22T15:31:03.440Z"
   },
   {
    "duration": 8,
    "start_time": "2022-04-22T15:31:03.452Z"
   },
   {
    "duration": 11,
    "start_time": "2022-04-22T15:31:03.462Z"
   },
   {
    "duration": 40,
    "start_time": "2022-04-22T15:31:03.475Z"
   },
   {
    "duration": 7,
    "start_time": "2022-04-22T15:31:03.516Z"
   },
   {
    "duration": 191,
    "start_time": "2022-04-22T15:31:03.525Z"
   },
   {
    "duration": 124,
    "start_time": "2022-04-22T15:31:03.718Z"
   },
   {
    "duration": 6,
    "start_time": "2022-04-22T15:31:03.844Z"
   },
   {
    "duration": 16,
    "start_time": "2022-04-22T15:31:03.851Z"
   },
   {
    "duration": 7,
    "start_time": "2022-04-22T15:31:03.868Z"
   },
   {
    "duration": 256,
    "start_time": "2022-04-22T15:31:03.879Z"
   },
   {
    "duration": 229,
    "start_time": "2022-04-22T15:31:04.137Z"
   },
   {
    "duration": 6,
    "start_time": "2022-04-22T15:31:04.368Z"
   },
   {
    "duration": 342,
    "start_time": "2022-04-22T15:31:04.376Z"
   },
   {
    "duration": 5,
    "start_time": "2022-04-22T15:31:04.720Z"
   },
   {
    "duration": 7,
    "start_time": "2022-04-22T15:31:04.727Z"
   },
   {
    "duration": 189,
    "start_time": "2022-04-22T15:31:04.736Z"
   },
   {
    "duration": 8,
    "start_time": "2022-04-22T15:31:04.928Z"
   },
   {
    "duration": 274,
    "start_time": "2022-04-22T15:31:04.938Z"
   },
   {
    "duration": 140,
    "start_time": "2022-04-22T15:31:05.214Z"
   },
   {
    "duration": 141,
    "start_time": "2022-04-22T15:31:05.357Z"
   },
   {
    "duration": 10,
    "start_time": "2022-04-22T15:31:05.500Z"
   },
   {
    "duration": 152,
    "start_time": "2022-04-22T15:31:05.512Z"
   },
   {
    "duration": 6,
    "start_time": "2022-04-22T15:31:05.665Z"
   },
   {
    "duration": 59,
    "start_time": "2022-04-22T15:31:05.672Z"
   },
   {
    "duration": 45,
    "start_time": "2022-04-22T15:31:05.732Z"
   },
   {
    "duration": 68,
    "start_time": "2022-04-22T15:31:05.779Z"
   },
   {
    "duration": 66,
    "start_time": "2022-04-22T15:31:05.849Z"
   },
   {
    "duration": 30,
    "start_time": "2022-04-22T15:31:05.917Z"
   },
   {
    "duration": 139,
    "start_time": "2022-04-22T15:31:05.949Z"
   },
   {
    "duration": 17,
    "start_time": "2022-04-22T15:31:06.090Z"
   },
   {
    "duration": 23,
    "start_time": "2022-04-22T15:31:06.109Z"
   },
   {
    "duration": 9,
    "start_time": "2022-04-22T15:31:06.134Z"
   },
   {
    "duration": 8,
    "start_time": "2022-04-22T15:31:06.145Z"
   },
   {
    "duration": 9,
    "start_time": "2022-04-22T15:31:06.154Z"
   },
   {
    "duration": 51,
    "start_time": "2022-04-22T15:31:06.165Z"
   },
   {
    "duration": 12,
    "start_time": "2022-04-22T15:31:06.218Z"
   },
   {
    "duration": 3,
    "start_time": "2022-04-22T18:41:43.053Z"
   },
   {
    "duration": 50,
    "start_time": "2022-04-22T18:41:43.058Z"
   },
   {
    "duration": 7,
    "start_time": "2022-04-22T18:41:43.110Z"
   },
   {
    "duration": 11,
    "start_time": "2022-04-22T18:41:43.119Z"
   },
   {
    "duration": 7,
    "start_time": "2022-04-22T18:41:43.132Z"
   },
   {
    "duration": 5,
    "start_time": "2022-04-22T18:41:43.140Z"
   },
   {
    "duration": 9,
    "start_time": "2022-04-22T18:41:43.147Z"
   },
   {
    "duration": 4,
    "start_time": "2022-04-22T18:41:43.157Z"
   },
   {
    "duration": 8,
    "start_time": "2022-04-22T18:41:43.162Z"
   },
   {
    "duration": 39,
    "start_time": "2022-04-22T18:41:43.172Z"
   },
   {
    "duration": 7,
    "start_time": "2022-04-22T18:41:43.213Z"
   },
   {
    "duration": 6,
    "start_time": "2022-04-22T18:41:43.221Z"
   },
   {
    "duration": 7,
    "start_time": "2022-04-22T18:41:43.229Z"
   },
   {
    "duration": 10,
    "start_time": "2022-04-22T18:41:43.239Z"
   },
   {
    "duration": 5,
    "start_time": "2022-04-22T18:41:43.251Z"
   },
   {
    "duration": 6,
    "start_time": "2022-04-22T18:41:43.257Z"
   },
   {
    "duration": 53,
    "start_time": "2022-04-22T18:41:43.264Z"
   },
   {
    "duration": 19,
    "start_time": "2022-04-22T18:41:43.319Z"
   },
   {
    "duration": 10,
    "start_time": "2022-04-22T18:41:43.340Z"
   },
   {
    "duration": 8,
    "start_time": "2022-04-22T18:41:43.352Z"
   },
   {
    "duration": 11,
    "start_time": "2022-04-22T18:41:43.362Z"
   },
   {
    "duration": 49,
    "start_time": "2022-04-22T18:41:43.375Z"
   },
   {
    "duration": 5,
    "start_time": "2022-04-22T18:41:43.426Z"
   },
   {
    "duration": 193,
    "start_time": "2022-04-22T18:41:43.432Z"
   },
   {
    "duration": 123,
    "start_time": "2022-04-22T18:41:43.626Z"
   },
   {
    "duration": 6,
    "start_time": "2022-04-22T18:41:43.751Z"
   },
   {
    "duration": 10,
    "start_time": "2022-04-22T18:41:43.759Z"
   },
   {
    "duration": 7,
    "start_time": "2022-04-22T18:41:43.771Z"
   },
   {
    "duration": 260,
    "start_time": "2022-04-22T18:41:43.779Z"
   },
   {
    "duration": 311,
    "start_time": "2022-04-22T18:41:44.040Z"
   },
   {
    "duration": 5,
    "start_time": "2022-04-22T18:41:44.353Z"
   },
   {
    "duration": 277,
    "start_time": "2022-04-22T18:41:44.360Z"
   },
   {
    "duration": 4,
    "start_time": "2022-04-22T18:41:44.638Z"
   },
   {
    "duration": 5,
    "start_time": "2022-04-22T18:41:44.644Z"
   },
   {
    "duration": 178,
    "start_time": "2022-04-22T18:41:44.651Z"
   },
   {
    "duration": 7,
    "start_time": "2022-04-22T18:41:44.831Z"
   },
   {
    "duration": 258,
    "start_time": "2022-04-22T18:41:44.839Z"
   },
   {
    "duration": 136,
    "start_time": "2022-04-22T18:41:45.099Z"
   },
   {
    "duration": 131,
    "start_time": "2022-04-22T18:41:45.237Z"
   },
   {
    "duration": 5,
    "start_time": "2022-04-22T18:41:45.369Z"
   },
   {
    "duration": 147,
    "start_time": "2022-04-22T18:41:45.377Z"
   },
   {
    "duration": 4,
    "start_time": "2022-04-22T18:41:45.525Z"
   },
   {
    "duration": 49,
    "start_time": "2022-04-22T18:41:45.531Z"
   },
   {
    "duration": 51,
    "start_time": "2022-04-22T18:41:45.582Z"
   },
   {
    "duration": 55,
    "start_time": "2022-04-22T18:41:45.634Z"
   },
   {
    "duration": 62,
    "start_time": "2022-04-22T18:41:45.691Z"
   },
   {
    "duration": 27,
    "start_time": "2022-04-22T18:41:45.755Z"
   },
   {
    "duration": 153,
    "start_time": "2022-04-22T18:41:45.784Z"
   },
   {
    "duration": 6,
    "start_time": "2022-04-22T18:41:45.939Z"
   },
   {
    "duration": 22,
    "start_time": "2022-04-22T18:41:45.947Z"
   },
   {
    "duration": 10,
    "start_time": "2022-04-22T18:41:45.970Z"
   },
   {
    "duration": 33,
    "start_time": "2022-04-22T18:41:45.981Z"
   },
   {
    "duration": 7,
    "start_time": "2022-04-22T18:41:46.016Z"
   },
   {
    "duration": 22,
    "start_time": "2022-04-22T18:41:46.024Z"
   },
   {
    "duration": 12,
    "start_time": "2022-04-22T18:41:46.048Z"
   }
  ],
  "kernelspec": {
   "display_name": "Python 3 (ipykernel)",
   "language": "python",
   "name": "python3"
  },
  "language_info": {
   "codemirror_mode": {
    "name": "ipython",
    "version": 3
   },
   "file_extension": ".py",
   "mimetype": "text/x-python",
   "name": "python",
   "nbconvert_exporter": "python",
   "pygments_lexer": "ipython3",
   "version": "3.9.5"
  },
  "toc": {
   "base_numbering": 1,
   "nav_menu": {},
   "number_sections": true,
   "sideBar": true,
   "skip_h1_title": true,
   "title_cell": "Содержание",
   "title_sidebar": "Contents",
   "toc_cell": true,
   "toc_position": {
    "height": "calc(100% - 180px)",
    "left": "10px",
    "top": "150px",
    "width": "239px"
   },
   "toc_section_display": true,
   "toc_window_display": true
  }
 },
 "nbformat": 4,
 "nbformat_minor": 2
}
