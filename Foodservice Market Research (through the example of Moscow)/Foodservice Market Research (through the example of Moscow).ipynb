{
 "cells": [
  {
   "cell_type": "markdown",
   "metadata": {},
   "source": [
    "# Исследование рынка заведений  общественного питания в Москве"
   ]
  },
  {
   "cell_type": "markdown",
   "metadata": {
    "toc": true
   },
   "source": [
    "<h1>Содержание<span class=\"tocSkip\"></span></h1>\n",
    "<div class=\"toc\"><ul class=\"toc-item\"><li><span><a href=\"#Описание-данных\" data-toc-modified-id=\"Описание-данных-1\"><span class=\"toc-item-num\">1&nbsp;&nbsp;</span>Описание данных</a></span></li><li><span><a href=\"#Изучение-и-предобработка-данных\" data-toc-modified-id=\"Изучение-и-предобработка-данных-2\"><span class=\"toc-item-num\">2&nbsp;&nbsp;</span>Изучение и предобработка данных</a></span></li><li><span><a href=\"#Исследования\" data-toc-modified-id=\"Исследования-3\"><span class=\"toc-item-num\">3&nbsp;&nbsp;</span>Исследования</a></span><ul class=\"toc-item\"><li><span><a href=\"#Соотношение-видов-объектов-общественного-питания-по-количеству\" data-toc-modified-id=\"Соотношение-видов-объектов-общественного-питания-по-количеству-3.1\"><span class=\"toc-item-num\">3.1&nbsp;&nbsp;</span>Соотношение видов объектов общественного питания по количеству</a></span></li><li><span><a href=\"#Соотношение-сетевых-и-несетевых-заведений-по-количеству\" data-toc-modified-id=\"Соотношение-сетевых-и-несетевых-заведений-по-количеству-3.2\"><span class=\"toc-item-num\">3.2&nbsp;&nbsp;</span>Соотношение сетевых и несетевых заведений по количеству</a></span></li><li><span><a href=\"#Характерность-сетевого-распространения-по-объектам-питания\" data-toc-modified-id=\"Характерность-сетевого-распространения-по-объектам-питания-3.3\"><span class=\"toc-item-num\">3.3&nbsp;&nbsp;</span>Характерность сетевого распространения по объектам питания</a></span></li><li><span><a href=\"#Распределение-количества-сетевых-заведений-и-посадочных-мест-в-них\" data-toc-modified-id=\"Распределение-количества-сетевых-заведений-и-посадочных-мест-в-них-3.4\"><span class=\"toc-item-num\">3.4&nbsp;&nbsp;</span>Распределение количества сетевых заведений и посадочных мест в них</a></span></li><li><span><a href=\"#Среднее-количество-посадочных-мест-по-видам-заведений\" data-toc-modified-id=\"Среднее-количество-посадочных-мест-по-видам-заведений-3.5\"><span class=\"toc-item-num\">3.5&nbsp;&nbsp;</span>Среднее количество посадочных мест по видам заведений</a></span></li><li><span><a href=\"#Формирование-столбца-с-улицей-+-добавление-столбца-с-районом-из-внешнего-источника\" data-toc-modified-id=\"Формирование-столбца-с-улицей-+-добавление-столбца-с-районом-из-внешнего-источника-3.6\"><span class=\"toc-item-num\">3.6&nbsp;&nbsp;</span>Формирование столбца с улицей + добавление столбца с районом из внешнего источника</a></span></li><li><span><a href=\"#Топ-10-улиц-по-количеству-объектов-общественного-питания,-определение-района\" data-toc-modified-id=\"Топ-10-улиц-по-количеству-объектов-общественного-питания,-определение-района-3.7\"><span class=\"toc-item-num\">3.7&nbsp;&nbsp;</span>Топ-10 улиц по количеству объектов общественного питания, определение района</a></span></li><li><span><a href=\"#Число-улиц-с-одним-объектом-общественного-питания,-определение-района\" data-toc-modified-id=\"Число-улиц-с-одним-объектом-общественного-питания,-определение-района-3.8\"><span class=\"toc-item-num\">3.8&nbsp;&nbsp;</span>Число улиц с одним объектом общественного питания, определение района</a></span></li><li><span><a href=\"#Распределение-количества-посадочных-мест-для-улиц-с-большим-количеством-объектов-общественного-питания\" data-toc-modified-id=\"Распределение-количества-посадочных-мест-для-улиц-с-большим-количеством-объектов-общественного-питания-3.9\"><span class=\"toc-item-num\">3.9&nbsp;&nbsp;</span>Распределение количества посадочных мест для улиц с большим количеством объектов общественного питания</a></span></li><li><span><a href=\"#Более-подробное-исследование-топ-10-улиц-по-количеству-заведений-внутри-одного-района\" data-toc-modified-id=\"Более-подробное-исследование-топ-10-улиц-по-количеству-заведений-внутри-одного-района-3.10\"><span class=\"toc-item-num\">3.10&nbsp;&nbsp;</span>Более подробное исследование топ-10 улиц по количеству заведений внутри одного района</a></span><ul class=\"toc-item\"><li><span><a href=\"#Среднее-количество-мест-по-заведениям\" data-toc-modified-id=\"Среднее-количество-мест-по-заведениям-3.10.1\"><span class=\"toc-item-num\">3.10.1&nbsp;&nbsp;</span>Среднее количество мест по заведениям</a></span></li><li><span><a href=\"#Соотношение-видов-объектов-общественного-питания-по-количеству\" data-toc-modified-id=\"Соотношение-видов-объектов-общественного-питания-по-количеству-3.10.2\"><span class=\"toc-item-num\">3.10.2&nbsp;&nbsp;</span>Соотношение видов объектов общественного питания по количеству</a></span></li><li><span><a href=\"#Соотношение-сетевых-и-несетевых-заведений\" data-toc-modified-id=\"Соотношение-сетевых-и-несетевых-заведений-3.10.3\"><span class=\"toc-item-num\">3.10.3&nbsp;&nbsp;</span>Соотношение сетевых и несетевых заведений</a></span></li></ul></li></ul></li><li><span><a href=\"#Общий-вывод-и-рекомендации\" data-toc-modified-id=\"Общий-вывод-и-рекомендации-4\"><span class=\"toc-item-num\">4&nbsp;&nbsp;</span>Общий вывод и рекомендации</a></span></li></ul></div>"
   ]
  },
  {
   "cell_type": "markdown",
   "metadata": {},
   "source": [
    "## Описание данных"
   ]
  },
  {
   "cell_type": "markdown",
   "metadata": {},
   "source": [
    "Таблица `rest_data`:\n",
    "\n",
    "- `id` — идентификатор объекта;\n",
    "- `object_name` — название объекта общественного питания;\n",
    "- `chain` — сетевой ресторан;\n",
    "- `object_type` — тип объекта общественного питания;\n",
    "- `address` — адрес;\n",
    "- `number` — количество посадочных мест."
   ]
  },
  {
   "cell_type": "markdown",
   "metadata": {},
   "source": [
    "## Изучение и предобработка данных"
   ]
  },
  {
   "cell_type": "code",
   "execution_count": 1,
   "metadata": {},
   "outputs": [],
   "source": [
    "import pandas as pd\n",
    "import numpy as np\n",
    "import seaborn as sns\n",
    "import matplotlib\n",
    "import matplotlib.pyplot as plt"
   ]
  },
  {
   "cell_type": "code",
   "execution_count": 2,
   "metadata": {},
   "outputs": [],
   "source": [
    "restaurants = pd.read_csv('/datasets/rest_data.csv')"
   ]
  },
  {
   "cell_type": "code",
   "execution_count": 3,
   "metadata": {},
   "outputs": [
    {
     "data": {
      "text/html": [
       "<div>\n",
       "<style scoped>\n",
       "    .dataframe tbody tr th:only-of-type {\n",
       "        vertical-align: middle;\n",
       "    }\n",
       "\n",
       "    .dataframe tbody tr th {\n",
       "        vertical-align: top;\n",
       "    }\n",
       "\n",
       "    .dataframe thead th {\n",
       "        text-align: right;\n",
       "    }\n",
       "</style>\n",
       "<table border=\"1\" class=\"dataframe\">\n",
       "  <thead>\n",
       "    <tr style=\"text-align: right;\">\n",
       "      <th></th>\n",
       "      <th>id</th>\n",
       "      <th>object_name</th>\n",
       "      <th>chain</th>\n",
       "      <th>object_type</th>\n",
       "      <th>address</th>\n",
       "      <th>number</th>\n",
       "    </tr>\n",
       "  </thead>\n",
       "  <tbody>\n",
       "    <tr>\n",
       "      <th>0</th>\n",
       "      <td>151635</td>\n",
       "      <td>СМЕТАНА</td>\n",
       "      <td>нет</td>\n",
       "      <td>кафе</td>\n",
       "      <td>город Москва, улица Егора Абакумова, дом 9</td>\n",
       "      <td>48</td>\n",
       "    </tr>\n",
       "    <tr>\n",
       "      <th>1</th>\n",
       "      <td>77874</td>\n",
       "      <td>Родник</td>\n",
       "      <td>нет</td>\n",
       "      <td>кафе</td>\n",
       "      <td>город Москва, улица Талалихина, дом 2/1, корпус 1</td>\n",
       "      <td>35</td>\n",
       "    </tr>\n",
       "    <tr>\n",
       "      <th>2</th>\n",
       "      <td>24309</td>\n",
       "      <td>Кафе «Академия»</td>\n",
       "      <td>нет</td>\n",
       "      <td>кафе</td>\n",
       "      <td>город Москва, Абельмановская улица, дом 6</td>\n",
       "      <td>95</td>\n",
       "    </tr>\n",
       "    <tr>\n",
       "      <th>3</th>\n",
       "      <td>21894</td>\n",
       "      <td>ПИЦЦЕТОРИЯ</td>\n",
       "      <td>да</td>\n",
       "      <td>кафе</td>\n",
       "      <td>город Москва, Абрамцевская улица, дом 1</td>\n",
       "      <td>40</td>\n",
       "    </tr>\n",
       "    <tr>\n",
       "      <th>4</th>\n",
       "      <td>119365</td>\n",
       "      <td>Кафе «Вишневая метель»</td>\n",
       "      <td>нет</td>\n",
       "      <td>кафе</td>\n",
       "      <td>город Москва, Абрамцевская улица, дом 9, корпус 1</td>\n",
       "      <td>50</td>\n",
       "    </tr>\n",
       "    <tr>\n",
       "      <th>...</th>\n",
       "      <td>...</td>\n",
       "      <td>...</td>\n",
       "      <td>...</td>\n",
       "      <td>...</td>\n",
       "      <td>...</td>\n",
       "      <td>...</td>\n",
       "    </tr>\n",
       "    <tr>\n",
       "      <th>15361</th>\n",
       "      <td>208537</td>\n",
       "      <td>Шоколадница</td>\n",
       "      <td>да</td>\n",
       "      <td>кафе</td>\n",
       "      <td>город Москва, 3-й Крутицкий переулок, дом 18</td>\n",
       "      <td>50</td>\n",
       "    </tr>\n",
       "    <tr>\n",
       "      <th>15362</th>\n",
       "      <td>209264</td>\n",
       "      <td>Шоколадница</td>\n",
       "      <td>да</td>\n",
       "      <td>кафе</td>\n",
       "      <td>город Москва, улица Земляной Вал, дом 33</td>\n",
       "      <td>10</td>\n",
       "    </tr>\n",
       "    <tr>\n",
       "      <th>15363</th>\n",
       "      <td>209186</td>\n",
       "      <td>Шоколадница</td>\n",
       "      <td>да</td>\n",
       "      <td>кафе</td>\n",
       "      <td>город Москва, улица Земляной Вал, дом 33</td>\n",
       "      <td>20</td>\n",
       "    </tr>\n",
       "    <tr>\n",
       "      <th>15364</th>\n",
       "      <td>221900</td>\n",
       "      <td>Шоколадница</td>\n",
       "      <td>да</td>\n",
       "      <td>кафе</td>\n",
       "      <td>город Москва, поселение Московский, Киевское ш...</td>\n",
       "      <td>36</td>\n",
       "    </tr>\n",
       "    <tr>\n",
       "      <th>15365</th>\n",
       "      <td>222535</td>\n",
       "      <td>Шоколадница</td>\n",
       "      <td>да</td>\n",
       "      <td>кафе</td>\n",
       "      <td>город Москва, Ходынский бульвар, дом 4</td>\n",
       "      <td>10</td>\n",
       "    </tr>\n",
       "  </tbody>\n",
       "</table>\n",
       "<p>15366 rows × 6 columns</p>\n",
       "</div>"
      ],
      "text/plain": [
       "           id             object_name chain object_type  \\\n",
       "0      151635                 СМЕТАНА   нет        кафе   \n",
       "1       77874                  Родник   нет        кафе   \n",
       "2       24309         Кафе «Академия»   нет        кафе   \n",
       "3       21894              ПИЦЦЕТОРИЯ    да        кафе   \n",
       "4      119365  Кафе «Вишневая метель»   нет        кафе   \n",
       "...       ...                     ...   ...         ...   \n",
       "15361  208537             Шоколадница    да        кафе   \n",
       "15362  209264             Шоколадница    да        кафе   \n",
       "15363  209186             Шоколадница    да        кафе   \n",
       "15364  221900             Шоколадница    да        кафе   \n",
       "15365  222535             Шоколадница    да        кафе   \n",
       "\n",
       "                                                 address  number  \n",
       "0             город Москва, улица Егора Абакумова, дом 9      48  \n",
       "1      город Москва, улица Талалихина, дом 2/1, корпус 1      35  \n",
       "2              город Москва, Абельмановская улица, дом 6      95  \n",
       "3                город Москва, Абрамцевская улица, дом 1      40  \n",
       "4      город Москва, Абрамцевская улица, дом 9, корпус 1      50  \n",
       "...                                                  ...     ...  \n",
       "15361       город Москва, 3-й Крутицкий переулок, дом 18      50  \n",
       "15362           город Москва, улица Земляной Вал, дом 33      10  \n",
       "15363           город Москва, улица Земляной Вал, дом 33      20  \n",
       "15364  город Москва, поселение Московский, Киевское ш...      36  \n",
       "15365             город Москва, Ходынский бульвар, дом 4      10  \n",
       "\n",
       "[15366 rows x 6 columns]"
      ]
     },
     "execution_count": 3,
     "metadata": {},
     "output_type": "execute_result"
    }
   ],
   "source": [
    "restaurants"
   ]
  },
  {
   "cell_type": "code",
   "execution_count": 4,
   "metadata": {},
   "outputs": [
    {
     "name": "stdout",
     "output_type": "stream",
     "text": [
      "<class 'pandas.core.frame.DataFrame'>\n",
      "RangeIndex: 15366 entries, 0 to 15365\n",
      "Data columns (total 6 columns):\n",
      " #   Column       Non-Null Count  Dtype \n",
      "---  ------       --------------  ----- \n",
      " 0   id           15366 non-null  int64 \n",
      " 1   object_name  15366 non-null  object\n",
      " 2   chain        15366 non-null  object\n",
      " 3   object_type  15366 non-null  object\n",
      " 4   address      15366 non-null  object\n",
      " 5   number       15366 non-null  int64 \n",
      "dtypes: int64(2), object(4)\n",
      "memory usage: 720.4+ KB\n"
     ]
    }
   ],
   "source": [
    "restaurants.info()"
   ]
  },
  {
   "cell_type": "code",
   "execution_count": 5,
   "metadata": {},
   "outputs": [
    {
     "data": {
      "text/html": [
       "<div>\n",
       "<style scoped>\n",
       "    .dataframe tbody tr th:only-of-type {\n",
       "        vertical-align: middle;\n",
       "    }\n",
       "\n",
       "    .dataframe tbody tr th {\n",
       "        vertical-align: top;\n",
       "    }\n",
       "\n",
       "    .dataframe thead th {\n",
       "        text-align: right;\n",
       "    }\n",
       "</style>\n",
       "<table border=\"1\" class=\"dataframe\">\n",
       "  <thead>\n",
       "    <tr style=\"text-align: right;\">\n",
       "      <th></th>\n",
       "      <th>id</th>\n",
       "      <th>number</th>\n",
       "    </tr>\n",
       "  </thead>\n",
       "  <tbody>\n",
       "    <tr>\n",
       "      <th>count</th>\n",
       "      <td>15366.000000</td>\n",
       "      <td>15366.000000</td>\n",
       "    </tr>\n",
       "    <tr>\n",
       "      <th>mean</th>\n",
       "      <td>119720.066901</td>\n",
       "      <td>59.547182</td>\n",
       "    </tr>\n",
       "    <tr>\n",
       "      <th>std</th>\n",
       "      <td>73036.130732</td>\n",
       "      <td>74.736833</td>\n",
       "    </tr>\n",
       "    <tr>\n",
       "      <th>min</th>\n",
       "      <td>838.000000</td>\n",
       "      <td>0.000000</td>\n",
       "    </tr>\n",
       "    <tr>\n",
       "      <th>25%</th>\n",
       "      <td>28524.000000</td>\n",
       "      <td>12.000000</td>\n",
       "    </tr>\n",
       "    <tr>\n",
       "      <th>50%</th>\n",
       "      <td>144974.500000</td>\n",
       "      <td>40.000000</td>\n",
       "    </tr>\n",
       "    <tr>\n",
       "      <th>75%</th>\n",
       "      <td>184262.250000</td>\n",
       "      <td>80.000000</td>\n",
       "    </tr>\n",
       "    <tr>\n",
       "      <th>max</th>\n",
       "      <td>223439.000000</td>\n",
       "      <td>1700.000000</td>\n",
       "    </tr>\n",
       "  </tbody>\n",
       "</table>\n",
       "</div>"
      ],
      "text/plain": [
       "                  id        number\n",
       "count   15366.000000  15366.000000\n",
       "mean   119720.066901     59.547182\n",
       "std     73036.130732     74.736833\n",
       "min       838.000000      0.000000\n",
       "25%     28524.000000     12.000000\n",
       "50%    144974.500000     40.000000\n",
       "75%    184262.250000     80.000000\n",
       "max    223439.000000   1700.000000"
      ]
     },
     "execution_count": 5,
     "metadata": {},
     "output_type": "execute_result"
    }
   ],
   "source": [
    "restaurants.describe()"
   ]
  },
  {
   "cell_type": "code",
   "execution_count": 6,
   "metadata": {},
   "outputs": [
    {
     "data": {
      "text/plain": [
       "нет    12398\n",
       "да      2968\n",
       "Name: chain, dtype: int64"
      ]
     },
     "execution_count": 6,
     "metadata": {},
     "output_type": "execute_result"
    }
   ],
   "source": [
    "restaurants['chain'].value_counts()"
   ]
  },
  {
   "cell_type": "code",
   "execution_count": 7,
   "metadata": {
    "scrolled": false
   },
   "outputs": [
    {
     "data": {
      "text/plain": [
       "кафе                                 6099\n",
       "столовая                             2587\n",
       "ресторан                             2285\n",
       "предприятие быстрого обслуживания    1923\n",
       "бар                                   856\n",
       "буфет                                 585\n",
       "кафетерий                             398\n",
       "закусочная                            360\n",
       "магазин (отдел кулинарии)             273\n",
       "Name: object_type, dtype: int64"
      ]
     },
     "execution_count": 7,
     "metadata": {},
     "output_type": "execute_result"
    }
   ],
   "source": [
    "restaurants['object_type'].value_counts()"
   ]
  },
  {
   "cell_type": "code",
   "execution_count": 8,
   "metadata": {},
   "outputs": [
    {
     "data": {
      "text/plain": [
       "id             0\n",
       "object_name    0\n",
       "chain          0\n",
       "object_type    0\n",
       "address        0\n",
       "number         0\n",
       "dtype: int64"
      ]
     },
     "execution_count": 8,
     "metadata": {},
     "output_type": "execute_result"
    }
   ],
   "source": [
    "restaurants.isnull().sum()"
   ]
  },
  {
   "cell_type": "code",
   "execution_count": 9,
   "metadata": {},
   "outputs": [
    {
     "data": {
      "text/plain": [
       "0"
      ]
     },
     "execution_count": 9,
     "metadata": {},
     "output_type": "execute_result"
    }
   ],
   "source": [
    "restaurants.duplicated().sum()"
   ]
  },
  {
   "cell_type": "markdown",
   "metadata": {},
   "source": [
    "Посмотрим, нет ли у нас дубликатов, если привести данные к нижнему регистру и исключить из рассмотрения ID объекта:"
   ]
  },
  {
   "cell_type": "code",
   "execution_count": 10,
   "metadata": {},
   "outputs": [],
   "source": [
    "restaurants['object_name'] = restaurants['object_name'].str.lower()\n",
    "restaurants['address'] = restaurants['address'].str.lower()"
   ]
  },
  {
   "cell_type": "code",
   "execution_count": 11,
   "metadata": {},
   "outputs": [
    {
     "data": {
      "text/plain": [
       "85"
      ]
     },
     "execution_count": 11,
     "metadata": {},
     "output_type": "execute_result"
    }
   ],
   "source": [
    "restaurants.duplicated(subset=['object_name', 'chain', 'object_type', 'address' , 'number']).sum()"
   ]
  },
  {
   "cell_type": "markdown",
   "metadata": {},
   "source": [
    "Нашлось 85 дубликатов, удалим их:"
   ]
  },
  {
   "cell_type": "code",
   "execution_count": 12,
   "metadata": {},
   "outputs": [],
   "source": [
    "restaurants.drop_duplicates(subset=['object_name', 'chain', 'object_type', 'address' , 'number'], inplace=True)"
   ]
  },
  {
   "cell_type": "code",
   "execution_count": 13,
   "metadata": {},
   "outputs": [
    {
     "data": {
      "text/plain": [
       "0"
      ]
     },
     "execution_count": 13,
     "metadata": {},
     "output_type": "execute_result"
    }
   ],
   "source": [
    "restaurants.duplicated(subset=['object_name', 'chain', 'object_type', 'address' , 'number']).sum()"
   ]
  },
  {
   "cell_type": "markdown",
   "metadata": {},
   "source": [
    "Также заменим тип данных в столбце `chain` на *bool*, так как это более логично и упрощает дальнейшую работу:"
   ]
  },
  {
   "cell_type": "code",
   "execution_count": 14,
   "metadata": {},
   "outputs": [
    {
     "name": "stdout",
     "output_type": "stream",
     "text": [
      "<class 'pandas.core.frame.DataFrame'>\n",
      "Int64Index: 15281 entries, 0 to 15365\n",
      "Data columns (total 6 columns):\n",
      " #   Column       Non-Null Count  Dtype \n",
      "---  ------       --------------  ----- \n",
      " 0   id           15281 non-null  int64 \n",
      " 1   object_name  15281 non-null  object\n",
      " 2   chain        15281 non-null  bool  \n",
      " 3   object_type  15281 non-null  object\n",
      " 4   address      15281 non-null  object\n",
      " 5   number       15281 non-null  int64 \n",
      "dtypes: bool(1), int64(2), object(3)\n",
      "memory usage: 731.2+ KB\n"
     ]
    }
   ],
   "source": [
    "def to_bool(row):\n",
    "    if row == 'да':\n",
    "        return True\n",
    "    elif row == 'нет':\n",
    "        return False\n",
    "\n",
    "restaurants['chain'] = restaurants['chain'].apply(to_bool)\n",
    "restaurants.info()"
   ]
  },
  {
   "cell_type": "markdown",
   "metadata": {},
   "source": [
    "**Вывод:** Типы данных в порядке, столбцы названы единообразно, пропусков нет. Было найдено 85 скрытых дубликатов, которые были удалены. Был заменен тип данных столбца `chain` на *bool*."
   ]
  },
  {
   "cell_type": "markdown",
   "metadata": {},
   "source": [
    "## Исследования"
   ]
  },
  {
   "cell_type": "markdown",
   "metadata": {},
   "source": [
    "### Соотношение видов объектов общественного питания по количеству"
   ]
  },
  {
   "cell_type": "markdown",
   "metadata": {},
   "source": [
    "Сгруппируем по типу объекта, переименуем столбцы:"
   ]
  },
  {
   "cell_type": "code",
   "execution_count": 15,
   "metadata": {},
   "outputs": [],
   "source": [
    "object_types = restaurants.groupby('object_type')['id'].count().reset_index()\n",
    "object_types = object_types.rename(columns={'id': 'count'})"
   ]
  },
  {
   "cell_type": "markdown",
   "metadata": {},
   "source": [
    "Подсчитаем в отдельном столбце процент:"
   ]
  },
  {
   "cell_type": "code",
   "execution_count": 16,
   "metadata": {},
   "outputs": [],
   "source": [
    "object_types['ratio'] = round(object_types['count'] / len(restaurants) * 100, 1)"
   ]
  },
  {
   "cell_type": "code",
   "execution_count": 17,
   "metadata": {},
   "outputs": [
    {
     "data": {
      "text/html": [
       "<div>\n",
       "<style scoped>\n",
       "    .dataframe tbody tr th:only-of-type {\n",
       "        vertical-align: middle;\n",
       "    }\n",
       "\n",
       "    .dataframe tbody tr th {\n",
       "        vertical-align: top;\n",
       "    }\n",
       "\n",
       "    .dataframe thead th {\n",
       "        text-align: right;\n",
       "    }\n",
       "</style>\n",
       "<table border=\"1\" class=\"dataframe\">\n",
       "  <thead>\n",
       "    <tr style=\"text-align: right;\">\n",
       "      <th></th>\n",
       "      <th>object_type</th>\n",
       "      <th>count</th>\n",
       "      <th>ratio</th>\n",
       "    </tr>\n",
       "  </thead>\n",
       "  <tbody>\n",
       "    <tr>\n",
       "      <th>3</th>\n",
       "      <td>кафе</td>\n",
       "      <td>6071</td>\n",
       "      <td>39.7</td>\n",
       "    </tr>\n",
       "    <tr>\n",
       "      <th>8</th>\n",
       "      <td>столовая</td>\n",
       "      <td>2584</td>\n",
       "      <td>16.9</td>\n",
       "    </tr>\n",
       "    <tr>\n",
       "      <th>7</th>\n",
       "      <td>ресторан</td>\n",
       "      <td>2282</td>\n",
       "      <td>14.9</td>\n",
       "    </tr>\n",
       "    <tr>\n",
       "      <th>6</th>\n",
       "      <td>предприятие быстрого обслуживания</td>\n",
       "      <td>1897</td>\n",
       "      <td>12.4</td>\n",
       "    </tr>\n",
       "    <tr>\n",
       "      <th>0</th>\n",
       "      <td>бар</td>\n",
       "      <td>855</td>\n",
       "      <td>5.6</td>\n",
       "    </tr>\n",
       "    <tr>\n",
       "      <th>1</th>\n",
       "      <td>буфет</td>\n",
       "      <td>576</td>\n",
       "      <td>3.8</td>\n",
       "    </tr>\n",
       "    <tr>\n",
       "      <th>4</th>\n",
       "      <td>кафетерий</td>\n",
       "      <td>395</td>\n",
       "      <td>2.6</td>\n",
       "    </tr>\n",
       "    <tr>\n",
       "      <th>2</th>\n",
       "      <td>закусочная</td>\n",
       "      <td>348</td>\n",
       "      <td>2.3</td>\n",
       "    </tr>\n",
       "    <tr>\n",
       "      <th>5</th>\n",
       "      <td>магазин (отдел кулинарии)</td>\n",
       "      <td>273</td>\n",
       "      <td>1.8</td>\n",
       "    </tr>\n",
       "  </tbody>\n",
       "</table>\n",
       "</div>"
      ],
      "text/plain": [
       "                         object_type  count  ratio\n",
       "3                               кафе   6071   39.7\n",
       "8                           столовая   2584   16.9\n",
       "7                           ресторан   2282   14.9\n",
       "6  предприятие быстрого обслуживания   1897   12.4\n",
       "0                                бар    855    5.6\n",
       "1                              буфет    576    3.8\n",
       "4                          кафетерий    395    2.6\n",
       "2                         закусочная    348    2.3\n",
       "5          магазин (отдел кулинарии)    273    1.8"
      ]
     },
     "execution_count": 17,
     "metadata": {},
     "output_type": "execute_result"
    }
   ],
   "source": [
    "object_types = object_types.sort_values(by=['ratio'], ascending=False)\n",
    "object_types"
   ]
  },
  {
   "cell_type": "code",
   "execution_count": 18,
   "metadata": {
    "scrolled": false
   },
   "outputs": [
    {
     "data": {
      "image/png": "[encoded data removed]",
      "text/plain": [
       "<Figure size 576x360 with 1 Axes>"
      ]
     },
     "metadata": {},
     "output_type": "display_data"
    }
   ],
   "source": [
    "sns.set_style('whitegrid')\n",
    "plt.figure(figsize=(8, 5))\n",
    "ax = sns.barplot(data=object_types, x='count', y='object_type', palette='cool', alpha  = 0.9)\n",
    "plt.title('Соотношение видов объектов общественного питания по количеству')\n",
    "plt.xlabel('Количество')\n",
    "plt.ylabel(' ')\n",
    "\n",
    "percentage = object_types['ratio'].to_list()\n",
    "patches = ax.patches\n",
    "for i in range(len(patches)):\n",
    "    y = patches[i].get_y() + patches[i].get_height()/1.6\n",
    "    x = patches[i].get_width() + 20\n",
    "    ax.annotate('{:.1f}%'.format(percentage[i]), (x, y), ha='left')\n",
    "plt.show()"
   ]
  },
  {
   "cell_type": "markdown",
   "metadata": {},
   "source": [
    "**Вывод:** Наибольший процент составляют кафе (40%), далее идут столовые (17%), рестораны (15%) и предприятия быстрого обслуживания (12%). Меньше всего отделов кулинарии в магазинах, закусочных и кафетериев. "
   ]
  },
  {
   "cell_type": "markdown",
   "metadata": {},
   "source": [
    "### Соотношение сетевых и несетевых заведений по количеству"
   ]
  },
  {
   "cell_type": "markdown",
   "metadata": {},
   "source": [
    "Сгруппируем по столбцу `chain`, переименуем столбцы, подчитаем процент в отдельном столбце:"
   ]
  },
  {
   "cell_type": "code",
   "execution_count": 19,
   "metadata": {},
   "outputs": [
    {
     "data": {
      "text/html": [
       "<div>\n",
       "<style scoped>\n",
       "    .dataframe tbody tr th:only-of-type {\n",
       "        vertical-align: middle;\n",
       "    }\n",
       "\n",
       "    .dataframe tbody tr th {\n",
       "        vertical-align: top;\n",
       "    }\n",
       "\n",
       "    .dataframe thead th {\n",
       "        text-align: right;\n",
       "    }\n",
       "</style>\n",
       "<table border=\"1\" class=\"dataframe\">\n",
       "  <thead>\n",
       "    <tr style=\"text-align: right;\">\n",
       "      <th></th>\n",
       "      <th>chain</th>\n",
       "      <th>count</th>\n",
       "      <th>ratio</th>\n",
       "    </tr>\n",
       "  </thead>\n",
       "  <tbody>\n",
       "    <tr>\n",
       "      <th>0</th>\n",
       "      <td>False</td>\n",
       "      <td>12317</td>\n",
       "      <td>80.6</td>\n",
       "    </tr>\n",
       "    <tr>\n",
       "      <th>1</th>\n",
       "      <td>True</td>\n",
       "      <td>2964</td>\n",
       "      <td>19.4</td>\n",
       "    </tr>\n",
       "  </tbody>\n",
       "</table>\n",
       "</div>"
      ],
      "text/plain": [
       "   chain  count  ratio\n",
       "0  False  12317   80.6\n",
       "1   True   2964   19.4"
      ]
     },
     "execution_count": 19,
     "metadata": {},
     "output_type": "execute_result"
    }
   ],
   "source": [
    "chain_types = restaurants.groupby('chain')['id'].count().reset_index()\n",
    "chain_types = chain_types.rename(columns={'id': 'count'})\n",
    "chain_types['ratio'] = round(chain_types['count'] / len(restaurants) * 100, 1)\n",
    "chain_types"
   ]
  },
  {
   "cell_type": "code",
   "execution_count": 20,
   "metadata": {
    "scrolled": true
   },
   "outputs": [
    {
     "data": {
      "image/png": "[encoded data removed]",
      "text/plain": [
       "<Figure size 432x288 with 1 Axes>"
      ]
     },
     "metadata": {},
     "output_type": "display_data"
    }
   ],
   "source": [
    "labels = 'Сетевые', 'Несетевые'\n",
    "sizes = [19.4, 80.6]\n",
    "explode = (0.04, 0.00)\n",
    "colors = ['#D071FF', '#79D8EA']\n",
    "fig1, ax1 = plt.subplots()\n",
    "ax1.pie(sizes, explode=explode, labels=labels, colors = colors, autopct='%1.1f%%', startangle=90, pctdistance=0.84)\n",
    "centre_circle = plt.Circle((0,0),0.7,fc='white')\n",
    "fig = plt.gcf()\n",
    "fig.gca().add_artist(centre_circle)\n",
    "ax1.axis('equal')  \n",
    "plt.tight_layout()\n",
    "plt.title('Соотношение сетевых и несетевых заведений по количеству')\n",
    "plt.show()"
   ]
  },
  {
   "cell_type": "markdown",
   "metadata": {},
   "source": [
    "**Вывод:** Большинство заведений (81%) — несетевые, лишь 19% являются частью какой-то сети."
   ]
  },
  {
   "cell_type": "markdown",
   "metadata": {},
   "source": [
    "###  Характерность сетевого распространения по объектам питания"
   ]
  },
  {
   "cell_type": "code",
   "execution_count": 21,
   "metadata": {},
   "outputs": [],
   "source": [
    "chain_object_types = restaurants.query('chain == True').groupby('object_type')['id'].count().reset_index()\n",
    "chain_object_types = chain_object_types.rename(columns={'id': 'count'})"
   ]
  },
  {
   "cell_type": "code",
   "execution_count": 22,
   "metadata": {},
   "outputs": [
    {
     "data": {
      "text/html": [
       "<div>\n",
       "<style scoped>\n",
       "    .dataframe tbody tr th:only-of-type {\n",
       "        vertical-align: middle;\n",
       "    }\n",
       "\n",
       "    .dataframe tbody tr th {\n",
       "        vertical-align: top;\n",
       "    }\n",
       "\n",
       "    .dataframe thead th {\n",
       "        text-align: right;\n",
       "    }\n",
       "</style>\n",
       "<table border=\"1\" class=\"dataframe\">\n",
       "  <thead>\n",
       "    <tr style=\"text-align: right;\">\n",
       "      <th></th>\n",
       "      <th>object_type</th>\n",
       "      <th>chain_count</th>\n",
       "    </tr>\n",
       "  </thead>\n",
       "  <tbody>\n",
       "    <tr>\n",
       "      <th>0</th>\n",
       "      <td>бар</td>\n",
       "      <td>37</td>\n",
       "    </tr>\n",
       "    <tr>\n",
       "      <th>1</th>\n",
       "      <td>буфет</td>\n",
       "      <td>11</td>\n",
       "    </tr>\n",
       "    <tr>\n",
       "      <th>2</th>\n",
       "      <td>закусочная</td>\n",
       "      <td>56</td>\n",
       "    </tr>\n",
       "    <tr>\n",
       "      <th>3</th>\n",
       "      <td>кафе</td>\n",
       "      <td>1396</td>\n",
       "    </tr>\n",
       "    <tr>\n",
       "      <th>4</th>\n",
       "      <td>кафетерий</td>\n",
       "      <td>52</td>\n",
       "    </tr>\n",
       "    <tr>\n",
       "      <th>5</th>\n",
       "      <td>магазин (отдел кулинарии)</td>\n",
       "      <td>78</td>\n",
       "    </tr>\n",
       "    <tr>\n",
       "      <th>6</th>\n",
       "      <td>предприятие быстрого обслуживания</td>\n",
       "      <td>788</td>\n",
       "    </tr>\n",
       "    <tr>\n",
       "      <th>7</th>\n",
       "      <td>ресторан</td>\n",
       "      <td>543</td>\n",
       "    </tr>\n",
       "    <tr>\n",
       "      <th>8</th>\n",
       "      <td>столовая</td>\n",
       "      <td>3</td>\n",
       "    </tr>\n",
       "  </tbody>\n",
       "</table>\n",
       "</div>"
      ],
      "text/plain": [
       "                         object_type  chain_count\n",
       "0                                бар           37\n",
       "1                              буфет           11\n",
       "2                         закусочная           56\n",
       "3                               кафе         1396\n",
       "4                          кафетерий           52\n",
       "5          магазин (отдел кулинарии)           78\n",
       "6  предприятие быстрого обслуживания          788\n",
       "7                           ресторан          543\n",
       "8                           столовая            3"
      ]
     },
     "execution_count": 22,
     "metadata": {},
     "output_type": "execute_result"
    }
   ],
   "source": [
    "chain_object_types = chain_object_types.rename(columns={'count': 'chain_count'})\n",
    "chain_object_types"
   ]
  },
  {
   "cell_type": "code",
   "execution_count": 23,
   "metadata": {},
   "outputs": [],
   "source": [
    "object_types = object_types.drop(['ratio'], axis=1)\n",
    "chain_to_all = object_types.merge(chain_object_types, on='object_type', how='left')"
   ]
  },
  {
   "cell_type": "code",
   "execution_count": 24,
   "metadata": {},
   "outputs": [
    {
     "data": {
      "text/html": [
       "<div>\n",
       "<style scoped>\n",
       "    .dataframe tbody tr th:only-of-type {\n",
       "        vertical-align: middle;\n",
       "    }\n",
       "\n",
       "    .dataframe tbody tr th {\n",
       "        vertical-align: top;\n",
       "    }\n",
       "\n",
       "    .dataframe thead th {\n",
       "        text-align: right;\n",
       "    }\n",
       "</style>\n",
       "<table border=\"1\" class=\"dataframe\">\n",
       "  <thead>\n",
       "    <tr style=\"text-align: right;\">\n",
       "      <th></th>\n",
       "      <th>object_type</th>\n",
       "      <th>count</th>\n",
       "      <th>chain_count</th>\n",
       "      <th>ratio</th>\n",
       "    </tr>\n",
       "  </thead>\n",
       "  <tbody>\n",
       "    <tr>\n",
       "      <th>0</th>\n",
       "      <td>предприятие быстрого обслуживания</td>\n",
       "      <td>1897</td>\n",
       "      <td>788</td>\n",
       "      <td>41.54</td>\n",
       "    </tr>\n",
       "    <tr>\n",
       "      <th>1</th>\n",
       "      <td>магазин (отдел кулинарии)</td>\n",
       "      <td>273</td>\n",
       "      <td>78</td>\n",
       "      <td>28.57</td>\n",
       "    </tr>\n",
       "    <tr>\n",
       "      <th>2</th>\n",
       "      <td>ресторан</td>\n",
       "      <td>2282</td>\n",
       "      <td>543</td>\n",
       "      <td>23.79</td>\n",
       "    </tr>\n",
       "    <tr>\n",
       "      <th>3</th>\n",
       "      <td>кафе</td>\n",
       "      <td>6071</td>\n",
       "      <td>1396</td>\n",
       "      <td>22.99</td>\n",
       "    </tr>\n",
       "    <tr>\n",
       "      <th>4</th>\n",
       "      <td>закусочная</td>\n",
       "      <td>348</td>\n",
       "      <td>56</td>\n",
       "      <td>16.09</td>\n",
       "    </tr>\n",
       "    <tr>\n",
       "      <th>5</th>\n",
       "      <td>кафетерий</td>\n",
       "      <td>395</td>\n",
       "      <td>52</td>\n",
       "      <td>13.16</td>\n",
       "    </tr>\n",
       "    <tr>\n",
       "      <th>6</th>\n",
       "      <td>бар</td>\n",
       "      <td>855</td>\n",
       "      <td>37</td>\n",
       "      <td>4.33</td>\n",
       "    </tr>\n",
       "    <tr>\n",
       "      <th>7</th>\n",
       "      <td>буфет</td>\n",
       "      <td>576</td>\n",
       "      <td>11</td>\n",
       "      <td>1.91</td>\n",
       "    </tr>\n",
       "    <tr>\n",
       "      <th>8</th>\n",
       "      <td>столовая</td>\n",
       "      <td>2584</td>\n",
       "      <td>3</td>\n",
       "      <td>0.12</td>\n",
       "    </tr>\n",
       "  </tbody>\n",
       "</table>\n",
       "</div>"
      ],
      "text/plain": [
       "                         object_type  count  chain_count  ratio\n",
       "0  предприятие быстрого обслуживания   1897          788  41.54\n",
       "1          магазин (отдел кулинарии)    273           78  28.57\n",
       "2                           ресторан   2282          543  23.79\n",
       "3                               кафе   6071         1396  22.99\n",
       "4                         закусочная    348           56  16.09\n",
       "5                          кафетерий    395           52  13.16\n",
       "6                                бар    855           37   4.33\n",
       "7                              буфет    576           11   1.91\n",
       "8                           столовая   2584            3   0.12"
      ]
     },
     "execution_count": 24,
     "metadata": {},
     "output_type": "execute_result"
    }
   ],
   "source": [
    "chain_to_all['ratio'] = round(chain_to_all['chain_count'] / chain_to_all['count'] * 100, 2)\n",
    "percent = chain_to_all['ratio'].to_list()\n",
    "chain_to_all = chain_to_all.sort_values('ratio', ascending=False).reset_index(drop=True)\n",
    "chain_to_all"
   ]
  },
  {
   "cell_type": "code",
   "execution_count": 25,
   "metadata": {},
   "outputs": [
    {
     "data": {
      "text/plain": [
       "[22.99, 0.12, 23.79, 41.54, 4.33, 1.91, 13.16, 16.09, 28.57]"
      ]
     },
     "execution_count": 25,
     "metadata": {},
     "output_type": "execute_result"
    }
   ],
   "source": [
    "percent"
   ]
  },
  {
   "cell_type": "code",
   "execution_count": 26,
   "metadata": {},
   "outputs": [
    {
     "data": {
      "image/png": "[encoded data removed]",
      "text/plain": [
       "<Figure size 576x360 with 1 Axes>"
      ]
     },
     "metadata": {},
     "output_type": "display_data"
    }
   ],
   "source": [
    "f, axx = plt.subplots(figsize=(8, 5))\n",
    "\n",
    "chain_to_all = chain_to_all.sort_values('count', ascending=False).reset_index(drop=True)\n",
    "\n",
    "sns.barplot(x='count', y='object_type', data=chain_to_all,\n",
    "            label='Всего', color='#24dbff', alpha=0.5)\n",
    "\n",
    "\n",
    "sns.barplot(x='chain_count', y='object_type', data=chain_to_all,\n",
    "            label='Сетевые', color='#24dbff')\n",
    "\n",
    "axx.legend(ncol=2, loc='lower right', frameon=True)\n",
    "axx.set(ylabel=' ', xlabel='Количество объектов'), sns.despine(left=True, bottom=True)\n",
    "\n",
    "\n",
    "new_patches = axx.patches\n",
    "for i in range(len(new_patches)//2):\n",
    "    y = new_patches[i].get_y() + new_patches[i].get_height()/1.6\n",
    "    x = new_patches[i].get_width() + 20\n",
    "    axx.annotate('{:.1f}%'.format(percent[i]), (x, y), ha='left')\n",
    "plt.title('Процент сетевых заведений от общего количества по видам объектов питания')\n",
    "plt.show()"
   ]
  },
  {
   "cell_type": "markdown",
   "metadata": {},
   "source": [
    "**Вывод:** Сетевое распространение характерно больше всего для предприятий быстрого обслуживания (42%), отделов кулинарии в магазинах (29%), ресторанов (24%) и кафе (23%). Меньше всего — для столовых и буфетов."
   ]
  },
  {
   "cell_type": "markdown",
   "metadata": {},
   "source": [
    "###  Распределение количества сетевых заведений и посадочных мест в них"
   ]
  },
  {
   "cell_type": "code",
   "execution_count": 27,
   "metadata": {},
   "outputs": [
    {
     "data": {
      "text/html": [
       "<div>\n",
       "<style scoped>\n",
       "    .dataframe tbody tr th:only-of-type {\n",
       "        vertical-align: middle;\n",
       "    }\n",
       "\n",
       "    .dataframe tbody tr th {\n",
       "        vertical-align: top;\n",
       "    }\n",
       "\n",
       "    .dataframe thead th {\n",
       "        text-align: right;\n",
       "    }\n",
       "</style>\n",
       "<table border=\"1\" class=\"dataframe\">\n",
       "  <thead>\n",
       "    <tr style=\"text-align: right;\">\n",
       "      <th></th>\n",
       "      <th>objects</th>\n",
       "      <th>median_number</th>\n",
       "    </tr>\n",
       "    <tr>\n",
       "      <th>object_name</th>\n",
       "      <th></th>\n",
       "      <th></th>\n",
       "    </tr>\n",
       "  </thead>\n",
       "  <tbody>\n",
       "    <tr>\n",
       "      <th>beverly hills diner</th>\n",
       "      <td>1</td>\n",
       "      <td>88.0</td>\n",
       "    </tr>\n",
       "    <tr>\n",
       "      <th>bierloga</th>\n",
       "      <td>1</td>\n",
       "      <td>75.0</td>\n",
       "    </tr>\n",
       "    <tr>\n",
       "      <th>black &amp; white</th>\n",
       "      <td>1</td>\n",
       "      <td>40.0</td>\n",
       "    </tr>\n",
       "    <tr>\n",
       "      <th>bocconcino</th>\n",
       "      <td>3</td>\n",
       "      <td>68.0</td>\n",
       "    </tr>\n",
       "    <tr>\n",
       "      <th>boobo</th>\n",
       "      <td>1</td>\n",
       "      <td>46.0</td>\n",
       "    </tr>\n",
       "  </tbody>\n",
       "</table>\n",
       "</div>"
      ],
      "text/plain": [
       "                     objects  median_number\n",
       "object_name                                \n",
       "beverly hills diner        1           88.0\n",
       "bierloga                   1           75.0\n",
       "black & white              1           40.0\n",
       "bocconcino                 3           68.0\n",
       "boobo                      1           46.0"
      ]
     },
     "execution_count": 27,
     "metadata": {},
     "output_type": "execute_result"
    }
   ],
   "source": [
    "chain_objects = restaurants[restaurants['chain']==True].groupby('object_name').agg({'object_name':'count', 'number':'median'})\n",
    "chain_objects.columns = ['objects', 'median_number']\n",
    "chain_objects.head()"
   ]
  },
  {
   "cell_type": "code",
   "execution_count": 28,
   "metadata": {},
   "outputs": [
    {
     "name": "stdout",
     "output_type": "stream",
     "text": [
      "<class 'pandas.core.frame.DataFrame'>\n",
      "Index: 577 entries, beverly hills diner to ёрш\n",
      "Data columns (total 2 columns):\n",
      " #   Column         Non-Null Count  Dtype  \n",
      "---  ------         --------------  -----  \n",
      " 0   objects        577 non-null    int64  \n",
      " 1   median_number  577 non-null    float64\n",
      "dtypes: float64(1), int64(1)\n",
      "memory usage: 13.5+ KB\n"
     ]
    }
   ],
   "source": [
    "chain_objects.info()"
   ]
  },
  {
   "cell_type": "code",
   "execution_count": 29,
   "metadata": {},
   "outputs": [
    {
     "data": {
      "text/plain": [
       "array([120.  , 158.85, 275.37])"
      ]
     },
     "execution_count": 29,
     "metadata": {},
     "output_type": "execute_result"
    }
   ],
   "source": [
    "np.percentile(restaurants.query('chain == True')['number'], [90, 95, 99])"
   ]
  },
  {
   "cell_type": "code",
   "execution_count": 30,
   "metadata": {},
   "outputs": [
    {
     "data": {
      "text/plain": [
       "array([ 8.4, 16.4, 90. ])"
      ]
     },
     "execution_count": 30,
     "metadata": {},
     "output_type": "execute_result"
    }
   ],
   "source": [
    "np.percentile(chain_objects['objects'], [90, 95, 99])"
   ]
  },
  {
   "cell_type": "code",
   "execution_count": 31,
   "metadata": {},
   "outputs": [
    {
     "data": {
      "image/png": "[encoded data removed]",
      "text/plain": [
       "<Figure size 432x432 with 1 Axes>"
      ]
     },
     "metadata": {},
     "output_type": "display_data"
    }
   ],
   "source": [
    "plt.figure(figsize=(6,6))\n",
    "plt.scatter(chain_objects['median_number'], chain_objects['objects'], color = '#926dff', alpha=0.8)\n",
    "plt.xlabel('Медиана количества посадочных мест')\n",
    "plt.ylabel('Количество объектов в сети')\n",
    "plt.title('Распределение количества сетевых заведений и медианного количества посадочных мест')\n",
    "plt.axhline(np.percentile(chain_objects['objects'], 95), linestyle='--', color='grey')\n",
    "plt.axvline(np.percentile(chain_objects['median_number'], 95), linestyle='--', color='grey')\n",
    "plt.text(175, 20, '95% заведений ниже этой линии', fontsize=8, fontstyle='italic')\n",
    "plt.text(165, 85, '95% заведений левее этой линии', rotation=90, fontsize=8, fontstyle='italic')\n",
    "plt.show()"
   ]
  },
  {
   "cell_type": "markdown",
   "metadata": {},
   "source": [
    "Рассмотрим получше, изменив масштаб:"
   ]
  },
  {
   "cell_type": "code",
   "execution_count": 32,
   "metadata": {},
   "outputs": [
    {
     "data": {
      "image/png": "[encoded data removed]",
      "text/plain": [
       "<Figure size 432x432 with 1 Axes>"
      ]
     },
     "metadata": {},
     "output_type": "display_data"
    }
   ],
   "source": [
    "plt.figure(figsize=(6,6))\n",
    "plt.scatter(chain_objects['median_number'], chain_objects['objects'], color = '#926dff', alpha=0.8)\n",
    "plt.xlabel('Медиана количества посадочных мест по сети')\n",
    "plt.ylabel('Количество объектов в сети')\n",
    "#plt.title('Распределение количества сетевых заведений и медианного количества посадочных мест (изменен масштаб)')\n",
    "plt.ylim(0, 20)\n",
    "plt.xlim(0, 160)\n",
    "plt.show()"
   ]
  },
  {
   "cell_type": "markdown",
   "metadata": {},
   "source": [
    "**Вывод:** Для сетевых заведений характерно малое количество заведений (1-3) с количеством посадочных мест от 0 (если это фудкорт или заведение, работающее навынос) до 100."
   ]
  },
  {
   "cell_type": "markdown",
   "metadata": {},
   "source": [
    "### Среднее количество посадочных мест по видам заведений"
   ]
  },
  {
   "cell_type": "code",
   "execution_count": 33,
   "metadata": {},
   "outputs": [
    {
     "data": {
      "image/png": "[encoded data removed]",
      "text/plain": [
       "<Figure size 432x288 with 1 Axes>"
      ]
     },
     "metadata": {},
     "output_type": "display_data"
    }
   ],
   "source": [
    "restaurants['number'].hist(bins=50, color = '#6d92ff', alpha=0.9)\n",
    "plt.xlim(0,400)\n",
    "plt.title('Распределение количества посадочных мест')\n",
    "plt.xlabel('Количество посадочных мест')\n",
    "plt.show()"
   ]
  },
  {
   "cell_type": "markdown",
   "metadata": {},
   "source": [
    "Распределение не является нормальным, поэтому в качестве среднего значения будем рассчитывать медиану:"
   ]
  },
  {
   "cell_type": "code",
   "execution_count": 34,
   "metadata": {},
   "outputs": [
    {
     "data": {
      "text/html": [
       "<div>\n",
       "<style scoped>\n",
       "    .dataframe tbody tr th:only-of-type {\n",
       "        vertical-align: middle;\n",
       "    }\n",
       "\n",
       "    .dataframe tbody tr th {\n",
       "        vertical-align: top;\n",
       "    }\n",
       "\n",
       "    .dataframe thead th {\n",
       "        text-align: right;\n",
       "    }\n",
       "</style>\n",
       "<table border=\"1\" class=\"dataframe\">\n",
       "  <thead>\n",
       "    <tr style=\"text-align: right;\">\n",
       "      <th></th>\n",
       "      <th>object_type</th>\n",
       "      <th>median_number</th>\n",
       "    </tr>\n",
       "  </thead>\n",
       "  <tbody>\n",
       "    <tr>\n",
       "      <th>8</th>\n",
       "      <td>столовая</td>\n",
       "      <td>103</td>\n",
       "    </tr>\n",
       "    <tr>\n",
       "      <th>7</th>\n",
       "      <td>ресторан</td>\n",
       "      <td>80</td>\n",
       "    </tr>\n",
       "    <tr>\n",
       "      <th>0</th>\n",
       "      <td>бар</td>\n",
       "      <td>35</td>\n",
       "    </tr>\n",
       "    <tr>\n",
       "      <th>1</th>\n",
       "      <td>буфет</td>\n",
       "      <td>32</td>\n",
       "    </tr>\n",
       "    <tr>\n",
       "      <th>3</th>\n",
       "      <td>кафе</td>\n",
       "      <td>30</td>\n",
       "    </tr>\n",
       "    <tr>\n",
       "      <th>4</th>\n",
       "      <td>кафетерий</td>\n",
       "      <td>6</td>\n",
       "    </tr>\n",
       "    <tr>\n",
       "      <th>6</th>\n",
       "      <td>предприятие быстрого обслуживания</td>\n",
       "      <td>6</td>\n",
       "    </tr>\n",
       "    <tr>\n",
       "      <th>2</th>\n",
       "      <td>закусочная</td>\n",
       "      <td>0</td>\n",
       "    </tr>\n",
       "    <tr>\n",
       "      <th>5</th>\n",
       "      <td>магазин (отдел кулинарии)</td>\n",
       "      <td>0</td>\n",
       "    </tr>\n",
       "  </tbody>\n",
       "</table>\n",
       "</div>"
      ],
      "text/plain": [
       "                         object_type  median_number\n",
       "8                           столовая            103\n",
       "7                           ресторан             80\n",
       "0                                бар             35\n",
       "1                              буфет             32\n",
       "3                               кафе             30\n",
       "4                          кафетерий              6\n",
       "6  предприятие быстрого обслуживания              6\n",
       "2                         закусочная              0\n",
       "5          магазин (отдел кулинарии)              0"
      ]
     },
     "execution_count": 34,
     "metadata": {},
     "output_type": "execute_result"
    }
   ],
   "source": [
    "avg_number = restaurants.groupby('object_type').agg({'number':'median'}).reset_index().round().sort_values('number', ascending=False)\n",
    "avg_number = avg_number.rename(columns={'number': 'median_number'})\n",
    "avg_number"
   ]
  },
  {
   "cell_type": "code",
   "execution_count": 35,
   "metadata": {},
   "outputs": [
    {
     "data": {
      "image/png": "[encoded data removed]",
      "text/plain": [
       "<Figure size 576x360 with 1 Axes>"
      ]
     },
     "metadata": {},
     "output_type": "display_data"
    }
   ],
   "source": [
    "plt.figure(figsize=(8, 5))\n",
    "ax = sns.barplot(data=avg_number, x='median_number', y='object_type', palette='cool', alpha  = 0.9)\n",
    "plt.title('Среднее количество посадочных мест по видам заведений')\n",
    "plt.xlabel('Количество мест')\n",
    "plt.ylabel(' ')\n",
    "\n",
    "for p in ax.patches:\n",
    " height = p.get_height() \n",
    " width = p.get_width() \n",
    " ax.text(x = width+.5, y = p.get_y()+(height/2), s = '{:.0f}'.format(width), va = 'center') \n",
    "\n",
    "plt.show()"
   ]
  },
  {
   "cell_type": "markdown",
   "metadata": {},
   "source": [
    "**Вывод:** Самое большое среднее количество посадочных мест обычно в столовых (103) и ресторанах (80), а самое маленькое — в кафетериях (6) и ПБО (6); в закусочных и отделах кулинарии магазинов, как правило, мест не предусмотрено."
   ]
  },
  {
   "cell_type": "markdown",
   "metadata": {},
   "source": [
    "### Формирование столбца с улицей + добавление столбца с районом из внешнего источника"
   ]
  },
  {
   "cell_type": "markdown",
   "metadata": {},
   "source": [
    "Улица обычно указана после первой запятой. Но есть случаи, когда после первой запятой идет указание, например, поселения. Создадим функцию для определения улицы с учетом этой особенности:"
   ]
  },
  {
   "cell_type": "code",
   "execution_count": 36,
   "metadata": {
    "scrolled": false
   },
   "outputs": [
    {
     "data": {
      "text/html": [
       "<div>\n",
       "<style scoped>\n",
       "    .dataframe tbody tr th:only-of-type {\n",
       "        vertical-align: middle;\n",
       "    }\n",
       "\n",
       "    .dataframe tbody tr th {\n",
       "        vertical-align: top;\n",
       "    }\n",
       "\n",
       "    .dataframe thead th {\n",
       "        text-align: right;\n",
       "    }\n",
       "</style>\n",
       "<table border=\"1\" class=\"dataframe\">\n",
       "  <thead>\n",
       "    <tr style=\"text-align: right;\">\n",
       "      <th></th>\n",
       "      <th>id</th>\n",
       "      <th>object_name</th>\n",
       "      <th>chain</th>\n",
       "      <th>object_type</th>\n",
       "      <th>address</th>\n",
       "      <th>number</th>\n",
       "      <th>street</th>\n",
       "    </tr>\n",
       "  </thead>\n",
       "  <tbody>\n",
       "    <tr>\n",
       "      <th>0</th>\n",
       "      <td>151635</td>\n",
       "      <td>сметана</td>\n",
       "      <td>False</td>\n",
       "      <td>кафе</td>\n",
       "      <td>город москва, улица егора абакумова, дом 9</td>\n",
       "      <td>48</td>\n",
       "      <td>улица егора абакумова</td>\n",
       "    </tr>\n",
       "    <tr>\n",
       "      <th>1</th>\n",
       "      <td>77874</td>\n",
       "      <td>родник</td>\n",
       "      <td>False</td>\n",
       "      <td>кафе</td>\n",
       "      <td>город москва, улица талалихина, дом 2/1, корпус 1</td>\n",
       "      <td>35</td>\n",
       "      <td>улица талалихина</td>\n",
       "    </tr>\n",
       "    <tr>\n",
       "      <th>2</th>\n",
       "      <td>24309</td>\n",
       "      <td>кафе «академия»</td>\n",
       "      <td>False</td>\n",
       "      <td>кафе</td>\n",
       "      <td>город москва, абельмановская улица, дом 6</td>\n",
       "      <td>95</td>\n",
       "      <td>абельмановская улица</td>\n",
       "    </tr>\n",
       "    <tr>\n",
       "      <th>3</th>\n",
       "      <td>21894</td>\n",
       "      <td>пиццетория</td>\n",
       "      <td>True</td>\n",
       "      <td>кафе</td>\n",
       "      <td>город москва, абрамцевская улица, дом 1</td>\n",
       "      <td>40</td>\n",
       "      <td>абрамцевская улица</td>\n",
       "    </tr>\n",
       "    <tr>\n",
       "      <th>4</th>\n",
       "      <td>119365</td>\n",
       "      <td>кафе «вишневая метель»</td>\n",
       "      <td>False</td>\n",
       "      <td>кафе</td>\n",
       "      <td>город москва, абрамцевская улица, дом 9, корпус 1</td>\n",
       "      <td>50</td>\n",
       "      <td>абрамцевская улица</td>\n",
       "    </tr>\n",
       "  </tbody>\n",
       "</table>\n",
       "</div>"
      ],
      "text/plain": [
       "       id             object_name  chain object_type  \\\n",
       "0  151635                 сметана  False        кафе   \n",
       "1   77874                  родник  False        кафе   \n",
       "2   24309         кафе «академия»  False        кафе   \n",
       "3   21894              пиццетория   True        кафе   \n",
       "4  119365  кафе «вишневая метель»  False        кафе   \n",
       "\n",
       "                                             address  number  \\\n",
       "0         город москва, улица егора абакумова, дом 9      48   \n",
       "1  город москва, улица талалихина, дом 2/1, корпус 1      35   \n",
       "2          город москва, абельмановская улица, дом 6      95   \n",
       "3            город москва, абрамцевская улица, дом 1      40   \n",
       "4  город москва, абрамцевская улица, дом 9, корпус 1      50   \n",
       "\n",
       "                  street  \n",
       "0  улица егора абакумова  \n",
       "1       улица талалихина  \n",
       "2   абельмановская улица  \n",
       "3     абрамцевская улица  \n",
       "4     абрамцевская улица  "
      ]
     },
     "execution_count": 36,
     "metadata": {},
     "output_type": "execute_result"
    }
   ],
   "source": [
    "restaurants['street'] = ''\n",
    "def streets(row):\n",
    "    address = row[4]\n",
    "    address = address.split(', ')\n",
    "    street = address[1]\n",
    "    if  (((street.count('поселение') > 0) | \n",
    "          (street.count('поселок') > 0) |\n",
    "          (street.count('деревня') > 0) |\n",
    "          (street.count('город') > 0)) & \n",
    "         (len(address)>2)):\n",
    "        address[1] = address[2]\n",
    "    row[6] = address[1]\n",
    "    return row\n",
    "restaurants = restaurants.apply(streets, axis=1)\n",
    "restaurants.head()"
   ]
  },
  {
   "cell_type": "code",
   "execution_count": 37,
   "metadata": {},
   "outputs": [
    {
     "data": {
      "text/html": [
       "<div>\n",
       "<style scoped>\n",
       "    .dataframe tbody tr th:only-of-type {\n",
       "        vertical-align: middle;\n",
       "    }\n",
       "\n",
       "    .dataframe tbody tr th {\n",
       "        vertical-align: top;\n",
       "    }\n",
       "\n",
       "    .dataframe thead th {\n",
       "        text-align: right;\n",
       "    }\n",
       "</style>\n",
       "<table border=\"1\" class=\"dataframe\">\n",
       "  <thead>\n",
       "    <tr style=\"text-align: right;\">\n",
       "      <th></th>\n",
       "      <th>id</th>\n",
       "      <th>object_name</th>\n",
       "      <th>chain</th>\n",
       "      <th>object_type</th>\n",
       "      <th>address</th>\n",
       "      <th>number</th>\n",
       "      <th>street</th>\n",
       "    </tr>\n",
       "  </thead>\n",
       "  <tbody>\n",
       "    <tr>\n",
       "      <th>990</th>\n",
       "      <td>20381</td>\n",
       "      <td>трапезная</td>\n",
       "      <td>False</td>\n",
       "      <td>столовая</td>\n",
       "      <td>город москва, улица рогожский посёлок, дом 3</td>\n",
       "      <td>10</td>\n",
       "      <td>улица рогожский посёлок</td>\n",
       "    </tr>\n",
       "    <tr>\n",
       "      <th>1882</th>\n",
       "      <td>77641</td>\n",
       "      <td>сейм</td>\n",
       "      <td>False</td>\n",
       "      <td>кафе</td>\n",
       "      <td>город москва, поселение воскресенское, посёлок...</td>\n",
       "      <td>25</td>\n",
       "      <td>посёлок воскресенское</td>\n",
       "    </tr>\n",
       "    <tr>\n",
       "      <th>1884</th>\n",
       "      <td>149758</td>\n",
       "      <td>поесть и поиграть</td>\n",
       "      <td>False</td>\n",
       "      <td>кафе</td>\n",
       "      <td>город москва, поселение сосенское, посёлок ком...</td>\n",
       "      <td>20</td>\n",
       "      <td>посёлок коммунарка</td>\n",
       "    </tr>\n",
       "    <tr>\n",
       "      <th>1885</th>\n",
       "      <td>149891</td>\n",
       "      <td>пивбар у бобра</td>\n",
       "      <td>False</td>\n",
       "      <td>бар</td>\n",
       "      <td>город москва, поселение сосенское, посёлок ком...</td>\n",
       "      <td>20</td>\n",
       "      <td>посёлок коммунарка</td>\n",
       "    </tr>\n",
       "    <tr>\n",
       "      <th>1886</th>\n",
       "      <td>147991</td>\n",
       "      <td>кафе пекарня есть поесть</td>\n",
       "      <td>False</td>\n",
       "      <td>кафе</td>\n",
       "      <td>город москва, поселение сосенское, посёлок ком...</td>\n",
       "      <td>15</td>\n",
       "      <td>посёлок коммунарка</td>\n",
       "    </tr>\n",
       "    <tr>\n",
       "      <th>...</th>\n",
       "      <td>...</td>\n",
       "      <td>...</td>\n",
       "      <td>...</td>\n",
       "      <td>...</td>\n",
       "      <td>...</td>\n",
       "      <td>...</td>\n",
       "      <td>...</td>\n",
       "    </tr>\n",
       "    <tr>\n",
       "      <th>14977</th>\n",
       "      <td>206419</td>\n",
       "      <td>шаурма</td>\n",
       "      <td>False</td>\n",
       "      <td>закусочная</td>\n",
       "      <td>город москва, поселение сосенское, посёлок ком...</td>\n",
       "      <td>0</td>\n",
       "      <td>посёлок коммунарка</td>\n",
       "    </tr>\n",
       "    <tr>\n",
       "      <th>15011</th>\n",
       "      <td>206099</td>\n",
       "      <td>закусочная</td>\n",
       "      <td>False</td>\n",
       "      <td>закусочная</td>\n",
       "      <td>город москва, поселение сосенское, посёлок ком...</td>\n",
       "      <td>0</td>\n",
       "      <td>посёлок коммунарка</td>\n",
       "    </tr>\n",
       "    <tr>\n",
       "      <th>15016</th>\n",
       "      <td>221225</td>\n",
       "      <td>пекарня «есть поесть»</td>\n",
       "      <td>False</td>\n",
       "      <td>кафе</td>\n",
       "      <td>город москва, поселение сосенское, посёлок ком...</td>\n",
       "      <td>16</td>\n",
       "      <td>посёлок коммунарка</td>\n",
       "    </tr>\n",
       "    <tr>\n",
       "      <th>15129</th>\n",
       "      <td>213489</td>\n",
       "      <td>хинкальная</td>\n",
       "      <td>True</td>\n",
       "      <td>кафе</td>\n",
       "      <td>город москва, поселение сосенское, посёлок ком...</td>\n",
       "      <td>23</td>\n",
       "      <td>посёлок коммунарка</td>\n",
       "    </tr>\n",
       "    <tr>\n",
       "      <th>15257</th>\n",
       "      <td>213899</td>\n",
       "      <td>милти</td>\n",
       "      <td>True</td>\n",
       "      <td>закусочная</td>\n",
       "      <td>город москва, посёлок внуково, центральная ули...</td>\n",
       "      <td>0</td>\n",
       "      <td>посёлок внуково</td>\n",
       "    </tr>\n",
       "  </tbody>\n",
       "</table>\n",
       "<p>125 rows × 7 columns</p>\n",
       "</div>"
      ],
      "text/plain": [
       "           id               object_name  chain object_type  \\\n",
       "990     20381                 трапезная  False    столовая   \n",
       "1882    77641                      сейм  False        кафе   \n",
       "1884   149758         поесть и поиграть  False        кафе   \n",
       "1885   149891            пивбар у бобра  False         бар   \n",
       "1886   147991  кафе пекарня есть поесть  False        кафе   \n",
       "...       ...                       ...    ...         ...   \n",
       "14977  206419                    шаурма  False  закусочная   \n",
       "15011  206099                закусочная  False  закусочная   \n",
       "15016  221225     пекарня «есть поесть»  False        кафе   \n",
       "15129  213489                хинкальная   True        кафе   \n",
       "15257  213899                     милти   True  закусочная   \n",
       "\n",
       "                                                 address  number  \\\n",
       "990         город москва, улица рогожский посёлок, дом 3      10   \n",
       "1882   город москва, поселение воскресенское, посёлок...      25   \n",
       "1884   город москва, поселение сосенское, посёлок ком...      20   \n",
       "1885   город москва, поселение сосенское, посёлок ком...      20   \n",
       "1886   город москва, поселение сосенское, посёлок ком...      15   \n",
       "...                                                  ...     ...   \n",
       "14977  город москва, поселение сосенское, посёлок ком...       0   \n",
       "15011  город москва, поселение сосенское, посёлок ком...       0   \n",
       "15016  город москва, поселение сосенское, посёлок ком...      16   \n",
       "15129  город москва, поселение сосенское, посёлок ком...      23   \n",
       "15257  город москва, посёлок внуково, центральная ули...       0   \n",
       "\n",
       "                        street  \n",
       "990    улица рогожский посёлок  \n",
       "1882     посёлок воскресенское  \n",
       "1884        посёлок коммунарка  \n",
       "1885        посёлок коммунарка  \n",
       "1886        посёлок коммунарка  \n",
       "...                        ...  \n",
       "14977       посёлок коммунарка  \n",
       "15011       посёлок коммунарка  \n",
       "15016       посёлок коммунарка  \n",
       "15129       посёлок коммунарка  \n",
       "15257          посёлок внуково  \n",
       "\n",
       "[125 rows x 7 columns]"
      ]
     },
     "execution_count": 37,
     "metadata": {},
     "output_type": "execute_result"
    }
   ],
   "source": [
    "restaurants[restaurants['street'].str.contains('посёлок')]"
   ]
  },
  {
   "cell_type": "markdown",
   "metadata": {},
   "source": [
    "С использованием модуля для сервиса [Dadata](https://pypi.org/project/dadata/) была получена следующая таблица:"
   ]
  },
  {
   "cell_type": "code",
   "execution_count": 38,
   "metadata": {},
   "outputs": [
    {
     "data": {
      "text/html": [
       "<div>\n",
       "<style scoped>\n",
       "    .dataframe tbody tr th:only-of-type {\n",
       "        vertical-align: middle;\n",
       "    }\n",
       "\n",
       "    .dataframe tbody tr th {\n",
       "        vertical-align: top;\n",
       "    }\n",
       "\n",
       "    .dataframe thead th {\n",
       "        text-align: right;\n",
       "    }\n",
       "</style>\n",
       "<table border=\"1\" class=\"dataframe\">\n",
       "  <thead>\n",
       "    <tr style=\"text-align: right;\">\n",
       "      <th></th>\n",
       "      <th>address</th>\n",
       "      <th>unrestricted_value</th>\n",
       "      <th>city_area</th>\n",
       "      <th>city_district</th>\n",
       "      <th>geo_lat</th>\n",
       "      <th>geo_lon</th>\n",
       "    </tr>\n",
       "  </thead>\n",
       "  <tbody>\n",
       "    <tr>\n",
       "      <th>0</th>\n",
       "      <td>город москва, варшавское шоссе, дом 2</td>\n",
       "      <td>117105, г Москва, Донской р-н, Варшавское шосс...</td>\n",
       "      <td>Южный</td>\n",
       "      <td>Донской</td>\n",
       "      <td>55.699943</td>\n",
       "      <td>37.619683</td>\n",
       "    </tr>\n",
       "    <tr>\n",
       "      <th>1</th>\n",
       "      <td>город москва, варшавское шоссе, дом 7, корпус 1</td>\n",
       "      <td>117105, г Москва, Донской р-н, Варшавское шосс...</td>\n",
       "      <td>Южный</td>\n",
       "      <td>Донской</td>\n",
       "      <td>55.700877</td>\n",
       "      <td>37.622405</td>\n",
       "    </tr>\n",
       "    <tr>\n",
       "      <th>2</th>\n",
       "      <td>город москва, варшавское шоссе, дом 29</td>\n",
       "      <td>117105, г Москва, Донской р-н, Варшавское шосс...</td>\n",
       "      <td>Южный</td>\n",
       "      <td>Донской</td>\n",
       "      <td>55.693226</td>\n",
       "      <td>37.622432</td>\n",
       "    </tr>\n",
       "    <tr>\n",
       "      <th>3</th>\n",
       "      <td>город москва, варшавское шоссе, дом 72, корпус 2</td>\n",
       "      <td>117556, г Москва, Нагорный р-н, Варшавское шос...</td>\n",
       "      <td>Южный</td>\n",
       "      <td>Нагорный</td>\n",
       "      <td>55.656869</td>\n",
       "      <td>37.618758</td>\n",
       "    </tr>\n",
       "    <tr>\n",
       "      <th>4</th>\n",
       "      <td>город москва, варшавское шоссе, дом 100</td>\n",
       "      <td>117556, г Москва, Нагорный р-н, Варшавское шос...</td>\n",
       "      <td>Южный</td>\n",
       "      <td>Нагорный</td>\n",
       "      <td>55.646061</td>\n",
       "      <td>37.618902</td>\n",
       "    </tr>\n",
       "  </tbody>\n",
       "</table>\n",
       "</div>"
      ],
      "text/plain": [
       "                                            address  \\\n",
       "0             город москва, варшавское шоссе, дом 2   \n",
       "1   город москва, варшавское шоссе, дом 7, корпус 1   \n",
       "2            город москва, варшавское шоссе, дом 29   \n",
       "3  город москва, варшавское шоссе, дом 72, корпус 2   \n",
       "4           город москва, варшавское шоссе, дом 100   \n",
       "\n",
       "                                  unrestricted_value city_area city_district  \\\n",
       "0  117105, г Москва, Донской р-н, Варшавское шосс...     Южный       Донской   \n",
       "1  117105, г Москва, Донской р-н, Варшавское шосс...     Южный       Донской   \n",
       "2  117105, г Москва, Донской р-н, Варшавское шосс...     Южный       Донской   \n",
       "3  117556, г Москва, Нагорный р-н, Варшавское шос...     Южный      Нагорный   \n",
       "4  117556, г Москва, Нагорный р-н, Варшавское шос...     Южный      Нагорный   \n",
       "\n",
       "     geo_lat    geo_lon  \n",
       "0  55.699943  37.619683  \n",
       "1  55.700877  37.622405  \n",
       "2  55.693226  37.622432  \n",
       "3  55.656869  37.618758  \n",
       "4  55.646061  37.618902  "
      ]
     },
     "execution_count": 38,
     "metadata": {},
     "output_type": "execute_result"
    }
   ],
   "source": [
    "geodata = pd.read_csv('https://gist.githubusercontent.com/plgesha/d751672f9ecdcd97ca893ccddaf1e700/raw/fdcb993542a83f0f9bfa9803ab8b2bd40d9e16cd/locations.csv')\n",
    "geodata.head()"
   ]
  },
  {
   "cell_type": "markdown",
   "metadata": {},
   "source": [
    "Создадим таблицу с адресами и соответствующими районами, приведем данные к нижнему регистру:"
   ]
  },
  {
   "cell_type": "code",
   "execution_count": 39,
   "metadata": {},
   "outputs": [
    {
     "data": {
      "text/html": [
       "<div>\n",
       "<style scoped>\n",
       "    .dataframe tbody tr th:only-of-type {\n",
       "        vertical-align: middle;\n",
       "    }\n",
       "\n",
       "    .dataframe tbody tr th {\n",
       "        vertical-align: top;\n",
       "    }\n",
       "\n",
       "    .dataframe thead th {\n",
       "        text-align: right;\n",
       "    }\n",
       "</style>\n",
       "<table border=\"1\" class=\"dataframe\">\n",
       "  <thead>\n",
       "    <tr style=\"text-align: right;\">\n",
       "      <th></th>\n",
       "      <th>address</th>\n",
       "      <th>district</th>\n",
       "    </tr>\n",
       "  </thead>\n",
       "  <tbody>\n",
       "    <tr>\n",
       "      <th>0</th>\n",
       "      <td>город москва, варшавское шоссе, дом 2</td>\n",
       "      <td>донской</td>\n",
       "    </tr>\n",
       "    <tr>\n",
       "      <th>1</th>\n",
       "      <td>город москва, варшавское шоссе, дом 7, корпус 1</td>\n",
       "      <td>донской</td>\n",
       "    </tr>\n",
       "    <tr>\n",
       "      <th>2</th>\n",
       "      <td>город москва, варшавское шоссе, дом 29</td>\n",
       "      <td>донской</td>\n",
       "    </tr>\n",
       "    <tr>\n",
       "      <th>3</th>\n",
       "      <td>город москва, варшавское шоссе, дом 72, корпус 2</td>\n",
       "      <td>нагорный</td>\n",
       "    </tr>\n",
       "    <tr>\n",
       "      <th>4</th>\n",
       "      <td>город москва, варшавское шоссе, дом 100</td>\n",
       "      <td>нагорный</td>\n",
       "    </tr>\n",
       "  </tbody>\n",
       "</table>\n",
       "</div>"
      ],
      "text/plain": [
       "                                            address  district\n",
       "0             город москва, варшавское шоссе, дом 2   донской\n",
       "1   город москва, варшавское шоссе, дом 7, корпус 1   донской\n",
       "2            город москва, варшавское шоссе, дом 29   донской\n",
       "3  город москва, варшавское шоссе, дом 72, корпус 2  нагорный\n",
       "4           город москва, варшавское шоссе, дом 100  нагорный"
      ]
     },
     "execution_count": 39,
     "metadata": {},
     "output_type": "execute_result"
    }
   ],
   "source": [
    "districts = geodata[['address', 'city_district']].rename(columns={'city_district': 'district'})\n",
    "districts['district'] = districts['district'].str.lower()\n",
    "districts.head()"
   ]
  },
  {
   "cell_type": "markdown",
   "metadata": {},
   "source": [
    "Добавим столбец с районом в таблицу `restaurants`:"
   ]
  },
  {
   "cell_type": "code",
   "execution_count": 40,
   "metadata": {},
   "outputs": [
    {
     "data": {
      "text/html": [
       "<div>\n",
       "<style scoped>\n",
       "    .dataframe tbody tr th:only-of-type {\n",
       "        vertical-align: middle;\n",
       "    }\n",
       "\n",
       "    .dataframe tbody tr th {\n",
       "        vertical-align: top;\n",
       "    }\n",
       "\n",
       "    .dataframe thead th {\n",
       "        text-align: right;\n",
       "    }\n",
       "</style>\n",
       "<table border=\"1\" class=\"dataframe\">\n",
       "  <thead>\n",
       "    <tr style=\"text-align: right;\">\n",
       "      <th></th>\n",
       "      <th>id</th>\n",
       "      <th>object_name</th>\n",
       "      <th>chain</th>\n",
       "      <th>object_type</th>\n",
       "      <th>address</th>\n",
       "      <th>number</th>\n",
       "      <th>street</th>\n",
       "      <th>district</th>\n",
       "    </tr>\n",
       "  </thead>\n",
       "  <tbody>\n",
       "    <tr>\n",
       "      <th>0</th>\n",
       "      <td>151635</td>\n",
       "      <td>сметана</td>\n",
       "      <td>False</td>\n",
       "      <td>кафе</td>\n",
       "      <td>город москва, улица егора абакумова, дом 9</td>\n",
       "      <td>48</td>\n",
       "      <td>улица егора абакумова</td>\n",
       "      <td>ярославский</td>\n",
       "    </tr>\n",
       "    <tr>\n",
       "      <th>1</th>\n",
       "      <td>77874</td>\n",
       "      <td>родник</td>\n",
       "      <td>False</td>\n",
       "      <td>кафе</td>\n",
       "      <td>город москва, улица талалихина, дом 2/1, корпус 1</td>\n",
       "      <td>35</td>\n",
       "      <td>улица талалихина</td>\n",
       "      <td>таганский</td>\n",
       "    </tr>\n",
       "    <tr>\n",
       "      <th>2</th>\n",
       "      <td>24309</td>\n",
       "      <td>кафе «академия»</td>\n",
       "      <td>False</td>\n",
       "      <td>кафе</td>\n",
       "      <td>город москва, абельмановская улица, дом 6</td>\n",
       "      <td>95</td>\n",
       "      <td>абельмановская улица</td>\n",
       "      <td>таганский</td>\n",
       "    </tr>\n",
       "    <tr>\n",
       "      <th>3</th>\n",
       "      <td>21894</td>\n",
       "      <td>пиццетория</td>\n",
       "      <td>True</td>\n",
       "      <td>кафе</td>\n",
       "      <td>город москва, абрамцевская улица, дом 1</td>\n",
       "      <td>40</td>\n",
       "      <td>абрамцевская улица</td>\n",
       "      <td>лианозово</td>\n",
       "    </tr>\n",
       "    <tr>\n",
       "      <th>4</th>\n",
       "      <td>119365</td>\n",
       "      <td>кафе «вишневая метель»</td>\n",
       "      <td>False</td>\n",
       "      <td>кафе</td>\n",
       "      <td>город москва, абрамцевская улица, дом 9, корпус 1</td>\n",
       "      <td>50</td>\n",
       "      <td>абрамцевская улица</td>\n",
       "      <td>лианозово</td>\n",
       "    </tr>\n",
       "  </tbody>\n",
       "</table>\n",
       "</div>"
      ],
      "text/plain": [
       "       id             object_name  chain object_type  \\\n",
       "0  151635                 сметана  False        кафе   \n",
       "1   77874                  родник  False        кафе   \n",
       "2   24309         кафе «академия»  False        кафе   \n",
       "3   21894              пиццетория   True        кафе   \n",
       "4  119365  кафе «вишневая метель»  False        кафе   \n",
       "\n",
       "                                             address  number  \\\n",
       "0         город москва, улица егора абакумова, дом 9      48   \n",
       "1  город москва, улица талалихина, дом 2/1, корпус 1      35   \n",
       "2          город москва, абельмановская улица, дом 6      95   \n",
       "3            город москва, абрамцевская улица, дом 1      40   \n",
       "4  город москва, абрамцевская улица, дом 9, корпус 1      50   \n",
       "\n",
       "                  street     district  \n",
       "0  улица егора абакумова  ярославский  \n",
       "1       улица талалихина    таганский  \n",
       "2   абельмановская улица    таганский  \n",
       "3     абрамцевская улица    лианозово  \n",
       "4     абрамцевская улица    лианозово  "
      ]
     },
     "execution_count": 40,
     "metadata": {},
     "output_type": "execute_result"
    }
   ],
   "source": [
    "restaurants_with_districts = restaurants.merge(districts, how='left', on='address')\n",
    "restaurants_with_districts.head()"
   ]
  },
  {
   "cell_type": "markdown",
   "metadata": {},
   "source": [
    "### Топ-10 улиц по количеству объектов общественного питания, определение района"
   ]
  },
  {
   "cell_type": "code",
   "execution_count": 41,
   "metadata": {},
   "outputs": [
    {
     "data": {
      "text/html": [
       "<div>\n",
       "<style scoped>\n",
       "    .dataframe tbody tr th:only-of-type {\n",
       "        vertical-align: middle;\n",
       "    }\n",
       "\n",
       "    .dataframe tbody tr th {\n",
       "        vertical-align: top;\n",
       "    }\n",
       "\n",
       "    .dataframe thead th {\n",
       "        text-align: right;\n",
       "    }\n",
       "</style>\n",
       "<table border=\"1\" class=\"dataframe\">\n",
       "  <thead>\n",
       "    <tr style=\"text-align: right;\">\n",
       "      <th></th>\n",
       "      <th>street</th>\n",
       "      <th>count</th>\n",
       "    </tr>\n",
       "  </thead>\n",
       "  <tbody>\n",
       "    <tr>\n",
       "      <th>0</th>\n",
       "      <td>проспект мира</td>\n",
       "      <td>203</td>\n",
       "    </tr>\n",
       "    <tr>\n",
       "      <th>1</th>\n",
       "      <td>профсоюзная улица</td>\n",
       "      <td>181</td>\n",
       "    </tr>\n",
       "    <tr>\n",
       "      <th>2</th>\n",
       "      <td>ленинградский проспект</td>\n",
       "      <td>170</td>\n",
       "    </tr>\n",
       "    <tr>\n",
       "      <th>3</th>\n",
       "      <td>пресненская набережная</td>\n",
       "      <td>167</td>\n",
       "    </tr>\n",
       "    <tr>\n",
       "      <th>4</th>\n",
       "      <td>варшавское шоссе</td>\n",
       "      <td>164</td>\n",
       "    </tr>\n",
       "    <tr>\n",
       "      <th>5</th>\n",
       "      <td>ленинский проспект</td>\n",
       "      <td>147</td>\n",
       "    </tr>\n",
       "    <tr>\n",
       "      <th>6</th>\n",
       "      <td>проспект вернадского</td>\n",
       "      <td>128</td>\n",
       "    </tr>\n",
       "    <tr>\n",
       "      <th>7</th>\n",
       "      <td>кутузовский проспект</td>\n",
       "      <td>114</td>\n",
       "    </tr>\n",
       "    <tr>\n",
       "      <th>8</th>\n",
       "      <td>каширское шоссе</td>\n",
       "      <td>111</td>\n",
       "    </tr>\n",
       "    <tr>\n",
       "      <th>9</th>\n",
       "      <td>кировоградская улица</td>\n",
       "      <td>108</td>\n",
       "    </tr>\n",
       "  </tbody>\n",
       "</table>\n",
       "</div>"
      ],
      "text/plain": [
       "                   street  count\n",
       "0           проспект мира    203\n",
       "1       профсоюзная улица    181\n",
       "2  ленинградский проспект    170\n",
       "3  пресненская набережная    167\n",
       "4        варшавское шоссе    164\n",
       "5      ленинский проспект    147\n",
       "6    проспект вернадского    128\n",
       "7    кутузовский проспект    114\n",
       "8         каширское шоссе    111\n",
       "9    кировоградская улица    108"
      ]
     },
     "execution_count": 41,
     "metadata": {},
     "output_type": "execute_result"
    }
   ],
   "source": [
    "top10_streets = restaurants_with_districts.groupby(['street']).agg({'id':'count'}).sort_values('id', ascending=False).head(10).reset_index()\n",
    "top10_streets = top10_streets.rename(columns={'id': 'count'})\n",
    "top10_streets"
   ]
  },
  {
   "cell_type": "code",
   "execution_count": 42,
   "metadata": {},
   "outputs": [
    {
     "data": {
      "image/png": "[encoded data removed]",
      "text/plain": [
       "<Figure size 576x360 with 1 Axes>"
      ]
     },
     "metadata": {},
     "output_type": "display_data"
    }
   ],
   "source": [
    "plt.figure(figsize=(8, 5))\n",
    "ax = sns.barplot(data=top10_streets, x='count', y='street', palette='cool', alpha  = 0.9)\n",
    "plt.title('Топ-10 улиц (по количеству объектов общественного питания всего)')\n",
    "plt.xlabel('Количество заведений')\n",
    "plt.ylabel(' ')\n",
    "\n",
    "for p in ax.patches:\n",
    " height = p.get_height() \n",
    " width = p.get_width() \n",
    " ax.text(x = width+.5, y = p.get_y()+(height/2), s = '{:.0f}'.format(width), va = 'center') \n",
    "\n",
    "plt.show()"
   ]
  },
  {
   "cell_type": "code",
   "execution_count": 43,
   "metadata": {},
   "outputs": [
    {
     "data": {
      "text/plain": [
       "['проспект мира',\n",
       " 'профсоюзная улица',\n",
       " 'ленинградский проспект',\n",
       " 'пресненская набережная',\n",
       " 'варшавское шоссе',\n",
       " 'ленинский проспект',\n",
       " 'проспект вернадского',\n",
       " 'кутузовский проспект',\n",
       " 'каширское шоссе',\n",
       " 'кировоградская улица']"
      ]
     },
     "execution_count": 43,
     "metadata": {},
     "output_type": "execute_result"
    }
   ],
   "source": [
    "top10_streets_list = top10_streets['street'].to_list()\n",
    "top10_streets_list"
   ]
  },
  {
   "cell_type": "code",
   "execution_count": 44,
   "metadata": {},
   "outputs": [
    {
     "data": {
      "text/html": [
       "<div>\n",
       "<style scoped>\n",
       "    .dataframe tbody tr th:only-of-type {\n",
       "        vertical-align: middle;\n",
       "    }\n",
       "\n",
       "    .dataframe tbody tr th {\n",
       "        vertical-align: top;\n",
       "    }\n",
       "\n",
       "    .dataframe thead th {\n",
       "        text-align: right;\n",
       "    }\n",
       "</style>\n",
       "<table border=\"1\" class=\"dataframe\">\n",
       "  <thead>\n",
       "    <tr style=\"text-align: right;\">\n",
       "      <th></th>\n",
       "      <th>id</th>\n",
       "      <th>object_name</th>\n",
       "      <th>chain</th>\n",
       "      <th>object_type</th>\n",
       "      <th>address</th>\n",
       "      <th>number</th>\n",
       "      <th>street</th>\n",
       "      <th>district</th>\n",
       "    </tr>\n",
       "  </thead>\n",
       "  <tbody>\n",
       "    <tr>\n",
       "      <th>151</th>\n",
       "      <td>155973</td>\n",
       "      <td>кафе «андерсон»</td>\n",
       "      <td>True</td>\n",
       "      <td>кафе</td>\n",
       "      <td>город москва, варшавское шоссе, дом 2</td>\n",
       "      <td>150</td>\n",
       "      <td>варшавское шоссе</td>\n",
       "      <td>донской</td>\n",
       "    </tr>\n",
       "    <tr>\n",
       "      <th>152</th>\n",
       "      <td>23618</td>\n",
       "      <td>кафе «subway»</td>\n",
       "      <td>True</td>\n",
       "      <td>кафе</td>\n",
       "      <td>город москва, варшавское шоссе, дом 7, корпус 1</td>\n",
       "      <td>36</td>\n",
       "      <td>варшавское шоссе</td>\n",
       "      <td>донской</td>\n",
       "    </tr>\n",
       "    <tr>\n",
       "      <th>153</th>\n",
       "      <td>155852</td>\n",
       "      <td>кафе «ламаджо»</td>\n",
       "      <td>False</td>\n",
       "      <td>кафе</td>\n",
       "      <td>город москва, варшавское шоссе, дом 29</td>\n",
       "      <td>30</td>\n",
       "      <td>варшавское шоссе</td>\n",
       "      <td>донской</td>\n",
       "    </tr>\n",
       "    <tr>\n",
       "      <th>154</th>\n",
       "      <td>152556</td>\n",
       "      <td>шаурма в пите</td>\n",
       "      <td>False</td>\n",
       "      <td>предприятие быстрого обслуживания</td>\n",
       "      <td>город москва, варшавское шоссе, дом 72, корпус 2</td>\n",
       "      <td>0</td>\n",
       "      <td>варшавское шоссе</td>\n",
       "      <td>нагорный</td>\n",
       "    </tr>\n",
       "    <tr>\n",
       "      <th>155</th>\n",
       "      <td>120658</td>\n",
       "      <td>выпечка</td>\n",
       "      <td>False</td>\n",
       "      <td>кафетерий</td>\n",
       "      <td>город москва, варшавское шоссе, дом 100</td>\n",
       "      <td>2</td>\n",
       "      <td>варшавское шоссе</td>\n",
       "      <td>нагорный</td>\n",
       "    </tr>\n",
       "  </tbody>\n",
       "</table>\n",
       "</div>"
      ],
      "text/plain": [
       "         id      object_name  chain                        object_type  \\\n",
       "151  155973  кафе «андерсон»   True                               кафе   \n",
       "152   23618    кафе «subway»   True                               кафе   \n",
       "153  155852   кафе «ламаджо»  False                               кафе   \n",
       "154  152556    шаурма в пите  False  предприятие быстрого обслуживания   \n",
       "155  120658          выпечка  False                          кафетерий   \n",
       "\n",
       "                                              address  number  \\\n",
       "151             город москва, варшавское шоссе, дом 2     150   \n",
       "152   город москва, варшавское шоссе, дом 7, корпус 1      36   \n",
       "153            город москва, варшавское шоссе, дом 29      30   \n",
       "154  город москва, варшавское шоссе, дом 72, корпус 2       0   \n",
       "155           город москва, варшавское шоссе, дом 100       2   \n",
       "\n",
       "               street  district  \n",
       "151  варшавское шоссе   донской  \n",
       "152  варшавское шоссе   донской  \n",
       "153  варшавское шоссе   донской  \n",
       "154  варшавское шоссе  нагорный  \n",
       "155  варшавское шоссе  нагорный  "
      ]
     },
     "execution_count": 44,
     "metadata": {},
     "output_type": "execute_result"
    }
   ],
   "source": [
    "rest_top10 = restaurants_with_districts.query('street in @top10_streets_list')\n",
    "rest_top10.head()"
   ]
  },
  {
   "cell_type": "code",
   "execution_count": 45,
   "metadata": {},
   "outputs": [
    {
     "data": {
      "text/html": [
       "<div>\n",
       "<style scoped>\n",
       "    .dataframe tbody tr th:only-of-type {\n",
       "        vertical-align: middle;\n",
       "    }\n",
       "\n",
       "    .dataframe tbody tr th {\n",
       "        vertical-align: top;\n",
       "    }\n",
       "\n",
       "    .dataframe thead th {\n",
       "        text-align: right;\n",
       "    }\n",
       "</style>\n",
       "<table border=\"1\" class=\"dataframe\">\n",
       "  <thead>\n",
       "    <tr style=\"text-align: right;\">\n",
       "      <th></th>\n",
       "      <th></th>\n",
       "      <th>id</th>\n",
       "    </tr>\n",
       "    <tr>\n",
       "      <th>street</th>\n",
       "      <th>district</th>\n",
       "      <th></th>\n",
       "    </tr>\n",
       "  </thead>\n",
       "  <tbody>\n",
       "    <tr>\n",
       "      <th rowspan=\"8\" valign=\"top\">варшавское шоссе</th>\n",
       "      <th>донской</th>\n",
       "      <td>34</td>\n",
       "    </tr>\n",
       "    <tr>\n",
       "      <th>нагатино-садовники</th>\n",
       "      <td>8</td>\n",
       "    </tr>\n",
       "    <tr>\n",
       "      <th>нагорный</th>\n",
       "      <td>42</td>\n",
       "    </tr>\n",
       "    <tr>\n",
       "      <th>новомосковский</th>\n",
       "      <td>3</td>\n",
       "    </tr>\n",
       "    <tr>\n",
       "      <th>чертаново северное</th>\n",
       "      <td>23</td>\n",
       "    </tr>\n",
       "    <tr>\n",
       "      <th>чертаново центральное</th>\n",
       "      <td>11</td>\n",
       "    </tr>\n",
       "    <tr>\n",
       "      <th>чертаново южное</th>\n",
       "      <td>41</td>\n",
       "    </tr>\n",
       "    <tr>\n",
       "      <th>южное бутово</th>\n",
       "      <td>2</td>\n",
       "    </tr>\n",
       "    <tr>\n",
       "      <th rowspan=\"4\" valign=\"top\">каширское шоссе</th>\n",
       "      <th>москворечье-сабурово</th>\n",
       "      <td>43</td>\n",
       "    </tr>\n",
       "    <tr>\n",
       "      <th>нагатино-садовники</th>\n",
       "      <td>48</td>\n",
       "    </tr>\n",
       "    <tr>\n",
       "      <th>орехово-борисово северное</th>\n",
       "      <td>14</td>\n",
       "    </tr>\n",
       "    <tr>\n",
       "      <th>орехово-борисово южное</th>\n",
       "      <td>6</td>\n",
       "    </tr>\n",
       "    <tr>\n",
       "      <th rowspan=\"3\" valign=\"top\">кировоградская улица</th>\n",
       "      <th>чертаново северное</th>\n",
       "      <td>21</td>\n",
       "    </tr>\n",
       "    <tr>\n",
       "      <th>чертаново центральное</th>\n",
       "      <td>77</td>\n",
       "    </tr>\n",
       "    <tr>\n",
       "      <th>чертаново южное</th>\n",
       "      <td>10</td>\n",
       "    </tr>\n",
       "    <tr>\n",
       "      <th rowspan=\"2\" valign=\"top\">кутузовский проспект</th>\n",
       "      <th>дорогомилово</th>\n",
       "      <td>61</td>\n",
       "    </tr>\n",
       "    <tr>\n",
       "      <th>фили-давыдково</th>\n",
       "      <td>53</td>\n",
       "    </tr>\n",
       "    <tr>\n",
       "      <th rowspan=\"4\" valign=\"top\">ленинградский проспект</th>\n",
       "      <th>аэропорт</th>\n",
       "      <td>64</td>\n",
       "    </tr>\n",
       "    <tr>\n",
       "      <th>беговой</th>\n",
       "      <td>51</td>\n",
       "    </tr>\n",
       "    <tr>\n",
       "      <th>сокол</th>\n",
       "      <td>23</td>\n",
       "    </tr>\n",
       "    <tr>\n",
       "      <th>хорошевский</th>\n",
       "      <td>32</td>\n",
       "    </tr>\n",
       "    <tr>\n",
       "      <th rowspan=\"8\" valign=\"top\">ленинский проспект</th>\n",
       "      <th>гагаринский</th>\n",
       "      <td>38</td>\n",
       "    </tr>\n",
       "    <tr>\n",
       "      <th>донской</th>\n",
       "      <td>15</td>\n",
       "    </tr>\n",
       "    <tr>\n",
       "      <th>ломоносовский</th>\n",
       "      <td>12</td>\n",
       "    </tr>\n",
       "    <tr>\n",
       "      <th>обручевский</th>\n",
       "      <td>32</td>\n",
       "    </tr>\n",
       "    <tr>\n",
       "      <th>проспект вернадского</th>\n",
       "      <td>3</td>\n",
       "    </tr>\n",
       "    <tr>\n",
       "      <th>теплый стан</th>\n",
       "      <td>3</td>\n",
       "    </tr>\n",
       "    <tr>\n",
       "      <th>тропарево-никулино</th>\n",
       "      <td>20</td>\n",
       "    </tr>\n",
       "    <tr>\n",
       "      <th>якиманка</th>\n",
       "      <td>24</td>\n",
       "    </tr>\n",
       "    <tr>\n",
       "      <th>пресненская набережная</th>\n",
       "      <th>пресненский</th>\n",
       "      <td>167</td>\n",
       "    </tr>\n",
       "    <tr>\n",
       "      <th rowspan=\"5\" valign=\"top\">проспект вернадского</th>\n",
       "      <th>гагаринский</th>\n",
       "      <td>1</td>\n",
       "    </tr>\n",
       "    <tr>\n",
       "      <th>ломоносовский</th>\n",
       "      <td>16</td>\n",
       "    </tr>\n",
       "    <tr>\n",
       "      <th>проспект вернадского</th>\n",
       "      <td>16</td>\n",
       "    </tr>\n",
       "    <tr>\n",
       "      <th>раменки</th>\n",
       "      <td>32</td>\n",
       "    </tr>\n",
       "    <tr>\n",
       "      <th>тропарево-никулино</th>\n",
       "      <td>63</td>\n",
       "    </tr>\n",
       "    <tr>\n",
       "      <th rowspan=\"6\" valign=\"top\">проспект мира</th>\n",
       "      <th>алексеевский</th>\n",
       "      <td>51</td>\n",
       "    </tr>\n",
       "    <tr>\n",
       "      <th>мещанский</th>\n",
       "      <td>63</td>\n",
       "    </tr>\n",
       "    <tr>\n",
       "      <th>останкинский</th>\n",
       "      <td>20</td>\n",
       "    </tr>\n",
       "    <tr>\n",
       "      <th>ростокино</th>\n",
       "      <td>6</td>\n",
       "    </tr>\n",
       "    <tr>\n",
       "      <th>свиблово</th>\n",
       "      <td>62</td>\n",
       "    </tr>\n",
       "    <tr>\n",
       "      <th>ярославский</th>\n",
       "      <td>1</td>\n",
       "    </tr>\n",
       "    <tr>\n",
       "      <th rowspan=\"6\" valign=\"top\">профсоюзная улица</th>\n",
       "      <th>академический</th>\n",
       "      <td>25</td>\n",
       "    </tr>\n",
       "    <tr>\n",
       "      <th>коньково</th>\n",
       "      <td>34</td>\n",
       "    </tr>\n",
       "    <tr>\n",
       "      <th>обручевский</th>\n",
       "      <td>32</td>\n",
       "    </tr>\n",
       "    <tr>\n",
       "      <th>теплый стан</th>\n",
       "      <td>40</td>\n",
       "    </tr>\n",
       "    <tr>\n",
       "      <th>черемушки</th>\n",
       "      <td>36</td>\n",
       "    </tr>\n",
       "    <tr>\n",
       "      <th>ясенево</th>\n",
       "      <td>14</td>\n",
       "    </tr>\n",
       "  </tbody>\n",
       "</table>\n",
       "</div>"
      ],
      "text/plain": [
       "                                                   id\n",
       "street                 district                      \n",
       "варшавское шоссе       донской                     34\n",
       "                       нагатино-садовники           8\n",
       "                       нагорный                    42\n",
       "                       новомосковский               3\n",
       "                       чертаново северное          23\n",
       "                       чертаново центральное       11\n",
       "                       чертаново южное             41\n",
       "                       южное бутово                 2\n",
       "каширское шоссе        москворечье-сабурово        43\n",
       "                       нагатино-садовники          48\n",
       "                       орехово-борисово северное   14\n",
       "                       орехово-борисово южное       6\n",
       "кировоградская улица   чертаново северное          21\n",
       "                       чертаново центральное       77\n",
       "                       чертаново южное             10\n",
       "кутузовский проспект   дорогомилово                61\n",
       "                       фили-давыдково              53\n",
       "ленинградский проспект аэропорт                    64\n",
       "                       беговой                     51\n",
       "                       сокол                       23\n",
       "                       хорошевский                 32\n",
       "ленинский проспект     гагаринский                 38\n",
       "                       донской                     15\n",
       "                       ломоносовский               12\n",
       "                       обручевский                 32\n",
       "                       проспект вернадского         3\n",
       "                       теплый стан                  3\n",
       "                       тропарево-никулино          20\n",
       "                       якиманка                    24\n",
       "пресненская набережная пресненский                167\n",
       "проспект вернадского   гагаринский                  1\n",
       "                       ломоносовский               16\n",
       "                       проспект вернадского        16\n",
       "                       раменки                     32\n",
       "                       тропарево-никулино          63\n",
       "проспект мира          алексеевский                51\n",
       "                       мещанский                   63\n",
       "                       останкинский                20\n",
       "                       ростокино                    6\n",
       "                       свиблово                    62\n",
       "                       ярославский                  1\n",
       "профсоюзная улица      академический               25\n",
       "                       коньково                    34\n",
       "                       обручевский                 32\n",
       "                       теплый стан                 40\n",
       "                       черемушки                   36\n",
       "                       ясенево                     14"
      ]
     },
     "execution_count": 45,
     "metadata": {},
     "output_type": "execute_result"
    }
   ],
   "source": [
    "rest_top10.pivot_table(index=['street', 'district'], values='id', aggfunc='count')"
   ]
  },
  {
   "cell_type": "markdown",
   "metadata": {},
   "source": [
    "Получили таблицу по топ-10 улицам с количеством заведений по каждому району.\n",
    "\n",
    "Но это не совсем то, что нужно для нашего анализа, так как его цель — найти конкретное место для открытия ресторана. Поэтому нам стоит ограничиться одним районом на каждую улицу, в котором больше всего заведений. Таким образом получим новый топ-10 улиц:"
   ]
  },
  {
   "cell_type": "code",
   "execution_count": 46,
   "metadata": {},
   "outputs": [
    {
     "data": {
      "text/html": [
       "<div>\n",
       "<style scoped>\n",
       "    .dataframe tbody tr th:only-of-type {\n",
       "        vertical-align: middle;\n",
       "    }\n",
       "\n",
       "    .dataframe tbody tr th {\n",
       "        vertical-align: top;\n",
       "    }\n",
       "\n",
       "    .dataframe thead th {\n",
       "        text-align: right;\n",
       "    }\n",
       "</style>\n",
       "<table border=\"1\" class=\"dataframe\">\n",
       "  <thead>\n",
       "    <tr style=\"text-align: right;\">\n",
       "      <th></th>\n",
       "      <th>district</th>\n",
       "      <th>street</th>\n",
       "      <th>count</th>\n",
       "    </tr>\n",
       "  </thead>\n",
       "  <tbody>\n",
       "    <tr>\n",
       "      <th>0</th>\n",
       "      <td>пресненский</td>\n",
       "      <td>пресненская набережная</td>\n",
       "      <td>167</td>\n",
       "    </tr>\n",
       "    <tr>\n",
       "      <th>1</th>\n",
       "      <td>хорошевский</td>\n",
       "      <td>ходынский бульвар</td>\n",
       "      <td>102</td>\n",
       "    </tr>\n",
       "    <tr>\n",
       "      <th>2</th>\n",
       "      <td>арбат</td>\n",
       "      <td>улица новый арбат</td>\n",
       "      <td>92</td>\n",
       "    </tr>\n",
       "    <tr>\n",
       "      <th>3</th>\n",
       "      <td>даниловский</td>\n",
       "      <td>улица ленинская слобода</td>\n",
       "      <td>85</td>\n",
       "    </tr>\n",
       "    <tr>\n",
       "      <th>4</th>\n",
       "      <td>замоскворечье</td>\n",
       "      <td>пятницкая улица</td>\n",
       "      <td>80</td>\n",
       "    </tr>\n",
       "    <tr>\n",
       "      <th>5</th>\n",
       "      <td>арбат</td>\n",
       "      <td>улица арбат</td>\n",
       "      <td>77</td>\n",
       "    </tr>\n",
       "    <tr>\n",
       "      <th>6</th>\n",
       "      <td>басманный</td>\n",
       "      <td>улица покровка</td>\n",
       "      <td>77</td>\n",
       "    </tr>\n",
       "    <tr>\n",
       "      <th>7</th>\n",
       "      <td>чертаново центральное</td>\n",
       "      <td>кировоградская улица</td>\n",
       "      <td>77</td>\n",
       "    </tr>\n",
       "    <tr>\n",
       "      <th>8</th>\n",
       "      <td>марьина роща</td>\n",
       "      <td>улица сущёвский вал</td>\n",
       "      <td>75</td>\n",
       "    </tr>\n",
       "    <tr>\n",
       "      <th>9</th>\n",
       "      <td>войковский</td>\n",
       "      <td>ленинградское шоссе</td>\n",
       "      <td>71</td>\n",
       "    </tr>\n",
       "  </tbody>\n",
       "</table>\n",
       "</div>"
      ],
      "text/plain": [
       "                district                   street  count\n",
       "0            пресненский   пресненская набережная    167\n",
       "1            хорошевский        ходынский бульвар    102\n",
       "2                  арбат        улица новый арбат     92\n",
       "3            даниловский  улица ленинская слобода     85\n",
       "4          замоскворечье          пятницкая улица     80\n",
       "5                  арбат              улица арбат     77\n",
       "6              басманный           улица покровка     77\n",
       "7  чертаново центральное     кировоградская улица     77\n",
       "8           марьина роща      улица сущёвский вал     75\n",
       "9             войковский      ленинградское шоссе     71"
      ]
     },
     "execution_count": 46,
     "metadata": {},
     "output_type": "execute_result"
    }
   ],
   "source": [
    "top_10 = restaurants_with_districts.groupby(['district','street']).agg({'id':'count'}).sort_values(by='id', ascending=False).head(10).reset_index().rename(columns={'id':'count'})\n",
    "top_10"
   ]
  },
  {
   "cell_type": "markdown",
   "metadata": {},
   "source": [
    "Осталось построить график:"
   ]
  },
  {
   "cell_type": "code",
   "execution_count": 47,
   "metadata": {},
   "outputs": [
    {
     "data": {
      "image/png": "[encoded data removed]",
      "text/plain": [
       "<Figure size 576x360 with 1 Axes>"
      ]
     },
     "metadata": {},
     "output_type": "display_data"
    }
   ],
   "source": [
    "districts_list = top_10['district'].to_list()\n",
    "plt.figure(figsize=(8, 5))\n",
    "ax = sns.barplot(data=top_10, x='count', y='street', palette='cool', alpha  = 0.9)\n",
    "plt.title('Топ-10 улиц (по количеству объектов общественного питания внутри одного района)')\n",
    "plt.xlabel('Количество заведений')\n",
    "plt.ylabel(' ')\n",
    "\n",
    "for p in ax.patches:\n",
    " height = p.get_height() \n",
    " width = p.get_width() \n",
    " ax.text(x = width+.5, y = p.get_y()+(height/2), s = '{:.0f}'.format(width), va = 'center') \n",
    "\n",
    "\n",
    "patch = ax.patches\n",
    "for i in range(len(patch)):\n",
    "    y = patch[i].get_y() + patch[i].get_height()/1.6\n",
    "    x = 2\n",
    "    ax.annotate('р-н {}'.format(districts_list[i].title()), (x, y), ha='left')\n",
    " \n",
    "plt.show()"
   ]
  },
  {
   "cell_type": "markdown",
   "metadata": {},
   "source": [
    "**Вывод:** Лидирует Пресненская Набережная (Пресненский р-н), меньше всего заведений на Ленинградском Шоссе (в Войковском р-не). Как видно, в основном улицы из топ-10 расположены в центре города."
   ]
  },
  {
   "cell_type": "markdown",
   "metadata": {},
   "source": [
    "### Число улиц с одним объектом общественного питания, определение района"
   ]
  },
  {
   "cell_type": "code",
   "execution_count": 48,
   "metadata": {},
   "outputs": [
    {
     "data": {
      "text/html": [
       "<div>\n",
       "<style scoped>\n",
       "    .dataframe tbody tr th:only-of-type {\n",
       "        vertical-align: middle;\n",
       "    }\n",
       "\n",
       "    .dataframe tbody tr th {\n",
       "        vertical-align: top;\n",
       "    }\n",
       "\n",
       "    .dataframe thead th {\n",
       "        text-align: right;\n",
       "    }\n",
       "</style>\n",
       "<table border=\"1\" class=\"dataframe\">\n",
       "  <thead>\n",
       "    <tr style=\"text-align: right;\">\n",
       "      <th></th>\n",
       "      <th>street</th>\n",
       "      <th>district</th>\n",
       "      <th>id</th>\n",
       "    </tr>\n",
       "  </thead>\n",
       "  <tbody>\n",
       "    <tr>\n",
       "      <th>2</th>\n",
       "      <td>1-й балтийский переулок</td>\n",
       "      <td>аэропорт</td>\n",
       "      <td>1</td>\n",
       "    </tr>\n",
       "    <tr>\n",
       "      <th>3</th>\n",
       "      <td>1-й басманный переулок</td>\n",
       "      <td>красносельский</td>\n",
       "      <td>1</td>\n",
       "    </tr>\n",
       "    <tr>\n",
       "      <th>4</th>\n",
       "      <td>1-й ботанический проезд</td>\n",
       "      <td>свиблово</td>\n",
       "      <td>1</td>\n",
       "    </tr>\n",
       "    <tr>\n",
       "      <th>7</th>\n",
       "      <td>1-й вешняковский проезд</td>\n",
       "      <td>рязанский</td>\n",
       "      <td>1</td>\n",
       "    </tr>\n",
       "    <tr>\n",
       "      <th>9</th>\n",
       "      <td>1-й голутвинский переулок</td>\n",
       "      <td>якиманка</td>\n",
       "      <td>1</td>\n",
       "    </tr>\n",
       "    <tr>\n",
       "      <th>...</th>\n",
       "      <td>...</td>\n",
       "      <td>...</td>\n",
       "      <td>...</td>\n",
       "    </tr>\n",
       "    <tr>\n",
       "      <th>2485</th>\n",
       "      <td>ялтинская улица</td>\n",
       "      <td>нагорный</td>\n",
       "      <td>1</td>\n",
       "    </tr>\n",
       "    <tr>\n",
       "      <th>2486</th>\n",
       "      <td>янтарный проезд</td>\n",
       "      <td>лосиноостровский</td>\n",
       "      <td>1</td>\n",
       "    </tr>\n",
       "    <tr>\n",
       "      <th>2491</th>\n",
       "      <td>ясногорская улица</td>\n",
       "      <td>ясенево</td>\n",
       "      <td>1</td>\n",
       "    </tr>\n",
       "    <tr>\n",
       "      <th>2494</th>\n",
       "      <td>яузский бульвар</td>\n",
       "      <td>таганский</td>\n",
       "      <td>1</td>\n",
       "    </tr>\n",
       "    <tr>\n",
       "      <th>2495</th>\n",
       "      <td>яхромская улица</td>\n",
       "      <td>дмитровский</td>\n",
       "      <td>1</td>\n",
       "    </tr>\n",
       "  </tbody>\n",
       "</table>\n",
       "<p>871 rows × 3 columns</p>\n",
       "</div>"
      ],
      "text/plain": [
       "                         street          district  id\n",
       "2       1-й балтийский переулок          аэропорт   1\n",
       "3        1-й басманный переулок    красносельский   1\n",
       "4       1-й ботанический проезд          свиблово   1\n",
       "7       1-й вешняковский проезд         рязанский   1\n",
       "9     1-й голутвинский переулок          якиманка   1\n",
       "...                         ...               ...  ..\n",
       "2485            ялтинская улица          нагорный   1\n",
       "2486            янтарный проезд  лосиноостровский   1\n",
       "2491          ясногорская улица           ясенево   1\n",
       "2494            яузский бульвар         таганский   1\n",
       "2495            яхромская улица       дмитровский   1\n",
       "\n",
       "[871 rows x 3 columns]"
      ]
     },
     "execution_count": 48,
     "metadata": {},
     "output_type": "execute_result"
    }
   ],
   "source": [
    "one_object_streets_by_district = restaurants_with_districts.pivot_table(index=['street', 'district'], values='id', aggfunc='count').reset_index().query('id == 1')\n",
    "one_object_streets_by_district"
   ]
  },
  {
   "cell_type": "markdown",
   "metadata": {},
   "source": [
    "**Вывод:** Как и в предыдущем пункте, одна улица может входить в разные районы. Всего, во всех районах, 871 улица с одним заведением."
   ]
  },
  {
   "cell_type": "markdown",
   "metadata": {},
   "source": [
    "### Распределение количества посадочных мест для улиц с большим количеством объектов общественного питания"
   ]
  },
  {
   "cell_type": "markdown",
   "metadata": {},
   "source": [
    "Сначала посмотрим для топ-10 улиц по кол-ву объектов всего:"
   ]
  },
  {
   "cell_type": "code",
   "execution_count": 49,
   "metadata": {},
   "outputs": [
    {
     "data": {
      "text/html": [
       "<div>\n",
       "<style scoped>\n",
       "    .dataframe tbody tr th:only-of-type {\n",
       "        vertical-align: middle;\n",
       "    }\n",
       "\n",
       "    .dataframe tbody tr th {\n",
       "        vertical-align: top;\n",
       "    }\n",
       "\n",
       "    .dataframe thead th {\n",
       "        text-align: right;\n",
       "    }\n",
       "</style>\n",
       "<table border=\"1\" class=\"dataframe\">\n",
       "  <thead>\n",
       "    <tr style=\"text-align: right;\">\n",
       "      <th></th>\n",
       "      <th>id</th>\n",
       "      <th>number</th>\n",
       "    </tr>\n",
       "  </thead>\n",
       "  <tbody>\n",
       "    <tr>\n",
       "      <th>count</th>\n",
       "      <td>1493.000000</td>\n",
       "      <td>1493.000000</td>\n",
       "    </tr>\n",
       "    <tr>\n",
       "      <th>mean</th>\n",
       "      <td>126347.624916</td>\n",
       "      <td>58.219022</td>\n",
       "    </tr>\n",
       "    <tr>\n",
       "      <th>std</th>\n",
       "      <td>72345.388731</td>\n",
       "      <td>90.183093</td>\n",
       "    </tr>\n",
       "    <tr>\n",
       "      <th>min</th>\n",
       "      <td>19654.000000</td>\n",
       "      <td>0.000000</td>\n",
       "    </tr>\n",
       "    <tr>\n",
       "      <th>25%</th>\n",
       "      <td>29384.000000</td>\n",
       "      <td>12.000000</td>\n",
       "    </tr>\n",
       "    <tr>\n",
       "      <th>50%</th>\n",
       "      <td>150219.000000</td>\n",
       "      <td>40.000000</td>\n",
       "    </tr>\n",
       "    <tr>\n",
       "      <th>75%</th>\n",
       "      <td>188494.000000</td>\n",
       "      <td>75.000000</td>\n",
       "    </tr>\n",
       "    <tr>\n",
       "      <th>max</th>\n",
       "      <td>223439.000000</td>\n",
       "      <td>1700.000000</td>\n",
       "    </tr>\n",
       "  </tbody>\n",
       "</table>\n",
       "</div>"
      ],
      "text/plain": [
       "                  id       number\n",
       "count    1493.000000  1493.000000\n",
       "mean   126347.624916    58.219022\n",
       "std     72345.388731    90.183093\n",
       "min     19654.000000     0.000000\n",
       "25%     29384.000000    12.000000\n",
       "50%    150219.000000    40.000000\n",
       "75%    188494.000000    75.000000\n",
       "max    223439.000000  1700.000000"
      ]
     },
     "execution_count": 49,
     "metadata": {},
     "output_type": "execute_result"
    }
   ],
   "source": [
    "rest_top10.describe()"
   ]
  },
  {
   "cell_type": "code",
   "execution_count": 50,
   "metadata": {},
   "outputs": [
    {
     "data": {
      "text/plain": [
       "array([137.6, 200. , 300. ])"
      ]
     },
     "execution_count": 50,
     "metadata": {},
     "output_type": "execute_result"
    }
   ],
   "source": [
    "np.percentile(rest_top10['number'], [90, 95, 99])"
   ]
  },
  {
   "cell_type": "code",
   "execution_count": 51,
   "metadata": {},
   "outputs": [],
   "source": [
    "rest_top10 = rest_top10[rest_top10['number'] <= 200]"
   ]
  },
  {
   "cell_type": "code",
   "execution_count": 52,
   "metadata": {},
   "outputs": [
    {
     "name": "stderr",
     "output_type": "stream",
     "text": [
      "/opt/conda/lib/python3.9/site-packages/seaborn/distributions.py:2557: FutureWarning: `distplot` is a deprecated function and will be removed in a future version. Please adapt your code to use either `displot` (a figure-level function with similar flexibility) or `histplot` (an axes-level function for histograms).\n",
      "  warnings.warn(msg, FutureWarning)\n"
     ]
    },
    {
     "data": {
      "image/png": "[encoded data removed]",
      "text/plain": [
       "<Figure size 576x360 with 1 Axes>"
      ]
     },
     "metadata": {},
     "output_type": "display_data"
    }
   ],
   "source": [
    "plt.figure(figsize=(8, 5))\n",
    "sns.distplot(rest_top10['number'], bins=25, color='#db24ff')\n",
    "plt.title('Распределение количества посадочных мест для топ-10 улиц (по количеству объектов всего)')\n",
    "plt.xlabel('Количество мест')\n",
    "plt.show()"
   ]
  },
  {
   "cell_type": "markdown",
   "metadata": {},
   "source": [
    "**Вывод:** Преобладают заведения без посадочных мест; далее примерно одинаковое количество заведений с 10-30 и 50 местами. После 50 идет спад, с некоторыми скачками, например в районе 60 или 100, скорее всего это столовые или рестораны."
   ]
  },
  {
   "cell_type": "markdown",
   "metadata": {},
   "source": [
    "Теперь посмотрим для топ-10 по кол-ву объектов внутри одного района:"
   ]
  },
  {
   "cell_type": "code",
   "execution_count": 53,
   "metadata": {},
   "outputs": [
    {
     "data": {
      "text/html": [
       "<div>\n",
       "<style scoped>\n",
       "    .dataframe tbody tr th:only-of-type {\n",
       "        vertical-align: middle;\n",
       "    }\n",
       "\n",
       "    .dataframe tbody tr th {\n",
       "        vertical-align: top;\n",
       "    }\n",
       "\n",
       "    .dataframe thead th {\n",
       "        text-align: right;\n",
       "    }\n",
       "</style>\n",
       "<table border=\"1\" class=\"dataframe\">\n",
       "  <thead>\n",
       "    <tr style=\"text-align: right;\">\n",
       "      <th></th>\n",
       "      <th>id</th>\n",
       "      <th>object_name</th>\n",
       "      <th>chain</th>\n",
       "      <th>object_type</th>\n",
       "      <th>address</th>\n",
       "      <th>number</th>\n",
       "      <th>street</th>\n",
       "      <th>district</th>\n",
       "    </tr>\n",
       "  </thead>\n",
       "  <tbody>\n",
       "    <tr>\n",
       "      <th>36</th>\n",
       "      <td>127979</td>\n",
       "      <td>месопотамия</td>\n",
       "      <td>False</td>\n",
       "      <td>ресторан</td>\n",
       "      <td>город москва, улица арбат, дом 4, строение 1</td>\n",
       "      <td>50</td>\n",
       "      <td>улица арбат</td>\n",
       "      <td>арбат</td>\n",
       "    </tr>\n",
       "    <tr>\n",
       "      <th>37</th>\n",
       "      <td>24968</td>\n",
       "      <td>му-му</td>\n",
       "      <td>True</td>\n",
       "      <td>кафе</td>\n",
       "      <td>город москва, улица арбат, дом 4, строение 1</td>\n",
       "      <td>125</td>\n",
       "      <td>улица арбат</td>\n",
       "      <td>арбат</td>\n",
       "    </tr>\n",
       "    <tr>\n",
       "      <th>38</th>\n",
       "      <td>127980</td>\n",
       "      <td>хлеб насущный</td>\n",
       "      <td>True</td>\n",
       "      <td>кафе</td>\n",
       "      <td>город москва, улица арбат, дом 6/2</td>\n",
       "      <td>20</td>\n",
       "      <td>улица арбат</td>\n",
       "      <td>арбат</td>\n",
       "    </tr>\n",
       "    <tr>\n",
       "      <th>39</th>\n",
       "      <td>88194</td>\n",
       "      <td>tajj mahal</td>\n",
       "      <td>True</td>\n",
       "      <td>ресторан</td>\n",
       "      <td>город москва, улица арбат, дом 6/2</td>\n",
       "      <td>100</td>\n",
       "      <td>улица арбат</td>\n",
       "      <td>арбат</td>\n",
       "    </tr>\n",
       "    <tr>\n",
       "      <th>40</th>\n",
       "      <td>107496</td>\n",
       "      <td>калифорния дайнер</td>\n",
       "      <td>False</td>\n",
       "      <td>кафе</td>\n",
       "      <td>город москва, улица арбат, дом 23, строение 1</td>\n",
       "      <td>150</td>\n",
       "      <td>улица арбат</td>\n",
       "      <td>арбат</td>\n",
       "    </tr>\n",
       "  </tbody>\n",
       "</table>\n",
       "</div>"
      ],
      "text/plain": [
       "        id        object_name  chain object_type  \\\n",
       "36  127979        месопотамия  False    ресторан   \n",
       "37   24968              му-му   True        кафе   \n",
       "38  127980      хлеб насущный   True        кафе   \n",
       "39   88194         tajj mahal   True    ресторан   \n",
       "40  107496  калифорния дайнер  False        кафе   \n",
       "\n",
       "                                          address  number       street  \\\n",
       "36   город москва, улица арбат, дом 4, строение 1      50  улица арбат   \n",
       "37   город москва, улица арбат, дом 4, строение 1     125  улица арбат   \n",
       "38             город москва, улица арбат, дом 6/2      20  улица арбат   \n",
       "39             город москва, улица арбат, дом 6/2     100  улица арбат   \n",
       "40  город москва, улица арбат, дом 23, строение 1     150  улица арбат   \n",
       "\n",
       "   district  \n",
       "36    арбат  \n",
       "37    арбат  \n",
       "38    арбат  \n",
       "39    арбат  \n",
       "40    арбат  "
      ]
     },
     "execution_count": 53,
     "metadata": {},
     "output_type": "execute_result"
    }
   ],
   "source": [
    "top_10_list = top_10['street'].to_list()\n",
    "top_10_seats = restaurants_with_districts.query('street == @top_10_list')\n",
    "top_10_seats = top_10_seats.query('district == @districts_list')\n",
    "top_10_seats.head()"
   ]
  },
  {
   "cell_type": "code",
   "execution_count": 54,
   "metadata": {},
   "outputs": [
    {
     "data": {
      "text/html": [
       "<div>\n",
       "<style scoped>\n",
       "    .dataframe tbody tr th:only-of-type {\n",
       "        vertical-align: middle;\n",
       "    }\n",
       "\n",
       "    .dataframe tbody tr th {\n",
       "        vertical-align: top;\n",
       "    }\n",
       "\n",
       "    .dataframe thead th {\n",
       "        text-align: right;\n",
       "    }\n",
       "</style>\n",
       "<table border=\"1\" class=\"dataframe\">\n",
       "  <thead>\n",
       "    <tr style=\"text-align: right;\">\n",
       "      <th></th>\n",
       "      <th>id</th>\n",
       "      <th>number</th>\n",
       "    </tr>\n",
       "  </thead>\n",
       "  <tbody>\n",
       "    <tr>\n",
       "      <th>count</th>\n",
       "      <td>903.000000</td>\n",
       "      <td>903.000000</td>\n",
       "    </tr>\n",
       "    <tr>\n",
       "      <th>mean</th>\n",
       "      <td>157289.518272</td>\n",
       "      <td>43.527132</td>\n",
       "    </tr>\n",
       "    <tr>\n",
       "      <th>std</th>\n",
       "      <td>57921.551448</td>\n",
       "      <td>56.902054</td>\n",
       "    </tr>\n",
       "    <tr>\n",
       "      <th>min</th>\n",
       "      <td>20707.000000</td>\n",
       "      <td>0.000000</td>\n",
       "    </tr>\n",
       "    <tr>\n",
       "      <th>25%</th>\n",
       "      <td>133694.000000</td>\n",
       "      <td>10.000000</td>\n",
       "    </tr>\n",
       "    <tr>\n",
       "      <th>50%</th>\n",
       "      <td>173032.000000</td>\n",
       "      <td>30.000000</td>\n",
       "    </tr>\n",
       "    <tr>\n",
       "      <th>75%</th>\n",
       "      <td>198337.500000</td>\n",
       "      <td>50.000000</td>\n",
       "    </tr>\n",
       "    <tr>\n",
       "      <th>max</th>\n",
       "      <td>223331.000000</td>\n",
       "      <td>480.000000</td>\n",
       "    </tr>\n",
       "  </tbody>\n",
       "</table>\n",
       "</div>"
      ],
      "text/plain": [
       "                  id      number\n",
       "count     903.000000  903.000000\n",
       "mean   157289.518272   43.527132\n",
       "std     57921.551448   56.902054\n",
       "min     20707.000000    0.000000\n",
       "25%    133694.000000   10.000000\n",
       "50%    173032.000000   30.000000\n",
       "75%    198337.500000   50.000000\n",
       "max    223331.000000  480.000000"
      ]
     },
     "execution_count": 54,
     "metadata": {},
     "output_type": "execute_result"
    }
   ],
   "source": [
    "top_10_seats.describe()"
   ]
  },
  {
   "cell_type": "code",
   "execution_count": 55,
   "metadata": {},
   "outputs": [
    {
     "data": {
      "text/plain": [
       "array([100.  , 149.8 , 279.84])"
      ]
     },
     "execution_count": 55,
     "metadata": {},
     "output_type": "execute_result"
    }
   ],
   "source": [
    "np.percentile(top_10_seats['number'], [90, 95, 99])"
   ]
  },
  {
   "cell_type": "code",
   "execution_count": 56,
   "metadata": {},
   "outputs": [],
   "source": [
    "top_10_seats = top_10_seats[top_10_seats['number'] <= 150]"
   ]
  },
  {
   "cell_type": "code",
   "execution_count": 57,
   "metadata": {},
   "outputs": [
    {
     "name": "stderr",
     "output_type": "stream",
     "text": [
      "/opt/conda/lib/python3.9/site-packages/seaborn/distributions.py:2557: FutureWarning: `distplot` is a deprecated function and will be removed in a future version. Please adapt your code to use either `displot` (a figure-level function with similar flexibility) or `histplot` (an axes-level function for histograms).\n",
      "  warnings.warn(msg, FutureWarning)\n"
     ]
    },
    {
     "data": {
      "image/png": "[encoded data removed]",
      "text/plain": [
       "<Figure size 576x360 with 1 Axes>"
      ]
     },
     "metadata": {},
     "output_type": "display_data"
    }
   ],
   "source": [
    "plt.figure(figsize=(8, 5))\n",
    "sns.distplot(top_10_seats['number'], bins=30, color='#db24ff')\n",
    "plt.title('Распределение количества посадочных мест для топ-10 улиц (по количеству объектов внутри одного района)')\n",
    "plt.xlabel('Количество мест')\n",
    "plt.show()"
   ]
  },
  {
   "cell_type": "markdown",
   "metadata": {},
   "source": [
    "**Вывод:** В целом здесь картина почти аналогичная, и так же преобладают заведения без посадочных мест, примерно одинаковое количество заведений с 10-30 местами."
   ]
  },
  {
   "cell_type": "markdown",
   "metadata": {},
   "source": [
    "### Более подробное исследование топ-10 улиц по количеству заведений внутри одного района"
   ]
  },
  {
   "cell_type": "markdown",
   "metadata": {},
   "source": [
    "#### Среднее количество мест по заведениям"
   ]
  },
  {
   "cell_type": "code",
   "execution_count": 58,
   "metadata": {},
   "outputs": [
    {
     "data": {
      "text/html": [
       "<div>\n",
       "<style scoped>\n",
       "    .dataframe tbody tr th:only-of-type {\n",
       "        vertical-align: middle;\n",
       "    }\n",
       "\n",
       "    .dataframe tbody tr th {\n",
       "        vertical-align: top;\n",
       "    }\n",
       "\n",
       "    .dataframe thead th {\n",
       "        text-align: right;\n",
       "    }\n",
       "</style>\n",
       "<table border=\"1\" class=\"dataframe\">\n",
       "  <thead>\n",
       "    <tr style=\"text-align: right;\">\n",
       "      <th></th>\n",
       "      <th>object_type</th>\n",
       "      <th>median_number</th>\n",
       "    </tr>\n",
       "  </thead>\n",
       "  <tbody>\n",
       "    <tr>\n",
       "      <th>7</th>\n",
       "      <td>ресторан</td>\n",
       "      <td>50.0</td>\n",
       "    </tr>\n",
       "    <tr>\n",
       "      <th>0</th>\n",
       "      <td>бар</td>\n",
       "      <td>45.0</td>\n",
       "    </tr>\n",
       "    <tr>\n",
       "      <th>1</th>\n",
       "      <td>буфет</td>\n",
       "      <td>34.0</td>\n",
       "    </tr>\n",
       "    <tr>\n",
       "      <th>8</th>\n",
       "      <td>столовая</td>\n",
       "      <td>30.0</td>\n",
       "    </tr>\n",
       "    <tr>\n",
       "      <th>2</th>\n",
       "      <td>закусочная</td>\n",
       "      <td>22.0</td>\n",
       "    </tr>\n",
       "    <tr>\n",
       "      <th>3</th>\n",
       "      <td>кафе</td>\n",
       "      <td>20.0</td>\n",
       "    </tr>\n",
       "    <tr>\n",
       "      <th>4</th>\n",
       "      <td>кафетерий</td>\n",
       "      <td>8.0</td>\n",
       "    </tr>\n",
       "    <tr>\n",
       "      <th>5</th>\n",
       "      <td>магазин (отдел кулинарии)</td>\n",
       "      <td>6.0</td>\n",
       "    </tr>\n",
       "    <tr>\n",
       "      <th>6</th>\n",
       "      <td>предприятие быстрого обслуживания</td>\n",
       "      <td>4.0</td>\n",
       "    </tr>\n",
       "  </tbody>\n",
       "</table>\n",
       "</div>"
      ],
      "text/plain": [
       "                         object_type  median_number\n",
       "7                           ресторан           50.0\n",
       "0                                бар           45.0\n",
       "1                              буфет           34.0\n",
       "8                           столовая           30.0\n",
       "2                         закусочная           22.0\n",
       "3                               кафе           20.0\n",
       "4                          кафетерий            8.0\n",
       "5          магазин (отдел кулинарии)            6.0\n",
       "6  предприятие быстрого обслуживания            4.0"
      ]
     },
     "execution_count": 58,
     "metadata": {},
     "output_type": "execute_result"
    }
   ],
   "source": [
    "avg_number_top_10 = top_10_seats.groupby('object_type').agg({'number':'median'}).reset_index().round().sort_values('number', ascending=False)\n",
    "avg_number_top_10 = avg_number_top_10.rename(columns={'number': 'median_number'})\n",
    "avg_number_top_10"
   ]
  },
  {
   "cell_type": "code",
   "execution_count": 59,
   "metadata": {},
   "outputs": [
    {
     "data": {
      "image/png": "[encoded data removed]",
      "text/plain": [
       "<Figure size 576x360 with 1 Axes>"
      ]
     },
     "metadata": {},
     "output_type": "display_data"
    }
   ],
   "source": [
    "plt.figure(figsize=(8, 5))\n",
    "ax = sns.barplot(data=avg_number_top_10, x='median_number', y='object_type', palette='cool', alpha  = 0.9)\n",
    "plt.title('Среднее количество посадочных мест по видам заведений в топ-10 улиц')\n",
    "plt.xlabel('Количество мест')\n",
    "plt.ylabel(' ')\n",
    "\n",
    "for p in ax.patches:\n",
    " height = p.get_height() \n",
    " width = p.get_width() \n",
    " ax.text(x = width+.5, y = p.get_y()+(height/2), s = '{:.0f}'.format(width), va = 'center') \n",
    "\n",
    "plt.show()"
   ]
  },
  {
   "cell_type": "markdown",
   "metadata": {},
   "source": [
    "**Вывод:** В отличие от всей Москвы, в центре больше всего мест в ресторанах (50) и барах (45); меньше всего в отделах кулинарии и предприятиях быстрого обслуживания. Это говорит о том, что в центре рестораны и бары хотят вместить себя как можно больше посетителей, работающих в центре (рестораны для бизнес-ланчей и вечерних посиделок, бары для расслабления после рабочего дня). "
   ]
  },
  {
   "cell_type": "markdown",
   "metadata": {},
   "source": [
    "#### Соотношение видов объектов общественного питания по количеству"
   ]
  },
  {
   "cell_type": "code",
   "execution_count": 60,
   "metadata": {},
   "outputs": [
    {
     "data": {
      "text/html": [
       "<div>\n",
       "<style scoped>\n",
       "    .dataframe tbody tr th:only-of-type {\n",
       "        vertical-align: middle;\n",
       "    }\n",
       "\n",
       "    .dataframe tbody tr th {\n",
       "        vertical-align: top;\n",
       "    }\n",
       "\n",
       "    .dataframe thead th {\n",
       "        text-align: right;\n",
       "    }\n",
       "</style>\n",
       "<table border=\"1\" class=\"dataframe\">\n",
       "  <thead>\n",
       "    <tr style=\"text-align: right;\">\n",
       "      <th></th>\n",
       "      <th>object_type</th>\n",
       "      <th>count</th>\n",
       "      <th>ratio</th>\n",
       "    </tr>\n",
       "  </thead>\n",
       "  <tbody>\n",
       "    <tr>\n",
       "      <th>3</th>\n",
       "      <td>кафе</td>\n",
       "      <td>482</td>\n",
       "      <td>55.7</td>\n",
       "    </tr>\n",
       "    <tr>\n",
       "      <th>7</th>\n",
       "      <td>ресторан</td>\n",
       "      <td>177</td>\n",
       "      <td>20.4</td>\n",
       "    </tr>\n",
       "    <tr>\n",
       "      <th>6</th>\n",
       "      <td>предприятие быстрого обслуживания</td>\n",
       "      <td>91</td>\n",
       "      <td>10.5</td>\n",
       "    </tr>\n",
       "    <tr>\n",
       "      <th>0</th>\n",
       "      <td>бар</td>\n",
       "      <td>57</td>\n",
       "      <td>6.6</td>\n",
       "    </tr>\n",
       "    <tr>\n",
       "      <th>4</th>\n",
       "      <td>кафетерий</td>\n",
       "      <td>29</td>\n",
       "      <td>3.3</td>\n",
       "    </tr>\n",
       "    <tr>\n",
       "      <th>5</th>\n",
       "      <td>магазин (отдел кулинарии)</td>\n",
       "      <td>9</td>\n",
       "      <td>1.0</td>\n",
       "    </tr>\n",
       "    <tr>\n",
       "      <th>1</th>\n",
       "      <td>буфет</td>\n",
       "      <td>8</td>\n",
       "      <td>0.9</td>\n",
       "    </tr>\n",
       "    <tr>\n",
       "      <th>2</th>\n",
       "      <td>закусочная</td>\n",
       "      <td>8</td>\n",
       "      <td>0.9</td>\n",
       "    </tr>\n",
       "    <tr>\n",
       "      <th>8</th>\n",
       "      <td>столовая</td>\n",
       "      <td>5</td>\n",
       "      <td>0.6</td>\n",
       "    </tr>\n",
       "  </tbody>\n",
       "</table>\n",
       "</div>"
      ],
      "text/plain": [
       "                         object_type  count  ratio\n",
       "3                               кафе    482   55.7\n",
       "7                           ресторан    177   20.4\n",
       "6  предприятие быстрого обслуживания     91   10.5\n",
       "0                                бар     57    6.6\n",
       "4                          кафетерий     29    3.3\n",
       "5          магазин (отдел кулинарии)      9    1.0\n",
       "1                              буфет      8    0.9\n",
       "2                         закусочная      8    0.9\n",
       "8                           столовая      5    0.6"
      ]
     },
     "execution_count": 60,
     "metadata": {},
     "output_type": "execute_result"
    }
   ],
   "source": [
    "object_types_top_10 = top_10_seats.groupby('object_type')['id'].count().reset_index()\n",
    "object_types_top_10 = object_types_top_10.rename(columns={'id': 'count'})\n",
    "object_types_top_10['ratio'] = round(object_types_top_10['count'] / len(top_10_seats) * 100, 1)\n",
    "object_types_top_10 = object_types_top_10.sort_values(by=['ratio'], ascending=False)\n",
    "object_types_top_10"
   ]
  },
  {
   "cell_type": "code",
   "execution_count": 61,
   "metadata": {},
   "outputs": [
    {
     "data": {
      "image/png": "[encoded data removed]",
      "text/plain": [
       "<Figure size 576x360 with 1 Axes>"
      ]
     },
     "metadata": {},
     "output_type": "display_data"
    }
   ],
   "source": [
    "plt.figure(figsize=(8, 5))\n",
    "ax = sns.barplot(data=object_types_top_10, x='count', y='object_type', palette='cool', alpha  = 0.9)\n",
    "plt.title('Соотношение видов объектов общественного питания по количеству')\n",
    "plt.xlabel('Количество')\n",
    "plt.ylabel(' ')\n",
    "\n",
    "percents = object_types_top_10['ratio'].to_list()\n",
    "patches = ax.patches\n",
    "for i in range(len(patches)):\n",
    "    y = patches[i].get_y() + patches[i].get_height()/1.6\n",
    "    x = patches[i].get_width() + 20\n",
    "    ax.annotate('{:.1f}%'.format(percents[i]), (x, y), ha='left')\n",
    "plt.show()"
   ]
  },
  {
   "cell_type": "markdown",
   "metadata": {},
   "source": [
    "**Вывод:** На улицах из топ-10, которые в основном находятся в центре, больше всего кафе (56%) и ресторанов (20%), меньше всего буфетов, столовых и закусочных."
   ]
  },
  {
   "cell_type": "markdown",
   "metadata": {},
   "source": [
    "#### Соотношение сетевых и несетевых заведений"
   ]
  },
  {
   "cell_type": "code",
   "execution_count": 62,
   "metadata": {},
   "outputs": [
    {
     "data": {
      "text/html": [
       "<div>\n",
       "<style scoped>\n",
       "    .dataframe tbody tr th:only-of-type {\n",
       "        vertical-align: middle;\n",
       "    }\n",
       "\n",
       "    .dataframe tbody tr th {\n",
       "        vertical-align: top;\n",
       "    }\n",
       "\n",
       "    .dataframe thead th {\n",
       "        text-align: right;\n",
       "    }\n",
       "</style>\n",
       "<table border=\"1\" class=\"dataframe\">\n",
       "  <thead>\n",
       "    <tr style=\"text-align: right;\">\n",
       "      <th></th>\n",
       "      <th>chain</th>\n",
       "      <th>count</th>\n",
       "      <th>ratio</th>\n",
       "    </tr>\n",
       "  </thead>\n",
       "  <tbody>\n",
       "    <tr>\n",
       "      <th>0</th>\n",
       "      <td>False</td>\n",
       "      <td>683</td>\n",
       "      <td>78.9</td>\n",
       "    </tr>\n",
       "    <tr>\n",
       "      <th>1</th>\n",
       "      <td>True</td>\n",
       "      <td>183</td>\n",
       "      <td>21.1</td>\n",
       "    </tr>\n",
       "  </tbody>\n",
       "</table>\n",
       "</div>"
      ],
      "text/plain": [
       "   chain  count  ratio\n",
       "0  False    683   78.9\n",
       "1   True    183   21.1"
      ]
     },
     "execution_count": 62,
     "metadata": {},
     "output_type": "execute_result"
    }
   ],
   "source": [
    "chain_types_top_10 = top_10_seats.groupby('chain')['id'].count().reset_index()\n",
    "chain_types_top_10 = chain_types_top_10.rename(columns={'id': 'count'})\n",
    "chain_types_top_10['ratio'] = round(chain_types_top_10['count'] / len(top_10_seats) * 100, 1)\n",
    "chain_types_top_10"
   ]
  },
  {
   "cell_type": "code",
   "execution_count": 63,
   "metadata": {},
   "outputs": [
    {
     "data": {
      "image/png": "[encoded data removed]",
      "text/plain": [
       "<Figure size 432x288 with 1 Axes>"
      ]
     },
     "metadata": {},
     "output_type": "display_data"
    }
   ],
   "source": [
    "labels = 'Сетевые', 'Несетевые'\n",
    "sizes = [21.1, 78.9]\n",
    "explode = (0.04, 0.00)\n",
    "colors = ['#D071FF', '#79D8EA']\n",
    "fig1, ax1 = plt.subplots()\n",
    "ax1.pie(sizes, explode=explode, labels=labels, colors = colors, autopct='%1.1f%%', startangle=90, pctdistance=0.84)\n",
    "centre_circle = plt.Circle((0,0),0.7,fc='white')\n",
    "fig = plt.gcf()\n",
    "fig.gca().add_artist(centre_circle)\n",
    "ax1.axis('equal')  \n",
    "plt.tight_layout()\n",
    "plt.title('Соотношение сетевых и несетевых заведений по количеству')\n",
    "plt.show()"
   ]
  },
  {
   "cell_type": "markdown",
   "metadata": {},
   "source": [
    "**Вывод** Так же как и по всей Москве, в топ-10 улиц соотношение сетевых и несетевых заведений сохраняется равным примерно 20 на 80."
   ]
  },
  {
   "cell_type": "markdown",
   "metadata": {},
   "source": [
    "## Общий вывод и рекомендации"
   ]
  },
  {
   "cell_type": "markdown",
   "metadata": {},
   "source": [
    "**Данные**  \n",
    "При изучении данных были найдены и исправлены при предобработке следующие проблемы:\n",
    "- скрытые дубликаты\n",
    "- тип данных столбца `chain`  \n",
    "\n",
    "**Исследования**\n",
    "- По количеству объектов наибольший процент составляют кафе (40%), далее идут столовые (17%), рестораны (15%) и предприятия быстрого обслуживания (12%); меньше всего отделов кулинарии в магазинах, закусочных и кафетериев;\n",
    "- Большинство заведений (81%) — несетевые, лишь 19% являются частью какой-то сети;\n",
    "- Сетевое распространение характерно больше всего для предприятий быстрого обслуживания (42%), отделов кулинарии в магазинах (29%), ресторанов (24%) и кафе (23%); меньше всего — для столовых и буфетов;\n",
    "- Для сетевых заведений характерно малое количество заведений (1-3) с количеством посадочных мест от 0 (если это фудкорт или заведение, работающее навынос) до 100;\n",
    "- Самое большое среднее количество посадочных мест обычно в столовых (103) и ресторанах (80), а самое маленькое — в кафетериях (6) и ПБО (6); в закусочных и отделах кулинарии магазинов, как правило, мест не предусмотрено;\n",
    "- Топ-10 улиц по количеству заведений:\n",
    "    - всего, по всем районам: лидируют Проспект Мира и Профсоюзная улица, замыкают топ Каширское шоссе и Кировоградская улица;\n",
    "    - внутри одного района: лидирует Пресненская Набережная (Пресненский р-н), замыкает топ Ленинградское Шоссе (Войковский р-н); почти все улицы из этого топ-10 расположены в центре города;\n",
    "- Всего, по всем районам, 871 улица с одним заведением;\n",
    "- Для топ-10 улиц (как по всем районам, так и внутри одного района) преобладают заведения без посадочных мест; также наблюдается примерно одинаковое количество заведений с 10-30 местами. \n",
    "\n",
    "**Дополнительное исследования топ-10 улиц внутри одного района**\n",
    "- В отличие от всей Москвы, в центре больше всего мест в ресторанах (50) и барах (45); меньше всего в отделах кулинарии и предприятиях быстрого обслуживания;\n",
    "- На улицах из топ-10 больше всего кафе (56%) и ресторанов (20%), меньше всего буфетов, столовых и закусочных;\n",
    "- Так же как и по всей Москве, в топ-10 улиц соотношение сетевых и несетевых заведений сохраняется равным примерно 20 на 80.\n",
    "\n",
    "**Рекомендации по результатам исследования**    \n",
    "Для открытия первого заведения стоит выбрать Пресненскую Набережную (Пресненский р-н) из топ-10. По типу заведения это может быть небольшое кафе (10-20 мест) или ПБО с минимальным количеством или без посадочных мест. Развивать сеть дальше можно открыв еще одно заведение в центре (на другой улице из топ-10) или переключиться на последние три улицы из топ-10: Кировоградскую, Сущевский Вал или Ленинградское Шоссе, разместив заведение, например, в крупном ТЦ (что обеспечит большой поток людей из спальных районов)."
   ]
  }
 ],
 "metadata": {
  "ExecuteTimeLog": [
   {
    "duration": 1541,
    "start_time": "2021-08-07T13:03:33.735Z"
   },
   {
    "duration": 58,
    "start_time": "2021-08-07T13:05:33.499Z"
   },
   {
    "duration": 25,
    "start_time": "2021-08-07T13:05:43.720Z"
   },
   {
    "duration": 13,
    "start_time": "2021-08-07T13:06:01.840Z"
   },
   {
    "duration": 25,
    "start_time": "2021-08-07T13:06:15.864Z"
   },
   {
    "duration": 13,
    "start_time": "2021-08-07T13:07:08.372Z"
   },
   {
    "duration": 26,
    "start_time": "2021-08-07T13:07:17.597Z"
   },
   {
    "duration": 10,
    "start_time": "2021-08-07T13:11:01.473Z"
   },
   {
    "duration": 14,
    "start_time": "2021-08-07T13:11:22.854Z"
   },
   {
    "duration": 4,
    "start_time": "2021-08-07T13:12:01.508Z"
   },
   {
    "duration": 75,
    "start_time": "2021-08-07T13:12:01.514Z"
   },
   {
    "duration": 20,
    "start_time": "2021-08-07T13:12:01.592Z"
   },
   {
    "duration": 45,
    "start_time": "2021-08-07T13:12:01.615Z"
   },
   {
    "duration": 33,
    "start_time": "2021-08-07T13:12:01.663Z"
   },
   {
    "duration": 11,
    "start_time": "2021-08-07T13:12:01.698Z"
   },
   {
    "duration": 54,
    "start_time": "2021-08-07T13:12:01.712Z"
   },
   {
    "duration": 10,
    "start_time": "2021-08-07T13:12:01.769Z"
   },
   {
    "duration": 55,
    "start_time": "2021-08-07T13:12:01.782Z"
   },
   {
    "duration": 16,
    "start_time": "2021-08-07T13:23:14.008Z"
   },
   {
    "duration": 24,
    "start_time": "2021-08-07T13:23:23.061Z"
   },
   {
    "duration": 21,
    "start_time": "2021-08-07T13:25:28.880Z"
   },
   {
    "duration": 21,
    "start_time": "2021-08-07T13:26:22.030Z"
   },
   {
    "duration": 21,
    "start_time": "2021-08-07T13:26:47.987Z"
   },
   {
    "duration": 21,
    "start_time": "2021-08-07T13:27:00.087Z"
   },
   {
    "duration": 4,
    "start_time": "2021-08-07T13:28:03.674Z"
   },
   {
    "duration": 60,
    "start_time": "2021-08-07T13:28:03.681Z"
   },
   {
    "duration": 20,
    "start_time": "2021-08-07T13:28:03.744Z"
   },
   {
    "duration": 15,
    "start_time": "2021-08-07T13:28:03.767Z"
   },
   {
    "duration": 26,
    "start_time": "2021-08-07T13:28:03.784Z"
   },
   {
    "duration": 11,
    "start_time": "2021-08-07T13:28:03.813Z"
   },
   {
    "duration": 61,
    "start_time": "2021-08-07T13:28:03.826Z"
   },
   {
    "duration": 21,
    "start_time": "2021-08-07T13:28:03.890Z"
   },
   {
    "duration": 58,
    "start_time": "2021-08-07T13:28:03.915Z"
   },
   {
    "duration": 19,
    "start_time": "2021-08-07T13:28:03.976Z"
   },
   {
    "duration": 9,
    "start_time": "2021-08-07T13:28:03.998Z"
   },
   {
    "duration": 14,
    "start_time": "2021-08-07T13:28:04.009Z"
   },
   {
    "duration": 466,
    "start_time": "2021-08-07T13:29:24.589Z"
   },
   {
    "duration": 371,
    "start_time": "2021-08-07T13:30:12.608Z"
   },
   {
    "duration": 378,
    "start_time": "2021-08-07T13:31:21.167Z"
   },
   {
    "duration": 47,
    "start_time": "2021-08-07T13:34:16.322Z"
   },
   {
    "duration": 6,
    "start_time": "2021-08-07T13:34:18.586Z"
   },
   {
    "duration": 62,
    "start_time": "2021-08-07T13:34:18.594Z"
   },
   {
    "duration": 18,
    "start_time": "2021-08-07T13:34:18.659Z"
   },
   {
    "duration": 15,
    "start_time": "2021-08-07T13:34:18.680Z"
   },
   {
    "duration": 25,
    "start_time": "2021-08-07T13:34:18.698Z"
   },
   {
    "duration": 35,
    "start_time": "2021-08-07T13:34:18.726Z"
   },
   {
    "duration": 27,
    "start_time": "2021-08-07T13:34:18.764Z"
   },
   {
    "duration": 31,
    "start_time": "2021-08-07T13:34:18.794Z"
   },
   {
    "duration": 58,
    "start_time": "2021-08-07T13:34:18.830Z"
   },
   {
    "duration": 23,
    "start_time": "2021-08-07T13:34:18.891Z"
   },
   {
    "duration": 56,
    "start_time": "2021-08-07T13:34:18.916Z"
   },
   {
    "duration": 11,
    "start_time": "2021-08-07T13:34:18.975Z"
   },
   {
    "duration": 21,
    "start_time": "2021-08-07T13:34:18.989Z"
   },
   {
    "duration": 4,
    "start_time": "2021-08-07T13:34:41.641Z"
   },
   {
    "duration": 67,
    "start_time": "2021-08-07T13:34:41.648Z"
   },
   {
    "duration": 17,
    "start_time": "2021-08-07T13:34:41.718Z"
   },
   {
    "duration": 25,
    "start_time": "2021-08-07T13:34:41.738Z"
   },
   {
    "duration": 22,
    "start_time": "2021-08-07T13:34:41.766Z"
   },
   {
    "duration": 12,
    "start_time": "2021-08-07T13:34:41.790Z"
   },
   {
    "duration": 28,
    "start_time": "2021-08-07T13:34:41.804Z"
   },
   {
    "duration": 31,
    "start_time": "2021-08-07T13:34:41.863Z"
   },
   {
    "duration": 26,
    "start_time": "2021-08-07T13:34:41.898Z"
   },
   {
    "duration": 43,
    "start_time": "2021-08-07T13:34:41.927Z"
   },
   {
    "duration": 19,
    "start_time": "2021-08-07T13:34:41.973Z"
   },
   {
    "duration": 13,
    "start_time": "2021-08-07T13:34:41.995Z"
   },
   {
    "duration": 10,
    "start_time": "2021-08-07T13:34:42.010Z"
   },
   {
    "duration": 4,
    "start_time": "2021-08-07T13:35:12.151Z"
   },
   {
    "duration": 63,
    "start_time": "2021-08-07T13:35:12.157Z"
   },
   {
    "duration": 18,
    "start_time": "2021-08-07T13:35:12.224Z"
   },
   {
    "duration": 19,
    "start_time": "2021-08-07T13:35:12.245Z"
   },
   {
    "duration": 23,
    "start_time": "2021-08-07T13:35:12.266Z"
   },
   {
    "duration": 8,
    "start_time": "2021-08-07T13:35:12.291Z"
   },
   {
    "duration": 16,
    "start_time": "2021-08-07T13:35:12.302Z"
   },
   {
    "duration": 44,
    "start_time": "2021-08-07T13:35:12.320Z"
   },
   {
    "duration": 28,
    "start_time": "2021-08-07T13:35:12.367Z"
   },
   {
    "duration": 71,
    "start_time": "2021-08-07T13:35:12.398Z"
   },
   {
    "duration": 30,
    "start_time": "2021-08-07T13:35:12.472Z"
   },
   {
    "duration": 19,
    "start_time": "2021-08-07T13:35:12.505Z"
   },
   {
    "duration": 49,
    "start_time": "2021-08-07T13:35:12.526Z"
   },
   {
    "duration": 4,
    "start_time": "2021-08-07T13:37:03.728Z"
   },
   {
    "duration": 61,
    "start_time": "2021-08-07T13:37:03.736Z"
   },
   {
    "duration": 20,
    "start_time": "2021-08-07T13:37:03.801Z"
   },
   {
    "duration": 37,
    "start_time": "2021-08-07T13:37:03.825Z"
   },
   {
    "duration": 25,
    "start_time": "2021-08-07T13:37:03.864Z"
   },
   {
    "duration": 9,
    "start_time": "2021-08-07T13:37:03.892Z"
   },
   {
    "duration": 13,
    "start_time": "2021-08-07T13:37:03.904Z"
   },
   {
    "duration": 55,
    "start_time": "2021-08-07T13:37:03.920Z"
   },
   {
    "duration": 29,
    "start_time": "2021-08-07T13:37:03.979Z"
   },
   {
    "duration": 62,
    "start_time": "2021-08-07T13:37:04.010Z"
   },
   {
    "duration": 28,
    "start_time": "2021-08-07T13:37:04.075Z"
   },
   {
    "duration": 18,
    "start_time": "2021-08-07T13:37:04.106Z"
   },
   {
    "duration": 45,
    "start_time": "2021-08-07T13:37:04.127Z"
   },
   {
    "duration": 20,
    "start_time": "2021-08-07T13:39:18.866Z"
   },
   {
    "duration": 8,
    "start_time": "2021-08-07T13:40:26.872Z"
   },
   {
    "duration": 11,
    "start_time": "2021-08-07T13:40:29.397Z"
   },
   {
    "duration": 385,
    "start_time": "2021-08-07T13:42:47.729Z"
   },
   {
    "duration": 16,
    "start_time": "2021-08-07T13:43:46.335Z"
   },
   {
    "duration": 5,
    "start_time": "2021-08-07T13:43:52.517Z"
   },
   {
    "duration": 63,
    "start_time": "2021-08-07T13:43:52.525Z"
   },
   {
    "duration": 20,
    "start_time": "2021-08-07T13:43:52.592Z"
   },
   {
    "duration": 17,
    "start_time": "2021-08-07T13:43:52.616Z"
   },
   {
    "duration": 25,
    "start_time": "2021-08-07T13:43:52.662Z"
   },
   {
    "duration": 8,
    "start_time": "2021-08-07T13:43:52.690Z"
   },
   {
    "duration": 13,
    "start_time": "2021-08-07T13:43:52.701Z"
   },
   {
    "duration": 50,
    "start_time": "2021-08-07T13:43:52.717Z"
   },
   {
    "duration": 28,
    "start_time": "2021-08-07T13:43:52.770Z"
   },
   {
    "duration": 66,
    "start_time": "2021-08-07T13:43:52.801Z"
   },
   {
    "duration": 32,
    "start_time": "2021-08-07T13:43:52.869Z"
   },
   {
    "duration": 20,
    "start_time": "2021-08-07T13:43:52.904Z"
   },
   {
    "duration": 48,
    "start_time": "2021-08-07T13:43:52.926Z"
   },
   {
    "duration": 14,
    "start_time": "2021-08-07T13:43:52.976Z"
   },
   {
    "duration": 106,
    "start_time": "2021-08-07T13:43:52.993Z"
   },
   {
    "duration": 8855,
    "start_time": "2021-08-07T13:44:26.850Z"
   },
   {
    "duration": 10,
    "start_time": "2021-08-07T13:44:46.511Z"
   },
   {
    "duration": 4,
    "start_time": "2021-08-07T13:44:49.013Z"
   },
   {
    "duration": 84,
    "start_time": "2021-08-07T13:44:49.019Z"
   },
   {
    "duration": 19,
    "start_time": "2021-08-07T13:44:49.106Z"
   },
   {
    "duration": 38,
    "start_time": "2021-08-07T13:44:49.129Z"
   },
   {
    "duration": 24,
    "start_time": "2021-08-07T13:44:49.170Z"
   },
   {
    "duration": 11,
    "start_time": "2021-08-07T13:44:49.197Z"
   },
   {
    "duration": 51,
    "start_time": "2021-08-07T13:44:49.211Z"
   },
   {
    "duration": 14,
    "start_time": "2021-08-07T13:44:49.264Z"
   },
   {
    "duration": 33,
    "start_time": "2021-08-07T13:44:49.282Z"
   },
   {
    "duration": 57,
    "start_time": "2021-08-07T13:44:49.318Z"
   },
   {
    "duration": 28,
    "start_time": "2021-08-07T13:44:49.377Z"
   },
   {
    "duration": 26,
    "start_time": "2021-08-07T13:44:49.408Z"
   },
   {
    "duration": 46,
    "start_time": "2021-08-07T13:44:49.436Z"
   },
   {
    "duration": 9,
    "start_time": "2021-08-07T13:44:49.484Z"
   },
   {
    "duration": 10,
    "start_time": "2021-08-07T13:44:49.496Z"
   },
   {
    "duration": 11,
    "start_time": "2021-08-07T13:44:54.758Z"
   },
   {
    "duration": 5,
    "start_time": "2021-08-07T13:45:07.712Z"
   },
   {
    "duration": 10,
    "start_time": "2021-08-07T13:45:08.132Z"
   },
   {
    "duration": 6,
    "start_time": "2021-08-07T13:45:16.831Z"
   },
   {
    "duration": 10,
    "start_time": "2021-08-07T13:45:18.341Z"
   },
   {
    "duration": 13,
    "start_time": "2021-08-07T13:46:35.459Z"
   },
   {
    "duration": 324,
    "start_time": "2021-08-07T13:47:46.862Z"
   },
   {
    "duration": 255,
    "start_time": "2021-08-07T13:48:18.207Z"
   },
   {
    "duration": 635,
    "start_time": "2021-08-07T13:50:16.853Z"
   },
   {
    "duration": 625,
    "start_time": "2021-08-07T13:50:37.573Z"
   },
   {
    "duration": 657,
    "start_time": "2021-08-07T13:50:50.017Z"
   },
   {
    "duration": 4,
    "start_time": "2021-08-07T13:50:59.540Z"
   },
   {
    "duration": 62,
    "start_time": "2021-08-07T13:50:59.547Z"
   },
   {
    "duration": 21,
    "start_time": "2021-08-07T13:50:59.613Z"
   },
   {
    "duration": 28,
    "start_time": "2021-08-07T13:50:59.636Z"
   },
   {
    "duration": 24,
    "start_time": "2021-08-07T13:50:59.667Z"
   },
   {
    "duration": 8,
    "start_time": "2021-08-07T13:50:59.694Z"
   },
   {
    "duration": 14,
    "start_time": "2021-08-07T13:50:59.704Z"
   },
   {
    "duration": 47,
    "start_time": "2021-08-07T13:50:59.720Z"
   },
   {
    "duration": 26,
    "start_time": "2021-08-07T13:50:59.772Z"
   },
   {
    "duration": 64,
    "start_time": "2021-08-07T13:50:59.801Z"
   },
   {
    "duration": 31,
    "start_time": "2021-08-07T13:50:59.867Z"
   },
   {
    "duration": 20,
    "start_time": "2021-08-07T13:50:59.900Z"
   },
   {
    "duration": 49,
    "start_time": "2021-08-07T13:50:59.922Z"
   },
   {
    "duration": 9,
    "start_time": "2021-08-07T13:50:59.973Z"
   },
   {
    "duration": 6,
    "start_time": "2021-08-07T13:50:59.984Z"
   },
   {
    "duration": 20,
    "start_time": "2021-08-07T13:50:59.992Z"
   },
   {
    "duration": 806,
    "start_time": "2021-08-07T13:51:00.015Z"
   },
   {
    "duration": 7,
    "start_time": "2021-08-07T13:52:45.953Z"
   },
   {
    "duration": 18,
    "start_time": "2021-08-07T13:52:46.492Z"
   },
   {
    "duration": 7,
    "start_time": "2021-08-07T13:53:00.440Z"
   },
   {
    "duration": 321,
    "start_time": "2021-08-07T13:56:05.210Z"
   },
   {
    "duration": 5,
    "start_time": "2021-08-07T13:56:23.248Z"
   },
   {
    "duration": 396,
    "start_time": "2021-08-07T13:56:24.661Z"
   },
   {
    "duration": 13,
    "start_time": "2021-08-07T13:56:47.855Z"
   },
   {
    "duration": 319,
    "start_time": "2021-08-07T13:58:39.268Z"
   },
   {
    "duration": 6,
    "start_time": "2021-08-07T13:58:46.173Z"
   },
   {
    "duration": 84,
    "start_time": "2021-08-07T13:58:46.182Z"
   },
   {
    "duration": 27,
    "start_time": "2021-08-07T13:58:46.271Z"
   },
   {
    "duration": 16,
    "start_time": "2021-08-07T13:58:46.301Z"
   },
   {
    "duration": 55,
    "start_time": "2021-08-07T13:58:46.319Z"
   },
   {
    "duration": 12,
    "start_time": "2021-08-07T13:58:46.376Z"
   },
   {
    "duration": 17,
    "start_time": "2021-08-07T13:58:46.391Z"
   },
   {
    "duration": 11,
    "start_time": "2021-08-07T13:58:46.412Z"
   },
   {
    "duration": 55,
    "start_time": "2021-08-07T13:58:46.426Z"
   },
   {
    "duration": 33,
    "start_time": "2021-08-07T13:58:46.483Z"
   },
   {
    "duration": 66,
    "start_time": "2021-08-07T13:58:46.520Z"
   },
   {
    "duration": 31,
    "start_time": "2021-08-07T13:58:46.589Z"
   },
   {
    "duration": 56,
    "start_time": "2021-08-07T13:58:46.623Z"
   },
   {
    "duration": 13,
    "start_time": "2021-08-07T13:58:46.682Z"
   },
   {
    "duration": 8,
    "start_time": "2021-08-07T13:58:46.698Z"
   },
   {
    "duration": 15,
    "start_time": "2021-08-07T13:58:46.709Z"
   },
   {
    "duration": 361,
    "start_time": "2021-08-07T13:58:46.727Z"
   },
   {
    "duration": 319,
    "start_time": "2021-08-07T13:59:06.191Z"
   },
   {
    "duration": 368,
    "start_time": "2021-08-07T14:00:32.170Z"
   },
   {
    "duration": 626,
    "start_time": "2021-08-07T14:00:44.741Z"
   },
   {
    "duration": 380,
    "start_time": "2021-08-07T14:00:54.853Z"
   },
   {
    "duration": 389,
    "start_time": "2021-08-07T14:03:10.746Z"
   },
   {
    "duration": 331,
    "start_time": "2021-08-07T14:03:18.542Z"
   },
   {
    "duration": 371,
    "start_time": "2021-08-07T14:03:31.445Z"
   },
   {
    "duration": 410,
    "start_time": "2021-08-07T14:04:12.459Z"
   },
   {
    "duration": 463,
    "start_time": "2021-08-07T14:04:39.779Z"
   },
   {
    "duration": 463,
    "start_time": "2021-08-07T14:04:45.590Z"
   },
   {
    "duration": 354,
    "start_time": "2021-08-07T14:06:15.022Z"
   },
   {
    "duration": 353,
    "start_time": "2021-08-07T14:06:20.128Z"
   },
   {
    "duration": 405,
    "start_time": "2021-08-07T14:07:29.162Z"
   },
   {
    "duration": 340,
    "start_time": "2021-08-07T14:08:16.721Z"
   },
   {
    "duration": 802,
    "start_time": "2021-08-07T14:08:25.805Z"
   },
   {
    "duration": 1603,
    "start_time": "2021-08-07T14:09:59.446Z"
   },
   {
    "duration": 711,
    "start_time": "2021-08-07T14:10:08.774Z"
   },
   {
    "duration": 706,
    "start_time": "2021-08-07T14:10:36.980Z"
   },
   {
    "duration": 370,
    "start_time": "2021-08-07T14:10:45.274Z"
   },
   {
    "duration": 685,
    "start_time": "2021-08-07T14:15:05.170Z"
   },
   {
    "duration": 81,
    "start_time": "2021-08-07T14:15:05.859Z"
   },
   {
    "duration": 37,
    "start_time": "2021-08-07T14:15:05.945Z"
   },
   {
    "duration": 40,
    "start_time": "2021-08-07T14:15:05.986Z"
   },
   {
    "duration": 34,
    "start_time": "2021-08-07T14:15:06.029Z"
   },
   {
    "duration": 13,
    "start_time": "2021-08-07T14:15:06.066Z"
   },
   {
    "duration": 28,
    "start_time": "2021-08-07T14:15:06.082Z"
   },
   {
    "duration": 21,
    "start_time": "2021-08-07T14:15:06.112Z"
   },
   {
    "duration": 43,
    "start_time": "2021-08-07T14:15:06.138Z"
   },
   {
    "duration": 51,
    "start_time": "2021-08-07T14:15:06.184Z"
   },
   {
    "duration": 54,
    "start_time": "2021-08-07T14:15:06.239Z"
   },
   {
    "duration": 29,
    "start_time": "2021-08-07T14:15:06.296Z"
   },
   {
    "duration": 50,
    "start_time": "2021-08-07T14:15:06.329Z"
   },
   {
    "duration": 8,
    "start_time": "2021-08-07T14:15:06.381Z"
   },
   {
    "duration": 7,
    "start_time": "2021-08-07T14:15:06.392Z"
   },
   {
    "duration": 16,
    "start_time": "2021-08-07T14:15:06.402Z"
   },
   {
    "duration": 501,
    "start_time": "2021-08-07T14:15:06.420Z"
   },
   {
    "duration": 9809,
    "start_time": "2021-08-07T14:18:02.255Z"
   },
   {
    "duration": 1346,
    "start_time": "2021-08-07T14:18:22.768Z"
   },
   {
    "duration": 541,
    "start_time": "2021-08-07T14:18:38.133Z"
   },
   {
    "duration": 492,
    "start_time": "2021-08-07T14:19:19.659Z"
   },
   {
    "duration": 709,
    "start_time": "2021-08-07T14:19:28.441Z"
   },
   {
    "duration": 8898,
    "start_time": "2021-08-07T14:21:03.798Z"
   },
   {
    "duration": 1038,
    "start_time": "2021-08-07T14:21:16.980Z"
   },
   {
    "duration": 854,
    "start_time": "2021-08-07T14:21:20.690Z"
   },
   {
    "duration": 699,
    "start_time": "2021-08-07T14:21:28.900Z"
   },
   {
    "duration": 723,
    "start_time": "2021-08-07T14:21:47.673Z"
   },
   {
    "duration": 722,
    "start_time": "2021-08-07T14:22:00.182Z"
   },
   {
    "duration": 5,
    "start_time": "2021-08-07T14:22:05.258Z"
   },
   {
    "duration": 83,
    "start_time": "2021-08-07T14:22:05.267Z"
   },
   {
    "duration": 27,
    "start_time": "2021-08-07T14:22:05.354Z"
   },
   {
    "duration": 18,
    "start_time": "2021-08-07T14:22:05.385Z"
   },
   {
    "duration": 23,
    "start_time": "2021-08-07T14:22:05.406Z"
   },
   {
    "duration": 37,
    "start_time": "2021-08-07T14:22:05.432Z"
   },
   {
    "duration": 15,
    "start_time": "2021-08-07T14:22:05.472Z"
   },
   {
    "duration": 20,
    "start_time": "2021-08-07T14:22:05.490Z"
   },
   {
    "duration": 70,
    "start_time": "2021-08-07T14:22:05.515Z"
   },
   {
    "duration": 53,
    "start_time": "2021-08-07T14:22:05.589Z"
   },
   {
    "duration": 57,
    "start_time": "2021-08-07T14:22:05.645Z"
   },
   {
    "duration": 30,
    "start_time": "2021-08-07T14:22:05.705Z"
   },
   {
    "duration": 51,
    "start_time": "2021-08-07T14:22:05.738Z"
   },
   {
    "duration": 12,
    "start_time": "2021-08-07T14:22:05.792Z"
   },
   {
    "duration": 8,
    "start_time": "2021-08-07T14:22:05.807Z"
   },
   {
    "duration": 46,
    "start_time": "2021-08-07T14:22:05.818Z"
   },
   {
    "duration": 579,
    "start_time": "2021-08-07T14:22:05.867Z"
   },
   {
    "duration": 1125,
    "start_time": "2021-08-07T14:22:06.449Z"
   },
   {
    "duration": 718,
    "start_time": "2021-08-07T14:22:54.444Z"
   },
   {
    "duration": 1038,
    "start_time": "2021-08-07T14:23:05.540Z"
   },
   {
    "duration": 6,
    "start_time": "2021-08-08T09:57:46.988Z"
   },
   {
    "duration": 68,
    "start_time": "2021-08-08T09:57:46.998Z"
   },
   {
    "duration": 23,
    "start_time": "2021-08-08T09:57:47.069Z"
   },
   {
    "duration": 22,
    "start_time": "2021-08-08T09:57:47.095Z"
   },
   {
    "duration": 55,
    "start_time": "2021-08-08T09:57:47.121Z"
   },
   {
    "duration": 9,
    "start_time": "2021-08-08T09:57:47.178Z"
   },
   {
    "duration": 39,
    "start_time": "2021-08-08T09:57:47.190Z"
   },
   {
    "duration": 19,
    "start_time": "2021-08-08T09:57:47.231Z"
   },
   {
    "duration": 48,
    "start_time": "2021-08-08T09:57:47.254Z"
   },
   {
    "duration": 60,
    "start_time": "2021-08-08T09:57:47.306Z"
   },
   {
    "duration": 36,
    "start_time": "2021-08-08T09:57:47.369Z"
   },
   {
    "duration": 27,
    "start_time": "2021-08-08T09:57:47.408Z"
   },
   {
    "duration": 28,
    "start_time": "2021-08-08T09:57:47.463Z"
   },
   {
    "duration": 11,
    "start_time": "2021-08-08T09:57:47.494Z"
   },
   {
    "duration": 17,
    "start_time": "2021-08-08T09:57:47.508Z"
   },
   {
    "duration": 41,
    "start_time": "2021-08-08T09:57:47.529Z"
   },
   {
    "duration": 519,
    "start_time": "2021-08-08T09:57:47.572Z"
   },
   {
    "duration": 5,
    "start_time": "2021-08-08T10:02:29.963Z"
   },
   {
    "duration": 73,
    "start_time": "2021-08-08T10:02:29.970Z"
   },
   {
    "duration": 19,
    "start_time": "2021-08-08T10:02:30.046Z"
   },
   {
    "duration": 22,
    "start_time": "2021-08-08T10:02:30.067Z"
   },
   {
    "duration": 37,
    "start_time": "2021-08-08T10:02:30.092Z"
   },
   {
    "duration": 12,
    "start_time": "2021-08-08T10:02:30.132Z"
   },
   {
    "duration": 16,
    "start_time": "2021-08-08T10:02:30.163Z"
   },
   {
    "duration": 27,
    "start_time": "2021-08-08T10:02:30.183Z"
   },
   {
    "duration": 37,
    "start_time": "2021-08-08T10:02:30.215Z"
   },
   {
    "duration": 37,
    "start_time": "2021-08-08T10:02:30.254Z"
   },
   {
    "duration": 37,
    "start_time": "2021-08-08T10:02:30.293Z"
   },
   {
    "duration": 41,
    "start_time": "2021-08-08T10:02:30.333Z"
   },
   {
    "duration": 21,
    "start_time": "2021-08-08T10:02:30.377Z"
   },
   {
    "duration": 10,
    "start_time": "2021-08-08T10:02:30.401Z"
   },
   {
    "duration": 13,
    "start_time": "2021-08-08T10:02:30.413Z"
   },
   {
    "duration": 50,
    "start_time": "2021-08-08T10:02:30.428Z"
   },
   {
    "duration": 575,
    "start_time": "2021-08-08T10:02:30.481Z"
   },
   {
    "duration": 9,
    "start_time": "2021-08-08T10:03:36.494Z"
   },
   {
    "duration": 25,
    "start_time": "2021-08-08T10:04:15.495Z"
   },
   {
    "duration": 702,
    "start_time": "2021-08-08T10:07:25.791Z"
   },
   {
    "duration": 710,
    "start_time": "2021-08-08T10:07:45.385Z"
   },
   {
    "duration": 130,
    "start_time": "2021-08-08T10:09:39.991Z"
   },
   {
    "duration": 130,
    "start_time": "2021-08-08T10:10:06.161Z"
   },
   {
    "duration": 119,
    "start_time": "2021-08-08T10:10:16.585Z"
   },
   {
    "duration": 108,
    "start_time": "2021-08-08T10:10:29.146Z"
   },
   {
    "duration": 112,
    "start_time": "2021-08-08T10:11:06.523Z"
   },
   {
    "duration": 371,
    "start_time": "2021-08-08T10:11:35.471Z"
   },
   {
    "duration": 374,
    "start_time": "2021-08-08T10:12:14.443Z"
   },
   {
    "duration": 721,
    "start_time": "2021-08-08T10:12:18.878Z"
   },
   {
    "duration": 377,
    "start_time": "2021-08-08T10:12:23.770Z"
   },
   {
    "duration": 137,
    "start_time": "2021-08-08T10:12:56.164Z"
   },
   {
    "duration": 128,
    "start_time": "2021-08-08T10:19:48.000Z"
   },
   {
    "duration": 138,
    "start_time": "2021-08-08T10:20:09.322Z"
   },
   {
    "duration": 134,
    "start_time": "2021-08-08T10:20:26.712Z"
   },
   {
    "duration": 515,
    "start_time": "2021-08-08T10:20:49.904Z"
   },
   {
    "duration": 254,
    "start_time": "2021-08-08T10:21:08.554Z"
   },
   {
    "duration": 268,
    "start_time": "2021-08-08T10:21:43.633Z"
   },
   {
    "duration": 261,
    "start_time": "2021-08-08T10:21:47.176Z"
   },
   {
    "duration": 263,
    "start_time": "2021-08-08T10:23:03.999Z"
   },
   {
    "duration": 265,
    "start_time": "2021-08-08T10:23:08.646Z"
   },
   {
    "duration": 264,
    "start_time": "2021-08-08T10:25:11.356Z"
   },
   {
    "duration": 234,
    "start_time": "2021-08-08T10:26:34.579Z"
   },
   {
    "duration": 268,
    "start_time": "2021-08-08T10:26:58.950Z"
   },
   {
    "duration": 259,
    "start_time": "2021-08-08T10:28:02.849Z"
   },
   {
    "duration": 241,
    "start_time": "2021-08-08T10:28:33.979Z"
   },
   {
    "duration": 218,
    "start_time": "2021-08-08T10:28:45.494Z"
   },
   {
    "duration": 276,
    "start_time": "2021-08-08T10:28:57.286Z"
   },
   {
    "duration": 273,
    "start_time": "2021-08-08T10:29:16.831Z"
   },
   {
    "duration": 265,
    "start_time": "2021-08-08T10:29:23.037Z"
   },
   {
    "duration": 229,
    "start_time": "2021-08-08T10:31:49.691Z"
   },
   {
    "duration": 267,
    "start_time": "2021-08-08T10:31:55.633Z"
   },
   {
    "duration": 272,
    "start_time": "2021-08-08T10:32:00.131Z"
   },
   {
    "duration": 274,
    "start_time": "2021-08-08T10:32:05.121Z"
   },
   {
    "duration": 264,
    "start_time": "2021-08-08T10:32:11.235Z"
   },
   {
    "duration": 5,
    "start_time": "2021-08-08T10:45:21.431Z"
   },
   {
    "duration": 75,
    "start_time": "2021-08-08T10:45:21.438Z"
   },
   {
    "duration": 19,
    "start_time": "2021-08-08T10:45:21.516Z"
   },
   {
    "duration": 30,
    "start_time": "2021-08-08T10:45:21.538Z"
   },
   {
    "duration": 22,
    "start_time": "2021-08-08T10:45:21.571Z"
   },
   {
    "duration": 13,
    "start_time": "2021-08-08T10:45:21.596Z"
   },
   {
    "duration": 33,
    "start_time": "2021-08-08T10:45:21.611Z"
   },
   {
    "duration": 16,
    "start_time": "2021-08-08T10:45:21.661Z"
   },
   {
    "duration": 38,
    "start_time": "2021-08-08T10:45:21.681Z"
   },
   {
    "duration": 46,
    "start_time": "2021-08-08T10:45:21.721Z"
   },
   {
    "duration": 91,
    "start_time": "2021-08-08T10:45:21.770Z"
   },
   {
    "duration": 56,
    "start_time": "2021-08-08T10:45:21.864Z"
   },
   {
    "duration": 30,
    "start_time": "2021-08-08T10:45:21.923Z"
   },
   {
    "duration": 15,
    "start_time": "2021-08-08T10:45:21.956Z"
   },
   {
    "duration": 37,
    "start_time": "2021-08-08T10:45:21.974Z"
   },
   {
    "duration": 73,
    "start_time": "2021-08-08T10:45:22.014Z"
   },
   {
    "duration": 589,
    "start_time": "2021-08-08T10:45:22.091Z"
   },
   {
    "duration": 25,
    "start_time": "2021-08-08T10:45:22.684Z"
   },
   {
    "duration": 336,
    "start_time": "2021-08-08T10:45:22.712Z"
   },
   {
    "duration": 26,
    "start_time": "2021-08-08T11:53:05.154Z"
   },
   {
    "duration": 19,
    "start_time": "2021-08-08T11:54:26.737Z"
   },
   {
    "duration": 30,
    "start_time": "2021-08-08T11:54:29.026Z"
   },
   {
    "duration": 6,
    "start_time": "2021-08-08T11:54:32.903Z"
   },
   {
    "duration": 71,
    "start_time": "2021-08-08T11:54:32.912Z"
   },
   {
    "duration": 20,
    "start_time": "2021-08-08T11:54:32.987Z"
   },
   {
    "duration": 14,
    "start_time": "2021-08-08T11:54:33.011Z"
   },
   {
    "duration": 54,
    "start_time": "2021-08-08T11:54:33.028Z"
   },
   {
    "duration": 11,
    "start_time": "2021-08-08T11:54:33.085Z"
   },
   {
    "duration": 18,
    "start_time": "2021-08-08T11:54:33.099Z"
   },
   {
    "duration": 42,
    "start_time": "2021-08-08T11:54:33.120Z"
   },
   {
    "duration": 26,
    "start_time": "2021-08-08T11:54:33.167Z"
   },
   {
    "duration": 29,
    "start_time": "2021-08-08T11:54:33.197Z"
   },
   {
    "duration": 57,
    "start_time": "2021-08-08T11:54:33.229Z"
   },
   {
    "duration": 22,
    "start_time": "2021-08-08T11:54:33.289Z"
   },
   {
    "duration": 54,
    "start_time": "2021-08-08T11:54:33.313Z"
   },
   {
    "duration": 27,
    "start_time": "2021-08-08T11:54:33.370Z"
   },
   {
    "duration": 12,
    "start_time": "2021-08-08T11:54:33.400Z"
   },
   {
    "duration": 7,
    "start_time": "2021-08-08T11:54:33.415Z"
   },
   {
    "duration": 42,
    "start_time": "2021-08-08T11:54:33.425Z"
   },
   {
    "duration": 396,
    "start_time": "2021-08-08T11:54:33.470Z"
   },
   {
    "duration": 17,
    "start_time": "2021-08-08T11:54:33.868Z"
   },
   {
    "duration": 237,
    "start_time": "2021-08-08T11:54:33.888Z"
   },
   {
    "duration": 25,
    "start_time": "2021-08-08T11:57:13.224Z"
   },
   {
    "duration": 23,
    "start_time": "2021-08-08T11:57:27.855Z"
   },
   {
    "duration": 27,
    "start_time": "2021-08-08T11:57:51.850Z"
   },
   {
    "duration": 395,
    "start_time": "2021-08-08T11:58:54.669Z"
   },
   {
    "duration": 125,
    "start_time": "2021-08-08T11:59:39.082Z"
   },
   {
    "duration": 105,
    "start_time": "2021-08-08T12:00:22.033Z"
   },
   {
    "duration": 4,
    "start_time": "2021-08-08T12:02:39.418Z"
   },
   {
    "duration": 60,
    "start_time": "2021-08-08T12:02:39.425Z"
   },
   {
    "duration": 19,
    "start_time": "2021-08-08T12:02:39.489Z"
   },
   {
    "duration": 13,
    "start_time": "2021-08-08T12:02:39.512Z"
   },
   {
    "duration": 50,
    "start_time": "2021-08-08T12:02:39.527Z"
   },
   {
    "duration": 9,
    "start_time": "2021-08-08T12:02:39.580Z"
   },
   {
    "duration": 17,
    "start_time": "2021-08-08T12:02:39.592Z"
   },
   {
    "duration": 16,
    "start_time": "2021-08-08T12:02:39.612Z"
   },
   {
    "duration": 52,
    "start_time": "2021-08-08T12:02:39.632Z"
   },
   {
    "duration": 32,
    "start_time": "2021-08-08T12:02:39.687Z"
   },
   {
    "duration": 53,
    "start_time": "2021-08-08T12:02:39.721Z"
   },
   {
    "duration": 20,
    "start_time": "2021-08-08T12:02:39.777Z"
   },
   {
    "duration": 20,
    "start_time": "2021-08-08T12:02:39.799Z"
   },
   {
    "duration": 47,
    "start_time": "2021-08-08T12:02:39.821Z"
   },
   {
    "duration": 8,
    "start_time": "2021-08-08T12:02:39.871Z"
   },
   {
    "duration": 5,
    "start_time": "2021-08-08T12:02:39.882Z"
   },
   {
    "duration": 21,
    "start_time": "2021-08-08T12:02:39.890Z"
   },
   {
    "duration": 616,
    "start_time": "2021-08-08T12:02:39.914Z"
   },
   {
    "duration": 36,
    "start_time": "2021-08-08T12:02:40.533Z"
   },
   {
    "duration": 312,
    "start_time": "2021-08-08T12:02:40.572Z"
   },
   {
    "duration": 37,
    "start_time": "2021-08-08T12:02:40.887Z"
   },
   {
    "duration": 606,
    "start_time": "2021-08-08T12:02:40.927Z"
   },
   {
    "duration": 238,
    "start_time": "2021-08-09T13:28:01.638Z"
   },
   {
    "duration": 1360,
    "start_time": "2021-08-09T13:28:04.323Z"
   },
   {
    "duration": 48,
    "start_time": "2021-08-09T13:28:05.685Z"
   },
   {
    "duration": 15,
    "start_time": "2021-08-09T13:28:05.735Z"
   },
   {
    "duration": 11,
    "start_time": "2021-08-09T13:28:05.752Z"
   },
   {
    "duration": 23,
    "start_time": "2021-08-09T13:28:05.765Z"
   },
   {
    "duration": 6,
    "start_time": "2021-08-09T13:28:05.789Z"
   },
   {
    "duration": 9,
    "start_time": "2021-08-09T13:28:05.797Z"
   },
   {
    "duration": 10,
    "start_time": "2021-08-09T13:28:05.808Z"
   },
   {
    "duration": 18,
    "start_time": "2021-08-09T13:28:05.820Z"
   },
   {
    "duration": 51,
    "start_time": "2021-08-09T13:28:05.840Z"
   },
   {
    "duration": 18,
    "start_time": "2021-08-09T13:28:05.893Z"
   },
   {
    "duration": 12,
    "start_time": "2021-08-09T13:28:05.913Z"
   },
   {
    "duration": 13,
    "start_time": "2021-08-09T13:28:05.927Z"
   },
   {
    "duration": 11,
    "start_time": "2021-08-09T13:28:05.942Z"
   },
   {
    "duration": 35,
    "start_time": "2021-08-09T13:28:05.955Z"
   },
   {
    "duration": 4,
    "start_time": "2021-08-09T13:28:05.992Z"
   },
   {
    "duration": 10,
    "start_time": "2021-08-09T13:28:05.998Z"
   },
   {
    "duration": 255,
    "start_time": "2021-08-09T13:28:06.009Z"
   },
   {
    "duration": 19,
    "start_time": "2021-08-09T13:28:06.266Z"
   },
   {
    "duration": 212,
    "start_time": "2021-08-09T13:28:06.287Z"
   },
   {
    "duration": 17,
    "start_time": "2021-08-09T13:28:06.500Z"
   },
   {
    "duration": 257,
    "start_time": "2021-08-09T13:28:06.518Z"
   },
   {
    "duration": 4,
    "start_time": "2021-08-09T13:33:10.510Z"
   },
   {
    "duration": 20,
    "start_time": "2021-08-09T13:35:11.139Z"
   },
   {
    "duration": 23,
    "start_time": "2021-08-09T13:35:15.130Z"
   },
   {
    "duration": 11,
    "start_time": "2021-08-09T13:38:04.120Z"
   },
   {
    "duration": 4,
    "start_time": "2021-08-09T13:38:09.276Z"
   },
   {
    "duration": 50,
    "start_time": "2021-08-09T13:38:09.282Z"
   },
   {
    "duration": 12,
    "start_time": "2021-08-09T13:38:09.334Z"
   },
   {
    "duration": 9,
    "start_time": "2021-08-09T13:38:09.348Z"
   },
   {
    "duration": 32,
    "start_time": "2021-08-09T13:38:09.359Z"
   },
   {
    "duration": 7,
    "start_time": "2021-08-09T13:38:09.392Z"
   },
   {
    "duration": 8,
    "start_time": "2021-08-09T13:38:09.401Z"
   },
   {
    "duration": 9,
    "start_time": "2021-08-09T13:38:09.411Z"
   },
   {
    "duration": 18,
    "start_time": "2021-08-09T13:38:09.423Z"
   },
   {
    "duration": 54,
    "start_time": "2021-08-09T13:38:09.443Z"
   },
   {
    "duration": 22,
    "start_time": "2021-08-09T13:38:09.499Z"
   },
   {
    "duration": 14,
    "start_time": "2021-08-09T13:38:09.522Z"
   },
   {
    "duration": 14,
    "start_time": "2021-08-09T13:38:09.538Z"
   },
   {
    "duration": 37,
    "start_time": "2021-08-09T13:38:09.553Z"
   },
   {
    "duration": 6,
    "start_time": "2021-08-09T13:38:09.591Z"
   },
   {
    "duration": 4,
    "start_time": "2021-08-09T13:38:09.599Z"
   },
   {
    "duration": 9,
    "start_time": "2021-08-09T13:38:09.605Z"
   },
   {
    "duration": 266,
    "start_time": "2021-08-09T13:38:09.616Z"
   },
   {
    "duration": 12,
    "start_time": "2021-08-09T13:38:09.884Z"
   },
   {
    "duration": 208,
    "start_time": "2021-08-09T13:38:09.897Z"
   },
   {
    "duration": 15,
    "start_time": "2021-08-09T13:38:10.107Z"
   },
   {
    "duration": 7,
    "start_time": "2021-08-09T13:38:10.123Z"
   },
   {
    "duration": 255,
    "start_time": "2021-08-09T13:40:29.185Z"
   },
   {
    "duration": 12,
    "start_time": "2021-08-09T13:43:17.810Z"
   },
   {
    "duration": 12,
    "start_time": "2021-08-09T13:43:30.071Z"
   },
   {
    "duration": 11,
    "start_time": "2021-08-09T13:43:40.484Z"
   },
   {
    "duration": 3,
    "start_time": "2021-08-09T13:44:17.537Z"
   },
   {
    "duration": 51,
    "start_time": "2021-08-09T13:44:17.543Z"
   },
   {
    "duration": 14,
    "start_time": "2021-08-09T13:44:17.596Z"
   },
   {
    "duration": 9,
    "start_time": "2021-08-09T13:44:17.612Z"
   },
   {
    "duration": 17,
    "start_time": "2021-08-09T13:44:17.622Z"
   },
   {
    "duration": 6,
    "start_time": "2021-08-09T13:44:17.640Z"
   },
   {
    "duration": 40,
    "start_time": "2021-08-09T13:44:17.648Z"
   },
   {
    "duration": 9,
    "start_time": "2021-08-09T13:44:17.689Z"
   },
   {
    "duration": 19,
    "start_time": "2021-08-09T13:44:17.700Z"
   },
   {
    "duration": 22,
    "start_time": "2021-08-09T13:44:17.721Z"
   },
   {
    "duration": 58,
    "start_time": "2021-08-09T13:44:17.744Z"
   },
   {
    "duration": 14,
    "start_time": "2021-08-09T13:44:17.803Z"
   },
   {
    "duration": 15,
    "start_time": "2021-08-09T13:44:17.819Z"
   },
   {
    "duration": 50,
    "start_time": "2021-08-09T13:44:17.835Z"
   },
   {
    "duration": 8,
    "start_time": "2021-08-09T13:44:17.887Z"
   },
   {
    "duration": 4,
    "start_time": "2021-08-09T13:44:17.896Z"
   },
   {
    "duration": 10,
    "start_time": "2021-08-09T13:44:17.902Z"
   },
   {
    "duration": 276,
    "start_time": "2021-08-09T13:44:17.914Z"
   },
   {
    "duration": 12,
    "start_time": "2021-08-09T13:44:18.192Z"
   },
   {
    "duration": 318,
    "start_time": "2021-08-09T13:44:18.205Z"
   },
   {
    "duration": 17,
    "start_time": "2021-08-09T13:44:18.524Z"
   },
   {
    "duration": 4,
    "start_time": "2021-08-09T13:44:18.543Z"
   },
   {
    "duration": 186,
    "start_time": "2021-08-09T13:44:18.549Z"
   },
   {
    "duration": 6,
    "start_time": "2021-08-09T13:45:35.085Z"
   },
   {
    "duration": 10,
    "start_time": "2021-08-09T13:46:05.821Z"
   },
   {
    "duration": 4,
    "start_time": "2021-08-09T13:46:08.687Z"
   },
   {
    "duration": 54,
    "start_time": "2021-08-09T13:46:08.693Z"
   },
   {
    "duration": 12,
    "start_time": "2021-08-09T13:46:08.749Z"
   },
   {
    "duration": 22,
    "start_time": "2021-08-09T13:46:08.763Z"
   },
   {
    "duration": 17,
    "start_time": "2021-08-09T13:46:08.787Z"
   },
   {
    "duration": 8,
    "start_time": "2021-08-09T13:46:08.806Z"
   },
   {
    "duration": 9,
    "start_time": "2021-08-09T13:46:08.816Z"
   },
   {
    "duration": 10,
    "start_time": "2021-08-09T13:46:08.829Z"
   },
   {
    "duration": 59,
    "start_time": "2021-08-09T13:46:08.841Z"
   },
   {
    "duration": 24,
    "start_time": "2021-08-09T13:46:08.902Z"
   },
   {
    "duration": 20,
    "start_time": "2021-08-09T13:46:08.928Z"
   },
   {
    "duration": 38,
    "start_time": "2021-08-09T13:46:08.950Z"
   },
   {
    "duration": 14,
    "start_time": "2021-08-09T13:46:08.990Z"
   },
   {
    "duration": 12,
    "start_time": "2021-08-09T13:46:09.006Z"
   },
   {
    "duration": 6,
    "start_time": "2021-08-09T13:46:09.020Z"
   },
   {
    "duration": 4,
    "start_time": "2021-08-09T13:46:09.027Z"
   },
   {
    "duration": 10,
    "start_time": "2021-08-09T13:46:09.033Z"
   },
   {
    "duration": 268,
    "start_time": "2021-08-09T13:46:09.045Z"
   },
   {
    "duration": 11,
    "start_time": "2021-08-09T13:46:09.315Z"
   },
   {
    "duration": 191,
    "start_time": "2021-08-09T13:46:09.327Z"
   },
   {
    "duration": 10,
    "start_time": "2021-08-09T13:46:09.520Z"
   },
   {
    "duration": 20,
    "start_time": "2021-08-09T13:46:09.531Z"
   },
   {
    "duration": 5,
    "start_time": "2021-08-09T13:46:09.554Z"
   },
   {
    "duration": 3,
    "start_time": "2021-08-09T13:48:33.444Z"
   },
   {
    "duration": 65,
    "start_time": "2021-08-09T13:48:33.449Z"
   },
   {
    "duration": 12,
    "start_time": "2021-08-09T13:48:33.516Z"
   },
   {
    "duration": 24,
    "start_time": "2021-08-09T13:48:33.529Z"
   },
   {
    "duration": 30,
    "start_time": "2021-08-09T13:48:33.554Z"
   },
   {
    "duration": 15,
    "start_time": "2021-08-09T13:48:33.585Z"
   },
   {
    "duration": 20,
    "start_time": "2021-08-09T13:48:33.601Z"
   },
   {
    "duration": 27,
    "start_time": "2021-08-09T13:48:33.622Z"
   },
   {
    "duration": 27,
    "start_time": "2021-08-09T13:48:33.652Z"
   },
   {
    "duration": 31,
    "start_time": "2021-08-09T13:48:33.681Z"
   },
   {
    "duration": 27,
    "start_time": "2021-08-09T13:48:33.713Z"
   },
   {
    "duration": 14,
    "start_time": "2021-08-09T13:48:33.741Z"
   },
   {
    "duration": 31,
    "start_time": "2021-08-09T13:48:33.756Z"
   },
   {
    "duration": 22,
    "start_time": "2021-08-09T13:48:33.789Z"
   },
   {
    "duration": 9,
    "start_time": "2021-08-09T13:48:33.812Z"
   },
   {
    "duration": 24,
    "start_time": "2021-08-09T13:48:33.822Z"
   },
   {
    "duration": 30,
    "start_time": "2021-08-09T13:48:33.847Z"
   },
   {
    "duration": 233,
    "start_time": "2021-08-09T13:48:33.879Z"
   },
   {
    "duration": 11,
    "start_time": "2021-08-09T13:48:34.113Z"
   },
   {
    "duration": 186,
    "start_time": "2021-08-09T13:48:34.125Z"
   },
   {
    "duration": 10,
    "start_time": "2021-08-09T13:48:34.313Z"
   },
   {
    "duration": 25,
    "start_time": "2021-08-09T13:48:34.324Z"
   },
   {
    "duration": 3,
    "start_time": "2021-08-09T13:49:00.307Z"
   },
   {
    "duration": 52,
    "start_time": "2021-08-09T13:49:00.312Z"
   },
   {
    "duration": 12,
    "start_time": "2021-08-09T13:49:00.366Z"
   },
   {
    "duration": 15,
    "start_time": "2021-08-09T13:49:00.380Z"
   },
   {
    "duration": 23,
    "start_time": "2021-08-09T13:49:00.396Z"
   },
   {
    "duration": 6,
    "start_time": "2021-08-09T13:49:00.421Z"
   },
   {
    "duration": 18,
    "start_time": "2021-08-09T13:49:00.429Z"
   },
   {
    "duration": 18,
    "start_time": "2021-08-09T13:49:00.449Z"
   },
   {
    "duration": 19,
    "start_time": "2021-08-09T13:49:00.470Z"
   },
   {
    "duration": 22,
    "start_time": "2021-08-09T13:49:00.491Z"
   },
   {
    "duration": 31,
    "start_time": "2021-08-09T13:49:00.515Z"
   },
   {
    "duration": 29,
    "start_time": "2021-08-09T13:49:00.548Z"
   },
   {
    "duration": 15,
    "start_time": "2021-08-09T13:49:00.579Z"
   },
   {
    "duration": 13,
    "start_time": "2021-08-09T13:49:00.596Z"
   },
   {
    "duration": 17,
    "start_time": "2021-08-09T13:49:00.611Z"
   },
   {
    "duration": 4,
    "start_time": "2021-08-09T13:49:00.630Z"
   },
   {
    "duration": 16,
    "start_time": "2021-08-09T13:49:00.635Z"
   },
   {
    "duration": 244,
    "start_time": "2021-08-09T13:49:00.652Z"
   },
   {
    "duration": 12,
    "start_time": "2021-08-09T13:49:00.897Z"
   },
   {
    "duration": 200,
    "start_time": "2021-08-09T13:49:00.910Z"
   },
   {
    "duration": 10,
    "start_time": "2021-08-09T13:49:01.112Z"
   },
   {
    "duration": 9,
    "start_time": "2021-08-09T13:49:01.124Z"
   },
   {
    "duration": 178,
    "start_time": "2021-08-09T13:49:45.861Z"
   },
   {
    "duration": 6,
    "start_time": "2021-08-09T13:50:18.688Z"
   },
   {
    "duration": 9,
    "start_time": "2021-08-09T13:50:39.293Z"
   },
   {
    "duration": 7,
    "start_time": "2021-08-09T13:51:36.934Z"
   },
   {
    "duration": 13,
    "start_time": "2021-08-09T13:51:42.576Z"
   },
   {
    "duration": 11,
    "start_time": "2021-08-09T13:54:37.407Z"
   },
   {
    "duration": 190,
    "start_time": "2021-08-09T13:55:17.085Z"
   },
   {
    "duration": 13,
    "start_time": "2021-08-09T13:55:30.953Z"
   },
   {
    "duration": 11,
    "start_time": "2021-08-09T13:55:51.954Z"
   },
   {
    "duration": 14,
    "start_time": "2021-08-09T14:04:51.066Z"
   },
   {
    "duration": 3,
    "start_time": "2021-08-09T14:04:54.800Z"
   },
   {
    "duration": 55,
    "start_time": "2021-08-09T14:04:54.805Z"
   },
   {
    "duration": 13,
    "start_time": "2021-08-09T14:04:54.862Z"
   },
   {
    "duration": 10,
    "start_time": "2021-08-09T14:04:54.876Z"
   },
   {
    "duration": 17,
    "start_time": "2021-08-09T14:04:54.888Z"
   },
   {
    "duration": 6,
    "start_time": "2021-08-09T14:04:54.907Z"
   },
   {
    "duration": 9,
    "start_time": "2021-08-09T14:04:54.914Z"
   },
   {
    "duration": 10,
    "start_time": "2021-08-09T14:04:54.924Z"
   },
   {
    "duration": 19,
    "start_time": "2021-08-09T14:04:54.937Z"
   },
   {
    "duration": 22,
    "start_time": "2021-08-09T14:04:54.985Z"
   },
   {
    "duration": 24,
    "start_time": "2021-08-09T14:04:55.008Z"
   },
   {
    "duration": 15,
    "start_time": "2021-08-09T14:04:55.034Z"
   },
   {
    "duration": 36,
    "start_time": "2021-08-09T14:04:55.050Z"
   },
   {
    "duration": 13,
    "start_time": "2021-08-09T14:04:55.087Z"
   },
   {
    "duration": 6,
    "start_time": "2021-08-09T14:04:55.101Z"
   },
   {
    "duration": 4,
    "start_time": "2021-08-09T14:04:55.109Z"
   },
   {
    "duration": 12,
    "start_time": "2021-08-09T14:04:55.114Z"
   },
   {
    "duration": 259,
    "start_time": "2021-08-09T14:04:55.128Z"
   },
   {
    "duration": 11,
    "start_time": "2021-08-09T14:04:55.389Z"
   },
   {
    "duration": 204,
    "start_time": "2021-08-09T14:04:55.401Z"
   },
   {
    "duration": 9,
    "start_time": "2021-08-09T14:04:55.607Z"
   },
   {
    "duration": 7,
    "start_time": "2021-08-09T14:04:55.618Z"
   },
   {
    "duration": 9,
    "start_time": "2021-08-09T14:04:55.627Z"
   },
   {
    "duration": 12,
    "start_time": "2021-08-09T14:04:55.637Z"
   },
   {
    "duration": 42,
    "start_time": "2021-08-09T14:04:55.651Z"
   },
   {
    "duration": 3,
    "start_time": "2021-08-09T14:05:10.836Z"
   },
   {
    "duration": 49,
    "start_time": "2021-08-09T14:05:10.841Z"
   },
   {
    "duration": 12,
    "start_time": "2021-08-09T14:05:10.892Z"
   },
   {
    "duration": 9,
    "start_time": "2021-08-09T14:05:10.907Z"
   },
   {
    "duration": 15,
    "start_time": "2021-08-09T14:05:10.917Z"
   },
   {
    "duration": 7,
    "start_time": "2021-08-09T14:05:10.934Z"
   },
   {
    "duration": 45,
    "start_time": "2021-08-09T14:05:10.942Z"
   },
   {
    "duration": 9,
    "start_time": "2021-08-09T14:05:10.989Z"
   },
   {
    "duration": 19,
    "start_time": "2021-08-09T14:05:11.002Z"
   },
   {
    "duration": 22,
    "start_time": "2021-08-09T14:05:11.024Z"
   },
   {
    "duration": 48,
    "start_time": "2021-08-09T14:05:11.047Z"
   },
   {
    "duration": 16,
    "start_time": "2021-08-09T14:05:11.097Z"
   },
   {
    "duration": 16,
    "start_time": "2021-08-09T14:05:11.115Z"
   },
   {
    "duration": 14,
    "start_time": "2021-08-09T14:05:11.133Z"
   },
   {
    "duration": 39,
    "start_time": "2021-08-09T14:05:11.149Z"
   },
   {
    "duration": 5,
    "start_time": "2021-08-09T14:05:11.190Z"
   },
   {
    "duration": 10,
    "start_time": "2021-08-09T14:05:11.197Z"
   },
   {
    "duration": 251,
    "start_time": "2021-08-09T14:05:11.209Z"
   },
   {
    "duration": 23,
    "start_time": "2021-08-09T14:05:11.462Z"
   },
   {
    "duration": 203,
    "start_time": "2021-08-09T14:05:11.487Z"
   },
   {
    "duration": 11,
    "start_time": "2021-08-09T14:05:11.692Z"
   },
   {
    "duration": 8,
    "start_time": "2021-08-09T14:05:11.704Z"
   },
   {
    "duration": 8,
    "start_time": "2021-08-09T14:05:11.714Z"
   },
   {
    "duration": 13,
    "start_time": "2021-08-09T14:05:11.724Z"
   },
   {
    "duration": 4618,
    "start_time": "2021-08-09T14:05:11.739Z"
   },
   {
    "duration": 3,
    "start_time": "2021-08-09T14:05:21.728Z"
   },
   {
    "duration": 49,
    "start_time": "2021-08-09T14:05:21.733Z"
   },
   {
    "duration": 12,
    "start_time": "2021-08-09T14:05:21.784Z"
   },
   {
    "duration": 9,
    "start_time": "2021-08-09T14:05:21.798Z"
   },
   {
    "duration": 13,
    "start_time": "2021-08-09T14:05:21.809Z"
   },
   {
    "duration": 5,
    "start_time": "2021-08-09T14:05:21.824Z"
   },
   {
    "duration": 7,
    "start_time": "2021-08-09T14:05:21.831Z"
   },
   {
    "duration": 11,
    "start_time": "2021-08-09T14:05:21.839Z"
   },
   {
    "duration": 48,
    "start_time": "2021-08-09T14:05:21.853Z"
   },
   {
    "duration": 21,
    "start_time": "2021-08-09T14:05:21.904Z"
   },
   {
    "duration": 19,
    "start_time": "2021-08-09T14:05:21.927Z"
   },
   {
    "duration": 13,
    "start_time": "2021-08-09T14:05:21.947Z"
   },
   {
    "duration": 14,
    "start_time": "2021-08-09T14:05:21.984Z"
   },
   {
    "duration": 12,
    "start_time": "2021-08-09T14:05:21.999Z"
   },
   {
    "duration": 5,
    "start_time": "2021-08-09T14:05:22.013Z"
   },
   {
    "duration": 4,
    "start_time": "2021-08-09T14:05:22.020Z"
   },
   {
    "duration": 10,
    "start_time": "2021-08-09T14:05:22.026Z"
   },
   {
    "duration": 267,
    "start_time": "2021-08-09T14:05:22.037Z"
   },
   {
    "duration": 11,
    "start_time": "2021-08-09T14:05:22.306Z"
   },
   {
    "duration": 198,
    "start_time": "2021-08-09T14:05:22.319Z"
   },
   {
    "duration": 11,
    "start_time": "2021-08-09T14:05:22.518Z"
   },
   {
    "duration": 9,
    "start_time": "2021-08-09T14:05:22.531Z"
   },
   {
    "duration": 11,
    "start_time": "2021-08-09T14:05:22.541Z"
   },
   {
    "duration": 38,
    "start_time": "2021-08-09T14:05:22.553Z"
   },
   {
    "duration": 10,
    "start_time": "2021-08-09T14:05:22.593Z"
   },
   {
    "duration": 4,
    "start_time": "2021-08-09T14:05:45.403Z"
   },
   {
    "duration": 53,
    "start_time": "2021-08-09T14:05:45.408Z"
   },
   {
    "duration": 12,
    "start_time": "2021-08-09T14:05:45.463Z"
   },
   {
    "duration": 8,
    "start_time": "2021-08-09T14:05:45.477Z"
   },
   {
    "duration": 13,
    "start_time": "2021-08-09T14:05:45.487Z"
   },
   {
    "duration": 5,
    "start_time": "2021-08-09T14:05:45.502Z"
   },
   {
    "duration": 7,
    "start_time": "2021-08-09T14:05:45.509Z"
   },
   {
    "duration": 125,
    "start_time": "2021-08-09T14:05:45.518Z"
   },
   {
    "duration": 17,
    "start_time": "2021-08-09T14:05:45.645Z"
   },
   {
    "duration": 33,
    "start_time": "2021-08-09T14:05:45.664Z"
   },
   {
    "duration": 22,
    "start_time": "2021-08-09T14:05:45.699Z"
   },
   {
    "duration": 14,
    "start_time": "2021-08-09T14:05:45.722Z"
   },
   {
    "duration": 14,
    "start_time": "2021-08-09T14:05:45.737Z"
   },
   {
    "duration": 33,
    "start_time": "2021-08-09T14:05:45.752Z"
   },
   {
    "duration": 7,
    "start_time": "2021-08-09T14:05:45.786Z"
   },
   {
    "duration": 4,
    "start_time": "2021-08-09T14:05:45.794Z"
   },
   {
    "duration": 10,
    "start_time": "2021-08-09T14:05:45.800Z"
   },
   {
    "duration": 262,
    "start_time": "2021-08-09T14:05:45.812Z"
   },
   {
    "duration": 17,
    "start_time": "2021-08-09T14:05:46.075Z"
   },
   {
    "duration": 206,
    "start_time": "2021-08-09T14:05:46.093Z"
   },
   {
    "duration": 12,
    "start_time": "2021-08-09T14:05:46.300Z"
   },
   {
    "duration": 8,
    "start_time": "2021-08-09T14:05:46.313Z"
   },
   {
    "duration": 9,
    "start_time": "2021-08-09T14:05:46.322Z"
   },
   {
    "duration": 11,
    "start_time": "2021-08-09T14:05:46.333Z"
   },
   {
    "duration": 39,
    "start_time": "2021-08-09T14:05:46.346Z"
   },
   {
    "duration": 4,
    "start_time": "2021-08-09T14:05:54.188Z"
   },
   {
    "duration": 50,
    "start_time": "2021-08-09T14:05:54.194Z"
   },
   {
    "duration": 13,
    "start_time": "2021-08-09T14:05:54.247Z"
   },
   {
    "duration": 9,
    "start_time": "2021-08-09T14:05:54.262Z"
   },
   {
    "duration": 15,
    "start_time": "2021-08-09T14:05:54.284Z"
   },
   {
    "duration": 6,
    "start_time": "2021-08-09T14:05:54.300Z"
   },
   {
    "duration": 12,
    "start_time": "2021-08-09T14:05:54.307Z"
   },
   {
    "duration": 10,
    "start_time": "2021-08-09T14:05:54.320Z"
   },
   {
    "duration": 17,
    "start_time": "2021-08-09T14:05:54.333Z"
   },
   {
    "duration": 45,
    "start_time": "2021-08-09T14:05:54.352Z"
   },
   {
    "duration": 18,
    "start_time": "2021-08-09T14:05:54.399Z"
   },
   {
    "duration": 14,
    "start_time": "2021-08-09T14:05:54.418Z"
   },
   {
    "duration": 14,
    "start_time": "2021-08-09T14:05:54.433Z"
   },
   {
    "duration": 36,
    "start_time": "2021-08-09T14:05:54.449Z"
   },
   {
    "duration": 6,
    "start_time": "2021-08-09T14:05:54.486Z"
   },
   {
    "duration": 4,
    "start_time": "2021-08-09T14:05:54.494Z"
   },
   {
    "duration": 11,
    "start_time": "2021-08-09T14:05:54.500Z"
   },
   {
    "duration": 257,
    "start_time": "2021-08-09T14:05:54.513Z"
   },
   {
    "duration": 20,
    "start_time": "2021-08-09T14:05:54.771Z"
   },
   {
    "duration": 230,
    "start_time": "2021-08-09T14:05:54.793Z"
   },
   {
    "duration": 12,
    "start_time": "2021-08-09T14:05:55.025Z"
   },
   {
    "duration": 9,
    "start_time": "2021-08-09T14:05:55.039Z"
   },
   {
    "duration": 17,
    "start_time": "2021-08-09T14:05:55.050Z"
   },
   {
    "duration": 13,
    "start_time": "2021-08-09T14:05:55.085Z"
   },
   {
    "duration": 12,
    "start_time": "2021-08-09T14:05:55.099Z"
   },
   {
    "duration": 3,
    "start_time": "2021-08-09T14:07:10.064Z"
   },
   {
    "duration": 49,
    "start_time": "2021-08-09T14:07:10.069Z"
   },
   {
    "duration": 12,
    "start_time": "2021-08-09T14:07:10.120Z"
   },
   {
    "duration": 11,
    "start_time": "2021-08-09T14:07:10.133Z"
   },
   {
    "duration": 15,
    "start_time": "2021-08-09T14:07:10.145Z"
   },
   {
    "duration": 6,
    "start_time": "2021-08-09T14:07:10.185Z"
   },
   {
    "duration": 8,
    "start_time": "2021-08-09T14:07:10.193Z"
   },
   {
    "duration": 7,
    "start_time": "2021-08-09T14:07:10.204Z"
   },
   {
    "duration": 17,
    "start_time": "2021-08-09T14:07:10.213Z"
   },
   {
    "duration": 22,
    "start_time": "2021-08-09T14:07:10.232Z"
   },
   {
    "duration": 42,
    "start_time": "2021-08-09T14:07:10.255Z"
   },
   {
    "duration": 12,
    "start_time": "2021-08-09T14:07:10.299Z"
   },
   {
    "duration": 13,
    "start_time": "2021-08-09T14:07:10.313Z"
   },
   {
    "duration": 12,
    "start_time": "2021-08-09T14:07:10.327Z"
   },
   {
    "duration": 6,
    "start_time": "2021-08-09T14:07:10.340Z"
   },
   {
    "duration": 37,
    "start_time": "2021-08-09T14:07:10.348Z"
   },
   {
    "duration": 10,
    "start_time": "2021-08-09T14:07:10.387Z"
   },
   {
    "duration": 242,
    "start_time": "2021-08-09T14:07:10.399Z"
   },
   {
    "duration": 12,
    "start_time": "2021-08-09T14:07:10.643Z"
   },
   {
    "duration": 231,
    "start_time": "2021-08-09T14:07:10.656Z"
   },
   {
    "duration": 12,
    "start_time": "2021-08-09T14:07:10.888Z"
   },
   {
    "duration": 8,
    "start_time": "2021-08-09T14:07:10.901Z"
   },
   {
    "duration": 8,
    "start_time": "2021-08-09T14:07:10.912Z"
   },
   {
    "duration": 11,
    "start_time": "2021-08-09T14:07:10.922Z"
   },
   {
    "duration": 9,
    "start_time": "2021-08-09T14:07:10.935Z"
   },
   {
    "duration": 243,
    "start_time": "2021-08-09T14:55:21.345Z"
   },
   {
    "duration": 3,
    "start_time": "2021-08-09T14:55:39.068Z"
   },
   {
    "duration": 48,
    "start_time": "2021-08-09T14:55:39.073Z"
   },
   {
    "duration": 11,
    "start_time": "2021-08-09T14:55:39.123Z"
   },
   {
    "duration": 12,
    "start_time": "2021-08-09T14:55:39.135Z"
   },
   {
    "duration": 14,
    "start_time": "2021-08-09T14:55:39.148Z"
   },
   {
    "duration": 24,
    "start_time": "2021-08-09T14:55:39.163Z"
   },
   {
    "duration": 7,
    "start_time": "2021-08-09T14:55:39.189Z"
   },
   {
    "duration": 9,
    "start_time": "2021-08-09T14:55:39.197Z"
   },
   {
    "duration": 18,
    "start_time": "2021-08-09T14:55:39.208Z"
   },
   {
    "duration": 20,
    "start_time": "2021-08-09T14:55:39.228Z"
   },
   {
    "duration": 49,
    "start_time": "2021-08-09T14:55:39.250Z"
   },
   {
    "duration": 12,
    "start_time": "2021-08-09T14:55:39.300Z"
   },
   {
    "duration": 16,
    "start_time": "2021-08-09T14:55:39.314Z"
   },
   {
    "duration": 12,
    "start_time": "2021-08-09T14:55:39.332Z"
   },
   {
    "duration": 6,
    "start_time": "2021-08-09T14:55:39.345Z"
   },
   {
    "duration": 3,
    "start_time": "2021-08-09T14:55:39.353Z"
   },
   {
    "duration": 34,
    "start_time": "2021-08-09T14:55:39.357Z"
   },
   {
    "duration": 240,
    "start_time": "2021-08-09T14:55:39.393Z"
   },
   {
    "duration": 10,
    "start_time": "2021-08-09T14:55:39.634Z"
   },
   {
    "duration": 171,
    "start_time": "2021-08-09T14:55:39.646Z"
   },
   {
    "duration": 66,
    "start_time": "2021-08-09T14:55:39.819Z"
   },
   {
    "duration": 9,
    "start_time": "2021-08-09T14:55:39.886Z"
   },
   {
    "duration": 10,
    "start_time": "2021-08-09T14:55:39.896Z"
   },
   {
    "duration": 13,
    "start_time": "2021-08-09T14:55:39.907Z"
   },
   {
    "duration": 10,
    "start_time": "2021-08-09T14:55:39.921Z"
   },
   {
    "duration": 263,
    "start_time": "2021-08-09T14:55:39.933Z"
   },
   {
    "duration": 3,
    "start_time": "2021-08-09T14:57:31.425Z"
   },
   {
    "duration": 60,
    "start_time": "2021-08-09T14:57:31.430Z"
   },
   {
    "duration": 14,
    "start_time": "2021-08-09T14:57:31.493Z"
   },
   {
    "duration": 19,
    "start_time": "2021-08-09T14:57:31.509Z"
   },
   {
    "duration": 16,
    "start_time": "2021-08-09T14:57:31.530Z"
   },
   {
    "duration": 6,
    "start_time": "2021-08-09T14:57:31.548Z"
   },
   {
    "duration": 30,
    "start_time": "2021-08-09T14:57:31.556Z"
   },
   {
    "duration": 10,
    "start_time": "2021-08-09T14:57:31.588Z"
   },
   {
    "duration": 19,
    "start_time": "2021-08-09T14:57:31.602Z"
   },
   {
    "duration": 29,
    "start_time": "2021-08-09T14:57:31.624Z"
   },
   {
    "duration": 50,
    "start_time": "2021-08-09T14:57:31.655Z"
   },
   {
    "duration": 16,
    "start_time": "2021-08-09T14:57:31.707Z"
   },
   {
    "duration": 14,
    "start_time": "2021-08-09T14:57:31.725Z"
   },
   {
    "duration": 13,
    "start_time": "2021-08-09T14:57:31.741Z"
   },
   {
    "duration": 7,
    "start_time": "2021-08-09T14:57:31.785Z"
   },
   {
    "duration": 10,
    "start_time": "2021-08-09T14:57:31.793Z"
   },
   {
    "duration": 16,
    "start_time": "2021-08-09T14:57:31.805Z"
   },
   {
    "duration": 276,
    "start_time": "2021-08-09T14:57:31.823Z"
   },
   {
    "duration": 12,
    "start_time": "2021-08-09T14:57:32.101Z"
   },
   {
    "duration": 192,
    "start_time": "2021-08-09T14:57:32.115Z"
   },
   {
    "duration": 13,
    "start_time": "2021-08-09T14:57:32.310Z"
   },
   {
    "duration": 148,
    "start_time": "2021-08-09T14:57:32.325Z"
   },
   {
    "duration": 21,
    "start_time": "2021-08-09T14:57:32.475Z"
   },
   {
    "duration": 25,
    "start_time": "2021-08-09T14:57:32.498Z"
   },
   {
    "duration": 326,
    "start_time": "2021-08-09T14:57:32.525Z"
   },
   {
    "duration": 4,
    "start_time": "2021-08-09T14:57:48.499Z"
   },
   {
    "duration": 57,
    "start_time": "2021-08-09T14:57:48.504Z"
   },
   {
    "duration": 12,
    "start_time": "2021-08-09T14:57:48.563Z"
   },
   {
    "duration": 10,
    "start_time": "2021-08-09T14:57:48.577Z"
   },
   {
    "duration": 14,
    "start_time": "2021-08-09T14:57:48.588Z"
   },
   {
    "duration": 6,
    "start_time": "2021-08-09T14:57:48.604Z"
   },
   {
    "duration": 7,
    "start_time": "2021-08-09T14:57:48.611Z"
   },
   {
    "duration": 9,
    "start_time": "2021-08-09T14:57:48.620Z"
   },
   {
    "duration": 20,
    "start_time": "2021-08-09T14:57:48.632Z"
   },
   {
    "duration": 49,
    "start_time": "2021-08-09T14:57:48.655Z"
   },
   {
    "duration": 21,
    "start_time": "2021-08-09T14:57:48.706Z"
   },
   {
    "duration": 15,
    "start_time": "2021-08-09T14:57:48.729Z"
   },
   {
    "duration": 41,
    "start_time": "2021-08-09T14:57:48.745Z"
   },
   {
    "duration": 13,
    "start_time": "2021-08-09T14:57:48.787Z"
   },
   {
    "duration": 5,
    "start_time": "2021-08-09T14:57:48.802Z"
   },
   {
    "duration": 3,
    "start_time": "2021-08-09T14:57:48.809Z"
   },
   {
    "duration": 10,
    "start_time": "2021-08-09T14:57:48.814Z"
   },
   {
    "duration": 253,
    "start_time": "2021-08-09T14:57:48.826Z"
   },
   {
    "duration": 11,
    "start_time": "2021-08-09T14:57:49.081Z"
   },
   {
    "duration": 205,
    "start_time": "2021-08-09T14:57:49.094Z"
   },
   {
    "duration": 11,
    "start_time": "2021-08-09T14:57:49.301Z"
   },
   {
    "duration": 8,
    "start_time": "2021-08-09T14:57:49.313Z"
   },
   {
    "duration": 10,
    "start_time": "2021-08-09T14:57:49.323Z"
   },
   {
    "duration": 12,
    "start_time": "2021-08-09T14:57:49.335Z"
   },
   {
    "duration": 253,
    "start_time": "2021-08-09T14:57:49.348Z"
   },
   {
    "duration": 1356,
    "start_time": "2021-08-09T14:58:35.208Z"
   },
   {
    "duration": 47,
    "start_time": "2021-08-09T14:58:36.566Z"
   },
   {
    "duration": 15,
    "start_time": "2021-08-09T14:58:36.615Z"
   },
   {
    "duration": 12,
    "start_time": "2021-08-09T14:58:36.631Z"
   },
   {
    "duration": 15,
    "start_time": "2021-08-09T14:58:36.645Z"
   },
   {
    "duration": 24,
    "start_time": "2021-08-09T14:58:36.662Z"
   },
   {
    "duration": 7,
    "start_time": "2021-08-09T14:58:36.687Z"
   },
   {
    "duration": 8,
    "start_time": "2021-08-09T14:58:36.696Z"
   },
   {
    "duration": 17,
    "start_time": "2021-08-09T14:58:36.706Z"
   },
   {
    "duration": 20,
    "start_time": "2021-08-09T14:58:36.725Z"
   },
   {
    "duration": 45,
    "start_time": "2021-08-09T14:58:36.747Z"
   },
   {
    "duration": 14,
    "start_time": "2021-08-09T14:58:36.793Z"
   },
   {
    "duration": 14,
    "start_time": "2021-08-09T14:58:36.809Z"
   },
   {
    "duration": 12,
    "start_time": "2021-08-09T14:58:36.824Z"
   },
   {
    "duration": 9,
    "start_time": "2021-08-09T14:58:36.837Z"
   },
   {
    "duration": 5,
    "start_time": "2021-08-09T14:58:36.847Z"
   },
   {
    "duration": 37,
    "start_time": "2021-08-09T14:58:36.854Z"
   },
   {
    "duration": 237,
    "start_time": "2021-08-09T14:58:36.892Z"
   },
   {
    "duration": 11,
    "start_time": "2021-08-09T14:58:37.131Z"
   },
   {
    "duration": 175,
    "start_time": "2021-08-09T14:58:37.144Z"
   },
   {
    "duration": 71,
    "start_time": "2021-08-09T14:58:37.321Z"
   },
   {
    "duration": 9,
    "start_time": "2021-08-09T14:58:37.394Z"
   },
   {
    "duration": 8,
    "start_time": "2021-08-09T14:58:37.404Z"
   },
   {
    "duration": 10,
    "start_time": "2021-08-09T14:58:37.413Z"
   },
   {
    "duration": 257,
    "start_time": "2021-08-09T14:58:37.425Z"
   },
   {
    "duration": 4,
    "start_time": "2021-08-09T14:59:22.371Z"
   },
   {
    "duration": 49,
    "start_time": "2021-08-09T14:59:22.377Z"
   },
   {
    "duration": 11,
    "start_time": "2021-08-09T14:59:22.428Z"
   },
   {
    "duration": 9,
    "start_time": "2021-08-09T14:59:22.441Z"
   },
   {
    "duration": 14,
    "start_time": "2021-08-09T14:59:22.452Z"
   },
   {
    "duration": 18,
    "start_time": "2021-08-09T14:59:22.468Z"
   },
   {
    "duration": 7,
    "start_time": "2021-08-09T14:59:22.487Z"
   },
   {
    "duration": 9,
    "start_time": "2021-08-09T14:59:22.496Z"
   },
   {
    "duration": 18,
    "start_time": "2021-08-09T14:59:22.509Z"
   },
   {
    "duration": 55,
    "start_time": "2021-08-09T14:59:22.530Z"
   },
   {
    "duration": 21,
    "start_time": "2021-08-09T14:59:22.587Z"
   },
   {
    "duration": 15,
    "start_time": "2021-08-09T14:59:22.610Z"
   },
   {
    "duration": 15,
    "start_time": "2021-08-09T14:59:22.627Z"
   },
   {
    "duration": 42,
    "start_time": "2021-08-09T14:59:22.644Z"
   },
   {
    "duration": 8,
    "start_time": "2021-08-09T14:59:22.687Z"
   },
   {
    "duration": 6,
    "start_time": "2021-08-09T14:59:22.697Z"
   },
   {
    "duration": 14,
    "start_time": "2021-08-09T14:59:22.705Z"
   },
   {
    "duration": 263,
    "start_time": "2021-08-09T14:59:22.721Z"
   },
   {
    "duration": 14,
    "start_time": "2021-08-09T14:59:22.986Z"
   },
   {
    "duration": 208,
    "start_time": "2021-08-09T14:59:23.002Z"
   },
   {
    "duration": 13,
    "start_time": "2021-08-09T14:59:23.212Z"
   },
   {
    "duration": 10,
    "start_time": "2021-08-09T14:59:23.226Z"
   },
   {
    "duration": 8,
    "start_time": "2021-08-09T14:59:23.238Z"
   },
   {
    "duration": 38,
    "start_time": "2021-08-09T14:59:23.248Z"
   },
   {
    "duration": 254,
    "start_time": "2021-08-09T14:59:23.288Z"
   },
   {
    "duration": 317,
    "start_time": "2021-08-09T15:00:05.246Z"
   },
   {
    "duration": 306,
    "start_time": "2021-08-09T15:00:52.486Z"
   },
   {
    "duration": 3,
    "start_time": "2021-08-09T15:00:56.153Z"
   },
   {
    "duration": 63,
    "start_time": "2021-08-09T15:00:56.158Z"
   },
   {
    "duration": 12,
    "start_time": "2021-08-09T15:00:56.223Z"
   },
   {
    "duration": 20,
    "start_time": "2021-08-09T15:00:56.236Z"
   },
   {
    "duration": 16,
    "start_time": "2021-08-09T15:00:56.258Z"
   },
   {
    "duration": 15,
    "start_time": "2021-08-09T15:00:56.276Z"
   },
   {
    "duration": 16,
    "start_time": "2021-08-09T15:00:56.293Z"
   },
   {
    "duration": 16,
    "start_time": "2021-08-09T15:00:56.311Z"
   },
   {
    "duration": 29,
    "start_time": "2021-08-09T15:00:56.330Z"
   },
   {
    "duration": 22,
    "start_time": "2021-08-09T15:00:56.362Z"
   },
   {
    "duration": 28,
    "start_time": "2021-08-09T15:00:56.386Z"
   },
   {
    "duration": 16,
    "start_time": "2021-08-09T15:00:56.416Z"
   },
   {
    "duration": 15,
    "start_time": "2021-08-09T15:00:56.434Z"
   },
   {
    "duration": 14,
    "start_time": "2021-08-09T15:00:56.451Z"
   },
   {
    "duration": 23,
    "start_time": "2021-08-09T15:00:56.467Z"
   },
   {
    "duration": 8,
    "start_time": "2021-08-09T15:00:56.492Z"
   },
   {
    "duration": 20,
    "start_time": "2021-08-09T15:00:56.501Z"
   },
   {
    "duration": 236,
    "start_time": "2021-08-09T15:00:56.523Z"
   },
   {
    "duration": 25,
    "start_time": "2021-08-09T15:00:56.761Z"
   },
   {
    "duration": 212,
    "start_time": "2021-08-09T15:00:56.788Z"
   },
   {
    "duration": 13,
    "start_time": "2021-08-09T15:00:57.002Z"
   },
   {
    "duration": 9,
    "start_time": "2021-08-09T15:00:57.017Z"
   },
   {
    "duration": 7,
    "start_time": "2021-08-09T15:00:57.028Z"
   },
   {
    "duration": 10,
    "start_time": "2021-08-09T15:00:57.037Z"
   },
   {
    "duration": 266,
    "start_time": "2021-08-09T15:00:57.049Z"
   },
   {
    "duration": 228,
    "start_time": "2021-08-09T15:01:10.352Z"
   },
   {
    "duration": 3,
    "start_time": "2021-08-09T15:03:11.615Z"
   },
   {
    "duration": 48,
    "start_time": "2021-08-09T15:03:11.620Z"
   },
   {
    "duration": 11,
    "start_time": "2021-08-09T15:03:11.671Z"
   },
   {
    "duration": 8,
    "start_time": "2021-08-09T15:03:11.684Z"
   },
   {
    "duration": 14,
    "start_time": "2021-08-09T15:03:11.694Z"
   },
   {
    "duration": 6,
    "start_time": "2021-08-09T15:03:11.710Z"
   },
   {
    "duration": 8,
    "start_time": "2021-08-09T15:03:11.718Z"
   },
   {
    "duration": 9,
    "start_time": "2021-08-09T15:03:11.728Z"
   },
   {
    "duration": 59,
    "start_time": "2021-08-09T15:03:11.738Z"
   },
   {
    "duration": 21,
    "start_time": "2021-08-09T15:03:11.799Z"
   },
   {
    "duration": 21,
    "start_time": "2021-08-09T15:03:11.821Z"
   },
   {
    "duration": 42,
    "start_time": "2021-08-09T15:03:11.843Z"
   },
   {
    "duration": 16,
    "start_time": "2021-08-09T15:03:11.887Z"
   },
   {
    "duration": 13,
    "start_time": "2021-08-09T15:03:11.904Z"
   },
   {
    "duration": 6,
    "start_time": "2021-08-09T15:03:11.918Z"
   },
   {
    "duration": 4,
    "start_time": "2021-08-09T15:03:11.926Z"
   },
   {
    "duration": 10,
    "start_time": "2021-08-09T15:03:11.931Z"
   },
   {
    "duration": 275,
    "start_time": "2021-08-09T15:03:11.943Z"
   },
   {
    "duration": 12,
    "start_time": "2021-08-09T15:03:12.221Z"
   },
   {
    "duration": 182,
    "start_time": "2021-08-09T15:03:12.234Z"
   },
   {
    "duration": 11,
    "start_time": "2021-08-09T15:03:12.418Z"
   },
   {
    "duration": 8,
    "start_time": "2021-08-09T15:03:12.430Z"
   },
   {
    "duration": 45,
    "start_time": "2021-08-09T15:03:12.440Z"
   },
   {
    "duration": 15,
    "start_time": "2021-08-09T15:03:12.486Z"
   },
   {
    "duration": 239,
    "start_time": "2021-08-09T15:03:12.503Z"
   },
   {
    "duration": 178,
    "start_time": "2021-08-09T15:03:42.686Z"
   },
   {
    "duration": 179,
    "start_time": "2021-08-09T15:03:52.871Z"
   },
   {
    "duration": 4,
    "start_time": "2021-08-09T15:04:26.777Z"
   },
   {
    "duration": 49,
    "start_time": "2021-08-09T15:04:26.783Z"
   },
   {
    "duration": 12,
    "start_time": "2021-08-09T15:04:26.834Z"
   },
   {
    "duration": 9,
    "start_time": "2021-08-09T15:04:26.848Z"
   },
   {
    "duration": 34,
    "start_time": "2021-08-09T15:04:26.859Z"
   },
   {
    "duration": 6,
    "start_time": "2021-08-09T15:04:26.895Z"
   },
   {
    "duration": 7,
    "start_time": "2021-08-09T15:04:26.903Z"
   },
   {
    "duration": 8,
    "start_time": "2021-08-09T15:04:26.912Z"
   },
   {
    "duration": 19,
    "start_time": "2021-08-09T15:04:26.922Z"
   },
   {
    "duration": 47,
    "start_time": "2021-08-09T15:04:26.942Z"
   },
   {
    "duration": 17,
    "start_time": "2021-08-09T15:04:26.991Z"
   },
   {
    "duration": 13,
    "start_time": "2021-08-09T15:04:27.010Z"
   },
   {
    "duration": 13,
    "start_time": "2021-08-09T15:04:27.024Z"
   },
   {
    "duration": 11,
    "start_time": "2021-08-09T15:04:27.039Z"
   },
   {
    "duration": 34,
    "start_time": "2021-08-09T15:04:27.052Z"
   },
   {
    "duration": 4,
    "start_time": "2021-08-09T15:04:27.087Z"
   },
   {
    "duration": 10,
    "start_time": "2021-08-09T15:04:27.092Z"
   },
   {
    "duration": 248,
    "start_time": "2021-08-09T15:04:27.104Z"
   },
   {
    "duration": 12,
    "start_time": "2021-08-09T15:04:27.353Z"
   },
   {
    "duration": 235,
    "start_time": "2021-08-09T15:04:27.367Z"
   },
   {
    "duration": 11,
    "start_time": "2021-08-09T15:04:27.603Z"
   },
   {
    "duration": 8,
    "start_time": "2021-08-09T15:04:27.616Z"
   },
   {
    "duration": 7,
    "start_time": "2021-08-09T15:04:27.627Z"
   },
   {
    "duration": 14,
    "start_time": "2021-08-09T15:04:27.636Z"
   },
   {
    "duration": 255,
    "start_time": "2021-08-09T15:04:27.652Z"
   },
   {
    "duration": 3,
    "start_time": "2021-08-09T15:04:34.990Z"
   },
   {
    "duration": 49,
    "start_time": "2021-08-09T15:04:34.995Z"
   },
   {
    "duration": 12,
    "start_time": "2021-08-09T15:04:35.046Z"
   },
   {
    "duration": 8,
    "start_time": "2021-08-09T15:04:35.060Z"
   },
   {
    "duration": 14,
    "start_time": "2021-08-09T15:04:35.084Z"
   },
   {
    "duration": 5,
    "start_time": "2021-08-09T15:04:35.099Z"
   },
   {
    "duration": 7,
    "start_time": "2021-08-09T15:04:35.106Z"
   },
   {
    "duration": 8,
    "start_time": "2021-08-09T15:04:35.115Z"
   },
   {
    "duration": 16,
    "start_time": "2021-08-09T15:04:35.125Z"
   },
   {
    "duration": 47,
    "start_time": "2021-08-09T15:04:35.143Z"
   },
   {
    "duration": 20,
    "start_time": "2021-08-09T15:04:35.191Z"
   },
   {
    "duration": 14,
    "start_time": "2021-08-09T15:04:35.212Z"
   },
   {
    "duration": 14,
    "start_time": "2021-08-09T15:04:35.228Z"
   },
   {
    "duration": 41,
    "start_time": "2021-08-09T15:04:35.244Z"
   },
   {
    "duration": 10,
    "start_time": "2021-08-09T15:04:35.286Z"
   },
   {
    "duration": 3,
    "start_time": "2021-08-09T15:04:35.298Z"
   },
   {
    "duration": 16,
    "start_time": "2021-08-09T15:04:35.303Z"
   },
   {
    "duration": 245,
    "start_time": "2021-08-09T15:04:35.320Z"
   },
   {
    "duration": 19,
    "start_time": "2021-08-09T15:04:35.566Z"
   },
   {
    "duration": 309,
    "start_time": "2021-08-09T15:04:35.587Z"
   },
   {
    "duration": 12,
    "start_time": "2021-08-09T15:04:35.899Z"
   },
   {
    "duration": 9,
    "start_time": "2021-08-09T15:04:35.913Z"
   },
   {
    "duration": 8,
    "start_time": "2021-08-09T15:04:35.924Z"
   },
   {
    "duration": 193,
    "start_time": "2021-08-09T15:04:35.933Z"
   },
   {
    "duration": 8,
    "start_time": "2021-08-09T15:04:36.120Z"
   },
   {
    "duration": 3,
    "start_time": "2021-08-09T15:05:01.033Z"
   },
   {
    "duration": 53,
    "start_time": "2021-08-09T15:05:01.039Z"
   },
   {
    "duration": 15,
    "start_time": "2021-08-09T15:05:01.094Z"
   },
   {
    "duration": 11,
    "start_time": "2021-08-09T15:05:01.111Z"
   },
   {
    "duration": 21,
    "start_time": "2021-08-09T15:05:01.124Z"
   },
   {
    "duration": 8,
    "start_time": "2021-08-09T15:05:01.147Z"
   },
   {
    "duration": 34,
    "start_time": "2021-08-09T15:05:01.157Z"
   },
   {
    "duration": 14,
    "start_time": "2021-08-09T15:05:01.193Z"
   },
   {
    "duration": 19,
    "start_time": "2021-08-09T15:05:01.210Z"
   },
   {
    "duration": 24,
    "start_time": "2021-08-09T15:05:01.231Z"
   },
   {
    "duration": 48,
    "start_time": "2021-08-09T15:05:01.257Z"
   },
   {
    "duration": 16,
    "start_time": "2021-08-09T15:05:01.307Z"
   },
   {
    "duration": 16,
    "start_time": "2021-08-09T15:05:01.325Z"
   },
   {
    "duration": 43,
    "start_time": "2021-08-09T15:05:01.342Z"
   },
   {
    "duration": 7,
    "start_time": "2021-08-09T15:05:01.387Z"
   },
   {
    "duration": 6,
    "start_time": "2021-08-09T15:05:01.395Z"
   },
   {
    "duration": 25,
    "start_time": "2021-08-09T15:05:01.402Z"
   },
   {
    "duration": 254,
    "start_time": "2021-08-09T15:05:01.429Z"
   },
   {
    "duration": 13,
    "start_time": "2021-08-09T15:05:01.685Z"
   },
   {
    "duration": 200,
    "start_time": "2021-08-09T15:05:01.699Z"
   },
   {
    "duration": 11,
    "start_time": "2021-08-09T15:05:01.901Z"
   },
   {
    "duration": 8,
    "start_time": "2021-08-09T15:05:01.914Z"
   },
   {
    "duration": 10,
    "start_time": "2021-08-09T15:05:01.924Z"
   },
   {
    "duration": 15,
    "start_time": "2021-08-09T15:05:01.935Z"
   },
   {
    "duration": 256,
    "start_time": "2021-08-09T15:05:01.951Z"
   },
   {
    "duration": 3,
    "start_time": "2021-08-09T15:06:14.333Z"
   },
   {
    "duration": 51,
    "start_time": "2021-08-09T15:06:14.338Z"
   },
   {
    "duration": 11,
    "start_time": "2021-08-09T15:06:14.391Z"
   },
   {
    "duration": 9,
    "start_time": "2021-08-09T15:06:14.404Z"
   },
   {
    "duration": 15,
    "start_time": "2021-08-09T15:06:14.415Z"
   },
   {
    "duration": 6,
    "start_time": "2021-08-09T15:06:14.431Z"
   },
   {
    "duration": 9,
    "start_time": "2021-08-09T15:06:14.439Z"
   },
   {
    "duration": 39,
    "start_time": "2021-08-09T15:06:14.450Z"
   },
   {
    "duration": 18,
    "start_time": "2021-08-09T15:06:14.493Z"
   },
   {
    "duration": 23,
    "start_time": "2021-08-09T15:06:14.513Z"
   },
   {
    "duration": 20,
    "start_time": "2021-08-09T15:06:14.537Z"
   },
   {
    "duration": 40,
    "start_time": "2021-08-09T15:06:14.559Z"
   },
   {
    "duration": 13,
    "start_time": "2021-08-09T15:06:14.601Z"
   },
   {
    "duration": 13,
    "start_time": "2021-08-09T15:06:14.616Z"
   },
   {
    "duration": 6,
    "start_time": "2021-08-09T15:06:14.630Z"
   },
   {
    "duration": 4,
    "start_time": "2021-08-09T15:06:14.637Z"
   },
   {
    "duration": 44,
    "start_time": "2021-08-09T15:06:14.642Z"
   },
   {
    "duration": 247,
    "start_time": "2021-08-09T15:06:14.687Z"
   },
   {
    "duration": 12,
    "start_time": "2021-08-09T15:06:14.935Z"
   },
   {
    "duration": 241,
    "start_time": "2021-08-09T15:06:14.949Z"
   },
   {
    "duration": 12,
    "start_time": "2021-08-09T15:06:15.191Z"
   },
   {
    "duration": 8,
    "start_time": "2021-08-09T15:06:15.204Z"
   },
   {
    "duration": 7,
    "start_time": "2021-08-09T15:06:15.214Z"
   },
   {
    "duration": 8,
    "start_time": "2021-08-09T15:06:15.223Z"
   },
   {
    "duration": 240,
    "start_time": "2021-08-09T15:06:15.233Z"
   },
   {
    "duration": 238,
    "start_time": "2021-08-09T15:06:30.779Z"
   },
   {
    "duration": 3,
    "start_time": "2021-08-09T15:06:42.029Z"
   },
   {
    "duration": 47,
    "start_time": "2021-08-09T15:06:42.034Z"
   },
   {
    "duration": 12,
    "start_time": "2021-08-09T15:06:42.084Z"
   },
   {
    "duration": 8,
    "start_time": "2021-08-09T15:06:42.098Z"
   },
   {
    "duration": 15,
    "start_time": "2021-08-09T15:06:42.108Z"
   },
   {
    "duration": 6,
    "start_time": "2021-08-09T15:06:42.124Z"
   },
   {
    "duration": 14,
    "start_time": "2021-08-09T15:06:42.132Z"
   },
   {
    "duration": 8,
    "start_time": "2021-08-09T15:06:42.148Z"
   },
   {
    "duration": 17,
    "start_time": "2021-08-09T15:06:42.186Z"
   },
   {
    "duration": 20,
    "start_time": "2021-08-09T15:06:42.205Z"
   },
   {
    "duration": 17,
    "start_time": "2021-08-09T15:06:42.227Z"
   },
   {
    "duration": 12,
    "start_time": "2021-08-09T15:06:42.246Z"
   },
   {
    "duration": 14,
    "start_time": "2021-08-09T15:06:42.285Z"
   },
   {
    "duration": 12,
    "start_time": "2021-08-09T15:06:42.300Z"
   },
   {
    "duration": 5,
    "start_time": "2021-08-09T15:06:42.314Z"
   },
   {
    "duration": 8,
    "start_time": "2021-08-09T15:06:42.321Z"
   },
   {
    "duration": 15,
    "start_time": "2021-08-09T15:06:42.331Z"
   },
   {
    "duration": 261,
    "start_time": "2021-08-09T15:06:42.347Z"
   },
   {
    "duration": 10,
    "start_time": "2021-08-09T15:06:42.610Z"
   },
   {
    "duration": 189,
    "start_time": "2021-08-09T15:06:42.622Z"
   },
   {
    "duration": 12,
    "start_time": "2021-08-09T15:06:42.813Z"
   },
   {
    "duration": 9,
    "start_time": "2021-08-09T15:06:42.826Z"
   },
   {
    "duration": 9,
    "start_time": "2021-08-09T15:06:42.837Z"
   },
   {
    "duration": 37,
    "start_time": "2021-08-09T15:06:42.847Z"
   },
   {
    "duration": 235,
    "start_time": "2021-08-09T15:06:42.886Z"
   },
   {
    "duration": 5,
    "start_time": "2021-08-09T15:06:51.265Z"
   },
   {
    "duration": 49,
    "start_time": "2021-08-09T15:06:51.272Z"
   },
   {
    "duration": 12,
    "start_time": "2021-08-09T15:06:51.323Z"
   },
   {
    "duration": 9,
    "start_time": "2021-08-09T15:06:51.336Z"
   },
   {
    "duration": 14,
    "start_time": "2021-08-09T15:06:51.347Z"
   },
   {
    "duration": 21,
    "start_time": "2021-08-09T15:06:51.363Z"
   },
   {
    "duration": 6,
    "start_time": "2021-08-09T15:06:51.386Z"
   },
   {
    "duration": 9,
    "start_time": "2021-08-09T15:06:51.393Z"
   },
   {
    "duration": 18,
    "start_time": "2021-08-09T15:06:51.405Z"
   },
   {
    "duration": 20,
    "start_time": "2021-08-09T15:06:51.425Z"
   },
   {
    "duration": 43,
    "start_time": "2021-08-09T15:06:51.447Z"
   },
   {
    "duration": 13,
    "start_time": "2021-08-09T15:06:51.491Z"
   },
   {
    "duration": 13,
    "start_time": "2021-08-09T15:06:51.506Z"
   },
   {
    "duration": 13,
    "start_time": "2021-08-09T15:06:51.520Z"
   },
   {
    "duration": 7,
    "start_time": "2021-08-09T15:06:51.535Z"
   },
   {
    "duration": 4,
    "start_time": "2021-08-09T15:06:51.544Z"
   },
   {
    "duration": 9,
    "start_time": "2021-08-09T15:06:51.585Z"
   },
   {
    "duration": 244,
    "start_time": "2021-08-09T15:06:51.596Z"
   },
   {
    "duration": 13,
    "start_time": "2021-08-09T15:06:51.842Z"
   },
   {
    "duration": 230,
    "start_time": "2021-08-09T15:06:51.857Z"
   },
   {
    "duration": 12,
    "start_time": "2021-08-09T15:06:52.089Z"
   },
   {
    "duration": 9,
    "start_time": "2021-08-09T15:06:52.103Z"
   },
   {
    "duration": 8,
    "start_time": "2021-08-09T15:06:52.113Z"
   },
   {
    "duration": 12,
    "start_time": "2021-08-09T15:06:52.123Z"
   },
   {
    "duration": 255,
    "start_time": "2021-08-09T15:06:52.136Z"
   },
   {
    "duration": 4,
    "start_time": "2021-08-09T15:07:41.178Z"
   },
   {
    "duration": 55,
    "start_time": "2021-08-09T15:07:41.184Z"
   },
   {
    "duration": 14,
    "start_time": "2021-08-09T15:07:41.241Z"
   },
   {
    "duration": 11,
    "start_time": "2021-08-09T15:07:41.257Z"
   },
   {
    "duration": 23,
    "start_time": "2021-08-09T15:07:41.270Z"
   },
   {
    "duration": 7,
    "start_time": "2021-08-09T15:07:41.295Z"
   },
   {
    "duration": 8,
    "start_time": "2021-08-09T15:07:41.303Z"
   },
   {
    "duration": 9,
    "start_time": "2021-08-09T15:07:41.313Z"
   },
   {
    "duration": 18,
    "start_time": "2021-08-09T15:07:41.325Z"
   },
   {
    "duration": 58,
    "start_time": "2021-08-09T15:07:41.345Z"
   },
   {
    "duration": 21,
    "start_time": "2021-08-09T15:07:41.405Z"
   },
   {
    "duration": 19,
    "start_time": "2021-08-09T15:07:41.428Z"
   },
   {
    "duration": 35,
    "start_time": "2021-08-09T15:07:41.449Z"
   },
   {
    "duration": 12,
    "start_time": "2021-08-09T15:07:41.486Z"
   },
   {
    "duration": 6,
    "start_time": "2021-08-09T15:07:41.500Z"
   },
   {
    "duration": 4,
    "start_time": "2021-08-09T15:07:41.507Z"
   },
   {
    "duration": 12,
    "start_time": "2021-08-09T15:07:41.513Z"
   },
   {
    "duration": 261,
    "start_time": "2021-08-09T15:07:41.526Z"
   },
   {
    "duration": 11,
    "start_time": "2021-08-09T15:07:41.789Z"
   },
   {
    "duration": 301,
    "start_time": "2021-08-09T15:07:41.802Z"
   },
   {
    "duration": 12,
    "start_time": "2021-08-09T15:07:42.104Z"
   },
   {
    "duration": 11,
    "start_time": "2021-08-09T15:07:42.117Z"
   },
   {
    "duration": 17,
    "start_time": "2021-08-09T15:07:42.130Z"
   },
   {
    "duration": 17,
    "start_time": "2021-08-09T15:07:42.149Z"
   },
   {
    "duration": 233,
    "start_time": "2021-08-09T15:07:42.167Z"
   },
   {
    "duration": 3,
    "start_time": "2021-08-09T15:08:09.592Z"
   },
   {
    "duration": 49,
    "start_time": "2021-08-09T15:08:09.597Z"
   },
   {
    "duration": 12,
    "start_time": "2021-08-09T15:08:09.648Z"
   },
   {
    "duration": 9,
    "start_time": "2021-08-09T15:08:09.662Z"
   },
   {
    "duration": 22,
    "start_time": "2021-08-09T15:08:09.673Z"
   },
   {
    "duration": 6,
    "start_time": "2021-08-09T15:08:09.697Z"
   },
   {
    "duration": 6,
    "start_time": "2021-08-09T15:08:09.705Z"
   },
   {
    "duration": 8,
    "start_time": "2021-08-09T15:08:09.713Z"
   },
   {
    "duration": 17,
    "start_time": "2021-08-09T15:08:09.724Z"
   },
   {
    "duration": 54,
    "start_time": "2021-08-09T15:08:09.743Z"
   },
   {
    "duration": 22,
    "start_time": "2021-08-09T15:08:09.798Z"
   },
   {
    "duration": 15,
    "start_time": "2021-08-09T15:08:09.821Z"
   },
   {
    "duration": 14,
    "start_time": "2021-08-09T15:08:09.837Z"
   },
   {
    "duration": 33,
    "start_time": "2021-08-09T15:08:09.852Z"
   },
   {
    "duration": 6,
    "start_time": "2021-08-09T15:08:09.886Z"
   },
   {
    "duration": 3,
    "start_time": "2021-08-09T15:08:09.894Z"
   },
   {
    "duration": 11,
    "start_time": "2021-08-09T15:08:09.899Z"
   },
   {
    "duration": 270,
    "start_time": "2021-08-09T15:08:09.911Z"
   },
   {
    "duration": 13,
    "start_time": "2021-08-09T15:08:10.185Z"
   },
   {
    "duration": 202,
    "start_time": "2021-08-09T15:08:10.200Z"
   },
   {
    "duration": 12,
    "start_time": "2021-08-09T15:08:10.404Z"
   },
   {
    "duration": 9,
    "start_time": "2021-08-09T15:08:10.418Z"
   },
   {
    "duration": 8,
    "start_time": "2021-08-09T15:08:10.428Z"
   },
   {
    "duration": 12,
    "start_time": "2021-08-09T15:08:10.437Z"
   },
   {
    "duration": 280,
    "start_time": "2021-08-09T15:08:10.451Z"
   },
   {
    "duration": 180,
    "start_time": "2021-08-09T15:09:14.531Z"
   },
   {
    "duration": 129,
    "start_time": "2021-08-09T15:09:30.078Z"
   },
   {
    "duration": 4,
    "start_time": "2021-08-09T15:23:45.619Z"
   },
   {
    "duration": 58,
    "start_time": "2021-08-09T15:23:45.625Z"
   },
   {
    "duration": 13,
    "start_time": "2021-08-09T15:23:45.685Z"
   },
   {
    "duration": 12,
    "start_time": "2021-08-09T15:23:45.700Z"
   },
   {
    "duration": 16,
    "start_time": "2021-08-09T15:23:45.714Z"
   },
   {
    "duration": 7,
    "start_time": "2021-08-09T15:23:45.732Z"
   },
   {
    "duration": 8,
    "start_time": "2021-08-09T15:23:45.741Z"
   },
   {
    "duration": 10,
    "start_time": "2021-08-09T15:23:45.785Z"
   },
   {
    "duration": 19,
    "start_time": "2021-08-09T15:23:45.799Z"
   },
   {
    "duration": 23,
    "start_time": "2021-08-09T15:23:45.821Z"
   },
   {
    "duration": 49,
    "start_time": "2021-08-09T15:23:45.846Z"
   },
   {
    "duration": 16,
    "start_time": "2021-08-09T15:23:45.897Z"
   },
   {
    "duration": 15,
    "start_time": "2021-08-09T15:23:45.914Z"
   },
   {
    "duration": 13,
    "start_time": "2021-08-09T15:23:45.931Z"
   },
   {
    "duration": 39,
    "start_time": "2021-08-09T15:23:45.946Z"
   },
   {
    "duration": 4,
    "start_time": "2021-08-09T15:23:45.987Z"
   },
   {
    "duration": 13,
    "start_time": "2021-08-09T15:23:45.993Z"
   },
   {
    "duration": 247,
    "start_time": "2021-08-09T15:23:46.007Z"
   },
   {
    "duration": 11,
    "start_time": "2021-08-09T15:23:46.256Z"
   },
   {
    "duration": 248,
    "start_time": "2021-08-09T15:23:46.269Z"
   },
   {
    "duration": 12,
    "start_time": "2021-08-09T15:23:46.519Z"
   },
   {
    "duration": 9,
    "start_time": "2021-08-09T15:23:46.532Z"
   },
   {
    "duration": 9,
    "start_time": "2021-08-09T15:23:46.542Z"
   },
   {
    "duration": 37,
    "start_time": "2021-08-09T15:23:46.552Z"
   },
   {
    "duration": 19,
    "start_time": "2021-08-09T15:36:33.297Z"
   },
   {
    "duration": 441,
    "start_time": "2021-08-09T15:38:49.683Z"
   },
   {
    "duration": 409,
    "start_time": "2021-08-09T15:39:02.943Z"
   },
   {
    "duration": 428,
    "start_time": "2021-08-09T15:40:09.047Z"
   },
   {
    "duration": 467,
    "start_time": "2021-08-09T15:40:24.768Z"
   },
   {
    "duration": 394,
    "start_time": "2021-08-09T15:41:07.235Z"
   },
   {
    "duration": 591,
    "start_time": "2021-08-09T15:42:29.879Z"
   },
   {
    "duration": 3,
    "start_time": "2021-08-09T15:42:36.861Z"
   },
   {
    "duration": 50,
    "start_time": "2021-08-09T15:42:36.866Z"
   },
   {
    "duration": 12,
    "start_time": "2021-08-09T15:42:36.918Z"
   },
   {
    "duration": 12,
    "start_time": "2021-08-09T15:42:36.932Z"
   },
   {
    "duration": 13,
    "start_time": "2021-08-09T15:42:36.946Z"
   },
   {
    "duration": 28,
    "start_time": "2021-08-09T15:42:36.960Z"
   },
   {
    "duration": 109,
    "start_time": "2021-08-09T15:42:36.989Z"
   },
   {
    "duration": 9,
    "start_time": "2021-08-09T15:42:37.100Z"
   },
   {
    "duration": 21,
    "start_time": "2021-08-09T15:42:37.110Z"
   },
   {
    "duration": 20,
    "start_time": "2021-08-09T15:42:37.133Z"
   },
   {
    "duration": 41,
    "start_time": "2021-08-09T15:42:37.155Z"
   },
   {
    "duration": 13,
    "start_time": "2021-08-09T15:42:37.197Z"
   },
   {
    "duration": 13,
    "start_time": "2021-08-09T15:42:37.212Z"
   },
   {
    "duration": 12,
    "start_time": "2021-08-09T15:42:37.226Z"
   },
   {
    "duration": 6,
    "start_time": "2021-08-09T15:42:37.239Z"
   },
   {
    "duration": 7,
    "start_time": "2021-08-09T15:42:37.246Z"
   },
   {
    "duration": 35,
    "start_time": "2021-08-09T15:42:37.255Z"
   },
   {
    "duration": 243,
    "start_time": "2021-08-09T15:42:37.291Z"
   },
   {
    "duration": 11,
    "start_time": "2021-08-09T15:42:37.536Z"
   },
   {
    "duration": 236,
    "start_time": "2021-08-09T15:42:37.549Z"
   },
   {
    "duration": 11,
    "start_time": "2021-08-09T15:42:37.787Z"
   },
   {
    "duration": 8,
    "start_time": "2021-08-09T15:42:37.800Z"
   },
   {
    "duration": 11,
    "start_time": "2021-08-09T15:42:37.811Z"
   },
   {
    "duration": 22,
    "start_time": "2021-08-09T15:42:37.823Z"
   },
   {
    "duration": 4,
    "start_time": "2021-08-09T15:42:38.730Z"
   },
   {
    "duration": 47,
    "start_time": "2021-08-09T15:42:38.736Z"
   },
   {
    "duration": 13,
    "start_time": "2021-08-09T15:42:38.785Z"
   },
   {
    "duration": 13,
    "start_time": "2021-08-09T15:42:38.800Z"
   },
   {
    "duration": 15,
    "start_time": "2021-08-09T15:42:38.815Z"
   },
   {
    "duration": 6,
    "start_time": "2021-08-09T15:42:38.832Z"
   },
   {
    "duration": 8,
    "start_time": "2021-08-09T15:42:38.839Z"
   },
   {
    "duration": 9,
    "start_time": "2021-08-09T15:42:38.848Z"
   },
   {
    "duration": 17,
    "start_time": "2021-08-09T15:42:38.886Z"
   },
   {
    "duration": 20,
    "start_time": "2021-08-09T15:42:38.905Z"
   },
   {
    "duration": 19,
    "start_time": "2021-08-09T15:42:38.927Z"
   },
   {
    "duration": 37,
    "start_time": "2021-08-09T15:42:38.948Z"
   },
   {
    "duration": 15,
    "start_time": "2021-08-09T15:42:38.986Z"
   },
   {
    "duration": 13,
    "start_time": "2021-08-09T15:42:39.002Z"
   },
   {
    "duration": 6,
    "start_time": "2021-08-09T15:42:39.017Z"
   },
   {
    "duration": 3,
    "start_time": "2021-08-09T15:42:39.025Z"
   },
   {
    "duration": 10,
    "start_time": "2021-08-09T15:42:39.030Z"
   },
   {
    "duration": 259,
    "start_time": "2021-08-09T15:42:39.042Z"
   },
   {
    "duration": 11,
    "start_time": "2021-08-09T15:42:39.302Z"
   },
   {
    "duration": 210,
    "start_time": "2021-08-09T15:42:39.315Z"
   },
   {
    "duration": 10,
    "start_time": "2021-08-09T15:42:39.527Z"
   },
   {
    "duration": 8,
    "start_time": "2021-08-09T15:42:39.538Z"
   },
   {
    "duration": 8,
    "start_time": "2021-08-09T15:42:39.548Z"
   },
   {
    "duration": 29,
    "start_time": "2021-08-09T15:42:39.557Z"
   },
   {
    "duration": 12,
    "start_time": "2021-08-09T15:42:39.588Z"
   },
   {
    "duration": 430,
    "start_time": "2021-08-09T15:42:39.602Z"
   },
   {
    "duration": 445,
    "start_time": "2021-08-09T15:46:33.798Z"
   },
   {
    "duration": 434,
    "start_time": "2021-08-09T15:46:52.656Z"
   },
   {
    "duration": 446,
    "start_time": "2021-08-09T15:47:09.991Z"
   },
   {
    "duration": 441,
    "start_time": "2021-08-09T15:47:18.906Z"
   },
   {
    "duration": 411,
    "start_time": "2021-08-09T15:47:33.719Z"
   },
   {
    "duration": 407,
    "start_time": "2021-08-09T15:47:38.637Z"
   },
   {
    "duration": 415,
    "start_time": "2021-08-09T15:47:53.014Z"
   },
   {
    "duration": 450,
    "start_time": "2021-08-09T15:47:59.796Z"
   },
   {
    "duration": 546,
    "start_time": "2021-08-09T15:49:01.495Z"
   },
   {
    "duration": 463,
    "start_time": "2021-08-09T15:49:20.694Z"
   },
   {
    "duration": 417,
    "start_time": "2021-08-09T15:49:27.423Z"
   },
   {
    "duration": 426,
    "start_time": "2021-08-09T15:49:37.316Z"
   },
   {
    "duration": 415,
    "start_time": "2021-08-09T15:49:45.223Z"
   },
   {
    "duration": 460,
    "start_time": "2021-08-09T15:49:51.668Z"
   },
   {
    "duration": 423,
    "start_time": "2021-08-09T15:50:17.213Z"
   },
   {
    "duration": 405,
    "start_time": "2021-08-09T15:50:20.631Z"
   },
   {
    "duration": 408,
    "start_time": "2021-08-09T15:50:50.926Z"
   },
   {
    "duration": 436,
    "start_time": "2021-08-09T15:51:01.909Z"
   },
   {
    "duration": 416,
    "start_time": "2021-08-09T15:51:10.829Z"
   },
   {
    "duration": 465,
    "start_time": "2021-08-09T15:51:22.297Z"
   },
   {
    "duration": 453,
    "start_time": "2021-08-09T15:51:29.962Z"
   },
   {
    "duration": 555,
    "start_time": "2021-08-09T15:51:57.592Z"
   },
   {
    "duration": 561,
    "start_time": "2021-08-09T15:52:41.183Z"
   },
   {
    "duration": 404,
    "start_time": "2021-08-09T15:52:47.134Z"
   },
   {
    "duration": 464,
    "start_time": "2021-08-09T15:53:54.170Z"
   },
   {
    "duration": 464,
    "start_time": "2021-08-09T15:54:05.773Z"
   },
   {
    "duration": 403,
    "start_time": "2021-08-09T15:54:17.438Z"
   },
   {
    "duration": 447,
    "start_time": "2021-08-09T15:54:24.799Z"
   },
   {
    "duration": 402,
    "start_time": "2021-08-09T15:54:31.630Z"
   },
   {
    "duration": 458,
    "start_time": "2021-08-09T15:54:37.269Z"
   },
   {
    "duration": 2034,
    "start_time": "2021-08-10T14:43:47.177Z"
   },
   {
    "duration": 57,
    "start_time": "2021-08-10T14:43:49.214Z"
   },
   {
    "duration": 26,
    "start_time": "2021-08-10T14:43:49.274Z"
   },
   {
    "duration": 16,
    "start_time": "2021-08-10T14:43:49.304Z"
   },
   {
    "duration": 46,
    "start_time": "2021-08-10T14:43:49.323Z"
   },
   {
    "duration": 9,
    "start_time": "2021-08-10T14:43:49.371Z"
   },
   {
    "duration": 13,
    "start_time": "2021-08-10T14:43:49.382Z"
   },
   {
    "duration": 11,
    "start_time": "2021-08-10T14:43:49.398Z"
   },
   {
    "duration": 65,
    "start_time": "2021-08-10T14:43:49.414Z"
   },
   {
    "duration": 31,
    "start_time": "2021-08-10T14:43:49.483Z"
   },
   {
    "duration": 51,
    "start_time": "2021-08-10T14:43:49.516Z"
   },
   {
    "duration": 20,
    "start_time": "2021-08-10T14:43:49.569Z"
   },
   {
    "duration": 23,
    "start_time": "2021-08-10T14:43:49.591Z"
   },
   {
    "duration": 47,
    "start_time": "2021-08-10T14:43:49.616Z"
   },
   {
    "duration": 10,
    "start_time": "2021-08-10T14:43:49.665Z"
   },
   {
    "duration": 6,
    "start_time": "2021-08-10T14:43:49.678Z"
   },
   {
    "duration": 12,
    "start_time": "2021-08-10T14:43:49.687Z"
   },
   {
    "duration": 429,
    "start_time": "2021-08-10T14:43:49.701Z"
   },
   {
    "duration": 30,
    "start_time": "2021-08-10T14:43:50.133Z"
   },
   {
    "duration": 250,
    "start_time": "2021-08-10T14:43:50.165Z"
   },
   {
    "duration": 16,
    "start_time": "2021-08-10T14:43:50.417Z"
   },
   {
    "duration": 33,
    "start_time": "2021-08-10T14:43:50.435Z"
   },
   {
    "duration": 19,
    "start_time": "2021-08-10T14:43:50.472Z"
   },
   {
    "duration": 21,
    "start_time": "2021-08-10T14:43:50.494Z"
   },
   {
    "duration": 44,
    "start_time": "2021-08-10T14:43:50.518Z"
   },
   {
    "duration": 628,
    "start_time": "2021-08-10T14:43:50.565Z"
   },
   {
    "duration": 466,
    "start_time": "2021-08-10T14:44:49.638Z"
   },
   {
    "duration": 445,
    "start_time": "2021-08-10T14:44:58.186Z"
   },
   {
    "duration": 166,
    "start_time": "2021-08-10T14:51:13.499Z"
   },
   {
    "duration": 135,
    "start_time": "2021-08-10T14:51:36.999Z"
   },
   {
    "duration": 133,
    "start_time": "2021-08-10T14:51:39.830Z"
   },
   {
    "duration": 113,
    "start_time": "2021-08-10T14:51:47.041Z"
   },
   {
    "duration": 770,
    "start_time": "2021-08-10T14:51:49.992Z"
   },
   {
    "duration": 646,
    "start_time": "2021-08-10T14:52:21.105Z"
   },
   {
    "duration": 499,
    "start_time": "2021-08-10T14:53:00.718Z"
   },
   {
    "duration": 476,
    "start_time": "2021-08-10T14:55:16.624Z"
   },
   {
    "duration": 488,
    "start_time": "2021-08-10T14:57:22.751Z"
   },
   {
    "duration": 431,
    "start_time": "2021-08-10T14:58:02.331Z"
   },
   {
    "duration": 429,
    "start_time": "2021-08-10T14:58:22.735Z"
   },
   {
    "duration": 366,
    "start_time": "2021-08-10T14:58:35.104Z"
   },
   {
    "duration": 457,
    "start_time": "2021-08-10T14:58:42.890Z"
   },
   {
    "duration": 445,
    "start_time": "2021-08-10T14:59:22.589Z"
   },
   {
    "duration": 466,
    "start_time": "2021-08-10T14:59:35.199Z"
   },
   {
    "duration": 460,
    "start_time": "2021-08-10T14:59:44.001Z"
   },
   {
    "duration": 5,
    "start_time": "2021-08-10T15:01:32.305Z"
   },
   {
    "duration": 6,
    "start_time": "2021-08-10T15:01:38.633Z"
   },
   {
    "duration": 507,
    "start_time": "2021-08-10T15:02:00.025Z"
   },
   {
    "duration": 385,
    "start_time": "2021-08-10T15:02:31.740Z"
   },
   {
    "duration": 374,
    "start_time": "2021-08-10T15:02:41.358Z"
   },
   {
    "duration": 988,
    "start_time": "2021-08-10T15:03:02.744Z"
   },
   {
    "duration": 119,
    "start_time": "2021-08-10T15:04:13.304Z"
   },
   {
    "duration": 105,
    "start_time": "2021-08-10T15:04:22.714Z"
   },
   {
    "duration": 823,
    "start_time": "2021-08-10T15:04:35.296Z"
   },
   {
    "duration": 473,
    "start_time": "2021-08-10T15:04:51.104Z"
   },
   {
    "duration": 856,
    "start_time": "2021-08-10T15:05:34.813Z"
   },
   {
    "duration": 423,
    "start_time": "2021-08-10T15:06:56.484Z"
   },
   {
    "duration": 413,
    "start_time": "2021-08-10T15:07:15.278Z"
   },
   {
    "duration": 395,
    "start_time": "2021-08-10T15:07:20.614Z"
   },
   {
    "duration": 407,
    "start_time": "2021-08-10T15:07:30.000Z"
   },
   {
    "duration": 782,
    "start_time": "2021-08-10T15:08:24.700Z"
   },
   {
    "duration": 378,
    "start_time": "2021-08-10T15:08:57.719Z"
   },
   {
    "duration": 490,
    "start_time": "2021-08-10T15:09:13.258Z"
   },
   {
    "duration": 618,
    "start_time": "2021-08-10T15:09:55.089Z"
   },
   {
    "duration": 524,
    "start_time": "2021-08-10T15:10:03.342Z"
   },
   {
    "duration": 506,
    "start_time": "2021-08-10T15:10:07.426Z"
   },
   {
    "duration": 497,
    "start_time": "2021-08-10T15:10:20.848Z"
   },
   {
    "duration": 501,
    "start_time": "2021-08-10T15:10:26.850Z"
   },
   {
    "duration": 525,
    "start_time": "2021-08-10T15:10:36.241Z"
   },
   {
    "duration": 498,
    "start_time": "2021-08-10T15:10:40.883Z"
   },
   {
    "duration": 521,
    "start_time": "2021-08-10T15:10:47.644Z"
   },
   {
    "duration": 508,
    "start_time": "2021-08-10T15:10:57.514Z"
   },
   {
    "duration": 5,
    "start_time": "2021-08-10T15:11:09.900Z"
   },
   {
    "duration": 57,
    "start_time": "2021-08-10T15:11:09.908Z"
   },
   {
    "duration": 18,
    "start_time": "2021-08-10T15:11:09.968Z"
   },
   {
    "duration": 17,
    "start_time": "2021-08-10T15:11:09.988Z"
   },
   {
    "duration": 21,
    "start_time": "2021-08-10T15:11:10.007Z"
   },
   {
    "duration": 40,
    "start_time": "2021-08-10T15:11:10.030Z"
   },
   {
    "duration": 15,
    "start_time": "2021-08-10T15:11:10.072Z"
   },
   {
    "duration": 14,
    "start_time": "2021-08-10T15:11:10.089Z"
   },
   {
    "duration": 75,
    "start_time": "2021-08-10T15:11:10.108Z"
   },
   {
    "duration": 51,
    "start_time": "2021-08-10T15:11:10.188Z"
   },
   {
    "duration": 54,
    "start_time": "2021-08-10T15:11:10.242Z"
   },
   {
    "duration": 30,
    "start_time": "2021-08-10T15:11:10.299Z"
   },
   {
    "duration": 51,
    "start_time": "2021-08-10T15:11:10.332Z"
   },
   {
    "duration": 24,
    "start_time": "2021-08-10T15:11:10.387Z"
   },
   {
    "duration": 13,
    "start_time": "2021-08-10T15:11:10.414Z"
   },
   {
    "duration": 36,
    "start_time": "2021-08-10T15:11:10.431Z"
   },
   {
    "duration": 29,
    "start_time": "2021-08-10T15:11:10.471Z"
   },
   {
    "duration": 559,
    "start_time": "2021-08-10T15:11:10.503Z"
   },
   {
    "duration": 19,
    "start_time": "2021-08-10T15:11:11.064Z"
   },
   {
    "duration": 312,
    "start_time": "2021-08-10T15:11:11.085Z"
   },
   {
    "duration": 17,
    "start_time": "2021-08-10T15:11:11.400Z"
   },
   {
    "duration": 12,
    "start_time": "2021-08-10T15:11:11.419Z"
   },
   {
    "duration": 38,
    "start_time": "2021-08-10T15:11:11.433Z"
   },
   {
    "duration": 20,
    "start_time": "2021-08-10T15:11:11.473Z"
   },
   {
    "duration": 20,
    "start_time": "2021-08-10T15:11:11.495Z"
   },
   {
    "duration": 660,
    "start_time": "2021-08-10T15:11:11.518Z"
   },
   {
    "duration": 651,
    "start_time": "2021-08-10T15:11:23.639Z"
   },
   {
    "duration": 508,
    "start_time": "2021-08-10T15:11:42.017Z"
   },
   {
    "duration": 502,
    "start_time": "2021-08-10T15:11:51.541Z"
   },
   {
    "duration": 479,
    "start_time": "2021-08-10T15:12:23.207Z"
   },
   {
    "duration": 506,
    "start_time": "2021-08-10T15:12:34.044Z"
   },
   {
    "duration": 491,
    "start_time": "2021-08-10T15:12:58.345Z"
   },
   {
    "duration": 492,
    "start_time": "2021-08-10T15:13:03.343Z"
   },
   {
    "duration": 713,
    "start_time": "2021-08-10T15:13:19.166Z"
   },
   {
    "duration": 506,
    "start_time": "2021-08-10T15:13:25.550Z"
   },
   {
    "duration": 483,
    "start_time": "2021-08-10T15:13:28.523Z"
   },
   {
    "duration": 507,
    "start_time": "2021-08-10T15:13:32.002Z"
   },
   {
    "duration": 634,
    "start_time": "2021-08-10T15:13:38.232Z"
   },
   {
    "duration": 607,
    "start_time": "2021-08-10T15:13:41.875Z"
   },
   {
    "duration": 509,
    "start_time": "2021-08-10T15:13:50.959Z"
   },
   {
    "duration": 764,
    "start_time": "2021-08-10T15:13:57.419Z"
   },
   {
    "duration": 521,
    "start_time": "2021-08-10T15:14:12.433Z"
   },
   {
    "duration": 489,
    "start_time": "2021-08-10T15:14:15.497Z"
   },
   {
    "duration": 502,
    "start_time": "2021-08-10T15:14:18.321Z"
   },
   {
    "duration": 519,
    "start_time": "2021-08-10T15:14:26.260Z"
   },
   {
    "duration": 5,
    "start_time": "2021-08-10T15:14:35.268Z"
   },
   {
    "duration": 66,
    "start_time": "2021-08-10T15:14:35.277Z"
   },
   {
    "duration": 36,
    "start_time": "2021-08-10T15:14:35.347Z"
   },
   {
    "duration": 20,
    "start_time": "2021-08-10T15:14:35.387Z"
   },
   {
    "duration": 54,
    "start_time": "2021-08-10T15:14:35.410Z"
   },
   {
    "duration": 10,
    "start_time": "2021-08-10T15:14:35.466Z"
   },
   {
    "duration": 16,
    "start_time": "2021-08-10T15:14:35.479Z"
   },
   {
    "duration": 24,
    "start_time": "2021-08-10T15:14:35.498Z"
   },
   {
    "duration": 45,
    "start_time": "2021-08-10T15:14:35.526Z"
   },
   {
    "duration": 35,
    "start_time": "2021-08-10T15:14:35.574Z"
   },
   {
    "duration": 53,
    "start_time": "2021-08-10T15:14:35.611Z"
   },
   {
    "duration": 21,
    "start_time": "2021-08-10T15:14:35.666Z"
   },
   {
    "duration": 21,
    "start_time": "2021-08-10T15:14:35.690Z"
   },
   {
    "duration": 52,
    "start_time": "2021-08-10T15:14:35.713Z"
   },
   {
    "duration": 8,
    "start_time": "2021-08-10T15:14:35.768Z"
   },
   {
    "duration": 6,
    "start_time": "2021-08-10T15:14:35.778Z"
   },
   {
    "duration": 15,
    "start_time": "2021-08-10T15:14:35.786Z"
   },
   {
    "duration": 536,
    "start_time": "2021-08-10T15:14:35.804Z"
   },
   {
    "duration": 29,
    "start_time": "2021-08-10T15:14:36.342Z"
   },
   {
    "duration": 249,
    "start_time": "2021-08-10T15:14:36.373Z"
   },
   {
    "duration": 37,
    "start_time": "2021-08-10T15:14:36.625Z"
   },
   {
    "duration": 18,
    "start_time": "2021-08-10T15:14:36.665Z"
   },
   {
    "duration": 20,
    "start_time": "2021-08-10T15:14:36.685Z"
   },
   {
    "duration": 31,
    "start_time": "2021-08-10T15:14:36.708Z"
   },
   {
    "duration": 36,
    "start_time": "2021-08-10T15:14:36.742Z"
   },
   {
    "duration": 693,
    "start_time": "2021-08-10T15:14:36.781Z"
   },
   {
    "duration": 697,
    "start_time": "2021-08-10T15:15:32.729Z"
   },
   {
    "duration": 661,
    "start_time": "2021-08-10T15:15:42.706Z"
   },
   {
    "duration": 539,
    "start_time": "2021-08-10T15:16:04.547Z"
   },
   {
    "duration": 530,
    "start_time": "2021-08-10T15:16:24.168Z"
   },
   {
    "duration": 5,
    "start_time": "2021-08-10T15:16:33.812Z"
   },
   {
    "duration": 63,
    "start_time": "2021-08-10T15:16:33.820Z"
   },
   {
    "duration": 19,
    "start_time": "2021-08-10T15:16:33.885Z"
   },
   {
    "duration": 18,
    "start_time": "2021-08-10T15:16:33.907Z"
   },
   {
    "duration": 42,
    "start_time": "2021-08-10T15:16:33.927Z"
   },
   {
    "duration": 8,
    "start_time": "2021-08-10T15:16:33.971Z"
   },
   {
    "duration": 16,
    "start_time": "2021-08-10T15:16:33.982Z"
   },
   {
    "duration": 13,
    "start_time": "2021-08-10T15:16:34.000Z"
   },
   {
    "duration": 62,
    "start_time": "2021-08-10T15:16:34.020Z"
   },
   {
    "duration": 34,
    "start_time": "2021-08-10T15:16:34.087Z"
   },
   {
    "duration": 51,
    "start_time": "2021-08-10T15:16:34.124Z"
   },
   {
    "duration": 21,
    "start_time": "2021-08-10T15:16:34.178Z"
   },
   {
    "duration": 20,
    "start_time": "2021-08-10T15:16:34.202Z"
   },
   {
    "duration": 52,
    "start_time": "2021-08-10T15:16:34.225Z"
   },
   {
    "duration": 11,
    "start_time": "2021-08-10T15:16:34.280Z"
   },
   {
    "duration": 6,
    "start_time": "2021-08-10T15:16:34.295Z"
   },
   {
    "duration": 18,
    "start_time": "2021-08-10T15:16:34.304Z"
   },
   {
    "duration": 930,
    "start_time": "2021-08-10T15:16:34.325Z"
   },
   {
    "duration": 19,
    "start_time": "2021-08-10T15:16:35.258Z"
   },
   {
    "duration": 244,
    "start_time": "2021-08-10T15:16:35.280Z"
   },
   {
    "duration": 34,
    "start_time": "2021-08-10T15:16:35.528Z"
   },
   {
    "duration": 14,
    "start_time": "2021-08-10T15:16:35.565Z"
   },
   {
    "duration": 16,
    "start_time": "2021-08-10T15:16:35.582Z"
   },
   {
    "duration": 24,
    "start_time": "2021-08-10T15:16:35.601Z"
   },
   {
    "duration": 42,
    "start_time": "2021-08-10T15:16:35.628Z"
   },
   {
    "duration": 631,
    "start_time": "2021-08-10T15:16:35.672Z"
   },
   {
    "duration": 1612,
    "start_time": "2021-08-10T15:20:47.812Z"
   },
   {
    "duration": 395,
    "start_time": "2021-08-10T15:21:43.413Z"
   },
   {
    "duration": 1094,
    "start_time": "2021-08-10T15:41:34.051Z"
   },
   {
    "duration": 927,
    "start_time": "2021-08-10T15:42:27.675Z"
   },
   {
    "duration": 632,
    "start_time": "2021-08-10T15:42:36.839Z"
   },
   {
    "duration": 1228,
    "start_time": "2021-08-10T15:43:19.929Z"
   },
   {
    "duration": 653,
    "start_time": "2021-08-10T15:44:10.030Z"
   },
   {
    "duration": 807,
    "start_time": "2021-08-10T15:44:54.384Z"
   },
   {
    "duration": 108,
    "start_time": "2021-08-10T15:45:12.296Z"
   },
   {
    "duration": 632,
    "start_time": "2021-08-10T15:45:29.175Z"
   },
   {
    "duration": 635,
    "start_time": "2021-08-10T15:45:50.912Z"
   },
   {
    "duration": 637,
    "start_time": "2021-08-10T15:45:55.629Z"
   },
   {
    "duration": 645,
    "start_time": "2021-08-10T15:46:03.539Z"
   },
   {
    "duration": 648,
    "start_time": "2021-08-10T15:49:45.040Z"
   },
   {
    "duration": 608,
    "start_time": "2021-08-10T15:49:50.042Z"
   },
   {
    "duration": 551,
    "start_time": "2021-08-10T15:49:56.611Z"
   },
   {
    "duration": 548,
    "start_time": "2021-08-10T15:50:05.544Z"
   },
   {
    "duration": 524,
    "start_time": "2021-08-10T15:50:28.303Z"
   },
   {
    "duration": 759,
    "start_time": "2021-08-10T17:32:44.323Z"
   },
   {
    "duration": 595,
    "start_time": "2021-08-10T17:36:40.619Z"
   },
   {
    "duration": 601,
    "start_time": "2021-08-10T17:36:53.137Z"
   },
   {
    "duration": 24,
    "start_time": "2021-08-10T17:37:39.821Z"
   },
   {
    "duration": 25,
    "start_time": "2021-08-10T17:38:12.515Z"
   },
   {
    "duration": 24,
    "start_time": "2021-08-10T17:38:30.941Z"
   },
   {
    "duration": 23,
    "start_time": "2021-08-10T17:40:21.868Z"
   },
   {
    "duration": 16,
    "start_time": "2021-08-10T17:41:03.961Z"
   },
   {
    "duration": 98,
    "start_time": "2021-08-10T17:42:38.242Z"
   },
   {
    "duration": 336,
    "start_time": "2021-08-10T17:42:40.842Z"
   },
   {
    "duration": 17,
    "start_time": "2021-08-10T17:43:08.814Z"
   },
   {
    "duration": 11,
    "start_time": "2021-08-10T17:47:21.809Z"
   },
   {
    "duration": 7,
    "start_time": "2021-08-10T17:48:04.240Z"
   },
   {
    "duration": 625,
    "start_time": "2021-08-10T17:48:37.240Z"
   },
   {
    "duration": 635,
    "start_time": "2021-08-10T17:54:44.799Z"
   },
   {
    "duration": 437,
    "start_time": "2021-08-10T17:55:03.232Z"
   },
   {
    "duration": 655,
    "start_time": "2021-08-10T17:55:08.790Z"
   },
   {
    "duration": 538,
    "start_time": "2021-08-10T17:55:16.676Z"
   },
   {
    "duration": 23,
    "start_time": "2021-08-10T17:55:55.171Z"
   },
   {
    "duration": 7,
    "start_time": "2021-08-10T17:56:30.206Z"
   },
   {
    "duration": 6,
    "start_time": "2021-08-10T17:57:45.961Z"
   },
   {
    "duration": 5,
    "start_time": "2021-08-10T17:57:49.033Z"
   },
   {
    "duration": 6,
    "start_time": "2021-08-10T17:57:53.379Z"
   },
   {
    "duration": 8,
    "start_time": "2021-08-10T17:57:56.183Z"
   },
   {
    "duration": 347,
    "start_time": "2021-08-10T17:58:20.352Z"
   },
   {
    "duration": 36,
    "start_time": "2021-08-10T17:58:26.624Z"
   },
   {
    "duration": 336,
    "start_time": "2021-08-10T18:00:02.874Z"
   },
   {
    "duration": 13,
    "start_time": "2021-08-10T18:00:12.478Z"
   },
   {
    "duration": 19,
    "start_time": "2021-08-10T18:00:18.995Z"
   },
   {
    "duration": 20,
    "start_time": "2021-08-10T18:00:53.175Z"
   },
   {
    "duration": 26,
    "start_time": "2021-08-10T18:00:57.209Z"
   },
   {
    "duration": 26,
    "start_time": "2021-08-10T18:01:15.001Z"
   },
   {
    "duration": 19,
    "start_time": "2021-08-10T18:01:55.967Z"
   },
   {
    "duration": 469,
    "start_time": "2021-08-10T18:03:17.511Z"
   },
   {
    "duration": 116,
    "start_time": "2021-08-10T18:04:48.693Z"
   },
   {
    "duration": 515,
    "start_time": "2021-08-10T18:05:00.793Z"
   },
   {
    "duration": 492,
    "start_time": "2021-08-10T18:05:09.500Z"
   },
   {
    "duration": 494,
    "start_time": "2021-08-10T18:05:16.042Z"
   },
   {
    "duration": 5,
    "start_time": "2021-08-10T18:07:38.261Z"
   },
   {
    "duration": 54,
    "start_time": "2021-08-10T18:07:38.269Z"
   },
   {
    "duration": 47,
    "start_time": "2021-08-10T18:07:38.326Z"
   },
   {
    "duration": 17,
    "start_time": "2021-08-10T18:07:38.376Z"
   },
   {
    "duration": 23,
    "start_time": "2021-08-10T18:07:38.396Z"
   },
   {
    "duration": 10,
    "start_time": "2021-08-10T18:07:38.421Z"
   },
   {
    "duration": 11,
    "start_time": "2021-08-10T18:07:38.463Z"
   },
   {
    "duration": 13,
    "start_time": "2021-08-10T18:07:38.476Z"
   },
   {
    "duration": 25,
    "start_time": "2021-08-10T18:07:38.492Z"
   },
   {
    "duration": 62,
    "start_time": "2021-08-10T18:07:38.520Z"
   },
   {
    "duration": 30,
    "start_time": "2021-08-10T18:07:38.584Z"
   },
   {
    "duration": 20,
    "start_time": "2021-08-10T18:07:38.616Z"
   },
   {
    "duration": 22,
    "start_time": "2021-08-10T18:07:38.662Z"
   },
   {
    "duration": 18,
    "start_time": "2021-08-10T18:07:38.686Z"
   },
   {
    "duration": 14,
    "start_time": "2021-08-10T18:07:38.707Z"
   },
   {
    "duration": 6,
    "start_time": "2021-08-10T18:07:38.723Z"
   },
   {
    "duration": 42,
    "start_time": "2021-08-10T18:07:38.731Z"
   },
   {
    "duration": 542,
    "start_time": "2021-08-10T18:07:38.776Z"
   },
   {
    "duration": 17,
    "start_time": "2021-08-10T18:07:39.321Z"
   },
   {
    "duration": 265,
    "start_time": "2021-08-10T18:07:39.340Z"
   },
   {
    "duration": 17,
    "start_time": "2021-08-10T18:07:39.607Z"
   },
   {
    "duration": 35,
    "start_time": "2021-08-10T18:07:39.626Z"
   },
   {
    "duration": 11,
    "start_time": "2021-08-10T18:07:39.664Z"
   },
   {
    "duration": 17,
    "start_time": "2021-08-10T18:07:39.678Z"
   },
   {
    "duration": 563,
    "start_time": "2021-08-10T18:07:39.698Z"
   },
   {
    "duration": 18,
    "start_time": "2021-08-10T18:07:40.264Z"
   },
   {
    "duration": 24,
    "start_time": "2021-08-10T18:07:40.289Z"
   },
   {
    "duration": 55,
    "start_time": "2021-08-10T18:07:40.316Z"
   },
   {
    "duration": 18,
    "start_time": "2021-08-10T18:07:40.373Z"
   },
   {
    "duration": 11,
    "start_time": "2021-08-10T18:07:40.394Z"
   },
   {
    "duration": 8,
    "start_time": "2021-08-10T18:07:40.407Z"
   },
   {
    "duration": 654,
    "start_time": "2021-08-10T18:07:40.417Z"
   },
   {
    "duration": 608,
    "start_time": "2021-08-10T18:07:41.073Z"
   },
   {
    "duration": 528,
    "start_time": "2021-08-10T18:07:41.683Z"
   },
   {
    "duration": 19,
    "start_time": "2021-08-10T18:07:42.213Z"
   },
   {
    "duration": 698,
    "start_time": "2021-08-10T18:07:42.234Z"
   },
   {
    "duration": 498,
    "start_time": "2021-08-10T18:10:59.379Z"
   },
   {
    "duration": 506,
    "start_time": "2021-08-10T18:11:42.460Z"
   },
   {
    "duration": 4,
    "start_time": "2021-08-10T18:12:14.707Z"
   },
   {
    "duration": 61,
    "start_time": "2021-08-10T18:12:14.715Z"
   },
   {
    "duration": 19,
    "start_time": "2021-08-10T18:12:14.780Z"
   },
   {
    "duration": 14,
    "start_time": "2021-08-10T18:12:14.802Z"
   },
   {
    "duration": 53,
    "start_time": "2021-08-10T18:12:14.819Z"
   },
   {
    "duration": 10,
    "start_time": "2021-08-10T18:12:14.874Z"
   },
   {
    "duration": 17,
    "start_time": "2021-08-10T18:12:14.886Z"
   },
   {
    "duration": 22,
    "start_time": "2021-08-10T18:12:14.905Z"
   },
   {
    "duration": 52,
    "start_time": "2021-08-10T18:12:14.931Z"
   },
   {
    "duration": 32,
    "start_time": "2021-08-10T18:12:14.986Z"
   },
   {
    "duration": 45,
    "start_time": "2021-08-10T18:12:15.020Z"
   },
   {
    "duration": 22,
    "start_time": "2021-08-10T18:12:15.067Z"
   },
   {
    "duration": 21,
    "start_time": "2021-08-10T18:12:15.092Z"
   },
   {
    "duration": 47,
    "start_time": "2021-08-10T18:12:15.116Z"
   },
   {
    "duration": 9,
    "start_time": "2021-08-10T18:12:15.165Z"
   },
   {
    "duration": 5,
    "start_time": "2021-08-10T18:12:15.176Z"
   },
   {
    "duration": 19,
    "start_time": "2021-08-10T18:12:15.184Z"
   },
   {
    "duration": 556,
    "start_time": "2021-08-10T18:12:15.206Z"
   },
   {
    "duration": 17,
    "start_time": "2021-08-10T18:12:15.764Z"
   },
   {
    "duration": 244,
    "start_time": "2021-08-10T18:12:15.783Z"
   },
   {
    "duration": 16,
    "start_time": "2021-08-10T18:12:16.029Z"
   },
   {
    "duration": 13,
    "start_time": "2021-08-10T18:12:16.061Z"
   },
   {
    "duration": 12,
    "start_time": "2021-08-10T18:12:16.076Z"
   },
   {
    "duration": 18,
    "start_time": "2021-08-10T18:12:16.090Z"
   },
   {
    "duration": 550,
    "start_time": "2021-08-10T18:12:16.111Z"
   },
   {
    "duration": 20,
    "start_time": "2021-08-10T18:12:16.664Z"
   },
   {
    "duration": 25,
    "start_time": "2021-08-10T18:12:16.689Z"
   },
   {
    "duration": 63,
    "start_time": "2021-08-10T18:12:16.717Z"
   },
   {
    "duration": 22,
    "start_time": "2021-08-10T18:12:16.782Z"
   },
   {
    "duration": 14,
    "start_time": "2021-08-10T18:12:16.807Z"
   },
   {
    "duration": 8,
    "start_time": "2021-08-10T18:12:16.823Z"
   },
   {
    "duration": 641,
    "start_time": "2021-08-10T18:12:16.862Z"
   },
   {
    "duration": 856,
    "start_time": "2021-08-10T18:12:17.505Z"
   },
   {
    "duration": 860,
    "start_time": "2021-08-10T18:12:18.364Z"
   },
   {
    "duration": 40,
    "start_time": "2021-08-10T18:12:19.228Z"
   },
   {
    "duration": 756,
    "start_time": "2021-08-10T18:12:19.271Z"
   },
   {
    "duration": 788,
    "start_time": "2021-08-10T18:14:31.940Z"
   },
   {
    "duration": 812,
    "start_time": "2021-08-10T18:15:11.750Z"
   },
   {
    "duration": 789,
    "start_time": "2021-08-10T18:15:20.907Z"
   },
   {
    "duration": 804,
    "start_time": "2021-08-10T18:15:27.862Z"
   },
   {
    "duration": 812,
    "start_time": "2021-08-10T18:15:49.606Z"
   },
   {
    "duration": 1041,
    "start_time": "2021-08-10T18:16:11.907Z"
   },
   {
    "duration": 534,
    "start_time": "2021-08-10T18:16:20.898Z"
   },
   {
    "duration": 525,
    "start_time": "2021-08-10T18:17:10.421Z"
   },
   {
    "duration": 1927,
    "start_time": "2021-08-11T13:06:06.208Z"
   },
   {
    "duration": 56,
    "start_time": "2021-08-11T13:06:08.137Z"
   },
   {
    "duration": 23,
    "start_time": "2021-08-11T13:06:08.195Z"
   },
   {
    "duration": 11,
    "start_time": "2021-08-11T13:06:08.221Z"
   },
   {
    "duration": 29,
    "start_time": "2021-08-11T13:06:08.234Z"
   },
   {
    "duration": 9,
    "start_time": "2021-08-11T13:06:08.265Z"
   },
   {
    "duration": 31,
    "start_time": "2021-08-11T13:06:08.276Z"
   },
   {
    "duration": 12,
    "start_time": "2021-08-11T13:06:08.311Z"
   },
   {
    "duration": 25,
    "start_time": "2021-08-11T13:06:08.326Z"
   },
   {
    "duration": 61,
    "start_time": "2021-08-11T13:06:08.353Z"
   },
   {
    "duration": 24,
    "start_time": "2021-08-11T13:06:08.416Z"
   },
   {
    "duration": 18,
    "start_time": "2021-08-11T13:06:08.443Z"
   },
   {
    "duration": 50,
    "start_time": "2021-08-11T13:06:08.464Z"
   },
   {
    "duration": 18,
    "start_time": "2021-08-11T13:06:08.516Z"
   },
   {
    "duration": 9,
    "start_time": "2021-08-11T13:06:08.536Z"
   },
   {
    "duration": 6,
    "start_time": "2021-08-11T13:06:08.547Z"
   },
   {
    "duration": 51,
    "start_time": "2021-08-11T13:06:08.555Z"
   },
   {
    "duration": 539,
    "start_time": "2021-08-11T13:06:08.609Z"
   },
   {
    "duration": 16,
    "start_time": "2021-08-11T13:06:09.150Z"
   },
   {
    "duration": 275,
    "start_time": "2021-08-11T13:06:09.168Z"
   },
   {
    "duration": 15,
    "start_time": "2021-08-11T13:06:09.445Z"
   },
   {
    "duration": 12,
    "start_time": "2021-08-11T13:06:09.462Z"
   },
   {
    "duration": 31,
    "start_time": "2021-08-11T13:06:09.478Z"
   },
   {
    "duration": 19,
    "start_time": "2021-08-11T13:06:09.512Z"
   },
   {
    "duration": 1056,
    "start_time": "2021-08-11T13:06:09.533Z"
   },
   {
    "duration": -16,
    "start_time": "2021-08-11T13:06:10.608Z"
   },
   {
    "duration": -10,
    "start_time": "2021-08-11T13:06:10.610Z"
   },
   {
    "duration": -10,
    "start_time": "2021-08-11T13:06:10.612Z"
   },
   {
    "duration": -10,
    "start_time": "2021-08-11T13:06:10.613Z"
   },
   {
    "duration": -10,
    "start_time": "2021-08-11T13:06:10.615Z"
   },
   {
    "duration": -10,
    "start_time": "2021-08-11T13:06:10.616Z"
   },
   {
    "duration": -10,
    "start_time": "2021-08-11T13:06:10.618Z"
   },
   {
    "duration": -10,
    "start_time": "2021-08-11T13:06:10.619Z"
   },
   {
    "duration": -9,
    "start_time": "2021-08-11T13:06:10.620Z"
   },
   {
    "duration": -9,
    "start_time": "2021-08-11T13:06:10.621Z"
   },
   {
    "duration": -8,
    "start_time": "2021-08-11T13:06:10.622Z"
   },
   {
    "duration": 10,
    "start_time": "2021-08-11T13:06:33.212Z"
   },
   {
    "duration": 16,
    "start_time": "2021-08-11T13:07:25.410Z"
   },
   {
    "duration": 5,
    "start_time": "2021-08-11T13:07:31.659Z"
   },
   {
    "duration": 67,
    "start_time": "2021-08-11T13:07:31.667Z"
   },
   {
    "duration": 19,
    "start_time": "2021-08-11T13:07:31.737Z"
   },
   {
    "duration": 23,
    "start_time": "2021-08-11T13:07:31.758Z"
   },
   {
    "duration": 37,
    "start_time": "2021-08-11T13:07:31.783Z"
   },
   {
    "duration": 9,
    "start_time": "2021-08-11T13:07:31.823Z"
   },
   {
    "duration": 19,
    "start_time": "2021-08-11T13:07:31.834Z"
   },
   {
    "duration": 64,
    "start_time": "2021-08-11T13:07:31.855Z"
   },
   {
    "duration": 54,
    "start_time": "2021-08-11T13:07:31.923Z"
   },
   {
    "duration": 30,
    "start_time": "2021-08-11T13:07:31.980Z"
   },
   {
    "duration": 29,
    "start_time": "2021-08-11T13:07:32.013Z"
   },
   {
    "duration": 20,
    "start_time": "2021-08-11T13:07:32.045Z"
   },
   {
    "duration": 50,
    "start_time": "2021-08-11T13:07:32.068Z"
   },
   {
    "duration": 17,
    "start_time": "2021-08-11T13:07:32.120Z"
   },
   {
    "duration": 9,
    "start_time": "2021-08-11T13:07:32.139Z"
   },
   {
    "duration": 5,
    "start_time": "2021-08-11T13:07:32.151Z"
   },
   {
    "duration": 52,
    "start_time": "2021-08-11T13:07:32.159Z"
   },
   {
    "duration": 531,
    "start_time": "2021-08-11T13:07:32.214Z"
   },
   {
    "duration": 17,
    "start_time": "2021-08-11T13:07:32.748Z"
   },
   {
    "duration": 278,
    "start_time": "2021-08-11T13:07:32.768Z"
   },
   {
    "duration": 15,
    "start_time": "2021-08-11T13:07:33.049Z"
   },
   {
    "duration": 36,
    "start_time": "2021-08-11T13:07:33.066Z"
   },
   {
    "duration": 15,
    "start_time": "2021-08-11T13:07:33.105Z"
   },
   {
    "duration": 18,
    "start_time": "2021-08-11T13:07:33.123Z"
   },
   {
    "duration": 6,
    "start_time": "2021-08-11T13:07:33.144Z"
   },
   {
    "duration": 926,
    "start_time": "2021-08-11T13:07:33.153Z"
   },
   {
    "duration": -72,
    "start_time": "2021-08-11T13:07:34.154Z"
   },
   {
    "duration": -73,
    "start_time": "2021-08-11T13:07:34.156Z"
   },
   {
    "duration": -78,
    "start_time": "2021-08-11T13:07:34.162Z"
   },
   {
    "duration": -78,
    "start_time": "2021-08-11T13:07:34.164Z"
   },
   {
    "duration": -78,
    "start_time": "2021-08-11T13:07:34.165Z"
   },
   {
    "duration": -79,
    "start_time": "2021-08-11T13:07:34.167Z"
   },
   {
    "duration": -79,
    "start_time": "2021-08-11T13:07:34.168Z"
   },
   {
    "duration": -79,
    "start_time": "2021-08-11T13:07:34.169Z"
   },
   {
    "duration": -70,
    "start_time": "2021-08-11T13:07:34.170Z"
   },
   {
    "duration": -70,
    "start_time": "2021-08-11T13:07:34.171Z"
   },
   {
    "duration": -70,
    "start_time": "2021-08-11T13:07:34.172Z"
   },
   {
    "duration": 816,
    "start_time": "2021-08-11T13:09:28.428Z"
   },
   {
    "duration": 859,
    "start_time": "2021-08-11T13:09:35.613Z"
   },
   {
    "duration": 833,
    "start_time": "2021-08-11T13:10:28.241Z"
   },
   {
    "duration": 830,
    "start_time": "2021-08-11T13:10:55.382Z"
   },
   {
    "duration": 830,
    "start_time": "2021-08-11T13:11:12.719Z"
   },
   {
    "duration": 888,
    "start_time": "2021-08-11T13:11:19.883Z"
   },
   {
    "duration": 4,
    "start_time": "2021-08-11T13:13:18.309Z"
   },
   {
    "duration": 63,
    "start_time": "2021-08-11T13:13:18.316Z"
   },
   {
    "duration": 18,
    "start_time": "2021-08-11T13:13:18.402Z"
   },
   {
    "duration": 22,
    "start_time": "2021-08-11T13:13:18.424Z"
   },
   {
    "duration": 21,
    "start_time": "2021-08-11T13:13:18.449Z"
   },
   {
    "duration": 33,
    "start_time": "2021-08-11T13:13:18.473Z"
   },
   {
    "duration": 10,
    "start_time": "2021-08-11T13:13:18.509Z"
   },
   {
    "duration": 15,
    "start_time": "2021-08-11T13:13:18.524Z"
   },
   {
    "duration": 59,
    "start_time": "2021-08-11T13:13:18.543Z"
   },
   {
    "duration": 31,
    "start_time": "2021-08-11T13:13:18.605Z"
   },
   {
    "duration": 27,
    "start_time": "2021-08-11T13:13:18.638Z"
   },
   {
    "duration": 46,
    "start_time": "2021-08-11T13:13:18.668Z"
   },
   {
    "duration": 21,
    "start_time": "2021-08-11T13:13:18.716Z"
   },
   {
    "duration": 19,
    "start_time": "2021-08-11T13:13:18.739Z"
   },
   {
    "duration": 45,
    "start_time": "2021-08-11T13:13:18.760Z"
   },
   {
    "duration": 6,
    "start_time": "2021-08-11T13:13:18.807Z"
   },
   {
    "duration": 16,
    "start_time": "2021-08-11T13:13:18.815Z"
   },
   {
    "duration": 556,
    "start_time": "2021-08-11T13:13:18.834Z"
   },
   {
    "duration": 17,
    "start_time": "2021-08-11T13:13:19.401Z"
   },
   {
    "duration": 254,
    "start_time": "2021-08-11T13:13:19.420Z"
   },
   {
    "duration": 29,
    "start_time": "2021-08-11T13:13:19.676Z"
   },
   {
    "duration": 13,
    "start_time": "2021-08-11T13:13:19.707Z"
   },
   {
    "duration": 11,
    "start_time": "2021-08-11T13:13:19.725Z"
   },
   {
    "duration": 19,
    "start_time": "2021-08-11T13:13:19.739Z"
   },
   {
    "duration": 42,
    "start_time": "2021-08-11T13:13:19.760Z"
   },
   {
    "duration": 20,
    "start_time": "2021-08-11T13:13:19.805Z"
   },
   {
    "duration": 31,
    "start_time": "2021-08-11T13:13:19.828Z"
   },
   {
    "duration": 47,
    "start_time": "2021-08-11T13:13:19.861Z"
   },
   {
    "duration": 17,
    "start_time": "2021-08-11T13:13:19.911Z"
   },
   {
    "duration": 12,
    "start_time": "2021-08-11T13:13:19.931Z"
   },
   {
    "duration": 6,
    "start_time": "2021-08-11T13:13:19.946Z"
   },
   {
    "duration": 695,
    "start_time": "2021-08-11T13:13:19.954Z"
   },
   {
    "duration": 657,
    "start_time": "2021-08-11T13:13:20.651Z"
   },
   {
    "duration": 560,
    "start_time": "2021-08-11T13:13:21.311Z"
   },
   {
    "duration": 26,
    "start_time": "2021-08-11T13:13:21.873Z"
   },
   {
    "duration": 827,
    "start_time": "2021-08-11T13:13:21.902Z"
   },
   {
    "duration": 3954,
    "start_time": "2021-08-11T13:19:49.844Z"
   },
   {
    "duration": 6,
    "start_time": "2021-08-11T13:20:22.074Z"
   },
   {
    "duration": 66,
    "start_time": "2021-08-11T13:20:22.084Z"
   },
   {
    "duration": 19,
    "start_time": "2021-08-11T13:20:22.153Z"
   },
   {
    "duration": 13,
    "start_time": "2021-08-11T13:20:22.200Z"
   },
   {
    "duration": 26,
    "start_time": "2021-08-11T13:20:22.215Z"
   },
   {
    "duration": 10,
    "start_time": "2021-08-11T13:20:22.243Z"
   },
   {
    "duration": 48,
    "start_time": "2021-08-11T13:20:22.255Z"
   },
   {
    "duration": 12,
    "start_time": "2021-08-11T13:20:22.305Z"
   },
   {
    "duration": 25,
    "start_time": "2021-08-11T13:20:22.320Z"
   },
   {
    "duration": 63,
    "start_time": "2021-08-11T13:20:22.348Z"
   },
   {
    "duration": 29,
    "start_time": "2021-08-11T13:20:22.413Z"
   },
   {
    "duration": 24,
    "start_time": "2021-08-11T13:20:22.445Z"
   },
   {
    "duration": 45,
    "start_time": "2021-08-11T13:20:22.471Z"
   },
   {
    "duration": 18,
    "start_time": "2021-08-11T13:20:22.518Z"
   },
   {
    "duration": 10,
    "start_time": "2021-08-11T13:20:22.539Z"
   },
   {
    "duration": 6,
    "start_time": "2021-08-11T13:20:22.552Z"
   },
   {
    "duration": 49,
    "start_time": "2021-08-11T13:20:22.561Z"
   },
   {
    "duration": 649,
    "start_time": "2021-08-11T13:20:22.613Z"
   },
   {
    "duration": 19,
    "start_time": "2021-08-11T13:20:23.266Z"
   },
   {
    "duration": 256,
    "start_time": "2021-08-11T13:20:23.302Z"
   },
   {
    "duration": 16,
    "start_time": "2021-08-11T13:20:23.560Z"
   },
   {
    "duration": 37,
    "start_time": "2021-08-11T13:20:23.578Z"
   },
   {
    "duration": 15,
    "start_time": "2021-08-11T13:20:23.618Z"
   },
   {
    "duration": 29,
    "start_time": "2021-08-11T13:20:23.636Z"
   },
   {
    "duration": 35,
    "start_time": "2021-08-11T13:20:23.668Z"
   },
   {
    "duration": 20,
    "start_time": "2021-08-11T13:20:23.706Z"
   },
   {
    "duration": 24,
    "start_time": "2021-08-11T13:20:23.731Z"
   },
   {
    "duration": 55,
    "start_time": "2021-08-11T13:20:23.758Z"
   },
   {
    "duration": 16,
    "start_time": "2021-08-11T13:20:23.816Z"
   },
   {
    "duration": 12,
    "start_time": "2021-08-11T13:20:23.834Z"
   },
   {
    "duration": 6,
    "start_time": "2021-08-11T13:20:23.848Z"
   },
   {
    "duration": 692,
    "start_time": "2021-08-11T13:20:23.857Z"
   },
   {
    "duration": 718,
    "start_time": "2021-08-11T13:20:24.552Z"
   },
   {
    "duration": 574,
    "start_time": "2021-08-11T13:20:25.273Z"
   },
   {
    "duration": 20,
    "start_time": "2021-08-11T13:20:25.849Z"
   },
   {
    "duration": 544,
    "start_time": "2021-08-11T13:20:25.871Z"
   },
   {
    "duration": 21,
    "start_time": "2021-08-11T13:20:26.418Z"
   },
   {
    "duration": 3886,
    "start_time": "2021-08-11T13:20:26.441Z"
   },
   {
    "duration": 18,
    "start_time": "2021-08-11T13:27:03.114Z"
   },
   {
    "duration": 21,
    "start_time": "2021-08-11T13:27:08.402Z"
   },
   {
    "duration": 21,
    "start_time": "2021-08-11T13:28:00.398Z"
   },
   {
    "duration": 552,
    "start_time": "2021-08-11T13:30:45.044Z"
   },
   {
    "duration": 628,
    "start_time": "2021-08-11T13:33:48.181Z"
   },
   {
    "duration": 731,
    "start_time": "2021-08-11T13:34:00.584Z"
   },
   {
    "duration": 130,
    "start_time": "2021-08-11T13:34:08.475Z"
   },
   {
    "duration": 189,
    "start_time": "2021-08-11T13:38:41.292Z"
   },
   {
    "duration": 22,
    "start_time": "2021-08-11T13:39:59.155Z"
   },
   {
    "duration": 294,
    "start_time": "2021-08-11T13:41:37.674Z"
   },
   {
    "duration": 20,
    "start_time": "2021-08-11T13:41:48.498Z"
   },
   {
    "duration": 37,
    "start_time": "2021-08-11T13:42:11.565Z"
   },
   {
    "duration": 5,
    "start_time": "2021-08-11T13:42:44.064Z"
   },
   {
    "duration": 4,
    "start_time": "2021-08-11T13:42:48.740Z"
   },
   {
    "duration": 69,
    "start_time": "2021-08-11T13:42:48.747Z"
   },
   {
    "duration": 19,
    "start_time": "2021-08-11T13:42:48.820Z"
   },
   {
    "duration": 22,
    "start_time": "2021-08-11T13:42:48.842Z"
   },
   {
    "duration": 44,
    "start_time": "2021-08-11T13:42:48.866Z"
   },
   {
    "duration": 9,
    "start_time": "2021-08-11T13:42:48.912Z"
   },
   {
    "duration": 24,
    "start_time": "2021-08-11T13:42:48.924Z"
   },
   {
    "duration": 11,
    "start_time": "2021-08-11T13:42:48.951Z"
   },
   {
    "duration": 48,
    "start_time": "2021-08-11T13:42:48.966Z"
   },
   {
    "duration": 30,
    "start_time": "2021-08-11T13:42:49.017Z"
   },
   {
    "duration": 33,
    "start_time": "2021-08-11T13:42:49.050Z"
   },
   {
    "duration": 22,
    "start_time": "2021-08-11T13:42:49.101Z"
   },
   {
    "duration": 19,
    "start_time": "2021-08-11T13:42:49.125Z"
   },
   {
    "duration": 17,
    "start_time": "2021-08-11T13:42:49.147Z"
   },
   {
    "duration": 41,
    "start_time": "2021-08-11T13:42:49.166Z"
   },
   {
    "duration": 25,
    "start_time": "2021-08-11T13:42:49.210Z"
   },
   {
    "duration": 24,
    "start_time": "2021-08-11T13:42:49.237Z"
   },
   {
    "duration": 538,
    "start_time": "2021-08-11T13:42:49.263Z"
   },
   {
    "duration": 17,
    "start_time": "2021-08-11T13:42:49.803Z"
   },
   {
    "duration": 255,
    "start_time": "2021-08-11T13:42:49.823Z"
   },
   {
    "duration": 33,
    "start_time": "2021-08-11T13:42:50.080Z"
   },
   {
    "duration": 26,
    "start_time": "2021-08-11T13:42:50.116Z"
   },
   {
    "duration": 12,
    "start_time": "2021-08-11T13:42:50.144Z"
   },
   {
    "duration": 17,
    "start_time": "2021-08-11T13:42:50.158Z"
   },
   {
    "duration": 25,
    "start_time": "2021-08-11T13:42:50.177Z"
   },
   {
    "duration": 20,
    "start_time": "2021-08-11T13:42:50.204Z"
   },
   {
    "duration": 26,
    "start_time": "2021-08-11T13:42:50.230Z"
   },
   {
    "duration": 56,
    "start_time": "2021-08-11T13:42:50.260Z"
   },
   {
    "duration": 17,
    "start_time": "2021-08-11T13:42:50.318Z"
   },
   {
    "duration": 11,
    "start_time": "2021-08-11T13:42:50.337Z"
   },
   {
    "duration": 6,
    "start_time": "2021-08-11T13:42:50.351Z"
   },
   {
    "duration": 653,
    "start_time": "2021-08-11T13:42:50.360Z"
   },
   {
    "duration": 614,
    "start_time": "2021-08-11T13:42:51.015Z"
   },
   {
    "duration": 563,
    "start_time": "2021-08-11T13:42:51.631Z"
   },
   {
    "duration": 19,
    "start_time": "2021-08-11T13:42:52.196Z"
   },
   {
    "duration": 518,
    "start_time": "2021-08-11T13:42:52.217Z"
   },
   {
    "duration": 3795,
    "start_time": "2021-08-11T13:42:52.738Z"
   },
   {
    "duration": 23,
    "start_time": "2021-08-11T13:42:56.536Z"
   },
   {
    "duration": 580,
    "start_time": "2021-08-11T13:42:56.561Z"
   },
   {
    "duration": 479,
    "start_time": "2021-08-11T13:42:57.143Z"
   },
   {
    "duration": 19,
    "start_time": "2021-08-11T13:42:57.626Z"
   },
   {
    "duration": 22,
    "start_time": "2021-08-11T13:43:52.666Z"
   },
   {
    "duration": 29,
    "start_time": "2021-08-11T13:43:56.769Z"
   },
   {
    "duration": 7311,
    "start_time": "2021-08-11T13:45:14.712Z"
   },
   {
    "duration": 26,
    "start_time": "2021-08-11T13:45:52.589Z"
   },
   {
    "duration": 19,
    "start_time": "2021-08-11T13:46:38.206Z"
   },
   {
    "duration": 30,
    "start_time": "2021-08-11T13:47:44.389Z"
   },
   {
    "duration": 34,
    "start_time": "2021-08-11T13:47:49.617Z"
   },
   {
    "duration": 312,
    "start_time": "2021-08-11T13:48:44.021Z"
   },
   {
    "duration": 36,
    "start_time": "2021-08-11T13:49:25.460Z"
   },
   {
    "duration": 5,
    "start_time": "2021-08-11T13:50:15.033Z"
   },
   {
    "duration": 62,
    "start_time": "2021-08-11T13:50:15.041Z"
   },
   {
    "duration": 19,
    "start_time": "2021-08-11T13:50:15.107Z"
   },
   {
    "duration": 14,
    "start_time": "2021-08-11T13:50:15.129Z"
   },
   {
    "duration": 56,
    "start_time": "2021-08-11T13:50:15.146Z"
   },
   {
    "duration": 9,
    "start_time": "2021-08-11T13:50:15.205Z"
   },
   {
    "duration": 11,
    "start_time": "2021-08-11T13:50:15.217Z"
   },
   {
    "duration": 12,
    "start_time": "2021-08-11T13:50:15.232Z"
   },
   {
    "duration": 61,
    "start_time": "2021-08-11T13:50:15.246Z"
   },
   {
    "duration": 32,
    "start_time": "2021-08-11T13:50:15.309Z"
   },
   {
    "duration": 33,
    "start_time": "2021-08-11T13:50:15.343Z"
   },
   {
    "duration": 41,
    "start_time": "2021-08-11T13:50:15.379Z"
   },
   {
    "duration": 21,
    "start_time": "2021-08-11T13:50:15.422Z"
   },
   {
    "duration": 27,
    "start_time": "2021-08-11T13:50:15.446Z"
   },
   {
    "duration": 12,
    "start_time": "2021-08-11T13:50:15.501Z"
   },
   {
    "duration": 7,
    "start_time": "2021-08-11T13:50:15.516Z"
   },
   {
    "duration": 19,
    "start_time": "2021-08-11T13:50:15.526Z"
   },
   {
    "duration": 781,
    "start_time": "2021-08-11T13:50:15.547Z"
   },
   {
    "duration": 22,
    "start_time": "2021-08-11T13:50:16.332Z"
   },
   {
    "duration": 329,
    "start_time": "2021-08-11T13:50:16.357Z"
   },
   {
    "duration": 19,
    "start_time": "2021-08-11T13:50:16.701Z"
   },
   {
    "duration": 15,
    "start_time": "2021-08-11T13:50:16.723Z"
   },
   {
    "duration": 11,
    "start_time": "2021-08-11T13:50:16.744Z"
   },
   {
    "duration": 51,
    "start_time": "2021-08-11T13:50:16.758Z"
   },
   {
    "duration": 6,
    "start_time": "2021-08-11T13:50:16.812Z"
   },
   {
    "duration": 28,
    "start_time": "2021-08-11T13:50:16.820Z"
   },
   {
    "duration": 25,
    "start_time": "2021-08-11T13:50:16.850Z"
   },
   {
    "duration": 27,
    "start_time": "2021-08-11T13:50:16.900Z"
   },
   {
    "duration": 18,
    "start_time": "2021-08-11T13:50:16.929Z"
   },
   {
    "duration": 12,
    "start_time": "2021-08-11T13:50:16.949Z"
   },
   {
    "duration": 38,
    "start_time": "2021-08-11T13:50:16.964Z"
   },
   {
    "duration": 748,
    "start_time": "2021-08-11T13:50:17.005Z"
   },
   {
    "duration": 764,
    "start_time": "2021-08-11T13:50:17.755Z"
   },
   {
    "duration": 583,
    "start_time": "2021-08-11T13:50:18.521Z"
   },
   {
    "duration": 19,
    "start_time": "2021-08-11T13:50:19.107Z"
   },
   {
    "duration": 710,
    "start_time": "2021-08-11T13:50:19.128Z"
   },
   {
    "duration": 5443,
    "start_time": "2021-08-11T13:50:19.840Z"
   },
   {
    "duration": 40,
    "start_time": "2021-08-11T13:50:25.285Z"
   },
   {
    "duration": 679,
    "start_time": "2021-08-11T13:50:25.328Z"
   },
   {
    "duration": 653,
    "start_time": "2021-08-11T13:50:26.010Z"
   },
   {
    "duration": 35,
    "start_time": "2021-08-11T13:50:26.666Z"
   },
   {
    "duration": 340,
    "start_time": "2021-08-11T13:55:00.905Z"
   },
   {
    "duration": 531,
    "start_time": "2021-08-11T14:05:19.724Z"
   },
   {
    "duration": 544,
    "start_time": "2021-08-11T14:05:28.719Z"
   },
   {
    "duration": 550,
    "start_time": "2021-08-11T14:05:53.818Z"
   },
   {
    "duration": 855,
    "start_time": "2021-08-11T14:06:22.706Z"
   },
   {
    "duration": 4,
    "start_time": "2021-08-11T14:06:26.255Z"
   },
   {
    "duration": 60,
    "start_time": "2021-08-11T14:06:26.264Z"
   },
   {
    "duration": 19,
    "start_time": "2021-08-11T14:06:26.327Z"
   },
   {
    "duration": 14,
    "start_time": "2021-08-11T14:06:26.350Z"
   },
   {
    "duration": 25,
    "start_time": "2021-08-11T14:06:26.402Z"
   },
   {
    "duration": 9,
    "start_time": "2021-08-11T14:06:26.429Z"
   },
   {
    "duration": 10,
    "start_time": "2021-08-11T14:06:26.441Z"
   },
   {
    "duration": 54,
    "start_time": "2021-08-11T14:06:26.454Z"
   },
   {
    "duration": 25,
    "start_time": "2021-08-11T14:06:26.512Z"
   },
   {
    "duration": 28,
    "start_time": "2021-08-11T14:06:26.540Z"
   },
   {
    "duration": 67,
    "start_time": "2021-08-11T14:06:26.571Z"
   },
   {
    "duration": 28,
    "start_time": "2021-08-11T14:06:26.641Z"
   },
   {
    "duration": 50,
    "start_time": "2021-08-11T14:06:26.672Z"
   },
   {
    "duration": 25,
    "start_time": "2021-08-11T14:06:26.725Z"
   },
   {
    "duration": 11,
    "start_time": "2021-08-11T14:06:26.753Z"
   },
   {
    "duration": 35,
    "start_time": "2021-08-11T14:06:26.767Z"
   },
   {
    "duration": 37,
    "start_time": "2021-08-11T14:06:26.805Z"
   },
   {
    "duration": 555,
    "start_time": "2021-08-11T14:06:26.844Z"
   },
   {
    "duration": 18,
    "start_time": "2021-08-11T14:06:27.401Z"
   },
   {
    "duration": 234,
    "start_time": "2021-08-11T14:06:27.422Z"
   },
   {
    "duration": 15,
    "start_time": "2021-08-11T14:06:27.658Z"
   },
   {
    "duration": 32,
    "start_time": "2021-08-11T14:06:27.676Z"
   },
   {
    "duration": 11,
    "start_time": "2021-08-11T14:06:27.711Z"
   },
   {
    "duration": 20,
    "start_time": "2021-08-11T14:06:27.724Z"
   },
   {
    "duration": 5,
    "start_time": "2021-08-11T14:06:27.746Z"
   },
   {
    "duration": 49,
    "start_time": "2021-08-11T14:06:27.753Z"
   },
   {
    "duration": 25,
    "start_time": "2021-08-11T14:06:27.807Z"
   },
   {
    "duration": 23,
    "start_time": "2021-08-11T14:06:27.835Z"
   },
   {
    "duration": 51,
    "start_time": "2021-08-11T14:06:27.860Z"
   },
   {
    "duration": 10,
    "start_time": "2021-08-11T14:06:27.914Z"
   },
   {
    "duration": 7,
    "start_time": "2021-08-11T14:06:27.927Z"
   },
   {
    "duration": 694,
    "start_time": "2021-08-11T14:06:27.937Z"
   },
   {
    "duration": 596,
    "start_time": "2021-08-11T14:06:28.633Z"
   },
   {
    "duration": 575,
    "start_time": "2021-08-11T14:06:29.231Z"
   },
   {
    "duration": 20,
    "start_time": "2021-08-11T14:06:29.809Z"
   },
   {
    "duration": 533,
    "start_time": "2021-08-11T14:06:29.831Z"
   },
   {
    "duration": 3679,
    "start_time": "2021-08-11T14:06:30.366Z"
   },
   {
    "duration": 22,
    "start_time": "2021-08-11T14:06:34.047Z"
   },
   {
    "duration": 674,
    "start_time": "2021-08-11T14:06:34.072Z"
   },
   {
    "duration": 536,
    "start_time": "2021-08-11T14:06:34.749Z"
   },
   {
    "duration": 37,
    "start_time": "2021-08-11T14:06:35.288Z"
   },
   {
    "duration": 527,
    "start_time": "2021-08-11T14:07:20.530Z"
   },
   {
    "duration": 6,
    "start_time": "2021-08-11T14:07:26.157Z"
   },
   {
    "duration": 68,
    "start_time": "2021-08-11T14:07:26.165Z"
   },
   {
    "duration": 27,
    "start_time": "2021-08-11T14:07:26.237Z"
   },
   {
    "duration": 39,
    "start_time": "2021-08-11T14:07:26.268Z"
   },
   {
    "duration": 24,
    "start_time": "2021-08-11T14:07:26.310Z"
   },
   {
    "duration": 10,
    "start_time": "2021-08-11T14:07:26.337Z"
   },
   {
    "duration": 10,
    "start_time": "2021-08-11T14:07:26.350Z"
   },
   {
    "duration": 50,
    "start_time": "2021-08-11T14:07:26.363Z"
   },
   {
    "duration": 27,
    "start_time": "2021-08-11T14:07:26.419Z"
   },
   {
    "duration": 78,
    "start_time": "2021-08-11T14:07:26.450Z"
   },
   {
    "duration": 38,
    "start_time": "2021-08-11T14:07:26.531Z"
   },
   {
    "duration": 52,
    "start_time": "2021-08-11T14:07:26.571Z"
   },
   {
    "duration": 27,
    "start_time": "2021-08-11T14:07:26.626Z"
   },
   {
    "duration": 50,
    "start_time": "2021-08-11T14:07:26.656Z"
   },
   {
    "duration": 12,
    "start_time": "2021-08-11T14:07:26.709Z"
   },
   {
    "duration": 9,
    "start_time": "2021-08-11T14:07:26.724Z"
   },
   {
    "duration": 18,
    "start_time": "2021-08-11T14:07:26.736Z"
   },
   {
    "duration": 623,
    "start_time": "2021-08-11T14:07:26.756Z"
   },
   {
    "duration": 29,
    "start_time": "2021-08-11T14:07:27.382Z"
   },
   {
    "duration": 240,
    "start_time": "2021-08-11T14:07:27.414Z"
   },
   {
    "duration": 15,
    "start_time": "2021-08-11T14:07:27.657Z"
   },
   {
    "duration": 35,
    "start_time": "2021-08-11T14:07:27.675Z"
   },
   {
    "duration": 12,
    "start_time": "2021-08-11T14:07:27.712Z"
   },
   {
    "duration": 26,
    "start_time": "2021-08-11T14:07:27.726Z"
   },
   {
    "duration": 9,
    "start_time": "2021-08-11T14:07:27.754Z"
   },
   {
    "duration": 47,
    "start_time": "2021-08-11T14:07:27.766Z"
   },
   {
    "duration": 25,
    "start_time": "2021-08-11T14:07:27.818Z"
   },
   {
    "duration": 22,
    "start_time": "2021-08-11T14:07:27.845Z"
   },
   {
    "duration": 18,
    "start_time": "2021-08-11T14:07:27.901Z"
   },
   {
    "duration": 17,
    "start_time": "2021-08-11T14:07:27.921Z"
   },
   {
    "duration": 6,
    "start_time": "2021-08-11T14:07:27.941Z"
   },
   {
    "duration": 674,
    "start_time": "2021-08-11T14:07:27.949Z"
   },
   {
    "duration": 597,
    "start_time": "2021-08-11T14:07:28.626Z"
   },
   {
    "duration": 695,
    "start_time": "2021-08-11T14:07:29.225Z"
   },
   {
    "duration": 24,
    "start_time": "2021-08-11T14:07:29.922Z"
   },
   {
    "duration": 734,
    "start_time": "2021-08-11T14:07:29.950Z"
   },
   {
    "duration": 5557,
    "start_time": "2021-08-11T14:07:30.687Z"
   },
   {
    "duration": 34,
    "start_time": "2021-08-11T14:07:36.246Z"
   },
   {
    "duration": 665,
    "start_time": "2021-08-11T14:07:36.299Z"
   },
   {
    "duration": 272,
    "start_time": "2021-08-11T14:07:36.967Z"
   },
   {
    "duration": 36,
    "start_time": "2021-08-11T14:07:37.242Z"
   },
   {
    "duration": 559,
    "start_time": "2021-08-11T14:08:32.945Z"
   },
   {
    "duration": 550,
    "start_time": "2021-08-11T14:08:50.632Z"
   },
   {
    "duration": 549,
    "start_time": "2021-08-11T14:09:05.466Z"
   },
   {
    "duration": 538,
    "start_time": "2021-08-11T14:09:27.443Z"
   },
   {
    "duration": 578,
    "start_time": "2021-08-11T14:09:36.722Z"
   },
   {
    "duration": 552,
    "start_time": "2021-08-11T14:10:02.151Z"
   },
   {
    "duration": 88,
    "start_time": "2021-08-11T14:10:28.234Z"
   },
   {
    "duration": 509,
    "start_time": "2021-08-11T14:10:34.618Z"
   },
   {
    "duration": 512,
    "start_time": "2021-08-11T14:10:38.943Z"
   },
   {
    "duration": 619,
    "start_time": "2021-08-11T14:10:42.613Z"
   },
   {
    "duration": 520,
    "start_time": "2021-08-11T14:12:06.579Z"
   },
   {
    "duration": 633,
    "start_time": "2021-08-11T14:12:12.989Z"
   },
   {
    "duration": 517,
    "start_time": "2021-08-11T14:12:19.011Z"
   },
   {
    "duration": 525,
    "start_time": "2021-08-11T14:14:32.775Z"
   },
   {
    "duration": 531,
    "start_time": "2021-08-11T14:14:48.509Z"
   },
   {
    "duration": 540,
    "start_time": "2021-08-11T14:15:16.227Z"
   },
   {
    "duration": 541,
    "start_time": "2021-08-11T14:15:55.480Z"
   },
   {
    "duration": 541,
    "start_time": "2021-08-11T14:16:03.755Z"
   },
   {
    "duration": 516,
    "start_time": "2021-08-11T14:16:39.802Z"
   },
   {
    "duration": 566,
    "start_time": "2021-08-11T14:16:57.203Z"
   },
   {
    "duration": 6,
    "start_time": "2021-08-11T14:17:09.913Z"
   },
   {
    "duration": 79,
    "start_time": "2021-08-11T14:17:09.922Z"
   },
   {
    "duration": 19,
    "start_time": "2021-08-11T14:17:10.005Z"
   },
   {
    "duration": 15,
    "start_time": "2021-08-11T14:17:10.027Z"
   },
   {
    "duration": 61,
    "start_time": "2021-08-11T14:17:10.045Z"
   },
   {
    "duration": 10,
    "start_time": "2021-08-11T14:17:10.109Z"
   },
   {
    "duration": 12,
    "start_time": "2021-08-11T14:17:10.122Z"
   },
   {
    "duration": 11,
    "start_time": "2021-08-11T14:17:10.137Z"
   },
   {
    "duration": 66,
    "start_time": "2021-08-11T14:17:10.153Z"
   },
   {
    "duration": 30,
    "start_time": "2021-08-11T14:17:10.223Z"
   },
   {
    "duration": 48,
    "start_time": "2021-08-11T14:17:10.256Z"
   },
   {
    "duration": 22,
    "start_time": "2021-08-11T14:17:10.307Z"
   },
   {
    "duration": 29,
    "start_time": "2021-08-11T14:17:10.332Z"
   },
   {
    "duration": 55,
    "start_time": "2021-08-11T14:17:10.364Z"
   },
   {
    "duration": 11,
    "start_time": "2021-08-11T14:17:10.422Z"
   },
   {
    "duration": 8,
    "start_time": "2021-08-11T14:17:10.436Z"
   },
   {
    "duration": 19,
    "start_time": "2021-08-11T14:17:10.447Z"
   },
   {
    "duration": 573,
    "start_time": "2021-08-11T14:17:10.502Z"
   },
   {
    "duration": 35,
    "start_time": "2021-08-11T14:17:11.077Z"
   },
   {
    "duration": 270,
    "start_time": "2021-08-11T14:17:11.115Z"
   },
   {
    "duration": 29,
    "start_time": "2021-08-11T14:17:11.389Z"
   },
   {
    "duration": 17,
    "start_time": "2021-08-11T14:17:11.421Z"
   },
   {
    "duration": 22,
    "start_time": "2021-08-11T14:17:11.441Z"
   },
   {
    "duration": 49,
    "start_time": "2021-08-11T14:17:11.466Z"
   },
   {
    "duration": 6,
    "start_time": "2021-08-11T14:17:11.518Z"
   },
   {
    "duration": 20,
    "start_time": "2021-08-11T14:17:11.527Z"
   },
   {
    "duration": 64,
    "start_time": "2021-08-11T14:17:11.554Z"
   },
   {
    "duration": 23,
    "start_time": "2021-08-11T14:17:11.621Z"
   },
   {
    "duration": 23,
    "start_time": "2021-08-11T14:17:11.647Z"
   },
   {
    "duration": 33,
    "start_time": "2021-08-11T14:17:11.672Z"
   },
   {
    "duration": 15,
    "start_time": "2021-08-11T14:17:11.708Z"
   },
   {
    "duration": 829,
    "start_time": "2021-08-11T14:17:11.726Z"
   },
   {
    "duration": 680,
    "start_time": "2021-08-11T14:17:12.559Z"
   },
   {
    "duration": 596,
    "start_time": "2021-08-11T14:17:13.242Z"
   },
   {
    "duration": 22,
    "start_time": "2021-08-11T14:17:13.842Z"
   },
   {
    "duration": 581,
    "start_time": "2021-08-11T14:17:13.867Z"
   },
   {
    "duration": 3785,
    "start_time": "2021-08-11T14:17:14.452Z"
   },
   {
    "duration": 23,
    "start_time": "2021-08-11T14:17:18.240Z"
   },
   {
    "duration": 571,
    "start_time": "2021-08-11T14:17:18.265Z"
   },
   {
    "duration": 228,
    "start_time": "2021-08-11T14:17:18.839Z"
   },
   {
    "duration": 36,
    "start_time": "2021-08-11T14:17:19.070Z"
   },
   {
    "duration": 545,
    "start_time": "2021-08-11T14:17:50.780Z"
   },
   {
    "duration": 546,
    "start_time": "2021-08-11T14:17:55.996Z"
   },
   {
    "duration": 540,
    "start_time": "2021-08-11T14:18:20.411Z"
   },
   {
    "duration": 619,
    "start_time": "2021-08-11T14:18:57.056Z"
   },
   {
    "duration": 536,
    "start_time": "2021-08-11T14:19:01.832Z"
   },
   {
    "duration": 514,
    "start_time": "2021-08-11T14:19:25.217Z"
   },
   {
    "duration": 522,
    "start_time": "2021-08-11T14:19:29.069Z"
   },
   {
    "duration": 566,
    "start_time": "2021-08-11T14:19:41.734Z"
   },
   {
    "duration": 530,
    "start_time": "2021-08-11T14:19:54.965Z"
   },
   {
    "duration": 524,
    "start_time": "2021-08-11T14:19:59.389Z"
   },
   {
    "duration": 561,
    "start_time": "2021-08-11T14:20:09.796Z"
   },
   {
    "duration": 545,
    "start_time": "2021-08-11T14:20:48.096Z"
   },
   {
    "duration": 533,
    "start_time": "2021-08-11T14:20:56.239Z"
   },
   {
    "duration": 546,
    "start_time": "2021-08-11T14:21:05.781Z"
   },
   {
    "duration": 373,
    "start_time": "2021-08-11T14:21:11.529Z"
   },
   {
    "duration": 684,
    "start_time": "2021-08-11T14:21:14.932Z"
   },
   {
    "duration": 528,
    "start_time": "2021-08-11T14:21:36.708Z"
   },
   {
    "duration": 533,
    "start_time": "2021-08-11T14:22:03.034Z"
   },
   {
    "duration": 523,
    "start_time": "2021-08-11T14:22:07.312Z"
   },
   {
    "duration": 539,
    "start_time": "2021-08-11T14:22:23.716Z"
   },
   {
    "duration": 531,
    "start_time": "2021-08-11T14:22:48.593Z"
   },
   {
    "duration": 522,
    "start_time": "2021-08-11T14:22:52.557Z"
   },
   {
    "duration": 637,
    "start_time": "2021-08-11T14:23:31.016Z"
   },
   {
    "duration": 574,
    "start_time": "2021-08-11T14:24:30.721Z"
   },
   {
    "duration": 309,
    "start_time": "2021-08-11T14:27:04.837Z"
   },
   {
    "duration": 224,
    "start_time": "2021-08-11T14:27:23.124Z"
   },
   {
    "duration": 222,
    "start_time": "2021-08-11T14:28:31.230Z"
   },
   {
    "duration": 216,
    "start_time": "2021-08-11T14:28:37.941Z"
   },
   {
    "duration": 236,
    "start_time": "2021-08-11T14:28:42.905Z"
   },
   {
    "duration": 207,
    "start_time": "2021-08-11T14:28:46.141Z"
   },
   {
    "duration": 214,
    "start_time": "2021-08-11T14:28:50.330Z"
   },
   {
    "duration": 293,
    "start_time": "2021-08-11T14:28:59.761Z"
   },
   {
    "duration": 315,
    "start_time": "2021-08-11T14:29:03.095Z"
   },
   {
    "duration": 763,
    "start_time": "2021-08-11T14:30:45.955Z"
   },
   {
    "duration": 568,
    "start_time": "2021-08-11T14:30:55.404Z"
   },
   {
    "duration": 825,
    "start_time": "2021-08-11T14:31:18.364Z"
   },
   {
    "duration": 575,
    "start_time": "2021-08-11T14:31:22.716Z"
   },
   {
    "duration": 4,
    "start_time": "2021-08-11T14:31:26.111Z"
   },
   {
    "duration": 64,
    "start_time": "2021-08-11T14:31:26.119Z"
   },
   {
    "duration": 31,
    "start_time": "2021-08-11T14:31:26.186Z"
   },
   {
    "duration": 29,
    "start_time": "2021-08-11T14:31:26.220Z"
   },
   {
    "duration": 48,
    "start_time": "2021-08-11T14:31:26.252Z"
   },
   {
    "duration": 12,
    "start_time": "2021-08-11T14:31:26.303Z"
   },
   {
    "duration": 25,
    "start_time": "2021-08-11T14:31:26.318Z"
   },
   {
    "duration": 17,
    "start_time": "2021-08-11T14:31:26.349Z"
   },
   {
    "duration": 59,
    "start_time": "2021-08-11T14:31:26.370Z"
   },
   {
    "duration": 32,
    "start_time": "2021-08-11T14:31:26.432Z"
   },
   {
    "duration": 43,
    "start_time": "2021-08-11T14:31:26.467Z"
   },
   {
    "duration": 22,
    "start_time": "2021-08-11T14:31:26.513Z"
   },
   {
    "duration": 22,
    "start_time": "2021-08-11T14:31:26.538Z"
   },
   {
    "duration": 52,
    "start_time": "2021-08-11T14:31:26.562Z"
   },
   {
    "duration": 11,
    "start_time": "2021-08-11T14:31:26.617Z"
   },
   {
    "duration": 8,
    "start_time": "2021-08-11T14:31:26.630Z"
   },
   {
    "duration": 18,
    "start_time": "2021-08-11T14:31:26.640Z"
   },
   {
    "duration": 679,
    "start_time": "2021-08-11T14:31:26.660Z"
   },
   {
    "duration": 16,
    "start_time": "2021-08-11T14:31:27.341Z"
   },
   {
    "duration": 285,
    "start_time": "2021-08-11T14:31:27.359Z"
   },
   {
    "duration": 15,
    "start_time": "2021-08-11T14:31:27.647Z"
   },
   {
    "duration": 13,
    "start_time": "2021-08-11T14:31:27.664Z"
   },
   {
    "duration": 11,
    "start_time": "2021-08-11T14:31:27.704Z"
   },
   {
    "duration": 23,
    "start_time": "2021-08-11T14:31:27.718Z"
   },
   {
    "duration": 8,
    "start_time": "2021-08-11T14:31:27.744Z"
   },
   {
    "duration": 48,
    "start_time": "2021-08-11T14:31:27.755Z"
   },
   {
    "duration": 25,
    "start_time": "2021-08-11T14:31:27.806Z"
   },
   {
    "duration": 21,
    "start_time": "2021-08-11T14:31:27.834Z"
   },
   {
    "duration": 49,
    "start_time": "2021-08-11T14:31:27.858Z"
   },
   {
    "duration": 25,
    "start_time": "2021-08-11T14:31:27.909Z"
   },
   {
    "duration": 26,
    "start_time": "2021-08-11T14:31:27.936Z"
   },
   {
    "duration": 671,
    "start_time": "2021-08-11T14:31:27.964Z"
   },
   {
    "duration": 607,
    "start_time": "2021-08-11T14:31:28.637Z"
   },
   {
    "duration": 559,
    "start_time": "2021-08-11T14:31:29.247Z"
   },
   {
    "duration": 19,
    "start_time": "2021-08-11T14:31:29.809Z"
   },
   {
    "duration": 535,
    "start_time": "2021-08-11T14:31:29.831Z"
   },
   {
    "duration": 3761,
    "start_time": "2021-08-11T14:31:30.368Z"
   },
   {
    "duration": 25,
    "start_time": "2021-08-11T14:31:34.131Z"
   },
   {
    "duration": 585,
    "start_time": "2021-08-11T14:31:34.159Z"
   },
   {
    "duration": 672,
    "start_time": "2021-08-11T14:31:34.747Z"
   },
   {
    "duration": 35,
    "start_time": "2021-08-11T14:31:35.421Z"
   },
   {
    "duration": 1017,
    "start_time": "2021-08-11T16:06:12.900Z"
   },
   {
    "duration": 841,
    "start_time": "2021-08-11T16:09:01.124Z"
   },
   {
    "duration": 737,
    "start_time": "2021-08-11T16:09:11.603Z"
   },
   {
    "duration": 554,
    "start_time": "2021-08-11T16:09:47.565Z"
   },
   {
    "duration": 899,
    "start_time": "2021-08-11T16:11:05.720Z"
   },
   {
    "duration": 545,
    "start_time": "2021-08-11T16:14:44.664Z"
   },
   {
    "duration": 5,
    "start_time": "2021-08-11T16:15:29.149Z"
   },
   {
    "duration": 60,
    "start_time": "2021-08-11T16:15:29.158Z"
   },
   {
    "duration": 19,
    "start_time": "2021-08-11T16:15:29.221Z"
   },
   {
    "duration": 13,
    "start_time": "2021-08-11T16:15:29.243Z"
   },
   {
    "duration": 52,
    "start_time": "2021-08-11T16:15:29.259Z"
   },
   {
    "duration": 9,
    "start_time": "2021-08-11T16:15:29.313Z"
   },
   {
    "duration": 16,
    "start_time": "2021-08-11T16:15:29.325Z"
   },
   {
    "duration": 12,
    "start_time": "2021-08-11T16:15:29.345Z"
   },
   {
    "duration": 57,
    "start_time": "2021-08-11T16:15:29.360Z"
   },
   {
    "duration": 30,
    "start_time": "2021-08-11T16:15:29.419Z"
   },
   {
    "duration": 29,
    "start_time": "2021-08-11T16:15:29.451Z"
   },
   {
    "duration": 37,
    "start_time": "2021-08-11T16:15:29.482Z"
   },
   {
    "duration": 19,
    "start_time": "2021-08-11T16:15:29.521Z"
   },
   {
    "duration": 17,
    "start_time": "2021-08-11T16:15:29.543Z"
   },
   {
    "duration": 44,
    "start_time": "2021-08-11T16:15:29.562Z"
   },
   {
    "duration": 4,
    "start_time": "2021-08-11T16:15:29.609Z"
   },
   {
    "duration": 14,
    "start_time": "2021-08-11T16:15:29.616Z"
   },
   {
    "duration": 546,
    "start_time": "2021-08-11T16:15:29.632Z"
   },
   {
    "duration": 25,
    "start_time": "2021-08-11T16:15:30.181Z"
   },
   {
    "duration": 242,
    "start_time": "2021-08-11T16:15:30.209Z"
   },
   {
    "duration": 17,
    "start_time": "2021-08-11T16:15:30.453Z"
   },
   {
    "duration": 34,
    "start_time": "2021-08-11T16:15:30.472Z"
   },
   {
    "duration": 10,
    "start_time": "2021-08-11T16:15:30.512Z"
   },
   {
    "duration": 21,
    "start_time": "2021-08-11T16:15:30.524Z"
   },
   {
    "duration": 10,
    "start_time": "2021-08-11T16:15:30.547Z"
   },
   {
    "duration": 43,
    "start_time": "2021-08-11T16:15:30.559Z"
   },
   {
    "duration": 25,
    "start_time": "2021-08-11T16:15:30.605Z"
   },
   {
    "duration": 20,
    "start_time": "2021-08-11T16:15:30.632Z"
   },
   {
    "duration": 48,
    "start_time": "2021-08-11T16:15:30.655Z"
   },
   {
    "duration": 19,
    "start_time": "2021-08-11T16:15:30.705Z"
   },
   {
    "duration": 13,
    "start_time": "2021-08-11T16:15:30.726Z"
   },
   {
    "duration": 709,
    "start_time": "2021-08-11T16:15:30.741Z"
   },
   {
    "duration": 672,
    "start_time": "2021-08-11T16:15:31.453Z"
   },
   {
    "duration": 574,
    "start_time": "2021-08-11T16:15:32.128Z"
   },
   {
    "duration": 20,
    "start_time": "2021-08-11T16:15:32.705Z"
   },
   {
    "duration": 895,
    "start_time": "2021-08-11T16:15:32.727Z"
   },
   {
    "duration": 5661,
    "start_time": "2021-08-11T16:15:33.625Z"
   },
   {
    "duration": 44,
    "start_time": "2021-08-11T16:15:39.289Z"
   },
   {
    "duration": 824,
    "start_time": "2021-08-11T16:15:39.336Z"
   },
   {
    "duration": 625,
    "start_time": "2021-08-11T16:15:40.163Z"
   },
   {
    "duration": 37,
    "start_time": "2021-08-11T16:15:40.791Z"
   },
   {
    "duration": 31,
    "start_time": "2021-08-11T16:18:31.135Z"
   },
   {
    "duration": 673,
    "start_time": "2021-08-11T16:20:17.839Z"
   },
   {
    "duration": 30,
    "start_time": "2021-08-11T16:20:30.483Z"
   },
   {
    "duration": 48,
    "start_time": "2021-08-11T16:21:05.098Z"
   },
   {
    "duration": 5,
    "start_time": "2021-08-11T16:22:41.918Z"
   },
   {
    "duration": 58,
    "start_time": "2021-08-11T16:22:41.925Z"
   },
   {
    "duration": 29,
    "start_time": "2021-08-11T16:22:41.987Z"
   },
   {
    "duration": 14,
    "start_time": "2021-08-11T16:22:42.018Z"
   },
   {
    "duration": 21,
    "start_time": "2021-08-11T16:22:42.035Z"
   },
   {
    "duration": 8,
    "start_time": "2021-08-11T16:22:42.059Z"
   },
   {
    "duration": 10,
    "start_time": "2021-08-11T16:22:42.101Z"
   },
   {
    "duration": 12,
    "start_time": "2021-08-11T16:22:42.113Z"
   },
   {
    "duration": 41,
    "start_time": "2021-08-11T16:22:42.129Z"
   },
   {
    "duration": 75,
    "start_time": "2021-08-11T16:22:42.173Z"
   },
   {
    "duration": 55,
    "start_time": "2021-08-11T16:22:42.251Z"
   },
   {
    "duration": 28,
    "start_time": "2021-08-11T16:22:42.309Z"
   },
   {
    "duration": 28,
    "start_time": "2021-08-11T16:22:42.340Z"
   },
   {
    "duration": 45,
    "start_time": "2021-08-11T16:22:42.371Z"
   },
   {
    "duration": 8,
    "start_time": "2021-08-11T16:22:42.419Z"
   },
   {
    "duration": 5,
    "start_time": "2021-08-11T16:22:42.430Z"
   },
   {
    "duration": 13,
    "start_time": "2021-08-11T16:22:42.437Z"
   },
   {
    "duration": 557,
    "start_time": "2021-08-11T16:22:42.453Z"
   },
   {
    "duration": 17,
    "start_time": "2021-08-11T16:22:43.013Z"
   },
   {
    "duration": 298,
    "start_time": "2021-08-11T16:22:43.033Z"
   },
   {
    "duration": 16,
    "start_time": "2021-08-11T16:22:43.334Z"
   },
   {
    "duration": 14,
    "start_time": "2021-08-11T16:22:43.353Z"
   },
   {
    "duration": 36,
    "start_time": "2021-08-11T16:22:43.370Z"
   },
   {
    "duration": 17,
    "start_time": "2021-08-11T16:22:43.409Z"
   },
   {
    "duration": 10,
    "start_time": "2021-08-11T16:22:43.429Z"
   },
   {
    "duration": 19,
    "start_time": "2021-08-11T16:22:43.441Z"
   },
   {
    "duration": 57,
    "start_time": "2021-08-11T16:22:43.465Z"
   },
   {
    "duration": 21,
    "start_time": "2021-08-11T16:22:43.525Z"
   },
   {
    "duration": 16,
    "start_time": "2021-08-11T16:22:43.548Z"
   },
   {
    "duration": 43,
    "start_time": "2021-08-11T16:22:43.567Z"
   },
   {
    "duration": 6,
    "start_time": "2021-08-11T16:22:43.613Z"
   },
   {
    "duration": 618,
    "start_time": "2021-08-11T16:22:43.621Z"
   },
   {
    "duration": 582,
    "start_time": "2021-08-11T16:22:44.242Z"
   },
   {
    "duration": 560,
    "start_time": "2021-08-11T16:22:44.826Z"
   },
   {
    "duration": 28,
    "start_time": "2021-08-11T16:22:45.389Z"
   },
   {
    "duration": 620,
    "start_time": "2021-08-11T16:22:45.420Z"
   },
   {
    "duration": 3917,
    "start_time": "2021-08-11T16:22:46.043Z"
   },
   {
    "duration": 40,
    "start_time": "2021-08-11T16:22:49.962Z"
   },
   {
    "duration": 580,
    "start_time": "2021-08-11T16:22:50.005Z"
   },
   {
    "duration": 628,
    "start_time": "2021-08-11T16:22:50.587Z"
   },
   {
    "duration": 36,
    "start_time": "2021-08-11T16:22:51.219Z"
   },
   {
    "duration": 60,
    "start_time": "2021-08-11T16:22:51.258Z"
   },
   {
    "duration": 20,
    "start_time": "2021-08-11T16:22:51.321Z"
   },
   {
    "duration": 39,
    "start_time": "2021-08-11T16:23:11.941Z"
   },
   {
    "duration": 266,
    "start_time": "2021-08-11T16:25:38.954Z"
   },
   {
    "duration": 6,
    "start_time": "2021-08-11T16:27:16.328Z"
   },
   {
    "duration": 76,
    "start_time": "2021-08-11T16:27:16.338Z"
   },
   {
    "duration": 25,
    "start_time": "2021-08-11T16:27:16.419Z"
   },
   {
    "duration": 14,
    "start_time": "2021-08-11T16:27:16.447Z"
   },
   {
    "duration": 52,
    "start_time": "2021-08-11T16:27:16.463Z"
   },
   {
    "duration": 9,
    "start_time": "2021-08-11T16:27:16.517Z"
   },
   {
    "duration": 10,
    "start_time": "2021-08-11T16:27:16.528Z"
   },
   {
    "duration": 17,
    "start_time": "2021-08-11T16:27:16.540Z"
   },
   {
    "duration": 28,
    "start_time": "2021-08-11T16:27:16.599Z"
   },
   {
    "duration": 33,
    "start_time": "2021-08-11T16:27:16.631Z"
   },
   {
    "duration": 56,
    "start_time": "2021-08-11T16:27:16.667Z"
   },
   {
    "duration": 20,
    "start_time": "2021-08-11T16:27:16.726Z"
   },
   {
    "duration": 20,
    "start_time": "2021-08-11T16:27:16.748Z"
   },
   {
    "duration": 40,
    "start_time": "2021-08-11T16:27:16.770Z"
   },
   {
    "duration": 9,
    "start_time": "2021-08-11T16:27:16.813Z"
   },
   {
    "duration": 7,
    "start_time": "2021-08-11T16:27:16.824Z"
   },
   {
    "duration": 18,
    "start_time": "2021-08-11T16:27:16.834Z"
   },
   {
    "duration": 560,
    "start_time": "2021-08-11T16:27:16.854Z"
   },
   {
    "duration": 16,
    "start_time": "2021-08-11T16:27:17.417Z"
   },
   {
    "duration": 300,
    "start_time": "2021-08-11T16:27:17.436Z"
   },
   {
    "duration": 15,
    "start_time": "2021-08-11T16:27:17.739Z"
   },
   {
    "duration": 12,
    "start_time": "2021-08-11T16:27:17.757Z"
   },
   {
    "duration": 11,
    "start_time": "2021-08-11T16:27:17.800Z"
   },
   {
    "duration": 17,
    "start_time": "2021-08-11T16:27:17.814Z"
   },
   {
    "duration": 6,
    "start_time": "2021-08-11T16:27:17.833Z"
   },
   {
    "duration": 17,
    "start_time": "2021-08-11T16:27:17.842Z"
   },
   {
    "duration": 25,
    "start_time": "2021-08-11T16:27:17.901Z"
   },
   {
    "duration": 27,
    "start_time": "2021-08-11T16:27:17.928Z"
   },
   {
    "duration": 49,
    "start_time": "2021-08-11T16:27:17.958Z"
   },
   {
    "duration": 12,
    "start_time": "2021-08-11T16:27:18.010Z"
   },
   {
    "duration": 7,
    "start_time": "2021-08-11T16:27:18.025Z"
   },
   {
    "duration": 689,
    "start_time": "2021-08-11T16:27:18.035Z"
   },
   {
    "duration": 597,
    "start_time": "2021-08-11T16:27:18.727Z"
   },
   {
    "duration": 559,
    "start_time": "2021-08-11T16:27:19.326Z"
   },
   {
    "duration": 28,
    "start_time": "2021-08-11T16:27:19.887Z"
   },
   {
    "duration": 518,
    "start_time": "2021-08-11T16:27:19.917Z"
   },
   {
    "duration": 3744,
    "start_time": "2021-08-11T16:27:20.438Z"
   },
   {
    "duration": 31,
    "start_time": "2021-08-11T16:27:24.185Z"
   },
   {
    "duration": 574,
    "start_time": "2021-08-11T16:27:24.219Z"
   },
   {
    "duration": 211,
    "start_time": "2021-08-11T16:27:24.795Z"
   },
   {
    "duration": 35,
    "start_time": "2021-08-11T16:27:25.008Z"
   },
   {
    "duration": 33,
    "start_time": "2021-08-11T16:27:25.046Z"
   },
   {
    "duration": 41,
    "start_time": "2021-08-11T16:27:25.101Z"
   },
   {
    "duration": 63,
    "start_time": "2021-08-11T16:28:02.045Z"
   },
   {
    "duration": 159,
    "start_time": "2021-08-11T16:28:08.090Z"
   },
   {
    "duration": 1000,
    "start_time": "2021-08-11T16:28:15.955Z"
   },
   {
    "duration": 4,
    "start_time": "2021-08-11T16:28:24.071Z"
   },
   {
    "duration": 57,
    "start_time": "2021-08-11T16:28:24.078Z"
   },
   {
    "duration": 18,
    "start_time": "2021-08-11T16:28:24.138Z"
   },
   {
    "duration": 46,
    "start_time": "2021-08-11T16:28:24.159Z"
   },
   {
    "duration": 21,
    "start_time": "2021-08-11T16:28:24.208Z"
   },
   {
    "duration": 8,
    "start_time": "2021-08-11T16:28:24.232Z"
   },
   {
    "duration": 10,
    "start_time": "2021-08-11T16:28:24.242Z"
   },
   {
    "duration": 51,
    "start_time": "2021-08-11T16:28:24.254Z"
   },
   {
    "duration": 26,
    "start_time": "2021-08-11T16:28:24.309Z"
   },
   {
    "duration": 31,
    "start_time": "2021-08-11T16:28:24.339Z"
   },
   {
    "duration": 50,
    "start_time": "2021-08-11T16:28:24.372Z"
   },
   {
    "duration": 19,
    "start_time": "2021-08-11T16:28:24.425Z"
   },
   {
    "duration": 19,
    "start_time": "2021-08-11T16:28:24.447Z"
   },
   {
    "duration": 44,
    "start_time": "2021-08-11T16:28:24.468Z"
   },
   {
    "duration": 9,
    "start_time": "2021-08-11T16:28:24.514Z"
   },
   {
    "duration": 6,
    "start_time": "2021-08-11T16:28:24.525Z"
   },
   {
    "duration": 21,
    "start_time": "2021-08-11T16:28:24.534Z"
   },
   {
    "duration": 569,
    "start_time": "2021-08-11T16:28:24.558Z"
   },
   {
    "duration": 19,
    "start_time": "2021-08-11T16:28:25.130Z"
   },
   {
    "duration": 309,
    "start_time": "2021-08-11T16:28:25.151Z"
   },
   {
    "duration": 17,
    "start_time": "2021-08-11T16:28:25.462Z"
   },
   {
    "duration": 29,
    "start_time": "2021-08-11T16:28:25.481Z"
   },
   {
    "duration": 16,
    "start_time": "2021-08-11T16:28:25.513Z"
   },
   {
    "duration": 14,
    "start_time": "2021-08-11T16:28:25.532Z"
   },
   {
    "duration": 7,
    "start_time": "2021-08-11T16:28:25.549Z"
   },
   {
    "duration": 53,
    "start_time": "2021-08-11T16:28:25.559Z"
   },
   {
    "duration": 28,
    "start_time": "2021-08-11T16:28:25.617Z"
   },
   {
    "duration": 23,
    "start_time": "2021-08-11T16:28:25.648Z"
   },
   {
    "duration": 42,
    "start_time": "2021-08-11T16:28:25.673Z"
   },
   {
    "duration": 22,
    "start_time": "2021-08-11T16:28:25.717Z"
   },
   {
    "duration": 17,
    "start_time": "2021-08-11T16:28:25.741Z"
   },
   {
    "duration": 768,
    "start_time": "2021-08-11T16:28:25.761Z"
   },
   {
    "duration": 652,
    "start_time": "2021-08-11T16:28:26.532Z"
   },
   {
    "duration": 592,
    "start_time": "2021-08-11T16:28:27.187Z"
   },
   {
    "duration": 35,
    "start_time": "2021-08-11T16:28:27.781Z"
   },
   {
    "duration": 666,
    "start_time": "2021-08-11T16:28:27.818Z"
   },
   {
    "duration": 3705,
    "start_time": "2021-08-11T16:28:28.487Z"
   },
   {
    "duration": 27,
    "start_time": "2021-08-11T16:28:32.195Z"
   },
   {
    "duration": 596,
    "start_time": "2021-08-11T16:28:32.225Z"
   },
   {
    "duration": 453,
    "start_time": "2021-08-11T16:28:32.823Z"
   },
   {
    "duration": 32,
    "start_time": "2021-08-11T16:28:33.279Z"
   },
   {
    "duration": 32,
    "start_time": "2021-08-11T16:28:33.314Z"
   },
   {
    "duration": 64,
    "start_time": "2021-08-11T16:28:33.348Z"
   },
   {
    "duration": 81,
    "start_time": "2021-08-11T16:30:59.313Z"
   },
   {
    "duration": 6,
    "start_time": "2021-08-11T16:31:11.724Z"
   },
   {
    "duration": 70,
    "start_time": "2021-08-11T16:31:11.733Z"
   },
   {
    "duration": 19,
    "start_time": "2021-08-11T16:31:11.806Z"
   },
   {
    "duration": 14,
    "start_time": "2021-08-11T16:31:11.829Z"
   },
   {
    "duration": 58,
    "start_time": "2021-08-11T16:31:11.846Z"
   },
   {
    "duration": 10,
    "start_time": "2021-08-11T16:31:11.908Z"
   },
   {
    "duration": 12,
    "start_time": "2021-08-11T16:31:11.921Z"
   },
   {
    "duration": 12,
    "start_time": "2021-08-11T16:31:11.939Z"
   },
   {
    "duration": 71,
    "start_time": "2021-08-11T16:31:11.954Z"
   },
   {
    "duration": 30,
    "start_time": "2021-08-11T16:31:12.027Z"
   },
   {
    "duration": 50,
    "start_time": "2021-08-11T16:31:12.060Z"
   },
   {
    "duration": 20,
    "start_time": "2021-08-11T16:31:12.112Z"
   },
   {
    "duration": 22,
    "start_time": "2021-08-11T16:31:12.134Z"
   },
   {
    "duration": 57,
    "start_time": "2021-08-11T16:31:12.159Z"
   },
   {
    "duration": 9,
    "start_time": "2021-08-11T16:31:12.219Z"
   },
   {
    "duration": 5,
    "start_time": "2021-08-11T16:31:12.231Z"
   },
   {
    "duration": 25,
    "start_time": "2021-08-11T16:31:12.239Z"
   },
   {
    "duration": 578,
    "start_time": "2021-08-11T16:31:12.267Z"
   },
   {
    "duration": 18,
    "start_time": "2021-08-11T16:31:12.847Z"
   },
   {
    "duration": 276,
    "start_time": "2021-08-11T16:31:12.868Z"
   },
   {
    "duration": 14,
    "start_time": "2021-08-11T16:31:13.147Z"
   },
   {
    "duration": 12,
    "start_time": "2021-08-11T16:31:13.164Z"
   },
   {
    "duration": 10,
    "start_time": "2021-08-11T16:31:13.204Z"
   },
   {
    "duration": 20,
    "start_time": "2021-08-11T16:31:13.217Z"
   },
   {
    "duration": 9,
    "start_time": "2021-08-11T16:31:13.239Z"
   },
   {
    "duration": 19,
    "start_time": "2021-08-11T16:31:13.250Z"
   },
   {
    "duration": 53,
    "start_time": "2021-08-11T16:31:13.271Z"
   },
   {
    "duration": 21,
    "start_time": "2021-08-11T16:31:13.327Z"
   },
   {
    "duration": 16,
    "start_time": "2021-08-11T16:31:13.351Z"
   },
   {
    "duration": 41,
    "start_time": "2021-08-11T16:31:13.369Z"
   },
   {
    "duration": 6,
    "start_time": "2021-08-11T16:31:13.413Z"
   },
   {
    "duration": 695,
    "start_time": "2021-08-11T16:31:13.422Z"
   },
   {
    "duration": 607,
    "start_time": "2021-08-11T16:31:14.120Z"
   },
   {
    "duration": 578,
    "start_time": "2021-08-11T16:31:14.730Z"
   },
   {
    "duration": 21,
    "start_time": "2021-08-11T16:31:15.310Z"
   },
   {
    "duration": 686,
    "start_time": "2021-08-11T16:31:15.333Z"
   },
   {
    "duration": 3651,
    "start_time": "2021-08-11T16:31:16.022Z"
   },
   {
    "duration": 32,
    "start_time": "2021-08-11T16:31:19.676Z"
   },
   {
    "duration": 598,
    "start_time": "2021-08-11T16:31:19.710Z"
   },
   {
    "duration": 186,
    "start_time": "2021-08-11T16:31:20.310Z"
   },
   {
    "duration": 48,
    "start_time": "2021-08-11T16:31:20.498Z"
   },
   {
    "duration": 61,
    "start_time": "2021-08-11T16:31:20.549Z"
   },
   {
    "duration": 39,
    "start_time": "2021-08-11T16:31:20.612Z"
   },
   {
    "duration": 47,
    "start_time": "2021-08-11T16:31:42.200Z"
   },
   {
    "duration": 5,
    "start_time": "2021-08-11T16:31:45.879Z"
   },
   {
    "duration": 57,
    "start_time": "2021-08-11T16:31:45.886Z"
   },
   {
    "duration": 18,
    "start_time": "2021-08-11T16:31:45.946Z"
   },
   {
    "duration": 41,
    "start_time": "2021-08-11T16:31:45.967Z"
   },
   {
    "duration": 20,
    "start_time": "2021-08-11T16:31:46.011Z"
   },
   {
    "duration": 9,
    "start_time": "2021-08-11T16:31:46.033Z"
   },
   {
    "duration": 9,
    "start_time": "2021-08-11T16:31:46.045Z"
   },
   {
    "duration": 50,
    "start_time": "2021-08-11T16:31:46.056Z"
   },
   {
    "duration": 26,
    "start_time": "2021-08-11T16:31:46.110Z"
   },
   {
    "duration": 61,
    "start_time": "2021-08-11T16:31:46.140Z"
   },
   {
    "duration": 27,
    "start_time": "2021-08-11T16:31:46.204Z"
   },
   {
    "duration": 20,
    "start_time": "2021-08-11T16:31:46.234Z"
   },
   {
    "duration": 50,
    "start_time": "2021-08-11T16:31:46.257Z"
   },
   {
    "duration": 19,
    "start_time": "2021-08-11T16:31:46.309Z"
   },
   {
    "duration": 14,
    "start_time": "2021-08-11T16:31:46.330Z"
   },
   {
    "duration": 6,
    "start_time": "2021-08-11T16:31:46.346Z"
   },
   {
    "duration": 46,
    "start_time": "2021-08-11T16:31:46.355Z"
   },
   {
    "duration": 564,
    "start_time": "2021-08-11T16:31:46.404Z"
   },
   {
    "duration": 17,
    "start_time": "2021-08-11T16:31:46.970Z"
   },
   {
    "duration": 433,
    "start_time": "2021-08-11T16:31:47.001Z"
   },
   {
    "duration": 16,
    "start_time": "2021-08-11T16:31:47.436Z"
   },
   {
    "duration": 12,
    "start_time": "2021-08-11T16:31:47.455Z"
   },
   {
    "duration": 42,
    "start_time": "2021-08-11T16:31:47.470Z"
   },
   {
    "duration": 16,
    "start_time": "2021-08-11T16:31:47.514Z"
   },
   {
    "duration": 26,
    "start_time": "2021-08-11T16:31:47.533Z"
   },
   {
    "duration": 25,
    "start_time": "2021-08-11T16:31:47.562Z"
   },
   {
    "duration": 28,
    "start_time": "2021-08-11T16:31:47.593Z"
   },
   {
    "duration": 23,
    "start_time": "2021-08-11T16:31:47.624Z"
   },
   {
    "duration": 20,
    "start_time": "2021-08-11T16:31:47.649Z"
   },
   {
    "duration": 31,
    "start_time": "2021-08-11T16:31:47.671Z"
   },
   {
    "duration": 17,
    "start_time": "2021-08-11T16:31:47.705Z"
   },
   {
    "duration": 617,
    "start_time": "2021-08-11T16:31:47.725Z"
   },
   {
    "duration": 610,
    "start_time": "2021-08-11T16:31:48.345Z"
   },
   {
    "duration": 554,
    "start_time": "2021-08-11T16:31:48.957Z"
   },
   {
    "duration": 21,
    "start_time": "2021-08-11T16:31:49.514Z"
   },
   {
    "duration": 516,
    "start_time": "2021-08-11T16:31:49.537Z"
   },
   {
    "duration": 3757,
    "start_time": "2021-08-11T16:31:50.056Z"
   },
   {
    "duration": 23,
    "start_time": "2021-08-11T16:31:53.816Z"
   },
   {
    "duration": 593,
    "start_time": "2021-08-11T16:31:53.842Z"
   },
   {
    "duration": 726,
    "start_time": "2021-08-11T16:31:54.438Z"
   },
   {
    "duration": 39,
    "start_time": "2021-08-11T16:31:55.167Z"
   },
   {
    "duration": 32,
    "start_time": "2021-08-11T16:31:55.208Z"
   },
   {
    "duration": 40,
    "start_time": "2021-08-11T16:31:55.243Z"
   },
   {
    "duration": 40,
    "start_time": "2021-08-11T16:32:13.240Z"
   },
   {
    "duration": 392,
    "start_time": "2021-08-11T16:32:17.845Z"
   },
   {
    "duration": 5,
    "start_time": "2021-08-11T16:32:26.442Z"
   },
   {
    "duration": 56,
    "start_time": "2021-08-11T16:32:26.450Z"
   },
   {
    "duration": 18,
    "start_time": "2021-08-11T16:32:26.509Z"
   },
   {
    "duration": 17,
    "start_time": "2021-08-11T16:32:26.530Z"
   },
   {
    "duration": 50,
    "start_time": "2021-08-11T16:32:26.549Z"
   },
   {
    "duration": 10,
    "start_time": "2021-08-11T16:32:26.603Z"
   },
   {
    "duration": 18,
    "start_time": "2021-08-11T16:32:26.616Z"
   },
   {
    "duration": 13,
    "start_time": "2021-08-11T16:32:26.639Z"
   },
   {
    "duration": 62,
    "start_time": "2021-08-11T16:32:26.655Z"
   },
   {
    "duration": 32,
    "start_time": "2021-08-11T16:32:26.719Z"
   },
   {
    "duration": 51,
    "start_time": "2021-08-11T16:32:26.755Z"
   },
   {
    "duration": 23,
    "start_time": "2021-08-11T16:32:26.810Z"
   },
   {
    "duration": 23,
    "start_time": "2021-08-11T16:32:26.835Z"
   },
   {
    "duration": 52,
    "start_time": "2021-08-11T16:32:26.861Z"
   },
   {
    "duration": 13,
    "start_time": "2021-08-11T16:32:26.916Z"
   },
   {
    "duration": 5,
    "start_time": "2021-08-11T16:32:26.932Z"
   },
   {
    "duration": 19,
    "start_time": "2021-08-11T16:32:26.940Z"
   },
   {
    "duration": 650,
    "start_time": "2021-08-11T16:32:26.962Z"
   },
   {
    "duration": 18,
    "start_time": "2021-08-11T16:32:27.614Z"
   },
   {
    "duration": 222,
    "start_time": "2021-08-11T16:32:27.634Z"
   },
   {
    "duration": 43,
    "start_time": "2021-08-11T16:32:27.859Z"
   },
   {
    "duration": 12,
    "start_time": "2021-08-11T16:32:27.905Z"
   },
   {
    "duration": 15,
    "start_time": "2021-08-11T16:32:27.922Z"
   },
   {
    "duration": 19,
    "start_time": "2021-08-11T16:32:27.940Z"
   },
   {
    "duration": 7,
    "start_time": "2021-08-11T16:32:27.961Z"
   },
   {
    "duration": 18,
    "start_time": "2021-08-11T16:32:27.970Z"
   },
   {
    "duration": 30,
    "start_time": "2021-08-11T16:32:27.991Z"
   },
   {
    "duration": 21,
    "start_time": "2021-08-11T16:32:28.024Z"
   },
   {
    "duration": 55,
    "start_time": "2021-08-11T16:32:28.048Z"
   },
   {
    "duration": 11,
    "start_time": "2021-08-11T16:32:28.106Z"
   },
   {
    "duration": 7,
    "start_time": "2021-08-11T16:32:28.119Z"
   },
   {
    "duration": 859,
    "start_time": "2021-08-11T16:32:28.129Z"
   },
   {
    "duration": 622,
    "start_time": "2021-08-11T16:32:28.991Z"
   },
   {
    "duration": 580,
    "start_time": "2021-08-11T16:32:29.616Z"
   },
   {
    "duration": 19,
    "start_time": "2021-08-11T16:32:30.200Z"
   },
   {
    "duration": 514,
    "start_time": "2021-08-11T16:32:30.221Z"
   },
   {
    "duration": 3636,
    "start_time": "2021-08-11T16:32:30.738Z"
   },
   {
    "duration": 31,
    "start_time": "2021-08-11T16:32:34.377Z"
   },
   {
    "duration": 578,
    "start_time": "2021-08-11T16:32:34.410Z"
   },
   {
    "duration": 267,
    "start_time": "2021-08-11T16:32:34.991Z"
   },
   {
    "duration": 34,
    "start_time": "2021-08-11T16:32:35.260Z"
   },
   {
    "duration": 32,
    "start_time": "2021-08-11T16:32:35.296Z"
   },
   {
    "duration": 5,
    "start_time": "2021-08-11T16:35:52.174Z"
   },
   {
    "duration": 66,
    "start_time": "2021-08-11T16:35:52.183Z"
   },
   {
    "duration": 17,
    "start_time": "2021-08-11T16:35:52.252Z"
   },
   {
    "duration": 39,
    "start_time": "2021-08-11T16:35:52.272Z"
   },
   {
    "duration": 42,
    "start_time": "2021-08-11T16:35:52.313Z"
   },
   {
    "duration": 21,
    "start_time": "2021-08-11T16:35:52.358Z"
   },
   {
    "duration": 14,
    "start_time": "2021-08-11T16:35:52.381Z"
   },
   {
    "duration": 23,
    "start_time": "2021-08-11T16:35:52.397Z"
   },
   {
    "duration": 199,
    "start_time": "2021-08-11T16:35:52.426Z"
   },
   {
    "duration": 30,
    "start_time": "2021-08-11T16:35:52.629Z"
   },
   {
    "duration": 50,
    "start_time": "2021-08-11T16:35:52.662Z"
   },
   {
    "duration": 22,
    "start_time": "2021-08-11T16:35:52.715Z"
   },
   {
    "duration": 23,
    "start_time": "2021-08-11T16:35:52.740Z"
   },
   {
    "duration": 51,
    "start_time": "2021-08-11T16:35:52.766Z"
   },
   {
    "duration": 19,
    "start_time": "2021-08-11T16:35:52.820Z"
   },
   {
    "duration": 20,
    "start_time": "2021-08-11T16:35:52.841Z"
   },
   {
    "duration": 31,
    "start_time": "2021-08-11T16:35:52.864Z"
   },
   {
    "duration": 529,
    "start_time": "2021-08-11T16:35:52.901Z"
   },
   {
    "duration": 19,
    "start_time": "2021-08-11T16:35:53.433Z"
   },
   {
    "duration": 287,
    "start_time": "2021-08-11T16:35:53.455Z"
   },
   {
    "duration": 15,
    "start_time": "2021-08-11T16:35:53.745Z"
   },
   {
    "duration": 21,
    "start_time": "2021-08-11T16:35:53.763Z"
   },
   {
    "duration": 14,
    "start_time": "2021-08-11T16:35:53.801Z"
   },
   {
    "duration": 26,
    "start_time": "2021-08-11T16:35:53.817Z"
   },
   {
    "duration": 20,
    "start_time": "2021-08-11T16:35:53.845Z"
   },
   {
    "duration": 40,
    "start_time": "2021-08-11T16:35:53.868Z"
   },
   {
    "duration": 23,
    "start_time": "2021-08-11T16:35:53.913Z"
   },
   {
    "duration": 25,
    "start_time": "2021-08-11T16:35:53.939Z"
   },
   {
    "duration": 41,
    "start_time": "2021-08-11T16:35:53.966Z"
   },
   {
    "duration": 28,
    "start_time": "2021-08-11T16:35:54.009Z"
   },
   {
    "duration": 23,
    "start_time": "2021-08-11T16:35:54.039Z"
   },
   {
    "duration": 636,
    "start_time": "2021-08-11T16:35:54.064Z"
   },
   {
    "duration": 603,
    "start_time": "2021-08-11T16:35:54.702Z"
   },
   {
    "duration": 537,
    "start_time": "2021-08-11T16:35:55.307Z"
   },
   {
    "duration": 19,
    "start_time": "2021-08-11T16:35:55.846Z"
   },
   {
    "duration": 513,
    "start_time": "2021-08-11T16:35:55.867Z"
   },
   {
    "duration": 3734,
    "start_time": "2021-08-11T16:35:56.383Z"
   },
   {
    "duration": 23,
    "start_time": "2021-08-11T16:36:00.120Z"
   },
   {
    "duration": 566,
    "start_time": "2021-08-11T16:36:00.146Z"
   },
   {
    "duration": 269,
    "start_time": "2021-08-11T16:36:00.714Z"
   },
   {
    "duration": 46,
    "start_time": "2021-08-11T16:36:00.985Z"
   },
   {
    "duration": 33,
    "start_time": "2021-08-11T16:36:01.034Z"
   },
   {
    "duration": 40,
    "start_time": "2021-08-11T16:38:55.004Z"
   },
   {
    "duration": 281,
    "start_time": "2021-08-11T16:40:06.044Z"
   },
   {
    "duration": 20,
    "start_time": "2021-08-11T16:40:12.668Z"
   },
   {
    "duration": 19,
    "start_time": "2021-08-11T16:40:37.176Z"
   },
   {
    "duration": 5,
    "start_time": "2021-08-11T16:40:57.272Z"
   },
   {
    "duration": 67,
    "start_time": "2021-08-11T16:40:57.279Z"
   },
   {
    "duration": 19,
    "start_time": "2021-08-11T16:40:57.349Z"
   },
   {
    "duration": 41,
    "start_time": "2021-08-11T16:40:57.371Z"
   },
   {
    "duration": 21,
    "start_time": "2021-08-11T16:40:57.415Z"
   },
   {
    "duration": 9,
    "start_time": "2021-08-11T16:40:57.438Z"
   },
   {
    "duration": 12,
    "start_time": "2021-08-11T16:40:57.449Z"
   },
   {
    "duration": 46,
    "start_time": "2021-08-11T16:40:57.465Z"
   },
   {
    "duration": 24,
    "start_time": "2021-08-11T16:40:57.515Z"
   },
   {
    "duration": 60,
    "start_time": "2021-08-11T16:40:57.541Z"
   },
   {
    "duration": 25,
    "start_time": "2021-08-11T16:40:57.604Z"
   },
   {
    "duration": 20,
    "start_time": "2021-08-11T16:40:57.631Z"
   },
   {
    "duration": 49,
    "start_time": "2021-08-11T16:40:57.653Z"
   },
   {
    "duration": 18,
    "start_time": "2021-08-11T16:40:57.704Z"
   },
   {
    "duration": 8,
    "start_time": "2021-08-11T16:40:57.725Z"
   },
   {
    "duration": 5,
    "start_time": "2021-08-11T16:40:57.736Z"
   },
   {
    "duration": 15,
    "start_time": "2021-08-11T16:40:57.743Z"
   },
   {
    "duration": 565,
    "start_time": "2021-08-11T16:40:57.761Z"
   },
   {
    "duration": 17,
    "start_time": "2021-08-11T16:40:58.328Z"
   },
   {
    "duration": 306,
    "start_time": "2021-08-11T16:40:58.348Z"
   },
   {
    "duration": 17,
    "start_time": "2021-08-11T16:40:58.657Z"
   },
   {
    "duration": 34,
    "start_time": "2021-08-11T16:40:58.676Z"
   },
   {
    "duration": 10,
    "start_time": "2021-08-11T16:40:58.717Z"
   },
   {
    "duration": 16,
    "start_time": "2021-08-11T16:40:58.731Z"
   },
   {
    "duration": 4,
    "start_time": "2021-08-11T16:40:58.750Z"
   },
   {
    "duration": 55,
    "start_time": "2021-08-11T16:40:58.756Z"
   },
   {
    "duration": 26,
    "start_time": "2021-08-11T16:40:58.813Z"
   },
   {
    "duration": 20,
    "start_time": "2021-08-11T16:40:58.841Z"
   },
   {
    "duration": 51,
    "start_time": "2021-08-11T16:40:58.863Z"
   },
   {
    "duration": 14,
    "start_time": "2021-08-11T16:40:58.917Z"
   },
   {
    "duration": 7,
    "start_time": "2021-08-11T16:40:58.934Z"
   },
   {
    "duration": 660,
    "start_time": "2021-08-11T16:40:58.944Z"
   },
   {
    "duration": 711,
    "start_time": "2021-08-11T16:40:59.606Z"
   },
   {
    "duration": 584,
    "start_time": "2021-08-11T16:41:00.320Z"
   },
   {
    "duration": 19,
    "start_time": "2021-08-11T16:41:00.906Z"
   },
   {
    "duration": 531,
    "start_time": "2021-08-11T16:41:00.928Z"
   },
   {
    "duration": 3556,
    "start_time": "2021-08-11T16:41:01.461Z"
   },
   {
    "duration": 24,
    "start_time": "2021-08-11T16:41:05.020Z"
   },
   {
    "duration": 572,
    "start_time": "2021-08-11T16:41:05.046Z"
   },
   {
    "duration": 608,
    "start_time": "2021-08-11T16:41:05.620Z"
   },
   {
    "duration": 32,
    "start_time": "2021-08-11T16:41:06.230Z"
   },
   {
    "duration": 66,
    "start_time": "2021-08-11T16:41:06.264Z"
   },
   {
    "duration": 22,
    "start_time": "2021-08-11T16:41:06.333Z"
   },
   {
    "duration": 23,
    "start_time": "2021-08-11T16:43:50.243Z"
   },
   {
    "duration": 30,
    "start_time": "2021-08-11T16:43:58.525Z"
   },
   {
    "duration": 20,
    "start_time": "2021-08-11T16:44:03.875Z"
   },
   {
    "duration": 309,
    "start_time": "2021-08-11T16:47:04.989Z"
   },
   {
    "duration": 37,
    "start_time": "2021-08-11T16:47:27.556Z"
   },
   {
    "duration": 36,
    "start_time": "2021-08-11T16:47:38.578Z"
   },
   {
    "duration": 6,
    "start_time": "2021-08-11T16:50:49.329Z"
   },
   {
    "duration": 257,
    "start_time": "2021-08-11T16:52:07.282Z"
   },
   {
    "duration": 29,
    "start_time": "2021-08-11T16:52:15.604Z"
   },
   {
    "duration": 20,
    "start_time": "2021-08-11T16:56:20.622Z"
   },
   {
    "duration": 26,
    "start_time": "2021-08-11T16:57:08.444Z"
   },
   {
    "duration": 25,
    "start_time": "2021-08-11T16:57:42.773Z"
   },
   {
    "duration": 16,
    "start_time": "2021-08-11T16:57:52.771Z"
   },
   {
    "duration": 40,
    "start_time": "2021-08-11T16:58:38.502Z"
   },
   {
    "duration": 37,
    "start_time": "2021-08-11T16:58:56.466Z"
   },
   {
    "duration": 29,
    "start_time": "2021-08-11T17:00:04.313Z"
   },
   {
    "duration": 264,
    "start_time": "2021-08-11T17:02:06.350Z"
   },
   {
    "duration": 28,
    "start_time": "2021-08-11T17:02:12.687Z"
   },
   {
    "duration": 21,
    "start_time": "2021-08-11T17:03:03.725Z"
   },
   {
    "duration": 27,
    "start_time": "2021-08-11T17:03:17.888Z"
   },
   {
    "duration": 26,
    "start_time": "2021-08-11T17:03:30.547Z"
   },
   {
    "duration": 39,
    "start_time": "2021-08-11T17:04:55.692Z"
   },
   {
    "duration": 28,
    "start_time": "2021-08-11T17:05:02.410Z"
   },
   {
    "duration": 5,
    "start_time": "2021-08-11T17:05:05.310Z"
   },
   {
    "duration": 86,
    "start_time": "2021-08-11T17:05:05.318Z"
   },
   {
    "duration": 19,
    "start_time": "2021-08-11T17:05:05.408Z"
   },
   {
    "duration": 15,
    "start_time": "2021-08-11T17:05:05.430Z"
   },
   {
    "duration": 54,
    "start_time": "2021-08-11T17:05:05.448Z"
   },
   {
    "duration": 10,
    "start_time": "2021-08-11T17:05:05.505Z"
   },
   {
    "duration": 16,
    "start_time": "2021-08-11T17:05:05.517Z"
   },
   {
    "duration": 22,
    "start_time": "2021-08-11T17:05:05.535Z"
   },
   {
    "duration": 62,
    "start_time": "2021-08-11T17:05:05.562Z"
   },
   {
    "duration": 34,
    "start_time": "2021-08-11T17:05:05.627Z"
   },
   {
    "duration": 44,
    "start_time": "2021-08-11T17:05:05.664Z"
   },
   {
    "duration": 22,
    "start_time": "2021-08-11T17:05:05.710Z"
   },
   {
    "duration": 23,
    "start_time": "2021-08-11T17:05:05.735Z"
   },
   {
    "duration": 54,
    "start_time": "2021-08-11T17:05:05.761Z"
   },
   {
    "duration": 12,
    "start_time": "2021-08-11T17:05:05.819Z"
   },
   {
    "duration": 7,
    "start_time": "2021-08-11T17:05:05.835Z"
   },
   {
    "duration": 16,
    "start_time": "2021-08-11T17:05:05.844Z"
   },
   {
    "duration": 606,
    "start_time": "2021-08-11T17:05:05.862Z"
   },
   {
    "duration": 32,
    "start_time": "2021-08-11T17:05:06.470Z"
   },
   {
    "duration": 250,
    "start_time": "2021-08-11T17:05:06.504Z"
   },
   {
    "duration": 16,
    "start_time": "2021-08-11T17:05:06.756Z"
   },
   {
    "duration": 34,
    "start_time": "2021-08-11T17:05:06.775Z"
   },
   {
    "duration": 10,
    "start_time": "2021-08-11T17:05:06.812Z"
   },
   {
    "duration": 29,
    "start_time": "2021-08-11T17:05:06.825Z"
   },
   {
    "duration": 11,
    "start_time": "2021-08-11T17:05:06.857Z"
   },
   {
    "duration": 34,
    "start_time": "2021-08-11T17:05:06.871Z"
   },
   {
    "duration": 24,
    "start_time": "2021-08-11T17:05:06.911Z"
   },
   {
    "duration": 20,
    "start_time": "2021-08-11T17:05:06.938Z"
   },
   {
    "duration": 50,
    "start_time": "2021-08-11T17:05:06.960Z"
   },
   {
    "duration": 19,
    "start_time": "2021-08-11T17:05:07.012Z"
   },
   {
    "duration": 7,
    "start_time": "2021-08-11T17:05:07.033Z"
   },
   {
    "duration": 675,
    "start_time": "2021-08-11T17:05:07.042Z"
   },
   {
    "duration": 783,
    "start_time": "2021-08-11T17:05:07.720Z"
   },
   {
    "duration": 553,
    "start_time": "2021-08-11T17:05:08.506Z"
   },
   {
    "duration": 38,
    "start_time": "2021-08-11T17:05:09.062Z"
   },
   {
    "duration": 491,
    "start_time": "2021-08-11T17:05:09.103Z"
   },
   {
    "duration": 3533,
    "start_time": "2021-08-11T17:05:09.601Z"
   },
   {
    "duration": 24,
    "start_time": "2021-08-11T17:05:13.137Z"
   },
   {
    "duration": 574,
    "start_time": "2021-08-11T17:05:13.163Z"
   },
   {
    "duration": 643,
    "start_time": "2021-08-11T17:05:13.740Z"
   },
   {
    "duration": 33,
    "start_time": "2021-08-11T17:05:14.385Z"
   },
   {
    "duration": 8,
    "start_time": "2021-08-11T17:05:14.420Z"
   },
   {
    "duration": 30,
    "start_time": "2021-08-11T17:05:14.430Z"
   },
   {
    "duration": 291,
    "start_time": "2021-08-11T17:05:14.463Z"
   },
   {
    "duration": -92,
    "start_time": "2021-08-11T17:05:14.849Z"
   },
   {
    "duration": -93,
    "start_time": "2021-08-11T17:05:14.851Z"
   },
   {
    "duration": 6,
    "start_time": "2021-08-11T17:05:44.890Z"
   },
   {
    "duration": 63,
    "start_time": "2021-08-11T17:05:44.900Z"
   },
   {
    "duration": 54,
    "start_time": "2021-08-11T17:05:44.966Z"
   },
   {
    "duration": 16,
    "start_time": "2021-08-11T17:05:45.024Z"
   },
   {
    "duration": 59,
    "start_time": "2021-08-11T17:05:45.043Z"
   },
   {
    "duration": 10,
    "start_time": "2021-08-11T17:05:45.105Z"
   },
   {
    "duration": 22,
    "start_time": "2021-08-11T17:05:45.118Z"
   },
   {
    "duration": 11,
    "start_time": "2021-08-11T17:05:45.145Z"
   },
   {
    "duration": 58,
    "start_time": "2021-08-11T17:05:45.159Z"
   },
   {
    "duration": 32,
    "start_time": "2021-08-11T17:05:45.220Z"
   },
   {
    "duration": 48,
    "start_time": "2021-08-11T17:05:45.254Z"
   },
   {
    "duration": 20,
    "start_time": "2021-08-11T17:05:45.304Z"
   },
   {
    "duration": 19,
    "start_time": "2021-08-11T17:05:45.326Z"
   },
   {
    "duration": 17,
    "start_time": "2021-08-11T17:05:45.348Z"
   },
   {
    "duration": 9,
    "start_time": "2021-08-11T17:05:45.401Z"
   },
   {
    "duration": 5,
    "start_time": "2021-08-11T17:05:45.413Z"
   },
   {
    "duration": 15,
    "start_time": "2021-08-11T17:05:45.421Z"
   },
   {
    "duration": 551,
    "start_time": "2021-08-11T17:05:45.439Z"
   },
   {
    "duration": 20,
    "start_time": "2021-08-11T17:05:45.993Z"
   },
   {
    "duration": 426,
    "start_time": "2021-08-11T17:05:46.016Z"
   },
   {
    "duration": 16,
    "start_time": "2021-08-11T17:05:46.445Z"
   },
   {
    "duration": 16,
    "start_time": "2021-08-11T17:05:46.464Z"
   },
   {
    "duration": 11,
    "start_time": "2021-08-11T17:05:46.504Z"
   },
   {
    "duration": 16,
    "start_time": "2021-08-11T17:05:46.518Z"
   },
   {
    "duration": 9,
    "start_time": "2021-08-11T17:05:46.536Z"
   },
   {
    "duration": 55,
    "start_time": "2021-08-11T17:05:46.547Z"
   },
   {
    "duration": 26,
    "start_time": "2021-08-11T17:05:46.604Z"
   },
   {
    "duration": 22,
    "start_time": "2021-08-11T17:05:46.632Z"
   },
   {
    "duration": 47,
    "start_time": "2021-08-11T17:05:46.657Z"
   },
   {
    "duration": 12,
    "start_time": "2021-08-11T17:05:46.706Z"
   },
   {
    "duration": 7,
    "start_time": "2021-08-11T17:05:46.721Z"
   },
   {
    "duration": 678,
    "start_time": "2021-08-11T17:05:46.730Z"
   },
   {
    "duration": 613,
    "start_time": "2021-08-11T17:05:47.410Z"
   },
   {
    "duration": 575,
    "start_time": "2021-08-11T17:05:48.027Z"
   },
   {
    "duration": 19,
    "start_time": "2021-08-11T17:05:48.605Z"
   },
   {
    "duration": 519,
    "start_time": "2021-08-11T17:05:48.626Z"
   },
   {
    "duration": 3709,
    "start_time": "2021-08-11T17:05:49.147Z"
   },
   {
    "duration": 23,
    "start_time": "2021-08-11T17:05:52.858Z"
   },
   {
    "duration": 759,
    "start_time": "2021-08-11T17:05:52.883Z"
   },
   {
    "duration": 608,
    "start_time": "2021-08-11T17:05:53.645Z"
   },
   {
    "duration": 38,
    "start_time": "2021-08-11T17:05:54.256Z"
   },
   {
    "duration": 7,
    "start_time": "2021-08-11T17:05:54.297Z"
   },
   {
    "duration": 31,
    "start_time": "2021-08-11T17:05:54.307Z"
   },
   {
    "duration": 18,
    "start_time": "2021-08-11T17:05:54.341Z"
   },
   {
    "duration": 73,
    "start_time": "2021-08-11T17:05:54.362Z"
   },
   {
    "duration": 29,
    "start_time": "2021-08-11T17:05:54.439Z"
   },
   {
    "duration": 2024,
    "start_time": "2021-08-12T09:58:22.871Z"
   },
   {
    "duration": 56,
    "start_time": "2021-08-12T09:58:24.898Z"
   },
   {
    "duration": 23,
    "start_time": "2021-08-12T09:58:24.957Z"
   },
   {
    "duration": 23,
    "start_time": "2021-08-12T09:58:24.983Z"
   },
   {
    "duration": 23,
    "start_time": "2021-08-12T09:58:25.008Z"
   },
   {
    "duration": 8,
    "start_time": "2021-08-12T09:58:25.034Z"
   },
   {
    "duration": 9,
    "start_time": "2021-08-12T09:58:25.044Z"
   },
   {
    "duration": 50,
    "start_time": "2021-08-12T09:58:25.056Z"
   },
   {
    "duration": 28,
    "start_time": "2021-08-12T09:58:25.110Z"
   },
   {
    "duration": 30,
    "start_time": "2021-08-12T09:58:25.141Z"
   },
   {
    "duration": 50,
    "start_time": "2021-08-12T09:58:25.174Z"
   },
   {
    "duration": 19,
    "start_time": "2021-08-12T09:58:25.227Z"
   },
   {
    "duration": 19,
    "start_time": "2021-08-12T09:58:25.249Z"
   },
   {
    "duration": 18,
    "start_time": "2021-08-12T09:58:25.301Z"
   },
   {
    "duration": 11,
    "start_time": "2021-08-12T09:58:25.322Z"
   },
   {
    "duration": 7,
    "start_time": "2021-08-12T09:58:25.335Z"
   },
   {
    "duration": 12,
    "start_time": "2021-08-12T09:58:25.345Z"
   },
   {
    "duration": 596,
    "start_time": "2021-08-12T09:58:25.359Z"
   },
   {
    "duration": 17,
    "start_time": "2021-08-12T09:58:25.957Z"
   },
   {
    "duration": 280,
    "start_time": "2021-08-12T09:58:25.976Z"
   },
   {
    "duration": 17,
    "start_time": "2021-08-12T09:58:26.258Z"
   },
   {
    "duration": 34,
    "start_time": "2021-08-12T09:58:26.277Z"
   },
   {
    "duration": 26,
    "start_time": "2021-08-12T09:58:26.314Z"
   },
   {
    "duration": 21,
    "start_time": "2021-08-12T09:58:26.343Z"
   },
   {
    "duration": 34,
    "start_time": "2021-08-12T09:58:26.367Z"
   },
   {
    "duration": 25,
    "start_time": "2021-08-12T09:58:26.404Z"
   },
   {
    "duration": 24,
    "start_time": "2021-08-12T09:58:26.434Z"
   },
   {
    "duration": 56,
    "start_time": "2021-08-12T09:58:26.461Z"
   },
   {
    "duration": 21,
    "start_time": "2021-08-12T09:58:26.520Z"
   },
   {
    "duration": 13,
    "start_time": "2021-08-12T09:58:26.545Z"
   },
   {
    "duration": 42,
    "start_time": "2021-08-12T09:58:26.561Z"
   },
   {
    "duration": 643,
    "start_time": "2021-08-12T09:58:26.606Z"
   },
   {
    "duration": 652,
    "start_time": "2021-08-12T09:58:27.252Z"
   },
   {
    "duration": 558,
    "start_time": "2021-08-12T09:58:27.906Z"
   },
   {
    "duration": 34,
    "start_time": "2021-08-12T09:58:28.467Z"
   },
   {
    "duration": 588,
    "start_time": "2021-08-12T09:58:28.503Z"
   },
   {
    "duration": 3625,
    "start_time": "2021-08-12T09:58:29.101Z"
   },
   {
    "duration": 24,
    "start_time": "2021-08-12T09:58:32.728Z"
   },
   {
    "duration": 688,
    "start_time": "2021-08-12T09:58:32.755Z"
   },
   {
    "duration": 778,
    "start_time": "2021-08-12T09:58:33.446Z"
   },
   {
    "duration": 35,
    "start_time": "2021-08-12T09:58:34.226Z"
   },
   {
    "duration": 9,
    "start_time": "2021-08-12T09:58:34.263Z"
   },
   {
    "duration": 49,
    "start_time": "2021-08-12T09:58:34.275Z"
   },
   {
    "duration": 16,
    "start_time": "2021-08-12T09:58:34.327Z"
   },
   {
    "duration": 67,
    "start_time": "2021-08-12T09:58:34.345Z"
   },
   {
    "duration": 30,
    "start_time": "2021-08-12T09:58:34.415Z"
   },
   {
    "duration": 4,
    "start_time": "2021-08-12T10:10:49.056Z"
   },
   {
    "duration": 59,
    "start_time": "2021-08-12T10:10:49.063Z"
   },
   {
    "duration": 19,
    "start_time": "2021-08-12T10:10:49.125Z"
   },
   {
    "duration": 18,
    "start_time": "2021-08-12T10:10:49.146Z"
   },
   {
    "duration": 22,
    "start_time": "2021-08-12T10:10:49.201Z"
   },
   {
    "duration": 8,
    "start_time": "2021-08-12T10:10:49.226Z"
   },
   {
    "duration": 14,
    "start_time": "2021-08-12T10:10:49.236Z"
   },
   {
    "duration": 12,
    "start_time": "2021-08-12T10:10:49.253Z"
   },
   {
    "duration": 26,
    "start_time": "2021-08-12T10:10:49.302Z"
   },
   {
    "duration": 30,
    "start_time": "2021-08-12T10:10:49.331Z"
   },
   {
    "duration": 53,
    "start_time": "2021-08-12T10:10:49.363Z"
   },
   {
    "duration": 19,
    "start_time": "2021-08-12T10:10:49.419Z"
   },
   {
    "duration": 20,
    "start_time": "2021-08-12T10:10:49.441Z"
   },
   {
    "duration": 44,
    "start_time": "2021-08-12T10:10:49.463Z"
   },
   {
    "duration": 17,
    "start_time": "2021-08-12T10:10:49.510Z"
   },
   {
    "duration": 7,
    "start_time": "2021-08-12T10:10:49.530Z"
   },
   {
    "duration": 19,
    "start_time": "2021-08-12T10:10:49.540Z"
   },
   {
    "duration": 566,
    "start_time": "2021-08-12T10:10:49.561Z"
   },
   {
    "duration": 17,
    "start_time": "2021-08-12T10:10:50.129Z"
   },
   {
    "duration": 290,
    "start_time": "2021-08-12T10:10:50.148Z"
   },
   {
    "duration": 15,
    "start_time": "2021-08-12T10:10:50.441Z"
   },
   {
    "duration": 13,
    "start_time": "2021-08-12T10:10:50.458Z"
   },
   {
    "duration": 11,
    "start_time": "2021-08-12T10:10:50.500Z"
   },
   {
    "duration": 31,
    "start_time": "2021-08-12T10:10:50.514Z"
   },
   {
    "duration": 23,
    "start_time": "2021-08-12T10:10:50.547Z"
   },
   {
    "duration": 31,
    "start_time": "2021-08-12T10:10:50.572Z"
   },
   {
    "duration": 23,
    "start_time": "2021-08-12T10:10:50.605Z"
   },
   {
    "duration": 19,
    "start_time": "2021-08-12T10:10:50.631Z"
   },
   {
    "duration": 49,
    "start_time": "2021-08-12T10:10:50.652Z"
   },
   {
    "duration": 10,
    "start_time": "2021-08-12T10:10:50.704Z"
   },
   {
    "duration": 13,
    "start_time": "2021-08-12T10:10:50.716Z"
   },
   {
    "duration": 622,
    "start_time": "2021-08-12T10:10:50.731Z"
   },
   {
    "duration": 643,
    "start_time": "2021-08-12T10:10:51.356Z"
   },
   {
    "duration": 576,
    "start_time": "2021-08-12T10:10:52.002Z"
   },
   {
    "duration": 27,
    "start_time": "2021-08-12T10:10:52.581Z"
   },
   {
    "duration": 523,
    "start_time": "2021-08-12T10:10:52.611Z"
   },
   {
    "duration": 3663,
    "start_time": "2021-08-12T10:10:53.137Z"
   },
   {
    "duration": 23,
    "start_time": "2021-08-12T10:10:56.802Z"
   },
   {
    "duration": 616,
    "start_time": "2021-08-12T10:10:56.828Z"
   },
   {
    "duration": 615,
    "start_time": "2021-08-12T10:10:57.447Z"
   },
   {
    "duration": 33,
    "start_time": "2021-08-12T10:10:58.064Z"
   },
   {
    "duration": 14,
    "start_time": "2021-08-12T10:10:58.099Z"
   },
   {
    "duration": 44,
    "start_time": "2021-08-12T10:10:58.116Z"
   },
   {
    "duration": 16,
    "start_time": "2021-08-12T10:10:58.163Z"
   },
   {
    "duration": 50,
    "start_time": "2021-08-12T10:10:58.181Z"
   },
   {
    "duration": 26,
    "start_time": "2021-08-12T10:10:58.234Z"
   },
   {
    "duration": 514,
    "start_time": "2021-08-12T10:16:55.838Z"
   },
   {
    "duration": 12335,
    "start_time": "2021-08-12T10:20:26.933Z"
   },
   {
    "duration": 728,
    "start_time": "2021-08-12T11:48:24.591Z"
   },
   {
    "duration": 995,
    "start_time": "2021-08-12T11:48:50.967Z"
   },
   {
    "duration": 657,
    "start_time": "2021-08-12T11:48:55.171Z"
   },
   {
    "duration": 724,
    "start_time": "2021-08-12T11:49:08.930Z"
   },
   {
    "duration": 637,
    "start_time": "2021-08-12T11:49:12.498Z"
   },
   {
    "duration": 633,
    "start_time": "2021-08-12T11:49:36.250Z"
   },
   {
    "duration": 652,
    "start_time": "2021-08-12T11:50:12.852Z"
   },
   {
    "duration": 964,
    "start_time": "2021-08-12T11:50:20.172Z"
   },
   {
    "duration": 655,
    "start_time": "2021-08-12T11:50:38.583Z"
   },
   {
    "duration": 633,
    "start_time": "2021-08-12T11:51:03.302Z"
   },
   {
    "duration": 628,
    "start_time": "2021-08-12T11:51:07.680Z"
   },
   {
    "duration": 536,
    "start_time": "2021-08-12T11:51:47.818Z"
   },
   {
    "duration": 555,
    "start_time": "2021-08-12T11:51:56.335Z"
   },
   {
    "duration": 545,
    "start_time": "2021-08-12T11:52:02.380Z"
   },
   {
    "duration": 559,
    "start_time": "2021-08-12T11:52:30.425Z"
   },
   {
    "duration": 566,
    "start_time": "2021-08-12T11:52:50.215Z"
   },
   {
    "duration": 677,
    "start_time": "2021-08-12T11:52:55.856Z"
   },
   {
    "duration": 25,
    "start_time": "2021-08-12T11:59:22.650Z"
   },
   {
    "duration": 489,
    "start_time": "2021-08-12T11:59:52.180Z"
   },
   {
    "duration": 25,
    "start_time": "2021-08-12T12:00:54.990Z"
   },
   {
    "duration": 6,
    "start_time": "2021-08-12T12:02:49.349Z"
   },
   {
    "duration": 259,
    "start_time": "2021-08-12T12:03:12.969Z"
   },
   {
    "duration": 8,
    "start_time": "2021-08-12T12:03:23.462Z"
   },
   {
    "duration": 552,
    "start_time": "2021-08-12T12:03:26.517Z"
   },
   {
    "duration": 6,
    "start_time": "2021-08-12T12:03:38.220Z"
   },
   {
    "duration": 492,
    "start_time": "2021-08-12T12:03:38.750Z"
   },
   {
    "duration": 252,
    "start_time": "2021-08-12T12:04:08.466Z"
   },
   {
    "duration": 657,
    "start_time": "2021-08-12T12:04:19.104Z"
   },
   {
    "duration": 260,
    "start_time": "2021-08-12T12:04:56.580Z"
   },
   {
    "duration": 261,
    "start_time": "2021-08-12T12:05:02.407Z"
   },
   {
    "duration": 490,
    "start_time": "2021-08-12T12:05:10.176Z"
   },
   {
    "duration": 7,
    "start_time": "2021-08-12T12:05:57.436Z"
   },
   {
    "duration": 480,
    "start_time": "2021-08-12T12:05:57.753Z"
   },
   {
    "duration": 3030,
    "start_time": "2021-08-12T12:10:13.257Z"
   },
   {
    "duration": 5,
    "start_time": "2021-08-12T12:10:16.290Z"
   },
   {
    "duration": 84,
    "start_time": "2021-08-12T12:10:16.299Z"
   },
   {
    "duration": 20,
    "start_time": "2021-08-12T12:10:16.386Z"
   },
   {
    "duration": 43,
    "start_time": "2021-08-12T12:10:16.409Z"
   },
   {
    "duration": 33,
    "start_time": "2021-08-12T12:10:16.455Z"
   },
   {
    "duration": 19,
    "start_time": "2021-08-12T12:10:16.491Z"
   },
   {
    "duration": 33,
    "start_time": "2021-08-12T12:10:16.512Z"
   },
   {
    "duration": 32,
    "start_time": "2021-08-12T12:10:16.549Z"
   },
   {
    "duration": 41,
    "start_time": "2021-08-12T12:10:16.584Z"
   },
   {
    "duration": 31,
    "start_time": "2021-08-12T12:10:16.627Z"
   },
   {
    "duration": 39,
    "start_time": "2021-08-12T12:10:16.660Z"
   },
   {
    "duration": 19,
    "start_time": "2021-08-12T12:10:16.701Z"
   },
   {
    "duration": 19,
    "start_time": "2021-08-12T12:10:16.722Z"
   },
   {
    "duration": 22,
    "start_time": "2021-08-12T12:10:16.744Z"
   },
   {
    "duration": 39,
    "start_time": "2021-08-12T12:10:16.768Z"
   },
   {
    "duration": 18,
    "start_time": "2021-08-12T12:10:16.809Z"
   },
   {
    "duration": 28,
    "start_time": "2021-08-12T12:10:16.830Z"
   },
   {
    "duration": 560,
    "start_time": "2021-08-12T12:10:16.861Z"
   },
   {
    "duration": 16,
    "start_time": "2021-08-12T12:10:17.424Z"
   },
   {
    "duration": 344,
    "start_time": "2021-08-12T12:10:17.443Z"
   },
   {
    "duration": 25,
    "start_time": "2021-08-12T12:10:17.789Z"
   },
   {
    "duration": 20,
    "start_time": "2021-08-12T12:10:17.816Z"
   },
   {
    "duration": 27,
    "start_time": "2021-08-12T12:10:17.839Z"
   },
   {
    "duration": 46,
    "start_time": "2021-08-12T12:10:17.868Z"
   },
   {
    "duration": 35,
    "start_time": "2021-08-12T12:10:17.917Z"
   },
   {
    "duration": 27,
    "start_time": "2021-08-12T12:10:17.957Z"
   },
   {
    "duration": 26,
    "start_time": "2021-08-12T12:10:17.987Z"
   },
   {
    "duration": 21,
    "start_time": "2021-08-12T12:10:18.015Z"
   },
   {
    "duration": 20,
    "start_time": "2021-08-12T12:10:18.038Z"
   },
   {
    "duration": 29,
    "start_time": "2021-08-12T12:10:18.060Z"
   },
   {
    "duration": 15,
    "start_time": "2021-08-12T12:10:18.092Z"
   },
   {
    "duration": 618,
    "start_time": "2021-08-12T12:10:18.109Z"
   },
   {
    "duration": 608,
    "start_time": "2021-08-12T12:10:18.729Z"
   },
   {
    "duration": 557,
    "start_time": "2021-08-12T12:10:19.339Z"
   },
   {
    "duration": 19,
    "start_time": "2021-08-12T12:10:19.901Z"
   },
   {
    "duration": 678,
    "start_time": "2021-08-12T12:10:19.922Z"
   },
   {
    "duration": 3625,
    "start_time": "2021-08-12T12:10:20.603Z"
   },
   {
    "duration": 24,
    "start_time": "2021-08-12T12:10:24.230Z"
   },
   {
    "duration": 814,
    "start_time": "2021-08-12T12:10:24.256Z"
   },
   {
    "duration": 433,
    "start_time": "2021-08-12T12:10:25.073Z"
   },
   {
    "duration": 34,
    "start_time": "2021-08-12T12:10:25.508Z"
   },
   {
    "duration": 10,
    "start_time": "2021-08-12T12:10:25.544Z"
   },
   {
    "duration": 63,
    "start_time": "2021-08-12T12:10:25.556Z"
   },
   {
    "duration": 17,
    "start_time": "2021-08-12T12:10:25.621Z"
   },
   {
    "duration": 69,
    "start_time": "2021-08-12T12:10:25.641Z"
   },
   {
    "duration": 29,
    "start_time": "2021-08-12T12:10:25.713Z"
   },
   {
    "duration": 56,
    "start_time": "2021-08-12T12:10:25.745Z"
   },
   {
    "duration": 8,
    "start_time": "2021-08-12T12:10:25.805Z"
   },
   {
    "duration": 7,
    "start_time": "2021-08-12T12:10:25.816Z"
   },
   {
    "duration": 555,
    "start_time": "2021-08-12T12:10:25.825Z"
   },
   {
    "duration": 484,
    "start_time": "2021-08-12T12:10:45.312Z"
   },
   {
    "duration": 1159,
    "start_time": "2021-08-12T12:48:05.348Z"
   },
   {
    "duration": 547,
    "start_time": "2021-08-12T12:48:21.165Z"
   },
   {
    "duration": 276,
    "start_time": "2021-08-12T12:51:03.383Z"
   },
   {
    "duration": -44,
    "start_time": "2021-08-12T12:51:03.708Z"
   },
   {
    "duration": -45,
    "start_time": "2021-08-12T12:51:03.710Z"
   },
   {
    "duration": -45,
    "start_time": "2021-08-12T12:51:03.711Z"
   },
   {
    "duration": -63,
    "start_time": "2021-08-12T12:51:03.731Z"
   },
   {
    "duration": -64,
    "start_time": "2021-08-12T12:51:03.733Z"
   },
   {
    "duration": -64,
    "start_time": "2021-08-12T12:51:03.734Z"
   },
   {
    "duration": -63,
    "start_time": "2021-08-12T12:51:03.735Z"
   },
   {
    "duration": -63,
    "start_time": "2021-08-12T12:51:03.736Z"
   },
   {
    "duration": -64,
    "start_time": "2021-08-12T12:51:03.738Z"
   },
   {
    "duration": -63,
    "start_time": "2021-08-12T12:51:03.739Z"
   },
   {
    "duration": -67,
    "start_time": "2021-08-12T12:51:03.744Z"
   },
   {
    "duration": -67,
    "start_time": "2021-08-12T12:51:03.746Z"
   },
   {
    "duration": -67,
    "start_time": "2021-08-12T12:51:03.747Z"
   },
   {
    "duration": -67,
    "start_time": "2021-08-12T12:51:03.748Z"
   },
   {
    "duration": -67,
    "start_time": "2021-08-12T12:51:03.750Z"
   },
   {
    "duration": -67,
    "start_time": "2021-08-12T12:51:03.751Z"
   },
   {
    "duration": -66,
    "start_time": "2021-08-12T12:51:03.752Z"
   },
   {
    "duration": -67,
    "start_time": "2021-08-12T12:51:03.754Z"
   },
   {
    "duration": -67,
    "start_time": "2021-08-12T12:51:03.755Z"
   },
   {
    "duration": -65,
    "start_time": "2021-08-12T12:51:03.755Z"
   },
   {
    "duration": -66,
    "start_time": "2021-08-12T12:51:03.757Z"
   },
   {
    "duration": -65,
    "start_time": "2021-08-12T12:51:03.758Z"
   },
   {
    "duration": -65,
    "start_time": "2021-08-12T12:51:03.759Z"
   },
   {
    "duration": -64,
    "start_time": "2021-08-12T12:51:03.759Z"
   },
   {
    "duration": -96,
    "start_time": "2021-08-12T12:51:03.793Z"
   },
   {
    "duration": -96,
    "start_time": "2021-08-12T12:51:03.795Z"
   },
   {
    "duration": -96,
    "start_time": "2021-08-12T12:51:03.796Z"
   },
   {
    "duration": -96,
    "start_time": "2021-08-12T12:51:03.797Z"
   },
   {
    "duration": -95,
    "start_time": "2021-08-12T12:51:03.798Z"
   },
   {
    "duration": -95,
    "start_time": "2021-08-12T12:51:03.799Z"
   },
   {
    "duration": -94,
    "start_time": "2021-08-12T12:51:03.800Z"
   },
   {
    "duration": -94,
    "start_time": "2021-08-12T12:51:03.801Z"
   },
   {
    "duration": -94,
    "start_time": "2021-08-12T12:51:03.802Z"
   },
   {
    "duration": -94,
    "start_time": "2021-08-12T12:51:03.803Z"
   },
   {
    "duration": -92,
    "start_time": "2021-08-12T12:51:03.803Z"
   },
   {
    "duration": -92,
    "start_time": "2021-08-12T12:51:03.804Z"
   },
   {
    "duration": -92,
    "start_time": "2021-08-12T12:51:03.805Z"
   },
   {
    "duration": -104,
    "start_time": "2021-08-12T12:51:03.818Z"
   },
   {
    "duration": -103,
    "start_time": "2021-08-12T12:51:03.819Z"
   },
   {
    "duration": -105,
    "start_time": "2021-08-12T12:51:03.822Z"
   },
   {
    "duration": -105,
    "start_time": "2021-08-12T12:51:03.824Z"
   },
   {
    "duration": -105,
    "start_time": "2021-08-12T12:51:03.825Z"
   },
   {
    "duration": -105,
    "start_time": "2021-08-12T12:51:03.826Z"
   },
   {
    "duration": -104,
    "start_time": "2021-08-12T12:51:03.826Z"
   },
   {
    "duration": -103,
    "start_time": "2021-08-12T12:51:03.827Z"
   },
   {
    "duration": -103,
    "start_time": "2021-08-12T12:51:03.828Z"
   },
   {
    "duration": -103,
    "start_time": "2021-08-12T12:51:03.829Z"
   },
   {
    "duration": -106,
    "start_time": "2021-08-12T12:51:03.834Z"
   },
   {
    "duration": -107,
    "start_time": "2021-08-12T12:51:03.836Z"
   },
   {
    "duration": -108,
    "start_time": "2021-08-12T12:51:03.838Z"
   },
   {
    "duration": -109,
    "start_time": "2021-08-12T12:51:03.840Z"
   },
   {
    "duration": 3186,
    "start_time": "2021-08-12T12:51:25.830Z"
   },
   {
    "duration": 5,
    "start_time": "2021-08-12T12:51:29.019Z"
   },
   {
    "duration": 316,
    "start_time": "2021-08-12T12:51:29.027Z"
   },
   {
    "duration": -48,
    "start_time": "2021-08-12T12:51:29.396Z"
   },
   {
    "duration": -49,
    "start_time": "2021-08-12T12:51:29.398Z"
   },
   {
    "duration": -50,
    "start_time": "2021-08-12T12:51:29.400Z"
   },
   {
    "duration": -62,
    "start_time": "2021-08-12T12:51:29.415Z"
   },
   {
    "duration": -63,
    "start_time": "2021-08-12T12:51:29.417Z"
   },
   {
    "duration": -63,
    "start_time": "2021-08-12T12:51:29.419Z"
   },
   {
    "duration": -62,
    "start_time": "2021-08-12T12:51:29.420Z"
   },
   {
    "duration": -62,
    "start_time": "2021-08-12T12:51:29.421Z"
   },
   {
    "duration": -62,
    "start_time": "2021-08-12T12:51:29.423Z"
   },
   {
    "duration": -65,
    "start_time": "2021-08-12T12:51:29.427Z"
   },
   {
    "duration": -65,
    "start_time": "2021-08-12T12:51:29.429Z"
   },
   {
    "duration": -65,
    "start_time": "2021-08-12T12:51:29.430Z"
   },
   {
    "duration": -65,
    "start_time": "2021-08-12T12:51:29.432Z"
   },
   {
    "duration": -65,
    "start_time": "2021-08-12T12:51:29.433Z"
   },
   {
    "duration": -64,
    "start_time": "2021-08-12T12:51:29.434Z"
   },
   {
    "duration": -63,
    "start_time": "2021-08-12T12:51:29.435Z"
   },
   {
    "duration": -63,
    "start_time": "2021-08-12T12:51:29.436Z"
   },
   {
    "duration": -62,
    "start_time": "2021-08-12T12:51:29.437Z"
   },
   {
    "duration": -62,
    "start_time": "2021-08-12T12:51:29.438Z"
   },
   {
    "duration": -61,
    "start_time": "2021-08-12T12:51:29.439Z"
   },
   {
    "duration": -62,
    "start_time": "2021-08-12T12:51:29.441Z"
   },
   {
    "duration": -61,
    "start_time": "2021-08-12T12:51:29.442Z"
   },
   {
    "duration": -61,
    "start_time": "2021-08-12T12:51:29.443Z"
   },
   {
    "duration": -60,
    "start_time": "2021-08-12T12:51:29.444Z"
   },
   {
    "duration": -89,
    "start_time": "2021-08-12T12:51:29.475Z"
   },
   {
    "duration": -77,
    "start_time": "2021-08-12T12:51:29.479Z"
   },
   {
    "duration": -76,
    "start_time": "2021-08-12T12:51:29.480Z"
   },
   {
    "duration": -76,
    "start_time": "2021-08-12T12:51:29.481Z"
   },
   {
    "duration": -75,
    "start_time": "2021-08-12T12:51:29.482Z"
   },
   {
    "duration": -75,
    "start_time": "2021-08-12T12:51:29.483Z"
   },
   {
    "duration": -75,
    "start_time": "2021-08-12T12:51:29.485Z"
   },
   {
    "duration": -73,
    "start_time": "2021-08-12T12:51:29.485Z"
   },
   {
    "duration": -73,
    "start_time": "2021-08-12T12:51:29.486Z"
   },
   {
    "duration": -72,
    "start_time": "2021-08-12T12:51:29.487Z"
   },
   {
    "duration": -71,
    "start_time": "2021-08-12T12:51:29.488Z"
   },
   {
    "duration": -71,
    "start_time": "2021-08-12T12:51:29.489Z"
   },
   {
    "duration": -70,
    "start_time": "2021-08-12T12:51:29.490Z"
   },
   {
    "duration": -91,
    "start_time": "2021-08-12T12:51:29.513Z"
   },
   {
    "duration": -91,
    "start_time": "2021-08-12T12:51:29.514Z"
   },
   {
    "duration": -97,
    "start_time": "2021-08-12T12:51:29.522Z"
   },
   {
    "duration": -106,
    "start_time": "2021-08-12T12:51:29.532Z"
   },
   {
    "duration": -107,
    "start_time": "2021-08-12T12:51:29.535Z"
   },
   {
    "duration": -107,
    "start_time": "2021-08-12T12:51:29.536Z"
   },
   {
    "duration": -109,
    "start_time": "2021-08-12T12:51:29.540Z"
   },
   {
    "duration": -110,
    "start_time": "2021-08-12T12:51:29.542Z"
   },
   {
    "duration": -109,
    "start_time": "2021-08-12T12:51:29.543Z"
   },
   {
    "duration": -108,
    "start_time": "2021-08-12T12:51:29.543Z"
   },
   {
    "duration": -108,
    "start_time": "2021-08-12T12:51:29.544Z"
   },
   {
    "duration": -110,
    "start_time": "2021-08-12T12:51:29.548Z"
   },
   {
    "duration": 3206,
    "start_time": "2021-08-12T12:51:53.004Z"
   },
   {
    "duration": 6,
    "start_time": "2021-08-12T12:51:56.213Z"
   },
   {
    "duration": 8,
    "start_time": "2021-08-12T12:51:56.223Z"
   },
   {
    "duration": 78,
    "start_time": "2021-08-12T12:51:56.235Z"
   },
   {
    "duration": 23,
    "start_time": "2021-08-12T12:51:56.315Z"
   },
   {
    "duration": 15,
    "start_time": "2021-08-12T12:51:56.341Z"
   },
   {
    "duration": 58,
    "start_time": "2021-08-12T12:51:56.359Z"
   },
   {
    "duration": 10,
    "start_time": "2021-08-12T12:51:56.420Z"
   },
   {
    "duration": 16,
    "start_time": "2021-08-12T12:51:56.434Z"
   },
   {
    "duration": 11,
    "start_time": "2021-08-12T12:51:56.453Z"
   },
   {
    "duration": 53,
    "start_time": "2021-08-12T12:51:56.467Z"
   },
   {
    "duration": 31,
    "start_time": "2021-08-12T12:51:56.523Z"
   },
   {
    "duration": 54,
    "start_time": "2021-08-12T12:51:56.557Z"
   },
   {
    "duration": 21,
    "start_time": "2021-08-12T12:51:56.614Z"
   },
   {
    "duration": 22,
    "start_time": "2021-08-12T12:51:56.637Z"
   },
   {
    "duration": 46,
    "start_time": "2021-08-12T12:51:56.662Z"
   },
   {
    "duration": 10,
    "start_time": "2021-08-12T12:51:56.710Z"
   },
   {
    "duration": 6,
    "start_time": "2021-08-12T12:51:56.722Z"
   },
   {
    "duration": 19,
    "start_time": "2021-08-12T12:51:56.731Z"
   },
   {
    "duration": 707,
    "start_time": "2021-08-12T12:51:56.753Z"
   },
   {
    "duration": 17,
    "start_time": "2021-08-12T12:51:57.462Z"
   },
   {
    "duration": 365,
    "start_time": "2021-08-12T12:51:57.481Z"
   },
   {
    "duration": 17,
    "start_time": "2021-08-12T12:51:57.850Z"
   },
   {
    "duration": 43,
    "start_time": "2021-08-12T12:51:57.869Z"
   },
   {
    "duration": 12,
    "start_time": "2021-08-12T12:51:57.915Z"
   },
   {
    "duration": 18,
    "start_time": "2021-08-12T12:51:57.931Z"
   },
   {
    "duration": 6,
    "start_time": "2021-08-12T12:51:57.957Z"
   },
   {
    "duration": 22,
    "start_time": "2021-08-12T12:51:58.003Z"
   },
   {
    "duration": 27,
    "start_time": "2021-08-12T12:51:58.027Z"
   },
   {
    "duration": 62,
    "start_time": "2021-08-12T12:51:58.057Z"
   },
   {
    "duration": 18,
    "start_time": "2021-08-12T12:51:58.122Z"
   },
   {
    "duration": 12,
    "start_time": "2021-08-12T12:51:58.142Z"
   },
   {
    "duration": 43,
    "start_time": "2021-08-12T12:51:58.157Z"
   },
   {
    "duration": 762,
    "start_time": "2021-08-12T12:51:58.203Z"
   },
   {
    "duration": 760,
    "start_time": "2021-08-12T12:51:58.968Z"
   },
   {
    "duration": 689,
    "start_time": "2021-08-12T12:51:59.730Z"
   },
   {
    "duration": 22,
    "start_time": "2021-08-12T12:52:00.421Z"
   },
   {
    "duration": 672,
    "start_time": "2021-08-12T12:52:00.446Z"
   },
   {
    "duration": 3884,
    "start_time": "2021-08-12T12:52:01.120Z"
   },
   {
    "duration": 23,
    "start_time": "2021-08-12T12:52:05.006Z"
   },
   {
    "duration": 686,
    "start_time": "2021-08-12T12:52:05.032Z"
   },
   {
    "duration": 211,
    "start_time": "2021-08-12T12:52:05.721Z"
   },
   {
    "duration": 34,
    "start_time": "2021-08-12T12:52:05.935Z"
   },
   {
    "duration": 29,
    "start_time": "2021-08-12T12:52:05.971Z"
   },
   {
    "duration": 30,
    "start_time": "2021-08-12T12:52:06.003Z"
   },
   {
    "duration": 17,
    "start_time": "2021-08-12T12:52:06.036Z"
   },
   {
    "duration": 70,
    "start_time": "2021-08-12T12:52:06.056Z"
   },
   {
    "duration": 31,
    "start_time": "2021-08-12T12:52:06.128Z"
   },
   {
    "duration": 49,
    "start_time": "2021-08-12T12:52:06.162Z"
   },
   {
    "duration": 9,
    "start_time": "2021-08-12T12:52:06.214Z"
   },
   {
    "duration": 12,
    "start_time": "2021-08-12T12:52:06.225Z"
   },
   {
    "duration": 661,
    "start_time": "2021-08-12T12:52:06.239Z"
   },
   {
    "duration": 3256,
    "start_time": "2021-08-12T12:53:00.144Z"
   },
   {
    "duration": 6,
    "start_time": "2021-08-12T12:53:03.403Z"
   },
   {
    "duration": 17,
    "start_time": "2021-08-12T12:53:03.412Z"
   },
   {
    "duration": 86,
    "start_time": "2021-08-12T12:53:03.432Z"
   },
   {
    "duration": 20,
    "start_time": "2021-08-12T12:53:03.520Z"
   },
   {
    "duration": 18,
    "start_time": "2021-08-12T12:53:03.542Z"
   },
   {
    "duration": 44,
    "start_time": "2021-08-12T12:53:03.563Z"
   },
   {
    "duration": 9,
    "start_time": "2021-08-12T12:53:03.612Z"
   },
   {
    "duration": 25,
    "start_time": "2021-08-12T12:53:03.625Z"
   },
   {
    "duration": 30,
    "start_time": "2021-08-12T12:53:03.653Z"
   },
   {
    "duration": 40,
    "start_time": "2021-08-12T12:53:03.686Z"
   },
   {
    "duration": 34,
    "start_time": "2021-08-12T12:53:03.728Z"
   },
   {
    "duration": 52,
    "start_time": "2021-08-12T12:53:03.765Z"
   },
   {
    "duration": 19,
    "start_time": "2021-08-12T12:53:03.820Z"
   },
   {
    "duration": 20,
    "start_time": "2021-08-12T12:53:03.842Z"
   },
   {
    "duration": 44,
    "start_time": "2021-08-12T12:53:03.865Z"
   },
   {
    "duration": 9,
    "start_time": "2021-08-12T12:53:03.912Z"
   },
   {
    "duration": 11,
    "start_time": "2021-08-12T12:53:03.923Z"
   },
   {
    "duration": 30,
    "start_time": "2021-08-12T12:53:03.936Z"
   },
   {
    "duration": 1139,
    "start_time": "2021-08-12T12:53:03.969Z"
   },
   {
    "duration": 17,
    "start_time": "2021-08-12T12:53:05.110Z"
   },
   {
    "duration": 678,
    "start_time": "2021-08-12T12:53:05.129Z"
   },
   {
    "duration": 16,
    "start_time": "2021-08-12T12:53:05.813Z"
   },
   {
    "duration": 13,
    "start_time": "2021-08-12T12:53:05.832Z"
   },
   {
    "duration": 14,
    "start_time": "2021-08-12T12:53:05.847Z"
   },
   {
    "duration": 46,
    "start_time": "2021-08-12T12:53:05.863Z"
   },
   {
    "duration": 27,
    "start_time": "2021-08-12T12:53:05.911Z"
   },
   {
    "duration": 23,
    "start_time": "2021-08-12T12:53:05.941Z"
   },
   {
    "duration": 36,
    "start_time": "2021-08-12T12:53:05.966Z"
   },
   {
    "duration": 20,
    "start_time": "2021-08-12T12:53:06.005Z"
   },
   {
    "duration": 16,
    "start_time": "2021-08-12T12:53:06.028Z"
   },
   {
    "duration": 15,
    "start_time": "2021-08-12T12:53:06.047Z"
   },
   {
    "duration": 8,
    "start_time": "2021-08-12T12:53:06.101Z"
   },
   {
    "duration": 1265,
    "start_time": "2021-08-12T12:53:06.112Z"
   },
   {
    "duration": 1194,
    "start_time": "2021-08-12T12:53:07.380Z"
   },
   {
    "duration": 1006,
    "start_time": "2021-08-12T12:53:08.576Z"
   },
   {
    "duration": 30,
    "start_time": "2021-08-12T12:53:09.585Z"
   },
   {
    "duration": 1100,
    "start_time": "2021-08-12T12:53:09.617Z"
   },
   {
    "duration": 3805,
    "start_time": "2021-08-12T12:53:10.720Z"
   },
   {
    "duration": 23,
    "start_time": "2021-08-12T12:53:14.528Z"
   },
   {
    "duration": 1159,
    "start_time": "2021-08-12T12:53:14.554Z"
   },
   {
    "duration": 643,
    "start_time": "2021-08-12T12:53:15.715Z"
   },
   {
    "duration": 35,
    "start_time": "2021-08-12T12:53:16.361Z"
   },
   {
    "duration": 11,
    "start_time": "2021-08-12T12:53:16.399Z"
   },
   {
    "duration": 41,
    "start_time": "2021-08-12T12:53:16.413Z"
   },
   {
    "duration": 18,
    "start_time": "2021-08-12T12:53:16.456Z"
   },
   {
    "duration": 41,
    "start_time": "2021-08-12T12:53:16.500Z"
   },
   {
    "duration": 29,
    "start_time": "2021-08-12T12:53:16.543Z"
   },
   {
    "duration": 23,
    "start_time": "2021-08-12T12:53:16.601Z"
   },
   {
    "duration": 6,
    "start_time": "2021-08-12T12:53:16.627Z"
   },
   {
    "duration": 9,
    "start_time": "2021-08-12T12:53:16.636Z"
   },
   {
    "duration": 1018,
    "start_time": "2021-08-12T12:53:16.648Z"
   },
   {
    "duration": 3088,
    "start_time": "2021-08-12T12:54:44.159Z"
   },
   {
    "duration": 5,
    "start_time": "2021-08-12T12:54:47.250Z"
   },
   {
    "duration": 8,
    "start_time": "2021-08-12T12:54:47.258Z"
   },
   {
    "duration": 75,
    "start_time": "2021-08-12T12:54:47.269Z"
   },
   {
    "duration": 21,
    "start_time": "2021-08-12T12:54:47.347Z"
   },
   {
    "duration": 31,
    "start_time": "2021-08-12T12:54:47.370Z"
   },
   {
    "duration": 24,
    "start_time": "2021-08-12T12:54:47.404Z"
   },
   {
    "duration": 10,
    "start_time": "2021-08-12T12:54:47.432Z"
   },
   {
    "duration": 60,
    "start_time": "2021-08-12T12:54:47.445Z"
   },
   {
    "duration": 17,
    "start_time": "2021-08-12T12:54:47.509Z"
   },
   {
    "duration": 97,
    "start_time": "2021-08-12T12:54:47.530Z"
   },
   {
    "duration": 93,
    "start_time": "2021-08-12T12:54:47.631Z"
   },
   {
    "duration": 85,
    "start_time": "2021-08-12T12:54:47.726Z"
   },
   {
    "duration": 19,
    "start_time": "2021-08-12T12:54:47.813Z"
   },
   {
    "duration": 78,
    "start_time": "2021-08-12T12:54:47.835Z"
   },
   {
    "duration": 19,
    "start_time": "2021-08-12T12:54:47.915Z"
   },
   {
    "duration": 11,
    "start_time": "2021-08-12T12:54:47.937Z"
   },
   {
    "duration": 5,
    "start_time": "2021-08-12T12:54:48.002Z"
   },
   {
    "duration": 22,
    "start_time": "2021-08-12T12:54:48.009Z"
   },
   {
    "duration": 1330,
    "start_time": "2021-08-12T12:54:48.034Z"
   },
   {
    "duration": 34,
    "start_time": "2021-08-12T12:54:49.366Z"
   },
   {
    "duration": 634,
    "start_time": "2021-08-12T12:54:49.402Z"
   },
   {
    "duration": 16,
    "start_time": "2021-08-12T12:54:50.042Z"
   },
   {
    "duration": 15,
    "start_time": "2021-08-12T12:54:50.061Z"
   },
   {
    "duration": 34,
    "start_time": "2021-08-12T12:54:50.078Z"
   },
   {
    "duration": 27,
    "start_time": "2021-08-12T12:54:50.114Z"
   },
   {
    "duration": 11,
    "start_time": "2021-08-12T12:54:50.143Z"
   },
   {
    "duration": 46,
    "start_time": "2021-08-12T12:54:50.157Z"
   },
   {
    "duration": 26,
    "start_time": "2021-08-12T12:54:50.205Z"
   },
   {
    "duration": 21,
    "start_time": "2021-08-12T12:54:50.234Z"
   },
   {
    "duration": 51,
    "start_time": "2021-08-12T12:54:50.258Z"
   },
   {
    "duration": 18,
    "start_time": "2021-08-12T12:54:50.311Z"
   },
   {
    "duration": 7,
    "start_time": "2021-08-12T12:54:50.332Z"
   },
   {
    "duration": 1346,
    "start_time": "2021-08-12T12:54:50.341Z"
   },
   {
    "duration": 1255,
    "start_time": "2021-08-12T12:54:51.690Z"
   },
   {
    "duration": 846,
    "start_time": "2021-08-12T12:54:52.947Z"
   },
   {
    "duration": 20,
    "start_time": "2021-08-12T12:54:53.799Z"
   },
   {
    "duration": 1133,
    "start_time": "2021-08-12T12:54:53.822Z"
   },
   {
    "duration": 3811,
    "start_time": "2021-08-12T12:54:54.958Z"
   },
   {
    "duration": 38,
    "start_time": "2021-08-12T12:54:58.772Z"
   },
   {
    "duration": 1170,
    "start_time": "2021-08-12T12:54:58.813Z"
   },
   {
    "duration": 533,
    "start_time": "2021-08-12T12:54:59.986Z"
   },
   {
    "duration": 42,
    "start_time": "2021-08-12T12:55:00.523Z"
   },
   {
    "duration": 33,
    "start_time": "2021-08-12T12:55:00.567Z"
   },
   {
    "duration": 39,
    "start_time": "2021-08-12T12:55:00.603Z"
   },
   {
    "duration": 17,
    "start_time": "2021-08-12T12:55:00.644Z"
   },
   {
    "duration": 71,
    "start_time": "2021-08-12T12:55:00.664Z"
   },
   {
    "duration": 26,
    "start_time": "2021-08-12T12:55:00.738Z"
   },
   {
    "duration": 50,
    "start_time": "2021-08-12T12:55:00.767Z"
   },
   {
    "duration": 14,
    "start_time": "2021-08-12T12:55:00.819Z"
   },
   {
    "duration": 15,
    "start_time": "2021-08-12T12:55:00.835Z"
   },
   {
    "duration": 1063,
    "start_time": "2021-08-12T12:55:00.852Z"
   },
   {
    "duration": 3162,
    "start_time": "2021-08-12T12:55:03.692Z"
   },
   {
    "duration": 4,
    "start_time": "2021-08-12T12:55:06.857Z"
   },
   {
    "duration": 7,
    "start_time": "2021-08-12T12:55:06.864Z"
   },
   {
    "duration": 66,
    "start_time": "2021-08-12T12:55:06.874Z"
   },
   {
    "duration": 19,
    "start_time": "2021-08-12T12:55:06.942Z"
   },
   {
    "duration": 20,
    "start_time": "2021-08-12T12:55:06.964Z"
   },
   {
    "duration": 35,
    "start_time": "2021-08-12T12:55:06.987Z"
   },
   {
    "duration": 9,
    "start_time": "2021-08-12T12:55:07.026Z"
   },
   {
    "duration": 15,
    "start_time": "2021-08-12T12:55:07.038Z"
   },
   {
    "duration": 16,
    "start_time": "2021-08-12T12:55:07.055Z"
   },
   {
    "duration": 27,
    "start_time": "2021-08-12T12:55:07.102Z"
   },
   {
    "duration": 35,
    "start_time": "2021-08-12T12:55:07.131Z"
   },
   {
    "duration": 60,
    "start_time": "2021-08-12T12:55:07.169Z"
   },
   {
    "duration": 21,
    "start_time": "2021-08-12T12:55:07.231Z"
   },
   {
    "duration": 22,
    "start_time": "2021-08-12T12:55:07.255Z"
   },
   {
    "duration": 20,
    "start_time": "2021-08-12T12:55:07.301Z"
   },
   {
    "duration": 16,
    "start_time": "2021-08-12T12:55:07.324Z"
   },
   {
    "duration": 14,
    "start_time": "2021-08-12T12:55:07.343Z"
   },
   {
    "duration": 24,
    "start_time": "2021-08-12T12:55:07.359Z"
   },
   {
    "duration": 1223,
    "start_time": "2021-08-12T12:55:07.385Z"
   },
   {
    "duration": 18,
    "start_time": "2021-08-12T12:55:08.610Z"
   },
   {
    "duration": 712,
    "start_time": "2021-08-12T12:55:08.630Z"
   },
   {
    "duration": 16,
    "start_time": "2021-08-12T12:55:09.348Z"
   },
   {
    "duration": 34,
    "start_time": "2021-08-12T12:55:09.368Z"
   },
   {
    "duration": 23,
    "start_time": "2021-08-12T12:55:09.404Z"
   },
   {
    "duration": 29,
    "start_time": "2021-08-12T12:55:09.430Z"
   },
   {
    "duration": 30,
    "start_time": "2021-08-12T12:55:09.462Z"
   },
   {
    "duration": 39,
    "start_time": "2021-08-12T12:55:09.495Z"
   },
   {
    "duration": 24,
    "start_time": "2021-08-12T12:55:09.537Z"
   },
   {
    "duration": 24,
    "start_time": "2021-08-12T12:55:09.564Z"
   },
   {
    "duration": 20,
    "start_time": "2021-08-12T12:55:09.590Z"
   },
   {
    "duration": 22,
    "start_time": "2021-08-12T12:55:09.613Z"
   },
   {
    "duration": 13,
    "start_time": "2021-08-12T12:55:09.637Z"
   },
   {
    "duration": 1291,
    "start_time": "2021-08-12T12:55:09.652Z"
   },
   {
    "duration": 1209,
    "start_time": "2021-08-12T12:55:10.946Z"
   },
   {
    "duration": 889,
    "start_time": "2021-08-12T12:55:12.158Z"
   },
   {
    "duration": 20,
    "start_time": "2021-08-12T12:55:13.050Z"
   },
   {
    "duration": 1135,
    "start_time": "2021-08-12T12:55:13.073Z"
   },
   {
    "duration": 3746,
    "start_time": "2021-08-12T12:55:14.210Z"
   },
   {
    "duration": 24,
    "start_time": "2021-08-12T12:55:17.959Z"
   },
   {
    "duration": 1150,
    "start_time": "2021-08-12T12:55:17.985Z"
   },
   {
    "duration": 645,
    "start_time": "2021-08-12T12:55:19.137Z"
   },
   {
    "duration": 35,
    "start_time": "2021-08-12T12:55:19.785Z"
   },
   {
    "duration": 14,
    "start_time": "2021-08-12T12:55:19.822Z"
   },
   {
    "duration": 33,
    "start_time": "2021-08-12T12:55:19.838Z"
   },
   {
    "duration": 39,
    "start_time": "2021-08-12T12:55:19.873Z"
   },
   {
    "duration": 36,
    "start_time": "2021-08-12T12:55:19.914Z"
   },
   {
    "duration": 57,
    "start_time": "2021-08-12T12:55:19.952Z"
   },
   {
    "duration": 23,
    "start_time": "2021-08-12T12:55:20.012Z"
   },
   {
    "duration": 7,
    "start_time": "2021-08-12T12:55:20.038Z"
   },
   {
    "duration": 21,
    "start_time": "2021-08-12T12:55:20.047Z"
   },
   {
    "duration": 961,
    "start_time": "2021-08-12T12:55:20.071Z"
   },
   {
    "duration": 3161,
    "start_time": "2021-08-12T12:55:31.011Z"
   },
   {
    "duration": 1484,
    "start_time": "2021-08-12T12:55:34.175Z"
   },
   {
    "duration": 3,
    "start_time": "2021-08-12T12:55:35.662Z"
   },
   {
    "duration": 80,
    "start_time": "2021-08-12T12:55:35.668Z"
   },
   {
    "duration": 27,
    "start_time": "2021-08-12T12:55:35.751Z"
   },
   {
    "duration": 28,
    "start_time": "2021-08-12T12:55:35.781Z"
   },
   {
    "duration": 40,
    "start_time": "2021-08-12T12:55:35.812Z"
   },
   {
    "duration": 9,
    "start_time": "2021-08-12T12:55:35.856Z"
   },
   {
    "duration": 25,
    "start_time": "2021-08-12T12:55:35.869Z"
   },
   {
    "duration": 25,
    "start_time": "2021-08-12T12:55:35.901Z"
   },
   {
    "duration": 29,
    "start_time": "2021-08-12T12:55:35.928Z"
   },
   {
    "duration": 30,
    "start_time": "2021-08-12T12:55:35.959Z"
   },
   {
    "duration": 24,
    "start_time": "2021-08-12T12:55:36.000Z"
   },
   {
    "duration": 18,
    "start_time": "2021-08-12T12:55:36.027Z"
   },
   {
    "duration": 23,
    "start_time": "2021-08-12T12:55:36.047Z"
   },
   {
    "duration": 42,
    "start_time": "2021-08-12T12:55:36.073Z"
   },
   {
    "duration": 22,
    "start_time": "2021-08-12T12:55:36.118Z"
   },
   {
    "duration": 17,
    "start_time": "2021-08-12T12:55:36.143Z"
   },
   {
    "duration": 14,
    "start_time": "2021-08-12T12:55:36.162Z"
   },
   {
    "duration": 560,
    "start_time": "2021-08-12T12:55:36.179Z"
   },
   {
    "duration": 18,
    "start_time": "2021-08-12T12:55:36.741Z"
   },
   {
    "duration": 286,
    "start_time": "2021-08-12T12:55:36.761Z"
   },
   {
    "duration": 15,
    "start_time": "2021-08-12T12:55:37.050Z"
   },
   {
    "duration": 33,
    "start_time": "2021-08-12T12:55:37.069Z"
   },
   {
    "duration": 12,
    "start_time": "2021-08-12T12:55:37.104Z"
   },
   {
    "duration": 25,
    "start_time": "2021-08-12T12:55:37.118Z"
   },
   {
    "duration": 6,
    "start_time": "2021-08-12T12:55:37.149Z"
   },
   {
    "duration": 47,
    "start_time": "2021-08-12T12:55:37.158Z"
   },
   {
    "duration": 29,
    "start_time": "2021-08-12T12:55:37.207Z"
   },
   {
    "duration": 20,
    "start_time": "2021-08-12T12:55:37.239Z"
   },
   {
    "duration": 46,
    "start_time": "2021-08-12T12:55:37.261Z"
   },
   {
    "duration": 14,
    "start_time": "2021-08-12T12:55:37.310Z"
   },
   {
    "duration": 6,
    "start_time": "2021-08-12T12:55:37.326Z"
   },
   {
    "duration": 708,
    "start_time": "2021-08-12T12:55:37.334Z"
   },
   {
    "duration": 632,
    "start_time": "2021-08-12T12:55:38.045Z"
   },
   {
    "duration": 567,
    "start_time": "2021-08-12T12:55:38.680Z"
   },
   {
    "duration": 23,
    "start_time": "2021-08-12T12:55:39.251Z"
   },
   {
    "duration": 609,
    "start_time": "2021-08-12T12:55:39.277Z"
   },
   {
    "duration": 3592,
    "start_time": "2021-08-12T12:55:39.890Z"
   },
   {
    "duration": 35,
    "start_time": "2021-08-12T12:55:43.485Z"
   },
   {
    "duration": 661,
    "start_time": "2021-08-12T12:55:43.523Z"
   },
   {
    "duration": 595,
    "start_time": "2021-08-12T12:55:44.187Z"
   },
   {
    "duration": 37,
    "start_time": "2021-08-12T12:55:44.784Z"
   },
   {
    "duration": 11,
    "start_time": "2021-08-12T12:55:44.823Z"
   },
   {
    "duration": 33,
    "start_time": "2021-08-12T12:55:44.836Z"
   },
   {
    "duration": 33,
    "start_time": "2021-08-12T12:55:44.871Z"
   },
   {
    "duration": 40,
    "start_time": "2021-08-12T12:55:44.907Z"
   },
   {
    "duration": 53,
    "start_time": "2021-08-12T12:55:44.950Z"
   },
   {
    "duration": 24,
    "start_time": "2021-08-12T12:55:45.006Z"
   },
   {
    "duration": 7,
    "start_time": "2021-08-12T12:55:45.033Z"
   },
   {
    "duration": 9,
    "start_time": "2021-08-12T12:55:45.043Z"
   },
   {
    "duration": 533,
    "start_time": "2021-08-12T12:55:45.055Z"
   },
   {
    "duration": 584,
    "start_time": "2021-08-12T12:59:10.956Z"
   },
   {
    "duration": 572,
    "start_time": "2021-08-12T12:59:19.269Z"
   },
   {
    "duration": 504,
    "start_time": "2021-08-12T13:00:59.718Z"
   },
   {
    "duration": 503,
    "start_time": "2021-08-12T13:01:45.638Z"
   },
   {
    "duration": 1014,
    "start_time": "2021-08-12T13:10:16.432Z"
   },
   {
    "duration": 15,
    "start_time": "2021-08-12T13:39:56.401Z"
   },
   {
    "duration": 12,
    "start_time": "2021-08-12T13:39:57.416Z"
   },
   {
    "duration": 11,
    "start_time": "2021-08-12T13:40:55.298Z"
   },
   {
    "duration": 12,
    "start_time": "2021-08-12T13:41:44.097Z"
   },
   {
    "duration": 11,
    "start_time": "2021-08-12T13:41:44.579Z"
   },
   {
    "duration": 16,
    "start_time": "2021-08-12T13:41:55.022Z"
   },
   {
    "duration": 9,
    "start_time": "2021-08-12T13:41:58.038Z"
   },
   {
    "duration": 12,
    "start_time": "2021-08-12T13:43:20.562Z"
   },
   {
    "duration": 12,
    "start_time": "2021-08-12T13:43:20.994Z"
   },
   {
    "duration": 282,
    "start_time": "2021-08-12T13:43:22.996Z"
   },
   {
    "duration": 4395,
    "start_time": "2021-08-12T13:43:36.166Z"
   },
   {
    "duration": 5,
    "start_time": "2021-08-12T13:43:40.565Z"
   },
   {
    "duration": 12,
    "start_time": "2021-08-12T13:43:40.575Z"
   },
   {
    "duration": 67,
    "start_time": "2021-08-12T13:43:40.590Z"
   },
   {
    "duration": 22,
    "start_time": "2021-08-12T13:43:40.660Z"
   },
   {
    "duration": 24,
    "start_time": "2021-08-12T13:43:40.685Z"
   },
   {
    "duration": 35,
    "start_time": "2021-08-12T13:43:40.712Z"
   },
   {
    "duration": 12,
    "start_time": "2021-08-12T13:43:40.750Z"
   },
   {
    "duration": 38,
    "start_time": "2021-08-12T13:43:40.768Z"
   },
   {
    "duration": 14,
    "start_time": "2021-08-12T13:43:40.810Z"
   },
   {
    "duration": 29,
    "start_time": "2021-08-12T13:43:40.827Z"
   },
   {
    "duration": 71,
    "start_time": "2021-08-12T13:43:40.859Z"
   },
   {
    "duration": 27,
    "start_time": "2021-08-12T13:43:40.932Z"
   },
   {
    "duration": 47,
    "start_time": "2021-08-12T13:43:40.962Z"
   },
   {
    "duration": 22,
    "start_time": "2021-08-12T13:43:41.012Z"
   },
   {
    "duration": 20,
    "start_time": "2021-08-12T13:43:41.037Z"
   },
   {
    "duration": 43,
    "start_time": "2021-08-12T13:43:41.059Z"
   },
   {
    "duration": 6,
    "start_time": "2021-08-12T13:43:41.105Z"
   },
   {
    "duration": 15,
    "start_time": "2021-08-12T13:43:41.113Z"
   },
   {
    "duration": 575,
    "start_time": "2021-08-12T13:43:41.130Z"
   },
   {
    "duration": 18,
    "start_time": "2021-08-12T13:43:41.707Z"
   },
   {
    "duration": 341,
    "start_time": "2021-08-12T13:43:41.727Z"
   },
   {
    "duration": 13,
    "start_time": "2021-08-12T13:43:42.070Z"
   },
   {
    "duration": 11,
    "start_time": "2021-08-12T13:43:42.101Z"
   },
   {
    "duration": 14,
    "start_time": "2021-08-12T13:43:42.114Z"
   },
   {
    "duration": 26,
    "start_time": "2021-08-12T13:43:42.131Z"
   },
   {
    "duration": 37,
    "start_time": "2021-08-12T13:43:42.165Z"
   },
   {
    "duration": 19,
    "start_time": "2021-08-12T13:43:42.205Z"
   },
   {
    "duration": 27,
    "start_time": "2021-08-12T13:43:42.227Z"
   },
   {
    "duration": 62,
    "start_time": "2021-08-12T13:43:42.257Z"
   },
   {
    "duration": 24,
    "start_time": "2021-08-12T13:43:42.322Z"
   },
   {
    "duration": 13,
    "start_time": "2021-08-12T13:43:42.349Z"
   },
   {
    "duration": 40,
    "start_time": "2021-08-12T13:43:42.365Z"
   },
   {
    "duration": 788,
    "start_time": "2021-08-12T13:43:42.407Z"
   },
   {
    "duration": 677,
    "start_time": "2021-08-12T13:43:43.201Z"
   },
   {
    "duration": 628,
    "start_time": "2021-08-12T13:43:43.881Z"
   },
   {
    "duration": 21,
    "start_time": "2021-08-12T13:43:44.512Z"
   },
   {
    "duration": 873,
    "start_time": "2021-08-12T13:43:44.536Z"
   },
   {
    "duration": 4004,
    "start_time": "2021-08-12T13:43:45.412Z"
   },
   {
    "duration": 23,
    "start_time": "2021-08-12T13:43:49.418Z"
   },
   {
    "duration": 586,
    "start_time": "2021-08-12T13:43:49.443Z"
   },
   {
    "duration": 636,
    "start_time": "2021-08-12T13:43:50.032Z"
   },
   {
    "duration": 37,
    "start_time": "2021-08-12T13:43:50.670Z"
   },
   {
    "duration": 18,
    "start_time": "2021-08-12T13:43:50.710Z"
   },
   {
    "duration": 45,
    "start_time": "2021-08-12T13:43:50.730Z"
   },
   {
    "duration": 26,
    "start_time": "2021-08-12T13:43:50.778Z"
   },
   {
    "duration": 42,
    "start_time": "2021-08-12T13:43:50.807Z"
   },
   {
    "duration": 63,
    "start_time": "2021-08-12T13:43:50.852Z"
   },
   {
    "duration": 24,
    "start_time": "2021-08-12T13:43:50.918Z"
   },
   {
    "duration": 8,
    "start_time": "2021-08-12T13:43:50.946Z"
   },
   {
    "duration": 48,
    "start_time": "2021-08-12T13:43:50.957Z"
   },
   {
    "duration": 514,
    "start_time": "2021-08-12T13:43:51.007Z"
   },
   {
    "duration": 878,
    "start_time": "2021-08-12T13:44:32.503Z"
   },
   {
    "duration": 839,
    "start_time": "2021-08-12T13:46:00.861Z"
   },
   {
    "duration": 859,
    "start_time": "2021-08-12T13:46:11.580Z"
   },
   {
    "duration": 810,
    "start_time": "2021-08-12T13:46:38.232Z"
   },
   {
    "duration": 665,
    "start_time": "2021-08-12T13:46:56.393Z"
   },
   {
    "duration": 878,
    "start_time": "2021-08-12T13:47:11.754Z"
   },
   {
    "duration": 1340,
    "start_time": "2021-08-12T13:49:00.290Z"
   },
   {
    "duration": 769,
    "start_time": "2021-08-12T13:49:25.261Z"
   },
   {
    "duration": 682,
    "start_time": "2021-08-12T13:49:34.876Z"
   },
   {
    "duration": 926,
    "start_time": "2021-08-12T13:49:42.597Z"
   },
   {
    "duration": 841,
    "start_time": "2021-08-12T13:49:49.090Z"
   },
   {
    "duration": 824,
    "start_time": "2021-08-12T13:49:59.335Z"
   },
   {
    "duration": 1061,
    "start_time": "2021-08-12T13:51:57.307Z"
   },
   {
    "duration": 688,
    "start_time": "2021-08-12T13:52:19.182Z"
   },
   {
    "duration": 861,
    "start_time": "2021-08-12T13:52:27.706Z"
   },
   {
    "duration": 850,
    "start_time": "2021-08-12T13:52:35.944Z"
   },
   {
    "duration": 816,
    "start_time": "2021-08-12T13:52:45.713Z"
   },
   {
    "duration": 1029,
    "start_time": "2021-08-12T13:53:40.542Z"
   },
   {
    "duration": 7,
    "start_time": "2021-08-12T13:55:46.682Z"
   },
   {
    "duration": 9,
    "start_time": "2021-08-12T13:55:58.973Z"
   },
   {
    "duration": 8,
    "start_time": "2021-08-12T13:56:02.969Z"
   },
   {
    "duration": 360,
    "start_time": "2021-08-12T13:56:12.381Z"
   },
   {
    "duration": 5,
    "start_time": "2021-08-12T13:56:58.363Z"
   },
   {
    "duration": 264,
    "start_time": "2021-08-12T13:57:08.775Z"
   },
   {
    "duration": 232,
    "start_time": "2021-08-12T13:57:41.318Z"
   },
   {
    "duration": 1282,
    "start_time": "2021-08-12T13:58:27.384Z"
   },
   {
    "duration": 1259,
    "start_time": "2021-08-12T13:58:33.677Z"
   },
   {
    "duration": 957,
    "start_time": "2021-08-12T13:58:58.647Z"
   },
   {
    "duration": 886,
    "start_time": "2021-08-12T13:59:13.304Z"
   },
   {
    "duration": 850,
    "start_time": "2021-08-12T13:59:24.229Z"
   },
   {
    "duration": 894,
    "start_time": "2021-08-12T14:00:24.527Z"
   },
   {
    "duration": 874,
    "start_time": "2021-08-12T14:00:37.808Z"
   },
   {
    "duration": 866,
    "start_time": "2021-08-12T14:00:40.662Z"
   },
   {
    "duration": 1256,
    "start_time": "2021-08-12T14:01:10.169Z"
   },
   {
    "duration": 890,
    "start_time": "2021-08-12T14:01:34.633Z"
   },
   {
    "duration": 789,
    "start_time": "2021-08-12T14:01:57.824Z"
   },
   {
    "duration": 883,
    "start_time": "2021-08-12T14:02:19.718Z"
   },
   {
    "duration": 794,
    "start_time": "2021-08-12T14:02:47.109Z"
   },
   {
    "duration": 788,
    "start_time": "2021-08-12T14:03:30.915Z"
   },
   {
    "duration": 779,
    "start_time": "2021-08-12T14:03:40.749Z"
   },
   {
    "duration": 1113,
    "start_time": "2021-08-12T14:05:27.748Z"
   },
   {
    "duration": 920,
    "start_time": "2021-08-12T14:05:35.933Z"
   },
   {
    "duration": 877,
    "start_time": "2021-08-12T14:06:14.538Z"
   },
   {
    "duration": 890,
    "start_time": "2021-08-12T14:06:24.310Z"
   },
   {
    "duration": 1047,
    "start_time": "2021-08-12T14:06:38.196Z"
   },
   {
    "duration": 875,
    "start_time": "2021-08-12T14:08:12.522Z"
   },
   {
    "duration": 3491,
    "start_time": "2021-08-12T14:08:21.226Z"
   },
   {
    "duration": 4,
    "start_time": "2021-08-12T14:08:24.720Z"
   },
   {
    "duration": 6,
    "start_time": "2021-08-12T14:08:24.728Z"
   },
   {
    "duration": 62,
    "start_time": "2021-08-12T14:08:24.737Z"
   },
   {
    "duration": 20,
    "start_time": "2021-08-12T14:08:24.802Z"
   },
   {
    "duration": 21,
    "start_time": "2021-08-12T14:08:24.825Z"
   },
   {
    "duration": 22,
    "start_time": "2021-08-12T14:08:24.849Z"
   },
   {
    "duration": 30,
    "start_time": "2021-08-12T14:08:24.874Z"
   },
   {
    "duration": 12,
    "start_time": "2021-08-12T14:08:24.909Z"
   },
   {
    "duration": 15,
    "start_time": "2021-08-12T14:08:24.924Z"
   },
   {
    "duration": 73,
    "start_time": "2021-08-12T14:08:24.941Z"
   },
   {
    "duration": 51,
    "start_time": "2021-08-12T14:08:25.016Z"
   },
   {
    "duration": 58,
    "start_time": "2021-08-12T14:08:25.070Z"
   },
   {
    "duration": 27,
    "start_time": "2021-08-12T14:08:25.131Z"
   },
   {
    "duration": 46,
    "start_time": "2021-08-12T14:08:25.160Z"
   },
   {
    "duration": 18,
    "start_time": "2021-08-12T14:08:25.208Z"
   },
   {
    "duration": 11,
    "start_time": "2021-08-12T14:08:25.228Z"
   },
   {
    "duration": 5,
    "start_time": "2021-08-12T14:08:25.241Z"
   },
   {
    "duration": 53,
    "start_time": "2021-08-12T14:08:25.249Z"
   },
   {
    "duration": 577,
    "start_time": "2021-08-12T14:08:25.304Z"
   },
   {
    "duration": 27,
    "start_time": "2021-08-12T14:08:25.884Z"
   },
   {
    "duration": 345,
    "start_time": "2021-08-12T14:08:25.914Z"
   },
   {
    "duration": 13,
    "start_time": "2021-08-12T14:08:26.262Z"
   },
   {
    "duration": 29,
    "start_time": "2021-08-12T14:08:26.277Z"
   },
   {
    "duration": 13,
    "start_time": "2021-08-12T14:08:26.308Z"
   },
   {
    "duration": 18,
    "start_time": "2021-08-12T14:08:26.324Z"
   },
   {
    "duration": 6,
    "start_time": "2021-08-12T14:08:26.347Z"
   },
   {
    "duration": 938,
    "start_time": "2021-08-12T14:08:26.356Z"
   },
   {
    "duration": -110,
    "start_time": "2021-08-12T14:08:27.411Z"
   },
   {
    "duration": -113,
    "start_time": "2021-08-12T14:08:27.416Z"
   },
   {
    "duration": -113,
    "start_time": "2021-08-12T14:08:27.418Z"
   },
   {
    "duration": -113,
    "start_time": "2021-08-12T14:08:27.420Z"
   },
   {
    "duration": -113,
    "start_time": "2021-08-12T14:08:27.421Z"
   },
   {
    "duration": -113,
    "start_time": "2021-08-12T14:08:27.423Z"
   },
   {
    "duration": -113,
    "start_time": "2021-08-12T14:08:27.425Z"
   },
   {
    "duration": -112,
    "start_time": "2021-08-12T14:08:27.426Z"
   },
   {
    "duration": -113,
    "start_time": "2021-08-12T14:08:27.428Z"
   },
   {
    "duration": -113,
    "start_time": "2021-08-12T14:08:27.429Z"
   },
   {
    "duration": -112,
    "start_time": "2021-08-12T14:08:27.430Z"
   },
   {
    "duration": -113,
    "start_time": "2021-08-12T14:08:27.432Z"
   },
   {
    "duration": -113,
    "start_time": "2021-08-12T14:08:27.433Z"
   },
   {
    "duration": -112,
    "start_time": "2021-08-12T14:08:27.434Z"
   },
   {
    "duration": -113,
    "start_time": "2021-08-12T14:08:27.436Z"
   },
   {
    "duration": -110,
    "start_time": "2021-08-12T14:08:27.437Z"
   },
   {
    "duration": -110,
    "start_time": "2021-08-12T14:08:27.438Z"
   },
   {
    "duration": -109,
    "start_time": "2021-08-12T14:08:27.439Z"
   },
   {
    "duration": -108,
    "start_time": "2021-08-12T14:08:27.441Z"
   },
   {
    "duration": -108,
    "start_time": "2021-08-12T14:08:27.442Z"
   },
   {
    "duration": -108,
    "start_time": "2021-08-12T14:08:27.444Z"
   },
   {
    "duration": -108,
    "start_time": "2021-08-12T14:08:27.445Z"
   },
   {
    "duration": -107,
    "start_time": "2021-08-12T14:08:27.446Z"
   },
   {
    "duration": -107,
    "start_time": "2021-08-12T14:08:27.447Z"
   },
   {
    "duration": -106,
    "start_time": "2021-08-12T14:08:27.448Z"
   },
   {
    "duration": -105,
    "start_time": "2021-08-12T14:08:27.449Z"
   },
   {
    "duration": 7,
    "start_time": "2021-08-12T14:09:56.361Z"
   },
   {
    "duration": 873,
    "start_time": "2021-08-12T14:10:34.009Z"
   },
   {
    "duration": 956,
    "start_time": "2021-08-12T14:10:48.351Z"
   },
   {
    "duration": 856,
    "start_time": "2021-08-12T14:10:55.538Z"
   },
   {
    "duration": 3167,
    "start_time": "2021-08-12T14:11:36.535Z"
   },
   {
    "duration": 5,
    "start_time": "2021-08-12T14:11:39.706Z"
   },
   {
    "duration": 18,
    "start_time": "2021-08-12T14:11:39.715Z"
   },
   {
    "duration": 71,
    "start_time": "2021-08-12T14:11:39.737Z"
   },
   {
    "duration": 20,
    "start_time": "2021-08-12T14:11:39.811Z"
   },
   {
    "duration": 35,
    "start_time": "2021-08-12T14:11:39.833Z"
   },
   {
    "duration": 33,
    "start_time": "2021-08-12T14:11:39.871Z"
   },
   {
    "duration": 11,
    "start_time": "2021-08-12T14:11:39.909Z"
   },
   {
    "duration": 27,
    "start_time": "2021-08-12T14:11:39.924Z"
   },
   {
    "duration": 18,
    "start_time": "2021-08-12T14:11:39.954Z"
   },
   {
    "duration": 42,
    "start_time": "2021-08-12T14:11:39.975Z"
   },
   {
    "duration": 33,
    "start_time": "2021-08-12T14:11:40.020Z"
   },
   {
    "duration": 49,
    "start_time": "2021-08-12T14:11:40.055Z"
   },
   {
    "duration": 21,
    "start_time": "2021-08-12T14:11:40.107Z"
   },
   {
    "duration": 23,
    "start_time": "2021-08-12T14:11:40.130Z"
   },
   {
    "duration": 48,
    "start_time": "2021-08-12T14:11:40.156Z"
   },
   {
    "duration": 10,
    "start_time": "2021-08-12T14:11:40.206Z"
   },
   {
    "duration": 12,
    "start_time": "2021-08-12T14:11:40.218Z"
   },
   {
    "duration": 26,
    "start_time": "2021-08-12T14:11:40.233Z"
   },
   {
    "duration": 573,
    "start_time": "2021-08-12T14:11:40.261Z"
   },
   {
    "duration": 18,
    "start_time": "2021-08-12T14:11:40.836Z"
   },
   {
    "duration": 331,
    "start_time": "2021-08-12T14:11:40.857Z"
   },
   {
    "duration": 13,
    "start_time": "2021-08-12T14:11:41.202Z"
   },
   {
    "duration": 33,
    "start_time": "2021-08-12T14:11:41.218Z"
   },
   {
    "duration": 21,
    "start_time": "2021-08-12T14:11:41.255Z"
   },
   {
    "duration": 36,
    "start_time": "2021-08-12T14:11:41.279Z"
   },
   {
    "duration": 6,
    "start_time": "2021-08-12T14:11:41.318Z"
   },
   {
    "duration": 13,
    "start_time": "2021-08-12T14:11:41.327Z"
   },
   {
    "duration": 34,
    "start_time": "2021-08-12T14:11:41.343Z"
   },
   {
    "duration": 43,
    "start_time": "2021-08-12T14:11:41.379Z"
   },
   {
    "duration": 27,
    "start_time": "2021-08-12T14:11:41.425Z"
   },
   {
    "duration": 56,
    "start_time": "2021-08-12T14:11:41.455Z"
   },
   {
    "duration": 14,
    "start_time": "2021-08-12T14:11:41.514Z"
   },
   {
    "duration": 14,
    "start_time": "2021-08-12T14:11:41.531Z"
   },
   {
    "duration": 732,
    "start_time": "2021-08-12T14:11:41.547Z"
   },
   {
    "duration": 765,
    "start_time": "2021-08-12T14:11:42.281Z"
   },
   {
    "duration": 582,
    "start_time": "2021-08-12T14:11:43.049Z"
   },
   {
    "duration": 19,
    "start_time": "2021-08-12T14:11:43.634Z"
   },
   {
    "duration": 544,
    "start_time": "2021-08-12T14:11:43.656Z"
   },
   {
    "duration": 3988,
    "start_time": "2021-08-12T14:11:44.203Z"
   },
   {
    "duration": 32,
    "start_time": "2021-08-12T14:11:48.201Z"
   },
   {
    "duration": 815,
    "start_time": "2021-08-12T14:11:48.236Z"
   },
   {
    "duration": 551,
    "start_time": "2021-08-12T14:11:49.054Z"
   },
   {
    "duration": 36,
    "start_time": "2021-08-12T14:11:49.607Z"
   },
   {
    "duration": 6,
    "start_time": "2021-08-12T14:11:49.647Z"
   },
   {
    "duration": 73,
    "start_time": "2021-08-12T14:11:49.656Z"
   },
   {
    "duration": 20,
    "start_time": "2021-08-12T14:11:49.732Z"
   },
   {
    "duration": 63,
    "start_time": "2021-08-12T14:11:49.755Z"
   },
   {
    "duration": 38,
    "start_time": "2021-08-12T14:11:49.821Z"
   },
   {
    "duration": 46,
    "start_time": "2021-08-12T14:11:49.862Z"
   },
   {
    "duration": 11,
    "start_time": "2021-08-12T14:11:49.911Z"
   },
   {
    "duration": 10,
    "start_time": "2021-08-12T14:11:49.925Z"
   },
   {
    "duration": 568,
    "start_time": "2021-08-12T14:11:49.937Z"
   },
   {
    "duration": 510,
    "start_time": "2021-08-12T14:11:53.871Z"
   },
   {
    "duration": 750,
    "start_time": "2021-08-12T14:12:12.556Z"
   },
   {
    "duration": 682,
    "start_time": "2021-08-12T14:12:17.824Z"
   },
   {
    "duration": 845,
    "start_time": "2021-08-12T14:12:33.979Z"
   },
   {
    "duration": 846,
    "start_time": "2021-08-12T14:12:47.699Z"
   },
   {
    "duration": 648,
    "start_time": "2021-08-12T14:14:57.570Z"
   },
   {
    "duration": 275,
    "start_time": "2021-08-12T14:15:05.643Z"
   },
   {
    "duration": 93,
    "start_time": "2021-08-12T14:17:23.601Z"
   },
   {
    "duration": 286,
    "start_time": "2021-08-12T14:17:30.872Z"
   },
   {
    "duration": 792,
    "start_time": "2021-08-12T14:18:33.020Z"
   },
   {
    "duration": 285,
    "start_time": "2021-08-12T14:18:41.456Z"
   },
   {
    "duration": 315,
    "start_time": "2021-08-12T14:21:34.860Z"
   },
   {
    "duration": 526,
    "start_time": "2021-08-12T14:22:24.213Z"
   },
   {
    "duration": 514,
    "start_time": "2021-08-12T14:22:37.563Z"
   },
   {
    "duration": 657,
    "start_time": "2021-08-12T14:23:30.584Z"
   },
   {
    "duration": 841,
    "start_time": "2021-08-12T14:24:07.960Z"
   },
   {
    "duration": 257,
    "start_time": "2021-08-12T14:33:32.186Z"
   },
   {
    "duration": 229,
    "start_time": "2021-08-12T14:34:19.525Z"
   },
   {
    "duration": 221,
    "start_time": "2021-08-12T14:34:52.130Z"
   },
   {
    "duration": 267,
    "start_time": "2021-08-12T14:36:11.546Z"
   },
   {
    "duration": 307,
    "start_time": "2021-08-12T14:36:47.047Z"
   },
   {
    "duration": 7279,
    "start_time": "2021-08-12T14:37:15.036Z"
   },
   {
    "duration": 3366,
    "start_time": "2021-08-12T14:37:28.424Z"
   },
   {
    "duration": 5,
    "start_time": "2021-08-12T14:37:31.793Z"
   },
   {
    "duration": 15,
    "start_time": "2021-08-12T14:37:31.801Z"
   },
   {
    "duration": 68,
    "start_time": "2021-08-12T14:37:31.819Z"
   },
   {
    "duration": 20,
    "start_time": "2021-08-12T14:37:31.890Z"
   },
   {
    "duration": 18,
    "start_time": "2021-08-12T14:37:31.912Z"
   },
   {
    "duration": 35,
    "start_time": "2021-08-12T14:37:31.933Z"
   },
   {
    "duration": 10,
    "start_time": "2021-08-12T14:37:31.971Z"
   },
   {
    "duration": 10,
    "start_time": "2021-08-12T14:37:32.003Z"
   },
   {
    "duration": 34,
    "start_time": "2021-08-12T14:37:32.016Z"
   },
   {
    "duration": 39,
    "start_time": "2021-08-12T14:37:32.052Z"
   },
   {
    "duration": 33,
    "start_time": "2021-08-12T14:37:32.093Z"
   },
   {
    "duration": 36,
    "start_time": "2021-08-12T14:37:32.129Z"
   },
   {
    "duration": 49,
    "start_time": "2021-08-12T14:37:32.169Z"
   },
   {
    "duration": 28,
    "start_time": "2021-08-12T14:37:32.221Z"
   },
   {
    "duration": 20,
    "start_time": "2021-08-12T14:37:32.252Z"
   },
   {
    "duration": 30,
    "start_time": "2021-08-12T14:37:32.275Z"
   },
   {
    "duration": 33,
    "start_time": "2021-08-12T14:37:32.308Z"
   },
   {
    "duration": 26,
    "start_time": "2021-08-12T14:37:32.343Z"
   },
   {
    "duration": 533,
    "start_time": "2021-08-12T14:37:32.372Z"
   },
   {
    "duration": 20,
    "start_time": "2021-08-12T14:37:32.908Z"
   },
   {
    "duration": 356,
    "start_time": "2021-08-12T14:37:32.930Z"
   },
   {
    "duration": 24,
    "start_time": "2021-08-12T14:37:33.288Z"
   },
   {
    "duration": 13,
    "start_time": "2021-08-12T14:37:33.315Z"
   },
   {
    "duration": 17,
    "start_time": "2021-08-12T14:37:33.331Z"
   },
   {
    "duration": 31,
    "start_time": "2021-08-12T14:37:33.350Z"
   },
   {
    "duration": 6,
    "start_time": "2021-08-12T14:37:33.404Z"
   },
   {
    "duration": 13,
    "start_time": "2021-08-12T14:37:33.413Z"
   },
   {
    "duration": 32,
    "start_time": "2021-08-12T14:37:33.428Z"
   },
   {
    "duration": 41,
    "start_time": "2021-08-12T14:37:33.463Z"
   },
   {
    "duration": 21,
    "start_time": "2021-08-12T14:37:33.506Z"
   },
   {
    "duration": 22,
    "start_time": "2021-08-12T14:37:33.530Z"
   },
   {
    "duration": 21,
    "start_time": "2021-08-12T14:37:33.554Z"
   },
   {
    "duration": 6,
    "start_time": "2021-08-12T14:37:33.601Z"
   },
   {
    "duration": 614,
    "start_time": "2021-08-12T14:37:33.609Z"
   },
   {
    "duration": 715,
    "start_time": "2021-08-12T14:37:34.225Z"
   },
   {
    "duration": 585,
    "start_time": "2021-08-12T14:37:34.943Z"
   },
   {
    "duration": 20,
    "start_time": "2021-08-12T14:37:35.530Z"
   },
   {
    "duration": 516,
    "start_time": "2021-08-12T14:37:35.553Z"
   },
   {
    "duration": 3661,
    "start_time": "2021-08-12T14:37:36.072Z"
   },
   {
    "duration": 23,
    "start_time": "2021-08-12T14:37:39.736Z"
   },
   {
    "duration": 592,
    "start_time": "2021-08-12T14:37:39.761Z"
   },
   {
    "duration": 302,
    "start_time": "2021-08-12T14:37:40.356Z"
   },
   {
    "duration": 35,
    "start_time": "2021-08-12T14:37:40.661Z"
   },
   {
    "duration": 26,
    "start_time": "2021-08-12T14:37:40.699Z"
   },
   {
    "duration": 42,
    "start_time": "2021-08-12T14:37:40.728Z"
   },
   {
    "duration": 17,
    "start_time": "2021-08-12T14:37:40.773Z"
   },
   {
    "duration": 38,
    "start_time": "2021-08-12T14:37:40.800Z"
   },
   {
    "duration": 28,
    "start_time": "2021-08-12T14:37:40.842Z"
   },
   {
    "duration": 25,
    "start_time": "2021-08-12T14:37:40.901Z"
   },
   {
    "duration": 8,
    "start_time": "2021-08-12T14:37:40.929Z"
   },
   {
    "duration": 26,
    "start_time": "2021-08-12T14:37:40.940Z"
   },
   {
    "duration": 527,
    "start_time": "2021-08-12T14:37:40.969Z"
   },
   {
    "duration": 3211,
    "start_time": "2021-08-12T14:38:23.477Z"
   },
   {
    "duration": 5,
    "start_time": "2021-08-12T14:38:26.691Z"
   },
   {
    "duration": 7,
    "start_time": "2021-08-12T14:38:26.698Z"
   },
   {
    "duration": 71,
    "start_time": "2021-08-12T14:38:26.708Z"
   },
   {
    "duration": 19,
    "start_time": "2021-08-12T14:38:26.782Z"
   },
   {
    "duration": 14,
    "start_time": "2021-08-12T14:38:26.804Z"
   },
   {
    "duration": 22,
    "start_time": "2021-08-12T14:38:26.820Z"
   },
   {
    "duration": 8,
    "start_time": "2021-08-12T14:38:26.846Z"
   },
   {
    "duration": 46,
    "start_time": "2021-08-12T14:38:26.856Z"
   },
   {
    "duration": 18,
    "start_time": "2021-08-12T14:38:26.904Z"
   },
   {
    "duration": 33,
    "start_time": "2021-08-12T14:38:26.924Z"
   },
   {
    "duration": 60,
    "start_time": "2021-08-12T14:38:26.960Z"
   },
   {
    "duration": 29,
    "start_time": "2021-08-12T14:38:27.023Z"
   },
   {
    "duration": 22,
    "start_time": "2021-08-12T14:38:27.055Z"
   },
   {
    "duration": 22,
    "start_time": "2021-08-12T14:38:27.100Z"
   },
   {
    "duration": 19,
    "start_time": "2021-08-12T14:38:27.124Z"
   },
   {
    "duration": 11,
    "start_time": "2021-08-12T14:38:27.147Z"
   },
   {
    "duration": 41,
    "start_time": "2021-08-12T14:38:27.161Z"
   },
   {
    "duration": 22,
    "start_time": "2021-08-12T14:38:27.206Z"
   },
   {
    "duration": 570,
    "start_time": "2021-08-12T14:38:27.231Z"
   },
   {
    "duration": 16,
    "start_time": "2021-08-12T14:38:27.804Z"
   },
   {
    "duration": 339,
    "start_time": "2021-08-12T14:38:27.822Z"
   },
   {
    "duration": 12,
    "start_time": "2021-08-12T14:38:28.167Z"
   },
   {
    "duration": 22,
    "start_time": "2021-08-12T14:38:28.182Z"
   },
   {
    "duration": 12,
    "start_time": "2021-08-12T14:38:28.206Z"
   },
   {
    "duration": 19,
    "start_time": "2021-08-12T14:38:28.220Z"
   },
   {
    "duration": 8,
    "start_time": "2021-08-12T14:38:28.241Z"
   },
   {
    "duration": 873,
    "start_time": "2021-08-12T14:38:28.251Z"
   },
   {
    "duration": -147,
    "start_time": "2021-08-12T14:38:29.273Z"
   },
   {
    "duration": -146,
    "start_time": "2021-08-12T14:38:29.274Z"
   },
   {
    "duration": -147,
    "start_time": "2021-08-12T14:38:29.276Z"
   },
   {
    "duration": -147,
    "start_time": "2021-08-12T14:38:29.277Z"
   },
   {
    "duration": -147,
    "start_time": "2021-08-12T14:38:29.279Z"
   },
   {
    "duration": -146,
    "start_time": "2021-08-12T14:38:29.280Z"
   },
   {
    "duration": -147,
    "start_time": "2021-08-12T14:38:29.282Z"
   },
   {
    "duration": -146,
    "start_time": "2021-08-12T14:38:29.283Z"
   },
   {
    "duration": -151,
    "start_time": "2021-08-12T14:38:29.289Z"
   },
   {
    "duration": -150,
    "start_time": "2021-08-12T14:38:29.290Z"
   },
   {
    "duration": -151,
    "start_time": "2021-08-12T14:38:29.292Z"
   },
   {
    "duration": -151,
    "start_time": "2021-08-12T14:38:29.293Z"
   },
   {
    "duration": -150,
    "start_time": "2021-08-12T14:38:29.294Z"
   },
   {
    "duration": -151,
    "start_time": "2021-08-12T14:38:29.296Z"
   },
   {
    "duration": -151,
    "start_time": "2021-08-12T14:38:29.297Z"
   },
   {
    "duration": -150,
    "start_time": "2021-08-12T14:38:29.298Z"
   },
   {
    "duration": -152,
    "start_time": "2021-08-12T14:38:29.301Z"
   },
   {
    "duration": -151,
    "start_time": "2021-08-12T14:38:29.302Z"
   },
   {
    "duration": -152,
    "start_time": "2021-08-12T14:38:29.304Z"
   },
   {
    "duration": -151,
    "start_time": "2021-08-12T14:38:29.305Z"
   },
   {
    "duration": -106,
    "start_time": "2021-08-12T14:38:29.306Z"
   },
   {
    "duration": -106,
    "start_time": "2021-08-12T14:38:29.307Z"
   },
   {
    "duration": -105,
    "start_time": "2021-08-12T14:38:29.308Z"
   },
   {
    "duration": -105,
    "start_time": "2021-08-12T14:38:29.309Z"
   },
   {
    "duration": -105,
    "start_time": "2021-08-12T14:38:29.310Z"
   },
   {
    "duration": -104,
    "start_time": "2021-08-12T14:38:29.311Z"
   },
   {
    "duration": 5,
    "start_time": "2021-08-12T14:39:03.224Z"
   },
   {
    "duration": 886,
    "start_time": "2021-08-12T14:39:23.612Z"
   },
   {
    "duration": 889,
    "start_time": "2021-08-12T14:39:30.874Z"
   },
   {
    "duration": 5,
    "start_time": "2021-08-12T14:42:23.297Z"
   },
   {
    "duration": 6,
    "start_time": "2021-08-12T14:42:36.129Z"
   },
   {
    "duration": 1217,
    "start_time": "2021-08-12T14:44:24.044Z"
   },
   {
    "duration": 612,
    "start_time": "2021-08-12T14:44:36.292Z"
   },
   {
    "duration": 3208,
    "start_time": "2021-08-12T14:45:36.369Z"
   },
   {
    "duration": 4,
    "start_time": "2021-08-12T14:45:39.580Z"
   },
   {
    "duration": 10,
    "start_time": "2021-08-12T14:45:39.587Z"
   },
   {
    "duration": 61,
    "start_time": "2021-08-12T14:45:39.600Z"
   },
   {
    "duration": 21,
    "start_time": "2021-08-12T14:45:39.664Z"
   },
   {
    "duration": 18,
    "start_time": "2021-08-12T14:45:39.688Z"
   },
   {
    "duration": 23,
    "start_time": "2021-08-12T14:45:39.709Z"
   },
   {
    "duration": 8,
    "start_time": "2021-08-12T14:45:39.736Z"
   },
   {
    "duration": 52,
    "start_time": "2021-08-12T14:45:39.748Z"
   },
   {
    "duration": 12,
    "start_time": "2021-08-12T14:45:39.803Z"
   },
   {
    "duration": 31,
    "start_time": "2021-08-12T14:45:39.817Z"
   },
   {
    "duration": 56,
    "start_time": "2021-08-12T14:45:39.850Z"
   },
   {
    "duration": 26,
    "start_time": "2021-08-12T14:45:39.909Z"
   },
   {
    "duration": 22,
    "start_time": "2021-08-12T14:45:39.938Z"
   },
   {
    "duration": 53,
    "start_time": "2021-08-12T14:45:39.963Z"
   },
   {
    "duration": 21,
    "start_time": "2021-08-12T14:45:40.019Z"
   },
   {
    "duration": 12,
    "start_time": "2021-08-12T14:45:40.043Z"
   },
   {
    "duration": 44,
    "start_time": "2021-08-12T14:45:40.058Z"
   },
   {
    "duration": 18,
    "start_time": "2021-08-12T14:45:40.105Z"
   },
   {
    "duration": 560,
    "start_time": "2021-08-12T14:45:40.125Z"
   },
   {
    "duration": 25,
    "start_time": "2021-08-12T14:45:40.688Z"
   },
   {
    "duration": 271,
    "start_time": "2021-08-12T14:45:40.715Z"
   },
   {
    "duration": 13,
    "start_time": "2021-08-12T14:45:41.000Z"
   },
   {
    "duration": 11,
    "start_time": "2021-08-12T14:45:41.017Z"
   },
   {
    "duration": 10,
    "start_time": "2021-08-12T14:45:41.030Z"
   },
   {
    "duration": 17,
    "start_time": "2021-08-12T14:45:41.043Z"
   },
   {
    "duration": 42,
    "start_time": "2021-08-12T14:45:41.062Z"
   },
   {
    "duration": 751,
    "start_time": "2021-08-12T14:45:41.107Z"
   },
   {
    "duration": 6,
    "start_time": "2021-08-12T14:45:41.860Z"
   },
   {
    "duration": 41,
    "start_time": "2021-08-12T14:45:41.869Z"
   },
   {
    "duration": 26,
    "start_time": "2021-08-12T14:45:41.913Z"
   },
   {
    "duration": 22,
    "start_time": "2021-08-12T14:45:41.942Z"
   },
   {
    "duration": 51,
    "start_time": "2021-08-12T14:45:41.966Z"
   },
   {
    "duration": 12,
    "start_time": "2021-08-12T14:45:42.019Z"
   },
   {
    "duration": 6,
    "start_time": "2021-08-12T14:45:42.034Z"
   },
   {
    "duration": 708,
    "start_time": "2021-08-12T14:45:42.043Z"
   },
   {
    "duration": 651,
    "start_time": "2021-08-12T14:45:42.754Z"
   },
   {
    "duration": 582,
    "start_time": "2021-08-12T14:45:43.408Z"
   },
   {
    "duration": 24,
    "start_time": "2021-08-12T14:45:43.993Z"
   },
   {
    "duration": 524,
    "start_time": "2021-08-12T14:45:44.020Z"
   },
   {
    "duration": 3857,
    "start_time": "2021-08-12T14:45:44.547Z"
   },
   {
    "duration": 26,
    "start_time": "2021-08-12T14:45:48.408Z"
   },
   {
    "duration": 592,
    "start_time": "2021-08-12T14:45:48.437Z"
   },
   {
    "duration": 505,
    "start_time": "2021-08-12T14:45:49.032Z"
   },
   {
    "duration": 35,
    "start_time": "2021-08-12T14:45:49.540Z"
   },
   {
    "duration": 24,
    "start_time": "2021-08-12T14:45:49.577Z"
   },
   {
    "duration": 31,
    "start_time": "2021-08-12T14:45:49.604Z"
   },
   {
    "duration": 18,
    "start_time": "2021-08-12T14:45:49.638Z"
   },
   {
    "duration": 75,
    "start_time": "2021-08-12T14:45:49.658Z"
   },
   {
    "duration": 28,
    "start_time": "2021-08-12T14:45:49.735Z"
   },
   {
    "duration": 48,
    "start_time": "2021-08-12T14:45:49.765Z"
   },
   {
    "duration": 6,
    "start_time": "2021-08-12T14:45:49.816Z"
   },
   {
    "duration": 8,
    "start_time": "2021-08-12T14:45:49.825Z"
   },
   {
    "duration": 544,
    "start_time": "2021-08-12T14:45:49.836Z"
   },
   {
    "duration": 643,
    "start_time": "2021-08-12T15:47:56.991Z"
   },
   {
    "duration": 614,
    "start_time": "2021-08-12T15:51:51.518Z"
   },
   {
    "duration": 642,
    "start_time": "2021-08-12T15:52:38.476Z"
   },
   {
    "duration": 623,
    "start_time": "2021-08-12T16:12:46.219Z"
   },
   {
    "duration": 599,
    "start_time": "2021-08-12T16:12:54.449Z"
   },
   {
    "duration": 713,
    "start_time": "2021-08-12T16:13:34.314Z"
   },
   {
    "duration": 595,
    "start_time": "2021-08-12T16:16:13.329Z"
   },
   {
    "duration": 638,
    "start_time": "2021-08-12T16:16:18.685Z"
   },
   {
    "duration": 615,
    "start_time": "2021-08-12T16:16:36.967Z"
   },
   {
    "duration": 4,
    "start_time": "2021-08-12T16:17:10.703Z"
   },
   {
    "duration": 8,
    "start_time": "2021-08-12T16:17:10.710Z"
   },
   {
    "duration": 99,
    "start_time": "2021-08-12T16:17:10.721Z"
   },
   {
    "duration": 19,
    "start_time": "2021-08-12T16:17:10.823Z"
   },
   {
    "duration": 14,
    "start_time": "2021-08-12T16:17:10.844Z"
   },
   {
    "duration": 50,
    "start_time": "2021-08-12T16:17:10.860Z"
   },
   {
    "duration": 9,
    "start_time": "2021-08-12T16:17:10.912Z"
   },
   {
    "duration": 11,
    "start_time": "2021-08-12T16:17:10.924Z"
   },
   {
    "duration": 15,
    "start_time": "2021-08-12T16:17:10.938Z"
   },
   {
    "duration": 64,
    "start_time": "2021-08-12T16:17:10.956Z"
   },
   {
    "duration": 31,
    "start_time": "2021-08-12T16:17:11.022Z"
   },
   {
    "duration": 53,
    "start_time": "2021-08-12T16:17:11.056Z"
   },
   {
    "duration": 22,
    "start_time": "2021-08-12T16:17:11.112Z"
   },
   {
    "duration": 21,
    "start_time": "2021-08-12T16:17:11.136Z"
   },
   {
    "duration": 52,
    "start_time": "2021-08-12T16:17:11.160Z"
   },
   {
    "duration": 10,
    "start_time": "2021-08-12T16:17:11.214Z"
   },
   {
    "duration": 7,
    "start_time": "2021-08-12T16:17:11.227Z"
   },
   {
    "duration": 17,
    "start_time": "2021-08-12T16:17:11.237Z"
   },
   {
    "duration": 591,
    "start_time": "2021-08-12T16:17:11.258Z"
   },
   {
    "duration": 17,
    "start_time": "2021-08-12T16:17:11.852Z"
   },
   {
    "duration": 268,
    "start_time": "2021-08-12T16:17:11.872Z"
   },
   {
    "duration": 14,
    "start_time": "2021-08-12T16:17:12.143Z"
   },
   {
    "duration": 42,
    "start_time": "2021-08-12T16:17:12.164Z"
   },
   {
    "duration": 18,
    "start_time": "2021-08-12T16:17:12.210Z"
   },
   {
    "duration": 27,
    "start_time": "2021-08-12T16:17:12.231Z"
   },
   {
    "duration": 7,
    "start_time": "2021-08-12T16:17:12.261Z"
   },
   {
    "duration": 641,
    "start_time": "2021-08-12T16:17:12.271Z"
   },
   {
    "duration": 19,
    "start_time": "2021-08-12T16:17:12.916Z"
   },
   {
    "duration": 27,
    "start_time": "2021-08-12T16:17:12.937Z"
   },
   {
    "duration": 49,
    "start_time": "2021-08-12T16:17:12.966Z"
   },
   {
    "duration": 18,
    "start_time": "2021-08-12T16:17:13.017Z"
   },
   {
    "duration": 25,
    "start_time": "2021-08-12T16:17:13.037Z"
   },
   {
    "duration": 24,
    "start_time": "2021-08-12T16:17:13.065Z"
   },
   {
    "duration": 629,
    "start_time": "2021-08-12T16:17:13.091Z"
   },
   {
    "duration": 602,
    "start_time": "2021-08-12T16:17:13.723Z"
   },
   {
    "duration": 589,
    "start_time": "2021-08-12T16:17:14.329Z"
   },
   {
    "duration": 19,
    "start_time": "2021-08-12T16:17:14.921Z"
   },
   {
    "duration": 633,
    "start_time": "2021-08-12T16:17:14.942Z"
   },
   {
    "duration": 3548,
    "start_time": "2021-08-12T16:17:15.577Z"
   },
   {
    "duration": 24,
    "start_time": "2021-08-12T16:17:19.127Z"
   },
   {
    "duration": 675,
    "start_time": "2021-08-12T16:17:19.153Z"
   },
   {
    "duration": 414,
    "start_time": "2021-08-12T16:17:19.830Z"
   },
   {
    "duration": 43,
    "start_time": "2021-08-12T16:17:20.247Z"
   },
   {
    "duration": 15,
    "start_time": "2021-08-12T16:17:20.292Z"
   },
   {
    "duration": 30,
    "start_time": "2021-08-12T16:17:20.309Z"
   },
   {
    "duration": 18,
    "start_time": "2021-08-12T16:17:20.341Z"
   },
   {
    "duration": 68,
    "start_time": "2021-08-12T16:17:20.361Z"
   },
   {
    "duration": 30,
    "start_time": "2021-08-12T16:17:20.431Z"
   },
   {
    "duration": 42,
    "start_time": "2021-08-12T16:17:20.463Z"
   },
   {
    "duration": 7,
    "start_time": "2021-08-12T16:17:20.508Z"
   },
   {
    "duration": 9,
    "start_time": "2021-08-12T16:17:20.517Z"
   },
   {
    "duration": 547,
    "start_time": "2021-08-12T16:17:20.528Z"
   },
   {
    "duration": 28,
    "start_time": "2021-08-12T16:19:06.680Z"
   },
   {
    "duration": 18,
    "start_time": "2021-08-12T16:20:31.718Z"
   },
   {
    "duration": 344,
    "start_time": "2021-08-12T16:22:11.905Z"
   },
   {
    "duration": 33,
    "start_time": "2021-08-12T16:22:19.277Z"
   },
   {
    "duration": 9,
    "start_time": "2021-08-12T16:31:43.347Z"
   },
   {
    "duration": 4,
    "start_time": "2021-08-12T16:33:58.354Z"
   },
   {
    "duration": 10,
    "start_time": "2021-08-12T16:33:58.361Z"
   },
   {
    "duration": 61,
    "start_time": "2021-08-12T16:33:58.374Z"
   },
   {
    "duration": 20,
    "start_time": "2021-08-12T16:33:58.438Z"
   },
   {
    "duration": 40,
    "start_time": "2021-08-12T16:33:58.461Z"
   },
   {
    "duration": 23,
    "start_time": "2021-08-12T16:33:58.505Z"
   },
   {
    "duration": 8,
    "start_time": "2021-08-12T16:33:58.530Z"
   },
   {
    "duration": 13,
    "start_time": "2021-08-12T16:33:58.541Z"
   },
   {
    "duration": 45,
    "start_time": "2021-08-12T16:33:58.557Z"
   },
   {
    "duration": 26,
    "start_time": "2021-08-12T16:33:58.605Z"
   },
   {
    "duration": 30,
    "start_time": "2021-08-12T16:33:58.634Z"
   },
   {
    "duration": 58,
    "start_time": "2021-08-12T16:33:58.667Z"
   },
   {
    "duration": 19,
    "start_time": "2021-08-12T16:33:58.727Z"
   },
   {
    "duration": 19,
    "start_time": "2021-08-12T16:33:58.749Z"
   },
   {
    "duration": 43,
    "start_time": "2021-08-12T16:33:58.770Z"
   },
   {
    "duration": 9,
    "start_time": "2021-08-12T16:33:58.816Z"
   },
   {
    "duration": 6,
    "start_time": "2021-08-12T16:33:58.827Z"
   },
   {
    "duration": 14,
    "start_time": "2021-08-12T16:33:58.835Z"
   },
   {
    "duration": 1162,
    "start_time": "2021-08-12T16:33:58.851Z"
   },
   {
    "duration": 18,
    "start_time": "2021-08-12T16:34:00.015Z"
   },
   {
    "duration": 627,
    "start_time": "2021-08-12T16:34:00.036Z"
   },
   {
    "duration": 12,
    "start_time": "2021-08-12T16:34:00.665Z"
   },
   {
    "duration": 27,
    "start_time": "2021-08-12T16:34:00.680Z"
   },
   {
    "duration": 23,
    "start_time": "2021-08-12T16:34:00.710Z"
   },
   {
    "duration": 24,
    "start_time": "2021-08-12T16:34:00.735Z"
   },
   {
    "duration": 7,
    "start_time": "2021-08-12T16:34:00.762Z"
   },
   {
    "duration": 1368,
    "start_time": "2021-08-12T16:34:00.774Z"
   },
   {
    "duration": 18,
    "start_time": "2021-08-12T16:34:02.146Z"
   },
   {
    "duration": 35,
    "start_time": "2021-08-12T16:34:02.166Z"
   },
   {
    "duration": 20,
    "start_time": "2021-08-12T16:34:02.204Z"
   },
   {
    "duration": 30,
    "start_time": "2021-08-12T16:34:02.226Z"
   },
   {
    "duration": 1241,
    "start_time": "2021-08-12T16:34:02.259Z"
   },
   {
    "duration": 1182,
    "start_time": "2021-08-12T16:34:03.503Z"
   },
   {
    "duration": 891,
    "start_time": "2021-08-12T16:34:04.688Z"
   },
   {
    "duration": 33,
    "start_time": "2021-08-12T16:34:05.582Z"
   },
   {
    "duration": 1107,
    "start_time": "2021-08-12T16:34:05.618Z"
   },
   {
    "duration": 3705,
    "start_time": "2021-08-12T16:34:06.727Z"
   },
   {
    "duration": 24,
    "start_time": "2021-08-12T16:34:10.435Z"
   },
   {
    "duration": 1312,
    "start_time": "2021-08-12T16:34:10.461Z"
   },
   {
    "duration": 364,
    "start_time": "2021-08-12T16:34:11.775Z"
   },
   {
    "duration": 39,
    "start_time": "2021-08-12T16:34:12.142Z"
   },
   {
    "duration": 21,
    "start_time": "2021-08-12T16:34:12.184Z"
   },
   {
    "duration": 36,
    "start_time": "2021-08-12T16:34:12.208Z"
   },
   {
    "duration": 111,
    "start_time": "2021-08-12T16:34:12.247Z"
   },
   {
    "duration": 56,
    "start_time": "2021-08-12T16:34:12.360Z"
   },
   {
    "duration": 28,
    "start_time": "2021-08-12T16:34:12.418Z"
   },
   {
    "duration": 21,
    "start_time": "2021-08-12T16:34:12.449Z"
   },
   {
    "duration": 32,
    "start_time": "2021-08-12T16:34:12.472Z"
   },
   {
    "duration": 6,
    "start_time": "2021-08-12T16:34:12.506Z"
   },
   {
    "duration": 1027,
    "start_time": "2021-08-12T16:34:12.514Z"
   },
   {
    "duration": 1265,
    "start_time": "2021-08-12T16:53:32.486Z"
   },
   {
    "duration": 5,
    "start_time": "2021-08-12T16:54:21.707Z"
   },
   {
    "duration": 12,
    "start_time": "2021-08-12T16:54:21.715Z"
   },
   {
    "duration": 57,
    "start_time": "2021-08-12T16:54:21.731Z"
   },
   {
    "duration": 26,
    "start_time": "2021-08-12T16:54:21.791Z"
   },
   {
    "duration": 21,
    "start_time": "2021-08-12T16:54:21.819Z"
   },
   {
    "duration": 25,
    "start_time": "2021-08-12T16:54:21.843Z"
   },
   {
    "duration": 35,
    "start_time": "2021-08-12T16:54:21.870Z"
   },
   {
    "duration": 16,
    "start_time": "2021-08-12T16:54:21.910Z"
   },
   {
    "duration": 22,
    "start_time": "2021-08-12T16:54:21.930Z"
   },
   {
    "duration": 65,
    "start_time": "2021-08-12T16:54:21.955Z"
   },
   {
    "duration": 30,
    "start_time": "2021-08-12T16:54:22.023Z"
   },
   {
    "duration": 53,
    "start_time": "2021-08-12T16:54:22.055Z"
   },
   {
    "duration": 20,
    "start_time": "2021-08-12T16:54:22.110Z"
   },
   {
    "duration": 20,
    "start_time": "2021-08-12T16:54:22.132Z"
   },
   {
    "duration": 23,
    "start_time": "2021-08-12T16:54:22.155Z"
   },
   {
    "duration": 9,
    "start_time": "2021-08-12T16:54:22.201Z"
   },
   {
    "duration": 14,
    "start_time": "2021-08-12T16:54:22.213Z"
   },
   {
    "duration": 26,
    "start_time": "2021-08-12T16:54:22.229Z"
   },
   {
    "duration": 1150,
    "start_time": "2021-08-12T16:54:22.257Z"
   },
   {
    "duration": 20,
    "start_time": "2021-08-12T16:54:23.410Z"
   },
   {
    "duration": 588,
    "start_time": "2021-08-12T16:54:23.432Z"
   },
   {
    "duration": 12,
    "start_time": "2021-08-12T16:54:24.026Z"
   },
   {
    "duration": 26,
    "start_time": "2021-08-12T16:54:24.042Z"
   },
   {
    "duration": 31,
    "start_time": "2021-08-12T16:54:24.070Z"
   },
   {
    "duration": 21,
    "start_time": "2021-08-12T16:54:24.104Z"
   },
   {
    "duration": 12,
    "start_time": "2021-08-12T16:54:24.128Z"
   },
   {
    "duration": 1363,
    "start_time": "2021-08-12T16:54:24.142Z"
   },
   {
    "duration": 19,
    "start_time": "2021-08-12T16:54:25.507Z"
   },
   {
    "duration": 8,
    "start_time": "2021-08-12T16:54:25.529Z"
   },
   {
    "duration": 17,
    "start_time": "2021-08-12T16:54:25.539Z"
   },
   {
    "duration": 42,
    "start_time": "2021-08-12T16:54:25.559Z"
   },
   {
    "duration": 1298,
    "start_time": "2021-08-12T16:54:25.603Z"
   },
   {
    "duration": 1547,
    "start_time": "2021-08-12T16:54:26.903Z"
   },
   {
    "duration": 877,
    "start_time": "2021-08-12T16:54:28.452Z"
   },
   {
    "duration": 19,
    "start_time": "2021-08-12T16:54:29.332Z"
   },
   {
    "duration": 1123,
    "start_time": "2021-08-12T16:54:29.353Z"
   },
   {
    "duration": 3803,
    "start_time": "2021-08-12T16:54:30.478Z"
   },
   {
    "duration": 34,
    "start_time": "2021-08-12T16:54:34.284Z"
   },
   {
    "duration": 1315,
    "start_time": "2021-08-12T16:54:34.321Z"
   },
   {
    "duration": 764,
    "start_time": "2021-08-12T16:54:35.639Z"
   },
   {
    "duration": 119,
    "start_time": "2021-08-12T16:54:36.406Z"
   },
   {
    "duration": 51,
    "start_time": "2021-08-12T16:54:36.532Z"
   },
   {
    "duration": 250,
    "start_time": "2021-08-12T16:54:36.597Z"
   },
   {
    "duration": 17,
    "start_time": "2021-08-12T16:54:36.849Z"
   },
   {
    "duration": 51,
    "start_time": "2021-08-12T16:54:36.869Z"
   },
   {
    "duration": 27,
    "start_time": "2021-08-12T16:54:36.922Z"
   },
   {
    "duration": 23,
    "start_time": "2021-08-12T16:54:36.951Z"
   },
   {
    "duration": 9,
    "start_time": "2021-08-12T16:54:36.976Z"
   },
   {
    "duration": 6,
    "start_time": "2021-08-12T16:54:36.999Z"
   },
   {
    "duration": 1143,
    "start_time": "2021-08-12T16:54:37.007Z"
   },
   {
    "duration": 1226,
    "start_time": "2021-08-12T17:08:14.325Z"
   },
   {
    "duration": 84,
    "start_time": "2021-08-12T17:08:27.038Z"
   },
   {
    "duration": 1283,
    "start_time": "2021-08-12T17:09:00.250Z"
   },
   {
    "duration": 1374,
    "start_time": "2021-08-12T17:09:07.808Z"
   },
   {
    "duration": 100,
    "start_time": "2021-08-12T17:09:17.126Z"
   },
   {
    "duration": 90,
    "start_time": "2021-08-12T17:09:23.258Z"
   },
   {
    "duration": 1237,
    "start_time": "2021-08-12T17:09:43.026Z"
   },
   {
    "duration": 5,
    "start_time": "2021-08-12T17:09:52.216Z"
   },
   {
    "duration": 9,
    "start_time": "2021-08-12T17:09:52.224Z"
   },
   {
    "duration": 57,
    "start_time": "2021-08-12T17:09:52.235Z"
   },
   {
    "duration": 18,
    "start_time": "2021-08-12T17:09:52.299Z"
   },
   {
    "duration": 12,
    "start_time": "2021-08-12T17:09:52.320Z"
   },
   {
    "duration": 22,
    "start_time": "2021-08-12T17:09:52.335Z"
   },
   {
    "duration": 45,
    "start_time": "2021-08-12T17:09:52.360Z"
   },
   {
    "duration": 10,
    "start_time": "2021-08-12T17:09:52.409Z"
   },
   {
    "duration": 13,
    "start_time": "2021-08-12T17:09:52.422Z"
   },
   {
    "duration": 72,
    "start_time": "2021-08-12T17:09:52.437Z"
   },
   {
    "duration": 30,
    "start_time": "2021-08-12T17:09:52.512Z"
   },
   {
    "duration": 27,
    "start_time": "2021-08-12T17:09:52.545Z"
   },
   {
    "duration": 42,
    "start_time": "2021-08-12T17:09:52.575Z"
   },
   {
    "duration": 20,
    "start_time": "2021-08-12T17:09:52.620Z"
   },
   {
    "duration": 18,
    "start_time": "2021-08-12T17:09:52.642Z"
   },
   {
    "duration": 42,
    "start_time": "2021-08-12T17:09:52.662Z"
   },
   {
    "duration": 5,
    "start_time": "2021-08-12T17:09:52.706Z"
   },
   {
    "duration": 13,
    "start_time": "2021-08-12T17:09:52.714Z"
   },
   {
    "duration": 1155,
    "start_time": "2021-08-12T17:09:52.729Z"
   },
   {
    "duration": 22,
    "start_time": "2021-08-12T17:09:53.887Z"
   },
   {
    "duration": 583,
    "start_time": "2021-08-12T17:09:53.911Z"
   },
   {
    "duration": 18,
    "start_time": "2021-08-12T17:09:54.497Z"
   },
   {
    "duration": 16,
    "start_time": "2021-08-12T17:09:54.523Z"
   },
   {
    "duration": 13,
    "start_time": "2021-08-12T17:09:54.543Z"
   },
   {
    "duration": 58,
    "start_time": "2021-08-12T17:09:54.559Z"
   },
   {
    "duration": 6,
    "start_time": "2021-08-12T17:09:54.620Z"
   },
   {
    "duration": 1613,
    "start_time": "2021-08-12T17:09:54.629Z"
   },
   {
    "duration": 25,
    "start_time": "2021-08-12T17:09:56.245Z"
   },
   {
    "duration": 31,
    "start_time": "2021-08-12T17:09:56.273Z"
   },
   {
    "duration": 16,
    "start_time": "2021-08-12T17:09:56.307Z"
   },
   {
    "duration": 8,
    "start_time": "2021-08-12T17:09:56.326Z"
   },
   {
    "duration": 1274,
    "start_time": "2021-08-12T17:09:56.336Z"
   },
   {
    "duration": 1236,
    "start_time": "2021-08-12T17:09:57.612Z"
   },
   {
    "duration": 890,
    "start_time": "2021-08-12T17:09:58.851Z"
   },
   {
    "duration": 24,
    "start_time": "2021-08-12T17:09:59.744Z"
   },
   {
    "duration": 1939,
    "start_time": "2021-08-12T17:09:59.770Z"
   },
   {
    "duration": 3549,
    "start_time": "2021-08-12T17:10:01.712Z"
   },
   {
    "duration": 22,
    "start_time": "2021-08-12T17:10:05.264Z"
   },
   {
    "duration": 1212,
    "start_time": "2021-08-12T17:10:05.301Z"
   },
   {
    "duration": 686,
    "start_time": "2021-08-12T17:10:06.515Z"
   },
   {
    "duration": 33,
    "start_time": "2021-08-12T17:10:07.204Z"
   },
   {
    "duration": 14,
    "start_time": "2021-08-12T17:10:07.239Z"
   },
   {
    "duration": 56,
    "start_time": "2021-08-12T17:10:07.256Z"
   },
   {
    "duration": 18,
    "start_time": "2021-08-12T17:10:07.315Z"
   },
   {
    "duration": 67,
    "start_time": "2021-08-12T17:10:07.336Z"
   },
   {
    "duration": 28,
    "start_time": "2021-08-12T17:10:07.406Z"
   },
   {
    "duration": 22,
    "start_time": "2021-08-12T17:10:07.437Z"
   },
   {
    "duration": 41,
    "start_time": "2021-08-12T17:10:07.461Z"
   },
   {
    "duration": 7,
    "start_time": "2021-08-12T17:10:07.505Z"
   },
   {
    "duration": 1026,
    "start_time": "2021-08-12T17:10:07.514Z"
   },
   {
    "duration": 1050,
    "start_time": "2021-08-12T17:11:10.272Z"
   },
   {
    "duration": 4,
    "start_time": "2021-08-12T17:29:01.205Z"
   },
   {
    "duration": 32,
    "start_time": "2021-08-12T17:29:01.212Z"
   },
   {
    "duration": 73,
    "start_time": "2021-08-12T17:29:01.249Z"
   },
   {
    "duration": 21,
    "start_time": "2021-08-12T17:29:01.325Z"
   },
   {
    "duration": 30,
    "start_time": "2021-08-12T17:29:01.349Z"
   },
   {
    "duration": 49,
    "start_time": "2021-08-12T17:29:01.382Z"
   },
   {
    "duration": 11,
    "start_time": "2021-08-12T17:29:01.434Z"
   },
   {
    "duration": 35,
    "start_time": "2021-08-12T17:29:01.449Z"
   },
   {
    "duration": 26,
    "start_time": "2021-08-12T17:29:01.501Z"
   },
   {
    "duration": 37,
    "start_time": "2021-08-12T17:29:01.530Z"
   },
   {
    "duration": 42,
    "start_time": "2021-08-12T17:29:01.570Z"
   },
   {
    "duration": 27,
    "start_time": "2021-08-12T17:29:01.615Z"
   },
   {
    "duration": 20,
    "start_time": "2021-08-12T17:29:01.645Z"
   },
   {
    "duration": 52,
    "start_time": "2021-08-12T17:29:01.667Z"
   },
   {
    "duration": 18,
    "start_time": "2021-08-12T17:29:01.722Z"
   },
   {
    "duration": 26,
    "start_time": "2021-08-12T17:29:01.743Z"
   },
   {
    "duration": 28,
    "start_time": "2021-08-12T17:29:01.772Z"
   },
   {
    "duration": 25,
    "start_time": "2021-08-12T17:29:01.803Z"
   },
   {
    "duration": 1231,
    "start_time": "2021-08-12T17:29:01.830Z"
   },
   {
    "duration": 17,
    "start_time": "2021-08-12T17:29:03.064Z"
   },
   {
    "duration": 643,
    "start_time": "2021-08-12T17:29:03.100Z"
   },
   {
    "duration": 16,
    "start_time": "2021-08-12T17:29:03.746Z"
   },
   {
    "duration": 37,
    "start_time": "2021-08-12T17:29:03.768Z"
   },
   {
    "duration": 33,
    "start_time": "2021-08-12T17:29:03.808Z"
   },
   {
    "duration": 33,
    "start_time": "2021-08-12T17:29:03.844Z"
   },
   {
    "duration": 25,
    "start_time": "2021-08-12T17:29:03.880Z"
   },
   {
    "duration": 1268,
    "start_time": "2021-08-12T17:29:03.907Z"
   },
   {
    "duration": 34,
    "start_time": "2021-08-12T17:29:05.178Z"
   },
   {
    "duration": 8,
    "start_time": "2021-08-12T17:29:05.215Z"
   },
   {
    "duration": 26,
    "start_time": "2021-08-12T17:29:05.227Z"
   },
   {
    "duration": 11,
    "start_time": "2021-08-12T17:29:05.256Z"
   },
   {
    "duration": 1280,
    "start_time": "2021-08-12T17:29:05.270Z"
   },
   {
    "duration": 1126,
    "start_time": "2021-08-12T17:29:06.553Z"
   },
   {
    "duration": 938,
    "start_time": "2021-08-12T17:29:07.682Z"
   },
   {
    "duration": 18,
    "start_time": "2021-08-12T17:29:08.623Z"
   },
   {
    "duration": 1192,
    "start_time": "2021-08-12T17:29:08.644Z"
   },
   {
    "duration": 4005,
    "start_time": "2021-08-12T17:29:09.838Z"
   },
   {
    "duration": 23,
    "start_time": "2021-08-12T17:29:13.846Z"
   },
   {
    "duration": 1266,
    "start_time": "2021-08-12T17:29:13.871Z"
   },
   {
    "duration": 353,
    "start_time": "2021-08-12T17:29:15.140Z"
   },
   {
    "duration": 44,
    "start_time": "2021-08-12T17:29:15.496Z"
   },
   {
    "duration": 14,
    "start_time": "2021-08-12T17:29:15.543Z"
   },
   {
    "duration": 68,
    "start_time": "2021-08-12T17:29:15.560Z"
   },
   {
    "duration": 118,
    "start_time": "2021-08-12T17:29:15.631Z"
   },
   {
    "duration": 60,
    "start_time": "2021-08-12T17:29:15.752Z"
   },
   {
    "duration": 38,
    "start_time": "2021-08-12T17:29:15.816Z"
   },
   {
    "duration": 50,
    "start_time": "2021-08-12T17:29:15.858Z"
   },
   {
    "duration": 7,
    "start_time": "2021-08-12T17:29:15.910Z"
   },
   {
    "duration": 18,
    "start_time": "2021-08-12T17:29:15.919Z"
   },
   {
    "duration": 1186,
    "start_time": "2021-08-12T17:29:15.939Z"
   },
   {
    "duration": 1548,
    "start_time": "2021-08-12T17:29:26.559Z"
   },
   {
    "duration": 3,
    "start_time": "2021-08-12T17:29:28.110Z"
   },
   {
    "duration": 68,
    "start_time": "2021-08-12T17:29:28.117Z"
   },
   {
    "duration": 34,
    "start_time": "2021-08-12T17:29:28.188Z"
   },
   {
    "duration": 14,
    "start_time": "2021-08-12T17:29:28.225Z"
   },
   {
    "duration": 39,
    "start_time": "2021-08-12T17:29:28.241Z"
   },
   {
    "duration": 13,
    "start_time": "2021-08-12T17:29:28.302Z"
   },
   {
    "duration": 12,
    "start_time": "2021-08-12T17:29:28.320Z"
   },
   {
    "duration": 15,
    "start_time": "2021-08-12T17:29:28.336Z"
   },
   {
    "duration": 69,
    "start_time": "2021-08-12T17:29:28.353Z"
   },
   {
    "duration": 31,
    "start_time": "2021-08-12T17:29:28.425Z"
   },
   {
    "duration": 52,
    "start_time": "2021-08-12T17:29:28.459Z"
   },
   {
    "duration": 20,
    "start_time": "2021-08-12T17:29:28.514Z"
   },
   {
    "duration": 20,
    "start_time": "2021-08-12T17:29:28.536Z"
   },
   {
    "duration": 50,
    "start_time": "2021-08-12T17:29:28.558Z"
   },
   {
    "duration": 9,
    "start_time": "2021-08-12T17:29:28.610Z"
   },
   {
    "duration": 8,
    "start_time": "2021-08-12T17:29:28.621Z"
   },
   {
    "duration": 14,
    "start_time": "2021-08-12T17:29:28.631Z"
   },
   {
    "duration": 591,
    "start_time": "2021-08-12T17:29:28.648Z"
   },
   {
    "duration": 19,
    "start_time": "2021-08-12T17:29:29.242Z"
   },
   {
    "duration": 309,
    "start_time": "2021-08-12T17:29:29.265Z"
   },
   {
    "duration": 27,
    "start_time": "2021-08-12T17:29:29.577Z"
   },
   {
    "duration": 16,
    "start_time": "2021-08-12T17:29:29.613Z"
   },
   {
    "duration": 10,
    "start_time": "2021-08-12T17:29:29.632Z"
   },
   {
    "duration": 16,
    "start_time": "2021-08-12T17:29:29.644Z"
   },
   {
    "duration": 40,
    "start_time": "2021-08-12T17:29:29.662Z"
   },
   {
    "duration": 984,
    "start_time": "2021-08-12T17:29:29.705Z"
   },
   {
    "duration": 27,
    "start_time": "2021-08-12T17:29:30.700Z"
   },
   {
    "duration": 11,
    "start_time": "2021-08-12T17:29:30.730Z"
   },
   {
    "duration": 23,
    "start_time": "2021-08-12T17:29:30.744Z"
   },
   {
    "duration": 34,
    "start_time": "2021-08-12T17:29:30.770Z"
   },
   {
    "duration": 750,
    "start_time": "2021-08-12T17:29:30.807Z"
   },
   {
    "duration": 664,
    "start_time": "2021-08-12T17:29:31.560Z"
   },
   {
    "duration": 804,
    "start_time": "2021-08-12T17:29:32.227Z"
   },
   {
    "duration": 73,
    "start_time": "2021-08-12T17:29:33.034Z"
   },
   {
    "duration": 934,
    "start_time": "2021-08-12T17:29:33.109Z"
   },
   {
    "duration": 3703,
    "start_time": "2021-08-12T17:29:34.045Z"
   },
   {
    "duration": 23,
    "start_time": "2021-08-12T17:29:37.751Z"
   },
   {
    "duration": 600,
    "start_time": "2021-08-12T17:29:37.776Z"
   },
   {
    "duration": 153,
    "start_time": "2021-08-12T17:29:38.379Z"
   },
   {
    "duration": 35,
    "start_time": "2021-08-12T17:29:38.535Z"
   },
   {
    "duration": 7,
    "start_time": "2021-08-12T17:29:38.573Z"
   },
   {
    "duration": 33,
    "start_time": "2021-08-12T17:29:38.602Z"
   },
   {
    "duration": 25,
    "start_time": "2021-08-12T17:29:38.638Z"
   },
   {
    "duration": 49,
    "start_time": "2021-08-12T17:29:38.701Z"
   },
   {
    "duration": 53,
    "start_time": "2021-08-12T17:29:38.753Z"
   },
   {
    "duration": 30,
    "start_time": "2021-08-12T17:29:38.809Z"
   },
   {
    "duration": 13,
    "start_time": "2021-08-12T17:29:38.841Z"
   },
   {
    "duration": 8,
    "start_time": "2021-08-12T17:29:38.857Z"
   },
   {
    "duration": 537,
    "start_time": "2021-08-12T17:29:38.868Z"
   },
   {
    "duration": 765,
    "start_time": "2021-08-12T17:34:44.730Z"
   },
   {
    "duration": 4,
    "start_time": "2021-08-12T17:46:29.546Z"
   },
   {
    "duration": 7,
    "start_time": "2021-08-12T17:46:29.553Z"
   },
   {
    "duration": 57,
    "start_time": "2021-08-12T17:46:29.563Z"
   },
   {
    "duration": 18,
    "start_time": "2021-08-12T17:46:29.622Z"
   },
   {
    "duration": 14,
    "start_time": "2021-08-12T17:46:29.642Z"
   },
   {
    "duration": 55,
    "start_time": "2021-08-12T17:46:29.658Z"
   },
   {
    "duration": 10,
    "start_time": "2021-08-12T17:46:29.715Z"
   },
   {
    "duration": 10,
    "start_time": "2021-08-12T17:46:29.731Z"
   },
   {
    "duration": 11,
    "start_time": "2021-08-12T17:46:29.745Z"
   },
   {
    "duration": 25,
    "start_time": "2021-08-12T17:46:29.800Z"
   },
   {
    "duration": 30,
    "start_time": "2021-08-12T17:46:29.828Z"
   },
   {
    "duration": 54,
    "start_time": "2021-08-12T17:46:29.860Z"
   },
   {
    "duration": 19,
    "start_time": "2021-08-12T17:46:29.916Z"
   },
   {
    "duration": 20,
    "start_time": "2021-08-12T17:46:29.937Z"
   },
   {
    "duration": 49,
    "start_time": "2021-08-12T17:46:29.960Z"
   },
   {
    "duration": 11,
    "start_time": "2021-08-12T17:46:30.012Z"
   },
   {
    "duration": 10,
    "start_time": "2021-08-12T17:46:30.025Z"
   },
   {
    "duration": 19,
    "start_time": "2021-08-12T17:46:30.037Z"
   },
   {
    "duration": 1132,
    "start_time": "2021-08-12T17:46:30.058Z"
   },
   {
    "duration": 20,
    "start_time": "2021-08-12T17:46:31.193Z"
   },
   {
    "duration": 650,
    "start_time": "2021-08-12T17:46:31.216Z"
   },
   {
    "duration": 12,
    "start_time": "2021-08-12T17:46:31.868Z"
   },
   {
    "duration": 12,
    "start_time": "2021-08-12T17:46:31.901Z"
   },
   {
    "duration": 14,
    "start_time": "2021-08-12T17:46:31.915Z"
   },
   {
    "duration": 20,
    "start_time": "2021-08-12T17:46:31.931Z"
   },
   {
    "duration": 11,
    "start_time": "2021-08-12T17:46:31.954Z"
   },
   {
    "duration": 1241,
    "start_time": "2021-08-12T17:46:31.967Z"
   },
   {
    "duration": 19,
    "start_time": "2021-08-12T17:46:33.210Z"
   },
   {
    "duration": 8,
    "start_time": "2021-08-12T17:46:33.231Z"
   },
   {
    "duration": 10,
    "start_time": "2021-08-12T17:46:33.242Z"
   },
   {
    "duration": 45,
    "start_time": "2021-08-12T17:46:33.255Z"
   },
   {
    "duration": 1222,
    "start_time": "2021-08-12T17:46:33.303Z"
   },
   {
    "duration": 1131,
    "start_time": "2021-08-12T17:46:34.527Z"
   },
   {
    "duration": 1044,
    "start_time": "2021-08-12T17:46:35.660Z"
   },
   {
    "duration": 20,
    "start_time": "2021-08-12T17:46:36.707Z"
   },
   {
    "duration": 1159,
    "start_time": "2021-08-12T17:46:36.729Z"
   },
   {
    "duration": 3670,
    "start_time": "2021-08-12T17:46:37.891Z"
   },
   {
    "duration": 40,
    "start_time": "2021-08-12T17:46:41.563Z"
   },
   {
    "duration": 1205,
    "start_time": "2021-08-12T17:46:41.606Z"
   },
   {
    "duration": 608,
    "start_time": "2021-08-12T17:46:42.814Z"
   },
   {
    "duration": 34,
    "start_time": "2021-08-12T17:46:43.425Z"
   },
   {
    "duration": 9,
    "start_time": "2021-08-12T17:46:43.461Z"
   },
   {
    "duration": 30,
    "start_time": "2021-08-12T17:46:43.500Z"
   },
   {
    "duration": 17,
    "start_time": "2021-08-12T17:46:43.533Z"
   },
   {
    "duration": 76,
    "start_time": "2021-08-12T17:46:43.553Z"
   },
   {
    "duration": 29,
    "start_time": "2021-08-12T17:46:43.631Z"
   },
   {
    "duration": 43,
    "start_time": "2021-08-12T17:46:43.662Z"
   },
   {
    "duration": 6,
    "start_time": "2021-08-12T17:46:43.707Z"
   },
   {
    "duration": 10,
    "start_time": "2021-08-12T17:46:43.715Z"
   },
   {
    "duration": 1060,
    "start_time": "2021-08-12T17:46:43.727Z"
   },
   {
    "duration": 1597,
    "start_time": "2021-08-12T19:01:08.491Z"
   },
   {
    "duration": 3,
    "start_time": "2021-08-12T19:01:10.092Z"
   },
   {
    "duration": 90,
    "start_time": "2021-08-12T19:01:10.102Z"
   },
   {
    "duration": 25,
    "start_time": "2021-08-12T19:01:10.196Z"
   },
   {
    "duration": 30,
    "start_time": "2021-08-12T19:01:10.224Z"
   },
   {
    "duration": 45,
    "start_time": "2021-08-12T19:01:10.257Z"
   },
   {
    "duration": 9,
    "start_time": "2021-08-12T19:01:10.305Z"
   },
   {
    "duration": 23,
    "start_time": "2021-08-12T19:01:10.318Z"
   },
   {
    "duration": 24,
    "start_time": "2021-08-12T19:01:10.346Z"
   },
   {
    "duration": 47,
    "start_time": "2021-08-12T19:01:10.373Z"
   },
   {
    "duration": 32,
    "start_time": "2021-08-12T19:01:10.422Z"
   },
   {
    "duration": 55,
    "start_time": "2021-08-12T19:01:10.456Z"
   },
   {
    "duration": 22,
    "start_time": "2021-08-12T19:01:10.513Z"
   },
   {
    "duration": 26,
    "start_time": "2021-08-12T19:01:10.537Z"
   },
   {
    "duration": 40,
    "start_time": "2021-08-12T19:01:10.566Z"
   },
   {
    "duration": 20,
    "start_time": "2021-08-12T19:01:10.609Z"
   },
   {
    "duration": 38,
    "start_time": "2021-08-12T19:01:10.631Z"
   },
   {
    "duration": 13,
    "start_time": "2021-08-12T19:01:10.671Z"
   },
   {
    "duration": 555,
    "start_time": "2021-08-12T19:01:10.687Z"
   },
   {
    "duration": 17,
    "start_time": "2021-08-12T19:01:11.245Z"
   },
   {
    "duration": 307,
    "start_time": "2021-08-12T19:01:11.265Z"
   },
   {
    "duration": 29,
    "start_time": "2021-08-12T19:01:11.575Z"
   },
   {
    "duration": 15,
    "start_time": "2021-08-12T19:01:11.612Z"
   },
   {
    "duration": 28,
    "start_time": "2021-08-12T19:01:11.631Z"
   },
   {
    "duration": 34,
    "start_time": "2021-08-12T19:01:11.662Z"
   },
   {
    "duration": 19,
    "start_time": "2021-08-12T19:01:11.699Z"
   },
   {
    "duration": 690,
    "start_time": "2021-08-12T19:01:11.720Z"
   },
   {
    "duration": 20,
    "start_time": "2021-08-12T19:01:12.412Z"
   },
   {
    "duration": 18,
    "start_time": "2021-08-12T19:01:12.435Z"
   },
   {
    "duration": 23,
    "start_time": "2021-08-12T19:01:12.456Z"
   },
   {
    "duration": 21,
    "start_time": "2021-08-12T19:01:12.481Z"
   },
   {
    "duration": 650,
    "start_time": "2021-08-12T19:01:12.505Z"
   },
   {
    "duration": 642,
    "start_time": "2021-08-12T19:01:13.158Z"
   },
   {
    "duration": 768,
    "start_time": "2021-08-12T19:01:13.803Z"
   },
   {
    "duration": 33,
    "start_time": "2021-08-12T19:01:14.573Z"
   },
   {
    "duration": 531,
    "start_time": "2021-08-12T19:01:14.609Z"
   },
   {
    "duration": 3896,
    "start_time": "2021-08-12T19:01:15.142Z"
   },
   {
    "duration": 25,
    "start_time": "2021-08-12T19:01:19.040Z"
   },
   {
    "duration": 614,
    "start_time": "2021-08-12T19:01:19.067Z"
   },
   {
    "duration": 734,
    "start_time": "2021-08-12T19:01:19.684Z"
   },
   {
    "duration": 36,
    "start_time": "2021-08-12T19:01:20.421Z"
   },
   {
    "duration": 20,
    "start_time": "2021-08-12T19:01:20.460Z"
   },
   {
    "duration": 45,
    "start_time": "2021-08-12T19:01:20.483Z"
   },
   {
    "duration": 12,
    "start_time": "2021-08-12T19:01:20.531Z"
   },
   {
    "duration": 54,
    "start_time": "2021-08-12T19:01:20.546Z"
   },
   {
    "duration": 39,
    "start_time": "2021-08-12T19:01:20.603Z"
   },
   {
    "duration": 28,
    "start_time": "2021-08-12T19:01:20.644Z"
   },
   {
    "duration": 24,
    "start_time": "2021-08-12T19:01:20.700Z"
   },
   {
    "duration": 18,
    "start_time": "2021-08-12T19:01:20.726Z"
   },
   {
    "duration": 13,
    "start_time": "2021-08-12T19:01:20.746Z"
   },
   {
    "duration": 527,
    "start_time": "2021-08-12T19:01:20.761Z"
   },
   {
    "duration": 10,
    "start_time": "2021-08-12T19:01:51.112Z"
   },
   {
    "duration": 10,
    "start_time": "2021-08-12T19:02:52.248Z"
   },
   {
    "duration": 13,
    "start_time": "2021-08-12T19:04:09.561Z"
   },
   {
    "duration": 12,
    "start_time": "2021-08-12T19:04:19.252Z"
   },
   {
    "duration": 5,
    "start_time": "2021-08-12T19:05:26.256Z"
   },
   {
    "duration": 22,
    "start_time": "2021-08-12T19:05:26.264Z"
   },
   {
    "duration": 72,
    "start_time": "2021-08-12T19:05:26.289Z"
   },
   {
    "duration": 18,
    "start_time": "2021-08-12T19:05:26.365Z"
   },
   {
    "duration": 29,
    "start_time": "2021-08-12T19:05:26.385Z"
   },
   {
    "duration": 41,
    "start_time": "2021-08-12T19:05:26.417Z"
   },
   {
    "duration": 9,
    "start_time": "2021-08-12T19:05:26.461Z"
   },
   {
    "duration": 32,
    "start_time": "2021-08-12T19:05:26.473Z"
   },
   {
    "duration": 23,
    "start_time": "2021-08-12T19:05:26.511Z"
   },
   {
    "duration": 35,
    "start_time": "2021-08-12T19:05:26.538Z"
   },
   {
    "duration": 42,
    "start_time": "2021-08-12T19:05:26.575Z"
   },
   {
    "duration": 47,
    "start_time": "2021-08-12T19:05:26.620Z"
   },
   {
    "duration": 20,
    "start_time": "2021-08-12T19:05:26.669Z"
   },
   {
    "duration": 26,
    "start_time": "2021-08-12T19:05:26.691Z"
   },
   {
    "duration": 20,
    "start_time": "2021-08-12T19:05:26.719Z"
   },
   {
    "duration": 19,
    "start_time": "2021-08-12T19:05:26.741Z"
   },
   {
    "duration": 43,
    "start_time": "2021-08-12T19:05:26.763Z"
   },
   {
    "duration": 5,
    "start_time": "2021-08-12T19:05:26.809Z"
   },
   {
    "duration": 16,
    "start_time": "2021-08-12T19:05:26.817Z"
   },
   {
    "duration": 647,
    "start_time": "2021-08-12T19:05:26.836Z"
   },
   {
    "duration": 24,
    "start_time": "2021-08-12T19:05:27.486Z"
   },
   {
    "duration": 239,
    "start_time": "2021-08-12T19:05:27.513Z"
   },
   {
    "duration": 11,
    "start_time": "2021-08-12T19:05:27.755Z"
   },
   {
    "duration": 32,
    "start_time": "2021-08-12T19:05:27.769Z"
   },
   {
    "duration": 28,
    "start_time": "2021-08-12T19:05:27.803Z"
   },
   {
    "duration": 24,
    "start_time": "2021-08-12T19:05:27.834Z"
   },
   {
    "duration": 11,
    "start_time": "2021-08-12T19:05:27.863Z"
   },
   {
    "duration": 618,
    "start_time": "2021-08-12T19:05:27.877Z"
   },
   {
    "duration": 21,
    "start_time": "2021-08-12T19:05:28.501Z"
   },
   {
    "duration": 11,
    "start_time": "2021-08-12T19:05:28.525Z"
   },
   {
    "duration": 30,
    "start_time": "2021-08-12T19:05:28.539Z"
   },
   {
    "duration": 48,
    "start_time": "2021-08-12T19:05:28.571Z"
   },
   {
    "duration": 706,
    "start_time": "2021-08-12T19:05:28.621Z"
   },
   {
    "duration": 602,
    "start_time": "2021-08-12T19:05:29.330Z"
   },
   {
    "duration": 667,
    "start_time": "2021-08-12T19:05:29.934Z"
   },
   {
    "duration": 21,
    "start_time": "2021-08-12T19:05:30.603Z"
   },
   {
    "duration": 1015,
    "start_time": "2021-08-12T19:05:30.626Z"
   },
   {
    "duration": 4333,
    "start_time": "2021-08-12T19:05:31.644Z"
   },
   {
    "duration": 37,
    "start_time": "2021-08-12T19:05:35.979Z"
   },
   {
    "duration": 672,
    "start_time": "2021-08-12T19:05:36.019Z"
   },
   {
    "duration": 665,
    "start_time": "2021-08-12T19:05:36.701Z"
   },
   {
    "duration": 38,
    "start_time": "2021-08-12T19:05:37.369Z"
   },
   {
    "duration": 16,
    "start_time": "2021-08-12T19:05:37.410Z"
   },
   {
    "duration": 34,
    "start_time": "2021-08-12T19:05:37.430Z"
   },
   {
    "duration": 48,
    "start_time": "2021-08-12T19:05:37.466Z"
   },
   {
    "duration": 55,
    "start_time": "2021-08-12T19:05:37.517Z"
   },
   {
    "duration": 55,
    "start_time": "2021-08-12T19:05:37.575Z"
   },
   {
    "duration": 28,
    "start_time": "2021-08-12T19:05:37.633Z"
   },
   {
    "duration": 6,
    "start_time": "2021-08-12T19:05:37.664Z"
   },
   {
    "duration": 34,
    "start_time": "2021-08-12T19:05:37.673Z"
   },
   {
    "duration": 521,
    "start_time": "2021-08-12T19:05:37.710Z"
   },
   {
    "duration": 462,
    "start_time": "2021-08-12T19:08:38.068Z"
   },
   {
    "duration": 116,
    "start_time": "2021-08-12T19:08:44.188Z"
   },
   {
    "duration": 155,
    "start_time": "2021-08-12T19:09:43.933Z"
   },
   {
    "duration": 534,
    "start_time": "2021-08-12T19:11:02.160Z"
   },
   {
    "duration": 94,
    "start_time": "2021-08-12T19:11:12.824Z"
   },
   {
    "duration": 21,
    "start_time": "2021-08-12T19:15:00.867Z"
   },
   {
    "duration": 4,
    "start_time": "2021-08-12T19:17:06.997Z"
   },
   {
    "duration": 23,
    "start_time": "2021-08-12T19:17:07.004Z"
   },
   {
    "duration": 66,
    "start_time": "2021-08-12T19:17:07.031Z"
   },
   {
    "duration": 20,
    "start_time": "2021-08-12T19:17:07.101Z"
   },
   {
    "duration": 14,
    "start_time": "2021-08-12T19:17:07.123Z"
   },
   {
    "duration": 28,
    "start_time": "2021-08-12T19:17:07.139Z"
   },
   {
    "duration": 37,
    "start_time": "2021-08-12T19:17:07.170Z"
   },
   {
    "duration": 18,
    "start_time": "2021-08-12T19:17:07.210Z"
   },
   {
    "duration": 21,
    "start_time": "2021-08-12T19:17:07.234Z"
   },
   {
    "duration": 42,
    "start_time": "2021-08-12T19:17:07.258Z"
   },
   {
    "duration": 30,
    "start_time": "2021-08-12T19:17:07.302Z"
   },
   {
    "duration": 39,
    "start_time": "2021-08-12T19:17:07.335Z"
   },
   {
    "duration": 33,
    "start_time": "2021-08-12T19:17:07.377Z"
   },
   {
    "duration": 19,
    "start_time": "2021-08-12T19:17:07.413Z"
   },
   {
    "duration": 22,
    "start_time": "2021-08-12T19:17:07.434Z"
   },
   {
    "duration": 43,
    "start_time": "2021-08-12T19:17:07.459Z"
   },
   {
    "duration": 8,
    "start_time": "2021-08-12T19:17:07.505Z"
   },
   {
    "duration": 28,
    "start_time": "2021-08-12T19:17:07.517Z"
   },
   {
    "duration": 908,
    "start_time": "2021-08-12T19:17:07.548Z"
   },
   {
    "duration": 41,
    "start_time": "2021-08-12T19:17:08.459Z"
   },
   {
    "duration": 316,
    "start_time": "2021-08-12T19:17:08.503Z"
   },
   {
    "duration": 13,
    "start_time": "2021-08-12T19:17:08.822Z"
   },
   {
    "duration": 13,
    "start_time": "2021-08-12T19:17:08.837Z"
   },
   {
    "duration": 12,
    "start_time": "2021-08-12T19:17:08.853Z"
   },
   {
    "duration": 41,
    "start_time": "2021-08-12T19:17:08.868Z"
   },
   {
    "duration": 14,
    "start_time": "2021-08-12T19:17:08.912Z"
   },
   {
    "duration": 623,
    "start_time": "2021-08-12T19:17:08.931Z"
   },
   {
    "duration": 20,
    "start_time": "2021-08-12T19:17:09.557Z"
   },
   {
    "duration": 25,
    "start_time": "2021-08-12T19:17:09.580Z"
   },
   {
    "duration": 13,
    "start_time": "2021-08-12T19:17:09.612Z"
   },
   {
    "duration": 7,
    "start_time": "2021-08-12T19:17:09.627Z"
   },
   {
    "duration": 799,
    "start_time": "2021-08-12T19:17:09.636Z"
   },
   {
    "duration": 560,
    "start_time": "2021-08-12T19:17:10.438Z"
   },
   {
    "duration": 579,
    "start_time": "2021-08-12T19:17:11.000Z"
   },
   {
    "duration": 31,
    "start_time": "2021-08-12T19:17:11.582Z"
   },
   {
    "duration": 528,
    "start_time": "2021-08-12T19:17:11.616Z"
   },
   {
    "duration": 3656,
    "start_time": "2021-08-12T19:17:12.146Z"
   },
   {
    "duration": 24,
    "start_time": "2021-08-12T19:17:15.805Z"
   },
   {
    "duration": 590,
    "start_time": "2021-08-12T19:17:15.831Z"
   },
   {
    "duration": 5,
    "start_time": "2021-08-12T19:17:16.424Z"
   },
   {
    "duration": 31,
    "start_time": "2021-08-12T19:17:16.432Z"
   },
   {
    "duration": 129,
    "start_time": "2021-08-12T19:17:16.466Z"
   },
   {
    "duration": 17,
    "start_time": "2021-08-12T19:17:16.598Z"
   },
   {
    "duration": 26,
    "start_time": "2021-08-12T19:17:16.618Z"
   },
   {
    "duration": 9,
    "start_time": "2021-08-12T19:17:16.646Z"
   },
   {
    "duration": 6,
    "start_time": "2021-08-12T19:17:16.657Z"
   },
   {
    "duration": 513,
    "start_time": "2021-08-12T19:17:16.702Z"
   },
   {
    "duration": 21,
    "start_time": "2021-08-12T19:17:43.839Z"
   },
   {
    "duration": 37,
    "start_time": "2021-08-12T19:19:47.507Z"
   },
   {
    "duration": 26,
    "start_time": "2021-08-12T19:20:53.135Z"
   },
   {
    "duration": 21,
    "start_time": "2021-08-12T19:24:24.844Z"
   },
   {
    "duration": 13,
    "start_time": "2021-08-12T19:35:55.206Z"
   },
   {
    "duration": 306,
    "start_time": "2021-08-12T19:36:07.675Z"
   },
   {
    "duration": 17,
    "start_time": "2021-08-12T19:37:54.772Z"
   },
   {
    "duration": 19,
    "start_time": "2021-08-12T19:38:50.955Z"
   },
   {
    "duration": 19,
    "start_time": "2021-08-12T19:39:06.736Z"
   },
   {
    "duration": 23,
    "start_time": "2021-08-12T19:40:14.471Z"
   },
   {
    "duration": 17,
    "start_time": "2021-08-12T19:40:39.908Z"
   },
   {
    "duration": 335,
    "start_time": "2021-08-12T19:41:10.644Z"
   },
   {
    "duration": 23,
    "start_time": "2021-08-12T19:41:18.983Z"
   },
   {
    "duration": 19,
    "start_time": "2021-08-12T19:41:35.909Z"
   },
   {
    "duration": 18,
    "start_time": "2021-08-12T19:41:42.344Z"
   },
   {
    "duration": 5,
    "start_time": "2021-08-12T19:42:14.793Z"
   },
   {
    "duration": 6,
    "start_time": "2021-08-12T19:42:14.801Z"
   },
   {
    "duration": 95,
    "start_time": "2021-08-12T19:42:14.810Z"
   },
   {
    "duration": 19,
    "start_time": "2021-08-12T19:42:14.908Z"
   },
   {
    "duration": 15,
    "start_time": "2021-08-12T19:42:14.930Z"
   },
   {
    "duration": 55,
    "start_time": "2021-08-12T19:42:14.948Z"
   },
   {
    "duration": 9,
    "start_time": "2021-08-12T19:42:15.006Z"
   },
   {
    "duration": 21,
    "start_time": "2021-08-12T19:42:15.019Z"
   },
   {
    "duration": 12,
    "start_time": "2021-08-12T19:42:15.044Z"
   },
   {
    "duration": 56,
    "start_time": "2021-08-12T19:42:15.058Z"
   },
   {
    "duration": 31,
    "start_time": "2021-08-12T19:42:15.116Z"
   },
   {
    "duration": 28,
    "start_time": "2021-08-12T19:42:15.150Z"
   },
   {
    "duration": 37,
    "start_time": "2021-08-12T19:42:15.180Z"
   },
   {
    "duration": 20,
    "start_time": "2021-08-12T19:42:15.220Z"
   },
   {
    "duration": 18,
    "start_time": "2021-08-12T19:42:15.243Z"
   },
   {
    "duration": 19,
    "start_time": "2021-08-12T19:42:15.300Z"
   },
   {
    "duration": 9,
    "start_time": "2021-08-12T19:42:15.321Z"
   },
   {
    "duration": 5,
    "start_time": "2021-08-12T19:42:15.333Z"
   },
   {
    "duration": 14,
    "start_time": "2021-08-12T19:42:15.340Z"
   },
   {
    "duration": 601,
    "start_time": "2021-08-12T19:42:15.356Z"
   },
   {
    "duration": 18,
    "start_time": "2021-08-12T19:42:15.959Z"
   },
   {
    "duration": 278,
    "start_time": "2021-08-12T19:42:15.980Z"
   },
   {
    "duration": 33,
    "start_time": "2021-08-12T19:42:16.266Z"
   },
   {
    "duration": 16,
    "start_time": "2021-08-12T19:42:16.304Z"
   },
   {
    "duration": 14,
    "start_time": "2021-08-12T19:42:16.323Z"
   },
   {
    "duration": 22,
    "start_time": "2021-08-12T19:42:16.341Z"
   },
   {
    "duration": 7,
    "start_time": "2021-08-12T19:42:16.402Z"
   },
   {
    "duration": 726,
    "start_time": "2021-08-12T19:42:16.412Z"
   },
   {
    "duration": 76,
    "start_time": "2021-08-12T19:42:17.140Z"
   },
   {
    "duration": 7,
    "start_time": "2021-08-12T19:42:17.218Z"
   },
   {
    "duration": 15,
    "start_time": "2021-08-12T19:42:17.228Z"
   },
   {
    "duration": 7,
    "start_time": "2021-08-12T19:42:17.301Z"
   },
   {
    "duration": 850,
    "start_time": "2021-08-12T19:42:17.310Z"
   },
   {
    "duration": 614,
    "start_time": "2021-08-12T19:42:18.162Z"
   },
   {
    "duration": 680,
    "start_time": "2021-08-12T19:42:18.779Z"
   },
   {
    "duration": 20,
    "start_time": "2021-08-12T19:42:19.461Z"
   },
   {
    "duration": 526,
    "start_time": "2021-08-12T19:42:19.483Z"
   },
   {
    "duration": 3985,
    "start_time": "2021-08-12T19:42:20.012Z"
   },
   {
    "duration": 27,
    "start_time": "2021-08-12T19:42:24.001Z"
   },
   {
    "duration": 589,
    "start_time": "2021-08-12T19:42:24.030Z"
   },
   {
    "duration": 6,
    "start_time": "2021-08-12T19:42:24.622Z"
   },
   {
    "duration": 21,
    "start_time": "2021-08-12T19:42:24.631Z"
   },
   {
    "duration": 465,
    "start_time": "2021-08-12T19:42:24.654Z"
   },
   {
    "duration": 17,
    "start_time": "2021-08-12T19:42:25.121Z"
   },
   {
    "duration": 131,
    "start_time": "2021-08-12T19:42:25.140Z"
   },
   {
    "duration": 38,
    "start_time": "2021-08-12T19:42:25.274Z"
   },
   {
    "duration": 20,
    "start_time": "2021-08-12T19:42:25.314Z"
   },
   {
    "duration": 33,
    "start_time": "2021-08-12T19:42:25.338Z"
   },
   {
    "duration": 45,
    "start_time": "2021-08-12T19:42:25.373Z"
   },
   {
    "duration": 7,
    "start_time": "2021-08-12T19:42:25.421Z"
   },
   {
    "duration": 15,
    "start_time": "2021-08-12T19:42:25.430Z"
   },
   {
    "duration": 547,
    "start_time": "2021-08-12T19:42:25.448Z"
   },
   {
    "duration": 4,
    "start_time": "2021-08-12T19:46:29.730Z"
   },
   {
    "duration": 6,
    "start_time": "2021-08-12T19:46:29.738Z"
   },
   {
    "duration": 71,
    "start_time": "2021-08-12T19:46:29.748Z"
   },
   {
    "duration": 19,
    "start_time": "2021-08-12T19:46:29.822Z"
   },
   {
    "duration": 19,
    "start_time": "2021-08-12T19:46:29.844Z"
   },
   {
    "duration": 46,
    "start_time": "2021-08-12T19:46:29.866Z"
   },
   {
    "duration": 9,
    "start_time": "2021-08-12T19:46:29.916Z"
   },
   {
    "duration": 23,
    "start_time": "2021-08-12T19:46:29.928Z"
   },
   {
    "duration": 12,
    "start_time": "2021-08-12T19:46:29.954Z"
   },
   {
    "duration": 51,
    "start_time": "2021-08-12T19:46:29.969Z"
   },
   {
    "duration": 32,
    "start_time": "2021-08-12T19:46:30.022Z"
   },
   {
    "duration": 57,
    "start_time": "2021-08-12T19:46:30.056Z"
   },
   {
    "duration": 20,
    "start_time": "2021-08-12T19:46:30.115Z"
   },
   {
    "duration": 24,
    "start_time": "2021-08-12T19:46:30.139Z"
   },
   {
    "duration": 41,
    "start_time": "2021-08-12T19:46:30.165Z"
   },
   {
    "duration": 27,
    "start_time": "2021-08-12T19:46:30.208Z"
   },
   {
    "duration": 27,
    "start_time": "2021-08-12T19:46:30.237Z"
   },
   {
    "duration": 40,
    "start_time": "2021-08-12T19:46:30.269Z"
   },
   {
    "duration": 533,
    "start_time": "2021-08-12T19:46:30.313Z"
   },
   {
    "duration": 16,
    "start_time": "2021-08-12T19:46:30.849Z"
   },
   {
    "duration": 275,
    "start_time": "2021-08-12T19:46:30.868Z"
   },
   {
    "duration": 15,
    "start_time": "2021-08-12T19:46:31.145Z"
   },
   {
    "duration": 20,
    "start_time": "2021-08-12T19:46:31.162Z"
   },
   {
    "duration": 13,
    "start_time": "2021-08-12T19:46:31.202Z"
   },
   {
    "duration": 23,
    "start_time": "2021-08-12T19:46:31.217Z"
   },
   {
    "duration": 17,
    "start_time": "2021-08-12T19:46:31.243Z"
   },
   {
    "duration": 617,
    "start_time": "2021-08-12T19:46:31.262Z"
   },
   {
    "duration": 31,
    "start_time": "2021-08-12T19:46:31.883Z"
   },
   {
    "duration": 13,
    "start_time": "2021-08-12T19:46:31.918Z"
   },
   {
    "duration": 31,
    "start_time": "2021-08-12T19:46:31.933Z"
   },
   {
    "duration": 10,
    "start_time": "2021-08-12T19:46:31.967Z"
   },
   {
    "duration": 629,
    "start_time": "2021-08-12T19:46:31.979Z"
   },
   {
    "duration": 563,
    "start_time": "2021-08-12T19:46:32.611Z"
   },
   {
    "duration": 565,
    "start_time": "2021-08-12T19:46:33.177Z"
   },
   {
    "duration": 21,
    "start_time": "2021-08-12T19:46:33.745Z"
   },
   {
    "duration": 535,
    "start_time": "2021-08-12T19:46:33.769Z"
   },
   {
    "duration": 3744,
    "start_time": "2021-08-12T19:46:34.307Z"
   },
   {
    "duration": 25,
    "start_time": "2021-08-12T19:46:38.053Z"
   },
   {
    "duration": 570,
    "start_time": "2021-08-12T19:46:38.080Z"
   },
   {
    "duration": 5,
    "start_time": "2021-08-12T19:46:38.653Z"
   },
   {
    "duration": 41,
    "start_time": "2021-08-12T19:46:38.661Z"
   },
   {
    "duration": 109,
    "start_time": "2021-08-12T19:46:38.705Z"
   },
   {
    "duration": 16,
    "start_time": "2021-08-12T19:46:38.816Z"
   },
   {
    "duration": 37,
    "start_time": "2021-08-12T19:46:38.835Z"
   },
   {
    "duration": 49,
    "start_time": "2021-08-12T19:46:38.874Z"
   },
   {
    "duration": 18,
    "start_time": "2021-08-12T19:46:38.925Z"
   },
   {
    "duration": 25,
    "start_time": "2021-08-12T19:46:38.945Z"
   },
   {
    "duration": 22,
    "start_time": "2021-08-12T19:46:39.001Z"
   },
   {
    "duration": 6,
    "start_time": "2021-08-12T19:46:39.025Z"
   },
   {
    "duration": 11,
    "start_time": "2021-08-12T19:46:39.034Z"
   },
   {
    "duration": 623,
    "start_time": "2021-08-12T19:46:39.050Z"
   },
   {
    "duration": 94,
    "start_time": "2021-08-13T10:15:16.334Z"
   },
   {
    "duration": 333,
    "start_time": "2021-08-13T10:16:21.620Z"
   },
   {
    "duration": 1638,
    "start_time": "2021-08-13T10:16:25.607Z"
   },
   {
    "duration": 3,
    "start_time": "2021-08-13T10:16:27.248Z"
   },
   {
    "duration": 87,
    "start_time": "2021-08-13T10:16:27.254Z"
   },
   {
    "duration": 23,
    "start_time": "2021-08-13T10:16:27.344Z"
   },
   {
    "duration": 20,
    "start_time": "2021-08-13T10:16:27.369Z"
   },
   {
    "duration": 36,
    "start_time": "2021-08-13T10:16:27.391Z"
   },
   {
    "duration": 9,
    "start_time": "2021-08-13T10:16:27.430Z"
   },
   {
    "duration": 29,
    "start_time": "2021-08-13T10:16:27.441Z"
   },
   {
    "duration": 27,
    "start_time": "2021-08-13T10:16:27.473Z"
   },
   {
    "duration": 40,
    "start_time": "2021-08-13T10:16:27.505Z"
   },
   {
    "duration": 28,
    "start_time": "2021-08-13T10:16:27.548Z"
   },
   {
    "duration": 51,
    "start_time": "2021-08-13T10:16:27.579Z"
   },
   {
    "duration": 18,
    "start_time": "2021-08-13T10:16:27.632Z"
   },
   {
    "duration": 19,
    "start_time": "2021-08-13T10:16:27.652Z"
   },
   {
    "duration": 28,
    "start_time": "2021-08-13T10:16:27.710Z"
   },
   {
    "duration": 15,
    "start_time": "2021-08-13T10:16:27.741Z"
   },
   {
    "duration": 13,
    "start_time": "2021-08-13T10:16:27.759Z"
   },
   {
    "duration": 26,
    "start_time": "2021-08-13T10:16:27.774Z"
   },
   {
    "duration": 666,
    "start_time": "2021-08-13T10:16:27.810Z"
   },
   {
    "duration": 36,
    "start_time": "2021-08-13T10:16:28.479Z"
   },
   {
    "duration": 254,
    "start_time": "2021-08-13T10:16:28.518Z"
   },
   {
    "duration": 30,
    "start_time": "2021-08-13T10:16:28.774Z"
   },
   {
    "duration": 24,
    "start_time": "2021-08-13T10:16:28.807Z"
   },
   {
    "duration": 10,
    "start_time": "2021-08-13T10:16:28.833Z"
   },
   {
    "duration": 18,
    "start_time": "2021-08-13T10:16:28.846Z"
   },
   {
    "duration": 11,
    "start_time": "2021-08-13T10:16:28.867Z"
   },
   {
    "duration": 660,
    "start_time": "2021-08-13T10:16:28.906Z"
   },
   {
    "duration": 37,
    "start_time": "2021-08-13T10:16:29.569Z"
   },
   {
    "duration": 11,
    "start_time": "2021-08-13T10:16:29.609Z"
   },
   {
    "duration": 13,
    "start_time": "2021-08-13T10:16:29.624Z"
   },
   {
    "duration": 7,
    "start_time": "2021-08-13T10:16:29.640Z"
   },
   {
    "duration": 708,
    "start_time": "2021-08-13T10:16:29.649Z"
   },
   {
    "duration": 679,
    "start_time": "2021-08-13T10:16:30.359Z"
   },
   {
    "duration": 717,
    "start_time": "2021-08-13T10:16:31.040Z"
   },
   {
    "duration": 41,
    "start_time": "2021-08-13T10:16:31.761Z"
   },
   {
    "duration": 590,
    "start_time": "2021-08-13T10:16:31.805Z"
   },
   {
    "duration": 4159,
    "start_time": "2021-08-13T10:16:32.402Z"
   },
   {
    "duration": 1306,
    "start_time": "2021-08-13T10:16:36.563Z"
   },
   {
    "duration": 22,
    "start_time": "2021-08-13T10:16:37.872Z"
   },
   {
    "duration": 1120,
    "start_time": "2021-08-13T10:16:37.896Z"
   },
   {
    "duration": 6,
    "start_time": "2021-08-13T10:16:39.020Z"
   },
   {
    "duration": 342,
    "start_time": "2021-08-13T10:16:39.029Z"
   },
   {
    "duration": -17,
    "start_time": "2021-08-13T10:16:39.391Z"
   },
   {
    "duration": -17,
    "start_time": "2021-08-13T10:16:39.393Z"
   },
   {
    "duration": -18,
    "start_time": "2021-08-13T10:16:39.395Z"
   },
   {
    "duration": 269,
    "start_time": "2021-08-13T10:18:17.806Z"
   },
   {
    "duration": 29,
    "start_time": "2021-08-13T10:19:02.872Z"
   },
   {
    "duration": 28,
    "start_time": "2021-08-13T10:20:37.760Z"
   },
   {
    "duration": 94,
    "start_time": "2021-08-13T10:21:40.490Z"
   },
   {
    "duration": 22,
    "start_time": "2021-08-13T10:21:45.886Z"
   },
   {
    "duration": 43,
    "start_time": "2021-08-13T10:24:32.751Z"
   },
   {
    "duration": 37,
    "start_time": "2021-08-13T10:24:40.150Z"
   },
   {
    "duration": 4,
    "start_time": "2021-08-13T10:26:19.197Z"
   },
   {
    "duration": 16,
    "start_time": "2021-08-13T10:26:19.205Z"
   },
   {
    "duration": 85,
    "start_time": "2021-08-13T10:26:19.226Z"
   },
   {
    "duration": 22,
    "start_time": "2021-08-13T10:26:19.315Z"
   },
   {
    "duration": 13,
    "start_time": "2021-08-13T10:26:19.340Z"
   },
   {
    "duration": 74,
    "start_time": "2021-08-13T10:26:19.356Z"
   },
   {
    "duration": 9,
    "start_time": "2021-08-13T10:26:19.433Z"
   },
   {
    "duration": 9,
    "start_time": "2021-08-13T10:26:19.445Z"
   },
   {
    "duration": 45,
    "start_time": "2021-08-13T10:26:19.458Z"
   },
   {
    "duration": 30,
    "start_time": "2021-08-13T10:26:19.507Z"
   },
   {
    "duration": 60,
    "start_time": "2021-08-13T10:26:19.540Z"
   },
   {
    "duration": 36,
    "start_time": "2021-08-13T10:26:19.604Z"
   },
   {
    "duration": 19,
    "start_time": "2021-08-13T10:26:19.643Z"
   },
   {
    "duration": 58,
    "start_time": "2021-08-13T10:26:19.664Z"
   },
   {
    "duration": 29,
    "start_time": "2021-08-13T10:26:19.725Z"
   },
   {
    "duration": 13,
    "start_time": "2021-08-13T10:26:19.757Z"
   },
   {
    "duration": 42,
    "start_time": "2021-08-13T10:26:19.773Z"
   },
   {
    "duration": 14,
    "start_time": "2021-08-13T10:26:19.819Z"
   },
   {
    "duration": 618,
    "start_time": "2021-08-13T10:26:19.835Z"
   },
   {
    "duration": 16,
    "start_time": "2021-08-13T10:26:20.455Z"
   },
   {
    "duration": 333,
    "start_time": "2021-08-13T10:26:20.474Z"
   },
   {
    "duration": 19,
    "start_time": "2021-08-13T10:26:20.810Z"
   },
   {
    "duration": 13,
    "start_time": "2021-08-13T10:26:20.832Z"
   },
   {
    "duration": 13,
    "start_time": "2021-08-13T10:26:20.848Z"
   },
   {
    "duration": 27,
    "start_time": "2021-08-13T10:26:20.906Z"
   },
   {
    "duration": 10,
    "start_time": "2021-08-13T10:26:20.936Z"
   },
   {
    "duration": 792,
    "start_time": "2021-08-13T10:26:20.953Z"
   },
   {
    "duration": 19,
    "start_time": "2021-08-13T10:26:21.749Z"
   },
   {
    "duration": 44,
    "start_time": "2021-08-13T10:26:21.770Z"
   },
   {
    "duration": 19,
    "start_time": "2021-08-13T10:26:21.817Z"
   },
   {
    "duration": 12,
    "start_time": "2021-08-13T10:26:21.838Z"
   },
   {
    "duration": 792,
    "start_time": "2021-08-13T10:26:21.853Z"
   },
   {
    "duration": 660,
    "start_time": "2021-08-13T10:26:22.647Z"
   },
   {
    "duration": 744,
    "start_time": "2021-08-13T10:26:23.311Z"
   },
   {
    "duration": 51,
    "start_time": "2021-08-13T10:26:24.058Z"
   },
   {
    "duration": 567,
    "start_time": "2021-08-13T10:26:24.112Z"
   },
   {
    "duration": 4111,
    "start_time": "2021-08-13T10:26:24.682Z"
   },
   {
    "duration": 802,
    "start_time": "2021-08-13T10:26:28.800Z"
   },
   {
    "duration": 25,
    "start_time": "2021-08-13T10:26:29.606Z"
   },
   {
    "duration": 40,
    "start_time": "2021-08-13T10:26:29.634Z"
   },
   {
    "duration": 31,
    "start_time": "2021-08-13T10:26:29.700Z"
   },
   {
    "duration": 872,
    "start_time": "2021-08-13T10:26:29.734Z"
   },
   {
    "duration": 8,
    "start_time": "2021-08-13T10:26:30.609Z"
   },
   {
    "duration": 88,
    "start_time": "2021-08-13T10:26:30.620Z"
   },
   {
    "duration": 313,
    "start_time": "2021-08-13T10:26:30.711Z"
   },
   {
    "duration": -145,
    "start_time": "2021-08-13T10:26:31.173Z"
   },
   {
    "duration": -144,
    "start_time": "2021-08-13T10:26:31.175Z"
   },
   {
    "duration": -144,
    "start_time": "2021-08-13T10:26:31.177Z"
   },
   {
    "duration": -143,
    "start_time": "2021-08-13T10:26:31.179Z"
   },
   {
    "duration": -142,
    "start_time": "2021-08-13T10:26:31.180Z"
   },
   {
    "duration": -141,
    "start_time": "2021-08-13T10:26:31.182Z"
   },
   {
    "duration": 5,
    "start_time": "2021-08-13T10:27:48.143Z"
   },
   {
    "duration": 6,
    "start_time": "2021-08-13T10:27:48.151Z"
   },
   {
    "duration": 71,
    "start_time": "2021-08-13T10:27:48.160Z"
   },
   {
    "duration": 18,
    "start_time": "2021-08-13T10:27:48.234Z"
   },
   {
    "duration": 17,
    "start_time": "2021-08-13T10:27:48.254Z"
   },
   {
    "duration": 52,
    "start_time": "2021-08-13T10:27:48.274Z"
   },
   {
    "duration": 13,
    "start_time": "2021-08-13T10:27:48.329Z"
   },
   {
    "duration": 15,
    "start_time": "2021-08-13T10:27:48.347Z"
   },
   {
    "duration": 57,
    "start_time": "2021-08-13T10:27:48.366Z"
   },
   {
    "duration": 24,
    "start_time": "2021-08-13T10:27:48.426Z"
   },
   {
    "duration": 50,
    "start_time": "2021-08-13T10:27:48.453Z"
   },
   {
    "duration": 38,
    "start_time": "2021-08-13T10:27:48.507Z"
   },
   {
    "duration": 22,
    "start_time": "2021-08-13T10:27:48.548Z"
   },
   {
    "duration": 55,
    "start_time": "2021-08-13T10:27:48.573Z"
   },
   {
    "duration": 18,
    "start_time": "2021-08-13T10:27:48.630Z"
   },
   {
    "duration": 16,
    "start_time": "2021-08-13T10:27:48.650Z"
   },
   {
    "duration": 5,
    "start_time": "2021-08-13T10:27:48.668Z"
   },
   {
    "duration": 44,
    "start_time": "2021-08-13T10:27:48.676Z"
   },
   {
    "duration": 620,
    "start_time": "2021-08-13T10:27:48.723Z"
   },
   {
    "duration": 19,
    "start_time": "2021-08-13T10:27:49.346Z"
   },
   {
    "duration": 300,
    "start_time": "2021-08-13T10:27:49.368Z"
   },
   {
    "duration": 14,
    "start_time": "2021-08-13T10:27:49.670Z"
   },
   {
    "duration": 15,
    "start_time": "2021-08-13T10:27:49.706Z"
   },
   {
    "duration": 12,
    "start_time": "2021-08-13T10:27:49.725Z"
   },
   {
    "duration": 21,
    "start_time": "2021-08-13T10:27:49.739Z"
   },
   {
    "duration": 5,
    "start_time": "2021-08-13T10:27:49.763Z"
   },
   {
    "duration": 676,
    "start_time": "2021-08-13T10:27:49.802Z"
   },
   {
    "duration": 31,
    "start_time": "2021-08-13T10:27:50.480Z"
   },
   {
    "duration": 10,
    "start_time": "2021-08-13T10:27:50.514Z"
   },
   {
    "duration": 12,
    "start_time": "2021-08-13T10:27:50.526Z"
   },
   {
    "duration": 16,
    "start_time": "2021-08-13T10:27:50.541Z"
   },
   {
    "duration": 828,
    "start_time": "2021-08-13T10:27:50.559Z"
   },
   {
    "duration": 672,
    "start_time": "2021-08-13T10:27:51.390Z"
   },
   {
    "duration": 638,
    "start_time": "2021-08-13T10:27:52.065Z"
   },
   {
    "duration": 26,
    "start_time": "2021-08-13T10:27:52.706Z"
   },
   {
    "duration": 567,
    "start_time": "2021-08-13T10:27:52.734Z"
   },
   {
    "duration": 4477,
    "start_time": "2021-08-13T10:27:53.304Z"
   },
   {
    "duration": 614,
    "start_time": "2021-08-13T10:27:57.784Z"
   },
   {
    "duration": 20,
    "start_time": "2021-08-13T10:27:58.401Z"
   },
   {
    "duration": 42,
    "start_time": "2021-08-13T10:27:58.423Z"
   },
   {
    "duration": 55,
    "start_time": "2021-08-13T10:27:58.467Z"
   },
   {
    "duration": 578,
    "start_time": "2021-08-13T10:27:58.525Z"
   },
   {
    "duration": 6,
    "start_time": "2021-08-13T10:27:59.105Z"
   },
   {
    "duration": 25,
    "start_time": "2021-08-13T10:27:59.114Z"
   },
   {
    "duration": 24,
    "start_time": "2021-08-13T10:27:59.142Z"
   },
   {
    "duration": 55,
    "start_time": "2021-08-13T10:27:59.168Z"
   },
   {
    "duration": 27,
    "start_time": "2021-08-13T10:27:59.225Z"
   },
   {
    "duration": 62,
    "start_time": "2021-08-13T10:27:59.254Z"
   },
   {
    "duration": 12,
    "start_time": "2021-08-13T10:27:59.319Z"
   },
   {
    "duration": 13,
    "start_time": "2021-08-13T10:27:59.333Z"
   },
   {
    "duration": 497,
    "start_time": "2021-08-13T10:27:59.348Z"
   },
   {
    "duration": 27,
    "start_time": "2021-08-13T10:36:55.808Z"
   },
   {
    "duration": 271,
    "start_time": "2021-08-13T10:38:26.790Z"
   },
   {
    "duration": 4,
    "start_time": "2021-08-13T10:38:32.832Z"
   },
   {
    "duration": 10,
    "start_time": "2021-08-13T10:38:32.839Z"
   },
   {
    "duration": 62,
    "start_time": "2021-08-13T10:38:32.852Z"
   },
   {
    "duration": 18,
    "start_time": "2021-08-13T10:38:32.917Z"
   },
   {
    "duration": 12,
    "start_time": "2021-08-13T10:38:32.937Z"
   },
   {
    "duration": 23,
    "start_time": "2021-08-13T10:38:32.951Z"
   },
   {
    "duration": 9,
    "start_time": "2021-08-13T10:38:33.001Z"
   },
   {
    "duration": 11,
    "start_time": "2021-08-13T10:38:33.012Z"
   },
   {
    "duration": 10,
    "start_time": "2021-08-13T10:38:33.027Z"
   },
   {
    "duration": 63,
    "start_time": "2021-08-13T10:38:33.041Z"
   },
   {
    "duration": 29,
    "start_time": "2021-08-13T10:38:33.107Z"
   },
   {
    "duration": 27,
    "start_time": "2021-08-13T10:38:33.139Z"
   },
   {
    "duration": 44,
    "start_time": "2021-08-13T10:38:33.169Z"
   },
   {
    "duration": 18,
    "start_time": "2021-08-13T10:38:33.216Z"
   },
   {
    "duration": 18,
    "start_time": "2021-08-13T10:38:33.236Z"
   },
   {
    "duration": 45,
    "start_time": "2021-08-13T10:38:33.256Z"
   },
   {
    "duration": 5,
    "start_time": "2021-08-13T10:38:33.303Z"
   },
   {
    "duration": 16,
    "start_time": "2021-08-13T10:38:33.310Z"
   },
   {
    "duration": 537,
    "start_time": "2021-08-13T10:38:33.328Z"
   },
   {
    "duration": 35,
    "start_time": "2021-08-13T10:38:33.867Z"
   },
   {
    "duration": 243,
    "start_time": "2021-08-13T10:38:33.904Z"
   },
   {
    "duration": 12,
    "start_time": "2021-08-13T10:38:34.149Z"
   },
   {
    "duration": 11,
    "start_time": "2021-08-13T10:38:34.163Z"
   },
   {
    "duration": 32,
    "start_time": "2021-08-13T10:38:34.176Z"
   },
   {
    "duration": 18,
    "start_time": "2021-08-13T10:38:34.210Z"
   },
   {
    "duration": 10,
    "start_time": "2021-08-13T10:38:34.230Z"
   },
   {
    "duration": 635,
    "start_time": "2021-08-13T10:38:34.246Z"
   },
   {
    "duration": 26,
    "start_time": "2021-08-13T10:38:34.884Z"
   },
   {
    "duration": 7,
    "start_time": "2021-08-13T10:38:34.912Z"
   },
   {
    "duration": 12,
    "start_time": "2021-08-13T10:38:34.921Z"
   },
   {
    "duration": 6,
    "start_time": "2021-08-13T10:38:34.935Z"
   },
   {
    "duration": 724,
    "start_time": "2021-08-13T10:38:34.943Z"
   },
   {
    "duration": 638,
    "start_time": "2021-08-13T10:38:35.669Z"
   },
   {
    "duration": 571,
    "start_time": "2021-08-13T10:38:36.310Z"
   },
   {
    "duration": 28,
    "start_time": "2021-08-13T10:38:36.883Z"
   },
   {
    "duration": 526,
    "start_time": "2021-08-13T10:38:36.914Z"
   },
   {
    "duration": 3627,
    "start_time": "2021-08-13T10:38:37.442Z"
   },
   {
    "duration": 908,
    "start_time": "2021-08-13T10:38:41.071Z"
   },
   {
    "duration": 18,
    "start_time": "2021-08-13T10:38:41.982Z"
   },
   {
    "duration": 52,
    "start_time": "2021-08-13T10:38:42.002Z"
   },
   {
    "duration": 30,
    "start_time": "2021-08-13T10:38:42.056Z"
   },
   {
    "duration": 621,
    "start_time": "2021-08-13T10:38:42.089Z"
   },
   {
    "duration": 6,
    "start_time": "2021-08-13T10:38:42.713Z"
   },
   {
    "duration": 40,
    "start_time": "2021-08-13T10:38:42.721Z"
   },
   {
    "duration": 39,
    "start_time": "2021-08-13T10:38:42.763Z"
   },
   {
    "duration": 26,
    "start_time": "2021-08-13T10:38:42.804Z"
   },
   {
    "duration": 369,
    "start_time": "2021-08-13T10:38:42.832Z"
   },
   {
    "duration": -52,
    "start_time": "2021-08-13T10:38:43.256Z"
   },
   {
    "duration": -53,
    "start_time": "2021-08-13T10:38:43.258Z"
   },
   {
    "duration": -53,
    "start_time": "2021-08-13T10:38:43.260Z"
   },
   {
    "duration": -53,
    "start_time": "2021-08-13T10:38:43.261Z"
   },
   {
    "duration": 279,
    "start_time": "2021-08-13T10:38:53.384Z"
   },
   {
    "duration": 27,
    "start_time": "2021-08-13T10:40:10.636Z"
   },
   {
    "duration": 559,
    "start_time": "2021-08-13T10:40:16.348Z"
   },
   {
    "duration": 576,
    "start_time": "2021-08-13T10:59:43.668Z"
   },
   {
    "duration": 550,
    "start_time": "2021-08-13T11:00:52.985Z"
   },
   {
    "duration": 2220,
    "start_time": "2021-08-13T11:03:38.494Z"
   },
   {
    "duration": 572,
    "start_time": "2021-08-13T11:03:51.057Z"
   },
   {
    "duration": 824,
    "start_time": "2021-08-13T11:06:47.113Z"
   },
   {
    "duration": 725,
    "start_time": "2021-08-13T11:07:00.866Z"
   },
   {
    "duration": 602,
    "start_time": "2021-08-13T11:07:44.033Z"
   },
   {
    "duration": 631,
    "start_time": "2021-08-13T11:09:55.954Z"
   },
   {
    "duration": 621,
    "start_time": "2021-08-13T11:12:55.873Z"
   },
   {
    "duration": 618,
    "start_time": "2021-08-13T11:13:07.982Z"
   },
   {
    "duration": 610,
    "start_time": "2021-08-13T11:13:28.107Z"
   },
   {
    "duration": 631,
    "start_time": "2021-08-13T11:13:36.304Z"
   },
   {
    "duration": 721,
    "start_time": "2021-08-13T11:14:16.970Z"
   },
   {
    "duration": 656,
    "start_time": "2021-08-13T11:14:31.886Z"
   },
   {
    "duration": 658,
    "start_time": "2021-08-13T11:14:37.978Z"
   },
   {
    "duration": 697,
    "start_time": "2021-08-13T11:14:43.341Z"
   },
   {
    "duration": 921,
    "start_time": "2021-08-13T11:14:51.313Z"
   },
   {
    "duration": 703,
    "start_time": "2021-08-13T11:14:55.897Z"
   },
   {
    "duration": 616,
    "start_time": "2021-08-13T11:17:44.184Z"
   },
   {
    "duration": 678,
    "start_time": "2021-08-13T11:19:28.234Z"
   },
   {
    "duration": 626,
    "start_time": "2021-08-13T11:20:48.374Z"
   },
   {
    "duration": 612,
    "start_time": "2021-08-13T11:23:19.966Z"
   },
   {
    "duration": 676,
    "start_time": "2021-08-13T11:23:26.731Z"
   },
   {
    "duration": 620,
    "start_time": "2021-08-13T11:24:33.102Z"
   },
   {
    "duration": 30,
    "start_time": "2021-08-13T11:30:44.560Z"
   },
   {
    "duration": 264,
    "start_time": "2021-08-13T11:32:18.239Z"
   },
   {
    "duration": 4,
    "start_time": "2021-08-13T11:32:38.015Z"
   },
   {
    "duration": 22,
    "start_time": "2021-08-13T11:32:38.022Z"
   },
   {
    "duration": 76,
    "start_time": "2021-08-13T11:32:38.048Z"
   },
   {
    "duration": 20,
    "start_time": "2021-08-13T11:32:38.127Z"
   },
   {
    "duration": 26,
    "start_time": "2021-08-13T11:32:38.151Z"
   },
   {
    "duration": 43,
    "start_time": "2021-08-13T11:32:38.180Z"
   },
   {
    "duration": 9,
    "start_time": "2021-08-13T11:32:38.225Z"
   },
   {
    "duration": 21,
    "start_time": "2021-08-13T11:32:38.237Z"
   },
   {
    "duration": 38,
    "start_time": "2021-08-13T11:32:38.263Z"
   },
   {
    "duration": 25,
    "start_time": "2021-08-13T11:32:38.305Z"
   },
   {
    "duration": 32,
    "start_time": "2021-08-13T11:32:38.333Z"
   },
   {
    "duration": 54,
    "start_time": "2021-08-13T11:32:38.368Z"
   },
   {
    "duration": 28,
    "start_time": "2021-08-13T11:32:38.425Z"
   },
   {
    "duration": 44,
    "start_time": "2021-08-13T11:32:38.456Z"
   },
   {
    "duration": 19,
    "start_time": "2021-08-13T11:32:38.503Z"
   },
   {
    "duration": 27,
    "start_time": "2021-08-13T11:32:38.525Z"
   },
   {
    "duration": 22,
    "start_time": "2021-08-13T11:32:38.554Z"
   },
   {
    "duration": 26,
    "start_time": "2021-08-13T11:32:38.579Z"
   },
   {
    "duration": 536,
    "start_time": "2021-08-13T11:32:38.608Z"
   },
   {
    "duration": 18,
    "start_time": "2021-08-13T11:32:39.146Z"
   },
   {
    "duration": 271,
    "start_time": "2021-08-13T11:32:39.167Z"
   },
   {
    "duration": 13,
    "start_time": "2021-08-13T11:32:39.440Z"
   },
   {
    "duration": 11,
    "start_time": "2021-08-13T11:32:39.456Z"
   },
   {
    "duration": 10,
    "start_time": "2021-08-13T11:32:39.500Z"
   },
   {
    "duration": 19,
    "start_time": "2021-08-13T11:32:39.512Z"
   },
   {
    "duration": 7,
    "start_time": "2021-08-13T11:32:39.533Z"
   },
   {
    "duration": 639,
    "start_time": "2021-08-13T11:32:39.545Z"
   },
   {
    "duration": 26,
    "start_time": "2021-08-13T11:32:40.187Z"
   },
   {
    "duration": 9,
    "start_time": "2021-08-13T11:32:40.215Z"
   },
   {
    "duration": 12,
    "start_time": "2021-08-13T11:32:40.226Z"
   },
   {
    "duration": 6,
    "start_time": "2021-08-13T11:32:40.240Z"
   },
   {
    "duration": 765,
    "start_time": "2021-08-13T11:32:40.248Z"
   },
   {
    "duration": 586,
    "start_time": "2021-08-13T11:32:41.015Z"
   },
   {
    "duration": 705,
    "start_time": "2021-08-13T11:32:41.603Z"
   },
   {
    "duration": 20,
    "start_time": "2021-08-13T11:32:42.311Z"
   },
   {
    "duration": 532,
    "start_time": "2021-08-13T11:32:42.333Z"
   },
   {
    "duration": 3739,
    "start_time": "2021-08-13T11:32:42.868Z"
   },
   {
    "duration": 904,
    "start_time": "2021-08-13T11:32:46.609Z"
   },
   {
    "duration": 19,
    "start_time": "2021-08-13T11:32:47.515Z"
   },
   {
    "duration": 42,
    "start_time": "2021-08-13T11:32:47.536Z"
   },
   {
    "duration": 43,
    "start_time": "2021-08-13T11:32:47.580Z"
   },
   {
    "duration": 565,
    "start_time": "2021-08-13T11:32:47.625Z"
   },
   {
    "duration": 5,
    "start_time": "2021-08-13T11:32:48.200Z"
   },
   {
    "duration": 25,
    "start_time": "2021-08-13T11:32:48.207Z"
   },
   {
    "duration": 24,
    "start_time": "2021-08-13T11:32:48.234Z"
   },
   {
    "duration": 55,
    "start_time": "2021-08-13T11:32:48.260Z"
   },
   {
    "duration": 633,
    "start_time": "2021-08-13T11:32:48.317Z"
   },
   {
    "duration": 32,
    "start_time": "2021-08-13T11:32:48.952Z"
   },
   {
    "duration": 276,
    "start_time": "2021-08-13T11:32:49.001Z"
   },
   {
    "duration": -143,
    "start_time": "2021-08-13T11:32:49.423Z"
   },
   {
    "duration": -147,
    "start_time": "2021-08-13T11:32:49.428Z"
   },
   {
    "duration": -148,
    "start_time": "2021-08-13T11:32:49.431Z"
   },
   {
    "duration": -149,
    "start_time": "2021-08-13T11:32:49.433Z"
   },
   {
    "duration": 24,
    "start_time": "2021-08-13T11:33:13.318Z"
   },
   {
    "duration": 38,
    "start_time": "2021-08-13T11:33:42.937Z"
   },
   {
    "duration": 37,
    "start_time": "2021-08-13T11:34:43.357Z"
   },
   {
    "duration": 1464,
    "start_time": "2021-08-13T11:37:34.842Z"
   },
   {
    "duration": 3,
    "start_time": "2021-08-13T11:37:36.309Z"
   },
   {
    "duration": 63,
    "start_time": "2021-08-13T11:37:36.316Z"
   },
   {
    "duration": 45,
    "start_time": "2021-08-13T11:37:36.382Z"
   },
   {
    "duration": 12,
    "start_time": "2021-08-13T11:37:36.430Z"
   },
   {
    "duration": 24,
    "start_time": "2021-08-13T11:37:36.445Z"
   },
   {
    "duration": 16,
    "start_time": "2021-08-13T11:37:36.501Z"
   },
   {
    "duration": 9,
    "start_time": "2021-08-13T11:37:36.522Z"
   },
   {
    "duration": 13,
    "start_time": "2021-08-13T11:37:36.535Z"
   },
   {
    "duration": 80,
    "start_time": "2021-08-13T11:37:36.551Z"
   },
   {
    "duration": 31,
    "start_time": "2021-08-13T11:37:36.634Z"
   },
   {
    "duration": 51,
    "start_time": "2021-08-13T11:37:36.668Z"
   },
   {
    "duration": 22,
    "start_time": "2021-08-13T11:37:36.722Z"
   },
   {
    "duration": 24,
    "start_time": "2021-08-13T11:37:36.747Z"
   },
   {
    "duration": 20,
    "start_time": "2021-08-13T11:37:36.801Z"
   },
   {
    "duration": 14,
    "start_time": "2021-08-13T11:37:36.824Z"
   },
   {
    "duration": 7,
    "start_time": "2021-08-13T11:37:36.841Z"
   },
   {
    "duration": 18,
    "start_time": "2021-08-13T11:37:36.851Z"
   },
   {
    "duration": 579,
    "start_time": "2021-08-13T11:37:36.901Z"
   },
   {
    "duration": 31,
    "start_time": "2021-08-13T11:37:37.483Z"
   },
   {
    "duration": 257,
    "start_time": "2021-08-13T11:37:37.518Z"
   },
   {
    "duration": 35,
    "start_time": "2021-08-13T11:37:37.778Z"
   },
   {
    "duration": 12,
    "start_time": "2021-08-13T11:37:37.822Z"
   },
   {
    "duration": 17,
    "start_time": "2021-08-13T11:37:37.838Z"
   },
   {
    "duration": 49,
    "start_time": "2021-08-13T11:37:37.858Z"
   },
   {
    "duration": 14,
    "start_time": "2021-08-13T11:37:37.910Z"
   },
   {
    "duration": 692,
    "start_time": "2021-08-13T11:37:37.927Z"
   },
   {
    "duration": 18,
    "start_time": "2021-08-13T11:37:38.622Z"
   },
   {
    "duration": 8,
    "start_time": "2021-08-13T11:37:38.642Z"
   },
   {
    "duration": 16,
    "start_time": "2021-08-13T11:37:38.652Z"
   },
   {
    "duration": 38,
    "start_time": "2021-08-13T11:37:38.670Z"
   },
   {
    "duration": 659,
    "start_time": "2021-08-13T11:37:38.712Z"
   },
   {
    "duration": 648,
    "start_time": "2021-08-13T11:37:39.375Z"
   },
   {
    "duration": 688,
    "start_time": "2021-08-13T11:37:40.026Z"
   },
   {
    "duration": 19,
    "start_time": "2021-08-13T11:37:40.717Z"
   },
   {
    "duration": 554,
    "start_time": "2021-08-13T11:37:40.738Z"
   },
   {
    "duration": 3890,
    "start_time": "2021-08-13T11:37:41.295Z"
   },
   {
    "duration": 698,
    "start_time": "2021-08-13T11:37:45.188Z"
   },
   {
    "duration": 25,
    "start_time": "2021-08-13T11:37:45.888Z"
   },
   {
    "duration": 37,
    "start_time": "2021-08-13T11:37:45.917Z"
   },
   {
    "duration": 56,
    "start_time": "2021-08-13T11:37:45.957Z"
   },
   {
    "duration": 628,
    "start_time": "2021-08-13T11:37:46.017Z"
   },
   {
    "duration": 6,
    "start_time": "2021-08-13T11:37:46.648Z"
   },
   {
    "duration": 45,
    "start_time": "2021-08-13T11:37:46.656Z"
   },
   {
    "duration": 31,
    "start_time": "2021-08-13T11:37:46.705Z"
   },
   {
    "duration": 28,
    "start_time": "2021-08-13T11:37:46.738Z"
   },
   {
    "duration": 676,
    "start_time": "2021-08-13T11:37:46.801Z"
   },
   {
    "duration": 53,
    "start_time": "2021-08-13T11:37:47.479Z"
   },
   {
    "duration": 21,
    "start_time": "2021-08-13T11:37:47.535Z"
   },
   {
    "duration": 6,
    "start_time": "2021-08-13T11:37:47.558Z"
   },
   {
    "duration": 40,
    "start_time": "2021-08-13T11:37:47.566Z"
   },
   {
    "duration": 530,
    "start_time": "2021-08-13T11:37:47.612Z"
   },
   {
    "duration": 6861,
    "start_time": "2021-08-13T11:38:35.398Z"
   },
   {
    "duration": 279,
    "start_time": "2021-08-13T11:44:14.368Z"
   },
   {
    "duration": 302,
    "start_time": "2021-08-13T11:44:25.065Z"
   },
   {
    "duration": 34,
    "start_time": "2021-08-13T11:44:35.549Z"
   },
   {
    "duration": 23,
    "start_time": "2021-08-13T11:44:45.900Z"
   },
   {
    "duration": 465,
    "start_time": "2021-08-13T11:45:08.041Z"
   },
   {
    "duration": 481,
    "start_time": "2021-08-13T11:45:24.719Z"
   },
   {
    "duration": 22,
    "start_time": "2021-08-13T11:46:15.270Z"
   },
   {
    "duration": 7,
    "start_time": "2021-08-13T11:46:46.055Z"
   },
   {
    "duration": 6,
    "start_time": "2021-08-13T11:47:25.283Z"
   },
   {
    "duration": 556,
    "start_time": "2021-08-13T11:47:46.560Z"
   },
   {
    "duration": 4,
    "start_time": "2021-08-13T11:49:00.510Z"
   },
   {
    "duration": 18,
    "start_time": "2021-08-13T11:49:00.517Z"
   },
   {
    "duration": 85,
    "start_time": "2021-08-13T11:49:00.538Z"
   },
   {
    "duration": 18,
    "start_time": "2021-08-13T11:49:00.626Z"
   },
   {
    "duration": 27,
    "start_time": "2021-08-13T11:49:00.646Z"
   },
   {
    "duration": 39,
    "start_time": "2021-08-13T11:49:00.675Z"
   },
   {
    "duration": 11,
    "start_time": "2021-08-13T11:49:00.717Z"
   },
   {
    "duration": 31,
    "start_time": "2021-08-13T11:49:00.731Z"
   },
   {
    "duration": 24,
    "start_time": "2021-08-13T11:49:00.766Z"
   },
   {
    "duration": 37,
    "start_time": "2021-08-13T11:49:00.794Z"
   },
   {
    "duration": 33,
    "start_time": "2021-08-13T11:49:00.834Z"
   },
   {
    "duration": 46,
    "start_time": "2021-08-13T11:49:00.869Z"
   },
   {
    "duration": 20,
    "start_time": "2021-08-13T11:49:00.918Z"
   },
   {
    "duration": 20,
    "start_time": "2021-08-13T11:49:00.941Z"
   },
   {
    "duration": 41,
    "start_time": "2021-08-13T11:49:00.964Z"
   },
   {
    "duration": 9,
    "start_time": "2021-08-13T11:49:01.008Z"
   },
   {
    "duration": 15,
    "start_time": "2021-08-13T11:49:01.020Z"
   },
   {
    "duration": 33,
    "start_time": "2021-08-13T11:49:01.037Z"
   },
   {
    "duration": 577,
    "start_time": "2021-08-13T11:49:01.072Z"
   },
   {
    "duration": 17,
    "start_time": "2021-08-13T11:49:01.651Z"
   },
   {
    "duration": 272,
    "start_time": "2021-08-13T11:49:01.670Z"
   },
   {
    "duration": 12,
    "start_time": "2021-08-13T11:49:01.945Z"
   },
   {
    "duration": 34,
    "start_time": "2021-08-13T11:49:01.959Z"
   },
   {
    "duration": 28,
    "start_time": "2021-08-13T11:49:01.996Z"
   },
   {
    "duration": 33,
    "start_time": "2021-08-13T11:49:02.026Z"
   },
   {
    "duration": 20,
    "start_time": "2021-08-13T11:49:02.062Z"
   },
   {
    "duration": 623,
    "start_time": "2021-08-13T11:49:02.089Z"
   },
   {
    "duration": 20,
    "start_time": "2021-08-13T11:49:02.717Z"
   },
   {
    "duration": 18,
    "start_time": "2021-08-13T11:49:02.740Z"
   },
   {
    "duration": 40,
    "start_time": "2021-08-13T11:49:02.761Z"
   },
   {
    "duration": 8,
    "start_time": "2021-08-13T11:49:02.804Z"
   },
   {
    "duration": 618,
    "start_time": "2021-08-13T11:49:02.815Z"
   },
   {
    "duration": 588,
    "start_time": "2021-08-13T11:49:03.435Z"
   },
   {
    "duration": 577,
    "start_time": "2021-08-13T11:49:04.026Z"
   },
   {
    "duration": 20,
    "start_time": "2021-08-13T11:49:04.605Z"
   },
   {
    "duration": 508,
    "start_time": "2021-08-13T11:49:04.627Z"
   },
   {
    "duration": 3793,
    "start_time": "2021-08-13T11:49:05.137Z"
   },
   {
    "duration": 975,
    "start_time": "2021-08-13T11:49:08.932Z"
   },
   {
    "duration": 25,
    "start_time": "2021-08-13T11:49:09.910Z"
   },
   {
    "duration": 76,
    "start_time": "2021-08-13T11:49:09.937Z"
   },
   {
    "duration": 27,
    "start_time": "2021-08-13T11:49:10.016Z"
   },
   {
    "duration": 755,
    "start_time": "2021-08-13T11:49:10.045Z"
   },
   {
    "duration": 5,
    "start_time": "2021-08-13T11:49:10.803Z"
   },
   {
    "duration": 23,
    "start_time": "2021-08-13T11:49:10.810Z"
   },
   {
    "duration": 24,
    "start_time": "2021-08-13T11:49:10.835Z"
   },
   {
    "duration": 60,
    "start_time": "2021-08-13T11:49:10.861Z"
   },
   {
    "duration": 830,
    "start_time": "2021-08-13T11:49:10.924Z"
   },
   {
    "duration": 49,
    "start_time": "2021-08-13T11:49:11.757Z"
   },
   {
    "duration": 23,
    "start_time": "2021-08-13T11:49:11.808Z"
   },
   {
    "duration": 26,
    "start_time": "2021-08-13T11:49:11.833Z"
   },
   {
    "duration": 22,
    "start_time": "2021-08-13T11:49:11.862Z"
   },
   {
    "duration": 6,
    "start_time": "2021-08-13T11:49:11.901Z"
   },
   {
    "duration": 661,
    "start_time": "2021-08-13T11:49:11.910Z"
   },
   {
    "duration": 35,
    "start_time": "2021-08-13T11:49:12.573Z"
   },
   {
    "duration": 7,
    "start_time": "2021-08-13T11:49:12.611Z"
   },
   {
    "duration": 8,
    "start_time": "2021-08-13T11:49:12.621Z"
   },
   {
    "duration": 516,
    "start_time": "2021-08-13T11:49:12.632Z"
   },
   {
    "duration": 594,
    "start_time": "2021-08-13T11:59:35.638Z"
   },
   {
    "duration": 538,
    "start_time": "2021-08-13T11:59:49.592Z"
   },
   {
    "duration": 604,
    "start_time": "2021-08-13T12:00:08.273Z"
   },
   {
    "duration": 488,
    "start_time": "2021-08-13T12:01:15.263Z"
   },
   {
    "duration": 1497,
    "start_time": "2021-08-13T12:05:03.217Z"
   },
   {
    "duration": 3,
    "start_time": "2021-08-13T12:05:04.717Z"
   },
   {
    "duration": 69,
    "start_time": "2021-08-13T12:05:04.724Z"
   },
   {
    "duration": 24,
    "start_time": "2021-08-13T12:05:04.795Z"
   },
   {
    "duration": 22,
    "start_time": "2021-08-13T12:05:04.821Z"
   },
   {
    "duration": 26,
    "start_time": "2021-08-13T12:05:04.846Z"
   },
   {
    "duration": 28,
    "start_time": "2021-08-13T12:05:04.874Z"
   },
   {
    "duration": 23,
    "start_time": "2021-08-13T12:05:04.905Z"
   },
   {
    "duration": 17,
    "start_time": "2021-08-13T12:05:04.931Z"
   },
   {
    "duration": 37,
    "start_time": "2021-08-13T12:05:04.950Z"
   },
   {
    "duration": 38,
    "start_time": "2021-08-13T12:05:04.990Z"
   },
   {
    "duration": 34,
    "start_time": "2021-08-13T12:05:05.030Z"
   },
   {
    "duration": 36,
    "start_time": "2021-08-13T12:05:05.066Z"
   },
   {
    "duration": 20,
    "start_time": "2021-08-13T12:05:05.105Z"
   },
   {
    "duration": 17,
    "start_time": "2021-08-13T12:05:05.128Z"
   },
   {
    "duration": 28,
    "start_time": "2021-08-13T12:05:05.148Z"
   },
   {
    "duration": 24,
    "start_time": "2021-08-13T12:05:05.178Z"
   },
   {
    "duration": 26,
    "start_time": "2021-08-13T12:05:05.205Z"
   },
   {
    "duration": 548,
    "start_time": "2021-08-13T12:05:05.234Z"
   },
   {
    "duration": 25,
    "start_time": "2021-08-13T12:05:05.784Z"
   },
   {
    "duration": 323,
    "start_time": "2021-08-13T12:05:05.812Z"
   },
   {
    "duration": 18,
    "start_time": "2021-08-13T12:05:06.138Z"
   },
   {
    "duration": 10,
    "start_time": "2021-08-13T12:05:06.162Z"
   },
   {
    "duration": 10,
    "start_time": "2021-08-13T12:05:06.201Z"
   },
   {
    "duration": 23,
    "start_time": "2021-08-13T12:05:06.213Z"
   },
   {
    "duration": 6,
    "start_time": "2021-08-13T12:05:06.238Z"
   },
   {
    "duration": 667,
    "start_time": "2021-08-13T12:05:06.247Z"
   },
   {
    "duration": 19,
    "start_time": "2021-08-13T12:05:06.916Z"
   },
   {
    "duration": 8,
    "start_time": "2021-08-13T12:05:06.937Z"
   },
   {
    "duration": 11,
    "start_time": "2021-08-13T12:05:06.947Z"
   },
   {
    "duration": 41,
    "start_time": "2021-08-13T12:05:06.960Z"
   },
   {
    "duration": 748,
    "start_time": "2021-08-13T12:05:07.003Z"
   },
   {
    "duration": 591,
    "start_time": "2021-08-13T12:05:07.754Z"
   },
   {
    "duration": 665,
    "start_time": "2021-08-13T12:05:08.347Z"
   },
   {
    "duration": 20,
    "start_time": "2021-08-13T12:05:09.015Z"
   },
   {
    "duration": 540,
    "start_time": "2021-08-13T12:05:09.037Z"
   },
   {
    "duration": 4210,
    "start_time": "2021-08-13T12:05:09.579Z"
   },
   {
    "duration": 1204,
    "start_time": "2021-08-13T12:05:13.792Z"
   },
   {
    "duration": 19,
    "start_time": "2021-08-13T12:05:14.998Z"
   },
   {
    "duration": 56,
    "start_time": "2021-08-13T12:05:15.019Z"
   },
   {
    "duration": 35,
    "start_time": "2021-08-13T12:05:15.077Z"
   },
   {
    "duration": 593,
    "start_time": "2021-08-13T12:05:15.115Z"
   },
   {
    "duration": 6,
    "start_time": "2021-08-13T12:05:15.710Z"
   },
   {
    "duration": 24,
    "start_time": "2021-08-13T12:05:15.719Z"
   },
   {
    "duration": 63,
    "start_time": "2021-08-13T12:05:15.746Z"
   },
   {
    "duration": 29,
    "start_time": "2021-08-13T12:05:15.812Z"
   },
   {
    "duration": 656,
    "start_time": "2021-08-13T12:05:15.844Z"
   },
   {
    "duration": 39,
    "start_time": "2021-08-13T12:05:16.503Z"
   },
   {
    "duration": 23,
    "start_time": "2021-08-13T12:05:16.545Z"
   },
   {
    "duration": 8,
    "start_time": "2021-08-13T12:05:16.601Z"
   },
   {
    "duration": 9,
    "start_time": "2021-08-13T12:05:16.611Z"
   },
   {
    "duration": 523,
    "start_time": "2021-08-13T12:05:16.622Z"
   },
   {
    "duration": 24,
    "start_time": "2021-08-13T12:05:17.148Z"
   },
   {
    "duration": 43,
    "start_time": "2021-08-13T12:05:17.174Z"
   },
   {
    "duration": 6,
    "start_time": "2021-08-13T12:05:17.219Z"
   },
   {
    "duration": 8,
    "start_time": "2021-08-13T12:05:17.228Z"
   },
   {
    "duration": 626,
    "start_time": "2021-08-13T12:05:17.238Z"
   },
   {
    "duration": 26,
    "start_time": "2021-08-13T14:16:07.114Z"
   },
   {
    "duration": 31,
    "start_time": "2021-08-13T14:16:14.391Z"
   },
   {
    "duration": 19,
    "start_time": "2021-08-13T14:17:06.630Z"
   },
   {
    "duration": 26,
    "start_time": "2021-08-13T14:17:59.701Z"
   },
   {
    "duration": 792,
    "start_time": "2021-08-13T14:18:21.335Z"
   },
   {
    "duration": 29,
    "start_time": "2021-08-13T14:28:06.197Z"
   },
   {
    "duration": -339,
    "start_time": "2021-08-13T14:29:43.196Z"
   },
   {
    "duration": 594,
    "start_time": "2021-08-13T14:30:00.880Z"
   },
   {
    "duration": 4,
    "start_time": "2021-08-13T14:32:51.024Z"
   },
   {
    "duration": 21,
    "start_time": "2021-08-13T14:33:29.313Z"
   },
   {
    "duration": 272,
    "start_time": "2021-08-13T14:34:14.109Z"
   },
   {
    "duration": 1513,
    "start_time": "2021-08-13T14:38:54.309Z"
   },
   {
    "duration": 3,
    "start_time": "2021-08-13T14:38:55.825Z"
   },
   {
    "duration": 60,
    "start_time": "2021-08-13T14:38:55.830Z"
   },
   {
    "duration": 31,
    "start_time": "2021-08-13T14:38:55.893Z"
   },
   {
    "duration": 17,
    "start_time": "2021-08-13T14:38:55.926Z"
   },
   {
    "duration": 22,
    "start_time": "2021-08-13T14:38:55.945Z"
   },
   {
    "duration": 37,
    "start_time": "2021-08-13T14:38:55.969Z"
   },
   {
    "duration": 12,
    "start_time": "2021-08-13T14:38:56.012Z"
   },
   {
    "duration": 12,
    "start_time": "2021-08-13T14:38:56.027Z"
   },
   {
    "duration": 30,
    "start_time": "2021-08-13T14:38:56.041Z"
   },
   {
    "duration": 64,
    "start_time": "2021-08-13T14:38:56.073Z"
   },
   {
    "duration": 27,
    "start_time": "2021-08-13T14:38:56.140Z"
   },
   {
    "duration": 52,
    "start_time": "2021-08-13T14:38:56.170Z"
   },
   {
    "duration": 29,
    "start_time": "2021-08-13T14:38:56.225Z"
   },
   {
    "duration": 53,
    "start_time": "2021-08-13T14:38:56.257Z"
   },
   {
    "duration": 12,
    "start_time": "2021-08-13T14:38:56.313Z"
   },
   {
    "duration": 10,
    "start_time": "2021-08-13T14:38:56.327Z"
   },
   {
    "duration": 12,
    "start_time": "2021-08-13T14:38:56.340Z"
   },
   {
    "duration": 633,
    "start_time": "2021-08-13T14:38:56.355Z"
   },
   {
    "duration": 29,
    "start_time": "2021-08-13T14:38:56.990Z"
   },
   {
    "duration": 268,
    "start_time": "2021-08-13T14:38:57.021Z"
   },
   {
    "duration": 26,
    "start_time": "2021-08-13T14:38:57.291Z"
   },
   {
    "duration": 11,
    "start_time": "2021-08-13T14:38:57.320Z"
   },
   {
    "duration": 9,
    "start_time": "2021-08-13T14:38:57.333Z"
   },
   {
    "duration": 22,
    "start_time": "2021-08-13T14:38:57.344Z"
   },
   {
    "duration": 7,
    "start_time": "2021-08-13T14:38:57.406Z"
   },
   {
    "duration": 674,
    "start_time": "2021-08-13T14:38:57.417Z"
   },
   {
    "duration": 30,
    "start_time": "2021-08-13T14:38:58.094Z"
   },
   {
    "duration": 8,
    "start_time": "2021-08-13T14:38:58.127Z"
   },
   {
    "duration": 11,
    "start_time": "2021-08-13T14:38:58.137Z"
   },
   {
    "duration": 6,
    "start_time": "2021-08-13T14:38:58.151Z"
   },
   {
    "duration": 718,
    "start_time": "2021-08-13T14:38:58.160Z"
   },
   {
    "duration": 648,
    "start_time": "2021-08-13T14:38:58.880Z"
   },
   {
    "duration": 726,
    "start_time": "2021-08-13T14:38:59.531Z"
   },
   {
    "duration": 19,
    "start_time": "2021-08-13T14:39:00.260Z"
   },
   {
    "duration": 571,
    "start_time": "2021-08-13T14:39:00.281Z"
   },
   {
    "duration": 3908,
    "start_time": "2021-08-13T14:39:00.855Z"
   },
   {
    "duration": 926,
    "start_time": "2021-08-13T14:39:04.766Z"
   },
   {
    "duration": 28,
    "start_time": "2021-08-13T14:39:05.694Z"
   },
   {
    "duration": 40,
    "start_time": "2021-08-13T14:39:05.724Z"
   },
   {
    "duration": 46,
    "start_time": "2021-08-13T14:39:05.767Z"
   },
   {
    "duration": 664,
    "start_time": "2021-08-13T14:39:05.816Z"
   },
   {
    "duration": 5,
    "start_time": "2021-08-13T14:39:06.482Z"
   },
   {
    "duration": 38,
    "start_time": "2021-08-13T14:39:06.489Z"
   },
   {
    "duration": 24,
    "start_time": "2021-08-13T14:39:06.530Z"
   },
   {
    "duration": 61,
    "start_time": "2021-08-13T14:39:06.557Z"
   },
   {
    "duration": 708,
    "start_time": "2021-08-13T14:39:06.620Z"
   },
   {
    "duration": 39,
    "start_time": "2021-08-13T14:39:07.331Z"
   },
   {
    "duration": 53,
    "start_time": "2021-08-13T14:39:07.372Z"
   },
   {
    "duration": 6,
    "start_time": "2021-08-13T14:39:07.428Z"
   },
   {
    "duration": 12,
    "start_time": "2021-08-13T14:39:07.436Z"
   },
   {
    "duration": 561,
    "start_time": "2021-08-13T14:39:07.451Z"
   },
   {
    "duration": 27,
    "start_time": "2021-08-13T14:39:08.016Z"
   },
   {
    "duration": 24,
    "start_time": "2021-08-13T14:39:08.046Z"
   },
   {
    "duration": 8,
    "start_time": "2021-08-13T14:39:08.102Z"
   },
   {
    "duration": 13,
    "start_time": "2021-08-13T14:39:08.117Z"
   },
   {
    "duration": 701,
    "start_time": "2021-08-13T14:39:08.133Z"
   },
   {
    "duration": 20,
    "start_time": "2021-08-13T14:39:08.837Z"
   },
   {
    "duration": 578,
    "start_time": "2021-08-13T14:39:08.859Z"
   },
   {
    "duration": 20,
    "start_time": "2021-08-13T14:39:09.439Z"
   },
   {
    "duration": 576,
    "start_time": "2021-08-13T14:39:09.461Z"
   },
   {
    "duration": 17,
    "start_time": "2021-08-13T14:39:10.040Z"
   },
   {
    "duration": 293,
    "start_time": "2021-08-13T14:39:10.060Z"
   },
   {
    "duration": 566,
    "start_time": "2021-08-13T14:48:38.061Z"
   },
   {
    "duration": 4,
    "start_time": "2021-08-13T14:59:42.161Z"
   },
   {
    "duration": 4,
    "start_time": "2021-08-13T14:59:56.754Z"
   },
   {
    "duration": 8,
    "start_time": "2021-08-13T14:59:56.761Z"
   },
   {
    "duration": 57,
    "start_time": "2021-08-13T14:59:56.834Z"
   },
   {
    "duration": 26,
    "start_time": "2021-08-13T14:59:56.893Z"
   },
   {
    "duration": 13,
    "start_time": "2021-08-13T14:59:56.924Z"
   },
   {
    "duration": 66,
    "start_time": "2021-08-13T14:59:56.941Z"
   },
   {
    "duration": 13,
    "start_time": "2021-08-13T14:59:57.011Z"
   },
   {
    "duration": 11,
    "start_time": "2021-08-13T14:59:57.027Z"
   },
   {
    "duration": 17,
    "start_time": "2021-08-13T14:59:57.040Z"
   },
   {
    "duration": 70,
    "start_time": "2021-08-13T14:59:57.059Z"
   },
   {
    "duration": 76,
    "start_time": "2021-08-13T14:59:57.133Z"
   },
   {
    "duration": 35,
    "start_time": "2021-08-13T14:59:57.214Z"
   },
   {
    "duration": 47,
    "start_time": "2021-08-13T14:59:57.252Z"
   },
   {
    "duration": 31,
    "start_time": "2021-08-13T14:59:57.306Z"
   },
   {
    "duration": 20,
    "start_time": "2021-08-13T14:59:57.341Z"
   },
   {
    "duration": 45,
    "start_time": "2021-08-13T14:59:57.363Z"
   },
   {
    "duration": 6,
    "start_time": "2021-08-13T14:59:57.411Z"
   },
   {
    "duration": 15,
    "start_time": "2021-08-13T14:59:57.420Z"
   },
   {
    "duration": 1339,
    "start_time": "2021-08-13T14:59:57.438Z"
   },
   {
    "duration": 31,
    "start_time": "2021-08-13T14:59:58.779Z"
   },
   {
    "duration": 609,
    "start_time": "2021-08-13T14:59:58.813Z"
   },
   {
    "duration": 13,
    "start_time": "2021-08-13T14:59:59.424Z"
   },
   {
    "duration": 11,
    "start_time": "2021-08-13T14:59:59.440Z"
   },
   {
    "duration": 9,
    "start_time": "2021-08-13T14:59:59.454Z"
   },
   {
    "duration": 61,
    "start_time": "2021-08-13T14:59:59.465Z"
   },
   {
    "duration": 11,
    "start_time": "2021-08-13T14:59:59.529Z"
   },
   {
    "duration": 1807,
    "start_time": "2021-08-13T14:59:59.543Z"
   },
   {
    "duration": 26,
    "start_time": "2021-08-13T15:00:01.353Z"
   },
   {
    "duration": 8,
    "start_time": "2021-08-13T15:00:01.408Z"
   },
   {
    "duration": 24,
    "start_time": "2021-08-13T15:00:01.421Z"
   },
   {
    "duration": 30,
    "start_time": "2021-08-13T15:00:01.449Z"
   },
   {
    "duration": 1371,
    "start_time": "2021-08-13T15:00:01.481Z"
   },
   {
    "duration": 1185,
    "start_time": "2021-08-13T15:00:02.855Z"
   },
   {
    "duration": 995,
    "start_time": "2021-08-13T15:00:04.043Z"
   },
   {
    "duration": 21,
    "start_time": "2021-08-13T15:00:05.040Z"
   },
   {
    "duration": 1342,
    "start_time": "2021-08-13T15:00:05.064Z"
   },
   {
    "duration": 4482,
    "start_time": "2021-08-13T15:00:06.409Z"
   },
   {
    "duration": 885,
    "start_time": "2021-08-13T15:00:10.894Z"
   },
   {
    "duration": 21,
    "start_time": "2021-08-13T15:00:11.781Z"
   },
   {
    "duration": 51,
    "start_time": "2021-08-13T15:00:11.804Z"
   },
   {
    "duration": 50,
    "start_time": "2021-08-13T15:00:11.857Z"
   },
   {
    "duration": 1768,
    "start_time": "2021-08-13T15:00:11.910Z"
   },
   {
    "duration": 19,
    "start_time": "2021-08-13T15:00:13.681Z"
   },
   {
    "duration": 31,
    "start_time": "2021-08-13T15:00:13.706Z"
   },
   {
    "duration": 65,
    "start_time": "2021-08-13T15:00:13.740Z"
   },
   {
    "duration": 41,
    "start_time": "2021-08-13T15:00:13.808Z"
   },
   {
    "duration": 1810,
    "start_time": "2021-08-13T15:00:13.852Z"
   },
   {
    "duration": 72,
    "start_time": "2021-08-13T15:00:15.665Z"
   },
   {
    "duration": 21,
    "start_time": "2021-08-13T15:00:15.739Z"
   },
   {
    "duration": 6,
    "start_time": "2021-08-13T15:00:15.763Z"
   },
   {
    "duration": 40,
    "start_time": "2021-08-13T15:00:15.772Z"
   },
   {
    "duration": 1239,
    "start_time": "2021-08-13T15:00:15.815Z"
   },
   {
    "duration": 55,
    "start_time": "2021-08-13T15:00:17.056Z"
   },
   {
    "duration": 24,
    "start_time": "2021-08-13T15:00:17.114Z"
   },
   {
    "duration": 7,
    "start_time": "2021-08-13T15:00:17.141Z"
   },
   {
    "duration": 7,
    "start_time": "2021-08-13T15:00:17.151Z"
   },
   {
    "duration": 1305,
    "start_time": "2021-08-13T15:00:17.160Z"
   },
   {
    "duration": 38,
    "start_time": "2021-08-13T15:00:18.468Z"
   },
   {
    "duration": 1215,
    "start_time": "2021-08-13T15:00:18.510Z"
   },
   {
    "duration": 22,
    "start_time": "2021-08-13T15:00:19.728Z"
   },
   {
    "duration": 1267,
    "start_time": "2021-08-13T15:00:19.752Z"
   },
   {
    "duration": 21,
    "start_time": "2021-08-13T15:00:21.022Z"
   },
   {
    "duration": 645,
    "start_time": "2021-08-13T15:00:21.045Z"
   },
   {
    "duration": 1417,
    "start_time": "2021-08-13T15:38:26.350Z"
   },
   {
    "duration": 59,
    "start_time": "2021-08-13T15:38:27.769Z"
   },
   {
    "duration": 22,
    "start_time": "2021-08-13T15:38:27.831Z"
   },
   {
    "duration": 22,
    "start_time": "2021-08-13T15:38:27.855Z"
   },
   {
    "duration": 35,
    "start_time": "2021-08-13T15:38:27.880Z"
   },
   {
    "duration": 9,
    "start_time": "2021-08-13T15:38:27.917Z"
   },
   {
    "duration": 27,
    "start_time": "2021-08-13T15:38:27.928Z"
   },
   {
    "duration": 26,
    "start_time": "2021-08-13T15:38:27.958Z"
   },
   {
    "duration": 31,
    "start_time": "2021-08-13T15:38:27.988Z"
   },
   {
    "duration": 29,
    "start_time": "2021-08-13T15:38:28.021Z"
   },
   {
    "duration": 50,
    "start_time": "2021-08-13T15:38:28.052Z"
   },
   {
    "duration": 19,
    "start_time": "2021-08-13T15:38:28.105Z"
   },
   {
    "duration": 20,
    "start_time": "2021-08-13T15:38:28.126Z"
   },
   {
    "duration": 18,
    "start_time": "2021-08-13T15:38:28.148Z"
   },
   {
    "duration": 39,
    "start_time": "2021-08-13T15:38:28.168Z"
   },
   {
    "duration": 19,
    "start_time": "2021-08-13T15:38:28.209Z"
   },
   {
    "duration": 16,
    "start_time": "2021-08-13T15:38:28.230Z"
   },
   {
    "duration": 540,
    "start_time": "2021-08-13T15:38:28.249Z"
   },
   {
    "duration": 21,
    "start_time": "2021-08-13T15:38:28.791Z"
   },
   {
    "duration": 250,
    "start_time": "2021-08-13T15:38:28.814Z"
   },
   {
    "duration": 12,
    "start_time": "2021-08-13T15:38:29.066Z"
   },
   {
    "duration": 27,
    "start_time": "2021-08-13T15:38:29.081Z"
   },
   {
    "duration": 20,
    "start_time": "2021-08-13T15:38:29.114Z"
   },
   {
    "duration": 27,
    "start_time": "2021-08-13T15:38:29.138Z"
   },
   {
    "duration": 11,
    "start_time": "2021-08-13T15:38:29.167Z"
   },
   {
    "duration": 622,
    "start_time": "2021-08-13T15:38:29.180Z"
   },
   {
    "duration": 18,
    "start_time": "2021-08-13T15:38:29.805Z"
   },
   {
    "duration": 14,
    "start_time": "2021-08-13T15:38:29.825Z"
   },
   {
    "duration": 20,
    "start_time": "2021-08-13T15:38:29.841Z"
   },
   {
    "duration": 14,
    "start_time": "2021-08-13T15:38:29.863Z"
   },
   {
    "duration": 645,
    "start_time": "2021-08-13T15:38:29.879Z"
   },
   {
    "duration": 577,
    "start_time": "2021-08-13T15:38:30.527Z"
   },
   {
    "duration": 646,
    "start_time": "2021-08-13T15:38:31.106Z"
   },
   {
    "duration": 19,
    "start_time": "2021-08-13T15:38:31.754Z"
   },
   {
    "duration": 531,
    "start_time": "2021-08-13T15:38:31.776Z"
   },
   {
    "duration": 3624,
    "start_time": "2021-08-13T15:38:32.310Z"
   },
   {
    "duration": 910,
    "start_time": "2021-08-13T15:38:35.937Z"
   },
   {
    "duration": 19,
    "start_time": "2021-08-13T15:38:36.849Z"
   },
   {
    "duration": 52,
    "start_time": "2021-08-13T15:38:36.871Z"
   },
   {
    "duration": 26,
    "start_time": "2021-08-13T15:38:36.925Z"
   },
   {
    "duration": 598,
    "start_time": "2021-08-13T15:38:36.953Z"
   },
   {
    "duration": 5,
    "start_time": "2021-08-13T15:38:37.554Z"
   },
   {
    "duration": 46,
    "start_time": "2021-08-13T15:38:37.562Z"
   },
   {
    "duration": 26,
    "start_time": "2021-08-13T15:38:37.611Z"
   },
   {
    "duration": 26,
    "start_time": "2021-08-13T15:38:37.639Z"
   },
   {
    "duration": 655,
    "start_time": "2021-08-13T15:38:37.668Z"
   },
   {
    "duration": 42,
    "start_time": "2021-08-13T15:38:38.326Z"
   },
   {
    "duration": 45,
    "start_time": "2021-08-13T15:38:38.370Z"
   },
   {
    "duration": 7,
    "start_time": "2021-08-13T15:38:38.417Z"
   },
   {
    "duration": 9,
    "start_time": "2021-08-13T15:38:38.426Z"
   },
   {
    "duration": 521,
    "start_time": "2021-08-13T15:38:38.438Z"
   },
   {
    "duration": 41,
    "start_time": "2021-08-13T15:38:38.962Z"
   },
   {
    "duration": 23,
    "start_time": "2021-08-13T15:38:39.005Z"
   },
   {
    "duration": 7,
    "start_time": "2021-08-13T15:38:39.031Z"
   },
   {
    "duration": 15,
    "start_time": "2021-08-13T15:38:39.040Z"
   },
   {
    "duration": 714,
    "start_time": "2021-08-13T15:38:39.057Z"
   },
   {
    "duration": 35,
    "start_time": "2021-08-13T15:38:39.774Z"
   },
   {
    "duration": 515,
    "start_time": "2021-08-13T15:38:39.812Z"
   },
   {
    "duration": 22,
    "start_time": "2021-08-13T15:38:40.330Z"
   },
   {
    "duration": 537,
    "start_time": "2021-08-13T15:38:40.355Z"
   },
   {
    "duration": 21,
    "start_time": "2021-08-13T15:38:40.895Z"
   },
   {
    "duration": 234,
    "start_time": "2021-08-13T15:38:40.919Z"
   },
   {
    "duration": 1536,
    "start_time": "2021-08-13T15:41:50.691Z"
   },
   {
    "duration": 57,
    "start_time": "2021-08-13T15:41:52.230Z"
   },
   {
    "duration": 35,
    "start_time": "2021-08-13T15:41:52.290Z"
   },
   {
    "duration": 19,
    "start_time": "2021-08-13T15:41:52.328Z"
   },
   {
    "duration": 26,
    "start_time": "2021-08-13T15:41:52.350Z"
   },
   {
    "duration": 24,
    "start_time": "2021-08-13T15:41:52.379Z"
   },
   {
    "duration": 33,
    "start_time": "2021-08-13T15:41:52.406Z"
   },
   {
    "duration": 14,
    "start_time": "2021-08-13T15:41:52.445Z"
   },
   {
    "duration": 50,
    "start_time": "2021-08-13T15:41:52.464Z"
   },
   {
    "duration": 30,
    "start_time": "2021-08-13T15:41:52.517Z"
   },
   {
    "duration": 53,
    "start_time": "2021-08-13T15:41:52.550Z"
   },
   {
    "duration": 26,
    "start_time": "2021-08-13T15:41:52.606Z"
   },
   {
    "duration": 27,
    "start_time": "2021-08-13T15:41:52.634Z"
   },
   {
    "duration": 59,
    "start_time": "2021-08-13T15:41:52.664Z"
   },
   {
    "duration": 19,
    "start_time": "2021-08-13T15:41:52.727Z"
   },
   {
    "duration": 43,
    "start_time": "2021-08-13T15:41:52.748Z"
   },
   {
    "duration": 15,
    "start_time": "2021-08-13T15:41:52.793Z"
   },
   {
    "duration": 776,
    "start_time": "2021-08-13T15:41:52.811Z"
   },
   {
    "duration": 31,
    "start_time": "2021-08-13T15:41:53.590Z"
   },
   {
    "duration": 276,
    "start_time": "2021-08-13T15:41:53.624Z"
   },
   {
    "duration": 16,
    "start_time": "2021-08-13T15:41:53.904Z"
   },
   {
    "duration": 13,
    "start_time": "2021-08-13T15:41:53.923Z"
   },
   {
    "duration": 12,
    "start_time": "2021-08-13T15:41:53.945Z"
   },
   {
    "duration": 58,
    "start_time": "2021-08-13T15:41:53.960Z"
   },
   {
    "duration": 6,
    "start_time": "2021-08-13T15:41:54.021Z"
   },
   {
    "duration": 691,
    "start_time": "2021-08-13T15:41:54.029Z"
   },
   {
    "duration": 19,
    "start_time": "2021-08-13T15:41:54.723Z"
   },
   {
    "duration": 8,
    "start_time": "2021-08-13T15:41:54.744Z"
   },
   {
    "duration": 15,
    "start_time": "2021-08-13T15:41:54.754Z"
   },
   {
    "duration": 35,
    "start_time": "2021-08-13T15:41:54.771Z"
   },
   {
    "duration": 665,
    "start_time": "2021-08-13T15:41:54.810Z"
   },
   {
    "duration": 664,
    "start_time": "2021-08-13T15:41:55.477Z"
   },
   {
    "duration": 707,
    "start_time": "2021-08-13T15:41:56.144Z"
   },
   {
    "duration": 20,
    "start_time": "2021-08-13T15:41:56.853Z"
   },
   {
    "duration": 780,
    "start_time": "2021-08-13T15:41:56.876Z"
   },
   {
    "duration": 4045,
    "start_time": "2021-08-13T15:41:57.658Z"
   },
   {
    "duration": 659,
    "start_time": "2021-08-13T15:42:01.710Z"
   },
   {
    "duration": 19,
    "start_time": "2021-08-13T15:42:02.372Z"
   },
   {
    "duration": 44,
    "start_time": "2021-08-13T15:42:02.402Z"
   },
   {
    "duration": 59,
    "start_time": "2021-08-13T15:42:02.449Z"
   },
   {
    "duration": 623,
    "start_time": "2021-08-13T15:42:02.511Z"
   },
   {
    "duration": 8,
    "start_time": "2021-08-13T15:42:03.137Z"
   },
   {
    "duration": 34,
    "start_time": "2021-08-13T15:42:03.148Z"
   },
   {
    "duration": 31,
    "start_time": "2021-08-13T15:42:03.201Z"
   },
   {
    "duration": 28,
    "start_time": "2021-08-13T15:42:03.235Z"
   },
   {
    "duration": 700,
    "start_time": "2021-08-13T15:42:03.266Z"
   },
   {
    "duration": 66,
    "start_time": "2021-08-13T15:42:03.970Z"
   },
   {
    "duration": 29,
    "start_time": "2021-08-13T15:42:04.039Z"
   },
   {
    "duration": 31,
    "start_time": "2021-08-13T15:42:04.071Z"
   },
   {
    "duration": 18,
    "start_time": "2021-08-13T15:42:04.105Z"
   },
   {
    "duration": 529,
    "start_time": "2021-08-13T15:42:04.126Z"
   },
   {
    "duration": 24,
    "start_time": "2021-08-13T15:42:04.658Z"
   },
   {
    "duration": 28,
    "start_time": "2021-08-13T15:42:04.701Z"
   },
   {
    "duration": 21,
    "start_time": "2021-08-13T15:42:04.731Z"
   },
   {
    "duration": 17,
    "start_time": "2021-08-13T15:42:04.754Z"
   },
   {
    "duration": 627,
    "start_time": "2021-08-13T15:42:04.774Z"
   },
   {
    "duration": 24,
    "start_time": "2021-08-13T15:42:05.405Z"
   },
   {
    "duration": 563,
    "start_time": "2021-08-13T15:42:05.432Z"
   },
   {
    "duration": 27,
    "start_time": "2021-08-13T15:42:06.002Z"
   },
   {
    "duration": 584,
    "start_time": "2021-08-13T15:42:06.032Z"
   },
   {
    "duration": 19,
    "start_time": "2021-08-13T15:42:06.619Z"
   },
   {
    "duration": 328,
    "start_time": "2021-08-13T15:42:06.641Z"
   },
   {
    "duration": 971,
    "start_time": "2021-08-13T16:09:02.430Z"
   },
   {
    "duration": 1485,
    "start_time": "2021-08-13T16:09:13.288Z"
   },
   {
    "duration": 57,
    "start_time": "2021-08-13T16:09:14.775Z"
   },
   {
    "duration": 23,
    "start_time": "2021-08-13T16:09:14.835Z"
   },
   {
    "duration": 14,
    "start_time": "2021-08-13T16:09:14.860Z"
   },
   {
    "duration": 43,
    "start_time": "2021-08-13T16:09:14.877Z"
   },
   {
    "duration": 9,
    "start_time": "2021-08-13T16:09:14.923Z"
   },
   {
    "duration": 10,
    "start_time": "2021-08-13T16:09:14.934Z"
   },
   {
    "duration": 60,
    "start_time": "2021-08-13T16:09:14.948Z"
   },
   {
    "duration": 34,
    "start_time": "2021-08-13T16:09:15.011Z"
   },
   {
    "duration": 82,
    "start_time": "2021-08-13T16:09:15.047Z"
   },
   {
    "duration": 26,
    "start_time": "2021-08-13T16:09:15.132Z"
   },
   {
    "duration": 20,
    "start_time": "2021-08-13T16:09:15.161Z"
   },
   {
    "duration": 23,
    "start_time": "2021-08-13T16:09:15.200Z"
   },
   {
    "duration": 17,
    "start_time": "2021-08-13T16:09:15.226Z"
   },
   {
    "duration": 11,
    "start_time": "2021-08-13T16:09:15.245Z"
   },
   {
    "duration": 6,
    "start_time": "2021-08-13T16:09:15.258Z"
   },
   {
    "duration": 13,
    "start_time": "2021-08-13T16:09:15.266Z"
   },
   {
    "duration": 603,
    "start_time": "2021-08-13T16:09:15.281Z"
   },
   {
    "duration": 21,
    "start_time": "2021-08-13T16:09:15.887Z"
   },
   {
    "duration": 257,
    "start_time": "2021-08-13T16:09:15.911Z"
   },
   {
    "duration": 12,
    "start_time": "2021-08-13T16:09:16.171Z"
   },
   {
    "duration": 17,
    "start_time": "2021-08-13T16:09:16.185Z"
   },
   {
    "duration": 10,
    "start_time": "2021-08-13T16:09:16.209Z"
   },
   {
    "duration": 22,
    "start_time": "2021-08-13T16:09:16.223Z"
   },
   {
    "duration": 9,
    "start_time": "2021-08-13T16:09:16.248Z"
   },
   {
    "duration": 1073,
    "start_time": "2021-08-13T16:09:16.260Z"
   },
   {
    "duration": 18,
    "start_time": "2021-08-13T16:09:17.335Z"
   },
   {
    "duration": 8,
    "start_time": "2021-08-13T16:09:17.356Z"
   },
   {
    "duration": 36,
    "start_time": "2021-08-13T16:09:17.366Z"
   },
   {
    "duration": 7,
    "start_time": "2021-08-13T16:09:17.405Z"
   },
   {
    "duration": 643,
    "start_time": "2021-08-13T16:09:17.414Z"
   },
   {
    "duration": 624,
    "start_time": "2021-08-13T16:09:18.060Z"
   },
   {
    "duration": 659,
    "start_time": "2021-08-13T16:09:18.686Z"
   },
   {
    "duration": 18,
    "start_time": "2021-08-13T16:09:19.348Z"
   },
   {
    "duration": 537,
    "start_time": "2021-08-13T16:09:19.369Z"
   },
   {
    "duration": 3615,
    "start_time": "2021-08-13T16:09:19.908Z"
   },
   {
    "duration": 612,
    "start_time": "2021-08-13T16:09:23.526Z"
   },
   {
    "duration": 20,
    "start_time": "2021-08-13T16:09:24.141Z"
   },
   {
    "duration": 59,
    "start_time": "2021-08-13T16:09:24.163Z"
   },
   {
    "duration": 28,
    "start_time": "2021-08-13T16:09:24.225Z"
   },
   {
    "duration": 582,
    "start_time": "2021-08-13T16:09:24.256Z"
   },
   {
    "duration": 6,
    "start_time": "2021-08-13T16:09:24.840Z"
   },
   {
    "duration": 25,
    "start_time": "2021-08-13T16:09:24.848Z"
   },
   {
    "duration": 46,
    "start_time": "2021-08-13T16:09:24.875Z"
   },
   {
    "duration": 27,
    "start_time": "2021-08-13T16:09:24.924Z"
   },
   {
    "duration": 665,
    "start_time": "2021-08-13T16:09:24.953Z"
   },
   {
    "duration": 40,
    "start_time": "2021-08-13T16:09:25.620Z"
   },
   {
    "duration": 50,
    "start_time": "2021-08-13T16:09:25.662Z"
   },
   {
    "duration": 8,
    "start_time": "2021-08-13T16:09:25.715Z"
   },
   {
    "duration": 7,
    "start_time": "2021-08-13T16:09:25.726Z"
   },
   {
    "duration": 557,
    "start_time": "2021-08-13T16:09:25.736Z"
   },
   {
    "duration": 29,
    "start_time": "2021-08-13T16:09:26.300Z"
   },
   {
    "duration": 23,
    "start_time": "2021-08-13T16:09:26.332Z"
   },
   {
    "duration": 43,
    "start_time": "2021-08-13T16:09:26.358Z"
   },
   {
    "duration": 6,
    "start_time": "2021-08-13T16:09:26.403Z"
   },
   {
    "duration": 633,
    "start_time": "2021-08-13T16:09:26.411Z"
   },
   {
    "duration": 22,
    "start_time": "2021-08-13T16:09:27.046Z"
   },
   {
    "duration": 577,
    "start_time": "2021-08-13T16:09:27.071Z"
   },
   {
    "duration": 21,
    "start_time": "2021-08-13T16:09:27.650Z"
   },
   {
    "duration": 560,
    "start_time": "2021-08-13T16:09:27.674Z"
   },
   {
    "duration": 19,
    "start_time": "2021-08-13T16:09:28.237Z"
   },
   {
    "duration": 282,
    "start_time": "2021-08-13T16:09:28.259Z"
   },
   {
    "duration": 360,
    "start_time": "2021-08-13T21:46:06.638Z"
   },
   {
    "duration": 1470,
    "start_time": "2021-08-13T21:46:15.262Z"
   },
   {
    "duration": 58,
    "start_time": "2021-08-13T21:46:16.736Z"
   },
   {
    "duration": 23,
    "start_time": "2021-08-13T21:46:16.797Z"
   },
   {
    "duration": 31,
    "start_time": "2021-08-13T21:46:16.823Z"
   },
   {
    "duration": 22,
    "start_time": "2021-08-13T21:46:16.856Z"
   },
   {
    "duration": 20,
    "start_time": "2021-08-13T21:46:16.880Z"
   },
   {
    "duration": 32,
    "start_time": "2021-08-13T21:46:16.903Z"
   },
   {
    "duration": 32,
    "start_time": "2021-08-13T21:46:16.937Z"
   },
   {
    "duration": 34,
    "start_time": "2021-08-13T21:46:16.973Z"
   },
   {
    "duration": 30,
    "start_time": "2021-08-13T21:46:17.010Z"
   },
   {
    "duration": 40,
    "start_time": "2021-08-13T21:46:17.042Z"
   },
   {
    "duration": 18,
    "start_time": "2021-08-13T21:46:17.084Z"
   },
   {
    "duration": 23,
    "start_time": "2021-08-13T21:46:17.105Z"
   },
   {
    "duration": 33,
    "start_time": "2021-08-13T21:46:17.131Z"
   },
   {
    "duration": 16,
    "start_time": "2021-08-13T21:46:17.167Z"
   },
   {
    "duration": 10,
    "start_time": "2021-08-13T21:46:17.185Z"
   },
   {
    "duration": 30,
    "start_time": "2021-08-13T21:46:17.198Z"
   },
   {
    "duration": 541,
    "start_time": "2021-08-13T21:46:17.230Z"
   },
   {
    "duration": 17,
    "start_time": "2021-08-13T21:46:17.773Z"
   },
   {
    "duration": 295,
    "start_time": "2021-08-13T21:46:17.793Z"
   },
   {
    "duration": 12,
    "start_time": "2021-08-13T21:46:18.090Z"
   },
   {
    "duration": 23,
    "start_time": "2021-08-13T21:46:18.105Z"
   },
   {
    "duration": 28,
    "start_time": "2021-08-13T21:46:18.130Z"
   },
   {
    "duration": 25,
    "start_time": "2021-08-13T21:46:18.161Z"
   },
   {
    "duration": 25,
    "start_time": "2021-08-13T21:46:18.189Z"
   },
   {
    "duration": 605,
    "start_time": "2021-08-13T21:46:18.217Z"
   },
   {
    "duration": 31,
    "start_time": "2021-08-13T21:46:18.827Z"
   },
   {
    "duration": 7,
    "start_time": "2021-08-13T21:46:18.861Z"
   },
   {
    "duration": 13,
    "start_time": "2021-08-13T21:46:18.871Z"
   },
   {
    "duration": 7,
    "start_time": "2021-08-13T21:46:18.886Z"
   },
   {
    "duration": 696,
    "start_time": "2021-08-13T21:46:18.895Z"
   },
   {
    "duration": 587,
    "start_time": "2021-08-13T21:46:19.594Z"
   },
   {
    "duration": 657,
    "start_time": "2021-08-13T21:46:20.183Z"
   },
   {
    "duration": 25,
    "start_time": "2021-08-13T21:46:20.842Z"
   },
   {
    "duration": 535,
    "start_time": "2021-08-13T21:46:20.869Z"
   },
   {
    "duration": 3797,
    "start_time": "2021-08-13T21:46:21.407Z"
   },
   {
    "duration": 21,
    "start_time": "2021-08-13T21:46:25.206Z"
   },
   {
    "duration": 1002,
    "start_time": "2021-08-13T21:46:25.230Z"
   },
   {
    "duration": 21,
    "start_time": "2021-08-13T21:46:26.235Z"
   },
   {
    "duration": 51,
    "start_time": "2021-08-13T21:46:26.259Z"
   },
   {
    "duration": 40,
    "start_time": "2021-08-13T21:46:26.314Z"
   },
   {
    "duration": 576,
    "start_time": "2021-08-13T21:46:26.357Z"
   },
   {
    "duration": 18,
    "start_time": "2021-08-13T21:46:26.936Z"
   },
   {
    "duration": 23,
    "start_time": "2021-08-13T21:46:26.957Z"
   },
   {
    "duration": 30,
    "start_time": "2021-08-13T21:46:26.983Z"
   },
   {
    "duration": 63,
    "start_time": "2021-08-13T21:46:27.016Z"
   },
   {
    "duration": 650,
    "start_time": "2021-08-13T21:46:27.082Z"
   },
   {
    "duration": 49,
    "start_time": "2021-08-13T21:46:27.735Z"
   },
   {
    "duration": 21,
    "start_time": "2021-08-13T21:46:27.786Z"
   },
   {
    "duration": 18,
    "start_time": "2021-08-13T21:46:27.810Z"
   },
   {
    "duration": 28,
    "start_time": "2021-08-13T21:46:27.830Z"
   },
   {
    "duration": 514,
    "start_time": "2021-08-13T21:46:27.860Z"
   },
   {
    "duration": 24,
    "start_time": "2021-08-13T21:46:28.376Z"
   },
   {
    "duration": 25,
    "start_time": "2021-08-13T21:46:28.403Z"
   },
   {
    "duration": 26,
    "start_time": "2021-08-13T21:46:28.431Z"
   },
   {
    "duration": 20,
    "start_time": "2021-08-13T21:46:28.459Z"
   },
   {
    "duration": 578,
    "start_time": "2021-08-13T21:46:28.481Z"
   },
   {
    "duration": 20,
    "start_time": "2021-08-13T21:46:29.061Z"
   },
   {
    "duration": 517,
    "start_time": "2021-08-13T21:46:29.083Z"
   },
   {
    "duration": 20,
    "start_time": "2021-08-13T21:46:29.602Z"
   },
   {
    "duration": 555,
    "start_time": "2021-08-13T21:46:29.624Z"
   },
   {
    "duration": 18,
    "start_time": "2021-08-13T21:46:30.181Z"
   },
   {
    "duration": 312,
    "start_time": "2021-08-13T21:46:30.201Z"
   },
   {
    "duration": 36,
    "start_time": "2021-08-13T21:46:57.766Z"
   },
   {
    "duration": 1162,
    "start_time": "2021-08-14T18:41:44.351Z"
   },
   {
    "duration": 48,
    "start_time": "2021-08-14T18:41:45.515Z"
   },
   {
    "duration": 16,
    "start_time": "2021-08-14T18:41:45.565Z"
   },
   {
    "duration": 9,
    "start_time": "2021-08-14T18:41:45.585Z"
   },
   {
    "duration": 16,
    "start_time": "2021-08-14T18:41:45.595Z"
   },
   {
    "duration": 6,
    "start_time": "2021-08-14T18:41:45.613Z"
   },
   {
    "duration": 9,
    "start_time": "2021-08-14T18:41:45.620Z"
   },
   {
    "duration": 8,
    "start_time": "2021-08-14T18:41:45.631Z"
   },
   {
    "duration": 52,
    "start_time": "2021-08-14T18:41:45.642Z"
   },
   {
    "duration": 21,
    "start_time": "2021-08-14T18:41:45.697Z"
   },
   {
    "duration": 23,
    "start_time": "2021-08-14T18:41:45.719Z"
   },
   {
    "duration": 14,
    "start_time": "2021-08-14T18:41:45.743Z"
   },
   {
    "duration": 34,
    "start_time": "2021-08-14T18:41:45.759Z"
   },
   {
    "duration": 14,
    "start_time": "2021-08-14T18:41:45.795Z"
   },
   {
    "duration": 7,
    "start_time": "2021-08-14T18:41:45.811Z"
   },
   {
    "duration": 5,
    "start_time": "2021-08-14T18:41:45.820Z"
   },
   {
    "duration": 12,
    "start_time": "2021-08-14T18:41:45.827Z"
   },
   {
    "duration": 378,
    "start_time": "2021-08-14T18:41:45.841Z"
   },
   {
    "duration": 12,
    "start_time": "2021-08-14T18:41:46.221Z"
   },
   {
    "duration": 185,
    "start_time": "2021-08-14T18:41:46.235Z"
   },
   {
    "duration": 71,
    "start_time": "2021-08-14T18:41:46.421Z"
   },
   {
    "duration": 8,
    "start_time": "2021-08-14T18:41:46.494Z"
   },
   {
    "duration": 6,
    "start_time": "2021-08-14T18:41:46.504Z"
   },
   {
    "duration": 13,
    "start_time": "2021-08-14T18:41:46.512Z"
   },
   {
    "duration": 4,
    "start_time": "2021-08-14T18:41:46.526Z"
   },
   {
    "duration": 439,
    "start_time": "2021-08-14T18:41:46.532Z"
   },
   {
    "duration": 21,
    "start_time": "2021-08-14T18:41:46.976Z"
   },
   {
    "duration": 7,
    "start_time": "2021-08-14T18:41:46.999Z"
   },
   {
    "duration": 9,
    "start_time": "2021-08-14T18:41:47.008Z"
   },
   {
    "duration": 5,
    "start_time": "2021-08-14T18:41:47.019Z"
   },
   {
    "duration": 517,
    "start_time": "2021-08-14T18:41:47.026Z"
   },
   {
    "duration": 401,
    "start_time": "2021-08-14T18:41:47.544Z"
   },
   {
    "duration": 429,
    "start_time": "2021-08-14T18:41:47.947Z"
   },
   {
    "duration": 18,
    "start_time": "2021-08-14T18:41:48.378Z"
   },
   {
    "duration": 334,
    "start_time": "2021-08-14T18:41:48.398Z"
   },
   {
    "duration": 1905,
    "start_time": "2021-08-14T18:41:48.733Z"
   },
   {
    "duration": 22,
    "start_time": "2021-08-14T18:41:50.639Z"
   },
   {
    "duration": 575,
    "start_time": "2021-08-14T18:41:50.663Z"
   },
   {
    "duration": 15,
    "start_time": "2021-08-14T18:41:51.239Z"
   },
   {
    "duration": 31,
    "start_time": "2021-08-14T18:41:51.255Z"
   },
   {
    "duration": 18,
    "start_time": "2021-08-14T18:41:51.287Z"
   },
   {
    "duration": 379,
    "start_time": "2021-08-14T18:41:51.307Z"
   },
   {
    "duration": 4,
    "start_time": "2021-08-14T18:41:51.688Z"
   },
   {
    "duration": 30,
    "start_time": "2021-08-14T18:41:51.693Z"
   },
   {
    "duration": 26,
    "start_time": "2021-08-14T18:41:51.724Z"
   },
   {
    "duration": 19,
    "start_time": "2021-08-14T18:41:51.752Z"
   },
   {
    "duration": 400,
    "start_time": "2021-08-14T18:41:51.773Z"
   },
   {
    "duration": 30,
    "start_time": "2021-08-14T18:41:52.175Z"
   },
   {
    "duration": 14,
    "start_time": "2021-08-14T18:41:52.206Z"
   },
   {
    "duration": 4,
    "start_time": "2021-08-14T18:41:52.222Z"
   },
   {
    "duration": 5,
    "start_time": "2021-08-14T18:41:52.227Z"
   },
   {
    "duration": 345,
    "start_time": "2021-08-14T18:41:52.233Z"
   },
   {
    "duration": 20,
    "start_time": "2021-08-14T18:41:52.580Z"
   },
   {
    "duration": 15,
    "start_time": "2021-08-14T18:41:52.601Z"
   },
   {
    "duration": 4,
    "start_time": "2021-08-14T18:41:52.618Z"
   },
   {
    "duration": 5,
    "start_time": "2021-08-14T18:41:52.623Z"
   },
   {
    "duration": 403,
    "start_time": "2021-08-14T18:41:52.629Z"
   },
   {
    "duration": 13,
    "start_time": "2021-08-14T18:41:53.034Z"
   },
   {
    "duration": 341,
    "start_time": "2021-08-14T18:41:53.049Z"
   },
   {
    "duration": 14,
    "start_time": "2021-08-14T18:41:53.392Z"
   },
   {
    "duration": 340,
    "start_time": "2021-08-14T18:41:53.408Z"
   },
   {
    "duration": 11,
    "start_time": "2021-08-14T18:41:53.750Z"
   },
   {
    "duration": 224,
    "start_time": "2021-08-14T18:41:53.763Z"
   },
   {
    "duration": 1089,
    "start_time": "2021-08-15T12:50:44.714Z"
   },
   {
    "duration": 48,
    "start_time": "2021-08-15T12:50:45.805Z"
   },
   {
    "duration": 16,
    "start_time": "2021-08-15T12:50:45.855Z"
   },
   {
    "duration": 15,
    "start_time": "2021-08-15T12:50:45.872Z"
   },
   {
    "duration": 18,
    "start_time": "2021-08-15T12:50:45.889Z"
   },
   {
    "duration": 7,
    "start_time": "2021-08-15T12:50:45.908Z"
   },
   {
    "duration": 7,
    "start_time": "2021-08-15T12:50:45.917Z"
   },
   {
    "duration": 8,
    "start_time": "2021-08-15T12:50:45.926Z"
   },
   {
    "duration": 20,
    "start_time": "2021-08-15T12:50:45.936Z"
   },
   {
    "duration": 22,
    "start_time": "2021-08-15T12:50:45.985Z"
   },
   {
    "duration": 20,
    "start_time": "2021-08-15T12:50:46.009Z"
   },
   {
    "duration": 13,
    "start_time": "2021-08-15T12:50:46.031Z"
   },
   {
    "duration": 41,
    "start_time": "2021-08-15T12:50:46.045Z"
   },
   {
    "duration": 14,
    "start_time": "2021-08-15T12:50:46.088Z"
   },
   {
    "duration": 7,
    "start_time": "2021-08-15T12:50:46.104Z"
   },
   {
    "duration": 5,
    "start_time": "2021-08-15T12:50:46.112Z"
   },
   {
    "duration": 13,
    "start_time": "2021-08-15T12:50:46.119Z"
   },
   {
    "duration": 383,
    "start_time": "2021-08-15T12:50:46.134Z"
   },
   {
    "duration": 12,
    "start_time": "2021-08-15T12:50:46.519Z"
   },
   {
    "duration": 180,
    "start_time": "2021-08-15T12:50:46.533Z"
   },
   {
    "duration": 9,
    "start_time": "2021-08-15T12:50:46.714Z"
   },
   {
    "duration": 7,
    "start_time": "2021-08-15T12:50:46.725Z"
   },
   {
    "duration": 7,
    "start_time": "2021-08-15T12:50:46.736Z"
   },
   {
    "duration": 48,
    "start_time": "2021-08-15T12:50:46.745Z"
   },
   {
    "duration": 5,
    "start_time": "2021-08-15T12:50:46.795Z"
   },
   {
    "duration": 418,
    "start_time": "2021-08-15T12:50:46.802Z"
   },
   {
    "duration": 13,
    "start_time": "2021-08-15T12:50:47.222Z"
   },
   {
    "duration": 5,
    "start_time": "2021-08-15T12:50:47.237Z"
   },
   {
    "duration": 10,
    "start_time": "2021-08-15T12:50:47.244Z"
   },
   {
    "duration": 29,
    "start_time": "2021-08-15T12:50:47.256Z"
   },
   {
    "duration": 464,
    "start_time": "2021-08-15T12:50:47.287Z"
   },
   {
    "duration": 439,
    "start_time": "2021-08-15T12:50:47.752Z"
   },
   {
    "duration": 434,
    "start_time": "2021-08-15T12:50:48.193Z"
   },
   {
    "duration": 13,
    "start_time": "2021-08-15T12:50:48.629Z"
   },
   {
    "duration": 341,
    "start_time": "2021-08-15T12:50:48.643Z"
   },
   {
    "duration": 1884,
    "start_time": "2021-08-15T12:50:48.986Z"
   },
   {
    "duration": 28,
    "start_time": "2021-08-15T12:50:50.872Z"
   },
   {
    "duration": 527,
    "start_time": "2021-08-15T12:50:50.902Z"
   },
   {
    "duration": 14,
    "start_time": "2021-08-15T12:50:51.431Z"
   },
   {
    "duration": 37,
    "start_time": "2021-08-15T12:50:51.447Z"
   },
   {
    "duration": 19,
    "start_time": "2021-08-15T12:50:51.486Z"
   },
   {
    "duration": 386,
    "start_time": "2021-08-15T12:50:51.507Z"
   },
   {
    "duration": 4,
    "start_time": "2021-08-15T12:50:51.895Z"
   },
   {
    "duration": 17,
    "start_time": "2021-08-15T12:50:51.900Z"
   },
   {
    "duration": 16,
    "start_time": "2021-08-15T12:50:51.919Z"
   },
   {
    "duration": 22,
    "start_time": "2021-08-15T12:50:51.937Z"
   },
   {
    "duration": 445,
    "start_time": "2021-08-15T12:50:51.961Z"
   },
   {
    "duration": 26,
    "start_time": "2021-08-15T12:50:52.408Z"
   },
   {
    "duration": 15,
    "start_time": "2021-08-15T12:50:52.436Z"
   },
   {
    "duration": 4,
    "start_time": "2021-08-15T12:50:52.453Z"
   },
   {
    "duration": 4,
    "start_time": "2021-08-15T12:50:52.485Z"
   },
   {
    "duration": 330,
    "start_time": "2021-08-15T12:50:52.491Z"
   },
   {
    "duration": 16,
    "start_time": "2021-08-15T12:50:52.823Z"
   },
   {
    "duration": 14,
    "start_time": "2021-08-15T12:50:52.841Z"
   },
   {
    "duration": 29,
    "start_time": "2021-08-15T12:50:52.857Z"
   },
   {
    "duration": 5,
    "start_time": "2021-08-15T12:50:52.888Z"
   },
   {
    "duration": 398,
    "start_time": "2021-08-15T12:50:52.895Z"
   },
   {
    "duration": 14,
    "start_time": "2021-08-15T12:50:53.295Z"
   },
   {
    "duration": 348,
    "start_time": "2021-08-15T12:50:53.311Z"
   },
   {
    "duration": 25,
    "start_time": "2021-08-15T12:50:53.661Z"
   },
   {
    "duration": 339,
    "start_time": "2021-08-15T12:50:53.687Z"
   },
   {
    "duration": 12,
    "start_time": "2021-08-15T12:50:54.029Z"
   },
   {
    "duration": 244,
    "start_time": "2021-08-15T12:50:54.043Z"
   },
   {
    "duration": 1832,
    "start_time": "2022-05-03T14:37:44.867Z"
   },
   {
    "duration": 63,
    "start_time": "2022-05-03T14:37:46.702Z"
   },
   {
    "duration": 30,
    "start_time": "2022-05-03T14:37:46.767Z"
   },
   {
    "duration": 20,
    "start_time": "2022-05-03T14:37:46.799Z"
   },
   {
    "duration": 62,
    "start_time": "2022-05-03T14:37:46.822Z"
   },
   {
    "duration": 11,
    "start_time": "2022-05-03T14:37:46.887Z"
   },
   {
    "duration": 13,
    "start_time": "2022-05-03T14:37:46.901Z"
   },
   {
    "duration": 20,
    "start_time": "2022-05-03T14:37:46.916Z"
   },
   {
    "duration": 65,
    "start_time": "2022-05-03T14:37:46.939Z"
   },
   {
    "duration": 53,
    "start_time": "2022-05-03T14:37:47.007Z"
   },
   {
    "duration": 53,
    "start_time": "2022-05-03T14:37:47.063Z"
   },
   {
    "duration": 27,
    "start_time": "2022-05-03T14:37:47.119Z"
   },
   {
    "duration": 54,
    "start_time": "2022-05-03T14:37:47.149Z"
   },
   {
    "duration": 25,
    "start_time": "2022-05-03T14:37:47.207Z"
   },
   {
    "duration": 8,
    "start_time": "2022-05-03T14:37:47.234Z"
   },
   {
    "duration": 44,
    "start_time": "2022-05-03T14:37:47.244Z"
   },
   {
    "duration": 16,
    "start_time": "2022-05-03T14:37:47.290Z"
   },
   {
    "duration": 409,
    "start_time": "2022-05-03T14:37:47.309Z"
   },
   {
    "duration": 19,
    "start_time": "2022-05-03T14:37:47.720Z"
   },
   {
    "duration": 346,
    "start_time": "2022-05-03T14:37:47.741Z"
   },
   {
    "duration": 13,
    "start_time": "2022-05-03T14:37:48.090Z"
   },
   {
    "duration": 12,
    "start_time": "2022-05-03T14:37:48.106Z"
   },
   {
    "duration": 13,
    "start_time": "2022-05-03T14:37:48.121Z"
   },
   {
    "duration": 55,
    "start_time": "2022-05-03T14:37:48.136Z"
   },
   {
    "duration": 6,
    "start_time": "2022-05-03T14:37:48.194Z"
   },
   {
    "duration": 475,
    "start_time": "2022-05-03T14:37:48.203Z"
   },
   {
    "duration": 21,
    "start_time": "2022-05-03T14:37:48.682Z"
   },
   {
    "duration": 15,
    "start_time": "2022-05-03T14:37:48.705Z"
   },
   {
    "duration": 12,
    "start_time": "2022-05-03T14:37:48.722Z"
   },
   {
    "duration": 46,
    "start_time": "2022-05-03T14:37:48.736Z"
   },
   {
    "duration": 458,
    "start_time": "2022-05-03T14:37:48.784Z"
   },
   {
    "duration": 318,
    "start_time": "2022-05-03T14:37:49.245Z"
   },
   {
    "duration": 369,
    "start_time": "2022-05-03T14:37:49.566Z"
   },
   {
    "duration": 19,
    "start_time": "2022-05-03T14:37:49.938Z"
   },
   {
    "duration": 365,
    "start_time": "2022-05-03T14:37:49.959Z"
   },
   {
    "duration": 1976,
    "start_time": "2022-05-03T14:37:50.326Z"
   },
   {
    "duration": 33,
    "start_time": "2022-05-03T14:37:52.304Z"
   },
   {
    "duration": 679,
    "start_time": "2022-05-03T14:37:52.339Z"
   },
   {
    "duration": 18,
    "start_time": "2022-05-03T14:37:53.021Z"
   },
   {
    "duration": 51,
    "start_time": "2022-05-03T14:37:53.041Z"
   },
   {
    "duration": 23,
    "start_time": "2022-05-03T14:37:53.100Z"
   },
   {
    "duration": 422,
    "start_time": "2022-05-03T14:37:53.125Z"
   },
   {
    "duration": 5,
    "start_time": "2022-05-03T14:37:53.550Z"
   },
   {
    "duration": 44,
    "start_time": "2022-05-03T14:37:53.558Z"
   },
   {
    "duration": 23,
    "start_time": "2022-05-03T14:37:53.605Z"
   },
   {
    "duration": 56,
    "start_time": "2022-05-03T14:37:53.630Z"
   },
   {
    "duration": 473,
    "start_time": "2022-05-03T14:37:53.688Z"
   },
   {
    "duration": 43,
    "start_time": "2022-05-03T14:37:54.163Z"
   },
   {
    "duration": 19,
    "start_time": "2022-05-03T14:37:54.208Z"
   },
   {
    "duration": 6,
    "start_time": "2022-05-03T14:37:54.230Z"
   },
   {
    "duration": 6,
    "start_time": "2022-05-03T14:37:54.238Z"
   },
   {
    "duration": 335,
    "start_time": "2022-05-03T14:37:54.281Z"
   },
   {
    "duration": 23,
    "start_time": "2022-05-03T14:37:54.618Z"
   },
   {
    "duration": 44,
    "start_time": "2022-05-03T14:37:54.643Z"
   },
   {
    "duration": 13,
    "start_time": "2022-05-03T14:37:54.690Z"
   },
   {
    "duration": 6,
    "start_time": "2022-05-03T14:37:54.706Z"
   },
   {
    "duration": 602,
    "start_time": "2022-05-03T14:37:54.715Z"
   },
   {
    "duration": 28,
    "start_time": "2022-05-03T14:37:55.320Z"
   },
   {
    "duration": 536,
    "start_time": "2022-05-03T14:37:55.351Z"
   },
   {
    "duration": 27,
    "start_time": "2022-05-03T14:37:55.890Z"
   },
   {
    "duration": 568,
    "start_time": "2022-05-03T14:37:55.919Z"
   },
   {
    "duration": 43,
    "start_time": "2022-05-03T14:37:56.490Z"
   },
   {
    "duration": 295,
    "start_time": "2022-05-03T14:37:56.536Z"
   }
  ],
  "kernelspec": {
   "display_name": "Python 3 (ipykernel)",
   "language": "python",
   "name": "python3"
  },
  "language_info": {
   "codemirror_mode": {
    "name": "ipython",
    "version": 3
   },
   "file_extension": ".py",
   "mimetype": "text/x-python",
   "name": "python",
   "nbconvert_exporter": "python",
   "pygments_lexer": "ipython3",
   "version": "3.9.5"
  },
  "toc": {
   "base_numbering": 1,
   "nav_menu": {},
   "number_sections": true,
   "sideBar": true,
   "skip_h1_title": true,
   "title_cell": "Содержание",
   "title_sidebar": "Contents",
   "toc_cell": true,
   "toc_position": {
    "height": "calc(100% - 180px)",
    "left": "10px",
    "top": "150px",
    "width": "206.391px"
   },
   "toc_section_display": true,
   "toc_window_display": true
  }
 },
 "nbformat": 4,
 "nbformat_minor": 2
}
